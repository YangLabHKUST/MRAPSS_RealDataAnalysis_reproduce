{
 "cells": [
  {
   "cell_type": "markdown",
   "metadata": {},
   "source": [
    "# Install packages"
   ]
  },
  {
   "cell_type": "code",
   "execution_count": null,
   "metadata": {},
   "outputs": [],
   "source": [
    "# devtools::install_version(\"mixsqp\", version = \"0.1-97\", repos = \"http://cran.us.r-project.org\")\n",
    "# devtools::install_version(\"ashr\", version = \"2.2-32\", repos = \"http://cran.us.r-project.org\")\n",
    "# devtools::install_github(\"jean997/cause@v1.0.0\")\n",
    "# for the latest version, use devtools::install_github(\"jean997/cause@v1.2.0\")"
   ]
  },
  {
   "cell_type": "markdown",
   "metadata": {},
   "source": [
    "# Run CAUSE"
   ]
  },
  {
   "cell_type": "code",
   "execution_count": 1,
   "metadata": {},
   "outputs": [
    {
     "name": "stdout",
     "output_type": "stream",
     "text": [
      "AD ~ Hair_Light_Brown \n"
     ]
    },
    {
     "name": "stderr",
     "output_type": "stream",
     "text": [
      "\u001b[1m\u001b[1mRows: \u001b[1m\u001b[22m\u001b[34m\u001b[34m1148476\u001b[34m\u001b[39m \u001b[1m\u001b[1mColumns: \u001b[1m\u001b[22m\u001b[34m\u001b[34m7\u001b[34m\u001b[39m\n",
      "\n",
      "\u001b[36m──\u001b[39m \u001b[1m\u001b[1mColumn specification\u001b[1m\u001b[22m \u001b[36m────────────────────────────────────────────────────────────────────────────────────────────────────────\u001b[39m\n",
      "\u001b[1mDelimiter:\u001b[22m \"\\t\"\n",
      "\u001b[31mchr\u001b[39m (3): SNP, A1, A2\n",
      "\u001b[32mdbl\u001b[39m (4): Z, N, chi2, P\n",
      "\n",
      "\n",
      "\u001b[36mℹ\u001b[39m Use \u001b[30m\u001b[47m\u001b[30m\u001b[47m`spec()`\u001b[47m\u001b[30m\u001b[49m\u001b[39m to retrieve the full column specification for this data.\n",
      "\u001b[36mℹ\u001b[39m Specify the column types or set \u001b[30m\u001b[47m\u001b[30m\u001b[47m`show_col_types = FALSE`\u001b[47m\u001b[30m\u001b[49m\u001b[39m to quiet this message.\n",
      "\n",
      "\u001b[1m\u001b[1mRows: \u001b[1m\u001b[22m\u001b[34m\u001b[34m1037742\u001b[34m\u001b[39m \u001b[1m\u001b[1mColumns: \u001b[1m\u001b[22m\u001b[34m\u001b[34m7\u001b[34m\u001b[39m\n",
      "\n",
      "\u001b[36m──\u001b[39m \u001b[1m\u001b[1mColumn specification\u001b[1m\u001b[22m \u001b[36m────────────────────────────────────────────────────────────────────────────────────────────────────────\u001b[39m\n",
      "\u001b[1mDelimiter:\u001b[22m \"\\t\"\n",
      "\u001b[31mchr\u001b[39m (3): SNP, A1, A2\n",
      "\u001b[32mdbl\u001b[39m (4): Z, N, chi2, P\n",
      "\n",
      "\n",
      "\u001b[36mℹ\u001b[39m Use \u001b[30m\u001b[47m\u001b[30m\u001b[47m`spec()`\u001b[47m\u001b[30m\u001b[49m\u001b[39m to retrieve the full column specification for this data.\n",
      "\u001b[36mℹ\u001b[39m Specify the column types or set \u001b[30m\u001b[47m\u001b[30m\u001b[47m`show_col_types = FALSE`\u001b[47m\u001b[30m\u001b[49m\u001b[39m to quiet this message.\n",
      "\n"
     ]
    },
    {
     "name": "stdout",
     "output_type": "stream",
     "text": [
      "Formatting X1\n",
      "There are  1148476  variants.\n",
      "Removing  0  duplicated variants leaving  1148476 variants.\n",
      "No variants have illegal alleles.\n",
      "Removed  0  variants with ambiguous strand.\n",
      "Flipping strand and effect allele so A1 is always A\n",
      "Returning  1148476  variants.\n",
      "Formatting X2\n",
      "There are  1037742  variants.\n",
      "Removing  0  duplicated variants leaving  1037742 variants.\n",
      "No variants have illegal alleles.\n",
      "Removed  0  variants with ambiguous strand.\n",
      "Flipping strand and effect allele so A1 is always A\n",
      "Returning  1037742  variants.\n",
      "After merging and removing variants with inconsistent alleles,  there are  1015668  variants that are present in both studies and can be used with CAUSE.\n"
     ]
    },
    {
     "name": "stderr",
     "output_type": "stream",
     "text": [
      "API: public: http://gwas-api.mrcieu.ac.uk/\n",
      "\n",
      "Clumping dgH2Hg, 2654 variants, using EUR population reference\n",
      "\n",
      "Removing 1998 of 2654 variants due to LD with other variants or absence from LD reference panel\n",
      "\n"
     ]
    },
    {
     "name": "stdout",
     "output_type": "stream",
     "text": [
      "Estimating CAUSE parameters with  1000000  variants.\n",
      "1 0.01038613 \n",
      "2 5.12393e-07 \n",
      "3 2.605879e-09 \n",
      "Estimating CAUSE posteriors using  656  variants.\n"
     ]
    },
    {
     "name": "stderr",
     "output_type": "stream",
     "text": [
      "Warning message:\n",
      "“'compare' is deprecated.\n",
      "Use 'loo_compare' instead.\n",
      "See help(\"Deprecated\")”\n"
     ]
    },
    {
     "name": "stdout",
     "output_type": "stream",
     "text": [
      "    user   system  elapsed \n",
      "1928.890 1591.559  433.202 \n",
      "AD ~ Hair_Dark_Brown \n"
     ]
    },
    {
     "name": "stderr",
     "output_type": "stream",
     "text": [
      "\u001b[1m\u001b[1mRows: \u001b[1m\u001b[22m\u001b[34m\u001b[34m1148476\u001b[34m\u001b[39m \u001b[1m\u001b[1mColumns: \u001b[1m\u001b[22m\u001b[34m\u001b[34m7\u001b[34m\u001b[39m\n",
      "\n",
      "\u001b[36m──\u001b[39m \u001b[1m\u001b[1mColumn specification\u001b[1m\u001b[22m \u001b[36m────────────────────────────────────────────────────────────────────────────────────────────────────────\u001b[39m\n",
      "\u001b[1mDelimiter:\u001b[22m \"\\t\"\n",
      "\u001b[31mchr\u001b[39m (3): SNP, A1, A2\n",
      "\u001b[32mdbl\u001b[39m (4): Z, N, chi2, P\n",
      "\n",
      "\n",
      "\u001b[36mℹ\u001b[39m Use \u001b[30m\u001b[47m\u001b[30m\u001b[47m`spec()`\u001b[47m\u001b[30m\u001b[49m\u001b[39m to retrieve the full column specification for this data.\n",
      "\u001b[36mℹ\u001b[39m Specify the column types or set \u001b[30m\u001b[47m\u001b[30m\u001b[47m`show_col_types = FALSE`\u001b[47m\u001b[30m\u001b[49m\u001b[39m to quiet this message.\n",
      "\n",
      "\u001b[1m\u001b[1mRows: \u001b[1m\u001b[22m\u001b[34m\u001b[34m1037381\u001b[34m\u001b[39m \u001b[1m\u001b[1mColumns: \u001b[1m\u001b[22m\u001b[34m\u001b[34m7\u001b[34m\u001b[39m\n",
      "\n",
      "\u001b[36m──\u001b[39m \u001b[1m\u001b[1mColumn specification\u001b[1m\u001b[22m \u001b[36m────────────────────────────────────────────────────────────────────────────────────────────────────────\u001b[39m\n",
      "\u001b[1mDelimiter:\u001b[22m \"\\t\"\n",
      "\u001b[31mchr\u001b[39m (3): SNP, A1, A2\n",
      "\u001b[32mdbl\u001b[39m (4): Z, N, chi2, P\n",
      "\n",
      "\n",
      "\u001b[36mℹ\u001b[39m Use \u001b[30m\u001b[47m\u001b[30m\u001b[47m`spec()`\u001b[47m\u001b[30m\u001b[49m\u001b[39m to retrieve the full column specification for this data.\n",
      "\u001b[36mℹ\u001b[39m Specify the column types or set \u001b[30m\u001b[47m\u001b[30m\u001b[47m`show_col_types = FALSE`\u001b[47m\u001b[30m\u001b[49m\u001b[39m to quiet this message.\n",
      "\n"
     ]
    },
    {
     "name": "stdout",
     "output_type": "stream",
     "text": [
      "Formatting X1\n",
      "There are  1148476  variants.\n",
      "Removing  0  duplicated variants leaving  1148476 variants.\n",
      "No variants have illegal alleles.\n",
      "Removed  0  variants with ambiguous strand.\n",
      "Flipping strand and effect allele so A1 is always A\n",
      "Returning  1148476  variants.\n",
      "Formatting X2\n",
      "There are  1037381  variants.\n",
      "Removing  0  duplicated variants leaving  1037381 variants.\n",
      "No variants have illegal alleles.\n",
      "Removed  0  variants with ambiguous strand.\n",
      "Flipping strand and effect allele so A1 is always A\n",
      "Returning  1037381  variants.\n",
      "After merging and removing variants with inconsistent alleles,  there are  1015318  variants that are present in both studies and can be used with CAUSE.\n"
     ]
    },
    {
     "name": "stderr",
     "output_type": "stream",
     "text": [
      "Clumping XKvU8n, 2654 variants, using EUR population reference\n",
      "\n",
      "Removing 1998 of 2654 variants due to LD with other variants or absence from LD reference panel\n",
      "\n"
     ]
    },
    {
     "name": "stdout",
     "output_type": "stream",
     "text": [
      "Estimating CAUSE parameters with  1000000  variants.\n",
      "1 0.001661834 \n",
      "2 5.191e-07 \n",
      "3 1.328615e-09 \n",
      "Estimating CAUSE posteriors using  656  variants.\n"
     ]
    },
    {
     "name": "stderr",
     "output_type": "stream",
     "text": [
      "Warning message:\n",
      "“'compare' is deprecated.\n",
      "Use 'loo_compare' instead.\n",
      "See help(\"Deprecated\")”\n"
     ]
    },
    {
     "name": "stdout",
     "output_type": "stream",
     "text": [
      "   user  system elapsed \n",
      "1960.93 1471.95  413.04 \n",
      "AD ~ Hair_Black \n"
     ]
    },
    {
     "name": "stderr",
     "output_type": "stream",
     "text": [
      "\u001b[1m\u001b[1mRows: \u001b[1m\u001b[22m\u001b[34m\u001b[34m1148476\u001b[34m\u001b[39m \u001b[1m\u001b[1mColumns: \u001b[1m\u001b[22m\u001b[34m\u001b[34m7\u001b[34m\u001b[39m\n",
      "\n",
      "\u001b[36m──\u001b[39m \u001b[1m\u001b[1mColumn specification\u001b[1m\u001b[22m \u001b[36m────────────────────────────────────────────────────────────────────────────────────────────────────────\u001b[39m\n",
      "\u001b[1mDelimiter:\u001b[22m \"\\t\"\n",
      "\u001b[31mchr\u001b[39m (3): SNP, A1, A2\n",
      "\u001b[32mdbl\u001b[39m (4): Z, N, chi2, P\n",
      "\n",
      "\n",
      "\u001b[36mℹ\u001b[39m Use \u001b[30m\u001b[47m\u001b[30m\u001b[47m`spec()`\u001b[47m\u001b[30m\u001b[49m\u001b[39m to retrieve the full column specification for this data.\n",
      "\u001b[36mℹ\u001b[39m Specify the column types or set \u001b[30m\u001b[47m\u001b[30m\u001b[47m`show_col_types = FALSE`\u001b[47m\u001b[30m\u001b[49m\u001b[39m to quiet this message.\n",
      "\n",
      "\u001b[1m\u001b[1mRows: \u001b[1m\u001b[22m\u001b[34m\u001b[34m1037702\u001b[34m\u001b[39m \u001b[1m\u001b[1mColumns: \u001b[1m\u001b[22m\u001b[34m\u001b[34m7\u001b[34m\u001b[39m\n",
      "\n",
      "\u001b[36m──\u001b[39m \u001b[1m\u001b[1mColumn specification\u001b[1m\u001b[22m \u001b[36m────────────────────────────────────────────────────────────────────────────────────────────────────────\u001b[39m\n",
      "\u001b[1mDelimiter:\u001b[22m \"\\t\"\n",
      "\u001b[31mchr\u001b[39m (3): SNP, A1, A2\n",
      "\u001b[32mdbl\u001b[39m (4): Z, N, chi2, P\n",
      "\n",
      "\n",
      "\u001b[36mℹ\u001b[39m Use \u001b[30m\u001b[47m\u001b[30m\u001b[47m`spec()`\u001b[47m\u001b[30m\u001b[49m\u001b[39m to retrieve the full column specification for this data.\n",
      "\u001b[36mℹ\u001b[39m Specify the column types or set \u001b[30m\u001b[47m\u001b[30m\u001b[47m`show_col_types = FALSE`\u001b[47m\u001b[30m\u001b[49m\u001b[39m to quiet this message.\n",
      "\n"
     ]
    },
    {
     "name": "stdout",
     "output_type": "stream",
     "text": [
      "Formatting X1\n",
      "There are  1148476  variants.\n",
      "Removing  0  duplicated variants leaving  1148476 variants.\n",
      "No variants have illegal alleles.\n",
      "Removed  0  variants with ambiguous strand.\n",
      "Flipping strand and effect allele so A1 is always A\n",
      "Returning  1148476  variants.\n",
      "Formatting X2\n",
      "There are  1037702  variants.\n",
      "Removing  0  duplicated variants leaving  1037702 variants.\n",
      "No variants have illegal alleles.\n",
      "Removed  0  variants with ambiguous strand.\n",
      "Flipping strand and effect allele so A1 is always A\n",
      "Returning  1037702  variants.\n",
      "After merging and removing variants with inconsistent alleles,  there are  1015628  variants that are present in both studies and can be used with CAUSE.\n"
     ]
    },
    {
     "name": "stderr",
     "output_type": "stream",
     "text": [
      "Clumping RWEkYM, 2654 variants, using EUR population reference\n",
      "\n",
      "Removing 1998 of 2654 variants due to LD with other variants or absence from LD reference panel\n",
      "\n"
     ]
    },
    {
     "name": "stdout",
     "output_type": "stream",
     "text": [
      "Estimating CAUSE parameters with  1000000  variants.\n",
      "1 0.02432813 \n",
      "2 2.248269e-05 \n",
      "3 4.22831e-08 \n",
      "Estimating CAUSE posteriors using  656  variants.\n"
     ]
    },
    {
     "name": "stderr",
     "output_type": "stream",
     "text": [
      "Warning message:\n",
      "“'compare' is deprecated.\n",
      "Use 'loo_compare' instead.\n",
      "See help(\"Deprecated\")”\n"
     ]
    },
    {
     "name": "stdout",
     "output_type": "stream",
     "text": [
      "    user   system  elapsed \n",
      "1662.678 1379.239  348.603 \n",
      "AD ~ Hair_Blonde \n"
     ]
    },
    {
     "name": "stderr",
     "output_type": "stream",
     "text": [
      "\u001b[1m\u001b[1mRows: \u001b[1m\u001b[22m\u001b[34m\u001b[34m1148476\u001b[34m\u001b[39m \u001b[1m\u001b[1mColumns: \u001b[1m\u001b[22m\u001b[34m\u001b[34m7\u001b[34m\u001b[39m\n",
      "\n",
      "\u001b[36m──\u001b[39m \u001b[1m\u001b[1mColumn specification\u001b[1m\u001b[22m \u001b[36m────────────────────────────────────────────────────────────────────────────────────────────────────────\u001b[39m\n",
      "\u001b[1mDelimiter:\u001b[22m \"\\t\"\n",
      "\u001b[31mchr\u001b[39m (3): SNP, A1, A2\n",
      "\u001b[32mdbl\u001b[39m (4): Z, N, chi2, P\n",
      "\n",
      "\n",
      "\u001b[36mℹ\u001b[39m Use \u001b[30m\u001b[47m\u001b[30m\u001b[47m`spec()`\u001b[47m\u001b[30m\u001b[49m\u001b[39m to retrieve the full column specification for this data.\n",
      "\u001b[36mℹ\u001b[39m Specify the column types or set \u001b[30m\u001b[47m\u001b[30m\u001b[47m`show_col_types = FALSE`\u001b[47m\u001b[30m\u001b[49m\u001b[39m to quiet this message.\n",
      "\n",
      "\u001b[1m\u001b[1mRows: \u001b[1m\u001b[22m\u001b[34m\u001b[34m1037533\u001b[34m\u001b[39m \u001b[1m\u001b[1mColumns: \u001b[1m\u001b[22m\u001b[34m\u001b[34m7\u001b[34m\u001b[39m\n",
      "\n",
      "\u001b[36m──\u001b[39m \u001b[1m\u001b[1mColumn specification\u001b[1m\u001b[22m \u001b[36m────────────────────────────────────────────────────────────────────────────────────────────────────────\u001b[39m\n",
      "\u001b[1mDelimiter:\u001b[22m \"\\t\"\n",
      "\u001b[31mchr\u001b[39m (3): SNP, A1, A2\n",
      "\u001b[32mdbl\u001b[39m (4): Z, N, chi2, P\n",
      "\n",
      "\n",
      "\u001b[36mℹ\u001b[39m Use \u001b[30m\u001b[47m\u001b[30m\u001b[47m`spec()`\u001b[47m\u001b[30m\u001b[49m\u001b[39m to retrieve the full column specification for this data.\n",
      "\u001b[36mℹ\u001b[39m Specify the column types or set \u001b[30m\u001b[47m\u001b[30m\u001b[47m`show_col_types = FALSE`\u001b[47m\u001b[30m\u001b[49m\u001b[39m to quiet this message.\n",
      "\n"
     ]
    },
    {
     "name": "stdout",
     "output_type": "stream",
     "text": [
      "Formatting X1\n",
      "There are  1148476  variants.\n",
      "Removing  0  duplicated variants leaving  1148476 variants.\n",
      "No variants have illegal alleles.\n",
      "Removed  0  variants with ambiguous strand.\n",
      "Flipping strand and effect allele so A1 is always A\n",
      "Returning  1148476  variants.\n",
      "Formatting X2\n",
      "There are  1037533  variants.\n",
      "Removing  0  duplicated variants leaving  1037533 variants.\n",
      "No variants have illegal alleles.\n",
      "Removed  0  variants with ambiguous strand.\n",
      "Flipping strand and effect allele so A1 is always A\n",
      "Returning  1037533  variants.\n",
      "After merging and removing variants with inconsistent alleles,  there are  1015464  variants that are present in both studies and can be used with CAUSE.\n"
     ]
    },
    {
     "name": "stderr",
     "output_type": "stream",
     "text": [
      "Clumping 24hkSN, 2654 variants, using EUR population reference\n",
      "\n",
      "Removing 1998 of 2654 variants due to LD with other variants or absence from LD reference panel\n",
      "\n"
     ]
    },
    {
     "name": "stdout",
     "output_type": "stream",
     "text": [
      "Estimating CAUSE parameters with  1000000  variants.\n",
      "1 0.001466421 \n",
      "2 6.512492e-07 \n",
      "3 8.687503e-11 \n",
      "Estimating CAUSE posteriors using  656  variants.\n"
     ]
    },
    {
     "name": "stderr",
     "output_type": "stream",
     "text": [
      "Warning message:\n",
      "“'compare' is deprecated.\n",
      "Use 'loo_compare' instead.\n",
      "See help(\"Deprecated\")”\n"
     ]
    },
    {
     "name": "stdout",
     "output_type": "stream",
     "text": [
      "    user   system  elapsed \n",
      "1951.608 1709.082  407.657 \n",
      "AD ~ Tanning \n"
     ]
    },
    {
     "name": "stderr",
     "output_type": "stream",
     "text": [
      "\u001b[1m\u001b[1mRows: \u001b[1m\u001b[22m\u001b[34m\u001b[34m1148476\u001b[34m\u001b[39m \u001b[1m\u001b[1mColumns: \u001b[1m\u001b[22m\u001b[34m\u001b[34m7\u001b[34m\u001b[39m\n",
      "\n",
      "\u001b[36m──\u001b[39m \u001b[1m\u001b[1mColumn specification\u001b[1m\u001b[22m \u001b[36m────────────────────────────────────────────────────────────────────────────────────────────────────────\u001b[39m\n",
      "\u001b[1mDelimiter:\u001b[22m \"\\t\"\n",
      "\u001b[31mchr\u001b[39m (3): SNP, A1, A2\n",
      "\u001b[32mdbl\u001b[39m (4): Z, N, chi2, P\n",
      "\n",
      "\n",
      "\u001b[36mℹ\u001b[39m Use \u001b[30m\u001b[47m\u001b[30m\u001b[47m`spec()`\u001b[47m\u001b[30m\u001b[49m\u001b[39m to retrieve the full column specification for this data.\n",
      "\u001b[36mℹ\u001b[39m Specify the column types or set \u001b[30m\u001b[47m\u001b[30m\u001b[47m`show_col_types = FALSE`\u001b[47m\u001b[30m\u001b[49m\u001b[39m to quiet this message.\n",
      "\n",
      "\u001b[1m\u001b[1mRows: \u001b[1m\u001b[22m\u001b[34m\u001b[34m1037026\u001b[34m\u001b[39m \u001b[1m\u001b[1mColumns: \u001b[1m\u001b[22m\u001b[34m\u001b[34m7\u001b[34m\u001b[39m\n",
      "\n",
      "\u001b[36m──\u001b[39m \u001b[1m\u001b[1mColumn specification\u001b[1m\u001b[22m \u001b[36m────────────────────────────────────────────────────────────────────────────────────────────────────────\u001b[39m\n",
      "\u001b[1mDelimiter:\u001b[22m \"\\t\"\n",
      "\u001b[31mchr\u001b[39m (3): SNP, A1, A2\n",
      "\u001b[32mdbl\u001b[39m (4): Z, N, chi2, P\n",
      "\n",
      "\n",
      "\u001b[36mℹ\u001b[39m Use \u001b[30m\u001b[47m\u001b[30m\u001b[47m`spec()`\u001b[47m\u001b[30m\u001b[49m\u001b[39m to retrieve the full column specification for this data.\n",
      "\u001b[36mℹ\u001b[39m Specify the column types or set \u001b[30m\u001b[47m\u001b[30m\u001b[47m`show_col_types = FALSE`\u001b[47m\u001b[30m\u001b[49m\u001b[39m to quiet this message.\n",
      "\n"
     ]
    },
    {
     "name": "stdout",
     "output_type": "stream",
     "text": [
      "Formatting X1\n",
      "There are  1148476  variants.\n",
      "Removing  0  duplicated variants leaving  1148476 variants.\n",
      "No variants have illegal alleles.\n",
      "Removed  0  variants with ambiguous strand.\n",
      "Flipping strand and effect allele so A1 is always A\n",
      "Returning  1148476  variants.\n",
      "Formatting X2\n",
      "There are  1037026  variants.\n",
      "Removing  0  duplicated variants leaving  1037026 variants.\n",
      "No variants have illegal alleles.\n",
      "Removed  0  variants with ambiguous strand.\n",
      "Flipping strand and effect allele so A1 is always A\n",
      "Returning  1037026  variants.\n",
      "After merging and removing variants with inconsistent alleles,  there are  1014975  variants that are present in both studies and can be used with CAUSE.\n"
     ]
    },
    {
     "name": "stderr",
     "output_type": "stream",
     "text": [
      "Clumping yCYDqD, 2654 variants, using EUR population reference\n",
      "\n",
      "Removing 1998 of 2654 variants due to LD with other variants or absence from LD reference panel\n",
      "\n"
     ]
    },
    {
     "name": "stdout",
     "output_type": "stream",
     "text": [
      "Estimating CAUSE parameters with  1000000  variants.\n",
      "1 0.02118053 \n",
      "2 7.019164e-06 \n",
      "3 8.402613e-09 \n",
      "Estimating CAUSE posteriors using  656  variants.\n"
     ]
    },
    {
     "name": "stderr",
     "output_type": "stream",
     "text": [
      "Warning message:\n",
      "“'compare' is deprecated.\n",
      "Use 'loo_compare' instead.\n",
      "See help(\"Deprecated\")”\n"
     ]
    },
    {
     "name": "stdout",
     "output_type": "stream",
     "text": [
      "    user   system  elapsed \n",
      "2112.415 1708.908  442.030 \n",
      "ASD ~ Hair_Light_Brown \n"
     ]
    },
    {
     "name": "stderr",
     "output_type": "stream",
     "text": [
      "\u001b[1m\u001b[1mRows: \u001b[1m\u001b[22m\u001b[34m\u001b[34m1076873\u001b[34m\u001b[39m \u001b[1m\u001b[1mColumns: \u001b[1m\u001b[22m\u001b[34m\u001b[34m7\u001b[34m\u001b[39m\n",
      "\n",
      "\u001b[36m──\u001b[39m \u001b[1m\u001b[1mColumn specification\u001b[1m\u001b[22m \u001b[36m────────────────────────────────────────────────────────────────────────────────────────────────────────\u001b[39m\n",
      "\u001b[1mDelimiter:\u001b[22m \"\\t\"\n",
      "\u001b[31mchr\u001b[39m (3): SNP, A1, A2\n",
      "\u001b[32mdbl\u001b[39m (4): Z, N, chi2, P\n",
      "\n",
      "\n",
      "\u001b[36mℹ\u001b[39m Use \u001b[30m\u001b[47m\u001b[30m\u001b[47m`spec()`\u001b[47m\u001b[30m\u001b[49m\u001b[39m to retrieve the full column specification for this data.\n",
      "\u001b[36mℹ\u001b[39m Specify the column types or set \u001b[30m\u001b[47m\u001b[30m\u001b[47m`show_col_types = FALSE`\u001b[47m\u001b[30m\u001b[49m\u001b[39m to quiet this message.\n",
      "\n",
      "\u001b[1m\u001b[1mRows: \u001b[1m\u001b[22m\u001b[34m\u001b[34m1037742\u001b[34m\u001b[39m \u001b[1m\u001b[1mColumns: \u001b[1m\u001b[22m\u001b[34m\u001b[34m7\u001b[34m\u001b[39m\n",
      "\n",
      "\u001b[36m──\u001b[39m \u001b[1m\u001b[1mColumn specification\u001b[1m\u001b[22m \u001b[36m────────────────────────────────────────────────────────────────────────────────────────────────────────\u001b[39m\n",
      "\u001b[1mDelimiter:\u001b[22m \"\\t\"\n",
      "\u001b[31mchr\u001b[39m (3): SNP, A1, A2\n",
      "\u001b[32mdbl\u001b[39m (4): Z, N, chi2, P\n",
      "\n",
      "\n",
      "\u001b[36mℹ\u001b[39m Use \u001b[30m\u001b[47m\u001b[30m\u001b[47m`spec()`\u001b[47m\u001b[30m\u001b[49m\u001b[39m to retrieve the full column specification for this data.\n",
      "\u001b[36mℹ\u001b[39m Specify the column types or set \u001b[30m\u001b[47m\u001b[30m\u001b[47m`show_col_types = FALSE`\u001b[47m\u001b[30m\u001b[49m\u001b[39m to quiet this message.\n",
      "\n"
     ]
    },
    {
     "name": "stdout",
     "output_type": "stream",
     "text": [
      "Formatting X1\n",
      "There are  1076873  variants.\n",
      "Removing  0  duplicated variants leaving  1076873 variants.\n",
      "No variants have illegal alleles.\n",
      "Removed  0  variants with ambiguous strand.\n",
      "Flipping strand and effect allele so A1 is always A\n",
      "Returning  1076873  variants.\n",
      "Formatting X2\n",
      "There are  1037742  variants.\n",
      "Removing  0  duplicated variants leaving  1037742 variants.\n",
      "No variants have illegal alleles.\n",
      "Removed  0  variants with ambiguous strand.\n",
      "Flipping strand and effect allele so A1 is always A\n",
      "Returning  1037742  variants.\n",
      "After merging and removing variants with inconsistent alleles,  there are  1024812  variants that are present in both studies and can be used with CAUSE.\n"
     ]
    },
    {
     "name": "stderr",
     "output_type": "stream",
     "text": [
      "Clumping VSmxqM, 1607 variants, using EUR population reference\n",
      "\n",
      "Removing 1112 of 1607 variants due to LD with other variants or absence from LD reference panel\n",
      "\n"
     ]
    },
    {
     "name": "stdout",
     "output_type": "stream",
     "text": [
      "Estimating CAUSE parameters with  1000000  variants.\n",
      "1 0.008647298 \n",
      "2 5.826676e-06 \n",
      "3 8.220379e-09 \n",
      "Estimating CAUSE posteriors using  478  variants.\n"
     ]
    },
    {
     "name": "stderr",
     "output_type": "stream",
     "text": [
      "Warning message:\n",
      "“'compare' is deprecated.\n",
      "Use 'loo_compare' instead.\n",
      "See help(\"Deprecated\")”\n"
     ]
    },
    {
     "name": "stdout",
     "output_type": "stream",
     "text": [
      "    user   system  elapsed \n",
      "1633.868 1414.148  356.134 \n",
      "ASD ~ Hair_Dark_Brown \n"
     ]
    },
    {
     "name": "stderr",
     "output_type": "stream",
     "text": [
      "\u001b[1m\u001b[1mRows: \u001b[1m\u001b[22m\u001b[34m\u001b[34m1076873\u001b[34m\u001b[39m \u001b[1m\u001b[1mColumns: \u001b[1m\u001b[22m\u001b[34m\u001b[34m7\u001b[34m\u001b[39m\n",
      "\n",
      "\u001b[36m──\u001b[39m \u001b[1m\u001b[1mColumn specification\u001b[1m\u001b[22m \u001b[36m────────────────────────────────────────────────────────────────────────────────────────────────────────\u001b[39m\n",
      "\u001b[1mDelimiter:\u001b[22m \"\\t\"\n",
      "\u001b[31mchr\u001b[39m (3): SNP, A1, A2\n",
      "\u001b[32mdbl\u001b[39m (4): Z, N, chi2, P\n",
      "\n",
      "\n",
      "\u001b[36mℹ\u001b[39m Use \u001b[30m\u001b[47m\u001b[30m\u001b[47m`spec()`\u001b[47m\u001b[30m\u001b[49m\u001b[39m to retrieve the full column specification for this data.\n",
      "\u001b[36mℹ\u001b[39m Specify the column types or set \u001b[30m\u001b[47m\u001b[30m\u001b[47m`show_col_types = FALSE`\u001b[47m\u001b[30m\u001b[49m\u001b[39m to quiet this message.\n",
      "\n",
      "\u001b[1m\u001b[1mRows: \u001b[1m\u001b[22m\u001b[34m\u001b[34m1037381\u001b[34m\u001b[39m \u001b[1m\u001b[1mColumns: \u001b[1m\u001b[22m\u001b[34m\u001b[34m7\u001b[34m\u001b[39m\n",
      "\n",
      "\u001b[36m──\u001b[39m \u001b[1m\u001b[1mColumn specification\u001b[1m\u001b[22m \u001b[36m────────────────────────────────────────────────────────────────────────────────────────────────────────\u001b[39m\n",
      "\u001b[1mDelimiter:\u001b[22m \"\\t\"\n",
      "\u001b[31mchr\u001b[39m (3): SNP, A1, A2\n",
      "\u001b[32mdbl\u001b[39m (4): Z, N, chi2, P\n",
      "\n",
      "\n",
      "\u001b[36mℹ\u001b[39m Use \u001b[30m\u001b[47m\u001b[30m\u001b[47m`spec()`\u001b[47m\u001b[30m\u001b[49m\u001b[39m to retrieve the full column specification for this data.\n",
      "\u001b[36mℹ\u001b[39m Specify the column types or set \u001b[30m\u001b[47m\u001b[30m\u001b[47m`show_col_types = FALSE`\u001b[47m\u001b[30m\u001b[49m\u001b[39m to quiet this message.\n",
      "\n"
     ]
    },
    {
     "name": "stdout",
     "output_type": "stream",
     "text": [
      "Formatting X1\n",
      "There are  1076873  variants.\n",
      "Removing  0  duplicated variants leaving  1076873 variants.\n",
      "No variants have illegal alleles.\n",
      "Removed  0  variants with ambiguous strand.\n",
      "Flipping strand and effect allele so A1 is always A\n",
      "Returning  1076873  variants.\n",
      "Formatting X2\n",
      "There are  1037381  variants.\n",
      "Removing  0  duplicated variants leaving  1037381 variants.\n",
      "No variants have illegal alleles.\n",
      "Removed  0  variants with ambiguous strand.\n",
      "Flipping strand and effect allele so A1 is always A\n",
      "Returning  1037381  variants.\n",
      "After merging and removing variants with inconsistent alleles,  there are  1024453  variants that are present in both studies and can be used with CAUSE.\n"
     ]
    },
    {
     "name": "stderr",
     "output_type": "stream",
     "text": [
      "Clumping kTKMuR, 1607 variants, using EUR population reference\n",
      "\n",
      "Removing 1112 of 1607 variants due to LD with other variants or absence from LD reference panel\n",
      "\n"
     ]
    },
    {
     "name": "stdout",
     "output_type": "stream",
     "text": [
      "Estimating CAUSE parameters with  1000000  variants.\n",
      "1 0.02191659 \n",
      "2 1.144511e-05 \n",
      "3 1.830141e-08 \n",
      "Estimating CAUSE posteriors using  478  variants.\n"
     ]
    },
    {
     "name": "stderr",
     "output_type": "stream",
     "text": [
      "Warning message:\n",
      "“'compare' is deprecated.\n",
      "Use 'loo_compare' instead.\n",
      "See help(\"Deprecated\")”\n"
     ]
    },
    {
     "name": "stdout",
     "output_type": "stream",
     "text": [
      "    user   system  elapsed \n",
      "1645.425 1464.982  339.642 \n",
      "ASD ~ Hair_Black \n"
     ]
    },
    {
     "name": "stderr",
     "output_type": "stream",
     "text": [
      "\u001b[1m\u001b[1mRows: \u001b[1m\u001b[22m\u001b[34m\u001b[34m1076873\u001b[34m\u001b[39m \u001b[1m\u001b[1mColumns: \u001b[1m\u001b[22m\u001b[34m\u001b[34m7\u001b[34m\u001b[39m\n",
      "\n",
      "\u001b[36m──\u001b[39m \u001b[1m\u001b[1mColumn specification\u001b[1m\u001b[22m \u001b[36m────────────────────────────────────────────────────────────────────────────────────────────────────────\u001b[39m\n",
      "\u001b[1mDelimiter:\u001b[22m \"\\t\"\n",
      "\u001b[31mchr\u001b[39m (3): SNP, A1, A2\n",
      "\u001b[32mdbl\u001b[39m (4): Z, N, chi2, P\n",
      "\n",
      "\n",
      "\u001b[36mℹ\u001b[39m Use \u001b[30m\u001b[47m\u001b[30m\u001b[47m`spec()`\u001b[47m\u001b[30m\u001b[49m\u001b[39m to retrieve the full column specification for this data.\n",
      "\u001b[36mℹ\u001b[39m Specify the column types or set \u001b[30m\u001b[47m\u001b[30m\u001b[47m`show_col_types = FALSE`\u001b[47m\u001b[30m\u001b[49m\u001b[39m to quiet this message.\n",
      "\n",
      "\u001b[1m\u001b[1mRows: \u001b[1m\u001b[22m\u001b[34m\u001b[34m1037702\u001b[34m\u001b[39m \u001b[1m\u001b[1mColumns: \u001b[1m\u001b[22m\u001b[34m\u001b[34m7\u001b[34m\u001b[39m\n",
      "\n",
      "\u001b[36m──\u001b[39m \u001b[1m\u001b[1mColumn specification\u001b[1m\u001b[22m \u001b[36m────────────────────────────────────────────────────────────────────────────────────────────────────────\u001b[39m\n",
      "\u001b[1mDelimiter:\u001b[22m \"\\t\"\n",
      "\u001b[31mchr\u001b[39m (3): SNP, A1, A2\n",
      "\u001b[32mdbl\u001b[39m (4): Z, N, chi2, P\n",
      "\n",
      "\n",
      "\u001b[36mℹ\u001b[39m Use \u001b[30m\u001b[47m\u001b[30m\u001b[47m`spec()`\u001b[47m\u001b[30m\u001b[49m\u001b[39m to retrieve the full column specification for this data.\n",
      "\u001b[36mℹ\u001b[39m Specify the column types or set \u001b[30m\u001b[47m\u001b[30m\u001b[47m`show_col_types = FALSE`\u001b[47m\u001b[30m\u001b[49m\u001b[39m to quiet this message.\n",
      "\n"
     ]
    },
    {
     "name": "stdout",
     "output_type": "stream",
     "text": [
      "Formatting X1\n",
      "There are  1076873  variants.\n",
      "Removing  0  duplicated variants leaving  1076873 variants.\n",
      "No variants have illegal alleles.\n",
      "Removed  0  variants with ambiguous strand.\n",
      "Flipping strand and effect allele so A1 is always A\n",
      "Returning  1076873  variants.\n",
      "Formatting X2\n",
      "There are  1037702  variants.\n",
      "Removing  0  duplicated variants leaving  1037702 variants.\n",
      "No variants have illegal alleles.\n",
      "Removed  0  variants with ambiguous strand.\n",
      "Flipping strand and effect allele so A1 is always A\n",
      "Returning  1037702  variants.\n",
      "After merging and removing variants with inconsistent alleles,  there are  1024772  variants that are present in both studies and can be used with CAUSE.\n"
     ]
    },
    {
     "name": "stderr",
     "output_type": "stream",
     "text": [
      "Clumping 8W9h4T, 1607 variants, using EUR population reference\n",
      "\n",
      "Removing 1112 of 1607 variants due to LD with other variants or absence from LD reference panel\n",
      "\n"
     ]
    },
    {
     "name": "stdout",
     "output_type": "stream",
     "text": [
      "Estimating CAUSE parameters with  1000000  variants.\n",
      "1 0.01178077 \n",
      "2 1.336855e-05 \n",
      "3 2.081696e-08 \n",
      "Estimating CAUSE posteriors using  478  variants.\n"
     ]
    },
    {
     "name": "stderr",
     "output_type": "stream",
     "text": [
      "Warning message:\n",
      "“'compare' is deprecated.\n",
      "Use 'loo_compare' instead.\n",
      "See help(\"Deprecated\")”\n"
     ]
    },
    {
     "name": "stdout",
     "output_type": "stream",
     "text": [
      "    user   system  elapsed \n",
      "1500.385 1406.081  316.893 \n",
      "ASD ~ Hair_Blonde \n"
     ]
    },
    {
     "name": "stderr",
     "output_type": "stream",
     "text": [
      "\u001b[1m\u001b[1mRows: \u001b[1m\u001b[22m\u001b[34m\u001b[34m1076873\u001b[34m\u001b[39m \u001b[1m\u001b[1mColumns: \u001b[1m\u001b[22m\u001b[34m\u001b[34m7\u001b[34m\u001b[39m\n",
      "\n",
      "\u001b[36m──\u001b[39m \u001b[1m\u001b[1mColumn specification\u001b[1m\u001b[22m \u001b[36m────────────────────────────────────────────────────────────────────────────────────────────────────────\u001b[39m\n",
      "\u001b[1mDelimiter:\u001b[22m \"\\t\"\n",
      "\u001b[31mchr\u001b[39m (3): SNP, A1, A2\n",
      "\u001b[32mdbl\u001b[39m (4): Z, N, chi2, P\n",
      "\n",
      "\n",
      "\u001b[36mℹ\u001b[39m Use \u001b[30m\u001b[47m\u001b[30m\u001b[47m`spec()`\u001b[47m\u001b[30m\u001b[49m\u001b[39m to retrieve the full column specification for this data.\n",
      "\u001b[36mℹ\u001b[39m Specify the column types or set \u001b[30m\u001b[47m\u001b[30m\u001b[47m`show_col_types = FALSE`\u001b[47m\u001b[30m\u001b[49m\u001b[39m to quiet this message.\n",
      "\n",
      "\u001b[1m\u001b[1mRows: \u001b[1m\u001b[22m\u001b[34m\u001b[34m1037533\u001b[34m\u001b[39m \u001b[1m\u001b[1mColumns: \u001b[1m\u001b[22m\u001b[34m\u001b[34m7\u001b[34m\u001b[39m\n",
      "\n",
      "\u001b[36m──\u001b[39m \u001b[1m\u001b[1mColumn specification\u001b[1m\u001b[22m \u001b[36m────────────────────────────────────────────────────────────────────────────────────────────────────────\u001b[39m\n",
      "\u001b[1mDelimiter:\u001b[22m \"\\t\"\n",
      "\u001b[31mchr\u001b[39m (3): SNP, A1, A2\n",
      "\u001b[32mdbl\u001b[39m (4): Z, N, chi2, P\n",
      "\n",
      "\n",
      "\u001b[36mℹ\u001b[39m Use \u001b[30m\u001b[47m\u001b[30m\u001b[47m`spec()`\u001b[47m\u001b[30m\u001b[49m\u001b[39m to retrieve the full column specification for this data.\n",
      "\u001b[36mℹ\u001b[39m Specify the column types or set \u001b[30m\u001b[47m\u001b[30m\u001b[47m`show_col_types = FALSE`\u001b[47m\u001b[30m\u001b[49m\u001b[39m to quiet this message.\n",
      "\n"
     ]
    },
    {
     "name": "stdout",
     "output_type": "stream",
     "text": [
      "Formatting X1\n",
      "There are  1076873  variants.\n",
      "Removing  0  duplicated variants leaving  1076873 variants.\n",
      "No variants have illegal alleles.\n",
      "Removed  0  variants with ambiguous strand.\n",
      "Flipping strand and effect allele so A1 is always A\n",
      "Returning  1076873  variants.\n",
      "Formatting X2\n",
      "There are  1037533  variants.\n",
      "Removing  0  duplicated variants leaving  1037533 variants.\n",
      "No variants have illegal alleles.\n",
      "Removed  0  variants with ambiguous strand.\n",
      "Flipping strand and effect allele so A1 is always A\n",
      "Returning  1037533  variants.\n",
      "After merging and removing variants with inconsistent alleles,  there are  1024603  variants that are present in both studies and can be used with CAUSE.\n"
     ]
    },
    {
     "name": "stderr",
     "output_type": "stream",
     "text": [
      "Clumping RpuaRy, 1607 variants, using EUR population reference\n",
      "\n",
      "Removing 1112 of 1607 variants due to LD with other variants or absence from LD reference panel\n",
      "\n"
     ]
    },
    {
     "name": "stdout",
     "output_type": "stream",
     "text": [
      "Estimating CAUSE parameters with  1000000  variants.\n",
      "1 0.004567185 \n",
      "2 4.184501e-07 \n",
      "3 5.167699e-11 \n",
      "Estimating CAUSE posteriors using  478  variants.\n"
     ]
    },
    {
     "name": "stderr",
     "output_type": "stream",
     "text": [
      "Warning message:\n",
      "“'compare' is deprecated.\n",
      "Use 'loo_compare' instead.\n",
      "See help(\"Deprecated\")”\n"
     ]
    },
    {
     "name": "stdout",
     "output_type": "stream",
     "text": [
      "    user   system  elapsed \n",
      "1423.723 1394.928  315.852 \n",
      "ASD ~ Tanning \n"
     ]
    },
    {
     "name": "stderr",
     "output_type": "stream",
     "text": [
      "\u001b[1m\u001b[1mRows: \u001b[1m\u001b[22m\u001b[34m\u001b[34m1076873\u001b[34m\u001b[39m \u001b[1m\u001b[1mColumns: \u001b[1m\u001b[22m\u001b[34m\u001b[34m7\u001b[34m\u001b[39m\n",
      "\n",
      "\u001b[36m──\u001b[39m \u001b[1m\u001b[1mColumn specification\u001b[1m\u001b[22m \u001b[36m────────────────────────────────────────────────────────────────────────────────────────────────────────\u001b[39m\n",
      "\u001b[1mDelimiter:\u001b[22m \"\\t\"\n",
      "\u001b[31mchr\u001b[39m (3): SNP, A1, A2\n",
      "\u001b[32mdbl\u001b[39m (4): Z, N, chi2, P\n",
      "\n",
      "\n",
      "\u001b[36mℹ\u001b[39m Use \u001b[30m\u001b[47m\u001b[30m\u001b[47m`spec()`\u001b[47m\u001b[30m\u001b[49m\u001b[39m to retrieve the full column specification for this data.\n",
      "\u001b[36mℹ\u001b[39m Specify the column types or set \u001b[30m\u001b[47m\u001b[30m\u001b[47m`show_col_types = FALSE`\u001b[47m\u001b[30m\u001b[49m\u001b[39m to quiet this message.\n",
      "\n",
      "\u001b[1m\u001b[1mRows: \u001b[1m\u001b[22m\u001b[34m\u001b[34m1037026\u001b[34m\u001b[39m \u001b[1m\u001b[1mColumns: \u001b[1m\u001b[22m\u001b[34m\u001b[34m7\u001b[34m\u001b[39m\n",
      "\n",
      "\u001b[36m──\u001b[39m \u001b[1m\u001b[1mColumn specification\u001b[1m\u001b[22m \u001b[36m────────────────────────────────────────────────────────────────────────────────────────────────────────\u001b[39m\n",
      "\u001b[1mDelimiter:\u001b[22m \"\\t\"\n",
      "\u001b[31mchr\u001b[39m (3): SNP, A1, A2\n",
      "\u001b[32mdbl\u001b[39m (4): Z, N, chi2, P\n",
      "\n",
      "\n",
      "\u001b[36mℹ\u001b[39m Use \u001b[30m\u001b[47m\u001b[30m\u001b[47m`spec()`\u001b[47m\u001b[30m\u001b[49m\u001b[39m to retrieve the full column specification for this data.\n",
      "\u001b[36mℹ\u001b[39m Specify the column types or set \u001b[30m\u001b[47m\u001b[30m\u001b[47m`show_col_types = FALSE`\u001b[47m\u001b[30m\u001b[49m\u001b[39m to quiet this message.\n",
      "\n"
     ]
    },
    {
     "name": "stdout",
     "output_type": "stream",
     "text": [
      "Formatting X1\n",
      "There are  1076873  variants.\n",
      "Removing  0  duplicated variants leaving  1076873 variants.\n",
      "No variants have illegal alleles.\n",
      "Removed  0  variants with ambiguous strand.\n",
      "Flipping strand and effect allele so A1 is always A\n",
      "Returning  1076873  variants.\n",
      "Formatting X2\n",
      "There are  1037026  variants.\n",
      "Removing  0  duplicated variants leaving  1037026 variants.\n",
      "No variants have illegal alleles.\n",
      "Removed  0  variants with ambiguous strand.\n",
      "Flipping strand and effect allele so A1 is always A\n",
      "Returning  1037026  variants.\n",
      "After merging and removing variants with inconsistent alleles,  there are  1024100  variants that are present in both studies and can be used with CAUSE.\n"
     ]
    },
    {
     "name": "stderr",
     "output_type": "stream",
     "text": [
      "Clumping y0bjAM, 1607 variants, using EUR population reference\n",
      "\n",
      "Removing 1112 of 1607 variants due to LD with other variants or absence from LD reference panel\n",
      "\n"
     ]
    },
    {
     "name": "stdout",
     "output_type": "stream",
     "text": [
      "Estimating CAUSE parameters with  1000000  variants.\n",
      "1 0.04155558 \n",
      "2 7.286049e-05 \n",
      "3 3.00292e-07 \n",
      "4 2.703572e-09 \n",
      "Estimating CAUSE posteriors using  478  variants.\n"
     ]
    },
    {
     "name": "stderr",
     "output_type": "stream",
     "text": [
      "Warning message:\n",
      "“'compare' is deprecated.\n",
      "Use 'loo_compare' instead.\n",
      "See help(\"Deprecated\")”\n"
     ]
    },
    {
     "name": "stdout",
     "output_type": "stream",
     "text": [
      "    user   system  elapsed \n",
      "1862.730 1566.669  368.880 \n",
      "Daytime_Sleepiness ~ Hair_Light_Brown \n"
     ]
    },
    {
     "name": "stderr",
     "output_type": "stream",
     "text": [
      "\u001b[1m\u001b[1mRows: \u001b[1m\u001b[22m\u001b[34m\u001b[34m1065141\u001b[34m\u001b[39m \u001b[1m\u001b[1mColumns: \u001b[1m\u001b[22m\u001b[34m\u001b[34m7\u001b[34m\u001b[39m\n",
      "\n",
      "\u001b[36m──\u001b[39m \u001b[1m\u001b[1mColumn specification\u001b[1m\u001b[22m \u001b[36m────────────────────────────────────────────────────────────────────────────────────────────────────────\u001b[39m\n",
      "\u001b[1mDelimiter:\u001b[22m \"\\t\"\n",
      "\u001b[31mchr\u001b[39m (3): SNP, A1, A2\n",
      "\u001b[32mdbl\u001b[39m (4): Z, N, chi2, P\n",
      "\n",
      "\n",
      "\u001b[36mℹ\u001b[39m Use \u001b[30m\u001b[47m\u001b[30m\u001b[47m`spec()`\u001b[47m\u001b[30m\u001b[49m\u001b[39m to retrieve the full column specification for this data.\n",
      "\u001b[36mℹ\u001b[39m Specify the column types or set \u001b[30m\u001b[47m\u001b[30m\u001b[47m`show_col_types = FALSE`\u001b[47m\u001b[30m\u001b[49m\u001b[39m to quiet this message.\n",
      "\n",
      "\u001b[1m\u001b[1mRows: \u001b[1m\u001b[22m\u001b[34m\u001b[34m1037742\u001b[34m\u001b[39m \u001b[1m\u001b[1mColumns: \u001b[1m\u001b[22m\u001b[34m\u001b[34m7\u001b[34m\u001b[39m\n",
      "\n",
      "\u001b[36m──\u001b[39m \u001b[1m\u001b[1mColumn specification\u001b[1m\u001b[22m \u001b[36m────────────────────────────────────────────────────────────────────────────────────────────────────────\u001b[39m\n",
      "\u001b[1mDelimiter:\u001b[22m \"\\t\"\n",
      "\u001b[31mchr\u001b[39m (3): SNP, A1, A2\n",
      "\u001b[32mdbl\u001b[39m (4): Z, N, chi2, P\n",
      "\n",
      "\n",
      "\u001b[36mℹ\u001b[39m Use \u001b[30m\u001b[47m\u001b[30m\u001b[47m`spec()`\u001b[47m\u001b[30m\u001b[49m\u001b[39m to retrieve the full column specification for this data.\n",
      "\u001b[36mℹ\u001b[39m Specify the column types or set \u001b[30m\u001b[47m\u001b[30m\u001b[47m`show_col_types = FALSE`\u001b[47m\u001b[30m\u001b[49m\u001b[39m to quiet this message.\n",
      "\n"
     ]
    },
    {
     "name": "stdout",
     "output_type": "stream",
     "text": [
      "Formatting X1\n",
      "There are  1065141  variants.\n",
      "Removing  0  duplicated variants leaving  1065141 variants.\n",
      "No variants have illegal alleles.\n",
      "Removed  0  variants with ambiguous strand.\n",
      "Flipping strand and effect allele so A1 is always A\n",
      "Returning  1065141  variants.\n",
      "Formatting X2\n",
      "There are  1037742  variants.\n",
      "Removing  0  duplicated variants leaving  1037742 variants.\n",
      "No variants have illegal alleles.\n",
      "Removed  0  variants with ambiguous strand.\n",
      "Flipping strand and effect allele so A1 is always A\n",
      "Returning  1037742  variants.\n",
      "After merging and removing variants with inconsistent alleles,  there are  1027460  variants that are present in both studies and can be used with CAUSE.\n"
     ]
    },
    {
     "name": "stderr",
     "output_type": "stream",
     "text": [
      "Clumping 7MgNjD, 10605 variants, using EUR population reference\n",
      "\n",
      "Removing 9172 of 10605 variants due to LD with other variants or absence from LD reference panel\n",
      "\n"
     ]
    },
    {
     "name": "stdout",
     "output_type": "stream",
     "text": [
      "Estimating CAUSE parameters with  1000000  variants.\n",
      "1 0.002601635 \n",
      "2 6.753932e-07 \n",
      "3 1.768763e-10 \n",
      "Estimating CAUSE posteriors using  1433  variants.\n"
     ]
    },
    {
     "name": "stderr",
     "output_type": "stream",
     "text": [
      "Warning message:\n",
      "“'compare' is deprecated.\n",
      "Use 'loo_compare' instead.\n",
      "See help(\"Deprecated\")”\n"
     ]
    },
    {
     "name": "stdout",
     "output_type": "stream",
     "text": [
      "    user   system  elapsed \n",
      "2217.986 1468.306  420.992 \n",
      "Daytime_Sleepiness ~ Hair_Dark_Brown \n"
     ]
    },
    {
     "name": "stderr",
     "output_type": "stream",
     "text": [
      "\u001b[1m\u001b[1mRows: \u001b[1m\u001b[22m\u001b[34m\u001b[34m1065141\u001b[34m\u001b[39m \u001b[1m\u001b[1mColumns: \u001b[1m\u001b[22m\u001b[34m\u001b[34m7\u001b[34m\u001b[39m\n",
      "\n",
      "\u001b[36m──\u001b[39m \u001b[1m\u001b[1mColumn specification\u001b[1m\u001b[22m \u001b[36m────────────────────────────────────────────────────────────────────────────────────────────────────────\u001b[39m\n",
      "\u001b[1mDelimiter:\u001b[22m \"\\t\"\n",
      "\u001b[31mchr\u001b[39m (3): SNP, A1, A2\n",
      "\u001b[32mdbl\u001b[39m (4): Z, N, chi2, P\n",
      "\n",
      "\n",
      "\u001b[36mℹ\u001b[39m Use \u001b[30m\u001b[47m\u001b[30m\u001b[47m`spec()`\u001b[47m\u001b[30m\u001b[49m\u001b[39m to retrieve the full column specification for this data.\n",
      "\u001b[36mℹ\u001b[39m Specify the column types or set \u001b[30m\u001b[47m\u001b[30m\u001b[47m`show_col_types = FALSE`\u001b[47m\u001b[30m\u001b[49m\u001b[39m to quiet this message.\n",
      "\n",
      "\u001b[1m\u001b[1mRows: \u001b[1m\u001b[22m\u001b[34m\u001b[34m1037381\u001b[34m\u001b[39m \u001b[1m\u001b[1mColumns: \u001b[1m\u001b[22m\u001b[34m\u001b[34m7\u001b[34m\u001b[39m\n",
      "\n",
      "\u001b[36m──\u001b[39m \u001b[1m\u001b[1mColumn specification\u001b[1m\u001b[22m \u001b[36m────────────────────────────────────────────────────────────────────────────────────────────────────────\u001b[39m\n",
      "\u001b[1mDelimiter:\u001b[22m \"\\t\"\n",
      "\u001b[31mchr\u001b[39m (3): SNP, A1, A2\n",
      "\u001b[32mdbl\u001b[39m (4): Z, N, chi2, P\n",
      "\n",
      "\n",
      "\u001b[36mℹ\u001b[39m Use \u001b[30m\u001b[47m\u001b[30m\u001b[47m`spec()`\u001b[47m\u001b[30m\u001b[49m\u001b[39m to retrieve the full column specification for this data.\n",
      "\u001b[36mℹ\u001b[39m Specify the column types or set \u001b[30m\u001b[47m\u001b[30m\u001b[47m`show_col_types = FALSE`\u001b[47m\u001b[30m\u001b[49m\u001b[39m to quiet this message.\n",
      "\n"
     ]
    },
    {
     "name": "stdout",
     "output_type": "stream",
     "text": [
      "Formatting X1\n",
      "There are  1065141  variants.\n",
      "Removing  0  duplicated variants leaving  1065141 variants.\n",
      "No variants have illegal alleles.\n",
      "Removed  0  variants with ambiguous strand.\n",
      "Flipping strand and effect allele so A1 is always A\n",
      "Returning  1065141  variants.\n",
      "Formatting X2\n",
      "There are  1037381  variants.\n",
      "Removing  0  duplicated variants leaving  1037381 variants.\n",
      "No variants have illegal alleles.\n",
      "Removed  0  variants with ambiguous strand.\n",
      "Flipping strand and effect allele so A1 is always A\n",
      "Returning  1037381  variants.\n",
      "After merging and removing variants with inconsistent alleles,  there are  1027099  variants that are present in both studies and can be used with CAUSE.\n"
     ]
    },
    {
     "name": "stderr",
     "output_type": "stream",
     "text": [
      "Clumping 6PSYyr, 10584 variants, using EUR population reference\n",
      "\n",
      "Removing 9151 of 10584 variants due to LD with other variants or absence from LD reference panel\n",
      "\n"
     ]
    },
    {
     "name": "stdout",
     "output_type": "stream",
     "text": [
      "Estimating CAUSE parameters with  1000000  variants.\n",
      "1 0.005772259 \n",
      "2 3.457824e-06 \n",
      "3 2.144967e-09 \n",
      "Estimating CAUSE posteriors using  1433  variants.\n"
     ]
    },
    {
     "name": "stderr",
     "output_type": "stream",
     "text": [
      "Warning message:\n",
      "“'compare' is deprecated.\n",
      "Use 'loo_compare' instead.\n",
      "See help(\"Deprecated\")”\n"
     ]
    },
    {
     "name": "stdout",
     "output_type": "stream",
     "text": [
      "    user   system  elapsed \n",
      "2280.014 1686.268  440.744 \n",
      "Daytime_Sleepiness ~ Hair_Black \n"
     ]
    },
    {
     "name": "stderr",
     "output_type": "stream",
     "text": [
      "\u001b[1m\u001b[1mRows: \u001b[1m\u001b[22m\u001b[34m\u001b[34m1065141\u001b[34m\u001b[39m \u001b[1m\u001b[1mColumns: \u001b[1m\u001b[22m\u001b[34m\u001b[34m7\u001b[34m\u001b[39m\n",
      "\n",
      "\u001b[36m──\u001b[39m \u001b[1m\u001b[1mColumn specification\u001b[1m\u001b[22m \u001b[36m────────────────────────────────────────────────────────────────────────────────────────────────────────\u001b[39m\n",
      "\u001b[1mDelimiter:\u001b[22m \"\\t\"\n",
      "\u001b[31mchr\u001b[39m (3): SNP, A1, A2\n",
      "\u001b[32mdbl\u001b[39m (4): Z, N, chi2, P\n",
      "\n",
      "\n",
      "\u001b[36mℹ\u001b[39m Use \u001b[30m\u001b[47m\u001b[30m\u001b[47m`spec()`\u001b[47m\u001b[30m\u001b[49m\u001b[39m to retrieve the full column specification for this data.\n",
      "\u001b[36mℹ\u001b[39m Specify the column types or set \u001b[30m\u001b[47m\u001b[30m\u001b[47m`show_col_types = FALSE`\u001b[47m\u001b[30m\u001b[49m\u001b[39m to quiet this message.\n",
      "\n",
      "\u001b[1m\u001b[1mRows: \u001b[1m\u001b[22m\u001b[34m\u001b[34m1037702\u001b[34m\u001b[39m \u001b[1m\u001b[1mColumns: \u001b[1m\u001b[22m\u001b[34m\u001b[34m7\u001b[34m\u001b[39m\n",
      "\n",
      "\u001b[36m──\u001b[39m \u001b[1m\u001b[1mColumn specification\u001b[1m\u001b[22m \u001b[36m────────────────────────────────────────────────────────────────────────────────────────────────────────\u001b[39m\n",
      "\u001b[1mDelimiter:\u001b[22m \"\\t\"\n",
      "\u001b[31mchr\u001b[39m (3): SNP, A1, A2\n",
      "\u001b[32mdbl\u001b[39m (4): Z, N, chi2, P\n",
      "\n",
      "\n",
      "\u001b[36mℹ\u001b[39m Use \u001b[30m\u001b[47m\u001b[30m\u001b[47m`spec()`\u001b[47m\u001b[30m\u001b[49m\u001b[39m to retrieve the full column specification for this data.\n",
      "\u001b[36mℹ\u001b[39m Specify the column types or set \u001b[30m\u001b[47m\u001b[30m\u001b[47m`show_col_types = FALSE`\u001b[47m\u001b[30m\u001b[49m\u001b[39m to quiet this message.\n",
      "\n"
     ]
    },
    {
     "name": "stdout",
     "output_type": "stream",
     "text": [
      "Formatting X1\n",
      "There are  1065141  variants.\n",
      "Removing  0  duplicated variants leaving  1065141 variants.\n",
      "No variants have illegal alleles.\n",
      "Removed  0  variants with ambiguous strand.\n",
      "Flipping strand and effect allele so A1 is always A\n",
      "Returning  1065141  variants.\n",
      "Formatting X2\n",
      "There are  1037702  variants.\n",
      "Removing  0  duplicated variants leaving  1037702 variants.\n",
      "No variants have illegal alleles.\n",
      "Removed  0  variants with ambiguous strand.\n",
      "Flipping strand and effect allele so A1 is always A\n",
      "Returning  1037702  variants.\n",
      "After merging and removing variants with inconsistent alleles,  there are  1027420  variants that are present in both studies and can be used with CAUSE.\n"
     ]
    },
    {
     "name": "stderr",
     "output_type": "stream",
     "text": [
      "Clumping MF9xUo, 10604 variants, using EUR population reference\n",
      "\n",
      "Removing 9171 of 10604 variants due to LD with other variants or absence from LD reference panel\n",
      "\n"
     ]
    },
    {
     "name": "stdout",
     "output_type": "stream",
     "text": [
      "Estimating CAUSE parameters with  1000000  variants.\n",
      "1 0.009470775 \n",
      "2 4.935855e-06 \n",
      "3 2.983208e-09 \n",
      "Estimating CAUSE posteriors using  1433  variants.\n"
     ]
    },
    {
     "name": "stderr",
     "output_type": "stream",
     "text": [
      "Warning message:\n",
      "“'compare' is deprecated.\n",
      "Use 'loo_compare' instead.\n",
      "See help(\"Deprecated\")”\n"
     ]
    },
    {
     "name": "stdout",
     "output_type": "stream",
     "text": [
      "    user   system  elapsed \n",
      "2046.183 1388.232  381.348 \n",
      "Daytime_Sleepiness ~ Hair_Blonde \n"
     ]
    },
    {
     "name": "stderr",
     "output_type": "stream",
     "text": [
      "\u001b[1m\u001b[1mRows: \u001b[1m\u001b[22m\u001b[34m\u001b[34m1065141\u001b[34m\u001b[39m \u001b[1m\u001b[1mColumns: \u001b[1m\u001b[22m\u001b[34m\u001b[34m7\u001b[34m\u001b[39m\n",
      "\n",
      "\u001b[36m──\u001b[39m \u001b[1m\u001b[1mColumn specification\u001b[1m\u001b[22m \u001b[36m────────────────────────────────────────────────────────────────────────────────────────────────────────\u001b[39m\n",
      "\u001b[1mDelimiter:\u001b[22m \"\\t\"\n",
      "\u001b[31mchr\u001b[39m (3): SNP, A1, A2\n",
      "\u001b[32mdbl\u001b[39m (4): Z, N, chi2, P\n",
      "\n",
      "\n",
      "\u001b[36mℹ\u001b[39m Use \u001b[30m\u001b[47m\u001b[30m\u001b[47m`spec()`\u001b[47m\u001b[30m\u001b[49m\u001b[39m to retrieve the full column specification for this data.\n",
      "\u001b[36mℹ\u001b[39m Specify the column types or set \u001b[30m\u001b[47m\u001b[30m\u001b[47m`show_col_types = FALSE`\u001b[47m\u001b[30m\u001b[49m\u001b[39m to quiet this message.\n",
      "\n",
      "\u001b[1m\u001b[1mRows: \u001b[1m\u001b[22m\u001b[34m\u001b[34m1037533\u001b[34m\u001b[39m \u001b[1m\u001b[1mColumns: \u001b[1m\u001b[22m\u001b[34m\u001b[34m7\u001b[34m\u001b[39m\n",
      "\n",
      "\u001b[36m──\u001b[39m \u001b[1m\u001b[1mColumn specification\u001b[1m\u001b[22m \u001b[36m────────────────────────────────────────────────────────────────────────────────────────────────────────\u001b[39m\n",
      "\u001b[1mDelimiter:\u001b[22m \"\\t\"\n",
      "\u001b[31mchr\u001b[39m (3): SNP, A1, A2\n",
      "\u001b[32mdbl\u001b[39m (4): Z, N, chi2, P\n",
      "\n",
      "\n",
      "\u001b[36mℹ\u001b[39m Use \u001b[30m\u001b[47m\u001b[30m\u001b[47m`spec()`\u001b[47m\u001b[30m\u001b[49m\u001b[39m to retrieve the full column specification for this data.\n",
      "\u001b[36mℹ\u001b[39m Specify the column types or set \u001b[30m\u001b[47m\u001b[30m\u001b[47m`show_col_types = FALSE`\u001b[47m\u001b[30m\u001b[49m\u001b[39m to quiet this message.\n",
      "\n"
     ]
    },
    {
     "name": "stdout",
     "output_type": "stream",
     "text": [
      "Formatting X1\n",
      "There are  1065141  variants.\n",
      "Removing  0  duplicated variants leaving  1065141 variants.\n",
      "No variants have illegal alleles.\n",
      "Removed  0  variants with ambiguous strand.\n",
      "Flipping strand and effect allele so A1 is always A\n",
      "Returning  1065141  variants.\n",
      "Formatting X2\n",
      "There are  1037533  variants.\n",
      "Removing  0  duplicated variants leaving  1037533 variants.\n",
      "No variants have illegal alleles.\n",
      "Removed  0  variants with ambiguous strand.\n",
      "Flipping strand and effect allele so A1 is always A\n",
      "Returning  1037533  variants.\n",
      "After merging and removing variants with inconsistent alleles,  there are  1027251  variants that are present in both studies and can be used with CAUSE.\n"
     ]
    },
    {
     "name": "stderr",
     "output_type": "stream",
     "text": [
      "Clumping RiJHVL, 10604 variants, using EUR population reference\n",
      "\n",
      "Removing 9171 of 10604 variants due to LD with other variants or absence from LD reference panel\n",
      "\n"
     ]
    },
    {
     "name": "stdout",
     "output_type": "stream",
     "text": [
      "Estimating CAUSE parameters with  1000000  variants.\n",
      "1 0.007207852 \n",
      "2 4.264359e-06 \n",
      "3 2.727104e-09 \n",
      "Estimating CAUSE posteriors using  1433  variants.\n"
     ]
    },
    {
     "name": "stderr",
     "output_type": "stream",
     "text": [
      "Warning message:\n",
      "“'compare' is deprecated.\n",
      "Use 'loo_compare' instead.\n",
      "See help(\"Deprecated\")”\n"
     ]
    },
    {
     "name": "stdout",
     "output_type": "stream",
     "text": [
      "    user   system  elapsed \n",
      "2191.063 1590.150  403.062 \n",
      "Daytime_Sleepiness ~ Tanning \n"
     ]
    },
    {
     "name": "stderr",
     "output_type": "stream",
     "text": [
      "\u001b[1m\u001b[1mRows: \u001b[1m\u001b[22m\u001b[34m\u001b[34m1065141\u001b[34m\u001b[39m \u001b[1m\u001b[1mColumns: \u001b[1m\u001b[22m\u001b[34m\u001b[34m7\u001b[34m\u001b[39m\n",
      "\n",
      "\u001b[36m──\u001b[39m \u001b[1m\u001b[1mColumn specification\u001b[1m\u001b[22m \u001b[36m────────────────────────────────────────────────────────────────────────────────────────────────────────\u001b[39m\n",
      "\u001b[1mDelimiter:\u001b[22m \"\\t\"\n",
      "\u001b[31mchr\u001b[39m (3): SNP, A1, A2\n",
      "\u001b[32mdbl\u001b[39m (4): Z, N, chi2, P\n",
      "\n",
      "\n",
      "\u001b[36mℹ\u001b[39m Use \u001b[30m\u001b[47m\u001b[30m\u001b[47m`spec()`\u001b[47m\u001b[30m\u001b[49m\u001b[39m to retrieve the full column specification for this data.\n",
      "\u001b[36mℹ\u001b[39m Specify the column types or set \u001b[30m\u001b[47m\u001b[30m\u001b[47m`show_col_types = FALSE`\u001b[47m\u001b[30m\u001b[49m\u001b[39m to quiet this message.\n",
      "\n",
      "\u001b[1m\u001b[1mRows: \u001b[1m\u001b[22m\u001b[34m\u001b[34m1037026\u001b[34m\u001b[39m \u001b[1m\u001b[1mColumns: \u001b[1m\u001b[22m\u001b[34m\u001b[34m7\u001b[34m\u001b[39m\n",
      "\n",
      "\u001b[36m──\u001b[39m \u001b[1m\u001b[1mColumn specification\u001b[1m\u001b[22m \u001b[36m────────────────────────────────────────────────────────────────────────────────────────────────────────\u001b[39m\n",
      "\u001b[1mDelimiter:\u001b[22m \"\\t\"\n",
      "\u001b[31mchr\u001b[39m (3): SNP, A1, A2\n",
      "\u001b[32mdbl\u001b[39m (4): Z, N, chi2, P\n",
      "\n",
      "\n",
      "\u001b[36mℹ\u001b[39m Use \u001b[30m\u001b[47m\u001b[30m\u001b[47m`spec()`\u001b[47m\u001b[30m\u001b[49m\u001b[39m to retrieve the full column specification for this data.\n",
      "\u001b[36mℹ\u001b[39m Specify the column types or set \u001b[30m\u001b[47m\u001b[30m\u001b[47m`show_col_types = FALSE`\u001b[47m\u001b[30m\u001b[49m\u001b[39m to quiet this message.\n",
      "\n"
     ]
    },
    {
     "name": "stdout",
     "output_type": "stream",
     "text": [
      "Formatting X1\n",
      "There are  1065141  variants.\n",
      "Removing  0  duplicated variants leaving  1065141 variants.\n",
      "No variants have illegal alleles.\n",
      "Removed  0  variants with ambiguous strand.\n",
      "Flipping strand and effect allele so A1 is always A\n",
      "Returning  1065141  variants.\n",
      "Formatting X2\n",
      "There are  1037026  variants.\n",
      "Removing  0  duplicated variants leaving  1037026 variants.\n",
      "No variants have illegal alleles.\n",
      "Removed  0  variants with ambiguous strand.\n",
      "Flipping strand and effect allele so A1 is always A\n",
      "Returning  1037026  variants.\n",
      "After merging and removing variants with inconsistent alleles,  there are  1026746  variants that are present in both studies and can be used with CAUSE.\n"
     ]
    },
    {
     "name": "stderr",
     "output_type": "stream",
     "text": [
      "Clumping oeOJ2w, 10572 variants, using EUR population reference\n",
      "\n",
      "Removing 9139 of 10572 variants due to LD with other variants or absence from LD reference panel\n",
      "\n"
     ]
    },
    {
     "name": "stdout",
     "output_type": "stream",
     "text": [
      "Estimating CAUSE parameters with  1000000  variants.\n",
      "1 0.01985178 \n",
      "2 1.544747e-05 \n",
      "3 1.896185e-08 \n",
      "Estimating CAUSE posteriors using  1433  variants.\n"
     ]
    },
    {
     "name": "stderr",
     "output_type": "stream",
     "text": [
      "Warning message:\n",
      "“'compare' is deprecated.\n",
      "Use 'loo_compare' instead.\n",
      "See help(\"Deprecated\")”\n"
     ]
    },
    {
     "name": "stdout",
     "output_type": "stream",
     "text": [
      "    user   system  elapsed \n",
      "2195.115 1536.051  420.089 \n",
      "Height_UKB ~ Hair_Light_Brown \n"
     ]
    },
    {
     "name": "stderr",
     "output_type": "stream",
     "text": [
      "\u001b[1m\u001b[1mRows: \u001b[1m\u001b[22m\u001b[34m\u001b[34m1037320\u001b[34m\u001b[39m \u001b[1m\u001b[1mColumns: \u001b[1m\u001b[22m\u001b[34m\u001b[34m7\u001b[34m\u001b[39m\n",
      "\n",
      "\u001b[36m──\u001b[39m \u001b[1m\u001b[1mColumn specification\u001b[1m\u001b[22m \u001b[36m────────────────────────────────────────────────────────────────────────────────────────────────────────\u001b[39m\n",
      "\u001b[1mDelimiter:\u001b[22m \"\\t\"\n",
      "\u001b[31mchr\u001b[39m (3): SNP, A1, A2\n",
      "\u001b[32mdbl\u001b[39m (4): Z, N, chi2, P\n",
      "\n",
      "\n",
      "\u001b[36mℹ\u001b[39m Use \u001b[30m\u001b[47m\u001b[30m\u001b[47m`spec()`\u001b[47m\u001b[30m\u001b[49m\u001b[39m to retrieve the full column specification for this data.\n",
      "\u001b[36mℹ\u001b[39m Specify the column types or set \u001b[30m\u001b[47m\u001b[30m\u001b[47m`show_col_types = FALSE`\u001b[47m\u001b[30m\u001b[49m\u001b[39m to quiet this message.\n",
      "\n",
      "\u001b[1m\u001b[1mRows: \u001b[1m\u001b[22m\u001b[34m\u001b[34m1037742\u001b[34m\u001b[39m \u001b[1m\u001b[1mColumns: \u001b[1m\u001b[22m\u001b[34m\u001b[34m7\u001b[34m\u001b[39m\n",
      "\n",
      "\u001b[36m──\u001b[39m \u001b[1m\u001b[1mColumn specification\u001b[1m\u001b[22m \u001b[36m────────────────────────────────────────────────────────────────────────────────────────────────────────\u001b[39m\n",
      "\u001b[1mDelimiter:\u001b[22m \"\\t\"\n",
      "\u001b[31mchr\u001b[39m (3): SNP, A1, A2\n",
      "\u001b[32mdbl\u001b[39m (4): Z, N, chi2, P\n",
      "\n",
      "\n",
      "\u001b[36mℹ\u001b[39m Use \u001b[30m\u001b[47m\u001b[30m\u001b[47m`spec()`\u001b[47m\u001b[30m\u001b[49m\u001b[39m to retrieve the full column specification for this data.\n",
      "\u001b[36mℹ\u001b[39m Specify the column types or set \u001b[30m\u001b[47m\u001b[30m\u001b[47m`show_col_types = FALSE`\u001b[47m\u001b[30m\u001b[49m\u001b[39m to quiet this message.\n",
      "\n"
     ]
    },
    {
     "name": "stdout",
     "output_type": "stream",
     "text": [
      "Formatting X1\n",
      "There are  1037320  variants.\n",
      "Removing  0  duplicated variants leaving  1037320 variants.\n",
      "No variants have illegal alleles.\n",
      "Removed  0  variants with ambiguous strand.\n",
      "Flipping strand and effect allele so A1 is always A\n",
      "Returning  1037320  variants.\n",
      "Formatting X2\n",
      "There are  1037742  variants.\n",
      "Removing  0  duplicated variants leaving  1037742 variants.\n",
      "No variants have illegal alleles.\n",
      "Removed  0  variants with ambiguous strand.\n",
      "Flipping strand and effect allele so A1 is always A\n",
      "Returning  1037742  variants.\n",
      "After merging and removing variants with inconsistent alleles,  there are  1037238  variants that are present in both studies and can be used with CAUSE.\n"
     ]
    },
    {
     "name": "stderr",
     "output_type": "stream",
     "text": [
      "Clumping poW8Cb, 116058 variants, using EUR population reference\n",
      "\n",
      "Removing 104286 of 116058 variants due to LD with other variants or absence from LD reference panel\n",
      "\n"
     ]
    },
    {
     "name": "stdout",
     "output_type": "stream",
     "text": [
      "Estimating CAUSE parameters with  1000000  variants.\n",
      "1 0.3542596 \n",
      "2 0.00976378 \n",
      "3 0.001173576 \n",
      "4 0.0001438802 \n",
      "5 1.768055e-05 \n",
      "6 2.171415e-06 \n",
      "7 2.686482e-07 \n",
      "8 3.222082e-08 \n",
      "Estimating CAUSE posteriors using  11772  variants.\n"
     ]
    },
    {
     "name": "stderr",
     "output_type": "stream",
     "text": [
      "Warning message:\n",
      "“'compare' is deprecated.\n",
      "Use 'loo_compare' instead.\n",
      "See help(\"Deprecated\")”\n"
     ]
    },
    {
     "name": "stdout",
     "output_type": "stream",
     "text": [
      "     user    system   elapsed \n",
      "11603.281  3417.291  1107.716 \n",
      "Height_UKB ~ Hair_Dark_Brown \n"
     ]
    },
    {
     "name": "stderr",
     "output_type": "stream",
     "text": [
      "\u001b[1m\u001b[1mRows: \u001b[1m\u001b[22m\u001b[34m\u001b[34m1037320\u001b[34m\u001b[39m \u001b[1m\u001b[1mColumns: \u001b[1m\u001b[22m\u001b[34m\u001b[34m7\u001b[34m\u001b[39m\n",
      "\n",
      "\u001b[36m──\u001b[39m \u001b[1m\u001b[1mColumn specification\u001b[1m\u001b[22m \u001b[36m────────────────────────────────────────────────────────────────────────────────────────────────────────\u001b[39m\n",
      "\u001b[1mDelimiter:\u001b[22m \"\\t\"\n",
      "\u001b[31mchr\u001b[39m (3): SNP, A1, A2\n",
      "\u001b[32mdbl\u001b[39m (4): Z, N, chi2, P\n",
      "\n",
      "\n",
      "\u001b[36mℹ\u001b[39m Use \u001b[30m\u001b[47m\u001b[30m\u001b[47m`spec()`\u001b[47m\u001b[30m\u001b[49m\u001b[39m to retrieve the full column specification for this data.\n",
      "\u001b[36mℹ\u001b[39m Specify the column types or set \u001b[30m\u001b[47m\u001b[30m\u001b[47m`show_col_types = FALSE`\u001b[47m\u001b[30m\u001b[49m\u001b[39m to quiet this message.\n",
      "\n",
      "\u001b[1m\u001b[1mRows: \u001b[1m\u001b[22m\u001b[34m\u001b[34m1037381\u001b[34m\u001b[39m \u001b[1m\u001b[1mColumns: \u001b[1m\u001b[22m\u001b[34m\u001b[34m7\u001b[34m\u001b[39m\n",
      "\n",
      "\u001b[36m──\u001b[39m \u001b[1m\u001b[1mColumn specification\u001b[1m\u001b[22m \u001b[36m────────────────────────────────────────────────────────────────────────────────────────────────────────\u001b[39m\n",
      "\u001b[1mDelimiter:\u001b[22m \"\\t\"\n",
      "\u001b[31mchr\u001b[39m (3): SNP, A1, A2\n",
      "\u001b[32mdbl\u001b[39m (4): Z, N, chi2, P\n",
      "\n",
      "\n",
      "\u001b[36mℹ\u001b[39m Use \u001b[30m\u001b[47m\u001b[30m\u001b[47m`spec()`\u001b[47m\u001b[30m\u001b[49m\u001b[39m to retrieve the full column specification for this data.\n",
      "\u001b[36mℹ\u001b[39m Specify the column types or set \u001b[30m\u001b[47m\u001b[30m\u001b[47m`show_col_types = FALSE`\u001b[47m\u001b[30m\u001b[49m\u001b[39m to quiet this message.\n",
      "\n"
     ]
    },
    {
     "name": "stdout",
     "output_type": "stream",
     "text": [
      "Formatting X1\n",
      "There are  1037320  variants.\n",
      "Removing  0  duplicated variants leaving  1037320 variants.\n",
      "No variants have illegal alleles.\n",
      "Removed  0  variants with ambiguous strand.\n",
      "Flipping strand and effect allele so A1 is always A\n",
      "Returning  1037320  variants.\n",
      "Formatting X2\n",
      "There are  1037381  variants.\n",
      "Removing  0  duplicated variants leaving  1037381 variants.\n",
      "No variants have illegal alleles.\n",
      "Removed  0  variants with ambiguous strand.\n",
      "Flipping strand and effect allele so A1 is always A\n",
      "Returning  1037381  variants.\n",
      "After merging and removing variants with inconsistent alleles,  there are  1036877  variants that are present in both studies and can be used with CAUSE.\n"
     ]
    },
    {
     "name": "stderr",
     "output_type": "stream",
     "text": [
      "Clumping sRjzyA, 115862 variants, using EUR population reference\n",
      "\n",
      "Removing 104094 of 115862 variants due to LD with other variants or absence from LD reference panel\n",
      "\n"
     ]
    },
    {
     "name": "stdout",
     "output_type": "stream",
     "text": [
      "Estimating CAUSE parameters with  1000000  variants.\n",
      "1 0.3307539 \n",
      "2 0.009019254 \n",
      "3 0.001097782 \n",
      "4 0.000113372 \n",
      "5 1.174077e-05 \n",
      "6 1.215879e-06 \n",
      "7 1.327582e-07 \n",
      "8 6.122054e-09 \n",
      "Estimating CAUSE posteriors using  11768  variants.\n"
     ]
    },
    {
     "name": "stderr",
     "output_type": "stream",
     "text": [
      "Warning message:\n",
      "“'compare' is deprecated.\n",
      "Use 'loo_compare' instead.\n",
      "See help(\"Deprecated\")”\n"
     ]
    },
    {
     "name": "stdout",
     "output_type": "stream",
     "text": [
      "     user    system   elapsed \n",
      "11165.699  3299.782  1072.713 \n",
      "Height_UKB ~ Hair_Black \n"
     ]
    },
    {
     "name": "stderr",
     "output_type": "stream",
     "text": [
      "\u001b[1m\u001b[1mRows: \u001b[1m\u001b[22m\u001b[34m\u001b[34m1037320\u001b[34m\u001b[39m \u001b[1m\u001b[1mColumns: \u001b[1m\u001b[22m\u001b[34m\u001b[34m7\u001b[34m\u001b[39m\n",
      "\n",
      "\u001b[36m──\u001b[39m \u001b[1m\u001b[1mColumn specification\u001b[1m\u001b[22m \u001b[36m────────────────────────────────────────────────────────────────────────────────────────────────────────\u001b[39m\n",
      "\u001b[1mDelimiter:\u001b[22m \"\\t\"\n",
      "\u001b[31mchr\u001b[39m (3): SNP, A1, A2\n",
      "\u001b[32mdbl\u001b[39m (4): Z, N, chi2, P\n",
      "\n",
      "\n",
      "\u001b[36mℹ\u001b[39m Use \u001b[30m\u001b[47m\u001b[30m\u001b[47m`spec()`\u001b[47m\u001b[30m\u001b[49m\u001b[39m to retrieve the full column specification for this data.\n",
      "\u001b[36mℹ\u001b[39m Specify the column types or set \u001b[30m\u001b[47m\u001b[30m\u001b[47m`show_col_types = FALSE`\u001b[47m\u001b[30m\u001b[49m\u001b[39m to quiet this message.\n",
      "\n",
      "\u001b[1m\u001b[1mRows: \u001b[1m\u001b[22m\u001b[34m\u001b[34m1037702\u001b[34m\u001b[39m \u001b[1m\u001b[1mColumns: \u001b[1m\u001b[22m\u001b[34m\u001b[34m7\u001b[34m\u001b[39m\n",
      "\n",
      "\u001b[36m──\u001b[39m \u001b[1m\u001b[1mColumn specification\u001b[1m\u001b[22m \u001b[36m────────────────────────────────────────────────────────────────────────────────────────────────────────\u001b[39m\n",
      "\u001b[1mDelimiter:\u001b[22m \"\\t\"\n",
      "\u001b[31mchr\u001b[39m (3): SNP, A1, A2\n",
      "\u001b[32mdbl\u001b[39m (4): Z, N, chi2, P\n",
      "\n",
      "\n",
      "\u001b[36mℹ\u001b[39m Use \u001b[30m\u001b[47m\u001b[30m\u001b[47m`spec()`\u001b[47m\u001b[30m\u001b[49m\u001b[39m to retrieve the full column specification for this data.\n",
      "\u001b[36mℹ\u001b[39m Specify the column types or set \u001b[30m\u001b[47m\u001b[30m\u001b[47m`show_col_types = FALSE`\u001b[47m\u001b[30m\u001b[49m\u001b[39m to quiet this message.\n",
      "\n"
     ]
    },
    {
     "name": "stdout",
     "output_type": "stream",
     "text": [
      "Formatting X1\n",
      "There are  1037320  variants.\n",
      "Removing  0  duplicated variants leaving  1037320 variants.\n",
      "No variants have illegal alleles.\n",
      "Removed  0  variants with ambiguous strand.\n",
      "Flipping strand and effect allele so A1 is always A\n",
      "Returning  1037320  variants.\n",
      "Formatting X2\n",
      "There are  1037702  variants.\n",
      "Removing  0  duplicated variants leaving  1037702 variants.\n",
      "No variants have illegal alleles.\n",
      "Removed  0  variants with ambiguous strand.\n",
      "Flipping strand and effect allele so A1 is always A\n",
      "Returning  1037702  variants.\n",
      "After merging and removing variants with inconsistent alleles,  there are  1037198  variants that are present in both studies and can be used with CAUSE.\n"
     ]
    },
    {
     "name": "stderr",
     "output_type": "stream",
     "text": [
      "Clumping HU9VEm, 116057 variants, using EUR population reference\n",
      "\n",
      "Removing 104284 of 116057 variants due to LD with other variants or absence from LD reference panel\n",
      "\n"
     ]
    },
    {
     "name": "stdout",
     "output_type": "stream",
     "text": [
      "Estimating CAUSE parameters with  1000000  variants.\n",
      "1 0.5662602 \n",
      "2 0.03637067 \n",
      "3 0.008766465 \n",
      "4 0.002200015 \n",
      "5 0.0005573653 \n",
      "6 0.0001415398 \n",
      "7 3.596623e-05 \n",
      "8 9.139207e-06 \n",
      "9 2.323168e-06 \n",
      "10 5.912405e-07 \n",
      "11 1.491869e-07 \n",
      "12 3.863162e-08 \n",
      "Estimating CAUSE posteriors using  11773  variants.\n"
     ]
    },
    {
     "name": "stderr",
     "output_type": "stream",
     "text": [
      "Warning message:\n",
      "“'compare' is deprecated.\n",
      "Use 'loo_compare' instead.\n",
      "See help(\"Deprecated\")”\n"
     ]
    },
    {
     "name": "stdout",
     "output_type": "stream",
     "text": [
      "     user    system   elapsed \n",
      "18094.130  4065.623  1421.129 \n",
      "Height_UKB ~ Hair_Blonde \n"
     ]
    },
    {
     "name": "stderr",
     "output_type": "stream",
     "text": [
      "\u001b[1m\u001b[1mRows: \u001b[1m\u001b[22m\u001b[34m\u001b[34m1037320\u001b[34m\u001b[39m \u001b[1m\u001b[1mColumns: \u001b[1m\u001b[22m\u001b[34m\u001b[34m7\u001b[34m\u001b[39m\n",
      "\n",
      "\u001b[36m──\u001b[39m \u001b[1m\u001b[1mColumn specification\u001b[1m\u001b[22m \u001b[36m────────────────────────────────────────────────────────────────────────────────────────────────────────\u001b[39m\n",
      "\u001b[1mDelimiter:\u001b[22m \"\\t\"\n",
      "\u001b[31mchr\u001b[39m (3): SNP, A1, A2\n",
      "\u001b[32mdbl\u001b[39m (4): Z, N, chi2, P\n",
      "\n",
      "\n",
      "\u001b[36mℹ\u001b[39m Use \u001b[30m\u001b[47m\u001b[30m\u001b[47m`spec()`\u001b[47m\u001b[30m\u001b[49m\u001b[39m to retrieve the full column specification for this data.\n",
      "\u001b[36mℹ\u001b[39m Specify the column types or set \u001b[30m\u001b[47m\u001b[30m\u001b[47m`show_col_types = FALSE`\u001b[47m\u001b[30m\u001b[49m\u001b[39m to quiet this message.\n",
      "\n",
      "\u001b[1m\u001b[1mRows: \u001b[1m\u001b[22m\u001b[34m\u001b[34m1037533\u001b[34m\u001b[39m \u001b[1m\u001b[1mColumns: \u001b[1m\u001b[22m\u001b[34m\u001b[34m7\u001b[34m\u001b[39m\n",
      "\n",
      "\u001b[36m──\u001b[39m \u001b[1m\u001b[1mColumn specification\u001b[1m\u001b[22m \u001b[36m────────────────────────────────────────────────────────────────────────────────────────────────────────\u001b[39m\n",
      "\u001b[1mDelimiter:\u001b[22m \"\\t\"\n",
      "\u001b[31mchr\u001b[39m (3): SNP, A1, A2\n",
      "\u001b[32mdbl\u001b[39m (4): Z, N, chi2, P\n",
      "\n",
      "\n",
      "\u001b[36mℹ\u001b[39m Use \u001b[30m\u001b[47m\u001b[30m\u001b[47m`spec()`\u001b[47m\u001b[30m\u001b[49m\u001b[39m to retrieve the full column specification for this data.\n",
      "\u001b[36mℹ\u001b[39m Specify the column types or set \u001b[30m\u001b[47m\u001b[30m\u001b[47m`show_col_types = FALSE`\u001b[47m\u001b[30m\u001b[49m\u001b[39m to quiet this message.\n",
      "\n"
     ]
    },
    {
     "name": "stdout",
     "output_type": "stream",
     "text": [
      "Formatting X1\n",
      "There are  1037320  variants.\n",
      "Removing  0  duplicated variants leaving  1037320 variants.\n",
      "No variants have illegal alleles.\n",
      "Removed  0  variants with ambiguous strand.\n",
      "Flipping strand and effect allele so A1 is always A\n",
      "Returning  1037320  variants.\n",
      "Formatting X2\n",
      "There are  1037533  variants.\n",
      "Removing  0  duplicated variants leaving  1037533 variants.\n",
      "No variants have illegal alleles.\n",
      "Removed  0  variants with ambiguous strand.\n",
      "Flipping strand and effect allele so A1 is always A\n",
      "Returning  1037533  variants.\n",
      "After merging and removing variants with inconsistent alleles,  there are  1037029  variants that are present in both studies and can be used with CAUSE.\n"
     ]
    },
    {
     "name": "stderr",
     "output_type": "stream",
     "text": [
      "Clumping 0vf5i5, 115977 variants, using EUR population reference\n",
      "\n",
      "Removing 104203 of 115977 variants due to LD with other variants or absence from LD reference panel\n",
      "\n"
     ]
    },
    {
     "name": "stdout",
     "output_type": "stream",
     "text": [
      "Estimating CAUSE parameters with  1000000  variants.\n",
      "1 0.2098182 \n",
      "2 0.003182957 \n",
      "3 0.0001710929 \n",
      "4 9.292169e-06 \n",
      "5 5.049971e-07 \n",
      "6 2.762827e-08 \n",
      "Estimating CAUSE posteriors using  11774  variants.\n"
     ]
    },
    {
     "name": "stderr",
     "output_type": "stream",
     "text": [
      "Warning message:\n",
      "“'compare' is deprecated.\n",
      "Use 'loo_compare' instead.\n",
      "See help(\"Deprecated\")”\n"
     ]
    },
    {
     "name": "stdout",
     "output_type": "stream",
     "text": [
      "     user    system   elapsed \n",
      "10269.158  2574.904   842.803 \n",
      "Height_UKB ~ Tanning \n"
     ]
    },
    {
     "name": "stderr",
     "output_type": "stream",
     "text": [
      "\u001b[1m\u001b[1mRows: \u001b[1m\u001b[22m\u001b[34m\u001b[34m1037320\u001b[34m\u001b[39m \u001b[1m\u001b[1mColumns: \u001b[1m\u001b[22m\u001b[34m\u001b[34m7\u001b[34m\u001b[39m\n",
      "\n",
      "\u001b[36m──\u001b[39m \u001b[1m\u001b[1mColumn specification\u001b[1m\u001b[22m \u001b[36m────────────────────────────────────────────────────────────────────────────────────────────────────────\u001b[39m\n",
      "\u001b[1mDelimiter:\u001b[22m \"\\t\"\n",
      "\u001b[31mchr\u001b[39m (3): SNP, A1, A2\n",
      "\u001b[32mdbl\u001b[39m (4): Z, N, chi2, P\n",
      "\n",
      "\n",
      "\u001b[36mℹ\u001b[39m Use \u001b[30m\u001b[47m\u001b[30m\u001b[47m`spec()`\u001b[47m\u001b[30m\u001b[49m\u001b[39m to retrieve the full column specification for this data.\n",
      "\u001b[36mℹ\u001b[39m Specify the column types or set \u001b[30m\u001b[47m\u001b[30m\u001b[47m`show_col_types = FALSE`\u001b[47m\u001b[30m\u001b[49m\u001b[39m to quiet this message.\n",
      "\n",
      "\u001b[1m\u001b[1mRows: \u001b[1m\u001b[22m\u001b[34m\u001b[34m1037026\u001b[34m\u001b[39m \u001b[1m\u001b[1mColumns: \u001b[1m\u001b[22m\u001b[34m\u001b[34m7\u001b[34m\u001b[39m\n",
      "\n",
      "\u001b[36m──\u001b[39m \u001b[1m\u001b[1mColumn specification\u001b[1m\u001b[22m \u001b[36m────────────────────────────────────────────────────────────────────────────────────────────────────────\u001b[39m\n",
      "\u001b[1mDelimiter:\u001b[22m \"\\t\"\n",
      "\u001b[31mchr\u001b[39m (3): SNP, A1, A2\n",
      "\u001b[32mdbl\u001b[39m (4): Z, N, chi2, P\n",
      "\n",
      "\n",
      "\u001b[36mℹ\u001b[39m Use \u001b[30m\u001b[47m\u001b[30m\u001b[47m`spec()`\u001b[47m\u001b[30m\u001b[49m\u001b[39m to retrieve the full column specification for this data.\n",
      "\u001b[36mℹ\u001b[39m Specify the column types or set \u001b[30m\u001b[47m\u001b[30m\u001b[47m`show_col_types = FALSE`\u001b[47m\u001b[30m\u001b[49m\u001b[39m to quiet this message.\n",
      "\n"
     ]
    },
    {
     "name": "stdout",
     "output_type": "stream",
     "text": [
      "Formatting X1\n",
      "There are  1037320  variants.\n",
      "Removing  0  duplicated variants leaving  1037320 variants.\n",
      "No variants have illegal alleles.\n",
      "Removed  0  variants with ambiguous strand.\n",
      "Flipping strand and effect allele so A1 is always A\n",
      "Returning  1037320  variants.\n",
      "Formatting X2\n",
      "There are  1037026  variants.\n",
      "Removing  0  duplicated variants leaving  1037026 variants.\n",
      "No variants have illegal alleles.\n",
      "Removed  0  variants with ambiguous strand.\n",
      "Flipping strand and effect allele so A1 is always A\n",
      "Returning  1037026  variants.\n",
      "After merging and removing variants with inconsistent alleles,  there are  1036527  variants that are present in both studies and can be used with CAUSE.\n"
     ]
    },
    {
     "name": "stderr",
     "output_type": "stream",
     "text": [
      "Clumping 0upWlL, 115673 variants, using EUR population reference\n",
      "\n",
      "Removing 103914 of 115673 variants due to LD with other variants or absence from LD reference panel\n",
      "\n"
     ]
    },
    {
     "name": "stdout",
     "output_type": "stream",
     "text": [
      "Estimating CAUSE parameters with  1000000  variants.\n",
      "1 0.4009012 \n",
      "2 0.01041781 \n",
      "3 0.001136404 \n",
      "4 0.00012608 \n",
      "5 1.401447e-05 \n",
      "6 1.558481e-06 \n",
      "7 1.734563e-07 \n",
      "8 1.670557e-08 \n",
      "Estimating CAUSE posteriors using  11759  variants.\n"
     ]
    },
    {
     "name": "stderr",
     "output_type": "stream",
     "text": [
      "Warning message:\n",
      "“'compare' is deprecated.\n",
      "Use 'loo_compare' instead.\n",
      "See help(\"Deprecated\")”\n"
     ]
    },
    {
     "name": "stdout",
     "output_type": "stream",
     "text": [
      "    user   system  elapsed \n",
      "9904.224 3057.069  941.769 \n",
      "Intelligence ~ Hair_Light_Brown \n"
     ]
    },
    {
     "name": "stderr",
     "output_type": "stream",
     "text": [
      "\u001b[1m\u001b[1mRows: \u001b[1m\u001b[22m\u001b[34m\u001b[34m1037824\u001b[34m\u001b[39m \u001b[1m\u001b[1mColumns: \u001b[1m\u001b[22m\u001b[34m\u001b[34m7\u001b[34m\u001b[39m\n",
      "\n",
      "\u001b[36m──\u001b[39m \u001b[1m\u001b[1mColumn specification\u001b[1m\u001b[22m \u001b[36m────────────────────────────────────────────────────────────────────────────────────────────────────────\u001b[39m\n",
      "\u001b[1mDelimiter:\u001b[22m \"\\t\"\n",
      "\u001b[31mchr\u001b[39m (3): SNP, A1, A2\n",
      "\u001b[32mdbl\u001b[39m (4): Z, N, chi2, P\n",
      "\n",
      "\n",
      "\u001b[36mℹ\u001b[39m Use \u001b[30m\u001b[47m\u001b[30m\u001b[47m`spec()`\u001b[47m\u001b[30m\u001b[49m\u001b[39m to retrieve the full column specification for this data.\n",
      "\u001b[36mℹ\u001b[39m Specify the column types or set \u001b[30m\u001b[47m\u001b[30m\u001b[47m`show_col_types = FALSE`\u001b[47m\u001b[30m\u001b[49m\u001b[39m to quiet this message.\n",
      "\n",
      "\u001b[1m\u001b[1mRows: \u001b[1m\u001b[22m\u001b[34m\u001b[34m1037742\u001b[34m\u001b[39m \u001b[1m\u001b[1mColumns: \u001b[1m\u001b[22m\u001b[34m\u001b[34m7\u001b[34m\u001b[39m\n",
      "\n",
      "\u001b[36m──\u001b[39m \u001b[1m\u001b[1mColumn specification\u001b[1m\u001b[22m \u001b[36m────────────────────────────────────────────────────────────────────────────────────────────────────────\u001b[39m\n",
      "\u001b[1mDelimiter:\u001b[22m \"\\t\"\n",
      "\u001b[31mchr\u001b[39m (3): SNP, A1, A2\n",
      "\u001b[32mdbl\u001b[39m (4): Z, N, chi2, P\n",
      "\n",
      "\n",
      "\u001b[36mℹ\u001b[39m Use \u001b[30m\u001b[47m\u001b[30m\u001b[47m`spec()`\u001b[47m\u001b[30m\u001b[49m\u001b[39m to retrieve the full column specification for this data.\n",
      "\u001b[36mℹ\u001b[39m Specify the column types or set \u001b[30m\u001b[47m\u001b[30m\u001b[47m`show_col_types = FALSE`\u001b[47m\u001b[30m\u001b[49m\u001b[39m to quiet this message.\n",
      "\n"
     ]
    },
    {
     "name": "stdout",
     "output_type": "stream",
     "text": [
      "Formatting X1\n",
      "There are  1037824  variants.\n",
      "Removing  0  duplicated variants leaving  1037824 variants.\n",
      "No variants have illegal alleles.\n",
      "Removed  0  variants with ambiguous strand.\n",
      "Flipping strand and effect allele so A1 is always A\n",
      "Returning  1037824  variants.\n",
      "Formatting X2\n",
      "There are  1037742  variants.\n",
      "Removing  0  duplicated variants leaving  1037742 variants.\n",
      "No variants have illegal alleles.\n",
      "Removed  0  variants with ambiguous strand.\n",
      "Flipping strand and effect allele so A1 is always A\n",
      "Returning  1037742  variants.\n",
      "After merging and removing variants with inconsistent alleles,  there are  1037742  variants that are present in both studies and can be used with CAUSE.\n"
     ]
    },
    {
     "name": "stderr",
     "output_type": "stream",
     "text": [
      "Clumping 2UkPvk, 15595 variants, using EUR population reference\n",
      "\n",
      "Removing 13504 of 15595 variants due to LD with other variants or absence from LD reference panel\n",
      "\n"
     ]
    },
    {
     "name": "stdout",
     "output_type": "stream",
     "text": [
      "Estimating CAUSE parameters with  1000000  variants.\n",
      "1 0.04803465 \n",
      "2 4.052263e-05 \n",
      "3 1.625043e-07 \n",
      "4 1.454681e-09 \n",
      "Estimating CAUSE posteriors using  2091  variants.\n"
     ]
    },
    {
     "name": "stderr",
     "output_type": "stream",
     "text": [
      "Warning message:\n",
      "“'compare' is deprecated.\n",
      "Use 'loo_compare' instead.\n",
      "See help(\"Deprecated\")”\n"
     ]
    },
    {
     "name": "stdout",
     "output_type": "stream",
     "text": [
      "    user   system  elapsed \n",
      "2997.003 1992.611  514.745 \n",
      "Intelligence ~ Hair_Dark_Brown \n"
     ]
    },
    {
     "name": "stderr",
     "output_type": "stream",
     "text": [
      "\u001b[1m\u001b[1mRows: \u001b[1m\u001b[22m\u001b[34m\u001b[34m1037824\u001b[34m\u001b[39m \u001b[1m\u001b[1mColumns: \u001b[1m\u001b[22m\u001b[34m\u001b[34m7\u001b[34m\u001b[39m\n",
      "\n",
      "\u001b[36m──\u001b[39m \u001b[1m\u001b[1mColumn specification\u001b[1m\u001b[22m \u001b[36m────────────────────────────────────────────────────────────────────────────────────────────────────────\u001b[39m\n",
      "\u001b[1mDelimiter:\u001b[22m \"\\t\"\n",
      "\u001b[31mchr\u001b[39m (3): SNP, A1, A2\n",
      "\u001b[32mdbl\u001b[39m (4): Z, N, chi2, P\n",
      "\n",
      "\n",
      "\u001b[36mℹ\u001b[39m Use \u001b[30m\u001b[47m\u001b[30m\u001b[47m`spec()`\u001b[47m\u001b[30m\u001b[49m\u001b[39m to retrieve the full column specification for this data.\n",
      "\u001b[36mℹ\u001b[39m Specify the column types or set \u001b[30m\u001b[47m\u001b[30m\u001b[47m`show_col_types = FALSE`\u001b[47m\u001b[30m\u001b[49m\u001b[39m to quiet this message.\n",
      "\n",
      "\u001b[1m\u001b[1mRows: \u001b[1m\u001b[22m\u001b[34m\u001b[34m1037381\u001b[34m\u001b[39m \u001b[1m\u001b[1mColumns: \u001b[1m\u001b[22m\u001b[34m\u001b[34m7\u001b[34m\u001b[39m\n",
      "\n",
      "\u001b[36m──\u001b[39m \u001b[1m\u001b[1mColumn specification\u001b[1m\u001b[22m \u001b[36m────────────────────────────────────────────────────────────────────────────────────────────────────────\u001b[39m\n",
      "\u001b[1mDelimiter:\u001b[22m \"\\t\"\n",
      "\u001b[31mchr\u001b[39m (3): SNP, A1, A2\n",
      "\u001b[32mdbl\u001b[39m (4): Z, N, chi2, P\n",
      "\n",
      "\n",
      "\u001b[36mℹ\u001b[39m Use \u001b[30m\u001b[47m\u001b[30m\u001b[47m`spec()`\u001b[47m\u001b[30m\u001b[49m\u001b[39m to retrieve the full column specification for this data.\n",
      "\u001b[36mℹ\u001b[39m Specify the column types or set \u001b[30m\u001b[47m\u001b[30m\u001b[47m`show_col_types = FALSE`\u001b[47m\u001b[30m\u001b[49m\u001b[39m to quiet this message.\n",
      "\n"
     ]
    },
    {
     "name": "stdout",
     "output_type": "stream",
     "text": [
      "Formatting X1\n",
      "There are  1037824  variants.\n",
      "Removing  0  duplicated variants leaving  1037824 variants.\n",
      "No variants have illegal alleles.\n",
      "Removed  0  variants with ambiguous strand.\n",
      "Flipping strand and effect allele so A1 is always A\n",
      "Returning  1037824  variants.\n",
      "Formatting X2\n",
      "There are  1037381  variants.\n",
      "Removing  0  duplicated variants leaving  1037381 variants.\n",
      "No variants have illegal alleles.\n",
      "Removed  0  variants with ambiguous strand.\n",
      "Flipping strand and effect allele so A1 is always A\n",
      "Returning  1037381  variants.\n",
      "After merging and removing variants with inconsistent alleles,  there are  1037381  variants that are present in both studies and can be used with CAUSE.\n"
     ]
    },
    {
     "name": "stderr",
     "output_type": "stream",
     "text": [
      "Clumping Y4DAvs, 15591 variants, using EUR population reference\n",
      "\n",
      "Removing 13502 of 15591 variants due to LD with other variants or absence from LD reference panel\n",
      "\n"
     ]
    },
    {
     "name": "stdout",
     "output_type": "stream",
     "text": [
      "Estimating CAUSE parameters with  1000000  variants.\n",
      "1 0.06521944 \n",
      "2 0.0004463881 \n",
      "3 3.389332e-06 \n",
      "4 2.61424e-08 \n",
      "Estimating CAUSE posteriors using  2089  variants.\n"
     ]
    },
    {
     "name": "stderr",
     "output_type": "stream",
     "text": [
      "Warning message:\n",
      "“'compare' is deprecated.\n",
      "Use 'loo_compare' instead.\n",
      "See help(\"Deprecated\")”\n"
     ]
    },
    {
     "name": "stdout",
     "output_type": "stream",
     "text": [
      "    user   system  elapsed \n",
      "3041.274 1976.582  504.169 \n",
      "Intelligence ~ Hair_Black \n"
     ]
    },
    {
     "name": "stderr",
     "output_type": "stream",
     "text": [
      "\u001b[1m\u001b[1mRows: \u001b[1m\u001b[22m\u001b[34m\u001b[34m1037824\u001b[34m\u001b[39m \u001b[1m\u001b[1mColumns: \u001b[1m\u001b[22m\u001b[34m\u001b[34m7\u001b[34m\u001b[39m\n",
      "\n",
      "\u001b[36m──\u001b[39m \u001b[1m\u001b[1mColumn specification\u001b[1m\u001b[22m \u001b[36m────────────────────────────────────────────────────────────────────────────────────────────────────────\u001b[39m\n",
      "\u001b[1mDelimiter:\u001b[22m \"\\t\"\n",
      "\u001b[31mchr\u001b[39m (3): SNP, A1, A2\n",
      "\u001b[32mdbl\u001b[39m (4): Z, N, chi2, P\n",
      "\n",
      "\n",
      "\u001b[36mℹ\u001b[39m Use \u001b[30m\u001b[47m\u001b[30m\u001b[47m`spec()`\u001b[47m\u001b[30m\u001b[49m\u001b[39m to retrieve the full column specification for this data.\n",
      "\u001b[36mℹ\u001b[39m Specify the column types or set \u001b[30m\u001b[47m\u001b[30m\u001b[47m`show_col_types = FALSE`\u001b[47m\u001b[30m\u001b[49m\u001b[39m to quiet this message.\n",
      "\n",
      "\u001b[1m\u001b[1mRows: \u001b[1m\u001b[22m\u001b[34m\u001b[34m1037702\u001b[34m\u001b[39m \u001b[1m\u001b[1mColumns: \u001b[1m\u001b[22m\u001b[34m\u001b[34m7\u001b[34m\u001b[39m\n",
      "\n",
      "\u001b[36m──\u001b[39m \u001b[1m\u001b[1mColumn specification\u001b[1m\u001b[22m \u001b[36m────────────────────────────────────────────────────────────────────────────────────────────────────────\u001b[39m\n",
      "\u001b[1mDelimiter:\u001b[22m \"\\t\"\n",
      "\u001b[31mchr\u001b[39m (3): SNP, A1, A2\n",
      "\u001b[32mdbl\u001b[39m (4): Z, N, chi2, P\n",
      "\n",
      "\n",
      "\u001b[36mℹ\u001b[39m Use \u001b[30m\u001b[47m\u001b[30m\u001b[47m`spec()`\u001b[47m\u001b[30m\u001b[49m\u001b[39m to retrieve the full column specification for this data.\n",
      "\u001b[36mℹ\u001b[39m Specify the column types or set \u001b[30m\u001b[47m\u001b[30m\u001b[47m`show_col_types = FALSE`\u001b[47m\u001b[30m\u001b[49m\u001b[39m to quiet this message.\n",
      "\n"
     ]
    },
    {
     "name": "stdout",
     "output_type": "stream",
     "text": [
      "Formatting X1\n",
      "There are  1037824  variants.\n",
      "Removing  0  duplicated variants leaving  1037824 variants.\n",
      "No variants have illegal alleles.\n",
      "Removed  0  variants with ambiguous strand.\n",
      "Flipping strand and effect allele so A1 is always A\n",
      "Returning  1037824  variants.\n",
      "Formatting X2\n",
      "There are  1037702  variants.\n",
      "Removing  0  duplicated variants leaving  1037702 variants.\n",
      "No variants have illegal alleles.\n",
      "Removed  0  variants with ambiguous strand.\n",
      "Flipping strand and effect allele so A1 is always A\n",
      "Returning  1037702  variants.\n",
      "After merging and removing variants with inconsistent alleles,  there are  1037702  variants that are present in both studies and can be used with CAUSE.\n"
     ]
    },
    {
     "name": "stderr",
     "output_type": "stream",
     "text": [
      "Clumping Roi0ic, 15595 variants, using EUR population reference\n",
      "\n",
      "Removing 13504 of 15595 variants due to LD with other variants or absence from LD reference panel\n",
      "\n"
     ]
    },
    {
     "name": "stdout",
     "output_type": "stream",
     "text": [
      "Estimating CAUSE parameters with  1000000  variants.\n",
      "1 0.1941975 \n",
      "2 0.001900395 \n",
      "3 9.746729e-05 \n",
      "4 5.039397e-06 \n",
      "5 2.616141e-07 \n",
      "6 1.214777e-08 \n",
      "Estimating CAUSE posteriors using  2091  variants.\n"
     ]
    },
    {
     "name": "stderr",
     "output_type": "stream",
     "text": [
      "Warning message:\n",
      "“'compare' is deprecated.\n",
      "Use 'loo_compare' instead.\n",
      "See help(\"Deprecated\")”\n"
     ]
    },
    {
     "name": "stdout",
     "output_type": "stream",
     "text": [
      "    user   system  elapsed \n",
      "3361.684 2347.824  553.279 \n",
      "Intelligence ~ Hair_Blonde \n"
     ]
    },
    {
     "name": "stderr",
     "output_type": "stream",
     "text": [
      "\u001b[1m\u001b[1mRows: \u001b[1m\u001b[22m\u001b[34m\u001b[34m1037824\u001b[34m\u001b[39m \u001b[1m\u001b[1mColumns: \u001b[1m\u001b[22m\u001b[34m\u001b[34m7\u001b[34m\u001b[39m\n",
      "\n",
      "\u001b[36m──\u001b[39m \u001b[1m\u001b[1mColumn specification\u001b[1m\u001b[22m \u001b[36m────────────────────────────────────────────────────────────────────────────────────────────────────────\u001b[39m\n",
      "\u001b[1mDelimiter:\u001b[22m \"\\t\"\n",
      "\u001b[31mchr\u001b[39m (3): SNP, A1, A2\n",
      "\u001b[32mdbl\u001b[39m (4): Z, N, chi2, P\n",
      "\n",
      "\n",
      "\u001b[36mℹ\u001b[39m Use \u001b[30m\u001b[47m\u001b[30m\u001b[47m`spec()`\u001b[47m\u001b[30m\u001b[49m\u001b[39m to retrieve the full column specification for this data.\n",
      "\u001b[36mℹ\u001b[39m Specify the column types or set \u001b[30m\u001b[47m\u001b[30m\u001b[47m`show_col_types = FALSE`\u001b[47m\u001b[30m\u001b[49m\u001b[39m to quiet this message.\n",
      "\n",
      "\u001b[1m\u001b[1mRows: \u001b[1m\u001b[22m\u001b[34m\u001b[34m1037533\u001b[34m\u001b[39m \u001b[1m\u001b[1mColumns: \u001b[1m\u001b[22m\u001b[34m\u001b[34m7\u001b[34m\u001b[39m\n",
      "\n",
      "\u001b[36m──\u001b[39m \u001b[1m\u001b[1mColumn specification\u001b[1m\u001b[22m \u001b[36m────────────────────────────────────────────────────────────────────────────────────────────────────────\u001b[39m\n",
      "\u001b[1mDelimiter:\u001b[22m \"\\t\"\n",
      "\u001b[31mchr\u001b[39m (3): SNP, A1, A2\n",
      "\u001b[32mdbl\u001b[39m (4): Z, N, chi2, P\n",
      "\n",
      "\n",
      "\u001b[36mℹ\u001b[39m Use \u001b[30m\u001b[47m\u001b[30m\u001b[47m`spec()`\u001b[47m\u001b[30m\u001b[49m\u001b[39m to retrieve the full column specification for this data.\n",
      "\u001b[36mℹ\u001b[39m Specify the column types or set \u001b[30m\u001b[47m\u001b[30m\u001b[47m`show_col_types = FALSE`\u001b[47m\u001b[30m\u001b[49m\u001b[39m to quiet this message.\n",
      "\n"
     ]
    },
    {
     "name": "stdout",
     "output_type": "stream",
     "text": [
      "Formatting X1\n",
      "There are  1037824  variants.\n",
      "Removing  0  duplicated variants leaving  1037824 variants.\n",
      "No variants have illegal alleles.\n",
      "Removed  0  variants with ambiguous strand.\n",
      "Flipping strand and effect allele so A1 is always A\n",
      "Returning  1037824  variants.\n",
      "Formatting X2\n",
      "There are  1037533  variants.\n",
      "Removing  0  duplicated variants leaving  1037533 variants.\n",
      "No variants have illegal alleles.\n",
      "Removed  0  variants with ambiguous strand.\n",
      "Flipping strand and effect allele so A1 is always A\n",
      "Returning  1037533  variants.\n",
      "After merging and removing variants with inconsistent alleles,  there are  1037533  variants that are present in both studies and can be used with CAUSE.\n"
     ]
    },
    {
     "name": "stderr",
     "output_type": "stream",
     "text": [
      "Clumping uML1pq, 15595 variants, using EUR population reference\n",
      "\n",
      "Removing 13504 of 15595 variants due to LD with other variants or absence from LD reference panel\n",
      "\n"
     ]
    },
    {
     "name": "stdout",
     "output_type": "stream",
     "text": [
      "Estimating CAUSE parameters with  1000000  variants.\n",
      "1 0.006137 \n",
      "2 2.05573e-05 \n",
      "3 6.583979e-08 \n",
      "Estimating CAUSE posteriors using  2091  variants.\n"
     ]
    },
    {
     "name": "stderr",
     "output_type": "stream",
     "text": [
      "Warning message:\n",
      "“'compare' is deprecated.\n",
      "Use 'loo_compare' instead.\n",
      "See help(\"Deprecated\")”\n"
     ]
    },
    {
     "name": "stdout",
     "output_type": "stream",
     "text": [
      "    user   system  elapsed \n",
      "2494.887 1707.640  421.115 \n",
      "Intelligence ~ Tanning \n"
     ]
    },
    {
     "name": "stderr",
     "output_type": "stream",
     "text": [
      "\u001b[1m\u001b[1mRows: \u001b[1m\u001b[22m\u001b[34m\u001b[34m1037824\u001b[34m\u001b[39m \u001b[1m\u001b[1mColumns: \u001b[1m\u001b[22m\u001b[34m\u001b[34m7\u001b[34m\u001b[39m\n",
      "\n",
      "\u001b[36m──\u001b[39m \u001b[1m\u001b[1mColumn specification\u001b[1m\u001b[22m \u001b[36m────────────────────────────────────────────────────────────────────────────────────────────────────────\u001b[39m\n",
      "\u001b[1mDelimiter:\u001b[22m \"\\t\"\n",
      "\u001b[31mchr\u001b[39m (3): SNP, A1, A2\n",
      "\u001b[32mdbl\u001b[39m (4): Z, N, chi2, P\n",
      "\n",
      "\n",
      "\u001b[36mℹ\u001b[39m Use \u001b[30m\u001b[47m\u001b[30m\u001b[47m`spec()`\u001b[47m\u001b[30m\u001b[49m\u001b[39m to retrieve the full column specification for this data.\n",
      "\u001b[36mℹ\u001b[39m Specify the column types or set \u001b[30m\u001b[47m\u001b[30m\u001b[47m`show_col_types = FALSE`\u001b[47m\u001b[30m\u001b[49m\u001b[39m to quiet this message.\n",
      "\n",
      "\u001b[1m\u001b[1mRows: \u001b[1m\u001b[22m\u001b[34m\u001b[34m1037026\u001b[34m\u001b[39m \u001b[1m\u001b[1mColumns: \u001b[1m\u001b[22m\u001b[34m\u001b[34m7\u001b[34m\u001b[39m\n",
      "\n",
      "\u001b[36m──\u001b[39m \u001b[1m\u001b[1mColumn specification\u001b[1m\u001b[22m \u001b[36m────────────────────────────────────────────────────────────────────────────────────────────────────────\u001b[39m\n",
      "\u001b[1mDelimiter:\u001b[22m \"\\t\"\n",
      "\u001b[31mchr\u001b[39m (3): SNP, A1, A2\n",
      "\u001b[32mdbl\u001b[39m (4): Z, N, chi2, P\n",
      "\n",
      "\n",
      "\u001b[36mℹ\u001b[39m Use \u001b[30m\u001b[47m\u001b[30m\u001b[47m`spec()`\u001b[47m\u001b[30m\u001b[49m\u001b[39m to retrieve the full column specification for this data.\n",
      "\u001b[36mℹ\u001b[39m Specify the column types or set \u001b[30m\u001b[47m\u001b[30m\u001b[47m`show_col_types = FALSE`\u001b[47m\u001b[30m\u001b[49m\u001b[39m to quiet this message.\n",
      "\n"
     ]
    },
    {
     "name": "stdout",
     "output_type": "stream",
     "text": [
      "Formatting X1\n",
      "There are  1037824  variants.\n",
      "Removing  0  duplicated variants leaving  1037824 variants.\n",
      "No variants have illegal alleles.\n",
      "Removed  0  variants with ambiguous strand.\n",
      "Flipping strand and effect allele so A1 is always A\n",
      "Returning  1037824  variants.\n",
      "Formatting X2\n",
      "There are  1037026  variants.\n",
      "Removing  0  duplicated variants leaving  1037026 variants.\n",
      "No variants have illegal alleles.\n",
      "Removed  0  variants with ambiguous strand.\n",
      "Flipping strand and effect allele so A1 is always A\n",
      "Returning  1037026  variants.\n",
      "After merging and removing variants with inconsistent alleles,  there are  1037026  variants that are present in both studies and can be used with CAUSE.\n"
     ]
    },
    {
     "name": "stderr",
     "output_type": "stream",
     "text": [
      "Clumping TMxveE, 15590 variants, using EUR population reference\n",
      "\n",
      "Removing 13501 of 15590 variants due to LD with other variants or absence from LD reference panel\n",
      "\n"
     ]
    },
    {
     "name": "stdout",
     "output_type": "stream",
     "text": [
      "Estimating CAUSE parameters with  1000000  variants.\n",
      "1 0.2499007 \n",
      "2 0.003828151 \n",
      "3 0.0002212308 \n",
      "4 1.294827e-05 \n",
      "5 7.584642e-07 \n",
      "6 4.442377e-08 \n",
      "Estimating CAUSE posteriors using  2089  variants.\n"
     ]
    },
    {
     "name": "stderr",
     "output_type": "stream",
     "text": [
      "Warning message:\n",
      "“'compare' is deprecated.\n",
      "Use 'loo_compare' instead.\n",
      "See help(\"Deprecated\")”\n"
     ]
    },
    {
     "name": "stdout",
     "output_type": "stream",
     "text": [
      "    user   system  elapsed \n",
      "3452.468 2403.026  584.541 \n",
      "RA ~ Hair_Light_Brown \n"
     ]
    },
    {
     "name": "stderr",
     "output_type": "stream",
     "text": [
      "\u001b[1m\u001b[1mRows: \u001b[1m\u001b[22m\u001b[34m\u001b[34m1029912\u001b[34m\u001b[39m \u001b[1m\u001b[1mColumns: \u001b[1m\u001b[22m\u001b[34m\u001b[34m7\u001b[34m\u001b[39m\n",
      "\n",
      "\u001b[36m──\u001b[39m \u001b[1m\u001b[1mColumn specification\u001b[1m\u001b[22m \u001b[36m────────────────────────────────────────────────────────────────────────────────────────────────────────\u001b[39m\n",
      "\u001b[1mDelimiter:\u001b[22m \"\\t\"\n",
      "\u001b[31mchr\u001b[39m (3): SNP, A1, A2\n",
      "\u001b[32mdbl\u001b[39m (4): Z, N, chi2, P\n",
      "\n",
      "\n",
      "\u001b[36mℹ\u001b[39m Use \u001b[30m\u001b[47m\u001b[30m\u001b[47m`spec()`\u001b[47m\u001b[30m\u001b[49m\u001b[39m to retrieve the full column specification for this data.\n",
      "\u001b[36mℹ\u001b[39m Specify the column types or set \u001b[30m\u001b[47m\u001b[30m\u001b[47m`show_col_types = FALSE`\u001b[47m\u001b[30m\u001b[49m\u001b[39m to quiet this message.\n",
      "\n",
      "\u001b[1m\u001b[1mRows: \u001b[1m\u001b[22m\u001b[34m\u001b[34m1037742\u001b[34m\u001b[39m \u001b[1m\u001b[1mColumns: \u001b[1m\u001b[22m\u001b[34m\u001b[34m7\u001b[34m\u001b[39m\n",
      "\n",
      "\u001b[36m──\u001b[39m \u001b[1m\u001b[1mColumn specification\u001b[1m\u001b[22m \u001b[36m────────────────────────────────────────────────────────────────────────────────────────────────────────\u001b[39m\n",
      "\u001b[1mDelimiter:\u001b[22m \"\\t\"\n",
      "\u001b[31mchr\u001b[39m (3): SNP, A1, A2\n",
      "\u001b[32mdbl\u001b[39m (4): Z, N, chi2, P\n",
      "\n",
      "\n",
      "\u001b[36mℹ\u001b[39m Use \u001b[30m\u001b[47m\u001b[30m\u001b[47m`spec()`\u001b[47m\u001b[30m\u001b[49m\u001b[39m to retrieve the full column specification for this data.\n",
      "\u001b[36mℹ\u001b[39m Specify the column types or set \u001b[30m\u001b[47m\u001b[30m\u001b[47m`show_col_types = FALSE`\u001b[47m\u001b[30m\u001b[49m\u001b[39m to quiet this message.\n",
      "\n"
     ]
    },
    {
     "name": "stdout",
     "output_type": "stream",
     "text": [
      "Formatting X1\n",
      "There are  1029912  variants.\n",
      "Removing  0  duplicated variants leaving  1029912 variants.\n",
      "No variants have illegal alleles.\n",
      "Removed  0  variants with ambiguous strand.\n",
      "Flipping strand and effect allele so A1 is always A\n",
      "Returning  1029912  variants.\n",
      "Formatting X2\n",
      "There are  1037742  variants.\n",
      "Removing  0  duplicated variants leaving  1037742 variants.\n",
      "No variants have illegal alleles.\n",
      "Removed  0  variants with ambiguous strand.\n",
      "Flipping strand and effect allele so A1 is always A\n",
      "Returning  1037742  variants.\n",
      "After merging and removing variants with inconsistent alleles,  there are  1029612  variants that are present in both studies and can be used with CAUSE.\n"
     ]
    },
    {
     "name": "stderr",
     "output_type": "stream",
     "text": [
      "Clumping kQK4yn, 4360 variants, using EUR population reference\n",
      "\n",
      "Removing 3705 of 4360 variants due to LD with other variants or absence from LD reference panel\n",
      "\n"
     ]
    },
    {
     "name": "stdout",
     "output_type": "stream",
     "text": [
      "Estimating CAUSE parameters with  1000000  variants.\n",
      "1 0.02074165 \n",
      "2 1.059596e-05 \n",
      "3 1.323961e-08 \n",
      "Estimating CAUSE posteriors using  655  variants.\n"
     ]
    },
    {
     "name": "stderr",
     "output_type": "stream",
     "text": [
      "Warning message:\n",
      "“'compare' is deprecated.\n",
      "Use 'loo_compare' instead.\n",
      "See help(\"Deprecated\")”\n"
     ]
    },
    {
     "name": "stdout",
     "output_type": "stream",
     "text": [
      "    user   system  elapsed \n",
      "2061.918 1513.317  393.939 \n",
      "RA ~ Hair_Dark_Brown \n"
     ]
    },
    {
     "name": "stderr",
     "output_type": "stream",
     "text": [
      "\u001b[1m\u001b[1mRows: \u001b[1m\u001b[22m\u001b[34m\u001b[34m1029912\u001b[34m\u001b[39m \u001b[1m\u001b[1mColumns: \u001b[1m\u001b[22m\u001b[34m\u001b[34m7\u001b[34m\u001b[39m\n",
      "\n",
      "\u001b[36m──\u001b[39m \u001b[1m\u001b[1mColumn specification\u001b[1m\u001b[22m \u001b[36m────────────────────────────────────────────────────────────────────────────────────────────────────────\u001b[39m\n",
      "\u001b[1mDelimiter:\u001b[22m \"\\t\"\n",
      "\u001b[31mchr\u001b[39m (3): SNP, A1, A2\n",
      "\u001b[32mdbl\u001b[39m (4): Z, N, chi2, P\n",
      "\n",
      "\n",
      "\u001b[36mℹ\u001b[39m Use \u001b[30m\u001b[47m\u001b[30m\u001b[47m`spec()`\u001b[47m\u001b[30m\u001b[49m\u001b[39m to retrieve the full column specification for this data.\n",
      "\u001b[36mℹ\u001b[39m Specify the column types or set \u001b[30m\u001b[47m\u001b[30m\u001b[47m`show_col_types = FALSE`\u001b[47m\u001b[30m\u001b[49m\u001b[39m to quiet this message.\n",
      "\n",
      "\u001b[1m\u001b[1mRows: \u001b[1m\u001b[22m\u001b[34m\u001b[34m1037381\u001b[34m\u001b[39m \u001b[1m\u001b[1mColumns: \u001b[1m\u001b[22m\u001b[34m\u001b[34m7\u001b[34m\u001b[39m\n",
      "\n",
      "\u001b[36m──\u001b[39m \u001b[1m\u001b[1mColumn specification\u001b[1m\u001b[22m \u001b[36m────────────────────────────────────────────────────────────────────────────────────────────────────────\u001b[39m\n",
      "\u001b[1mDelimiter:\u001b[22m \"\\t\"\n",
      "\u001b[31mchr\u001b[39m (3): SNP, A1, A2\n",
      "\u001b[32mdbl\u001b[39m (4): Z, N, chi2, P\n",
      "\n",
      "\n",
      "\u001b[36mℹ\u001b[39m Use \u001b[30m\u001b[47m\u001b[30m\u001b[47m`spec()`\u001b[47m\u001b[30m\u001b[49m\u001b[39m to retrieve the full column specification for this data.\n",
      "\u001b[36mℹ\u001b[39m Specify the column types or set \u001b[30m\u001b[47m\u001b[30m\u001b[47m`show_col_types = FALSE`\u001b[47m\u001b[30m\u001b[49m\u001b[39m to quiet this message.\n",
      "\n"
     ]
    },
    {
     "name": "stdout",
     "output_type": "stream",
     "text": [
      "Formatting X1\n",
      "There are  1029912  variants.\n",
      "Removing  0  duplicated variants leaving  1029912 variants.\n",
      "No variants have illegal alleles.\n",
      "Removed  0  variants with ambiguous strand.\n",
      "Flipping strand and effect allele so A1 is always A\n",
      "Returning  1029912  variants.\n",
      "Formatting X2\n",
      "There are  1037381  variants.\n",
      "Removing  0  duplicated variants leaving  1037381 variants.\n",
      "No variants have illegal alleles.\n",
      "Removed  0  variants with ambiguous strand.\n",
      "Flipping strand and effect allele so A1 is always A\n",
      "Returning  1037381  variants.\n",
      "After merging and removing variants with inconsistent alleles,  there are  1029251  variants that are present in both studies and can be used with CAUSE.\n"
     ]
    },
    {
     "name": "stderr",
     "output_type": "stream",
     "text": [
      "Clumping VUDsRT, 4356 variants, using EUR population reference\n",
      "\n",
      "Removing 3700 of 4356 variants due to LD with other variants or absence from LD reference panel\n",
      "\n"
     ]
    },
    {
     "name": "stdout",
     "output_type": "stream",
     "text": [
      "Estimating CAUSE parameters with  1000000  variants.\n",
      "1 0.02342488 \n",
      "2 9.638079e-06 \n",
      "3 1.072094e-08 \n",
      "Estimating CAUSE posteriors using  656  variants.\n"
     ]
    },
    {
     "name": "stderr",
     "output_type": "stream",
     "text": [
      "Warning message:\n",
      "“'compare' is deprecated.\n",
      "Use 'loo_compare' instead.\n",
      "See help(\"Deprecated\")”\n"
     ]
    },
    {
     "name": "stdout",
     "output_type": "stream",
     "text": [
      "    user   system  elapsed \n",
      "2071.707 1634.338  398.310 \n",
      "RA ~ Hair_Black \n"
     ]
    },
    {
     "name": "stderr",
     "output_type": "stream",
     "text": [
      "\u001b[1m\u001b[1mRows: \u001b[1m\u001b[22m\u001b[34m\u001b[34m1029912\u001b[34m\u001b[39m \u001b[1m\u001b[1mColumns: \u001b[1m\u001b[22m\u001b[34m\u001b[34m7\u001b[34m\u001b[39m\n",
      "\n",
      "\u001b[36m──\u001b[39m \u001b[1m\u001b[1mColumn specification\u001b[1m\u001b[22m \u001b[36m────────────────────────────────────────────────────────────────────────────────────────────────────────\u001b[39m\n",
      "\u001b[1mDelimiter:\u001b[22m \"\\t\"\n",
      "\u001b[31mchr\u001b[39m (3): SNP, A1, A2\n",
      "\u001b[32mdbl\u001b[39m (4): Z, N, chi2, P\n",
      "\n",
      "\n",
      "\u001b[36mℹ\u001b[39m Use \u001b[30m\u001b[47m\u001b[30m\u001b[47m`spec()`\u001b[47m\u001b[30m\u001b[49m\u001b[39m to retrieve the full column specification for this data.\n",
      "\u001b[36mℹ\u001b[39m Specify the column types or set \u001b[30m\u001b[47m\u001b[30m\u001b[47m`show_col_types = FALSE`\u001b[47m\u001b[30m\u001b[49m\u001b[39m to quiet this message.\n",
      "\n",
      "\u001b[1m\u001b[1mRows: \u001b[1m\u001b[22m\u001b[34m\u001b[34m1037702\u001b[34m\u001b[39m \u001b[1m\u001b[1mColumns: \u001b[1m\u001b[22m\u001b[34m\u001b[34m7\u001b[34m\u001b[39m\n",
      "\n",
      "\u001b[36m──\u001b[39m \u001b[1m\u001b[1mColumn specification\u001b[1m\u001b[22m \u001b[36m────────────────────────────────────────────────────────────────────────────────────────────────────────\u001b[39m\n",
      "\u001b[1mDelimiter:\u001b[22m \"\\t\"\n",
      "\u001b[31mchr\u001b[39m (3): SNP, A1, A2\n",
      "\u001b[32mdbl\u001b[39m (4): Z, N, chi2, P\n",
      "\n",
      "\n",
      "\u001b[36mℹ\u001b[39m Use \u001b[30m\u001b[47m\u001b[30m\u001b[47m`spec()`\u001b[47m\u001b[30m\u001b[49m\u001b[39m to retrieve the full column specification for this data.\n",
      "\u001b[36mℹ\u001b[39m Specify the column types or set \u001b[30m\u001b[47m\u001b[30m\u001b[47m`show_col_types = FALSE`\u001b[47m\u001b[30m\u001b[49m\u001b[39m to quiet this message.\n",
      "\n"
     ]
    },
    {
     "name": "stdout",
     "output_type": "stream",
     "text": [
      "Formatting X1\n",
      "There are  1029912  variants.\n",
      "Removing  0  duplicated variants leaving  1029912 variants.\n",
      "No variants have illegal alleles.\n",
      "Removed  0  variants with ambiguous strand.\n",
      "Flipping strand and effect allele so A1 is always A\n",
      "Returning  1029912  variants.\n",
      "Formatting X2\n",
      "There are  1037702  variants.\n",
      "Removing  0  duplicated variants leaving  1037702 variants.\n",
      "No variants have illegal alleles.\n",
      "Removed  0  variants with ambiguous strand.\n",
      "Flipping strand and effect allele so A1 is always A\n",
      "Returning  1037702  variants.\n",
      "After merging and removing variants with inconsistent alleles,  there are  1029571  variants that are present in both studies and can be used with CAUSE.\n"
     ]
    },
    {
     "name": "stderr",
     "output_type": "stream",
     "text": [
      "Clumping CmHmjS, 4357 variants, using EUR population reference\n",
      "\n",
      "Removing 3701 of 4357 variants due to LD with other variants or absence from LD reference panel\n",
      "\n"
     ]
    },
    {
     "name": "stdout",
     "output_type": "stream",
     "text": [
      "Estimating CAUSE parameters with  1000000  variants.\n",
      "1 0.0210899 \n",
      "2 3.058407e-06 \n",
      "3 6.882255e-09 \n",
      "Estimating CAUSE posteriors using  656  variants.\n"
     ]
    },
    {
     "name": "stderr",
     "output_type": "stream",
     "text": [
      "Warning message:\n",
      "“'compare' is deprecated.\n",
      "Use 'loo_compare' instead.\n",
      "See help(\"Deprecated\")”\n"
     ]
    },
    {
     "name": "stdout",
     "output_type": "stream",
     "text": [
      "    user   system  elapsed \n",
      "1807.673 1401.967  351.721 \n",
      "RA ~ Hair_Blonde \n"
     ]
    },
    {
     "name": "stderr",
     "output_type": "stream",
     "text": [
      "\u001b[1m\u001b[1mRows: \u001b[1m\u001b[22m\u001b[34m\u001b[34m1029912\u001b[34m\u001b[39m \u001b[1m\u001b[1mColumns: \u001b[1m\u001b[22m\u001b[34m\u001b[34m7\u001b[34m\u001b[39m\n",
      "\n",
      "\u001b[36m──\u001b[39m \u001b[1m\u001b[1mColumn specification\u001b[1m\u001b[22m \u001b[36m────────────────────────────────────────────────────────────────────────────────────────────────────────\u001b[39m\n",
      "\u001b[1mDelimiter:\u001b[22m \"\\t\"\n",
      "\u001b[31mchr\u001b[39m (3): SNP, A1, A2\n",
      "\u001b[32mdbl\u001b[39m (4): Z, N, chi2, P\n",
      "\n",
      "\n",
      "\u001b[36mℹ\u001b[39m Use \u001b[30m\u001b[47m\u001b[30m\u001b[47m`spec()`\u001b[47m\u001b[30m\u001b[49m\u001b[39m to retrieve the full column specification for this data.\n",
      "\u001b[36mℹ\u001b[39m Specify the column types or set \u001b[30m\u001b[47m\u001b[30m\u001b[47m`show_col_types = FALSE`\u001b[47m\u001b[30m\u001b[49m\u001b[39m to quiet this message.\n",
      "\n",
      "\u001b[1m\u001b[1mRows: \u001b[1m\u001b[22m\u001b[34m\u001b[34m1037533\u001b[34m\u001b[39m \u001b[1m\u001b[1mColumns: \u001b[1m\u001b[22m\u001b[34m\u001b[34m7\u001b[34m\u001b[39m\n",
      "\n",
      "\u001b[36m──\u001b[39m \u001b[1m\u001b[1mColumn specification\u001b[1m\u001b[22m \u001b[36m────────────────────────────────────────────────────────────────────────────────────────────────────────\u001b[39m\n",
      "\u001b[1mDelimiter:\u001b[22m \"\\t\"\n",
      "\u001b[31mchr\u001b[39m (3): SNP, A1, A2\n",
      "\u001b[32mdbl\u001b[39m (4): Z, N, chi2, P\n",
      "\n",
      "\n",
      "\u001b[36mℹ\u001b[39m Use \u001b[30m\u001b[47m\u001b[30m\u001b[47m`spec()`\u001b[47m\u001b[30m\u001b[49m\u001b[39m to retrieve the full column specification for this data.\n",
      "\u001b[36mℹ\u001b[39m Specify the column types or set \u001b[30m\u001b[47m\u001b[30m\u001b[47m`show_col_types = FALSE`\u001b[47m\u001b[30m\u001b[49m\u001b[39m to quiet this message.\n",
      "\n"
     ]
    },
    {
     "name": "stdout",
     "output_type": "stream",
     "text": [
      "Formatting X1\n",
      "There are  1029912  variants.\n",
      "Removing  0  duplicated variants leaving  1029912 variants.\n",
      "No variants have illegal alleles.\n",
      "Removed  0  variants with ambiguous strand.\n",
      "Flipping strand and effect allele so A1 is always A\n",
      "Returning  1029912  variants.\n",
      "Formatting X2\n",
      "There are  1037533  variants.\n",
      "Removing  0  duplicated variants leaving  1037533 variants.\n",
      "No variants have illegal alleles.\n",
      "Removed  0  variants with ambiguous strand.\n",
      "Flipping strand and effect allele so A1 is always A\n",
      "Returning  1037533  variants.\n",
      "After merging and removing variants with inconsistent alleles,  there are  1029403  variants that are present in both studies and can be used with CAUSE.\n"
     ]
    },
    {
     "name": "stderr",
     "output_type": "stream",
     "text": [
      "Clumping ZhQKbf, 4357 variants, using EUR population reference\n",
      "\n",
      "Removing 3701 of 4357 variants due to LD with other variants or absence from LD reference panel\n",
      "\n"
     ]
    },
    {
     "name": "stdout",
     "output_type": "stream",
     "text": [
      "Estimating CAUSE parameters with  1000000  variants.\n",
      "1 0.008792932 \n",
      "2 3.110878e-06 \n",
      "3 2.087408e-09 \n",
      "Estimating CAUSE posteriors using  656  variants.\n"
     ]
    },
    {
     "name": "stderr",
     "output_type": "stream",
     "text": [
      "Warning message:\n",
      "“'compare' is deprecated.\n",
      "Use 'loo_compare' instead.\n",
      "See help(\"Deprecated\")”\n"
     ]
    },
    {
     "name": "stdout",
     "output_type": "stream",
     "text": [
      "    user   system  elapsed \n",
      "1959.114 1620.213  370.582 \n",
      "RA ~ Tanning \n"
     ]
    },
    {
     "name": "stderr",
     "output_type": "stream",
     "text": [
      "\u001b[1m\u001b[1mRows: \u001b[1m\u001b[22m\u001b[34m\u001b[34m1029912\u001b[34m\u001b[39m \u001b[1m\u001b[1mColumns: \u001b[1m\u001b[22m\u001b[34m\u001b[34m7\u001b[34m\u001b[39m\n",
      "\n",
      "\u001b[36m──\u001b[39m \u001b[1m\u001b[1mColumn specification\u001b[1m\u001b[22m \u001b[36m────────────────────────────────────────────────────────────────────────────────────────────────────────\u001b[39m\n",
      "\u001b[1mDelimiter:\u001b[22m \"\\t\"\n",
      "\u001b[31mchr\u001b[39m (3): SNP, A1, A2\n",
      "\u001b[32mdbl\u001b[39m (4): Z, N, chi2, P\n",
      "\n",
      "\n",
      "\u001b[36mℹ\u001b[39m Use \u001b[30m\u001b[47m\u001b[30m\u001b[47m`spec()`\u001b[47m\u001b[30m\u001b[49m\u001b[39m to retrieve the full column specification for this data.\n",
      "\u001b[36mℹ\u001b[39m Specify the column types or set \u001b[30m\u001b[47m\u001b[30m\u001b[47m`show_col_types = FALSE`\u001b[47m\u001b[30m\u001b[49m\u001b[39m to quiet this message.\n",
      "\n",
      "\u001b[1m\u001b[1mRows: \u001b[1m\u001b[22m\u001b[34m\u001b[34m1037026\u001b[34m\u001b[39m \u001b[1m\u001b[1mColumns: \u001b[1m\u001b[22m\u001b[34m\u001b[34m7\u001b[34m\u001b[39m\n",
      "\n",
      "\u001b[36m──\u001b[39m \u001b[1m\u001b[1mColumn specification\u001b[1m\u001b[22m \u001b[36m────────────────────────────────────────────────────────────────────────────────────────────────────────\u001b[39m\n",
      "\u001b[1mDelimiter:\u001b[22m \"\\t\"\n",
      "\u001b[31mchr\u001b[39m (3): SNP, A1, A2\n",
      "\u001b[32mdbl\u001b[39m (4): Z, N, chi2, P\n",
      "\n",
      "\n",
      "\u001b[36mℹ\u001b[39m Use \u001b[30m\u001b[47m\u001b[30m\u001b[47m`spec()`\u001b[47m\u001b[30m\u001b[49m\u001b[39m to retrieve the full column specification for this data.\n",
      "\u001b[36mℹ\u001b[39m Specify the column types or set \u001b[30m\u001b[47m\u001b[30m\u001b[47m`show_col_types = FALSE`\u001b[47m\u001b[30m\u001b[49m\u001b[39m to quiet this message.\n",
      "\n"
     ]
    },
    {
     "name": "stdout",
     "output_type": "stream",
     "text": [
      "Formatting X1\n",
      "There are  1029912  variants.\n",
      "Removing  0  duplicated variants leaving  1029912 variants.\n",
      "No variants have illegal alleles.\n",
      "Removed  0  variants with ambiguous strand.\n",
      "Flipping strand and effect allele so A1 is always A\n",
      "Returning  1029912  variants.\n",
      "Formatting X2\n",
      "There are  1037026  variants.\n",
      "Removing  0  duplicated variants leaving  1037026 variants.\n",
      "No variants have illegal alleles.\n",
      "Removed  0  variants with ambiguous strand.\n",
      "Flipping strand and effect allele so A1 is always A\n",
      "Returning  1037026  variants.\n",
      "After merging and removing variants with inconsistent alleles,  there are  1028903  variants that are present in both studies and can be used with CAUSE.\n"
     ]
    },
    {
     "name": "stderr",
     "output_type": "stream",
     "text": [
      "Clumping oPWFVb, 4353 variants, using EUR population reference\n",
      "\n",
      "Removing 3698 of 4353 variants due to LD with other variants or absence from LD reference panel\n",
      "\n"
     ]
    },
    {
     "name": "stdout",
     "output_type": "stream",
     "text": [
      "Estimating CAUSE parameters with  1000000  variants.\n",
      "1 0.01257461 \n",
      "2 1.495839e-05 \n",
      "3 2.186636e-08 \n",
      "Estimating CAUSE posteriors using  655  variants.\n"
     ]
    },
    {
     "name": "stderr",
     "output_type": "stream",
     "text": [
      "Warning message:\n",
      "“'compare' is deprecated.\n",
      "Use 'loo_compare' instead.\n",
      "See help(\"Deprecated\")”\n"
     ]
    },
    {
     "name": "stdout",
     "output_type": "stream",
     "text": [
      "    user   system  elapsed \n",
      "1869.411 1529.991  373.645 \n",
      "T2D ~ Hair_Light_Brown \n"
     ]
    },
    {
     "name": "stderr",
     "output_type": "stream",
     "text": [
      "\u001b[1m\u001b[1mRows: \u001b[1m\u001b[22m\u001b[34m\u001b[34m1048310\u001b[34m\u001b[39m \u001b[1m\u001b[1mColumns: \u001b[1m\u001b[22m\u001b[34m\u001b[34m7\u001b[34m\u001b[39m\n",
      "\n",
      "\u001b[36m──\u001b[39m \u001b[1m\u001b[1mColumn specification\u001b[1m\u001b[22m \u001b[36m────────────────────────────────────────────────────────────────────────────────────────────────────────\u001b[39m\n",
      "\u001b[1mDelimiter:\u001b[22m \"\\t\"\n",
      "\u001b[31mchr\u001b[39m (3): SNP, A1, A2\n",
      "\u001b[32mdbl\u001b[39m (4): Z, N, chi2, P\n",
      "\n",
      "\n",
      "\u001b[36mℹ\u001b[39m Use \u001b[30m\u001b[47m\u001b[30m\u001b[47m`spec()`\u001b[47m\u001b[30m\u001b[49m\u001b[39m to retrieve the full column specification for this data.\n",
      "\u001b[36mℹ\u001b[39m Specify the column types or set \u001b[30m\u001b[47m\u001b[30m\u001b[47m`show_col_types = FALSE`\u001b[47m\u001b[30m\u001b[49m\u001b[39m to quiet this message.\n",
      "\n",
      "\u001b[1m\u001b[1mRows: \u001b[1m\u001b[22m\u001b[34m\u001b[34m1037742\u001b[34m\u001b[39m \u001b[1m\u001b[1mColumns: \u001b[1m\u001b[22m\u001b[34m\u001b[34m7\u001b[34m\u001b[39m\n",
      "\n",
      "\u001b[36m──\u001b[39m \u001b[1m\u001b[1mColumn specification\u001b[1m\u001b[22m \u001b[36m────────────────────────────────────────────────────────────────────────────────────────────────────────\u001b[39m\n",
      "\u001b[1mDelimiter:\u001b[22m \"\\t\"\n",
      "\u001b[31mchr\u001b[39m (3): SNP, A1, A2\n",
      "\u001b[32mdbl\u001b[39m (4): Z, N, chi2, P\n",
      "\n",
      "\n",
      "\u001b[36mℹ\u001b[39m Use \u001b[30m\u001b[47m\u001b[30m\u001b[47m`spec()`\u001b[47m\u001b[30m\u001b[49m\u001b[39m to retrieve the full column specification for this data.\n",
      "\u001b[36mℹ\u001b[39m Specify the column types or set \u001b[30m\u001b[47m\u001b[30m\u001b[47m`show_col_types = FALSE`\u001b[47m\u001b[30m\u001b[49m\u001b[39m to quiet this message.\n",
      "\n"
     ]
    },
    {
     "name": "stdout",
     "output_type": "stream",
     "text": [
      "Formatting X1\n",
      "There are  1048310  variants.\n",
      "Removing  0  duplicated variants leaving  1048310 variants.\n",
      "No variants have illegal alleles.\n",
      "Removed  0  variants with ambiguous strand.\n",
      "Flipping strand and effect allele so A1 is always A\n",
      "Returning  1048310  variants.\n",
      "Formatting X2\n",
      "There are  1037742  variants.\n",
      "Removing  0  duplicated variants leaving  1037742 variants.\n",
      "No variants have illegal alleles.\n",
      "Removed  0  variants with ambiguous strand.\n",
      "Flipping strand and effect allele so A1 is always A\n",
      "Returning  1037742  variants.\n",
      "After merging and removing variants with inconsistent alleles,  there are  1003558  variants that are present in both studies and can be used with CAUSE.\n"
     ]
    },
    {
     "name": "stderr",
     "output_type": "stream",
     "text": [
      "Clumping e1r8I2, 25537 variants, using EUR population reference\n",
      "\n",
      "Removing 22698 of 25537 variants due to LD with other variants or absence from LD reference panel\n",
      "\n"
     ]
    },
    {
     "name": "stdout",
     "output_type": "stream",
     "text": [
      "Estimating CAUSE parameters with  1000000  variants.\n",
      "1 0.02170761 \n",
      "2 4.524506e-05 \n",
      "3 1.31479e-07 \n",
      "4 4.459748e-09 \n",
      "Estimating CAUSE posteriors using  2839  variants.\n"
     ]
    },
    {
     "name": "stderr",
     "output_type": "stream",
     "text": [
      "Warning message:\n",
      "“'compare' is deprecated.\n",
      "Use 'loo_compare' instead.\n",
      "See help(\"Deprecated\")”\n"
     ]
    },
    {
     "name": "stdout",
     "output_type": "stream",
     "text": [
      "    user   system  elapsed \n",
      "3571.991 2067.953  541.531 \n",
      "T2D ~ Hair_Dark_Brown \n"
     ]
    },
    {
     "name": "stderr",
     "output_type": "stream",
     "text": [
      "\u001b[1m\u001b[1mRows: \u001b[1m\u001b[22m\u001b[34m\u001b[34m1048310\u001b[34m\u001b[39m \u001b[1m\u001b[1mColumns: \u001b[1m\u001b[22m\u001b[34m\u001b[34m7\u001b[34m\u001b[39m\n",
      "\n",
      "\u001b[36m──\u001b[39m \u001b[1m\u001b[1mColumn specification\u001b[1m\u001b[22m \u001b[36m────────────────────────────────────────────────────────────────────────────────────────────────────────\u001b[39m\n",
      "\u001b[1mDelimiter:\u001b[22m \"\\t\"\n",
      "\u001b[31mchr\u001b[39m (3): SNP, A1, A2\n",
      "\u001b[32mdbl\u001b[39m (4): Z, N, chi2, P\n",
      "\n",
      "\n",
      "\u001b[36mℹ\u001b[39m Use \u001b[30m\u001b[47m\u001b[30m\u001b[47m`spec()`\u001b[47m\u001b[30m\u001b[49m\u001b[39m to retrieve the full column specification for this data.\n",
      "\u001b[36mℹ\u001b[39m Specify the column types or set \u001b[30m\u001b[47m\u001b[30m\u001b[47m`show_col_types = FALSE`\u001b[47m\u001b[30m\u001b[49m\u001b[39m to quiet this message.\n",
      "\n",
      "\u001b[1m\u001b[1mRows: \u001b[1m\u001b[22m\u001b[34m\u001b[34m1037381\u001b[34m\u001b[39m \u001b[1m\u001b[1mColumns: \u001b[1m\u001b[22m\u001b[34m\u001b[34m7\u001b[34m\u001b[39m\n",
      "\n",
      "\u001b[36m──\u001b[39m \u001b[1m\u001b[1mColumn specification\u001b[1m\u001b[22m \u001b[36m────────────────────────────────────────────────────────────────────────────────────────────────────────\u001b[39m\n",
      "\u001b[1mDelimiter:\u001b[22m \"\\t\"\n",
      "\u001b[31mchr\u001b[39m (3): SNP, A1, A2\n",
      "\u001b[32mdbl\u001b[39m (4): Z, N, chi2, P\n",
      "\n",
      "\n",
      "\u001b[36mℹ\u001b[39m Use \u001b[30m\u001b[47m\u001b[30m\u001b[47m`spec()`\u001b[47m\u001b[30m\u001b[49m\u001b[39m to retrieve the full column specification for this data.\n",
      "\u001b[36mℹ\u001b[39m Specify the column types or set \u001b[30m\u001b[47m\u001b[30m\u001b[47m`show_col_types = FALSE`\u001b[47m\u001b[30m\u001b[49m\u001b[39m to quiet this message.\n",
      "\n"
     ]
    },
    {
     "name": "stdout",
     "output_type": "stream",
     "text": [
      "Formatting X1\n",
      "There are  1048310  variants.\n",
      "Removing  0  duplicated variants leaving  1048310 variants.\n",
      "No variants have illegal alleles.\n",
      "Removed  0  variants with ambiguous strand.\n",
      "Flipping strand and effect allele so A1 is always A\n",
      "Returning  1048310  variants.\n",
      "Formatting X2\n",
      "There are  1037381  variants.\n",
      "Removing  0  duplicated variants leaving  1037381 variants.\n",
      "No variants have illegal alleles.\n",
      "Removed  0  variants with ambiguous strand.\n",
      "Flipping strand and effect allele so A1 is always A\n",
      "Returning  1037381  variants.\n",
      "After merging and removing variants with inconsistent alleles,  there are  1003204  variants that are present in both studies and can be used with CAUSE.\n"
     ]
    },
    {
     "name": "stderr",
     "output_type": "stream",
     "text": [
      "Clumping wEUWAJ, 25523 variants, using EUR population reference\n",
      "\n",
      "Removing 22687 of 25523 variants due to LD with other variants or absence from LD reference panel\n",
      "\n"
     ]
    },
    {
     "name": "stdout",
     "output_type": "stream",
     "text": [
      "Estimating CAUSE parameters with  1000000  variants.\n",
      "1 0.01232924 \n",
      "2 5.197166e-06 \n",
      "3 3.736601e-09 \n",
      "Estimating CAUSE posteriors using  2836  variants.\n"
     ]
    },
    {
     "name": "stderr",
     "output_type": "stream",
     "text": [
      "Warning message:\n",
      "“'compare' is deprecated.\n",
      "Use 'loo_compare' instead.\n",
      "See help(\"Deprecated\")”\n"
     ]
    },
    {
     "name": "stdout",
     "output_type": "stream",
     "text": [
      "    user   system  elapsed \n",
      "3366.003 1839.540  492.917 \n",
      "T2D ~ Hair_Black \n"
     ]
    },
    {
     "name": "stderr",
     "output_type": "stream",
     "text": [
      "\u001b[1m\u001b[1mRows: \u001b[1m\u001b[22m\u001b[34m\u001b[34m1048310\u001b[34m\u001b[39m \u001b[1m\u001b[1mColumns: \u001b[1m\u001b[22m\u001b[34m\u001b[34m7\u001b[34m\u001b[39m\n",
      "\n",
      "\u001b[36m──\u001b[39m \u001b[1m\u001b[1mColumn specification\u001b[1m\u001b[22m \u001b[36m────────────────────────────────────────────────────────────────────────────────────────────────────────\u001b[39m\n",
      "\u001b[1mDelimiter:\u001b[22m \"\\t\"\n",
      "\u001b[31mchr\u001b[39m (3): SNP, A1, A2\n",
      "\u001b[32mdbl\u001b[39m (4): Z, N, chi2, P\n",
      "\n",
      "\n",
      "\u001b[36mℹ\u001b[39m Use \u001b[30m\u001b[47m\u001b[30m\u001b[47m`spec()`\u001b[47m\u001b[30m\u001b[49m\u001b[39m to retrieve the full column specification for this data.\n",
      "\u001b[36mℹ\u001b[39m Specify the column types or set \u001b[30m\u001b[47m\u001b[30m\u001b[47m`show_col_types = FALSE`\u001b[47m\u001b[30m\u001b[49m\u001b[39m to quiet this message.\n",
      "\n",
      "\u001b[1m\u001b[1mRows: \u001b[1m\u001b[22m\u001b[34m\u001b[34m1037702\u001b[34m\u001b[39m \u001b[1m\u001b[1mColumns: \u001b[1m\u001b[22m\u001b[34m\u001b[34m7\u001b[34m\u001b[39m\n",
      "\n",
      "\u001b[36m──\u001b[39m \u001b[1m\u001b[1mColumn specification\u001b[1m\u001b[22m \u001b[36m────────────────────────────────────────────────────────────────────────────────────────────────────────\u001b[39m\n",
      "\u001b[1mDelimiter:\u001b[22m \"\\t\"\n",
      "\u001b[31mchr\u001b[39m (3): SNP, A1, A2\n",
      "\u001b[32mdbl\u001b[39m (4): Z, N, chi2, P\n",
      "\n",
      "\n",
      "\u001b[36mℹ\u001b[39m Use \u001b[30m\u001b[47m\u001b[30m\u001b[47m`spec()`\u001b[47m\u001b[30m\u001b[49m\u001b[39m to retrieve the full column specification for this data.\n",
      "\u001b[36mℹ\u001b[39m Specify the column types or set \u001b[30m\u001b[47m\u001b[30m\u001b[47m`show_col_types = FALSE`\u001b[47m\u001b[30m\u001b[49m\u001b[39m to quiet this message.\n",
      "\n"
     ]
    },
    {
     "name": "stdout",
     "output_type": "stream",
     "text": [
      "Formatting X1\n",
      "There are  1048310  variants.\n",
      "Removing  0  duplicated variants leaving  1048310 variants.\n",
      "No variants have illegal alleles.\n",
      "Removed  0  variants with ambiguous strand.\n",
      "Flipping strand and effect allele so A1 is always A\n",
      "Returning  1048310  variants.\n",
      "Formatting X2\n",
      "There are  1037702  variants.\n",
      "Removing  0  duplicated variants leaving  1037702 variants.\n",
      "No variants have illegal alleles.\n",
      "Removed  0  variants with ambiguous strand.\n",
      "Flipping strand and effect allele so A1 is always A\n",
      "Returning  1037702  variants.\n",
      "After merging and removing variants with inconsistent alleles,  there are  1003520  variants that are present in both studies and can be used with CAUSE.\n"
     ]
    },
    {
     "name": "stderr",
     "output_type": "stream",
     "text": [
      "Clumping 1FPZGI, 25535 variants, using EUR population reference\n",
      "\n",
      "Removing 22698 of 25535 variants due to LD with other variants or absence from LD reference panel\n",
      "\n"
     ]
    },
    {
     "name": "stdout",
     "output_type": "stream",
     "text": [
      "Estimating CAUSE parameters with  1000000  variants.\n",
      "1 0.04627985 \n",
      "2 0.0001236028 \n",
      "3 6.698689e-07 \n",
      "4 4.612554e-09 \n",
      "Estimating CAUSE posteriors using  2837  variants.\n"
     ]
    },
    {
     "name": "stderr",
     "output_type": "stream",
     "text": [
      "Warning message:\n",
      "“'compare' is deprecated.\n",
      "Use 'loo_compare' instead.\n",
      "See help(\"Deprecated\")”\n"
     ]
    },
    {
     "name": "stdout",
     "output_type": "stream",
     "text": [
      "    user   system  elapsed \n",
      "3516.379 2012.696  511.154 \n",
      "T2D ~ Hair_Blonde \n"
     ]
    },
    {
     "name": "stderr",
     "output_type": "stream",
     "text": [
      "\u001b[1m\u001b[1mRows: \u001b[1m\u001b[22m\u001b[34m\u001b[34m1048310\u001b[34m\u001b[39m \u001b[1m\u001b[1mColumns: \u001b[1m\u001b[22m\u001b[34m\u001b[34m7\u001b[34m\u001b[39m\n",
      "\n",
      "\u001b[36m──\u001b[39m \u001b[1m\u001b[1mColumn specification\u001b[1m\u001b[22m \u001b[36m────────────────────────────────────────────────────────────────────────────────────────────────────────\u001b[39m\n",
      "\u001b[1mDelimiter:\u001b[22m \"\\t\"\n",
      "\u001b[31mchr\u001b[39m (3): SNP, A1, A2\n",
      "\u001b[32mdbl\u001b[39m (4): Z, N, chi2, P\n",
      "\n",
      "\n",
      "\u001b[36mℹ\u001b[39m Use \u001b[30m\u001b[47m\u001b[30m\u001b[47m`spec()`\u001b[47m\u001b[30m\u001b[49m\u001b[39m to retrieve the full column specification for this data.\n",
      "\u001b[36mℹ\u001b[39m Specify the column types or set \u001b[30m\u001b[47m\u001b[30m\u001b[47m`show_col_types = FALSE`\u001b[47m\u001b[30m\u001b[49m\u001b[39m to quiet this message.\n",
      "\n",
      "\u001b[1m\u001b[1mRows: \u001b[1m\u001b[22m\u001b[34m\u001b[34m1037533\u001b[34m\u001b[39m \u001b[1m\u001b[1mColumns: \u001b[1m\u001b[22m\u001b[34m\u001b[34m7\u001b[34m\u001b[39m\n",
      "\n",
      "\u001b[36m──\u001b[39m \u001b[1m\u001b[1mColumn specification\u001b[1m\u001b[22m \u001b[36m────────────────────────────────────────────────────────────────────────────────────────────────────────\u001b[39m\n",
      "\u001b[1mDelimiter:\u001b[22m \"\\t\"\n",
      "\u001b[31mchr\u001b[39m (3): SNP, A1, A2\n",
      "\u001b[32mdbl\u001b[39m (4): Z, N, chi2, P\n",
      "\n",
      "\n",
      "\u001b[36mℹ\u001b[39m Use \u001b[30m\u001b[47m\u001b[30m\u001b[47m`spec()`\u001b[47m\u001b[30m\u001b[49m\u001b[39m to retrieve the full column specification for this data.\n",
      "\u001b[36mℹ\u001b[39m Specify the column types or set \u001b[30m\u001b[47m\u001b[30m\u001b[47m`show_col_types = FALSE`\u001b[47m\u001b[30m\u001b[49m\u001b[39m to quiet this message.\n",
      "\n"
     ]
    },
    {
     "name": "stdout",
     "output_type": "stream",
     "text": [
      "Formatting X1\n",
      "There are  1048310  variants.\n",
      "Removing  0  duplicated variants leaving  1048310 variants.\n",
      "No variants have illegal alleles.\n",
      "Removed  0  variants with ambiguous strand.\n",
      "Flipping strand and effect allele so A1 is always A\n",
      "Returning  1048310  variants.\n",
      "Formatting X2\n",
      "There are  1037533  variants.\n",
      "Removing  0  duplicated variants leaving  1037533 variants.\n",
      "No variants have illegal alleles.\n",
      "Removed  0  variants with ambiguous strand.\n",
      "Flipping strand and effect allele so A1 is always A\n",
      "Returning  1037533  variants.\n",
      "After merging and removing variants with inconsistent alleles,  there are  1003351  variants that are present in both studies and can be used with CAUSE.\n"
     ]
    },
    {
     "name": "stderr",
     "output_type": "stream",
     "text": [
      "Clumping rd6wIk, 25535 variants, using EUR population reference\n",
      "\n",
      "Removing 22698 of 25535 variants due to LD with other variants or absence from LD reference panel\n",
      "\n"
     ]
    },
    {
     "name": "stdout",
     "output_type": "stream",
     "text": [
      "Estimating CAUSE parameters with  1000000  variants.\n",
      "1 0.009875363 \n",
      "2 4.391547e-06 \n",
      "3 2.274213e-09 \n",
      "Estimating CAUSE posteriors using  2837  variants.\n"
     ]
    },
    {
     "name": "stderr",
     "output_type": "stream",
     "text": [
      "Warning message:\n",
      "“'compare' is deprecated.\n",
      "Use 'loo_compare' instead.\n",
      "See help(\"Deprecated\")”\n"
     ]
    },
    {
     "name": "stdout",
     "output_type": "stream",
     "text": [
      "    user   system  elapsed \n",
      "3030.458 1766.671  440.537 \n",
      "T2D ~ Tanning \n"
     ]
    },
    {
     "name": "stderr",
     "output_type": "stream",
     "text": [
      "\u001b[1m\u001b[1mRows: \u001b[1m\u001b[22m\u001b[34m\u001b[34m1048310\u001b[34m\u001b[39m \u001b[1m\u001b[1mColumns: \u001b[1m\u001b[22m\u001b[34m\u001b[34m7\u001b[34m\u001b[39m\n",
      "\n",
      "\u001b[36m──\u001b[39m \u001b[1m\u001b[1mColumn specification\u001b[1m\u001b[22m \u001b[36m────────────────────────────────────────────────────────────────────────────────────────────────────────\u001b[39m\n",
      "\u001b[1mDelimiter:\u001b[22m \"\\t\"\n",
      "\u001b[31mchr\u001b[39m (3): SNP, A1, A2\n",
      "\u001b[32mdbl\u001b[39m (4): Z, N, chi2, P\n",
      "\n",
      "\n",
      "\u001b[36mℹ\u001b[39m Use \u001b[30m\u001b[47m\u001b[30m\u001b[47m`spec()`\u001b[47m\u001b[30m\u001b[49m\u001b[39m to retrieve the full column specification for this data.\n",
      "\u001b[36mℹ\u001b[39m Specify the column types or set \u001b[30m\u001b[47m\u001b[30m\u001b[47m`show_col_types = FALSE`\u001b[47m\u001b[30m\u001b[49m\u001b[39m to quiet this message.\n",
      "\n",
      "\u001b[1m\u001b[1mRows: \u001b[1m\u001b[22m\u001b[34m\u001b[34m1037026\u001b[34m\u001b[39m \u001b[1m\u001b[1mColumns: \u001b[1m\u001b[22m\u001b[34m\u001b[34m7\u001b[34m\u001b[39m\n",
      "\n",
      "\u001b[36m──\u001b[39m \u001b[1m\u001b[1mColumn specification\u001b[1m\u001b[22m \u001b[36m────────────────────────────────────────────────────────────────────────────────────────────────────────\u001b[39m\n",
      "\u001b[1mDelimiter:\u001b[22m \"\\t\"\n",
      "\u001b[31mchr\u001b[39m (3): SNP, A1, A2\n",
      "\u001b[32mdbl\u001b[39m (4): Z, N, chi2, P\n",
      "\n",
      "\n",
      "\u001b[36mℹ\u001b[39m Use \u001b[30m\u001b[47m\u001b[30m\u001b[47m`spec()`\u001b[47m\u001b[30m\u001b[49m\u001b[39m to retrieve the full column specification for this data.\n",
      "\u001b[36mℹ\u001b[39m Specify the column types or set \u001b[30m\u001b[47m\u001b[30m\u001b[47m`show_col_types = FALSE`\u001b[47m\u001b[30m\u001b[49m\u001b[39m to quiet this message.\n",
      "\n"
     ]
    },
    {
     "name": "stdout",
     "output_type": "stream",
     "text": [
      "Formatting X1\n",
      "There are  1048310  variants.\n",
      "Removing  0  duplicated variants leaving  1048310 variants.\n",
      "No variants have illegal alleles.\n",
      "Removed  0  variants with ambiguous strand.\n",
      "Flipping strand and effect allele so A1 is always A\n",
      "Returning  1048310  variants.\n",
      "Formatting X2\n",
      "There are  1037026  variants.\n",
      "Removing  0  duplicated variants leaving  1037026 variants.\n",
      "No variants have illegal alleles.\n",
      "Removed  0  variants with ambiguous strand.\n",
      "Flipping strand and effect allele so A1 is always A\n",
      "Returning  1037026  variants.\n",
      "After merging and removing variants with inconsistent alleles,  there are  1002865  variants that are present in both studies and can be used with CAUSE.\n"
     ]
    },
    {
     "name": "stderr",
     "output_type": "stream",
     "text": [
      "Clumping o2fdyf, 25383 variants, using EUR population reference\n",
      "\n",
      "Removing 22549 of 25383 variants due to LD with other variants or absence from LD reference panel\n",
      "\n"
     ]
    },
    {
     "name": "stdout",
     "output_type": "stream",
     "text": [
      "Estimating CAUSE parameters with  1000000  variants.\n",
      "1 0.02505948 \n",
      "2 1.724761e-05 \n",
      "3 2.237005e-08 \n",
      "Estimating CAUSE posteriors using  2834  variants.\n"
     ]
    },
    {
     "name": "stderr",
     "output_type": "stream",
     "text": [
      "Warning message:\n",
      "“'compare' is deprecated.\n",
      "Use 'loo_compare' instead.\n",
      "See help(\"Deprecated\")”\n"
     ]
    },
    {
     "name": "stdout",
     "output_type": "stream",
     "text": [
      "    user   system  elapsed \n",
      "3078.541 1634.181  458.384 \n",
      "Alcohol ~ Hair_Light_Brown \n"
     ]
    },
    {
     "name": "stderr",
     "output_type": "stream",
     "text": [
      "\u001b[1m\u001b[1mRows: \u001b[1m\u001b[22m\u001b[34m\u001b[34m1084534\u001b[34m\u001b[39m \u001b[1m\u001b[1mColumns: \u001b[1m\u001b[22m\u001b[34m\u001b[34m7\u001b[34m\u001b[39m\n",
      "\n",
      "\u001b[36m──\u001b[39m \u001b[1m\u001b[1mColumn specification\u001b[1m\u001b[22m \u001b[36m────────────────────────────────────────────────────────────────────────────────────────────────────────\u001b[39m\n",
      "\u001b[1mDelimiter:\u001b[22m \"\\t\"\n",
      "\u001b[31mchr\u001b[39m (3): SNP, A1, A2\n",
      "\u001b[32mdbl\u001b[39m (4): Z, N, chi2, P\n",
      "\n",
      "\n",
      "\u001b[36mℹ\u001b[39m Use \u001b[30m\u001b[47m\u001b[30m\u001b[47m`spec()`\u001b[47m\u001b[30m\u001b[49m\u001b[39m to retrieve the full column specification for this data.\n",
      "\u001b[36mℹ\u001b[39m Specify the column types or set \u001b[30m\u001b[47m\u001b[30m\u001b[47m`show_col_types = FALSE`\u001b[47m\u001b[30m\u001b[49m\u001b[39m to quiet this message.\n",
      "\n",
      "\u001b[1m\u001b[1mRows: \u001b[1m\u001b[22m\u001b[34m\u001b[34m1037742\u001b[34m\u001b[39m \u001b[1m\u001b[1mColumns: \u001b[1m\u001b[22m\u001b[34m\u001b[34m7\u001b[34m\u001b[39m\n",
      "\n",
      "\u001b[36m──\u001b[39m \u001b[1m\u001b[1mColumn specification\u001b[1m\u001b[22m \u001b[36m────────────────────────────────────────────────────────────────────────────────────────────────────────\u001b[39m\n",
      "\u001b[1mDelimiter:\u001b[22m \"\\t\"\n",
      "\u001b[31mchr\u001b[39m (3): SNP, A1, A2\n",
      "\u001b[32mdbl\u001b[39m (4): Z, N, chi2, P\n",
      "\n",
      "\n",
      "\u001b[36mℹ\u001b[39m Use \u001b[30m\u001b[47m\u001b[30m\u001b[47m`spec()`\u001b[47m\u001b[30m\u001b[49m\u001b[39m to retrieve the full column specification for this data.\n",
      "\u001b[36mℹ\u001b[39m Specify the column types or set \u001b[30m\u001b[47m\u001b[30m\u001b[47m`show_col_types = FALSE`\u001b[47m\u001b[30m\u001b[49m\u001b[39m to quiet this message.\n",
      "\n"
     ]
    },
    {
     "name": "stdout",
     "output_type": "stream",
     "text": [
      "Formatting X1\n",
      "There are  1084534  variants.\n",
      "Removing  0  duplicated variants leaving  1084534 variants.\n",
      "No variants have illegal alleles.\n",
      "Removed  0  variants with ambiguous strand.\n",
      "Flipping strand and effect allele so A1 is always A\n",
      "Returning  1084534  variants.\n",
      "Formatting X2\n",
      "There are  1037742  variants.\n",
      "Removing  0  duplicated variants leaving  1037742 variants.\n",
      "No variants have illegal alleles.\n",
      "Removed  0  variants with ambiguous strand.\n",
      "Flipping strand and effect allele so A1 is always A\n",
      "Returning  1037742  variants.\n",
      "After merging and removing variants with inconsistent alleles,  there are  1029725  variants that are present in both studies and can be used with CAUSE.\n"
     ]
    },
    {
     "name": "stderr",
     "output_type": "stream",
     "text": [
      "Clumping 51uepD, 14915 variants, using EUR population reference\n",
      "\n",
      "Removing 13068 of 14915 variants due to LD with other variants or absence from LD reference panel\n",
      "\n"
     ]
    },
    {
     "name": "stdout",
     "output_type": "stream",
     "text": [
      "Estimating CAUSE parameters with  1000000  variants.\n",
      "1 0.01113124 \n",
      "2 1.153929e-05 \n",
      "3 1.392831e-08 \n",
      "Estimating CAUSE posteriors using  1847  variants.\n"
     ]
    },
    {
     "name": "stderr",
     "output_type": "stream",
     "text": [
      "Warning message:\n",
      "“'compare' is deprecated.\n",
      "Use 'loo_compare' instead.\n",
      "See help(\"Deprecated\")”\n"
     ]
    },
    {
     "name": "stdout",
     "output_type": "stream",
     "text": [
      "    user   system  elapsed \n",
      "2822.818 1873.750  521.439 \n",
      "Alcohol ~ Hair_Dark_Brown \n"
     ]
    },
    {
     "name": "stderr",
     "output_type": "stream",
     "text": [
      "\u001b[1m\u001b[1mRows: \u001b[1m\u001b[22m\u001b[34m\u001b[34m1084534\u001b[34m\u001b[39m \u001b[1m\u001b[1mColumns: \u001b[1m\u001b[22m\u001b[34m\u001b[34m7\u001b[34m\u001b[39m\n",
      "\n",
      "\u001b[36m──\u001b[39m \u001b[1m\u001b[1mColumn specification\u001b[1m\u001b[22m \u001b[36m────────────────────────────────────────────────────────────────────────────────────────────────────────\u001b[39m\n",
      "\u001b[1mDelimiter:\u001b[22m \"\\t\"\n",
      "\u001b[31mchr\u001b[39m (3): SNP, A1, A2\n",
      "\u001b[32mdbl\u001b[39m (4): Z, N, chi2, P\n",
      "\n",
      "\n",
      "\u001b[36mℹ\u001b[39m Use \u001b[30m\u001b[47m\u001b[30m\u001b[47m`spec()`\u001b[47m\u001b[30m\u001b[49m\u001b[39m to retrieve the full column specification for this data.\n",
      "\u001b[36mℹ\u001b[39m Specify the column types or set \u001b[30m\u001b[47m\u001b[30m\u001b[47m`show_col_types = FALSE`\u001b[47m\u001b[30m\u001b[49m\u001b[39m to quiet this message.\n",
      "\n",
      "\u001b[1m\u001b[1mRows: \u001b[1m\u001b[22m\u001b[34m\u001b[34m1037381\u001b[34m\u001b[39m \u001b[1m\u001b[1mColumns: \u001b[1m\u001b[22m\u001b[34m\u001b[34m7\u001b[34m\u001b[39m\n",
      "\n",
      "\u001b[36m──\u001b[39m \u001b[1m\u001b[1mColumn specification\u001b[1m\u001b[22m \u001b[36m────────────────────────────────────────────────────────────────────────────────────────────────────────\u001b[39m\n",
      "\u001b[1mDelimiter:\u001b[22m \"\\t\"\n",
      "\u001b[31mchr\u001b[39m (3): SNP, A1, A2\n",
      "\u001b[32mdbl\u001b[39m (4): Z, N, chi2, P\n",
      "\n",
      "\n",
      "\u001b[36mℹ\u001b[39m Use \u001b[30m\u001b[47m\u001b[30m\u001b[47m`spec()`\u001b[47m\u001b[30m\u001b[49m\u001b[39m to retrieve the full column specification for this data.\n",
      "\u001b[36mℹ\u001b[39m Specify the column types or set \u001b[30m\u001b[47m\u001b[30m\u001b[47m`show_col_types = FALSE`\u001b[47m\u001b[30m\u001b[49m\u001b[39m to quiet this message.\n",
      "\n"
     ]
    },
    {
     "name": "stdout",
     "output_type": "stream",
     "text": [
      "Formatting X1\n",
      "There are  1084534  variants.\n",
      "Removing  0  duplicated variants leaving  1084534 variants.\n",
      "No variants have illegal alleles.\n",
      "Removed  0  variants with ambiguous strand.\n",
      "Flipping strand and effect allele so A1 is always A\n",
      "Returning  1084534  variants.\n",
      "Formatting X2\n",
      "There are  1037381  variants.\n",
      "Removing  0  duplicated variants leaving  1037381 variants.\n",
      "No variants have illegal alleles.\n",
      "Removed  0  variants with ambiguous strand.\n",
      "Flipping strand and effect allele so A1 is always A\n",
      "Returning  1037381  variants.\n",
      "After merging and removing variants with inconsistent alleles,  there are  1029371  variants that are present in both studies and can be used with CAUSE.\n"
     ]
    },
    {
     "name": "stderr",
     "output_type": "stream",
     "text": [
      "Clumping 3hPgz8, 14915 variants, using EUR population reference\n",
      "\n",
      "Removing 13068 of 14915 variants due to LD with other variants or absence from LD reference panel\n",
      "\n"
     ]
    },
    {
     "name": "stdout",
     "output_type": "stream",
     "text": [
      "Estimating CAUSE parameters with  1000000  variants.\n",
      "1 0.02319912 \n",
      "2 1.7481e-05 \n",
      "3 2.818868e-08 \n",
      "Estimating CAUSE posteriors using  1847  variants.\n"
     ]
    },
    {
     "name": "stderr",
     "output_type": "stream",
     "text": [
      "Warning message:\n",
      "“'compare' is deprecated.\n",
      "Use 'loo_compare' instead.\n",
      "See help(\"Deprecated\")”\n"
     ]
    },
    {
     "name": "stdout",
     "output_type": "stream",
     "text": [
      "    user   system  elapsed \n",
      "2802.403 1798.975  498.487 \n",
      "Alcohol ~ Hair_Black \n"
     ]
    },
    {
     "name": "stderr",
     "output_type": "stream",
     "text": [
      "\u001b[1m\u001b[1mRows: \u001b[1m\u001b[22m\u001b[34m\u001b[34m1084534\u001b[34m\u001b[39m \u001b[1m\u001b[1mColumns: \u001b[1m\u001b[22m\u001b[34m\u001b[34m7\u001b[34m\u001b[39m\n",
      "\n",
      "\u001b[36m──\u001b[39m \u001b[1m\u001b[1mColumn specification\u001b[1m\u001b[22m \u001b[36m────────────────────────────────────────────────────────────────────────────────────────────────────────\u001b[39m\n",
      "\u001b[1mDelimiter:\u001b[22m \"\\t\"\n",
      "\u001b[31mchr\u001b[39m (3): SNP, A1, A2\n",
      "\u001b[32mdbl\u001b[39m (4): Z, N, chi2, P\n",
      "\n",
      "\n",
      "\u001b[36mℹ\u001b[39m Use \u001b[30m\u001b[47m\u001b[30m\u001b[47m`spec()`\u001b[47m\u001b[30m\u001b[49m\u001b[39m to retrieve the full column specification for this data.\n",
      "\u001b[36mℹ\u001b[39m Specify the column types or set \u001b[30m\u001b[47m\u001b[30m\u001b[47m`show_col_types = FALSE`\u001b[47m\u001b[30m\u001b[49m\u001b[39m to quiet this message.\n",
      "\n",
      "\u001b[1m\u001b[1mRows: \u001b[1m\u001b[22m\u001b[34m\u001b[34m1037702\u001b[34m\u001b[39m \u001b[1m\u001b[1mColumns: \u001b[1m\u001b[22m\u001b[34m\u001b[34m7\u001b[34m\u001b[39m\n",
      "\n",
      "\u001b[36m──\u001b[39m \u001b[1m\u001b[1mColumn specification\u001b[1m\u001b[22m \u001b[36m────────────────────────────────────────────────────────────────────────────────────────────────────────\u001b[39m\n",
      "\u001b[1mDelimiter:\u001b[22m \"\\t\"\n",
      "\u001b[31mchr\u001b[39m (3): SNP, A1, A2\n",
      "\u001b[32mdbl\u001b[39m (4): Z, N, chi2, P\n",
      "\n",
      "\n",
      "\u001b[36mℹ\u001b[39m Use \u001b[30m\u001b[47m\u001b[30m\u001b[47m`spec()`\u001b[47m\u001b[30m\u001b[49m\u001b[39m to retrieve the full column specification for this data.\n",
      "\u001b[36mℹ\u001b[39m Specify the column types or set \u001b[30m\u001b[47m\u001b[30m\u001b[47m`show_col_types = FALSE`\u001b[47m\u001b[30m\u001b[49m\u001b[39m to quiet this message.\n",
      "\n"
     ]
    },
    {
     "name": "stdout",
     "output_type": "stream",
     "text": [
      "Formatting X1\n",
      "There are  1084534  variants.\n",
      "Removing  0  duplicated variants leaving  1084534 variants.\n",
      "No variants have illegal alleles.\n",
      "Removed  0  variants with ambiguous strand.\n",
      "Flipping strand and effect allele so A1 is always A\n",
      "Returning  1084534  variants.\n",
      "Formatting X2\n",
      "There are  1037702  variants.\n",
      "Removing  0  duplicated variants leaving  1037702 variants.\n",
      "No variants have illegal alleles.\n",
      "Removed  0  variants with ambiguous strand.\n",
      "Flipping strand and effect allele so A1 is always A\n",
      "Returning  1037702  variants.\n",
      "After merging and removing variants with inconsistent alleles,  there are  1029686  variants that are present in both studies and can be used with CAUSE.\n"
     ]
    },
    {
     "name": "stderr",
     "output_type": "stream",
     "text": [
      "Clumping EBclBE, 14915 variants, using EUR population reference\n",
      "\n",
      "Removing 13068 of 14915 variants due to LD with other variants or absence from LD reference panel\n",
      "\n"
     ]
    },
    {
     "name": "stdout",
     "output_type": "stream",
     "text": [
      "Estimating CAUSE parameters with  1000000  variants.\n",
      "1 0.02768186 \n",
      "2 2.205023e-05 \n",
      "3 6.326202e-08 \n",
      "Estimating CAUSE posteriors using  1847  variants.\n"
     ]
    },
    {
     "name": "stderr",
     "output_type": "stream",
     "text": [
      "Warning message:\n",
      "“'compare' is deprecated.\n",
      "Use 'loo_compare' instead.\n",
      "See help(\"Deprecated\")”\n"
     ]
    },
    {
     "name": "stdout",
     "output_type": "stream",
     "text": [
      "    user   system  elapsed \n",
      "2162.898 1404.938  384.124 \n",
      "Alcohol ~ Hair_Blonde \n"
     ]
    },
    {
     "name": "stderr",
     "output_type": "stream",
     "text": [
      "\u001b[1m\u001b[1mRows: \u001b[1m\u001b[22m\u001b[34m\u001b[34m1084534\u001b[34m\u001b[39m \u001b[1m\u001b[1mColumns: \u001b[1m\u001b[22m\u001b[34m\u001b[34m7\u001b[34m\u001b[39m\n",
      "\n",
      "\u001b[36m──\u001b[39m \u001b[1m\u001b[1mColumn specification\u001b[1m\u001b[22m \u001b[36m────────────────────────────────────────────────────────────────────────────────────────────────────────\u001b[39m\n",
      "\u001b[1mDelimiter:\u001b[22m \"\\t\"\n",
      "\u001b[31mchr\u001b[39m (3): SNP, A1, A2\n",
      "\u001b[32mdbl\u001b[39m (4): Z, N, chi2, P\n",
      "\n",
      "\n",
      "\u001b[36mℹ\u001b[39m Use \u001b[30m\u001b[47m\u001b[30m\u001b[47m`spec()`\u001b[47m\u001b[30m\u001b[49m\u001b[39m to retrieve the full column specification for this data.\n",
      "\u001b[36mℹ\u001b[39m Specify the column types or set \u001b[30m\u001b[47m\u001b[30m\u001b[47m`show_col_types = FALSE`\u001b[47m\u001b[30m\u001b[49m\u001b[39m to quiet this message.\n",
      "\n",
      "\u001b[1m\u001b[1mRows: \u001b[1m\u001b[22m\u001b[34m\u001b[34m1037533\u001b[34m\u001b[39m \u001b[1m\u001b[1mColumns: \u001b[1m\u001b[22m\u001b[34m\u001b[34m7\u001b[34m\u001b[39m\n",
      "\n",
      "\u001b[36m──\u001b[39m \u001b[1m\u001b[1mColumn specification\u001b[1m\u001b[22m \u001b[36m────────────────────────────────────────────────────────────────────────────────────────────────────────\u001b[39m\n",
      "\u001b[1mDelimiter:\u001b[22m \"\\t\"\n",
      "\u001b[31mchr\u001b[39m (3): SNP, A1, A2\n",
      "\u001b[32mdbl\u001b[39m (4): Z, N, chi2, P\n",
      "\n",
      "\n",
      "\u001b[36mℹ\u001b[39m Use \u001b[30m\u001b[47m\u001b[30m\u001b[47m`spec()`\u001b[47m\u001b[30m\u001b[49m\u001b[39m to retrieve the full column specification for this data.\n",
      "\u001b[36mℹ\u001b[39m Specify the column types or set \u001b[30m\u001b[47m\u001b[30m\u001b[47m`show_col_types = FALSE`\u001b[47m\u001b[30m\u001b[49m\u001b[39m to quiet this message.\n",
      "\n"
     ]
    },
    {
     "name": "stdout",
     "output_type": "stream",
     "text": [
      "Formatting X1\n",
      "There are  1084534  variants.\n",
      "Removing  0  duplicated variants leaving  1084534 variants.\n",
      "No variants have illegal alleles.\n",
      "Removed  0  variants with ambiguous strand.\n",
      "Flipping strand and effect allele so A1 is always A\n",
      "Returning  1084534  variants.\n",
      "Formatting X2\n",
      "There are  1037533  variants.\n",
      "Removing  0  duplicated variants leaving  1037533 variants.\n",
      "No variants have illegal alleles.\n",
      "Removed  0  variants with ambiguous strand.\n",
      "Flipping strand and effect allele so A1 is always A\n",
      "Returning  1037533  variants.\n",
      "After merging and removing variants with inconsistent alleles,  there are  1029518  variants that are present in both studies and can be used with CAUSE.\n"
     ]
    },
    {
     "name": "stderr",
     "output_type": "stream",
     "text": [
      "Clumping see86G, 14914 variants, using EUR population reference\n",
      "\n",
      "Removing 13067 of 14914 variants due to LD with other variants or absence from LD reference panel\n",
      "\n"
     ]
    },
    {
     "name": "stdout",
     "output_type": "stream",
     "text": [
      "Estimating CAUSE parameters with  1000000  variants.\n",
      "1 0.04046467 \n",
      "2 4.814884e-05 \n",
      "3 1.826707e-07 \n",
      "4 1.178894e-09 \n",
      "Estimating CAUSE posteriors using  1847  variants.\n"
     ]
    },
    {
     "name": "stderr",
     "output_type": "stream",
     "text": [
      "Warning message:\n",
      "“'compare' is deprecated.\n",
      "Use 'loo_compare' instead.\n",
      "See help(\"Deprecated\")”\n"
     ]
    },
    {
     "name": "stdout",
     "output_type": "stream",
     "text": [
      "    user   system  elapsed \n",
      "3009.392 1935.938  517.312 \n",
      "Alcohol ~ Tanning \n"
     ]
    },
    {
     "name": "stderr",
     "output_type": "stream",
     "text": [
      "\u001b[1m\u001b[1mRows: \u001b[1m\u001b[22m\u001b[34m\u001b[34m1084534\u001b[34m\u001b[39m \u001b[1m\u001b[1mColumns: \u001b[1m\u001b[22m\u001b[34m\u001b[34m7\u001b[34m\u001b[39m\n",
      "\n",
      "\u001b[36m──\u001b[39m \u001b[1m\u001b[1mColumn specification\u001b[1m\u001b[22m \u001b[36m────────────────────────────────────────────────────────────────────────────────────────────────────────\u001b[39m\n",
      "\u001b[1mDelimiter:\u001b[22m \"\\t\"\n",
      "\u001b[31mchr\u001b[39m (3): SNP, A1, A2\n",
      "\u001b[32mdbl\u001b[39m (4): Z, N, chi2, P\n",
      "\n",
      "\n",
      "\u001b[36mℹ\u001b[39m Use \u001b[30m\u001b[47m\u001b[30m\u001b[47m`spec()`\u001b[47m\u001b[30m\u001b[49m\u001b[39m to retrieve the full column specification for this data.\n",
      "\u001b[36mℹ\u001b[39m Specify the column types or set \u001b[30m\u001b[47m\u001b[30m\u001b[47m`show_col_types = FALSE`\u001b[47m\u001b[30m\u001b[49m\u001b[39m to quiet this message.\n",
      "\n",
      "\u001b[1m\u001b[1mRows: \u001b[1m\u001b[22m\u001b[34m\u001b[34m1037026\u001b[34m\u001b[39m \u001b[1m\u001b[1mColumns: \u001b[1m\u001b[22m\u001b[34m\u001b[34m7\u001b[34m\u001b[39m\n",
      "\n",
      "\u001b[36m──\u001b[39m \u001b[1m\u001b[1mColumn specification\u001b[1m\u001b[22m \u001b[36m────────────────────────────────────────────────────────────────────────────────────────────────────────\u001b[39m\n",
      "\u001b[1mDelimiter:\u001b[22m \"\\t\"\n",
      "\u001b[31mchr\u001b[39m (3): SNP, A1, A2\n",
      "\u001b[32mdbl\u001b[39m (4): Z, N, chi2, P\n",
      "\n",
      "\n",
      "\u001b[36mℹ\u001b[39m Use \u001b[30m\u001b[47m\u001b[30m\u001b[47m`spec()`\u001b[47m\u001b[30m\u001b[49m\u001b[39m to retrieve the full column specification for this data.\n",
      "\u001b[36mℹ\u001b[39m Specify the column types or set \u001b[30m\u001b[47m\u001b[30m\u001b[47m`show_col_types = FALSE`\u001b[47m\u001b[30m\u001b[49m\u001b[39m to quiet this message.\n",
      "\n"
     ]
    },
    {
     "name": "stdout",
     "output_type": "stream",
     "text": [
      "Formatting X1\n",
      "There are  1084534  variants.\n",
      "Removing  0  duplicated variants leaving  1084534 variants.\n",
      "No variants have illegal alleles.\n",
      "Removed  0  variants with ambiguous strand.\n",
      "Flipping strand and effect allele so A1 is always A\n",
      "Returning  1084534  variants.\n",
      "Formatting X2\n",
      "There are  1037026  variants.\n",
      "Removing  0  duplicated variants leaving  1037026 variants.\n",
      "No variants have illegal alleles.\n",
      "Removed  0  variants with ambiguous strand.\n",
      "Flipping strand and effect allele so A1 is always A\n",
      "Returning  1037026  variants.\n",
      "After merging and removing variants with inconsistent alleles,  there are  1029019  variants that are present in both studies and can be used with CAUSE.\n"
     ]
    },
    {
     "name": "stderr",
     "output_type": "stream",
     "text": [
      "Clumping 99xKxS, 14879 variants, using EUR population reference\n",
      "\n",
      "Removing 13034 of 14879 variants due to LD with other variants or absence from LD reference panel\n",
      "\n"
     ]
    },
    {
     "name": "stdout",
     "output_type": "stream",
     "text": [
      "Estimating CAUSE parameters with  1000000  variants.\n",
      "1 0.1371143 \n",
      "2 0.001389459 \n",
      "3 3.720025e-05 \n",
      "4 1.00322e-06 \n",
      "5 2.59769e-08 \n",
      "Estimating CAUSE posteriors using  1845  variants.\n"
     ]
    },
    {
     "name": "stderr",
     "output_type": "stream",
     "text": [
      "Warning message:\n",
      "“'compare' is deprecated.\n",
      "Use 'loo_compare' instead.\n",
      "See help(\"Deprecated\")”\n"
     ]
    },
    {
     "name": "stdout",
     "output_type": "stream",
     "text": [
      "    user   system  elapsed \n",
      "3792.506 2478.101  641.178 \n",
      "BMI ~ Hair_Light_Brown \n"
     ]
    },
    {
     "name": "stderr",
     "output_type": "stream",
     "text": [
      "\u001b[1m\u001b[1mRows: \u001b[1m\u001b[22m\u001b[34m\u001b[34m1037799\u001b[34m\u001b[39m \u001b[1m\u001b[1mColumns: \u001b[1m\u001b[22m\u001b[34m\u001b[34m7\u001b[34m\u001b[39m\n",
      "\n",
      "\u001b[36m──\u001b[39m \u001b[1m\u001b[1mColumn specification\u001b[1m\u001b[22m \u001b[36m────────────────────────────────────────────────────────────────────────────────────────────────────────\u001b[39m\n",
      "\u001b[1mDelimiter:\u001b[22m \"\\t\"\n",
      "\u001b[31mchr\u001b[39m (3): SNP, A1, A2\n",
      "\u001b[32mdbl\u001b[39m (4): Z, N, chi2, P\n",
      "\n",
      "\n",
      "\u001b[36mℹ\u001b[39m Use \u001b[30m\u001b[47m\u001b[30m\u001b[47m`spec()`\u001b[47m\u001b[30m\u001b[49m\u001b[39m to retrieve the full column specification for this data.\n",
      "\u001b[36mℹ\u001b[39m Specify the column types or set \u001b[30m\u001b[47m\u001b[30m\u001b[47m`show_col_types = FALSE`\u001b[47m\u001b[30m\u001b[49m\u001b[39m to quiet this message.\n",
      "\n",
      "\u001b[1m\u001b[1mRows: \u001b[1m\u001b[22m\u001b[34m\u001b[34m1037742\u001b[34m\u001b[39m \u001b[1m\u001b[1mColumns: \u001b[1m\u001b[22m\u001b[34m\u001b[34m7\u001b[34m\u001b[39m\n",
      "\n",
      "\u001b[36m──\u001b[39m \u001b[1m\u001b[1mColumn specification\u001b[1m\u001b[22m \u001b[36m────────────────────────────────────────────────────────────────────────────────────────────────────────\u001b[39m\n",
      "\u001b[1mDelimiter:\u001b[22m \"\\t\"\n",
      "\u001b[31mchr\u001b[39m (3): SNP, A1, A2\n",
      "\u001b[32mdbl\u001b[39m (4): Z, N, chi2, P\n",
      "\n",
      "\n",
      "\u001b[36mℹ\u001b[39m Use \u001b[30m\u001b[47m\u001b[30m\u001b[47m`spec()`\u001b[47m\u001b[30m\u001b[49m\u001b[39m to retrieve the full column specification for this data.\n",
      "\u001b[36mℹ\u001b[39m Specify the column types or set \u001b[30m\u001b[47m\u001b[30m\u001b[47m`show_col_types = FALSE`\u001b[47m\u001b[30m\u001b[49m\u001b[39m to quiet this message.\n",
      "\n"
     ]
    },
    {
     "name": "stdout",
     "output_type": "stream",
     "text": [
      "Formatting X1\n",
      "There are  1037799  variants.\n",
      "Removing  0  duplicated variants leaving  1037799 variants.\n",
      "No variants have illegal alleles.\n",
      "Removed  0  variants with ambiguous strand.\n",
      "Flipping strand and effect allele so A1 is always A\n",
      "Returning  1037799  variants.\n",
      "Formatting X2\n",
      "There are  1037742  variants.\n",
      "Removing  0  duplicated variants leaving  1037742 variants.\n",
      "No variants have illegal alleles.\n",
      "Removed  0  variants with ambiguous strand.\n",
      "Flipping strand and effect allele so A1 is always A\n",
      "Returning  1037742  variants.\n",
      "After merging and removing variants with inconsistent alleles,  there are  1037717  variants that are present in both studies and can be used with CAUSE.\n"
     ]
    },
    {
     "name": "stderr",
     "output_type": "stream",
     "text": [
      "Clumping wXVpfp, 57475 variants, using EUR population reference\n",
      "\n",
      "Removing 51968 of 57475 variants due to LD with other variants or absence from LD reference panel\n",
      "\n"
     ]
    },
    {
     "name": "stdout",
     "output_type": "stream",
     "text": [
      "Estimating CAUSE parameters with  1000000  variants.\n",
      "1 0.02311465 \n",
      "2 1.396255e-05 \n",
      "3 1.303307e-08 \n",
      "Estimating CAUSE posteriors using  5507  variants.\n"
     ]
    },
    {
     "name": "stderr",
     "output_type": "stream",
     "text": [
      "Warning message:\n",
      "“'compare' is deprecated.\n",
      "Use 'loo_compare' instead.\n",
      "See help(\"Deprecated\")”\n"
     ]
    },
    {
     "name": "stdout",
     "output_type": "stream",
     "text": [
      "    user   system  elapsed \n",
      "4777.324 1812.635  565.537 \n",
      "BMI ~ Hair_Dark_Brown \n"
     ]
    },
    {
     "name": "stderr",
     "output_type": "stream",
     "text": [
      "\u001b[1m\u001b[1mRows: \u001b[1m\u001b[22m\u001b[34m\u001b[34m1037799\u001b[34m\u001b[39m \u001b[1m\u001b[1mColumns: \u001b[1m\u001b[22m\u001b[34m\u001b[34m7\u001b[34m\u001b[39m\n",
      "\n",
      "\u001b[36m──\u001b[39m \u001b[1m\u001b[1mColumn specification\u001b[1m\u001b[22m \u001b[36m────────────────────────────────────────────────────────────────────────────────────────────────────────\u001b[39m\n",
      "\u001b[1mDelimiter:\u001b[22m \"\\t\"\n",
      "\u001b[31mchr\u001b[39m (3): SNP, A1, A2\n",
      "\u001b[32mdbl\u001b[39m (4): Z, N, chi2, P\n",
      "\n",
      "\n",
      "\u001b[36mℹ\u001b[39m Use \u001b[30m\u001b[47m\u001b[30m\u001b[47m`spec()`\u001b[47m\u001b[30m\u001b[49m\u001b[39m to retrieve the full column specification for this data.\n",
      "\u001b[36mℹ\u001b[39m Specify the column types or set \u001b[30m\u001b[47m\u001b[30m\u001b[47m`show_col_types = FALSE`\u001b[47m\u001b[30m\u001b[49m\u001b[39m to quiet this message.\n",
      "\n",
      "\u001b[1m\u001b[1mRows: \u001b[1m\u001b[22m\u001b[34m\u001b[34m1037381\u001b[34m\u001b[39m \u001b[1m\u001b[1mColumns: \u001b[1m\u001b[22m\u001b[34m\u001b[34m7\u001b[34m\u001b[39m\n",
      "\n",
      "\u001b[36m──\u001b[39m \u001b[1m\u001b[1mColumn specification\u001b[1m\u001b[22m \u001b[36m────────────────────────────────────────────────────────────────────────────────────────────────────────\u001b[39m\n",
      "\u001b[1mDelimiter:\u001b[22m \"\\t\"\n",
      "\u001b[31mchr\u001b[39m (3): SNP, A1, A2\n",
      "\u001b[32mdbl\u001b[39m (4): Z, N, chi2, P\n",
      "\n",
      "\n",
      "\u001b[36mℹ\u001b[39m Use \u001b[30m\u001b[47m\u001b[30m\u001b[47m`spec()`\u001b[47m\u001b[30m\u001b[49m\u001b[39m to retrieve the full column specification for this data.\n",
      "\u001b[36mℹ\u001b[39m Specify the column types or set \u001b[30m\u001b[47m\u001b[30m\u001b[47m`show_col_types = FALSE`\u001b[47m\u001b[30m\u001b[49m\u001b[39m to quiet this message.\n",
      "\n"
     ]
    },
    {
     "name": "stdout",
     "output_type": "stream",
     "text": [
      "Formatting X1\n",
      "There are  1037799  variants.\n",
      "Removing  0  duplicated variants leaving  1037799 variants.\n",
      "No variants have illegal alleles.\n",
      "Removed  0  variants with ambiguous strand.\n",
      "Flipping strand and effect allele so A1 is always A\n",
      "Returning  1037799  variants.\n",
      "Formatting X2\n",
      "There are  1037381  variants.\n",
      "Removing  0  duplicated variants leaving  1037381 variants.\n",
      "No variants have illegal alleles.\n",
      "Removed  0  variants with ambiguous strand.\n",
      "Flipping strand and effect allele so A1 is always A\n",
      "Returning  1037381  variants.\n",
      "After merging and removing variants with inconsistent alleles,  there are  1037356  variants that are present in both studies and can be used with CAUSE.\n"
     ]
    },
    {
     "name": "stderr",
     "output_type": "stream",
     "text": [
      "Clumping I46Rua, 57446 variants, using EUR population reference\n",
      "\n",
      "Removing 51939 of 57446 variants due to LD with other variants or absence from LD reference panel\n",
      "\n"
     ]
    },
    {
     "name": "stdout",
     "output_type": "stream",
     "text": [
      "Estimating CAUSE parameters with  1000000  variants.\n",
      "1 0.1263907 \n",
      "2 0.0007922642 \n",
      "3 1.655309e-05 \n",
      "4 3.444028e-07 \n",
      "5 1.062313e-08 \n",
      "Estimating CAUSE posteriors using  5507  variants.\n"
     ]
    },
    {
     "name": "stderr",
     "output_type": "stream",
     "text": [
      "Warning message:\n",
      "“'compare' is deprecated.\n",
      "Use 'loo_compare' instead.\n",
      "See help(\"Deprecated\")”\n"
     ]
    },
    {
     "name": "stdout",
     "output_type": "stream",
     "text": [
      "    user   system  elapsed \n",
      "6188.234 2729.939  750.012 \n",
      "BMI ~ Hair_Black \n"
     ]
    },
    {
     "name": "stderr",
     "output_type": "stream",
     "text": [
      "\u001b[1m\u001b[1mRows: \u001b[1m\u001b[22m\u001b[34m\u001b[34m1037799\u001b[34m\u001b[39m \u001b[1m\u001b[1mColumns: \u001b[1m\u001b[22m\u001b[34m\u001b[34m7\u001b[34m\u001b[39m\n",
      "\n",
      "\u001b[36m──\u001b[39m \u001b[1m\u001b[1mColumn specification\u001b[1m\u001b[22m \u001b[36m────────────────────────────────────────────────────────────────────────────────────────────────────────\u001b[39m\n",
      "\u001b[1mDelimiter:\u001b[22m \"\\t\"\n",
      "\u001b[31mchr\u001b[39m (3): SNP, A1, A2\n",
      "\u001b[32mdbl\u001b[39m (4): Z, N, chi2, P\n",
      "\n",
      "\n",
      "\u001b[36mℹ\u001b[39m Use \u001b[30m\u001b[47m\u001b[30m\u001b[47m`spec()`\u001b[47m\u001b[30m\u001b[49m\u001b[39m to retrieve the full column specification for this data.\n",
      "\u001b[36mℹ\u001b[39m Specify the column types or set \u001b[30m\u001b[47m\u001b[30m\u001b[47m`show_col_types = FALSE`\u001b[47m\u001b[30m\u001b[49m\u001b[39m to quiet this message.\n",
      "\n",
      "\u001b[1m\u001b[1mRows: \u001b[1m\u001b[22m\u001b[34m\u001b[34m1037702\u001b[34m\u001b[39m \u001b[1m\u001b[1mColumns: \u001b[1m\u001b[22m\u001b[34m\u001b[34m7\u001b[34m\u001b[39m\n",
      "\n",
      "\u001b[36m──\u001b[39m \u001b[1m\u001b[1mColumn specification\u001b[1m\u001b[22m \u001b[36m────────────────────────────────────────────────────────────────────────────────────────────────────────\u001b[39m\n",
      "\u001b[1mDelimiter:\u001b[22m \"\\t\"\n",
      "\u001b[31mchr\u001b[39m (3): SNP, A1, A2\n",
      "\u001b[32mdbl\u001b[39m (4): Z, N, chi2, P\n",
      "\n",
      "\n",
      "\u001b[36mℹ\u001b[39m Use \u001b[30m\u001b[47m\u001b[30m\u001b[47m`spec()`\u001b[47m\u001b[30m\u001b[49m\u001b[39m to retrieve the full column specification for this data.\n",
      "\u001b[36mℹ\u001b[39m Specify the column types or set \u001b[30m\u001b[47m\u001b[30m\u001b[47m`show_col_types = FALSE`\u001b[47m\u001b[30m\u001b[49m\u001b[39m to quiet this message.\n",
      "\n"
     ]
    },
    {
     "name": "stdout",
     "output_type": "stream",
     "text": [
      "Formatting X1\n",
      "There are  1037799  variants.\n",
      "Removing  0  duplicated variants leaving  1037799 variants.\n",
      "No variants have illegal alleles.\n",
      "Removed  0  variants with ambiguous strand.\n",
      "Flipping strand and effect allele so A1 is always A\n",
      "Returning  1037799  variants.\n",
      "Formatting X2\n",
      "There are  1037702  variants.\n",
      "Removing  0  duplicated variants leaving  1037702 variants.\n",
      "No variants have illegal alleles.\n",
      "Removed  0  variants with ambiguous strand.\n",
      "Flipping strand and effect allele so A1 is always A\n",
      "Returning  1037702  variants.\n",
      "After merging and removing variants with inconsistent alleles,  there are  1037677  variants that are present in both studies and can be used with CAUSE.\n"
     ]
    },
    {
     "name": "stderr",
     "output_type": "stream",
     "text": [
      "Clumping QDQoui, 57475 variants, using EUR population reference\n",
      "\n",
      "Removing 51968 of 57475 variants due to LD with other variants or absence from LD reference panel\n",
      "\n"
     ]
    },
    {
     "name": "stdout",
     "output_type": "stream",
     "text": [
      "Estimating CAUSE parameters with  1000000  variants.\n",
      "1 0.07431015 \n",
      "2 0.0002999082 \n",
      "3 2.653239e-06 \n",
      "4 1.735718e-08 \n",
      "Estimating CAUSE posteriors using  5507  variants.\n"
     ]
    },
    {
     "name": "stderr",
     "output_type": "stream",
     "text": [
      "Warning message:\n",
      "“'compare' is deprecated.\n",
      "Use 'loo_compare' instead.\n",
      "See help(\"Deprecated\")”\n"
     ]
    },
    {
     "name": "stdout",
     "output_type": "stream",
     "text": [
      "    user   system  elapsed \n",
      "4243.576 1889.513  554.168 \n",
      "BMI ~ Hair_Blonde \n"
     ]
    },
    {
     "name": "stderr",
     "output_type": "stream",
     "text": [
      "\u001b[1m\u001b[1mRows: \u001b[1m\u001b[22m\u001b[34m\u001b[34m1037799\u001b[34m\u001b[39m \u001b[1m\u001b[1mColumns: \u001b[1m\u001b[22m\u001b[34m\u001b[34m7\u001b[34m\u001b[39m\n",
      "\n",
      "\u001b[36m──\u001b[39m \u001b[1m\u001b[1mColumn specification\u001b[1m\u001b[22m \u001b[36m────────────────────────────────────────────────────────────────────────────────────────────────────────\u001b[39m\n",
      "\u001b[1mDelimiter:\u001b[22m \"\\t\"\n",
      "\u001b[31mchr\u001b[39m (3): SNP, A1, A2\n",
      "\u001b[32mdbl\u001b[39m (4): Z, N, chi2, P\n",
      "\n",
      "\n",
      "\u001b[36mℹ\u001b[39m Use \u001b[30m\u001b[47m\u001b[30m\u001b[47m`spec()`\u001b[47m\u001b[30m\u001b[49m\u001b[39m to retrieve the full column specification for this data.\n",
      "\u001b[36mℹ\u001b[39m Specify the column types or set \u001b[30m\u001b[47m\u001b[30m\u001b[47m`show_col_types = FALSE`\u001b[47m\u001b[30m\u001b[49m\u001b[39m to quiet this message.\n",
      "\n",
      "\u001b[1m\u001b[1mRows: \u001b[1m\u001b[22m\u001b[34m\u001b[34m1037533\u001b[34m\u001b[39m \u001b[1m\u001b[1mColumns: \u001b[1m\u001b[22m\u001b[34m\u001b[34m7\u001b[34m\u001b[39m\n",
      "\n",
      "\u001b[36m──\u001b[39m \u001b[1m\u001b[1mColumn specification\u001b[1m\u001b[22m \u001b[36m────────────────────────────────────────────────────────────────────────────────────────────────────────\u001b[39m\n",
      "\u001b[1mDelimiter:\u001b[22m \"\\t\"\n",
      "\u001b[31mchr\u001b[39m (3): SNP, A1, A2\n",
      "\u001b[32mdbl\u001b[39m (4): Z, N, chi2, P\n",
      "\n",
      "\n",
      "\u001b[36mℹ\u001b[39m Use \u001b[30m\u001b[47m\u001b[30m\u001b[47m`spec()`\u001b[47m\u001b[30m\u001b[49m\u001b[39m to retrieve the full column specification for this data.\n",
      "\u001b[36mℹ\u001b[39m Specify the column types or set \u001b[30m\u001b[47m\u001b[30m\u001b[47m`show_col_types = FALSE`\u001b[47m\u001b[30m\u001b[49m\u001b[39m to quiet this message.\n",
      "\n"
     ]
    },
    {
     "name": "stdout",
     "output_type": "stream",
     "text": [
      "Formatting X1\n",
      "There are  1037799  variants.\n",
      "Removing  0  duplicated variants leaving  1037799 variants.\n",
      "No variants have illegal alleles.\n",
      "Removed  0  variants with ambiguous strand.\n",
      "Flipping strand and effect allele so A1 is always A\n",
      "Returning  1037799  variants.\n",
      "Formatting X2\n",
      "There are  1037533  variants.\n",
      "Removing  0  duplicated variants leaving  1037533 variants.\n",
      "No variants have illegal alleles.\n",
      "Removed  0  variants with ambiguous strand.\n",
      "Flipping strand and effect allele so A1 is always A\n",
      "Returning  1037533  variants.\n",
      "After merging and removing variants with inconsistent alleles,  there are  1037508  variants that are present in both studies and can be used with CAUSE.\n"
     ]
    },
    {
     "name": "stderr",
     "output_type": "stream",
     "text": [
      "Clumping Rr3Qp1, 57439 variants, using EUR population reference\n",
      "\n",
      "Removing 51931 of 57439 variants due to LD with other variants or absence from LD reference panel\n",
      "\n"
     ]
    },
    {
     "name": "stdout",
     "output_type": "stream",
     "text": [
      "Estimating CAUSE parameters with  1000000  variants.\n",
      "1 0.03347993 \n",
      "2 2.931561e-05 \n",
      "3 6.339109e-08 \n",
      "Estimating CAUSE posteriors using  5508  variants.\n"
     ]
    },
    {
     "name": "stderr",
     "output_type": "stream",
     "text": [
      "Warning message:\n",
      "“Some Pareto k diagnostic values are slightly high. See help('pareto-k-diagnostic') for details.\n",
      "”\n",
      "Warning message:\n",
      "“'compare' is deprecated.\n",
      "Use 'loo_compare' instead.\n",
      "See help(\"Deprecated\")”\n"
     ]
    },
    {
     "name": "stdout",
     "output_type": "stream",
     "text": [
      "    user   system  elapsed \n",
      "4318.958 1842.058  528.440 \n",
      "BMI ~ Tanning \n"
     ]
    },
    {
     "name": "stderr",
     "output_type": "stream",
     "text": [
      "\u001b[1m\u001b[1mRows: \u001b[1m\u001b[22m\u001b[34m\u001b[34m1037799\u001b[34m\u001b[39m \u001b[1m\u001b[1mColumns: \u001b[1m\u001b[22m\u001b[34m\u001b[34m7\u001b[34m\u001b[39m\n",
      "\n",
      "\u001b[36m──\u001b[39m \u001b[1m\u001b[1mColumn specification\u001b[1m\u001b[22m \u001b[36m────────────────────────────────────────────────────────────────────────────────────────────────────────\u001b[39m\n",
      "\u001b[1mDelimiter:\u001b[22m \"\\t\"\n",
      "\u001b[31mchr\u001b[39m (3): SNP, A1, A2\n",
      "\u001b[32mdbl\u001b[39m (4): Z, N, chi2, P\n",
      "\n",
      "\n",
      "\u001b[36mℹ\u001b[39m Use \u001b[30m\u001b[47m\u001b[30m\u001b[47m`spec()`\u001b[47m\u001b[30m\u001b[49m\u001b[39m to retrieve the full column specification for this data.\n",
      "\u001b[36mℹ\u001b[39m Specify the column types or set \u001b[30m\u001b[47m\u001b[30m\u001b[47m`show_col_types = FALSE`\u001b[47m\u001b[30m\u001b[49m\u001b[39m to quiet this message.\n",
      "\n",
      "\u001b[1m\u001b[1mRows: \u001b[1m\u001b[22m\u001b[34m\u001b[34m1037026\u001b[34m\u001b[39m \u001b[1m\u001b[1mColumns: \u001b[1m\u001b[22m\u001b[34m\u001b[34m7\u001b[34m\u001b[39m\n",
      "\n",
      "\u001b[36m──\u001b[39m \u001b[1m\u001b[1mColumn specification\u001b[1m\u001b[22m \u001b[36m────────────────────────────────────────────────────────────────────────────────────────────────────────\u001b[39m\n",
      "\u001b[1mDelimiter:\u001b[22m \"\\t\"\n",
      "\u001b[31mchr\u001b[39m (3): SNP, A1, A2\n",
      "\u001b[32mdbl\u001b[39m (4): Z, N, chi2, P\n",
      "\n",
      "\n",
      "\u001b[36mℹ\u001b[39m Use \u001b[30m\u001b[47m\u001b[30m\u001b[47m`spec()`\u001b[47m\u001b[30m\u001b[49m\u001b[39m to retrieve the full column specification for this data.\n",
      "\u001b[36mℹ\u001b[39m Specify the column types or set \u001b[30m\u001b[47m\u001b[30m\u001b[47m`show_col_types = FALSE`\u001b[47m\u001b[30m\u001b[49m\u001b[39m to quiet this message.\n",
      "\n"
     ]
    },
    {
     "name": "stdout",
     "output_type": "stream",
     "text": [
      "Formatting X1\n",
      "There are  1037799  variants.\n",
      "Removing  0  duplicated variants leaving  1037799 variants.\n",
      "No variants have illegal alleles.\n",
      "Removed  0  variants with ambiguous strand.\n",
      "Flipping strand and effect allele so A1 is always A\n",
      "Returning  1037799  variants.\n",
      "Formatting X2\n",
      "There are  1037026  variants.\n",
      "Removing  0  duplicated variants leaving  1037026 variants.\n",
      "No variants have illegal alleles.\n",
      "Removed  0  variants with ambiguous strand.\n",
      "Flipping strand and effect allele so A1 is always A\n",
      "Returning  1037026  variants.\n",
      "After merging and removing variants with inconsistent alleles,  there are  1037001  variants that are present in both studies and can be used with CAUSE.\n"
     ]
    },
    {
     "name": "stderr",
     "output_type": "stream",
     "text": [
      "Clumping o6mBux, 57412 variants, using EUR population reference\n",
      "\n",
      "Removing 51907 of 57412 variants due to LD with other variants or absence from LD reference panel\n",
      "\n"
     ]
    },
    {
     "name": "stdout",
     "output_type": "stream",
     "text": [
      "Estimating CAUSE parameters with  1000000  variants.\n",
      "1 0.1604155 \n",
      "2 0.0008798592 \n",
      "3 2.057368e-05 \n",
      "4 4.833017e-07 \n",
      "5 1.125542e-08 \n",
      "Estimating CAUSE posteriors using  5505  variants.\n"
     ]
    },
    {
     "name": "stderr",
     "output_type": "stream",
     "text": [
      "Warning message:\n",
      "“'compare' is deprecated.\n",
      "Use 'loo_compare' instead.\n",
      "See help(\"Deprecated\")”\n"
     ]
    },
    {
     "name": "stdout",
     "output_type": "stream",
     "text": [
      "    user   system  elapsed \n",
      "5115.041 2337.923  667.624 \n",
      "Depression ~ Hair_Light_Brown \n"
     ]
    },
    {
     "name": "stderr",
     "output_type": "stream",
     "text": [
      "\u001b[1m\u001b[1mRows: \u001b[1m\u001b[22m\u001b[34m\u001b[34m1026744\u001b[34m\u001b[39m \u001b[1m\u001b[1mColumns: \u001b[1m\u001b[22m\u001b[34m\u001b[34m7\u001b[34m\u001b[39m\n",
      "\n",
      "\u001b[36m──\u001b[39m \u001b[1m\u001b[1mColumn specification\u001b[1m\u001b[22m \u001b[36m────────────────────────────────────────────────────────────────────────────────────────────────────────\u001b[39m\n",
      "\u001b[1mDelimiter:\u001b[22m \"\\t\"\n",
      "\u001b[31mchr\u001b[39m (3): SNP, A1, A2\n",
      "\u001b[32mdbl\u001b[39m (4): Z, N, chi2, P\n",
      "\n",
      "\n",
      "\u001b[36mℹ\u001b[39m Use \u001b[30m\u001b[47m\u001b[30m\u001b[47m`spec()`\u001b[47m\u001b[30m\u001b[49m\u001b[39m to retrieve the full column specification for this data.\n",
      "\u001b[36mℹ\u001b[39m Specify the column types or set \u001b[30m\u001b[47m\u001b[30m\u001b[47m`show_col_types = FALSE`\u001b[47m\u001b[30m\u001b[49m\u001b[39m to quiet this message.\n",
      "\n",
      "\u001b[1m\u001b[1mRows: \u001b[1m\u001b[22m\u001b[34m\u001b[34m1037742\u001b[34m\u001b[39m \u001b[1m\u001b[1mColumns: \u001b[1m\u001b[22m\u001b[34m\u001b[34m7\u001b[34m\u001b[39m\n",
      "\n",
      "\u001b[36m──\u001b[39m \u001b[1m\u001b[1mColumn specification\u001b[1m\u001b[22m \u001b[36m────────────────────────────────────────────────────────────────────────────────────────────────────────\u001b[39m\n",
      "\u001b[1mDelimiter:\u001b[22m \"\\t\"\n",
      "\u001b[31mchr\u001b[39m (3): SNP, A1, A2\n",
      "\u001b[32mdbl\u001b[39m (4): Z, N, chi2, P\n",
      "\n",
      "\n",
      "\u001b[36mℹ\u001b[39m Use \u001b[30m\u001b[47m\u001b[30m\u001b[47m`spec()`\u001b[47m\u001b[30m\u001b[49m\u001b[39m to retrieve the full column specification for this data.\n",
      "\u001b[36mℹ\u001b[39m Specify the column types or set \u001b[30m\u001b[47m\u001b[30m\u001b[47m`show_col_types = FALSE`\u001b[47m\u001b[30m\u001b[49m\u001b[39m to quiet this message.\n",
      "\n"
     ]
    },
    {
     "name": "stdout",
     "output_type": "stream",
     "text": [
      "Formatting X1\n",
      "There are  1026744  variants.\n",
      "Removing  0  duplicated variants leaving  1026744 variants.\n",
      "No variants have illegal alleles.\n",
      "Removed  0  variants with ambiguous strand.\n",
      "Flipping strand and effect allele so A1 is always A\n",
      "Returning  1026744  variants.\n",
      "Formatting X2\n",
      "There are  1037742  variants.\n",
      "Removing  0  duplicated variants leaving  1037742 variants.\n",
      "No variants have illegal alleles.\n",
      "Removed  0  variants with ambiguous strand.\n",
      "Flipping strand and effect allele so A1 is always A\n",
      "Returning  1037742  variants.\n",
      "After merging and removing variants with inconsistent alleles,  there are  1026271  variants that are present in both studies and can be used with CAUSE.\n"
     ]
    },
    {
     "name": "stderr",
     "output_type": "stream",
     "text": [
      "Clumping eqj2ge, 7449 variants, using EUR population reference\n",
      "\n",
      "Removing 6212 of 7449 variants due to LD with other variants or absence from LD reference panel\n",
      "\n"
     ]
    },
    {
     "name": "stdout",
     "output_type": "stream",
     "text": [
      "Estimating CAUSE parameters with  1000000  variants.\n",
      "1 0.01363559 \n",
      "2 1.037093e-05 \n",
      "3 1.373538e-08 \n",
      "Estimating CAUSE posteriors using  1237  variants.\n"
     ]
    },
    {
     "name": "stderr",
     "output_type": "stream",
     "text": [
      "Warning message:\n",
      "“'compare' is deprecated.\n",
      "Use 'loo_compare' instead.\n",
      "See help(\"Deprecated\")”\n"
     ]
    },
    {
     "name": "stdout",
     "output_type": "stream",
     "text": [
      "    user   system  elapsed \n",
      "2403.655 1740.791  449.169 \n",
      "Depression ~ Hair_Dark_Brown \n"
     ]
    },
    {
     "name": "stderr",
     "output_type": "stream",
     "text": [
      "\u001b[1m\u001b[1mRows: \u001b[1m\u001b[22m\u001b[34m\u001b[34m1026744\u001b[34m\u001b[39m \u001b[1m\u001b[1mColumns: \u001b[1m\u001b[22m\u001b[34m\u001b[34m7\u001b[34m\u001b[39m\n",
      "\n",
      "\u001b[36m──\u001b[39m \u001b[1m\u001b[1mColumn specification\u001b[1m\u001b[22m \u001b[36m────────────────────────────────────────────────────────────────────────────────────────────────────────\u001b[39m\n",
      "\u001b[1mDelimiter:\u001b[22m \"\\t\"\n",
      "\u001b[31mchr\u001b[39m (3): SNP, A1, A2\n",
      "\u001b[32mdbl\u001b[39m (4): Z, N, chi2, P\n",
      "\n",
      "\n",
      "\u001b[36mℹ\u001b[39m Use \u001b[30m\u001b[47m\u001b[30m\u001b[47m`spec()`\u001b[47m\u001b[30m\u001b[49m\u001b[39m to retrieve the full column specification for this data.\n",
      "\u001b[36mℹ\u001b[39m Specify the column types or set \u001b[30m\u001b[47m\u001b[30m\u001b[47m`show_col_types = FALSE`\u001b[47m\u001b[30m\u001b[49m\u001b[39m to quiet this message.\n",
      "\n",
      "\u001b[1m\u001b[1mRows: \u001b[1m\u001b[22m\u001b[34m\u001b[34m1037381\u001b[34m\u001b[39m \u001b[1m\u001b[1mColumns: \u001b[1m\u001b[22m\u001b[34m\u001b[34m7\u001b[34m\u001b[39m\n",
      "\n",
      "\u001b[36m──\u001b[39m \u001b[1m\u001b[1mColumn specification\u001b[1m\u001b[22m \u001b[36m────────────────────────────────────────────────────────────────────────────────────────────────────────\u001b[39m\n",
      "\u001b[1mDelimiter:\u001b[22m \"\\t\"\n",
      "\u001b[31mchr\u001b[39m (3): SNP, A1, A2\n",
      "\u001b[32mdbl\u001b[39m (4): Z, N, chi2, P\n",
      "\n",
      "\n",
      "\u001b[36mℹ\u001b[39m Use \u001b[30m\u001b[47m\u001b[30m\u001b[47m`spec()`\u001b[47m\u001b[30m\u001b[49m\u001b[39m to retrieve the full column specification for this data.\n",
      "\u001b[36mℹ\u001b[39m Specify the column types or set \u001b[30m\u001b[47m\u001b[30m\u001b[47m`show_col_types = FALSE`\u001b[47m\u001b[30m\u001b[49m\u001b[39m to quiet this message.\n",
      "\n"
     ]
    },
    {
     "name": "stdout",
     "output_type": "stream",
     "text": [
      "Formatting X1\n",
      "There are  1026744  variants.\n",
      "Removing  0  duplicated variants leaving  1026744 variants.\n",
      "No variants have illegal alleles.\n",
      "Removed  0  variants with ambiguous strand.\n",
      "Flipping strand and effect allele so A1 is always A\n",
      "Returning  1026744  variants.\n",
      "Formatting X2\n",
      "There are  1037381  variants.\n",
      "Removing  0  duplicated variants leaving  1037381 variants.\n",
      "No variants have illegal alleles.\n",
      "Removed  0  variants with ambiguous strand.\n",
      "Flipping strand and effect allele so A1 is always A\n",
      "Returning  1037381  variants.\n",
      "After merging and removing variants with inconsistent alleles,  there are  1025910  variants that are present in both studies and can be used with CAUSE.\n"
     ]
    },
    {
     "name": "stderr",
     "output_type": "stream",
     "text": [
      "Clumping NXob5X, 7449 variants, using EUR population reference\n",
      "\n",
      "Removing 6212 of 7449 variants due to LD with other variants or absence from LD reference panel\n",
      "\n"
     ]
    },
    {
     "name": "stdout",
     "output_type": "stream",
     "text": [
      "Estimating CAUSE parameters with  1000000  variants.\n",
      "1 0.001286288 \n",
      "2 5.110443e-07 \n",
      "3 2.789508e-09 \n",
      "Estimating CAUSE posteriors using  1237  variants.\n"
     ]
    },
    {
     "name": "stderr",
     "output_type": "stream",
     "text": [
      "Warning message:\n",
      "“'compare' is deprecated.\n",
      "Use 'loo_compare' instead.\n",
      "See help(\"Deprecated\")”\n"
     ]
    },
    {
     "name": "stdout",
     "output_type": "stream",
     "text": [
      "    user   system  elapsed \n",
      "2150.841 1499.737  397.999 \n",
      "Depression ~ Hair_Black \n"
     ]
    },
    {
     "name": "stderr",
     "output_type": "stream",
     "text": [
      "\u001b[1m\u001b[1mRows: \u001b[1m\u001b[22m\u001b[34m\u001b[34m1026744\u001b[34m\u001b[39m \u001b[1m\u001b[1mColumns: \u001b[1m\u001b[22m\u001b[34m\u001b[34m7\u001b[34m\u001b[39m\n",
      "\n",
      "\u001b[36m──\u001b[39m \u001b[1m\u001b[1mColumn specification\u001b[1m\u001b[22m \u001b[36m────────────────────────────────────────────────────────────────────────────────────────────────────────\u001b[39m\n",
      "\u001b[1mDelimiter:\u001b[22m \"\\t\"\n",
      "\u001b[31mchr\u001b[39m (3): SNP, A1, A2\n",
      "\u001b[32mdbl\u001b[39m (4): Z, N, chi2, P\n",
      "\n",
      "\n",
      "\u001b[36mℹ\u001b[39m Use \u001b[30m\u001b[47m\u001b[30m\u001b[47m`spec()`\u001b[47m\u001b[30m\u001b[49m\u001b[39m to retrieve the full column specification for this data.\n",
      "\u001b[36mℹ\u001b[39m Specify the column types or set \u001b[30m\u001b[47m\u001b[30m\u001b[47m`show_col_types = FALSE`\u001b[47m\u001b[30m\u001b[49m\u001b[39m to quiet this message.\n",
      "\n",
      "\u001b[1m\u001b[1mRows: \u001b[1m\u001b[22m\u001b[34m\u001b[34m1037702\u001b[34m\u001b[39m \u001b[1m\u001b[1mColumns: \u001b[1m\u001b[22m\u001b[34m\u001b[34m7\u001b[34m\u001b[39m\n",
      "\n",
      "\u001b[36m──\u001b[39m \u001b[1m\u001b[1mColumn specification\u001b[1m\u001b[22m \u001b[36m────────────────────────────────────────────────────────────────────────────────────────────────────────\u001b[39m\n",
      "\u001b[1mDelimiter:\u001b[22m \"\\t\"\n",
      "\u001b[31mchr\u001b[39m (3): SNP, A1, A2\n",
      "\u001b[32mdbl\u001b[39m (4): Z, N, chi2, P\n",
      "\n",
      "\n",
      "\u001b[36mℹ\u001b[39m Use \u001b[30m\u001b[47m\u001b[30m\u001b[47m`spec()`\u001b[47m\u001b[30m\u001b[49m\u001b[39m to retrieve the full column specification for this data.\n",
      "\u001b[36mℹ\u001b[39m Specify the column types or set \u001b[30m\u001b[47m\u001b[30m\u001b[47m`show_col_types = FALSE`\u001b[47m\u001b[30m\u001b[49m\u001b[39m to quiet this message.\n",
      "\n"
     ]
    },
    {
     "name": "stdout",
     "output_type": "stream",
     "text": [
      "Formatting X1\n",
      "There are  1026744  variants.\n",
      "Removing  0  duplicated variants leaving  1026744 variants.\n",
      "No variants have illegal alleles.\n",
      "Removed  0  variants with ambiguous strand.\n",
      "Flipping strand and effect allele so A1 is always A\n",
      "Returning  1026744  variants.\n",
      "Formatting X2\n",
      "There are  1037702  variants.\n",
      "Removing  0  duplicated variants leaving  1037702 variants.\n",
      "No variants have illegal alleles.\n",
      "Removed  0  variants with ambiguous strand.\n",
      "Flipping strand and effect allele so A1 is always A\n",
      "Returning  1037702  variants.\n",
      "After merging and removing variants with inconsistent alleles,  there are  1026231  variants that are present in both studies and can be used with CAUSE.\n"
     ]
    },
    {
     "name": "stderr",
     "output_type": "stream",
     "text": [
      "Clumping ZZJaWN, 7449 variants, using EUR population reference\n",
      "\n",
      "Removing 6212 of 7449 variants due to LD with other variants or absence from LD reference panel\n",
      "\n"
     ]
    },
    {
     "name": "stdout",
     "output_type": "stream",
     "text": [
      "Estimating CAUSE parameters with  1000000  variants.\n",
      "1 0.03365312 \n",
      "2 2.750723e-05 \n",
      "3 7.487339e-08 \n",
      "Estimating CAUSE posteriors using  1237  variants.\n"
     ]
    },
    {
     "name": "stderr",
     "output_type": "stream",
     "text": [
      "Warning message:\n",
      "“'compare' is deprecated.\n",
      "Use 'loo_compare' instead.\n",
      "See help(\"Deprecated\")”\n"
     ]
    },
    {
     "name": "stdout",
     "output_type": "stream",
     "text": [
      "    user   system  elapsed \n",
      "2182.939 1639.698  402.735 \n",
      "Depression ~ Hair_Blonde \n"
     ]
    },
    {
     "name": "stderr",
     "output_type": "stream",
     "text": [
      "\u001b[1m\u001b[1mRows: \u001b[1m\u001b[22m\u001b[34m\u001b[34m1026744\u001b[34m\u001b[39m \u001b[1m\u001b[1mColumns: \u001b[1m\u001b[22m\u001b[34m\u001b[34m7\u001b[34m\u001b[39m\n",
      "\n",
      "\u001b[36m──\u001b[39m \u001b[1m\u001b[1mColumn specification\u001b[1m\u001b[22m \u001b[36m────────────────────────────────────────────────────────────────────────────────────────────────────────\u001b[39m\n",
      "\u001b[1mDelimiter:\u001b[22m \"\\t\"\n",
      "\u001b[31mchr\u001b[39m (3): SNP, A1, A2\n",
      "\u001b[32mdbl\u001b[39m (4): Z, N, chi2, P\n",
      "\n",
      "\n",
      "\u001b[36mℹ\u001b[39m Use \u001b[30m\u001b[47m\u001b[30m\u001b[47m`spec()`\u001b[47m\u001b[30m\u001b[49m\u001b[39m to retrieve the full column specification for this data.\n",
      "\u001b[36mℹ\u001b[39m Specify the column types or set \u001b[30m\u001b[47m\u001b[30m\u001b[47m`show_col_types = FALSE`\u001b[47m\u001b[30m\u001b[49m\u001b[39m to quiet this message.\n",
      "\n",
      "\u001b[1m\u001b[1mRows: \u001b[1m\u001b[22m\u001b[34m\u001b[34m1037533\u001b[34m\u001b[39m \u001b[1m\u001b[1mColumns: \u001b[1m\u001b[22m\u001b[34m\u001b[34m7\u001b[34m\u001b[39m\n",
      "\n",
      "\u001b[36m──\u001b[39m \u001b[1m\u001b[1mColumn specification\u001b[1m\u001b[22m \u001b[36m────────────────────────────────────────────────────────────────────────────────────────────────────────\u001b[39m\n",
      "\u001b[1mDelimiter:\u001b[22m \"\\t\"\n",
      "\u001b[31mchr\u001b[39m (3): SNP, A1, A2\n",
      "\u001b[32mdbl\u001b[39m (4): Z, N, chi2, P\n",
      "\n",
      "\n",
      "\u001b[36mℹ\u001b[39m Use \u001b[30m\u001b[47m\u001b[30m\u001b[47m`spec()`\u001b[47m\u001b[30m\u001b[49m\u001b[39m to retrieve the full column specification for this data.\n",
      "\u001b[36mℹ\u001b[39m Specify the column types or set \u001b[30m\u001b[47m\u001b[30m\u001b[47m`show_col_types = FALSE`\u001b[47m\u001b[30m\u001b[49m\u001b[39m to quiet this message.\n",
      "\n"
     ]
    },
    {
     "name": "stdout",
     "output_type": "stream",
     "text": [
      "Formatting X1\n",
      "There are  1026744  variants.\n",
      "Removing  0  duplicated variants leaving  1026744 variants.\n",
      "No variants have illegal alleles.\n",
      "Removed  0  variants with ambiguous strand.\n",
      "Flipping strand and effect allele so A1 is always A\n",
      "Returning  1026744  variants.\n",
      "Formatting X2\n",
      "There are  1037533  variants.\n",
      "Removing  0  duplicated variants leaving  1037533 variants.\n",
      "No variants have illegal alleles.\n",
      "Removed  0  variants with ambiguous strand.\n",
      "Flipping strand and effect allele so A1 is always A\n",
      "Returning  1037533  variants.\n",
      "After merging and removing variants with inconsistent alleles,  there are  1026062  variants that are present in both studies and can be used with CAUSE.\n"
     ]
    },
    {
     "name": "stderr",
     "output_type": "stream",
     "text": [
      "Clumping eEJWEh, 7449 variants, using EUR population reference\n",
      "\n",
      "Removing 6212 of 7449 variants due to LD with other variants or absence from LD reference panel\n",
      "\n"
     ]
    },
    {
     "name": "stdout",
     "output_type": "stream",
     "text": [
      "Estimating CAUSE parameters with  1000000  variants.\n",
      "1 0.006899643 \n",
      "2 9.080278e-06 \n",
      "3 1.327014e-08 \n",
      "Estimating CAUSE posteriors using  1237  variants.\n"
     ]
    },
    {
     "name": "stderr",
     "output_type": "stream",
     "text": [
      "Warning message:\n",
      "“'compare' is deprecated.\n",
      "Use 'loo_compare' instead.\n",
      "See help(\"Deprecated\")”\n"
     ]
    },
    {
     "name": "stdout",
     "output_type": "stream",
     "text": [
      "    user   system  elapsed \n",
      "2133.841 1653.402  401.933 \n",
      "Depression ~ Tanning \n"
     ]
    },
    {
     "name": "stderr",
     "output_type": "stream",
     "text": [
      "\u001b[1m\u001b[1mRows: \u001b[1m\u001b[22m\u001b[34m\u001b[34m1026744\u001b[34m\u001b[39m \u001b[1m\u001b[1mColumns: \u001b[1m\u001b[22m\u001b[34m\u001b[34m7\u001b[34m\u001b[39m\n",
      "\n",
      "\u001b[36m──\u001b[39m \u001b[1m\u001b[1mColumn specification\u001b[1m\u001b[22m \u001b[36m────────────────────────────────────────────────────────────────────────────────────────────────────────\u001b[39m\n",
      "\u001b[1mDelimiter:\u001b[22m \"\\t\"\n",
      "\u001b[31mchr\u001b[39m (3): SNP, A1, A2\n",
      "\u001b[32mdbl\u001b[39m (4): Z, N, chi2, P\n",
      "\n",
      "\n",
      "\u001b[36mℹ\u001b[39m Use \u001b[30m\u001b[47m\u001b[30m\u001b[47m`spec()`\u001b[47m\u001b[30m\u001b[49m\u001b[39m to retrieve the full column specification for this data.\n",
      "\u001b[36mℹ\u001b[39m Specify the column types or set \u001b[30m\u001b[47m\u001b[30m\u001b[47m`show_col_types = FALSE`\u001b[47m\u001b[30m\u001b[49m\u001b[39m to quiet this message.\n",
      "\n",
      "\u001b[1m\u001b[1mRows: \u001b[1m\u001b[22m\u001b[34m\u001b[34m1037026\u001b[34m\u001b[39m \u001b[1m\u001b[1mColumns: \u001b[1m\u001b[22m\u001b[34m\u001b[34m7\u001b[34m\u001b[39m\n",
      "\n",
      "\u001b[36m──\u001b[39m \u001b[1m\u001b[1mColumn specification\u001b[1m\u001b[22m \u001b[36m────────────────────────────────────────────────────────────────────────────────────────────────────────\u001b[39m\n",
      "\u001b[1mDelimiter:\u001b[22m \"\\t\"\n",
      "\u001b[31mchr\u001b[39m (3): SNP, A1, A2\n",
      "\u001b[32mdbl\u001b[39m (4): Z, N, chi2, P\n",
      "\n",
      "\n",
      "\u001b[36mℹ\u001b[39m Use \u001b[30m\u001b[47m\u001b[30m\u001b[47m`spec()`\u001b[47m\u001b[30m\u001b[49m\u001b[39m to retrieve the full column specification for this data.\n",
      "\u001b[36mℹ\u001b[39m Specify the column types or set \u001b[30m\u001b[47m\u001b[30m\u001b[47m`show_col_types = FALSE`\u001b[47m\u001b[30m\u001b[49m\u001b[39m to quiet this message.\n",
      "\n"
     ]
    },
    {
     "name": "stdout",
     "output_type": "stream",
     "text": [
      "Formatting X1\n",
      "There are  1026744  variants.\n",
      "Removing  0  duplicated variants leaving  1026744 variants.\n",
      "No variants have illegal alleles.\n",
      "Removed  0  variants with ambiguous strand.\n",
      "Flipping strand and effect allele so A1 is always A\n",
      "Returning  1026744  variants.\n",
      "Formatting X2\n",
      "There are  1037026  variants.\n",
      "Removing  0  duplicated variants leaving  1037026 variants.\n",
      "No variants have illegal alleles.\n",
      "Removed  0  variants with ambiguous strand.\n",
      "Flipping strand and effect allele so A1 is always A\n",
      "Returning  1037026  variants.\n",
      "After merging and removing variants with inconsistent alleles,  there are  1025557  variants that are present in both studies and can be used with CAUSE.\n"
     ]
    },
    {
     "name": "stderr",
     "output_type": "stream",
     "text": [
      "Clumping b9AJfw, 7441 variants, using EUR population reference\n",
      "\n",
      "Removing 6205 of 7441 variants due to LD with other variants or absence from LD reference panel\n",
      "\n"
     ]
    },
    {
     "name": "stdout",
     "output_type": "stream",
     "text": [
      "Estimating CAUSE parameters with  1000000  variants.\n",
      "1 0.01339958 \n",
      "2 1.574433e-05 \n",
      "3 2.343355e-08 \n",
      "Estimating CAUSE posteriors using  1236  variants.\n"
     ]
    },
    {
     "name": "stderr",
     "output_type": "stream",
     "text": [
      "Warning message:\n",
      "“'compare' is deprecated.\n",
      "Use 'loo_compare' instead.\n",
      "See help(\"Deprecated\")”\n"
     ]
    },
    {
     "name": "stdout",
     "output_type": "stream",
     "text": [
      "    user   system  elapsed \n",
      "2393.211 1891.071  456.491 \n",
      "IBD ~ Hair_Light_Brown \n"
     ]
    },
    {
     "name": "stderr",
     "output_type": "stream",
     "text": [
      "\u001b[1m\u001b[1mRows: \u001b[1m\u001b[22m\u001b[34m\u001b[34m1004597\u001b[34m\u001b[39m \u001b[1m\u001b[1mColumns: \u001b[1m\u001b[22m\u001b[34m\u001b[34m7\u001b[34m\u001b[39m\n",
      "\n",
      "\u001b[36m──\u001b[39m \u001b[1m\u001b[1mColumn specification\u001b[1m\u001b[22m \u001b[36m────────────────────────────────────────────────────────────────────────────────────────────────────────\u001b[39m\n",
      "\u001b[1mDelimiter:\u001b[22m \"\\t\"\n",
      "\u001b[31mchr\u001b[39m (3): SNP, A1, A2\n",
      "\u001b[32mdbl\u001b[39m (4): Z, N, chi2, P\n",
      "\n",
      "\n",
      "\u001b[36mℹ\u001b[39m Use \u001b[30m\u001b[47m\u001b[30m\u001b[47m`spec()`\u001b[47m\u001b[30m\u001b[49m\u001b[39m to retrieve the full column specification for this data.\n",
      "\u001b[36mℹ\u001b[39m Specify the column types or set \u001b[30m\u001b[47m\u001b[30m\u001b[47m`show_col_types = FALSE`\u001b[47m\u001b[30m\u001b[49m\u001b[39m to quiet this message.\n",
      "\n",
      "\u001b[1m\u001b[1mRows: \u001b[1m\u001b[22m\u001b[34m\u001b[34m1037742\u001b[34m\u001b[39m \u001b[1m\u001b[1mColumns: \u001b[1m\u001b[22m\u001b[34m\u001b[34m7\u001b[34m\u001b[39m\n",
      "\n",
      "\u001b[36m──\u001b[39m \u001b[1m\u001b[1mColumn specification\u001b[1m\u001b[22m \u001b[36m────────────────────────────────────────────────────────────────────────────────────────────────────────\u001b[39m\n",
      "\u001b[1mDelimiter:\u001b[22m \"\\t\"\n",
      "\u001b[31mchr\u001b[39m (3): SNP, A1, A2\n",
      "\u001b[32mdbl\u001b[39m (4): Z, N, chi2, P\n",
      "\n",
      "\n",
      "\u001b[36mℹ\u001b[39m Use \u001b[30m\u001b[47m\u001b[30m\u001b[47m`spec()`\u001b[47m\u001b[30m\u001b[49m\u001b[39m to retrieve the full column specification for this data.\n",
      "\u001b[36mℹ\u001b[39m Specify the column types or set \u001b[30m\u001b[47m\u001b[30m\u001b[47m`show_col_types = FALSE`\u001b[47m\u001b[30m\u001b[49m\u001b[39m to quiet this message.\n",
      "\n"
     ]
    },
    {
     "name": "stdout",
     "output_type": "stream",
     "text": [
      "Formatting X1\n",
      "There are  1004597  variants.\n",
      "Removing  0  duplicated variants leaving  1004597 variants.\n",
      "No variants have illegal alleles.\n",
      "Removed  0  variants with ambiguous strand.\n",
      "Flipping strand and effect allele so A1 is always A\n",
      "Returning  1004597  variants.\n",
      "Formatting X2\n",
      "There are  1037742  variants.\n",
      "Removing  0  duplicated variants leaving  1037742 variants.\n",
      "No variants have illegal alleles.\n",
      "Removed  0  variants with ambiguous strand.\n",
      "Flipping strand and effect allele so A1 is always A\n",
      "Returning  1037742  variants.\n",
      "After merging and removing variants with inconsistent alleles,  there are  1004516  variants that are present in both studies and can be used with CAUSE.\n"
     ]
    },
    {
     "name": "stderr",
     "output_type": "stream",
     "text": [
      "Clumping GS5EKf, 12006 variants, using EUR population reference\n",
      "\n",
      "Removing 10293 of 12006 variants due to LD with other variants or absence from LD reference panel\n",
      "\n"
     ]
    },
    {
     "name": "stdout",
     "output_type": "stream",
     "text": [
      "Estimating CAUSE parameters with  1000000  variants.\n",
      "1 0.01764935 \n",
      "2 3.465615e-06 \n",
      "3 6.676316e-09 \n",
      "Estimating CAUSE posteriors using  1713  variants.\n"
     ]
    },
    {
     "name": "stderr",
     "output_type": "stream",
     "text": [
      "Warning message:\n",
      "“'compare' is deprecated.\n",
      "Use 'loo_compare' instead.\n",
      "See help(\"Deprecated\")”\n"
     ]
    },
    {
     "name": "stdout",
     "output_type": "stream",
     "text": [
      "    user   system  elapsed \n",
      "2701.071 1739.498  471.904 \n",
      "IBD ~ Hair_Dark_Brown \n"
     ]
    },
    {
     "name": "stderr",
     "output_type": "stream",
     "text": [
      "\u001b[1m\u001b[1mRows: \u001b[1m\u001b[22m\u001b[34m\u001b[34m1004597\u001b[34m\u001b[39m \u001b[1m\u001b[1mColumns: \u001b[1m\u001b[22m\u001b[34m\u001b[34m7\u001b[34m\u001b[39m\n",
      "\n",
      "\u001b[36m──\u001b[39m \u001b[1m\u001b[1mColumn specification\u001b[1m\u001b[22m \u001b[36m────────────────────────────────────────────────────────────────────────────────────────────────────────\u001b[39m\n",
      "\u001b[1mDelimiter:\u001b[22m \"\\t\"\n",
      "\u001b[31mchr\u001b[39m (3): SNP, A1, A2\n",
      "\u001b[32mdbl\u001b[39m (4): Z, N, chi2, P\n",
      "\n",
      "\n",
      "\u001b[36mℹ\u001b[39m Use \u001b[30m\u001b[47m\u001b[30m\u001b[47m`spec()`\u001b[47m\u001b[30m\u001b[49m\u001b[39m to retrieve the full column specification for this data.\n",
      "\u001b[36mℹ\u001b[39m Specify the column types or set \u001b[30m\u001b[47m\u001b[30m\u001b[47m`show_col_types = FALSE`\u001b[47m\u001b[30m\u001b[49m\u001b[39m to quiet this message.\n",
      "\n",
      "\u001b[1m\u001b[1mRows: \u001b[1m\u001b[22m\u001b[34m\u001b[34m1037381\u001b[34m\u001b[39m \u001b[1m\u001b[1mColumns: \u001b[1m\u001b[22m\u001b[34m\u001b[34m7\u001b[34m\u001b[39m\n",
      "\n",
      "\u001b[36m──\u001b[39m \u001b[1m\u001b[1mColumn specification\u001b[1m\u001b[22m \u001b[36m────────────────────────────────────────────────────────────────────────────────────────────────────────\u001b[39m\n",
      "\u001b[1mDelimiter:\u001b[22m \"\\t\"\n",
      "\u001b[31mchr\u001b[39m (3): SNP, A1, A2\n",
      "\u001b[32mdbl\u001b[39m (4): Z, N, chi2, P\n",
      "\n",
      "\n",
      "\u001b[36mℹ\u001b[39m Use \u001b[30m\u001b[47m\u001b[30m\u001b[47m`spec()`\u001b[47m\u001b[30m\u001b[49m\u001b[39m to retrieve the full column specification for this data.\n",
      "\u001b[36mℹ\u001b[39m Specify the column types or set \u001b[30m\u001b[47m\u001b[30m\u001b[47m`show_col_types = FALSE`\u001b[47m\u001b[30m\u001b[49m\u001b[39m to quiet this message.\n",
      "\n"
     ]
    },
    {
     "name": "stdout",
     "output_type": "stream",
     "text": [
      "Formatting X1\n",
      "There are  1004597  variants.\n",
      "Removing  0  duplicated variants leaving  1004597 variants.\n",
      "No variants have illegal alleles.\n",
      "Removed  0  variants with ambiguous strand.\n",
      "Flipping strand and effect allele so A1 is always A\n",
      "Returning  1004597  variants.\n",
      "Formatting X2\n",
      "There are  1037381  variants.\n",
      "Removing  0  duplicated variants leaving  1037381 variants.\n",
      "No variants have illegal alleles.\n",
      "Removed  0  variants with ambiguous strand.\n",
      "Flipping strand and effect allele so A1 is always A\n",
      "Returning  1037381  variants.\n",
      "After merging and removing variants with inconsistent alleles,  there are  1004168  variants that are present in both studies and can be used with CAUSE.\n"
     ]
    },
    {
     "name": "stderr",
     "output_type": "stream",
     "text": [
      "Clumping 6Pz6iF, 12006 variants, using EUR population reference\n",
      "\n",
      "Removing 10293 of 12006 variants due to LD with other variants or absence from LD reference panel\n",
      "\n"
     ]
    },
    {
     "name": "stdout",
     "output_type": "stream",
     "text": [
      "Estimating CAUSE parameters with  1000000  variants.\n",
      "1 0.016736 \n",
      "2 4.062129e-06 \n",
      "3 2.317381e-09 \n",
      "Estimating CAUSE posteriors using  1713  variants.\n"
     ]
    },
    {
     "name": "stderr",
     "output_type": "stream",
     "text": [
      "Warning message:\n",
      "“'compare' is deprecated.\n",
      "Use 'loo_compare' instead.\n",
      "See help(\"Deprecated\")”\n"
     ]
    },
    {
     "name": "stdout",
     "output_type": "stream",
     "text": [
      "    user   system  elapsed \n",
      "2680.800 1726.320  455.347 \n",
      "IBD ~ Hair_Black \n"
     ]
    },
    {
     "name": "stderr",
     "output_type": "stream",
     "text": [
      "\u001b[1m\u001b[1mRows: \u001b[1m\u001b[22m\u001b[34m\u001b[34m1004597\u001b[34m\u001b[39m \u001b[1m\u001b[1mColumns: \u001b[1m\u001b[22m\u001b[34m\u001b[34m7\u001b[34m\u001b[39m\n",
      "\n",
      "\u001b[36m──\u001b[39m \u001b[1m\u001b[1mColumn specification\u001b[1m\u001b[22m \u001b[36m────────────────────────────────────────────────────────────────────────────────────────────────────────\u001b[39m\n",
      "\u001b[1mDelimiter:\u001b[22m \"\\t\"\n",
      "\u001b[31mchr\u001b[39m (3): SNP, A1, A2\n",
      "\u001b[32mdbl\u001b[39m (4): Z, N, chi2, P\n",
      "\n",
      "\n",
      "\u001b[36mℹ\u001b[39m Use \u001b[30m\u001b[47m\u001b[30m\u001b[47m`spec()`\u001b[47m\u001b[30m\u001b[49m\u001b[39m to retrieve the full column specification for this data.\n",
      "\u001b[36mℹ\u001b[39m Specify the column types or set \u001b[30m\u001b[47m\u001b[30m\u001b[47m`show_col_types = FALSE`\u001b[47m\u001b[30m\u001b[49m\u001b[39m to quiet this message.\n",
      "\n",
      "\u001b[1m\u001b[1mRows: \u001b[1m\u001b[22m\u001b[34m\u001b[34m1037702\u001b[34m\u001b[39m \u001b[1m\u001b[1mColumns: \u001b[1m\u001b[22m\u001b[34m\u001b[34m7\u001b[34m\u001b[39m\n",
      "\n",
      "\u001b[36m──\u001b[39m \u001b[1m\u001b[1mColumn specification\u001b[1m\u001b[22m \u001b[36m────────────────────────────────────────────────────────────────────────────────────────────────────────\u001b[39m\n",
      "\u001b[1mDelimiter:\u001b[22m \"\\t\"\n",
      "\u001b[31mchr\u001b[39m (3): SNP, A1, A2\n",
      "\u001b[32mdbl\u001b[39m (4): Z, N, chi2, P\n",
      "\n",
      "\n",
      "\u001b[36mℹ\u001b[39m Use \u001b[30m\u001b[47m\u001b[30m\u001b[47m`spec()`\u001b[47m\u001b[30m\u001b[49m\u001b[39m to retrieve the full column specification for this data.\n",
      "\u001b[36mℹ\u001b[39m Specify the column types or set \u001b[30m\u001b[47m\u001b[30m\u001b[47m`show_col_types = FALSE`\u001b[47m\u001b[30m\u001b[49m\u001b[39m to quiet this message.\n",
      "\n"
     ]
    },
    {
     "name": "stdout",
     "output_type": "stream",
     "text": [
      "Formatting X1\n",
      "There are  1004597  variants.\n",
      "Removing  0  duplicated variants leaving  1004597 variants.\n",
      "No variants have illegal alleles.\n",
      "Removed  0  variants with ambiguous strand.\n",
      "Flipping strand and effect allele so A1 is always A\n",
      "Returning  1004597  variants.\n",
      "Formatting X2\n",
      "There are  1037702  variants.\n",
      "Removing  0  duplicated variants leaving  1037702 variants.\n",
      "No variants have illegal alleles.\n",
      "Removed  0  variants with ambiguous strand.\n",
      "Flipping strand and effect allele so A1 is always A\n",
      "Returning  1037702  variants.\n",
      "After merging and removing variants with inconsistent alleles,  there are  1004477  variants that are present in both studies and can be used with CAUSE.\n"
     ]
    },
    {
     "name": "stderr",
     "output_type": "stream",
     "text": [
      "Clumping VuefI1, 12006 variants, using EUR population reference\n",
      "\n",
      "Removing 10293 of 12006 variants due to LD with other variants or absence from LD reference panel\n",
      "\n"
     ]
    },
    {
     "name": "stdout",
     "output_type": "stream",
     "text": [
      "Estimating CAUSE parameters with  1000000  variants.\n",
      "1 0.002476201 \n",
      "2 7.025943e-07 \n",
      "3 8.202206e-10 \n",
      "Estimating CAUSE posteriors using  1713  variants.\n"
     ]
    },
    {
     "name": "stderr",
     "output_type": "stream",
     "text": [
      "Warning message:\n",
      "“Some Pareto k diagnostic values are slightly high. See help('pareto-k-diagnostic') for details.\n",
      "”\n",
      "Warning message:\n",
      "“'compare' is deprecated.\n",
      "Use 'loo_compare' instead.\n",
      "See help(\"Deprecated\")”\n"
     ]
    },
    {
     "name": "stdout",
     "output_type": "stream",
     "text": [
      "    user   system  elapsed \n",
      "2183.282 1539.439  381.480 \n",
      "IBD ~ Hair_Blonde \n"
     ]
    },
    {
     "name": "stderr",
     "output_type": "stream",
     "text": [
      "\u001b[1m\u001b[1mRows: \u001b[1m\u001b[22m\u001b[34m\u001b[34m1004597\u001b[34m\u001b[39m \u001b[1m\u001b[1mColumns: \u001b[1m\u001b[22m\u001b[34m\u001b[34m7\u001b[34m\u001b[39m\n",
      "\n",
      "\u001b[36m──\u001b[39m \u001b[1m\u001b[1mColumn specification\u001b[1m\u001b[22m \u001b[36m────────────────────────────────────────────────────────────────────────────────────────────────────────\u001b[39m\n",
      "\u001b[1mDelimiter:\u001b[22m \"\\t\"\n",
      "\u001b[31mchr\u001b[39m (3): SNP, A1, A2\n",
      "\u001b[32mdbl\u001b[39m (4): Z, N, chi2, P\n",
      "\n",
      "\n",
      "\u001b[36mℹ\u001b[39m Use \u001b[30m\u001b[47m\u001b[30m\u001b[47m`spec()`\u001b[47m\u001b[30m\u001b[49m\u001b[39m to retrieve the full column specification for this data.\n",
      "\u001b[36mℹ\u001b[39m Specify the column types or set \u001b[30m\u001b[47m\u001b[30m\u001b[47m`show_col_types = FALSE`\u001b[47m\u001b[30m\u001b[49m\u001b[39m to quiet this message.\n",
      "\n",
      "\u001b[1m\u001b[1mRows: \u001b[1m\u001b[22m\u001b[34m\u001b[34m1037533\u001b[34m\u001b[39m \u001b[1m\u001b[1mColumns: \u001b[1m\u001b[22m\u001b[34m\u001b[34m7\u001b[34m\u001b[39m\n",
      "\n",
      "\u001b[36m──\u001b[39m \u001b[1m\u001b[1mColumn specification\u001b[1m\u001b[22m \u001b[36m────────────────────────────────────────────────────────────────────────────────────────────────────────\u001b[39m\n",
      "\u001b[1mDelimiter:\u001b[22m \"\\t\"\n",
      "\u001b[31mchr\u001b[39m (3): SNP, A1, A2\n",
      "\u001b[32mdbl\u001b[39m (4): Z, N, chi2, P\n",
      "\n",
      "\n",
      "\u001b[36mℹ\u001b[39m Use \u001b[30m\u001b[47m\u001b[30m\u001b[47m`spec()`\u001b[47m\u001b[30m\u001b[49m\u001b[39m to retrieve the full column specification for this data.\n",
      "\u001b[36mℹ\u001b[39m Specify the column types or set \u001b[30m\u001b[47m\u001b[30m\u001b[47m`show_col_types = FALSE`\u001b[47m\u001b[30m\u001b[49m\u001b[39m to quiet this message.\n",
      "\n"
     ]
    },
    {
     "name": "stdout",
     "output_type": "stream",
     "text": [
      "Formatting X1\n",
      "There are  1004597  variants.\n",
      "Removing  0  duplicated variants leaving  1004597 variants.\n",
      "No variants have illegal alleles.\n",
      "Removed  0  variants with ambiguous strand.\n",
      "Flipping strand and effect allele so A1 is always A\n",
      "Returning  1004597  variants.\n",
      "Formatting X2\n",
      "There are  1037533  variants.\n",
      "Removing  0  duplicated variants leaving  1037533 variants.\n",
      "No variants have illegal alleles.\n",
      "Removed  0  variants with ambiguous strand.\n",
      "Flipping strand and effect allele so A1 is always A\n",
      "Returning  1037533  variants.\n",
      "After merging and removing variants with inconsistent alleles,  there are  1004315  variants that are present in both studies and can be used with CAUSE.\n"
     ]
    },
    {
     "name": "stderr",
     "output_type": "stream",
     "text": [
      "Clumping DdGhWE, 12006 variants, using EUR population reference\n",
      "\n",
      "Removing 10293 of 12006 variants due to LD with other variants or absence from LD reference panel\n",
      "\n"
     ]
    },
    {
     "name": "stdout",
     "output_type": "stream",
     "text": [
      "Estimating CAUSE parameters with  1000000  variants.\n",
      "1 0.005673666 \n",
      "2 8.026583e-07 \n",
      "3 9.644169e-10 \n",
      "Estimating CAUSE posteriors using  1713  variants.\n"
     ]
    },
    {
     "name": "stderr",
     "output_type": "stream",
     "text": [
      "Warning message:\n",
      "“'compare' is deprecated.\n",
      "Use 'loo_compare' instead.\n",
      "See help(\"Deprecated\")”\n"
     ]
    },
    {
     "name": "stdout",
     "output_type": "stream",
     "text": [
      "    user   system  elapsed \n",
      "2568.259 1700.517  430.307 \n",
      "IBD ~ Tanning \n"
     ]
    },
    {
     "name": "stderr",
     "output_type": "stream",
     "text": [
      "\u001b[1m\u001b[1mRows: \u001b[1m\u001b[22m\u001b[34m\u001b[34m1004597\u001b[34m\u001b[39m \u001b[1m\u001b[1mColumns: \u001b[1m\u001b[22m\u001b[34m\u001b[34m7\u001b[34m\u001b[39m\n",
      "\n",
      "\u001b[36m──\u001b[39m \u001b[1m\u001b[1mColumn specification\u001b[1m\u001b[22m \u001b[36m────────────────────────────────────────────────────────────────────────────────────────────────────────\u001b[39m\n",
      "\u001b[1mDelimiter:\u001b[22m \"\\t\"\n",
      "\u001b[31mchr\u001b[39m (3): SNP, A1, A2\n",
      "\u001b[32mdbl\u001b[39m (4): Z, N, chi2, P\n",
      "\n",
      "\n",
      "\u001b[36mℹ\u001b[39m Use \u001b[30m\u001b[47m\u001b[30m\u001b[47m`spec()`\u001b[47m\u001b[30m\u001b[49m\u001b[39m to retrieve the full column specification for this data.\n",
      "\u001b[36mℹ\u001b[39m Specify the column types or set \u001b[30m\u001b[47m\u001b[30m\u001b[47m`show_col_types = FALSE`\u001b[47m\u001b[30m\u001b[49m\u001b[39m to quiet this message.\n",
      "\n",
      "\u001b[1m\u001b[1mRows: \u001b[1m\u001b[22m\u001b[34m\u001b[34m1037026\u001b[34m\u001b[39m \u001b[1m\u001b[1mColumns: \u001b[1m\u001b[22m\u001b[34m\u001b[34m7\u001b[34m\u001b[39m\n",
      "\n",
      "\u001b[36m──\u001b[39m \u001b[1m\u001b[1mColumn specification\u001b[1m\u001b[22m \u001b[36m────────────────────────────────────────────────────────────────────────────────────────────────────────\u001b[39m\n",
      "\u001b[1mDelimiter:\u001b[22m \"\\t\"\n",
      "\u001b[31mchr\u001b[39m (3): SNP, A1, A2\n",
      "\u001b[32mdbl\u001b[39m (4): Z, N, chi2, P\n",
      "\n",
      "\n",
      "\u001b[36mℹ\u001b[39m Use \u001b[30m\u001b[47m\u001b[30m\u001b[47m`spec()`\u001b[47m\u001b[30m\u001b[49m\u001b[39m to retrieve the full column specification for this data.\n",
      "\u001b[36mℹ\u001b[39m Specify the column types or set \u001b[30m\u001b[47m\u001b[30m\u001b[47m`show_col_types = FALSE`\u001b[47m\u001b[30m\u001b[49m\u001b[39m to quiet this message.\n",
      "\n"
     ]
    },
    {
     "name": "stdout",
     "output_type": "stream",
     "text": [
      "Formatting X1\n",
      "There are  1004597  variants.\n",
      "Removing  0  duplicated variants leaving  1004597 variants.\n",
      "No variants have illegal alleles.\n",
      "Removed  0  variants with ambiguous strand.\n",
      "Flipping strand and effect allele so A1 is always A\n",
      "Returning  1004597  variants.\n",
      "Formatting X2\n",
      "There are  1037026  variants.\n",
      "Removing  0  duplicated variants leaving  1037026 variants.\n",
      "No variants have illegal alleles.\n",
      "Removed  0  variants with ambiguous strand.\n",
      "Flipping strand and effect allele so A1 is always A\n",
      "Returning  1037026  variants.\n",
      "After merging and removing variants with inconsistent alleles,  there are  1003826  variants that are present in both studies and can be used with CAUSE.\n"
     ]
    },
    {
     "name": "stderr",
     "output_type": "stream",
     "text": [
      "Clumping hjsmGx, 11999 variants, using EUR population reference\n",
      "\n",
      "Removing 10286 of 11999 variants due to LD with other variants or absence from LD reference panel\n",
      "\n"
     ]
    },
    {
     "name": "stdout",
     "output_type": "stream",
     "text": [
      "Estimating CAUSE parameters with  1000000  variants.\n",
      "1 0.04247034 \n",
      "2 2.443537e-05 \n",
      "3 5.696063e-08 \n",
      "Estimating CAUSE posteriors using  1713  variants.\n"
     ]
    },
    {
     "name": "stderr",
     "output_type": "stream",
     "text": [
      "Warning message:\n",
      "“'compare' is deprecated.\n",
      "Use 'loo_compare' instead.\n",
      "See help(\"Deprecated\")”\n"
     ]
    },
    {
     "name": "stdout",
     "output_type": "stream",
     "text": [
      "    user   system  elapsed \n",
      "2558.332 1647.978  438.474 \n",
      "MDD ~ Hair_Light_Brown \n"
     ]
    },
    {
     "name": "stderr",
     "output_type": "stream",
     "text": [
      "\u001b[1m\u001b[1mRows: \u001b[1m\u001b[22m\u001b[34m\u001b[34m1037824\u001b[34m\u001b[39m \u001b[1m\u001b[1mColumns: \u001b[1m\u001b[22m\u001b[34m\u001b[34m7\u001b[34m\u001b[39m\n",
      "\n",
      "\u001b[36m──\u001b[39m \u001b[1m\u001b[1mColumn specification\u001b[1m\u001b[22m \u001b[36m────────────────────────────────────────────────────────────────────────────────────────────────────────\u001b[39m\n",
      "\u001b[1mDelimiter:\u001b[22m \"\\t\"\n",
      "\u001b[31mchr\u001b[39m (3): SNP, A1, A2\n",
      "\u001b[32mdbl\u001b[39m (4): Z, N, chi2, P\n",
      "\n",
      "\n",
      "\u001b[36mℹ\u001b[39m Use \u001b[30m\u001b[47m\u001b[30m\u001b[47m`spec()`\u001b[47m\u001b[30m\u001b[49m\u001b[39m to retrieve the full column specification for this data.\n",
      "\u001b[36mℹ\u001b[39m Specify the column types or set \u001b[30m\u001b[47m\u001b[30m\u001b[47m`show_col_types = FALSE`\u001b[47m\u001b[30m\u001b[49m\u001b[39m to quiet this message.\n",
      "\n",
      "\u001b[1m\u001b[1mRows: \u001b[1m\u001b[22m\u001b[34m\u001b[34m1037742\u001b[34m\u001b[39m \u001b[1m\u001b[1mColumns: \u001b[1m\u001b[22m\u001b[34m\u001b[34m7\u001b[34m\u001b[39m\n",
      "\n",
      "\u001b[36m──\u001b[39m \u001b[1m\u001b[1mColumn specification\u001b[1m\u001b[22m \u001b[36m────────────────────────────────────────────────────────────────────────────────────────────────────────\u001b[39m\n",
      "\u001b[1mDelimiter:\u001b[22m \"\\t\"\n",
      "\u001b[31mchr\u001b[39m (3): SNP, A1, A2\n",
      "\u001b[32mdbl\u001b[39m (4): Z, N, chi2, P\n",
      "\n",
      "\n",
      "\u001b[36mℹ\u001b[39m Use \u001b[30m\u001b[47m\u001b[30m\u001b[47m`spec()`\u001b[47m\u001b[30m\u001b[49m\u001b[39m to retrieve the full column specification for this data.\n",
      "\u001b[36mℹ\u001b[39m Specify the column types or set \u001b[30m\u001b[47m\u001b[30m\u001b[47m`show_col_types = FALSE`\u001b[47m\u001b[30m\u001b[49m\u001b[39m to quiet this message.\n",
      "\n"
     ]
    },
    {
     "name": "stdout",
     "output_type": "stream",
     "text": [
      "Formatting X1\n",
      "There are  1037824  variants.\n",
      "Removing  0  duplicated variants leaving  1037824 variants.\n",
      "No variants have illegal alleles.\n",
      "Removed  0  variants with ambiguous strand.\n",
      "Flipping strand and effect allele so A1 is always A\n",
      "Returning  1037824  variants.\n",
      "Formatting X2\n",
      "There are  1037742  variants.\n",
      "Removing  0  duplicated variants leaving  1037742 variants.\n",
      "No variants have illegal alleles.\n",
      "Removed  0  variants with ambiguous strand.\n",
      "Flipping strand and effect allele so A1 is always A\n",
      "Returning  1037742  variants.\n",
      "After merging and removing variants with inconsistent alleles,  there are  1037742  variants that are present in both studies and can be used with CAUSE.\n"
     ]
    },
    {
     "name": "stderr",
     "output_type": "stream",
     "text": [
      "Clumping RnF5WF, 1540 variants, using EUR population reference\n",
      "\n",
      "Removing 1059 of 1540 variants due to LD with other variants or absence from LD reference panel\n",
      "\n"
     ]
    },
    {
     "name": "stdout",
     "output_type": "stream",
     "text": [
      "Estimating CAUSE parameters with  1000000  variants.\n",
      "1 0.004652773 \n",
      "2 9.24088e-06 \n",
      "3 1.887611e-08 \n",
      "Estimating CAUSE posteriors using  481  variants.\n"
     ]
    },
    {
     "name": "stderr",
     "output_type": "stream",
     "text": [
      "Warning message:\n",
      "“'compare' is deprecated.\n",
      "Use 'loo_compare' instead.\n",
      "See help(\"Deprecated\")”\n"
     ]
    },
    {
     "name": "stdout",
     "output_type": "stream",
     "text": [
      "    user   system  elapsed \n",
      "1690.159 1525.862  354.823 \n",
      "MDD ~ Hair_Dark_Brown \n"
     ]
    },
    {
     "name": "stderr",
     "output_type": "stream",
     "text": [
      "\u001b[1m\u001b[1mRows: \u001b[1m\u001b[22m\u001b[34m\u001b[34m1037824\u001b[34m\u001b[39m \u001b[1m\u001b[1mColumns: \u001b[1m\u001b[22m\u001b[34m\u001b[34m7\u001b[34m\u001b[39m\n",
      "\n",
      "\u001b[36m──\u001b[39m \u001b[1m\u001b[1mColumn specification\u001b[1m\u001b[22m \u001b[36m────────────────────────────────────────────────────────────────────────────────────────────────────────\u001b[39m\n",
      "\u001b[1mDelimiter:\u001b[22m \"\\t\"\n",
      "\u001b[31mchr\u001b[39m (3): SNP, A1, A2\n",
      "\u001b[32mdbl\u001b[39m (4): Z, N, chi2, P\n",
      "\n",
      "\n",
      "\u001b[36mℹ\u001b[39m Use \u001b[30m\u001b[47m\u001b[30m\u001b[47m`spec()`\u001b[47m\u001b[30m\u001b[49m\u001b[39m to retrieve the full column specification for this data.\n",
      "\u001b[36mℹ\u001b[39m Specify the column types or set \u001b[30m\u001b[47m\u001b[30m\u001b[47m`show_col_types = FALSE`\u001b[47m\u001b[30m\u001b[49m\u001b[39m to quiet this message.\n",
      "\n",
      "\u001b[1m\u001b[1mRows: \u001b[1m\u001b[22m\u001b[34m\u001b[34m1037381\u001b[34m\u001b[39m \u001b[1m\u001b[1mColumns: \u001b[1m\u001b[22m\u001b[34m\u001b[34m7\u001b[34m\u001b[39m\n",
      "\n",
      "\u001b[36m──\u001b[39m \u001b[1m\u001b[1mColumn specification\u001b[1m\u001b[22m \u001b[36m────────────────────────────────────────────────────────────────────────────────────────────────────────\u001b[39m\n",
      "\u001b[1mDelimiter:\u001b[22m \"\\t\"\n",
      "\u001b[31mchr\u001b[39m (3): SNP, A1, A2\n",
      "\u001b[32mdbl\u001b[39m (4): Z, N, chi2, P\n",
      "\n",
      "\n",
      "\u001b[36mℹ\u001b[39m Use \u001b[30m\u001b[47m\u001b[30m\u001b[47m`spec()`\u001b[47m\u001b[30m\u001b[49m\u001b[39m to retrieve the full column specification for this data.\n",
      "\u001b[36mℹ\u001b[39m Specify the column types or set \u001b[30m\u001b[47m\u001b[30m\u001b[47m`show_col_types = FALSE`\u001b[47m\u001b[30m\u001b[49m\u001b[39m to quiet this message.\n",
      "\n"
     ]
    },
    {
     "name": "stdout",
     "output_type": "stream",
     "text": [
      "Formatting X1\n",
      "There are  1037824  variants.\n",
      "Removing  0  duplicated variants leaving  1037824 variants.\n",
      "No variants have illegal alleles.\n",
      "Removed  0  variants with ambiguous strand.\n",
      "Flipping strand and effect allele so A1 is always A\n",
      "Returning  1037824  variants.\n",
      "Formatting X2\n",
      "There are  1037381  variants.\n",
      "Removing  0  duplicated variants leaving  1037381 variants.\n",
      "No variants have illegal alleles.\n",
      "Removed  0  variants with ambiguous strand.\n",
      "Flipping strand and effect allele so A1 is always A\n",
      "Returning  1037381  variants.\n",
      "After merging and removing variants with inconsistent alleles,  there are  1037381  variants that are present in both studies and can be used with CAUSE.\n"
     ]
    },
    {
     "name": "stderr",
     "output_type": "stream",
     "text": [
      "Clumping YGF3Fz, 1540 variants, using EUR population reference\n",
      "\n",
      "Removing 1059 of 1540 variants due to LD with other variants or absence from LD reference panel\n",
      "\n"
     ]
    },
    {
     "name": "stdout",
     "output_type": "stream",
     "text": [
      "Estimating CAUSE parameters with  1000000  variants.\n",
      "1 0.005291377 \n",
      "2 6.228456e-06 \n",
      "3 8.797669e-09 \n",
      "Estimating CAUSE posteriors using  481  variants.\n"
     ]
    },
    {
     "name": "stderr",
     "output_type": "stream",
     "text": [
      "Warning message:\n",
      "“'compare' is deprecated.\n",
      "Use 'loo_compare' instead.\n",
      "See help(\"Deprecated\")”\n"
     ]
    },
    {
     "name": "stdout",
     "output_type": "stream",
     "text": [
      "    user   system  elapsed \n",
      "1585.245 1517.003  338.123 \n",
      "MDD ~ Hair_Black \n"
     ]
    },
    {
     "name": "stderr",
     "output_type": "stream",
     "text": [
      "\u001b[1m\u001b[1mRows: \u001b[1m\u001b[22m\u001b[34m\u001b[34m1037824\u001b[34m\u001b[39m \u001b[1m\u001b[1mColumns: \u001b[1m\u001b[22m\u001b[34m\u001b[34m7\u001b[34m\u001b[39m\n",
      "\n",
      "\u001b[36m──\u001b[39m \u001b[1m\u001b[1mColumn specification\u001b[1m\u001b[22m \u001b[36m────────────────────────────────────────────────────────────────────────────────────────────────────────\u001b[39m\n",
      "\u001b[1mDelimiter:\u001b[22m \"\\t\"\n",
      "\u001b[31mchr\u001b[39m (3): SNP, A1, A2\n",
      "\u001b[32mdbl\u001b[39m (4): Z, N, chi2, P\n",
      "\n",
      "\n",
      "\u001b[36mℹ\u001b[39m Use \u001b[30m\u001b[47m\u001b[30m\u001b[47m`spec()`\u001b[47m\u001b[30m\u001b[49m\u001b[39m to retrieve the full column specification for this data.\n",
      "\u001b[36mℹ\u001b[39m Specify the column types or set \u001b[30m\u001b[47m\u001b[30m\u001b[47m`show_col_types = FALSE`\u001b[47m\u001b[30m\u001b[49m\u001b[39m to quiet this message.\n",
      "\n",
      "\u001b[1m\u001b[1mRows: \u001b[1m\u001b[22m\u001b[34m\u001b[34m1037702\u001b[34m\u001b[39m \u001b[1m\u001b[1mColumns: \u001b[1m\u001b[22m\u001b[34m\u001b[34m7\u001b[34m\u001b[39m\n",
      "\n",
      "\u001b[36m──\u001b[39m \u001b[1m\u001b[1mColumn specification\u001b[1m\u001b[22m \u001b[36m────────────────────────────────────────────────────────────────────────────────────────────────────────\u001b[39m\n",
      "\u001b[1mDelimiter:\u001b[22m \"\\t\"\n",
      "\u001b[31mchr\u001b[39m (3): SNP, A1, A2\n",
      "\u001b[32mdbl\u001b[39m (4): Z, N, chi2, P\n",
      "\n",
      "\n",
      "\u001b[36mℹ\u001b[39m Use \u001b[30m\u001b[47m\u001b[30m\u001b[47m`spec()`\u001b[47m\u001b[30m\u001b[49m\u001b[39m to retrieve the full column specification for this data.\n",
      "\u001b[36mℹ\u001b[39m Specify the column types or set \u001b[30m\u001b[47m\u001b[30m\u001b[47m`show_col_types = FALSE`\u001b[47m\u001b[30m\u001b[49m\u001b[39m to quiet this message.\n",
      "\n"
     ]
    },
    {
     "name": "stdout",
     "output_type": "stream",
     "text": [
      "Formatting X1\n",
      "There are  1037824  variants.\n",
      "Removing  0  duplicated variants leaving  1037824 variants.\n",
      "No variants have illegal alleles.\n",
      "Removed  0  variants with ambiguous strand.\n",
      "Flipping strand and effect allele so A1 is always A\n",
      "Returning  1037824  variants.\n",
      "Formatting X2\n",
      "There are  1037702  variants.\n",
      "Removing  0  duplicated variants leaving  1037702 variants.\n",
      "No variants have illegal alleles.\n",
      "Removed  0  variants with ambiguous strand.\n",
      "Flipping strand and effect allele so A1 is always A\n",
      "Returning  1037702  variants.\n",
      "After merging and removing variants with inconsistent alleles,  there are  1037702  variants that are present in both studies and can be used with CAUSE.\n"
     ]
    },
    {
     "name": "stderr",
     "output_type": "stream",
     "text": [
      "Clumping WumFKk, 1540 variants, using EUR population reference\n",
      "\n",
      "Removing 1059 of 1540 variants due to LD with other variants or absence from LD reference panel\n",
      "\n"
     ]
    },
    {
     "name": "stdout",
     "output_type": "stream",
     "text": [
      "Estimating CAUSE parameters with  1000000  variants.\n",
      "1 0.00350937 \n",
      "2 9.26913e-07 \n",
      "3 2.867798e-10 \n",
      "Estimating CAUSE posteriors using  481  variants.\n"
     ]
    },
    {
     "name": "stderr",
     "output_type": "stream",
     "text": [
      "Warning message:\n",
      "“'compare' is deprecated.\n",
      "Use 'loo_compare' instead.\n",
      "See help(\"Deprecated\")”\n"
     ]
    },
    {
     "name": "stdout",
     "output_type": "stream",
     "text": [
      "    user   system  elapsed \n",
      "1424.871 1424.321  311.868 \n",
      "MDD ~ Hair_Blonde \n"
     ]
    },
    {
     "name": "stderr",
     "output_type": "stream",
     "text": [
      "\u001b[1m\u001b[1mRows: \u001b[1m\u001b[22m\u001b[34m\u001b[34m1037824\u001b[34m\u001b[39m \u001b[1m\u001b[1mColumns: \u001b[1m\u001b[22m\u001b[34m\u001b[34m7\u001b[34m\u001b[39m\n",
      "\n",
      "\u001b[36m──\u001b[39m \u001b[1m\u001b[1mColumn specification\u001b[1m\u001b[22m \u001b[36m────────────────────────────────────────────────────────────────────────────────────────────────────────\u001b[39m\n",
      "\u001b[1mDelimiter:\u001b[22m \"\\t\"\n",
      "\u001b[31mchr\u001b[39m (3): SNP, A1, A2\n",
      "\u001b[32mdbl\u001b[39m (4): Z, N, chi2, P\n",
      "\n",
      "\n",
      "\u001b[36mℹ\u001b[39m Use \u001b[30m\u001b[47m\u001b[30m\u001b[47m`spec()`\u001b[47m\u001b[30m\u001b[49m\u001b[39m to retrieve the full column specification for this data.\n",
      "\u001b[36mℹ\u001b[39m Specify the column types or set \u001b[30m\u001b[47m\u001b[30m\u001b[47m`show_col_types = FALSE`\u001b[47m\u001b[30m\u001b[49m\u001b[39m to quiet this message.\n",
      "\n",
      "\u001b[1m\u001b[1mRows: \u001b[1m\u001b[22m\u001b[34m\u001b[34m1037533\u001b[34m\u001b[39m \u001b[1m\u001b[1mColumns: \u001b[1m\u001b[22m\u001b[34m\u001b[34m7\u001b[34m\u001b[39m\n",
      "\n",
      "\u001b[36m──\u001b[39m \u001b[1m\u001b[1mColumn specification\u001b[1m\u001b[22m \u001b[36m────────────────────────────────────────────────────────────────────────────────────────────────────────\u001b[39m\n",
      "\u001b[1mDelimiter:\u001b[22m \"\\t\"\n",
      "\u001b[31mchr\u001b[39m (3): SNP, A1, A2\n",
      "\u001b[32mdbl\u001b[39m (4): Z, N, chi2, P\n",
      "\n",
      "\n",
      "\u001b[36mℹ\u001b[39m Use \u001b[30m\u001b[47m\u001b[30m\u001b[47m`spec()`\u001b[47m\u001b[30m\u001b[49m\u001b[39m to retrieve the full column specification for this data.\n",
      "\u001b[36mℹ\u001b[39m Specify the column types or set \u001b[30m\u001b[47m\u001b[30m\u001b[47m`show_col_types = FALSE`\u001b[47m\u001b[30m\u001b[49m\u001b[39m to quiet this message.\n",
      "\n"
     ]
    },
    {
     "name": "stdout",
     "output_type": "stream",
     "text": [
      "Formatting X1\n",
      "There are  1037824  variants.\n",
      "Removing  0  duplicated variants leaving  1037824 variants.\n",
      "No variants have illegal alleles.\n",
      "Removed  0  variants with ambiguous strand.\n",
      "Flipping strand and effect allele so A1 is always A\n",
      "Returning  1037824  variants.\n",
      "Formatting X2\n",
      "There are  1037533  variants.\n",
      "Removing  0  duplicated variants leaving  1037533 variants.\n",
      "No variants have illegal alleles.\n",
      "Removed  0  variants with ambiguous strand.\n",
      "Flipping strand and effect allele so A1 is always A\n",
      "Returning  1037533  variants.\n",
      "After merging and removing variants with inconsistent alleles,  there are  1037533  variants that are present in both studies and can be used with CAUSE.\n"
     ]
    },
    {
     "name": "stderr",
     "output_type": "stream",
     "text": [
      "Clumping 3MKStm, 1540 variants, using EUR population reference\n",
      "\n",
      "Removing 1059 of 1540 variants due to LD with other variants or absence from LD reference panel\n",
      "\n"
     ]
    },
    {
     "name": "stdout",
     "output_type": "stream",
     "text": [
      "Estimating CAUSE parameters with  1000000  variants.\n",
      "1 6.976754e-05 \n",
      "2 5.063823e-08 \n",
      "Estimating CAUSE posteriors using  481  variants.\n"
     ]
    },
    {
     "name": "stderr",
     "output_type": "stream",
     "text": [
      "Warning message:\n",
      "“'compare' is deprecated.\n",
      "Use 'loo_compare' instead.\n",
      "See help(\"Deprecated\")”\n"
     ]
    },
    {
     "name": "stdout",
     "output_type": "stream",
     "text": [
      "    user   system  elapsed \n",
      "1275.348 1259.877  283.189 \n",
      "MDD ~ Tanning \n"
     ]
    },
    {
     "name": "stderr",
     "output_type": "stream",
     "text": [
      "\u001b[1m\u001b[1mRows: \u001b[1m\u001b[22m\u001b[34m\u001b[34m1037824\u001b[34m\u001b[39m \u001b[1m\u001b[1mColumns: \u001b[1m\u001b[22m\u001b[34m\u001b[34m7\u001b[34m\u001b[39m\n",
      "\n",
      "\u001b[36m──\u001b[39m \u001b[1m\u001b[1mColumn specification\u001b[1m\u001b[22m \u001b[36m────────────────────────────────────────────────────────────────────────────────────────────────────────\u001b[39m\n",
      "\u001b[1mDelimiter:\u001b[22m \"\\t\"\n",
      "\u001b[31mchr\u001b[39m (3): SNP, A1, A2\n",
      "\u001b[32mdbl\u001b[39m (4): Z, N, chi2, P\n",
      "\n",
      "\n",
      "\u001b[36mℹ\u001b[39m Use \u001b[30m\u001b[47m\u001b[30m\u001b[47m`spec()`\u001b[47m\u001b[30m\u001b[49m\u001b[39m to retrieve the full column specification for this data.\n",
      "\u001b[36mℹ\u001b[39m Specify the column types or set \u001b[30m\u001b[47m\u001b[30m\u001b[47m`show_col_types = FALSE`\u001b[47m\u001b[30m\u001b[49m\u001b[39m to quiet this message.\n",
      "\n",
      "\u001b[1m\u001b[1mRows: \u001b[1m\u001b[22m\u001b[34m\u001b[34m1037026\u001b[34m\u001b[39m \u001b[1m\u001b[1mColumns: \u001b[1m\u001b[22m\u001b[34m\u001b[34m7\u001b[34m\u001b[39m\n",
      "\n",
      "\u001b[36m──\u001b[39m \u001b[1m\u001b[1mColumn specification\u001b[1m\u001b[22m \u001b[36m────────────────────────────────────────────────────────────────────────────────────────────────────────\u001b[39m\n",
      "\u001b[1mDelimiter:\u001b[22m \"\\t\"\n",
      "\u001b[31mchr\u001b[39m (3): SNP, A1, A2\n",
      "\u001b[32mdbl\u001b[39m (4): Z, N, chi2, P\n",
      "\n",
      "\n",
      "\u001b[36mℹ\u001b[39m Use \u001b[30m\u001b[47m\u001b[30m\u001b[47m`spec()`\u001b[47m\u001b[30m\u001b[49m\u001b[39m to retrieve the full column specification for this data.\n",
      "\u001b[36mℹ\u001b[39m Specify the column types or set \u001b[30m\u001b[47m\u001b[30m\u001b[47m`show_col_types = FALSE`\u001b[47m\u001b[30m\u001b[49m\u001b[39m to quiet this message.\n",
      "\n"
     ]
    },
    {
     "name": "stdout",
     "output_type": "stream",
     "text": [
      "Formatting X1\n",
      "There are  1037824  variants.\n",
      "Removing  0  duplicated variants leaving  1037824 variants.\n",
      "No variants have illegal alleles.\n",
      "Removed  0  variants with ambiguous strand.\n",
      "Flipping strand and effect allele so A1 is always A\n",
      "Returning  1037824  variants.\n",
      "Formatting X2\n",
      "There are  1037026  variants.\n",
      "Removing  0  duplicated variants leaving  1037026 variants.\n",
      "No variants have illegal alleles.\n",
      "Removed  0  variants with ambiguous strand.\n",
      "Flipping strand and effect allele so A1 is always A\n",
      "Returning  1037026  variants.\n",
      "After merging and removing variants with inconsistent alleles,  there are  1037026  variants that are present in both studies and can be used with CAUSE.\n"
     ]
    },
    {
     "name": "stderr",
     "output_type": "stream",
     "text": [
      "Clumping 7tOlul, 1540 variants, using EUR population reference\n",
      "\n",
      "Removing 1059 of 1540 variants due to LD with other variants or absence from LD reference panel\n",
      "\n"
     ]
    },
    {
     "name": "stdout",
     "output_type": "stream",
     "text": [
      "Estimating CAUSE parameters with  1000000  variants.\n",
      "1 0.03180533 \n",
      "2 3.592298e-05 \n",
      "3 1.002793e-07 \n",
      "4 2.224697e-09 \n",
      "Estimating CAUSE posteriors using  481  variants.\n"
     ]
    },
    {
     "name": "stderr",
     "output_type": "stream",
     "text": [
      "Warning message:\n",
      "“'compare' is deprecated.\n",
      "Use 'loo_compare' instead.\n",
      "See help(\"Deprecated\")”\n"
     ]
    },
    {
     "name": "stdout",
     "output_type": "stream",
     "text": [
      "    user   system  elapsed \n",
      "1911.207 1723.443  373.013 \n",
      "SCZ ~ Hair_Light_Brown \n"
     ]
    },
    {
     "name": "stderr",
     "output_type": "stream",
     "text": [
      "\u001b[1m\u001b[1mRows: \u001b[1m\u001b[22m\u001b[34m\u001b[34m1047564\u001b[34m\u001b[39m \u001b[1m\u001b[1mColumns: \u001b[1m\u001b[22m\u001b[34m\u001b[34m7\u001b[34m\u001b[39m\n",
      "\n",
      "\u001b[36m──\u001b[39m \u001b[1m\u001b[1mColumn specification\u001b[1m\u001b[22m \u001b[36m────────────────────────────────────────────────────────────────────────────────────────────────────────\u001b[39m\n",
      "\u001b[1mDelimiter:\u001b[22m \"\\t\"\n",
      "\u001b[31mchr\u001b[39m (3): SNP, A1, A2\n",
      "\u001b[32mdbl\u001b[39m (4): Z, N, chi2, P\n",
      "\n",
      "\n",
      "\u001b[36mℹ\u001b[39m Use \u001b[30m\u001b[47m\u001b[30m\u001b[47m`spec()`\u001b[47m\u001b[30m\u001b[49m\u001b[39m to retrieve the full column specification for this data.\n",
      "\u001b[36mℹ\u001b[39m Specify the column types or set \u001b[30m\u001b[47m\u001b[30m\u001b[47m`show_col_types = FALSE`\u001b[47m\u001b[30m\u001b[49m\u001b[39m to quiet this message.\n",
      "\n",
      "\u001b[1m\u001b[1mRows: \u001b[1m\u001b[22m\u001b[34m\u001b[34m1037742\u001b[34m\u001b[39m \u001b[1m\u001b[1mColumns: \u001b[1m\u001b[22m\u001b[34m\u001b[34m7\u001b[34m\u001b[39m\n",
      "\n",
      "\u001b[36m──\u001b[39m \u001b[1m\u001b[1mColumn specification\u001b[1m\u001b[22m \u001b[36m────────────────────────────────────────────────────────────────────────────────────────────────────────\u001b[39m\n",
      "\u001b[1mDelimiter:\u001b[22m \"\\t\"\n",
      "\u001b[31mchr\u001b[39m (3): SNP, A1, A2\n",
      "\u001b[32mdbl\u001b[39m (4): Z, N, chi2, P\n",
      "\n",
      "\n",
      "\u001b[36mℹ\u001b[39m Use \u001b[30m\u001b[47m\u001b[30m\u001b[47m`spec()`\u001b[47m\u001b[30m\u001b[49m\u001b[39m to retrieve the full column specification for this data.\n",
      "\u001b[36mℹ\u001b[39m Specify the column types or set \u001b[30m\u001b[47m\u001b[30m\u001b[47m`show_col_types = FALSE`\u001b[47m\u001b[30m\u001b[49m\u001b[39m to quiet this message.\n",
      "\n"
     ]
    },
    {
     "name": "stdout",
     "output_type": "stream",
     "text": [
      "Formatting X1\n",
      "There are  1047564  variants.\n",
      "Removing  0  duplicated variants leaving  1047564 variants.\n",
      "No variants have illegal alleles.\n",
      "Removed  0  variants with ambiguous strand.\n",
      "Flipping strand and effect allele so A1 is always A\n",
      "Returning  1047564  variants.\n",
      "Formatting X2\n",
      "There are  1037742  variants.\n",
      "Removing  0  duplicated variants leaving  1037742 variants.\n",
      "No variants have illegal alleles.\n",
      "Removed  0  variants with ambiguous strand.\n",
      "Flipping strand and effect allele so A1 is always A\n",
      "Returning  1037742  variants.\n",
      "After merging and removing variants with inconsistent alleles,  there are  997054  variants that are present in both studies and can be used with CAUSE.\n"
     ]
    },
    {
     "name": "stderr",
     "output_type": "stream",
     "text": [
      "Clumping zuudG7, 26845 variants, using EUR population reference\n",
      "\n",
      "Removing 23796 of 26845 variants due to LD with other variants or absence from LD reference panel\n",
      "\n"
     ]
    },
    {
     "name": "stdout",
     "output_type": "stream",
     "text": [
      "Estimating CAUSE parameters with  997054  variants.\n",
      "1 0.0481304 \n",
      "2 8.860016e-05 \n",
      "3 4.35302e-07 \n",
      "4 2.473891e-10 \n",
      "Estimating CAUSE posteriors using  3049  variants.\n"
     ]
    },
    {
     "name": "stderr",
     "output_type": "stream",
     "text": [
      "Warning message:\n",
      "“'compare' is deprecated.\n",
      "Use 'loo_compare' instead.\n",
      "See help(\"Deprecated\")”\n"
     ]
    },
    {
     "name": "stdout",
     "output_type": "stream",
     "text": [
      "    user   system  elapsed \n",
      "3607.337 2139.268  536.381 \n",
      "SCZ ~ Hair_Dark_Brown \n"
     ]
    },
    {
     "name": "stderr",
     "output_type": "stream",
     "text": [
      "\u001b[1m\u001b[1mRows: \u001b[1m\u001b[22m\u001b[34m\u001b[34m1047564\u001b[34m\u001b[39m \u001b[1m\u001b[1mColumns: \u001b[1m\u001b[22m\u001b[34m\u001b[34m7\u001b[34m\u001b[39m\n",
      "\n",
      "\u001b[36m──\u001b[39m \u001b[1m\u001b[1mColumn specification\u001b[1m\u001b[22m \u001b[36m────────────────────────────────────────────────────────────────────────────────────────────────────────\u001b[39m\n",
      "\u001b[1mDelimiter:\u001b[22m \"\\t\"\n",
      "\u001b[31mchr\u001b[39m (3): SNP, A1, A2\n",
      "\u001b[32mdbl\u001b[39m (4): Z, N, chi2, P\n",
      "\n",
      "\n",
      "\u001b[36mℹ\u001b[39m Use \u001b[30m\u001b[47m\u001b[30m\u001b[47m`spec()`\u001b[47m\u001b[30m\u001b[49m\u001b[39m to retrieve the full column specification for this data.\n",
      "\u001b[36mℹ\u001b[39m Specify the column types or set \u001b[30m\u001b[47m\u001b[30m\u001b[47m`show_col_types = FALSE`\u001b[47m\u001b[30m\u001b[49m\u001b[39m to quiet this message.\n",
      "\n",
      "\u001b[1m\u001b[1mRows: \u001b[1m\u001b[22m\u001b[34m\u001b[34m1037381\u001b[34m\u001b[39m \u001b[1m\u001b[1mColumns: \u001b[1m\u001b[22m\u001b[34m\u001b[34m7\u001b[34m\u001b[39m\n",
      "\n",
      "\u001b[36m──\u001b[39m \u001b[1m\u001b[1mColumn specification\u001b[1m\u001b[22m \u001b[36m────────────────────────────────────────────────────────────────────────────────────────────────────────\u001b[39m\n",
      "\u001b[1mDelimiter:\u001b[22m \"\\t\"\n",
      "\u001b[31mchr\u001b[39m (3): SNP, A1, A2\n",
      "\u001b[32mdbl\u001b[39m (4): Z, N, chi2, P\n",
      "\n",
      "\n",
      "\u001b[36mℹ\u001b[39m Use \u001b[30m\u001b[47m\u001b[30m\u001b[47m`spec()`\u001b[47m\u001b[30m\u001b[49m\u001b[39m to retrieve the full column specification for this data.\n",
      "\u001b[36mℹ\u001b[39m Specify the column types or set \u001b[30m\u001b[47m\u001b[30m\u001b[47m`show_col_types = FALSE`\u001b[47m\u001b[30m\u001b[49m\u001b[39m to quiet this message.\n",
      "\n"
     ]
    },
    {
     "name": "stdout",
     "output_type": "stream",
     "text": [
      "Formatting X1\n",
      "There are  1047564  variants.\n",
      "Removing  0  duplicated variants leaving  1047564 variants.\n",
      "No variants have illegal alleles.\n",
      "Removed  0  variants with ambiguous strand.\n",
      "Flipping strand and effect allele so A1 is always A\n",
      "Returning  1047564  variants.\n",
      "Formatting X2\n",
      "There are  1037381  variants.\n",
      "Removing  0  duplicated variants leaving  1037381 variants.\n",
      "No variants have illegal alleles.\n",
      "Removed  0  variants with ambiguous strand.\n",
      "Flipping strand and effect allele so A1 is always A\n",
      "Returning  1037381  variants.\n",
      "After merging and removing variants with inconsistent alleles,  there are  996824  variants that are present in both studies and can be used with CAUSE.\n"
     ]
    },
    {
     "name": "stderr",
     "output_type": "stream",
     "text": [
      "Clumping d1AvDo, 26845 variants, using EUR population reference\n",
      "\n",
      "Removing 23796 of 26845 variants due to LD with other variants or absence from LD reference panel\n",
      "\n"
     ]
    },
    {
     "name": "stdout",
     "output_type": "stream",
     "text": [
      "Estimating CAUSE parameters with  996824  variants.\n",
      "1 0.03105138 \n",
      "2 4.281293e-05 \n",
      "3 1.057454e-07 \n",
      "4 4.574255e-10 \n",
      "Estimating CAUSE posteriors using  3049  variants.\n"
     ]
    },
    {
     "name": "stderr",
     "output_type": "stream",
     "text": [
      "Warning message:\n",
      "“'compare' is deprecated.\n",
      "Use 'loo_compare' instead.\n",
      "See help(\"Deprecated\")”\n"
     ]
    },
    {
     "name": "stdout",
     "output_type": "stream",
     "text": [
      "    user   system  elapsed \n",
      "3338.112 2043.839  486.477 \n",
      "SCZ ~ Hair_Black \n"
     ]
    },
    {
     "name": "stderr",
     "output_type": "stream",
     "text": [
      "\u001b[1m\u001b[1mRows: \u001b[1m\u001b[22m\u001b[34m\u001b[34m1047564\u001b[34m\u001b[39m \u001b[1m\u001b[1mColumns: \u001b[1m\u001b[22m\u001b[34m\u001b[34m7\u001b[34m\u001b[39m\n",
      "\n",
      "\u001b[36m──\u001b[39m \u001b[1m\u001b[1mColumn specification\u001b[1m\u001b[22m \u001b[36m────────────────────────────────────────────────────────────────────────────────────────────────────────\u001b[39m\n",
      "\u001b[1mDelimiter:\u001b[22m \"\\t\"\n",
      "\u001b[31mchr\u001b[39m (3): SNP, A1, A2\n",
      "\u001b[32mdbl\u001b[39m (4): Z, N, chi2, P\n",
      "\n",
      "\n",
      "\u001b[36mℹ\u001b[39m Use \u001b[30m\u001b[47m\u001b[30m\u001b[47m`spec()`\u001b[47m\u001b[30m\u001b[49m\u001b[39m to retrieve the full column specification for this data.\n",
      "\u001b[36mℹ\u001b[39m Specify the column types or set \u001b[30m\u001b[47m\u001b[30m\u001b[47m`show_col_types = FALSE`\u001b[47m\u001b[30m\u001b[49m\u001b[39m to quiet this message.\n",
      "\n",
      "\u001b[1m\u001b[1mRows: \u001b[1m\u001b[22m\u001b[34m\u001b[34m1037702\u001b[34m\u001b[39m \u001b[1m\u001b[1mColumns: \u001b[1m\u001b[22m\u001b[34m\u001b[34m7\u001b[34m\u001b[39m\n",
      "\n",
      "\u001b[36m──\u001b[39m \u001b[1m\u001b[1mColumn specification\u001b[1m\u001b[22m \u001b[36m────────────────────────────────────────────────────────────────────────────────────────────────────────\u001b[39m\n",
      "\u001b[1mDelimiter:\u001b[22m \"\\t\"\n",
      "\u001b[31mchr\u001b[39m (3): SNP, A1, A2\n",
      "\u001b[32mdbl\u001b[39m (4): Z, N, chi2, P\n",
      "\n",
      "\n",
      "\u001b[36mℹ\u001b[39m Use \u001b[30m\u001b[47m\u001b[30m\u001b[47m`spec()`\u001b[47m\u001b[30m\u001b[49m\u001b[39m to retrieve the full column specification for this data.\n",
      "\u001b[36mℹ\u001b[39m Specify the column types or set \u001b[30m\u001b[47m\u001b[30m\u001b[47m`show_col_types = FALSE`\u001b[47m\u001b[30m\u001b[49m\u001b[39m to quiet this message.\n",
      "\n"
     ]
    },
    {
     "name": "stdout",
     "output_type": "stream",
     "text": [
      "Formatting X1\n",
      "There are  1047564  variants.\n",
      "Removing  0  duplicated variants leaving  1047564 variants.\n",
      "No variants have illegal alleles.\n",
      "Removed  0  variants with ambiguous strand.\n",
      "Flipping strand and effect allele so A1 is always A\n",
      "Returning  1047564  variants.\n",
      "Formatting X2\n",
      "There are  1037702  variants.\n",
      "Removing  0  duplicated variants leaving  1037702 variants.\n",
      "No variants have illegal alleles.\n",
      "Removed  0  variants with ambiguous strand.\n",
      "Flipping strand and effect allele so A1 is always A\n",
      "Returning  1037702  variants.\n",
      "After merging and removing variants with inconsistent alleles,  there are  997031  variants that are present in both studies and can be used with CAUSE.\n"
     ]
    },
    {
     "name": "stderr",
     "output_type": "stream",
     "text": [
      "Clumping AKESqO, 26845 variants, using EUR population reference\n",
      "\n",
      "Removing 23796 of 26845 variants due to LD with other variants or absence from LD reference panel\n",
      "\n"
     ]
    },
    {
     "name": "stdout",
     "output_type": "stream",
     "text": [
      "Estimating CAUSE parameters with  997031  variants.\n",
      "1 0.06306259 \n",
      "2 4.661023e-05 \n",
      "3 2.136668e-07 \n",
      "4 1.506904e-09 \n",
      "Estimating CAUSE posteriors using  3049  variants.\n"
     ]
    },
    {
     "name": "stderr",
     "output_type": "stream",
     "text": [
      "Warning message:\n",
      "“'compare' is deprecated.\n",
      "Use 'loo_compare' instead.\n",
      "See help(\"Deprecated\")”\n"
     ]
    },
    {
     "name": "stdout",
     "output_type": "stream",
     "text": [
      "    user   system  elapsed \n",
      "3348.139 1982.080  470.955 \n",
      "SCZ ~ Hair_Blonde \n"
     ]
    },
    {
     "name": "stderr",
     "output_type": "stream",
     "text": [
      "\u001b[1m\u001b[1mRows: \u001b[1m\u001b[22m\u001b[34m\u001b[34m1047564\u001b[34m\u001b[39m \u001b[1m\u001b[1mColumns: \u001b[1m\u001b[22m\u001b[34m\u001b[34m7\u001b[34m\u001b[39m\n",
      "\n",
      "\u001b[36m──\u001b[39m \u001b[1m\u001b[1mColumn specification\u001b[1m\u001b[22m \u001b[36m────────────────────────────────────────────────────────────────────────────────────────────────────────\u001b[39m\n",
      "\u001b[1mDelimiter:\u001b[22m \"\\t\"\n",
      "\u001b[31mchr\u001b[39m (3): SNP, A1, A2\n",
      "\u001b[32mdbl\u001b[39m (4): Z, N, chi2, P\n",
      "\n",
      "\n",
      "\u001b[36mℹ\u001b[39m Use \u001b[30m\u001b[47m\u001b[30m\u001b[47m`spec()`\u001b[47m\u001b[30m\u001b[49m\u001b[39m to retrieve the full column specification for this data.\n",
      "\u001b[36mℹ\u001b[39m Specify the column types or set \u001b[30m\u001b[47m\u001b[30m\u001b[47m`show_col_types = FALSE`\u001b[47m\u001b[30m\u001b[49m\u001b[39m to quiet this message.\n",
      "\n",
      "\u001b[1m\u001b[1mRows: \u001b[1m\u001b[22m\u001b[34m\u001b[34m1037533\u001b[34m\u001b[39m \u001b[1m\u001b[1mColumns: \u001b[1m\u001b[22m\u001b[34m\u001b[34m7\u001b[34m\u001b[39m\n",
      "\n",
      "\u001b[36m──\u001b[39m \u001b[1m\u001b[1mColumn specification\u001b[1m\u001b[22m \u001b[36m────────────────────────────────────────────────────────────────────────────────────────────────────────\u001b[39m\n",
      "\u001b[1mDelimiter:\u001b[22m \"\\t\"\n",
      "\u001b[31mchr\u001b[39m (3): SNP, A1, A2\n",
      "\u001b[32mdbl\u001b[39m (4): Z, N, chi2, P\n",
      "\n",
      "\n",
      "\u001b[36mℹ\u001b[39m Use \u001b[30m\u001b[47m\u001b[30m\u001b[47m`spec()`\u001b[47m\u001b[30m\u001b[49m\u001b[39m to retrieve the full column specification for this data.\n",
      "\u001b[36mℹ\u001b[39m Specify the column types or set \u001b[30m\u001b[47m\u001b[30m\u001b[47m`show_col_types = FALSE`\u001b[47m\u001b[30m\u001b[49m\u001b[39m to quiet this message.\n",
      "\n"
     ]
    },
    {
     "name": "stdout",
     "output_type": "stream",
     "text": [
      "Formatting X1\n",
      "There are  1047564  variants.\n",
      "Removing  0  duplicated variants leaving  1047564 variants.\n",
      "No variants have illegal alleles.\n",
      "Removed  0  variants with ambiguous strand.\n",
      "Flipping strand and effect allele so A1 is always A\n",
      "Returning  1047564  variants.\n",
      "Formatting X2\n",
      "There are  1037533  variants.\n",
      "Removing  0  duplicated variants leaving  1037533 variants.\n",
      "No variants have illegal alleles.\n",
      "Removed  0  variants with ambiguous strand.\n",
      "Flipping strand and effect allele so A1 is always A\n",
      "Returning  1037533  variants.\n",
      "After merging and removing variants with inconsistent alleles,  there are  996858  variants that are present in both studies and can be used with CAUSE.\n"
     ]
    },
    {
     "name": "stderr",
     "output_type": "stream",
     "text": [
      "Clumping vD5B4e, 26845 variants, using EUR population reference\n",
      "\n",
      "Removing 23796 of 26845 variants due to LD with other variants or absence from LD reference panel\n",
      "\n"
     ]
    },
    {
     "name": "stdout",
     "output_type": "stream",
     "text": [
      "Estimating CAUSE parameters with  996858  variants.\n",
      "1 5.527767e-05 \n",
      "2 2.113794e-08 \n",
      "Estimating CAUSE posteriors using  3049  variants.\n"
     ]
    },
    {
     "name": "stderr",
     "output_type": "stream",
     "text": [
      "Warning message:\n",
      "“'compare' is deprecated.\n",
      "Use 'loo_compare' instead.\n",
      "See help(\"Deprecated\")”\n"
     ]
    },
    {
     "name": "stdout",
     "output_type": "stream",
     "text": [
      "    user   system  elapsed \n",
      "2788.623 1503.607  399.367 \n",
      "SCZ ~ Tanning \n"
     ]
    },
    {
     "name": "stderr",
     "output_type": "stream",
     "text": [
      "\u001b[1m\u001b[1mRows: \u001b[1m\u001b[22m\u001b[34m\u001b[34m1047564\u001b[34m\u001b[39m \u001b[1m\u001b[1mColumns: \u001b[1m\u001b[22m\u001b[34m\u001b[34m7\u001b[34m\u001b[39m\n",
      "\n",
      "\u001b[36m──\u001b[39m \u001b[1m\u001b[1mColumn specification\u001b[1m\u001b[22m \u001b[36m────────────────────────────────────────────────────────────────────────────────────────────────────────\u001b[39m\n",
      "\u001b[1mDelimiter:\u001b[22m \"\\t\"\n",
      "\u001b[31mchr\u001b[39m (3): SNP, A1, A2\n",
      "\u001b[32mdbl\u001b[39m (4): Z, N, chi2, P\n",
      "\n",
      "\n",
      "\u001b[36mℹ\u001b[39m Use \u001b[30m\u001b[47m\u001b[30m\u001b[47m`spec()`\u001b[47m\u001b[30m\u001b[49m\u001b[39m to retrieve the full column specification for this data.\n",
      "\u001b[36mℹ\u001b[39m Specify the column types or set \u001b[30m\u001b[47m\u001b[30m\u001b[47m`show_col_types = FALSE`\u001b[47m\u001b[30m\u001b[49m\u001b[39m to quiet this message.\n",
      "\n",
      "\u001b[1m\u001b[1mRows: \u001b[1m\u001b[22m\u001b[34m\u001b[34m1037026\u001b[34m\u001b[39m \u001b[1m\u001b[1mColumns: \u001b[1m\u001b[22m\u001b[34m\u001b[34m7\u001b[34m\u001b[39m\n",
      "\n",
      "\u001b[36m──\u001b[39m \u001b[1m\u001b[1mColumn specification\u001b[1m\u001b[22m \u001b[36m────────────────────────────────────────────────────────────────────────────────────────────────────────\u001b[39m\n",
      "\u001b[1mDelimiter:\u001b[22m \"\\t\"\n",
      "\u001b[31mchr\u001b[39m (3): SNP, A1, A2\n",
      "\u001b[32mdbl\u001b[39m (4): Z, N, chi2, P\n",
      "\n",
      "\n",
      "\u001b[36mℹ\u001b[39m Use \u001b[30m\u001b[47m\u001b[30m\u001b[47m`spec()`\u001b[47m\u001b[30m\u001b[49m\u001b[39m to retrieve the full column specification for this data.\n",
      "\u001b[36mℹ\u001b[39m Specify the column types or set \u001b[30m\u001b[47m\u001b[30m\u001b[47m`show_col_types = FALSE`\u001b[47m\u001b[30m\u001b[49m\u001b[39m to quiet this message.\n",
      "\n"
     ]
    },
    {
     "name": "stdout",
     "output_type": "stream",
     "text": [
      "Formatting X1\n",
      "There are  1047564  variants.\n",
      "Removing  0  duplicated variants leaving  1047564 variants.\n",
      "No variants have illegal alleles.\n",
      "Removed  0  variants with ambiguous strand.\n",
      "Flipping strand and effect allele so A1 is always A\n",
      "Returning  1047564  variants.\n",
      "Formatting X2\n",
      "There are  1037026  variants.\n",
      "Removing  0  duplicated variants leaving  1037026 variants.\n",
      "No variants have illegal alleles.\n",
      "Removed  0  variants with ambiguous strand.\n",
      "Flipping strand and effect allele so A1 is always A\n",
      "Returning  1037026  variants.\n",
      "After merging and removing variants with inconsistent alleles,  there are  996583  variants that are present in both studies and can be used with CAUSE.\n"
     ]
    },
    {
     "name": "stderr",
     "output_type": "stream",
     "text": [
      "Clumping ffxqp1, 26796 variants, using EUR population reference\n",
      "\n",
      "Removing 23747 of 26796 variants due to LD with other variants or absence from LD reference panel\n",
      "\n"
     ]
    },
    {
     "name": "stdout",
     "output_type": "stream",
     "text": [
      "Estimating CAUSE parameters with  996583  variants.\n",
      "1 0.05411216 \n",
      "2 7.120618e-05 \n",
      "3 2.787757e-07 \n",
      "4 3.240889e-10 \n",
      "Estimating CAUSE posteriors using  3049  variants.\n"
     ]
    },
    {
     "name": "stderr",
     "output_type": "stream",
     "text": [
      "Warning message:\n",
      "“'compare' is deprecated.\n",
      "Use 'loo_compare' instead.\n",
      "See help(\"Deprecated\")”\n"
     ]
    },
    {
     "name": "stdout",
     "output_type": "stream",
     "text": [
      "    user   system  elapsed \n",
      "3490.982 2100.832  486.069 \n",
      "Angina ~ Hair_Light_Brown \n"
     ]
    },
    {
     "name": "stderr",
     "output_type": "stream",
     "text": [
      "\u001b[1m\u001b[1mRows: \u001b[1m\u001b[22m\u001b[34m\u001b[34m1037824\u001b[34m\u001b[39m \u001b[1m\u001b[1mColumns: \u001b[1m\u001b[22m\u001b[34m\u001b[34m7\u001b[34m\u001b[39m\n",
      "\n",
      "\u001b[36m──\u001b[39m \u001b[1m\u001b[1mColumn specification\u001b[1m\u001b[22m \u001b[36m────────────────────────────────────────────────────────────────────────────────────────────────────────\u001b[39m\n",
      "\u001b[1mDelimiter:\u001b[22m \"\\t\"\n",
      "\u001b[31mchr\u001b[39m (3): SNP, A1, A2\n",
      "\u001b[32mdbl\u001b[39m (4): Z, N, chi2, P\n",
      "\n",
      "\n",
      "\u001b[36mℹ\u001b[39m Use \u001b[30m\u001b[47m\u001b[30m\u001b[47m`spec()`\u001b[47m\u001b[30m\u001b[49m\u001b[39m to retrieve the full column specification for this data.\n",
      "\u001b[36mℹ\u001b[39m Specify the column types or set \u001b[30m\u001b[47m\u001b[30m\u001b[47m`show_col_types = FALSE`\u001b[47m\u001b[30m\u001b[49m\u001b[39m to quiet this message.\n",
      "\n",
      "\u001b[1m\u001b[1mRows: \u001b[1m\u001b[22m\u001b[34m\u001b[34m1037742\u001b[34m\u001b[39m \u001b[1m\u001b[1mColumns: \u001b[1m\u001b[22m\u001b[34m\u001b[34m7\u001b[34m\u001b[39m\n",
      "\n",
      "\u001b[36m──\u001b[39m \u001b[1m\u001b[1mColumn specification\u001b[1m\u001b[22m \u001b[36m────────────────────────────────────────────────────────────────────────────────────────────────────────\u001b[39m\n",
      "\u001b[1mDelimiter:\u001b[22m \"\\t\"\n",
      "\u001b[31mchr\u001b[39m (3): SNP, A1, A2\n",
      "\u001b[32mdbl\u001b[39m (4): Z, N, chi2, P\n",
      "\n",
      "\n",
      "\u001b[36mℹ\u001b[39m Use \u001b[30m\u001b[47m\u001b[30m\u001b[47m`spec()`\u001b[47m\u001b[30m\u001b[49m\u001b[39m to retrieve the full column specification for this data.\n",
      "\u001b[36mℹ\u001b[39m Specify the column types or set \u001b[30m\u001b[47m\u001b[30m\u001b[47m`show_col_types = FALSE`\u001b[47m\u001b[30m\u001b[49m\u001b[39m to quiet this message.\n",
      "\n"
     ]
    },
    {
     "name": "stdout",
     "output_type": "stream",
     "text": [
      "Formatting X1\n",
      "There are  1037824  variants.\n",
      "Removing  0  duplicated variants leaving  1037824 variants.\n",
      "No variants have illegal alleles.\n",
      "Removed  0  variants with ambiguous strand.\n",
      "Flipping strand and effect allele so A1 is always A\n",
      "Returning  1037824  variants.\n",
      "Formatting X2\n",
      "There are  1037742  variants.\n",
      "Removing  0  duplicated variants leaving  1037742 variants.\n",
      "No variants have illegal alleles.\n",
      "Removed  0  variants with ambiguous strand.\n",
      "Flipping strand and effect allele so A1 is always A\n",
      "Returning  1037742  variants.\n",
      "After merging and removing variants with inconsistent alleles,  there are  1037742  variants that are present in both studies and can be used with CAUSE.\n"
     ]
    },
    {
     "name": "stderr",
     "output_type": "stream",
     "text": [
      "Clumping ggFgt8, 3354 variants, using EUR population reference\n",
      "\n",
      "Removing 2596 of 3354 variants due to LD with other variants or absence from LD reference panel\n",
      "\n"
     ]
    },
    {
     "name": "stdout",
     "output_type": "stream",
     "text": [
      "Estimating CAUSE parameters with  1000000  variants.\n",
      "1 0.02454551 \n",
      "2 1.635105e-05 \n",
      "3 3.143831e-08 \n",
      "Estimating CAUSE posteriors using  758  variants.\n"
     ]
    },
    {
     "name": "stderr",
     "output_type": "stream",
     "text": [
      "Warning message:\n",
      "“'compare' is deprecated.\n",
      "Use 'loo_compare' instead.\n",
      "See help(\"Deprecated\")”\n"
     ]
    },
    {
     "name": "stdout",
     "output_type": "stream",
     "text": [
      "    user   system  elapsed \n",
      "2255.107 1665.656  417.154 \n",
      "Angina ~ Hair_Dark_Brown \n"
     ]
    },
    {
     "name": "stderr",
     "output_type": "stream",
     "text": [
      "\u001b[1m\u001b[1mRows: \u001b[1m\u001b[22m\u001b[34m\u001b[34m1037824\u001b[34m\u001b[39m \u001b[1m\u001b[1mColumns: \u001b[1m\u001b[22m\u001b[34m\u001b[34m7\u001b[34m\u001b[39m\n",
      "\n",
      "\u001b[36m──\u001b[39m \u001b[1m\u001b[1mColumn specification\u001b[1m\u001b[22m \u001b[36m────────────────────────────────────────────────────────────────────────────────────────────────────────\u001b[39m\n",
      "\u001b[1mDelimiter:\u001b[22m \"\\t\"\n",
      "\u001b[31mchr\u001b[39m (3): SNP, A1, A2\n",
      "\u001b[32mdbl\u001b[39m (4): Z, N, chi2, P\n",
      "\n",
      "\n",
      "\u001b[36mℹ\u001b[39m Use \u001b[30m\u001b[47m\u001b[30m\u001b[47m`spec()`\u001b[47m\u001b[30m\u001b[49m\u001b[39m to retrieve the full column specification for this data.\n",
      "\u001b[36mℹ\u001b[39m Specify the column types or set \u001b[30m\u001b[47m\u001b[30m\u001b[47m`show_col_types = FALSE`\u001b[47m\u001b[30m\u001b[49m\u001b[39m to quiet this message.\n",
      "\n",
      "\u001b[1m\u001b[1mRows: \u001b[1m\u001b[22m\u001b[34m\u001b[34m1037381\u001b[34m\u001b[39m \u001b[1m\u001b[1mColumns: \u001b[1m\u001b[22m\u001b[34m\u001b[34m7\u001b[34m\u001b[39m\n",
      "\n",
      "\u001b[36m──\u001b[39m \u001b[1m\u001b[1mColumn specification\u001b[1m\u001b[22m \u001b[36m────────────────────────────────────────────────────────────────────────────────────────────────────────\u001b[39m\n",
      "\u001b[1mDelimiter:\u001b[22m \"\\t\"\n",
      "\u001b[31mchr\u001b[39m (3): SNP, A1, A2\n",
      "\u001b[32mdbl\u001b[39m (4): Z, N, chi2, P\n",
      "\n",
      "\n",
      "\u001b[36mℹ\u001b[39m Use \u001b[30m\u001b[47m\u001b[30m\u001b[47m`spec()`\u001b[47m\u001b[30m\u001b[49m\u001b[39m to retrieve the full column specification for this data.\n",
      "\u001b[36mℹ\u001b[39m Specify the column types or set \u001b[30m\u001b[47m\u001b[30m\u001b[47m`show_col_types = FALSE`\u001b[47m\u001b[30m\u001b[49m\u001b[39m to quiet this message.\n",
      "\n"
     ]
    },
    {
     "name": "stdout",
     "output_type": "stream",
     "text": [
      "Formatting X1\n",
      "There are  1037824  variants.\n",
      "Removing  0  duplicated variants leaving  1037824 variants.\n",
      "No variants have illegal alleles.\n",
      "Removed  0  variants with ambiguous strand.\n",
      "Flipping strand and effect allele so A1 is always A\n",
      "Returning  1037824  variants.\n",
      "Formatting X2\n",
      "There are  1037381  variants.\n",
      "Removing  0  duplicated variants leaving  1037381 variants.\n",
      "No variants have illegal alleles.\n",
      "Removed  0  variants with ambiguous strand.\n",
      "Flipping strand and effect allele so A1 is always A\n",
      "Returning  1037381  variants.\n",
      "After merging and removing variants with inconsistent alleles,  there are  1037381  variants that are present in both studies and can be used with CAUSE.\n"
     ]
    },
    {
     "name": "stderr",
     "output_type": "stream",
     "text": [
      "Clumping Ifmnyb, 3352 variants, using EUR population reference\n",
      "\n",
      "Removing 2594 of 3352 variants due to LD with other variants or absence from LD reference panel\n",
      "\n"
     ]
    },
    {
     "name": "stdout",
     "output_type": "stream",
     "text": [
      "Estimating CAUSE parameters with  1000000  variants.\n",
      "1 0.0009796498 \n",
      "2 8.229122e-07 \n",
      "3 6.929387e-10 \n",
      "Estimating CAUSE posteriors using  758  variants.\n"
     ]
    },
    {
     "name": "stderr",
     "output_type": "stream",
     "text": [
      "Warning message:\n",
      "“'compare' is deprecated.\n",
      "Use 'loo_compare' instead.\n",
      "See help(\"Deprecated\")”\n"
     ]
    },
    {
     "name": "stdout",
     "output_type": "stream",
     "text": [
      "    user   system  elapsed \n",
      "2215.908 1722.277  419.148 \n",
      "Angina ~ Hair_Black \n"
     ]
    },
    {
     "name": "stderr",
     "output_type": "stream",
     "text": [
      "\u001b[1m\u001b[1mRows: \u001b[1m\u001b[22m\u001b[34m\u001b[34m1037824\u001b[34m\u001b[39m \u001b[1m\u001b[1mColumns: \u001b[1m\u001b[22m\u001b[34m\u001b[34m7\u001b[34m\u001b[39m\n",
      "\n",
      "\u001b[36m──\u001b[39m \u001b[1m\u001b[1mColumn specification\u001b[1m\u001b[22m \u001b[36m────────────────────────────────────────────────────────────────────────────────────────────────────────\u001b[39m\n",
      "\u001b[1mDelimiter:\u001b[22m \"\\t\"\n",
      "\u001b[31mchr\u001b[39m (3): SNP, A1, A2\n",
      "\u001b[32mdbl\u001b[39m (4): Z, N, chi2, P\n",
      "\n",
      "\n",
      "\u001b[36mℹ\u001b[39m Use \u001b[30m\u001b[47m\u001b[30m\u001b[47m`spec()`\u001b[47m\u001b[30m\u001b[49m\u001b[39m to retrieve the full column specification for this data.\n",
      "\u001b[36mℹ\u001b[39m Specify the column types or set \u001b[30m\u001b[47m\u001b[30m\u001b[47m`show_col_types = FALSE`\u001b[47m\u001b[30m\u001b[49m\u001b[39m to quiet this message.\n",
      "\n",
      "\u001b[1m\u001b[1mRows: \u001b[1m\u001b[22m\u001b[34m\u001b[34m1037702\u001b[34m\u001b[39m \u001b[1m\u001b[1mColumns: \u001b[1m\u001b[22m\u001b[34m\u001b[34m7\u001b[34m\u001b[39m\n",
      "\n",
      "\u001b[36m──\u001b[39m \u001b[1m\u001b[1mColumn specification\u001b[1m\u001b[22m \u001b[36m────────────────────────────────────────────────────────────────────────────────────────────────────────\u001b[39m\n",
      "\u001b[1mDelimiter:\u001b[22m \"\\t\"\n",
      "\u001b[31mchr\u001b[39m (3): SNP, A1, A2\n",
      "\u001b[32mdbl\u001b[39m (4): Z, N, chi2, P\n",
      "\n",
      "\n",
      "\u001b[36mℹ\u001b[39m Use \u001b[30m\u001b[47m\u001b[30m\u001b[47m`spec()`\u001b[47m\u001b[30m\u001b[49m\u001b[39m to retrieve the full column specification for this data.\n",
      "\u001b[36mℹ\u001b[39m Specify the column types or set \u001b[30m\u001b[47m\u001b[30m\u001b[47m`show_col_types = FALSE`\u001b[47m\u001b[30m\u001b[49m\u001b[39m to quiet this message.\n",
      "\n"
     ]
    },
    {
     "name": "stdout",
     "output_type": "stream",
     "text": [
      "Formatting X1\n",
      "There are  1037824  variants.\n",
      "Removing  0  duplicated variants leaving  1037824 variants.\n",
      "No variants have illegal alleles.\n",
      "Removed  0  variants with ambiguous strand.\n",
      "Flipping strand and effect allele so A1 is always A\n",
      "Returning  1037824  variants.\n",
      "Formatting X2\n",
      "There are  1037702  variants.\n",
      "Removing  0  duplicated variants leaving  1037702 variants.\n",
      "No variants have illegal alleles.\n",
      "Removed  0  variants with ambiguous strand.\n",
      "Flipping strand and effect allele so A1 is always A\n",
      "Returning  1037702  variants.\n",
      "After merging and removing variants with inconsistent alleles,  there are  1037702  variants that are present in both studies and can be used with CAUSE.\n"
     ]
    },
    {
     "name": "stderr",
     "output_type": "stream",
     "text": [
      "Clumping 51WJse, 3354 variants, using EUR population reference\n",
      "\n",
      "Removing 2596 of 3354 variants due to LD with other variants or absence from LD reference panel\n",
      "\n"
     ]
    },
    {
     "name": "stdout",
     "output_type": "stream",
     "text": [
      "Estimating CAUSE parameters with  1000000  variants.\n",
      "1 0.05682115 \n",
      "2 5.282823e-05 \n",
      "3 3.382444e-07 \n",
      "4 3.149841e-09 \n",
      "Estimating CAUSE posteriors using  758  variants.\n"
     ]
    },
    {
     "name": "stderr",
     "output_type": "stream",
     "text": [
      "Warning message:\n",
      "“'compare' is deprecated.\n",
      "Use 'loo_compare' instead.\n",
      "See help(\"Deprecated\")”\n"
     ]
    },
    {
     "name": "stdout",
     "output_type": "stream",
     "text": [
      "    user   system  elapsed \n",
      "2129.642 1728.360  385.017 \n",
      "Angina ~ Hair_Blonde \n"
     ]
    },
    {
     "name": "stderr",
     "output_type": "stream",
     "text": [
      "\u001b[1m\u001b[1mRows: \u001b[1m\u001b[22m\u001b[34m\u001b[34m1037824\u001b[34m\u001b[39m \u001b[1m\u001b[1mColumns: \u001b[1m\u001b[22m\u001b[34m\u001b[34m7\u001b[34m\u001b[39m\n",
      "\n",
      "\u001b[36m──\u001b[39m \u001b[1m\u001b[1mColumn specification\u001b[1m\u001b[22m \u001b[36m────────────────────────────────────────────────────────────────────────────────────────────────────────\u001b[39m\n",
      "\u001b[1mDelimiter:\u001b[22m \"\\t\"\n",
      "\u001b[31mchr\u001b[39m (3): SNP, A1, A2\n",
      "\u001b[32mdbl\u001b[39m (4): Z, N, chi2, P\n",
      "\n",
      "\n",
      "\u001b[36mℹ\u001b[39m Use \u001b[30m\u001b[47m\u001b[30m\u001b[47m`spec()`\u001b[47m\u001b[30m\u001b[49m\u001b[39m to retrieve the full column specification for this data.\n",
      "\u001b[36mℹ\u001b[39m Specify the column types or set \u001b[30m\u001b[47m\u001b[30m\u001b[47m`show_col_types = FALSE`\u001b[47m\u001b[30m\u001b[49m\u001b[39m to quiet this message.\n",
      "\n",
      "\u001b[1m\u001b[1mRows: \u001b[1m\u001b[22m\u001b[34m\u001b[34m1037533\u001b[34m\u001b[39m \u001b[1m\u001b[1mColumns: \u001b[1m\u001b[22m\u001b[34m\u001b[34m7\u001b[34m\u001b[39m\n",
      "\n",
      "\u001b[36m──\u001b[39m \u001b[1m\u001b[1mColumn specification\u001b[1m\u001b[22m \u001b[36m────────────────────────────────────────────────────────────────────────────────────────────────────────\u001b[39m\n",
      "\u001b[1mDelimiter:\u001b[22m \"\\t\"\n",
      "\u001b[31mchr\u001b[39m (3): SNP, A1, A2\n",
      "\u001b[32mdbl\u001b[39m (4): Z, N, chi2, P\n",
      "\n",
      "\n",
      "\u001b[36mℹ\u001b[39m Use \u001b[30m\u001b[47m\u001b[30m\u001b[47m`spec()`\u001b[47m\u001b[30m\u001b[49m\u001b[39m to retrieve the full column specification for this data.\n",
      "\u001b[36mℹ\u001b[39m Specify the column types or set \u001b[30m\u001b[47m\u001b[30m\u001b[47m`show_col_types = FALSE`\u001b[47m\u001b[30m\u001b[49m\u001b[39m to quiet this message.\n",
      "\n"
     ]
    },
    {
     "name": "stdout",
     "output_type": "stream",
     "text": [
      "Formatting X1\n",
      "There are  1037824  variants.\n",
      "Removing  0  duplicated variants leaving  1037824 variants.\n",
      "No variants have illegal alleles.\n",
      "Removed  0  variants with ambiguous strand.\n",
      "Flipping strand and effect allele so A1 is always A\n",
      "Returning  1037824  variants.\n",
      "Formatting X2\n",
      "There are  1037533  variants.\n",
      "Removing  0  duplicated variants leaving  1037533 variants.\n",
      "No variants have illegal alleles.\n",
      "Removed  0  variants with ambiguous strand.\n",
      "Flipping strand and effect allele so A1 is always A\n",
      "Returning  1037533  variants.\n",
      "After merging and removing variants with inconsistent alleles,  there are  1037533  variants that are present in both studies and can be used with CAUSE.\n"
     ]
    },
    {
     "name": "stderr",
     "output_type": "stream",
     "text": [
      "Clumping ev2D65, 3354 variants, using EUR population reference\n",
      "\n",
      "Removing 2596 of 3354 variants due to LD with other variants or absence from LD reference panel\n",
      "\n"
     ]
    },
    {
     "name": "stdout",
     "output_type": "stream",
     "text": [
      "Estimating CAUSE parameters with  1000000  variants.\n",
      "1 0.003622334 \n",
      "2 1.336763e-06 \n",
      "3 4.974366e-10 \n",
      "Estimating CAUSE posteriors using  758  variants.\n"
     ]
    },
    {
     "name": "stderr",
     "output_type": "stream",
     "text": [
      "Warning message:\n",
      "“'compare' is deprecated.\n",
      "Use 'loo_compare' instead.\n",
      "See help(\"Deprecated\")”\n"
     ]
    },
    {
     "name": "stdout",
     "output_type": "stream",
     "text": [
      "    user   system  elapsed \n",
      "2141.504 1703.083  397.714 \n",
      "Angina ~ Tanning \n"
     ]
    },
    {
     "name": "stderr",
     "output_type": "stream",
     "text": [
      "\u001b[1m\u001b[1mRows: \u001b[1m\u001b[22m\u001b[34m\u001b[34m1037824\u001b[34m\u001b[39m \u001b[1m\u001b[1mColumns: \u001b[1m\u001b[22m\u001b[34m\u001b[34m7\u001b[34m\u001b[39m\n",
      "\n",
      "\u001b[36m──\u001b[39m \u001b[1m\u001b[1mColumn specification\u001b[1m\u001b[22m \u001b[36m────────────────────────────────────────────────────────────────────────────────────────────────────────\u001b[39m\n",
      "\u001b[1mDelimiter:\u001b[22m \"\\t\"\n",
      "\u001b[31mchr\u001b[39m (3): SNP, A1, A2\n",
      "\u001b[32mdbl\u001b[39m (4): Z, N, chi2, P\n",
      "\n",
      "\n",
      "\u001b[36mℹ\u001b[39m Use \u001b[30m\u001b[47m\u001b[30m\u001b[47m`spec()`\u001b[47m\u001b[30m\u001b[49m\u001b[39m to retrieve the full column specification for this data.\n",
      "\u001b[36mℹ\u001b[39m Specify the column types or set \u001b[30m\u001b[47m\u001b[30m\u001b[47m`show_col_types = FALSE`\u001b[47m\u001b[30m\u001b[49m\u001b[39m to quiet this message.\n",
      "\n",
      "\u001b[1m\u001b[1mRows: \u001b[1m\u001b[22m\u001b[34m\u001b[34m1037026\u001b[34m\u001b[39m \u001b[1m\u001b[1mColumns: \u001b[1m\u001b[22m\u001b[34m\u001b[34m7\u001b[34m\u001b[39m\n",
      "\n",
      "\u001b[36m──\u001b[39m \u001b[1m\u001b[1mColumn specification\u001b[1m\u001b[22m \u001b[36m────────────────────────────────────────────────────────────────────────────────────────────────────────\u001b[39m\n",
      "\u001b[1mDelimiter:\u001b[22m \"\\t\"\n",
      "\u001b[31mchr\u001b[39m (3): SNP, A1, A2\n",
      "\u001b[32mdbl\u001b[39m (4): Z, N, chi2, P\n",
      "\n",
      "\n",
      "\u001b[36mℹ\u001b[39m Use \u001b[30m\u001b[47m\u001b[30m\u001b[47m`spec()`\u001b[47m\u001b[30m\u001b[49m\u001b[39m to retrieve the full column specification for this data.\n",
      "\u001b[36mℹ\u001b[39m Specify the column types or set \u001b[30m\u001b[47m\u001b[30m\u001b[47m`show_col_types = FALSE`\u001b[47m\u001b[30m\u001b[49m\u001b[39m to quiet this message.\n",
      "\n"
     ]
    },
    {
     "name": "stdout",
     "output_type": "stream",
     "text": [
      "Formatting X1\n",
      "There are  1037824  variants.\n",
      "Removing  0  duplicated variants leaving  1037824 variants.\n",
      "No variants have illegal alleles.\n",
      "Removed  0  variants with ambiguous strand.\n",
      "Flipping strand and effect allele so A1 is always A\n",
      "Returning  1037824  variants.\n",
      "Formatting X2\n",
      "There are  1037026  variants.\n",
      "Removing  0  duplicated variants leaving  1037026 variants.\n",
      "No variants have illegal alleles.\n",
      "Removed  0  variants with ambiguous strand.\n",
      "Flipping strand and effect allele so A1 is always A\n",
      "Returning  1037026  variants.\n",
      "After merging and removing variants with inconsistent alleles,  there are  1037026  variants that are present in both studies and can be used with CAUSE.\n"
     ]
    },
    {
     "name": "stderr",
     "output_type": "stream",
     "text": [
      "Clumping Dx6Hah, 3312 variants, using EUR population reference\n",
      "\n",
      "Removing 2554 of 3312 variants due to LD with other variants or absence from LD reference panel\n",
      "\n"
     ]
    },
    {
     "name": "stdout",
     "output_type": "stream",
     "text": [
      "Estimating CAUSE parameters with  1000000  variants.\n",
      "1 0.009682706 \n",
      "2 4.21247e-06 \n",
      "3 2.834165e-09 \n",
      "Estimating CAUSE posteriors using  758  variants.\n"
     ]
    },
    {
     "name": "stderr",
     "output_type": "stream",
     "text": [
      "Warning message:\n",
      "“'compare' is deprecated.\n",
      "Use 'loo_compare' instead.\n",
      "See help(\"Deprecated\")”\n"
     ]
    },
    {
     "name": "stdout",
     "output_type": "stream",
     "text": [
      "    user   system  elapsed \n",
      "2445.475 1693.926  439.080 \n",
      "CAD ~ Hair_Light_Brown \n"
     ]
    },
    {
     "name": "stderr",
     "output_type": "stream",
     "text": [
      "\u001b[1m\u001b[1mRows: \u001b[1m\u001b[22m\u001b[34m\u001b[34m1112977\u001b[34m\u001b[39m \u001b[1m\u001b[1mColumns: \u001b[1m\u001b[22m\u001b[34m\u001b[34m7\u001b[34m\u001b[39m\n",
      "\n",
      "\u001b[36m──\u001b[39m \u001b[1m\u001b[1mColumn specification\u001b[1m\u001b[22m \u001b[36m────────────────────────────────────────────────────────────────────────────────────────────────────────\u001b[39m\n",
      "\u001b[1mDelimiter:\u001b[22m \"\\t\"\n",
      "\u001b[31mchr\u001b[39m (3): SNP, A1, A2\n",
      "\u001b[32mdbl\u001b[39m (4): Z, N, chi2, P\n",
      "\n",
      "\n",
      "\u001b[36mℹ\u001b[39m Use \u001b[30m\u001b[47m\u001b[30m\u001b[47m`spec()`\u001b[47m\u001b[30m\u001b[49m\u001b[39m to retrieve the full column specification for this data.\n",
      "\u001b[36mℹ\u001b[39m Specify the column types or set \u001b[30m\u001b[47m\u001b[30m\u001b[47m`show_col_types = FALSE`\u001b[47m\u001b[30m\u001b[49m\u001b[39m to quiet this message.\n",
      "\n",
      "\u001b[1m\u001b[1mRows: \u001b[1m\u001b[22m\u001b[34m\u001b[34m1037742\u001b[34m\u001b[39m \u001b[1m\u001b[1mColumns: \u001b[1m\u001b[22m\u001b[34m\u001b[34m7\u001b[34m\u001b[39m\n",
      "\n",
      "\u001b[36m──\u001b[39m \u001b[1m\u001b[1mColumn specification\u001b[1m\u001b[22m \u001b[36m────────────────────────────────────────────────────────────────────────────────────────────────────────\u001b[39m\n",
      "\u001b[1mDelimiter:\u001b[22m \"\\t\"\n",
      "\u001b[31mchr\u001b[39m (3): SNP, A1, A2\n",
      "\u001b[32mdbl\u001b[39m (4): Z, N, chi2, P\n",
      "\n",
      "\n",
      "\u001b[36mℹ\u001b[39m Use \u001b[30m\u001b[47m\u001b[30m\u001b[47m`spec()`\u001b[47m\u001b[30m\u001b[49m\u001b[39m to retrieve the full column specification for this data.\n",
      "\u001b[36mℹ\u001b[39m Specify the column types or set \u001b[30m\u001b[47m\u001b[30m\u001b[47m`show_col_types = FALSE`\u001b[47m\u001b[30m\u001b[49m\u001b[39m to quiet this message.\n",
      "\n"
     ]
    },
    {
     "name": "stdout",
     "output_type": "stream",
     "text": [
      "Formatting X1\n",
      "There are  1112977  variants.\n",
      "Removing  0  duplicated variants leaving  1112977 variants.\n",
      "No variants have illegal alleles.\n",
      "Removed  0  variants with ambiguous strand.\n",
      "Flipping strand and effect allele so A1 is always A\n",
      "Returning  1112977  variants.\n",
      "Formatting X2\n",
      "There are  1037742  variants.\n",
      "Removing  0  duplicated variants leaving  1037742 variants.\n",
      "No variants have illegal alleles.\n",
      "Removed  0  variants with ambiguous strand.\n",
      "Flipping strand and effect allele so A1 is always A\n",
      "Returning  1037742  variants.\n",
      "After merging and removing variants with inconsistent alleles,  there are  1033704  variants that are present in both studies and can be used with CAUSE.\n"
     ]
    },
    {
     "name": "stderr",
     "output_type": "stream",
     "text": [
      "Clumping QXagfI, 5303 variants, using EUR population reference\n",
      "\n",
      "Removing 4545 of 5303 variants due to LD with other variants or absence from LD reference panel\n",
      "\n"
     ]
    },
    {
     "name": "stdout",
     "output_type": "stream",
     "text": [
      "Estimating CAUSE parameters with  1000000  variants.\n",
      "1 0.01433299 \n",
      "2 1.673935e-05 \n",
      "3 2.539517e-08 \n",
      "Estimating CAUSE posteriors using  758  variants.\n"
     ]
    },
    {
     "name": "stderr",
     "output_type": "stream",
     "text": [
      "Warning message:\n",
      "“'compare' is deprecated.\n",
      "Use 'loo_compare' instead.\n",
      "See help(\"Deprecated\")”\n"
     ]
    },
    {
     "name": "stdout",
     "output_type": "stream",
     "text": [
      "    user   system  elapsed \n",
      "2324.904 1738.620  432.849 \n",
      "CAD ~ Hair_Dark_Brown \n"
     ]
    },
    {
     "name": "stderr",
     "output_type": "stream",
     "text": [
      "\u001b[1m\u001b[1mRows: \u001b[1m\u001b[22m\u001b[34m\u001b[34m1112977\u001b[34m\u001b[39m \u001b[1m\u001b[1mColumns: \u001b[1m\u001b[22m\u001b[34m\u001b[34m7\u001b[34m\u001b[39m\n",
      "\n",
      "\u001b[36m──\u001b[39m \u001b[1m\u001b[1mColumn specification\u001b[1m\u001b[22m \u001b[36m────────────────────────────────────────────────────────────────────────────────────────────────────────\u001b[39m\n",
      "\u001b[1mDelimiter:\u001b[22m \"\\t\"\n",
      "\u001b[31mchr\u001b[39m (3): SNP, A1, A2\n",
      "\u001b[32mdbl\u001b[39m (4): Z, N, chi2, P\n",
      "\n",
      "\n",
      "\u001b[36mℹ\u001b[39m Use \u001b[30m\u001b[47m\u001b[30m\u001b[47m`spec()`\u001b[47m\u001b[30m\u001b[49m\u001b[39m to retrieve the full column specification for this data.\n",
      "\u001b[36mℹ\u001b[39m Specify the column types or set \u001b[30m\u001b[47m\u001b[30m\u001b[47m`show_col_types = FALSE`\u001b[47m\u001b[30m\u001b[49m\u001b[39m to quiet this message.\n",
      "\n",
      "\u001b[1m\u001b[1mRows: \u001b[1m\u001b[22m\u001b[34m\u001b[34m1037381\u001b[34m\u001b[39m \u001b[1m\u001b[1mColumns: \u001b[1m\u001b[22m\u001b[34m\u001b[34m7\u001b[34m\u001b[39m\n",
      "\n",
      "\u001b[36m──\u001b[39m \u001b[1m\u001b[1mColumn specification\u001b[1m\u001b[22m \u001b[36m────────────────────────────────────────────────────────────────────────────────────────────────────────\u001b[39m\n",
      "\u001b[1mDelimiter:\u001b[22m \"\\t\"\n",
      "\u001b[31mchr\u001b[39m (3): SNP, A1, A2\n",
      "\u001b[32mdbl\u001b[39m (4): Z, N, chi2, P\n",
      "\n",
      "\n",
      "\u001b[36mℹ\u001b[39m Use \u001b[30m\u001b[47m\u001b[30m\u001b[47m`spec()`\u001b[47m\u001b[30m\u001b[49m\u001b[39m to retrieve the full column specification for this data.\n",
      "\u001b[36mℹ\u001b[39m Specify the column types or set \u001b[30m\u001b[47m\u001b[30m\u001b[47m`show_col_types = FALSE`\u001b[47m\u001b[30m\u001b[49m\u001b[39m to quiet this message.\n",
      "\n"
     ]
    },
    {
     "name": "stdout",
     "output_type": "stream",
     "text": [
      "Formatting X1\n",
      "There are  1112977  variants.\n",
      "Removing  0  duplicated variants leaving  1112977 variants.\n",
      "No variants have illegal alleles.\n",
      "Removed  0  variants with ambiguous strand.\n",
      "Flipping strand and effect allele so A1 is always A\n",
      "Returning  1112977  variants.\n",
      "Formatting X2\n",
      "There are  1037381  variants.\n",
      "Removing  0  duplicated variants leaving  1037381 variants.\n",
      "No variants have illegal alleles.\n",
      "Removed  0  variants with ambiguous strand.\n",
      "Flipping strand and effect allele so A1 is always A\n",
      "Returning  1037381  variants.\n",
      "After merging and removing variants with inconsistent alleles,  there are  1033343  variants that are present in both studies and can be used with CAUSE.\n"
     ]
    },
    {
     "name": "stderr",
     "output_type": "stream",
     "text": [
      "Clumping apQ15D, 5301 variants, using EUR population reference\n",
      "\n",
      "Removing 4544 of 5301 variants due to LD with other variants or absence from LD reference panel\n",
      "\n"
     ]
    },
    {
     "name": "stdout",
     "output_type": "stream",
     "text": [
      "Estimating CAUSE parameters with  1000000  variants.\n",
      "1 0.03541221 \n",
      "2 3.436289e-05 \n",
      "3 1.103633e-07 \n",
      "4 2.623305e-09 \n",
      "Estimating CAUSE posteriors using  757  variants.\n"
     ]
    },
    {
     "name": "stderr",
     "output_type": "stream",
     "text": [
      "Warning message:\n",
      "“'compare' is deprecated.\n",
      "Use 'loo_compare' instead.\n",
      "See help(\"Deprecated\")”\n"
     ]
    },
    {
     "name": "stdout",
     "output_type": "stream",
     "text": [
      "    user   system  elapsed \n",
      "2738.056 2270.763  497.234 \n",
      "CAD ~ Hair_Black \n"
     ]
    },
    {
     "name": "stderr",
     "output_type": "stream",
     "text": [
      "\u001b[1m\u001b[1mRows: \u001b[1m\u001b[22m\u001b[34m\u001b[34m1112977\u001b[34m\u001b[39m \u001b[1m\u001b[1mColumns: \u001b[1m\u001b[22m\u001b[34m\u001b[34m7\u001b[34m\u001b[39m\n",
      "\n",
      "\u001b[36m──\u001b[39m \u001b[1m\u001b[1mColumn specification\u001b[1m\u001b[22m \u001b[36m────────────────────────────────────────────────────────────────────────────────────────────────────────\u001b[39m\n",
      "\u001b[1mDelimiter:\u001b[22m \"\\t\"\n",
      "\u001b[31mchr\u001b[39m (3): SNP, A1, A2\n",
      "\u001b[32mdbl\u001b[39m (4): Z, N, chi2, P\n",
      "\n",
      "\n",
      "\u001b[36mℹ\u001b[39m Use \u001b[30m\u001b[47m\u001b[30m\u001b[47m`spec()`\u001b[47m\u001b[30m\u001b[49m\u001b[39m to retrieve the full column specification for this data.\n",
      "\u001b[36mℹ\u001b[39m Specify the column types or set \u001b[30m\u001b[47m\u001b[30m\u001b[47m`show_col_types = FALSE`\u001b[47m\u001b[30m\u001b[49m\u001b[39m to quiet this message.\n",
      "\n",
      "\u001b[1m\u001b[1mRows: \u001b[1m\u001b[22m\u001b[34m\u001b[34m1037702\u001b[34m\u001b[39m \u001b[1m\u001b[1mColumns: \u001b[1m\u001b[22m\u001b[34m\u001b[34m7\u001b[34m\u001b[39m\n",
      "\n",
      "\u001b[36m──\u001b[39m \u001b[1m\u001b[1mColumn specification\u001b[1m\u001b[22m \u001b[36m────────────────────────────────────────────────────────────────────────────────────────────────────────\u001b[39m\n",
      "\u001b[1mDelimiter:\u001b[22m \"\\t\"\n",
      "\u001b[31mchr\u001b[39m (3): SNP, A1, A2\n",
      "\u001b[32mdbl\u001b[39m (4): Z, N, chi2, P\n",
      "\n",
      "\n",
      "\u001b[36mℹ\u001b[39m Use \u001b[30m\u001b[47m\u001b[30m\u001b[47m`spec()`\u001b[47m\u001b[30m\u001b[49m\u001b[39m to retrieve the full column specification for this data.\n",
      "\u001b[36mℹ\u001b[39m Specify the column types or set \u001b[30m\u001b[47m\u001b[30m\u001b[47m`show_col_types = FALSE`\u001b[47m\u001b[30m\u001b[49m\u001b[39m to quiet this message.\n",
      "\n"
     ]
    },
    {
     "name": "stdout",
     "output_type": "stream",
     "text": [
      "Formatting X1\n",
      "There are  1112977  variants.\n",
      "Removing  0  duplicated variants leaving  1112977 variants.\n",
      "No variants have illegal alleles.\n",
      "Removed  0  variants with ambiguous strand.\n",
      "Flipping strand and effect allele so A1 is always A\n",
      "Returning  1112977  variants.\n",
      "Formatting X2\n",
      "There are  1037702  variants.\n",
      "Removing  0  duplicated variants leaving  1037702 variants.\n",
      "No variants have illegal alleles.\n",
      "Removed  0  variants with ambiguous strand.\n",
      "Flipping strand and effect allele so A1 is always A\n",
      "Returning  1037702  variants.\n",
      "After merging and removing variants with inconsistent alleles,  there are  1033664  variants that are present in both studies and can be used with CAUSE.\n"
     ]
    },
    {
     "name": "stderr",
     "output_type": "stream",
     "text": [
      "Clumping M51ReZ, 5303 variants, using EUR population reference\n",
      "\n",
      "Removing 4545 of 5303 variants due to LD with other variants or absence from LD reference panel\n",
      "\n"
     ]
    },
    {
     "name": "stdout",
     "output_type": "stream",
     "text": [
      "Estimating CAUSE parameters with  1000000  variants.\n",
      "1 0.00585239 \n",
      "2 4.519841e-06 \n",
      "3 4.579039e-09 \n",
      "Estimating CAUSE posteriors using  758  variants.\n"
     ]
    },
    {
     "name": "stderr",
     "output_type": "stream",
     "text": [
      "Warning message:\n",
      "“'compare' is deprecated.\n",
      "Use 'loo_compare' instead.\n",
      "See help(\"Deprecated\")”\n"
     ]
    },
    {
     "name": "stdout",
     "output_type": "stream",
     "text": [
      "    user   system  elapsed \n",
      "1822.439 1393.346  339.706 \n",
      "CAD ~ Hair_Blonde \n"
     ]
    },
    {
     "name": "stderr",
     "output_type": "stream",
     "text": [
      "\u001b[1m\u001b[1mRows: \u001b[1m\u001b[22m\u001b[34m\u001b[34m1112977\u001b[34m\u001b[39m \u001b[1m\u001b[1mColumns: \u001b[1m\u001b[22m\u001b[34m\u001b[34m7\u001b[34m\u001b[39m\n",
      "\n",
      "\u001b[36m──\u001b[39m \u001b[1m\u001b[1mColumn specification\u001b[1m\u001b[22m \u001b[36m────────────────────────────────────────────────────────────────────────────────────────────────────────\u001b[39m\n",
      "\u001b[1mDelimiter:\u001b[22m \"\\t\"\n",
      "\u001b[31mchr\u001b[39m (3): SNP, A1, A2\n",
      "\u001b[32mdbl\u001b[39m (4): Z, N, chi2, P\n",
      "\n",
      "\n",
      "\u001b[36mℹ\u001b[39m Use \u001b[30m\u001b[47m\u001b[30m\u001b[47m`spec()`\u001b[47m\u001b[30m\u001b[49m\u001b[39m to retrieve the full column specification for this data.\n",
      "\u001b[36mℹ\u001b[39m Specify the column types or set \u001b[30m\u001b[47m\u001b[30m\u001b[47m`show_col_types = FALSE`\u001b[47m\u001b[30m\u001b[49m\u001b[39m to quiet this message.\n",
      "\n",
      "\u001b[1m\u001b[1mRows: \u001b[1m\u001b[22m\u001b[34m\u001b[34m1037533\u001b[34m\u001b[39m \u001b[1m\u001b[1mColumns: \u001b[1m\u001b[22m\u001b[34m\u001b[34m7\u001b[34m\u001b[39m\n",
      "\n",
      "\u001b[36m──\u001b[39m \u001b[1m\u001b[1mColumn specification\u001b[1m\u001b[22m \u001b[36m────────────────────────────────────────────────────────────────────────────────────────────────────────\u001b[39m\n",
      "\u001b[1mDelimiter:\u001b[22m \"\\t\"\n",
      "\u001b[31mchr\u001b[39m (3): SNP, A1, A2\n",
      "\u001b[32mdbl\u001b[39m (4): Z, N, chi2, P\n",
      "\n",
      "\n",
      "\u001b[36mℹ\u001b[39m Use \u001b[30m\u001b[47m\u001b[30m\u001b[47m`spec()`\u001b[47m\u001b[30m\u001b[49m\u001b[39m to retrieve the full column specification for this data.\n",
      "\u001b[36mℹ\u001b[39m Specify the column types or set \u001b[30m\u001b[47m\u001b[30m\u001b[47m`show_col_types = FALSE`\u001b[47m\u001b[30m\u001b[49m\u001b[39m to quiet this message.\n",
      "\n"
     ]
    },
    {
     "name": "stdout",
     "output_type": "stream",
     "text": [
      "Formatting X1\n",
      "There are  1112977  variants.\n",
      "Removing  0  duplicated variants leaving  1112977 variants.\n",
      "No variants have illegal alleles.\n",
      "Removed  0  variants with ambiguous strand.\n",
      "Flipping strand and effect allele so A1 is always A\n",
      "Returning  1112977  variants.\n",
      "Formatting X2\n",
      "There are  1037533  variants.\n",
      "Removing  0  duplicated variants leaving  1037533 variants.\n",
      "No variants have illegal alleles.\n",
      "Removed  0  variants with ambiguous strand.\n",
      "Flipping strand and effect allele so A1 is always A\n",
      "Returning  1037533  variants.\n",
      "After merging and removing variants with inconsistent alleles,  there are  1033495  variants that are present in both studies and can be used with CAUSE.\n"
     ]
    },
    {
     "name": "stderr",
     "output_type": "stream",
     "text": [
      "Clumping oSgxxZ, 5303 variants, using EUR population reference\n",
      "\n",
      "Removing 4545 of 5303 variants due to LD with other variants or absence from LD reference panel\n",
      "\n"
     ]
    },
    {
     "name": "stdout",
     "output_type": "stream",
     "text": [
      "Estimating CAUSE parameters with  1000000  variants.\n",
      "1 0.02078919 \n",
      "2 6.502887e-06 \n",
      "3 1.011135e-08 \n",
      "Estimating CAUSE posteriors using  758  variants.\n"
     ]
    },
    {
     "name": "stderr",
     "output_type": "stream",
     "text": [
      "Warning message:\n",
      "“'compare' is deprecated.\n",
      "Use 'loo_compare' instead.\n",
      "See help(\"Deprecated\")”\n"
     ]
    },
    {
     "name": "stdout",
     "output_type": "stream",
     "text": [
      "    user   system  elapsed \n",
      "1942.611 1574.467  357.103 \n",
      "CAD ~ Tanning \n"
     ]
    },
    {
     "name": "stderr",
     "output_type": "stream",
     "text": [
      "\u001b[1m\u001b[1mRows: \u001b[1m\u001b[22m\u001b[34m\u001b[34m1112977\u001b[34m\u001b[39m \u001b[1m\u001b[1mColumns: \u001b[1m\u001b[22m\u001b[34m\u001b[34m7\u001b[34m\u001b[39m\n",
      "\n",
      "\u001b[36m──\u001b[39m \u001b[1m\u001b[1mColumn specification\u001b[1m\u001b[22m \u001b[36m────────────────────────────────────────────────────────────────────────────────────────────────────────\u001b[39m\n",
      "\u001b[1mDelimiter:\u001b[22m \"\\t\"\n",
      "\u001b[31mchr\u001b[39m (3): SNP, A1, A2\n",
      "\u001b[32mdbl\u001b[39m (4): Z, N, chi2, P\n",
      "\n",
      "\n",
      "\u001b[36mℹ\u001b[39m Use \u001b[30m\u001b[47m\u001b[30m\u001b[47m`spec()`\u001b[47m\u001b[30m\u001b[49m\u001b[39m to retrieve the full column specification for this data.\n",
      "\u001b[36mℹ\u001b[39m Specify the column types or set \u001b[30m\u001b[47m\u001b[30m\u001b[47m`show_col_types = FALSE`\u001b[47m\u001b[30m\u001b[49m\u001b[39m to quiet this message.\n",
      "\n",
      "\u001b[1m\u001b[1mRows: \u001b[1m\u001b[22m\u001b[34m\u001b[34m1037026\u001b[34m\u001b[39m \u001b[1m\u001b[1mColumns: \u001b[1m\u001b[22m\u001b[34m\u001b[34m7\u001b[34m\u001b[39m\n",
      "\n",
      "\u001b[36m──\u001b[39m \u001b[1m\u001b[1mColumn specification\u001b[1m\u001b[22m \u001b[36m────────────────────────────────────────────────────────────────────────────────────────────────────────\u001b[39m\n",
      "\u001b[1mDelimiter:\u001b[22m \"\\t\"\n",
      "\u001b[31mchr\u001b[39m (3): SNP, A1, A2\n",
      "\u001b[32mdbl\u001b[39m (4): Z, N, chi2, P\n",
      "\n",
      "\n",
      "\u001b[36mℹ\u001b[39m Use \u001b[30m\u001b[47m\u001b[30m\u001b[47m`spec()`\u001b[47m\u001b[30m\u001b[49m\u001b[39m to retrieve the full column specification for this data.\n",
      "\u001b[36mℹ\u001b[39m Specify the column types or set \u001b[30m\u001b[47m\u001b[30m\u001b[47m`show_col_types = FALSE`\u001b[47m\u001b[30m\u001b[49m\u001b[39m to quiet this message.\n",
      "\n"
     ]
    },
    {
     "name": "stdout",
     "output_type": "stream",
     "text": [
      "Formatting X1\n",
      "There are  1112977  variants.\n",
      "Removing  0  duplicated variants leaving  1112977 variants.\n",
      "No variants have illegal alleles.\n",
      "Removed  0  variants with ambiguous strand.\n",
      "Flipping strand and effect allele so A1 is always A\n",
      "Returning  1112977  variants.\n",
      "Formatting X2\n",
      "There are  1037026  variants.\n",
      "Removing  0  duplicated variants leaving  1037026 variants.\n",
      "No variants have illegal alleles.\n",
      "Removed  0  variants with ambiguous strand.\n",
      "Flipping strand and effect allele so A1 is always A\n",
      "Returning  1037026  variants.\n",
      "After merging and removing variants with inconsistent alleles,  there are  1032989  variants that are present in both studies and can be used with CAUSE.\n"
     ]
    },
    {
     "name": "stderr",
     "output_type": "stream",
     "text": [
      "Clumping ILl8Up, 5300 variants, using EUR population reference\n",
      "\n",
      "Removing 4543 of 5300 variants due to LD with other variants or absence from LD reference panel\n",
      "\n"
     ]
    },
    {
     "name": "stdout",
     "output_type": "stream",
     "text": [
      "Estimating CAUSE parameters with  1000000  variants.\n",
      "1 0.005680611 \n",
      "2 4.492367e-07 \n",
      "3 5.31436e-11 \n",
      "Estimating CAUSE posteriors using  757  variants.\n"
     ]
    },
    {
     "name": "stderr",
     "output_type": "stream",
     "text": [
      "Warning message:\n",
      "“'compare' is deprecated.\n",
      "Use 'loo_compare' instead.\n",
      "See help(\"Deprecated\")”\n"
     ]
    },
    {
     "name": "stdout",
     "output_type": "stream",
     "text": [
      "    user   system  elapsed \n",
      "2080.589 1690.701  408.397 \n",
      "HBP ~ Hair_Light_Brown \n"
     ]
    },
    {
     "name": "stderr",
     "output_type": "stream",
     "text": [
      "\u001b[1m\u001b[1mRows: \u001b[1m\u001b[22m\u001b[34m\u001b[34m1037824\u001b[34m\u001b[39m \u001b[1m\u001b[1mColumns: \u001b[1m\u001b[22m\u001b[34m\u001b[34m7\u001b[34m\u001b[39m\n",
      "\n",
      "\u001b[36m──\u001b[39m \u001b[1m\u001b[1mColumn specification\u001b[1m\u001b[22m \u001b[36m────────────────────────────────────────────────────────────────────────────────────────────────────────\u001b[39m\n",
      "\u001b[1mDelimiter:\u001b[22m \"\\t\"\n",
      "\u001b[31mchr\u001b[39m (3): SNP, A1, A2\n",
      "\u001b[32mdbl\u001b[39m (4): Z, N, chi2, P\n",
      "\n",
      "\n",
      "\u001b[36mℹ\u001b[39m Use \u001b[30m\u001b[47m\u001b[30m\u001b[47m`spec()`\u001b[47m\u001b[30m\u001b[49m\u001b[39m to retrieve the full column specification for this data.\n",
      "\u001b[36mℹ\u001b[39m Specify the column types or set \u001b[30m\u001b[47m\u001b[30m\u001b[47m`show_col_types = FALSE`\u001b[47m\u001b[30m\u001b[49m\u001b[39m to quiet this message.\n",
      "\n",
      "\u001b[1m\u001b[1mRows: \u001b[1m\u001b[22m\u001b[34m\u001b[34m1037742\u001b[34m\u001b[39m \u001b[1m\u001b[1mColumns: \u001b[1m\u001b[22m\u001b[34m\u001b[34m7\u001b[34m\u001b[39m\n",
      "\n",
      "\u001b[36m──\u001b[39m \u001b[1m\u001b[1mColumn specification\u001b[1m\u001b[22m \u001b[36m────────────────────────────────────────────────────────────────────────────────────────────────────────\u001b[39m\n",
      "\u001b[1mDelimiter:\u001b[22m \"\\t\"\n",
      "\u001b[31mchr\u001b[39m (3): SNP, A1, A2\n",
      "\u001b[32mdbl\u001b[39m (4): Z, N, chi2, P\n",
      "\n",
      "\n",
      "\u001b[36mℹ\u001b[39m Use \u001b[30m\u001b[47m\u001b[30m\u001b[47m`spec()`\u001b[47m\u001b[30m\u001b[49m\u001b[39m to retrieve the full column specification for this data.\n",
      "\u001b[36mℹ\u001b[39m Specify the column types or set \u001b[30m\u001b[47m\u001b[30m\u001b[47m`show_col_types = FALSE`\u001b[47m\u001b[30m\u001b[49m\u001b[39m to quiet this message.\n",
      "\n"
     ]
    },
    {
     "name": "stdout",
     "output_type": "stream",
     "text": [
      "Formatting X1\n",
      "There are  1037824  variants.\n",
      "Removing  0  duplicated variants leaving  1037824 variants.\n",
      "No variants have illegal alleles.\n",
      "Removed  0  variants with ambiguous strand.\n",
      "Flipping strand and effect allele so A1 is always A\n",
      "Returning  1037824  variants.\n",
      "Formatting X2\n",
      "There are  1037742  variants.\n",
      "Removing  0  duplicated variants leaving  1037742 variants.\n",
      "No variants have illegal alleles.\n",
      "Removed  0  variants with ambiguous strand.\n",
      "Flipping strand and effect allele so A1 is always A\n",
      "Returning  1037742  variants.\n",
      "After merging and removing variants with inconsistent alleles,  there are  1037742  variants that are present in both studies and can be used with CAUSE.\n"
     ]
    },
    {
     "name": "stderr",
     "output_type": "stream",
     "text": [
      "Clumping PNUrpb, 29062 variants, using EUR population reference\n",
      "\n",
      "Removing 25962 of 29062 variants due to LD with other variants or absence from LD reference panel\n",
      "\n"
     ]
    },
    {
     "name": "stdout",
     "output_type": "stream",
     "text": [
      "Estimating CAUSE parameters with  1000000  variants.\n",
      "1 0.03631214 \n",
      "2 1.008248e-05 \n",
      "3 2.450235e-08 \n",
      "Estimating CAUSE posteriors using  3100  variants.\n"
     ]
    },
    {
     "name": "stderr",
     "output_type": "stream",
     "text": [
      "Warning message:\n",
      "“'compare' is deprecated.\n",
      "Use 'loo_compare' instead.\n",
      "See help(\"Deprecated\")”\n"
     ]
    },
    {
     "name": "stdout",
     "output_type": "stream",
     "text": [
      "    user   system  elapsed \n",
      "3232.406 1491.841  440.197 \n",
      "HBP ~ Hair_Dark_Brown \n"
     ]
    },
    {
     "name": "stderr",
     "output_type": "stream",
     "text": [
      "\u001b[1m\u001b[1mRows: \u001b[1m\u001b[22m\u001b[34m\u001b[34m1037824\u001b[34m\u001b[39m \u001b[1m\u001b[1mColumns: \u001b[1m\u001b[22m\u001b[34m\u001b[34m7\u001b[34m\u001b[39m\n",
      "\n",
      "\u001b[36m──\u001b[39m \u001b[1m\u001b[1mColumn specification\u001b[1m\u001b[22m \u001b[36m────────────────────────────────────────────────────────────────────────────────────────────────────────\u001b[39m\n",
      "\u001b[1mDelimiter:\u001b[22m \"\\t\"\n",
      "\u001b[31mchr\u001b[39m (3): SNP, A1, A2\n",
      "\u001b[32mdbl\u001b[39m (4): Z, N, chi2, P\n",
      "\n",
      "\n",
      "\u001b[36mℹ\u001b[39m Use \u001b[30m\u001b[47m\u001b[30m\u001b[47m`spec()`\u001b[47m\u001b[30m\u001b[49m\u001b[39m to retrieve the full column specification for this data.\n",
      "\u001b[36mℹ\u001b[39m Specify the column types or set \u001b[30m\u001b[47m\u001b[30m\u001b[47m`show_col_types = FALSE`\u001b[47m\u001b[30m\u001b[49m\u001b[39m to quiet this message.\n",
      "\n",
      "\u001b[1m\u001b[1mRows: \u001b[1m\u001b[22m\u001b[34m\u001b[34m1037381\u001b[34m\u001b[39m \u001b[1m\u001b[1mColumns: \u001b[1m\u001b[22m\u001b[34m\u001b[34m7\u001b[34m\u001b[39m\n",
      "\n",
      "\u001b[36m──\u001b[39m \u001b[1m\u001b[1mColumn specification\u001b[1m\u001b[22m \u001b[36m────────────────────────────────────────────────────────────────────────────────────────────────────────\u001b[39m\n",
      "\u001b[1mDelimiter:\u001b[22m \"\\t\"\n",
      "\u001b[31mchr\u001b[39m (3): SNP, A1, A2\n",
      "\u001b[32mdbl\u001b[39m (4): Z, N, chi2, P\n",
      "\n",
      "\n",
      "\u001b[36mℹ\u001b[39m Use \u001b[30m\u001b[47m\u001b[30m\u001b[47m`spec()`\u001b[47m\u001b[30m\u001b[49m\u001b[39m to retrieve the full column specification for this data.\n",
      "\u001b[36mℹ\u001b[39m Specify the column types or set \u001b[30m\u001b[47m\u001b[30m\u001b[47m`show_col_types = FALSE`\u001b[47m\u001b[30m\u001b[49m\u001b[39m to quiet this message.\n",
      "\n"
     ]
    },
    {
     "name": "stdout",
     "output_type": "stream",
     "text": [
      "Formatting X1\n",
      "There are  1037824  variants.\n",
      "Removing  0  duplicated variants leaving  1037824 variants.\n",
      "No variants have illegal alleles.\n",
      "Removed  0  variants with ambiguous strand.\n",
      "Flipping strand and effect allele so A1 is always A\n",
      "Returning  1037824  variants.\n",
      "Formatting X2\n",
      "There are  1037381  variants.\n",
      "Removing  0  duplicated variants leaving  1037381 variants.\n",
      "No variants have illegal alleles.\n",
      "Removed  0  variants with ambiguous strand.\n",
      "Flipping strand and effect allele so A1 is always A\n",
      "Returning  1037381  variants.\n",
      "After merging and removing variants with inconsistent alleles,  there are  1037381  variants that are present in both studies and can be used with CAUSE.\n"
     ]
    },
    {
     "name": "stderr",
     "output_type": "stream",
     "text": [
      "Clumping 7OZGB3, 28990 variants, using EUR population reference\n",
      "\n",
      "Removing 25892 of 28990 variants due to LD with other variants or absence from LD reference panel\n",
      "\n"
     ]
    },
    {
     "name": "stdout",
     "output_type": "stream",
     "text": [
      "Estimating CAUSE parameters with  1000000  variants.\n",
      "1 0.0955756 \n",
      "2 0.0002822135 \n",
      "3 3.883914e-06 \n",
      "4 5.105972e-08 \n",
      "Estimating CAUSE posteriors using  3098  variants.\n"
     ]
    },
    {
     "name": "stderr",
     "output_type": "stream",
     "text": [
      "Warning message:\n",
      "“'compare' is deprecated.\n",
      "Use 'loo_compare' instead.\n",
      "See help(\"Deprecated\")”\n"
     ]
    },
    {
     "name": "stdout",
     "output_type": "stream",
     "text": [
      "    user   system  elapsed \n",
      "3647.045 2025.280  501.390 \n",
      "HBP ~ Hair_Black \n"
     ]
    },
    {
     "name": "stderr",
     "output_type": "stream",
     "text": [
      "\u001b[1m\u001b[1mRows: \u001b[1m\u001b[22m\u001b[34m\u001b[34m1037824\u001b[34m\u001b[39m \u001b[1m\u001b[1mColumns: \u001b[1m\u001b[22m\u001b[34m\u001b[34m7\u001b[34m\u001b[39m\n",
      "\n",
      "\u001b[36m──\u001b[39m \u001b[1m\u001b[1mColumn specification\u001b[1m\u001b[22m \u001b[36m────────────────────────────────────────────────────────────────────────────────────────────────────────\u001b[39m\n",
      "\u001b[1mDelimiter:\u001b[22m \"\\t\"\n",
      "\u001b[31mchr\u001b[39m (3): SNP, A1, A2\n",
      "\u001b[32mdbl\u001b[39m (4): Z, N, chi2, P\n",
      "\n",
      "\n",
      "\u001b[36mℹ\u001b[39m Use \u001b[30m\u001b[47m\u001b[30m\u001b[47m`spec()`\u001b[47m\u001b[30m\u001b[49m\u001b[39m to retrieve the full column specification for this data.\n",
      "\u001b[36mℹ\u001b[39m Specify the column types or set \u001b[30m\u001b[47m\u001b[30m\u001b[47m`show_col_types = FALSE`\u001b[47m\u001b[30m\u001b[49m\u001b[39m to quiet this message.\n",
      "\n",
      "\u001b[1m\u001b[1mRows: \u001b[1m\u001b[22m\u001b[34m\u001b[34m1037702\u001b[34m\u001b[39m \u001b[1m\u001b[1mColumns: \u001b[1m\u001b[22m\u001b[34m\u001b[34m7\u001b[34m\u001b[39m\n",
      "\n",
      "\u001b[36m──\u001b[39m \u001b[1m\u001b[1mColumn specification\u001b[1m\u001b[22m \u001b[36m────────────────────────────────────────────────────────────────────────────────────────────────────────\u001b[39m\n",
      "\u001b[1mDelimiter:\u001b[22m \"\\t\"\n",
      "\u001b[31mchr\u001b[39m (3): SNP, A1, A2\n",
      "\u001b[32mdbl\u001b[39m (4): Z, N, chi2, P\n",
      "\n",
      "\n",
      "\u001b[36mℹ\u001b[39m Use \u001b[30m\u001b[47m\u001b[30m\u001b[47m`spec()`\u001b[47m\u001b[30m\u001b[49m\u001b[39m to retrieve the full column specification for this data.\n",
      "\u001b[36mℹ\u001b[39m Specify the column types or set \u001b[30m\u001b[47m\u001b[30m\u001b[47m`show_col_types = FALSE`\u001b[47m\u001b[30m\u001b[49m\u001b[39m to quiet this message.\n",
      "\n"
     ]
    },
    {
     "name": "stdout",
     "output_type": "stream",
     "text": [
      "Formatting X1\n",
      "There are  1037824  variants.\n",
      "Removing  0  duplicated variants leaving  1037824 variants.\n",
      "No variants have illegal alleles.\n",
      "Removed  0  variants with ambiguous strand.\n",
      "Flipping strand and effect allele so A1 is always A\n",
      "Returning  1037824  variants.\n",
      "Formatting X2\n",
      "There are  1037702  variants.\n",
      "Removing  0  duplicated variants leaving  1037702 variants.\n",
      "No variants have illegal alleles.\n",
      "Removed  0  variants with ambiguous strand.\n",
      "Flipping strand and effect allele so A1 is always A\n",
      "Returning  1037702  variants.\n",
      "After merging and removing variants with inconsistent alleles,  there are  1037702  variants that are present in both studies and can be used with CAUSE.\n"
     ]
    },
    {
     "name": "stderr",
     "output_type": "stream",
     "text": [
      "Clumping Wrmkuj, 29054 variants, using EUR population reference\n",
      "\n",
      "Removing 25956 of 29054 variants due to LD with other variants or absence from LD reference panel\n",
      "\n"
     ]
    },
    {
     "name": "stdout",
     "output_type": "stream",
     "text": [
      "Estimating CAUSE parameters with  1000000  variants.\n",
      "1 0.004946806 \n",
      "2 2.94459e-06 \n",
      "3 1.91334e-09 \n",
      "Estimating CAUSE posteriors using  3098  variants.\n"
     ]
    },
    {
     "name": "stderr",
     "output_type": "stream",
     "text": [
      "Warning message:\n",
      "“'compare' is deprecated.\n",
      "Use 'loo_compare' instead.\n",
      "See help(\"Deprecated\")”\n"
     ]
    },
    {
     "name": "stdout",
     "output_type": "stream",
     "text": [
      "    user   system  elapsed \n",
      "2613.336 1609.650  401.777 \n",
      "HBP ~ Hair_Blonde \n"
     ]
    },
    {
     "name": "stderr",
     "output_type": "stream",
     "text": [
      "\u001b[1m\u001b[1mRows: \u001b[1m\u001b[22m\u001b[34m\u001b[34m1037824\u001b[34m\u001b[39m \u001b[1m\u001b[1mColumns: \u001b[1m\u001b[22m\u001b[34m\u001b[34m7\u001b[34m\u001b[39m\n",
      "\n",
      "\u001b[36m──\u001b[39m \u001b[1m\u001b[1mColumn specification\u001b[1m\u001b[22m \u001b[36m────────────────────────────────────────────────────────────────────────────────────────────────────────\u001b[39m\n",
      "\u001b[1mDelimiter:\u001b[22m \"\\t\"\n",
      "\u001b[31mchr\u001b[39m (3): SNP, A1, A2\n",
      "\u001b[32mdbl\u001b[39m (4): Z, N, chi2, P\n",
      "\n",
      "\n",
      "\u001b[36mℹ\u001b[39m Use \u001b[30m\u001b[47m\u001b[30m\u001b[47m`spec()`\u001b[47m\u001b[30m\u001b[49m\u001b[39m to retrieve the full column specification for this data.\n",
      "\u001b[36mℹ\u001b[39m Specify the column types or set \u001b[30m\u001b[47m\u001b[30m\u001b[47m`show_col_types = FALSE`\u001b[47m\u001b[30m\u001b[49m\u001b[39m to quiet this message.\n",
      "\n",
      "\u001b[1m\u001b[1mRows: \u001b[1m\u001b[22m\u001b[34m\u001b[34m1037533\u001b[34m\u001b[39m \u001b[1m\u001b[1mColumns: \u001b[1m\u001b[22m\u001b[34m\u001b[34m7\u001b[34m\u001b[39m\n",
      "\n",
      "\u001b[36m──\u001b[39m \u001b[1m\u001b[1mColumn specification\u001b[1m\u001b[22m \u001b[36m────────────────────────────────────────────────────────────────────────────────────────────────────────\u001b[39m\n",
      "\u001b[1mDelimiter:\u001b[22m \"\\t\"\n",
      "\u001b[31mchr\u001b[39m (3): SNP, A1, A2\n",
      "\u001b[32mdbl\u001b[39m (4): Z, N, chi2, P\n",
      "\n",
      "\n",
      "\u001b[36mℹ\u001b[39m Use \u001b[30m\u001b[47m\u001b[30m\u001b[47m`spec()`\u001b[47m\u001b[30m\u001b[49m\u001b[39m to retrieve the full column specification for this data.\n",
      "\u001b[36mℹ\u001b[39m Specify the column types or set \u001b[30m\u001b[47m\u001b[30m\u001b[47m`show_col_types = FALSE`\u001b[47m\u001b[30m\u001b[49m\u001b[39m to quiet this message.\n",
      "\n"
     ]
    },
    {
     "name": "stdout",
     "output_type": "stream",
     "text": [
      "Formatting X1\n",
      "There are  1037824  variants.\n",
      "Removing  0  duplicated variants leaving  1037824 variants.\n",
      "No variants have illegal alleles.\n",
      "Removed  0  variants with ambiguous strand.\n",
      "Flipping strand and effect allele so A1 is always A\n",
      "Returning  1037824  variants.\n",
      "Formatting X2\n",
      "There are  1037533  variants.\n",
      "Removing  0  duplicated variants leaving  1037533 variants.\n",
      "No variants have illegal alleles.\n",
      "Removed  0  variants with ambiguous strand.\n",
      "Flipping strand and effect allele so A1 is always A\n",
      "Returning  1037533  variants.\n",
      "After merging and removing variants with inconsistent alleles,  there are  1037533  variants that are present in both studies and can be used with CAUSE.\n"
     ]
    },
    {
     "name": "stderr",
     "output_type": "stream",
     "text": [
      "Clumping kzDH1O, 29055 variants, using EUR population reference\n",
      "\n",
      "Removing 25957 of 29055 variants due to LD with other variants or absence from LD reference panel\n",
      "\n"
     ]
    },
    {
     "name": "stdout",
     "output_type": "stream",
     "text": [
      "Estimating CAUSE parameters with  1000000  variants.\n",
      "1 0.02995211 \n",
      "2 4.870451e-06 \n",
      "3 1.800342e-09 \n",
      "Estimating CAUSE posteriors using  3098  variants.\n"
     ]
    },
    {
     "name": "stderr",
     "output_type": "stream",
     "text": [
      "Warning message:\n",
      "“'compare' is deprecated.\n",
      "Use 'loo_compare' instead.\n",
      "See help(\"Deprecated\")”\n"
     ]
    },
    {
     "name": "stdout",
     "output_type": "stream",
     "text": [
      "    user   system  elapsed \n",
      "3195.493 1783.281  393.522 \n",
      "HBP ~ Tanning \n"
     ]
    },
    {
     "name": "stderr",
     "output_type": "stream",
     "text": [
      "\u001b[1m\u001b[1mRows: \u001b[1m\u001b[22m\u001b[34m\u001b[34m1037824\u001b[34m\u001b[39m \u001b[1m\u001b[1mColumns: \u001b[1m\u001b[22m\u001b[34m\u001b[34m7\u001b[34m\u001b[39m\n",
      "\n",
      "\u001b[36m──\u001b[39m \u001b[1m\u001b[1mColumn specification\u001b[1m\u001b[22m \u001b[36m────────────────────────────────────────────────────────────────────────────────────────────────────────\u001b[39m\n",
      "\u001b[1mDelimiter:\u001b[22m \"\\t\"\n",
      "\u001b[31mchr\u001b[39m (3): SNP, A1, A2\n",
      "\u001b[32mdbl\u001b[39m (4): Z, N, chi2, P\n",
      "\n",
      "\n",
      "\u001b[36mℹ\u001b[39m Use \u001b[30m\u001b[47m\u001b[30m\u001b[47m`spec()`\u001b[47m\u001b[30m\u001b[49m\u001b[39m to retrieve the full column specification for this data.\n",
      "\u001b[36mℹ\u001b[39m Specify the column types or set \u001b[30m\u001b[47m\u001b[30m\u001b[47m`show_col_types = FALSE`\u001b[47m\u001b[30m\u001b[49m\u001b[39m to quiet this message.\n",
      "\n",
      "\u001b[1m\u001b[1mRows: \u001b[1m\u001b[22m\u001b[34m\u001b[34m1037026\u001b[34m\u001b[39m \u001b[1m\u001b[1mColumns: \u001b[1m\u001b[22m\u001b[34m\u001b[34m7\u001b[34m\u001b[39m\n",
      "\n",
      "\u001b[36m──\u001b[39m \u001b[1m\u001b[1mColumn specification\u001b[1m\u001b[22m \u001b[36m────────────────────────────────────────────────────────────────────────────────────────────────────────\u001b[39m\n",
      "\u001b[1mDelimiter:\u001b[22m \"\\t\"\n",
      "\u001b[31mchr\u001b[39m (3): SNP, A1, A2\n",
      "\u001b[32mdbl\u001b[39m (4): Z, N, chi2, P\n",
      "\n",
      "\n",
      "\u001b[36mℹ\u001b[39m Use \u001b[30m\u001b[47m\u001b[30m\u001b[47m`spec()`\u001b[47m\u001b[30m\u001b[49m\u001b[39m to retrieve the full column specification for this data.\n",
      "\u001b[36mℹ\u001b[39m Specify the column types or set \u001b[30m\u001b[47m\u001b[30m\u001b[47m`show_col_types = FALSE`\u001b[47m\u001b[30m\u001b[49m\u001b[39m to quiet this message.\n",
      "\n"
     ]
    },
    {
     "name": "stdout",
     "output_type": "stream",
     "text": [
      "Formatting X1\n",
      "There are  1037824  variants.\n",
      "Removing  0  duplicated variants leaving  1037824 variants.\n",
      "No variants have illegal alleles.\n",
      "Removed  0  variants with ambiguous strand.\n",
      "Flipping strand and effect allele so A1 is always A\n",
      "Returning  1037824  variants.\n",
      "Formatting X2\n",
      "There are  1037026  variants.\n",
      "Removing  0  duplicated variants leaving  1037026 variants.\n",
      "No variants have illegal alleles.\n",
      "Removed  0  variants with ambiguous strand.\n",
      "Flipping strand and effect allele so A1 is always A\n",
      "Returning  1037026  variants.\n",
      "After merging and removing variants with inconsistent alleles,  there are  1037026  variants that are present in both studies and can be used with CAUSE.\n"
     ]
    },
    {
     "name": "stderr",
     "output_type": "stream",
     "text": [
      "Clumping FpMdTS, 28954 variants, using EUR population reference\n",
      "\n",
      "Removing 25856 of 28954 variants due to LD with other variants or absence from LD reference panel\n",
      "\n"
     ]
    },
    {
     "name": "stdout",
     "output_type": "stream",
     "text": [
      "Estimating CAUSE parameters with  1000000  variants.\n",
      "1 0.1347917 \n",
      "2 0.0009408388 \n",
      "3 2.278233e-05 \n",
      "4 5.516948e-07 \n",
      "5 1.26142e-08 \n",
      "Estimating CAUSE posteriors using  3098  variants.\n"
     ]
    },
    {
     "name": "stderr",
     "output_type": "stream",
     "text": [
      "Warning message:\n",
      "“'compare' is deprecated.\n",
      "Use 'loo_compare' instead.\n",
      "See help(\"Deprecated\")”\n"
     ]
    },
    {
     "name": "stdout",
     "output_type": "stream",
     "text": [
      "    user   system  elapsed \n",
      "3814.503 2658.221  549.250 \n",
      "Income ~ Hair_Light_Brown \n"
     ]
    },
    {
     "name": "stderr",
     "output_type": "stream",
     "text": [
      "\u001b[1m\u001b[1mRows: \u001b[1m\u001b[22m\u001b[34m\u001b[34m1208814\u001b[34m\u001b[39m \u001b[1m\u001b[1mColumns: \u001b[1m\u001b[22m\u001b[34m\u001b[34m7\u001b[34m\u001b[39m\n",
      "\n",
      "\u001b[36m──\u001b[39m \u001b[1m\u001b[1mColumn specification\u001b[1m\u001b[22m \u001b[36m────────────────────────────────────────────────────────────────────────────────────────────────────────\u001b[39m\n",
      "\u001b[1mDelimiter:\u001b[22m \"\\t\"\n",
      "\u001b[31mchr\u001b[39m (3): SNP, A1, A2\n",
      "\u001b[32mdbl\u001b[39m (4): Z, N, chi2, P\n",
      "\n",
      "\n",
      "\u001b[36mℹ\u001b[39m Use \u001b[30m\u001b[47m\u001b[30m\u001b[47m`spec()`\u001b[47m\u001b[30m\u001b[49m\u001b[39m to retrieve the full column specification for this data.\n",
      "\u001b[36mℹ\u001b[39m Specify the column types or set \u001b[30m\u001b[47m\u001b[30m\u001b[47m`show_col_types = FALSE`\u001b[47m\u001b[30m\u001b[49m\u001b[39m to quiet this message.\n",
      "\n",
      "\u001b[1m\u001b[1mRows: \u001b[1m\u001b[22m\u001b[34m\u001b[34m1037742\u001b[34m\u001b[39m \u001b[1m\u001b[1mColumns: \u001b[1m\u001b[22m\u001b[34m\u001b[34m7\u001b[34m\u001b[39m\n",
      "\n",
      "\u001b[36m──\u001b[39m \u001b[1m\u001b[1mColumn specification\u001b[1m\u001b[22m \u001b[36m────────────────────────────────────────────────────────────────────────────────────────────────────────\u001b[39m\n",
      "\u001b[1mDelimiter:\u001b[22m \"\\t\"\n",
      "\u001b[31mchr\u001b[39m (3): SNP, A1, A2\n",
      "\u001b[32mdbl\u001b[39m (4): Z, N, chi2, P\n",
      "\n",
      "\n",
      "\u001b[36mℹ\u001b[39m Use \u001b[30m\u001b[47m\u001b[30m\u001b[47m`spec()`\u001b[47m\u001b[30m\u001b[49m\u001b[39m to retrieve the full column specification for this data.\n",
      "\u001b[36mℹ\u001b[39m Specify the column types or set \u001b[30m\u001b[47m\u001b[30m\u001b[47m`show_col_types = FALSE`\u001b[47m\u001b[30m\u001b[49m\u001b[39m to quiet this message.\n",
      "\n"
     ]
    },
    {
     "name": "stdout",
     "output_type": "stream",
     "text": [
      "Formatting X1\n",
      "There are  1208814  variants.\n",
      "Removing  0  duplicated variants leaving  1208814 variants.\n",
      "No variants have illegal alleles.\n",
      "Removed  0  variants with ambiguous strand.\n",
      "Flipping strand and effect allele so A1 is always A\n",
      "Returning  1208814  variants.\n",
      "Formatting X2\n",
      "There are  1037742  variants.\n",
      "Removing  0  duplicated variants leaving  1037742 variants.\n",
      "No variants have illegal alleles.\n",
      "Removed  0  variants with ambiguous strand.\n",
      "Flipping strand and effect allele so A1 is always A\n",
      "Returning  1037742  variants.\n",
      "After merging and removing variants with inconsistent alleles,  there are  1033849  variants that are present in both studies and can be used with CAUSE.\n"
     ]
    },
    {
     "name": "stderr",
     "output_type": "stream",
     "text": [
      "Clumping 4ajdtv, 10094 variants, using EUR population reference\n",
      "\n",
      "Removing 8644 of 10094 variants due to LD with other variants or absence from LD reference panel\n",
      "\n"
     ]
    },
    {
     "name": "stdout",
     "output_type": "stream",
     "text": [
      "Estimating CAUSE parameters with  1000000  variants.\n",
      "1 0.01888158 \n",
      "2 4.102882e-05 \n",
      "3 1.221112e-07 \n",
      "4 9.696367e-10 \n",
      "Estimating CAUSE posteriors using  1450  variants.\n"
     ]
    },
    {
     "name": "stderr",
     "output_type": "stream",
     "text": [
      "Warning message:\n",
      "“'compare' is deprecated.\n",
      "Use 'loo_compare' instead.\n",
      "See help(\"Deprecated\")”\n"
     ]
    },
    {
     "name": "stdout",
     "output_type": "stream",
     "text": [
      "    user   system  elapsed \n",
      "2637.186 1951.493  441.222 \n",
      "Income ~ Hair_Dark_Brown \n"
     ]
    },
    {
     "name": "stderr",
     "output_type": "stream",
     "text": [
      "\u001b[1m\u001b[1mRows: \u001b[1m\u001b[22m\u001b[34m\u001b[34m1208814\u001b[34m\u001b[39m \u001b[1m\u001b[1mColumns: \u001b[1m\u001b[22m\u001b[34m\u001b[34m7\u001b[34m\u001b[39m\n",
      "\n",
      "\u001b[36m──\u001b[39m \u001b[1m\u001b[1mColumn specification\u001b[1m\u001b[22m \u001b[36m────────────────────────────────────────────────────────────────────────────────────────────────────────\u001b[39m\n",
      "\u001b[1mDelimiter:\u001b[22m \"\\t\"\n",
      "\u001b[31mchr\u001b[39m (3): SNP, A1, A2\n",
      "\u001b[32mdbl\u001b[39m (4): Z, N, chi2, P\n",
      "\n",
      "\n",
      "\u001b[36mℹ\u001b[39m Use \u001b[30m\u001b[47m\u001b[30m\u001b[47m`spec()`\u001b[47m\u001b[30m\u001b[49m\u001b[39m to retrieve the full column specification for this data.\n",
      "\u001b[36mℹ\u001b[39m Specify the column types or set \u001b[30m\u001b[47m\u001b[30m\u001b[47m`show_col_types = FALSE`\u001b[47m\u001b[30m\u001b[49m\u001b[39m to quiet this message.\n",
      "\n",
      "\u001b[1m\u001b[1mRows: \u001b[1m\u001b[22m\u001b[34m\u001b[34m1037381\u001b[34m\u001b[39m \u001b[1m\u001b[1mColumns: \u001b[1m\u001b[22m\u001b[34m\u001b[34m7\u001b[34m\u001b[39m\n",
      "\n",
      "\u001b[36m──\u001b[39m \u001b[1m\u001b[1mColumn specification\u001b[1m\u001b[22m \u001b[36m────────────────────────────────────────────────────────────────────────────────────────────────────────\u001b[39m\n",
      "\u001b[1mDelimiter:\u001b[22m \"\\t\"\n",
      "\u001b[31mchr\u001b[39m (3): SNP, A1, A2\n",
      "\u001b[32mdbl\u001b[39m (4): Z, N, chi2, P\n",
      "\n",
      "\n",
      "\u001b[36mℹ\u001b[39m Use \u001b[30m\u001b[47m\u001b[30m\u001b[47m`spec()`\u001b[47m\u001b[30m\u001b[49m\u001b[39m to retrieve the full column specification for this data.\n",
      "\u001b[36mℹ\u001b[39m Specify the column types or set \u001b[30m\u001b[47m\u001b[30m\u001b[47m`show_col_types = FALSE`\u001b[47m\u001b[30m\u001b[49m\u001b[39m to quiet this message.\n",
      "\n"
     ]
    },
    {
     "name": "stdout",
     "output_type": "stream",
     "text": [
      "Formatting X1\n",
      "There are  1208814  variants.\n",
      "Removing  0  duplicated variants leaving  1208814 variants.\n",
      "No variants have illegal alleles.\n",
      "Removed  0  variants with ambiguous strand.\n",
      "Flipping strand and effect allele so A1 is always A\n",
      "Returning  1208814  variants.\n",
      "Formatting X2\n",
      "There are  1037381  variants.\n",
      "Removing  0  duplicated variants leaving  1037381 variants.\n",
      "No variants have illegal alleles.\n",
      "Removed  0  variants with ambiguous strand.\n",
      "Flipping strand and effect allele so A1 is always A\n",
      "Returning  1037381  variants.\n",
      "After merging and removing variants with inconsistent alleles,  there are  1033492  variants that are present in both studies and can be used with CAUSE.\n"
     ]
    },
    {
     "name": "stderr",
     "output_type": "stream",
     "text": [
      "Clumping zIIdM2, 10074 variants, using EUR population reference\n",
      "\n",
      "Removing 8627 of 10074 variants due to LD with other variants or absence from LD reference panel\n",
      "\n"
     ]
    },
    {
     "name": "stdout",
     "output_type": "stream",
     "text": [
      "Estimating CAUSE parameters with  1000000  variants.\n",
      "1 0.04234127 \n",
      "2 0.0001854664 \n",
      "3 1.38787e-06 \n",
      "4 1.074594e-08 \n",
      "Estimating CAUSE posteriors using  1447  variants.\n"
     ]
    },
    {
     "name": "stderr",
     "output_type": "stream",
     "text": [
      "Warning message:\n",
      "“'compare' is deprecated.\n",
      "Use 'loo_compare' instead.\n",
      "See help(\"Deprecated\")”\n"
     ]
    },
    {
     "name": "stdout",
     "output_type": "stream",
     "text": [
      "    user   system  elapsed \n",
      "2579.839 1918.535  411.455 \n",
      "Income ~ Hair_Black \n"
     ]
    },
    {
     "name": "stderr",
     "output_type": "stream",
     "text": [
      "\u001b[1m\u001b[1mRows: \u001b[1m\u001b[22m\u001b[34m\u001b[34m1208814\u001b[34m\u001b[39m \u001b[1m\u001b[1mColumns: \u001b[1m\u001b[22m\u001b[34m\u001b[34m7\u001b[34m\u001b[39m\n",
      "\n",
      "\u001b[36m──\u001b[39m \u001b[1m\u001b[1mColumn specification\u001b[1m\u001b[22m \u001b[36m────────────────────────────────────────────────────────────────────────────────────────────────────────\u001b[39m\n",
      "\u001b[1mDelimiter:\u001b[22m \"\\t\"\n",
      "\u001b[31mchr\u001b[39m (3): SNP, A1, A2\n",
      "\u001b[32mdbl\u001b[39m (4): Z, N, chi2, P\n",
      "\n",
      "\n",
      "\u001b[36mℹ\u001b[39m Use \u001b[30m\u001b[47m\u001b[30m\u001b[47m`spec()`\u001b[47m\u001b[30m\u001b[49m\u001b[39m to retrieve the full column specification for this data.\n",
      "\u001b[36mℹ\u001b[39m Specify the column types or set \u001b[30m\u001b[47m\u001b[30m\u001b[47m`show_col_types = FALSE`\u001b[47m\u001b[30m\u001b[49m\u001b[39m to quiet this message.\n",
      "\n",
      "\u001b[1m\u001b[1mRows: \u001b[1m\u001b[22m\u001b[34m\u001b[34m1037702\u001b[34m\u001b[39m \u001b[1m\u001b[1mColumns: \u001b[1m\u001b[22m\u001b[34m\u001b[34m7\u001b[34m\u001b[39m\n",
      "\n",
      "\u001b[36m──\u001b[39m \u001b[1m\u001b[1mColumn specification\u001b[1m\u001b[22m \u001b[36m────────────────────────────────────────────────────────────────────────────────────────────────────────\u001b[39m\n",
      "\u001b[1mDelimiter:\u001b[22m \"\\t\"\n",
      "\u001b[31mchr\u001b[39m (3): SNP, A1, A2\n",
      "\u001b[32mdbl\u001b[39m (4): Z, N, chi2, P\n",
      "\n",
      "\n",
      "\u001b[36mℹ\u001b[39m Use \u001b[30m\u001b[47m\u001b[30m\u001b[47m`spec()`\u001b[47m\u001b[30m\u001b[49m\u001b[39m to retrieve the full column specification for this data.\n",
      "\u001b[36mℹ\u001b[39m Specify the column types or set \u001b[30m\u001b[47m\u001b[30m\u001b[47m`show_col_types = FALSE`\u001b[47m\u001b[30m\u001b[49m\u001b[39m to quiet this message.\n",
      "\n"
     ]
    },
    {
     "name": "stdout",
     "output_type": "stream",
     "text": [
      "Formatting X1\n",
      "There are  1208814  variants.\n",
      "Removing  0  duplicated variants leaving  1208814 variants.\n",
      "No variants have illegal alleles.\n",
      "Removed  0  variants with ambiguous strand.\n",
      "Flipping strand and effect allele so A1 is always A\n",
      "Returning  1208814  variants.\n",
      "Formatting X2\n",
      "There are  1037702  variants.\n",
      "Removing  0  duplicated variants leaving  1037702 variants.\n",
      "No variants have illegal alleles.\n",
      "Removed  0  variants with ambiguous strand.\n",
      "Flipping strand and effect allele so A1 is always A\n",
      "Returning  1037702  variants.\n",
      "After merging and removing variants with inconsistent alleles,  there are  1033810  variants that are present in both studies and can be used with CAUSE.\n"
     ]
    },
    {
     "name": "stderr",
     "output_type": "stream",
     "text": [
      "Clumping dkXO3g, 10089 variants, using EUR population reference\n",
      "\n",
      "Removing 8639 of 10089 variants due to LD with other variants or absence from LD reference panel\n",
      "\n"
     ]
    },
    {
     "name": "stdout",
     "output_type": "stream",
     "text": [
      "Estimating CAUSE parameters with  1000000  variants.\n",
      "1 0.03196674 \n",
      "2 8.423408e-06 \n",
      "3 1.330646e-08 \n",
      "Estimating CAUSE posteriors using  1450  variants.\n"
     ]
    },
    {
     "name": "stderr",
     "output_type": "stream",
     "text": [
      "Warning message:\n",
      "“'compare' is deprecated.\n",
      "Use 'loo_compare' instead.\n",
      "See help(\"Deprecated\")”\n"
     ]
    },
    {
     "name": "stdout",
     "output_type": "stream",
     "text": [
      "    user   system  elapsed \n",
      "2028.432 1591.347  345.037 \n",
      "Income ~ Hair_Blonde \n"
     ]
    },
    {
     "name": "stderr",
     "output_type": "stream",
     "text": [
      "\u001b[1m\u001b[1mRows: \u001b[1m\u001b[22m\u001b[34m\u001b[34m1208814\u001b[34m\u001b[39m \u001b[1m\u001b[1mColumns: \u001b[1m\u001b[22m\u001b[34m\u001b[34m7\u001b[34m\u001b[39m\n",
      "\n",
      "\u001b[36m──\u001b[39m \u001b[1m\u001b[1mColumn specification\u001b[1m\u001b[22m \u001b[36m────────────────────────────────────────────────────────────────────────────────────────────────────────\u001b[39m\n",
      "\u001b[1mDelimiter:\u001b[22m \"\\t\"\n",
      "\u001b[31mchr\u001b[39m (3): SNP, A1, A2\n",
      "\u001b[32mdbl\u001b[39m (4): Z, N, chi2, P\n",
      "\n",
      "\n",
      "\u001b[36mℹ\u001b[39m Use \u001b[30m\u001b[47m\u001b[30m\u001b[47m`spec()`\u001b[47m\u001b[30m\u001b[49m\u001b[39m to retrieve the full column specification for this data.\n",
      "\u001b[36mℹ\u001b[39m Specify the column types or set \u001b[30m\u001b[47m\u001b[30m\u001b[47m`show_col_types = FALSE`\u001b[47m\u001b[30m\u001b[49m\u001b[39m to quiet this message.\n",
      "\n",
      "\u001b[1m\u001b[1mRows: \u001b[1m\u001b[22m\u001b[34m\u001b[34m1037533\u001b[34m\u001b[39m \u001b[1m\u001b[1mColumns: \u001b[1m\u001b[22m\u001b[34m\u001b[34m7\u001b[34m\u001b[39m\n",
      "\n",
      "\u001b[36m──\u001b[39m \u001b[1m\u001b[1mColumn specification\u001b[1m\u001b[22m \u001b[36m────────────────────────────────────────────────────────────────────────────────────────────────────────\u001b[39m\n",
      "\u001b[1mDelimiter:\u001b[22m \"\\t\"\n",
      "\u001b[31mchr\u001b[39m (3): SNP, A1, A2\n",
      "\u001b[32mdbl\u001b[39m (4): Z, N, chi2, P\n",
      "\n",
      "\n",
      "\u001b[36mℹ\u001b[39m Use \u001b[30m\u001b[47m\u001b[30m\u001b[47m`spec()`\u001b[47m\u001b[30m\u001b[49m\u001b[39m to retrieve the full column specification for this data.\n",
      "\u001b[36mℹ\u001b[39m Specify the column types or set \u001b[30m\u001b[47m\u001b[30m\u001b[47m`show_col_types = FALSE`\u001b[47m\u001b[30m\u001b[49m\u001b[39m to quiet this message.\n",
      "\n"
     ]
    },
    {
     "name": "stdout",
     "output_type": "stream",
     "text": [
      "Formatting X1\n",
      "There are  1208814  variants.\n",
      "Removing  0  duplicated variants leaving  1208814 variants.\n",
      "No variants have illegal alleles.\n",
      "Removed  0  variants with ambiguous strand.\n",
      "Flipping strand and effect allele so A1 is always A\n",
      "Returning  1208814  variants.\n",
      "Formatting X2\n",
      "There are  1037533  variants.\n",
      "Removing  0  duplicated variants leaving  1037533 variants.\n",
      "No variants have illegal alleles.\n",
      "Removed  0  variants with ambiguous strand.\n",
      "Flipping strand and effect allele so A1 is always A\n",
      "Returning  1037533  variants.\n",
      "After merging and removing variants with inconsistent alleles,  there are  1033641  variants that are present in both studies and can be used with CAUSE.\n"
     ]
    },
    {
     "name": "stderr",
     "output_type": "stream",
     "text": [
      "Clumping Wivua8, 10090 variants, using EUR population reference\n",
      "\n",
      "Removing 8640 of 10090 variants due to LD with other variants or absence from LD reference panel\n",
      "\n"
     ]
    },
    {
     "name": "stdout",
     "output_type": "stream",
     "text": [
      "Estimating CAUSE parameters with  1000000  variants.\n",
      "1 0.01876268 \n",
      "2 5.618724e-05 \n",
      "3 2.30901e-07 \n",
      "4 9.902563e-10 \n",
      "Estimating CAUSE posteriors using  1450  variants.\n"
     ]
    },
    {
     "name": "stderr",
     "output_type": "stream",
     "text": [
      "Warning message:\n",
      "“'compare' is deprecated.\n",
      "Use 'loo_compare' instead.\n",
      "See help(\"Deprecated\")”\n"
     ]
    },
    {
     "name": "stdout",
     "output_type": "stream",
     "text": [
      "    user   system  elapsed \n",
      "2161.005 1772.065  351.525 \n",
      "Income ~ Tanning \n"
     ]
    },
    {
     "name": "stderr",
     "output_type": "stream",
     "text": [
      "\u001b[1m\u001b[1mRows: \u001b[1m\u001b[22m\u001b[34m\u001b[34m1208814\u001b[34m\u001b[39m \u001b[1m\u001b[1mColumns: \u001b[1m\u001b[22m\u001b[34m\u001b[34m7\u001b[34m\u001b[39m\n",
      "\n",
      "\u001b[36m──\u001b[39m \u001b[1m\u001b[1mColumn specification\u001b[1m\u001b[22m \u001b[36m────────────────────────────────────────────────────────────────────────────────────────────────────────\u001b[39m\n",
      "\u001b[1mDelimiter:\u001b[22m \"\\t\"\n",
      "\u001b[31mchr\u001b[39m (3): SNP, A1, A2\n",
      "\u001b[32mdbl\u001b[39m (4): Z, N, chi2, P\n",
      "\n",
      "\n",
      "\u001b[36mℹ\u001b[39m Use \u001b[30m\u001b[47m\u001b[30m\u001b[47m`spec()`\u001b[47m\u001b[30m\u001b[49m\u001b[39m to retrieve the full column specification for this data.\n",
      "\u001b[36mℹ\u001b[39m Specify the column types or set \u001b[30m\u001b[47m\u001b[30m\u001b[47m`show_col_types = FALSE`\u001b[47m\u001b[30m\u001b[49m\u001b[39m to quiet this message.\n",
      "\n",
      "\u001b[1m\u001b[1mRows: \u001b[1m\u001b[22m\u001b[34m\u001b[34m1037026\u001b[34m\u001b[39m \u001b[1m\u001b[1mColumns: \u001b[1m\u001b[22m\u001b[34m\u001b[34m7\u001b[34m\u001b[39m\n",
      "\n",
      "\u001b[36m──\u001b[39m \u001b[1m\u001b[1mColumn specification\u001b[1m\u001b[22m \u001b[36m────────────────────────────────────────────────────────────────────────────────────────────────────────\u001b[39m\n",
      "\u001b[1mDelimiter:\u001b[22m \"\\t\"\n",
      "\u001b[31mchr\u001b[39m (3): SNP, A1, A2\n",
      "\u001b[32mdbl\u001b[39m (4): Z, N, chi2, P\n",
      "\n",
      "\n",
      "\u001b[36mℹ\u001b[39m Use \u001b[30m\u001b[47m\u001b[30m\u001b[47m`spec()`\u001b[47m\u001b[30m\u001b[49m\u001b[39m to retrieve the full column specification for this data.\n",
      "\u001b[36mℹ\u001b[39m Specify the column types or set \u001b[30m\u001b[47m\u001b[30m\u001b[47m`show_col_types = FALSE`\u001b[47m\u001b[30m\u001b[49m\u001b[39m to quiet this message.\n",
      "\n"
     ]
    },
    {
     "name": "stdout",
     "output_type": "stream",
     "text": [
      "Formatting X1\n",
      "There are  1208814  variants.\n",
      "Removing  0  duplicated variants leaving  1208814 variants.\n",
      "No variants have illegal alleles.\n",
      "Removed  0  variants with ambiguous strand.\n",
      "Flipping strand and effect allele so A1 is always A\n",
      "Returning  1208814  variants.\n",
      "Formatting X2\n",
      "There are  1037026  variants.\n",
      "Removing  0  duplicated variants leaving  1037026 variants.\n",
      "No variants have illegal alleles.\n",
      "Removed  0  variants with ambiguous strand.\n",
      "Flipping strand and effect allele so A1 is always A\n",
      "Returning  1037026  variants.\n",
      "After merging and removing variants with inconsistent alleles,  there are  1033139  variants that are present in both studies and can be used with CAUSE.\n"
     ]
    },
    {
     "name": "stderr",
     "output_type": "stream",
     "text": [
      "Clumping irZjec, 9974 variants, using EUR population reference\n",
      "\n",
      "Removing 8529 of 9974 variants due to LD with other variants or absence from LD reference panel\n",
      "\n"
     ]
    },
    {
     "name": "stdout",
     "output_type": "stream",
     "text": [
      "Estimating CAUSE parameters with  1000000  variants.\n",
      "1 0.03335895 \n",
      "2 4.337621e-06 \n",
      "3 6.083535e-09 \n",
      "Estimating CAUSE posteriors using  1445  variants.\n"
     ]
    },
    {
     "name": "stderr",
     "output_type": "stream",
     "text": [
      "Warning message:\n",
      "“'compare' is deprecated.\n",
      "Use 'loo_compare' instead.\n",
      "See help(\"Deprecated\")”\n"
     ]
    },
    {
     "name": "stdout",
     "output_type": "stream",
     "text": [
      "    user   system  elapsed \n",
      "2062.611 1670.648  365.634 \n",
      "NEB ~ Hair_Light_Brown \n"
     ]
    },
    {
     "name": "stderr",
     "output_type": "stream",
     "text": [
      "\u001b[1m\u001b[1mRows: \u001b[1m\u001b[22m\u001b[34m\u001b[34m984184\u001b[34m\u001b[39m \u001b[1m\u001b[1mColumns: \u001b[1m\u001b[22m\u001b[34m\u001b[34m7\u001b[34m\u001b[39m\n",
      "\n",
      "\u001b[36m──\u001b[39m \u001b[1m\u001b[1mColumn specification\u001b[1m\u001b[22m \u001b[36m────────────────────────────────────────────────────────────────────────────────────────────────────────\u001b[39m\n",
      "\u001b[1mDelimiter:\u001b[22m \"\\t\"\n",
      "\u001b[31mchr\u001b[39m (3): SNP, A1, A2\n",
      "\u001b[32mdbl\u001b[39m (4): Z, N, chi2, P\n",
      "\n",
      "\n",
      "\u001b[36mℹ\u001b[39m Use \u001b[30m\u001b[47m\u001b[30m\u001b[47m`spec()`\u001b[47m\u001b[30m\u001b[49m\u001b[39m to retrieve the full column specification for this data.\n",
      "\u001b[36mℹ\u001b[39m Specify the column types or set \u001b[30m\u001b[47m\u001b[30m\u001b[47m`show_col_types = FALSE`\u001b[47m\u001b[30m\u001b[49m\u001b[39m to quiet this message.\n",
      "\n",
      "\u001b[1m\u001b[1mRows: \u001b[1m\u001b[22m\u001b[34m\u001b[34m1037742\u001b[34m\u001b[39m \u001b[1m\u001b[1mColumns: \u001b[1m\u001b[22m\u001b[34m\u001b[34m7\u001b[34m\u001b[39m\n",
      "\n",
      "\u001b[36m──\u001b[39m \u001b[1m\u001b[1mColumn specification\u001b[1m\u001b[22m \u001b[36m────────────────────────────────────────────────────────────────────────────────────────────────────────\u001b[39m\n",
      "\u001b[1mDelimiter:\u001b[22m \"\\t\"\n",
      "\u001b[31mchr\u001b[39m (3): SNP, A1, A2\n",
      "\u001b[32mdbl\u001b[39m (4): Z, N, chi2, P\n",
      "\n",
      "\n",
      "\u001b[36mℹ\u001b[39m Use \u001b[30m\u001b[47m\u001b[30m\u001b[47m`spec()`\u001b[47m\u001b[30m\u001b[49m\u001b[39m to retrieve the full column specification for this data.\n",
      "\u001b[36mℹ\u001b[39m Specify the column types or set \u001b[30m\u001b[47m\u001b[30m\u001b[47m`show_col_types = FALSE`\u001b[47m\u001b[30m\u001b[49m\u001b[39m to quiet this message.\n",
      "\n"
     ]
    },
    {
     "name": "stdout",
     "output_type": "stream",
     "text": [
      "Formatting X1\n",
      "There are  984184  variants.\n",
      "Removing  0  duplicated variants leaving  984184 variants.\n",
      "No variants have illegal alleles.\n",
      "Removed  0  variants with ambiguous strand.\n",
      "Flipping strand and effect allele so A1 is always A\n",
      "Returning  984184  variants.\n",
      "Formatting X2\n",
      "There are  1037742  variants.\n",
      "Removing  0  duplicated variants leaving  1037742 variants.\n",
      "No variants have illegal alleles.\n",
      "Removed  0  variants with ambiguous strand.\n",
      "Flipping strand and effect allele so A1 is always A\n",
      "Returning  1037742  variants.\n",
      "After merging and removing variants with inconsistent alleles,  there are  922463  variants that are present in both studies and can be used with CAUSE.\n"
     ]
    },
    {
     "name": "stderr",
     "output_type": "stream",
     "text": [
      "Clumping dG46Ha, 2540 variants, using EUR population reference\n",
      "\n",
      "Removing 1927 of 2540 variants due to LD with other variants or absence from LD reference panel\n",
      "\n"
     ]
    },
    {
     "name": "stdout",
     "output_type": "stream",
     "text": [
      "Estimating CAUSE parameters with  922463  variants.\n",
      "1 0.01039934 \n",
      "2 2.027244e-06 \n",
      "3 4.615258e-09 \n",
      "Estimating CAUSE posteriors using  600  variants.\n"
     ]
    },
    {
     "name": "stderr",
     "output_type": "stream",
     "text": [
      "Warning message:\n",
      "“'compare' is deprecated.\n",
      "Use 'loo_compare' instead.\n",
      "See help(\"Deprecated\")”\n"
     ]
    },
    {
     "name": "stdout",
     "output_type": "stream",
     "text": [
      "    user   system  elapsed \n",
      "1538.399 1379.331  280.357 \n",
      "NEB ~ Hair_Dark_Brown \n"
     ]
    },
    {
     "name": "stderr",
     "output_type": "stream",
     "text": [
      "\u001b[1m\u001b[1mRows: \u001b[1m\u001b[22m\u001b[34m\u001b[34m984184\u001b[34m\u001b[39m \u001b[1m\u001b[1mColumns: \u001b[1m\u001b[22m\u001b[34m\u001b[34m7\u001b[34m\u001b[39m\n",
      "\n",
      "\u001b[36m──\u001b[39m \u001b[1m\u001b[1mColumn specification\u001b[1m\u001b[22m \u001b[36m────────────────────────────────────────────────────────────────────────────────────────────────────────\u001b[39m\n",
      "\u001b[1mDelimiter:\u001b[22m \"\\t\"\n",
      "\u001b[31mchr\u001b[39m (3): SNP, A1, A2\n",
      "\u001b[32mdbl\u001b[39m (4): Z, N, chi2, P\n",
      "\n",
      "\n",
      "\u001b[36mℹ\u001b[39m Use \u001b[30m\u001b[47m\u001b[30m\u001b[47m`spec()`\u001b[47m\u001b[30m\u001b[49m\u001b[39m to retrieve the full column specification for this data.\n",
      "\u001b[36mℹ\u001b[39m Specify the column types or set \u001b[30m\u001b[47m\u001b[30m\u001b[47m`show_col_types = FALSE`\u001b[47m\u001b[30m\u001b[49m\u001b[39m to quiet this message.\n",
      "\n",
      "\u001b[1m\u001b[1mRows: \u001b[1m\u001b[22m\u001b[34m\u001b[34m1037381\u001b[34m\u001b[39m \u001b[1m\u001b[1mColumns: \u001b[1m\u001b[22m\u001b[34m\u001b[34m7\u001b[34m\u001b[39m\n",
      "\n",
      "\u001b[36m──\u001b[39m \u001b[1m\u001b[1mColumn specification\u001b[1m\u001b[22m \u001b[36m────────────────────────────────────────────────────────────────────────────────────────────────────────\u001b[39m\n",
      "\u001b[1mDelimiter:\u001b[22m \"\\t\"\n",
      "\u001b[31mchr\u001b[39m (3): SNP, A1, A2\n",
      "\u001b[32mdbl\u001b[39m (4): Z, N, chi2, P\n",
      "\n",
      "\n",
      "\u001b[36mℹ\u001b[39m Use \u001b[30m\u001b[47m\u001b[30m\u001b[47m`spec()`\u001b[47m\u001b[30m\u001b[49m\u001b[39m to retrieve the full column specification for this data.\n",
      "\u001b[36mℹ\u001b[39m Specify the column types or set \u001b[30m\u001b[47m\u001b[30m\u001b[47m`show_col_types = FALSE`\u001b[47m\u001b[30m\u001b[49m\u001b[39m to quiet this message.\n",
      "\n"
     ]
    },
    {
     "name": "stdout",
     "output_type": "stream",
     "text": [
      "Formatting X1\n",
      "There are  984184  variants.\n",
      "Removing  0  duplicated variants leaving  984184 variants.\n",
      "No variants have illegal alleles.\n",
      "Removed  0  variants with ambiguous strand.\n",
      "Flipping strand and effect allele so A1 is always A\n",
      "Returning  984184  variants.\n",
      "Formatting X2\n",
      "There are  1037381  variants.\n",
      "Removing  0  duplicated variants leaving  1037381 variants.\n",
      "No variants have illegal alleles.\n",
      "Removed  0  variants with ambiguous strand.\n",
      "Flipping strand and effect allele so A1 is always A\n",
      "Returning  1037381  variants.\n",
      "After merging and removing variants with inconsistent alleles,  there are  922159  variants that are present in both studies and can be used with CAUSE.\n"
     ]
    },
    {
     "name": "stderr",
     "output_type": "stream",
     "text": [
      "Clumping rJCB40, 2528 variants, using EUR population reference\n",
      "\n",
      "Removing 1919 of 2528 variants due to LD with other variants or absence from LD reference panel\n",
      "\n"
     ]
    },
    {
     "name": "stdout",
     "output_type": "stream",
     "text": [
      "Estimating CAUSE parameters with  922159  variants.\n",
      "1 0.03934586 \n",
      "2 1.670803e-05 \n",
      "3 5.469143e-08 \n",
      "Estimating CAUSE posteriors using  595  variants.\n"
     ]
    },
    {
     "name": "stderr",
     "output_type": "stream",
     "text": [
      "Warning message:\n",
      "“'compare' is deprecated.\n",
      "Use 'loo_compare' instead.\n",
      "See help(\"Deprecated\")”\n"
     ]
    },
    {
     "name": "stdout",
     "output_type": "stream",
     "text": [
      "    user   system  elapsed \n",
      "1688.144 1599.751  299.624 \n",
      "NEB ~ Hair_Black \n"
     ]
    },
    {
     "name": "stderr",
     "output_type": "stream",
     "text": [
      "\u001b[1m\u001b[1mRows: \u001b[1m\u001b[22m\u001b[34m\u001b[34m984184\u001b[34m\u001b[39m \u001b[1m\u001b[1mColumns: \u001b[1m\u001b[22m\u001b[34m\u001b[34m7\u001b[34m\u001b[39m\n",
      "\n",
      "\u001b[36m──\u001b[39m \u001b[1m\u001b[1mColumn specification\u001b[1m\u001b[22m \u001b[36m────────────────────────────────────────────────────────────────────────────────────────────────────────\u001b[39m\n",
      "\u001b[1mDelimiter:\u001b[22m \"\\t\"\n",
      "\u001b[31mchr\u001b[39m (3): SNP, A1, A2\n",
      "\u001b[32mdbl\u001b[39m (4): Z, N, chi2, P\n",
      "\n",
      "\n",
      "\u001b[36mℹ\u001b[39m Use \u001b[30m\u001b[47m\u001b[30m\u001b[47m`spec()`\u001b[47m\u001b[30m\u001b[49m\u001b[39m to retrieve the full column specification for this data.\n",
      "\u001b[36mℹ\u001b[39m Specify the column types or set \u001b[30m\u001b[47m\u001b[30m\u001b[47m`show_col_types = FALSE`\u001b[47m\u001b[30m\u001b[49m\u001b[39m to quiet this message.\n",
      "\n",
      "\u001b[1m\u001b[1mRows: \u001b[1m\u001b[22m\u001b[34m\u001b[34m1037702\u001b[34m\u001b[39m \u001b[1m\u001b[1mColumns: \u001b[1m\u001b[22m\u001b[34m\u001b[34m7\u001b[34m\u001b[39m\n",
      "\n",
      "\u001b[36m──\u001b[39m \u001b[1m\u001b[1mColumn specification\u001b[1m\u001b[22m \u001b[36m────────────────────────────────────────────────────────────────────────────────────────────────────────\u001b[39m\n",
      "\u001b[1mDelimiter:\u001b[22m \"\\t\"\n",
      "\u001b[31mchr\u001b[39m (3): SNP, A1, A2\n",
      "\u001b[32mdbl\u001b[39m (4): Z, N, chi2, P\n",
      "\n",
      "\n",
      "\u001b[36mℹ\u001b[39m Use \u001b[30m\u001b[47m\u001b[30m\u001b[47m`spec()`\u001b[47m\u001b[30m\u001b[49m\u001b[39m to retrieve the full column specification for this data.\n",
      "\u001b[36mℹ\u001b[39m Specify the column types or set \u001b[30m\u001b[47m\u001b[30m\u001b[47m`show_col_types = FALSE`\u001b[47m\u001b[30m\u001b[49m\u001b[39m to quiet this message.\n",
      "\n"
     ]
    },
    {
     "name": "stdout",
     "output_type": "stream",
     "text": [
      "Formatting X1\n",
      "There are  984184  variants.\n",
      "Removing  0  duplicated variants leaving  984184 variants.\n",
      "No variants have illegal alleles.\n",
      "Removed  0  variants with ambiguous strand.\n",
      "Flipping strand and effect allele so A1 is always A\n",
      "Returning  984184  variants.\n",
      "Formatting X2\n",
      "There are  1037702  variants.\n",
      "Removing  0  duplicated variants leaving  1037702 variants.\n",
      "No variants have illegal alleles.\n",
      "Removed  0  variants with ambiguous strand.\n",
      "Flipping strand and effect allele so A1 is always A\n",
      "Returning  1037702  variants.\n",
      "After merging and removing variants with inconsistent alleles,  there are  922431  variants that are present in both studies and can be used with CAUSE.\n"
     ]
    },
    {
     "name": "stderr",
     "output_type": "stream",
     "text": [
      "Clumping dh7K1f, 2534 variants, using EUR population reference\n",
      "\n",
      "Removing 1922 of 2534 variants due to LD with other variants or absence from LD reference panel\n",
      "\n"
     ]
    },
    {
     "name": "stdout",
     "output_type": "stream",
     "text": [
      "Estimating CAUSE parameters with  922431  variants.\n",
      "1 0.008776273 \n",
      "2 3.192696e-06 \n",
      "3 1.20544e-09 \n",
      "Estimating CAUSE posteriors using  597  variants.\n"
     ]
    },
    {
     "name": "stderr",
     "output_type": "stream",
     "text": [
      "Warning message:\n",
      "“'compare' is deprecated.\n",
      "Use 'loo_compare' instead.\n",
      "See help(\"Deprecated\")”\n"
     ]
    },
    {
     "name": "stdout",
     "output_type": "stream",
     "text": [
      "    user   system  elapsed \n",
      "1437.547 1423.672  269.301 \n",
      "NEB ~ Hair_Blonde \n"
     ]
    },
    {
     "name": "stderr",
     "output_type": "stream",
     "text": [
      "\u001b[1m\u001b[1mRows: \u001b[1m\u001b[22m\u001b[34m\u001b[34m984184\u001b[34m\u001b[39m \u001b[1m\u001b[1mColumns: \u001b[1m\u001b[22m\u001b[34m\u001b[34m7\u001b[34m\u001b[39m\n",
      "\n",
      "\u001b[36m──\u001b[39m \u001b[1m\u001b[1mColumn specification\u001b[1m\u001b[22m \u001b[36m────────────────────────────────────────────────────────────────────────────────────────────────────────\u001b[39m\n",
      "\u001b[1mDelimiter:\u001b[22m \"\\t\"\n",
      "\u001b[31mchr\u001b[39m (3): SNP, A1, A2\n",
      "\u001b[32mdbl\u001b[39m (4): Z, N, chi2, P\n",
      "\n",
      "\n",
      "\u001b[36mℹ\u001b[39m Use \u001b[30m\u001b[47m\u001b[30m\u001b[47m`spec()`\u001b[47m\u001b[30m\u001b[49m\u001b[39m to retrieve the full column specification for this data.\n",
      "\u001b[36mℹ\u001b[39m Specify the column types or set \u001b[30m\u001b[47m\u001b[30m\u001b[47m`show_col_types = FALSE`\u001b[47m\u001b[30m\u001b[49m\u001b[39m to quiet this message.\n",
      "\n",
      "\u001b[1m\u001b[1mRows: \u001b[1m\u001b[22m\u001b[34m\u001b[34m1037533\u001b[34m\u001b[39m \u001b[1m\u001b[1mColumns: \u001b[1m\u001b[22m\u001b[34m\u001b[34m7\u001b[34m\u001b[39m\n",
      "\n",
      "\u001b[36m──\u001b[39m \u001b[1m\u001b[1mColumn specification\u001b[1m\u001b[22m \u001b[36m────────────────────────────────────────────────────────────────────────────────────────────────────────\u001b[39m\n",
      "\u001b[1mDelimiter:\u001b[22m \"\\t\"\n",
      "\u001b[31mchr\u001b[39m (3): SNP, A1, A2\n",
      "\u001b[32mdbl\u001b[39m (4): Z, N, chi2, P\n",
      "\n",
      "\n",
      "\u001b[36mℹ\u001b[39m Use \u001b[30m\u001b[47m\u001b[30m\u001b[47m`spec()`\u001b[47m\u001b[30m\u001b[49m\u001b[39m to retrieve the full column specification for this data.\n",
      "\u001b[36mℹ\u001b[39m Specify the column types or set \u001b[30m\u001b[47m\u001b[30m\u001b[47m`show_col_types = FALSE`\u001b[47m\u001b[30m\u001b[49m\u001b[39m to quiet this message.\n",
      "\n"
     ]
    },
    {
     "name": "stdout",
     "output_type": "stream",
     "text": [
      "Formatting X1\n",
      "There are  984184  variants.\n",
      "Removing  0  duplicated variants leaving  984184 variants.\n",
      "No variants have illegal alleles.\n",
      "Removed  0  variants with ambiguous strand.\n",
      "Flipping strand and effect allele so A1 is always A\n",
      "Returning  984184  variants.\n",
      "Formatting X2\n",
      "There are  1037533  variants.\n",
      "Removing  0  duplicated variants leaving  1037533 variants.\n",
      "No variants have illegal alleles.\n",
      "Removed  0  variants with ambiguous strand.\n",
      "Flipping strand and effect allele so A1 is always A\n",
      "Returning  1037533  variants.\n",
      "After merging and removing variants with inconsistent alleles,  there are  922278  variants that are present in both studies and can be used with CAUSE.\n"
     ]
    },
    {
     "name": "stderr",
     "output_type": "stream",
     "text": [
      "Clumping a4QfWJ, 2539 variants, using EUR population reference\n",
      "\n",
      "Removing 1926 of 2539 variants due to LD with other variants or absence from LD reference panel\n",
      "\n"
     ]
    },
    {
     "name": "stdout",
     "output_type": "stream",
     "text": [
      "Estimating CAUSE parameters with  922278  variants.\n",
      "1 0.02424467 \n",
      "2 2.789309e-05 \n",
      "3 7.166786e-08 \n",
      "Estimating CAUSE posteriors using  598  variants.\n"
     ]
    },
    {
     "name": "stderr",
     "output_type": "stream",
     "text": [
      "Warning message:\n",
      "“'compare' is deprecated.\n",
      "Use 'loo_compare' instead.\n",
      "See help(\"Deprecated\")”\n"
     ]
    },
    {
     "name": "stdout",
     "output_type": "stream",
     "text": [
      "    user   system  elapsed \n",
      "1495.187 1449.133  274.201 \n",
      "NEB ~ Tanning \n"
     ]
    },
    {
     "name": "stderr",
     "output_type": "stream",
     "text": [
      "\u001b[1m\u001b[1mRows: \u001b[1m\u001b[22m\u001b[34m\u001b[34m984184\u001b[34m\u001b[39m \u001b[1m\u001b[1mColumns: \u001b[1m\u001b[22m\u001b[34m\u001b[34m7\u001b[34m\u001b[39m\n",
      "\n",
      "\u001b[36m──\u001b[39m \u001b[1m\u001b[1mColumn specification\u001b[1m\u001b[22m \u001b[36m────────────────────────────────────────────────────────────────────────────────────────────────────────\u001b[39m\n",
      "\u001b[1mDelimiter:\u001b[22m \"\\t\"\n",
      "\u001b[31mchr\u001b[39m (3): SNP, A1, A2\n",
      "\u001b[32mdbl\u001b[39m (4): Z, N, chi2, P\n",
      "\n",
      "\n",
      "\u001b[36mℹ\u001b[39m Use \u001b[30m\u001b[47m\u001b[30m\u001b[47m`spec()`\u001b[47m\u001b[30m\u001b[49m\u001b[39m to retrieve the full column specification for this data.\n",
      "\u001b[36mℹ\u001b[39m Specify the column types or set \u001b[30m\u001b[47m\u001b[30m\u001b[47m`show_col_types = FALSE`\u001b[47m\u001b[30m\u001b[49m\u001b[39m to quiet this message.\n",
      "\n",
      "\u001b[1m\u001b[1mRows: \u001b[1m\u001b[22m\u001b[34m\u001b[34m1037026\u001b[34m\u001b[39m \u001b[1m\u001b[1mColumns: \u001b[1m\u001b[22m\u001b[34m\u001b[34m7\u001b[34m\u001b[39m\n",
      "\n",
      "\u001b[36m──\u001b[39m \u001b[1m\u001b[1mColumn specification\u001b[1m\u001b[22m \u001b[36m────────────────────────────────────────────────────────────────────────────────────────────────────────\u001b[39m\n",
      "\u001b[1mDelimiter:\u001b[22m \"\\t\"\n",
      "\u001b[31mchr\u001b[39m (3): SNP, A1, A2\n",
      "\u001b[32mdbl\u001b[39m (4): Z, N, chi2, P\n",
      "\n",
      "\n",
      "\u001b[36mℹ\u001b[39m Use \u001b[30m\u001b[47m\u001b[30m\u001b[47m`spec()`\u001b[47m\u001b[30m\u001b[49m\u001b[39m to retrieve the full column specification for this data.\n",
      "\u001b[36mℹ\u001b[39m Specify the column types or set \u001b[30m\u001b[47m\u001b[30m\u001b[47m`show_col_types = FALSE`\u001b[47m\u001b[30m\u001b[49m\u001b[39m to quiet this message.\n",
      "\n"
     ]
    },
    {
     "name": "stdout",
     "output_type": "stream",
     "text": [
      "Formatting X1\n",
      "There are  984184  variants.\n",
      "Removing  0  duplicated variants leaving  984184 variants.\n",
      "No variants have illegal alleles.\n",
      "Removed  0  variants with ambiguous strand.\n",
      "Flipping strand and effect allele so A1 is always A\n",
      "Returning  984184  variants.\n",
      "Formatting X2\n",
      "There are  1037026  variants.\n",
      "Removing  0  duplicated variants leaving  1037026 variants.\n",
      "No variants have illegal alleles.\n",
      "Removed  0  variants with ambiguous strand.\n",
      "Flipping strand and effect allele so A1 is always A\n",
      "Returning  1037026  variants.\n",
      "After merging and removing variants with inconsistent alleles,  there are  921877  variants that are present in both studies and can be used with CAUSE.\n"
     ]
    },
    {
     "name": "stderr",
     "output_type": "stream",
     "text": [
      "Clumping EcC8DU, 2523 variants, using EUR population reference\n",
      "\n",
      "Removing 1915 of 2523 variants due to LD with other variants or absence from LD reference panel\n",
      "\n"
     ]
    },
    {
     "name": "stdout",
     "output_type": "stream",
     "text": [
      "Estimating CAUSE parameters with  921877  variants.\n",
      "1 0.01602464 \n",
      "2 1.11731e-05 \n",
      "3 1.188692e-08 \n",
      "Estimating CAUSE posteriors using  594  variants.\n"
     ]
    },
    {
     "name": "stderr",
     "output_type": "stream",
     "text": [
      "Warning message:\n",
      "“'compare' is deprecated.\n",
      "Use 'loo_compare' instead.\n",
      "See help(\"Deprecated\")”\n"
     ]
    },
    {
     "name": "stdout",
     "output_type": "stream",
     "text": [
      "    user   system  elapsed \n",
      "1499.076 1402.337  285.010 \n",
      "Smoking ~ Hair_Light_Brown \n"
     ]
    },
    {
     "name": "stderr",
     "output_type": "stream",
     "text": [
      "\u001b[1m\u001b[1mRows: \u001b[1m\u001b[22m\u001b[34m\u001b[34m1043420\u001b[34m\u001b[39m \u001b[1m\u001b[1mColumns: \u001b[1m\u001b[22m\u001b[34m\u001b[34m7\u001b[34m\u001b[39m\n",
      "\n",
      "\u001b[36m──\u001b[39m \u001b[1m\u001b[1mColumn specification\u001b[1m\u001b[22m \u001b[36m────────────────────────────────────────────────────────────────────────────────────────────────────────\u001b[39m\n",
      "\u001b[1mDelimiter:\u001b[22m \"\\t\"\n",
      "\u001b[31mchr\u001b[39m (3): SNP, A1, A2\n",
      "\u001b[32mdbl\u001b[39m (4): Z, N, chi2, P\n",
      "\n",
      "\n",
      "\u001b[36mℹ\u001b[39m Use \u001b[30m\u001b[47m\u001b[30m\u001b[47m`spec()`\u001b[47m\u001b[30m\u001b[49m\u001b[39m to retrieve the full column specification for this data.\n",
      "\u001b[36mℹ\u001b[39m Specify the column types or set \u001b[30m\u001b[47m\u001b[30m\u001b[47m`show_col_types = FALSE`\u001b[47m\u001b[30m\u001b[49m\u001b[39m to quiet this message.\n",
      "\n",
      "\u001b[1m\u001b[1mRows: \u001b[1m\u001b[22m\u001b[34m\u001b[34m1037742\u001b[34m\u001b[39m \u001b[1m\u001b[1mColumns: \u001b[1m\u001b[22m\u001b[34m\u001b[34m7\u001b[34m\u001b[39m\n",
      "\n",
      "\u001b[36m──\u001b[39m \u001b[1m\u001b[1mColumn specification\u001b[1m\u001b[22m \u001b[36m────────────────────────────────────────────────────────────────────────────────────────────────────────\u001b[39m\n",
      "\u001b[1mDelimiter:\u001b[22m \"\\t\"\n",
      "\u001b[31mchr\u001b[39m (3): SNP, A1, A2\n",
      "\u001b[32mdbl\u001b[39m (4): Z, N, chi2, P\n",
      "\n",
      "\n",
      "\u001b[36mℹ\u001b[39m Use \u001b[30m\u001b[47m\u001b[30m\u001b[47m`spec()`\u001b[47m\u001b[30m\u001b[49m\u001b[39m to retrieve the full column specification for this data.\n",
      "\u001b[36mℹ\u001b[39m Specify the column types or set \u001b[30m\u001b[47m\u001b[30m\u001b[47m`show_col_types = FALSE`\u001b[47m\u001b[30m\u001b[49m\u001b[39m to quiet this message.\n",
      "\n"
     ]
    },
    {
     "name": "stdout",
     "output_type": "stream",
     "text": [
      "Formatting X1\n",
      "There are  1043420  variants.\n",
      "Removing  0  duplicated variants leaving  1043420 variants.\n",
      "No variants have illegal alleles.\n",
      "Removed  0  variants with ambiguous strand.\n",
      "Flipping strand and effect allele so A1 is always A\n",
      "Returning  1043420  variants.\n",
      "Formatting X2\n",
      "There are  1037742  variants.\n",
      "Removing  0  duplicated variants leaving  1037742 variants.\n",
      "No variants have illegal alleles.\n",
      "Removed  0  variants with ambiguous strand.\n",
      "Flipping strand and effect allele so A1 is always A\n",
      "Returning  1037742  variants.\n",
      "After merging and removing variants with inconsistent alleles,  there are  990926  variants that are present in both studies and can be used with CAUSE.\n"
     ]
    },
    {
     "name": "stderr",
     "output_type": "stream",
     "text": [
      "Clumping YxTBKa, 6339 variants, using EUR population reference\n",
      "\n",
      "Removing 5327 of 6339 variants due to LD with other variants or absence from LD reference panel\n",
      "\n"
     ]
    },
    {
     "name": "stdout",
     "output_type": "stream",
     "text": [
      "Estimating CAUSE parameters with  990926  variants.\n",
      "1 0.01365763 \n",
      "2 1.562603e-05 \n",
      "3 1.9135e-08 \n",
      "Estimating CAUSE posteriors using  1012  variants.\n"
     ]
    },
    {
     "name": "stderr",
     "output_type": "stream",
     "text": [
      "Warning message:\n",
      "“'compare' is deprecated.\n",
      "Use 'loo_compare' instead.\n",
      "See help(\"Deprecated\")”\n"
     ]
    },
    {
     "name": "stdout",
     "output_type": "stream",
     "text": [
      "    user   system  elapsed \n",
      "2409.500 1839.743  417.287 \n",
      "Smoking ~ Hair_Dark_Brown \n"
     ]
    },
    {
     "name": "stderr",
     "output_type": "stream",
     "text": [
      "\u001b[1m\u001b[1mRows: \u001b[1m\u001b[22m\u001b[34m\u001b[34m1043420\u001b[34m\u001b[39m \u001b[1m\u001b[1mColumns: \u001b[1m\u001b[22m\u001b[34m\u001b[34m7\u001b[34m\u001b[39m\n",
      "\n",
      "\u001b[36m──\u001b[39m \u001b[1m\u001b[1mColumn specification\u001b[1m\u001b[22m \u001b[36m────────────────────────────────────────────────────────────────────────────────────────────────────────\u001b[39m\n",
      "\u001b[1mDelimiter:\u001b[22m \"\\t\"\n",
      "\u001b[31mchr\u001b[39m (3): SNP, A1, A2\n",
      "\u001b[32mdbl\u001b[39m (4): Z, N, chi2, P\n",
      "\n",
      "\n",
      "\u001b[36mℹ\u001b[39m Use \u001b[30m\u001b[47m\u001b[30m\u001b[47m`spec()`\u001b[47m\u001b[30m\u001b[49m\u001b[39m to retrieve the full column specification for this data.\n",
      "\u001b[36mℹ\u001b[39m Specify the column types or set \u001b[30m\u001b[47m\u001b[30m\u001b[47m`show_col_types = FALSE`\u001b[47m\u001b[30m\u001b[49m\u001b[39m to quiet this message.\n",
      "\n",
      "\u001b[1m\u001b[1mRows: \u001b[1m\u001b[22m\u001b[34m\u001b[34m1037381\u001b[34m\u001b[39m \u001b[1m\u001b[1mColumns: \u001b[1m\u001b[22m\u001b[34m\u001b[34m7\u001b[34m\u001b[39m\n",
      "\n",
      "\u001b[36m──\u001b[39m \u001b[1m\u001b[1mColumn specification\u001b[1m\u001b[22m \u001b[36m────────────────────────────────────────────────────────────────────────────────────────────────────────\u001b[39m\n",
      "\u001b[1mDelimiter:\u001b[22m \"\\t\"\n",
      "\u001b[31mchr\u001b[39m (3): SNP, A1, A2\n",
      "\u001b[32mdbl\u001b[39m (4): Z, N, chi2, P\n",
      "\n",
      "\n",
      "\u001b[36mℹ\u001b[39m Use \u001b[30m\u001b[47m\u001b[30m\u001b[47m`spec()`\u001b[47m\u001b[30m\u001b[49m\u001b[39m to retrieve the full column specification for this data.\n",
      "\u001b[36mℹ\u001b[39m Specify the column types or set \u001b[30m\u001b[47m\u001b[30m\u001b[47m`show_col_types = FALSE`\u001b[47m\u001b[30m\u001b[49m\u001b[39m to quiet this message.\n",
      "\n"
     ]
    },
    {
     "name": "stdout",
     "output_type": "stream",
     "text": [
      "Formatting X1\n",
      "There are  1043420  variants.\n",
      "Removing  0  duplicated variants leaving  1043420 variants.\n",
      "No variants have illegal alleles.\n",
      "Removed  0  variants with ambiguous strand.\n",
      "Flipping strand and effect allele so A1 is always A\n",
      "Returning  1043420  variants.\n",
      "Formatting X2\n",
      "There are  1037381  variants.\n",
      "Removing  0  duplicated variants leaving  1037381 variants.\n",
      "No variants have illegal alleles.\n",
      "Removed  0  variants with ambiguous strand.\n",
      "Flipping strand and effect allele so A1 is always A\n",
      "Returning  1037381  variants.\n",
      "After merging and removing variants with inconsistent alleles,  there are  990590  variants that are present in both studies and can be used with CAUSE.\n"
     ]
    },
    {
     "name": "stderr",
     "output_type": "stream",
     "text": [
      "Clumping z06Snw, 6337 variants, using EUR population reference\n",
      "\n",
      "Removing 5326 of 6337 variants due to LD with other variants or absence from LD reference panel\n",
      "\n"
     ]
    },
    {
     "name": "stdout",
     "output_type": "stream",
     "text": [
      "Estimating CAUSE parameters with  990590  variants.\n",
      "1 0.001436025 \n",
      "2 5.181177e-07 \n",
      "3 1.502486e-10 \n",
      "Estimating CAUSE posteriors using  1011  variants.\n"
     ]
    },
    {
     "name": "stderr",
     "output_type": "stream",
     "text": [
      "Warning message:\n",
      "“'compare' is deprecated.\n",
      "Use 'loo_compare' instead.\n",
      "See help(\"Deprecated\")”\n"
     ]
    },
    {
     "name": "stdout",
     "output_type": "stream",
     "text": [
      "    user   system  elapsed \n",
      "2237.991 1833.640  400.535 \n",
      "Smoking ~ Hair_Black \n"
     ]
    },
    {
     "name": "stderr",
     "output_type": "stream",
     "text": [
      "\u001b[1m\u001b[1mRows: \u001b[1m\u001b[22m\u001b[34m\u001b[34m1043420\u001b[34m\u001b[39m \u001b[1m\u001b[1mColumns: \u001b[1m\u001b[22m\u001b[34m\u001b[34m7\u001b[34m\u001b[39m\n",
      "\n",
      "\u001b[36m──\u001b[39m \u001b[1m\u001b[1mColumn specification\u001b[1m\u001b[22m \u001b[36m────────────────────────────────────────────────────────────────────────────────────────────────────────\u001b[39m\n",
      "\u001b[1mDelimiter:\u001b[22m \"\\t\"\n",
      "\u001b[31mchr\u001b[39m (3): SNP, A1, A2\n",
      "\u001b[32mdbl\u001b[39m (4): Z, N, chi2, P\n",
      "\n",
      "\n",
      "\u001b[36mℹ\u001b[39m Use \u001b[30m\u001b[47m\u001b[30m\u001b[47m`spec()`\u001b[47m\u001b[30m\u001b[49m\u001b[39m to retrieve the full column specification for this data.\n",
      "\u001b[36mℹ\u001b[39m Specify the column types or set \u001b[30m\u001b[47m\u001b[30m\u001b[47m`show_col_types = FALSE`\u001b[47m\u001b[30m\u001b[49m\u001b[39m to quiet this message.\n",
      "\n",
      "\u001b[1m\u001b[1mRows: \u001b[1m\u001b[22m\u001b[34m\u001b[34m1037702\u001b[34m\u001b[39m \u001b[1m\u001b[1mColumns: \u001b[1m\u001b[22m\u001b[34m\u001b[34m7\u001b[34m\u001b[39m\n",
      "\n",
      "\u001b[36m──\u001b[39m \u001b[1m\u001b[1mColumn specification\u001b[1m\u001b[22m \u001b[36m────────────────────────────────────────────────────────────────────────────────────────────────────────\u001b[39m\n",
      "\u001b[1mDelimiter:\u001b[22m \"\\t\"\n",
      "\u001b[31mchr\u001b[39m (3): SNP, A1, A2\n",
      "\u001b[32mdbl\u001b[39m (4): Z, N, chi2, P\n",
      "\n",
      "\n",
      "\u001b[36mℹ\u001b[39m Use \u001b[30m\u001b[47m\u001b[30m\u001b[47m`spec()`\u001b[47m\u001b[30m\u001b[49m\u001b[39m to retrieve the full column specification for this data.\n",
      "\u001b[36mℹ\u001b[39m Specify the column types or set \u001b[30m\u001b[47m\u001b[30m\u001b[47m`show_col_types = FALSE`\u001b[47m\u001b[30m\u001b[49m\u001b[39m to quiet this message.\n",
      "\n"
     ]
    },
    {
     "name": "stdout",
     "output_type": "stream",
     "text": [
      "Formatting X1\n",
      "There are  1043420  variants.\n",
      "Removing  0  duplicated variants leaving  1043420 variants.\n",
      "No variants have illegal alleles.\n",
      "Removed  0  variants with ambiguous strand.\n",
      "Flipping strand and effect allele so A1 is always A\n",
      "Returning  1043420  variants.\n",
      "Formatting X2\n",
      "There are  1037702  variants.\n",
      "Removing  0  duplicated variants leaving  1037702 variants.\n",
      "No variants have illegal alleles.\n",
      "Removed  0  variants with ambiguous strand.\n",
      "Flipping strand and effect allele so A1 is always A\n",
      "Returning  1037702  variants.\n",
      "After merging and removing variants with inconsistent alleles,  there are  990887  variants that are present in both studies and can be used with CAUSE.\n"
     ]
    },
    {
     "name": "stderr",
     "output_type": "stream",
     "text": [
      "Clumping zZuz0Y, 6338 variants, using EUR population reference\n",
      "\n",
      "Removing 5326 of 6338 variants due to LD with other variants or absence from LD reference panel\n",
      "\n"
     ]
    },
    {
     "name": "stdout",
     "output_type": "stream",
     "text": [
      "Estimating CAUSE parameters with  990887  variants.\n",
      "1 0.05590734 \n",
      "2 5.338148e-05 \n",
      "3 1.271667e-07 \n",
      "4 6.170971e-09 \n",
      "Estimating CAUSE posteriors using  1012  variants.\n"
     ]
    },
    {
     "name": "stderr",
     "output_type": "stream",
     "text": [
      "Warning message:\n",
      "“'compare' is deprecated.\n",
      "Use 'loo_compare' instead.\n",
      "See help(\"Deprecated\")”\n"
     ]
    },
    {
     "name": "stdout",
     "output_type": "stream",
     "text": [
      "    user   system  elapsed \n",
      "2466.183 1994.345  414.044 \n",
      "Smoking ~ Hair_Blonde \n"
     ]
    },
    {
     "name": "stderr",
     "output_type": "stream",
     "text": [
      "\u001b[1m\u001b[1mRows: \u001b[1m\u001b[22m\u001b[34m\u001b[34m1043420\u001b[34m\u001b[39m \u001b[1m\u001b[1mColumns: \u001b[1m\u001b[22m\u001b[34m\u001b[34m7\u001b[34m\u001b[39m\n",
      "\n",
      "\u001b[36m──\u001b[39m \u001b[1m\u001b[1mColumn specification\u001b[1m\u001b[22m \u001b[36m────────────────────────────────────────────────────────────────────────────────────────────────────────────────────────────────────────────────────\u001b[39m\n",
      "\u001b[1mDelimiter:\u001b[22m \"\\t\"\n",
      "\u001b[31mchr\u001b[39m (3): SNP, A1, A2\n",
      "\u001b[32mdbl\u001b[39m (4): Z, N, chi2, P\n",
      "\n",
      "\n",
      "\u001b[36mℹ\u001b[39m Use \u001b[30m\u001b[47m\u001b[30m\u001b[47m`spec()`\u001b[47m\u001b[30m\u001b[49m\u001b[39m to retrieve the full column specification for this data.\n",
      "\u001b[36mℹ\u001b[39m Specify the column types or set \u001b[30m\u001b[47m\u001b[30m\u001b[47m`show_col_types = FALSE`\u001b[47m\u001b[30m\u001b[49m\u001b[39m to quiet this message.\n",
      "\n",
      "\u001b[1m\u001b[1mRows: \u001b[1m\u001b[22m\u001b[34m\u001b[34m1037533\u001b[34m\u001b[39m \u001b[1m\u001b[1mColumns: \u001b[1m\u001b[22m\u001b[34m\u001b[34m7\u001b[34m\u001b[39m\n",
      "\n",
      "\u001b[36m──\u001b[39m \u001b[1m\u001b[1mColumn specification\u001b[1m\u001b[22m \u001b[36m────────────────────────────────────────────────────────────────────────────────────────────────────────────────────────────────────────────────────\u001b[39m\n",
      "\u001b[1mDelimiter:\u001b[22m \"\\t\"\n",
      "\u001b[31mchr\u001b[39m (3): SNP, A1, A2\n",
      "\u001b[32mdbl\u001b[39m (4): Z, N, chi2, P\n",
      "\n",
      "\n",
      "\u001b[36mℹ\u001b[39m Use \u001b[30m\u001b[47m\u001b[30m\u001b[47m`spec()`\u001b[47m\u001b[30m\u001b[49m\u001b[39m to retrieve the full column specification for this data.\n",
      "\u001b[36mℹ\u001b[39m Specify the column types or set \u001b[30m\u001b[47m\u001b[30m\u001b[47m`show_col_types = FALSE`\u001b[47m\u001b[30m\u001b[49m\u001b[39m to quiet this message.\n",
      "\n"
     ]
    },
    {
     "name": "stdout",
     "output_type": "stream",
     "text": [
      "Formatting X1\n",
      "There are  1043420  variants.\n",
      "Removing  0  duplicated variants leaving  1043420 variants.\n",
      "No variants have illegal alleles.\n",
      "Removed  0  variants with ambiguous strand.\n",
      "Flipping strand and effect allele so A1 is always A\n",
      "Returning  1043420  variants.\n",
      "Formatting X2\n",
      "There are  1037533  variants.\n",
      "Removing  0  duplicated variants leaving  1037533 variants.\n",
      "No variants have illegal alleles.\n",
      "Removed  0  variants with ambiguous strand.\n",
      "Flipping strand and effect allele so A1 is always A\n",
      "Returning  1037533  variants.\n",
      "After merging and removing variants with inconsistent alleles,  there are  990728  variants that are present in both studies and can be used with CAUSE.\n"
     ]
    },
    {
     "name": "stderr",
     "output_type": "stream",
     "text": [
      "Clumping D3uG3M, 6338 variants, using EUR population reference\n",
      "\n",
      "Removing 5326 of 6338 variants due to LD with other variants or absence from LD reference panel\n",
      "\n"
     ]
    },
    {
     "name": "stdout",
     "output_type": "stream",
     "text": [
      "Estimating CAUSE parameters with  990728  variants.\n",
      "1 0.003584367 \n",
      "2 5.191423e-07 \n",
      "3 8.348499e-11 \n",
      "Estimating CAUSE posteriors using  1012  variants.\n"
     ]
    },
    {
     "name": "stderr",
     "output_type": "stream",
     "text": [
      "Warning message:\n",
      "“'compare' is deprecated.\n",
      "Use 'loo_compare' instead.\n",
      "See help(\"Deprecated\")”\n"
     ]
    },
    {
     "name": "stdout",
     "output_type": "stream",
     "text": [
      "    user   system  elapsed \n",
      "1933.359 1772.103  370.154 \n",
      "Smoking ~ Tanning \n"
     ]
    },
    {
     "name": "stderr",
     "output_type": "stream",
     "text": [
      "\u001b[1m\u001b[1mRows: \u001b[1m\u001b[22m\u001b[34m\u001b[34m1043420\u001b[34m\u001b[39m \u001b[1m\u001b[1mColumns: \u001b[1m\u001b[22m\u001b[34m\u001b[34m7\u001b[34m\u001b[39m\n",
      "\n",
      "\u001b[36m──\u001b[39m \u001b[1m\u001b[1mColumn specification\u001b[1m\u001b[22m \u001b[36m────────────────────────────────────────────────────────────────────────────────────────────────────────────────────────────────────────────────────\u001b[39m\n",
      "\u001b[1mDelimiter:\u001b[22m \"\\t\"\n",
      "\u001b[31mchr\u001b[39m (3): SNP, A1, A2\n",
      "\u001b[32mdbl\u001b[39m (4): Z, N, chi2, P\n",
      "\n",
      "\n",
      "\u001b[36mℹ\u001b[39m Use \u001b[30m\u001b[47m\u001b[30m\u001b[47m`spec()`\u001b[47m\u001b[30m\u001b[49m\u001b[39m to retrieve the full column specification for this data.\n",
      "\u001b[36mℹ\u001b[39m Specify the column types or set \u001b[30m\u001b[47m\u001b[30m\u001b[47m`show_col_types = FALSE`\u001b[47m\u001b[30m\u001b[49m\u001b[39m to quiet this message.\n",
      "\n",
      "\u001b[1m\u001b[1mRows: \u001b[1m\u001b[22m\u001b[34m\u001b[34m1037026\u001b[34m\u001b[39m \u001b[1m\u001b[1mColumns: \u001b[1m\u001b[22m\u001b[34m\u001b[34m7\u001b[34m\u001b[39m\n",
      "\n",
      "\u001b[36m──\u001b[39m \u001b[1m\u001b[1mColumn specification\u001b[1m\u001b[22m \u001b[36m────────────────────────────────────────────────────────────────────────────────────────────────────────────────────────────────────────────────────\u001b[39m\n",
      "\u001b[1mDelimiter:\u001b[22m \"\\t\"\n",
      "\u001b[31mchr\u001b[39m (3): SNP, A1, A2\n",
      "\u001b[32mdbl\u001b[39m (4): Z, N, chi2, P\n",
      "\n",
      "\n",
      "\u001b[36mℹ\u001b[39m Use \u001b[30m\u001b[47m\u001b[30m\u001b[47m`spec()`\u001b[47m\u001b[30m\u001b[49m\u001b[39m to retrieve the full column specification for this data.\n",
      "\u001b[36mℹ\u001b[39m Specify the column types or set \u001b[30m\u001b[47m\u001b[30m\u001b[47m`show_col_types = FALSE`\u001b[47m\u001b[30m\u001b[49m\u001b[39m to quiet this message.\n",
      "\n"
     ]
    },
    {
     "name": "stdout",
     "output_type": "stream",
     "text": [
      "Formatting X1\n",
      "There are  1043420  variants.\n",
      "Removing  0  duplicated variants leaving  1043420 variants.\n",
      "No variants have illegal alleles.\n",
      "Removed  0  variants with ambiguous strand.\n",
      "Flipping strand and effect allele so A1 is always A\n",
      "Returning  1043420  variants.\n",
      "Formatting X2\n",
      "There are  1037026  variants.\n",
      "Removing  0  duplicated variants leaving  1037026 variants.\n",
      "No variants have illegal alleles.\n",
      "Removed  0  variants with ambiguous strand.\n",
      "Flipping strand and effect allele so A1 is always A\n",
      "Returning  1037026  variants.\n",
      "After merging and removing variants with inconsistent alleles,  there are  990252  variants that are present in both studies and can be used with CAUSE.\n"
     ]
    },
    {
     "name": "stderr",
     "output_type": "stream",
     "text": [
      "Clumping 5hTdAi, 6337 variants, using EUR population reference\n",
      "\n",
      "Removing 5326 of 6337 variants due to LD with other variants or absence from LD reference panel\n",
      "\n"
     ]
    },
    {
     "name": "stdout",
     "output_type": "stream",
     "text": [
      "Estimating CAUSE parameters with  990252  variants.\n",
      "1 0.08243922 \n",
      "2 0.0004849886 \n",
      "3 7.328331e-06 \n",
      "4 1.075159e-07 \n",
      "5 3.853304e-09 \n",
      "Estimating CAUSE posteriors using  1011  variants.\n"
     ]
    },
    {
     "name": "stderr",
     "output_type": "stream",
     "text": [
      "Warning message:\n",
      "“'compare' is deprecated.\n",
      "Use 'loo_compare' instead.\n",
      "See help(\"Deprecated\")”\n"
     ]
    },
    {
     "name": "stdout",
     "output_type": "stream",
     "text": [
      "    user   system  elapsed \n",
      "2773.112 2190.339  496.043 \n",
      "Urate ~ Hair_Light_Brown \n"
     ]
    },
    {
     "name": "stderr",
     "output_type": "stream",
     "text": [
      "\u001b[1m\u001b[1mRows: \u001b[1m\u001b[22m\u001b[34m\u001b[34m1060305\u001b[34m\u001b[39m \u001b[1m\u001b[1mColumns: \u001b[1m\u001b[22m\u001b[34m\u001b[34m7\u001b[34m\u001b[39m\n",
      "\n",
      "\u001b[36m──\u001b[39m \u001b[1m\u001b[1mColumn specification\u001b[1m\u001b[22m \u001b[36m────────────────────────────────────────────────────────────────────────────────────────────────────────────────────────────────────────────────────\u001b[39m\n",
      "\u001b[1mDelimiter:\u001b[22m \"\\t\"\n",
      "\u001b[31mchr\u001b[39m (3): SNP, A1, A2\n",
      "\u001b[32mdbl\u001b[39m (4): Z, N, chi2, P\n",
      "\n",
      "\n",
      "\u001b[36mℹ\u001b[39m Use \u001b[30m\u001b[47m\u001b[30m\u001b[47m`spec()`\u001b[47m\u001b[30m\u001b[49m\u001b[39m to retrieve the full column specification for this data.\n",
      "\u001b[36mℹ\u001b[39m Specify the column types or set \u001b[30m\u001b[47m\u001b[30m\u001b[47m`show_col_types = FALSE`\u001b[47m\u001b[30m\u001b[49m\u001b[39m to quiet this message.\n",
      "\n",
      "\u001b[1m\u001b[1mRows: \u001b[1m\u001b[22m\u001b[34m\u001b[34m1037742\u001b[34m\u001b[39m \u001b[1m\u001b[1mColumns: \u001b[1m\u001b[22m\u001b[34m\u001b[34m7\u001b[34m\u001b[39m\n",
      "\n",
      "\u001b[36m──\u001b[39m \u001b[1m\u001b[1mColumn specification\u001b[1m\u001b[22m \u001b[36m────────────────────────────────────────────────────────────────────────────────────────────────────────────────────────────────────────────────────\u001b[39m\n",
      "\u001b[1mDelimiter:\u001b[22m \"\\t\"\n",
      "\u001b[31mchr\u001b[39m (3): SNP, A1, A2\n",
      "\u001b[32mdbl\u001b[39m (4): Z, N, chi2, P\n",
      "\n",
      "\n",
      "\u001b[36mℹ\u001b[39m Use \u001b[30m\u001b[47m\u001b[30m\u001b[47m`spec()`\u001b[47m\u001b[30m\u001b[49m\u001b[39m to retrieve the full column specification for this data.\n",
      "\u001b[36mℹ\u001b[39m Specify the column types or set \u001b[30m\u001b[47m\u001b[30m\u001b[47m`show_col_types = FALSE`\u001b[47m\u001b[30m\u001b[49m\u001b[39m to quiet this message.\n",
      "\n"
     ]
    },
    {
     "name": "stdout",
     "output_type": "stream",
     "text": [
      "Formatting X1\n",
      "There are  1060305  variants.\n",
      "Removing  0  duplicated variants leaving  1060305 variants.\n",
      "No variants have illegal alleles.\n",
      "Removed  0  variants with ambiguous strand.\n",
      "Flipping strand and effect allele so A1 is always A\n",
      "Returning  1060305  variants.\n",
      "Formatting X2\n",
      "There are  1037742  variants.\n",
      "Removing  0  duplicated variants leaving  1037742 variants.\n",
      "No variants have illegal alleles.\n",
      "Removed  0  variants with ambiguous strand.\n",
      "Flipping strand and effect allele so A1 is always A\n",
      "Returning  1037742  variants.\n",
      "After merging and removing variants with inconsistent alleles,  there are  940450  variants that are present in both studies and can be used with CAUSE.\n"
     ]
    },
    {
     "name": "stderr",
     "output_type": "stream",
     "text": [
      "Clumping MHtz5t, 3852 variants, using EUR population reference\n",
      "\n",
      "Removing 3246 of 3852 variants due to LD with other variants or absence from LD reference panel\n",
      "\n"
     ]
    },
    {
     "name": "stdout",
     "output_type": "stream",
     "text": [
      "Estimating CAUSE parameters with  940450  variants.\n",
      "1 0.01741127 \n",
      "2 1.913609e-05 \n",
      "3 3.551164e-08 \n",
      "Estimating CAUSE posteriors using  606  variants.\n"
     ]
    },
    {
     "name": "stderr",
     "output_type": "stream",
     "text": [
      "Warning message:\n",
      "“'compare' is deprecated.\n",
      "Use 'loo_compare' instead.\n",
      "See help(\"Deprecated\")”\n"
     ]
    },
    {
     "name": "stdout",
     "output_type": "stream",
     "text": [
      "    user   system  elapsed \n",
      "1822.149 1367.707  354.785 \n",
      "Urate ~ Hair_Dark_Brown \n"
     ]
    },
    {
     "name": "stderr",
     "output_type": "stream",
     "text": [
      "\u001b[1m\u001b[1mRows: \u001b[1m\u001b[22m\u001b[34m\u001b[34m1060305\u001b[34m\u001b[39m \u001b[1m\u001b[1mColumns: \u001b[1m\u001b[22m\u001b[34m\u001b[34m7\u001b[34m\u001b[39m\n",
      "\n",
      "\u001b[36m──\u001b[39m \u001b[1m\u001b[1mColumn specification\u001b[1m\u001b[22m \u001b[36m────────────────────────────────────────────────────────────────────────────────────────────────────────────────────────────────────────────────────\u001b[39m\n",
      "\u001b[1mDelimiter:\u001b[22m \"\\t\"\n",
      "\u001b[31mchr\u001b[39m (3): SNP, A1, A2\n",
      "\u001b[32mdbl\u001b[39m (4): Z, N, chi2, P\n",
      "\n",
      "\n",
      "\u001b[36mℹ\u001b[39m Use \u001b[30m\u001b[47m\u001b[30m\u001b[47m`spec()`\u001b[47m\u001b[30m\u001b[49m\u001b[39m to retrieve the full column specification for this data.\n",
      "\u001b[36mℹ\u001b[39m Specify the column types or set \u001b[30m\u001b[47m\u001b[30m\u001b[47m`show_col_types = FALSE`\u001b[47m\u001b[30m\u001b[49m\u001b[39m to quiet this message.\n",
      "\n",
      "\u001b[1m\u001b[1mRows: \u001b[1m\u001b[22m\u001b[34m\u001b[34m1037381\u001b[34m\u001b[39m \u001b[1m\u001b[1mColumns: \u001b[1m\u001b[22m\u001b[34m\u001b[34m7\u001b[34m\u001b[39m\n",
      "\n",
      "\u001b[36m──\u001b[39m \u001b[1m\u001b[1mColumn specification\u001b[1m\u001b[22m \u001b[36m────────────────────────────────────────────────────────────────────────────────────────────────────────────────────────────────────────────────────\u001b[39m\n",
      "\u001b[1mDelimiter:\u001b[22m \"\\t\"\n",
      "\u001b[31mchr\u001b[39m (3): SNP, A1, A2\n",
      "\u001b[32mdbl\u001b[39m (4): Z, N, chi2, P\n",
      "\n",
      "\n",
      "\u001b[36mℹ\u001b[39m Use \u001b[30m\u001b[47m\u001b[30m\u001b[47m`spec()`\u001b[47m\u001b[30m\u001b[49m\u001b[39m to retrieve the full column specification for this data.\n",
      "\u001b[36mℹ\u001b[39m Specify the column types or set \u001b[30m\u001b[47m\u001b[30m\u001b[47m`show_col_types = FALSE`\u001b[47m\u001b[30m\u001b[49m\u001b[39m to quiet this message.\n",
      "\n"
     ]
    },
    {
     "name": "stdout",
     "output_type": "stream",
     "text": [
      "Formatting X1\n",
      "There are  1060305  variants.\n",
      "Removing  0  duplicated variants leaving  1060305 variants.\n",
      "No variants have illegal alleles.\n",
      "Removed  0  variants with ambiguous strand.\n",
      "Flipping strand and effect allele so A1 is always A\n",
      "Returning  1060305  variants.\n",
      "Formatting X2\n",
      "There are  1037381  variants.\n",
      "Removing  0  duplicated variants leaving  1037381 variants.\n",
      "No variants have illegal alleles.\n",
      "Removed  0  variants with ambiguous strand.\n",
      "Flipping strand and effect allele so A1 is always A\n",
      "Returning  1037381  variants.\n",
      "After merging and removing variants with inconsistent alleles,  there are  940145  variants that are present in both studies and can be used with CAUSE.\n"
     ]
    },
    {
     "name": "stderr",
     "output_type": "stream",
     "text": [
      "Clumping uU19Un, 3850 variants, using EUR population reference\n",
      "\n",
      "Removing 3245 of 3850 variants due to LD with other variants or absence from LD reference panel\n",
      "\n"
     ]
    },
    {
     "name": "stdout",
     "output_type": "stream",
     "text": [
      "Estimating CAUSE parameters with  940145  variants.\n",
      "1 0.0374336 \n",
      "2 5.514619e-05 \n",
      "3 2.266816e-07 \n",
      "4 3.027658e-09 \n",
      "Estimating CAUSE posteriors using  605  variants.\n"
     ]
    },
    {
     "name": "stderr",
     "output_type": "stream",
     "text": [
      "Warning message:\n",
      "“'compare' is deprecated.\n",
      "Use 'loo_compare' instead.\n",
      "See help(\"Deprecated\")”\n"
     ]
    },
    {
     "name": "stdout",
     "output_type": "stream",
     "text": [
      "    user   system  elapsed \n",
      "2160.416 1814.049  423.216 \n",
      "Urate ~ Hair_Black \n"
     ]
    },
    {
     "name": "stderr",
     "output_type": "stream",
     "text": [
      "\u001b[1m\u001b[1mRows: \u001b[1m\u001b[22m\u001b[34m\u001b[34m1060305\u001b[34m\u001b[39m \u001b[1m\u001b[1mColumns: \u001b[1m\u001b[22m\u001b[34m\u001b[34m7\u001b[34m\u001b[39m\n",
      "\n",
      "\u001b[36m──\u001b[39m \u001b[1m\u001b[1mColumn specification\u001b[1m\u001b[22m \u001b[36m────────────────────────────────────────────────────────────────────────────────────────────────────────────────────────────────────────────────────\u001b[39m\n",
      "\u001b[1mDelimiter:\u001b[22m \"\\t\"\n",
      "\u001b[31mchr\u001b[39m (3): SNP, A1, A2\n",
      "\u001b[32mdbl\u001b[39m (4): Z, N, chi2, P\n",
      "\n",
      "\n",
      "\u001b[36mℹ\u001b[39m Use \u001b[30m\u001b[47m\u001b[30m\u001b[47m`spec()`\u001b[47m\u001b[30m\u001b[49m\u001b[39m to retrieve the full column specification for this data.\n",
      "\u001b[36mℹ\u001b[39m Specify the column types or set \u001b[30m\u001b[47m\u001b[30m\u001b[47m`show_col_types = FALSE`\u001b[47m\u001b[30m\u001b[49m\u001b[39m to quiet this message.\n",
      "\n",
      "\u001b[1m\u001b[1mRows: \u001b[1m\u001b[22m\u001b[34m\u001b[34m1037702\u001b[34m\u001b[39m \u001b[1m\u001b[1mColumns: \u001b[1m\u001b[22m\u001b[34m\u001b[34m7\u001b[34m\u001b[39m\n",
      "\n",
      "\u001b[36m──\u001b[39m \u001b[1m\u001b[1mColumn specification\u001b[1m\u001b[22m \u001b[36m────────────────────────────────────────────────────────────────────────────────────────────────────────────────────────────────────────────────────\u001b[39m\n",
      "\u001b[1mDelimiter:\u001b[22m \"\\t\"\n",
      "\u001b[31mchr\u001b[39m (3): SNP, A1, A2\n",
      "\u001b[32mdbl\u001b[39m (4): Z, N, chi2, P\n",
      "\n",
      "\n",
      "\u001b[36mℹ\u001b[39m Use \u001b[30m\u001b[47m\u001b[30m\u001b[47m`spec()`\u001b[47m\u001b[30m\u001b[49m\u001b[39m to retrieve the full column specification for this data.\n",
      "\u001b[36mℹ\u001b[39m Specify the column types or set \u001b[30m\u001b[47m\u001b[30m\u001b[47m`show_col_types = FALSE`\u001b[47m\u001b[30m\u001b[49m\u001b[39m to quiet this message.\n",
      "\n"
     ]
    },
    {
     "name": "stdout",
     "output_type": "stream",
     "text": [
      "Formatting X1\n",
      "There are  1060305  variants.\n",
      "Removing  0  duplicated variants leaving  1060305 variants.\n",
      "No variants have illegal alleles.\n",
      "Removed  0  variants with ambiguous strand.\n",
      "Flipping strand and effect allele so A1 is always A\n",
      "Returning  1060305  variants.\n",
      "Formatting X2\n",
      "There are  1037702  variants.\n",
      "Removing  0  duplicated variants leaving  1037702 variants.\n",
      "No variants have illegal alleles.\n",
      "Removed  0  variants with ambiguous strand.\n",
      "Flipping strand and effect allele so A1 is always A\n",
      "Returning  1037702  variants.\n",
      "After merging and removing variants with inconsistent alleles,  there are  940418  variants that are present in both studies and can be used with CAUSE.\n"
     ]
    },
    {
     "name": "stderr",
     "output_type": "stream",
     "text": [
      "Clumping xtRWTf, 3852 variants, using EUR population reference\n",
      "\n",
      "Removing 3246 of 3852 variants due to LD with other variants or absence from LD reference panel\n",
      "\n"
     ]
    },
    {
     "name": "stdout",
     "output_type": "stream",
     "text": [
      "Estimating CAUSE parameters with  940418  variants.\n",
      "1 0.004890007 \n",
      "2 3.441898e-06 \n",
      "3 1.499878e-09 \n",
      "Estimating CAUSE posteriors using  606  variants.\n"
     ]
    },
    {
     "name": "stderr",
     "output_type": "stream",
     "text": [
      "Warning message:\n",
      "“'compare' is deprecated.\n",
      "Use 'loo_compare' instead.\n",
      "See help(\"Deprecated\")”\n"
     ]
    },
    {
     "name": "stdout",
     "output_type": "stream",
     "text": [
      "    user   system  elapsed \n",
      "1706.081 1477.065  355.244 \n",
      "Urate ~ Hair_Blonde \n"
     ]
    },
    {
     "name": "stderr",
     "output_type": "stream",
     "text": [
      "\u001b[1m\u001b[1mRows: \u001b[1m\u001b[22m\u001b[34m\u001b[34m1060305\u001b[34m\u001b[39m \u001b[1m\u001b[1mColumns: \u001b[1m\u001b[22m\u001b[34m\u001b[34m7\u001b[34m\u001b[39m\n",
      "\n",
      "\u001b[36m──\u001b[39m \u001b[1m\u001b[1mColumn specification\u001b[1m\u001b[22m \u001b[36m────────────────────────────────────────────────────────────────────────────────────────────────────────────────────────────────────────────────────\u001b[39m\n",
      "\u001b[1mDelimiter:\u001b[22m \"\\t\"\n",
      "\u001b[31mchr\u001b[39m (3): SNP, A1, A2\n",
      "\u001b[32mdbl\u001b[39m (4): Z, N, chi2, P\n",
      "\n",
      "\n",
      "\u001b[36mℹ\u001b[39m Use \u001b[30m\u001b[47m\u001b[30m\u001b[47m`spec()`\u001b[47m\u001b[30m\u001b[49m\u001b[39m to retrieve the full column specification for this data.\n",
      "\u001b[36mℹ\u001b[39m Specify the column types or set \u001b[30m\u001b[47m\u001b[30m\u001b[47m`show_col_types = FALSE`\u001b[47m\u001b[30m\u001b[49m\u001b[39m to quiet this message.\n",
      "\n",
      "\u001b[1m\u001b[1mRows: \u001b[1m\u001b[22m\u001b[34m\u001b[34m1037533\u001b[34m\u001b[39m \u001b[1m\u001b[1mColumns: \u001b[1m\u001b[22m\u001b[34m\u001b[34m7\u001b[34m\u001b[39m\n",
      "\n",
      "\u001b[36m──\u001b[39m \u001b[1m\u001b[1mColumn specification\u001b[1m\u001b[22m \u001b[36m────────────────────────────────────────────────────────────────────────────────────────────────────────────────────────────────────────────────────\u001b[39m\n",
      "\u001b[1mDelimiter:\u001b[22m \"\\t\"\n",
      "\u001b[31mchr\u001b[39m (3): SNP, A1, A2\n",
      "\u001b[32mdbl\u001b[39m (4): Z, N, chi2, P\n",
      "\n",
      "\n",
      "\u001b[36mℹ\u001b[39m Use \u001b[30m\u001b[47m\u001b[30m\u001b[47m`spec()`\u001b[47m\u001b[30m\u001b[49m\u001b[39m to retrieve the full column specification for this data.\n",
      "\u001b[36mℹ\u001b[39m Specify the column types or set \u001b[30m\u001b[47m\u001b[30m\u001b[47m`show_col_types = FALSE`\u001b[47m\u001b[30m\u001b[49m\u001b[39m to quiet this message.\n",
      "\n"
     ]
    },
    {
     "name": "stdout",
     "output_type": "stream",
     "text": [
      "Formatting X1\n",
      "There are  1060305  variants.\n",
      "Removing  0  duplicated variants leaving  1060305 variants.\n",
      "No variants have illegal alleles.\n",
      "Removed  0  variants with ambiguous strand.\n",
      "Flipping strand and effect allele so A1 is always A\n",
      "Returning  1060305  variants.\n",
      "Formatting X2\n",
      "There are  1037533  variants.\n",
      "Removing  0  duplicated variants leaving  1037533 variants.\n",
      "No variants have illegal alleles.\n",
      "Removed  0  variants with ambiguous strand.\n",
      "Flipping strand and effect allele so A1 is always A\n",
      "Returning  1037533  variants.\n",
      "After merging and removing variants with inconsistent alleles,  there are  940264  variants that are present in both studies and can be used with CAUSE.\n"
     ]
    },
    {
     "name": "stderr",
     "output_type": "stream",
     "text": [
      "Clumping kh3G6P, 3852 variants, using EUR population reference\n",
      "\n",
      "Removing 3246 of 3852 variants due to LD with other variants or absence from LD reference panel\n",
      "\n"
     ]
    },
    {
     "name": "stdout",
     "output_type": "stream",
     "text": [
      "Estimating CAUSE parameters with  940264  variants.\n",
      "1 0.01133829 \n",
      "2 8.906503e-07 \n",
      "3 4.865869e-10 \n",
      "Estimating CAUSE posteriors using  606  variants.\n"
     ]
    },
    {
     "name": "stderr",
     "output_type": "stream",
     "text": [
      "Warning message:\n",
      "“'compare' is deprecated.\n",
      "Use 'loo_compare' instead.\n",
      "See help(\"Deprecated\")”\n"
     ]
    },
    {
     "name": "stdout",
     "output_type": "stream",
     "text": [
      "    user   system  elapsed \n",
      "1741.841 1561.929  356.590 \n",
      "Urate ~ Tanning \n"
     ]
    },
    {
     "name": "stderr",
     "output_type": "stream",
     "text": [
      "\u001b[1m\u001b[1mRows: \u001b[1m\u001b[22m\u001b[34m\u001b[34m1060305\u001b[34m\u001b[39m \u001b[1m\u001b[1mColumns: \u001b[1m\u001b[22m\u001b[34m\u001b[34m7\u001b[34m\u001b[39m\n",
      "\n",
      "\u001b[36m──\u001b[39m \u001b[1m\u001b[1mColumn specification\u001b[1m\u001b[22m \u001b[36m────────────────────────────────────────────────────────────────────────────────────────────────────────────────────────────────────────────────────\u001b[39m\n",
      "\u001b[1mDelimiter:\u001b[22m \"\\t\"\n",
      "\u001b[31mchr\u001b[39m (3): SNP, A1, A2\n",
      "\u001b[32mdbl\u001b[39m (4): Z, N, chi2, P\n",
      "\n",
      "\n",
      "\u001b[36mℹ\u001b[39m Use \u001b[30m\u001b[47m\u001b[30m\u001b[47m`spec()`\u001b[47m\u001b[30m\u001b[49m\u001b[39m to retrieve the full column specification for this data.\n",
      "\u001b[36mℹ\u001b[39m Specify the column types or set \u001b[30m\u001b[47m\u001b[30m\u001b[47m`show_col_types = FALSE`\u001b[47m\u001b[30m\u001b[49m\u001b[39m to quiet this message.\n",
      "\n",
      "\u001b[1m\u001b[1mRows: \u001b[1m\u001b[22m\u001b[34m\u001b[34m1037026\u001b[34m\u001b[39m \u001b[1m\u001b[1mColumns: \u001b[1m\u001b[22m\u001b[34m\u001b[34m7\u001b[34m\u001b[39m\n",
      "\n",
      "\u001b[36m──\u001b[39m \u001b[1m\u001b[1mColumn specification\u001b[1m\u001b[22m \u001b[36m────────────────────────────────────────────────────────────────────────────────────────────────────────────────────────────────────────────────────\u001b[39m\n",
      "\u001b[1mDelimiter:\u001b[22m \"\\t\"\n",
      "\u001b[31mchr\u001b[39m (3): SNP, A1, A2\n",
      "\u001b[32mdbl\u001b[39m (4): Z, N, chi2, P\n",
      "\n",
      "\n",
      "\u001b[36mℹ\u001b[39m Use \u001b[30m\u001b[47m\u001b[30m\u001b[47m`spec()`\u001b[47m\u001b[30m\u001b[49m\u001b[39m to retrieve the full column specification for this data.\n",
      "\u001b[36mℹ\u001b[39m Specify the column types or set \u001b[30m\u001b[47m\u001b[30m\u001b[47m`show_col_types = FALSE`\u001b[47m\u001b[30m\u001b[49m\u001b[39m to quiet this message.\n",
      "\n"
     ]
    },
    {
     "name": "stdout",
     "output_type": "stream",
     "text": [
      "Formatting X1\n",
      "There are  1060305  variants.\n",
      "Removing  0  duplicated variants leaving  1060305 variants.\n",
      "No variants have illegal alleles.\n",
      "Removed  0  variants with ambiguous strand.\n",
      "Flipping strand and effect allele so A1 is always A\n",
      "Returning  1060305  variants.\n",
      "Formatting X2\n",
      "There are  1037026  variants.\n",
      "Removing  0  duplicated variants leaving  1037026 variants.\n",
      "No variants have illegal alleles.\n",
      "Removed  0  variants with ambiguous strand.\n",
      "Flipping strand and effect allele so A1 is always A\n",
      "Returning  1037026  variants.\n",
      "After merging and removing variants with inconsistent alleles,  there are  939865  variants that are present in both studies and can be used with CAUSE.\n"
     ]
    },
    {
     "name": "stderr",
     "output_type": "stream",
     "text": [
      "Clumping b3CBok, 3842 variants, using EUR population reference\n",
      "\n",
      "Removing 3238 of 3842 variants due to LD with other variants or absence from LD reference panel\n",
      "\n"
     ]
    },
    {
     "name": "stdout",
     "output_type": "stream",
     "text": [
      "Estimating CAUSE parameters with  939865  variants.\n",
      "1 0.05213059 \n",
      "2 7.93589e-05 \n",
      "3 4.432047e-07 \n",
      "4 4.345041e-09 \n",
      "Estimating CAUSE posteriors using  604  variants.\n"
     ]
    },
    {
     "name": "stderr",
     "output_type": "stream",
     "text": [
      "Warning message:\n",
      "“'compare' is deprecated.\n",
      "Use 'loo_compare' instead.\n",
      "See help(\"Deprecated\")”\n"
     ]
    },
    {
     "name": "stdout",
     "output_type": "stream",
     "text": [
      "    user   system  elapsed \n",
      "1986.247 1713.048  382.884 \n",
      "Anorexia ~ Hair_Light_Brown \n"
     ]
    },
    {
     "name": "stderr",
     "output_type": "stream",
     "text": [
      "\u001b[1m\u001b[1mRows: \u001b[1m\u001b[22m\u001b[34m\u001b[34m910374\u001b[34m\u001b[39m \u001b[1m\u001b[1mColumns: \u001b[1m\u001b[22m\u001b[34m\u001b[34m7\u001b[34m\u001b[39m\n",
      "\n",
      "\u001b[36m──\u001b[39m \u001b[1m\u001b[1mColumn specification\u001b[1m\u001b[22m \u001b[36m────────────────────────────────────────────────────────────────────────────────────────────────────────────────────────────────────────────────────\u001b[39m\n",
      "\u001b[1mDelimiter:\u001b[22m \"\\t\"\n",
      "\u001b[31mchr\u001b[39m (3): SNP, A1, A2\n",
      "\u001b[32mdbl\u001b[39m (4): Z, N, chi2, P\n",
      "\n",
      "\n",
      "\u001b[36mℹ\u001b[39m Use \u001b[30m\u001b[47m\u001b[30m\u001b[47m`spec()`\u001b[47m\u001b[30m\u001b[49m\u001b[39m to retrieve the full column specification for this data.\n",
      "\u001b[36mℹ\u001b[39m Specify the column types or set \u001b[30m\u001b[47m\u001b[30m\u001b[47m`show_col_types = FALSE`\u001b[47m\u001b[30m\u001b[49m\u001b[39m to quiet this message.\n",
      "\n",
      "\u001b[1m\u001b[1mRows: \u001b[1m\u001b[22m\u001b[34m\u001b[34m1037742\u001b[34m\u001b[39m \u001b[1m\u001b[1mColumns: \u001b[1m\u001b[22m\u001b[34m\u001b[34m7\u001b[34m\u001b[39m\n",
      "\n",
      "\u001b[36m──\u001b[39m \u001b[1m\u001b[1mColumn specification\u001b[1m\u001b[22m \u001b[36m────────────────────────────────────────────────────────────────────────────────────────────────────────────────────────────────────────────────────\u001b[39m\n",
      "\u001b[1mDelimiter:\u001b[22m \"\\t\"\n",
      "\u001b[31mchr\u001b[39m (3): SNP, A1, A2\n",
      "\u001b[32mdbl\u001b[39m (4): Z, N, chi2, P\n",
      "\n",
      "\n",
      "\u001b[36mℹ\u001b[39m Use \u001b[30m\u001b[47m\u001b[30m\u001b[47m`spec()`\u001b[47m\u001b[30m\u001b[49m\u001b[39m to retrieve the full column specification for this data.\n",
      "\u001b[36mℹ\u001b[39m Specify the column types or set \u001b[30m\u001b[47m\u001b[30m\u001b[47m`show_col_types = FALSE`\u001b[47m\u001b[30m\u001b[49m\u001b[39m to quiet this message.\n",
      "\n"
     ]
    },
    {
     "name": "stdout",
     "output_type": "stream",
     "text": [
      "Formatting X1\n",
      "There are  910374  variants.\n",
      "Removing  0  duplicated variants leaving  910374 variants.\n",
      "No variants have illegal alleles.\n",
      "Removed  0  variants with ambiguous strand.\n",
      "Flipping strand and effect allele so A1 is always A\n",
      "Returning  910374  variants.\n",
      "Formatting X2\n",
      "There are  1037742  variants.\n",
      "Removing  0  duplicated variants leaving  1037742 variants.\n",
      "No variants have illegal alleles.\n",
      "Removed  0  variants with ambiguous strand.\n",
      "Flipping strand and effect allele so A1 is always A\n",
      "Returning  1037742  variants.\n",
      "After merging and removing variants with inconsistent alleles,  there are  845891  variants that are present in both studies and can be used with CAUSE.\n"
     ]
    },
    {
     "name": "stderr",
     "output_type": "stream",
     "text": [
      "Clumping TnmIGs, 5040 variants, using EUR population reference\n",
      "\n",
      "Removing 4241 of 5040 variants due to LD with other variants or absence from LD reference panel\n",
      "\n"
     ]
    },
    {
     "name": "stdout",
     "output_type": "stream",
     "text": [
      "Estimating CAUSE parameters with  845891  variants.\n",
      "1 0.03500595 \n",
      "2 8.528468e-05 \n",
      "3 3.620405e-07 \n",
      "4 8.22809e-10 \n",
      "Estimating CAUSE posteriors using  799  variants.\n"
     ]
    },
    {
     "name": "stderr",
     "output_type": "stream",
     "text": [
      "Warning message:\n",
      "“'compare' is deprecated.\n",
      "Use 'loo_compare' instead.\n",
      "See help(\"Deprecated\")”\n"
     ]
    },
    {
     "name": "stdout",
     "output_type": "stream",
     "text": [
      "    user   system  elapsed \n",
      "2461.347 2108.659  435.242 \n",
      "Anorexia ~ Hair_Dark_Brown \n"
     ]
    },
    {
     "name": "stderr",
     "output_type": "stream",
     "text": [
      "\u001b[1m\u001b[1mRows: \u001b[1m\u001b[22m\u001b[34m\u001b[34m910374\u001b[34m\u001b[39m \u001b[1m\u001b[1mColumns: \u001b[1m\u001b[22m\u001b[34m\u001b[34m7\u001b[34m\u001b[39m\n",
      "\n",
      "\u001b[36m──\u001b[39m \u001b[1m\u001b[1mColumn specification\u001b[1m\u001b[22m \u001b[36m────────────────────────────────────────────────────────────────────────────────────────────────────────────────────────────────────────────────────\u001b[39m\n",
      "\u001b[1mDelimiter:\u001b[22m \"\\t\"\n",
      "\u001b[31mchr\u001b[39m (3): SNP, A1, A2\n",
      "\u001b[32mdbl\u001b[39m (4): Z, N, chi2, P\n",
      "\n",
      "\n",
      "\u001b[36mℹ\u001b[39m Use \u001b[30m\u001b[47m\u001b[30m\u001b[47m`spec()`\u001b[47m\u001b[30m\u001b[49m\u001b[39m to retrieve the full column specification for this data.\n",
      "\u001b[36mℹ\u001b[39m Specify the column types or set \u001b[30m\u001b[47m\u001b[30m\u001b[47m`show_col_types = FALSE`\u001b[47m\u001b[30m\u001b[49m\u001b[39m to quiet this message.\n",
      "\n",
      "\u001b[1m\u001b[1mRows: \u001b[1m\u001b[22m\u001b[34m\u001b[34m1037381\u001b[34m\u001b[39m \u001b[1m\u001b[1mColumns: \u001b[1m\u001b[22m\u001b[34m\u001b[34m7\u001b[34m\u001b[39m\n",
      "\n",
      "\u001b[36m──\u001b[39m \u001b[1m\u001b[1mColumn specification\u001b[1m\u001b[22m \u001b[36m────────────────────────────────────────────────────────────────────────────────────────────────────────────────────────────────────────────────────\u001b[39m\n",
      "\u001b[1mDelimiter:\u001b[22m \"\\t\"\n",
      "\u001b[31mchr\u001b[39m (3): SNP, A1, A2\n",
      "\u001b[32mdbl\u001b[39m (4): Z, N, chi2, P\n",
      "\n",
      "\n",
      "\u001b[36mℹ\u001b[39m Use \u001b[30m\u001b[47m\u001b[30m\u001b[47m`spec()`\u001b[47m\u001b[30m\u001b[49m\u001b[39m to retrieve the full column specification for this data.\n",
      "\u001b[36mℹ\u001b[39m Specify the column types or set \u001b[30m\u001b[47m\u001b[30m\u001b[47m`show_col_types = FALSE`\u001b[47m\u001b[30m\u001b[49m\u001b[39m to quiet this message.\n",
      "\n"
     ]
    },
    {
     "name": "stdout",
     "output_type": "stream",
     "text": [
      "Formatting X1\n",
      "There are  910374  variants.\n",
      "Removing  0  duplicated variants leaving  910374 variants.\n",
      "No variants have illegal alleles.\n",
      "Removed  0  variants with ambiguous strand.\n",
      "Flipping strand and effect allele so A1 is always A\n",
      "Returning  910374  variants.\n",
      "Formatting X2\n",
      "There are  1037381  variants.\n",
      "Removing  0  duplicated variants leaving  1037381 variants.\n",
      "No variants have illegal alleles.\n",
      "Removed  0  variants with ambiguous strand.\n",
      "Flipping strand and effect allele so A1 is always A\n",
      "Returning  1037381  variants.\n",
      "After merging and removing variants with inconsistent alleles,  there are  845592  variants that are present in both studies and can be used with CAUSE.\n"
     ]
    },
    {
     "name": "stderr",
     "output_type": "stream",
     "text": [
      "Clumping xzwDBh, 5040 variants, using EUR population reference\n",
      "\n",
      "Removing 4241 of 5040 variants due to LD with other variants or absence from LD reference panel\n",
      "\n"
     ]
    },
    {
     "name": "stdout",
     "output_type": "stream",
     "text": [
      "Estimating CAUSE parameters with  845592  variants.\n",
      "1 0.05174889 \n",
      "2 0.0002623746 \n",
      "3 2.264211e-06 \n",
      "4 1.992792e-08 \n",
      "Estimating CAUSE posteriors using  799  variants.\n"
     ]
    },
    {
     "name": "stderr",
     "output_type": "stream",
     "text": [
      "Warning message:\n",
      "“'compare' is deprecated.\n",
      "Use 'loo_compare' instead.\n",
      "See help(\"Deprecated\")”\n"
     ]
    },
    {
     "name": "stdout",
     "output_type": "stream",
     "text": [
      "    user   system  elapsed \n",
      "2316.170 2023.054  427.634 \n",
      "Anorexia ~ Hair_Black \n"
     ]
    },
    {
     "name": "stderr",
     "output_type": "stream",
     "text": [
      "\u001b[1m\u001b[1mRows: \u001b[1m\u001b[22m\u001b[34m\u001b[34m910374\u001b[34m\u001b[39m \u001b[1m\u001b[1mColumns: \u001b[1m\u001b[22m\u001b[34m\u001b[34m7\u001b[34m\u001b[39m\n",
      "\n",
      "\u001b[36m──\u001b[39m \u001b[1m\u001b[1mColumn specification\u001b[1m\u001b[22m \u001b[36m────────────────────────────────────────────────────────────────────────────────────────────────────────────────────────────────────────────────────\u001b[39m\n",
      "\u001b[1mDelimiter:\u001b[22m \"\\t\"\n",
      "\u001b[31mchr\u001b[39m (3): SNP, A1, A2\n",
      "\u001b[32mdbl\u001b[39m (4): Z, N, chi2, P\n",
      "\n",
      "\n",
      "\u001b[36mℹ\u001b[39m Use \u001b[30m\u001b[47m\u001b[30m\u001b[47m`spec()`\u001b[47m\u001b[30m\u001b[49m\u001b[39m to retrieve the full column specification for this data.\n",
      "\u001b[36mℹ\u001b[39m Specify the column types or set \u001b[30m\u001b[47m\u001b[30m\u001b[47m`show_col_types = FALSE`\u001b[47m\u001b[30m\u001b[49m\u001b[39m to quiet this message.\n",
      "\n",
      "\u001b[1m\u001b[1mRows: \u001b[1m\u001b[22m\u001b[34m\u001b[34m1037702\u001b[34m\u001b[39m \u001b[1m\u001b[1mColumns: \u001b[1m\u001b[22m\u001b[34m\u001b[34m7\u001b[34m\u001b[39m\n",
      "\n",
      "\u001b[36m──\u001b[39m \u001b[1m\u001b[1mColumn specification\u001b[1m\u001b[22m \u001b[36m────────────────────────────────────────────────────────────────────────────────────────────────────────────────────────────────────────────────────\u001b[39m\n",
      "\u001b[1mDelimiter:\u001b[22m \"\\t\"\n",
      "\u001b[31mchr\u001b[39m (3): SNP, A1, A2\n",
      "\u001b[32mdbl\u001b[39m (4): Z, N, chi2, P\n",
      "\n",
      "\n",
      "\u001b[36mℹ\u001b[39m Use \u001b[30m\u001b[47m\u001b[30m\u001b[47m`spec()`\u001b[47m\u001b[30m\u001b[49m\u001b[39m to retrieve the full column specification for this data.\n",
      "\u001b[36mℹ\u001b[39m Specify the column types or set \u001b[30m\u001b[47m\u001b[30m\u001b[47m`show_col_types = FALSE`\u001b[47m\u001b[30m\u001b[49m\u001b[39m to quiet this message.\n",
      "\n"
     ]
    },
    {
     "name": "stdout",
     "output_type": "stream",
     "text": [
      "Formatting X1\n",
      "There are  910374  variants.\n",
      "Removing  0  duplicated variants leaving  910374 variants.\n",
      "No variants have illegal alleles.\n",
      "Removed  0  variants with ambiguous strand.\n",
      "Flipping strand and effect allele so A1 is always A\n",
      "Returning  910374  variants.\n",
      "Formatting X2\n",
      "There are  1037702  variants.\n",
      "Removing  0  duplicated variants leaving  1037702 variants.\n",
      "No variants have illegal alleles.\n",
      "Removed  0  variants with ambiguous strand.\n",
      "Flipping strand and effect allele so A1 is always A\n",
      "Returning  1037702  variants.\n",
      "After merging and removing variants with inconsistent alleles,  there are  845857  variants that are present in both studies and can be used with CAUSE.\n"
     ]
    },
    {
     "name": "stderr",
     "output_type": "stream",
     "text": [
      "Clumping rpCbYR, 5040 variants, using EUR population reference\n",
      "\n",
      "Removing 4241 of 5040 variants due to LD with other variants or absence from LD reference panel\n",
      "\n"
     ]
    },
    {
     "name": "stdout",
     "output_type": "stream",
     "text": [
      "Estimating CAUSE parameters with  845857  variants.\n",
      "1 0.02624883 \n",
      "2 4.745663e-06 \n",
      "3 3.767823e-09 \n",
      "Estimating CAUSE posteriors using  799  variants.\n"
     ]
    },
    {
     "name": "stderr",
     "output_type": "stream",
     "text": [
      "Warning message:\n",
      "“'compare' is deprecated.\n",
      "Use 'loo_compare' instead.\n",
      "See help(\"Deprecated\")”\n"
     ]
    },
    {
     "name": "stdout",
     "output_type": "stream",
     "text": [
      "    user   system  elapsed \n",
      "1697.501 1647.685  315.913 \n",
      "Anorexia ~ Hair_Blonde \n"
     ]
    },
    {
     "name": "stderr",
     "output_type": "stream",
     "text": [
      "\u001b[1m\u001b[1mRows: \u001b[1m\u001b[22m\u001b[34m\u001b[34m910374\u001b[34m\u001b[39m \u001b[1m\u001b[1mColumns: \u001b[1m\u001b[22m\u001b[34m\u001b[34m7\u001b[34m\u001b[39m\n",
      "\n",
      "\u001b[36m──\u001b[39m \u001b[1m\u001b[1mColumn specification\u001b[1m\u001b[22m \u001b[36m────────────────────────────────────────────────────────────────────────────────────────────────────────────────────────────────────────────────────\u001b[39m\n",
      "\u001b[1mDelimiter:\u001b[22m \"\\t\"\n",
      "\u001b[31mchr\u001b[39m (3): SNP, A1, A2\n",
      "\u001b[32mdbl\u001b[39m (4): Z, N, chi2, P\n",
      "\n",
      "\n",
      "\u001b[36mℹ\u001b[39m Use \u001b[30m\u001b[47m\u001b[30m\u001b[47m`spec()`\u001b[47m\u001b[30m\u001b[49m\u001b[39m to retrieve the full column specification for this data.\n",
      "\u001b[36mℹ\u001b[39m Specify the column types or set \u001b[30m\u001b[47m\u001b[30m\u001b[47m`show_col_types = FALSE`\u001b[47m\u001b[30m\u001b[49m\u001b[39m to quiet this message.\n",
      "\n",
      "\u001b[1m\u001b[1mRows: \u001b[1m\u001b[22m\u001b[34m\u001b[34m1037533\u001b[34m\u001b[39m \u001b[1m\u001b[1mColumns: \u001b[1m\u001b[22m\u001b[34m\u001b[34m7\u001b[34m\u001b[39m\n",
      "\n",
      "\u001b[36m──\u001b[39m \u001b[1m\u001b[1mColumn specification\u001b[1m\u001b[22m \u001b[36m────────────────────────────────────────────────────────────────────────────────────────────────────────────────────────────────────────────────────\u001b[39m\n",
      "\u001b[1mDelimiter:\u001b[22m \"\\t\"\n",
      "\u001b[31mchr\u001b[39m (3): SNP, A1, A2\n",
      "\u001b[32mdbl\u001b[39m (4): Z, N, chi2, P\n",
      "\n",
      "\n",
      "\u001b[36mℹ\u001b[39m Use \u001b[30m\u001b[47m\u001b[30m\u001b[47m`spec()`\u001b[47m\u001b[30m\u001b[49m\u001b[39m to retrieve the full column specification for this data.\n",
      "\u001b[36mℹ\u001b[39m Specify the column types or set \u001b[30m\u001b[47m\u001b[30m\u001b[47m`show_col_types = FALSE`\u001b[47m\u001b[30m\u001b[49m\u001b[39m to quiet this message.\n",
      "\n"
     ]
    },
    {
     "name": "stdout",
     "output_type": "stream",
     "text": [
      "Formatting X1\n",
      "There are  910374  variants.\n",
      "Removing  0  duplicated variants leaving  910374 variants.\n",
      "No variants have illegal alleles.\n",
      "Removed  0  variants with ambiguous strand.\n",
      "Flipping strand and effect allele so A1 is always A\n",
      "Returning  910374  variants.\n",
      "Formatting X2\n",
      "There are  1037533  variants.\n",
      "Removing  0  duplicated variants leaving  1037533 variants.\n",
      "No variants have illegal alleles.\n",
      "Removed  0  variants with ambiguous strand.\n",
      "Flipping strand and effect allele so A1 is always A\n",
      "Returning  1037533  variants.\n",
      "After merging and removing variants with inconsistent alleles,  there are  845703  variants that are present in both studies and can be used with CAUSE.\n"
     ]
    },
    {
     "name": "stderr",
     "output_type": "stream",
     "text": [
      "Clumping nJHspz, 5040 variants, using EUR population reference\n",
      "\n",
      "Removing 4241 of 5040 variants due to LD with other variants or absence from LD reference panel\n",
      "\n"
     ]
    },
    {
     "name": "stdout",
     "output_type": "stream",
     "text": [
      "Estimating CAUSE parameters with  845703  variants.\n",
      "1 0.03237911 \n",
      "2 5.096321e-05 \n",
      "3 1.688046e-07 \n",
      "4 2.601049e-09 \n",
      "Estimating CAUSE posteriors using  799  variants.\n"
     ]
    },
    {
     "name": "stderr",
     "output_type": "stream",
     "text": [
      "Warning message:\n",
      "“'compare' is deprecated.\n",
      "Use 'loo_compare' instead.\n",
      "See help(\"Deprecated\")”\n"
     ]
    },
    {
     "name": "stdout",
     "output_type": "stream",
     "text": [
      "    user   system  elapsed \n",
      "2085.936 1965.181  375.750 \n",
      "Anorexia ~ Tanning \n"
     ]
    },
    {
     "name": "stderr",
     "output_type": "stream",
     "text": [
      "\u001b[1m\u001b[1mRows: \u001b[1m\u001b[22m\u001b[34m\u001b[34m910374\u001b[34m\u001b[39m \u001b[1m\u001b[1mColumns: \u001b[1m\u001b[22m\u001b[34m\u001b[34m7\u001b[34m\u001b[39m\n",
      "\n",
      "\u001b[36m──\u001b[39m \u001b[1m\u001b[1mColumn specification\u001b[1m\u001b[22m \u001b[36m────────────────────────────────────────────────────────────────────────────────────────────────────────────────────────────────────────────────────\u001b[39m\n",
      "\u001b[1mDelimiter:\u001b[22m \"\\t\"\n",
      "\u001b[31mchr\u001b[39m (3): SNP, A1, A2\n",
      "\u001b[32mdbl\u001b[39m (4): Z, N, chi2, P\n",
      "\n",
      "\n",
      "\u001b[36mℹ\u001b[39m Use \u001b[30m\u001b[47m\u001b[30m\u001b[47m`spec()`\u001b[47m\u001b[30m\u001b[49m\u001b[39m to retrieve the full column specification for this data.\n",
      "\u001b[36mℹ\u001b[39m Specify the column types or set \u001b[30m\u001b[47m\u001b[30m\u001b[47m`show_col_types = FALSE`\u001b[47m\u001b[30m\u001b[49m\u001b[39m to quiet this message.\n",
      "\n",
      "\u001b[1m\u001b[1mRows: \u001b[1m\u001b[22m\u001b[34m\u001b[34m1037026\u001b[34m\u001b[39m \u001b[1m\u001b[1mColumns: \u001b[1m\u001b[22m\u001b[34m\u001b[34m7\u001b[34m\u001b[39m\n",
      "\n",
      "\u001b[36m──\u001b[39m \u001b[1m\u001b[1mColumn specification\u001b[1m\u001b[22m \u001b[36m────────────────────────────────────────────────────────────────────────────────────────────────────────────────────────────────────────────────────\u001b[39m\n",
      "\u001b[1mDelimiter:\u001b[22m \"\\t\"\n",
      "\u001b[31mchr\u001b[39m (3): SNP, A1, A2\n",
      "\u001b[32mdbl\u001b[39m (4): Z, N, chi2, P\n",
      "\n",
      "\n",
      "\u001b[36mℹ\u001b[39m Use \u001b[30m\u001b[47m\u001b[30m\u001b[47m`spec()`\u001b[47m\u001b[30m\u001b[49m\u001b[39m to retrieve the full column specification for this data.\n",
      "\u001b[36mℹ\u001b[39m Specify the column types or set \u001b[30m\u001b[47m\u001b[30m\u001b[47m`show_col_types = FALSE`\u001b[47m\u001b[30m\u001b[49m\u001b[39m to quiet this message.\n",
      "\n"
     ]
    },
    {
     "name": "stdout",
     "output_type": "stream",
     "text": [
      "Formatting X1\n",
      "There are  910374  variants.\n",
      "Removing  0  duplicated variants leaving  910374 variants.\n",
      "No variants have illegal alleles.\n",
      "Removed  0  variants with ambiguous strand.\n",
      "Flipping strand and effect allele so A1 is always A\n",
      "Returning  910374  variants.\n",
      "Formatting X2\n",
      "There are  1037026  variants.\n",
      "Removing  0  duplicated variants leaving  1037026 variants.\n",
      "No variants have illegal alleles.\n",
      "Removed  0  variants with ambiguous strand.\n",
      "Flipping strand and effect allele so A1 is always A\n",
      "Returning  1037026  variants.\n",
      "After merging and removing variants with inconsistent alleles,  there are  845252  variants that are present in both studies and can be used with CAUSE.\n"
     ]
    },
    {
     "name": "stderr",
     "output_type": "stream",
     "text": [
      "Clumping 2RwRJI, 5036 variants, using EUR population reference\n",
      "\n",
      "Removing 4237 of 5036 variants due to LD with other variants or absence from LD reference panel\n",
      "\n"
     ]
    },
    {
     "name": "stdout",
     "output_type": "stream",
     "text": [
      "Estimating CAUSE parameters with  845252  variants.\n",
      "1 0.04619887 \n",
      "2 4.575911e-05 \n",
      "3 1.647227e-07 \n",
      "4 9.126693e-10 \n",
      "Estimating CAUSE posteriors using  799  variants.\n"
     ]
    },
    {
     "name": "stderr",
     "output_type": "stream",
     "text": [
      "Warning message:\n",
      "“'compare' is deprecated.\n",
      "Use 'loo_compare' instead.\n",
      "See help(\"Deprecated\")”\n"
     ]
    },
    {
     "name": "stdout",
     "output_type": "stream",
     "text": [
      "    user   system  elapsed \n",
      "1968.583 1838.653  377.979 \n",
      "CD ~ Hair_Light_Brown \n"
     ]
    },
    {
     "name": "stderr",
     "output_type": "stream",
     "text": [
      "\u001b[1m\u001b[1mRows: \u001b[1m\u001b[22m\u001b[34m\u001b[34m1004565\u001b[34m\u001b[39m \u001b[1m\u001b[1mColumns: \u001b[1m\u001b[22m\u001b[34m\u001b[34m7\u001b[34m\u001b[39m\n",
      "\n",
      "\u001b[36m──\u001b[39m \u001b[1m\u001b[1mColumn specification\u001b[1m\u001b[22m \u001b[36m────────────────────────────────────────────────────────────────────────────────────────────────────────────────────────────────────────────────────\u001b[39m\n",
      "\u001b[1mDelimiter:\u001b[22m \"\\t\"\n",
      "\u001b[31mchr\u001b[39m (3): SNP, A1, A2\n",
      "\u001b[32mdbl\u001b[39m (4): Z, N, chi2, P\n",
      "\n",
      "\n",
      "\u001b[36mℹ\u001b[39m Use \u001b[30m\u001b[47m\u001b[30m\u001b[47m`spec()`\u001b[47m\u001b[30m\u001b[49m\u001b[39m to retrieve the full column specification for this data.\n",
      "\u001b[36mℹ\u001b[39m Specify the column types or set \u001b[30m\u001b[47m\u001b[30m\u001b[47m`show_col_types = FALSE`\u001b[47m\u001b[30m\u001b[49m\u001b[39m to quiet this message.\n",
      "\n",
      "\u001b[1m\u001b[1mRows: \u001b[1m\u001b[22m\u001b[34m\u001b[34m1037742\u001b[34m\u001b[39m \u001b[1m\u001b[1mColumns: \u001b[1m\u001b[22m\u001b[34m\u001b[34m7\u001b[34m\u001b[39m\n",
      "\n",
      "\u001b[36m──\u001b[39m \u001b[1m\u001b[1mColumn specification\u001b[1m\u001b[22m \u001b[36m────────────────────────────────────────────────────────────────────────────────────────────────────────────────────────────────────────────────────\u001b[39m\n",
      "\u001b[1mDelimiter:\u001b[22m \"\\t\"\n",
      "\u001b[31mchr\u001b[39m (3): SNP, A1, A2\n",
      "\u001b[32mdbl\u001b[39m (4): Z, N, chi2, P\n",
      "\n",
      "\n",
      "\u001b[36mℹ\u001b[39m Use \u001b[30m\u001b[47m\u001b[30m\u001b[47m`spec()`\u001b[47m\u001b[30m\u001b[49m\u001b[39m to retrieve the full column specification for this data.\n",
      "\u001b[36mℹ\u001b[39m Specify the column types or set \u001b[30m\u001b[47m\u001b[30m\u001b[47m`show_col_types = FALSE`\u001b[47m\u001b[30m\u001b[49m\u001b[39m to quiet this message.\n",
      "\n"
     ]
    },
    {
     "name": "stdout",
     "output_type": "stream",
     "text": [
      "Formatting X1\n",
      "There are  1004565  variants.\n",
      "Removing  0  duplicated variants leaving  1004565 variants.\n",
      "No variants have illegal alleles.\n",
      "Removed  0  variants with ambiguous strand.\n",
      "Flipping strand and effect allele so A1 is always A\n",
      "Returning  1004565  variants.\n",
      "Formatting X2\n",
      "There are  1037742  variants.\n",
      "Removing  0  duplicated variants leaving  1037742 variants.\n",
      "No variants have illegal alleles.\n",
      "Removed  0  variants with ambiguous strand.\n",
      "Flipping strand and effect allele so A1 is always A\n",
      "Returning  1037742  variants.\n",
      "After merging and removing variants with inconsistent alleles,  there are  1004484  variants that are present in both studies and can be used with CAUSE.\n"
     ]
    },
    {
     "name": "stderr",
     "output_type": "stream",
     "text": [
      "Clumping XQpGPc, 10469 variants, using EUR population reference\n",
      "\n",
      "Removing 8937 of 10469 variants due to LD with other variants or absence from LD reference panel\n",
      "\n"
     ]
    },
    {
     "name": "stdout",
     "output_type": "stream",
     "text": [
      "Estimating CAUSE parameters with  1000000  variants.\n",
      "1 0.006107192 \n",
      "2 4.566312e-06 \n",
      "3 3.630506e-09 \n",
      "Estimating CAUSE posteriors using  1532  variants.\n"
     ]
    },
    {
     "name": "stderr",
     "output_type": "stream",
     "text": [
      "Warning message:\n",
      "“'compare' is deprecated.\n",
      "Use 'loo_compare' instead.\n",
      "See help(\"Deprecated\")”\n"
     ]
    },
    {
     "name": "stdout",
     "output_type": "stream",
     "text": [
      "    user   system  elapsed \n",
      "2428.122 1478.739  442.722 \n",
      "CD ~ Hair_Dark_Brown \n"
     ]
    },
    {
     "name": "stderr",
     "output_type": "stream",
     "text": [
      "\u001b[1m\u001b[1mRows: \u001b[1m\u001b[22m\u001b[34m\u001b[34m1004565\u001b[34m\u001b[39m \u001b[1m\u001b[1mColumns: \u001b[1m\u001b[22m\u001b[34m\u001b[34m7\u001b[34m\u001b[39m\n",
      "\n",
      "\u001b[36m──\u001b[39m \u001b[1m\u001b[1mColumn specification\u001b[1m\u001b[22m \u001b[36m────────────────────────────────────────────────────────────────────────────────────────────────────────────────────────────────────────────────────\u001b[39m\n",
      "\u001b[1mDelimiter:\u001b[22m \"\\t\"\n",
      "\u001b[31mchr\u001b[39m (3): SNP, A1, A2\n",
      "\u001b[32mdbl\u001b[39m (4): Z, N, chi2, P\n",
      "\n",
      "\n",
      "\u001b[36mℹ\u001b[39m Use \u001b[30m\u001b[47m\u001b[30m\u001b[47m`spec()`\u001b[47m\u001b[30m\u001b[49m\u001b[39m to retrieve the full column specification for this data.\n",
      "\u001b[36mℹ\u001b[39m Specify the column types or set \u001b[30m\u001b[47m\u001b[30m\u001b[47m`show_col_types = FALSE`\u001b[47m\u001b[30m\u001b[49m\u001b[39m to quiet this message.\n",
      "\n",
      "\u001b[1m\u001b[1mRows: \u001b[1m\u001b[22m\u001b[34m\u001b[34m1037381\u001b[34m\u001b[39m \u001b[1m\u001b[1mColumns: \u001b[1m\u001b[22m\u001b[34m\u001b[34m7\u001b[34m\u001b[39m\n",
      "\n",
      "\u001b[36m──\u001b[39m \u001b[1m\u001b[1mColumn specification\u001b[1m\u001b[22m \u001b[36m────────────────────────────────────────────────────────────────────────────────────────────────────────────────────────────────────────────────────\u001b[39m\n",
      "\u001b[1mDelimiter:\u001b[22m \"\\t\"\n",
      "\u001b[31mchr\u001b[39m (3): SNP, A1, A2\n",
      "\u001b[32mdbl\u001b[39m (4): Z, N, chi2, P\n",
      "\n",
      "\n",
      "\u001b[36mℹ\u001b[39m Use \u001b[30m\u001b[47m\u001b[30m\u001b[47m`spec()`\u001b[47m\u001b[30m\u001b[49m\u001b[39m to retrieve the full column specification for this data.\n",
      "\u001b[36mℹ\u001b[39m Specify the column types or set \u001b[30m\u001b[47m\u001b[30m\u001b[47m`show_col_types = FALSE`\u001b[47m\u001b[30m\u001b[49m\u001b[39m to quiet this message.\n",
      "\n"
     ]
    },
    {
     "name": "stdout",
     "output_type": "stream",
     "text": [
      "Formatting X1\n",
      "There are  1004565  variants.\n",
      "Removing  0  duplicated variants leaving  1004565 variants.\n",
      "No variants have illegal alleles.\n",
      "Removed  0  variants with ambiguous strand.\n",
      "Flipping strand and effect allele so A1 is always A\n",
      "Returning  1004565  variants.\n",
      "Formatting X2\n",
      "There are  1037381  variants.\n",
      "Removing  0  duplicated variants leaving  1037381 variants.\n",
      "No variants have illegal alleles.\n",
      "Removed  0  variants with ambiguous strand.\n",
      "Flipping strand and effect allele so A1 is always A\n",
      "Returning  1037381  variants.\n",
      "After merging and removing variants with inconsistent alleles,  there are  1004136  variants that are present in both studies and can be used with CAUSE.\n"
     ]
    },
    {
     "name": "stderr",
     "output_type": "stream",
     "text": [
      "Clumping 9ywPWf, 10468 variants, using EUR population reference\n",
      "\n",
      "Removing 8937 of 10468 variants due to LD with other variants or absence from LD reference panel\n",
      "\n"
     ]
    },
    {
     "name": "stdout",
     "output_type": "stream",
     "text": [
      "Estimating CAUSE parameters with  1000000  variants.\n",
      "1 0.009795906 \n",
      "2 3.725149e-06 \n",
      "3 2.821833e-10 \n",
      "Estimating CAUSE posteriors using  1531  variants.\n"
     ]
    },
    {
     "name": "stderr",
     "output_type": "stream",
     "text": [
      "Warning message:\n",
      "“'compare' is deprecated.\n",
      "Use 'loo_compare' instead.\n",
      "See help(\"Deprecated\")”\n"
     ]
    },
    {
     "name": "stdout",
     "output_type": "stream",
     "text": [
      "    user   system  elapsed \n",
      "2478.996 1757.153  462.295 \n",
      "CD ~ Hair_Black \n"
     ]
    },
    {
     "name": "stderr",
     "output_type": "stream",
     "text": [
      "\u001b[1m\u001b[1mRows: \u001b[1m\u001b[22m\u001b[34m\u001b[34m1004565\u001b[34m\u001b[39m \u001b[1m\u001b[1mColumns: \u001b[1m\u001b[22m\u001b[34m\u001b[34m7\u001b[34m\u001b[39m\n",
      "\n",
      "\u001b[36m──\u001b[39m \u001b[1m\u001b[1mColumn specification\u001b[1m\u001b[22m \u001b[36m────────────────────────────────────────────────────────────────────────────────────────────────────────────────────────────────────────────────────\u001b[39m\n",
      "\u001b[1mDelimiter:\u001b[22m \"\\t\"\n",
      "\u001b[31mchr\u001b[39m (3): SNP, A1, A2\n",
      "\u001b[32mdbl\u001b[39m (4): Z, N, chi2, P\n",
      "\n",
      "\n",
      "\u001b[36mℹ\u001b[39m Use \u001b[30m\u001b[47m\u001b[30m\u001b[47m`spec()`\u001b[47m\u001b[30m\u001b[49m\u001b[39m to retrieve the full column specification for this data.\n",
      "\u001b[36mℹ\u001b[39m Specify the column types or set \u001b[30m\u001b[47m\u001b[30m\u001b[47m`show_col_types = FALSE`\u001b[47m\u001b[30m\u001b[49m\u001b[39m to quiet this message.\n",
      "\n",
      "\u001b[1m\u001b[1mRows: \u001b[1m\u001b[22m\u001b[34m\u001b[34m1037702\u001b[34m\u001b[39m \u001b[1m\u001b[1mColumns: \u001b[1m\u001b[22m\u001b[34m\u001b[34m7\u001b[34m\u001b[39m\n",
      "\n",
      "\u001b[36m──\u001b[39m \u001b[1m\u001b[1mColumn specification\u001b[1m\u001b[22m \u001b[36m────────────────────────────────────────────────────────────────────────────────────────────────────────────────────────────────────────────────────\u001b[39m\n",
      "\u001b[1mDelimiter:\u001b[22m \"\\t\"\n",
      "\u001b[31mchr\u001b[39m (3): SNP, A1, A2\n",
      "\u001b[32mdbl\u001b[39m (4): Z, N, chi2, P\n",
      "\n",
      "\n",
      "\u001b[36mℹ\u001b[39m Use \u001b[30m\u001b[47m\u001b[30m\u001b[47m`spec()`\u001b[47m\u001b[30m\u001b[49m\u001b[39m to retrieve the full column specification for this data.\n",
      "\u001b[36mℹ\u001b[39m Specify the column types or set \u001b[30m\u001b[47m\u001b[30m\u001b[47m`show_col_types = FALSE`\u001b[47m\u001b[30m\u001b[49m\u001b[39m to quiet this message.\n",
      "\n"
     ]
    },
    {
     "name": "stdout",
     "output_type": "stream",
     "text": [
      "Formatting X1\n",
      "There are  1004565  variants.\n",
      "Removing  0  duplicated variants leaving  1004565 variants.\n",
      "No variants have illegal alleles.\n",
      "Removed  0  variants with ambiguous strand.\n",
      "Flipping strand and effect allele so A1 is always A\n",
      "Returning  1004565  variants.\n",
      "Formatting X2\n",
      "There are  1037702  variants.\n",
      "Removing  0  duplicated variants leaving  1037702 variants.\n",
      "No variants have illegal alleles.\n",
      "Removed  0  variants with ambiguous strand.\n",
      "Flipping strand and effect allele so A1 is always A\n",
      "Returning  1037702  variants.\n",
      "After merging and removing variants with inconsistent alleles,  there are  1004445  variants that are present in both studies and can be used with CAUSE.\n"
     ]
    },
    {
     "name": "stderr",
     "output_type": "stream",
     "text": [
      "Clumping c7cPJw, 10468 variants, using EUR population reference\n",
      "\n",
      "Removing 8937 of 10468 variants due to LD with other variants or absence from LD reference panel\n",
      "\n"
     ]
    },
    {
     "name": "stdout",
     "output_type": "stream",
     "text": [
      "Estimating CAUSE parameters with  1000000  variants.\n",
      "1 0.01472098 \n",
      "2 8.046833e-06 \n",
      "3 7.611729e-09 \n",
      "Estimating CAUSE posteriors using  1531  variants.\n"
     ]
    },
    {
     "name": "stderr",
     "output_type": "stream",
     "text": [
      "Warning message:\n",
      "“'compare' is deprecated.\n",
      "Use 'loo_compare' instead.\n",
      "See help(\"Deprecated\")”\n"
     ]
    },
    {
     "name": "stdout",
     "output_type": "stream",
     "text": [
      "    user   system  elapsed \n",
      "2138.183 1741.504  397.216 \n",
      "CD ~ Hair_Blonde \n"
     ]
    },
    {
     "name": "stderr",
     "output_type": "stream",
     "text": [
      "\u001b[1m\u001b[1mRows: \u001b[1m\u001b[22m\u001b[34m\u001b[34m1004565\u001b[34m\u001b[39m \u001b[1m\u001b[1mColumns: \u001b[1m\u001b[22m\u001b[34m\u001b[34m7\u001b[34m\u001b[39m\n",
      "\n",
      "\u001b[36m──\u001b[39m \u001b[1m\u001b[1mColumn specification\u001b[1m\u001b[22m \u001b[36m────────────────────────────────────────────────────────────────────────────────────────────────────────────────────────────────────────────────────\u001b[39m\n",
      "\u001b[1mDelimiter:\u001b[22m \"\\t\"\n",
      "\u001b[31mchr\u001b[39m (3): SNP, A1, A2\n",
      "\u001b[32mdbl\u001b[39m (4): Z, N, chi2, P\n",
      "\n",
      "\n",
      "\u001b[36mℹ\u001b[39m Use \u001b[30m\u001b[47m\u001b[30m\u001b[47m`spec()`\u001b[47m\u001b[30m\u001b[49m\u001b[39m to retrieve the full column specification for this data.\n",
      "\u001b[36mℹ\u001b[39m Specify the column types or set \u001b[30m\u001b[47m\u001b[30m\u001b[47m`show_col_types = FALSE`\u001b[47m\u001b[30m\u001b[49m\u001b[39m to quiet this message.\n",
      "\n",
      "\u001b[1m\u001b[1mRows: \u001b[1m\u001b[22m\u001b[34m\u001b[34m1037533\u001b[34m\u001b[39m \u001b[1m\u001b[1mColumns: \u001b[1m\u001b[22m\u001b[34m\u001b[34m7\u001b[34m\u001b[39m\n",
      "\n",
      "\u001b[36m──\u001b[39m \u001b[1m\u001b[1mColumn specification\u001b[1m\u001b[22m \u001b[36m────────────────────────────────────────────────────────────────────────────────────────────────────────────────────────────────────────────────────\u001b[39m\n",
      "\u001b[1mDelimiter:\u001b[22m \"\\t\"\n",
      "\u001b[31mchr\u001b[39m (3): SNP, A1, A2\n",
      "\u001b[32mdbl\u001b[39m (4): Z, N, chi2, P\n",
      "\n",
      "\n",
      "\u001b[36mℹ\u001b[39m Use \u001b[30m\u001b[47m\u001b[30m\u001b[47m`spec()`\u001b[47m\u001b[30m\u001b[49m\u001b[39m to retrieve the full column specification for this data.\n",
      "\u001b[36mℹ\u001b[39m Specify the column types or set \u001b[30m\u001b[47m\u001b[30m\u001b[47m`show_col_types = FALSE`\u001b[47m\u001b[30m\u001b[49m\u001b[39m to quiet this message.\n",
      "\n"
     ]
    },
    {
     "name": "stdout",
     "output_type": "stream",
     "text": [
      "Formatting X1\n",
      "There are  1004565  variants.\n",
      "Removing  0  duplicated variants leaving  1004565 variants.\n",
      "No variants have illegal alleles.\n",
      "Removed  0  variants with ambiguous strand.\n",
      "Flipping strand and effect allele so A1 is always A\n",
      "Returning  1004565  variants.\n",
      "Formatting X2\n",
      "There are  1037533  variants.\n",
      "Removing  0  duplicated variants leaving  1037533 variants.\n",
      "No variants have illegal alleles.\n",
      "Removed  0  variants with ambiguous strand.\n",
      "Flipping strand and effect allele so A1 is always A\n",
      "Returning  1037533  variants.\n",
      "After merging and removing variants with inconsistent alleles,  there are  1004283  variants that are present in both studies and can be used with CAUSE.\n"
     ]
    },
    {
     "name": "stderr",
     "output_type": "stream",
     "text": [
      "Clumping G269gQ, 10468 variants, using EUR population reference\n",
      "\n",
      "Removing 8937 of 10468 variants due to LD with other variants or absence from LD reference panel\n",
      "\n"
     ]
    },
    {
     "name": "stdout",
     "output_type": "stream",
     "text": [
      "Estimating CAUSE parameters with  1000000  variants.\n",
      "1 0.001377566 \n",
      "2 6.226609e-07 \n",
      "3 2.857101e-10 \n",
      "Estimating CAUSE posteriors using  1531  variants.\n"
     ]
    },
    {
     "name": "stderr",
     "output_type": "stream",
     "text": [
      "Warning message:\n",
      "“'compare' is deprecated.\n",
      "Use 'loo_compare' instead.\n",
      "See help(\"Deprecated\")”\n"
     ]
    },
    {
     "name": "stdout",
     "output_type": "stream",
     "text": [
      "    user   system  elapsed \n",
      "2337.286 1738.831  425.996 \n",
      "CD ~ Tanning \n"
     ]
    },
    {
     "name": "stderr",
     "output_type": "stream",
     "text": [
      "\u001b[1m\u001b[1mRows: \u001b[1m\u001b[22m\u001b[34m\u001b[34m1004565\u001b[34m\u001b[39m \u001b[1m\u001b[1mColumns: \u001b[1m\u001b[22m\u001b[34m\u001b[34m7\u001b[34m\u001b[39m\n",
      "\n",
      "\u001b[36m──\u001b[39m \u001b[1m\u001b[1mColumn specification\u001b[1m\u001b[22m \u001b[36m────────────────────────────────────────────────────────────────────────────────────────────────────────────────────────────────────────────────────\u001b[39m\n",
      "\u001b[1mDelimiter:\u001b[22m \"\\t\"\n",
      "\u001b[31mchr\u001b[39m (3): SNP, A1, A2\n",
      "\u001b[32mdbl\u001b[39m (4): Z, N, chi2, P\n",
      "\n",
      "\n",
      "\u001b[36mℹ\u001b[39m Use \u001b[30m\u001b[47m\u001b[30m\u001b[47m`spec()`\u001b[47m\u001b[30m\u001b[49m\u001b[39m to retrieve the full column specification for this data.\n",
      "\u001b[36mℹ\u001b[39m Specify the column types or set \u001b[30m\u001b[47m\u001b[30m\u001b[47m`show_col_types = FALSE`\u001b[47m\u001b[30m\u001b[49m\u001b[39m to quiet this message.\n",
      "\n",
      "\u001b[1m\u001b[1mRows: \u001b[1m\u001b[22m\u001b[34m\u001b[34m1037026\u001b[34m\u001b[39m \u001b[1m\u001b[1mColumns: \u001b[1m\u001b[22m\u001b[34m\u001b[34m7\u001b[34m\u001b[39m\n",
      "\n",
      "\u001b[36m──\u001b[39m \u001b[1m\u001b[1mColumn specification\u001b[1m\u001b[22m \u001b[36m────────────────────────────────────────────────────────────────────────────────────────────────────────────────────────────────────────────────────\u001b[39m\n",
      "\u001b[1mDelimiter:\u001b[22m \"\\t\"\n",
      "\u001b[31mchr\u001b[39m (3): SNP, A1, A2\n",
      "\u001b[32mdbl\u001b[39m (4): Z, N, chi2, P\n",
      "\n",
      "\n",
      "\u001b[36mℹ\u001b[39m Use \u001b[30m\u001b[47m\u001b[30m\u001b[47m`spec()`\u001b[47m\u001b[30m\u001b[49m\u001b[39m to retrieve the full column specification for this data.\n",
      "\u001b[36mℹ\u001b[39m Specify the column types or set \u001b[30m\u001b[47m\u001b[30m\u001b[47m`show_col_types = FALSE`\u001b[47m\u001b[30m\u001b[49m\u001b[39m to quiet this message.\n",
      "\n"
     ]
    },
    {
     "name": "stdout",
     "output_type": "stream",
     "text": [
      "Formatting X1\n",
      "There are  1004565  variants.\n",
      "Removing  0  duplicated variants leaving  1004565 variants.\n",
      "No variants have illegal alleles.\n",
      "Removed  0  variants with ambiguous strand.\n",
      "Flipping strand and effect allele so A1 is always A\n",
      "Returning  1004565  variants.\n",
      "Formatting X2\n",
      "There are  1037026  variants.\n",
      "Removing  0  duplicated variants leaving  1037026 variants.\n",
      "No variants have illegal alleles.\n",
      "Removed  0  variants with ambiguous strand.\n",
      "Flipping strand and effect allele so A1 is always A\n",
      "Returning  1037026  variants.\n",
      "After merging and removing variants with inconsistent alleles,  there are  1003794  variants that are present in both studies and can be used with CAUSE.\n"
     ]
    },
    {
     "name": "stderr",
     "output_type": "stream",
     "text": [
      "Clumping ojOdXa, 10466 variants, using EUR population reference\n",
      "\n",
      "Removing 8935 of 10466 variants due to LD with other variants or absence from LD reference panel\n",
      "\n"
     ]
    },
    {
     "name": "stdout",
     "output_type": "stream",
     "text": [
      "Estimating CAUSE parameters with  1000000  variants.\n",
      "1 0.03458535 \n",
      "2 5.339129e-05 \n",
      "3 1.397119e-07 \n",
      "4 4.315014e-10 \n",
      "Estimating CAUSE posteriors using  1531  variants.\n"
     ]
    },
    {
     "name": "stderr",
     "output_type": "stream",
     "text": [
      "Warning message:\n",
      "“'compare' is deprecated.\n",
      "Use 'loo_compare' instead.\n",
      "See help(\"Deprecated\")”\n"
     ]
    },
    {
     "name": "stdout",
     "output_type": "stream",
     "text": [
      "    user   system  elapsed \n",
      "2753.712 2000.417  499.056 \n",
      "Height_GIANT ~ Hair_Light_Brown \n"
     ]
    },
    {
     "name": "stderr",
     "output_type": "stream",
     "text": [
      "\u001b[1m\u001b[1mRows: \u001b[1m\u001b[22m\u001b[34m\u001b[34m961042\u001b[34m\u001b[39m \u001b[1m\u001b[1mColumns: \u001b[1m\u001b[22m\u001b[34m\u001b[34m7\u001b[34m\u001b[39m\n",
      "\n",
      "\u001b[36m──\u001b[39m \u001b[1m\u001b[1mColumn specification\u001b[1m\u001b[22m \u001b[36m────────────────────────────────────────────────────────────────────────────────────────────────────────────────────────────────────────────────────\u001b[39m\n",
      "\u001b[1mDelimiter:\u001b[22m \"\\t\"\n",
      "\u001b[31mchr\u001b[39m (3): SNP, A1, A2\n",
      "\u001b[32mdbl\u001b[39m (4): Z, N, chi2, P\n",
      "\n",
      "\n",
      "\u001b[36mℹ\u001b[39m Use \u001b[30m\u001b[47m\u001b[30m\u001b[47m`spec()`\u001b[47m\u001b[30m\u001b[49m\u001b[39m to retrieve the full column specification for this data.\n",
      "\u001b[36mℹ\u001b[39m Specify the column types or set \u001b[30m\u001b[47m\u001b[30m\u001b[47m`show_col_types = FALSE`\u001b[47m\u001b[30m\u001b[49m\u001b[39m to quiet this message.\n",
      "\n",
      "\u001b[1m\u001b[1mRows: \u001b[1m\u001b[22m\u001b[34m\u001b[34m1037742\u001b[34m\u001b[39m \u001b[1m\u001b[1mColumns: \u001b[1m\u001b[22m\u001b[34m\u001b[34m7\u001b[34m\u001b[39m\n",
      "\n",
      "\u001b[36m──\u001b[39m \u001b[1m\u001b[1mColumn specification\u001b[1m\u001b[22m \u001b[36m────────────────────────────────────────────────────────────────────────────────────────────────────────────────────────────────────────────────────\u001b[39m\n",
      "\u001b[1mDelimiter:\u001b[22m \"\\t\"\n",
      "\u001b[31mchr\u001b[39m (3): SNP, A1, A2\n",
      "\u001b[32mdbl\u001b[39m (4): Z, N, chi2, P\n",
      "\n",
      "\n",
      "\u001b[36mℹ\u001b[39m Use \u001b[30m\u001b[47m\u001b[30m\u001b[47m`spec()`\u001b[47m\u001b[30m\u001b[49m\u001b[39m to retrieve the full column specification for this data.\n",
      "\u001b[36mℹ\u001b[39m Specify the column types or set \u001b[30m\u001b[47m\u001b[30m\u001b[47m`show_col_types = FALSE`\u001b[47m\u001b[30m\u001b[49m\u001b[39m to quiet this message.\n",
      "\n"
     ]
    },
    {
     "name": "stdout",
     "output_type": "stream",
     "text": [
      "Formatting X1\n",
      "There are  961042  variants.\n",
      "Removing  0  duplicated variants leaving  961042 variants.\n",
      "No variants have illegal alleles.\n",
      "Removed  0  variants with ambiguous strand.\n",
      "Flipping strand and effect allele so A1 is always A\n",
      "Returning  961042  variants.\n",
      "Formatting X2\n",
      "There are  1037742  variants.\n",
      "Removing  0  duplicated variants leaving  1037742 variants.\n",
      "No variants have illegal alleles.\n",
      "Removed  0  variants with ambiguous strand.\n",
      "Flipping strand and effect allele so A1 is always A\n",
      "Returning  1037742  variants.\n",
      "After merging and removing variants with inconsistent alleles,  there are  908633  variants that are present in both studies and can be used with CAUSE.\n"
     ]
    },
    {
     "name": "stderr",
     "output_type": "stream",
     "text": [
      "Clumping bzwUf6, 49937 variants, using EUR population reference\n",
      "\n",
      "Removing 44597 of 49937 variants due to LD with other variants or absence from LD reference panel\n",
      "\n"
     ]
    },
    {
     "name": "stdout",
     "output_type": "stream",
     "text": [
      "Estimating CAUSE parameters with  908633  variants.\n",
      "1 0.1830916 \n",
      "2 0.0015437 \n",
      "3 7.267399e-05 \n",
      "4 3.445333e-06 \n",
      "5 1.638503e-07 \n",
      "6 7.515669e-09 \n",
      "Estimating CAUSE posteriors using  5340  variants.\n"
     ]
    },
    {
     "name": "stderr",
     "output_type": "stream",
     "text": [
      "Warning message:\n",
      "“'compare' is deprecated.\n",
      "Use 'loo_compare' instead.\n",
      "See help(\"Deprecated\")”\n"
     ]
    },
    {
     "name": "stdout",
     "output_type": "stream",
     "text": [
      "    user   system  elapsed \n",
      "5380.548 2629.805  652.590 \n",
      "Height_GIANT ~ Hair_Dark_Brown \n"
     ]
    },
    {
     "name": "stderr",
     "output_type": "stream",
     "text": [
      "\u001b[1m\u001b[1mRows: \u001b[1m\u001b[22m\u001b[34m\u001b[34m961042\u001b[34m\u001b[39m \u001b[1m\u001b[1mColumns: \u001b[1m\u001b[22m\u001b[34m\u001b[34m7\u001b[34m\u001b[39m\n",
      "\n",
      "\u001b[36m──\u001b[39m \u001b[1m\u001b[1mColumn specification\u001b[1m\u001b[22m \u001b[36m────────────────────────────────────────────────────────────────────────────────────────────────────────────────────────────────────────────────────\u001b[39m\n",
      "\u001b[1mDelimiter:\u001b[22m \"\\t\"\n",
      "\u001b[31mchr\u001b[39m (3): SNP, A1, A2\n",
      "\u001b[32mdbl\u001b[39m (4): Z, N, chi2, P\n",
      "\n",
      "\n",
      "\u001b[36mℹ\u001b[39m Use \u001b[30m\u001b[47m\u001b[30m\u001b[47m`spec()`\u001b[47m\u001b[30m\u001b[49m\u001b[39m to retrieve the full column specification for this data.\n",
      "\u001b[36mℹ\u001b[39m Specify the column types or set \u001b[30m\u001b[47m\u001b[30m\u001b[47m`show_col_types = FALSE`\u001b[47m\u001b[30m\u001b[49m\u001b[39m to quiet this message.\n",
      "\n",
      "\u001b[1m\u001b[1mRows: \u001b[1m\u001b[22m\u001b[34m\u001b[34m1037381\u001b[34m\u001b[39m \u001b[1m\u001b[1mColumns: \u001b[1m\u001b[22m\u001b[34m\u001b[34m7\u001b[34m\u001b[39m\n",
      "\n",
      "\u001b[36m──\u001b[39m \u001b[1m\u001b[1mColumn specification\u001b[1m\u001b[22m \u001b[36m────────────────────────────────────────────────────────────────────────────────────────────────────────────────────────────────────────────────────\u001b[39m\n",
      "\u001b[1mDelimiter:\u001b[22m \"\\t\"\n",
      "\u001b[31mchr\u001b[39m (3): SNP, A1, A2\n",
      "\u001b[32mdbl\u001b[39m (4): Z, N, chi2, P\n",
      "\n",
      "\n",
      "\u001b[36mℹ\u001b[39m Use \u001b[30m\u001b[47m\u001b[30m\u001b[47m`spec()`\u001b[47m\u001b[30m\u001b[49m\u001b[39m to retrieve the full column specification for this data.\n",
      "\u001b[36mℹ\u001b[39m Specify the column types or set \u001b[30m\u001b[47m\u001b[30m\u001b[47m`show_col_types = FALSE`\u001b[47m\u001b[30m\u001b[49m\u001b[39m to quiet this message.\n",
      "\n"
     ]
    },
    {
     "name": "stdout",
     "output_type": "stream",
     "text": [
      "Formatting X1\n",
      "There are  961042  variants.\n",
      "Removing  0  duplicated variants leaving  961042 variants.\n",
      "No variants have illegal alleles.\n",
      "Removed  0  variants with ambiguous strand.\n",
      "Flipping strand and effect allele so A1 is always A\n",
      "Returning  961042  variants.\n",
      "Formatting X2\n",
      "There are  1037381  variants.\n",
      "Removing  0  duplicated variants leaving  1037381 variants.\n",
      "No variants have illegal alleles.\n",
      "Removed  0  variants with ambiguous strand.\n",
      "Flipping strand and effect allele so A1 is always A\n",
      "Returning  1037381  variants.\n",
      "After merging and removing variants with inconsistent alleles,  there are  908334  variants that are present in both studies and can be used with CAUSE.\n"
     ]
    },
    {
     "name": "stderr",
     "output_type": "stream",
     "text": [
      "Clumping y2msQ2, 49820 variants, using EUR population reference\n",
      "\n",
      "Removing 44484 of 49820 variants due to LD with other variants or absence from LD reference panel\n",
      "\n"
     ]
    },
    {
     "name": "stdout",
     "output_type": "stream",
     "text": [
      "Estimating CAUSE parameters with  908334  variants.\n",
      "1 0.1756003 \n",
      "2 0.001427551 \n",
      "3 5.454887e-05 \n",
      "4 2.102038e-06 \n",
      "5 8.087012e-08 \n",
      "Estimating CAUSE posteriors using  5336  variants.\n"
     ]
    },
    {
     "name": "stderr",
     "output_type": "stream",
     "text": [
      "Warning message:\n",
      "“'compare' is deprecated.\n",
      "Use 'loo_compare' instead.\n",
      "See help(\"Deprecated\")”\n"
     ]
    },
    {
     "name": "stdout",
     "output_type": "stream",
     "text": [
      "    user   system  elapsed \n",
      "5643.138 2350.468  631.761 \n",
      "Height_GIANT ~ Hair_Black \n"
     ]
    },
    {
     "name": "stderr",
     "output_type": "stream",
     "text": [
      "\u001b[1m\u001b[1mRows: \u001b[1m\u001b[22m\u001b[34m\u001b[34m961042\u001b[34m\u001b[39m \u001b[1m\u001b[1mColumns: \u001b[1m\u001b[22m\u001b[34m\u001b[34m7\u001b[34m\u001b[39m\n",
      "\n",
      "\u001b[36m──\u001b[39m \u001b[1m\u001b[1mColumn specification\u001b[1m\u001b[22m \u001b[36m────────────────────────────────────────────────────────────────────────────────────────────────────────────────────────────────────────────────────\u001b[39m\n",
      "\u001b[1mDelimiter:\u001b[22m \"\\t\"\n",
      "\u001b[31mchr\u001b[39m (3): SNP, A1, A2\n",
      "\u001b[32mdbl\u001b[39m (4): Z, N, chi2, P\n",
      "\n",
      "\n",
      "\u001b[36mℹ\u001b[39m Use \u001b[30m\u001b[47m\u001b[30m\u001b[47m`spec()`\u001b[47m\u001b[30m\u001b[49m\u001b[39m to retrieve the full column specification for this data.\n",
      "\u001b[36mℹ\u001b[39m Specify the column types or set \u001b[30m\u001b[47m\u001b[30m\u001b[47m`show_col_types = FALSE`\u001b[47m\u001b[30m\u001b[49m\u001b[39m to quiet this message.\n",
      "\n",
      "\u001b[1m\u001b[1mRows: \u001b[1m\u001b[22m\u001b[34m\u001b[34m1037702\u001b[34m\u001b[39m \u001b[1m\u001b[1mColumns: \u001b[1m\u001b[22m\u001b[34m\u001b[34m7\u001b[34m\u001b[39m\n",
      "\n",
      "\u001b[36m──\u001b[39m \u001b[1m\u001b[1mColumn specification\u001b[1m\u001b[22m \u001b[36m────────────────────────────────────────────────────────────────────────────────────────────────────────────────────────────────────────────────────\u001b[39m\n",
      "\u001b[1mDelimiter:\u001b[22m \"\\t\"\n",
      "\u001b[31mchr\u001b[39m (3): SNP, A1, A2\n",
      "\u001b[32mdbl\u001b[39m (4): Z, N, chi2, P\n",
      "\n",
      "\n",
      "\u001b[36mℹ\u001b[39m Use \u001b[30m\u001b[47m\u001b[30m\u001b[47m`spec()`\u001b[47m\u001b[30m\u001b[49m\u001b[39m to retrieve the full column specification for this data.\n",
      "\u001b[36mℹ\u001b[39m Specify the column types or set \u001b[30m\u001b[47m\u001b[30m\u001b[47m`show_col_types = FALSE`\u001b[47m\u001b[30m\u001b[49m\u001b[39m to quiet this message.\n",
      "\n"
     ]
    },
    {
     "name": "stdout",
     "output_type": "stream",
     "text": [
      "Formatting X1\n",
      "There are  961042  variants.\n",
      "Removing  0  duplicated variants leaving  961042 variants.\n",
      "No variants have illegal alleles.\n",
      "Removed  0  variants with ambiguous strand.\n",
      "Flipping strand and effect allele so A1 is always A\n",
      "Returning  961042  variants.\n",
      "Formatting X2\n",
      "There are  1037702  variants.\n",
      "Removing  0  duplicated variants leaving  1037702 variants.\n",
      "No variants have illegal alleles.\n",
      "Removed  0  variants with ambiguous strand.\n",
      "Flipping strand and effect allele so A1 is always A\n",
      "Returning  1037702  variants.\n",
      "After merging and removing variants with inconsistent alleles,  there are  908601  variants that are present in both studies and can be used with CAUSE.\n"
     ]
    },
    {
     "name": "stderr",
     "output_type": "stream",
     "text": [
      "Clumping yzkogA, 49932 variants, using EUR population reference\n",
      "\n",
      "Removing 44593 of 49932 variants due to LD with other variants or absence from LD reference panel\n",
      "\n"
     ]
    },
    {
     "name": "stdout",
     "output_type": "stream",
     "text": [
      "Estimating CAUSE parameters with  908601  variants.\n",
      "1 0.2948183 \n",
      "2 0.00914706 \n",
      "3 0.0009713871 \n",
      "4 0.0001025446 \n",
      "5 1.081928e-05 \n",
      "6 1.140887e-06 \n",
      "7 1.217287e-07 \n",
      "8 1.226978e-08 \n",
      "Estimating CAUSE posteriors using  5339  variants.\n"
     ]
    },
    {
     "name": "stderr",
     "output_type": "stream",
     "text": [
      "Warning message:\n",
      "“'compare' is deprecated.\n",
      "Use 'loo_compare' instead.\n",
      "See help(\"Deprecated\")”\n"
     ]
    },
    {
     "name": "stdout",
     "output_type": "stream",
     "text": [
      "    user   system  elapsed \n",
      "6019.139 2914.822  718.983 \n",
      "Height_GIANT ~ Hair_Blonde \n"
     ]
    },
    {
     "name": "stderr",
     "output_type": "stream",
     "text": [
      "\u001b[1m\u001b[1mRows: \u001b[1m\u001b[22m\u001b[34m\u001b[34m961042\u001b[34m\u001b[39m \u001b[1m\u001b[1mColumns: \u001b[1m\u001b[22m\u001b[34m\u001b[34m7\u001b[34m\u001b[39m\n",
      "\n",
      "\u001b[36m──\u001b[39m \u001b[1m\u001b[1mColumn specification\u001b[1m\u001b[22m \u001b[36m────────────────────────────────────────────────────────────────────────────────────────────────────────────────────────────────────────────────────\u001b[39m\n",
      "\u001b[1mDelimiter:\u001b[22m \"\\t\"\n",
      "\u001b[31mchr\u001b[39m (3): SNP, A1, A2\n",
      "\u001b[32mdbl\u001b[39m (4): Z, N, chi2, P\n",
      "\n",
      "\n",
      "\u001b[36mℹ\u001b[39m Use \u001b[30m\u001b[47m\u001b[30m\u001b[47m`spec()`\u001b[47m\u001b[30m\u001b[49m\u001b[39m to retrieve the full column specification for this data.\n",
      "\u001b[36mℹ\u001b[39m Specify the column types or set \u001b[30m\u001b[47m\u001b[30m\u001b[47m`show_col_types = FALSE`\u001b[47m\u001b[30m\u001b[49m\u001b[39m to quiet this message.\n",
      "\n",
      "\u001b[1m\u001b[1mRows: \u001b[1m\u001b[22m\u001b[34m\u001b[34m1037533\u001b[34m\u001b[39m \u001b[1m\u001b[1mColumns: \u001b[1m\u001b[22m\u001b[34m\u001b[34m7\u001b[34m\u001b[39m\n",
      "\n",
      "\u001b[36m──\u001b[39m \u001b[1m\u001b[1mColumn specification\u001b[1m\u001b[22m \u001b[36m────────────────────────────────────────────────────────────────────────────────────────────────────────────────────────────────────────────────────\u001b[39m\n",
      "\u001b[1mDelimiter:\u001b[22m \"\\t\"\n",
      "\u001b[31mchr\u001b[39m (3): SNP, A1, A2\n",
      "\u001b[32mdbl\u001b[39m (4): Z, N, chi2, P\n",
      "\n",
      "\n",
      "\u001b[36mℹ\u001b[39m Use \u001b[30m\u001b[47m\u001b[30m\u001b[47m`spec()`\u001b[47m\u001b[30m\u001b[49m\u001b[39m to retrieve the full column specification for this data.\n",
      "\u001b[36mℹ\u001b[39m Specify the column types or set \u001b[30m\u001b[47m\u001b[30m\u001b[47m`show_col_types = FALSE`\u001b[47m\u001b[30m\u001b[49m\u001b[39m to quiet this message.\n",
      "\n"
     ]
    },
    {
     "name": "stdout",
     "output_type": "stream",
     "text": [
      "Formatting X1\n",
      "There are  961042  variants.\n",
      "Removing  0  duplicated variants leaving  961042 variants.\n",
      "No variants have illegal alleles.\n",
      "Removed  0  variants with ambiguous strand.\n",
      "Flipping strand and effect allele so A1 is always A\n",
      "Returning  961042  variants.\n",
      "Formatting X2\n",
      "There are  1037533  variants.\n",
      "Removing  0  duplicated variants leaving  1037533 variants.\n",
      "No variants have illegal alleles.\n",
      "Removed  0  variants with ambiguous strand.\n",
      "Flipping strand and effect allele so A1 is always A\n",
      "Returning  1037533  variants.\n",
      "After merging and removing variants with inconsistent alleles,  there are  908448  variants that are present in both studies and can be used with CAUSE.\n"
     ]
    },
    {
     "name": "stderr",
     "output_type": "stream",
     "text": [
      "Clumping 0lLwyc, 49871 variants, using EUR population reference\n",
      "\n",
      "Removing 44533 of 49871 variants due to LD with other variants or absence from LD reference panel\n",
      "\n"
     ]
    },
    {
     "name": "stdout",
     "output_type": "stream",
     "text": [
      "Estimating CAUSE parameters with  908448  variants.\n",
      "1 0.1099599 \n",
      "2 0.0006550204 \n",
      "3 1.415289e-05 \n",
      "4 3.057472e-07 \n",
      "5 8.626175e-09 \n",
      "Estimating CAUSE posteriors using  5338  variants.\n"
     ]
    },
    {
     "name": "stderr",
     "output_type": "stream",
     "text": [
      "Warning message:\n",
      "“'compare' is deprecated.\n",
      "Use 'loo_compare' instead.\n",
      "See help(\"Deprecated\")”\n"
     ]
    },
    {
     "name": "stdout",
     "output_type": "stream",
     "text": [
      "    user   system  elapsed \n",
      "4623.117 2205.802  543.357 \n",
      "Height_GIANT ~ Tanning \n"
     ]
    },
    {
     "name": "stderr",
     "output_type": "stream",
     "text": [
      "\u001b[1m\u001b[1mRows: \u001b[1m\u001b[22m\u001b[34m\u001b[34m961042\u001b[34m\u001b[39m \u001b[1m\u001b[1mColumns: \u001b[1m\u001b[22m\u001b[34m\u001b[34m7\u001b[34m\u001b[39m\n",
      "\n",
      "\u001b[36m──\u001b[39m \u001b[1m\u001b[1mColumn specification\u001b[1m\u001b[22m \u001b[36m────────────────────────────────────────────────────────────────────────────────────────────────────────────────────────────────────────────────────\u001b[39m\n",
      "\u001b[1mDelimiter:\u001b[22m \"\\t\"\n",
      "\u001b[31mchr\u001b[39m (3): SNP, A1, A2\n",
      "\u001b[32mdbl\u001b[39m (4): Z, N, chi2, P\n",
      "\n",
      "\n",
      "\u001b[36mℹ\u001b[39m Use \u001b[30m\u001b[47m\u001b[30m\u001b[47m`spec()`\u001b[47m\u001b[30m\u001b[49m\u001b[39m to retrieve the full column specification for this data.\n",
      "\u001b[36mℹ\u001b[39m Specify the column types or set \u001b[30m\u001b[47m\u001b[30m\u001b[47m`show_col_types = FALSE`\u001b[47m\u001b[30m\u001b[49m\u001b[39m to quiet this message.\n",
      "\n",
      "\u001b[1m\u001b[1mRows: \u001b[1m\u001b[22m\u001b[34m\u001b[34m1037026\u001b[34m\u001b[39m \u001b[1m\u001b[1mColumns: \u001b[1m\u001b[22m\u001b[34m\u001b[34m7\u001b[34m\u001b[39m\n",
      "\n",
      "\u001b[36m──\u001b[39m \u001b[1m\u001b[1mColumn specification\u001b[1m\u001b[22m \u001b[36m────────────────────────────────────────────────────────────────────────────────────────────────────────────────────────────────────────────────────\u001b[39m\n",
      "\u001b[1mDelimiter:\u001b[22m \"\\t\"\n",
      "\u001b[31mchr\u001b[39m (3): SNP, A1, A2\n",
      "\u001b[32mdbl\u001b[39m (4): Z, N, chi2, P\n",
      "\n",
      "\n",
      "\u001b[36mℹ\u001b[39m Use \u001b[30m\u001b[47m\u001b[30m\u001b[47m`spec()`\u001b[47m\u001b[30m\u001b[49m\u001b[39m to retrieve the full column specification for this data.\n",
      "\u001b[36mℹ\u001b[39m Specify the column types or set \u001b[30m\u001b[47m\u001b[30m\u001b[47m`show_col_types = FALSE`\u001b[47m\u001b[30m\u001b[49m\u001b[39m to quiet this message.\n",
      "\n"
     ]
    },
    {
     "name": "stdout",
     "output_type": "stream",
     "text": [
      "Formatting X1\n",
      "There are  961042  variants.\n",
      "Removing  0  duplicated variants leaving  961042 variants.\n",
      "No variants have illegal alleles.\n",
      "Removed  0  variants with ambiguous strand.\n",
      "Flipping strand and effect allele so A1 is always A\n",
      "Returning  961042  variants.\n",
      "Formatting X2\n",
      "There are  1037026  variants.\n",
      "Removing  0  duplicated variants leaving  1037026 variants.\n",
      "No variants have illegal alleles.\n",
      "Removed  0  variants with ambiguous strand.\n",
      "Flipping strand and effect allele so A1 is always A\n",
      "Returning  1037026  variants.\n",
      "After merging and removing variants with inconsistent alleles,  there are  908054  variants that are present in both studies and can be used with CAUSE.\n"
     ]
    },
    {
     "name": "stderr",
     "output_type": "stream",
     "text": [
      "Clumping sJ7qhp, 49693 variants, using EUR population reference\n",
      "\n",
      "Removing 44358 of 49693 variants due to LD with other variants or absence from LD reference panel\n",
      "\n"
     ]
    },
    {
     "name": "stdout",
     "output_type": "stream",
     "text": [
      "Estimating CAUSE parameters with  908054  variants.\n",
      "1 0.2096521 \n",
      "2 0.001964884 \n",
      "3 8.197918e-05 \n",
      "4 3.445032e-06 \n",
      "5 1.447269e-07 \n",
      "6 6.236055e-09 \n",
      "Estimating CAUSE posteriors using  5335  variants.\n"
     ]
    },
    {
     "name": "stderr",
     "output_type": "stream",
     "text": [
      "Warning message:\n",
      "“'compare' is deprecated.\n",
      "Use 'loo_compare' instead.\n",
      "See help(\"Deprecated\")”\n"
     ]
    },
    {
     "name": "stdout",
     "output_type": "stream",
     "text": [
      "    user   system  elapsed \n",
      "5798.242 2597.318  710.313 \n",
      "Insomnia ~ Hair_Light_Brown \n"
     ]
    },
    {
     "name": "stderr",
     "output_type": "stream",
     "text": [
      "\u001b[1m\u001b[1mRows: \u001b[1m\u001b[22m\u001b[34m\u001b[34m1065149\u001b[34m\u001b[39m \u001b[1m\u001b[1mColumns: \u001b[1m\u001b[22m\u001b[34m\u001b[34m7\u001b[34m\u001b[39m\n",
      "\n",
      "\u001b[36m──\u001b[39m \u001b[1m\u001b[1mColumn specification\u001b[1m\u001b[22m \u001b[36m────────────────────────────────────────────────────────────────────────────────────────────────────────────────────────────────────────────────────\u001b[39m\n",
      "\u001b[1mDelimiter:\u001b[22m \"\\t\"\n",
      "\u001b[31mchr\u001b[39m (3): SNP, A1, A2\n",
      "\u001b[32mdbl\u001b[39m (4): Z, N, chi2, P\n",
      "\n",
      "\n",
      "\u001b[36mℹ\u001b[39m Use \u001b[30m\u001b[47m\u001b[30m\u001b[47m`spec()`\u001b[47m\u001b[30m\u001b[49m\u001b[39m to retrieve the full column specification for this data.\n",
      "\u001b[36mℹ\u001b[39m Specify the column types or set \u001b[30m\u001b[47m\u001b[30m\u001b[47m`show_col_types = FALSE`\u001b[47m\u001b[30m\u001b[49m\u001b[39m to quiet this message.\n",
      "\n",
      "\u001b[1m\u001b[1mRows: \u001b[1m\u001b[22m\u001b[34m\u001b[34m1037742\u001b[34m\u001b[39m \u001b[1m\u001b[1mColumns: \u001b[1m\u001b[22m\u001b[34m\u001b[34m7\u001b[34m\u001b[39m\n",
      "\n",
      "\u001b[36m──\u001b[39m \u001b[1m\u001b[1mColumn specification\u001b[1m\u001b[22m \u001b[36m────────────────────────────────────────────────────────────────────────────────────────────────────────────────────────────────────────────────────\u001b[39m\n",
      "\u001b[1mDelimiter:\u001b[22m \"\\t\"\n",
      "\u001b[31mchr\u001b[39m (3): SNP, A1, A2\n",
      "\u001b[32mdbl\u001b[39m (4): Z, N, chi2, P\n",
      "\n",
      "\n",
      "\u001b[36mℹ\u001b[39m Use \u001b[30m\u001b[47m\u001b[30m\u001b[47m`spec()`\u001b[47m\u001b[30m\u001b[49m\u001b[39m to retrieve the full column specification for this data.\n",
      "\u001b[36mℹ\u001b[39m Specify the column types or set \u001b[30m\u001b[47m\u001b[30m\u001b[47m`show_col_types = FALSE`\u001b[47m\u001b[30m\u001b[49m\u001b[39m to quiet this message.\n",
      "\n"
     ]
    },
    {
     "name": "stdout",
     "output_type": "stream",
     "text": [
      "Formatting X1\n",
      "There are  1065149  variants.\n",
      "Removing  0  duplicated variants leaving  1065149 variants.\n",
      "No variants have illegal alleles.\n",
      "Removed  0  variants with ambiguous strand.\n",
      "Flipping strand and effect allele so A1 is always A\n",
      "Returning  1065149  variants.\n",
      "Formatting X2\n",
      "There are  1037742  variants.\n",
      "Removing  0  duplicated variants leaving  1037742 variants.\n",
      "No variants have illegal alleles.\n",
      "Removed  0  variants with ambiguous strand.\n",
      "Flipping strand and effect allele so A1 is always A\n",
      "Returning  1037742  variants.\n",
      "After merging and removing variants with inconsistent alleles,  there are  1027467  variants that are present in both studies and can be used with CAUSE.\n"
     ]
    },
    {
     "name": "stderr",
     "output_type": "stream",
     "text": [
      "Clumping iE5Haz, 14209 variants, using EUR population reference\n",
      "\n",
      "Removing 12450 of 14209 variants due to LD with other variants or absence from LD reference panel\n",
      "\n"
     ]
    },
    {
     "name": "stdout",
     "output_type": "stream",
     "text": [
      "Estimating CAUSE parameters with  1000000  variants.\n",
      "1 0.01194868 \n",
      "2 8.896536e-06 \n",
      "3 8.95285e-09 \n",
      "Estimating CAUSE posteriors using  1759  variants.\n"
     ]
    },
    {
     "name": "stderr",
     "output_type": "stream",
     "text": [
      "Warning message:\n",
      "“'compare' is deprecated.\n",
      "Use 'loo_compare' instead.\n",
      "See help(\"Deprecated\")”\n"
     ]
    },
    {
     "name": "stdout",
     "output_type": "stream",
     "text": [
      "    user   system  elapsed \n",
      "2321.689 1694.130  438.443 \n",
      "Insomnia ~ Hair_Dark_Brown \n"
     ]
    },
    {
     "name": "stderr",
     "output_type": "stream",
     "text": [
      "\u001b[1m\u001b[1mRows: \u001b[1m\u001b[22m\u001b[34m\u001b[34m1065149\u001b[34m\u001b[39m \u001b[1m\u001b[1mColumns: \u001b[1m\u001b[22m\u001b[34m\u001b[34m7\u001b[34m\u001b[39m\n",
      "\n",
      "\u001b[36m──\u001b[39m \u001b[1m\u001b[1mColumn specification\u001b[1m\u001b[22m \u001b[36m────────────────────────────────────────────────────────────────────────────────────────────────────────────────────────────────────────────────────\u001b[39m\n",
      "\u001b[1mDelimiter:\u001b[22m \"\\t\"\n",
      "\u001b[31mchr\u001b[39m (3): SNP, A1, A2\n",
      "\u001b[32mdbl\u001b[39m (4): Z, N, chi2, P\n",
      "\n",
      "\n",
      "\u001b[36mℹ\u001b[39m Use \u001b[30m\u001b[47m\u001b[30m\u001b[47m`spec()`\u001b[47m\u001b[30m\u001b[49m\u001b[39m to retrieve the full column specification for this data.\n",
      "\u001b[36mℹ\u001b[39m Specify the column types or set \u001b[30m\u001b[47m\u001b[30m\u001b[47m`show_col_types = FALSE`\u001b[47m\u001b[30m\u001b[49m\u001b[39m to quiet this message.\n",
      "\n",
      "\u001b[1m\u001b[1mRows: \u001b[1m\u001b[22m\u001b[34m\u001b[34m1037381\u001b[34m\u001b[39m \u001b[1m\u001b[1mColumns: \u001b[1m\u001b[22m\u001b[34m\u001b[34m7\u001b[34m\u001b[39m\n",
      "\n",
      "\u001b[36m──\u001b[39m \u001b[1m\u001b[1mColumn specification\u001b[1m\u001b[22m \u001b[36m────────────────────────────────────────────────────────────────────────────────────────────────────────────────────────────────────────────────────\u001b[39m\n",
      "\u001b[1mDelimiter:\u001b[22m \"\\t\"\n",
      "\u001b[31mchr\u001b[39m (3): SNP, A1, A2\n",
      "\u001b[32mdbl\u001b[39m (4): Z, N, chi2, P\n",
      "\n",
      "\n",
      "\u001b[36mℹ\u001b[39m Use \u001b[30m\u001b[47m\u001b[30m\u001b[47m`spec()`\u001b[47m\u001b[30m\u001b[49m\u001b[39m to retrieve the full column specification for this data.\n",
      "\u001b[36mℹ\u001b[39m Specify the column types or set \u001b[30m\u001b[47m\u001b[30m\u001b[47m`show_col_types = FALSE`\u001b[47m\u001b[30m\u001b[49m\u001b[39m to quiet this message.\n",
      "\n"
     ]
    },
    {
     "name": "stdout",
     "output_type": "stream",
     "text": [
      "Formatting X1\n",
      "There are  1065149  variants.\n",
      "Removing  0  duplicated variants leaving  1065149 variants.\n",
      "No variants have illegal alleles.\n",
      "Removed  0  variants with ambiguous strand.\n",
      "Flipping strand and effect allele so A1 is always A\n",
      "Returning  1065149  variants.\n",
      "Formatting X2\n",
      "There are  1037381  variants.\n",
      "Removing  0  duplicated variants leaving  1037381 variants.\n",
      "No variants have illegal alleles.\n",
      "Removed  0  variants with ambiguous strand.\n",
      "Flipping strand and effect allele so A1 is always A\n",
      "Returning  1037381  variants.\n",
      "After merging and removing variants with inconsistent alleles,  there are  1027106  variants that are present in both studies and can be used with CAUSE.\n"
     ]
    },
    {
     "name": "stderr",
     "output_type": "stream",
     "text": [
      "Clumping mxmEzG, 14192 variants, using EUR population reference\n",
      "\n",
      "Removing 12433 of 14192 variants due to LD with other variants or absence from LD reference panel\n",
      "\n"
     ]
    },
    {
     "name": "stdout",
     "output_type": "stream",
     "text": [
      "Estimating CAUSE parameters with  1000000  variants.\n",
      "1 0.00416623 \n",
      "2 3.664814e-06 \n",
      "3 2.564376e-09 \n",
      "Estimating CAUSE posteriors using  1759  variants.\n"
     ]
    },
    {
     "name": "stderr",
     "output_type": "stream",
     "text": [
      "Warning message:\n",
      "“'compare' is deprecated.\n",
      "Use 'loo_compare' instead.\n",
      "See help(\"Deprecated\")”\n"
     ]
    },
    {
     "name": "stdout",
     "output_type": "stream",
     "text": [
      "    user   system  elapsed \n",
      "2425.565 1739.257  462.582 \n",
      "Insomnia ~ Hair_Black \n"
     ]
    },
    {
     "name": "stderr",
     "output_type": "stream",
     "text": [
      "\u001b[1m\u001b[1mRows: \u001b[1m\u001b[22m\u001b[34m\u001b[34m1065149\u001b[34m\u001b[39m \u001b[1m\u001b[1mColumns: \u001b[1m\u001b[22m\u001b[34m\u001b[34m7\u001b[34m\u001b[39m\n",
      "\n",
      "\u001b[36m──\u001b[39m \u001b[1m\u001b[1mColumn specification\u001b[1m\u001b[22m \u001b[36m────────────────────────────────────────────────────────────────────────────────────────────────────────────────────────────────────────────────────\u001b[39m\n",
      "\u001b[1mDelimiter:\u001b[22m \"\\t\"\n",
      "\u001b[31mchr\u001b[39m (3): SNP, A1, A2\n",
      "\u001b[32mdbl\u001b[39m (4): Z, N, chi2, P\n",
      "\n",
      "\n",
      "\u001b[36mℹ\u001b[39m Use \u001b[30m\u001b[47m\u001b[30m\u001b[47m`spec()`\u001b[47m\u001b[30m\u001b[49m\u001b[39m to retrieve the full column specification for this data.\n",
      "\u001b[36mℹ\u001b[39m Specify the column types or set \u001b[30m\u001b[47m\u001b[30m\u001b[47m`show_col_types = FALSE`\u001b[47m\u001b[30m\u001b[49m\u001b[39m to quiet this message.\n",
      "\n",
      "\u001b[1m\u001b[1mRows: \u001b[1m\u001b[22m\u001b[34m\u001b[34m1037702\u001b[34m\u001b[39m \u001b[1m\u001b[1mColumns: \u001b[1m\u001b[22m\u001b[34m\u001b[34m7\u001b[34m\u001b[39m\n",
      "\n",
      "\u001b[36m──\u001b[39m \u001b[1m\u001b[1mColumn specification\u001b[1m\u001b[22m \u001b[36m────────────────────────────────────────────────────────────────────────────────────────────────────────────────────────────────────────────────────\u001b[39m\n",
      "\u001b[1mDelimiter:\u001b[22m \"\\t\"\n",
      "\u001b[31mchr\u001b[39m (3): SNP, A1, A2\n",
      "\u001b[32mdbl\u001b[39m (4): Z, N, chi2, P\n",
      "\n",
      "\n",
      "\u001b[36mℹ\u001b[39m Use \u001b[30m\u001b[47m\u001b[30m\u001b[47m`spec()`\u001b[47m\u001b[30m\u001b[49m\u001b[39m to retrieve the full column specification for this data.\n",
      "\u001b[36mℹ\u001b[39m Specify the column types or set \u001b[30m\u001b[47m\u001b[30m\u001b[47m`show_col_types = FALSE`\u001b[47m\u001b[30m\u001b[49m\u001b[39m to quiet this message.\n",
      "\n"
     ]
    },
    {
     "name": "stdout",
     "output_type": "stream",
     "text": [
      "Formatting X1\n",
      "There are  1065149  variants.\n",
      "Removing  0  duplicated variants leaving  1065149 variants.\n",
      "No variants have illegal alleles.\n",
      "Removed  0  variants with ambiguous strand.\n",
      "Flipping strand and effect allele so A1 is always A\n",
      "Returning  1065149  variants.\n",
      "Formatting X2\n",
      "There are  1037702  variants.\n",
      "Removing  0  duplicated variants leaving  1037702 variants.\n",
      "No variants have illegal alleles.\n",
      "Removed  0  variants with ambiguous strand.\n",
      "Flipping strand and effect allele so A1 is always A\n",
      "Returning  1037702  variants.\n",
      "After merging and removing variants with inconsistent alleles,  there are  1027427  variants that are present in both studies and can be used with CAUSE.\n"
     ]
    },
    {
     "name": "stderr",
     "output_type": "stream",
     "text": [
      "Clumping aQ0yMF, 14209 variants, using EUR population reference\n",
      "\n",
      "Removing 12450 of 14209 variants due to LD with other variants or absence from LD reference panel\n",
      "\n"
     ]
    },
    {
     "name": "stdout",
     "output_type": "stream",
     "text": [
      "Estimating CAUSE parameters with  1000000  variants.\n",
      "1 0.02108145 \n",
      "2 2.313823e-05 \n",
      "3 3.658443e-08 \n",
      "Estimating CAUSE posteriors using  1759  variants.\n"
     ]
    },
    {
     "name": "stderr",
     "output_type": "stream",
     "text": [
      "Warning message:\n",
      "“'compare' is deprecated.\n",
      "Use 'loo_compare' instead.\n",
      "See help(\"Deprecated\")”\n"
     ]
    },
    {
     "name": "stdout",
     "output_type": "stream",
     "text": [
      "    user   system  elapsed \n",
      "2043.371 1546.255  387.632 \n",
      "Insomnia ~ Hair_Blonde \n"
     ]
    },
    {
     "name": "stderr",
     "output_type": "stream",
     "text": [
      "\u001b[1m\u001b[1mRows: \u001b[1m\u001b[22m\u001b[34m\u001b[34m1065149\u001b[34m\u001b[39m \u001b[1m\u001b[1mColumns: \u001b[1m\u001b[22m\u001b[34m\u001b[34m7\u001b[34m\u001b[39m\n",
      "\n",
      "\u001b[36m──\u001b[39m \u001b[1m\u001b[1mColumn specification\u001b[1m\u001b[22m \u001b[36m────────────────────────────────────────────────────────────────────────────────────────────────────────────────────────────────────────────────────\u001b[39m\n",
      "\u001b[1mDelimiter:\u001b[22m \"\\t\"\n",
      "\u001b[31mchr\u001b[39m (3): SNP, A1, A2\n",
      "\u001b[32mdbl\u001b[39m (4): Z, N, chi2, P\n",
      "\n",
      "\n",
      "\u001b[36mℹ\u001b[39m Use \u001b[30m\u001b[47m\u001b[30m\u001b[47m`spec()`\u001b[47m\u001b[30m\u001b[49m\u001b[39m to retrieve the full column specification for this data.\n",
      "\u001b[36mℹ\u001b[39m Specify the column types or set \u001b[30m\u001b[47m\u001b[30m\u001b[47m`show_col_types = FALSE`\u001b[47m\u001b[30m\u001b[49m\u001b[39m to quiet this message.\n",
      "\n",
      "\u001b[1m\u001b[1mRows: \u001b[1m\u001b[22m\u001b[34m\u001b[34m1037533\u001b[34m\u001b[39m \u001b[1m\u001b[1mColumns: \u001b[1m\u001b[22m\u001b[34m\u001b[34m7\u001b[34m\u001b[39m\n",
      "\n",
      "\u001b[36m──\u001b[39m \u001b[1m\u001b[1mColumn specification\u001b[1m\u001b[22m \u001b[36m────────────────────────────────────────────────────────────────────────────────────────────────────────────────────────────────────────────────────\u001b[39m\n",
      "\u001b[1mDelimiter:\u001b[22m \"\\t\"\n",
      "\u001b[31mchr\u001b[39m (3): SNP, A1, A2\n",
      "\u001b[32mdbl\u001b[39m (4): Z, N, chi2, P\n",
      "\n",
      "\n",
      "\u001b[36mℹ\u001b[39m Use \u001b[30m\u001b[47m\u001b[30m\u001b[47m`spec()`\u001b[47m\u001b[30m\u001b[49m\u001b[39m to retrieve the full column specification for this data.\n",
      "\u001b[36mℹ\u001b[39m Specify the column types or set \u001b[30m\u001b[47m\u001b[30m\u001b[47m`show_col_types = FALSE`\u001b[47m\u001b[30m\u001b[49m\u001b[39m to quiet this message.\n",
      "\n"
     ]
    },
    {
     "name": "stdout",
     "output_type": "stream",
     "text": [
      "Formatting X1\n",
      "There are  1065149  variants.\n",
      "Removing  0  duplicated variants leaving  1065149 variants.\n",
      "No variants have illegal alleles.\n",
      "Removed  0  variants with ambiguous strand.\n",
      "Flipping strand and effect allele so A1 is always A\n",
      "Returning  1065149  variants.\n",
      "Formatting X2\n",
      "There are  1037533  variants.\n",
      "Removing  0  duplicated variants leaving  1037533 variants.\n",
      "No variants have illegal alleles.\n",
      "Removed  0  variants with ambiguous strand.\n",
      "Flipping strand and effect allele so A1 is always A\n",
      "Returning  1037533  variants.\n",
      "After merging and removing variants with inconsistent alleles,  there are  1027258  variants that are present in both studies and can be used with CAUSE.\n"
     ]
    },
    {
     "name": "stderr",
     "output_type": "stream",
     "text": [
      "Clumping wka0aU, 14209 variants, using EUR population reference\n",
      "\n",
      "Removing 12450 of 14209 variants due to LD with other variants or absence from LD reference panel\n",
      "\n"
     ]
    },
    {
     "name": "stdout",
     "output_type": "stream",
     "text": [
      "Estimating CAUSE parameters with  1000000  variants.\n",
      "1 0.003305283 \n",
      "2 2.256466e-06 \n",
      "3 7.242296e-10 \n",
      "Estimating CAUSE posteriors using  1759  variants.\n"
     ]
    },
    {
     "name": "stderr",
     "output_type": "stream",
     "text": [
      "Warning message:\n",
      "“'compare' is deprecated.\n",
      "Use 'loo_compare' instead.\n",
      "See help(\"Deprecated\")”\n"
     ]
    },
    {
     "name": "stdout",
     "output_type": "stream",
     "text": [
      "    user   system  elapsed \n",
      "1908.541 1510.407  373.409 \n",
      "Insomnia ~ Tanning \n"
     ]
    },
    {
     "name": "stderr",
     "output_type": "stream",
     "text": [
      "\u001b[1m\u001b[1mRows: \u001b[1m\u001b[22m\u001b[34m\u001b[34m1065149\u001b[34m\u001b[39m \u001b[1m\u001b[1mColumns: \u001b[1m\u001b[22m\u001b[34m\u001b[34m7\u001b[34m\u001b[39m\n",
      "\n",
      "\u001b[36m──\u001b[39m \u001b[1m\u001b[1mColumn specification\u001b[1m\u001b[22m \u001b[36m────────────────────────────────────────────────────────────────────────────────────────────────────────────────────────────────────────────────────\u001b[39m\n",
      "\u001b[1mDelimiter:\u001b[22m \"\\t\"\n",
      "\u001b[31mchr\u001b[39m (3): SNP, A1, A2\n",
      "\u001b[32mdbl\u001b[39m (4): Z, N, chi2, P\n",
      "\n",
      "\n",
      "\u001b[36mℹ\u001b[39m Use \u001b[30m\u001b[47m\u001b[30m\u001b[47m`spec()`\u001b[47m\u001b[30m\u001b[49m\u001b[39m to retrieve the full column specification for this data.\n",
      "\u001b[36mℹ\u001b[39m Specify the column types or set \u001b[30m\u001b[47m\u001b[30m\u001b[47m`show_col_types = FALSE`\u001b[47m\u001b[30m\u001b[49m\u001b[39m to quiet this message.\n",
      "\n",
      "\u001b[1m\u001b[1mRows: \u001b[1m\u001b[22m\u001b[34m\u001b[34m1037026\u001b[34m\u001b[39m \u001b[1m\u001b[1mColumns: \u001b[1m\u001b[22m\u001b[34m\u001b[34m7\u001b[34m\u001b[39m\n",
      "\n",
      "\u001b[36m──\u001b[39m \u001b[1m\u001b[1mColumn specification\u001b[1m\u001b[22m \u001b[36m────────────────────────────────────────────────────────────────────────────────────────────────────────────────────────────────────────────────────\u001b[39m\n",
      "\u001b[1mDelimiter:\u001b[22m \"\\t\"\n",
      "\u001b[31mchr\u001b[39m (3): SNP, A1, A2\n",
      "\u001b[32mdbl\u001b[39m (4): Z, N, chi2, P\n",
      "\n",
      "\n",
      "\u001b[36mℹ\u001b[39m Use \u001b[30m\u001b[47m\u001b[30m\u001b[47m`spec()`\u001b[47m\u001b[30m\u001b[49m\u001b[39m to retrieve the full column specification for this data.\n",
      "\u001b[36mℹ\u001b[39m Specify the column types or set \u001b[30m\u001b[47m\u001b[30m\u001b[47m`show_col_types = FALSE`\u001b[47m\u001b[30m\u001b[49m\u001b[39m to quiet this message.\n",
      "\n"
     ]
    },
    {
     "name": "stdout",
     "output_type": "stream",
     "text": [
      "Formatting X1\n",
      "There are  1065149  variants.\n",
      "Removing  0  duplicated variants leaving  1065149 variants.\n",
      "No variants have illegal alleles.\n",
      "Removed  0  variants with ambiguous strand.\n",
      "Flipping strand and effect allele so A1 is always A\n",
      "Returning  1065149  variants.\n",
      "Formatting X2\n",
      "There are  1037026  variants.\n",
      "Removing  0  duplicated variants leaving  1037026 variants.\n",
      "No variants have illegal alleles.\n",
      "Removed  0  variants with ambiguous strand.\n",
      "Flipping strand and effect allele so A1 is always A\n",
      "Returning  1037026  variants.\n",
      "After merging and removing variants with inconsistent alleles,  there are  1026753  variants that are present in both studies and can be used with CAUSE.\n"
     ]
    },
    {
     "name": "stderr",
     "output_type": "stream",
     "text": [
      "Clumping NyyPdm, 14188 variants, using EUR population reference\n",
      "\n",
      "Removing 12430 of 14188 variants due to LD with other variants or absence from LD reference panel\n",
      "\n"
     ]
    },
    {
     "name": "stdout",
     "output_type": "stream",
     "text": [
      "Estimating CAUSE parameters with  1000000  variants.\n",
      "1 0.03110181 \n",
      "2 6.902409e-05 \n",
      "3 2.231385e-07 \n",
      "4 1.664203e-09 \n",
      "Estimating CAUSE posteriors using  1758  variants.\n"
     ]
    },
    {
     "name": "stderr",
     "output_type": "stream",
     "text": [
      "Warning message:\n",
      "“'compare' is deprecated.\n",
      "Use 'loo_compare' instead.\n",
      "See help(\"Deprecated\")”\n"
     ]
    },
    {
     "name": "stdout",
     "output_type": "stream",
     "text": [
      "    user   system  elapsed \n",
      "2410.584 1876.849  451.390 \n",
      "Neuroticism ~ Hair_Light_Brown \n"
     ]
    },
    {
     "name": "stderr",
     "output_type": "stream",
     "text": [
      "\u001b[1m\u001b[1mRows: \u001b[1m\u001b[22m\u001b[34m\u001b[34m1037824\u001b[34m\u001b[39m \u001b[1m\u001b[1mColumns: \u001b[1m\u001b[22m\u001b[34m\u001b[34m7\u001b[34m\u001b[39m\n",
      "\n",
      "\u001b[36m──\u001b[39m \u001b[1m\u001b[1mColumn specification\u001b[1m\u001b[22m \u001b[36m────────────────────────────────────────────────────────────────────────────────────────────────────────────────────────────────────────────────────\u001b[39m\n",
      "\u001b[1mDelimiter:\u001b[22m \"\\t\"\n",
      "\u001b[31mchr\u001b[39m (3): SNP, A1, A2\n",
      "\u001b[32mdbl\u001b[39m (4): Z, N, chi2, P\n",
      "\n",
      "\n",
      "\u001b[36mℹ\u001b[39m Use \u001b[30m\u001b[47m\u001b[30m\u001b[47m`spec()`\u001b[47m\u001b[30m\u001b[49m\u001b[39m to retrieve the full column specification for this data.\n",
      "\u001b[36mℹ\u001b[39m Specify the column types or set \u001b[30m\u001b[47m\u001b[30m\u001b[47m`show_col_types = FALSE`\u001b[47m\u001b[30m\u001b[49m\u001b[39m to quiet this message.\n",
      "\n",
      "\u001b[1m\u001b[1mRows: \u001b[1m\u001b[22m\u001b[34m\u001b[34m1037742\u001b[34m\u001b[39m \u001b[1m\u001b[1mColumns: \u001b[1m\u001b[22m\u001b[34m\u001b[34m7\u001b[34m\u001b[39m\n",
      "\n",
      "\u001b[36m──\u001b[39m \u001b[1m\u001b[1mColumn specification\u001b[1m\u001b[22m \u001b[36m────────────────────────────────────────────────────────────────────────────────────────────────────────────────────────────────────────────────────\u001b[39m\n",
      "\u001b[1mDelimiter:\u001b[22m \"\\t\"\n",
      "\u001b[31mchr\u001b[39m (3): SNP, A1, A2\n",
      "\u001b[32mdbl\u001b[39m (4): Z, N, chi2, P\n",
      "\n",
      "\n",
      "\u001b[36mℹ\u001b[39m Use \u001b[30m\u001b[47m\u001b[30m\u001b[47m`spec()`\u001b[47m\u001b[30m\u001b[49m\u001b[39m to retrieve the full column specification for this data.\n",
      "\u001b[36mℹ\u001b[39m Specify the column types or set \u001b[30m\u001b[47m\u001b[30m\u001b[47m`show_col_types = FALSE`\u001b[47m\u001b[30m\u001b[49m\u001b[39m to quiet this message.\n",
      "\n"
     ]
    },
    {
     "name": "stdout",
     "output_type": "stream",
     "text": [
      "Formatting X1\n",
      "There are  1037824  variants.\n",
      "Removing  0  duplicated variants leaving  1037824 variants.\n",
      "No variants have illegal alleles.\n",
      "Removed  0  variants with ambiguous strand.\n",
      "Flipping strand and effect allele so A1 is always A\n",
      "Returning  1037824  variants.\n",
      "Formatting X2\n",
      "There are  1037742  variants.\n",
      "Removing  0  duplicated variants leaving  1037742 variants.\n",
      "No variants have illegal alleles.\n",
      "Removed  0  variants with ambiguous strand.\n",
      "Flipping strand and effect allele so A1 is always A\n",
      "Returning  1037742  variants.\n",
      "After merging and removing variants with inconsistent alleles,  there are  1037742  variants that are present in both studies and can be used with CAUSE.\n"
     ]
    },
    {
     "name": "stderr",
     "output_type": "stream",
     "text": [
      "Clumping yDEApj, 19022 variants, using EUR population reference\n",
      "\n",
      "Removing 16772 of 19022 variants due to LD with other variants or absence from LD reference panel\n",
      "\n"
     ]
    },
    {
     "name": "stdout",
     "output_type": "stream",
     "text": [
      "Estimating CAUSE parameters with  1000000  variants.\n",
      "1 0.04342569 \n",
      "2 3.928527e-05 \n",
      "3 1.456432e-07 \n",
      "4 3.060596e-09 \n",
      "Estimating CAUSE posteriors using  2250  variants.\n"
     ]
    },
    {
     "name": "stderr",
     "output_type": "stream",
     "text": [
      "Warning message:\n",
      "“'compare' is deprecated.\n",
      "Use 'loo_compare' instead.\n",
      "See help(\"Deprecated\")”\n"
     ]
    },
    {
     "name": "stdout",
     "output_type": "stream",
     "text": [
      "    user   system  elapsed \n",
      "3347.339 2022.577  571.702 \n",
      "Neuroticism ~ Hair_Dark_Brown \n"
     ]
    },
    {
     "name": "stderr",
     "output_type": "stream",
     "text": [
      "\u001b[1m\u001b[1mRows: \u001b[1m\u001b[22m\u001b[34m\u001b[34m1037824\u001b[34m\u001b[39m \u001b[1m\u001b[1mColumns: \u001b[1m\u001b[22m\u001b[34m\u001b[34m7\u001b[34m\u001b[39m\n",
      "\n",
      "\u001b[36m──\u001b[39m \u001b[1m\u001b[1mColumn specification\u001b[1m\u001b[22m \u001b[36m────────────────────────────────────────────────────────────────────────────────────────────────────────────────────────────────────────────────────\u001b[39m\n",
      "\u001b[1mDelimiter:\u001b[22m \"\\t\"\n",
      "\u001b[31mchr\u001b[39m (3): SNP, A1, A2\n",
      "\u001b[32mdbl\u001b[39m (4): Z, N, chi2, P\n",
      "\n",
      "\n",
      "\u001b[36mℹ\u001b[39m Use \u001b[30m\u001b[47m\u001b[30m\u001b[47m`spec()`\u001b[47m\u001b[30m\u001b[49m\u001b[39m to retrieve the full column specification for this data.\n",
      "\u001b[36mℹ\u001b[39m Specify the column types or set \u001b[30m\u001b[47m\u001b[30m\u001b[47m`show_col_types = FALSE`\u001b[47m\u001b[30m\u001b[49m\u001b[39m to quiet this message.\n",
      "\n",
      "\u001b[1m\u001b[1mRows: \u001b[1m\u001b[22m\u001b[34m\u001b[34m1037381\u001b[34m\u001b[39m \u001b[1m\u001b[1mColumns: \u001b[1m\u001b[22m\u001b[34m\u001b[34m7\u001b[34m\u001b[39m\n",
      "\n",
      "\u001b[36m──\u001b[39m \u001b[1m\u001b[1mColumn specification\u001b[1m\u001b[22m \u001b[36m────────────────────────────────────────────────────────────────────────────────────────────────────────────────────────────────────────────────────\u001b[39m\n",
      "\u001b[1mDelimiter:\u001b[22m \"\\t\"\n",
      "\u001b[31mchr\u001b[39m (3): SNP, A1, A2\n",
      "\u001b[32mdbl\u001b[39m (4): Z, N, chi2, P\n",
      "\n",
      "\n",
      "\u001b[36mℹ\u001b[39m Use \u001b[30m\u001b[47m\u001b[30m\u001b[47m`spec()`\u001b[47m\u001b[30m\u001b[49m\u001b[39m to retrieve the full column specification for this data.\n",
      "\u001b[36mℹ\u001b[39m Specify the column types or set \u001b[30m\u001b[47m\u001b[30m\u001b[47m`show_col_types = FALSE`\u001b[47m\u001b[30m\u001b[49m\u001b[39m to quiet this message.\n",
      "\n"
     ]
    },
    {
     "name": "stdout",
     "output_type": "stream",
     "text": [
      "Formatting X1\n",
      "There are  1037824  variants.\n",
      "Removing  0  duplicated variants leaving  1037824 variants.\n",
      "No variants have illegal alleles.\n",
      "Removed  0  variants with ambiguous strand.\n",
      "Flipping strand and effect allele so A1 is always A\n",
      "Returning  1037824  variants.\n",
      "Formatting X2\n",
      "There are  1037381  variants.\n",
      "Removing  0  duplicated variants leaving  1037381 variants.\n",
      "No variants have illegal alleles.\n",
      "Removed  0  variants with ambiguous strand.\n",
      "Flipping strand and effect allele so A1 is always A\n",
      "Returning  1037381  variants.\n",
      "After merging and removing variants with inconsistent alleles,  there are  1037381  variants that are present in both studies and can be used with CAUSE.\n"
     ]
    },
    {
     "name": "stderr",
     "output_type": "stream",
     "text": [
      "Clumping TOoVmj, 18973 variants, using EUR population reference\n",
      "\n",
      "Removing 16725 of 18973 variants due to LD with other variants or absence from LD reference panel\n",
      "\n"
     ]
    },
    {
     "name": "stdout",
     "output_type": "stream",
     "text": [
      "Estimating CAUSE parameters with  1000000  variants.\n",
      "1 0.04079884 \n",
      "2 5.714212e-05 \n",
      "3 1.879187e-07 \n",
      "4 1.065299e-08 \n",
      "Estimating CAUSE posteriors using  2248  variants.\n"
     ]
    },
    {
     "name": "stderr",
     "output_type": "stream",
     "text": [
      "Warning message:\n",
      "“'compare' is deprecated.\n",
      "Use 'loo_compare' instead.\n",
      "See help(\"Deprecated\")”\n"
     ]
    },
    {
     "name": "stdout",
     "output_type": "stream",
     "text": [
      "    user   system  elapsed \n",
      "2901.988 2043.925  532.364 \n",
      "Neuroticism ~ Hair_Black \n"
     ]
    },
    {
     "name": "stderr",
     "output_type": "stream",
     "text": [
      "\u001b[1m\u001b[1mRows: \u001b[1m\u001b[22m\u001b[34m\u001b[34m1037824\u001b[34m\u001b[39m \u001b[1m\u001b[1mColumns: \u001b[1m\u001b[22m\u001b[34m\u001b[34m7\u001b[34m\u001b[39m\n",
      "\n",
      "\u001b[36m──\u001b[39m \u001b[1m\u001b[1mColumn specification\u001b[1m\u001b[22m \u001b[36m────────────────────────────────────────────────────────────────────────────────────────────────────────────────────────────────────────────────────\u001b[39m\n",
      "\u001b[1mDelimiter:\u001b[22m \"\\t\"\n",
      "\u001b[31mchr\u001b[39m (3): SNP, A1, A2\n",
      "\u001b[32mdbl\u001b[39m (4): Z, N, chi2, P\n",
      "\n",
      "\n",
      "\u001b[36mℹ\u001b[39m Use \u001b[30m\u001b[47m\u001b[30m\u001b[47m`spec()`\u001b[47m\u001b[30m\u001b[49m\u001b[39m to retrieve the full column specification for this data.\n",
      "\u001b[36mℹ\u001b[39m Specify the column types or set \u001b[30m\u001b[47m\u001b[30m\u001b[47m`show_col_types = FALSE`\u001b[47m\u001b[30m\u001b[49m\u001b[39m to quiet this message.\n",
      "\n",
      "\u001b[1m\u001b[1mRows: \u001b[1m\u001b[22m\u001b[34m\u001b[34m1037702\u001b[34m\u001b[39m \u001b[1m\u001b[1mColumns: \u001b[1m\u001b[22m\u001b[34m\u001b[34m7\u001b[34m\u001b[39m\n",
      "\n",
      "\u001b[36m──\u001b[39m \u001b[1m\u001b[1mColumn specification\u001b[1m\u001b[22m \u001b[36m────────────────────────────────────────────────────────────────────────────────────────────────────────────────────────────────────────────────────\u001b[39m\n",
      "\u001b[1mDelimiter:\u001b[22m \"\\t\"\n",
      "\u001b[31mchr\u001b[39m (3): SNP, A1, A2\n",
      "\u001b[32mdbl\u001b[39m (4): Z, N, chi2, P\n",
      "\n",
      "\n",
      "\u001b[36mℹ\u001b[39m Use \u001b[30m\u001b[47m\u001b[30m\u001b[47m`spec()`\u001b[47m\u001b[30m\u001b[49m\u001b[39m to retrieve the full column specification for this data.\n",
      "\u001b[36mℹ\u001b[39m Specify the column types or set \u001b[30m\u001b[47m\u001b[30m\u001b[47m`show_col_types = FALSE`\u001b[47m\u001b[30m\u001b[49m\u001b[39m to quiet this message.\n",
      "\n"
     ]
    },
    {
     "name": "stdout",
     "output_type": "stream",
     "text": [
      "Formatting X1\n",
      "There are  1037824  variants.\n",
      "Removing  0  duplicated variants leaving  1037824 variants.\n",
      "No variants have illegal alleles.\n",
      "Removed  0  variants with ambiguous strand.\n",
      "Flipping strand and effect allele so A1 is always A\n",
      "Returning  1037824  variants.\n",
      "Formatting X2\n",
      "There are  1037702  variants.\n",
      "Removing  0  duplicated variants leaving  1037702 variants.\n",
      "No variants have illegal alleles.\n",
      "Removed  0  variants with ambiguous strand.\n",
      "Flipping strand and effect allele so A1 is always A\n",
      "Returning  1037702  variants.\n",
      "After merging and removing variants with inconsistent alleles,  there are  1037702  variants that are present in both studies and can be used with CAUSE.\n"
     ]
    },
    {
     "name": "stderr",
     "output_type": "stream",
     "text": [
      "Clumping J8dH8q, 19017 variants, using EUR population reference\n",
      "\n",
      "Removing 16769 of 19017 variants due to LD with other variants or absence from LD reference panel\n",
      "\n"
     ]
    },
    {
     "name": "stdout",
     "output_type": "stream",
     "text": [
      "Estimating CAUSE parameters with  1000000  variants.\n",
      "1 0.07095046 \n",
      "2 7.062234e-05 \n",
      "3 4.412641e-07 \n",
      "4 2.980905e-09 \n",
      "Estimating CAUSE posteriors using  2248  variants.\n"
     ]
    },
    {
     "name": "stderr",
     "output_type": "stream",
     "text": [
      "Warning message:\n",
      "“'compare' is deprecated.\n",
      "Use 'loo_compare' instead.\n",
      "See help(\"Deprecated\")”\n"
     ]
    },
    {
     "name": "stdout",
     "output_type": "stream",
     "text": [
      "    user   system  elapsed \n",
      "2749.979 1975.157  504.054 \n",
      "Neuroticism ~ Hair_Blonde \n"
     ]
    },
    {
     "name": "stderr",
     "output_type": "stream",
     "text": [
      "\u001b[1m\u001b[1mRows: \u001b[1m\u001b[22m\u001b[34m\u001b[34m1037824\u001b[34m\u001b[39m \u001b[1m\u001b[1mColumns: \u001b[1m\u001b[22m\u001b[34m\u001b[34m7\u001b[34m\u001b[39m\n",
      "\n",
      "\u001b[36m──\u001b[39m \u001b[1m\u001b[1mColumn specification\u001b[1m\u001b[22m \u001b[36m────────────────────────────────────────────────────────────────────────────────────────────────────────────────────────────────────────────────────\u001b[39m\n",
      "\u001b[1mDelimiter:\u001b[22m \"\\t\"\n",
      "\u001b[31mchr\u001b[39m (3): SNP, A1, A2\n",
      "\u001b[32mdbl\u001b[39m (4): Z, N, chi2, P\n",
      "\n",
      "\n",
      "\u001b[36mℹ\u001b[39m Use \u001b[30m\u001b[47m\u001b[30m\u001b[47m`spec()`\u001b[47m\u001b[30m\u001b[49m\u001b[39m to retrieve the full column specification for this data.\n",
      "\u001b[36mℹ\u001b[39m Specify the column types or set \u001b[30m\u001b[47m\u001b[30m\u001b[47m`show_col_types = FALSE`\u001b[47m\u001b[30m\u001b[49m\u001b[39m to quiet this message.\n",
      "\n",
      "\u001b[1m\u001b[1mRows: \u001b[1m\u001b[22m\u001b[34m\u001b[34m1037533\u001b[34m\u001b[39m \u001b[1m\u001b[1mColumns: \u001b[1m\u001b[22m\u001b[34m\u001b[34m7\u001b[34m\u001b[39m\n",
      "\n",
      "\u001b[36m──\u001b[39m \u001b[1m\u001b[1mColumn specification\u001b[1m\u001b[22m \u001b[36m────────────────────────────────────────────────────────────────────────────────────────────────────────────────────────────────────────────────────\u001b[39m\n",
      "\u001b[1mDelimiter:\u001b[22m \"\\t\"\n",
      "\u001b[31mchr\u001b[39m (3): SNP, A1, A2\n",
      "\u001b[32mdbl\u001b[39m (4): Z, N, chi2, P\n",
      "\n",
      "\n",
      "\u001b[36mℹ\u001b[39m Use \u001b[30m\u001b[47m\u001b[30m\u001b[47m`spec()`\u001b[47m\u001b[30m\u001b[49m\u001b[39m to retrieve the full column specification for this data.\n",
      "\u001b[36mℹ\u001b[39m Specify the column types or set \u001b[30m\u001b[47m\u001b[30m\u001b[47m`show_col_types = FALSE`\u001b[47m\u001b[30m\u001b[49m\u001b[39m to quiet this message.\n",
      "\n"
     ]
    },
    {
     "name": "stdout",
     "output_type": "stream",
     "text": [
      "Formatting X1\n",
      "There are  1037824  variants.\n",
      "Removing  0  duplicated variants leaving  1037824 variants.\n",
      "No variants have illegal alleles.\n",
      "Removed  0  variants with ambiguous strand.\n",
      "Flipping strand and effect allele so A1 is always A\n",
      "Returning  1037824  variants.\n",
      "Formatting X2\n",
      "There are  1037533  variants.\n",
      "Removing  0  duplicated variants leaving  1037533 variants.\n",
      "No variants have illegal alleles.\n",
      "Removed  0  variants with ambiguous strand.\n",
      "Flipping strand and effect allele so A1 is always A\n",
      "Returning  1037533  variants.\n",
      "After merging and removing variants with inconsistent alleles,  there are  1037533  variants that are present in both studies and can be used with CAUSE.\n"
     ]
    },
    {
     "name": "stderr",
     "output_type": "stream",
     "text": [
      "Clumping Hn3USY, 19018 variants, using EUR population reference\n",
      "\n",
      "Removing 16769 of 19018 variants due to LD with other variants or absence from LD reference panel\n",
      "\n"
     ]
    },
    {
     "name": "stdout",
     "output_type": "stream",
     "text": [
      "Estimating CAUSE parameters with  1000000  variants.\n",
      "1 0.01717222 \n",
      "2 1.444951e-05 \n",
      "3 1.980584e-08 \n",
      "Estimating CAUSE posteriors using  2249  variants.\n"
     ]
    },
    {
     "name": "stderr",
     "output_type": "stream",
     "text": [
      "Warning message:\n",
      "“'compare' is deprecated.\n",
      "Use 'loo_compare' instead.\n",
      "See help(\"Deprecated\")”\n"
     ]
    },
    {
     "name": "stdout",
     "output_type": "stream",
     "text": [
      "    user   system  elapsed \n",
      "2354.658 1717.437  451.081 \n",
      "Neuroticism ~ Tanning \n"
     ]
    },
    {
     "name": "stderr",
     "output_type": "stream",
     "text": [
      "\u001b[1m\u001b[1mRows: \u001b[1m\u001b[22m\u001b[34m\u001b[34m1037824\u001b[34m\u001b[39m \u001b[1m\u001b[1mColumns: \u001b[1m\u001b[22m\u001b[34m\u001b[34m7\u001b[34m\u001b[39m\n",
      "\n",
      "\u001b[36m──\u001b[39m \u001b[1m\u001b[1mColumn specification\u001b[1m\u001b[22m \u001b[36m────────────────────────────────────────────────────────────────────────────────────────────────────────────────────────────────────────────────────\u001b[39m\n",
      "\u001b[1mDelimiter:\u001b[22m \"\\t\"\n",
      "\u001b[31mchr\u001b[39m (3): SNP, A1, A2\n",
      "\u001b[32mdbl\u001b[39m (4): Z, N, chi2, P\n",
      "\n",
      "\n",
      "\u001b[36mℹ\u001b[39m Use \u001b[30m\u001b[47m\u001b[30m\u001b[47m`spec()`\u001b[47m\u001b[30m\u001b[49m\u001b[39m to retrieve the full column specification for this data.\n",
      "\u001b[36mℹ\u001b[39m Specify the column types or set \u001b[30m\u001b[47m\u001b[30m\u001b[47m`show_col_types = FALSE`\u001b[47m\u001b[30m\u001b[49m\u001b[39m to quiet this message.\n",
      "\n",
      "\u001b[1m\u001b[1mRows: \u001b[1m\u001b[22m\u001b[34m\u001b[34m1037026\u001b[34m\u001b[39m \u001b[1m\u001b[1mColumns: \u001b[1m\u001b[22m\u001b[34m\u001b[34m7\u001b[34m\u001b[39m\n",
      "\n",
      "\u001b[36m──\u001b[39m \u001b[1m\u001b[1mColumn specification\u001b[1m\u001b[22m \u001b[36m────────────────────────────────────────────────────────────────────────────────────────────────────────────────────────────────────────────────────\u001b[39m\n",
      "\u001b[1mDelimiter:\u001b[22m \"\\t\"\n",
      "\u001b[31mchr\u001b[39m (3): SNP, A1, A2\n",
      "\u001b[32mdbl\u001b[39m (4): Z, N, chi2, P\n",
      "\n",
      "\n",
      "\u001b[36mℹ\u001b[39m Use \u001b[30m\u001b[47m\u001b[30m\u001b[47m`spec()`\u001b[47m\u001b[30m\u001b[49m\u001b[39m to retrieve the full column specification for this data.\n",
      "\u001b[36mℹ\u001b[39m Specify the column types or set \u001b[30m\u001b[47m\u001b[30m\u001b[47m`show_col_types = FALSE`\u001b[47m\u001b[30m\u001b[49m\u001b[39m to quiet this message.\n",
      "\n"
     ]
    },
    {
     "name": "stdout",
     "output_type": "stream",
     "text": [
      "Formatting X1\n",
      "There are  1037824  variants.\n",
      "Removing  0  duplicated variants leaving  1037824 variants.\n",
      "No variants have illegal alleles.\n",
      "Removed  0  variants with ambiguous strand.\n",
      "Flipping strand and effect allele so A1 is always A\n",
      "Returning  1037824  variants.\n",
      "Formatting X2\n",
      "There are  1037026  variants.\n",
      "Removing  0  duplicated variants leaving  1037026 variants.\n",
      "No variants have illegal alleles.\n",
      "Removed  0  variants with ambiguous strand.\n",
      "Flipping strand and effect allele so A1 is always A\n",
      "Returning  1037026  variants.\n",
      "After merging and removing variants with inconsistent alleles,  there are  1037026  variants that are present in both studies and can be used with CAUSE.\n"
     ]
    },
    {
     "name": "stderr",
     "output_type": "stream",
     "text": [
      "Clumping LKeYKH, 18921 variants, using EUR population reference\n",
      "\n",
      "Removing 16674 of 18921 variants due to LD with other variants or absence from LD reference panel\n",
      "\n"
     ]
    },
    {
     "name": "stdout",
     "output_type": "stream",
     "text": [
      "Estimating CAUSE parameters with  1000000  variants.\n",
      "1 0.03223953 \n",
      "2 5.037941e-05 \n",
      "3 1.36769e-07 \n",
      "4 4.486436e-10 \n",
      "Estimating CAUSE posteriors using  2247  variants.\n"
     ]
    },
    {
     "name": "stderr",
     "output_type": "stream",
     "text": [
      "Warning message:\n",
      "“'compare' is deprecated.\n",
      "Use 'loo_compare' instead.\n",
      "See help(\"Deprecated\")”\n"
     ]
    },
    {
     "name": "stdout",
     "output_type": "stream",
     "text": [
      "    user   system  elapsed \n",
      "2769.111 1938.589  513.227 \n",
      "SWB ~ Hair_Light_Brown \n"
     ]
    },
    {
     "name": "stderr",
     "output_type": "stream",
     "text": [
      "\u001b[1m\u001b[1mRows: \u001b[1m\u001b[22m\u001b[34m\u001b[34m975109\u001b[34m\u001b[39m \u001b[1m\u001b[1mColumns: \u001b[1m\u001b[22m\u001b[34m\u001b[34m7\u001b[34m\u001b[39m\n",
      "\n",
      "\u001b[36m──\u001b[39m \u001b[1m\u001b[1mColumn specification\u001b[1m\u001b[22m \u001b[36m────────────────────────────────────────────────────────────────────────────────────────────────────────────────────────────────────────────────────\u001b[39m\n",
      "\u001b[1mDelimiter:\u001b[22m \"\\t\"\n",
      "\u001b[31mchr\u001b[39m (3): SNP, A1, A2\n",
      "\u001b[32mdbl\u001b[39m (4): Z, N, chi2, P\n",
      "\n",
      "\n",
      "\u001b[36mℹ\u001b[39m Use \u001b[30m\u001b[47m\u001b[30m\u001b[47m`spec()`\u001b[47m\u001b[30m\u001b[49m\u001b[39m to retrieve the full column specification for this data.\n",
      "\u001b[36mℹ\u001b[39m Specify the column types or set \u001b[30m\u001b[47m\u001b[30m\u001b[47m`show_col_types = FALSE`\u001b[47m\u001b[30m\u001b[49m\u001b[39m to quiet this message.\n",
      "\n",
      "\u001b[1m\u001b[1mRows: \u001b[1m\u001b[22m\u001b[34m\u001b[34m1037742\u001b[34m\u001b[39m \u001b[1m\u001b[1mColumns: \u001b[1m\u001b[22m\u001b[34m\u001b[34m7\u001b[34m\u001b[39m\n",
      "\n",
      "\u001b[36m──\u001b[39m \u001b[1m\u001b[1mColumn specification\u001b[1m\u001b[22m \u001b[36m────────────────────────────────────────────────────────────────────────────────────────────────────────────────────────────────────────────────────\u001b[39m\n",
      "\u001b[1mDelimiter:\u001b[22m \"\\t\"\n",
      "\u001b[31mchr\u001b[39m (3): SNP, A1, A2\n",
      "\u001b[32mdbl\u001b[39m (4): Z, N, chi2, P\n",
      "\n",
      "\n",
      "\u001b[36mℹ\u001b[39m Use \u001b[30m\u001b[47m\u001b[30m\u001b[47m`spec()`\u001b[47m\u001b[30m\u001b[49m\u001b[39m to retrieve the full column specification for this data.\n",
      "\u001b[36mℹ\u001b[39m Specify the column types or set \u001b[30m\u001b[47m\u001b[30m\u001b[47m`show_col_types = FALSE`\u001b[47m\u001b[30m\u001b[49m\u001b[39m to quiet this message.\n",
      "\n"
     ]
    },
    {
     "name": "stdout",
     "output_type": "stream",
     "text": [
      "Formatting X1\n",
      "There are  975109  variants.\n",
      "Removing  0  duplicated variants leaving  975109 variants.\n",
      "No variants have illegal alleles.\n",
      "Removed  0  variants with ambiguous strand.\n",
      "Flipping strand and effect allele so A1 is always A\n",
      "Returning  975109  variants.\n",
      "Formatting X2\n",
      "There are  1037742  variants.\n",
      "Removing  0  duplicated variants leaving  1037742 variants.\n",
      "No variants have illegal alleles.\n",
      "Removed  0  variants with ambiguous strand.\n",
      "Flipping strand and effect allele so A1 is always A\n",
      "Returning  1037742  variants.\n",
      "After merging and removing variants with inconsistent alleles,  there are  927026  variants that are present in both studies and can be used with CAUSE.\n"
     ]
    },
    {
     "name": "stderr",
     "output_type": "stream",
     "text": [
      "Clumping 2BqTGO, 2633 variants, using EUR population reference\n",
      "\n",
      "Removing 1950 of 2633 variants due to LD with other variants or absence from LD reference panel\n",
      "\n"
     ]
    },
    {
     "name": "stdout",
     "output_type": "stream",
     "text": [
      "Estimating CAUSE parameters with  927026  variants.\n",
      "1 0.007330115 \n",
      "2 2.709701e-06 \n",
      "3 1.244416e-09 \n",
      "Estimating CAUSE posteriors using  683  variants.\n"
     ]
    },
    {
     "name": "stderr",
     "output_type": "stream",
     "text": [
      "Warning message:\n",
      "“'compare' is deprecated.\n",
      "Use 'loo_compare' instead.\n",
      "See help(\"Deprecated\")”\n"
     ]
    },
    {
     "name": "stdout",
     "output_type": "stream",
     "text": [
      "    user   system  elapsed \n",
      "1878.638 1507.813  385.020 \n",
      "SWB ~ Hair_Dark_Brown \n"
     ]
    },
    {
     "name": "stderr",
     "output_type": "stream",
     "text": [
      "\u001b[1m\u001b[1mRows: \u001b[1m\u001b[22m\u001b[34m\u001b[34m975109\u001b[34m\u001b[39m \u001b[1m\u001b[1mColumns: \u001b[1m\u001b[22m\u001b[34m\u001b[34m7\u001b[34m\u001b[39m\n",
      "\n",
      "\u001b[36m──\u001b[39m \u001b[1m\u001b[1mColumn specification\u001b[1m\u001b[22m \u001b[36m────────────────────────────────────────────────────────────────────────────────────────────────────────────────────────────────────────────────────\u001b[39m\n",
      "\u001b[1mDelimiter:\u001b[22m \"\\t\"\n",
      "\u001b[31mchr\u001b[39m (3): SNP, A1, A2\n",
      "\u001b[32mdbl\u001b[39m (4): Z, N, chi2, P\n",
      "\n",
      "\n",
      "\u001b[36mℹ\u001b[39m Use \u001b[30m\u001b[47m\u001b[30m\u001b[47m`spec()`\u001b[47m\u001b[30m\u001b[49m\u001b[39m to retrieve the full column specification for this data.\n",
      "\u001b[36mℹ\u001b[39m Specify the column types or set \u001b[30m\u001b[47m\u001b[30m\u001b[47m`show_col_types = FALSE`\u001b[47m\u001b[30m\u001b[49m\u001b[39m to quiet this message.\n",
      "\n",
      "\u001b[1m\u001b[1mRows: \u001b[1m\u001b[22m\u001b[34m\u001b[34m1037381\u001b[34m\u001b[39m \u001b[1m\u001b[1mColumns: \u001b[1m\u001b[22m\u001b[34m\u001b[34m7\u001b[34m\u001b[39m\n",
      "\n",
      "\u001b[36m──\u001b[39m \u001b[1m\u001b[1mColumn specification\u001b[1m\u001b[22m \u001b[36m────────────────────────────────────────────────────────────────────────────────────────────────────────────────────────────────────────────────────\u001b[39m\n",
      "\u001b[1mDelimiter:\u001b[22m \"\\t\"\n",
      "\u001b[31mchr\u001b[39m (3): SNP, A1, A2\n",
      "\u001b[32mdbl\u001b[39m (4): Z, N, chi2, P\n",
      "\n",
      "\n",
      "\u001b[36mℹ\u001b[39m Use \u001b[30m\u001b[47m\u001b[30m\u001b[47m`spec()`\u001b[47m\u001b[30m\u001b[49m\u001b[39m to retrieve the full column specification for this data.\n",
      "\u001b[36mℹ\u001b[39m Specify the column types or set \u001b[30m\u001b[47m\u001b[30m\u001b[47m`show_col_types = FALSE`\u001b[47m\u001b[30m\u001b[49m\u001b[39m to quiet this message.\n",
      "\n"
     ]
    },
    {
     "name": "stdout",
     "output_type": "stream",
     "text": [
      "Formatting X1\n",
      "There are  975109  variants.\n",
      "Removing  0  duplicated variants leaving  975109 variants.\n",
      "No variants have illegal alleles.\n",
      "Removed  0  variants with ambiguous strand.\n",
      "Flipping strand and effect allele so A1 is always A\n",
      "Returning  975109  variants.\n",
      "Formatting X2\n",
      "There are  1037381  variants.\n",
      "Removing  0  duplicated variants leaving  1037381 variants.\n",
      "No variants have illegal alleles.\n",
      "Removed  0  variants with ambiguous strand.\n",
      "Flipping strand and effect allele so A1 is always A\n",
      "Returning  1037381  variants.\n",
      "After merging and removing variants with inconsistent alleles,  there are  926722  variants that are present in both studies and can be used with CAUSE.\n"
     ]
    },
    {
     "name": "stderr",
     "output_type": "stream",
     "text": [
      "Clumping kyxBFM, 2622 variants, using EUR population reference\n",
      "\n",
      "Removing 1939 of 2622 variants due to LD with other variants or absence from LD reference panel\n",
      "\n"
     ]
    },
    {
     "name": "stdout",
     "output_type": "stream",
     "text": [
      "Estimating CAUSE parameters with  926722  variants.\n",
      "1 0.04093255 \n",
      "2 7.08054e-05 \n",
      "3 2.037038e-07 \n",
      "4 6.824526e-09 \n",
      "Estimating CAUSE posteriors using  683  variants.\n"
     ]
    },
    {
     "name": "stderr",
     "output_type": "stream",
     "text": [
      "Warning message:\n",
      "“'compare' is deprecated.\n",
      "Use 'loo_compare' instead.\n",
      "See help(\"Deprecated\")”\n"
     ]
    },
    {
     "name": "stdout",
     "output_type": "stream",
     "text": [
      "    user   system  elapsed \n",
      "2059.226 1806.511  413.119 \n",
      "SWB ~ Hair_Black \n"
     ]
    },
    {
     "name": "stderr",
     "output_type": "stream",
     "text": [
      "\u001b[1m\u001b[1mRows: \u001b[1m\u001b[22m\u001b[34m\u001b[34m975109\u001b[34m\u001b[39m \u001b[1m\u001b[1mColumns: \u001b[1m\u001b[22m\u001b[34m\u001b[34m7\u001b[34m\u001b[39m\n",
      "\n",
      "\u001b[36m──\u001b[39m \u001b[1m\u001b[1mColumn specification\u001b[1m\u001b[22m \u001b[36m────────────────────────────────────────────────────────────────────────────────────────────────────────────────────────────────────────────────────\u001b[39m\n",
      "\u001b[1mDelimiter:\u001b[22m \"\\t\"\n",
      "\u001b[31mchr\u001b[39m (3): SNP, A1, A2\n",
      "\u001b[32mdbl\u001b[39m (4): Z, N, chi2, P\n",
      "\n",
      "\n",
      "\u001b[36mℹ\u001b[39m Use \u001b[30m\u001b[47m\u001b[30m\u001b[47m`spec()`\u001b[47m\u001b[30m\u001b[49m\u001b[39m to retrieve the full column specification for this data.\n",
      "\u001b[36mℹ\u001b[39m Specify the column types or set \u001b[30m\u001b[47m\u001b[30m\u001b[47m`show_col_types = FALSE`\u001b[47m\u001b[30m\u001b[49m\u001b[39m to quiet this message.\n",
      "\n",
      "\u001b[1m\u001b[1mRows: \u001b[1m\u001b[22m\u001b[34m\u001b[34m1037702\u001b[34m\u001b[39m \u001b[1m\u001b[1mColumns: \u001b[1m\u001b[22m\u001b[34m\u001b[34m7\u001b[34m\u001b[39m\n",
      "\n",
      "\u001b[36m──\u001b[39m \u001b[1m\u001b[1mColumn specification\u001b[1m\u001b[22m \u001b[36m────────────────────────────────────────────────────────────────────────────────────────────────────────────────────────────────────────────────────\u001b[39m\n",
      "\u001b[1mDelimiter:\u001b[22m \"\\t\"\n",
      "\u001b[31mchr\u001b[39m (3): SNP, A1, A2\n",
      "\u001b[32mdbl\u001b[39m (4): Z, N, chi2, P\n",
      "\n",
      "\n",
      "\u001b[36mℹ\u001b[39m Use \u001b[30m\u001b[47m\u001b[30m\u001b[47m`spec()`\u001b[47m\u001b[30m\u001b[49m\u001b[39m to retrieve the full column specification for this data.\n",
      "\u001b[36mℹ\u001b[39m Specify the column types or set \u001b[30m\u001b[47m\u001b[30m\u001b[47m`show_col_types = FALSE`\u001b[47m\u001b[30m\u001b[49m\u001b[39m to quiet this message.\n",
      "\n"
     ]
    },
    {
     "name": "stdout",
     "output_type": "stream",
     "text": [
      "Formatting X1\n",
      "There are  975109  variants.\n",
      "Removing  0  duplicated variants leaving  975109 variants.\n",
      "No variants have illegal alleles.\n",
      "Removed  0  variants with ambiguous strand.\n",
      "Flipping strand and effect allele so A1 is always A\n",
      "Returning  975109  variants.\n",
      "Formatting X2\n",
      "There are  1037702  variants.\n",
      "Removing  0  duplicated variants leaving  1037702 variants.\n",
      "No variants have illegal alleles.\n",
      "Removed  0  variants with ambiguous strand.\n",
      "Flipping strand and effect allele so A1 is always A\n",
      "Returning  1037702  variants.\n",
      "After merging and removing variants with inconsistent alleles,  there are  926994  variants that are present in both studies and can be used with CAUSE.\n"
     ]
    },
    {
     "name": "stderr",
     "output_type": "stream",
     "text": [
      "Clumping ie2Toy, 2633 variants, using EUR population reference\n",
      "\n",
      "Removing 1950 of 2633 variants due to LD with other variants or absence from LD reference panel\n",
      "\n"
     ]
    },
    {
     "name": "stdout",
     "output_type": "stream",
     "text": [
      "Estimating CAUSE parameters with  926994  variants.\n",
      "1 0.006947885 \n",
      "2 2.323505e-06 \n",
      "3 1.132912e-09 \n",
      "Estimating CAUSE posteriors using  683  variants.\n"
     ]
    },
    {
     "name": "stderr",
     "output_type": "stream",
     "text": [
      "Warning message:\n",
      "“'compare' is deprecated.\n",
      "Use 'loo_compare' instead.\n",
      "See help(\"Deprecated\")”\n"
     ]
    },
    {
     "name": "stdout",
     "output_type": "stream",
     "text": [
      "    user   system  elapsed \n",
      "1617.085 1453.372  337.067 \n",
      "SWB ~ Hair_Blonde \n"
     ]
    },
    {
     "name": "stderr",
     "output_type": "stream",
     "text": [
      "\u001b[1m\u001b[1mRows: \u001b[1m\u001b[22m\u001b[34m\u001b[34m975109\u001b[34m\u001b[39m \u001b[1m\u001b[1mColumns: \u001b[1m\u001b[22m\u001b[34m\u001b[34m7\u001b[34m\u001b[39m\n",
      "\n",
      "\u001b[36m──\u001b[39m \u001b[1m\u001b[1mColumn specification\u001b[1m\u001b[22m \u001b[36m────────────────────────────────────────────────────────────────────────────────────────────────────────────────────────────────────────────────────\u001b[39m\n",
      "\u001b[1mDelimiter:\u001b[22m \"\\t\"\n",
      "\u001b[31mchr\u001b[39m (3): SNP, A1, A2\n",
      "\u001b[32mdbl\u001b[39m (4): Z, N, chi2, P\n",
      "\n",
      "\n",
      "\u001b[36mℹ\u001b[39m Use \u001b[30m\u001b[47m\u001b[30m\u001b[47m`spec()`\u001b[47m\u001b[30m\u001b[49m\u001b[39m to retrieve the full column specification for this data.\n",
      "\u001b[36mℹ\u001b[39m Specify the column types or set \u001b[30m\u001b[47m\u001b[30m\u001b[47m`show_col_types = FALSE`\u001b[47m\u001b[30m\u001b[49m\u001b[39m to quiet this message.\n",
      "\n",
      "\u001b[1m\u001b[1mRows: \u001b[1m\u001b[22m\u001b[34m\u001b[34m1037533\u001b[34m\u001b[39m \u001b[1m\u001b[1mColumns: \u001b[1m\u001b[22m\u001b[34m\u001b[34m7\u001b[34m\u001b[39m\n",
      "\n",
      "\u001b[36m──\u001b[39m \u001b[1m\u001b[1mColumn specification\u001b[1m\u001b[22m \u001b[36m────────────────────────────────────────────────────────────────────────────────────────────────────────────────────────────────────────────────────\u001b[39m\n",
      "\u001b[1mDelimiter:\u001b[22m \"\\t\"\n",
      "\u001b[31mchr\u001b[39m (3): SNP, A1, A2\n",
      "\u001b[32mdbl\u001b[39m (4): Z, N, chi2, P\n",
      "\n",
      "\n",
      "\u001b[36mℹ\u001b[39m Use \u001b[30m\u001b[47m\u001b[30m\u001b[47m`spec()`\u001b[47m\u001b[30m\u001b[49m\u001b[39m to retrieve the full column specification for this data.\n",
      "\u001b[36mℹ\u001b[39m Specify the column types or set \u001b[30m\u001b[47m\u001b[30m\u001b[47m`show_col_types = FALSE`\u001b[47m\u001b[30m\u001b[49m\u001b[39m to quiet this message.\n",
      "\n"
     ]
    },
    {
     "name": "stdout",
     "output_type": "stream",
     "text": [
      "Formatting X1\n",
      "There are  975109  variants.\n",
      "Removing  0  duplicated variants leaving  975109 variants.\n",
      "No variants have illegal alleles.\n",
      "Removed  0  variants with ambiguous strand.\n",
      "Flipping strand and effect allele so A1 is always A\n",
      "Returning  975109  variants.\n",
      "Formatting X2\n",
      "There are  1037533  variants.\n",
      "Removing  0  duplicated variants leaving  1037533 variants.\n",
      "No variants have illegal alleles.\n",
      "Removed  0  variants with ambiguous strand.\n",
      "Flipping strand and effect allele so A1 is always A\n",
      "Returning  1037533  variants.\n",
      "After merging and removing variants with inconsistent alleles,  there are  926840  variants that are present in both studies and can be used with CAUSE.\n"
     ]
    },
    {
     "name": "stderr",
     "output_type": "stream",
     "text": [
      "Clumping FD36ez, 2633 variants, using EUR population reference\n",
      "\n",
      "Removing 1950 of 2633 variants due to LD with other variants or absence from LD reference panel\n",
      "\n"
     ]
    },
    {
     "name": "stdout",
     "output_type": "stream",
     "text": [
      "Estimating CAUSE parameters with  926840  variants.\n",
      "1 0.008036781 \n",
      "2 1.316424e-06 \n",
      "3 7.52108e-10 \n",
      "Estimating CAUSE posteriors using  683  variants.\n"
     ]
    },
    {
     "name": "stderr",
     "output_type": "stream",
     "text": [
      "Warning message:\n",
      "“'compare' is deprecated.\n",
      "Use 'loo_compare' instead.\n",
      "See help(\"Deprecated\")”\n"
     ]
    },
    {
     "name": "stdout",
     "output_type": "stream",
     "text": [
      "    user   system  elapsed \n",
      "1694.993 1517.597  345.664 \n",
      "SWB ~ Tanning \n"
     ]
    },
    {
     "name": "stderr",
     "output_type": "stream",
     "text": [
      "\u001b[1m\u001b[1mRows: \u001b[1m\u001b[22m\u001b[34m\u001b[34m975109\u001b[34m\u001b[39m \u001b[1m\u001b[1mColumns: \u001b[1m\u001b[22m\u001b[34m\u001b[34m7\u001b[34m\u001b[39m\n",
      "\n",
      "\u001b[36m──\u001b[39m \u001b[1m\u001b[1mColumn specification\u001b[1m\u001b[22m \u001b[36m────────────────────────────────────────────────────────────────────────────────────────────────────────────────────────────────────────────────────\u001b[39m\n",
      "\u001b[1mDelimiter:\u001b[22m \"\\t\"\n",
      "\u001b[31mchr\u001b[39m (3): SNP, A1, A2\n",
      "\u001b[32mdbl\u001b[39m (4): Z, N, chi2, P\n",
      "\n",
      "\n",
      "\u001b[36mℹ\u001b[39m Use \u001b[30m\u001b[47m\u001b[30m\u001b[47m`spec()`\u001b[47m\u001b[30m\u001b[49m\u001b[39m to retrieve the full column specification for this data.\n",
      "\u001b[36mℹ\u001b[39m Specify the column types or set \u001b[30m\u001b[47m\u001b[30m\u001b[47m`show_col_types = FALSE`\u001b[47m\u001b[30m\u001b[49m\u001b[39m to quiet this message.\n",
      "\n",
      "\u001b[1m\u001b[1mRows: \u001b[1m\u001b[22m\u001b[34m\u001b[34m1037026\u001b[34m\u001b[39m \u001b[1m\u001b[1mColumns: \u001b[1m\u001b[22m\u001b[34m\u001b[34m7\u001b[34m\u001b[39m\n",
      "\n",
      "\u001b[36m──\u001b[39m \u001b[1m\u001b[1mColumn specification\u001b[1m\u001b[22m \u001b[36m────────────────────────────────────────────────────────────────────────────────────────────────────────────────────────────────────────────────────\u001b[39m\n",
      "\u001b[1mDelimiter:\u001b[22m \"\\t\"\n",
      "\u001b[31mchr\u001b[39m (3): SNP, A1, A2\n",
      "\u001b[32mdbl\u001b[39m (4): Z, N, chi2, P\n",
      "\n",
      "\n",
      "\u001b[36mℹ\u001b[39m Use \u001b[30m\u001b[47m\u001b[30m\u001b[47m`spec()`\u001b[47m\u001b[30m\u001b[49m\u001b[39m to retrieve the full column specification for this data.\n",
      "\u001b[36mℹ\u001b[39m Specify the column types or set \u001b[30m\u001b[47m\u001b[30m\u001b[47m`show_col_types = FALSE`\u001b[47m\u001b[30m\u001b[49m\u001b[39m to quiet this message.\n",
      "\n"
     ]
    },
    {
     "name": "stdout",
     "output_type": "stream",
     "text": [
      "Formatting X1\n",
      "There are  975109  variants.\n",
      "Removing  0  duplicated variants leaving  975109 variants.\n",
      "No variants have illegal alleles.\n",
      "Removed  0  variants with ambiguous strand.\n",
      "Flipping strand and effect allele so A1 is always A\n",
      "Returning  975109  variants.\n",
      "Formatting X2\n",
      "There are  1037026  variants.\n",
      "Removing  0  duplicated variants leaving  1037026 variants.\n",
      "No variants have illegal alleles.\n",
      "Removed  0  variants with ambiguous strand.\n",
      "Flipping strand and effect allele so A1 is always A\n",
      "Returning  1037026  variants.\n",
      "After merging and removing variants with inconsistent alleles,  there are  926444  variants that are present in both studies and can be used with CAUSE.\n"
     ]
    },
    {
     "name": "stderr",
     "output_type": "stream",
     "text": [
      "Clumping wJoL6Q, 2581 variants, using EUR population reference\n",
      "\n",
      "Removing 1898 of 2581 variants due to LD with other variants or absence from LD reference panel\n",
      "\n"
     ]
    },
    {
     "name": "stdout",
     "output_type": "stream",
     "text": [
      "Estimating CAUSE parameters with  926444  variants.\n",
      "1 0.001370823 \n",
      "2 1.615e-06 \n",
      "3 1.905087e-09 \n",
      "Estimating CAUSE posteriors using  683  variants.\n"
     ]
    },
    {
     "name": "stderr",
     "output_type": "stream",
     "text": [
      "Warning message:\n",
      "“'compare' is deprecated.\n",
      "Use 'loo_compare' instead.\n",
      "See help(\"Deprecated\")”\n"
     ]
    },
    {
     "name": "stdout",
     "output_type": "stream",
     "text": [
      "    user   system  elapsed \n",
      "1524.440 1361.159  327.152 \n"
     ]
    }
   ],
   "source": [
    "library(readr)\n",
    "library(cause)\n",
    "ts1 = c(\"AD\", \"ASD\", \"Daytime_Sleepiness\", \"Height_UKB\",  \"Intelligence\", \"RA\",      \n",
    "        \"T2D\", \"Alcohol\", \"BMI\", \"Depression\", \"IBD\", \"MDD\", \"SCZ\", \"Angina\", \n",
    "        \"CAD\", \"HBP\", \"Income\", \"NEB\", \"Smoking\", \"Urate\", \"Anorexia\", \n",
    "        \"CD\", \"Height_GIANT\", \"Insomnia\", \"Neuroticism\", \"SWB\")\n",
    "\n",
    "ts2 = c(\"Hair_Light_Brown\", \"Hair_Dark_Brown\",  \"Hair_Black\",    \"Hair_Blonde\",  \"Tanning\")\n",
    "\n",
    "Threshold=1e-03\n",
    "\n",
    "for( exposure in ts1 ){\n",
    "  \n",
    "  for( outcome in ts2 ){\n",
    "    \n",
    "    start = proc.time()\n",
    "    \n",
    "    # read GWAS summary statistics\n",
    "    cat(exposure,\"~\",outcome,\"\\n\")\n",
    "    \n",
    "    X1 = readr::read_delim(paste0(\"./GWAS_26and5_formatted/\", exposure), delim=\"\\t\", escape_double = FALSE, trim_ws = TRUE, progress = F)\n",
    "    \n",
    "    X2 = readr::read_delim(paste0(\"./GWAS_26and5_formatted/\", outcome), delim=\"\\t\", escape_double = FALSE, trim_ws = TRUE, progress = F)\n",
    "    \n",
    "    X1$b = X1$Z/sqrt(X1$N)\n",
    "    X2$b = X2$Z/sqrt(X2$N)\n",
    "    X1$se = 1/sqrt(X1$N)\n",
    "    X2$se = 1/sqrt(X2$N)\n",
    "    \n",
    "    X <- try(gwas_merge(X1, X2, \n",
    "                        snp_name_cols = c(\"SNP\", \"SNP\"),\n",
    "                        beta_hat_cols = c(\"b\", \"b\"),\n",
    "                        se_cols = c(\"se\", \"se\"),\n",
    "                        A1_cols = c(\"A1\", \"A1\"),\n",
    "                        A2_cols = c(\"A2\", \"A2\")))\n",
    "    \n",
    "    if(inherits(X , 'try-error')) next\n",
    "    \n",
    "    d0 = X1[, c(\"SNP\", \"P\")]\n",
    "    colnames(d0) = c(\"snp\", \"pval.exp\")\n",
    "    X0 = merge(X, d0, by=\"snp\")\n",
    "    \n",
    "    # clump\n",
    "    clumped = MRAPSS::clump(X0,\n",
    "                            IV.Threshold = 1e-03,\n",
    "                            SNP_col = \"snp\",\n",
    "                            pval_col = \"pval.exp\",\n",
    "                            clump_kb = 1000,\n",
    "                            clump_r2 = 0.1,\n",
    "                            bfile = \"/import/home/share/xhu/database/1KG/all_1000G_EUR_Phase3\",\n",
    "                            plink_bin = \"/import/home/maxhu/plink/plink\")\n",
    "    \n",
    "    varlist <- with(X, sample(snp, size=min(nrow(X), 1000000), replace=FALSE))\n",
    "    params <- try(est_cause_params(X, varlist))\n",
    "    if(inherits(params , 'try-error')) next\n",
    "    \n",
    "    # cause\n",
    "    if(!is.null(clumped)){\n",
    "      \n",
    "      top_ldl_pruned_vars =intersect(as.character(X$snp), as.character(subset(clumped, pval.exp <= Threshold)$snp))\n",
    "      \n",
    "      cause_res <- try(cause(X=X, variants = top_ldl_pruned_vars , param_ests = params, force=TRUE))\n",
    "      \n",
    "      if(inherits( cause_res , 'try-error')) next\n",
    "      \n",
    "      res_elpd <- data.frame(exposure,\n",
    "                             outcome,\n",
    "                             Threshold,\n",
    "                             length(top_ldl_pruned_vars),\n",
    "                             cause_res$elpd)\n",
    "      \n",
    "      res.cause.est = summary(cause_res, ci_size=0.95)\n",
    "      \n",
    "      res = data.frame(exposure, outcome,\n",
    "                       Threshold,length(top_ldl_pruned_vars),\n",
    "                       matrix(c(res.cause.est$quants[[2]][,1],\n",
    "                                res.cause.est$quants[[2]][,2],\n",
    "                                res.cause.est$quants[[2]][,3]), nrow=1))\n",
    "      \n",
    "      write.table(res, file=\"NC_CAUSE_est\", append=T,\n",
    "                  col.names = F, row.names = F,\n",
    "                  quote = F)\n",
    "      \n",
    "      write.table(res_elpd, file=\"NC_CAUSE_elpd\", append=T,\n",
    "                  col.names = F, row.names = F,\n",
    "                  quote = F)\n",
    "      \n",
    "      rm(top_ldl_pruned_vars)\n",
    "      rm(res)\n",
    "      rm(res_elpd)\n",
    "      rm(res.cause.est)\n",
    "      rm(cause_res)\n",
    "      print(proc.time()-start)\n",
    "      \n",
    "    }\n",
    "    \n",
    "  }\n",
    "  \n",
    "}"
   ]
  },
  {
   "cell_type": "code",
   "execution_count": 2,
   "metadata": {},
   "outputs": [],
   "source": [
    "cause_elpd = unique(read.table(\"NC_CAUSE_elpd\", header = F))\n",
    "cause_est = unique(read.table(\"NC_CAUSE_est\", header = F))\n",
    "colnames(cause_elpd) = c(\"exposure\",\"outcome\",\"Threshold\",\"nsnp\",\"model1\",\"model2\",\"delta_elpd\", \"se_delta_elpd\", \"Z\")\n",
    "colnames(cause_est) = c(\"exposure\",\"outcome\",\"Threshold\",\"nsnp\", \"b\",\"b_l\",\"b_u\",\"eta\",\"eta_l\",\"eta_u\",\"q\",\"q_l\",\"q_u\")\n",
    "cause_elpd = unique(subset(cause_elpd, model1==\"sharing\"&model2==\"causal\"))\n",
    "cause_elpd$pval = pnorm(cause_elpd$Z)\n",
    "cause_est = unique(cause_est[, c(\"exposure\",\"outcome\",\"Threshold\",\"nsnp\", \"b\",\"b_l\",\"b_u\")])\n",
    "cause_est$se = (cause_est$b_u - cause_est$b_l)/2/1.96\n",
    "cause_res = unique(merge(unique(cause_elpd[, c(\"exposure\",\"outcome\",\"pval\")]),\n",
    "                         cause_est[, c(\"exposure\",\"outcome\",\"Threshold\",\"nsnp\", \"b\",\"se\")],\n",
    "                         by=c(\"exposure\",\"outcome\")))\n",
    "cause_res$Method = \"CAUSE\"\n",
    "write.table(cause_res, file=\"NC_CAUSE_MRres\", append=F, col.names = T, row.names = F, quote = F)"
   ]
  },
  {
   "cell_type": "code",
   "execution_count": null,
   "metadata": {},
   "outputs": [],
   "source": []
  }
 ],
 "metadata": {
  "kernelspec": {
   "display_name": "R",
   "language": "R",
   "name": "ir"
  },
  "language_info": {
   "codemirror_mode": "r",
   "file_extension": ".r",
   "mimetype": "text/x-r-source",
   "name": "R",
   "pygments_lexer": "r",
   "version": "3.6.3"
  }
 },
 "nbformat": 4,
 "nbformat_minor": 4
}
