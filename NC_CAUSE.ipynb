{
 "cells": [
  {
   "cell_type": "markdown",
   "metadata": {},
   "source": [
    "# Install packages"
   ]
  },
  {
   "cell_type": "code",
   "execution_count": null,
   "metadata": {},
   "outputs": [],
   "source": [
    "# devtools::install_version(\"mixsqp\", version = \"0.1-97\", repos = \"http://cran.us.r-project.org\")\n",
    "# devtools::install_version(\"ashr\", version = \"2.2-32\", repos = \"http://cran.us.r-project.org\")\n",
    "# devtools::install_github(\"jean997/cause@v1.0.0\")\n",
    "# for the latest version, use devtools::install_github(\"jean997/cause@v1.2.0\")"
   ]
  },
  {
   "cell_type": "markdown",
   "metadata": {},
   "source": [
    "# Run CAUSE"
   ]
  },
  {
   "cell_type": "code",
   "execution_count": null,
   "metadata": {},
   "outputs": [
    {
     "name": "stdout",
     "output_type": "stream",
     "text": [
      "AD ~ Hair_Light_Brown \n"
     ]
    },
    {
     "name": "stderr",
     "output_type": "stream",
     "text": [
      "\u001b[1m\u001b[1mRows: \u001b[1m\u001b[22m\u001b[34m\u001b[34m1148476\u001b[34m\u001b[39m \u001b[1m\u001b[1mColumns: \u001b[1m\u001b[22m\u001b[34m\u001b[34m7\u001b[34m\u001b[39m\n",
      "\n",
      "\u001b[36m──\u001b[39m \u001b[1m\u001b[1mColumn specification\u001b[1m\u001b[22m \u001b[36m────────────────────────────────────────────────────────────────────────────────────────────────────────\u001b[39m\n",
      "\u001b[1mDelimiter:\u001b[22m \"\\t\"\n",
      "\u001b[31mchr\u001b[39m (3): SNP, A1, A2\n",
      "\u001b[32mdbl\u001b[39m (4): Z, N, chi2, P\n",
      "\n",
      "\n",
      "\u001b[36mℹ\u001b[39m Use \u001b[30m\u001b[47m\u001b[30m\u001b[47m`spec()`\u001b[47m\u001b[30m\u001b[49m\u001b[39m to retrieve the full column specification for this data.\n",
      "\u001b[36mℹ\u001b[39m Specify the column types or set \u001b[30m\u001b[47m\u001b[30m\u001b[47m`show_col_types = FALSE`\u001b[47m\u001b[30m\u001b[49m\u001b[39m to quiet this message.\n",
      "\n",
      "\u001b[1m\u001b[1mRows: \u001b[1m\u001b[22m\u001b[34m\u001b[34m1037742\u001b[34m\u001b[39m \u001b[1m\u001b[1mColumns: \u001b[1m\u001b[22m\u001b[34m\u001b[34m7\u001b[34m\u001b[39m\n",
      "\n",
      "\u001b[36m──\u001b[39m \u001b[1m\u001b[1mColumn specification\u001b[1m\u001b[22m \u001b[36m────────────────────────────────────────────────────────────────────────────────────────────────────────\u001b[39m\n",
      "\u001b[1mDelimiter:\u001b[22m \"\\t\"\n",
      "\u001b[31mchr\u001b[39m (3): SNP, A1, A2\n",
      "\u001b[32mdbl\u001b[39m (4): Z, N, chi2, P\n",
      "\n",
      "\n",
      "\u001b[36mℹ\u001b[39m Use \u001b[30m\u001b[47m\u001b[30m\u001b[47m`spec()`\u001b[47m\u001b[30m\u001b[49m\u001b[39m to retrieve the full column specification for this data.\n",
      "\u001b[36mℹ\u001b[39m Specify the column types or set \u001b[30m\u001b[47m\u001b[30m\u001b[47m`show_col_types = FALSE`\u001b[47m\u001b[30m\u001b[49m\u001b[39m to quiet this message.\n",
      "\n"
     ]
    },
    {
     "name": "stdout",
     "output_type": "stream",
     "text": [
      "Formatting X1\n",
      "There are  1148476  variants.\n",
      "Removing  0  duplicated variants leaving  1148476 variants.\n",
      "No variants have illegal alleles.\n",
      "Removed  0  variants with ambiguous strand.\n",
      "Flipping strand and effect allele so A1 is always A\n",
      "Returning  1148476  variants.\n",
      "Formatting X2\n",
      "There are  1037742  variants.\n",
      "Removing  0  duplicated variants leaving  1037742 variants.\n",
      "No variants have illegal alleles.\n",
      "Removed  0  variants with ambiguous strand.\n",
      "Flipping strand and effect allele so A1 is always A\n",
      "Returning  1037742  variants.\n",
      "After merging and removing variants with inconsistent alleles,  there are  1015668  variants that are present in both studies and can be used with CAUSE.\n"
     ]
    },
    {
     "name": "stderr",
     "output_type": "stream",
     "text": [
      "API: public: http://gwas-api.mrcieu.ac.uk/\n",
      "\n",
      "Clumping bj7EO9, 2654 variants, using EUR population reference\n",
      "\n",
      "Removing 1998 of 2654 variants due to LD with other variants or absence from LD reference panel\n",
      "\n"
     ]
    },
    {
     "name": "stdout",
     "output_type": "stream",
     "text": [
      "Estimating CAUSE parameters with  1000000  variants.\n",
      "1 0.01057998 \n",
      "2 1.408689e-06 \n",
      "3 2.908986e-09 \n",
      "Estimating CAUSE posteriors using  656  variants.\n"
     ]
    },
    {
     "name": "stderr",
     "output_type": "stream",
     "text": [
      "Warning message:\n",
      "“'compare' is deprecated.\n",
      "Use 'loo_compare' instead.\n",
      "See help(\"Deprecated\")”\n"
     ]
    },
    {
     "name": "stdout",
     "output_type": "stream",
     "text": [
      "    user   system  elapsed \n",
      "2076.036 1725.831  477.311 \n",
      "AD ~ Hair_Dark_Brown \n"
     ]
    },
    {
     "name": "stderr",
     "output_type": "stream",
     "text": [
      "\u001b[1m\u001b[1mRows: \u001b[1m\u001b[22m\u001b[34m\u001b[34m1148476\u001b[34m\u001b[39m \u001b[1m\u001b[1mColumns: \u001b[1m\u001b[22m\u001b[34m\u001b[34m7\u001b[34m\u001b[39m\n",
      "\n",
      "\u001b[36m──\u001b[39m \u001b[1m\u001b[1mColumn specification\u001b[1m\u001b[22m \u001b[36m────────────────────────────────────────────────────────────────────────────────────────────────────────\u001b[39m\n",
      "\u001b[1mDelimiter:\u001b[22m \"\\t\"\n",
      "\u001b[31mchr\u001b[39m (3): SNP, A1, A2\n",
      "\u001b[32mdbl\u001b[39m (4): Z, N, chi2, P\n",
      "\n",
      "\n",
      "\u001b[36mℹ\u001b[39m Use \u001b[30m\u001b[47m\u001b[30m\u001b[47m`spec()`\u001b[47m\u001b[30m\u001b[49m\u001b[39m to retrieve the full column specification for this data.\n",
      "\u001b[36mℹ\u001b[39m Specify the column types or set \u001b[30m\u001b[47m\u001b[30m\u001b[47m`show_col_types = FALSE`\u001b[47m\u001b[30m\u001b[49m\u001b[39m to quiet this message.\n",
      "\n",
      "\u001b[1m\u001b[1mRows: \u001b[1m\u001b[22m\u001b[34m\u001b[34m1037381\u001b[34m\u001b[39m \u001b[1m\u001b[1mColumns: \u001b[1m\u001b[22m\u001b[34m\u001b[34m7\u001b[34m\u001b[39m\n",
      "\n",
      "\u001b[36m──\u001b[39m \u001b[1m\u001b[1mColumn specification\u001b[1m\u001b[22m \u001b[36m────────────────────────────────────────────────────────────────────────────────────────────────────────\u001b[39m\n",
      "\u001b[1mDelimiter:\u001b[22m \"\\t\"\n",
      "\u001b[31mchr\u001b[39m (3): SNP, A1, A2\n",
      "\u001b[32mdbl\u001b[39m (4): Z, N, chi2, P\n",
      "\n",
      "\n",
      "\u001b[36mℹ\u001b[39m Use \u001b[30m\u001b[47m\u001b[30m\u001b[47m`spec()`\u001b[47m\u001b[30m\u001b[49m\u001b[39m to retrieve the full column specification for this data.\n",
      "\u001b[36mℹ\u001b[39m Specify the column types or set \u001b[30m\u001b[47m\u001b[30m\u001b[47m`show_col_types = FALSE`\u001b[47m\u001b[30m\u001b[49m\u001b[39m to quiet this message.\n",
      "\n"
     ]
    },
    {
     "name": "stdout",
     "output_type": "stream",
     "text": [
      "Formatting X1\n",
      "There are  1148476  variants.\n",
      "Removing  0  duplicated variants leaving  1148476 variants.\n",
      "No variants have illegal alleles.\n",
      "Removed  0  variants with ambiguous strand.\n",
      "Flipping strand and effect allele so A1 is always A\n",
      "Returning  1148476  variants.\n",
      "Formatting X2\n",
      "There are  1037381  variants.\n",
      "Removing  0  duplicated variants leaving  1037381 variants.\n",
      "No variants have illegal alleles.\n",
      "Removed  0  variants with ambiguous strand.\n",
      "Flipping strand and effect allele so A1 is always A\n",
      "Returning  1037381  variants.\n",
      "After merging and removing variants with inconsistent alleles,  there are  1015318  variants that are present in both studies and can be used with CAUSE.\n"
     ]
    },
    {
     "name": "stderr",
     "output_type": "stream",
     "text": [
      "Clumping tBKJYx, 2654 variants, using EUR population reference\n",
      "\n",
      "Removing 1998 of 2654 variants due to LD with other variants or absence from LD reference panel\n",
      "\n"
     ]
    },
    {
     "name": "stdout",
     "output_type": "stream",
     "text": [
      "Estimating CAUSE parameters with  1000000  variants.\n",
      "1 0.001833992 \n",
      "2 5.321973e-07 \n",
      "3 5.721256e-09 \n",
      "Estimating CAUSE posteriors using  656  variants.\n"
     ]
    },
    {
     "name": "stderr",
     "output_type": "stream",
     "text": [
      "Warning message:\n",
      "“'compare' is deprecated.\n",
      "Use 'loo_compare' instead.\n",
      "See help(\"Deprecated\")”\n"
     ]
    },
    {
     "name": "stdout",
     "output_type": "stream",
     "text": [
      "    user   system  elapsed \n",
      "2015.060 1716.359  421.315 \n",
      "AD ~ Hair_Black \n"
     ]
    },
    {
     "name": "stderr",
     "output_type": "stream",
     "text": [
      "\u001b[1m\u001b[1mRows: \u001b[1m\u001b[22m\u001b[34m\u001b[34m1148476\u001b[34m\u001b[39m \u001b[1m\u001b[1mColumns: \u001b[1m\u001b[22m\u001b[34m\u001b[34m7\u001b[34m\u001b[39m\n",
      "\n",
      "\u001b[36m──\u001b[39m \u001b[1m\u001b[1mColumn specification\u001b[1m\u001b[22m \u001b[36m────────────────────────────────────────────────────────────────────────────────────────────────────────\u001b[39m\n",
      "\u001b[1mDelimiter:\u001b[22m \"\\t\"\n",
      "\u001b[31mchr\u001b[39m (3): SNP, A1, A2\n",
      "\u001b[32mdbl\u001b[39m (4): Z, N, chi2, P\n",
      "\n",
      "\n",
      "\u001b[36mℹ\u001b[39m Use \u001b[30m\u001b[47m\u001b[30m\u001b[47m`spec()`\u001b[47m\u001b[30m\u001b[49m\u001b[39m to retrieve the full column specification for this data.\n",
      "\u001b[36mℹ\u001b[39m Specify the column types or set \u001b[30m\u001b[47m\u001b[30m\u001b[47m`show_col_types = FALSE`\u001b[47m\u001b[30m\u001b[49m\u001b[39m to quiet this message.\n",
      "\n",
      "\u001b[1m\u001b[1mRows: \u001b[1m\u001b[22m\u001b[34m\u001b[34m1037702\u001b[34m\u001b[39m \u001b[1m\u001b[1mColumns: \u001b[1m\u001b[22m\u001b[34m\u001b[34m7\u001b[34m\u001b[39m\n",
      "\n",
      "\u001b[36m──\u001b[39m \u001b[1m\u001b[1mColumn specification\u001b[1m\u001b[22m \u001b[36m────────────────────────────────────────────────────────────────────────────────────────────────────────\u001b[39m\n",
      "\u001b[1mDelimiter:\u001b[22m \"\\t\"\n",
      "\u001b[31mchr\u001b[39m (3): SNP, A1, A2\n",
      "\u001b[32mdbl\u001b[39m (4): Z, N, chi2, P\n",
      "\n",
      "\n",
      "\u001b[36mℹ\u001b[39m Use \u001b[30m\u001b[47m\u001b[30m\u001b[47m`spec()`\u001b[47m\u001b[30m\u001b[49m\u001b[39m to retrieve the full column specification for this data.\n",
      "\u001b[36mℹ\u001b[39m Specify the column types or set \u001b[30m\u001b[47m\u001b[30m\u001b[47m`show_col_types = FALSE`\u001b[47m\u001b[30m\u001b[49m\u001b[39m to quiet this message.\n",
      "\n"
     ]
    },
    {
     "name": "stdout",
     "output_type": "stream",
     "text": [
      "Formatting X1\n",
      "There are  1148476  variants.\n",
      "Removing  0  duplicated variants leaving  1148476 variants.\n",
      "No variants have illegal alleles.\n",
      "Removed  0  variants with ambiguous strand.\n",
      "Flipping strand and effect allele so A1 is always A\n",
      "Returning  1148476  variants.\n",
      "Formatting X2\n",
      "There are  1037702  variants.\n",
      "Removing  0  duplicated variants leaving  1037702 variants.\n",
      "No variants have illegal alleles.\n",
      "Removed  0  variants with ambiguous strand.\n",
      "Flipping strand and effect allele so A1 is always A\n",
      "Returning  1037702  variants.\n",
      "After merging and removing variants with inconsistent alleles,  there are  1015628  variants that are present in both studies and can be used with CAUSE.\n"
     ]
    },
    {
     "name": "stderr",
     "output_type": "stream",
     "text": [
      "Clumping OAJouO, 2654 variants, using EUR population reference\n",
      "\n",
      "Removing 1998 of 2654 variants due to LD with other variants or absence from LD reference panel\n",
      "\n"
     ]
    },
    {
     "name": "stdout",
     "output_type": "stream",
     "text": [
      "Estimating CAUSE parameters with  1000000  variants.\n",
      "1 0.02433155 \n",
      "2 2.187267e-05 \n",
      "3 4.213733e-08 \n",
      "Estimating CAUSE posteriors using  656  variants.\n"
     ]
    },
    {
     "name": "stderr",
     "output_type": "stream",
     "text": [
      "Warning message:\n",
      "“'compare' is deprecated.\n",
      "Use 'loo_compare' instead.\n",
      "See help(\"Deprecated\")”\n"
     ]
    },
    {
     "name": "stdout",
     "output_type": "stream",
     "text": [
      "    user   system  elapsed \n",
      "1776.771 1577.577  390.720 \n",
      "AD ~ Hair_Blonde \n"
     ]
    },
    {
     "name": "stderr",
     "output_type": "stream",
     "text": [
      "\u001b[1m\u001b[1mRows: \u001b[1m\u001b[22m\u001b[34m\u001b[34m1148476\u001b[34m\u001b[39m \u001b[1m\u001b[1mColumns: \u001b[1m\u001b[22m\u001b[34m\u001b[34m7\u001b[34m\u001b[39m\n",
      "\n",
      "\u001b[36m──\u001b[39m \u001b[1m\u001b[1mColumn specification\u001b[1m\u001b[22m \u001b[36m────────────────────────────────────────────────────────────────────────────────────────────────────────\u001b[39m\n",
      "\u001b[1mDelimiter:\u001b[22m \"\\t\"\n",
      "\u001b[31mchr\u001b[39m (3): SNP, A1, A2\n",
      "\u001b[32mdbl\u001b[39m (4): Z, N, chi2, P\n",
      "\n",
      "\n",
      "\u001b[36mℹ\u001b[39m Use \u001b[30m\u001b[47m\u001b[30m\u001b[47m`spec()`\u001b[47m\u001b[30m\u001b[49m\u001b[39m to retrieve the full column specification for this data.\n",
      "\u001b[36mℹ\u001b[39m Specify the column types or set \u001b[30m\u001b[47m\u001b[30m\u001b[47m`show_col_types = FALSE`\u001b[47m\u001b[30m\u001b[49m\u001b[39m to quiet this message.\n",
      "\n",
      "\u001b[1m\u001b[1mRows: \u001b[1m\u001b[22m\u001b[34m\u001b[34m1037533\u001b[34m\u001b[39m \u001b[1m\u001b[1mColumns: \u001b[1m\u001b[22m\u001b[34m\u001b[34m7\u001b[34m\u001b[39m\n",
      "\n",
      "\u001b[36m──\u001b[39m \u001b[1m\u001b[1mColumn specification\u001b[1m\u001b[22m \u001b[36m────────────────────────────────────────────────────────────────────────────────────────────────────────\u001b[39m\n",
      "\u001b[1mDelimiter:\u001b[22m \"\\t\"\n",
      "\u001b[31mchr\u001b[39m (3): SNP, A1, A2\n",
      "\u001b[32mdbl\u001b[39m (4): Z, N, chi2, P\n",
      "\n",
      "\n",
      "\u001b[36mℹ\u001b[39m Use \u001b[30m\u001b[47m\u001b[30m\u001b[47m`spec()`\u001b[47m\u001b[30m\u001b[49m\u001b[39m to retrieve the full column specification for this data.\n",
      "\u001b[36mℹ\u001b[39m Specify the column types or set \u001b[30m\u001b[47m\u001b[30m\u001b[47m`show_col_types = FALSE`\u001b[47m\u001b[30m\u001b[49m\u001b[39m to quiet this message.\n",
      "\n"
     ]
    },
    {
     "name": "stdout",
     "output_type": "stream",
     "text": [
      "Formatting X1\n",
      "There are  1148476  variants.\n",
      "Removing  0  duplicated variants leaving  1148476 variants.\n",
      "No variants have illegal alleles.\n",
      "Removed  0  variants with ambiguous strand.\n",
      "Flipping strand and effect allele so A1 is always A\n",
      "Returning  1148476  variants.\n",
      "Formatting X2\n",
      "There are  1037533  variants.\n",
      "Removing  0  duplicated variants leaving  1037533 variants.\n",
      "No variants have illegal alleles.\n",
      "Removed  0  variants with ambiguous strand.\n",
      "Flipping strand and effect allele so A1 is always A\n",
      "Returning  1037533  variants.\n",
      "After merging and removing variants with inconsistent alleles,  there are  1015464  variants that are present in both studies and can be used with CAUSE.\n"
     ]
    },
    {
     "name": "stderr",
     "output_type": "stream",
     "text": [
      "Clumping Lamz8B, 2654 variants, using EUR population reference\n",
      "\n",
      "Removing 1998 of 2654 variants due to LD with other variants or absence from LD reference panel\n",
      "\n"
     ]
    },
    {
     "name": "stdout",
     "output_type": "stream",
     "text": [
      "Estimating CAUSE parameters with  1000000  variants.\n",
      "1 0.001531846 \n",
      "2 3.423445e-07 \n",
      "3 2.21026e-09 \n",
      "Estimating CAUSE posteriors using  656  variants.\n"
     ]
    },
    {
     "name": "stderr",
     "output_type": "stream",
     "text": [
      "Warning message:\n",
      "“'compare' is deprecated.\n",
      "Use 'loo_compare' instead.\n",
      "See help(\"Deprecated\")”\n"
     ]
    },
    {
     "name": "stdout",
     "output_type": "stream",
     "text": [
      "    user   system  elapsed \n",
      "1743.795 1630.952  384.129 \n",
      "AD ~ Tanning \n"
     ]
    },
    {
     "name": "stderr",
     "output_type": "stream",
     "text": [
      "\u001b[1m\u001b[1mRows: \u001b[1m\u001b[22m\u001b[34m\u001b[34m1148476\u001b[34m\u001b[39m \u001b[1m\u001b[1mColumns: \u001b[1m\u001b[22m\u001b[34m\u001b[34m7\u001b[34m\u001b[39m\n",
      "\n",
      "\u001b[36m──\u001b[39m \u001b[1m\u001b[1mColumn specification\u001b[1m\u001b[22m \u001b[36m────────────────────────────────────────────────────────────────────────────────────────────────────────\u001b[39m\n",
      "\u001b[1mDelimiter:\u001b[22m \"\\t\"\n",
      "\u001b[31mchr\u001b[39m (3): SNP, A1, A2\n",
      "\u001b[32mdbl\u001b[39m (4): Z, N, chi2, P\n",
      "\n",
      "\n",
      "\u001b[36mℹ\u001b[39m Use \u001b[30m\u001b[47m\u001b[30m\u001b[47m`spec()`\u001b[47m\u001b[30m\u001b[49m\u001b[39m to retrieve the full column specification for this data.\n",
      "\u001b[36mℹ\u001b[39m Specify the column types or set \u001b[30m\u001b[47m\u001b[30m\u001b[47m`show_col_types = FALSE`\u001b[47m\u001b[30m\u001b[49m\u001b[39m to quiet this message.\n",
      "\n",
      "\u001b[1m\u001b[1mRows: \u001b[1m\u001b[22m\u001b[34m\u001b[34m1037026\u001b[34m\u001b[39m \u001b[1m\u001b[1mColumns: \u001b[1m\u001b[22m\u001b[34m\u001b[34m7\u001b[34m\u001b[39m\n",
      "\n",
      "\u001b[36m──\u001b[39m \u001b[1m\u001b[1mColumn specification\u001b[1m\u001b[22m \u001b[36m────────────────────────────────────────────────────────────────────────────────────────────────────────\u001b[39m\n",
      "\u001b[1mDelimiter:\u001b[22m \"\\t\"\n",
      "\u001b[31mchr\u001b[39m (3): SNP, A1, A2\n",
      "\u001b[32mdbl\u001b[39m (4): Z, N, chi2, P\n",
      "\n",
      "\n",
      "\u001b[36mℹ\u001b[39m Use \u001b[30m\u001b[47m\u001b[30m\u001b[47m`spec()`\u001b[47m\u001b[30m\u001b[49m\u001b[39m to retrieve the full column specification for this data.\n",
      "\u001b[36mℹ\u001b[39m Specify the column types or set \u001b[30m\u001b[47m\u001b[30m\u001b[47m`show_col_types = FALSE`\u001b[47m\u001b[30m\u001b[49m\u001b[39m to quiet this message.\n",
      "\n"
     ]
    },
    {
     "name": "stdout",
     "output_type": "stream",
     "text": [
      "Formatting X1\n",
      "There are  1148476  variants.\n",
      "Removing  0  duplicated variants leaving  1148476 variants.\n",
      "No variants have illegal alleles.\n",
      "Removed  0  variants with ambiguous strand.\n",
      "Flipping strand and effect allele so A1 is always A\n",
      "Returning  1148476  variants.\n",
      "Formatting X2\n",
      "There are  1037026  variants.\n",
      "Removing  0  duplicated variants leaving  1037026 variants.\n",
      "No variants have illegal alleles.\n",
      "Removed  0  variants with ambiguous strand.\n",
      "Flipping strand and effect allele so A1 is always A\n",
      "Returning  1037026  variants.\n",
      "After merging and removing variants with inconsistent alleles,  there are  1014975  variants that are present in both studies and can be used with CAUSE.\n"
     ]
    },
    {
     "name": "stderr",
     "output_type": "stream",
     "text": [
      "Clumping 38qcAD, 2654 variants, using EUR population reference\n",
      "\n",
      "Removing 1998 of 2654 variants due to LD with other variants or absence from LD reference panel\n",
      "\n"
     ]
    },
    {
     "name": "stdout",
     "output_type": "stream",
     "text": [
      "Estimating CAUSE parameters with  1000000  variants.\n",
      "1 0.02156815 \n",
      "2 7.118717e-06 \n",
      "3 9.528402e-09 \n",
      "Estimating CAUSE posteriors using  656  variants.\n"
     ]
    },
    {
     "name": "stderr",
     "output_type": "stream",
     "text": [
      "Warning message:\n",
      "“'compare' is deprecated.\n",
      "Use 'loo_compare' instead.\n",
      "See help(\"Deprecated\")”\n"
     ]
    },
    {
     "name": "stdout",
     "output_type": "stream",
     "text": [
      "    user   system  elapsed \n",
      "1887.960 1434.694  404.350 \n",
      "ASD ~ Hair_Light_Brown \n"
     ]
    },
    {
     "name": "stderr",
     "output_type": "stream",
     "text": [
      "\u001b[1m\u001b[1mRows: \u001b[1m\u001b[22m\u001b[34m\u001b[34m1076873\u001b[34m\u001b[39m \u001b[1m\u001b[1mColumns: \u001b[1m\u001b[22m\u001b[34m\u001b[34m7\u001b[34m\u001b[39m\n",
      "\n",
      "\u001b[36m──\u001b[39m \u001b[1m\u001b[1mColumn specification\u001b[1m\u001b[22m \u001b[36m────────────────────────────────────────────────────────────────────────────────────────────────────────\u001b[39m\n",
      "\u001b[1mDelimiter:\u001b[22m \"\\t\"\n",
      "\u001b[31mchr\u001b[39m (3): SNP, A1, A2\n",
      "\u001b[32mdbl\u001b[39m (4): Z, N, chi2, P\n",
      "\n",
      "\n",
      "\u001b[36mℹ\u001b[39m Use \u001b[30m\u001b[47m\u001b[30m\u001b[47m`spec()`\u001b[47m\u001b[30m\u001b[49m\u001b[39m to retrieve the full column specification for this data.\n",
      "\u001b[36mℹ\u001b[39m Specify the column types or set \u001b[30m\u001b[47m\u001b[30m\u001b[47m`show_col_types = FALSE`\u001b[47m\u001b[30m\u001b[49m\u001b[39m to quiet this message.\n",
      "\n",
      "\u001b[1m\u001b[1mRows: \u001b[1m\u001b[22m\u001b[34m\u001b[34m1037742\u001b[34m\u001b[39m \u001b[1m\u001b[1mColumns: \u001b[1m\u001b[22m\u001b[34m\u001b[34m7\u001b[34m\u001b[39m\n",
      "\n",
      "\u001b[36m──\u001b[39m \u001b[1m\u001b[1mColumn specification\u001b[1m\u001b[22m \u001b[36m────────────────────────────────────────────────────────────────────────────────────────────────────────\u001b[39m\n",
      "\u001b[1mDelimiter:\u001b[22m \"\\t\"\n",
      "\u001b[31mchr\u001b[39m (3): SNP, A1, A2\n",
      "\u001b[32mdbl\u001b[39m (4): Z, N, chi2, P\n",
      "\n",
      "\n",
      "\u001b[36mℹ\u001b[39m Use \u001b[30m\u001b[47m\u001b[30m\u001b[47m`spec()`\u001b[47m\u001b[30m\u001b[49m\u001b[39m to retrieve the full column specification for this data.\n",
      "\u001b[36mℹ\u001b[39m Specify the column types or set \u001b[30m\u001b[47m\u001b[30m\u001b[47m`show_col_types = FALSE`\u001b[47m\u001b[30m\u001b[49m\u001b[39m to quiet this message.\n",
      "\n"
     ]
    },
    {
     "name": "stdout",
     "output_type": "stream",
     "text": [
      "Formatting X1\n",
      "There are  1076873  variants.\n",
      "Removing  0  duplicated variants leaving  1076873 variants.\n",
      "No variants have illegal alleles.\n",
      "Removed  0  variants with ambiguous strand.\n",
      "Flipping strand and effect allele so A1 is always A\n",
      "Returning  1076873  variants.\n",
      "Formatting X2\n",
      "There are  1037742  variants.\n",
      "Removing  0  duplicated variants leaving  1037742 variants.\n",
      "No variants have illegal alleles.\n",
      "Removed  0  variants with ambiguous strand.\n",
      "Flipping strand and effect allele so A1 is always A\n",
      "Returning  1037742  variants.\n",
      "After merging and removing variants with inconsistent alleles,  there are  1024812  variants that are present in both studies and can be used with CAUSE.\n"
     ]
    },
    {
     "name": "stderr",
     "output_type": "stream",
     "text": [
      "Clumping r96qPx, 1607 variants, using EUR population reference\n",
      "\n",
      "Removing 1112 of 1607 variants due to LD with other variants or absence from LD reference panel\n",
      "\n"
     ]
    },
    {
     "name": "stdout",
     "output_type": "stream",
     "text": [
      "Estimating CAUSE parameters with  1000000  variants.\n",
      "1 0.008631207 \n",
      "2 6.084038e-06 \n",
      "3 2.444827e-09 \n",
      "Estimating CAUSE posteriors using  478  variants.\n"
     ]
    },
    {
     "name": "stderr",
     "output_type": "stream",
     "text": [
      "Warning message:\n",
      "“'compare' is deprecated.\n",
      "Use 'loo_compare' instead.\n",
      "See help(\"Deprecated\")”\n"
     ]
    },
    {
     "name": "stdout",
     "output_type": "stream",
     "text": [
      "    user   system  elapsed \n",
      "1496.338 1341.502  344.036 \n",
      "ASD ~ Hair_Dark_Brown \n"
     ]
    },
    {
     "name": "stderr",
     "output_type": "stream",
     "text": [
      "\u001b[1m\u001b[1mRows: \u001b[1m\u001b[22m\u001b[34m\u001b[34m1076873\u001b[34m\u001b[39m \u001b[1m\u001b[1mColumns: \u001b[1m\u001b[22m\u001b[34m\u001b[34m7\u001b[34m\u001b[39m\n",
      "\n",
      "\u001b[36m──\u001b[39m \u001b[1m\u001b[1mColumn specification\u001b[1m\u001b[22m \u001b[36m────────────────────────────────────────────────────────────────────────────────────────────────────────\u001b[39m\n",
      "\u001b[1mDelimiter:\u001b[22m \"\\t\"\n",
      "\u001b[31mchr\u001b[39m (3): SNP, A1, A2\n",
      "\u001b[32mdbl\u001b[39m (4): Z, N, chi2, P\n",
      "\n",
      "\n",
      "\u001b[36mℹ\u001b[39m Use \u001b[30m\u001b[47m\u001b[30m\u001b[47m`spec()`\u001b[47m\u001b[30m\u001b[49m\u001b[39m to retrieve the full column specification for this data.\n",
      "\u001b[36mℹ\u001b[39m Specify the column types or set \u001b[30m\u001b[47m\u001b[30m\u001b[47m`show_col_types = FALSE`\u001b[47m\u001b[30m\u001b[49m\u001b[39m to quiet this message.\n",
      "\n",
      "\u001b[1m\u001b[1mRows: \u001b[1m\u001b[22m\u001b[34m\u001b[34m1037381\u001b[34m\u001b[39m \u001b[1m\u001b[1mColumns: \u001b[1m\u001b[22m\u001b[34m\u001b[34m7\u001b[34m\u001b[39m\n",
      "\n",
      "\u001b[36m──\u001b[39m \u001b[1m\u001b[1mColumn specification\u001b[1m\u001b[22m \u001b[36m────────────────────────────────────────────────────────────────────────────────────────────────────────\u001b[39m\n",
      "\u001b[1mDelimiter:\u001b[22m \"\\t\"\n",
      "\u001b[31mchr\u001b[39m (3): SNP, A1, A2\n",
      "\u001b[32mdbl\u001b[39m (4): Z, N, chi2, P\n",
      "\n",
      "\n",
      "\u001b[36mℹ\u001b[39m Use \u001b[30m\u001b[47m\u001b[30m\u001b[47m`spec()`\u001b[47m\u001b[30m\u001b[49m\u001b[39m to retrieve the full column specification for this data.\n",
      "\u001b[36mℹ\u001b[39m Specify the column types or set \u001b[30m\u001b[47m\u001b[30m\u001b[47m`show_col_types = FALSE`\u001b[47m\u001b[30m\u001b[49m\u001b[39m to quiet this message.\n",
      "\n"
     ]
    },
    {
     "name": "stdout",
     "output_type": "stream",
     "text": [
      "Formatting X1\n",
      "There are  1076873  variants.\n",
      "Removing  0  duplicated variants leaving  1076873 variants.\n",
      "No variants have illegal alleles.\n",
      "Removed  0  variants with ambiguous strand.\n",
      "Flipping strand and effect allele so A1 is always A\n",
      "Returning  1076873  variants.\n",
      "Formatting X2\n",
      "There are  1037381  variants.\n",
      "Removing  0  duplicated variants leaving  1037381 variants.\n",
      "No variants have illegal alleles.\n",
      "Removed  0  variants with ambiguous strand.\n",
      "Flipping strand and effect allele so A1 is always A\n",
      "Returning  1037381  variants.\n",
      "After merging and removing variants with inconsistent alleles,  there are  1024453  variants that are present in both studies and can be used with CAUSE.\n"
     ]
    },
    {
     "name": "stderr",
     "output_type": "stream",
     "text": [
      "Clumping cKJqfd, 1607 variants, using EUR population reference\n",
      "\n",
      "Removing 1112 of 1607 variants due to LD with other variants or absence from LD reference panel\n",
      "\n"
     ]
    },
    {
     "name": "stdout",
     "output_type": "stream",
     "text": [
      "Estimating CAUSE parameters with  1000000  variants.\n",
      "1 0.02142502 \n",
      "2 1.067348e-05 \n",
      "3 2.494828e-08 \n",
      "Estimating CAUSE posteriors using  478  variants.\n"
     ]
    },
    {
     "name": "stderr",
     "output_type": "stream",
     "text": [
      "Warning message:\n",
      "“'compare' is deprecated.\n",
      "Use 'loo_compare' instead.\n",
      "See help(\"Deprecated\")”\n"
     ]
    },
    {
     "name": "stdout",
     "output_type": "stream",
     "text": [
      "    user   system  elapsed \n",
      "1627.723 1477.362  333.169 \n",
      "ASD ~ Hair_Black \n"
     ]
    },
    {
     "name": "stderr",
     "output_type": "stream",
     "text": [
      "\u001b[1m\u001b[1mRows: \u001b[1m\u001b[22m\u001b[34m\u001b[34m1076873\u001b[34m\u001b[39m \u001b[1m\u001b[1mColumns: \u001b[1m\u001b[22m\u001b[34m\u001b[34m7\u001b[34m\u001b[39m\n",
      "\n",
      "\u001b[36m──\u001b[39m \u001b[1m\u001b[1mColumn specification\u001b[1m\u001b[22m \u001b[36m────────────────────────────────────────────────────────────────────────────────────────────────────────\u001b[39m\n",
      "\u001b[1mDelimiter:\u001b[22m \"\\t\"\n",
      "\u001b[31mchr\u001b[39m (3): SNP, A1, A2\n",
      "\u001b[32mdbl\u001b[39m (4): Z, N, chi2, P\n",
      "\n",
      "\n",
      "\u001b[36mℹ\u001b[39m Use \u001b[30m\u001b[47m\u001b[30m\u001b[47m`spec()`\u001b[47m\u001b[30m\u001b[49m\u001b[39m to retrieve the full column specification for this data.\n",
      "\u001b[36mℹ\u001b[39m Specify the column types or set \u001b[30m\u001b[47m\u001b[30m\u001b[47m`show_col_types = FALSE`\u001b[47m\u001b[30m\u001b[49m\u001b[39m to quiet this message.\n",
      "\n",
      "\u001b[1m\u001b[1mRows: \u001b[1m\u001b[22m\u001b[34m\u001b[34m1037702\u001b[34m\u001b[39m \u001b[1m\u001b[1mColumns: \u001b[1m\u001b[22m\u001b[34m\u001b[34m7\u001b[34m\u001b[39m\n",
      "\n",
      "\u001b[36m──\u001b[39m \u001b[1m\u001b[1mColumn specification\u001b[1m\u001b[22m \u001b[36m────────────────────────────────────────────────────────────────────────────────────────────────────────\u001b[39m\n",
      "\u001b[1mDelimiter:\u001b[22m \"\\t\"\n",
      "\u001b[31mchr\u001b[39m (3): SNP, A1, A2\n",
      "\u001b[32mdbl\u001b[39m (4): Z, N, chi2, P\n",
      "\n",
      "\n",
      "\u001b[36mℹ\u001b[39m Use \u001b[30m\u001b[47m\u001b[30m\u001b[47m`spec()`\u001b[47m\u001b[30m\u001b[49m\u001b[39m to retrieve the full column specification for this data.\n",
      "\u001b[36mℹ\u001b[39m Specify the column types or set \u001b[30m\u001b[47m\u001b[30m\u001b[47m`show_col_types = FALSE`\u001b[47m\u001b[30m\u001b[49m\u001b[39m to quiet this message.\n",
      "\n"
     ]
    },
    {
     "name": "stdout",
     "output_type": "stream",
     "text": [
      "Formatting X1\n",
      "There are  1076873  variants.\n",
      "Removing  0  duplicated variants leaving  1076873 variants.\n",
      "No variants have illegal alleles.\n",
      "Removed  0  variants with ambiguous strand.\n",
      "Flipping strand and effect allele so A1 is always A\n",
      "Returning  1076873  variants.\n",
      "Formatting X2\n",
      "There are  1037702  variants.\n",
      "Removing  0  duplicated variants leaving  1037702 variants.\n",
      "No variants have illegal alleles.\n",
      "Removed  0  variants with ambiguous strand.\n",
      "Flipping strand and effect allele so A1 is always A\n",
      "Returning  1037702  variants.\n",
      "After merging and removing variants with inconsistent alleles,  there are  1024772  variants that are present in both studies and can be used with CAUSE.\n"
     ]
    },
    {
     "name": "stderr",
     "output_type": "stream",
     "text": [
      "Clumping apSqai, 1607 variants, using EUR population reference\n",
      "\n",
      "Removing 1112 of 1607 variants due to LD with other variants or absence from LD reference panel\n",
      "\n"
     ]
    },
    {
     "name": "stdout",
     "output_type": "stream",
     "text": [
      "Estimating CAUSE parameters with  1000000  variants.\n",
      "1 0.0115894 \n",
      "2 1.156658e-05 \n",
      "3 1.156866e-08 \n",
      "Estimating CAUSE posteriors using  478  variants.\n"
     ]
    },
    {
     "name": "stderr",
     "output_type": "stream",
     "text": [
      "Warning message:\n",
      "“'compare' is deprecated.\n",
      "Use 'loo_compare' instead.\n",
      "See help(\"Deprecated\")”\n"
     ]
    },
    {
     "name": "stdout",
     "output_type": "stream",
     "text": [
      "    user   system  elapsed \n",
      "1472.554 1338.236  325.512 \n",
      "ASD ~ Hair_Blonde \n"
     ]
    },
    {
     "name": "stderr",
     "output_type": "stream",
     "text": [
      "\u001b[1m\u001b[1mRows: \u001b[1m\u001b[22m\u001b[34m\u001b[34m1076873\u001b[34m\u001b[39m \u001b[1m\u001b[1mColumns: \u001b[1m\u001b[22m\u001b[34m\u001b[34m7\u001b[34m\u001b[39m\n",
      "\n",
      "\u001b[36m──\u001b[39m \u001b[1m\u001b[1mColumn specification\u001b[1m\u001b[22m \u001b[36m────────────────────────────────────────────────────────────────────────────────────────────────────────\u001b[39m\n",
      "\u001b[1mDelimiter:\u001b[22m \"\\t\"\n",
      "\u001b[31mchr\u001b[39m (3): SNP, A1, A2\n",
      "\u001b[32mdbl\u001b[39m (4): Z, N, chi2, P\n",
      "\n",
      "\n",
      "\u001b[36mℹ\u001b[39m Use \u001b[30m\u001b[47m\u001b[30m\u001b[47m`spec()`\u001b[47m\u001b[30m\u001b[49m\u001b[39m to retrieve the full column specification for this data.\n",
      "\u001b[36mℹ\u001b[39m Specify the column types or set \u001b[30m\u001b[47m\u001b[30m\u001b[47m`show_col_types = FALSE`\u001b[47m\u001b[30m\u001b[49m\u001b[39m to quiet this message.\n",
      "\n",
      "\u001b[1m\u001b[1mRows: \u001b[1m\u001b[22m\u001b[34m\u001b[34m1037533\u001b[34m\u001b[39m \u001b[1m\u001b[1mColumns: \u001b[1m\u001b[22m\u001b[34m\u001b[34m7\u001b[34m\u001b[39m\n",
      "\n",
      "\u001b[36m──\u001b[39m \u001b[1m\u001b[1mColumn specification\u001b[1m\u001b[22m \u001b[36m────────────────────────────────────────────────────────────────────────────────────────────────────────\u001b[39m\n",
      "\u001b[1mDelimiter:\u001b[22m \"\\t\"\n",
      "\u001b[31mchr\u001b[39m (3): SNP, A1, A2\n",
      "\u001b[32mdbl\u001b[39m (4): Z, N, chi2, P\n",
      "\n",
      "\n",
      "\u001b[36mℹ\u001b[39m Use \u001b[30m\u001b[47m\u001b[30m\u001b[47m`spec()`\u001b[47m\u001b[30m\u001b[49m\u001b[39m to retrieve the full column specification for this data.\n",
      "\u001b[36mℹ\u001b[39m Specify the column types or set \u001b[30m\u001b[47m\u001b[30m\u001b[47m`show_col_types = FALSE`\u001b[47m\u001b[30m\u001b[49m\u001b[39m to quiet this message.\n",
      "\n"
     ]
    },
    {
     "name": "stdout",
     "output_type": "stream",
     "text": [
      "Formatting X1\n",
      "There are  1076873  variants.\n",
      "Removing  0  duplicated variants leaving  1076873 variants.\n",
      "No variants have illegal alleles.\n",
      "Removed  0  variants with ambiguous strand.\n",
      "Flipping strand and effect allele so A1 is always A\n",
      "Returning  1076873  variants.\n",
      "Formatting X2\n",
      "There are  1037533  variants.\n",
      "Removing  0  duplicated variants leaving  1037533 variants.\n",
      "No variants have illegal alleles.\n",
      "Removed  0  variants with ambiguous strand.\n",
      "Flipping strand and effect allele so A1 is always A\n",
      "Returning  1037533  variants.\n",
      "After merging and removing variants with inconsistent alleles,  there are  1024603  variants that are present in both studies and can be used with CAUSE.\n"
     ]
    },
    {
     "name": "stderr",
     "output_type": "stream",
     "text": [
      "Clumping oCar7v, 1607 variants, using EUR population reference\n",
      "\n",
      "Removing 1112 of 1607 variants due to LD with other variants or absence from LD reference panel\n",
      "\n"
     ]
    },
    {
     "name": "stdout",
     "output_type": "stream",
     "text": [
      "Estimating CAUSE parameters with  1000000  variants.\n",
      "1 0.004426518 \n",
      "2 3.641314e-07 \n",
      "3 4.173857e-11 \n",
      "Estimating CAUSE posteriors using  478  variants.\n"
     ]
    },
    {
     "name": "stderr",
     "output_type": "stream",
     "text": [
      "Warning message:\n",
      "“'compare' is deprecated.\n",
      "Use 'loo_compare' instead.\n",
      "See help(\"Deprecated\")”\n"
     ]
    },
    {
     "name": "stdout",
     "output_type": "stream",
     "text": [
      "    user   system  elapsed \n",
      "1404.096 1391.503  314.256 \n",
      "ASD ~ Tanning \n"
     ]
    },
    {
     "name": "stderr",
     "output_type": "stream",
     "text": [
      "\u001b[1m\u001b[1mRows: \u001b[1m\u001b[22m\u001b[34m\u001b[34m1076873\u001b[34m\u001b[39m \u001b[1m\u001b[1mColumns: \u001b[1m\u001b[22m\u001b[34m\u001b[34m7\u001b[34m\u001b[39m\n",
      "\n",
      "\u001b[36m──\u001b[39m \u001b[1m\u001b[1mColumn specification\u001b[1m\u001b[22m \u001b[36m────────────────────────────────────────────────────────────────────────────────────────────────────────\u001b[39m\n",
      "\u001b[1mDelimiter:\u001b[22m \"\\t\"\n",
      "\u001b[31mchr\u001b[39m (3): SNP, A1, A2\n",
      "\u001b[32mdbl\u001b[39m (4): Z, N, chi2, P\n",
      "\n",
      "\n",
      "\u001b[36mℹ\u001b[39m Use \u001b[30m\u001b[47m\u001b[30m\u001b[47m`spec()`\u001b[47m\u001b[30m\u001b[49m\u001b[39m to retrieve the full column specification for this data.\n",
      "\u001b[36mℹ\u001b[39m Specify the column types or set \u001b[30m\u001b[47m\u001b[30m\u001b[47m`show_col_types = FALSE`\u001b[47m\u001b[30m\u001b[49m\u001b[39m to quiet this message.\n",
      "\n",
      "\u001b[1m\u001b[1mRows: \u001b[1m\u001b[22m\u001b[34m\u001b[34m1037026\u001b[34m\u001b[39m \u001b[1m\u001b[1mColumns: \u001b[1m\u001b[22m\u001b[34m\u001b[34m7\u001b[34m\u001b[39m\n",
      "\n",
      "\u001b[36m──\u001b[39m \u001b[1m\u001b[1mColumn specification\u001b[1m\u001b[22m \u001b[36m────────────────────────────────────────────────────────────────────────────────────────────────────────\u001b[39m\n",
      "\u001b[1mDelimiter:\u001b[22m \"\\t\"\n",
      "\u001b[31mchr\u001b[39m (3): SNP, A1, A2\n",
      "\u001b[32mdbl\u001b[39m (4): Z, N, chi2, P\n",
      "\n",
      "\n",
      "\u001b[36mℹ\u001b[39m Use \u001b[30m\u001b[47m\u001b[30m\u001b[47m`spec()`\u001b[47m\u001b[30m\u001b[49m\u001b[39m to retrieve the full column specification for this data.\n",
      "\u001b[36mℹ\u001b[39m Specify the column types or set \u001b[30m\u001b[47m\u001b[30m\u001b[47m`show_col_types = FALSE`\u001b[47m\u001b[30m\u001b[49m\u001b[39m to quiet this message.\n",
      "\n"
     ]
    },
    {
     "name": "stdout",
     "output_type": "stream",
     "text": [
      "Formatting X1\n",
      "There are  1076873  variants.\n",
      "Removing  0  duplicated variants leaving  1076873 variants.\n",
      "No variants have illegal alleles.\n",
      "Removed  0  variants with ambiguous strand.\n",
      "Flipping strand and effect allele so A1 is always A\n",
      "Returning  1076873  variants.\n",
      "Formatting X2\n",
      "There are  1037026  variants.\n",
      "Removing  0  duplicated variants leaving  1037026 variants.\n",
      "No variants have illegal alleles.\n",
      "Removed  0  variants with ambiguous strand.\n",
      "Flipping strand and effect allele so A1 is always A\n",
      "Returning  1037026  variants.\n",
      "After merging and removing variants with inconsistent alleles,  there are  1024100  variants that are present in both studies and can be used with CAUSE.\n"
     ]
    },
    {
     "name": "stderr",
     "output_type": "stream",
     "text": [
      "Clumping 9RXHL9, 1607 variants, using EUR population reference\n",
      "\n",
      "Removing 1112 of 1607 variants due to LD with other variants or absence from LD reference panel\n",
      "\n"
     ]
    },
    {
     "name": "stdout",
     "output_type": "stream",
     "text": [
      "Estimating CAUSE parameters with  1000000  variants.\n",
      "1 0.04164348 \n",
      "2 7.473772e-05 \n",
      "3 3.131503e-07 \n",
      "4 8.087811e-10 \n",
      "Estimating CAUSE posteriors using  478  variants.\n"
     ]
    },
    {
     "name": "stderr",
     "output_type": "stream",
     "text": [
      "Warning message:\n",
      "“'compare' is deprecated.\n",
      "Use 'loo_compare' instead.\n",
      "See help(\"Deprecated\")”\n"
     ]
    },
    {
     "name": "stdout",
     "output_type": "stream",
     "text": [
      "    user   system  elapsed \n",
      "1929.650 1755.435  374.480 \n",
      "Daytime_Sleepiness ~ Hair_Light_Brown \n"
     ]
    },
    {
     "name": "stderr",
     "output_type": "stream",
     "text": [
      "\u001b[1m\u001b[1mRows: \u001b[1m\u001b[22m\u001b[34m\u001b[34m1065141\u001b[34m\u001b[39m \u001b[1m\u001b[1mColumns: \u001b[1m\u001b[22m\u001b[34m\u001b[34m7\u001b[34m\u001b[39m\n",
      "\n",
      "\u001b[36m──\u001b[39m \u001b[1m\u001b[1mColumn specification\u001b[1m\u001b[22m \u001b[36m────────────────────────────────────────────────────────────────────────────────────────────────────────\u001b[39m\n",
      "\u001b[1mDelimiter:\u001b[22m \"\\t\"\n",
      "\u001b[31mchr\u001b[39m (3): SNP, A1, A2\n",
      "\u001b[32mdbl\u001b[39m (4): Z, N, chi2, P\n",
      "\n",
      "\n",
      "\u001b[36mℹ\u001b[39m Use \u001b[30m\u001b[47m\u001b[30m\u001b[47m`spec()`\u001b[47m\u001b[30m\u001b[49m\u001b[39m to retrieve the full column specification for this data.\n",
      "\u001b[36mℹ\u001b[39m Specify the column types or set \u001b[30m\u001b[47m\u001b[30m\u001b[47m`show_col_types = FALSE`\u001b[47m\u001b[30m\u001b[49m\u001b[39m to quiet this message.\n",
      "\n",
      "\u001b[1m\u001b[1mRows: \u001b[1m\u001b[22m\u001b[34m\u001b[34m1037742\u001b[34m\u001b[39m \u001b[1m\u001b[1mColumns: \u001b[1m\u001b[22m\u001b[34m\u001b[34m7\u001b[34m\u001b[39m\n",
      "\n",
      "\u001b[36m──\u001b[39m \u001b[1m\u001b[1mColumn specification\u001b[1m\u001b[22m \u001b[36m────────────────────────────────────────────────────────────────────────────────────────────────────────\u001b[39m\n",
      "\u001b[1mDelimiter:\u001b[22m \"\\t\"\n",
      "\u001b[31mchr\u001b[39m (3): SNP, A1, A2\n",
      "\u001b[32mdbl\u001b[39m (4): Z, N, chi2, P\n",
      "\n",
      "\n",
      "\u001b[36mℹ\u001b[39m Use \u001b[30m\u001b[47m\u001b[30m\u001b[47m`spec()`\u001b[47m\u001b[30m\u001b[49m\u001b[39m to retrieve the full column specification for this data.\n",
      "\u001b[36mℹ\u001b[39m Specify the column types or set \u001b[30m\u001b[47m\u001b[30m\u001b[47m`show_col_types = FALSE`\u001b[47m\u001b[30m\u001b[49m\u001b[39m to quiet this message.\n",
      "\n"
     ]
    },
    {
     "name": "stdout",
     "output_type": "stream",
     "text": [
      "Formatting X1\n",
      "There are  1065141  variants.\n",
      "Removing  0  duplicated variants leaving  1065141 variants.\n",
      "No variants have illegal alleles.\n",
      "Removed  0  variants with ambiguous strand.\n",
      "Flipping strand and effect allele so A1 is always A\n",
      "Returning  1065141  variants.\n",
      "Formatting X2\n",
      "There are  1037742  variants.\n",
      "Removing  0  duplicated variants leaving  1037742 variants.\n",
      "No variants have illegal alleles.\n",
      "Removed  0  variants with ambiguous strand.\n",
      "Flipping strand and effect allele so A1 is always A\n",
      "Returning  1037742  variants.\n",
      "After merging and removing variants with inconsistent alleles,  there are  1027460  variants that are present in both studies and can be used with CAUSE.\n"
     ]
    },
    {
     "name": "stderr",
     "output_type": "stream",
     "text": [
      "Clumping UREjg7, 10605 variants, using EUR population reference\n",
      "\n",
      "Removing 9172 of 10605 variants due to LD with other variants or absence from LD reference panel\n",
      "\n"
     ]
    },
    {
     "name": "stdout",
     "output_type": "stream",
     "text": [
      "Estimating CAUSE parameters with  1000000  variants.\n",
      "1 0.002524005 \n",
      "2 7.742095e-07 \n",
      "3 2.368786e-10 \n",
      "Estimating CAUSE posteriors using  1433  variants.\n"
     ]
    },
    {
     "name": "stderr",
     "output_type": "stream",
     "text": [
      "Warning message:\n",
      "“'compare' is deprecated.\n",
      "Use 'loo_compare' instead.\n",
      "See help(\"Deprecated\")”\n"
     ]
    },
    {
     "name": "stdout",
     "output_type": "stream",
     "text": [
      "    user   system  elapsed \n",
      "2213.669 1387.838  416.431 \n",
      "Daytime_Sleepiness ~ Hair_Dark_Brown \n"
     ]
    },
    {
     "name": "stderr",
     "output_type": "stream",
     "text": [
      "\u001b[1m\u001b[1mRows: \u001b[1m\u001b[22m\u001b[34m\u001b[34m1065141\u001b[34m\u001b[39m \u001b[1m\u001b[1mColumns: \u001b[1m\u001b[22m\u001b[34m\u001b[34m7\u001b[34m\u001b[39m\n",
      "\n",
      "\u001b[36m──\u001b[39m \u001b[1m\u001b[1mColumn specification\u001b[1m\u001b[22m \u001b[36m────────────────────────────────────────────────────────────────────────────────────────────────────────\u001b[39m\n",
      "\u001b[1mDelimiter:\u001b[22m \"\\t\"\n",
      "\u001b[31mchr\u001b[39m (3): SNP, A1, A2\n",
      "\u001b[32mdbl\u001b[39m (4): Z, N, chi2, P\n",
      "\n",
      "\n",
      "\u001b[36mℹ\u001b[39m Use \u001b[30m\u001b[47m\u001b[30m\u001b[47m`spec()`\u001b[47m\u001b[30m\u001b[49m\u001b[39m to retrieve the full column specification for this data.\n",
      "\u001b[36mℹ\u001b[39m Specify the column types or set \u001b[30m\u001b[47m\u001b[30m\u001b[47m`show_col_types = FALSE`\u001b[47m\u001b[30m\u001b[49m\u001b[39m to quiet this message.\n",
      "\n",
      "\u001b[1m\u001b[1mRows: \u001b[1m\u001b[22m\u001b[34m\u001b[34m1037381\u001b[34m\u001b[39m \u001b[1m\u001b[1mColumns: \u001b[1m\u001b[22m\u001b[34m\u001b[34m7\u001b[34m\u001b[39m\n",
      "\n",
      "\u001b[36m──\u001b[39m \u001b[1m\u001b[1mColumn specification\u001b[1m\u001b[22m \u001b[36m────────────────────────────────────────────────────────────────────────────────────────────────────────\u001b[39m\n",
      "\u001b[1mDelimiter:\u001b[22m \"\\t\"\n",
      "\u001b[31mchr\u001b[39m (3): SNP, A1, A2\n",
      "\u001b[32mdbl\u001b[39m (4): Z, N, chi2, P\n",
      "\n",
      "\n",
      "\u001b[36mℹ\u001b[39m Use \u001b[30m\u001b[47m\u001b[30m\u001b[47m`spec()`\u001b[47m\u001b[30m\u001b[49m\u001b[39m to retrieve the full column specification for this data.\n",
      "\u001b[36mℹ\u001b[39m Specify the column types or set \u001b[30m\u001b[47m\u001b[30m\u001b[47m`show_col_types = FALSE`\u001b[47m\u001b[30m\u001b[49m\u001b[39m to quiet this message.\n",
      "\n"
     ]
    },
    {
     "name": "stdout",
     "output_type": "stream",
     "text": [
      "Formatting X1\n",
      "There are  1065141  variants.\n",
      "Removing  0  duplicated variants leaving  1065141 variants.\n",
      "No variants have illegal alleles.\n",
      "Removed  0  variants with ambiguous strand.\n",
      "Flipping strand and effect allele so A1 is always A\n",
      "Returning  1065141  variants.\n",
      "Formatting X2\n",
      "There are  1037381  variants.\n",
      "Removing  0  duplicated variants leaving  1037381 variants.\n",
      "No variants have illegal alleles.\n",
      "Removed  0  variants with ambiguous strand.\n",
      "Flipping strand and effect allele so A1 is always A\n",
      "Returning  1037381  variants.\n",
      "After merging and removing variants with inconsistent alleles,  there are  1027099  variants that are present in both studies and can be used with CAUSE.\n"
     ]
    },
    {
     "name": "stderr",
     "output_type": "stream",
     "text": [
      "Clumping MB9FH9, 10584 variants, using EUR population reference\n",
      "\n",
      "Removing 9151 of 10584 variants due to LD with other variants or absence from LD reference panel\n",
      "\n"
     ]
    },
    {
     "name": "stdout",
     "output_type": "stream",
     "text": [
      "Estimating CAUSE parameters with  1000000  variants.\n",
      "1 0.005852138 \n",
      "2 5.13126e-06 \n",
      "3 4.557064e-09 \n",
      "Estimating CAUSE posteriors using  1433  variants.\n"
     ]
    },
    {
     "name": "stderr",
     "output_type": "stream",
     "text": [
      "Warning message:\n",
      "“'compare' is deprecated.\n",
      "Use 'loo_compare' instead.\n",
      "See help(\"Deprecated\")”\n"
     ]
    },
    {
     "name": "stdout",
     "output_type": "stream",
     "text": [
      "    user   system  elapsed \n",
      "2306.582 1711.416  444.085 \n",
      "Daytime_Sleepiness ~ Hair_Black \n"
     ]
    },
    {
     "name": "stderr",
     "output_type": "stream",
     "text": [
      "\u001b[1m\u001b[1mRows: \u001b[1m\u001b[22m\u001b[34m\u001b[34m1065141\u001b[34m\u001b[39m \u001b[1m\u001b[1mColumns: \u001b[1m\u001b[22m\u001b[34m\u001b[34m7\u001b[34m\u001b[39m\n",
      "\n",
      "\u001b[36m──\u001b[39m \u001b[1m\u001b[1mColumn specification\u001b[1m\u001b[22m \u001b[36m────────────────────────────────────────────────────────────────────────────────────────────────────────\u001b[39m\n",
      "\u001b[1mDelimiter:\u001b[22m \"\\t\"\n",
      "\u001b[31mchr\u001b[39m (3): SNP, A1, A2\n",
      "\u001b[32mdbl\u001b[39m (4): Z, N, chi2, P\n",
      "\n",
      "\n",
      "\u001b[36mℹ\u001b[39m Use \u001b[30m\u001b[47m\u001b[30m\u001b[47m`spec()`\u001b[47m\u001b[30m\u001b[49m\u001b[39m to retrieve the full column specification for this data.\n",
      "\u001b[36mℹ\u001b[39m Specify the column types or set \u001b[30m\u001b[47m\u001b[30m\u001b[47m`show_col_types = FALSE`\u001b[47m\u001b[30m\u001b[49m\u001b[39m to quiet this message.\n",
      "\n",
      "\u001b[1m\u001b[1mRows: \u001b[1m\u001b[22m\u001b[34m\u001b[34m1037702\u001b[34m\u001b[39m \u001b[1m\u001b[1mColumns: \u001b[1m\u001b[22m\u001b[34m\u001b[34m7\u001b[34m\u001b[39m\n",
      "\n",
      "\u001b[36m──\u001b[39m \u001b[1m\u001b[1mColumn specification\u001b[1m\u001b[22m \u001b[36m────────────────────────────────────────────────────────────────────────────────────────────────────────\u001b[39m\n",
      "\u001b[1mDelimiter:\u001b[22m \"\\t\"\n",
      "\u001b[31mchr\u001b[39m (3): SNP, A1, A2\n",
      "\u001b[32mdbl\u001b[39m (4): Z, N, chi2, P\n",
      "\n",
      "\n",
      "\u001b[36mℹ\u001b[39m Use \u001b[30m\u001b[47m\u001b[30m\u001b[47m`spec()`\u001b[47m\u001b[30m\u001b[49m\u001b[39m to retrieve the full column specification for this data.\n",
      "\u001b[36mℹ\u001b[39m Specify the column types or set \u001b[30m\u001b[47m\u001b[30m\u001b[47m`show_col_types = FALSE`\u001b[47m\u001b[30m\u001b[49m\u001b[39m to quiet this message.\n",
      "\n"
     ]
    },
    {
     "name": "stdout",
     "output_type": "stream",
     "text": [
      "Formatting X1\n",
      "There are  1065141  variants.\n",
      "Removing  0  duplicated variants leaving  1065141 variants.\n",
      "No variants have illegal alleles.\n",
      "Removed  0  variants with ambiguous strand.\n",
      "Flipping strand and effect allele so A1 is always A\n",
      "Returning  1065141  variants.\n",
      "Formatting X2\n",
      "There are  1037702  variants.\n",
      "Removing  0  duplicated variants leaving  1037702 variants.\n",
      "No variants have illegal alleles.\n",
      "Removed  0  variants with ambiguous strand.\n",
      "Flipping strand and effect allele so A1 is always A\n",
      "Returning  1037702  variants.\n",
      "After merging and removing variants with inconsistent alleles,  there are  1027420  variants that are present in both studies and can be used with CAUSE.\n"
     ]
    },
    {
     "name": "stderr",
     "output_type": "stream",
     "text": [
      "Clumping OxfF7K, 10604 variants, using EUR population reference\n",
      "\n",
      "Removing 9171 of 10604 variants due to LD with other variants or absence from LD reference panel\n",
      "\n"
     ]
    },
    {
     "name": "stdout",
     "output_type": "stream",
     "text": [
      "Estimating CAUSE parameters with  1000000  variants.\n",
      "1 0.009407218 \n",
      "2 4.766702e-06 \n",
      "3 4.24129e-09 \n",
      "Estimating CAUSE posteriors using  1433  variants.\n"
     ]
    },
    {
     "name": "stderr",
     "output_type": "stream",
     "text": [
      "Warning message:\n",
      "“'compare' is deprecated.\n",
      "Use 'loo_compare' instead.\n",
      "See help(\"Deprecated\")”\n"
     ]
    },
    {
     "name": "stdout",
     "output_type": "stream",
     "text": [
      "    user   system  elapsed \n",
      "2060.332 1413.602  391.442 \n",
      "Daytime_Sleepiness ~ Hair_Blonde \n"
     ]
    },
    {
     "name": "stderr",
     "output_type": "stream",
     "text": [
      "\u001b[1m\u001b[1mRows: \u001b[1m\u001b[22m\u001b[34m\u001b[34m1065141\u001b[34m\u001b[39m \u001b[1m\u001b[1mColumns: \u001b[1m\u001b[22m\u001b[34m\u001b[34m7\u001b[34m\u001b[39m\n",
      "\n",
      "\u001b[36m──\u001b[39m \u001b[1m\u001b[1mColumn specification\u001b[1m\u001b[22m \u001b[36m────────────────────────────────────────────────────────────────────────────────────────────────────────\u001b[39m\n",
      "\u001b[1mDelimiter:\u001b[22m \"\\t\"\n",
      "\u001b[31mchr\u001b[39m (3): SNP, A1, A2\n",
      "\u001b[32mdbl\u001b[39m (4): Z, N, chi2, P\n",
      "\n",
      "\n",
      "\u001b[36mℹ\u001b[39m Use \u001b[30m\u001b[47m\u001b[30m\u001b[47m`spec()`\u001b[47m\u001b[30m\u001b[49m\u001b[39m to retrieve the full column specification for this data.\n",
      "\u001b[36mℹ\u001b[39m Specify the column types or set \u001b[30m\u001b[47m\u001b[30m\u001b[47m`show_col_types = FALSE`\u001b[47m\u001b[30m\u001b[49m\u001b[39m to quiet this message.\n",
      "\n",
      "\u001b[1m\u001b[1mRows: \u001b[1m\u001b[22m\u001b[34m\u001b[34m1037533\u001b[34m\u001b[39m \u001b[1m\u001b[1mColumns: \u001b[1m\u001b[22m\u001b[34m\u001b[34m7\u001b[34m\u001b[39m\n",
      "\n",
      "\u001b[36m──\u001b[39m \u001b[1m\u001b[1mColumn specification\u001b[1m\u001b[22m \u001b[36m────────────────────────────────────────────────────────────────────────────────────────────────────────\u001b[39m\n",
      "\u001b[1mDelimiter:\u001b[22m \"\\t\"\n",
      "\u001b[31mchr\u001b[39m (3): SNP, A1, A2\n",
      "\u001b[32mdbl\u001b[39m (4): Z, N, chi2, P\n",
      "\n",
      "\n",
      "\u001b[36mℹ\u001b[39m Use \u001b[30m\u001b[47m\u001b[30m\u001b[47m`spec()`\u001b[47m\u001b[30m\u001b[49m\u001b[39m to retrieve the full column specification for this data.\n",
      "\u001b[36mℹ\u001b[39m Specify the column types or set \u001b[30m\u001b[47m\u001b[30m\u001b[47m`show_col_types = FALSE`\u001b[47m\u001b[30m\u001b[49m\u001b[39m to quiet this message.\n",
      "\n"
     ]
    },
    {
     "name": "stdout",
     "output_type": "stream",
     "text": [
      "Formatting X1\n",
      "There are  1065141  variants.\n",
      "Removing  0  duplicated variants leaving  1065141 variants.\n",
      "No variants have illegal alleles.\n",
      "Removed  0  variants with ambiguous strand.\n",
      "Flipping strand and effect allele so A1 is always A\n",
      "Returning  1065141  variants.\n",
      "Formatting X2\n",
      "There are  1037533  variants.\n",
      "Removing  0  duplicated variants leaving  1037533 variants.\n",
      "No variants have illegal alleles.\n",
      "Removed  0  variants with ambiguous strand.\n",
      "Flipping strand and effect allele so A1 is always A\n",
      "Returning  1037533  variants.\n",
      "After merging and removing variants with inconsistent alleles,  there are  1027251  variants that are present in both studies and can be used with CAUSE.\n"
     ]
    },
    {
     "name": "stderr",
     "output_type": "stream",
     "text": [
      "Clumping a5Y9EP, 10604 variants, using EUR population reference\n",
      "\n",
      "Removing 9171 of 10604 variants due to LD with other variants or absence from LD reference panel\n",
      "\n"
     ]
    },
    {
     "name": "stdout",
     "output_type": "stream",
     "text": [
      "Estimating CAUSE parameters with  1000000  variants.\n",
      "1 0.007456157 \n",
      "2 2.342768e-06 \n",
      "3 8.811833e-10 \n",
      "Estimating CAUSE posteriors using  1433  variants.\n"
     ]
    },
    {
     "name": "stderr",
     "output_type": "stream",
     "text": [
      "Warning message:\n",
      "“'compare' is deprecated.\n",
      "Use 'loo_compare' instead.\n",
      "See help(\"Deprecated\")”\n"
     ]
    },
    {
     "name": "stdout",
     "output_type": "stream",
     "text": [
      "    user   system  elapsed \n",
      "2148.682 1623.906  399.608 \n",
      "Daytime_Sleepiness ~ Tanning \n"
     ]
    },
    {
     "name": "stderr",
     "output_type": "stream",
     "text": [
      "\u001b[1m\u001b[1mRows: \u001b[1m\u001b[22m\u001b[34m\u001b[34m1065141\u001b[34m\u001b[39m \u001b[1m\u001b[1mColumns: \u001b[1m\u001b[22m\u001b[34m\u001b[34m7\u001b[34m\u001b[39m\n",
      "\n",
      "\u001b[36m──\u001b[39m \u001b[1m\u001b[1mColumn specification\u001b[1m\u001b[22m \u001b[36m────────────────────────────────────────────────────────────────────────────────────────────────────────\u001b[39m\n",
      "\u001b[1mDelimiter:\u001b[22m \"\\t\"\n",
      "\u001b[31mchr\u001b[39m (3): SNP, A1, A2\n",
      "\u001b[32mdbl\u001b[39m (4): Z, N, chi2, P\n",
      "\n",
      "\n",
      "\u001b[36mℹ\u001b[39m Use \u001b[30m\u001b[47m\u001b[30m\u001b[47m`spec()`\u001b[47m\u001b[30m\u001b[49m\u001b[39m to retrieve the full column specification for this data.\n",
      "\u001b[36mℹ\u001b[39m Specify the column types or set \u001b[30m\u001b[47m\u001b[30m\u001b[47m`show_col_types = FALSE`\u001b[47m\u001b[30m\u001b[49m\u001b[39m to quiet this message.\n",
      "\n",
      "\u001b[1m\u001b[1mRows: \u001b[1m\u001b[22m\u001b[34m\u001b[34m1037026\u001b[34m\u001b[39m \u001b[1m\u001b[1mColumns: \u001b[1m\u001b[22m\u001b[34m\u001b[34m7\u001b[34m\u001b[39m\n",
      "\n",
      "\u001b[36m──\u001b[39m \u001b[1m\u001b[1mColumn specification\u001b[1m\u001b[22m \u001b[36m────────────────────────────────────────────────────────────────────────────────────────────────────────\u001b[39m\n",
      "\u001b[1mDelimiter:\u001b[22m \"\\t\"\n",
      "\u001b[31mchr\u001b[39m (3): SNP, A1, A2\n",
      "\u001b[32mdbl\u001b[39m (4): Z, N, chi2, P\n",
      "\n",
      "\n",
      "\u001b[36mℹ\u001b[39m Use \u001b[30m\u001b[47m\u001b[30m\u001b[47m`spec()`\u001b[47m\u001b[30m\u001b[49m\u001b[39m to retrieve the full column specification for this data.\n",
      "\u001b[36mℹ\u001b[39m Specify the column types or set \u001b[30m\u001b[47m\u001b[30m\u001b[47m`show_col_types = FALSE`\u001b[47m\u001b[30m\u001b[49m\u001b[39m to quiet this message.\n",
      "\n"
     ]
    },
    {
     "name": "stdout",
     "output_type": "stream",
     "text": [
      "Formatting X1\n",
      "There are  1065141  variants.\n",
      "Removing  0  duplicated variants leaving  1065141 variants.\n",
      "No variants have illegal alleles.\n",
      "Removed  0  variants with ambiguous strand.\n",
      "Flipping strand and effect allele so A1 is always A\n",
      "Returning  1065141  variants.\n",
      "Formatting X2\n",
      "There are  1037026  variants.\n",
      "Removing  0  duplicated variants leaving  1037026 variants.\n",
      "No variants have illegal alleles.\n",
      "Removed  0  variants with ambiguous strand.\n",
      "Flipping strand and effect allele so A1 is always A\n",
      "Returning  1037026  variants.\n",
      "After merging and removing variants with inconsistent alleles,  there are  1026746  variants that are present in both studies and can be used with CAUSE.\n"
     ]
    },
    {
     "name": "stderr",
     "output_type": "stream",
     "text": [
      "Clumping 1C5VPH, 10572 variants, using EUR population reference\n",
      "\n",
      "Removing 9139 of 10572 variants due to LD with other variants or absence from LD reference panel\n",
      "\n"
     ]
    },
    {
     "name": "stdout",
     "output_type": "stream",
     "text": [
      "Estimating CAUSE parameters with  1000000  variants.\n",
      "1 0.02029656 \n",
      "2 1.61723e-05 \n",
      "3 2.001214e-08 \n",
      "Estimating CAUSE posteriors using  1433  variants.\n"
     ]
    },
    {
     "name": "stderr",
     "output_type": "stream",
     "text": [
      "Warning message:\n",
      "“'compare' is deprecated.\n",
      "Use 'loo_compare' instead.\n",
      "See help(\"Deprecated\")”\n"
     ]
    },
    {
     "name": "stdout",
     "output_type": "stream",
     "text": [
      "    user   system  elapsed \n",
      "2193.926 1541.321  417.073 \n",
      "Height_UKB ~ Hair_Light_Brown \n"
     ]
    },
    {
     "name": "stderr",
     "output_type": "stream",
     "text": [
      "\u001b[1m\u001b[1mRows: \u001b[1m\u001b[22m\u001b[34m\u001b[34m1037320\u001b[34m\u001b[39m \u001b[1m\u001b[1mColumns: \u001b[1m\u001b[22m\u001b[34m\u001b[34m7\u001b[34m\u001b[39m\n",
      "\n",
      "\u001b[36m──\u001b[39m \u001b[1m\u001b[1mColumn specification\u001b[1m\u001b[22m \u001b[36m────────────────────────────────────────────────────────────────────────────────────────────────────────\u001b[39m\n",
      "\u001b[1mDelimiter:\u001b[22m \"\\t\"\n",
      "\u001b[31mchr\u001b[39m (3): SNP, A1, A2\n",
      "\u001b[32mdbl\u001b[39m (4): Z, N, chi2, P\n",
      "\n",
      "\n",
      "\u001b[36mℹ\u001b[39m Use \u001b[30m\u001b[47m\u001b[30m\u001b[47m`spec()`\u001b[47m\u001b[30m\u001b[49m\u001b[39m to retrieve the full column specification for this data.\n",
      "\u001b[36mℹ\u001b[39m Specify the column types or set \u001b[30m\u001b[47m\u001b[30m\u001b[47m`show_col_types = FALSE`\u001b[47m\u001b[30m\u001b[49m\u001b[39m to quiet this message.\n",
      "\n",
      "\u001b[1m\u001b[1mRows: \u001b[1m\u001b[22m\u001b[34m\u001b[34m1037742\u001b[34m\u001b[39m \u001b[1m\u001b[1mColumns: \u001b[1m\u001b[22m\u001b[34m\u001b[34m7\u001b[34m\u001b[39m\n",
      "\n",
      "\u001b[36m──\u001b[39m \u001b[1m\u001b[1mColumn specification\u001b[1m\u001b[22m \u001b[36m────────────────────────────────────────────────────────────────────────────────────────────────────────\u001b[39m\n",
      "\u001b[1mDelimiter:\u001b[22m \"\\t\"\n",
      "\u001b[31mchr\u001b[39m (3): SNP, A1, A2\n",
      "\u001b[32mdbl\u001b[39m (4): Z, N, chi2, P\n",
      "\n",
      "\n",
      "\u001b[36mℹ\u001b[39m Use \u001b[30m\u001b[47m\u001b[30m\u001b[47m`spec()`\u001b[47m\u001b[30m\u001b[49m\u001b[39m to retrieve the full column specification for this data.\n",
      "\u001b[36mℹ\u001b[39m Specify the column types or set \u001b[30m\u001b[47m\u001b[30m\u001b[47m`show_col_types = FALSE`\u001b[47m\u001b[30m\u001b[49m\u001b[39m to quiet this message.\n",
      "\n"
     ]
    },
    {
     "name": "stdout",
     "output_type": "stream",
     "text": [
      "Formatting X1\n",
      "There are  1037320  variants.\n",
      "Removing  0  duplicated variants leaving  1037320 variants.\n",
      "No variants have illegal alleles.\n",
      "Removed  0  variants with ambiguous strand.\n",
      "Flipping strand and effect allele so A1 is always A\n",
      "Returning  1037320  variants.\n",
      "Formatting X2\n",
      "There are  1037742  variants.\n",
      "Removing  0  duplicated variants leaving  1037742 variants.\n",
      "No variants have illegal alleles.\n",
      "Removed  0  variants with ambiguous strand.\n",
      "Flipping strand and effect allele so A1 is always A\n",
      "Returning  1037742  variants.\n",
      "After merging and removing variants with inconsistent alleles,  there are  1037238  variants that are present in both studies and can be used with CAUSE.\n"
     ]
    },
    {
     "name": "stderr",
     "output_type": "stream",
     "text": [
      "Clumping PtkHHJ, 116058 variants, using EUR population reference\n",
      "\n",
      "Removing 104286 of 116058 variants due to LD with other variants or absence from LD reference panel\n",
      "\n"
     ]
    },
    {
     "name": "stdout",
     "output_type": "stream",
     "text": [
      "Estimating CAUSE parameters with  1000000  variants.\n",
      "1 0.3550713 \n",
      "2 0.01014631 \n",
      "3 0.001189151 \n",
      "4 0.0001465331 \n",
      "5 1.802473e-05 \n",
      "6 2.21961e-06 \n",
      "7 2.749011e-07 \n",
      "8 3.273079e-08 \n",
      "Estimating CAUSE posteriors using  11772  variants.\n"
     ]
    },
    {
     "name": "stderr",
     "output_type": "stream",
     "text": [
      "Warning message:\n",
      "“'compare' is deprecated.\n",
      "Use 'loo_compare' instead.\n",
      "See help(\"Deprecated\")”\n"
     ]
    },
    {
     "name": "stdout",
     "output_type": "stream",
     "text": [
      "     user    system   elapsed \n",
      "11829.603  3404.554  1185.592 \n",
      "Height_UKB ~ Hair_Dark_Brown \n"
     ]
    },
    {
     "name": "stderr",
     "output_type": "stream",
     "text": [
      "\u001b[1m\u001b[1mRows: \u001b[1m\u001b[22m\u001b[34m\u001b[34m1037320\u001b[34m\u001b[39m \u001b[1m\u001b[1mColumns: \u001b[1m\u001b[22m\u001b[34m\u001b[34m7\u001b[34m\u001b[39m\n",
      "\n",
      "\u001b[36m──\u001b[39m \u001b[1m\u001b[1mColumn specification\u001b[1m\u001b[22m \u001b[36m────────────────────────────────────────────────────────────────────────────────────────────────────────\u001b[39m\n",
      "\u001b[1mDelimiter:\u001b[22m \"\\t\"\n",
      "\u001b[31mchr\u001b[39m (3): SNP, A1, A2\n",
      "\u001b[32mdbl\u001b[39m (4): Z, N, chi2, P\n",
      "\n",
      "\n",
      "\u001b[36mℹ\u001b[39m Use \u001b[30m\u001b[47m\u001b[30m\u001b[47m`spec()`\u001b[47m\u001b[30m\u001b[49m\u001b[39m to retrieve the full column specification for this data.\n",
      "\u001b[36mℹ\u001b[39m Specify the column types or set \u001b[30m\u001b[47m\u001b[30m\u001b[47m`show_col_types = FALSE`\u001b[47m\u001b[30m\u001b[49m\u001b[39m to quiet this message.\n",
      "\n",
      "\u001b[1m\u001b[1mRows: \u001b[1m\u001b[22m\u001b[34m\u001b[34m1037381\u001b[34m\u001b[39m \u001b[1m\u001b[1mColumns: \u001b[1m\u001b[22m\u001b[34m\u001b[34m7\u001b[34m\u001b[39m\n",
      "\n",
      "\u001b[36m──\u001b[39m \u001b[1m\u001b[1mColumn specification\u001b[1m\u001b[22m \u001b[36m────────────────────────────────────────────────────────────────────────────────────────────────────────\u001b[39m\n",
      "\u001b[1mDelimiter:\u001b[22m \"\\t\"\n",
      "\u001b[31mchr\u001b[39m (3): SNP, A1, A2\n",
      "\u001b[32mdbl\u001b[39m (4): Z, N, chi2, P\n",
      "\n",
      "\n",
      "\u001b[36mℹ\u001b[39m Use \u001b[30m\u001b[47m\u001b[30m\u001b[47m`spec()`\u001b[47m\u001b[30m\u001b[49m\u001b[39m to retrieve the full column specification for this data.\n",
      "\u001b[36mℹ\u001b[39m Specify the column types or set \u001b[30m\u001b[47m\u001b[30m\u001b[47m`show_col_types = FALSE`\u001b[47m\u001b[30m\u001b[49m\u001b[39m to quiet this message.\n",
      "\n"
     ]
    },
    {
     "name": "stdout",
     "output_type": "stream",
     "text": [
      "Formatting X1\n",
      "There are  1037320  variants.\n",
      "Removing  0  duplicated variants leaving  1037320 variants.\n",
      "No variants have illegal alleles.\n",
      "Removed  0  variants with ambiguous strand.\n",
      "Flipping strand and effect allele so A1 is always A\n",
      "Returning  1037320  variants.\n",
      "Formatting X2\n",
      "There are  1037381  variants.\n",
      "Removing  0  duplicated variants leaving  1037381 variants.\n",
      "No variants have illegal alleles.\n",
      "Removed  0  variants with ambiguous strand.\n",
      "Flipping strand and effect allele so A1 is always A\n",
      "Returning  1037381  variants.\n",
      "After merging and removing variants with inconsistent alleles,  there are  1036877  variants that are present in both studies and can be used with CAUSE.\n"
     ]
    },
    {
     "name": "stderr",
     "output_type": "stream",
     "text": [
      "Clumping dWkGTo, 115862 variants, using EUR population reference\n",
      "\n",
      "Removing 104094 of 115862 variants due to LD with other variants or absence from LD reference panel\n",
      "\n"
     ]
    },
    {
     "name": "stdout",
     "output_type": "stream",
     "text": [
      "Estimating CAUSE parameters with  1000000  variants.\n",
      "1 0.3311564 \n",
      "2 0.007906219 \n",
      "3 0.001009875 \n",
      "4 0.0001041219 \n",
      "5 1.076965e-05 \n",
      "6 1.112227e-06 \n",
      "7 1.151737e-07 \n",
      "8 1.156294e-08 \n",
      "Estimating CAUSE posteriors using  11768  variants.\n"
     ]
    },
    {
     "name": "stderr",
     "output_type": "stream",
     "text": [
      "Warning message:\n",
      "“'compare' is deprecated.\n",
      "Use 'loo_compare' instead.\n",
      "See help(\"Deprecated\")”\n"
     ]
    },
    {
     "name": "stdout",
     "output_type": "stream",
     "text": [
      "     user    system   elapsed \n",
      "11441.911  3218.846  1104.051 \n",
      "Height_UKB ~ Hair_Black \n"
     ]
    },
    {
     "name": "stderr",
     "output_type": "stream",
     "text": [
      "\u001b[1m\u001b[1mRows: \u001b[1m\u001b[22m\u001b[34m\u001b[34m1037320\u001b[34m\u001b[39m \u001b[1m\u001b[1mColumns: \u001b[1m\u001b[22m\u001b[34m\u001b[34m7\u001b[34m\u001b[39m\n",
      "\n",
      "\u001b[36m──\u001b[39m \u001b[1m\u001b[1mColumn specification\u001b[1m\u001b[22m \u001b[36m────────────────────────────────────────────────────────────────────────────────────────────────────────\u001b[39m\n",
      "\u001b[1mDelimiter:\u001b[22m \"\\t\"\n",
      "\u001b[31mchr\u001b[39m (3): SNP, A1, A2\n",
      "\u001b[32mdbl\u001b[39m (4): Z, N, chi2, P\n",
      "\n",
      "\n",
      "\u001b[36mℹ\u001b[39m Use \u001b[30m\u001b[47m\u001b[30m\u001b[47m`spec()`\u001b[47m\u001b[30m\u001b[49m\u001b[39m to retrieve the full column specification for this data.\n",
      "\u001b[36mℹ\u001b[39m Specify the column types or set \u001b[30m\u001b[47m\u001b[30m\u001b[47m`show_col_types = FALSE`\u001b[47m\u001b[30m\u001b[49m\u001b[39m to quiet this message.\n",
      "\n",
      "\u001b[1m\u001b[1mRows: \u001b[1m\u001b[22m\u001b[34m\u001b[34m1037702\u001b[34m\u001b[39m \u001b[1m\u001b[1mColumns: \u001b[1m\u001b[22m\u001b[34m\u001b[34m7\u001b[34m\u001b[39m\n",
      "\n",
      "\u001b[36m──\u001b[39m \u001b[1m\u001b[1mColumn specification\u001b[1m\u001b[22m \u001b[36m────────────────────────────────────────────────────────────────────────────────────────────────────────\u001b[39m\n",
      "\u001b[1mDelimiter:\u001b[22m \"\\t\"\n",
      "\u001b[31mchr\u001b[39m (3): SNP, A1, A2\n",
      "\u001b[32mdbl\u001b[39m (4): Z, N, chi2, P\n",
      "\n",
      "\n",
      "\u001b[36mℹ\u001b[39m Use \u001b[30m\u001b[47m\u001b[30m\u001b[47m`spec()`\u001b[47m\u001b[30m\u001b[49m\u001b[39m to retrieve the full column specification for this data.\n",
      "\u001b[36mℹ\u001b[39m Specify the column types or set \u001b[30m\u001b[47m\u001b[30m\u001b[47m`show_col_types = FALSE`\u001b[47m\u001b[30m\u001b[49m\u001b[39m to quiet this message.\n",
      "\n"
     ]
    },
    {
     "name": "stdout",
     "output_type": "stream",
     "text": [
      "Formatting X1\n",
      "There are  1037320  variants.\n",
      "Removing  0  duplicated variants leaving  1037320 variants.\n",
      "No variants have illegal alleles.\n",
      "Removed  0  variants with ambiguous strand.\n",
      "Flipping strand and effect allele so A1 is always A\n",
      "Returning  1037320  variants.\n",
      "Formatting X2\n",
      "There are  1037702  variants.\n",
      "Removing  0  duplicated variants leaving  1037702 variants.\n",
      "No variants have illegal alleles.\n",
      "Removed  0  variants with ambiguous strand.\n",
      "Flipping strand and effect allele so A1 is always A\n",
      "Returning  1037702  variants.\n",
      "After merging and removing variants with inconsistent alleles,  there are  1037198  variants that are present in both studies and can be used with CAUSE.\n"
     ]
    },
    {
     "name": "stderr",
     "output_type": "stream",
     "text": [
      "Clumping IIXXUL, 116057 variants, using EUR population reference\n",
      "\n",
      "Removing 104284 of 116057 variants due to LD with other variants or absence from LD reference panel\n",
      "\n"
     ]
    },
    {
     "name": "stdout",
     "output_type": "stream",
     "text": [
      "Estimating CAUSE parameters with  1000000  variants.\n",
      "1 0.5673252 \n",
      "2 0.03637788 \n",
      "3 0.008788331 \n",
      "4 0.002210544 \n",
      "5 0.0005610251 \n",
      "6 0.0001425691 \n",
      "7 3.62532e-05 \n",
      "8 9.219212e-06 \n",
      "9 2.345564e-06 \n",
      "10 5.956999e-07 \n",
      "11 1.517188e-07 \n",
      "12 3.745096e-08 \n",
      "Estimating CAUSE posteriors using  11773  variants.\n"
     ]
    },
    {
     "name": "stderr",
     "output_type": "stream",
     "text": [
      "Warning message:\n",
      "“'compare' is deprecated.\n",
      "Use 'loo_compare' instead.\n",
      "See help(\"Deprecated\")”\n"
     ]
    },
    {
     "name": "stdout",
     "output_type": "stream",
     "text": [
      "     user    system   elapsed \n",
      "16346.619  4074.066  1410.047 \n",
      "Height_UKB ~ Hair_Blonde \n"
     ]
    },
    {
     "name": "stderr",
     "output_type": "stream",
     "text": [
      "\u001b[1m\u001b[1mRows: \u001b[1m\u001b[22m\u001b[34m\u001b[34m1037320\u001b[34m\u001b[39m \u001b[1m\u001b[1mColumns: \u001b[1m\u001b[22m\u001b[34m\u001b[34m7\u001b[34m\u001b[39m\n",
      "\n",
      "\u001b[36m──\u001b[39m \u001b[1m\u001b[1mColumn specification\u001b[1m\u001b[22m \u001b[36m────────────────────────────────────────────────────────────────────────────────────────────────────────\u001b[39m\n",
      "\u001b[1mDelimiter:\u001b[22m \"\\t\"\n",
      "\u001b[31mchr\u001b[39m (3): SNP, A1, A2\n",
      "\u001b[32mdbl\u001b[39m (4): Z, N, chi2, P\n",
      "\n",
      "\n",
      "\u001b[36mℹ\u001b[39m Use \u001b[30m\u001b[47m\u001b[30m\u001b[47m`spec()`\u001b[47m\u001b[30m\u001b[49m\u001b[39m to retrieve the full column specification for this data.\n",
      "\u001b[36mℹ\u001b[39m Specify the column types or set \u001b[30m\u001b[47m\u001b[30m\u001b[47m`show_col_types = FALSE`\u001b[47m\u001b[30m\u001b[49m\u001b[39m to quiet this message.\n",
      "\n",
      "\u001b[1m\u001b[1mRows: \u001b[1m\u001b[22m\u001b[34m\u001b[34m1037533\u001b[34m\u001b[39m \u001b[1m\u001b[1mColumns: \u001b[1m\u001b[22m\u001b[34m\u001b[34m7\u001b[34m\u001b[39m\n",
      "\n",
      "\u001b[36m──\u001b[39m \u001b[1m\u001b[1mColumn specification\u001b[1m\u001b[22m \u001b[36m────────────────────────────────────────────────────────────────────────────────────────────────────────\u001b[39m\n",
      "\u001b[1mDelimiter:\u001b[22m \"\\t\"\n",
      "\u001b[31mchr\u001b[39m (3): SNP, A1, A2\n",
      "\u001b[32mdbl\u001b[39m (4): Z, N, chi2, P\n",
      "\n",
      "\n",
      "\u001b[36mℹ\u001b[39m Use \u001b[30m\u001b[47m\u001b[30m\u001b[47m`spec()`\u001b[47m\u001b[30m\u001b[49m\u001b[39m to retrieve the full column specification for this data.\n",
      "\u001b[36mℹ\u001b[39m Specify the column types or set \u001b[30m\u001b[47m\u001b[30m\u001b[47m`show_col_types = FALSE`\u001b[47m\u001b[30m\u001b[49m\u001b[39m to quiet this message.\n",
      "\n"
     ]
    },
    {
     "name": "stdout",
     "output_type": "stream",
     "text": [
      "Formatting X1\n",
      "There are  1037320  variants.\n",
      "Removing  0  duplicated variants leaving  1037320 variants.\n",
      "No variants have illegal alleles.\n",
      "Removed  0  variants with ambiguous strand.\n",
      "Flipping strand and effect allele so A1 is always A\n",
      "Returning  1037320  variants.\n",
      "Formatting X2\n",
      "There are  1037533  variants.\n",
      "Removing  0  duplicated variants leaving  1037533 variants.\n",
      "No variants have illegal alleles.\n",
      "Removed  0  variants with ambiguous strand.\n",
      "Flipping strand and effect allele so A1 is always A\n",
      "Returning  1037533  variants.\n",
      "After merging and removing variants with inconsistent alleles,  there are  1037029  variants that are present in both studies and can be used with CAUSE.\n"
     ]
    },
    {
     "name": "stderr",
     "output_type": "stream",
     "text": [
      "Clumping haXOrg, 115977 variants, using EUR population reference\n",
      "\n",
      "Removing 104203 of 115977 variants due to LD with other variants or absence from LD reference panel\n",
      "\n"
     ]
    },
    {
     "name": "stdout",
     "output_type": "stream",
     "text": [
      "Estimating CAUSE parameters with  1000000  variants.\n",
      "1 0.2090938 \n",
      "2 0.003153831 \n",
      "3 0.0001701299 \n",
      "4 9.271789e-06 \n",
      "5 5.056027e-07 \n",
      "6 2.767664e-08 \n",
      "Estimating CAUSE posteriors using  11774  variants.\n"
     ]
    },
    {
     "name": "stderr",
     "output_type": "stream",
     "text": [
      "Warning message:\n",
      "“'compare' is deprecated.\n",
      "Use 'loo_compare' instead.\n",
      "See help(\"Deprecated\")”\n"
     ]
    },
    {
     "name": "stdout",
     "output_type": "stream",
     "text": [
      "     user    system   elapsed \n",
      "10316.451  2543.559   893.837 \n",
      "Height_UKB ~ Tanning \n"
     ]
    },
    {
     "name": "stderr",
     "output_type": "stream",
     "text": [
      "\u001b[1m\u001b[1mRows: \u001b[1m\u001b[22m\u001b[34m\u001b[34m1037320\u001b[34m\u001b[39m \u001b[1m\u001b[1mColumns: \u001b[1m\u001b[22m\u001b[34m\u001b[34m7\u001b[34m\u001b[39m\n",
      "\n",
      "\u001b[36m──\u001b[39m \u001b[1m\u001b[1mColumn specification\u001b[1m\u001b[22m \u001b[36m────────────────────────────────────────────────────────────────────────────────────────────────────────\u001b[39m\n",
      "\u001b[1mDelimiter:\u001b[22m \"\\t\"\n",
      "\u001b[31mchr\u001b[39m (3): SNP, A1, A2\n",
      "\u001b[32mdbl\u001b[39m (4): Z, N, chi2, P\n",
      "\n",
      "\n",
      "\u001b[36mℹ\u001b[39m Use \u001b[30m\u001b[47m\u001b[30m\u001b[47m`spec()`\u001b[47m\u001b[30m\u001b[49m\u001b[39m to retrieve the full column specification for this data.\n",
      "\u001b[36mℹ\u001b[39m Specify the column types or set \u001b[30m\u001b[47m\u001b[30m\u001b[47m`show_col_types = FALSE`\u001b[47m\u001b[30m\u001b[49m\u001b[39m to quiet this message.\n",
      "\n",
      "\u001b[1m\u001b[1mRows: \u001b[1m\u001b[22m\u001b[34m\u001b[34m1037026\u001b[34m\u001b[39m \u001b[1m\u001b[1mColumns: \u001b[1m\u001b[22m\u001b[34m\u001b[34m7\u001b[34m\u001b[39m\n",
      "\n",
      "\u001b[36m──\u001b[39m \u001b[1m\u001b[1mColumn specification\u001b[1m\u001b[22m \u001b[36m────────────────────────────────────────────────────────────────────────────────────────────────────────\u001b[39m\n",
      "\u001b[1mDelimiter:\u001b[22m \"\\t\"\n",
      "\u001b[31mchr\u001b[39m (3): SNP, A1, A2\n",
      "\u001b[32mdbl\u001b[39m (4): Z, N, chi2, P\n",
      "\n",
      "\n",
      "\u001b[36mℹ\u001b[39m Use \u001b[30m\u001b[47m\u001b[30m\u001b[47m`spec()`\u001b[47m\u001b[30m\u001b[49m\u001b[39m to retrieve the full column specification for this data.\n",
      "\u001b[36mℹ\u001b[39m Specify the column types or set \u001b[30m\u001b[47m\u001b[30m\u001b[47m`show_col_types = FALSE`\u001b[47m\u001b[30m\u001b[49m\u001b[39m to quiet this message.\n",
      "\n"
     ]
    },
    {
     "name": "stdout",
     "output_type": "stream",
     "text": [
      "Formatting X1\n",
      "There are  1037320  variants.\n",
      "Removing  0  duplicated variants leaving  1037320 variants.\n",
      "No variants have illegal alleles.\n",
      "Removed  0  variants with ambiguous strand.\n",
      "Flipping strand and effect allele so A1 is always A\n",
      "Returning  1037320  variants.\n",
      "Formatting X2\n",
      "There are  1037026  variants.\n",
      "Removing  0  duplicated variants leaving  1037026 variants.\n",
      "No variants have illegal alleles.\n",
      "Removed  0  variants with ambiguous strand.\n",
      "Flipping strand and effect allele so A1 is always A\n",
      "Returning  1037026  variants.\n",
      "After merging and removing variants with inconsistent alleles,  there are  1036527  variants that are present in both studies and can be used with CAUSE.\n"
     ]
    },
    {
     "name": "stderr",
     "output_type": "stream",
     "text": [
      "Clumping eqkm94, 115673 variants, using EUR population reference\n",
      "\n",
      "Removing 103914 of 115673 variants due to LD with other variants or absence from LD reference panel\n",
      "\n"
     ]
    },
    {
     "name": "stdout",
     "output_type": "stream",
     "text": [
      "Estimating CAUSE parameters with  1000000  variants.\n",
      "1 0.3995683 \n",
      "2 0.01018232 \n",
      "3 0.00109919 \n",
      "4 0.000120671 \n",
      "5 1.327262e-05 \n",
      "6 1.461063e-06 \n",
      "7 1.591104e-07 \n",
      "8 2.040128e-08 \n",
      "Estimating CAUSE posteriors using  11759  variants.\n"
     ]
    },
    {
     "name": "stderr",
     "output_type": "stream",
     "text": [
      "Warning message:\n",
      "“'compare' is deprecated.\n",
      "Use 'loo_compare' instead.\n",
      "See help(\"Deprecated\")”\n"
     ]
    },
    {
     "name": "stdout",
     "output_type": "stream",
     "text": [
      "    user   system  elapsed \n",
      "9289.653 3006.080  958.244 \n",
      "Intelligence ~ Hair_Light_Brown \n"
     ]
    },
    {
     "name": "stderr",
     "output_type": "stream",
     "text": [
      "\u001b[1m\u001b[1mRows: \u001b[1m\u001b[22m\u001b[34m\u001b[34m1037824\u001b[34m\u001b[39m \u001b[1m\u001b[1mColumns: \u001b[1m\u001b[22m\u001b[34m\u001b[34m7\u001b[34m\u001b[39m\n",
      "\n",
      "\u001b[36m──\u001b[39m \u001b[1m\u001b[1mColumn specification\u001b[1m\u001b[22m \u001b[36m────────────────────────────────────────────────────────────────────────────────────────────────────────\u001b[39m\n",
      "\u001b[1mDelimiter:\u001b[22m \"\\t\"\n",
      "\u001b[31mchr\u001b[39m (3): SNP, A1, A2\n",
      "\u001b[32mdbl\u001b[39m (4): Z, N, chi2, P\n",
      "\n",
      "\n",
      "\u001b[36mℹ\u001b[39m Use \u001b[30m\u001b[47m\u001b[30m\u001b[47m`spec()`\u001b[47m\u001b[30m\u001b[49m\u001b[39m to retrieve the full column specification for this data.\n",
      "\u001b[36mℹ\u001b[39m Specify the column types or set \u001b[30m\u001b[47m\u001b[30m\u001b[47m`show_col_types = FALSE`\u001b[47m\u001b[30m\u001b[49m\u001b[39m to quiet this message.\n",
      "\n",
      "\u001b[1m\u001b[1mRows: \u001b[1m\u001b[22m\u001b[34m\u001b[34m1037742\u001b[34m\u001b[39m \u001b[1m\u001b[1mColumns: \u001b[1m\u001b[22m\u001b[34m\u001b[34m7\u001b[34m\u001b[39m\n",
      "\n",
      "\u001b[36m──\u001b[39m \u001b[1m\u001b[1mColumn specification\u001b[1m\u001b[22m \u001b[36m────────────────────────────────────────────────────────────────────────────────────────────────────────\u001b[39m\n",
      "\u001b[1mDelimiter:\u001b[22m \"\\t\"\n",
      "\u001b[31mchr\u001b[39m (3): SNP, A1, A2\n",
      "\u001b[32mdbl\u001b[39m (4): Z, N, chi2, P\n",
      "\n",
      "\n",
      "\u001b[36mℹ\u001b[39m Use \u001b[30m\u001b[47m\u001b[30m\u001b[47m`spec()`\u001b[47m\u001b[30m\u001b[49m\u001b[39m to retrieve the full column specification for this data.\n",
      "\u001b[36mℹ\u001b[39m Specify the column types or set \u001b[30m\u001b[47m\u001b[30m\u001b[47m`show_col_types = FALSE`\u001b[47m\u001b[30m\u001b[49m\u001b[39m to quiet this message.\n",
      "\n"
     ]
    },
    {
     "name": "stdout",
     "output_type": "stream",
     "text": [
      "Formatting X1\n",
      "There are  1037824  variants.\n",
      "Removing  0  duplicated variants leaving  1037824 variants.\n",
      "No variants have illegal alleles.\n",
      "Removed  0  variants with ambiguous strand.\n",
      "Flipping strand and effect allele so A1 is always A\n",
      "Returning  1037824  variants.\n",
      "Formatting X2\n",
      "There are  1037742  variants.\n",
      "Removing  0  duplicated variants leaving  1037742 variants.\n",
      "No variants have illegal alleles.\n",
      "Removed  0  variants with ambiguous strand.\n",
      "Flipping strand and effect allele so A1 is always A\n",
      "Returning  1037742  variants.\n",
      "After merging and removing variants with inconsistent alleles,  there are  1037742  variants that are present in both studies and can be used with CAUSE.\n"
     ]
    },
    {
     "name": "stderr",
     "output_type": "stream",
     "text": [
      "Clumping P7nm0M, 15595 variants, using EUR population reference\n",
      "\n",
      "Removing 13504 of 15595 variants due to LD with other variants or absence from LD reference panel\n",
      "\n"
     ]
    },
    {
     "name": "stdout",
     "output_type": "stream",
     "text": [
      "Estimating CAUSE parameters with  1000000  variants.\n",
      "1 0.04790521 \n",
      "2 3.975778e-05 \n",
      "3 1.580388e-07 \n",
      "4 3.223928e-10 \n",
      "Estimating CAUSE posteriors using  2091  variants.\n"
     ]
    },
    {
     "name": "stderr",
     "output_type": "stream",
     "text": [
      "Warning message:\n",
      "“'compare' is deprecated.\n",
      "Use 'loo_compare' instead.\n",
      "See help(\"Deprecated\")”\n"
     ]
    },
    {
     "name": "stdout",
     "output_type": "stream",
     "text": [
      "    user   system  elapsed \n",
      "2906.314 1834.959  527.374 \n",
      "Intelligence ~ Hair_Dark_Brown \n"
     ]
    },
    {
     "name": "stderr",
     "output_type": "stream",
     "text": [
      "\u001b[1m\u001b[1mRows: \u001b[1m\u001b[22m\u001b[34m\u001b[34m1037824\u001b[34m\u001b[39m \u001b[1m\u001b[1mColumns: \u001b[1m\u001b[22m\u001b[34m\u001b[34m7\u001b[34m\u001b[39m\n",
      "\n",
      "\u001b[36m──\u001b[39m \u001b[1m\u001b[1mColumn specification\u001b[1m\u001b[22m \u001b[36m────────────────────────────────────────────────────────────────────────────────────────────────────────\u001b[39m\n",
      "\u001b[1mDelimiter:\u001b[22m \"\\t\"\n",
      "\u001b[31mchr\u001b[39m (3): SNP, A1, A2\n",
      "\u001b[32mdbl\u001b[39m (4): Z, N, chi2, P\n",
      "\n",
      "\n",
      "\u001b[36mℹ\u001b[39m Use \u001b[30m\u001b[47m\u001b[30m\u001b[47m`spec()`\u001b[47m\u001b[30m\u001b[49m\u001b[39m to retrieve the full column specification for this data.\n",
      "\u001b[36mℹ\u001b[39m Specify the column types or set \u001b[30m\u001b[47m\u001b[30m\u001b[47m`show_col_types = FALSE`\u001b[47m\u001b[30m\u001b[49m\u001b[39m to quiet this message.\n",
      "\n",
      "\u001b[1m\u001b[1mRows: \u001b[1m\u001b[22m\u001b[34m\u001b[34m1037381\u001b[34m\u001b[39m \u001b[1m\u001b[1mColumns: \u001b[1m\u001b[22m\u001b[34m\u001b[34m7\u001b[34m\u001b[39m\n",
      "\n",
      "\u001b[36m──\u001b[39m \u001b[1m\u001b[1mColumn specification\u001b[1m\u001b[22m \u001b[36m────────────────────────────────────────────────────────────────────────────────────────────────────────\u001b[39m\n",
      "\u001b[1mDelimiter:\u001b[22m \"\\t\"\n",
      "\u001b[31mchr\u001b[39m (3): SNP, A1, A2\n",
      "\u001b[32mdbl\u001b[39m (4): Z, N, chi2, P\n",
      "\n",
      "\n",
      "\u001b[36mℹ\u001b[39m Use \u001b[30m\u001b[47m\u001b[30m\u001b[47m`spec()`\u001b[47m\u001b[30m\u001b[49m\u001b[39m to retrieve the full column specification for this data.\n",
      "\u001b[36mℹ\u001b[39m Specify the column types or set \u001b[30m\u001b[47m\u001b[30m\u001b[47m`show_col_types = FALSE`\u001b[47m\u001b[30m\u001b[49m\u001b[39m to quiet this message.\n",
      "\n"
     ]
    },
    {
     "name": "stdout",
     "output_type": "stream",
     "text": [
      "Formatting X1\n",
      "There are  1037824  variants.\n",
      "Removing  0  duplicated variants leaving  1037824 variants.\n",
      "No variants have illegal alleles.\n",
      "Removed  0  variants with ambiguous strand.\n",
      "Flipping strand and effect allele so A1 is always A\n",
      "Returning  1037824  variants.\n",
      "Formatting X2\n",
      "There are  1037381  variants.\n",
      "Removing  0  duplicated variants leaving  1037381 variants.\n",
      "No variants have illegal alleles.\n",
      "Removed  0  variants with ambiguous strand.\n",
      "Flipping strand and effect allele so A1 is always A\n",
      "Returning  1037381  variants.\n",
      "After merging and removing variants with inconsistent alleles,  there are  1037381  variants that are present in both studies and can be used with CAUSE.\n"
     ]
    },
    {
     "name": "stderr",
     "output_type": "stream",
     "text": [
      "Clumping hCX4R8, 15591 variants, using EUR population reference\n",
      "\n",
      "Removing 13502 of 15591 variants due to LD with other variants or absence from LD reference panel\n",
      "\n"
     ]
    },
    {
     "name": "stdout",
     "output_type": "stream",
     "text": [
      "Estimating CAUSE parameters with  1000000  variants.\n",
      "1 0.06116753 \n",
      "2 0.0001907096 \n",
      "3 1.299444e-06 \n",
      "4 1.29877e-08 \n",
      "Estimating CAUSE posteriors using  2089  variants.\n"
     ]
    },
    {
     "name": "stderr",
     "output_type": "stream",
     "text": [
      "Warning message:\n",
      "“'compare' is deprecated.\n",
      "Use 'loo_compare' instead.\n",
      "See help(\"Deprecated\")”\n"
     ]
    },
    {
     "name": "stdout",
     "output_type": "stream",
     "text": [
      "    user   system  elapsed \n",
      "2915.595 1813.371  497.927 \n",
      "Intelligence ~ Hair_Black \n"
     ]
    },
    {
     "name": "stderr",
     "output_type": "stream",
     "text": [
      "\u001b[1m\u001b[1mRows: \u001b[1m\u001b[22m\u001b[34m\u001b[34m1037824\u001b[34m\u001b[39m \u001b[1m\u001b[1mColumns: \u001b[1m\u001b[22m\u001b[34m\u001b[34m7\u001b[34m\u001b[39m\n",
      "\n",
      "\u001b[36m──\u001b[39m \u001b[1m\u001b[1mColumn specification\u001b[1m\u001b[22m \u001b[36m────────────────────────────────────────────────────────────────────────────────────────────────────────\u001b[39m\n",
      "\u001b[1mDelimiter:\u001b[22m \"\\t\"\n",
      "\u001b[31mchr\u001b[39m (3): SNP, A1, A2\n",
      "\u001b[32mdbl\u001b[39m (4): Z, N, chi2, P\n",
      "\n",
      "\n",
      "\u001b[36mℹ\u001b[39m Use \u001b[30m\u001b[47m\u001b[30m\u001b[47m`spec()`\u001b[47m\u001b[30m\u001b[49m\u001b[39m to retrieve the full column specification for this data.\n",
      "\u001b[36mℹ\u001b[39m Specify the column types or set \u001b[30m\u001b[47m\u001b[30m\u001b[47m`show_col_types = FALSE`\u001b[47m\u001b[30m\u001b[49m\u001b[39m to quiet this message.\n",
      "\n",
      "\u001b[1m\u001b[1mRows: \u001b[1m\u001b[22m\u001b[34m\u001b[34m1037702\u001b[34m\u001b[39m \u001b[1m\u001b[1mColumns: \u001b[1m\u001b[22m\u001b[34m\u001b[34m7\u001b[34m\u001b[39m\n",
      "\n",
      "\u001b[36m──\u001b[39m \u001b[1m\u001b[1mColumn specification\u001b[1m\u001b[22m \u001b[36m────────────────────────────────────────────────────────────────────────────────────────────────────────\u001b[39m\n",
      "\u001b[1mDelimiter:\u001b[22m \"\\t\"\n",
      "\u001b[31mchr\u001b[39m (3): SNP, A1, A2\n",
      "\u001b[32mdbl\u001b[39m (4): Z, N, chi2, P\n",
      "\n",
      "\n",
      "\u001b[36mℹ\u001b[39m Use \u001b[30m\u001b[47m\u001b[30m\u001b[47m`spec()`\u001b[47m\u001b[30m\u001b[49m\u001b[39m to retrieve the full column specification for this data.\n",
      "\u001b[36mℹ\u001b[39m Specify the column types or set \u001b[30m\u001b[47m\u001b[30m\u001b[47m`show_col_types = FALSE`\u001b[47m\u001b[30m\u001b[49m\u001b[39m to quiet this message.\n",
      "\n"
     ]
    },
    {
     "name": "stdout",
     "output_type": "stream",
     "text": [
      "Formatting X1\n",
      "There are  1037824  variants.\n",
      "Removing  0  duplicated variants leaving  1037824 variants.\n",
      "No variants have illegal alleles.\n",
      "Removed  0  variants with ambiguous strand.\n",
      "Flipping strand and effect allele so A1 is always A\n",
      "Returning  1037824  variants.\n",
      "Formatting X2\n",
      "There are  1037702  variants.\n",
      "Removing  0  duplicated variants leaving  1037702 variants.\n",
      "No variants have illegal alleles.\n",
      "Removed  0  variants with ambiguous strand.\n",
      "Flipping strand and effect allele so A1 is always A\n",
      "Returning  1037702  variants.\n",
      "After merging and removing variants with inconsistent alleles,  there are  1037702  variants that are present in both studies and can be used with CAUSE.\n"
     ]
    },
    {
     "name": "stderr",
     "output_type": "stream",
     "text": [
      "Clumping icLPpa, 15595 variants, using EUR population reference\n",
      "\n",
      "Removing 13504 of 15595 variants due to LD with other variants or absence from LD reference panel\n",
      "\n"
     ]
    },
    {
     "name": "stdout",
     "output_type": "stream",
     "text": [
      "Estimating CAUSE parameters with  1000000  variants.\n",
      "1 0.1941464 \n",
      "2 0.001898219 \n",
      "3 9.731587e-05 \n",
      "4 5.029493e-06 \n",
      "5 2.595733e-07 \n",
      "6 1.433611e-08 \n",
      "Estimating CAUSE posteriors using  2091  variants.\n"
     ]
    },
    {
     "name": "stderr",
     "output_type": "stream",
     "text": [
      "Warning message:\n",
      "“'compare' is deprecated.\n",
      "Use 'loo_compare' instead.\n",
      "See help(\"Deprecated\")”\n"
     ]
    },
    {
     "name": "stdout",
     "output_type": "stream",
     "text": [
      "    user   system  elapsed \n",
      "3324.098 2317.271  548.544 \n",
      "Intelligence ~ Hair_Blonde \n"
     ]
    },
    {
     "name": "stderr",
     "output_type": "stream",
     "text": [
      "\u001b[1m\u001b[1mRows: \u001b[1m\u001b[22m\u001b[34m\u001b[34m1037824\u001b[34m\u001b[39m \u001b[1m\u001b[1mColumns: \u001b[1m\u001b[22m\u001b[34m\u001b[34m7\u001b[34m\u001b[39m\n",
      "\n",
      "\u001b[36m──\u001b[39m \u001b[1m\u001b[1mColumn specification\u001b[1m\u001b[22m \u001b[36m────────────────────────────────────────────────────────────────────────────────────────────────────────\u001b[39m\n",
      "\u001b[1mDelimiter:\u001b[22m \"\\t\"\n",
      "\u001b[31mchr\u001b[39m (3): SNP, A1, A2\n",
      "\u001b[32mdbl\u001b[39m (4): Z, N, chi2, P\n",
      "\n",
      "\n",
      "\u001b[36mℹ\u001b[39m Use \u001b[30m\u001b[47m\u001b[30m\u001b[47m`spec()`\u001b[47m\u001b[30m\u001b[49m\u001b[39m to retrieve the full column specification for this data.\n",
      "\u001b[36mℹ\u001b[39m Specify the column types or set \u001b[30m\u001b[47m\u001b[30m\u001b[47m`show_col_types = FALSE`\u001b[47m\u001b[30m\u001b[49m\u001b[39m to quiet this message.\n",
      "\n",
      "\u001b[1m\u001b[1mRows: \u001b[1m\u001b[22m\u001b[34m\u001b[34m1037533\u001b[34m\u001b[39m \u001b[1m\u001b[1mColumns: \u001b[1m\u001b[22m\u001b[34m\u001b[34m7\u001b[34m\u001b[39m\n",
      "\n",
      "\u001b[36m──\u001b[39m \u001b[1m\u001b[1mColumn specification\u001b[1m\u001b[22m \u001b[36m────────────────────────────────────────────────────────────────────────────────────────────────────────\u001b[39m\n",
      "\u001b[1mDelimiter:\u001b[22m \"\\t\"\n",
      "\u001b[31mchr\u001b[39m (3): SNP, A1, A2\n",
      "\u001b[32mdbl\u001b[39m (4): Z, N, chi2, P\n",
      "\n",
      "\n",
      "\u001b[36mℹ\u001b[39m Use \u001b[30m\u001b[47m\u001b[30m\u001b[47m`spec()`\u001b[47m\u001b[30m\u001b[49m\u001b[39m to retrieve the full column specification for this data.\n",
      "\u001b[36mℹ\u001b[39m Specify the column types or set \u001b[30m\u001b[47m\u001b[30m\u001b[47m`show_col_types = FALSE`\u001b[47m\u001b[30m\u001b[49m\u001b[39m to quiet this message.\n",
      "\n"
     ]
    },
    {
     "name": "stdout",
     "output_type": "stream",
     "text": [
      "Formatting X1\n",
      "There are  1037824  variants.\n",
      "Removing  0  duplicated variants leaving  1037824 variants.\n",
      "No variants have illegal alleles.\n",
      "Removed  0  variants with ambiguous strand.\n",
      "Flipping strand and effect allele so A1 is always A\n",
      "Returning  1037824  variants.\n",
      "Formatting X2\n",
      "There are  1037533  variants.\n",
      "Removing  0  duplicated variants leaving  1037533 variants.\n",
      "No variants have illegal alleles.\n",
      "Removed  0  variants with ambiguous strand.\n",
      "Flipping strand and effect allele so A1 is always A\n",
      "Returning  1037533  variants.\n",
      "After merging and removing variants with inconsistent alleles,  there are  1037533  variants that are present in both studies and can be used with CAUSE.\n"
     ]
    },
    {
     "name": "stderr",
     "output_type": "stream",
     "text": [
      "Clumping rrRhwa, 15595 variants, using EUR population reference\n",
      "\n",
      "Removing 13504 of 15595 variants due to LD with other variants or absence from LD reference panel\n",
      "\n"
     ]
    },
    {
     "name": "stdout",
     "output_type": "stream",
     "text": [
      "Estimating CAUSE parameters with  1000000  variants.\n",
      "1 0.004174743 \n",
      "2 1.201484e-05 \n",
      "3 3.479613e-08 \n",
      "Estimating CAUSE posteriors using  2091  variants.\n"
     ]
    },
    {
     "name": "stderr",
     "output_type": "stream",
     "text": [
      "Warning message:\n",
      "“'compare' is deprecated.\n",
      "Use 'loo_compare' instead.\n",
      "See help(\"Deprecated\")”\n"
     ]
    },
    {
     "name": "stdout",
     "output_type": "stream",
     "text": [
      "    user   system  elapsed \n",
      "2327.582 1572.981  410.607 \n",
      "Intelligence ~ Tanning \n"
     ]
    },
    {
     "name": "stderr",
     "output_type": "stream",
     "text": [
      "\u001b[1m\u001b[1mRows: \u001b[1m\u001b[22m\u001b[34m\u001b[34m1037824\u001b[34m\u001b[39m \u001b[1m\u001b[1mColumns: \u001b[1m\u001b[22m\u001b[34m\u001b[34m7\u001b[34m\u001b[39m\n",
      "\n",
      "\u001b[36m──\u001b[39m \u001b[1m\u001b[1mColumn specification\u001b[1m\u001b[22m \u001b[36m────────────────────────────────────────────────────────────────────────────────────────────────────────\u001b[39m\n",
      "\u001b[1mDelimiter:\u001b[22m \"\\t\"\n",
      "\u001b[31mchr\u001b[39m (3): SNP, A1, A2\n",
      "\u001b[32mdbl\u001b[39m (4): Z, N, chi2, P\n",
      "\n",
      "\n",
      "\u001b[36mℹ\u001b[39m Use \u001b[30m\u001b[47m\u001b[30m\u001b[47m`spec()`\u001b[47m\u001b[30m\u001b[49m\u001b[39m to retrieve the full column specification for this data.\n",
      "\u001b[36mℹ\u001b[39m Specify the column types or set \u001b[30m\u001b[47m\u001b[30m\u001b[47m`show_col_types = FALSE`\u001b[47m\u001b[30m\u001b[49m\u001b[39m to quiet this message.\n",
      "\n",
      "\u001b[1m\u001b[1mRows: \u001b[1m\u001b[22m\u001b[34m\u001b[34m1037026\u001b[34m\u001b[39m \u001b[1m\u001b[1mColumns: \u001b[1m\u001b[22m\u001b[34m\u001b[34m7\u001b[34m\u001b[39m\n",
      "\n",
      "\u001b[36m──\u001b[39m \u001b[1m\u001b[1mColumn specification\u001b[1m\u001b[22m \u001b[36m────────────────────────────────────────────────────────────────────────────────────────────────────────\u001b[39m\n",
      "\u001b[1mDelimiter:\u001b[22m \"\\t\"\n",
      "\u001b[31mchr\u001b[39m (3): SNP, A1, A2\n",
      "\u001b[32mdbl\u001b[39m (4): Z, N, chi2, P\n",
      "\n",
      "\n",
      "\u001b[36mℹ\u001b[39m Use \u001b[30m\u001b[47m\u001b[30m\u001b[47m`spec()`\u001b[47m\u001b[30m\u001b[49m\u001b[39m to retrieve the full column specification for this data.\n",
      "\u001b[36mℹ\u001b[39m Specify the column types or set \u001b[30m\u001b[47m\u001b[30m\u001b[47m`show_col_types = FALSE`\u001b[47m\u001b[30m\u001b[49m\u001b[39m to quiet this message.\n",
      "\n"
     ]
    },
    {
     "name": "stdout",
     "output_type": "stream",
     "text": [
      "Formatting X1\n",
      "There are  1037824  variants.\n",
      "Removing  0  duplicated variants leaving  1037824 variants.\n",
      "No variants have illegal alleles.\n",
      "Removed  0  variants with ambiguous strand.\n",
      "Flipping strand and effect allele so A1 is always A\n",
      "Returning  1037824  variants.\n",
      "Formatting X2\n",
      "There are  1037026  variants.\n",
      "Removing  0  duplicated variants leaving  1037026 variants.\n",
      "No variants have illegal alleles.\n",
      "Removed  0  variants with ambiguous strand.\n",
      "Flipping strand and effect allele so A1 is always A\n",
      "Returning  1037026  variants.\n",
      "After merging and removing variants with inconsistent alleles,  there are  1037026  variants that are present in both studies and can be used with CAUSE.\n"
     ]
    },
    {
     "name": "stderr",
     "output_type": "stream",
     "text": [
      "Clumping s83cJH, 15590 variants, using EUR population reference\n",
      "\n",
      "Removing 13501 of 15590 variants due to LD with other variants or absence from LD reference panel\n",
      "\n"
     ]
    }
   ],
   "source": [
    "library(readr)\n",
    "library(cause)\n",
    "ts1 = c(\"AD\", \"ASD\", \"Daytime_Sleepiness\", \"Height_UKB\",  \"Intelligence\", \"RA\",      \n",
    "        \"T2D\", \"Alcohol\", \"BMI\", \"Depression\", \"IBD\", \"MDD\", \"SCZ\", \"Angina\", \n",
    "        \"CAD\", \"HBP\", \"Income\", \"NEB\", \"Smoking\", \"Urate\", \"Anorexia\", \n",
    "        \"CD\", \"Height_GIANT\", \"Insomnia\", \"Neuroticism\", \"SWB\")\n",
    "\n",
    "ts2 = c(\"Hair_Light_Brown\", \"Hair_Dark_Brown\",  \"Hair_Black\",    \"Hair_Blonde\",  \"Tanning\")\n",
    "\n",
    "Threshold=1e-03\n",
    "\n",
    "for( exposure in ts1 ){\n",
    "  \n",
    "  for( outcome in ts2 ){\n",
    "    \n",
    "    start = proc.time()\n",
    "    \n",
    "    # read GWAS summary statistics\n",
    "    cat(exposure,\"~\",outcome,\"\\n\")\n",
    "    \n",
    "    X1 = readr::read_delim(paste0(\"./GWAS_26and5_formatted/\", exposure), delim=\"\\t\", escape_double = FALSE, trim_ws = TRUE, progress = F)\n",
    "    \n",
    "    X2 = readr::read_delim(paste0(\"./GWAS_26and5_formatted/\", outcome), delim=\"\\t\", escape_double = FALSE, trim_ws = TRUE, progress = F)\n",
    "    \n",
    "    X1$b = X1$Z/sqrt(X1$N)\n",
    "    X2$b = X2$Z/sqrt(X2$N)\n",
    "    X1$se = 1/sqrt(X1$N)\n",
    "    X2$se = 1/sqrt(X2$N)\n",
    "    \n",
    "    X <- try(gwas_merge(X1, X2, \n",
    "                        snp_name_cols = c(\"SNP\", \"SNP\"),\n",
    "                        beta_hat_cols = c(\"b\", \"b\"),\n",
    "                        se_cols = c(\"se\", \"se\"),\n",
    "                        A1_cols = c(\"A1\", \"A1\"),\n",
    "                        A2_cols = c(\"A2\", \"A2\")))\n",
    "    \n",
    "    if(inherits(X , 'try-error')) next\n",
    "    \n",
    "    d0 = X1[, c(\"SNP\", \"P\")]\n",
    "    colnames(d0) = c(\"snp\", \"pval.exp\")\n",
    "    X0 = merge(X, d0, by=\"snp\")\n",
    "    \n",
    "    # clump\n",
    "    clumped = MRAPSS::clump(X0,\n",
    "                            IV.Threshold = 1e-03,\n",
    "                            SNP_col = \"snp\",\n",
    "                            pval_col = \"pval.exp\",\n",
    "                            clump_kb = 1000,\n",
    "                            clump_r2 = 0.1,\n",
    "                            bfile = \"/import/home/share/xhu/database/1KG/all_1000G_EUR_Phase3\",\n",
    "                            plink_bin = \"/import/home/maxhu/plink/plink\")\n",
    "    \n",
    "    varlist <- with(X, sample(snp, size=min(nrow(X), 1000000), replace=FALSE))\n",
    "    params <- try(est_cause_params(X, varlist))\n",
    "    if(inherits(params , 'try-error')) next\n",
    "    \n",
    "    # cause\n",
    "    if(!is.null(clumped)){\n",
    "      \n",
    "      top_ldl_pruned_vars =intersect(as.character(X$snp), as.character(subset(clumped, pval.exp <= Threshold)$snp))\n",
    "      \n",
    "      cause_res <- try(cause(X=X, variants = top_ldl_pruned_vars , param_ests = params, force=TRUE))\n",
    "      \n",
    "      if(inherits( cause_res , 'try-error')) next\n",
    "      \n",
    "      res_elpd <- data.frame(exposure,\n",
    "                             outcome,\n",
    "                             Threshold,\n",
    "                             length(top_ldl_pruned_vars),\n",
    "                             cause_res$elpd)\n",
    "      \n",
    "      res.cause.est = summary(cause_res, ci_size=0.95)\n",
    "      \n",
    "      res = data.frame(exposure, outcome,\n",
    "                       Threshold,length(top_ldl_pruned_vars),\n",
    "                       matrix(c(res.cause.est$quants[[2]][,1],\n",
    "                                res.cause.est$quants[[2]][,2],\n",
    "                                res.cause.est$quants[[2]][,3]), nrow=1))\n",
    "      \n",
    "      write.table(res, file=\"NC_CAUSE_est\", append=T,\n",
    "                  col.names = F, row.names = F,\n",
    "                  quote = F)\n",
    "      \n",
    "      write.table(res_elpd, file=\"NC_CAUSE_elpd\", append=T,\n",
    "                  col.names = F, row.names = F,\n",
    "                  quote = F)\n",
    "      \n",
    "      rm(top_ldl_pruned_vars)\n",
    "      rm(res)\n",
    "      rm(res_elpd)\n",
    "      rm(res.cause.est)\n",
    "      rm(cause_res)\n",
    "      print(proc.time()-start)\n",
    "      \n",
    "    }\n",
    "    \n",
    "  }\n",
    "  \n",
    "}"
   ]
  },
  {
   "cell_type": "code",
   "execution_count": 4,
   "metadata": {},
   "outputs": [],
   "source": [
    "cause_elpd = unique(read.table(\"NC_CAUSE_elpd\", header = F))\n",
    "cause_est = unique(read.table(\"NC_CAUSE_est\", header = F))\n",
    "colnames(cause_elpd) = c(\"exposure\",\"outcome\",\"Threshold\",\"nsnp\",\"model1\",\"model2\",\"delta_elpd\", \"se_delta_elpd\", \"Z\")\n",
    "colnames(cause_est) = c(\"exposure\",\"outcome\",\"Threshold\",\"nsnp\", \"b\",\"b_l\",\"b_u\",\"eta\",\"eta_l\",\"eta_u\",\"q\",\"q_l\",\"q_u\")\n",
    "cause_elpd = unique(subset(cause_elpd, model1==\"sharing\"&model2==\"causal\"))\n",
    "cause_elpd$pval = pnorm(cause_elpd$Z)\n",
    "cause_est = unique(cause_est[, c(\"exposure\",\"outcome\",\"Threshold\",\"nsnp\", \"b\",\"b_l\",\"b_u\")])\n",
    "cause_est$se = (cause_est$b_u - cause_est$b_l)/2/1.96\n",
    "cause_res = unique(merge(unique(cause_elpd[, c(\"exposure\",\"outcome\",\"pval\")]),\n",
    "                         cause_est[, c(\"exposure\",\"outcome\",\"Threshold\",\"nsnp\", \"b\",\"se\")],\n",
    "                         by=c(\"exposure\",\"outcome\")))\n",
    "cause_res$Method = \"CAUSE\"\n",
    "write.table(cause_res, file=\"NC_CAUSE.MRres\", append=F, col.names = T, row.names = F, quote = F)"
   ]
  },
  {
   "cell_type": "code",
   "execution_count": null,
   "metadata": {},
   "outputs": [],
   "source": []
  }
 ],
 "metadata": {
  "kernelspec": {
   "display_name": "R",
   "language": "R",
   "name": "ir"
  },
  "language_info": {
   "codemirror_mode": "r",
   "file_extension": ".r",
   "mimetype": "text/x-r-source",
   "name": "R",
   "pygments_lexer": "r",
   "version": "3.6.3"
  }
 },
 "nbformat": 4,
 "nbformat_minor": 4
}
