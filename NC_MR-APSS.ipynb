{
 "cells": [
  {
   "cell_type": "markdown",
   "metadata": {},
   "source": [
    "Contents:\n",
    " 1. Run MR-APSS at IV threshold 5e-05 (default) and evaluate the importance of MR-APSS for accounting for pleiotropy, sample structure, and selection bias.\n",
    " 2. Run MR-APSS by changing the IV thresholds to show that MR-APSS is insensitive to IV thresholds."
   ]
  },
  {
   "cell_type": "markdown",
   "metadata": {},
   "source": [
    "# The function for calling MRAPSS() from MRAPSS package"
   ]
  },
  {
   "cell_type": "code",
   "execution_count": 3,
   "metadata": {},
   "outputs": [],
   "source": [
    "run_APSS_func <- function(clumped=NULL,\n",
    "                          exposure=NULL,\n",
    "                          outcome=NULL,\n",
    "                          C = diag(2),\n",
    "                          Omega = matrix(0, 2, 2),\n",
    "                          IV.Threshold = 5e-08, # IV selection threshold\n",
    "                          Threshold = 5e-08,    # threshold for correcting for selection bias\n",
    "                          Cor.SelectionBias=T){\n",
    "  \n",
    " \n",
    "  res=NULL\n",
    "  \n",
    "  for(i in 1:length(Threshold)){\n",
    "    \n",
    "    start = proc.time()\n",
    "    if(!is.null(clumped)){\n",
    "      \n",
    "      test = subset(clumped, pval.exp <= IV.Threshold[i])\n",
    "      if(nrow(test) < 4 ) next\n",
    "      test$Threshold = Threshold[i]\n",
    "      cat(\"IV selection threshold:\", IV.Threshold[i] ,\"\\n\")\n",
    "      \n",
    "      \n",
    "      MRres = try(MRAPSS::MRAPSS(test,\n",
    "                                 exposure=exposure,\n",
    "                                 outcome=outcome,\n",
    "                                 C= C,\n",
    "                                 Omega= Omega,\n",
    "                                 Cor.SelectionBias = Cor.SelectionBias))\n",
    " \n",
    "      print(proc.time()-start)\n",
    "      \n",
    "      if(inherits(MRres, 'try-error')) {\n",
    "        MRres=NULL\n",
    "      }\n",
    "    }\n",
    "    \n",
    "    \n",
    "    res0 = data.frame(exposure = MRres$exposure,\n",
    "                      outcome = MRres$outcome,\n",
    "                      nSNP = nrow(MRres$MRdat),\n",
    "                      pi0 = MRres$pi0,\n",
    "                      nvalid = nrow(MRres$MRdat)*MRres$pi0,\n",
    "                      sigma.sq= MRres$sigma.sq,\n",
    "                      tau.sq= MRres$tau.sq,\n",
    "                      beta = MRres$beta,\n",
    "                      se = MRres$beta.se,\n",
    "                      pval= MRres$pvalue,\n",
    "                      method = MRres$method,\n",
    "                      Threshold = Threshold[i],\n",
    "                      IVstrength = MRres$IVsignal.sum\n",
    "    )\n",
    "    \n",
    "    if(nrow(res0)!=0){\n",
    "      res0$IV.Threshold = IV.Threshold[i]\n",
    "    }\n",
    "    \n",
    "    res = rbind(res, res0)\n",
    "    \n",
    "  }\n",
    "  \n",
    "  return(res)\n",
    "  \n",
    "}\n",
    "\n"
   ]
  },
  {
   "cell_type": "markdown",
   "metadata": {},
   "source": [
    "# Run MR-APSS at IV threshold 5e-05 (default)"
   ]
  },
  {
   "cell_type": "code",
   "execution_count": 3,
   "metadata": {},
   "outputs": [
    {
     "name": "stdout",
     "output_type": "stream",
     "text": [
      "Pair:  AD ~ Hair_Light_Brown \n",
      "Run MR-APSS ... \n",
      "IV selection threshold: 5e-05 \n",
      "***********************************************************\n",
      "MR test results of  AD  on  Hair_Light_Brown : \n",
      "MR-APSS: beta =  -0.0067 , beta.se =  0.0187 , p-value =  7.1987e-01 . \n",
      "Total NO. of IVs=  69 , NO. of valid IVs with foreground signals:  17.08942 . \n",
      "***********************************************************\n",
      "   user  system elapsed \n",
      "  2.062   3.378   1.493 \n",
      "Run MR-APSS (Omega = 0), i.e. MR-APSS not accounting for polygenicity and pleiotropy. ... \n",
      "IV selection threshold: 5e-05 \n",
      "***********************************************************\n",
      "MR test results of  AD  on  Hair_Light_Brown : \n",
      "MR-APSS: beta =  -0.0058 , beta.se =  0.0175 , p-value =  7.4077e-01 . \n",
      "Total NO. of IVs=  69 , NO. of valid IVs with foreground signals:  17.68984 . \n",
      "***********************************************************\n",
      "   user  system elapsed \n",
      "  1.095   0.728   0.911 \n",
      "Run MR-APSS (C = I), i.e. MR-APSS not accounting for sample structure ... \n",
      "IV selection threshold: 5e-05 \n",
      "***********************************************************\n",
      "MR test results of  AD  on  Hair_Light_Brown : \n",
      "MR-APSS: beta =  -0.0081 , beta.se =  0.0166 , p-value =  6.2309e-01 . \n",
      "Total NO. of IVs=  69 , NO. of valid IVs with foreground signals:  19.5734 . \n",
      "***********************************************************\n",
      "   user  system elapsed \n",
      "  1.334   0.823   1.080 \n",
      "Run MR-APSS not accounting for selection bias ... \n",
      "IV selection threshold: 5e-05 \n"
     ]
    },
    {
     "name": "stderr",
     "output_type": "stream",
     "text": [
      "Threshold = 1, the model will not correct for selection bias\n",
      "\n"
     ]
    },
    {
     "name": "stdout",
     "output_type": "stream",
     "text": [
      "***********************************************************\n",
      "MR test results of  AD  on  Hair_Light_Brown : \n",
      "MR-APSS: beta =  -0.001 , beta.se =  0.0116 , p-value =  9.2870e-01 . \n",
      "Total NO. of IVs=  69 , NO. of valid IVs with foreground signals:  68.9931 . \n",
      "***********************************************************\n",
      "   user  system elapsed \n",
      " 30.622  19.263  24.949 \n",
      "Pair:  AD ~ Hair_Dark_Brown \n",
      "Run MR-APSS ... \n",
      "IV selection threshold: 5e-05 \n",
      "***********************************************************\n",
      "MR test results of  AD  on  Hair_Dark_Brown : \n",
      "MR-APSS: beta =  0 , beta.se =  0.0044 , p-value =  9.9758e-01 . \n",
      "Total NO. of IVs=  69 , NO. of valid IVs with foreground signals:  17.04725 . \n",
      "***********************************************************\n",
      "   user  system elapsed \n",
      "   0.93    0.53    0.73 \n",
      "Run MR-APSS (Omega = 0), i.e. MR-APSS not accounting for polygenicity and pleiotropy. ... \n",
      "IV selection threshold: 5e-05 \n",
      "***********************************************************\n",
      "MR test results of  AD  on  Hair_Dark_Brown : \n",
      "MR-APSS: beta =  9e-04 , beta.se =  0.0176 , p-value =  9.6038e-01 . \n",
      "Total NO. of IVs=  69 , NO. of valid IVs with foreground signals:  17.65244 . \n",
      "***********************************************************\n",
      "   user  system elapsed \n",
      " 35.158  22.304  29.062 \n",
      "Run MR-APSS (C = I), i.e. MR-APSS not accounting for sample structure ... \n",
      "IV selection threshold: 5e-05 \n",
      "***********************************************************\n",
      "MR test results of  AD  on  Hair_Dark_Brown : \n",
      "MR-APSS: beta =  0.0013 , beta.se =  0.0178 , p-value =  9.4112e-01 . \n",
      "Total NO. of IVs=  69 , NO. of valid IVs with foreground signals:  19.63868 . \n",
      "***********************************************************\n",
      "   user  system elapsed \n",
      " 37.283  22.928  30.544 \n",
      "Run MR-APSS not accounting for selection bias ... \n",
      "IV selection threshold: 5e-05 \n"
     ]
    },
    {
     "name": "stderr",
     "output_type": "stream",
     "text": [
      "Threshold = 1, the model will not correct for selection bias\n",
      "\n"
     ]
    },
    {
     "name": "stdout",
     "output_type": "stream",
     "text": [
      "***********************************************************\n",
      "MR test results of  AD  on  Hair_Dark_Brown : \n",
      "MR-APSS: beta =  0.0027 , beta.se =  0.0133 , p-value =  8.3785e-01 . \n",
      "Total NO. of IVs=  69 , NO. of valid IVs with foreground signals:  68.9931 . \n",
      "***********************************************************\n",
      "   user  system elapsed \n",
      "  0.299   0.191   0.245 \n",
      "Pair:  AD ~ Hair_Black \n",
      "Run MR-APSS ... \n",
      "IV selection threshold: 5e-05 \n",
      "***********************************************************\n",
      "MR test results of  AD  on  Hair_Black : \n",
      "MR-APSS: beta =  0.014 , beta.se =  0.0207 , p-value =  4.9808e-01 . \n",
      "Total NO. of IVs=  69 , NO. of valid IVs with foreground signals:  17.15173 . \n",
      "***********************************************************\n",
      "   user  system elapsed \n",
      "  1.434   0.899   1.166 \n",
      "Run MR-APSS (Omega = 0), i.e. MR-APSS not accounting for polygenicity and pleiotropy. ... \n",
      "IV selection threshold: 5e-05 \n",
      "***********************************************************\n",
      "MR test results of  AD  on  Hair_Black : \n",
      "MR-APSS: beta =  0.0145 , beta.se =  0.0191 , p-value =  4.4746e-01 . \n",
      "Total NO. of IVs=  69 , NO. of valid IVs with foreground signals:  17.74358 . \n",
      "***********************************************************\n",
      "   user  system elapsed \n",
      "  1.485   0.897   1.191 \n",
      "Run MR-APSS (C = I), i.e. MR-APSS not accounting for sample structure ... \n",
      "IV selection threshold: 5e-05 \n",
      "***********************************************************\n",
      "MR test results of  AD  on  Hair_Black : \n",
      "MR-APSS: beta =  0.017 , beta.se =  0.0169 , p-value =  3.1471e-01 . \n",
      "Total NO. of IVs=  69 , NO. of valid IVs with foreground signals:  19.91452 . \n",
      "***********************************************************\n",
      "   user  system elapsed \n",
      " 35.345  21.346  28.363 \n",
      "Run MR-APSS not accounting for selection bias ... \n",
      "IV selection threshold: 5e-05 \n"
     ]
    },
    {
     "name": "stderr",
     "output_type": "stream",
     "text": [
      "Threshold = 1, the model will not correct for selection bias\n",
      "\n"
     ]
    },
    {
     "name": "stdout",
     "output_type": "stream",
     "text": [
      "***********************************************************\n",
      "MR test results of  AD  on  Hair_Black : \n",
      "MR-APSS: beta =  0.0089 , beta.se =  0.0132 , p-value =  4.9785e-01 . \n",
      "Total NO. of IVs=  69 , NO. of valid IVs with foreground signals:  68.9931 . \n",
      "***********************************************************\n",
      "   user  system elapsed \n",
      " 18.021  11.398  14.719 \n",
      "Pair:  AD ~ Hair_Blonde \n",
      "Run MR-APSS ... \n",
      "IV selection threshold: 5e-05 \n",
      "***********************************************************\n",
      "MR test results of  AD  on  Hair_Blonde : \n",
      "MR-APSS: beta =  0.0181 , beta.se =  0.0194 , p-value =  3.5122e-01 . \n",
      "Total NO. of IVs=  69 , NO. of valid IVs with foreground signals:  16.80597 . \n",
      "***********************************************************\n",
      "   user  system elapsed \n",
      "  1.396   0.891   1.144 \n",
      "Run MR-APSS (Omega = 0), i.e. MR-APSS not accounting for polygenicity and pleiotropy. ... \n",
      "IV selection threshold: 5e-05 \n",
      "***********************************************************\n",
      "MR test results of  AD  on  Hair_Blonde : \n",
      "MR-APSS: beta =  0.0189 , beta.se =  0.0206 , p-value =  3.5826e-01 . \n",
      "Total NO. of IVs=  69 , NO. of valid IVs with foreground signals:  17.69547 . \n",
      "***********************************************************\n",
      "   user  system elapsed \n",
      "  5.071   3.236   4.156 \n",
      "Run MR-APSS (C = I), i.e. MR-APSS not accounting for sample structure ... \n",
      "IV selection threshold: 5e-05 \n",
      "***********************************************************\n",
      "MR test results of  AD  on  Hair_Blonde : \n",
      "MR-APSS: beta =  0.0168 , beta.se =  0.0181 , p-value =  3.5330e-01 . \n",
      "Total NO. of IVs=  69 , NO. of valid IVs with foreground signals:  19.25752 . \n",
      "***********************************************************\n",
      "   user  system elapsed \n",
      "  1.441   0.898   1.170 \n",
      "Run MR-APSS not accounting for selection bias ... \n",
      "IV selection threshold: 5e-05 \n"
     ]
    },
    {
     "name": "stderr",
     "output_type": "stream",
     "text": [
      "Threshold = 1, the model will not correct for selection bias\n",
      "\n"
     ]
    },
    {
     "name": "stdout",
     "output_type": "stream",
     "text": [
      "***********************************************************\n",
      "MR test results of  AD  on  Hair_Blonde : \n",
      "MR-APSS: beta =  0.0018 , beta.se =  0.0124 , p-value =  8.8542e-01 . \n",
      "Total NO. of IVs=  69 , NO. of valid IVs with foreground signals:  68.9931 . \n",
      "***********************************************************\n",
      "   user  system elapsed \n",
      "  0.307   0.172   0.239 \n",
      "Pair:  AD ~ Tanning \n",
      "Run MR-APSS ... \n",
      "IV selection threshold: 5e-05 \n",
      "***********************************************************\n",
      "MR test results of  AD  on  Tanning : \n",
      "MR-APSS: beta =  0.0218 , beta.se =  0.0258 , p-value =  3.9880e-01 . \n",
      "Total NO. of IVs=  69 , NO. of valid IVs with foreground signals:  17.07372 . \n",
      "***********************************************************\n",
      "   user  system elapsed \n",
      "  7.232   4.668   5.954 \n",
      "Run MR-APSS (Omega = 0), i.e. MR-APSS not accounting for polygenicity and pleiotropy. ... \n",
      "IV selection threshold: 5e-05 \n",
      "***********************************************************\n",
      "MR test results of  AD  on  Tanning : \n",
      "MR-APSS: beta =  0.0268 , beta.se =  0.0267 , p-value =  3.1554e-01 . \n",
      "Total NO. of IVs=  69 , NO. of valid IVs with foreground signals:  19.07824 . \n",
      "***********************************************************\n",
      "   user  system elapsed \n",
      "  1.544   0.946   1.245 \n",
      "Run MR-APSS (C = I), i.e. MR-APSS not accounting for sample structure ... \n",
      "IV selection threshold: 5e-05 \n",
      "***********************************************************\n",
      "MR test results of  AD  on  Tanning : \n",
      "MR-APSS: beta =  0.0237 , beta.se =  0.0261 , p-value =  3.6409e-01 . \n",
      "Total NO. of IVs=  69 , NO. of valid IVs with foreground signals:  20.05244 . \n",
      "***********************************************************\n",
      "   user  system elapsed \n",
      "  1.658   1.011   1.335 \n",
      "Run MR-APSS not accounting for selection bias ... \n",
      "IV selection threshold: 5e-05 \n"
     ]
    },
    {
     "name": "stderr",
     "output_type": "stream",
     "text": [
      "Threshold = 1, the model will not correct for selection bias\n",
      "\n"
     ]
    },
    {
     "name": "stdout",
     "output_type": "stream",
     "text": [
      "***********************************************************\n",
      "MR test results of  AD  on  Tanning : \n",
      "MR-APSS: beta =  0.0231 , beta.se =  0.015 , p-value =  1.2469e-01 . \n",
      "Total NO. of IVs=  69 , NO. of valid IVs with foreground signals:  68.9931 . \n",
      "***********************************************************\n",
      "   user  system elapsed \n",
      " 45.868  28.536  37.254 \n",
      "Pair:  ASD ~ Hair_Light_Brown \n",
      "Run MR-APSS ... \n",
      "IV selection threshold: 5e-05 \n",
      "***********************************************************\n",
      "MR test results of  ASD  on  Hair_Light_Brown : \n",
      "MR-APSS: beta =  0.0171 , beta.se =  0.036 , p-value =  6.3410e-01 . \n",
      "Total NO. of IVs=  39 , NO. of valid IVs with foreground signals:  38.99107 . \n",
      "***********************************************************\n",
      "   user  system elapsed \n",
      " 16.836  10.533  13.728 \n",
      "Run MR-APSS (Omega = 0), i.e. MR-APSS not accounting for polygenicity and pleiotropy. ... \n",
      "IV selection threshold: 5e-05 \n",
      "***********************************************************\n",
      "MR test results of  ASD  on  Hair_Light_Brown : \n",
      "MR-APSS: beta =  0.0077 , beta.se =  0.0253 , p-value =  7.6052e-01 . \n",
      "Total NO. of IVs=  39 , NO. of valid IVs with foreground signals:  38.99314 . \n",
      "***********************************************************\n",
      "   user  system elapsed \n",
      " 11.831   7.195   9.965 \n",
      "Run MR-APSS (C = I), i.e. MR-APSS not accounting for sample structure ... \n",
      "IV selection threshold: 5e-05 \n",
      "***********************************************************\n",
      "MR test results of  ASD  on  Hair_Light_Brown : \n",
      "MR-APSS: beta =  0.361 , beta.se =  0.3045 , p-value =  2.3589e-01 . \n",
      "Total NO. of IVs=  39 , NO. of valid IVs with foreground signals:  3.130074 . \n",
      "***********************************************************\n",
      "   user  system elapsed \n",
      " 46.177  28.783  37.681 \n",
      "Run MR-APSS not accounting for selection bias ... \n",
      "IV selection threshold: 5e-05 \n"
     ]
    },
    {
     "name": "stderr",
     "output_type": "stream",
     "text": [
      "Threshold = 1, the model will not correct for selection bias\n",
      "\n"
     ]
    },
    {
     "name": "stdout",
     "output_type": "stream",
     "text": [
      "***********************************************************\n",
      "MR test results of  ASD  on  Hair_Light_Brown : \n",
      "MR-APSS: beta =  0.0074 , beta.se =  0.0102 , p-value =  4.6922e-01 . \n",
      "Total NO. of IVs=  39 , NO. of valid IVs with foreground signals:  38.9961 . \n",
      "***********************************************************\n",
      "   user  system elapsed \n",
      "  3.263   2.039   2.651 \n",
      "Pair:  ASD ~ Hair_Dark_Brown \n",
      "Run MR-APSS ... \n",
      "IV selection threshold: 5e-05 \n",
      "***********************************************************\n",
      "MR test results of  ASD  on  Hair_Dark_Brown : \n",
      "MR-APSS: beta =  0.0117 , beta.se =  0.0492 , p-value =  8.1155e-01 . \n",
      "Total NO. of IVs=  39 , NO. of valid IVs with foreground signals:  38.93972 . \n",
      "***********************************************************\n",
      "   user  system elapsed \n",
      " 26.701  16.838  21.788 \n",
      "Run MR-APSS (Omega = 0), i.e. MR-APSS not accounting for polygenicity and pleiotropy. ... \n",
      "IV selection threshold: 5e-05 \n",
      "***********************************************************\n",
      "MR test results of  ASD  on  Hair_Dark_Brown : \n",
      "MR-APSS: beta =  0.016 , beta.se =  0.0453 , p-value =  7.2376e-01 . \n",
      "Total NO. of IVs=  39 , NO. of valid IVs with foreground signals:  30.0315 . \n",
      "***********************************************************\n",
      "   user  system elapsed \n",
      " 10.158   6.186   8.195 \n",
      "Run MR-APSS (C = I), i.e. MR-APSS not accounting for sample structure ... \n",
      "IV selection threshold: 5e-05 \n",
      "***********************************************************\n",
      "MR test results of  ASD  on  Hair_Dark_Brown : \n",
      "MR-APSS: beta =  -0.0222 , beta.se =  0.129 , p-value =  8.6327e-01 . \n",
      "Total NO. of IVs=  39 , NO. of valid IVs with foreground signals:  19.29325 . \n",
      "***********************************************************\n",
      "   user  system elapsed \n",
      " 12.134   7.114  10.728 \n",
      "Run MR-APSS not accounting for selection bias ... \n",
      "IV selection threshold: 5e-05 \n"
     ]
    },
    {
     "name": "stderr",
     "output_type": "stream",
     "text": [
      "Threshold = 1, the model will not correct for selection bias\n",
      "\n"
     ]
    },
    {
     "name": "stdout",
     "output_type": "stream",
     "text": [
      "***********************************************************\n",
      "MR test results of  ASD  on  Hair_Dark_Brown : \n",
      "MR-APSS: beta =  -0.0029 , beta.se =  0.0127 , p-value =  8.2034e-01 . \n",
      "Total NO. of IVs=  39 , NO. of valid IVs with foreground signals:  38.9961 . \n",
      "***********************************************************\n",
      "   user  system elapsed \n",
      "  0.550   0.289   0.420 \n",
      "Pair:  ASD ~ Hair_Black \n",
      "Run MR-APSS ... \n",
      "IV selection threshold: 5e-05 \n",
      "***********************************************************\n",
      "MR test results of  ASD  on  Hair_Black : \n",
      "MR-APSS: beta =  -0.0164 , beta.se =  0.0417 , p-value =  6.9367e-01 . \n",
      "Total NO. of IVs=  39 , NO. of valid IVs with foreground signals:  38.99109 . \n",
      "***********************************************************\n",
      "   user  system elapsed \n",
      " 22.629  13.841  18.247 \n",
      "Run MR-APSS (Omega = 0), i.e. MR-APSS not accounting for polygenicity and pleiotropy. ... \n",
      "IV selection threshold: 5e-05 \n",
      "***********************************************************\n",
      "MR test results of  ASD  on  Hair_Black : \n",
      "MR-APSS: beta =  -0.0311 , beta.se =  0.028 , p-value =  2.6721e-01 . \n",
      "Total NO. of IVs=  39 , NO. of valid IVs with foreground signals:  38.99466 . \n",
      "***********************************************************\n",
      "   user  system elapsed \n",
      " 10.514   6.708   8.616 \n",
      "Run MR-APSS (C = I), i.e. MR-APSS not accounting for sample structure ... \n",
      "IV selection threshold: 5e-05 \n",
      "***********************************************************\n",
      "MR test results of  ASD  on  Hair_Black : \n",
      "MR-APSS: beta =  0.0382 , beta.se =  0.1048 , p-value =  7.1545e-01 . \n",
      "Total NO. of IVs=  39 , NO. of valid IVs with foreground signals:  6.539642 . \n",
      "***********************************************************\n",
      "   user  system elapsed \n",
      " 21.821  13.563  17.702 \n",
      "Run MR-APSS not accounting for selection bias ... \n",
      "IV selection threshold: 5e-05 \n"
     ]
    },
    {
     "name": "stderr",
     "output_type": "stream",
     "text": [
      "Threshold = 1, the model will not correct for selection bias\n",
      "\n"
     ]
    },
    {
     "name": "stdout",
     "output_type": "stream",
     "text": [
      "***********************************************************\n",
      "MR test results of  ASD  on  Hair_Black : \n",
      "MR-APSS: beta =  -0.0031 , beta.se =  0.0115 , p-value =  7.8715e-01 . \n",
      "Total NO. of IVs=  39 , NO. of valid IVs with foreground signals:  38.9961 . \n",
      "***********************************************************\n",
      "   user  system elapsed \n",
      " 17.240  10.762  14.268 \n",
      "Pair:  ASD ~ Hair_Blonde \n",
      "Run MR-APSS ... \n",
      "IV selection threshold: 5e-05 \n",
      "***********************************************************\n",
      "MR test results of  ASD  on  Hair_Blonde : \n",
      "MR-APSS: beta =  -0.0223 , beta.se =  0.0411 , p-value =  5.8683e-01 . \n",
      "Total NO. of IVs=  39 , NO. of valid IVs with foreground signals:  38.97507 . \n",
      "***********************************************************\n",
      "   user  system elapsed \n",
      " 16.557  10.722  14.061 \n",
      "Run MR-APSS (Omega = 0), i.e. MR-APSS not accounting for polygenicity and pleiotropy. ... \n",
      "IV selection threshold: 5e-05 \n",
      "***********************************************************\n",
      "MR test results of  ASD  on  Hair_Blonde : \n",
      "MR-APSS: beta =  -0.0303 , beta.se =  0.0383 , p-value =  4.2854e-01 . \n",
      "Total NO. of IVs=  39 , NO. of valid IVs with foreground signals:  25.49455 . \n",
      "***********************************************************\n",
      "   user  system elapsed \n",
      " 36.864  22.942  30.389 \n",
      "Run MR-APSS (C = I), i.e. MR-APSS not accounting for sample structure ... \n",
      "IV selection threshold: 5e-05 \n",
      "***********************************************************\n",
      "MR test results of  ASD  on  Hair_Blonde : \n",
      "MR-APSS: beta =  -0.0734 , beta.se =  0.11 , p-value =  5.0483e-01 . \n",
      "Total NO. of IVs=  39 , NO. of valid IVs with foreground signals:  11.1825 . \n",
      "***********************************************************\n",
      "   user  system elapsed \n",
      " 40.237  25.506  33.804 \n",
      "Run MR-APSS not accounting for selection bias ... \n",
      "IV selection threshold: 5e-05 \n"
     ]
    },
    {
     "name": "stderr",
     "output_type": "stream",
     "text": [
      "Threshold = 1, the model will not correct for selection bias\n",
      "\n"
     ]
    },
    {
     "name": "stdout",
     "output_type": "stream",
     "text": [
      "***********************************************************\n",
      "MR test results of  ASD  on  Hair_Blonde : \n",
      "MR-APSS: beta =  -0.005 , beta.se =  0.011 , p-value =  6.5054e-01 . \n",
      "Total NO. of IVs=  39 , NO. of valid IVs with foreground signals:  38.9961 . \n",
      "***********************************************************\n",
      "   user  system elapsed \n",
      "  0.222   0.111   0.167 \n",
      "Pair:  ASD ~ Tanning \n",
      "Run MR-APSS ... \n",
      "IV selection threshold: 5e-05 \n",
      "***********************************************************\n",
      "MR test results of  ASD  on  Tanning : \n",
      "MR-APSS: beta =  0.7171 , beta.se =  0.4633 , p-value =  1.2170e-01 . \n",
      "Total NO. of IVs=  39 , NO. of valid IVs with foreground signals:  1.016126 . \n",
      "***********************************************************\n",
      "   user  system elapsed \n",
      " 11.622   7.269   9.725 \n",
      "Run MR-APSS (Omega = 0), i.e. MR-APSS not accounting for polygenicity and pleiotropy. ... \n",
      "IV selection threshold: 5e-05 \n",
      "***********************************************************\n",
      "MR test results of  ASD  on  Tanning : \n",
      "MR-APSS: beta =  0.3626 , beta.se =  0.384 , p-value =  3.4500e-01 . \n",
      "Total NO. of IVs=  39 , NO. of valid IVs with foreground signals:  2.381125 . \n",
      "***********************************************************\n",
      "   user  system elapsed \n",
      "  7.722   4.729   6.231 \n",
      "Run MR-APSS (C = I), i.e. MR-APSS not accounting for sample structure ... \n",
      "IV selection threshold: 5e-05 \n",
      "***********************************************************\n",
      "MR test results of  ASD  on  Tanning : \n",
      "MR-APSS: beta =  0.7661 , beta.se =  0.595 , p-value =  1.9791e-01 . \n",
      "Total NO. of IVs=  39 , NO. of valid IVs with foreground signals:  1.016266 . \n",
      "***********************************************************\n",
      "   user  system elapsed \n",
      " 16.975  11.098  14.311 \n",
      "Run MR-APSS not accounting for selection bias ... \n",
      "IV selection threshold: 5e-05 \n"
     ]
    },
    {
     "name": "stderr",
     "output_type": "stream",
     "text": [
      "Threshold = 1, the model will not correct for selection bias\n",
      "\n"
     ]
    },
    {
     "name": "stdout",
     "output_type": "stream",
     "text": [
      "***********************************************************\n",
      "MR test results of  ASD  on  Tanning : \n",
      "MR-APSS: beta =  0.0108 , beta.se =  0.0179 , p-value =  5.4499e-01 . \n",
      "Total NO. of IVs=  39 , NO. of valid IVs with foreground signals:  38.9961 . \n",
      "***********************************************************\n",
      "   user  system elapsed \n",
      "  1.028   0.640   0.834 \n",
      "Pair:  Daytime_Sleepiness ~ Hair_Light_Brown \n",
      "Run MR-APSS ... \n",
      "IV selection threshold: 5e-05 \n",
      "***********************************************************\n",
      "MR test results of  Daytime_Sleepiness  on  Hair_Light_Brown : \n",
      "MR-APSS: beta =  0.0709 , beta.se =  0.0516 , p-value =  1.6975e-01 . \n",
      "Total NO. of IVs=  243 , NO. of valid IVs with foreground signals:  69.69107 . \n",
      "***********************************************************\n",
      "   user  system elapsed \n",
      " 38.812  24.416  31.887 \n",
      "Run MR-APSS (Omega = 0), i.e. MR-APSS not accounting for polygenicity and pleiotropy. ... \n",
      "IV selection threshold: 5e-05 \n",
      "***********************************************************\n",
      "MR test results of  Daytime_Sleepiness  on  Hair_Light_Brown : \n",
      "MR-APSS: beta =  0.0522 , beta.se =  0.0375 , p-value =  1.6373e-01 . \n",
      "Total NO. of IVs=  243 , NO. of valid IVs with foreground signals:  131.0865 . \n",
      "***********************************************************\n",
      "   user  system elapsed \n",
      " 14.751   9.477  12.232 \n",
      "Run MR-APSS (C = I), i.e. MR-APSS not accounting for sample structure ... \n",
      "IV selection threshold: 5e-05 \n",
      "***********************************************************\n",
      "MR test results of  Daytime_Sleepiness  on  Hair_Light_Brown : \n",
      "MR-APSS: beta =  0.06 , beta.se =  0.0454 , p-value =  1.8653e-01 . \n",
      "Total NO. of IVs=  243 , NO. of valid IVs with foreground signals:  108.5943 . \n",
      "***********************************************************\n",
      "   user  system elapsed \n",
      " 20.936  12.867  18.703 \n",
      "Run MR-APSS not accounting for selection bias ... \n",
      "IV selection threshold: 5e-05 \n"
     ]
    },
    {
     "name": "stderr",
     "output_type": "stream",
     "text": [
      "Threshold = 1, the model will not correct for selection bias\n",
      "\n"
     ]
    },
    {
     "name": "stdout",
     "output_type": "stream",
     "text": [
      "***********************************************************\n",
      "MR test results of  Daytime_Sleepiness  on  Hair_Light_Brown : \n",
      "MR-APSS: beta =  0.0387 , beta.se =  0.0206 , p-value =  6.0403e-02 . \n",
      "Total NO. of IVs=  243 , NO. of valid IVs with foreground signals:  242.9757 . \n",
      "***********************************************************\n",
      "   user  system elapsed \n",
      " 64.553  40.498  54.136 \n",
      "Pair:  Daytime_Sleepiness ~ Hair_Dark_Brown \n",
      "Run MR-APSS ... \n",
      "IV selection threshold: 5e-05 \n",
      "***********************************************************\n",
      "MR test results of  Daytime_Sleepiness  on  Hair_Dark_Brown : \n",
      "MR-APSS: beta =  -0.1 , beta.se =  0.0535 , p-value =  6.1889e-02 . \n",
      "Total NO. of IVs=  242 , NO. of valid IVs with foreground signals:  70.09645 . \n",
      "***********************************************************\n",
      "   user  system elapsed \n",
      " 11.125   6.982   9.419 \n",
      "Run MR-APSS (Omega = 0), i.e. MR-APSS not accounting for polygenicity and pleiotropy. ... \n",
      "IV selection threshold: 5e-05 \n",
      "***********************************************************\n",
      "MR test results of  Daytime_Sleepiness  on  Hair_Dark_Brown : \n",
      "MR-APSS: beta =  -0.071 , beta.se =  0.042 , p-value =  9.0685e-02 . \n",
      "Total NO. of IVs=  242 , NO. of valid IVs with foreground signals:  135.2142 . \n",
      "***********************************************************\n",
      "   user  system elapsed \n",
      " 16.894  10.425  13.671 \n",
      "Run MR-APSS (C = I), i.e. MR-APSS not accounting for sample structure ... \n",
      "IV selection threshold: 5e-05 \n",
      "***********************************************************\n",
      "MR test results of  Daytime_Sleepiness  on  Hair_Dark_Brown : \n",
      "MR-APSS: beta =  -0.0905 , beta.se =  0.0506 , p-value =  7.3418e-02 . \n",
      "Total NO. of IVs=  242 , NO. of valid IVs with foreground signals:  106.8369 . \n",
      "***********************************************************\n",
      "   user  system elapsed \n",
      " 22.499  14.226  18.399 \n",
      "Run MR-APSS not accounting for selection bias ... \n",
      "IV selection threshold: 5e-05 \n"
     ]
    },
    {
     "name": "stderr",
     "output_type": "stream",
     "text": [
      "Threshold = 1, the model will not correct for selection bias\n",
      "\n"
     ]
    },
    {
     "name": "stdout",
     "output_type": "stream",
     "text": [
      "***********************************************************\n",
      "MR test results of  Daytime_Sleepiness  on  Hair_Dark_Brown : \n",
      "MR-APSS: beta =  -0.0565 , beta.se =  0.0234 , p-value =  1.5712e-02 . \n",
      "Total NO. of IVs=  242 , NO. of valid IVs with foreground signals:  241.9758 . \n",
      "***********************************************************\n",
      "   user  system elapsed \n",
      "  1.224   0.835   1.030 \n",
      "Pair:  Daytime_Sleepiness ~ Hair_Black \n",
      "Run MR-APSS ... \n",
      "IV selection threshold: 5e-05 \n",
      "***********************************************************\n",
      "MR test results of  Daytime_Sleepiness  on  Hair_Black : \n",
      "MR-APSS: beta =  -0.0614 , beta.se =  0.0677 , p-value =  3.6449e-01 . \n",
      "Total NO. of IVs=  243 , NO. of valid IVs with foreground signals:  65.20411 . \n",
      "***********************************************************\n",
      "   user  system elapsed \n",
      "  7.766   4.915   6.351 \n",
      "Run MR-APSS (Omega = 0), i.e. MR-APSS not accounting for polygenicity and pleiotropy. ... \n",
      "IV selection threshold: 5e-05 \n",
      "***********************************************************\n",
      "MR test results of  Daytime_Sleepiness  on  Hair_Black : \n",
      "MR-APSS: beta =  -0.0408 , beta.se =  0.0471 , p-value =  3.8576e-01 . \n",
      "Total NO. of IVs=  243 , NO. of valid IVs with foreground signals:  122.335 . \n",
      "***********************************************************\n",
      "   user  system elapsed \n",
      " 11.316   6.769   9.587 \n",
      "Run MR-APSS (C = I), i.e. MR-APSS not accounting for sample structure ... \n",
      "IV selection threshold: 5e-05 \n",
      "***********************************************************\n",
      "MR test results of  Daytime_Sleepiness  on  Hair_Black : \n",
      "MR-APSS: beta =  -0.0417 , beta.se =  0.0574 , p-value =  4.6763e-01 . \n",
      "Total NO. of IVs=  243 , NO. of valid IVs with foreground signals:  99.87796 . \n",
      "***********************************************************\n",
      "   user  system elapsed \n",
      " 12.805   7.961  10.410 \n",
      "Run MR-APSS not accounting for selection bias ... \n",
      "IV selection threshold: 5e-05 \n"
     ]
    },
    {
     "name": "stderr",
     "output_type": "stream",
     "text": [
      "Threshold = 1, the model will not correct for selection bias\n",
      "\n"
     ]
    },
    {
     "name": "stdout",
     "output_type": "stream",
     "text": [
      "***********************************************************\n",
      "MR test results of  Daytime_Sleepiness  on  Hair_Black : \n",
      "MR-APSS: beta =  -0.0203 , beta.se =  0.0243 , p-value =  4.0329e-01 . \n",
      "Total NO. of IVs=  243 , NO. of valid IVs with foreground signals:  242.9757 . \n",
      "***********************************************************\n",
      "   user  system elapsed \n",
      " 15.018   9.283  12.157 \n",
      "Pair:  Daytime_Sleepiness ~ Hair_Blonde \n",
      "Run MR-APSS ... \n",
      "IV selection threshold: 5e-05 \n",
      "***********************************************************\n",
      "MR test results of  Daytime_Sleepiness  on  Hair_Blonde : \n",
      "MR-APSS: beta =  0.06 , beta.se =  0.0688 , p-value =  3.8270e-01 . \n",
      "Total NO. of IVs=  243 , NO. of valid IVs with foreground signals:  62.48233 . \n",
      "***********************************************************\n",
      "   user  system elapsed \n",
      "  9.346   5.622   7.554 \n",
      "Run MR-APSS (Omega = 0), i.e. MR-APSS not accounting for polygenicity and pleiotropy. ... \n",
      "IV selection threshold: 5e-05 \n",
      "***********************************************************\n",
      "MR test results of  Daytime_Sleepiness  on  Hair_Blonde : \n",
      "MR-APSS: beta =  0.0442 , beta.se =  0.0466 , p-value =  3.4247e-01 . \n",
      "Total NO. of IVs=  243 , NO. of valid IVs with foreground signals:  127.1595 . \n",
      "***********************************************************\n",
      "   user  system elapsed \n",
      " 12.682   7.925  10.697 \n",
      "Run MR-APSS (C = I), i.e. MR-APSS not accounting for sample structure ... \n",
      "IV selection threshold: 5e-05 \n",
      "***********************************************************\n",
      "MR test results of  Daytime_Sleepiness  on  Hair_Blonde : \n",
      "MR-APSS: beta =  0.0508 , beta.se =  0.0581 , p-value =  3.8223e-01 . \n",
      "Total NO. of IVs=  243 , NO. of valid IVs with foreground signals:  92.60372 . \n",
      "***********************************************************\n",
      "   user  system elapsed \n",
      " 13.577   8.606  11.485 \n",
      "Run MR-APSS not accounting for selection bias ... \n",
      "IV selection threshold: 5e-05 \n"
     ]
    },
    {
     "name": "stderr",
     "output_type": "stream",
     "text": [
      "Threshold = 1, the model will not correct for selection bias\n",
      "\n"
     ]
    },
    {
     "name": "stdout",
     "output_type": "stream",
     "text": [
      "***********************************************************\n",
      "MR test results of  Daytime_Sleepiness  on  Hair_Blonde : \n",
      "MR-APSS: beta =  0.0314 , beta.se =  0.0238 , p-value =  1.8711e-01 . \n",
      "Total NO. of IVs=  243 , NO. of valid IVs with foreground signals:  242.9757 . \n",
      "***********************************************************\n",
      "   user  system elapsed \n",
      " 11.433   7.211   9.359 \n",
      "Pair:  Daytime_Sleepiness ~ Tanning \n",
      "Run MR-APSS ... \n",
      "IV selection threshold: 5e-05 \n",
      "***********************************************************\n",
      "MR test results of  Daytime_Sleepiness  on  Tanning : \n",
      "MR-APSS: beta =  -0.0198 , beta.se =  0.0661 , p-value =  7.6425e-01 . \n",
      "Total NO. of IVs=  242 , NO. of valid IVs with foreground signals:  66.92029 . \n",
      "***********************************************************\n",
      "   user  system elapsed \n",
      " 42.664  26.611  35.773 \n",
      "Run MR-APSS (Omega = 0), i.e. MR-APSS not accounting for polygenicity and pleiotropy. ... \n",
      "IV selection threshold: 5e-05 \n",
      "***********************************************************\n",
      "MR test results of  Daytime_Sleepiness  on  Tanning : \n",
      "MR-APSS: beta =  -0.0184 , beta.se =  0.0492 , p-value =  7.0848e-01 . \n",
      "Total NO. of IVs=  242 , NO. of valid IVs with foreground signals:  130.2867 . \n",
      "***********************************************************\n",
      "   user  system elapsed \n",
      " 11.448   7.086   9.278 \n",
      "Run MR-APSS (C = I), i.e. MR-APSS not accounting for sample structure ... \n",
      "IV selection threshold: 5e-05 \n",
      "***********************************************************\n",
      "MR test results of  Daytime_Sleepiness  on  Tanning : \n",
      "MR-APSS: beta =  -0.0346 , beta.se =  0.0608 , p-value =  5.6937e-01 . \n",
      "Total NO. of IVs=  242 , NO. of valid IVs with foreground signals:  106.8966 . \n",
      "***********************************************************\n",
      "   user  system elapsed \n",
      " 16.084  10.048  13.101 \n",
      "Run MR-APSS not accounting for selection bias ... \n",
      "IV selection threshold: 5e-05 \n"
     ]
    },
    {
     "name": "stderr",
     "output_type": "stream",
     "text": [
      "Threshold = 1, the model will not correct for selection bias\n",
      "\n"
     ]
    },
    {
     "name": "stdout",
     "output_type": "stream",
     "text": [
      "***********************************************************\n",
      "MR test results of  Daytime_Sleepiness  on  Tanning : \n",
      "MR-APSS: beta =  -0.0281 , beta.se =  0.0264 , p-value =  2.8595e-01 . \n",
      "Total NO. of IVs=  242 , NO. of valid IVs with foreground signals:  241.9758 . \n",
      "***********************************************************\n",
      "   user  system elapsed \n",
      "  1.172   0.692   0.934 \n",
      "Pair:  Height_UKB ~ Hair_Light_Brown \n",
      "Run MR-APSS ... \n",
      "IV selection threshold: 5e-05 \n",
      "***********************************************************\n",
      "MR test results of  Height_UKB  on  Hair_Light_Brown : \n",
      "MR-APSS: beta =  0.0057 , beta.se =  0.0092 , p-value =  5.3288e-01 . \n",
      "Total NO. of IVs=  2226 , NO. of valid IVs with foreground signals:  388.8473 . \n",
      "***********************************************************\n",
      "   user  system elapsed \n",
      " 31.277   7.306  29.277 \n",
      "Run MR-APSS (Omega = 0), i.e. MR-APSS not accounting for polygenicity and pleiotropy. ... \n",
      "IV selection threshold: 5e-05 \n",
      "***********************************************************\n",
      "MR test results of  Height_UKB  on  Hair_Light_Brown : \n",
      "MR-APSS: beta =  0.0066 , beta.se =  0.0068 , p-value =  3.2831e-01 . \n",
      "Total NO. of IVs=  2226 , NO. of valid IVs with foreground signals:  645.3251 . \n",
      "***********************************************************\n",
      "   user  system elapsed \n",
      " 29.186   6.362  27.997 \n",
      "Run MR-APSS (C = I), i.e. MR-APSS not accounting for sample structure ... \n",
      "IV selection threshold: 5e-05 \n",
      "***********************************************************\n",
      "MR test results of  Height_UKB  on  Hair_Light_Brown : \n",
      "MR-APSS: beta =  0.042 , beta.se =  0.0066 , p-value =  2.1059e-10 . \n",
      "Total NO. of IVs=  2226 , NO. of valid IVs with foreground signals:  1067.327 . \n",
      "***********************************************************\n",
      "   user  system elapsed \n",
      " 47.344  10.473  46.452 \n",
      "Run MR-APSS not accounting for selection bias ... \n",
      "IV selection threshold: 5e-05 \n"
     ]
    },
    {
     "name": "stderr",
     "output_type": "stream",
     "text": [
      "Threshold = 1, the model will not correct for selection bias\n",
      "\n"
     ]
    },
    {
     "name": "stdout",
     "output_type": "stream",
     "text": [
      "***********************************************************\n",
      "MR test results of  Height_UKB  on  Hair_Light_Brown : \n",
      "MR-APSS: beta =  0.0421 , beta.se =  0.0046 , p-value =  1.2792e-19 . \n",
      "Total NO. of IVs=  2226 , NO. of valid IVs with foreground signals:  2225.767 . \n",
      "***********************************************************\n",
      "   user  system elapsed \n",
      " 86.606  18.399  83.713 \n",
      "Pair:  Height_UKB ~ Hair_Dark_Brown \n",
      "Run MR-APSS ... \n",
      "IV selection threshold: 5e-05 \n",
      "***********************************************************\n",
      "MR test results of  Height_UKB  on  Hair_Dark_Brown : \n",
      "MR-APSS: beta =  -8e-04 , beta.se =  0.0096 , p-value =  9.2945e-01 . \n",
      "Total NO. of IVs=  2224 , NO. of valid IVs with foreground signals:  384.6182 . \n",
      "***********************************************************\n",
      "   user  system elapsed \n",
      " 28.164   6.237  26.778 \n",
      "Run MR-APSS (Omega = 0), i.e. MR-APSS not accounting for polygenicity and pleiotropy. ... \n",
      "IV selection threshold: 5e-05 \n",
      "***********************************************************\n",
      "MR test results of  Height_UKB  on  Hair_Dark_Brown : \n",
      "MR-APSS: beta =  0.0018 , beta.se =  0.0081 , p-value =  8.2024e-01 . \n",
      "Total NO. of IVs=  2224 , NO. of valid IVs with foreground signals:  654.2457 . \n",
      "***********************************************************\n",
      "   user  system elapsed \n",
      " 27.878   6.677  27.585 \n",
      "Run MR-APSS (C = I), i.e. MR-APSS not accounting for sample structure ... \n",
      "IV selection threshold: 5e-05 \n",
      "***********************************************************\n",
      "MR test results of  Height_UKB  on  Hair_Dark_Brown : \n",
      "MR-APSS: beta =  -0.0391 , beta.se =  0.0082 , p-value =  2.0011e-06 . \n",
      "Total NO. of IVs=  2224 , NO. of valid IVs with foreground signals:  1045.626 . \n",
      "***********************************************************\n",
      "   user  system elapsed \n",
      " 42.884   9.639  40.368 \n",
      "Run MR-APSS not accounting for selection bias ... \n",
      "IV selection threshold: 5e-05 \n"
     ]
    },
    {
     "name": "stderr",
     "output_type": "stream",
     "text": [
      "Threshold = 1, the model will not correct for selection bias\n",
      "\n"
     ]
    },
    {
     "name": "stdout",
     "output_type": "stream",
     "text": [
      "***********************************************************\n",
      "MR test results of  Height_UKB  on  Hair_Dark_Brown : \n",
      "MR-APSS: beta =  -0.0366 , beta.se =  0.0056 , p-value =  7.2586e-11 . \n",
      "Total NO. of IVs=  2224 , NO. of valid IVs with foreground signals:  2223.766 . \n",
      "***********************************************************\n",
      "   user  system elapsed \n",
      " 35.846   7.875  34.271 \n",
      "Pair:  Height_UKB ~ Hair_Black \n",
      "Run MR-APSS ... \n",
      "IV selection threshold: 5e-05 \n",
      "***********************************************************\n",
      "MR test results of  Height_UKB  on  Hair_Black : \n",
      "MR-APSS: beta =  -0.016 , beta.se =  0.011 , p-value =  1.4651e-01 . \n",
      "Total NO. of IVs=  2227 , NO. of valid IVs with foreground signals:  392.0548 . \n",
      "***********************************************************\n",
      "   user  system elapsed \n",
      " 33.289   8.012  31.221 \n",
      "Run MR-APSS (Omega = 0), i.e. MR-APSS not accounting for polygenicity and pleiotropy. ... \n",
      "IV selection threshold: 5e-05 \n",
      "***********************************************************\n",
      "MR test results of  Height_UKB  on  Hair_Black : \n",
      "MR-APSS: beta =  -0.0159 , beta.se =  0.0082 , p-value =  5.1680e-02 . \n",
      "Total NO. of IVs=  2227 , NO. of valid IVs with foreground signals:  654.8751 . \n",
      "***********************************************************\n",
      "   user  system elapsed \n",
      " 31.645   6.923  31.162 \n",
      "Run MR-APSS (C = I), i.e. MR-APSS not accounting for sample structure ... \n",
      "IV selection threshold: 5e-05 \n",
      "***********************************************************\n",
      "MR test results of  Height_UKB  on  Hair_Black : \n",
      "MR-APSS: beta =  -0.0722 , beta.se =  0.008 , p-value =  2.0528e-19 . \n",
      "Total NO. of IVs=  2227 , NO. of valid IVs with foreground signals:  1091.668 . \n",
      "***********************************************************\n",
      "   user  system elapsed \n",
      " 46.068  10.267  44.313 \n",
      "Run MR-APSS not accounting for selection bias ... \n",
      "IV selection threshold: 5e-05 \n"
     ]
    },
    {
     "name": "stderr",
     "output_type": "stream",
     "text": [
      "Threshold = 1, the model will not correct for selection bias\n",
      "\n"
     ]
    },
    {
     "name": "stdout",
     "output_type": "stream",
     "text": [
      "***********************************************************\n",
      "MR test results of  Height_UKB  on  Hair_Black : \n",
      "MR-APSS: beta =  -0.0701 , beta.se =  0.0056 , p-value =  1.4034e-36 . \n",
      "Total NO. of IVs=  2227 , NO. of valid IVs with foreground signals:  2226.765 . \n",
      "***********************************************************\n",
      "   user  system elapsed \n",
      " 64.871  13.618  61.980 \n",
      "Pair:  Height_UKB ~ Hair_Blonde \n",
      "Run MR-APSS ... \n",
      "IV selection threshold: 5e-05 \n",
      "***********************************************************\n",
      "MR test results of  Height_UKB  on  Hair_Blonde : \n",
      "MR-APSS: beta =  0.0117 , beta.se =  0.0102 , p-value =  2.4775e-01 . \n",
      "Total NO. of IVs=  2225 , NO. of valid IVs with foreground signals:  395.9658 . \n",
      "***********************************************************\n",
      "   user  system elapsed \n",
      " 34.914   7.883  33.647 \n",
      "Run MR-APSS (Omega = 0), i.e. MR-APSS not accounting for polygenicity and pleiotropy. ... \n",
      "IV selection threshold: 5e-05 \n",
      "***********************************************************\n",
      "MR test results of  Height_UKB  on  Hair_Blonde : \n",
      "MR-APSS: beta =  0.0057 , beta.se =  0.0076 , p-value =  4.5112e-01 . \n",
      "Total NO. of IVs=  2225 , NO. of valid IVs with foreground signals:  644.4437 . \n",
      "***********************************************************\n",
      "   user  system elapsed \n",
      " 31.639   7.220  30.620 \n",
      "Run MR-APSS (C = I), i.e. MR-APSS not accounting for sample structure ... \n",
      "IV selection threshold: 5e-05 \n",
      "***********************************************************\n",
      "MR test results of  Height_UKB  on  Hair_Blonde : \n",
      "MR-APSS: beta =  0.0262 , beta.se =  0.0071 , p-value =  2.0604e-04 . \n",
      "Total NO. of IVs=  2225 , NO. of valid IVs with foreground signals:  1024.132 . \n",
      "***********************************************************\n",
      "   user  system elapsed \n",
      " 43.917   9.773  43.188 \n",
      "Run MR-APSS not accounting for selection bias ... \n",
      "IV selection threshold: 5e-05 \n"
     ]
    },
    {
     "name": "stderr",
     "output_type": "stream",
     "text": [
      "Threshold = 1, the model will not correct for selection bias\n",
      "\n"
     ]
    },
    {
     "name": "stdout",
     "output_type": "stream",
     "text": [
      "***********************************************************\n",
      "MR test results of  Height_UKB  on  Hair_Blonde : \n",
      "MR-APSS: beta =  0.0256 , beta.se =  0.005 , p-value =  2.4516e-07 . \n",
      "Total NO. of IVs=  2225 , NO. of valid IVs with foreground signals:  2224.768 . \n",
      "***********************************************************\n",
      "   user  system elapsed \n",
      " 51.825  11.699  50.147 \n",
      "Pair:  Height_UKB ~ Tanning \n",
      "Run MR-APSS ... \n",
      "IV selection threshold: 5e-05 \n",
      "***********************************************************\n",
      "MR test results of  Height_UKB  on  Tanning : \n",
      "MR-APSS: beta =  -0.0167 , beta.se =  0.0144 , p-value =  2.4796e-01 . \n",
      "Total NO. of IVs=  2227 , NO. of valid IVs with foreground signals:  382.7249 . \n",
      "***********************************************************\n",
      "   user  system elapsed \n",
      " 37.251   8.386  34.655 \n",
      "Run MR-APSS (Omega = 0), i.e. MR-APSS not accounting for polygenicity and pleiotropy. ... \n",
      "IV selection threshold: 5e-05 \n",
      "***********************************************************\n",
      "MR test results of  Height_UKB  on  Tanning : \n",
      "MR-APSS: beta =  -0.01 , beta.se =  0.0102 , p-value =  3.2590e-01 . \n",
      "Total NO. of IVs=  2227 , NO. of valid IVs with foreground signals:  646.1013 . \n",
      "***********************************************************\n",
      "   user  system elapsed \n",
      " 33.107   7.508  31.651 \n",
      "Run MR-APSS (C = I), i.e. MR-APSS not accounting for sample structure ... \n",
      "IV selection threshold: 5e-05 \n",
      "***********************************************************\n",
      "MR test results of  Height_UKB  on  Tanning : \n",
      "MR-APSS: beta =  -0.0479 , beta.se =  0.0094 , p-value =  3.5162e-07 . \n",
      "Total NO. of IVs=  2227 , NO. of valid IVs with foreground signals:  1038.798 . \n",
      "***********************************************************\n",
      "   user  system elapsed \n",
      " 45.063   9.631  43.694 \n",
      "Run MR-APSS not accounting for selection bias ... \n",
      "IV selection threshold: 5e-05 \n"
     ]
    },
    {
     "name": "stderr",
     "output_type": "stream",
     "text": [
      "Threshold = 1, the model will not correct for selection bias\n",
      "\n"
     ]
    },
    {
     "name": "stdout",
     "output_type": "stream",
     "text": [
      "***********************************************************\n",
      "MR test results of  Height_UKB  on  Tanning : \n",
      "MR-APSS: beta =  -0.0445 , beta.se =  0.0063 , p-value =  1.6045e-12 . \n",
      "Total NO. of IVs=  2227 , NO. of valid IVs with foreground signals:  2226.765 . \n",
      "***********************************************************\n",
      "   user  system elapsed \n",
      " 46.130  10.699  43.028 \n",
      "Pair:  Intelligence ~ Hair_Light_Brown \n",
      "Run MR-APSS ... \n",
      "IV selection threshold: 5e-05 \n",
      "***********************************************************\n",
      "MR test results of  Intelligence  on  Hair_Light_Brown : \n",
      "MR-APSS: beta =  -0.0797 , beta.se =  0.0252 , p-value =  1.5685e-03 . \n",
      "Total NO. of IVs=  402 , NO. of valid IVs with foreground signals:  69.4331 . \n",
      "***********************************************************\n",
      "   user  system elapsed \n",
      " 17.792  10.748  15.049 \n",
      "Run MR-APSS (Omega = 0), i.e. MR-APSS not accounting for polygenicity and pleiotropy. ... \n",
      "IV selection threshold: 5e-05 \n",
      "***********************************************************\n",
      "MR test results of  Intelligence  on  Hair_Light_Brown : \n",
      "MR-APSS: beta =  -0.0615 , beta.se =  0.0182 , p-value =  7.3764e-04 . \n",
      "Total NO. of IVs=  402 , NO. of valid IVs with foreground signals:  155.6809 . \n",
      "***********************************************************\n",
      "   user  system elapsed \n",
      " 28.907  15.890  25.350 \n",
      "Run MR-APSS (C = I), i.e. MR-APSS not accounting for sample structure ... \n",
      "IV selection threshold: 5e-05 \n",
      "***********************************************************\n",
      "MR test results of  Intelligence  on  Hair_Light_Brown : \n",
      "MR-APSS: beta =  -0.0148 , beta.se =  0.0171 , p-value =  3.8554e-01 . \n",
      "Total NO. of IVs=  402 , NO. of valid IVs with foreground signals:  242.5483 . \n",
      "***********************************************************\n",
      "   user  system elapsed \n",
      " 51.993  28.960  45.777 \n",
      "Run MR-APSS not accounting for selection bias ... \n",
      "IV selection threshold: 5e-05 \n"
     ]
    },
    {
     "name": "stderr",
     "output_type": "stream",
     "text": [
      "Threshold = 1, the model will not correct for selection bias\n",
      "\n"
     ]
    },
    {
     "name": "stdout",
     "output_type": "stream",
     "text": [
      "***********************************************************\n",
      "MR test results of  Intelligence  on  Hair_Light_Brown : \n",
      "MR-APSS: beta =  -0.011 , beta.se =  0.0083 , p-value =  1.8533e-01 . \n",
      "Total NO. of IVs=  402 , NO. of valid IVs with foreground signals:  401.9598 . \n",
      "***********************************************************\n",
      "   user  system elapsed \n",
      "  2.112   1.050   2.848 \n",
      "Pair:  Intelligence ~ Hair_Dark_Brown \n",
      "Run MR-APSS ... \n",
      "IV selection threshold: 5e-05 \n",
      "***********************************************************\n",
      "MR test results of  Intelligence  on  Hair_Dark_Brown : \n",
      "MR-APSS: beta =  0.1092 , beta.se =  0.0539 , p-value =  4.2833e-02 . \n",
      "Total NO. of IVs=  401 , NO. of valid IVs with foreground signals:  51.68734 . \n",
      "***********************************************************\n",
      "   user  system elapsed \n",
      " 13.966   7.294  11.959 \n",
      "Run MR-APSS (Omega = 0), i.e. MR-APSS not accounting for polygenicity and pleiotropy. ... \n",
      "IV selection threshold: 5e-05 \n",
      "***********************************************************\n",
      "MR test results of  Intelligence  on  Hair_Dark_Brown : \n",
      "MR-APSS: beta =  0.1129 , beta.se =  0.0264 , p-value =  1.9254e-05 . \n",
      "Total NO. of IVs=  401 , NO. of valid IVs with foreground signals:  158.9744 . \n",
      "***********************************************************\n",
      "   user  system elapsed \n",
      " 24.431  13.618  20.856 \n",
      "Run MR-APSS (C = I), i.e. MR-APSS not accounting for sample structure ... \n",
      "IV selection threshold: 5e-05 \n",
      "***********************************************************\n",
      "MR test results of  Intelligence  on  Hair_Dark_Brown : \n",
      "MR-APSS: beta =  0.0846 , beta.se =  0.0271 , p-value =  1.7899e-03 . \n",
      "Total NO. of IVs=  401 , NO. of valid IVs with foreground signals:  176.4739 . \n",
      "***********************************************************\n",
      "   user  system elapsed \n",
      " 37.248  19.947  32.238 \n",
      "Run MR-APSS not accounting for selection bias ... \n",
      "IV selection threshold: 5e-05 \n"
     ]
    },
    {
     "name": "stderr",
     "output_type": "stream",
     "text": [
      "Threshold = 1, the model will not correct for selection bias\n",
      "\n"
     ]
    },
    {
     "name": "stdout",
     "output_type": "stream",
     "text": [
      "***********************************************************\n",
      "MR test results of  Intelligence  on  Hair_Dark_Brown : \n",
      "MR-APSS: beta =  0.0525 , beta.se =  0.0106 , p-value =  6.9252e-07 . \n",
      "Total NO. of IVs=  401 , NO. of valid IVs with foreground signals:  400.9599 . \n",
      "***********************************************************\n",
      "   user  system elapsed \n",
      " 37.320  19.088  32.608 \n",
      "Pair:  Intelligence ~ Hair_Black \n",
      "Run MR-APSS ... \n",
      "IV selection threshold: 5e-05 \n",
      "***********************************************************\n",
      "MR test results of  Intelligence  on  Hair_Black : \n",
      "MR-APSS: beta =  -0.0832 , beta.se =  0.0583 , p-value =  1.5341e-01 . \n",
      "Total NO. of IVs=  402 , NO. of valid IVs with foreground signals:  48.11368 . \n",
      "***********************************************************\n",
      "   user  system elapsed \n",
      " 10.051   5.602   8.531 \n",
      "Run MR-APSS (Omega = 0), i.e. MR-APSS not accounting for polygenicity and pleiotropy. ... \n",
      "IV selection threshold: 5e-05 \n",
      "***********************************************************\n",
      "MR test results of  Intelligence  on  Hair_Black : \n",
      "MR-APSS: beta =  -0.0654 , beta.se =  0.0273 , p-value =  1.6690e-02 . \n",
      "Total NO. of IVs=  402 , NO. of valid IVs with foreground signals:  136.4757 . \n",
      "***********************************************************\n",
      "   user  system elapsed \n",
      " 18.125  10.089  15.741 \n",
      "Run MR-APSS (C = I), i.e. MR-APSS not accounting for sample structure ... \n",
      "IV selection threshold: 5e-05 \n",
      "***********************************************************\n",
      "MR test results of  Intelligence  on  Hair_Black : \n",
      "MR-APSS: beta =  -0.1186 , beta.se =  0.0283 , p-value =  2.7525e-05 . \n",
      "Total NO. of IVs=  402 , NO. of valid IVs with foreground signals:  176.8534 . \n",
      "***********************************************************\n",
      "   user  system elapsed \n",
      " 36.130  21.003  30.761 \n",
      "Run MR-APSS not accounting for selection bias ... \n",
      "IV selection threshold: 5e-05 \n"
     ]
    },
    {
     "name": "stderr",
     "output_type": "stream",
     "text": [
      "Threshold = 1, the model will not correct for selection bias\n",
      "\n"
     ]
    },
    {
     "name": "stdout",
     "output_type": "stream",
     "text": [
      "***********************************************************\n",
      "MR test results of  Intelligence  on  Hair_Black : \n",
      "MR-APSS: beta =  -0.0662 , beta.se =  0.0103 , p-value =  1.5159e-10 . \n",
      "Total NO. of IVs=  402 , NO. of valid IVs with foreground signals:  401.9598 . \n",
      "***********************************************************\n",
      "   user  system elapsed \n",
      " 48.123  26.536  41.864 \n",
      "Pair:  Intelligence ~ Hair_Blonde \n",
      "Run MR-APSS ... \n",
      "IV selection threshold: 5e-05 \n",
      "***********************************************************\n",
      "MR test results of  Intelligence  on  Hair_Blonde : \n",
      "MR-APSS: beta =  -0.0033 , beta.se =  0.059 , p-value =  9.5608e-01 . \n",
      "Total NO. of IVs=  402 , NO. of valid IVs with foreground signals:  39.436 . \n",
      "***********************************************************\n",
      "   user  system elapsed \n",
      "  8.186   4.792   6.708 \n",
      "Run MR-APSS (Omega = 0), i.e. MR-APSS not accounting for polygenicity and pleiotropy. ... \n",
      "IV selection threshold: 5e-05 \n",
      "***********************************************************\n",
      "MR test results of  Intelligence  on  Hair_Blonde : \n",
      "MR-APSS: beta =  -0.0352 , beta.se =  0.035 , p-value =  3.1407e-01 . \n",
      "Total NO. of IVs=  402 , NO. of valid IVs with foreground signals:  125.248 . \n",
      "***********************************************************\n",
      "   user  system elapsed \n",
      " 16.832  10.140  13.928 \n",
      "Run MR-APSS (C = I), i.e. MR-APSS not accounting for sample structure ... \n",
      "IV selection threshold: 5e-05 \n",
      "***********************************************************\n",
      "MR test results of  Intelligence  on  Hair_Blonde : \n",
      "MR-APSS: beta =  -0.0211 , beta.se =  0.041 , p-value =  6.0735e-01 . \n",
      "Total NO. of IVs=  402 , NO. of valid IVs with foreground signals:  102.8307 . \n",
      "***********************************************************\n",
      "   user  system elapsed \n",
      " 14.139   8.441  11.508 \n",
      "Run MR-APSS not accounting for selection bias ... \n",
      "IV selection threshold: 5e-05 \n"
     ]
    },
    {
     "name": "stderr",
     "output_type": "stream",
     "text": [
      "Threshold = 1, the model will not correct for selection bias\n",
      "\n"
     ]
    },
    {
     "name": "stdout",
     "output_type": "stream",
     "text": [
      "***********************************************************\n",
      "MR test results of  Intelligence  on  Hair_Blonde : \n",
      "MR-APSS: beta =  -0.0096 , beta.se =  0.0113 , p-value =  3.9875e-01 . \n",
      "Total NO. of IVs=  402 , NO. of valid IVs with foreground signals:  401.9598 . \n",
      "***********************************************************\n",
      "   user  system elapsed \n",
      "  6.410   3.824   5.177 \n",
      "Pair:  Intelligence ~ Tanning \n",
      "Run MR-APSS ... \n",
      "IV selection threshold: 5e-05 \n",
      "***********************************************************\n",
      "MR test results of  Intelligence  on  Tanning : \n",
      "MR-APSS: beta =  -0.0561 , beta.se =  0.0365 , p-value =  1.2426e-01 . \n",
      "Total NO. of IVs=  401 , NO. of valid IVs with foreground signals:  67.96917 . \n",
      "***********************************************************\n",
      "   user  system elapsed \n",
      "238.640 131.756 205.499 \n",
      "Run MR-APSS (Omega = 0), i.e. MR-APSS not accounting for polygenicity and pleiotropy. ... \n",
      "IV selection threshold: 5e-05 \n",
      "***********************************************************\n",
      "MR test results of  Intelligence  on  Tanning : \n",
      "MR-APSS: beta =  -0.0972 , beta.se =  0.0261 , p-value =  1.9278e-04 . \n",
      "Total NO. of IVs=  401 , NO. of valid IVs with foreground signals:  168.7001 . \n",
      "***********************************************************\n",
      "   user  system elapsed \n",
      " 20.234  11.022  17.779 \n",
      "Run MR-APSS (C = I), i.e. MR-APSS not accounting for sample structure ... \n",
      "IV selection threshold: 5e-05 \n",
      "***********************************************************\n",
      "MR test results of  Intelligence  on  Tanning : \n",
      "MR-APSS: beta =  -0.1185 , beta.se =  0.0245 , p-value =  1.2904e-06 . \n",
      "Total NO. of IVs=  401 , NO. of valid IVs with foreground signals:  259.1829 . \n",
      "***********************************************************\n",
      "   user  system elapsed \n",
      " 51.805  28.810  45.645 \n",
      "Run MR-APSS not accounting for selection bias ... \n",
      "IV selection threshold: 5e-05 \n"
     ]
    },
    {
     "name": "stderr",
     "output_type": "stream",
     "text": [
      "Threshold = 1, the model will not correct for selection bias\n",
      "\n"
     ]
    },
    {
     "name": "stdout",
     "output_type": "stream",
     "text": [
      "***********************************************************\n",
      "MR test results of  Intelligence  on  Tanning : \n",
      "MR-APSS: beta =  -0.0747 , beta.se =  0.0113 , p-value =  3.7834e-11 . \n",
      "Total NO. of IVs=  401 , NO. of valid IVs with foreground signals:  400.9599 . \n",
      "***********************************************************\n",
      "   user  system elapsed \n",
      "106.950  57.674  91.124 \n",
      "Pair:  RA ~ Hair_Light_Brown \n",
      "Run MR-APSS ... \n",
      "IV selection threshold: 5e-05 \n",
      "***********************************************************\n",
      "MR test results of  RA  on  Hair_Light_Brown : \n",
      "MR-APSS: beta =  -0.0137 , beta.se =  0.0237 , p-value =  5.6388e-01 . \n",
      "Total NO. of IVs=  135 , NO. of valid IVs with foreground signals:  74.35368 . \n",
      "***********************************************************\n",
      "   user  system elapsed \n",
      "  3.431   2.146   2.789 \n",
      "Run MR-APSS (Omega = 0), i.e. MR-APSS not accounting for polygenicity and pleiotropy. ... \n",
      "IV selection threshold: 5e-05 \n",
      "***********************************************************\n",
      "MR test results of  RA  on  Hair_Light_Brown : \n",
      "MR-APSS: beta =  -0.0104 , beta.se =  0.0218 , p-value =  6.3397e-01 . \n",
      "Total NO. of IVs=  135 , NO. of valid IVs with foreground signals:  82.70164 . \n",
      "***********************************************************\n",
      "   user  system elapsed \n",
      "  3.561   1.922   3.210 \n",
      "Run MR-APSS (C = I), i.e. MR-APSS not accounting for sample structure ... \n",
      "IV selection threshold: 5e-05 \n",
      "***********************************************************\n",
      "MR test results of  RA  on  Hair_Light_Brown : \n",
      "MR-APSS: beta =  -0.0157 , beta.se =  0.0272 , p-value =  5.6389e-01 . \n",
      "Total NO. of IVs=  135 , NO. of valid IVs with foreground signals:  64.60111 . \n",
      "***********************************************************\n",
      "   user  system elapsed \n",
      "  4.206   2.602   4.374 \n",
      "Run MR-APSS not accounting for selection bias ... \n",
      "IV selection threshold: 5e-05 \n"
     ]
    },
    {
     "name": "stderr",
     "output_type": "stream",
     "text": [
      "Threshold = 1, the model will not correct for selection bias\n",
      "\n"
     ]
    },
    {
     "name": "stdout",
     "output_type": "stream",
     "text": [
      "***********************************************************\n",
      "MR test results of  RA  on  Hair_Light_Brown : \n",
      "MR-APSS: beta =  -0.0091 , beta.se =  0.0132 , p-value =  4.9247e-01 . \n",
      "Total NO. of IVs=  135 , NO. of valid IVs with foreground signals:  134.9865 . \n",
      "***********************************************************\n",
      "   user  system elapsed \n",
      "  1.924   1.231   1.577 \n",
      "Pair:  RA ~ Hair_Dark_Brown \n",
      "Run MR-APSS ... \n",
      "IV selection threshold: 5e-05 \n",
      "***********************************************************\n",
      "MR test results of  RA  on  Hair_Dark_Brown : \n",
      "MR-APSS: beta =  0.0259 , beta.se =  0.0212 , p-value =  2.2232e-01 . \n",
      "Total NO. of IVs=  135 , NO. of valid IVs with foreground signals:  81.41054 . \n",
      "***********************************************************\n",
      "   user  system elapsed \n",
      "  3.283   2.044   2.664 \n",
      "Run MR-APSS (Omega = 0), i.e. MR-APSS not accounting for polygenicity and pleiotropy. ... \n",
      "IV selection threshold: 5e-05 \n",
      "***********************************************************\n",
      "MR test results of  RA  on  Hair_Dark_Brown : \n",
      "MR-APSS: beta =  0.0228 , beta.se =  0.02 , p-value =  2.5334e-01 . \n",
      "Total NO. of IVs=  135 , NO. of valid IVs with foreground signals:  88.7539 . \n",
      "***********************************************************\n",
      "   user  system elapsed \n",
      "  4.049   2.465   3.306 \n",
      "Run MR-APSS (C = I), i.e. MR-APSS not accounting for sample structure ... \n",
      "IV selection threshold: 5e-05 \n",
      "***********************************************************\n",
      "MR test results of  RA  on  Hair_Dark_Brown : \n",
      "MR-APSS: beta =  0.0271 , beta.se =  0.024 , p-value =  2.5807e-01 . \n",
      "Total NO. of IVs=  135 , NO. of valid IVs with foreground signals:  69.75234 . \n",
      "***********************************************************\n",
      "   user  system elapsed \n",
      "  3.499   2.224   2.863 \n",
      "Run MR-APSS not accounting for selection bias ... \n",
      "IV selection threshold: 5e-05 \n"
     ]
    },
    {
     "name": "stderr",
     "output_type": "stream",
     "text": [
      "Threshold = 1, the model will not correct for selection bias\n",
      "\n"
     ]
    },
    {
     "name": "stdout",
     "output_type": "stream",
     "text": [
      "***********************************************************\n",
      "MR test results of  RA  on  Hair_Dark_Brown : \n",
      "MR-APSS: beta =  0.0199 , beta.se =  0.0134 , p-value =  1.3625e-01 . \n",
      "Total NO. of IVs=  135 , NO. of valid IVs with foreground signals:  134.9865 . \n",
      "***********************************************************\n",
      "   user  system elapsed \n",
      "  2.849   1.856   2.356 \n",
      "Pair:  RA ~ Hair_Black \n",
      "Run MR-APSS ... \n",
      "IV selection threshold: 5e-05 \n",
      "***********************************************************\n",
      "MR test results of  RA  on  Hair_Black : \n",
      "MR-APSS: beta =  0.004 , beta.se =  0.0214 , p-value =  8.5313e-01 . \n",
      "Total NO. of IVs=  135 , NO. of valid IVs with foreground signals:  83.13053 . \n",
      "***********************************************************\n",
      "   user  system elapsed \n",
      "  2.727   1.745   2.236 \n",
      "Run MR-APSS (Omega = 0), i.e. MR-APSS not accounting for polygenicity and pleiotropy. ... \n",
      "IV selection threshold: 5e-05 \n",
      "***********************************************************\n",
      "MR test results of  RA  on  Hair_Black : \n",
      "MR-APSS: beta =  0.0023 , beta.se =  0.0196 , p-value =  9.0683e-01 . \n",
      "Total NO. of IVs=  135 , NO. of valid IVs with foreground signals:  91.87988 . \n",
      "***********************************************************\n",
      "   user  system elapsed \n",
      "  3.004   1.800   2.402 \n",
      "Run MR-APSS (C = I), i.e. MR-APSS not accounting for sample structure ... \n",
      "IV selection threshold: 5e-05 \n",
      "***********************************************************\n",
      "MR test results of  RA  on  Hair_Black : \n",
      "MR-APSS: beta =  0.0052 , beta.se =  0.0239 , p-value =  8.2914e-01 . \n",
      "Total NO. of IVs=  135 , NO. of valid IVs with foreground signals:  73.24921 . \n",
      "***********************************************************\n",
      "   user  system elapsed \n",
      "  3.420   2.199   2.814 \n",
      "Run MR-APSS not accounting for selection bias ... \n",
      "IV selection threshold: 5e-05 \n"
     ]
    },
    {
     "name": "stderr",
     "output_type": "stream",
     "text": [
      "Threshold = 1, the model will not correct for selection bias\n",
      "\n"
     ]
    },
    {
     "name": "stdout",
     "output_type": "stream",
     "text": [
      "***********************************************************\n",
      "MR test results of  RA  on  Hair_Black : \n",
      "MR-APSS: beta =  0.0034 , beta.se =  0.0138 , p-value =  8.0559e-01 . \n",
      "Total NO. of IVs=  135 , NO. of valid IVs with foreground signals:  134.9865 . \n",
      "***********************************************************\n",
      "   user  system elapsed \n",
      "  1.574   1.083   1.329 \n",
      "Pair:  RA ~ Hair_Blonde \n",
      "Run MR-APSS ... \n",
      "IV selection threshold: 5e-05 \n",
      "***********************************************************\n",
      "MR test results of  RA  on  Hair_Blonde : \n",
      "MR-APSS: beta =  -0.0355 , beta.se =  0.024 , p-value =  1.3951e-01 . \n",
      "Total NO. of IVs=  135 , NO. of valid IVs with foreground signals:  76.51596 . \n",
      "***********************************************************\n",
      "   user  system elapsed \n",
      "  3.294   2.045   2.673 \n",
      "Run MR-APSS (Omega = 0), i.e. MR-APSS not accounting for polygenicity and pleiotropy. ... \n",
      "IV selection threshold: 5e-05 \n",
      "***********************************************************\n",
      "MR test results of  RA  on  Hair_Blonde : \n",
      "MR-APSS: beta =  -0.0351 , beta.se =  0.0226 , p-value =  1.2062e-01 . \n",
      "Total NO. of IVs=  135 , NO. of valid IVs with foreground signals:  83.42071 . \n",
      "***********************************************************\n",
      "   user  system elapsed \n",
      "  3.962   2.650   3.307 \n",
      "Run MR-APSS (C = I), i.e. MR-APSS not accounting for sample structure ... \n",
      "IV selection threshold: 5e-05 \n",
      "***********************************************************\n",
      "MR test results of  RA  on  Hair_Blonde : \n",
      "MR-APSS: beta =  -0.0363 , beta.se =  0.0263 , p-value =  1.6861e-01 . \n",
      "Total NO. of IVs=  135 , NO. of valid IVs with foreground signals:  67.39539 . \n",
      "***********************************************************\n",
      "   user  system elapsed \n",
      "  3.628   2.235   2.936 \n",
      "Run MR-APSS not accounting for selection bias ... \n",
      "IV selection threshold: 5e-05 \n"
     ]
    },
    {
     "name": "stderr",
     "output_type": "stream",
     "text": [
      "Threshold = 1, the model will not correct for selection bias\n",
      "\n"
     ]
    },
    {
     "name": "stdout",
     "output_type": "stream",
     "text": [
      "***********************************************************\n",
      "MR test results of  RA  on  Hair_Blonde : \n",
      "MR-APSS: beta =  -0.0261 , beta.se =  0.0148 , p-value =  7.7658e-02 . \n",
      "Total NO. of IVs=  135 , NO. of valid IVs with foreground signals:  134.9865 . \n",
      "***********************************************************\n",
      "   user  system elapsed \n",
      "  2.067   1.350   1.711 \n",
      "Pair:  RA ~ Tanning \n",
      "Run MR-APSS ... \n",
      "IV selection threshold: 5e-05 \n",
      "***********************************************************\n",
      "MR test results of  RA  on  Tanning : \n",
      "MR-APSS: beta =  -0.0163 , beta.se =  0.0267 , p-value =  5.4083e-01 . \n",
      "Total NO. of IVs=  135 , NO. of valid IVs with foreground signals:  80.54128 . \n",
      "***********************************************************\n",
      "   user  system elapsed \n",
      "  3.245   1.955   2.604 \n",
      "Run MR-APSS (Omega = 0), i.e. MR-APSS not accounting for polygenicity and pleiotropy. ... \n",
      "IV selection threshold: 5e-05 \n",
      "***********************************************************\n",
      "MR test results of  RA  on  Tanning : \n",
      "MR-APSS: beta =  -0.0159 , beta.se =  0.0244 , p-value =  5.1530e-01 . \n",
      "Total NO. of IVs=  135 , NO. of valid IVs with foreground signals:  91.14825 . \n",
      "***********************************************************\n",
      "   user  system elapsed \n",
      "  3.807   2.263   3.038 \n",
      "Run MR-APSS (C = I), i.e. MR-APSS not accounting for sample structure ... \n",
      "IV selection threshold: 5e-05 \n",
      "***********************************************************\n",
      "MR test results of  RA  on  Tanning : \n",
      "MR-APSS: beta =  -0.0181 , beta.se =  0.0318 , p-value =  5.6928e-01 . \n",
      "Total NO. of IVs=  135 , NO. of valid IVs with foreground signals:  69.38878 . \n",
      "***********************************************************\n",
      "   user  system elapsed \n",
      "  3.581   2.352   2.967 \n",
      "Run MR-APSS not accounting for selection bias ... \n",
      "IV selection threshold: 5e-05 \n"
     ]
    },
    {
     "name": "stderr",
     "output_type": "stream",
     "text": [
      "Threshold = 1, the model will not correct for selection bias\n",
      "\n"
     ]
    },
    {
     "name": "stdout",
     "output_type": "stream",
     "text": [
      "***********************************************************\n",
      "MR test results of  RA  on  Tanning : \n",
      "MR-APSS: beta =  -0.013 , beta.se =  0.0161 , p-value =  4.1997e-01 . \n",
      "Total NO. of IVs=  135 , NO. of valid IVs with foreground signals:  134.9865 . \n",
      "***********************************************************\n",
      "   user  system elapsed \n",
      "  2.059   1.302   1.681 \n",
      "Pair:  T2D ~ Hair_Light_Brown \n",
      "Run MR-APSS ... \n",
      "IV selection threshold: 5e-05 \n",
      "***********************************************************\n",
      "MR test results of  T2D  on  Hair_Light_Brown : \n",
      "MR-APSS: beta =  0.0033 , beta.se =  0.0144 , p-value =  8.1801e-01 . \n",
      "Total NO. of IVs=  652 , NO. of valid IVs with foreground signals:  196.7693 . \n",
      "***********************************************************\n",
      "   user  system elapsed \n",
      " 11.573   5.146  10.083 \n",
      "Run MR-APSS (Omega = 0), i.e. MR-APSS not accounting for polygenicity and pleiotropy. ... \n",
      "IV selection threshold: 5e-05 \n",
      "***********************************************************\n",
      "MR test results of  T2D  on  Hair_Light_Brown : \n",
      "MR-APSS: beta =  0.0034 , beta.se =  0.0117 , p-value =  7.6823e-01 . \n",
      "Total NO. of IVs=  652 , NO. of valid IVs with foreground signals:  311.2609 . \n",
      "***********************************************************\n",
      "   user  system elapsed \n",
      "  7.716   3.440   6.722 \n",
      "Run MR-APSS (C = I), i.e. MR-APSS not accounting for sample structure ... \n",
      "IV selection threshold: 5e-05 \n",
      "***********************************************************\n",
      "MR test results of  T2D  on  Hair_Light_Brown : \n",
      "MR-APSS: beta =  -1e-04 , beta.se =  0.0065 , p-value =  9.8555e-01 . \n",
      "Total NO. of IVs=  652 , NO. of valid IVs with foreground signals:  284.6227 . \n",
      "***********************************************************\n",
      "   user  system elapsed \n",
      " 10.313   3.682  10.232 \n",
      "Run MR-APSS not accounting for selection bias ... \n",
      "IV selection threshold: 5e-05 \n"
     ]
    },
    {
     "name": "stderr",
     "output_type": "stream",
     "text": [
      "Threshold = 1, the model will not correct for selection bias\n",
      "\n"
     ]
    },
    {
     "name": "stdout",
     "output_type": "stream",
     "text": [
      "***********************************************************\n",
      "MR test results of  T2D  on  Hair_Light_Brown : \n",
      "MR-APSS: beta =  -1e-04 , beta.se =  0.0042 , p-value =  9.8842e-01 . \n",
      "Total NO. of IVs=  652 , NO. of valid IVs with foreground signals:  651.9347 . \n",
      "***********************************************************\n",
      "   user  system elapsed \n",
      "  8.391   3.787   7.226 \n",
      "Pair:  T2D ~ Hair_Dark_Brown \n",
      "Run MR-APSS ... \n",
      "IV selection threshold: 5e-05 \n",
      "***********************************************************\n",
      "MR test results of  T2D  on  Hair_Dark_Brown : \n",
      "MR-APSS: beta =  0.0019 , beta.se =  0.0186 , p-value =  9.1673e-01 . \n",
      "Total NO. of IVs=  652 , NO. of valid IVs with foreground signals:  182.5653 . \n",
      "***********************************************************\n",
      "   user  system elapsed \n",
      " 10.266   4.725   9.026 \n",
      "Run MR-APSS (Omega = 0), i.e. MR-APSS not accounting for polygenicity and pleiotropy. ... \n",
      "IV selection threshold: 5e-05 \n",
      "***********************************************************\n",
      "MR test results of  T2D  on  Hair_Dark_Brown : \n",
      "MR-APSS: beta =  -0.0042 , beta.se =  0.0154 , p-value =  7.8411e-01 . \n",
      "Total NO. of IVs=  652 , NO. of valid IVs with foreground signals:  301.1646 . \n",
      "***********************************************************\n",
      "   user  system elapsed \n",
      "  6.565   3.009   5.810 \n",
      "Run MR-APSS (C = I), i.e. MR-APSS not accounting for sample structure ... \n",
      "IV selection threshold: 5e-05 \n",
      "***********************************************************\n",
      "MR test results of  T2D  on  Hair_Dark_Brown : \n",
      "MR-APSS: beta =  0.006 , beta.se =  0.0167 , p-value =  7.1946e-01 . \n",
      "Total NO. of IVs=  652 , NO. of valid IVs with foreground signals:  259.7392 . \n",
      "***********************************************************\n",
      "   user  system elapsed \n",
      " 12.071   5.298  10.406 \n",
      "Run MR-APSS not accounting for selection bias ... \n",
      "IV selection threshold: 5e-05 \n"
     ]
    },
    {
     "name": "stderr",
     "output_type": "stream",
     "text": [
      "Threshold = 1, the model will not correct for selection bias\n",
      "\n"
     ]
    },
    {
     "name": "stdout",
     "output_type": "stream",
     "text": [
      "***********************************************************\n",
      "MR test results of  T2D  on  Hair_Dark_Brown : \n",
      "MR-APSS: beta =  5e-04 , beta.se =  0.0094 , p-value =  9.5917e-01 . \n",
      "Total NO. of IVs=  652 , NO. of valid IVs with foreground signals:  651.9345 . \n",
      "***********************************************************\n",
      "   user  system elapsed \n",
      "  3.175   1.515   2.753 \n",
      "Pair:  T2D ~ Hair_Black \n",
      "Run MR-APSS ... \n",
      "IV selection threshold: 5e-05 \n",
      "***********************************************************\n",
      "MR test results of  T2D  on  Hair_Black : \n",
      "MR-APSS: beta =  0.0193 , beta.se =  0.017 , p-value =  2.5816e-01 . \n",
      "Total NO. of IVs=  652 , NO. of valid IVs with foreground signals:  194.6297 . \n",
      "***********************************************************\n",
      "   user  system elapsed \n",
      " 12.099   5.286  10.471 \n",
      "Run MR-APSS (Omega = 0), i.e. MR-APSS not accounting for polygenicity and pleiotropy. ... \n",
      "IV selection threshold: 5e-05 \n",
      "***********************************************************\n",
      "MR test results of  T2D  on  Hair_Black : \n",
      "MR-APSS: beta =  0.0185 , beta.se =  0.0137 , p-value =  1.7793e-01 . \n",
      "Total NO. of IVs=  652 , NO. of valid IVs with foreground signals:  313.3083 . \n",
      "***********************************************************\n",
      "   user  system elapsed \n",
      "  8.626   3.839   7.482 \n",
      "Run MR-APSS (C = I), i.e. MR-APSS not accounting for sample structure ... \n",
      "IV selection threshold: 5e-05 \n",
      "***********************************************************\n",
      "MR test results of  T2D  on  Hair_Black : \n",
      "MR-APSS: beta =  0.0284 , beta.se =  0.0147 , p-value =  5.3843e-02 . \n",
      "Total NO. of IVs=  652 , NO. of valid IVs with foreground signals:  289.5662 . \n",
      "***********************************************************\n",
      "   user  system elapsed \n",
      " 12.696   5.693  11.323 \n",
      "Run MR-APSS not accounting for selection bias ... \n",
      "IV selection threshold: 5e-05 \n"
     ]
    },
    {
     "name": "stderr",
     "output_type": "stream",
     "text": [
      "Threshold = 1, the model will not correct for selection bias\n",
      "\n"
     ]
    },
    {
     "name": "stdout",
     "output_type": "stream",
     "text": [
      "***********************************************************\n",
      "MR test results of  T2D  on  Hair_Black : \n",
      "MR-APSS: beta =  0.0207 , beta.se =  0.0094 , p-value =  2.7529e-02 . \n",
      "Total NO. of IVs=  652 , NO. of valid IVs with foreground signals:  651.9346 . \n",
      "***********************************************************\n",
      "   user  system elapsed \n",
      "  7.109   3.218   6.290 \n",
      "Pair:  T2D ~ Hair_Blonde \n",
      "Run MR-APSS ... \n",
      "IV selection threshold: 5e-05 \n",
      "***********************************************************\n",
      "MR test results of  T2D  on  Hair_Blonde : \n",
      "MR-APSS: beta =  -0.0137 , beta.se =  0.0198 , p-value =  4.8947e-01 . \n",
      "Total NO. of IVs=  652 , NO. of valid IVs with foreground signals:  178.716 . \n",
      "***********************************************************\n",
      "   user  system elapsed \n",
      " 12.670   5.364  11.273 \n",
      "Run MR-APSS (Omega = 0), i.e. MR-APSS not accounting for polygenicity and pleiotropy. ... \n",
      "IV selection threshold: 5e-05 \n",
      "***********************************************************\n",
      "MR test results of  T2D  on  Hair_Blonde : \n",
      "MR-APSS: beta =  -0.0072 , beta.se =  0.015 , p-value =  6.2838e-01 . \n",
      "Total NO. of IVs=  652 , NO. of valid IVs with foreground signals:  295.4707 . \n",
      "***********************************************************\n",
      "   user  system elapsed \n",
      "  9.648   3.780   9.479 \n",
      "Run MR-APSS (C = I), i.e. MR-APSS not accounting for sample structure ... \n",
      "IV selection threshold: 5e-05 \n",
      "***********************************************************\n",
      "MR test results of  T2D  on  Hair_Blonde : \n",
      "MR-APSS: beta =  -0.0146 , beta.se =  0.0168 , p-value =  3.8309e-01 . \n",
      "Total NO. of IVs=  652 , NO. of valid IVs with foreground signals:  247.1949 . \n",
      "***********************************************************\n",
      "   user  system elapsed \n",
      " 14.217   5.453  13.986 \n",
      "Run MR-APSS not accounting for selection bias ... \n",
      "IV selection threshold: 5e-05 \n"
     ]
    },
    {
     "name": "stderr",
     "output_type": "stream",
     "text": [
      "Threshold = 1, the model will not correct for selection bias\n",
      "\n"
     ]
    },
    {
     "name": "stdout",
     "output_type": "stream",
     "text": [
      "***********************************************************\n",
      "MR test results of  T2D  on  Hair_Blonde : \n",
      "MR-APSS: beta =  -0.0067 , beta.se =  0.0095 , p-value =  4.8033e-01 . \n",
      "Total NO. of IVs=  652 , NO. of valid IVs with foreground signals:  651.9345 . \n",
      "***********************************************************\n",
      "   user  system elapsed \n",
      "  8.986   4.018   8.161 \n",
      "Pair:  T2D ~ Tanning \n",
      "Run MR-APSS ... \n",
      "IV selection threshold: 5e-05 \n",
      "***********************************************************\n",
      "MR test results of  T2D  on  Tanning : \n",
      "MR-APSS: beta =  0.0029 , beta.se =  0.0183 , p-value =  8.7245e-01 . \n",
      "Total NO. of IVs=  652 , NO. of valid IVs with foreground signals:  192.9963 . \n",
      "***********************************************************\n",
      "   user  system elapsed \n",
      " 10.856   4.696   9.646 \n",
      "Run MR-APSS (Omega = 0), i.e. MR-APSS not accounting for polygenicity and pleiotropy. ... \n",
      "IV selection threshold: 5e-05 \n",
      "***********************************************************\n",
      "MR test results of  T2D  on  Tanning : \n",
      "MR-APSS: beta =  -0.0088 , beta.se =  0.0156 , p-value =  5.7148e-01 . \n",
      "Total NO. of IVs=  652 , NO. of valid IVs with foreground signals:  306.1353 . \n",
      "***********************************************************\n",
      "   user  system elapsed \n",
      "  8.460   3.326   7.588 \n",
      "Run MR-APSS (C = I), i.e. MR-APSS not accounting for sample structure ... \n",
      "IV selection threshold: 5e-05 \n",
      "***********************************************************\n",
      "MR test results of  T2D  on  Tanning : \n",
      "MR-APSS: beta =  0.0063 , beta.se =  0.0162 , p-value =  6.9749e-01 . \n",
      "Total NO. of IVs=  652 , NO. of valid IVs with foreground signals:  281.773 . \n",
      "***********************************************************\n",
      "   user  system elapsed \n",
      " 12.412   5.039  11.293 \n",
      "Run MR-APSS not accounting for selection bias ... \n",
      "IV selection threshold: 5e-05 \n"
     ]
    },
    {
     "name": "stderr",
     "output_type": "stream",
     "text": [
      "Threshold = 1, the model will not correct for selection bias\n",
      "\n"
     ]
    },
    {
     "name": "stdout",
     "output_type": "stream",
     "text": [
      "***********************************************************\n",
      "MR test results of  T2D  on  Tanning : \n",
      "MR-APSS: beta =  1e-04 , beta.se =  0.0047 , p-value =  9.8904e-01 . \n",
      "Total NO. of IVs=  652 , NO. of valid IVs with foreground signals:  651.9346 . \n",
      "***********************************************************\n",
      "   user  system elapsed \n",
      "  9.276   4.110   8.561 \n",
      "Pair:  Alcohol ~ Hair_Light_Brown \n",
      "Run MR-APSS ... \n",
      "IV selection threshold: 5e-05 \n",
      "***********************************************************\n",
      "MR test results of  Alcohol  on  Hair_Light_Brown : \n",
      "MR-APSS: beta =  0.0982 , beta.se =  0.0482 , p-value =  4.1722e-02 . \n",
      "Total NO. of IVs=  343 , NO. of valid IVs with foreground signals:  78.92478 . \n",
      "***********************************************************\n",
      "   user  system elapsed \n",
      " 10.704   6.482   8.713 \n",
      "Run MR-APSS (Omega = 0), i.e. MR-APSS not accounting for polygenicity and pleiotropy. ... \n",
      "IV selection threshold: 5e-05 \n",
      "***********************************************************\n",
      "MR test results of  Alcohol  on  Hair_Light_Brown : \n",
      "MR-APSS: beta =  0.0511 , beta.se =  0.03 , p-value =  8.8223e-02 . \n",
      "Total NO. of IVs=  343 , NO. of valid IVs with foreground signals:  187.3048 . \n",
      "***********************************************************\n",
      "   user  system elapsed \n",
      " 14.505   8.567  12.259 \n",
      "Run MR-APSS (C = I), i.e. MR-APSS not accounting for sample structure ... \n",
      "IV selection threshold: 5e-05 \n",
      "***********************************************************\n",
      "MR test results of  Alcohol  on  Hair_Light_Brown : \n",
      "MR-APSS: beta =  0.1049 , beta.se =  0.0445 , p-value =  1.8495e-02 . \n",
      "Total NO. of IVs=  343 , NO. of valid IVs with foreground signals:  102.7693 . \n",
      "***********************************************************\n",
      "   user  system elapsed \n",
      " 13.187   7.896  10.945 \n",
      "Run MR-APSS not accounting for selection bias ... \n",
      "IV selection threshold: 5e-05 \n"
     ]
    },
    {
     "name": "stderr",
     "output_type": "stream",
     "text": [
      "Threshold = 1, the model will not correct for selection bias\n",
      "\n"
     ]
    },
    {
     "name": "stdout",
     "output_type": "stream",
     "text": [
      "***********************************************************\n",
      "MR test results of  Alcohol  on  Hair_Light_Brown : \n",
      "MR-APSS: beta =  0.0328 , beta.se =  0.0177 , p-value =  6.4443e-02 . \n",
      "Total NO. of IVs=  343 , NO. of valid IVs with foreground signals:  342.9657 . \n",
      "***********************************************************\n",
      "   user  system elapsed \n",
      " 10.463   6.160   9.049 \n",
      "Pair:  Alcohol ~ Hair_Dark_Brown \n",
      "Run MR-APSS ... \n",
      "IV selection threshold: 5e-05 \n",
      "***********************************************************\n",
      "MR test results of  Alcohol  on  Hair_Dark_Brown : \n",
      "MR-APSS: beta =  -0.1332 , beta.se =  0.0647 , p-value =  3.9482e-02 . \n",
      "Total NO. of IVs=  343 , NO. of valid IVs with foreground signals:  72.03044 . \n",
      "***********************************************************\n",
      "   user  system elapsed \n",
      " 10.229   6.260   8.341 \n",
      "Run MR-APSS (Omega = 0), i.e. MR-APSS not accounting for polygenicity and pleiotropy. ... \n",
      "IV selection threshold: 5e-05 \n",
      "***********************************************************\n",
      "MR test results of  Alcohol  on  Hair_Dark_Brown : \n",
      "MR-APSS: beta =  -0.086 , beta.se =  0.0383 , p-value =  2.4658e-02 . \n",
      "Total NO. of IVs=  343 , NO. of valid IVs with foreground signals:  177.4284 . \n",
      "***********************************************************\n",
      "   user  system elapsed \n",
      " 12.890   7.925  10.796 \n",
      "Run MR-APSS (C = I), i.e. MR-APSS not accounting for sample structure ... \n",
      "IV selection threshold: 5e-05 \n",
      "***********************************************************\n",
      "MR test results of  Alcohol  on  Hair_Dark_Brown : \n",
      "MR-APSS: beta =  -0.1377 , beta.se =  0.0585 , p-value =  1.8519e-02 . \n",
      "Total NO. of IVs=  343 , NO. of valid IVs with foreground signals:  94.37185 . \n",
      "***********************************************************\n",
      "   user  system elapsed \n",
      " 11.204   7.053   9.524 \n",
      "Run MR-APSS not accounting for selection bias ... \n",
      "IV selection threshold: 5e-05 \n"
     ]
    },
    {
     "name": "stderr",
     "output_type": "stream",
     "text": [
      "Threshold = 1, the model will not correct for selection bias\n",
      "\n"
     ]
    },
    {
     "name": "stdout",
     "output_type": "stream",
     "text": [
      "***********************************************************\n",
      "MR test results of  Alcohol  on  Hair_Dark_Brown : \n",
      "MR-APSS: beta =  -0.0549 , beta.se =  0.0211 , p-value =  9.4193e-03 . \n",
      "Total NO. of IVs=  343 , NO. of valid IVs with foreground signals:  342.9657 . \n",
      "***********************************************************\n",
      "   user  system elapsed \n",
      "  5.681   3.149   4.777 \n",
      "Pair:  Alcohol ~ Hair_Black \n",
      "Run MR-APSS ... \n",
      "IV selection threshold: 5e-05 \n",
      "***********************************************************\n",
      "MR test results of  Alcohol  on  Hair_Black : \n",
      "MR-APSS: beta =  -0.0426 , beta.se =  0.051 , p-value =  4.0393e-01 . \n",
      "Total NO. of IVs=  343 , NO. of valid IVs with foreground signals:  82.75135 . \n",
      "***********************************************************\n",
      "   user  system elapsed \n",
      " 16.091   9.864  13.518 \n",
      "Run MR-APSS (Omega = 0), i.e. MR-APSS not accounting for polygenicity and pleiotropy. ... \n",
      "IV selection threshold: 5e-05 \n",
      "***********************************************************\n",
      "MR test results of  Alcohol  on  Hair_Black : \n",
      "MR-APSS: beta =  -0.0462 , beta.se =  0.0324 , p-value =  1.5415e-01 . \n",
      "Total NO. of IVs=  343 , NO. of valid IVs with foreground signals:  189.6288 . \n",
      "***********************************************************\n",
      "   user  system elapsed \n",
      " 12.815   7.645  10.918 \n",
      "Run MR-APSS (C = I), i.e. MR-APSS not accounting for sample structure ... \n",
      "IV selection threshold: 5e-05 \n",
      "***********************************************************\n",
      "MR test results of  Alcohol  on  Hair_Black : \n",
      "MR-APSS: beta =  -0.0663 , beta.se =  0.0479 , p-value =  1.6607e-01 . \n",
      "Total NO. of IVs=  343 , NO. of valid IVs with foreground signals:  114.5015 . \n",
      "***********************************************************\n",
      "   user  system elapsed \n",
      " 13.859   8.542  12.042 \n",
      "Run MR-APSS not accounting for selection bias ... \n",
      "IV selection threshold: 5e-05 \n"
     ]
    },
    {
     "name": "stderr",
     "output_type": "stream",
     "text": [
      "Threshold = 1, the model will not correct for selection bias\n",
      "\n"
     ]
    },
    {
     "name": "stdout",
     "output_type": "stream",
     "text": [
      "***********************************************************\n",
      "MR test results of  Alcohol  on  Hair_Black : \n",
      "MR-APSS: beta =  -0.0319 , beta.se =  0.0192 , p-value =  9.7134e-02 . \n",
      "Total NO. of IVs=  343 , NO. of valid IVs with foreground signals:  342.9657 . \n",
      "***********************************************************\n",
      "   user  system elapsed \n",
      " 25.854  15.637  22.012 \n",
      "Pair:  Alcohol ~ Hair_Blonde \n",
      "Run MR-APSS ... \n",
      "IV selection threshold: 5e-05 \n",
      "***********************************************************\n",
      "MR test results of  Alcohol  on  Hair_Blonde : \n",
      "MR-APSS: beta =  0.0666 , beta.se =  0.0569 , p-value =  2.4153e-01 . \n",
      "Total NO. of IVs=  343 , NO. of valid IVs with foreground signals:  73.91564 . \n",
      "***********************************************************\n",
      "   user  system elapsed \n",
      "  8.989   5.437   7.706 \n",
      "Run MR-APSS (Omega = 0), i.e. MR-APSS not accounting for polygenicity and pleiotropy. ... \n",
      "IV selection threshold: 5e-05 \n",
      "***********************************************************\n",
      "MR test results of  Alcohol  on  Hair_Blonde : \n",
      "MR-APSS: beta =  0.0689 , beta.se =  0.0344 , p-value =  4.5649e-02 . \n",
      "Total NO. of IVs=  343 , NO. of valid IVs with foreground signals:  184.3249 . \n",
      "***********************************************************\n",
      "   user  system elapsed \n",
      " 12.871   7.690  10.449 \n",
      "Run MR-APSS (C = I), i.e. MR-APSS not accounting for sample structure ... \n",
      "IV selection threshold: 5e-05 \n",
      "***********************************************************\n",
      "MR test results of  Alcohol  on  Hair_Blonde : \n",
      "MR-APSS: beta =  0.0713 , beta.se =  0.0519 , p-value =  1.7003e-01 . \n",
      "Total NO. of IVs=  343 , NO. of valid IVs with foreground signals:  91.46764 . \n",
      "***********************************************************\n",
      "   user  system elapsed \n",
      "  8.432   5.462   6.987 \n",
      "Run MR-APSS not accounting for selection bias ... \n",
      "IV selection threshold: 5e-05 \n"
     ]
    },
    {
     "name": "stderr",
     "output_type": "stream",
     "text": [
      "Threshold = 1, the model will not correct for selection bias\n",
      "\n"
     ]
    },
    {
     "name": "stdout",
     "output_type": "stream",
     "text": [
      "***********************************************************\n",
      "MR test results of  Alcohol  on  Hair_Blonde : \n",
      "MR-APSS: beta =  0.0482 , beta.se =  0.0196 , p-value =  1.3949e-02 . \n",
      "Total NO. of IVs=  343 , NO. of valid IVs with foreground signals:  342.9657 . \n",
      "***********************************************************\n",
      "   user  system elapsed \n",
      "  9.136   5.658   7.533 \n",
      "Pair:  Alcohol ~ Tanning \n",
      "Run MR-APSS ... \n",
      "IV selection threshold: 5e-05 \n",
      "***********************************************************\n",
      "MR test results of  Alcohol  on  Tanning : \n",
      "MR-APSS: beta =  0.0241 , beta.se =  0.0736 , p-value =  7.4346e-01 . \n",
      "Total NO. of IVs=  342 , NO. of valid IVs with foreground signals:  70.91884 . \n",
      "***********************************************************\n",
      "   user  system elapsed \n",
      "  7.733   4.748   6.281 \n",
      "Run MR-APSS (Omega = 0), i.e. MR-APSS not accounting for polygenicity and pleiotropy. ... \n",
      "IV selection threshold: 5e-05 \n",
      "***********************************************************\n",
      "MR test results of  Alcohol  on  Tanning : \n",
      "MR-APSS: beta =  0.0854 , beta.se =  0.0454 , p-value =  5.9864e-02 . \n",
      "Total NO. of IVs=  342 , NO. of valid IVs with foreground signals:  177.2087 . \n",
      "***********************************************************\n",
      "   user  system elapsed \n",
      " 14.891   9.344  12.351 \n",
      "Run MR-APSS (C = I), i.e. MR-APSS not accounting for sample structure ... \n",
      "IV selection threshold: 5e-05 \n",
      "***********************************************************\n",
      "MR test results of  Alcohol  on  Tanning : \n",
      "MR-APSS: beta =  0.0791 , beta.se =  0.0655 , p-value =  2.2728e-01 . \n",
      "Total NO. of IVs=  342 , NO. of valid IVs with foreground signals:  105.1237 . \n",
      "***********************************************************\n",
      "   user  system elapsed \n",
      " 13.255   8.426  10.888 \n",
      "Run MR-APSS not accounting for selection bias ... \n",
      "IV selection threshold: 5e-05 \n"
     ]
    },
    {
     "name": "stderr",
     "output_type": "stream",
     "text": [
      "Threshold = 1, the model will not correct for selection bias\n",
      "\n"
     ]
    },
    {
     "name": "stdout",
     "output_type": "stream",
     "text": [
      "***********************************************************\n",
      "MR test results of  Alcohol  on  Tanning : \n",
      "MR-APSS: beta =  0.0935 , beta.se =  0.0249 , p-value =  1.7747e-04 . \n",
      "Total NO. of IVs=  342 , NO. of valid IVs with foreground signals:  341.9658 . \n",
      "***********************************************************\n",
      "   user  system elapsed \n",
      "  8.249   4.542   8.119 \n",
      "Pair:  BMI ~ Hair_Light_Brown \n",
      "Run MR-APSS ... \n",
      "IV selection threshold: 5e-05 \n",
      "***********************************************************\n",
      "MR test results of  BMI  on  Hair_Light_Brown : \n",
      "MR-APSS: beta =  -0.0213 , beta.se =  0.0218 , p-value =  3.2884e-01 . \n",
      "Total NO. of IVs=  1301 , NO. of valid IVs with foreground signals:  197.0567 . \n",
      "***********************************************************\n",
      "   user  system elapsed \n",
      " 28.189   8.515  25.969 \n",
      "Run MR-APSS (Omega = 0), i.e. MR-APSS not accounting for polygenicity and pleiotropy. ... \n",
      "IV selection threshold: 5e-05 \n",
      "***********************************************************\n",
      "MR test results of  BMI  on  Hair_Light_Brown : \n",
      "MR-APSS: beta =  -0.0136 , beta.se =  0.0122 , p-value =  2.6374e-01 . \n",
      "Total NO. of IVs=  1301 , NO. of valid IVs with foreground signals:  523.7553 . \n",
      "***********************************************************\n",
      "   user  system elapsed \n",
      " 22.642   6.846  20.683 \n",
      "Run MR-APSS (C = I), i.e. MR-APSS not accounting for sample structure ... \n",
      "IV selection threshold: 5e-05 \n",
      "***********************************************************\n",
      "MR test results of  BMI  on  Hair_Light_Brown : \n",
      "MR-APSS: beta =  -0.003 , beta.se =  0.0151 , p-value =  8.4027e-01 . \n",
      "Total NO. of IVs=  1301 , NO. of valid IVs with foreground signals:  430.4583 . \n",
      "***********************************************************\n",
      "   user  system elapsed \n",
      " 24.140   7.027  22.471 \n",
      "Run MR-APSS not accounting for selection bias ... \n",
      "IV selection threshold: 5e-05 \n"
     ]
    },
    {
     "name": "stderr",
     "output_type": "stream",
     "text": [
      "Threshold = 1, the model will not correct for selection bias\n",
      "\n"
     ]
    },
    {
     "name": "stdout",
     "output_type": "stream",
     "text": [
      "***********************************************************\n",
      "MR test results of  BMI  on  Hair_Light_Brown : \n",
      "MR-APSS: beta =  7e-04 , beta.se =  0.0073 , p-value =  9.2138e-01 . \n",
      "Total NO. of IVs=  1301 , NO. of valid IVs with foreground signals:  1300.869 . \n",
      "***********************************************************\n",
      "   user  system elapsed \n",
      " 37.241  10.384  35.642 \n",
      "Pair:  BMI ~ Hair_Dark_Brown \n",
      "Run MR-APSS ... \n",
      "IV selection threshold: 5e-05 \n",
      "***********************************************************\n",
      "MR test results of  BMI  on  Hair_Dark_Brown : \n",
      "MR-APSS: beta =  0.0023 , beta.se =  0.026 , p-value =  9.2838e-01 . \n",
      "Total NO. of IVs=  1301 , NO. of valid IVs with foreground signals:  186.3865 . \n",
      "***********************************************************\n",
      "   user  system elapsed \n",
      " 24.753   6.979  23.280 \n",
      "Run MR-APSS (Omega = 0), i.e. MR-APSS not accounting for polygenicity and pleiotropy. ... \n",
      "IV selection threshold: 5e-05 \n",
      "***********************************************************\n",
      "MR test results of  BMI  on  Hair_Dark_Brown : \n",
      "MR-APSS: beta =  -0.0129 , beta.se =  0.0163 , p-value =  4.2805e-01 . \n",
      "Total NO. of IVs=  1301 , NO. of valid IVs with foreground signals:  527.1941 . \n",
      "***********************************************************\n",
      "   user  system elapsed \n",
      " 27.477   7.921  25.950 \n",
      "Run MR-APSS (C = I), i.e. MR-APSS not accounting for sample structure ... \n",
      "IV selection threshold: 5e-05 \n",
      "***********************************************************\n",
      "MR test results of  BMI  on  Hair_Dark_Brown : \n",
      "MR-APSS: beta =  -0.0266 , beta.se =  0.0223 , p-value =  2.3422e-01 . \n",
      "Total NO. of IVs=  1301 , NO. of valid IVs with foreground signals:  385.7303 . \n",
      "***********************************************************\n",
      "   user  system elapsed \n",
      " 33.237   9.263  31.482 \n",
      "Run MR-APSS not accounting for selection bias ... \n",
      "IV selection threshold: 5e-05 \n"
     ]
    },
    {
     "name": "stderr",
     "output_type": "stream",
     "text": [
      "Threshold = 1, the model will not correct for selection bias\n",
      "\n"
     ]
    },
    {
     "name": "stdout",
     "output_type": "stream",
     "text": [
      "***********************************************************\n",
      "MR test results of  BMI  on  Hair_Dark_Brown : \n",
      "MR-APSS: beta =  -0.0321 , beta.se =  0.0094 , p-value =  6.0706e-04 . \n",
      "Total NO. of IVs=  1301 , NO. of valid IVs with foreground signals:  1300.869 . \n",
      "***********************************************************\n",
      "   user  system elapsed \n",
      " 36.704  10.283  35.320 \n",
      "Pair:  BMI ~ Hair_Black \n",
      "Run MR-APSS ... \n",
      "IV selection threshold: 5e-05 \n",
      "***********************************************************\n",
      "MR test results of  BMI  on  Hair_Black : \n",
      "MR-APSS: beta =  0.022 , beta.se =  0.0242 , p-value =  3.6311e-01 . \n",
      "Total NO. of IVs=  1301 , NO. of valid IVs with foreground signals:  197.963 . \n",
      "***********************************************************\n",
      "   user  system elapsed \n",
      " 30.897   9.156  29.073 \n",
      "Run MR-APSS (Omega = 0), i.e. MR-APSS not accounting for polygenicity and pleiotropy. ... \n",
      "IV selection threshold: 5e-05 \n",
      "***********************************************************\n",
      "MR test results of  BMI  on  Hair_Black : \n",
      "MR-APSS: beta =  0.0122 , beta.se =  0.0137 , p-value =  3.7393e-01 . \n",
      "Total NO. of IVs=  1301 , NO. of valid IVs with foreground signals:  527.3152 . \n",
      "***********************************************************\n",
      "   user  system elapsed \n",
      " 24.259   6.665  22.942 \n",
      "Run MR-APSS (C = I), i.e. MR-APSS not accounting for sample structure ... \n",
      "IV selection threshold: 5e-05 \n",
      "***********************************************************\n",
      "MR test results of  BMI  on  Hair_Black : \n",
      "MR-APSS: beta =  0.022 , beta.se =  0.0178 , p-value =  2.1738e-01 . \n",
      "Total NO. of IVs=  1301 , NO. of valid IVs with foreground signals:  454.6462 . \n",
      "***********************************************************\n",
      "   user  system elapsed \n",
      " 22.924   6.712  20.785 \n",
      "Run MR-APSS not accounting for selection bias ... \n",
      "IV selection threshold: 5e-05 \n"
     ]
    },
    {
     "name": "stderr",
     "output_type": "stream",
     "text": [
      "Threshold = 1, the model will not correct for selection bias\n",
      "\n"
     ]
    },
    {
     "name": "stdout",
     "output_type": "stream",
     "text": [
      "***********************************************************\n",
      "MR test results of  BMI  on  Hair_Black : \n",
      "MR-APSS: beta =  0.0202 , beta.se =  0.0085 , p-value =  1.7901e-02 . \n",
      "Total NO. of IVs=  1301 , NO. of valid IVs with foreground signals:  1300.869 . \n",
      "***********************************************************\n",
      "   user  system elapsed \n",
      " 57.793  16.968  55.067 \n",
      "Pair:  BMI ~ Hair_Blonde \n",
      "Run MR-APSS ... \n",
      "IV selection threshold: 5e-05 \n",
      "***********************************************************\n",
      "MR test results of  BMI  on  Hair_Blonde : \n",
      "MR-APSS: beta =  -0.017 , beta.se =  0.0304 , p-value =  5.7666e-01 . \n",
      "Total NO. of IVs=  1300 , NO. of valid IVs with foreground signals:  169.6131 . \n",
      "***********************************************************\n",
      "   user  system elapsed \n",
      " 31.978   9.072  30.503 \n",
      "Run MR-APSS (Omega = 0), i.e. MR-APSS not accounting for polygenicity and pleiotropy. ... \n",
      "IV selection threshold: 5e-05 \n",
      "***********************************************************\n",
      "MR test results of  BMI  on  Hair_Blonde : \n",
      "MR-APSS: beta =  -3e-04 , beta.se =  0.0085 , p-value =  9.7118e-01 . \n",
      "Total NO. of IVs=  1300 , NO. of valid IVs with foreground signals:  534.1761 . \n",
      "***********************************************************\n",
      "   user  system elapsed \n",
      " 21.483   6.521  19.502 \n",
      "Run MR-APSS (C = I), i.e. MR-APSS not accounting for sample structure ... \n",
      "IV selection threshold: 5e-05 \n",
      "***********************************************************\n",
      "MR test results of  BMI  on  Hair_Blonde : \n",
      "MR-APSS: beta =  -0.0031 , beta.se =  0.0188 , p-value =  8.7117e-01 . \n",
      "Total NO. of IVs=  1300 , NO. of valid IVs with foreground signals:  377.2317 . \n",
      "***********************************************************\n",
      "   user  system elapsed \n",
      " 35.303   9.680  33.638 \n",
      "Run MR-APSS not accounting for selection bias ... \n",
      "IV selection threshold: 5e-05 \n"
     ]
    },
    {
     "name": "stderr",
     "output_type": "stream",
     "text": [
      "Threshold = 1, the model will not correct for selection bias\n",
      "\n"
     ]
    },
    {
     "name": "stdout",
     "output_type": "stream",
     "text": [
      "***********************************************************\n",
      "MR test results of  BMI  on  Hair_Blonde : \n",
      "MR-APSS: beta =  0.0064 , beta.se =  0.0083 , p-value =  4.3661e-01 . \n",
      "Total NO. of IVs=  1300 , NO. of valid IVs with foreground signals:  1299.87 . \n",
      "***********************************************************\n",
      "   user  system elapsed \n",
      " 58.729  16.395  55.162 \n",
      "Pair:  BMI ~ Tanning \n",
      "Run MR-APSS ... \n",
      "IV selection threshold: 5e-05 \n",
      "***********************************************************\n",
      "MR test results of  BMI  on  Tanning : \n",
      "MR-APSS: beta =  -0.0798 , beta.se =  0.032 , p-value =  1.2714e-02 . \n",
      "Total NO. of IVs=  1301 , NO. of valid IVs with foreground signals:  201.1114 . \n",
      "***********************************************************\n",
      "   user  system elapsed \n",
      " 32.291   8.832  31.871 \n",
      "Run MR-APSS (Omega = 0), i.e. MR-APSS not accounting for polygenicity and pleiotropy. ... \n",
      "IV selection threshold: 5e-05 \n",
      "***********************************************************\n",
      "MR test results of  BMI  on  Tanning : \n",
      "MR-APSS: beta =  -0.0348 , beta.se =  0.0175 , p-value =  4.7008e-02 . \n",
      "Total NO. of IVs=  1301 , NO. of valid IVs with foreground signals:  544.798 . \n",
      "***********************************************************\n",
      "   user  system elapsed \n",
      " 30.073   8.121  28.175 \n",
      "Run MR-APSS (C = I), i.e. MR-APSS not accounting for sample structure ... \n",
      "IV selection threshold: 5e-05 \n",
      "***********************************************************\n",
      "MR test results of  BMI  on  Tanning : \n",
      "MR-APSS: beta =  -0.0945 , beta.se =  0.0226 , p-value =  2.9056e-05 . \n",
      "Total NO. of IVs=  1301 , NO. of valid IVs with foreground signals:  458.7218 . \n",
      "***********************************************************\n",
      "   user  system elapsed \n",
      " 33.333   9.319  30.619 \n",
      "Run MR-APSS not accounting for selection bias ... \n",
      "IV selection threshold: 5e-05 \n"
     ]
    },
    {
     "name": "stderr",
     "output_type": "stream",
     "text": [
      "Threshold = 1, the model will not correct for selection bias\n",
      "\n"
     ]
    },
    {
     "name": "stdout",
     "output_type": "stream",
     "text": [
      "***********************************************************\n",
      "MR test results of  BMI  on  Tanning : \n",
      "MR-APSS: beta =  -0.0561 , beta.se =  0.0103 , p-value =  5.5190e-08 . \n",
      "Total NO. of IVs=  1301 , NO. of valid IVs with foreground signals:  1300.869 . \n",
      "***********************************************************\n",
      "   user  system elapsed \n",
      " 46.305  12.572  43.126 \n",
      "Pair:  Depression ~ Hair_Light_Brown \n",
      "Run MR-APSS ... \n",
      "IV selection threshold: 5e-05 \n",
      "***********************************************************\n",
      "MR test results of  Depression  on  Hair_Light_Brown : \n",
      "MR-APSS: beta =  0.0948 , beta.se =  0.1066 , p-value =  3.7382e-01 . \n",
      "Total NO. of IVs=  197 , NO. of valid IVs with foreground signals:  37.96413 . \n",
      "***********************************************************\n",
      "   user  system elapsed \n",
      " 50.384  31.040  43.106 \n",
      "Run MR-APSS (Omega = 0), i.e. MR-APSS not accounting for polygenicity and pleiotropy. ... \n",
      "IV selection threshold: 5e-05 \n",
      "***********************************************************\n",
      "MR test results of  Depression  on  Hair_Light_Brown : \n",
      "MR-APSS: beta =  0.0366 , beta.se =  0.0528 , p-value =  4.8840e-01 . \n",
      "Total NO. of IVs=  197 , NO. of valid IVs with foreground signals:  106.8192 . \n",
      "***********************************************************\n",
      "   user  system elapsed \n",
      " 35.104  21.771  28.456 \n",
      "Run MR-APSS (C = I), i.e. MR-APSS not accounting for sample structure ... \n",
      "IV selection threshold: 5e-05 \n",
      "***********************************************************\n",
      "MR test results of  Depression  on  Hair_Light_Brown : \n",
      "MR-APSS: beta =  0.0264 , beta.se =  0.0814 , p-value =  7.4583e-01 . \n",
      "Total NO. of IVs=  197 , NO. of valid IVs with foreground signals:  90.08466 . \n",
      "***********************************************************\n",
      "   user  system elapsed \n",
      " 45.229  28.173  36.751 \n",
      "Run MR-APSS not accounting for selection bias ... \n",
      "IV selection threshold: 5e-05 \n"
     ]
    },
    {
     "name": "stderr",
     "output_type": "stream",
     "text": [
      "Threshold = 1, the model will not correct for selection bias\n",
      "\n"
     ]
    },
    {
     "name": "stdout",
     "output_type": "stream",
     "text": [
      "***********************************************************\n",
      "MR test results of  Depression  on  Hair_Light_Brown : \n",
      "MR-APSS: beta =  0.0035 , beta.se =  0.0216 , p-value =  8.6944e-01 . \n",
      "Total NO. of IVs=  197 , NO. of valid IVs with foreground signals:  196.9803 . \n",
      "***********************************************************\n",
      "   user  system elapsed \n",
      "  0.952   0.585   0.769 \n",
      "Pair:  Depression ~ Hair_Dark_Brown \n",
      "Run MR-APSS ... \n",
      "IV selection threshold: 5e-05 \n",
      "***********************************************************\n",
      "MR test results of  Depression  on  Hair_Dark_Brown : \n",
      "MR-APSS: beta =  -0.071 , beta.se =  0.1153 , p-value =  5.3794e-01 . \n",
      "Total NO. of IVs=  197 , NO. of valid IVs with foreground signals:  41.15287 . \n",
      "***********************************************************\n",
      "   user  system elapsed \n",
      " 42.288  26.188  34.856 \n",
      "Run MR-APSS (Omega = 0), i.e. MR-APSS not accounting for polygenicity and pleiotropy. ... \n",
      "IV selection threshold: 5e-05 \n",
      "***********************************************************\n",
      "MR test results of  Depression  on  Hair_Dark_Brown : \n",
      "MR-APSS: beta =  -0.041 , beta.se =  0.0579 , p-value =  4.7935e-01 . \n",
      "Total NO. of IVs=  197 , NO. of valid IVs with foreground signals:  104.452 . \n",
      "***********************************************************\n",
      "   user  system elapsed \n",
      " 30.089  18.973  25.504 \n",
      "Run MR-APSS (C = I), i.e. MR-APSS not accounting for sample structure ... \n",
      "IV selection threshold: 5e-05 \n",
      "***********************************************************\n",
      "MR test results of  Depression  on  Hair_Dark_Brown : \n",
      "MR-APSS: beta =  -0.0355 , beta.se =  0.0891 , p-value =  6.8984e-01 . \n",
      "Total NO. of IVs=  197 , NO. of valid IVs with foreground signals:  90.43606 . \n",
      "***********************************************************\n",
      "   user  system elapsed \n",
      " 51.031  32.459  43.745 \n",
      "Run MR-APSS not accounting for selection bias ... \n",
      "IV selection threshold: 5e-05 \n"
     ]
    },
    {
     "name": "stderr",
     "output_type": "stream",
     "text": [
      "Threshold = 1, the model will not correct for selection bias\n",
      "\n"
     ]
    },
    {
     "name": "stdout",
     "output_type": "stream",
     "text": [
      "***********************************************************\n",
      "MR test results of  Depression  on  Hair_Dark_Brown : \n",
      "MR-APSS: beta =  -0.0055 , beta.se =  0.025 , p-value =  8.2668e-01 . \n",
      "Total NO. of IVs=  197 , NO. of valid IVs with foreground signals:  196.9803 . \n",
      "***********************************************************\n",
      "   user  system elapsed \n",
      " 36.778  23.120  29.988 \n",
      "Pair:  Depression ~ Hair_Black \n",
      "Run MR-APSS ... \n",
      "IV selection threshold: 5e-05 \n",
      "***********************************************************\n",
      "MR test results of  Depression  on  Hair_Black : \n",
      "MR-APSS: beta =  -0.1896 , beta.se =  0.1218 , p-value =  1.1946e-01 . \n",
      "Total NO. of IVs=  197 , NO. of valid IVs with foreground signals:  34.58994 . \n",
      "***********************************************************\n",
      "   user  system elapsed \n",
      " 51.503  31.524  42.021 \n",
      "Run MR-APSS (Omega = 0), i.e. MR-APSS not accounting for polygenicity and pleiotropy. ... \n",
      "IV selection threshold: 5e-05 \n",
      "***********************************************************\n",
      "MR test results of  Depression  on  Hair_Black : \n",
      "MR-APSS: beta =  -0.0612 , beta.se =  0.0634 , p-value =  3.3481e-01 . \n",
      "Total NO. of IVs=  197 , NO. of valid IVs with foreground signals:  105.3036 . \n",
      "***********************************************************\n",
      "   user  system elapsed \n",
      " 20.868  13.019  16.969 \n",
      "Run MR-APSS (C = I), i.e. MR-APSS not accounting for sample structure ... \n",
      "IV selection threshold: 5e-05 \n",
      "***********************************************************\n",
      "MR test results of  Depression  on  Hair_Black : \n",
      "MR-APSS: beta =  -0.0872 , beta.se =  0.1 , p-value =  3.8335e-01 . \n",
      "Total NO. of IVs=  197 , NO. of valid IVs with foreground signals:  94.33847 . \n",
      "***********************************************************\n",
      "   user  system elapsed \n",
      " 48.170  30.635  39.900 \n",
      "Run MR-APSS not accounting for selection bias ... \n",
      "IV selection threshold: 5e-05 \n"
     ]
    },
    {
     "name": "stderr",
     "output_type": "stream",
     "text": [
      "Threshold = 1, the model will not correct for selection bias\n",
      "\n"
     ]
    },
    {
     "name": "stdout",
     "output_type": "stream",
     "text": [
      "***********************************************************\n",
      "MR test results of  Depression  on  Hair_Black : \n",
      "MR-APSS: beta =  -0.0103 , beta.se =  0.0247 , p-value =  6.7563e-01 . \n",
      "Total NO. of IVs=  197 , NO. of valid IVs with foreground signals:  196.9803 . \n",
      "***********************************************************\n",
      "   user  system elapsed \n",
      "  0.944   0.697   0.820 \n",
      "Pair:  Depression ~ Hair_Blonde \n",
      "Run MR-APSS ... \n",
      "IV selection threshold: 5e-05 \n",
      "***********************************************************\n",
      "MR test results of  Depression  on  Hair_Blonde : \n",
      "MR-APSS: beta =  0.1626 , beta.se =  0.11 , p-value =  1.3946e-01 . \n",
      "Total NO. of IVs=  197 , NO. of valid IVs with foreground signals:  55.62668 . \n",
      "***********************************************************\n",
      "   user  system elapsed \n",
      " 52.022  32.746  43.010 \n",
      "Run MR-APSS (Omega = 0), i.e. MR-APSS not accounting for polygenicity and pleiotropy. ... \n",
      "IV selection threshold: 5e-05 \n",
      "***********************************************************\n",
      "MR test results of  Depression  on  Hair_Blonde : \n",
      "MR-APSS: beta =  0.0797 , beta.se =  0.0572 , p-value =  1.6351e-01 . \n",
      "Total NO. of IVs=  197 , NO. of valid IVs with foreground signals:  130.3052 . \n",
      "***********************************************************\n",
      "   user  system elapsed \n",
      " 27.690  17.158  22.448 \n",
      "Run MR-APSS (C = I), i.e. MR-APSS not accounting for sample structure ... \n",
      "IV selection threshold: 5e-05 \n",
      "***********************************************************\n",
      "MR test results of  Depression  on  Hair_Blonde : \n",
      "MR-APSS: beta =  0.1606 , beta.se =  0.0875 , p-value =  6.6393e-02 . \n",
      "Total NO. of IVs=  197 , NO. of valid IVs with foreground signals:  100.2749 . \n",
      "***********************************************************\n",
      "   user  system elapsed \n",
      " 70.575  44.538  58.298 \n",
      "Run MR-APSS not accounting for selection bias ... \n",
      "IV selection threshold: 5e-05 \n"
     ]
    },
    {
     "name": "stderr",
     "output_type": "stream",
     "text": [
      "Threshold = 1, the model will not correct for selection bias\n",
      "\n"
     ]
    },
    {
     "name": "stdout",
     "output_type": "stream",
     "text": [
      "***********************************************************\n",
      "MR test results of  Depression  on  Hair_Blonde : \n",
      "MR-APSS: beta =  0.0316 , beta.se =  0.0236 , p-value =  1.7937e-01 . \n",
      "Total NO. of IVs=  197 , NO. of valid IVs with foreground signals:  196.9803 . \n",
      "***********************************************************\n",
      "   user  system elapsed \n",
      "  1.250   0.801   1.069 \n",
      "Pair:  Depression ~ Tanning \n",
      "Run MR-APSS ... \n",
      "IV selection threshold: 5e-05 \n",
      "***********************************************************\n",
      "MR test results of  Depression  on  Tanning : \n",
      "MR-APSS: beta =  -0.3515 , beta.se =  0.5367 , p-value =  5.1250e-01 . \n",
      "Total NO. of IVs=  197 , NO. of valid IVs with foreground signals:  6.319291 . \n",
      "***********************************************************\n",
      "   user  system elapsed \n",
      "  7.907   4.989   7.001 \n",
      "Run MR-APSS (Omega = 0), i.e. MR-APSS not accounting for polygenicity and pleiotropy. ... \n",
      "IV selection threshold: 5e-05 \n",
      "***********************************************************\n",
      "MR test results of  Depression  on  Tanning : \n",
      "MR-APSS: beta =  0.0849 , beta.se =  0.1107 , p-value =  4.4286e-01 . \n",
      "Total NO. of IVs=  197 , NO. of valid IVs with foreground signals:  86.2693 . \n",
      "***********************************************************\n",
      "   user  system elapsed \n",
      " 16.939  10.368  13.802 \n",
      "Run MR-APSS (C = I), i.e. MR-APSS not accounting for sample structure ... \n",
      "IV selection threshold: 5e-05 \n",
      "***********************************************************\n",
      "MR test results of  Depression  on  Tanning : \n",
      "MR-APSS: beta =  -0.0413 , beta.se =  0.21 , p-value =  8.4422e-01 . \n",
      "Total NO. of IVs=  197 , NO. of valid IVs with foreground signals:  36.19323 . \n",
      "***********************************************************\n",
      "   user  system elapsed \n",
      " 18.401  11.302  16.043 \n",
      "Run MR-APSS not accounting for selection bias ... \n",
      "IV selection threshold: 5e-05 \n"
     ]
    },
    {
     "name": "stderr",
     "output_type": "stream",
     "text": [
      "Threshold = 1, the model will not correct for selection bias\n",
      "\n"
     ]
    },
    {
     "name": "stdout",
     "output_type": "stream",
     "text": [
      "***********************************************************\n",
      "MR test results of  Depression  on  Tanning : \n",
      "MR-APSS: beta =  0.0373 , beta.se =  0.0341 , p-value =  2.7403e-01 . \n",
      "Total NO. of IVs=  197 , NO. of valid IVs with foreground signals:  196.9803 . \n",
      "***********************************************************\n",
      "   user  system elapsed \n",
      "  1.572   0.940   1.256 \n",
      "Pair:  IBD ~ Hair_Light_Brown \n",
      "Run MR-APSS ... \n",
      "IV selection threshold: 5e-05 \n",
      "***********************************************************\n",
      "MR test results of  IBD  on  Hair_Light_Brown : \n",
      "MR-APSS: beta =  -0.0013 , beta.se =  0.0101 , p-value =  8.9878e-01 . \n",
      "Total NO. of IVs=  361 , NO. of valid IVs with foreground signals:  133.5501 . \n",
      "***********************************************************\n",
      "   user  system elapsed \n",
      "  6.486   3.644   5.466 \n",
      "Run MR-APSS (Omega = 0), i.e. MR-APSS not accounting for polygenicity and pleiotropy. ... \n",
      "IV selection threshold: 5e-05 \n",
      "***********************************************************\n",
      "MR test results of  IBD  on  Hair_Light_Brown : \n",
      "MR-APSS: beta =  -0.0028 , beta.se =  0.0098 , p-value =  7.7783e-01 . \n",
      "Total NO. of IVs=  361 , NO. of valid IVs with foreground signals:  146.668 . \n",
      "***********************************************************\n",
      "   user  system elapsed \n",
      "  7.378   4.434   6.411 \n",
      "Run MR-APSS (C = I), i.e. MR-APSS not accounting for sample structure ... \n",
      "IV selection threshold: 5e-05 \n",
      "***********************************************************\n",
      "MR test results of  IBD  on  Hair_Light_Brown : \n",
      "MR-APSS: beta =  0.0024 , beta.se =  0.0085 , p-value =  7.7342e-01 . \n",
      "Total NO. of IVs=  361 , NO. of valid IVs with foreground signals:  216.3082 . \n",
      "***********************************************************\n",
      "   user  system elapsed \n",
      "  8.812   4.821   7.922 \n",
      "Run MR-APSS not accounting for selection bias ... \n",
      "IV selection threshold: 5e-05 \n"
     ]
    },
    {
     "name": "stderr",
     "output_type": "stream",
     "text": [
      "Threshold = 1, the model will not correct for selection bias\n",
      "\n"
     ]
    },
    {
     "name": "stdout",
     "output_type": "stream",
     "text": [
      "***********************************************************\n",
      "MR test results of  IBD  on  Hair_Light_Brown : \n",
      "MR-APSS: beta =  2e-04 , beta.se =  0.0056 , p-value =  9.6538e-01 . \n",
      "Total NO. of IVs=  361 , NO. of valid IVs with foreground signals:  360.9639 . \n",
      "***********************************************************\n",
      "   user  system elapsed \n",
      "  4.695   2.890   3.832 \n",
      "Pair:  IBD ~ Hair_Dark_Brown \n",
      "Run MR-APSS ... \n",
      "IV selection threshold: 5e-05 \n",
      "***********************************************************\n",
      "MR test results of  IBD  on  Hair_Dark_Brown : \n",
      "MR-APSS: beta =  0.0043 , beta.se =  0.0138 , p-value =  7.5671e-01 . \n",
      "Total NO. of IVs=  361 , NO. of valid IVs with foreground signals:  133.3124 . \n",
      "***********************************************************\n",
      "   user  system elapsed \n",
      "  6.447   3.891   5.412 \n",
      "Run MR-APSS (Omega = 0), i.e. MR-APSS not accounting for polygenicity and pleiotropy. ... \n",
      "IV selection threshold: 5e-05 \n",
      "***********************************************************\n",
      "MR test results of  IBD  on  Hair_Dark_Brown : \n",
      "MR-APSS: beta =  0.0063 , beta.se =  0.0132 , p-value =  6.3137e-01 . \n",
      "Total NO. of IVs=  361 , NO. of valid IVs with foreground signals:  150.672 . \n",
      "***********************************************************\n",
      "   user  system elapsed \n",
      "  8.606   4.903   7.547 \n",
      "Run MR-APSS (C = I), i.e. MR-APSS not accounting for sample structure ... \n",
      "IV selection threshold: 5e-05 \n",
      "***********************************************************\n",
      "MR test results of  IBD  on  Hair_Dark_Brown : \n",
      "MR-APSS: beta =  -7e-04 , beta.se =  0.0103 , p-value =  9.4248e-01 . \n",
      "Total NO. of IVs=  361 , NO. of valid IVs with foreground signals:  211.452 . \n",
      "***********************************************************\n",
      "   user  system elapsed \n",
      "  8.614   5.277   7.333 \n",
      "Run MR-APSS not accounting for selection bias ... \n",
      "IV selection threshold: 5e-05 \n"
     ]
    },
    {
     "name": "stderr",
     "output_type": "stream",
     "text": [
      "Threshold = 1, the model will not correct for selection bias\n",
      "\n"
     ]
    },
    {
     "name": "stdout",
     "output_type": "stream",
     "text": [
      "***********************************************************\n",
      "MR test results of  IBD  on  Hair_Dark_Brown : \n",
      "MR-APSS: beta =  4e-04 , beta.se =  0.0072 , p-value =  9.5213e-01 . \n",
      "Total NO. of IVs=  361 , NO. of valid IVs with foreground signals:  360.9639 . \n",
      "***********************************************************\n",
      "   user  system elapsed \n",
      "  4.112   2.295   3.439 \n",
      "Pair:  IBD ~ Hair_Black \n",
      "Run MR-APSS ... \n",
      "IV selection threshold: 5e-05 \n",
      "***********************************************************\n",
      "MR test results of  IBD  on  Hair_Black : \n",
      "MR-APSS: beta =  0.0131 , beta.se =  0.0122 , p-value =  2.8205e-01 . \n",
      "Total NO. of IVs=  361 , NO. of valid IVs with foreground signals:  133.5265 . \n",
      "***********************************************************\n",
      "   user  system elapsed \n",
      "  7.081   4.385   6.064 \n",
      "Run MR-APSS (Omega = 0), i.e. MR-APSS not accounting for polygenicity and pleiotropy. ... \n",
      "IV selection threshold: 5e-05 \n",
      "***********************************************************\n",
      "MR test results of  IBD  on  Hair_Black : \n",
      "MR-APSS: beta =  0.0119 , beta.se =  0.0116 , p-value =  3.0470e-01 . \n",
      "Total NO. of IVs=  361 , NO. of valid IVs with foreground signals:  147.1143 . \n",
      "***********************************************************\n",
      "   user  system elapsed \n",
      "  7.676   4.689   6.354 \n",
      "Run MR-APSS (C = I), i.e. MR-APSS not accounting for sample structure ... \n",
      "IV selection threshold: 5e-05 \n",
      "***********************************************************\n",
      "MR test results of  IBD  on  Hair_Black : \n",
      "MR-APSS: beta =  0.0101 , beta.se =  0.01 , p-value =  3.1182e-01 . \n",
      "Total NO. of IVs=  361 , NO. of valid IVs with foreground signals:  220.0919 . \n",
      "***********************************************************\n",
      "   user  system elapsed \n",
      " 11.075   6.349   9.468 \n",
      "Run MR-APSS not accounting for selection bias ... \n",
      "IV selection threshold: 5e-05 \n"
     ]
    },
    {
     "name": "stderr",
     "output_type": "stream",
     "text": [
      "Threshold = 1, the model will not correct for selection bias\n",
      "\n"
     ]
    },
    {
     "name": "stdout",
     "output_type": "stream",
     "text": [
      "***********************************************************\n",
      "MR test results of  IBD  on  Hair_Black : \n",
      "MR-APSS: beta =  0.0106 , beta.se =  0.0069 , p-value =  1.2567e-01 . \n",
      "Total NO. of IVs=  361 , NO. of valid IVs with foreground signals:  360.9639 . \n",
      "***********************************************************\n",
      "   user  system elapsed \n",
      "  6.999   4.163   5.953 \n",
      "Pair:  IBD ~ Hair_Blonde \n",
      "Run MR-APSS ... \n",
      "IV selection threshold: 5e-05 \n",
      "***********************************************************\n",
      "MR test results of  IBD  on  Hair_Blonde : \n",
      "MR-APSS: beta =  -0.0047 , beta.se =  0.0137 , p-value =  7.3240e-01 . \n",
      "Total NO. of IVs=  361 , NO. of valid IVs with foreground signals:  131.6663 . \n",
      "***********************************************************\n",
      "   user  system elapsed \n",
      "  6.838   3.939   5.995 \n",
      "Run MR-APSS (Omega = 0), i.e. MR-APSS not accounting for polygenicity and pleiotropy. ... \n",
      "IV selection threshold: 5e-05 \n",
      "***********************************************************\n",
      "MR test results of  IBD  on  Hair_Blonde : \n",
      "MR-APSS: beta =  -0.0049 , beta.se =  0.0128 , p-value =  7.0161e-01 . \n",
      "Total NO. of IVs=  361 , NO. of valid IVs with foreground signals:  152.4659 . \n",
      "***********************************************************\n",
      "   user  system elapsed \n",
      "  8.689   4.954   7.716 \n",
      "Run MR-APSS (C = I), i.e. MR-APSS not accounting for sample structure ... \n",
      "IV selection threshold: 5e-05 \n",
      "***********************************************************\n",
      "MR test results of  IBD  on  Hair_Blonde : \n",
      "MR-APSS: beta =  -0.0023 , beta.se =  0.0107 , p-value =  8.3295e-01 . \n",
      "Total NO. of IVs=  361 , NO. of valid IVs with foreground signals:  204.8317 . \n",
      "***********************************************************\n",
      "   user  system elapsed \n",
      "  8.622   5.437   7.162 \n",
      "Run MR-APSS not accounting for selection bias ... \n",
      "IV selection threshold: 5e-05 \n"
     ]
    },
    {
     "name": "stderr",
     "output_type": "stream",
     "text": [
      "Threshold = 1, the model will not correct for selection bias\n",
      "\n"
     ]
    },
    {
     "name": "stdout",
     "output_type": "stream",
     "text": [
      "***********************************************************\n",
      "MR test results of  IBD  on  Hair_Blonde : \n",
      "MR-APSS: beta =  -0.0026 , beta.se =  0.0072 , p-value =  7.1533e-01 . \n",
      "Total NO. of IVs=  361 , NO. of valid IVs with foreground signals:  360.9639 . \n",
      "***********************************************************\n",
      "   user  system elapsed \n",
      "  2.509   1.504   2.044 \n",
      "Pair:  IBD ~ Tanning \n",
      "Run MR-APSS ... \n",
      "IV selection threshold: 5e-05 \n",
      "***********************************************************\n",
      "MR test results of  IBD  on  Tanning : \n",
      "MR-APSS: beta =  0.0082 , beta.se =  0.0124 , p-value =  5.0919e-01 . \n",
      "Total NO. of IVs=  361 , NO. of valid IVs with foreground signals:  132.3326 . \n",
      "***********************************************************\n",
      "   user  system elapsed \n",
      "  8.263   4.694   6.785 \n",
      "Run MR-APSS (Omega = 0), i.e. MR-APSS not accounting for polygenicity and pleiotropy. ... \n",
      "IV selection threshold: 5e-05 \n",
      "***********************************************************\n",
      "MR test results of  IBD  on  Tanning : \n",
      "MR-APSS: beta =  0.009 , beta.se =  0.012 , p-value =  4.5111e-01 . \n",
      "Total NO. of IVs=  361 , NO. of valid IVs with foreground signals:  149.0968 . \n",
      "***********************************************************\n",
      "   user  system elapsed \n",
      "  7.498   4.577   6.227 \n",
      "Run MR-APSS (C = I), i.e. MR-APSS not accounting for sample structure ... \n",
      "IV selection threshold: 5e-05 \n",
      "***********************************************************\n",
      "MR test results of  IBD  on  Tanning : \n",
      "MR-APSS: beta =  9e-04 , beta.se =  0.0097 , p-value =  9.2592e-01 . \n",
      "Total NO. of IVs=  361 , NO. of valid IVs with foreground signals:  219.1481 . \n",
      "***********************************************************\n",
      "   user  system elapsed \n",
      "  8.540   5.117   7.180 \n",
      "Run MR-APSS not accounting for selection bias ... \n",
      "IV selection threshold: 5e-05 \n"
     ]
    },
    {
     "name": "stderr",
     "output_type": "stream",
     "text": [
      "Threshold = 1, the model will not correct for selection bias\n",
      "\n"
     ]
    },
    {
     "name": "stdout",
     "output_type": "stream",
     "text": [
      "***********************************************************\n",
      "MR test results of  IBD  on  Tanning : \n",
      "MR-APSS: beta =  0.0027 , beta.se =  0.0073 , p-value =  7.1384e-01 . \n",
      "Total NO. of IVs=  361 , NO. of valid IVs with foreground signals:  360.9639 . \n",
      "***********************************************************\n",
      "   user  system elapsed \n",
      "  2.085   1.190   1.720 \n",
      "Pair:  MDD ~ Hair_Light_Brown \n",
      "Run MR-APSS ... \n",
      "IV selection threshold: 5e-05 \n",
      "***********************************************************\n",
      "MR test results of  MDD  on  Hair_Light_Brown : \n",
      "MR-APSS: beta =  -0.1632 , beta.se =  0.1952 , p-value =  4.0320e-01 . \n",
      "Total NO. of IVs=  22 , NO. of valid IVs with foreground signals:  21.99699 . \n",
      "***********************************************************\n",
      "   user  system elapsed \n",
      " 15.356   9.943  12.747 \n",
      "Run MR-APSS (Omega = 0), i.e. MR-APSS not accounting for polygenicity and pleiotropy. ... \n",
      "IV selection threshold: 5e-05 \n",
      "***********************************************************\n",
      "MR test results of  MDD  on  Hair_Light_Brown : \n",
      "MR-APSS: beta =  -0.1411 , beta.se =  0.1679 , p-value =  4.0077e-01 . \n",
      "Total NO. of IVs=  22 , NO. of valid IVs with foreground signals:  21.99615 . \n",
      "***********************************************************\n",
      "   user  system elapsed \n",
      "  8.744   5.606   7.263 \n",
      "Run MR-APSS (C = I), i.e. MR-APSS not accounting for sample structure ... \n",
      "IV selection threshold: 5e-05 \n",
      "***********************************************************\n",
      "MR test results of  MDD  on  Hair_Light_Brown : \n",
      "MR-APSS: beta =  -0.2064 , beta.se =  0.2712 , p-value =  4.4674e-01 . \n",
      "Total NO. of IVs=  22 , NO. of valid IVs with foreground signals:  21.9839 . \n",
      "***********************************************************\n",
      "   user  system elapsed \n",
      " 16.664  11.118  15.886 \n",
      "Run MR-APSS not accounting for selection bias ... \n",
      "IV selection threshold: 5e-05 \n"
     ]
    },
    {
     "name": "stderr",
     "output_type": "stream",
     "text": [
      "Threshold = 1, the model will not correct for selection bias\n",
      "\n"
     ]
    },
    {
     "name": "stdout",
     "output_type": "stream",
     "text": [
      "***********************************************************\n",
      "MR test results of  MDD  on  Hair_Light_Brown : \n",
      "MR-APSS: beta =  -0.0136 , beta.se =  0.0553 , p-value =  8.0564e-01 . \n",
      "Total NO. of IVs=  22 , NO. of valid IVs with foreground signals:  21.9978 . \n",
      "***********************************************************\n",
      "   user  system elapsed \n",
      "  1.611   1.018   1.315 \n",
      "Pair:  MDD ~ Hair_Dark_Brown \n",
      "Run MR-APSS ... \n",
      "IV selection threshold: 5e-05 \n",
      "***********************************************************\n",
      "MR test results of  MDD  on  Hair_Dark_Brown : \n",
      "MR-APSS: beta =  0.2841 , beta.se =  0.1882 , p-value =  1.3110e-01 . \n",
      "Total NO. of IVs=  22 , NO. of valid IVs with foreground signals:  21.99695 . \n",
      "***********************************************************\n",
      "   user  system elapsed \n",
      "  4.280   2.784   3.533 \n",
      "Run MR-APSS (Omega = 0), i.e. MR-APSS not accounting for polygenicity and pleiotropy. ... \n",
      "IV selection threshold: 5e-05 \n",
      "***********************************************************\n",
      "MR test results of  MDD  on  Hair_Dark_Brown : \n",
      "MR-APSS: beta =  0.2508 , beta.se =  0.1573 , p-value =  1.1082e-01 . \n",
      "Total NO. of IVs=  22 , NO. of valid IVs with foreground signals:  21.99597 . \n",
      "***********************************************************\n",
      "   user  system elapsed \n",
      "  3.868   2.517   3.193 \n",
      "Run MR-APSS (C = I), i.e. MR-APSS not accounting for sample structure ... \n",
      "IV selection threshold: 5e-05 \n",
      "***********************************************************\n",
      "MR test results of  MDD  on  Hair_Dark_Brown : \n",
      "MR-APSS: beta =  0.3983 , beta.se =  0.2332 , p-value =  8.7650e-02 . \n",
      "Total NO. of IVs=  22 , NO. of valid IVs with foreground signals:  21.9959 . \n",
      "***********************************************************\n",
      "   user  system elapsed \n",
      " 19.861  12.528  16.281 \n",
      "Run MR-APSS not accounting for selection bias ... \n",
      "IV selection threshold: 5e-05 \n"
     ]
    },
    {
     "name": "stderr",
     "output_type": "stream",
     "text": [
      "Threshold = 1, the model will not correct for selection bias\n",
      "\n"
     ]
    },
    {
     "name": "stdout",
     "output_type": "stream",
     "text": [
      "***********************************************************\n",
      "MR test results of  MDD  on  Hair_Dark_Brown : \n",
      "MR-APSS: beta =  0.0758 , beta.se =  0.0582 , p-value =  1.9278e-01 . \n",
      "Total NO. of IVs=  22 , NO. of valid IVs with foreground signals:  21.9978 . \n",
      "***********************************************************\n",
      "   user  system elapsed \n",
      "  0.119   0.088   0.103 \n",
      "Pair:  MDD ~ Hair_Black \n",
      "Run MR-APSS ... \n",
      "IV selection threshold: 5e-05 \n",
      "***********************************************************\n",
      "MR test results of  MDD  on  Hair_Black : \n",
      "MR-APSS: beta =  -0.0016 , beta.se =  0.1704 , p-value =  9.9255e-01 . \n",
      "Total NO. of IVs=  22 , NO. of valid IVs with foreground signals:  21.99696 . \n",
      "***********************************************************\n",
      "   user  system elapsed \n",
      "  5.039   3.040   4.041 \n",
      "Run MR-APSS (Omega = 0), i.e. MR-APSS not accounting for polygenicity and pleiotropy. ... \n",
      "IV selection threshold: 5e-05 \n",
      "***********************************************************\n",
      "MR test results of  MDD  on  Hair_Black : \n",
      "MR-APSS: beta =  0.0364 , beta.se =  0.1365 , p-value =  7.9000e-01 . \n",
      "Total NO. of IVs=  22 , NO. of valid IVs with foreground signals:  21.9971 . \n",
      "***********************************************************\n",
      "   user  system elapsed \n",
      " 21.730  13.628  17.702 \n",
      "Run MR-APSS (C = I), i.e. MR-APSS not accounting for sample structure ... \n",
      "IV selection threshold: 5e-05 \n",
      "***********************************************************\n",
      "MR test results of  MDD  on  Hair_Black : \n",
      "MR-APSS: beta =  -0.0274 , beta.se =  0.2291 , p-value =  9.0479e-01 . \n",
      "Total NO. of IVs=  22 , NO. of valid IVs with foreground signals:  21.98672 . \n",
      "***********************************************************\n",
      "   user  system elapsed \n",
      "  9.037   5.782   7.413 \n",
      "Run MR-APSS not accounting for selection bias ... \n",
      "IV selection threshold: 5e-05 \n"
     ]
    },
    {
     "name": "stderr",
     "output_type": "stream",
     "text": [
      "Threshold = 1, the model will not correct for selection bias\n",
      "\n"
     ]
    },
    {
     "name": "stdout",
     "output_type": "stream",
     "text": [
      "***********************************************************\n",
      "MR test results of  MDD  on  Hair_Black : \n",
      "MR-APSS: beta =  0.0046 , beta.se =  0.0581 , p-value =  9.3727e-01 . \n",
      "Total NO. of IVs=  22 , NO. of valid IVs with foreground signals:  21.9978 . \n",
      "***********************************************************\n",
      "   user  system elapsed \n",
      "  0.121   0.087   0.104 \n",
      "Pair:  MDD ~ Hair_Blonde \n",
      "Run MR-APSS ... \n",
      "IV selection threshold: 5e-05 \n",
      "***********************************************************\n",
      "MR test results of  MDD  on  Hair_Blonde : \n",
      "MR-APSS: beta =  -0.1048 , beta.se =  0.164 , p-value =  5.2281e-01 . \n",
      "Total NO. of IVs=  22 , NO. of valid IVs with foreground signals:  21.99711 . \n",
      "***********************************************************\n",
      "   user  system elapsed \n",
      " 17.100  10.691  14.042 \n",
      "Run MR-APSS (Omega = 0), i.e. MR-APSS not accounting for polygenicity and pleiotropy. ... \n",
      "IV selection threshold: 5e-05 \n",
      "***********************************************************\n",
      "MR test results of  MDD  on  Hair_Blonde : \n",
      "MR-APSS: beta =  -0.0726 , beta.se =  0.1097 , p-value =  5.0831e-01 . \n",
      "Total NO. of IVs=  22 , NO. of valid IVs with foreground signals:  21.99702 . \n",
      "***********************************************************\n",
      "   user  system elapsed \n",
      " 19.072  12.951  16.698 \n",
      "Run MR-APSS (C = I), i.e. MR-APSS not accounting for sample structure ... \n",
      "IV selection threshold: 5e-05 \n",
      "***********************************************************\n",
      "MR test results of  MDD  on  Hair_Blonde : \n",
      "MR-APSS: beta =  -0.1167 , beta.se =  0.1983 , p-value =  5.5626e-01 . \n",
      "Total NO. of IVs=  22 , NO. of valid IVs with foreground signals:  21.99722 . \n",
      "***********************************************************\n",
      "   user  system elapsed \n",
      " 16.483  10.313  13.415 \n",
      "Run MR-APSS not accounting for selection bias ... \n",
      "IV selection threshold: 5e-05 \n"
     ]
    },
    {
     "name": "stderr",
     "output_type": "stream",
     "text": [
      "Threshold = 1, the model will not correct for selection bias\n",
      "\n"
     ]
    },
    {
     "name": "stdout",
     "output_type": "stream",
     "text": [
      "***********************************************************\n",
      "MR test results of  MDD  on  Hair_Blonde : \n",
      "MR-APSS: beta =  -0.0488 , beta.se =  0.0534 , p-value =  3.6149e-01 . \n",
      "Total NO. of IVs=  22 , NO. of valid IVs with foreground signals:  21.9978 . \n",
      "***********************************************************\n",
      "   user  system elapsed \n",
      " 18.671  11.505  15.107 \n",
      "Pair:  MDD ~ Tanning \n",
      "Run MR-APSS ... \n",
      "IV selection threshold: 5e-05 \n",
      "***********************************************************\n",
      "MR test results of  MDD  on  Tanning : \n",
      "MR-APSS: beta =  0.5392 , beta.se =  0.2565 , p-value =  3.5567e-02 . \n",
      "Total NO. of IVs=  22 , NO. of valid IVs with foreground signals:  21.99525 . \n",
      "***********************************************************\n",
      "   user  system elapsed \n",
      "  4.993   3.176   4.090 \n",
      "Run MR-APSS (Omega = 0), i.e. MR-APSS not accounting for polygenicity and pleiotropy. ... \n",
      "IV selection threshold: 5e-05 \n",
      "***********************************************************\n",
      "MR test results of  MDD  on  Tanning : \n",
      "MR-APSS: beta =  0.5002 , beta.se =  0.225 , p-value =  2.6236e-02 . \n",
      "Total NO. of IVs=  22 , NO. of valid IVs with foreground signals:  21.9948 . \n",
      "***********************************************************\n",
      "   user  system elapsed \n",
      "  3.667   2.417   3.046 \n",
      "Run MR-APSS (C = I), i.e. MR-APSS not accounting for sample structure ... \n",
      "IV selection threshold: 5e-05 \n",
      "***********************************************************\n",
      "MR test results of  MDD  on  Tanning : \n",
      "MR-APSS: beta =  0.7054 , beta.se =  0.3255 , p-value =  3.0238e-02 . \n",
      "Total NO. of IVs=  22 , NO. of valid IVs with foreground signals:  21.99449 . \n",
      "***********************************************************\n",
      "   user  system elapsed \n",
      "  6.156   3.685   4.931 \n",
      "Run MR-APSS not accounting for selection bias ... \n",
      "IV selection threshold: 5e-05 \n"
     ]
    },
    {
     "name": "stderr",
     "output_type": "stream",
     "text": [
      "Threshold = 1, the model will not correct for selection bias\n",
      "\n"
     ]
    },
    {
     "name": "stdout",
     "output_type": "stream",
     "text": [
      "***********************************************************\n",
      "MR test results of  MDD  on  Tanning : \n",
      "MR-APSS: beta =  0.1887 , beta.se =  0.0798 , p-value =  1.8005e-02 . \n",
      "Total NO. of IVs=  22 , NO. of valid IVs with foreground signals:  21.9978 . \n",
      "***********************************************************\n",
      "   user  system elapsed \n",
      "  0.972   0.550   0.761 \n",
      "Pair:  SCZ ~ Hair_Light_Brown \n",
      "Run MR-APSS ... \n",
      "IV selection threshold: 5e-05 \n",
      "***********************************************************\n",
      "MR test results of  SCZ  on  Hair_Light_Brown : \n",
      "MR-APSS: beta =  0.0066 , beta.se =  0.016 , p-value =  6.7964e-01 . \n",
      "Total NO. of IVs=  665 , NO. of valid IVs with foreground signals:  153.8225 . \n",
      "***********************************************************\n",
      "   user  system elapsed \n",
      " 38.237  16.948  33.703 \n",
      "Run MR-APSS (Omega = 0), i.e. MR-APSS not accounting for polygenicity and pleiotropy. ... \n",
      "IV selection threshold: 5e-05 \n",
      "***********************************************************\n",
      "MR test results of  SCZ  on  Hair_Light_Brown : \n",
      "MR-APSS: beta =  -0.0053 , beta.se =  0.0102 , p-value =  6.0609e-01 . \n",
      "Total NO. of IVs=  665 , NO. of valid IVs with foreground signals:  332.9214 . \n",
      "***********************************************************\n",
      "   user  system elapsed \n",
      " 25.101  10.283  23.878 \n",
      "Run MR-APSS (C = I), i.e. MR-APSS not accounting for sample structure ... \n",
      "IV selection threshold: 5e-05 \n",
      "***********************************************************\n",
      "MR test results of  SCZ  on  Hair_Light_Brown : \n",
      "MR-APSS: beta =  -0.0186 , beta.se =  0.0116 , p-value =  1.1040e-01 . \n",
      "Total NO. of IVs=  665 , NO. of valid IVs with foreground signals:  426.4587 . \n",
      "***********************************************************\n",
      "   user  system elapsed \n",
      " 71.504  29.404  65.064 \n",
      "Run MR-APSS not accounting for selection bias ... \n",
      "IV selection threshold: 5e-05 \n"
     ]
    },
    {
     "name": "stderr",
     "output_type": "stream",
     "text": [
      "Threshold = 1, the model will not correct for selection bias\n",
      "\n"
     ]
    },
    {
     "name": "stdout",
     "output_type": "stream",
     "text": [
      "***********************************************************\n",
      "MR test results of  SCZ  on  Hair_Light_Brown : \n",
      "MR-APSS: beta =  -0.0134 , beta.se =  0.0059 , p-value =  2.2755e-02 . \n",
      "Total NO. of IVs=  665 , NO. of valid IVs with foreground signals:  664.9335 . \n",
      "***********************************************************\n",
      "   user  system elapsed \n",
      "121.444  48.848 109.870 \n",
      "Pair:  SCZ ~ Hair_Dark_Brown \n",
      "Run MR-APSS ... \n",
      "IV selection threshold: 5e-05 \n",
      "***********************************************************\n",
      "MR test results of  SCZ  on  Hair_Dark_Brown : \n",
      "MR-APSS: beta =  -0.0138 , beta.se =  0.0216 , p-value =  5.2350e-01 . \n",
      "Total NO. of IVs=  665 , NO. of valid IVs with foreground signals:  147.8795 . \n",
      "***********************************************************\n",
      "   user  system elapsed \n",
      " 42.571  17.394  37.585 \n",
      "Run MR-APSS (Omega = 0), i.e. MR-APSS not accounting for polygenicity and pleiotropy. ... \n",
      "IV selection threshold: 5e-05 \n",
      "***********************************************************\n",
      "MR test results of  SCZ  on  Hair_Dark_Brown : \n",
      "MR-APSS: beta =  0.013 , beta.se =  0.0128 , p-value =  3.1201e-01 . \n",
      "Total NO. of IVs=  665 , NO. of valid IVs with foreground signals:  335.4268 . \n",
      "***********************************************************\n",
      "   user  system elapsed \n",
      " 27.902  10.539  25.395 \n",
      "Run MR-APSS (C = I), i.e. MR-APSS not accounting for sample structure ... \n",
      "IV selection threshold: 5e-05 \n",
      "***********************************************************\n",
      "MR test results of  SCZ  on  Hair_Dark_Brown : \n",
      "MR-APSS: beta =  0.0248 , beta.se =  0.0145 , p-value =  8.6388e-02 . \n",
      "Total NO. of IVs=  665 , NO. of valid IVs with foreground signals:  380.8333 . \n",
      "***********************************************************\n",
      "   user  system elapsed \n",
      " 60.374  25.435  52.578 \n",
      "Run MR-APSS not accounting for selection bias ... \n",
      "IV selection threshold: 5e-05 \n"
     ]
    },
    {
     "name": "stderr",
     "output_type": "stream",
     "text": [
      "Threshold = 1, the model will not correct for selection bias\n",
      "\n"
     ]
    },
    {
     "name": "stdout",
     "output_type": "stream",
     "text": [
      "***********************************************************\n",
      "MR test results of  SCZ  on  Hair_Dark_Brown : \n",
      "MR-APSS: beta =  0.0188 , beta.se =  0.0068 , p-value =  5.9171e-03 . \n",
      "Total NO. of IVs=  665 , NO. of valid IVs with foreground signals:  664.9335 . \n",
      "***********************************************************\n",
      "   user  system elapsed \n",
      " 39.375  14.568  37.047 \n",
      "Pair:  SCZ ~ Hair_Black \n",
      "Run MR-APSS ... \n",
      "IV selection threshold: 5e-05 \n",
      "***********************************************************\n",
      "MR test results of  SCZ  on  Hair_Black : \n",
      "MR-APSS: beta =  -0.0025 , beta.se =  0.0167 , p-value =  8.8052e-01 . \n",
      "Total NO. of IVs=  665 , NO. of valid IVs with foreground signals:  157.6666 . \n",
      "***********************************************************\n",
      "   user  system elapsed \n",
      "245.600 103.904 221.359 \n",
      "Run MR-APSS (Omega = 0), i.e. MR-APSS not accounting for polygenicity and pleiotropy. ... \n",
      "IV selection threshold: 5e-05 \n",
      "***********************************************************\n",
      "MR test results of  SCZ  on  Hair_Black : \n",
      "MR-APSS: beta =  -0.013 , beta.se =  0.0113 , p-value =  2.5044e-01 . \n",
      "Total NO. of IVs=  665 , NO. of valid IVs with foreground signals:  343.3708 . \n",
      "***********************************************************\n",
      "   user  system elapsed \n",
      " 26.727  10.900  23.786 \n",
      "Run MR-APSS (C = I), i.e. MR-APSS not accounting for sample structure ... \n",
      "IV selection threshold: 5e-05 \n",
      "***********************************************************\n",
      "MR test results of  SCZ  on  Hair_Black : \n",
      "MR-APSS: beta =  0.0132 , beta.se =  0.0131 , p-value =  3.1112e-01 . \n",
      "Total NO. of IVs=  665 , NO. of valid IVs with foreground signals:  446.5612 . \n",
      "***********************************************************\n",
      "   user  system elapsed \n",
      " 61.437  25.446  56.669 \n",
      "Run MR-APSS not accounting for selection bias ... \n",
      "IV selection threshold: 5e-05 \n"
     ]
    },
    {
     "name": "stderr",
     "output_type": "stream",
     "text": [
      "Threshold = 1, the model will not correct for selection bias\n",
      "\n"
     ]
    },
    {
     "name": "stdout",
     "output_type": "stream",
     "text": [
      "***********************************************************\n",
      "MR test results of  SCZ  on  Hair_Black : \n",
      "MR-APSS: beta =  0.0057 , beta.se =  0.0066 , p-value =  3.8146e-01 . \n",
      "Total NO. of IVs=  665 , NO. of valid IVs with foreground signals:  664.9335 . \n",
      "***********************************************************\n",
      "   user  system elapsed \n",
      "147.999  61.896 132.726 \n",
      "Pair:  SCZ ~ Hair_Blonde \n",
      "Run MR-APSS ... \n",
      "IV selection threshold: 5e-05 \n",
      "***********************************************************\n",
      "MR test results of  SCZ  on  Hair_Blonde : \n",
      "MR-APSS: beta =  0.0137 , beta.se =  0.0213 , p-value =  5.2138e-01 . \n",
      "Total NO. of IVs=  665 , NO. of valid IVs with foreground signals:  139.3764 . \n",
      "***********************************************************\n",
      "   user  system elapsed \n",
      " 50.948  21.902  45.091 \n",
      "Run MR-APSS (Omega = 0), i.e. MR-APSS not accounting for polygenicity and pleiotropy. ... \n",
      "IV selection threshold: 5e-05 \n",
      "***********************************************************\n",
      "MR test results of  SCZ  on  Hair_Blonde : \n",
      "MR-APSS: beta =  0.002 , beta.se =  0.0117 , p-value =  8.6156e-01 . \n",
      "Total NO. of IVs=  665 , NO. of valid IVs with foreground signals:  323.0186 . \n",
      "***********************************************************\n",
      "   user  system elapsed \n",
      " 23.749  10.312  21.103 \n",
      "Run MR-APSS (C = I), i.e. MR-APSS not accounting for sample structure ... \n",
      "IV selection threshold: 5e-05 \n",
      "***********************************************************\n",
      "MR test results of  SCZ  on  Hair_Blonde : \n",
      "MR-APSS: beta =  -0.0131 , beta.se =  0.0137 , p-value =  3.3737e-01 . \n",
      "Total NO. of IVs=  665 , NO. of valid IVs with foreground signals:  360.2457 . \n",
      "***********************************************************\n",
      "   user  system elapsed \n",
      " 56.695  22.360  51.674 \n",
      "Run MR-APSS not accounting for selection bias ... \n",
      "IV selection threshold: 5e-05 \n"
     ]
    },
    {
     "name": "stderr",
     "output_type": "stream",
     "text": [
      "Threshold = 1, the model will not correct for selection bias\n",
      "\n"
     ]
    },
    {
     "name": "stdout",
     "output_type": "stream",
     "text": [
      "***********************************************************\n",
      "MR test results of  SCZ  on  Hair_Blonde : \n",
      "MR-APSS: beta =  -0.0068 , beta.se =  0.0064 , p-value =  2.8432e-01 . \n",
      "Total NO. of IVs=  665 , NO. of valid IVs with foreground signals:  664.9335 . \n",
      "***********************************************************\n",
      "   user  system elapsed \n",
      "  3.223   1.288   2.915 \n",
      "Pair:  SCZ ~ Tanning \n",
      "Run MR-APSS ... \n",
      "IV selection threshold: 5e-05 \n",
      "***********************************************************\n",
      "MR test results of  SCZ  on  Tanning : \n",
      "MR-APSS: beta =  7e-04 , beta.se =  0.0194 , p-value =  9.6946e-01 . \n",
      "Total NO. of IVs=  665 , NO. of valid IVs with foreground signals:  136.3368 . \n",
      "***********************************************************\n",
      "   user  system elapsed \n",
      " 13.583   5.501  12.572 \n",
      "Run MR-APSS (Omega = 0), i.e. MR-APSS not accounting for polygenicity and pleiotropy. ... \n",
      "IV selection threshold: 5e-05 \n",
      "***********************************************************\n",
      "MR test results of  SCZ  on  Tanning : \n",
      "MR-APSS: beta =  0.005 , beta.se =  0.0146 , p-value =  7.3144e-01 . \n",
      "Total NO. of IVs=  665 , NO. of valid IVs with foreground signals:  319.3436 . \n",
      "***********************************************************\n",
      "   user  system elapsed \n",
      " 23.728   9.993  21.608 \n",
      "Run MR-APSS (C = I), i.e. MR-APSS not accounting for sample structure ... \n",
      "IV selection threshold: 5e-05 \n",
      "***********************************************************\n",
      "MR test results of  SCZ  on  Tanning : \n",
      "MR-APSS: beta =  0.006 , beta.se =  0.0165 , p-value =  7.1724e-01 . \n",
      "Total NO. of IVs=  665 , NO. of valid IVs with foreground signals:  342.1307 . \n",
      "***********************************************************\n",
      "   user  system elapsed \n",
      " 38.639  16.118  35.803 \n",
      "Run MR-APSS not accounting for selection bias ... \n",
      "IV selection threshold: 5e-05 \n"
     ]
    },
    {
     "name": "stderr",
     "output_type": "stream",
     "text": [
      "Threshold = 1, the model will not correct for selection bias\n",
      "\n"
     ]
    },
    {
     "name": "stdout",
     "output_type": "stream",
     "text": [
      "***********************************************************\n",
      "MR test results of  SCZ  on  Tanning : \n",
      "MR-APSS: beta =  0.0076 , beta.se =  0.0078 , p-value =  3.3051e-01 . \n",
      "Total NO. of IVs=  665 , NO. of valid IVs with foreground signals:  664.9335 . \n",
      "***********************************************************\n",
      "   user  system elapsed \n",
      " 28.301  11.482  26.218 \n",
      "Pair:  Angina ~ Hair_Light_Brown \n",
      "Run MR-APSS ... \n",
      "IV selection threshold: 5e-05 \n",
      "***********************************************************\n",
      "MR test results of  Angina  on  Hair_Light_Brown : \n",
      "MR-APSS: beta =  -0.101 , beta.se =  0.0601 , p-value =  9.2854e-02 . \n",
      "Total NO. of IVs=  80 , NO. of valid IVs with foreground signals:  22.98337 . \n",
      "***********************************************************\n",
      "   user  system elapsed \n",
      "  2.405   1.557   1.982 \n",
      "Run MR-APSS (Omega = 0), i.e. MR-APSS not accounting for polygenicity and pleiotropy. ... \n",
      "IV selection threshold: 5e-05 \n",
      "***********************************************************\n",
      "MR test results of  Angina  on  Hair_Light_Brown : \n",
      "MR-APSS: beta =  -0.0974 , beta.se =  0.0583 , p-value =  9.5086e-02 . \n",
      "Total NO. of IVs=  80 , NO. of valid IVs with foreground signals:  24.89303 . \n",
      "***********************************************************\n",
      "   user  system elapsed \n",
      "  2.768   1.797   2.296 \n",
      "Run MR-APSS (C = I), i.e. MR-APSS not accounting for sample structure ... \n",
      "IV selection threshold: 5e-05 \n",
      "***********************************************************\n",
      "MR test results of  Angina  on  Hair_Light_Brown : \n",
      "MR-APSS: beta =  -0.1057 , beta.se =  0.0566 , p-value =  6.1892e-02 . \n",
      "Total NO. of IVs=  80 , NO. of valid IVs with foreground signals:  27.70184 . \n",
      "***********************************************************\n",
      "   user  system elapsed \n",
      "  2.642   1.659   2.150 \n",
      "Run MR-APSS not accounting for selection bias ... \n",
      "IV selection threshold: 5e-05 \n"
     ]
    },
    {
     "name": "stderr",
     "output_type": "stream",
     "text": [
      "Threshold = 1, the model will not correct for selection bias\n",
      "\n"
     ]
    },
    {
     "name": "stdout",
     "output_type": "stream",
     "text": [
      "***********************************************************\n",
      "MR test results of  Angina  on  Hair_Light_Brown : \n",
      "MR-APSS: beta =  -0.0661 , beta.se =  0.0286 , p-value =  2.0661e-02 . \n",
      "Total NO. of IVs=  80 , NO. of valid IVs with foreground signals:  79.992 . \n",
      "***********************************************************\n",
      "   user  system elapsed \n",
      "  6.298   3.881   5.137 \n",
      "Pair:  Angina ~ Hair_Dark_Brown \n",
      "Run MR-APSS ... \n",
      "IV selection threshold: 5e-05 \n",
      "***********************************************************\n",
      "MR test results of  Angina  on  Hair_Dark_Brown : \n",
      "MR-APSS: beta =  0.0924 , beta.se =  0.0782 , p-value =  2.3751e-01 . \n",
      "Total NO. of IVs=  80 , NO. of valid IVs with foreground signals:  22.08532 . \n",
      "***********************************************************\n",
      "   user  system elapsed \n",
      "  1.475   1.037   1.256 \n",
      "Run MR-APSS (Omega = 0), i.e. MR-APSS not accounting for polygenicity and pleiotropy. ... \n",
      "IV selection threshold: 5e-05 \n",
      "***********************************************************\n",
      "MR test results of  Angina  on  Hair_Dark_Brown : \n",
      "MR-APSS: beta =  0.0797 , beta.se =  0.0753 , p-value =  2.9000e-01 . \n",
      "Total NO. of IVs=  80 , NO. of valid IVs with foreground signals:  24.88984 . \n",
      "***********************************************************\n",
      "   user  system elapsed \n",
      "  2.010   1.316   1.663 \n",
      "Run MR-APSS (C = I), i.e. MR-APSS not accounting for sample structure ... \n",
      "IV selection threshold: 5e-05 \n",
      "***********************************************************\n",
      "MR test results of  Angina  on  Hair_Dark_Brown : \n",
      "MR-APSS: beta =  0.0862 , beta.se =  0.072 , p-value =  2.3124e-01 . \n",
      "Total NO. of IVs=  80 , NO. of valid IVs with foreground signals:  27.56058 . \n",
      "***********************************************************\n",
      "   user  system elapsed \n",
      "  2.431   1.506   1.982 \n",
      "Run MR-APSS not accounting for selection bias ... \n",
      "IV selection threshold: 5e-05 \n"
     ]
    },
    {
     "name": "stderr",
     "output_type": "stream",
     "text": [
      "Threshold = 1, the model will not correct for selection bias\n",
      "\n"
     ]
    },
    {
     "name": "stdout",
     "output_type": "stream",
     "text": [
      "***********************************************************\n",
      "MR test results of  Angina  on  Hair_Dark_Brown : \n",
      "MR-APSS: beta =  0.0445 , beta.se =  0.0357 , p-value =  2.1291e-01 . \n",
      "Total NO. of IVs=  80 , NO. of valid IVs with foreground signals:  79.992 . \n",
      "***********************************************************\n",
      "   user  system elapsed \n",
      "  2.284   1.479   1.881 \n",
      "Pair:  Angina ~ Hair_Black \n",
      "Run MR-APSS ... \n",
      "IV selection threshold: 5e-05 \n",
      "***********************************************************\n",
      "MR test results of  Angina  on  Hair_Black : \n",
      "MR-APSS: beta =  0.0813 , beta.se =  0.0723 , p-value =  2.6129e-01 . \n",
      "Total NO. of IVs=  80 , NO. of valid IVs with foreground signals:  22.44681 . \n",
      "***********************************************************\n",
      "   user  system elapsed \n",
      "  1.844   1.162   1.604 \n",
      "Run MR-APSS (Omega = 0), i.e. MR-APSS not accounting for polygenicity and pleiotropy. ... \n",
      "IV selection threshold: 5e-05 \n",
      "***********************************************************\n",
      "MR test results of  Angina  on  Hair_Black : \n",
      "MR-APSS: beta =  0.0849 , beta.se =  0.0701 , p-value =  2.2598e-01 . \n",
      "Total NO. of IVs=  80 , NO. of valid IVs with foreground signals:  24.3199 . \n",
      "***********************************************************\n",
      "   user  system elapsed \n",
      "  2.299   1.444   1.871 \n",
      "Run MR-APSS (C = I), i.e. MR-APSS not accounting for sample structure ... \n",
      "IV selection threshold: 5e-05 \n",
      "***********************************************************\n",
      "MR test results of  Angina  on  Hair_Black : \n",
      "MR-APSS: beta =  0.1019 , beta.se =  0.0682 , p-value =  1.3508e-01 . \n",
      "Total NO. of IVs=  80 , NO. of valid IVs with foreground signals:  28.54075 . \n",
      "***********************************************************\n",
      "   user  system elapsed \n",
      "  2.895   1.929   2.436 \n",
      "Run MR-APSS not accounting for selection bias ... \n",
      "IV selection threshold: 5e-05 \n"
     ]
    },
    {
     "name": "stderr",
     "output_type": "stream",
     "text": [
      "Threshold = 1, the model will not correct for selection bias\n",
      "\n"
     ]
    },
    {
     "name": "stdout",
     "output_type": "stream",
     "text": [
      "***********************************************************\n",
      "MR test results of  Angina  on  Hair_Black : \n",
      "MR-APSS: beta =  0.0766 , beta.se =  0.0335 , p-value =  2.2163e-02 . \n",
      "Total NO. of IVs=  80 , NO. of valid IVs with foreground signals:  79.992 . \n",
      "***********************************************************\n",
      "   user  system elapsed \n",
      "  4.317   2.704   3.511 \n",
      "Pair:  Angina ~ Hair_Blonde \n",
      "Run MR-APSS ... \n",
      "IV selection threshold: 5e-05 \n",
      "***********************************************************\n",
      "MR test results of  Angina  on  Hair_Blonde : \n",
      "MR-APSS: beta =  -0.0378 , beta.se =  0.0605 , p-value =  5.3248e-01 . \n",
      "Total NO. of IVs=  80 , NO. of valid IVs with foreground signals:  22.02842 . \n",
      "***********************************************************\n",
      "   user  system elapsed \n",
      "  2.519   1.560   2.040 \n",
      "Run MR-APSS (Omega = 0), i.e. MR-APSS not accounting for polygenicity and pleiotropy. ... \n",
      "IV selection threshold: 5e-05 \n",
      "***********************************************************\n",
      "MR test results of  Angina  on  Hair_Blonde : \n",
      "MR-APSS: beta =  -0.0322 , beta.se =  0.0589 , p-value =  5.8416e-01 . \n",
      "Total NO. of IVs=  80 , NO. of valid IVs with foreground signals:  24.82022 . \n",
      "***********************************************************\n",
      "   user  system elapsed \n",
      "  1.863   1.259   1.561 \n",
      "Run MR-APSS (C = I), i.e. MR-APSS not accounting for sample structure ... \n",
      "IV selection threshold: 5e-05 \n",
      "***********************************************************\n",
      "MR test results of  Angina  on  Hair_Blonde : \n",
      "MR-APSS: beta =  -0.0279 , beta.se =  0.0564 , p-value =  6.2157e-01 . \n",
      "Total NO. of IVs=  80 , NO. of valid IVs with foreground signals:  25.9114 . \n",
      "***********************************************************\n",
      "   user  system elapsed \n",
      "  2.050   1.342   1.739 \n",
      "Run MR-APSS not accounting for selection bias ... \n",
      "IV selection threshold: 5e-05 \n"
     ]
    },
    {
     "name": "stderr",
     "output_type": "stream",
     "text": [
      "Threshold = 1, the model will not correct for selection bias\n",
      "\n"
     ]
    },
    {
     "name": "stdout",
     "output_type": "stream",
     "text": [
      "***********************************************************\n",
      "MR test results of  Angina  on  Hair_Blonde : \n",
      "MR-APSS: beta =  -0.0047 , beta.se =  0.0288 , p-value =  8.7082e-01 . \n",
      "Total NO. of IVs=  80 , NO. of valid IVs with foreground signals:  79.992 . \n",
      "***********************************************************\n",
      "   user  system elapsed \n",
      "  5.665   3.650   4.706 \n",
      "Pair:  Angina ~ Tanning \n",
      "Run MR-APSS ... \n",
      "IV selection threshold: 5e-05 \n",
      "***********************************************************\n",
      "MR test results of  Angina  on  Tanning : \n",
      "MR-APSS: beta =  0.1249 , beta.se =  0.0986 , p-value =  2.0514e-01 . \n",
      "Total NO. of IVs=  80 , NO. of valid IVs with foreground signals:  23.48348 . \n",
      "***********************************************************\n",
      "   user  system elapsed \n",
      "  1.809   1.163   1.485 \n",
      "Run MR-APSS (Omega = 0), i.e. MR-APSS not accounting for polygenicity and pleiotropy. ... \n",
      "IV selection threshold: 5e-05 \n",
      "***********************************************************\n",
      "MR test results of  Angina  on  Tanning : \n",
      "MR-APSS: beta =  0.1229 , beta.se =  0.0937 , p-value =  1.8983e-01 . \n",
      "Total NO. of IVs=  80 , NO. of valid IVs with foreground signals:  26.87833 . \n",
      "***********************************************************\n",
      "   user  system elapsed \n",
      "  2.282   1.482   1.882 \n",
      "Run MR-APSS (C = I), i.e. MR-APSS not accounting for sample structure ... \n",
      "IV selection threshold: 5e-05 \n",
      "***********************************************************\n",
      "MR test results of  Angina  on  Tanning : \n",
      "MR-APSS: beta =  0.1337 , beta.se =  0.0885 , p-value =  1.3084e-01 . \n",
      "Total NO. of IVs=  80 , NO. of valid IVs with foreground signals:  29.48924 . \n",
      "***********************************************************\n",
      "   user  system elapsed \n",
      "  2.216   1.396   1.806 \n",
      "Run MR-APSS not accounting for selection bias ... \n",
      "IV selection threshold: 5e-05 \n"
     ]
    },
    {
     "name": "stderr",
     "output_type": "stream",
     "text": [
      "Threshold = 1, the model will not correct for selection bias\n",
      "\n"
     ]
    },
    {
     "name": "stdout",
     "output_type": "stream",
     "text": [
      "***********************************************************\n",
      "MR test results of  Angina  on  Tanning : \n",
      "MR-APSS: beta =  0.0593 , beta.se =  0.0441 , p-value =  1.7871e-01 . \n",
      "Total NO. of IVs=  80 , NO. of valid IVs with foreground signals:  79.992 . \n",
      "***********************************************************\n",
      "   user  system elapsed \n",
      "  1.034   0.578   0.805 \n",
      "Pair:  CAD ~ Hair_Light_Brown \n",
      "Run MR-APSS ... \n",
      "IV selection threshold: 5e-05 \n",
      "***********************************************************\n",
      "MR test results of  CAD  on  Hair_Light_Brown : \n",
      "MR-APSS: beta =  -0.0114 , beta.se =  0.0175 , p-value =  5.1532e-01 . \n",
      "Total NO. of IVs=  153 , NO. of valid IVs with foreground signals:  146.4898 . \n",
      "***********************************************************\n",
      "   user  system elapsed \n",
      " 14.506   9.086  11.891 \n",
      "Run MR-APSS (Omega = 0), i.e. MR-APSS not accounting for polygenicity and pleiotropy. ... \n",
      "IV selection threshold: 5e-05 \n",
      "***********************************************************\n",
      "MR test results of  CAD  on  Hair_Light_Brown : \n",
      "MR-APSS: beta =  -0.0084 , beta.se =  0.0166 , p-value =  6.1163e-01 . \n",
      "Total NO. of IVs=  153 , NO. of valid IVs with foreground signals:  152.9582 . \n",
      "***********************************************************\n",
      "   user  system elapsed \n",
      "  5.286   3.279   4.287 \n",
      "Run MR-APSS (C = I), i.e. MR-APSS not accounting for sample structure ... \n",
      "IV selection threshold: 5e-05 \n",
      "***********************************************************\n",
      "MR test results of  CAD  on  Hair_Light_Brown : \n",
      "MR-APSS: beta =  -0.0172 , beta.se =  0.0237 , p-value =  4.6951e-01 . \n",
      "Total NO. of IVs=  153 , NO. of valid IVs with foreground signals:  83.12181 . \n",
      "***********************************************************\n",
      "   user  system elapsed \n",
      "  4.444   2.745   3.600 \n",
      "Run MR-APSS not accounting for selection bias ... \n",
      "IV selection threshold: 5e-05 \n"
     ]
    },
    {
     "name": "stderr",
     "output_type": "stream",
     "text": [
      "Threshold = 1, the model will not correct for selection bias\n",
      "\n"
     ]
    },
    {
     "name": "stdout",
     "output_type": "stream",
     "text": [
      "***********************************************************\n",
      "MR test results of  CAD  on  Hair_Light_Brown : \n",
      "MR-APSS: beta =  -0.0089 , beta.se =  0.0151 , p-value =  5.5386e-01 . \n",
      "Total NO. of IVs=  153 , NO. of valid IVs with foreground signals:  152.9847 . \n",
      "***********************************************************\n",
      "   user  system elapsed \n",
      " 15.613  10.099  13.665 \n",
      "Pair:  CAD ~ Hair_Dark_Brown \n",
      "Run MR-APSS ... \n",
      "IV selection threshold: 5e-05 \n",
      "***********************************************************\n",
      "MR test results of  CAD  on  Hair_Dark_Brown : \n",
      "MR-APSS: beta =  0.0074 , beta.se =  0.0234 , p-value =  7.5289e-01 . \n",
      "Total NO. of IVs=  153 , NO. of valid IVs with foreground signals:  139.8189 . \n",
      "***********************************************************\n",
      "   user  system elapsed \n",
      "  7.264   4.798   6.143 \n",
      "Run MR-APSS (Omega = 0), i.e. MR-APSS not accounting for polygenicity and pleiotropy. ... \n",
      "IV selection threshold: 5e-05 \n",
      "***********************************************************\n",
      "MR test results of  CAD  on  Hair_Dark_Brown : \n",
      "MR-APSS: beta =  0.0015 , beta.se =  0.0209 , p-value =  9.4455e-01 . \n",
      "Total NO. of IVs=  153 , NO. of valid IVs with foreground signals:  152.8901 . \n",
      "***********************************************************\n",
      "   user  system elapsed \n",
      "  9.903   6.242   8.154 \n",
      "Run MR-APSS (C = I), i.e. MR-APSS not accounting for sample structure ... \n",
      "IV selection threshold: 5e-05 \n",
      "***********************************************************\n",
      "MR test results of  CAD  on  Hair_Dark_Brown : \n",
      "MR-APSS: beta =  0.0175 , beta.se =  0.0317 , p-value =  5.8065e-01 . \n",
      "Total NO. of IVs=  153 , NO. of valid IVs with foreground signals:  83.89224 . \n",
      "***********************************************************\n",
      "   user  system elapsed \n",
      "  4.120   2.626   3.897 \n",
      "Run MR-APSS not accounting for selection bias ... \n",
      "IV selection threshold: 5e-05 \n"
     ]
    },
    {
     "name": "stderr",
     "output_type": "stream",
     "text": [
      "Threshold = 1, the model will not correct for selection bias\n",
      "\n"
     ]
    },
    {
     "name": "stdout",
     "output_type": "stream",
     "text": [
      "***********************************************************\n",
      "MR test results of  CAD  on  Hair_Dark_Brown : \n",
      "MR-APSS: beta =  0.0025 , beta.se =  0.0193 , p-value =  8.9588e-01 . \n",
      "Total NO. of IVs=  153 , NO. of valid IVs with foreground signals:  152.9847 . \n",
      "***********************************************************\n",
      "   user  system elapsed \n",
      "  0.713   0.464   0.589 \n",
      "Pair:  CAD ~ Hair_Black \n",
      "Run MR-APSS ... \n",
      "IV selection threshold: 5e-05 \n",
      "***********************************************************\n",
      "MR test results of  CAD  on  Hair_Black : \n",
      "MR-APSS: beta =  0.0269 , beta.se =  0.022 , p-value =  2.2243e-01 . \n",
      "Total NO. of IVs=  153 , NO. of valid IVs with foreground signals:  144.6404 . \n",
      "***********************************************************\n",
      "   user  system elapsed \n",
      " 10.671   6.651   8.678 \n",
      "Run MR-APSS (Omega = 0), i.e. MR-APSS not accounting for polygenicity and pleiotropy. ... \n",
      "IV selection threshold: 5e-05 \n",
      "***********************************************************\n",
      "MR test results of  CAD  on  Hair_Black : \n",
      "MR-APSS: beta =  0.0246 , beta.se =  0.0207 , p-value =  2.3508e-01 . \n",
      "Total NO. of IVs=  153 , NO. of valid IVs with foreground signals:  152.9336 . \n",
      "***********************************************************\n",
      "   user  system elapsed \n",
      "  8.656   5.299   6.985 \n",
      "Run MR-APSS (C = I), i.e. MR-APSS not accounting for sample structure ... \n",
      "IV selection threshold: 5e-05 \n",
      "***********************************************************\n",
      "MR test results of  CAD  on  Hair_Black : \n",
      "MR-APSS: beta =  0.0197 , beta.se =  0.0302 , p-value =  5.1323e-01 . \n",
      "Total NO. of IVs=  153 , NO. of valid IVs with foreground signals:  84.92187 . \n",
      "***********************************************************\n",
      "   user  system elapsed \n",
      "  4.798   2.913   3.859 \n",
      "Run MR-APSS not accounting for selection bias ... \n",
      "IV selection threshold: 5e-05 \n"
     ]
    },
    {
     "name": "stderr",
     "output_type": "stream",
     "text": [
      "Threshold = 1, the model will not correct for selection bias\n",
      "\n"
     ]
    },
    {
     "name": "stdout",
     "output_type": "stream",
     "text": [
      "***********************************************************\n",
      "MR test results of  CAD  on  Hair_Black : \n",
      "MR-APSS: beta =  0.0232 , beta.se =  0.0187 , p-value =  2.1391e-01 . \n",
      "Total NO. of IVs=  153 , NO. of valid IVs with foreground signals:  152.9847 . \n",
      "***********************************************************\n",
      "   user  system elapsed \n",
      "  4.095   2.623   3.360 \n",
      "Pair:  CAD ~ Hair_Blonde \n",
      "Run MR-APSS ... \n",
      "IV selection threshold: 5e-05 \n",
      "***********************************************************\n",
      "MR test results of  CAD  on  Hair_Blonde : \n",
      "MR-APSS: beta =  -0.0035 , beta.se =  0.0253 , p-value =  8.9060e-01 . \n",
      "Total NO. of IVs=  153 , NO. of valid IVs with foreground signals:  130.4064 . \n",
      "***********************************************************\n",
      "   user  system elapsed \n",
      "  5.302   3.444   4.384 \n",
      "Run MR-APSS (Omega = 0), i.e. MR-APSS not accounting for polygenicity and pleiotropy. ... \n",
      "IV selection threshold: 5e-05 \n",
      "***********************************************************\n",
      "MR test results of  CAD  on  Hair_Blonde : \n",
      "MR-APSS: beta =  -0.0021 , beta.se =  0.0225 , p-value =  9.2401e-01 . \n",
      "Total NO. of IVs=  153 , NO. of valid IVs with foreground signals:  146.7781 . \n",
      "***********************************************************\n",
      "   user  system elapsed \n",
      "  6.135   3.803   4.972 \n",
      "Run MR-APSS (C = I), i.e. MR-APSS not accounting for sample structure ... \n",
      "IV selection threshold: 5e-05 \n",
      "***********************************************************\n",
      "MR test results of  CAD  on  Hair_Blonde : \n",
      "MR-APSS: beta =  0.0052 , beta.se =  0.0353 , p-value =  8.8304e-01 . \n",
      "Total NO. of IVs=  153 , NO. of valid IVs with foreground signals:  76.48265 . \n",
      "***********************************************************\n",
      "   user  system elapsed \n",
      "  3.384   2.147   2.765 \n",
      "Run MR-APSS not accounting for selection bias ... \n",
      "IV selection threshold: 5e-05 \n"
     ]
    },
    {
     "name": "stderr",
     "output_type": "stream",
     "text": [
      "Threshold = 1, the model will not correct for selection bias\n",
      "\n"
     ]
    },
    {
     "name": "stdout",
     "output_type": "stream",
     "text": [
      "***********************************************************\n",
      "MR test results of  CAD  on  Hair_Blonde : \n",
      "MR-APSS: beta =  -0.002 , beta.se =  0.0198 , p-value =  9.1805e-01 . \n",
      "Total NO. of IVs=  153 , NO. of valid IVs with foreground signals:  152.9847 . \n",
      "***********************************************************\n",
      "   user  system elapsed \n",
      "  1.836   1.148   1.492 \n",
      "Pair:  CAD ~ Tanning \n",
      "Run MR-APSS ... \n",
      "IV selection threshold: 5e-05 \n",
      "***********************************************************\n",
      "MR test results of  CAD  on  Tanning : \n",
      "MR-APSS: beta =  -0.0068 , beta.se =  0.0274 , p-value =  8.0274e-01 . \n",
      "Total NO. of IVs=  153 , NO. of valid IVs with foreground signals:  143.8987 . \n",
      "***********************************************************\n",
      "   user  system elapsed \n",
      "  7.748   4.996   6.377 \n",
      "Run MR-APSS (Omega = 0), i.e. MR-APSS not accounting for polygenicity and pleiotropy. ... \n",
      "IV selection threshold: 5e-05 \n",
      "***********************************************************\n",
      "MR test results of  CAD  on  Tanning : \n",
      "MR-APSS: beta =  -0.008 , beta.se =  0.0257 , p-value =  7.5516e-01 . \n",
      "Total NO. of IVs=  153 , NO. of valid IVs with foreground signals:  152.9456 . \n",
      "***********************************************************\n",
      "   user  system elapsed \n",
      "  6.053   3.806   4.935 \n",
      "Run MR-APSS (C = I), i.e. MR-APSS not accounting for sample structure ... \n",
      "IV selection threshold: 5e-05 \n",
      "***********************************************************\n",
      "MR test results of  CAD  on  Tanning : \n",
      "MR-APSS: beta =  0.006 , beta.se =  0.034 , p-value =  8.5972e-01 . \n",
      "Total NO. of IVs=  153 , NO. of valid IVs with foreground signals:  89.71764 . \n",
      "***********************************************************\n",
      "   user  system elapsed \n",
      "  4.249   2.382   3.947 \n",
      "Run MR-APSS not accounting for selection bias ... \n",
      "IV selection threshold: 5e-05 \n"
     ]
    },
    {
     "name": "stderr",
     "output_type": "stream",
     "text": [
      "Threshold = 1, the model will not correct for selection bias\n",
      "\n"
     ]
    },
    {
     "name": "stdout",
     "output_type": "stream",
     "text": [
      "***********************************************************\n",
      "MR test results of  CAD  on  Tanning : \n",
      "MR-APSS: beta =  -0.0042 , beta.se =  0.023 , p-value =  8.5603e-01 . \n",
      "Total NO. of IVs=  153 , NO. of valid IVs with foreground signals:  152.9847 . \n",
      "***********************************************************\n",
      "   user  system elapsed \n",
      "  2.173   1.248   1.899 \n",
      "Pair:  HBP ~ Hair_Light_Brown \n",
      "Run MR-APSS ... \n",
      "IV selection threshold: 5e-05 \n",
      "***********************************************************\n",
      "MR test results of  HBP  on  Hair_Light_Brown : \n",
      "MR-APSS: beta =  0.0082 , beta.se =  0.0144 , p-value =  5.6893e-01 . \n",
      "Total NO. of IVs=  684 , NO. of valid IVs with foreground signals:  189.462 . \n",
      "***********************************************************\n",
      "   user  system elapsed \n",
      " 10.492   4.349  10.109 \n",
      "Run MR-APSS (Omega = 0), i.e. MR-APSS not accounting for polygenicity and pleiotropy. ... \n",
      "IV selection threshold: 5e-05 \n",
      "***********************************************************\n",
      "MR test results of  HBP  on  Hair_Light_Brown : \n",
      "MR-APSS: beta =  0.0049 , beta.se =  0.0126 , p-value =  6.9657e-01 . \n",
      "Total NO. of IVs=  684 , NO. of valid IVs with foreground signals:  302.7377 . \n",
      "***********************************************************\n",
      "   user  system elapsed \n",
      " 31.158  13.413  26.950 \n",
      "Run MR-APSS (C = I), i.e. MR-APSS not accounting for sample structure ... \n",
      "IV selection threshold: 5e-05 \n",
      "***********************************************************\n",
      "MR test results of  HBP  on  Hair_Light_Brown : \n",
      "MR-APSS: beta =  0.0161 , beta.se =  0.0141 , p-value =  2.5113e-01 . \n",
      "Total NO. of IVs=  684 , NO. of valid IVs with foreground signals:  287.1118 . \n",
      "***********************************************************\n",
      "   user  system elapsed \n",
      " 29.265  12.917  25.632 \n",
      "Run MR-APSS not accounting for selection bias ... \n",
      "IV selection threshold: 5e-05 \n"
     ]
    },
    {
     "name": "stderr",
     "output_type": "stream",
     "text": [
      "Threshold = 1, the model will not correct for selection bias\n",
      "\n"
     ]
    },
    {
     "name": "stdout",
     "output_type": "stream",
     "text": [
      "***********************************************************\n",
      "MR test results of  HBP  on  Hair_Light_Brown : \n",
      "MR-APSS: beta =  0.0159 , beta.se =  0.0093 , p-value =  8.6239e-02 . \n",
      "Total NO. of IVs=  684 , NO. of valid IVs with foreground signals:  683.9313 . \n",
      "***********************************************************\n",
      "   user  system elapsed \n",
      "  2.732   1.345   2.359 \n",
      "Pair:  HBP ~ Hair_Dark_Brown \n",
      "Run MR-APSS ... \n",
      "IV selection threshold: 5e-05 \n",
      "***********************************************************\n",
      "MR test results of  HBP  on  Hair_Dark_Brown : \n",
      "MR-APSS: beta =  -0.0069 , beta.se =  0.0214 , p-value =  7.4598e-01 . \n",
      "Total NO. of IVs=  684 , NO. of valid IVs with foreground signals:  185.912 . \n",
      "***********************************************************\n",
      "   user  system elapsed \n",
      " 19.749   8.148  17.969 \n",
      "Run MR-APSS (Omega = 0), i.e. MR-APSS not accounting for polygenicity and pleiotropy. ... \n",
      "IV selection threshold: 5e-05 \n",
      "***********************************************************\n",
      "MR test results of  HBP  on  Hair_Dark_Brown : \n",
      "MR-APSS: beta =  -0.0016 , beta.se =  0.0165 , p-value =  9.2088e-01 . \n",
      "Total NO. of IVs=  684 , NO. of valid IVs with foreground signals:  306.7883 . \n",
      "***********************************************************\n",
      "   user  system elapsed \n",
      "  8.326   3.468   7.589 \n",
      "Run MR-APSS (C = I), i.e. MR-APSS not accounting for sample structure ... \n",
      "IV selection threshold: 5e-05 \n",
      "***********************************************************\n",
      "MR test results of  HBP  on  Hair_Dark_Brown : \n",
      "MR-APSS: beta =  -0.0174 , beta.se =  0.0187 , p-value =  3.5226e-01 . \n",
      "Total NO. of IVs=  684 , NO. of valid IVs with foreground signals:  279.8082 . \n",
      "***********************************************************\n",
      "   user  system elapsed \n",
      " 15.980   6.264  14.928 \n",
      "Run MR-APSS not accounting for selection bias ... \n",
      "IV selection threshold: 5e-05 \n"
     ]
    },
    {
     "name": "stderr",
     "output_type": "stream",
     "text": [
      "Threshold = 1, the model will not correct for selection bias\n",
      "\n"
     ]
    },
    {
     "name": "stdout",
     "output_type": "stream",
     "text": [
      "***********************************************************\n",
      "MR test results of  HBP  on  Hair_Dark_Brown : \n",
      "MR-APSS: beta =  -0.0196 , beta.se =  0.0114 , p-value =  8.6371e-02 . \n",
      "Total NO. of IVs=  684 , NO. of valid IVs with foreground signals:  683.9312 . \n",
      "***********************************************************\n",
      "   user  system elapsed \n",
      " 20.414   8.138  18.482 \n",
      "Pair:  HBP ~ Hair_Black \n",
      "Run MR-APSS ... \n",
      "IV selection threshold: 5e-05 \n",
      "***********************************************************\n",
      "MR test results of  HBP  on  Hair_Black : \n",
      "MR-APSS: beta =  -0.013 , beta.se =  0.0197 , p-value =  5.0938e-01 . \n",
      "Total NO. of IVs=  684 , NO. of valid IVs with foreground signals:  183.1409 . \n",
      "***********************************************************\n",
      "   user  system elapsed \n",
      " 34.218  13.576  31.248 \n",
      "Run MR-APSS (Omega = 0), i.e. MR-APSS not accounting for polygenicity and pleiotropy. ... \n",
      "IV selection threshold: 5e-05 \n",
      "***********************************************************\n",
      "MR test results of  HBP  on  Hair_Black : \n",
      "MR-APSS: beta =  -0.006 , beta.se =  0.0159 , p-value =  7.0392e-01 . \n",
      "Total NO. of IVs=  684 , NO. of valid IVs with foreground signals:  301.2378 . \n",
      "***********************************************************\n",
      "   user  system elapsed \n",
      " 11.005   4.924   9.914 \n",
      "Run MR-APSS (C = I), i.e. MR-APSS not accounting for sample structure ... \n",
      "IV selection threshold: 5e-05 \n",
      "***********************************************************\n",
      "MR test results of  HBP  on  Hair_Black : \n",
      "MR-APSS: beta =  -0.0107 , beta.se =  0.0173 , p-value =  5.3472e-01 . \n",
      "Total NO. of IVs=  684 , NO. of valid IVs with foreground signals:  281.8265 . \n",
      "***********************************************************\n",
      "   user  system elapsed \n",
      " 14.395   6.156  12.922 \n",
      "Run MR-APSS not accounting for selection bias ... \n",
      "IV selection threshold: 5e-05 \n"
     ]
    },
    {
     "name": "stderr",
     "output_type": "stream",
     "text": [
      "Threshold = 1, the model will not correct for selection bias\n",
      "\n"
     ]
    },
    {
     "name": "stdout",
     "output_type": "stream",
     "text": [
      "***********************************************************\n",
      "MR test results of  HBP  on  Hair_Black : \n",
      "MR-APSS: beta =  0.0013 , beta.se =  0.0109 , p-value =  9.0775e-01 . \n",
      "Total NO. of IVs=  684 , NO. of valid IVs with foreground signals:  683.9314 . \n",
      "***********************************************************\n",
      "   user  system elapsed \n",
      "  3.251   1.267   2.962 \n",
      "Pair:  HBP ~ Hair_Blonde \n",
      "Run MR-APSS ... \n",
      "IV selection threshold: 5e-05 \n",
      "***********************************************************\n",
      "MR test results of  HBP  on  Hair_Blonde : \n",
      "MR-APSS: beta =  -0.0093 , beta.se =  0.022 , p-value =  6.7361e-01 . \n",
      "Total NO. of IVs=  684 , NO. of valid IVs with foreground signals:  182.1211 . \n",
      "***********************************************************\n",
      "   user  system elapsed \n",
      " 14.819   5.951  13.545 \n",
      "Run MR-APSS (Omega = 0), i.e. MR-APSS not accounting for polygenicity and pleiotropy. ... \n",
      "IV selection threshold: 5e-05 \n",
      "***********************************************************\n",
      "MR test results of  HBP  on  Hair_Blonde : \n",
      "MR-APSS: beta =  -0.0136 , beta.se =  0.0174 , p-value =  4.3318e-01 . \n",
      "Total NO. of IVs=  684 , NO. of valid IVs with foreground signals:  305.7154 . \n",
      "***********************************************************\n",
      "   user  system elapsed \n",
      "  9.626   3.713   8.954 \n",
      "Run MR-APSS (C = I), i.e. MR-APSS not accounting for sample structure ... \n",
      "IV selection threshold: 5e-05 \n",
      "***********************************************************\n",
      "MR test results of  HBP  on  Hair_Blonde : \n",
      "MR-APSS: beta =  -0.0077 , beta.se =  0.0188 , p-value =  6.8137e-01 . \n",
      "Total NO. of IVs=  684 , NO. of valid IVs with foreground signals:  271.335 . \n",
      "***********************************************************\n",
      "   user  system elapsed \n",
      " 14.817   6.230  12.981 \n",
      "Run MR-APSS not accounting for selection bias ... \n",
      "IV selection threshold: 5e-05 \n"
     ]
    },
    {
     "name": "stderr",
     "output_type": "stream",
     "text": [
      "Threshold = 1, the model will not correct for selection bias\n",
      "\n"
     ]
    },
    {
     "name": "stdout",
     "output_type": "stream",
     "text": [
      "***********************************************************\n",
      "MR test results of  HBP  on  Hair_Blonde : \n",
      "MR-APSS: beta =  -0.0148 , beta.se =  0.0109 , p-value =  1.7641e-01 . \n",
      "Total NO. of IVs=  684 , NO. of valid IVs with foreground signals:  683.9312 . \n",
      "***********************************************************\n",
      "   user  system elapsed \n",
      " 20.250   8.010  19.966 \n",
      "Pair:  HBP ~ Tanning \n",
      "Run MR-APSS ... \n",
      "IV selection threshold: 5e-05 \n",
      "***********************************************************\n",
      "MR test results of  HBP  on  Tanning : \n",
      "MR-APSS: beta =  -0.0304 , beta.se =  0.0208 , p-value =  1.4476e-01 . \n",
      "Total NO. of IVs=  684 , NO. of valid IVs with foreground signals:  187.5262 . \n",
      "***********************************************************\n",
      "   user  system elapsed \n",
      " 62.661  25.783  56.266 \n",
      "Run MR-APSS (Omega = 0), i.e. MR-APSS not accounting for polygenicity and pleiotropy. ... \n",
      "IV selection threshold: 5e-05 \n",
      "***********************************************************\n",
      "MR test results of  HBP  on  Tanning : \n",
      "MR-APSS: beta =  -0.0245 , beta.se =  0.0181 , p-value =  1.7438e-01 . \n",
      "Total NO. of IVs=  684 , NO. of valid IVs with foreground signals:  313.2691 . \n",
      "***********************************************************\n",
      "   user  system elapsed \n",
      " 10.905   4.444   9.566 \n",
      "Run MR-APSS (C = I), i.e. MR-APSS not accounting for sample structure ... \n",
      "IV selection threshold: 5e-05 \n",
      "***********************************************************\n",
      "MR test results of  HBP  on  Tanning : \n",
      "MR-APSS: beta =  -0.0435 , beta.se =  0.0191 , p-value =  2.3021e-02 . \n",
      "Total NO. of IVs=  684 , NO. of valid IVs with foreground signals:  300.495 . \n",
      "***********************************************************\n",
      "   user  system elapsed \n",
      " 16.527   6.698  14.608 \n",
      "Run MR-APSS not accounting for selection bias ... \n",
      "IV selection threshold: 5e-05 \n"
     ]
    },
    {
     "name": "stderr",
     "output_type": "stream",
     "text": [
      "Threshold = 1, the model will not correct for selection bias\n",
      "\n"
     ]
    },
    {
     "name": "stdout",
     "output_type": "stream",
     "text": [
      "***********************************************************\n",
      "MR test results of  HBP  on  Tanning : \n",
      "MR-APSS: beta =  -0.0411 , beta.se =  0.0125 , p-value =  1.0019e-03 . \n",
      "Total NO. of IVs=  684 , NO. of valid IVs with foreground signals:  683.9312 . \n",
      "***********************************************************\n",
      "   user  system elapsed \n",
      " 83.453  33.048  76.360 \n",
      "Pair:  Income ~ Hair_Light_Brown \n",
      "Run MR-APSS ... \n",
      "IV selection threshold: 5e-05 \n",
      "***********************************************************\n",
      "MR test results of  Income  on  Hair_Light_Brown : \n",
      "MR-APSS: beta =  -0.0209 , beta.se =  0.0543 , p-value =  6.9982e-01 . \n",
      "Total NO. of IVs=  259 , NO. of valid IVs with foreground signals:  63.92506 . \n",
      "***********************************************************\n",
      "   user  system elapsed \n",
      " 55.458  34.443  46.164 \n",
      "Run MR-APSS (Omega = 0), i.e. MR-APSS not accounting for polygenicity and pleiotropy. ... \n",
      "IV selection threshold: 5e-05 \n",
      "***********************************************************\n",
      "MR test results of  Income  on  Hair_Light_Brown : \n",
      "MR-APSS: beta =  -0.0362 , beta.se =  0.0354 , p-value =  3.0649e-01 . \n",
      "Total NO. of IVs=  259 , NO. of valid IVs with foreground signals:  122.6969 . \n",
      "***********************************************************\n",
      "   user  system elapsed \n",
      " 13.264   8.198  10.750 \n",
      "Run MR-APSS (C = I), i.e. MR-APSS not accounting for sample structure ... \n",
      "IV selection threshold: 5e-05 \n",
      "***********************************************************\n",
      "MR test results of  Income  on  Hair_Light_Brown : \n",
      "MR-APSS: beta =  -0.0398 , beta.se =  0.0386 , p-value =  3.0312e-01 . \n",
      "Total NO. of IVs=  259 , NO. of valid IVs with foreground signals:  132.4273 . \n",
      "***********************************************************\n",
      "   user  system elapsed \n",
      " 21.176  13.639  17.440 \n",
      "Run MR-APSS not accounting for selection bias ... \n",
      "IV selection threshold: 5e-05 \n"
     ]
    },
    {
     "name": "stderr",
     "output_type": "stream",
     "text": [
      "Threshold = 1, the model will not correct for selection bias\n",
      "\n"
     ]
    },
    {
     "name": "stdout",
     "output_type": "stream",
     "text": [
      "***********************************************************\n",
      "MR test results of  Income  on  Hair_Light_Brown : \n",
      "MR-APSS: beta =  -0.025 , beta.se =  0.0163 , p-value =  1.2482e-01 . \n",
      "Total NO. of IVs=  259 , NO. of valid IVs with foreground signals:  258.9741 . \n",
      "***********************************************************\n",
      "   user  system elapsed \n",
      " 11.762   7.367  10.014 \n",
      "Pair:  Income ~ Hair_Dark_Brown \n",
      "Run MR-APSS ... \n",
      "IV selection threshold: 5e-05 \n",
      "***********************************************************\n",
      "MR test results of  Income  on  Hair_Dark_Brown : \n",
      "MR-APSS: beta =  0.1946 , beta.se =  0.1038 , p-value =  6.0817e-02 . \n",
      "Total NO. of IVs=  259 , NO. of valid IVs with foreground signals:  39.54418 . \n",
      "***********************************************************\n",
      "   user  system elapsed \n",
      " 12.470   7.704  10.273 \n",
      "Run MR-APSS (Omega = 0), i.e. MR-APSS not accounting for polygenicity and pleiotropy. ... \n",
      "IV selection threshold: 5e-05 \n",
      "***********************************************************\n",
      "MR test results of  Income  on  Hair_Dark_Brown : \n",
      "MR-APSS: beta =  0.1684 , beta.se =  0.0558 , p-value =  2.5612e-03 . \n",
      "Total NO. of IVs=  259 , NO. of valid IVs with foreground signals:  106.4466 . \n",
      "***********************************************************\n",
      "   user  system elapsed \n",
      " 18.507  11.473  15.102 \n",
      "Run MR-APSS (C = I), i.e. MR-APSS not accounting for sample structure ... \n",
      "IV selection threshold: 5e-05 \n",
      "***********************************************************\n",
      "MR test results of  Income  on  Hair_Dark_Brown : \n",
      "MR-APSS: beta =  0.1787 , beta.se =  0.0695 , p-value =  1.0125e-02 . \n",
      "Total NO. of IVs=  259 , NO. of valid IVs with foreground signals:  80.88696 . \n",
      "***********************************************************\n",
      "   user  system elapsed \n",
      " 19.603  12.283  18.979 \n",
      "Run MR-APSS not accounting for selection bias ... \n",
      "IV selection threshold: 5e-05 \n"
     ]
    },
    {
     "name": "stderr",
     "output_type": "stream",
     "text": [
      "Threshold = 1, the model will not correct for selection bias\n",
      "\n"
     ]
    },
    {
     "name": "stdout",
     "output_type": "stream",
     "text": [
      "***********************************************************\n",
      "MR test results of  Income  on  Hair_Dark_Brown : \n",
      "MR-APSS: beta =  0.0831 , beta.se =  0.0222 , p-value =  1.8050e-04 . \n",
      "Total NO. of IVs=  259 , NO. of valid IVs with foreground signals:  258.9741 . \n",
      "***********************************************************\n",
      "   user  system elapsed \n",
      "  6.929   4.370   5.665 \n",
      "Pair:  Income ~ Hair_Black \n",
      "Run MR-APSS ... \n",
      "IV selection threshold: 5e-05 \n",
      "***********************************************************\n",
      "MR test results of  Income  on  Hair_Black : \n",
      "MR-APSS: beta =  -0.02 , beta.se =  0.0642 , p-value =  7.5541e-01 . \n",
      "Total NO. of IVs=  259 , NO. of valid IVs with foreground signals:  56.1299 . \n",
      "***********************************************************\n",
      "   user  system elapsed \n",
      " 22.438  13.930  18.473 \n",
      "Run MR-APSS (Omega = 0), i.e. MR-APSS not accounting for polygenicity and pleiotropy. ... \n",
      "IV selection threshold: 5e-05 \n",
      "***********************************************************\n",
      "MR test results of  Income  on  Hair_Black : \n",
      "MR-APSS: beta =  -0.0555 , beta.se =  0.0414 , p-value =  1.7941e-01 . \n",
      "Total NO. of IVs=  259 , NO. of valid IVs with foreground signals:  114.4626 . \n",
      "***********************************************************\n",
      "   user  system elapsed \n",
      " 15.832   9.843  12.983 \n",
      "Run MR-APSS (C = I), i.e. MR-APSS not accounting for sample structure ... \n",
      "IV selection threshold: 5e-05 \n",
      "***********************************************************\n",
      "MR test results of  Income  on  Hair_Black : \n",
      "MR-APSS: beta =  -0.0523 , beta.se =  0.0449 , p-value =  2.4405e-01 . \n",
      "Total NO. of IVs=  259 , NO. of valid IVs with foreground signals:  122.3621 . \n",
      "***********************************************************\n",
      "   user  system elapsed \n",
      " 24.804  15.496  21.326 \n",
      "Run MR-APSS not accounting for selection bias ... \n",
      "IV selection threshold: 5e-05 \n"
     ]
    },
    {
     "name": "stderr",
     "output_type": "stream",
     "text": [
      "Threshold = 1, the model will not correct for selection bias\n",
      "\n"
     ]
    },
    {
     "name": "stdout",
     "output_type": "stream",
     "text": [
      "***********************************************************\n",
      "MR test results of  Income  on  Hair_Black : \n",
      "MR-APSS: beta =  -0.026 , beta.se =  0.0185 , p-value =  1.5892e-01 . \n",
      "Total NO. of IVs=  259 , NO. of valid IVs with foreground signals:  258.9741 . \n",
      "***********************************************************\n",
      "   user  system elapsed \n",
      " 47.831  29.985  41.061 \n",
      "Pair:  Income ~ Hair_Blonde \n",
      "Run MR-APSS ... \n",
      "IV selection threshold: 5e-05 \n",
      "***********************************************************\n",
      "MR test results of  Income  on  Hair_Blonde : \n",
      "MR-APSS: beta =  0.0085 , beta.se =  0.0485 , p-value =  8.6064e-01 . \n",
      "Total NO. of IVs=  259 , NO. of valid IVs with foreground signals:  59.52205 . \n",
      "***********************************************************\n",
      "   user  system elapsed \n",
      " 11.442   7.223   9.343 \n",
      "Run MR-APSS (Omega = 0), i.e. MR-APSS not accounting for polygenicity and pleiotropy. ... \n",
      "IV selection threshold: 5e-05 \n",
      "***********************************************************\n",
      "MR test results of  Income  on  Hair_Blonde : \n",
      "MR-APSS: beta =  -0.0567 , beta.se =  0.0385 , p-value =  1.4026e-01 . \n",
      "Total NO. of IVs=  259 , NO. of valid IVs with foreground signals:  120.7774 . \n",
      "***********************************************************\n",
      "   user  system elapsed \n",
      " 18.770  11.704  15.414 \n",
      "Run MR-APSS (C = I), i.e. MR-APSS not accounting for sample structure ... \n",
      "IV selection threshold: 5e-05 \n",
      "***********************************************************\n",
      "MR test results of  Income  on  Hair_Blonde : \n",
      "MR-APSS: beta =  -0.0242 , beta.se =  0.041 , p-value =  5.5448e-01 . \n",
      "Total NO. of IVs=  259 , NO. of valid IVs with foreground signals:  125.6268 . \n",
      "***********************************************************\n",
      "   user  system elapsed \n",
      " 31.588  19.613  27.877 \n",
      "Run MR-APSS not accounting for selection bias ... \n",
      "IV selection threshold: 5e-05 \n"
     ]
    },
    {
     "name": "stderr",
     "output_type": "stream",
     "text": [
      "Threshold = 1, the model will not correct for selection bias\n",
      "\n"
     ]
    },
    {
     "name": "stdout",
     "output_type": "stream",
     "text": [
      "***********************************************************\n",
      "MR test results of  Income  on  Hair_Blonde : \n",
      "MR-APSS: beta =  -0.0213 , beta.se =  0.0172 , p-value =  2.1606e-01 . \n",
      "Total NO. of IVs=  259 , NO. of valid IVs with foreground signals:  258.9741 . \n",
      "***********************************************************\n",
      "   user  system elapsed \n",
      "  1.233   0.729   0.980 \n",
      "Pair:  Income ~ Tanning \n",
      "Run MR-APSS ... \n",
      "IV selection threshold: 5e-05 \n",
      "***********************************************************\n",
      "MR test results of  Income  on  Tanning : \n",
      "MR-APSS: beta =  -0.1159 , beta.se =  0.08 , p-value =  1.4733e-01 . \n",
      "Total NO. of IVs=  257 , NO. of valid IVs with foreground signals:  57.1088 . \n",
      "***********************************************************\n",
      "   user  system elapsed \n",
      " 19.625  12.251  16.107 \n",
      "Run MR-APSS (Omega = 0), i.e. MR-APSS not accounting for polygenicity and pleiotropy. ... \n",
      "IV selection threshold: 5e-05 \n",
      "***********************************************************\n",
      "MR test results of  Income  on  Tanning : \n",
      "MR-APSS: beta =  -0.0539 , beta.se =  0.0495 , p-value =  2.7622e-01 . \n",
      "Total NO. of IVs=  257 , NO. of valid IVs with foreground signals:  124.3676 . \n",
      "***********************************************************\n",
      "   user  system elapsed \n",
      " 16.645  10.588  13.653 \n",
      "Run MR-APSS (C = I), i.e. MR-APSS not accounting for sample structure ... \n",
      "IV selection threshold: 5e-05 \n",
      "***********************************************************\n",
      "MR test results of  Income  on  Tanning : \n",
      "MR-APSS: beta =  -0.0123 , beta.se =  0.0531 , p-value =  8.1739e-01 . \n",
      "Total NO. of IVs=  257 , NO. of valid IVs with foreground signals:  136.354 . \n",
      "***********************************************************\n",
      "   user  system elapsed \n",
      " 17.968  11.282  14.651 \n",
      "Run MR-APSS not accounting for selection bias ... \n",
      "IV selection threshold: 5e-05 \n"
     ]
    },
    {
     "name": "stderr",
     "output_type": "stream",
     "text": [
      "Threshold = 1, the model will not correct for selection bias\n",
      "\n"
     ]
    },
    {
     "name": "stdout",
     "output_type": "stream",
     "text": [
      "***********************************************************\n",
      "MR test results of  Income  on  Tanning : \n",
      "MR-APSS: beta =  -0.0038 , beta.se =  0.0215 , p-value =  8.5821e-01 . \n",
      "Total NO. of IVs=  257 , NO. of valid IVs with foreground signals:  256.9743 . \n",
      "***********************************************************\n",
      "   user  system elapsed \n",
      " 13.151   8.117  10.668 \n",
      "Pair:  NEB ~ Hair_Light_Brown \n",
      "Run MR-APSS ... \n",
      "IV selection threshold: 5e-05 \n",
      "***********************************************************\n",
      "MR test results of  NEB  on  Hair_Light_Brown : \n",
      "MR-APSS: beta =  2.5416 , beta.se =  1.5289 , p-value =  9.6442e-02 . \n",
      "Total NO. of IVs=  62 , NO. of valid IVs with foreground signals:  2.463114 . \n",
      "***********************************************************\n",
      "   user  system elapsed \n",
      " 24.087  14.933  19.829 \n",
      "Run MR-APSS (Omega = 0), i.e. MR-APSS not accounting for polygenicity and pleiotropy. ... \n",
      "IV selection threshold: 5e-05 \n",
      "***********************************************************\n",
      "MR test results of  NEB  on  Hair_Light_Brown : \n",
      "MR-APSS: beta =  0.2399 , beta.se =  0.1265 , p-value =  5.7832e-02 . \n",
      "Total NO. of IVs=  62 , NO. of valid IVs with foreground signals:  61.9858 . \n",
      "***********************************************************\n",
      "   user  system elapsed \n",
      " 13.672   9.042  12.368 \n",
      "Run MR-APSS (C = I), i.e. MR-APSS not accounting for sample structure ... \n",
      "IV selection threshold: 5e-05 \n",
      "***********************************************************\n",
      "MR test results of  NEB  on  Hair_Light_Brown : \n",
      "MR-APSS: beta =  3.3234 , beta.se =  2.0464 , p-value =  1.0438e-01 . \n",
      "Total NO. of IVs=  62 , NO. of valid IVs with foreground signals:  3.093155 . \n",
      "***********************************************************\n",
      "   user  system elapsed \n",
      " 52.940  33.657  43.846 \n",
      "Run MR-APSS not accounting for selection bias ... \n",
      "IV selection threshold: 5e-05 \n"
     ]
    },
    {
     "name": "stderr",
     "output_type": "stream",
     "text": [
      "Threshold = 1, the model will not correct for selection bias\n",
      "\n"
     ]
    },
    {
     "name": "stdout",
     "output_type": "stream",
     "text": [
      "***********************************************************\n",
      "MR test results of  NEB  on  Hair_Light_Brown : \n",
      "MR-APSS: beta =  0.1041 , beta.se =  0.0433 , p-value =  1.6340e-02 . \n",
      "Total NO. of IVs=  62 , NO. of valid IVs with foreground signals:  61.9938 . \n",
      "***********************************************************\n",
      "   user  system elapsed \n",
      "  3.225   1.935   2.580 \n",
      "Pair:  NEB ~ Hair_Dark_Brown \n",
      "Run MR-APSS ... \n",
      "IV selection threshold: 5e-05 \n",
      "***********************************************************\n",
      "MR test results of  NEB  on  Hair_Dark_Brown : \n",
      "MR-APSS: beta =  -0.1812 , beta.se =  0.2044 , p-value =  3.7536e-01 . \n",
      "Total NO. of IVs=  61 , NO. of valid IVs with foreground signals:  60.98916 . \n",
      "***********************************************************\n",
      "   user  system elapsed \n",
      " 20.820  12.840  17.191 \n",
      "Run MR-APSS (Omega = 0), i.e. MR-APSS not accounting for polygenicity and pleiotropy. ... \n",
      "IV selection threshold: 5e-05 \n",
      "***********************************************************\n",
      "MR test results of  NEB  on  Hair_Dark_Brown : \n",
      "MR-APSS: beta =  -0.1347 , beta.se =  0.1258 , p-value =  2.8417e-01 . \n",
      "Total NO. of IVs=  61 , NO. of valid IVs with foreground signals:  60.98317 . \n",
      "***********************************************************\n",
      "   user  system elapsed \n",
      " 11.433   7.333   9.385 \n",
      "Run MR-APSS (C = I), i.e. MR-APSS not accounting for sample structure ... \n",
      "IV selection threshold: 5e-05 \n",
      "***********************************************************\n",
      "MR test results of  NEB  on  Hair_Dark_Brown : \n",
      "MR-APSS: beta =  -0.46 , beta.se =  0.3729 , p-value =  2.1737e-01 . \n",
      "Total NO. of IVs=  61 , NO. of valid IVs with foreground signals:  60.61219 . \n",
      "***********************************************************\n",
      "   user  system elapsed \n",
      " 55.691  35.679  46.425 \n",
      "Run MR-APSS not accounting for selection bias ... \n",
      "IV selection threshold: 5e-05 \n"
     ]
    },
    {
     "name": "stderr",
     "output_type": "stream",
     "text": [
      "Threshold = 1, the model will not correct for selection bias\n",
      "\n"
     ]
    },
    {
     "name": "stdout",
     "output_type": "stream",
     "text": [
      "***********************************************************\n",
      "MR test results of  NEB  on  Hair_Dark_Brown : \n",
      "MR-APSS: beta =  -0.062 , beta.se =  0.0442 , p-value =  1.6121e-01 . \n",
      "Total NO. of IVs=  61 , NO. of valid IVs with foreground signals:  60.9939 . \n",
      "***********************************************************\n",
      "   user  system elapsed \n",
      "  0.294   0.188   0.241 \n",
      "Pair:  NEB ~ Hair_Black \n",
      "Run MR-APSS ... \n",
      "IV selection threshold: 5e-05 \n",
      "***********************************************************\n",
      "MR test results of  NEB  on  Hair_Black : \n",
      "MR-APSS: beta =  9.4513 , beta.se =  6.5119 , p-value =  1.4667e-01 . \n",
      "Total NO. of IVs=  62 , NO. of valid IVs with foreground signals:  1.049738 . \n",
      "***********************************************************\n",
      "   user  system elapsed \n",
      " 30.301  18.712  24.507 \n",
      "Run MR-APSS (Omega = 0), i.e. MR-APSS not accounting for polygenicity and pleiotropy. ... \n",
      "IV selection threshold: 5e-05 \n",
      "***********************************************************\n",
      "MR test results of  NEB  on  Hair_Black : \n",
      "MR-APSS: beta =  8.4238 , beta.se =  5.8223 , p-value =  1.4795e-01 . \n",
      "Total NO. of IVs=  62 , NO. of valid IVs with foreground signals:  1.040675 . \n",
      "***********************************************************\n",
      "   user  system elapsed \n",
      " 25.848  16.609  21.228 \n",
      "Run MR-APSS (C = I), i.e. MR-APSS not accounting for sample structure ... \n",
      "IV selection threshold: 5e-05 \n",
      "***********************************************************\n",
      "MR test results of  NEB  on  Hair_Black : \n",
      "MR-APSS: beta =  37.0869 , beta.se =  38.0796 , p-value =  3.3009e-01 . \n",
      "Total NO. of IVs=  62 , NO. of valid IVs with foreground signals:  2.245983 . \n",
      "***********************************************************\n",
      "   user  system elapsed \n",
      "101.186  63.189  83.503 \n",
      "Run MR-APSS not accounting for selection bias ... \n",
      "IV selection threshold: 5e-05 \n"
     ]
    },
    {
     "name": "stderr",
     "output_type": "stream",
     "text": [
      "Threshold = 1, the model will not correct for selection bias\n",
      "\n"
     ]
    },
    {
     "name": "stdout",
     "output_type": "stream",
     "text": [
      "***********************************************************\n",
      "MR test results of  NEB  on  Hair_Black : \n",
      "MR-APSS: beta =  0.0339 , beta.se =  0.0834 , p-value =  6.8465e-01 . \n",
      "Total NO. of IVs=  62 , NO. of valid IVs with foreground signals:  61.9938 . \n",
      "***********************************************************\n",
      "   user  system elapsed \n",
      "  0.787   0.516   0.651 \n",
      "Pair:  NEB ~ Hair_Blonde \n",
      "Run MR-APSS ... \n",
      "IV selection threshold: 5e-05 \n",
      "***********************************************************\n",
      "MR test results of  NEB  on  Hair_Blonde : \n",
      "MR-APSS: beta =  -6.8197 , beta.se =  4.1065 , p-value =  9.6772e-02 . \n",
      "Total NO. of IVs=  62 , NO. of valid IVs with foreground signals:  1.026113 . \n",
      "***********************************************************\n",
      "   user  system elapsed \n",
      " 18.147  11.707  14.927 \n",
      "Run MR-APSS (Omega = 0), i.e. MR-APSS not accounting for polygenicity and pleiotropy. ... \n",
      "IV selection threshold: 5e-05 \n",
      "***********************************************************\n",
      "MR test results of  NEB  on  Hair_Blonde : \n",
      "MR-APSS: beta =  -2.6352 , beta.se =  2.6619 , p-value =  3.2220e-01 . \n",
      "Total NO. of IVs=  62 , NO. of valid IVs with foreground signals:  4.224132 . \n",
      "***********************************************************\n",
      "   user  system elapsed \n",
      " 22.785  14.163  18.500 \n",
      "Run MR-APSS (C = I), i.e. MR-APSS not accounting for sample structure ... \n",
      "IV selection threshold: 5e-05 \n",
      "***********************************************************\n",
      "MR test results of  NEB  on  Hair_Blonde : \n",
      "MR-APSS: beta =  -7.2708 , beta.se =  4.4957 , p-value =  1.0582e-01 . \n",
      "Total NO. of IVs=  62 , NO. of valid IVs with foreground signals:  1.034424 . \n",
      "***********************************************************\n",
      "   user  system elapsed \n",
      " 22.472  15.058  19.405 \n",
      "Run MR-APSS not accounting for selection bias ... \n",
      "IV selection threshold: 5e-05 \n"
     ]
    },
    {
     "name": "stderr",
     "output_type": "stream",
     "text": [
      "Threshold = 1, the model will not correct for selection bias\n",
      "\n"
     ]
    },
    {
     "name": "stdout",
     "output_type": "stream",
     "text": [
      "***********************************************************\n",
      "MR test results of  NEB  on  Hair_Blonde : \n",
      "MR-APSS: beta =  -0.0758 , beta.se =  0.0797 , p-value =  3.4169e-01 . \n",
      "Total NO. of IVs=  62 , NO. of valid IVs with foreground signals:  61.9938 . \n",
      "***********************************************************\n",
      "   user  system elapsed \n",
      "  0.801   0.491   0.646 \n",
      "Pair:  NEB ~ Tanning \n",
      "Run MR-APSS ... \n",
      "IV selection threshold: 5e-05 \n",
      "***********************************************************\n",
      "MR test results of  NEB  on  Tanning : \n",
      "MR-APSS: beta =  0.4618 , beta.se =  0.2652 , p-value =  8.1651e-02 . \n",
      "Total NO. of IVs=  61 , NO. of valid IVs with foreground signals:  60.11979 . \n",
      "***********************************************************\n",
      "   user  system elapsed \n",
      " 58.400  37.265  48.372 \n",
      "Run MR-APSS (Omega = 0), i.e. MR-APSS not accounting for polygenicity and pleiotropy. ... \n",
      "IV selection threshold: 5e-05 \n",
      "***********************************************************\n",
      "MR test results of  NEB  on  Tanning : \n",
      "MR-APSS: beta =  0.4647 , beta.se =  0.1997 , p-value =  1.9998e-02 . \n",
      "Total NO. of IVs=  61 , NO. of valid IVs with foreground signals:  41.07486 . \n",
      "***********************************************************\n",
      "   user  system elapsed \n",
      " 21.432  14.148  20.208 \n",
      "Run MR-APSS (C = I), i.e. MR-APSS not accounting for sample structure ... \n",
      "IV selection threshold: 5e-05 \n",
      "***********************************************************\n",
      "MR test results of  NEB  on  Tanning : \n",
      "MR-APSS: beta =  0.7402 , beta.se =  0.7803 , p-value =  3.4284e-01 . \n",
      "Total NO. of IVs=  61 , NO. of valid IVs with foreground signals:  16.71336 . \n",
      "***********************************************************\n",
      "   user  system elapsed \n",
      " 11.490   7.262   9.402 \n",
      "Run MR-APSS not accounting for selection bias ... \n",
      "IV selection threshold: 5e-05 \n"
     ]
    },
    {
     "name": "stderr",
     "output_type": "stream",
     "text": [
      "Threshold = 1, the model will not correct for selection bias\n",
      "\n"
     ]
    },
    {
     "name": "stdout",
     "output_type": "stream",
     "text": [
      "***********************************************************\n",
      "MR test results of  NEB  on  Tanning : \n",
      "MR-APSS: beta =  0.0469 , beta.se =  0.053 , p-value =  3.7603e-01 . \n",
      "Total NO. of IVs=  61 , NO. of valid IVs with foreground signals:  60.9939 . \n",
      "***********************************************************\n",
      "   user  system elapsed \n",
      "  7.919   5.180   6.576 \n",
      "Pair:  Smoking ~ Hair_Light_Brown \n",
      "Run MR-APSS ... \n",
      "IV selection threshold: 5e-05 \n",
      "***********************************************************\n",
      "MR test results of  Smoking  on  Hair_Light_Brown : \n",
      "MR-APSS: beta =  1e-04 , beta.se =  0.018 , p-value =  9.9355e-01 . \n",
      "Total NO. of IVs=  142 , NO. of valid IVs with foreground signals:  141.9093 . \n",
      "***********************************************************\n",
      "   user  system elapsed \n",
      " 36.569  23.409  30.019 \n",
      "Run MR-APSS (Omega = 0), i.e. MR-APSS not accounting for polygenicity and pleiotropy. ... \n",
      "IV selection threshold: 5e-05 \n",
      "***********************************************************\n",
      "MR test results of  Smoking  on  Hair_Light_Brown : \n",
      "MR-APSS: beta =  0.0072 , beta.se =  0.0318 , p-value =  8.2098e-01 . \n",
      "Total NO. of IVs=  142 , NO. of valid IVs with foreground signals:  141.9604 . \n",
      "***********************************************************\n",
      "   user  system elapsed \n",
      " 12.043   7.768   9.905 \n",
      "Run MR-APSS (C = I), i.e. MR-APSS not accounting for sample structure ... \n",
      "IV selection threshold: 5e-05 \n",
      "***********************************************************\n",
      "MR test results of  Smoking  on  Hair_Light_Brown : \n",
      "MR-APSS: beta =  -0.0423 , beta.se =  0.0638 , p-value =  5.0741e-01 . \n",
      "Total NO. of IVs=  142 , NO. of valid IVs with foreground signals:  83.18493 . \n",
      "***********************************************************\n",
      "   user  system elapsed \n",
      " 37.788  24.616  31.547 \n",
      "Run MR-APSS not accounting for selection bias ... \n",
      "IV selection threshold: 5e-05 \n"
     ]
    },
    {
     "name": "stderr",
     "output_type": "stream",
     "text": [
      "Threshold = 1, the model will not correct for selection bias\n",
      "\n"
     ]
    },
    {
     "name": "stdout",
     "output_type": "stream",
     "text": [
      "***********************************************************\n",
      "MR test results of  Smoking  on  Hair_Light_Brown : \n",
      "MR-APSS: beta =  -0.004 , beta.se =  0.0207 , p-value =  8.4519e-01 . \n",
      "Total NO. of IVs=  142 , NO. of valid IVs with foreground signals:  141.9858 . \n",
      "***********************************************************\n",
      "   user  system elapsed \n",
      "  0.626   0.410   0.518 \n",
      "Pair:  Smoking ~ Hair_Dark_Brown \n",
      "Run MR-APSS ... \n",
      "IV selection threshold: 5e-05 \n",
      "***********************************************************\n",
      "MR test results of  Smoking  on  Hair_Dark_Brown : \n",
      "MR-APSS: beta =  -0.0388 , beta.se =  0.0549 , p-value =  4.7984e-01 . \n",
      "Total NO. of IVs=  142 , NO. of valid IVs with foreground signals:  141.9197 . \n",
      "***********************************************************\n",
      "   user  system elapsed \n",
      " 38.942  24.613  31.889 \n",
      "Run MR-APSS (Omega = 0), i.e. MR-APSS not accounting for polygenicity and pleiotropy. ... \n",
      "IV selection threshold: 5e-05 \n",
      "***********************************************************\n",
      "MR test results of  Smoking  on  Hair_Dark_Brown : \n",
      "MR-APSS: beta =  -0.0346 , beta.se =  0.0358 , p-value =  3.3374e-01 . \n",
      "Total NO. of IVs=  142 , NO. of valid IVs with foreground signals:  141.9534 . \n",
      "***********************************************************\n",
      "   user  system elapsed \n",
      " 14.922   9.578  12.405 \n",
      "Run MR-APSS (C = I), i.e. MR-APSS not accounting for sample structure ... \n",
      "IV selection threshold: 5e-05 \n",
      "***********************************************************\n",
      "MR test results of  Smoking  on  Hair_Dark_Brown : \n",
      "MR-APSS: beta =  -0.0436 , beta.se =  0.07 , p-value =  5.3346e-01 . \n",
      "Total NO. of IVs=  142 , NO. of valid IVs with foreground signals:  82.04255 . \n",
      "***********************************************************\n",
      "   user  system elapsed \n",
      " 31.249  19.841  26.524 \n",
      "Run MR-APSS not accounting for selection bias ... \n",
      "IV selection threshold: 5e-05 \n"
     ]
    },
    {
     "name": "stderr",
     "output_type": "stream",
     "text": [
      "Threshold = 1, the model will not correct for selection bias\n",
      "\n"
     ]
    },
    {
     "name": "stdout",
     "output_type": "stream",
     "text": [
      "***********************************************************\n",
      "MR test results of  Smoking  on  Hair_Dark_Brown : \n",
      "MR-APSS: beta =  -0.0184 , beta.se =  0.0241 , p-value =  4.4635e-01 . \n",
      "Total NO. of IVs=  142 , NO. of valid IVs with foreground signals:  141.9858 . \n",
      "***********************************************************\n",
      "   user  system elapsed \n",
      "  0.553   0.379   0.467 \n",
      "Pair:  Smoking ~ Hair_Black \n",
      "Run MR-APSS ... \n",
      "IV selection threshold: 5e-05 \n",
      "***********************************************************\n",
      "MR test results of  Smoking  on  Hair_Black : \n",
      "MR-APSS: beta =  0.0438 , beta.se =  0.0533 , p-value =  4.1113e-01 . \n",
      "Total NO. of IVs=  142 , NO. of valid IVs with foreground signals:  141.9288 . \n",
      "***********************************************************\n",
      "   user  system elapsed \n",
      " 39.986  25.045  32.544 \n",
      "Run MR-APSS (Omega = 0), i.e. MR-APSS not accounting for polygenicity and pleiotropy. ... \n",
      "IV selection threshold: 5e-05 \n",
      "***********************************************************\n",
      "MR test results of  Smoking  on  Hair_Black : \n",
      "MR-APSS: beta =  0.0241 , beta.se =  0.0355 , p-value =  4.9707e-01 . \n",
      "Total NO. of IVs=  142 , NO. of valid IVs with foreground signals:  141.9692 . \n",
      "***********************************************************\n",
      "   user  system elapsed \n",
      " 12.919   8.206  10.563 \n",
      "Run MR-APSS (C = I), i.e. MR-APSS not accounting for sample structure ... \n",
      "IV selection threshold: 5e-05 \n",
      "***********************************************************\n",
      "MR test results of  Smoking  on  Hair_Black : \n",
      "MR-APSS: beta =  0.1186 , beta.se =  0.0687 , p-value =  8.4279e-02 . \n",
      "Total NO. of IVs=  142 , NO. of valid IVs with foreground signals:  99.9584 . \n",
      "***********************************************************\n",
      "   user  system elapsed \n",
      " 44.741  28.645  37.313 \n",
      "Run MR-APSS not accounting for selection bias ... \n",
      "IV selection threshold: 5e-05 \n"
     ]
    },
    {
     "name": "stderr",
     "output_type": "stream",
     "text": [
      "Threshold = 1, the model will not correct for selection bias\n",
      "\n"
     ]
    },
    {
     "name": "stdout",
     "output_type": "stream",
     "text": [
      "***********************************************************\n",
      "MR test results of  Smoking  on  Hair_Black : \n",
      "MR-APSS: beta =  0.0323 , beta.se =  0.0236 , p-value =  1.7177e-01 . \n",
      "Total NO. of IVs=  142 , NO. of valid IVs with foreground signals:  141.9858 . \n",
      "***********************************************************\n",
      "   user  system elapsed \n",
      "  0.743   0.442   0.622 \n",
      "Pair:  Smoking ~ Hair_Blonde \n",
      "Run MR-APSS ... \n",
      "IV selection threshold: 5e-05 \n",
      "***********************************************************\n",
      "MR test results of  Smoking  on  Hair_Blonde : \n",
      "MR-APSS: beta =  -0.0052 , beta.se =  0.0513 , p-value =  9.1852e-01 . \n",
      "Total NO. of IVs=  142 , NO. of valid IVs with foreground signals:  141.9405 . \n",
      "***********************************************************\n",
      "   user  system elapsed \n",
      " 40.620  25.522  33.106 \n",
      "Run MR-APSS (Omega = 0), i.e. MR-APSS not accounting for polygenicity and pleiotropy. ... \n",
      "IV selection threshold: 5e-05 \n",
      "***********************************************************\n",
      "MR test results of  Smoking  on  Hair_Blonde : \n",
      "MR-APSS: beta =  0.0014 , beta.se =  0.031 , p-value =  9.6375e-01 . \n",
      "Total NO. of IVs=  142 , NO. of valid IVs with foreground signals:  141.9299 . \n",
      "***********************************************************\n",
      "   user  system elapsed \n",
      " 18.817  12.374  16.828 \n",
      "Run MR-APSS (C = I), i.e. MR-APSS not accounting for sample structure ... \n",
      "IV selection threshold: 5e-05 \n",
      "***********************************************************\n",
      "MR test results of  Smoking  on  Hair_Blonde : \n",
      "MR-APSS: beta =  -0.0193 , beta.se =  0.0652 , p-value =  7.6701e-01 . \n",
      "Total NO. of IVs=  142 , NO. of valid IVs with foreground signals:  83.34954 . \n",
      "***********************************************************\n",
      "   user  system elapsed \n",
      " 30.589  18.942  25.544 \n",
      "Run MR-APSS not accounting for selection bias ... \n",
      "IV selection threshold: 5e-05 \n"
     ]
    },
    {
     "name": "stderr",
     "output_type": "stream",
     "text": [
      "Threshold = 1, the model will not correct for selection bias\n",
      "\n"
     ]
    },
    {
     "name": "stdout",
     "output_type": "stream",
     "text": [
      "***********************************************************\n",
      "MR test results of  Smoking  on  Hair_Blonde : \n",
      "MR-APSS: beta =  -0.0068 , beta.se =  0.0226 , p-value =  7.6336e-01 . \n",
      "Total NO. of IVs=  142 , NO. of valid IVs with foreground signals:  141.9858 . \n",
      "***********************************************************\n",
      "   user  system elapsed \n",
      " 20.946  13.355  17.691 \n",
      "Pair:  Smoking ~ Tanning \n",
      "Run MR-APSS ... \n",
      "IV selection threshold: 5e-05 \n",
      "***********************************************************\n",
      "MR test results of  Smoking  on  Tanning : \n",
      "MR-APSS: beta =  0.1858 , beta.se =  0.0641 , p-value =  3.7281e-03 . \n",
      "Total NO. of IVs=  142 , NO. of valid IVs with foreground signals:  141.9506 . \n",
      "***********************************************************\n",
      "   user  system elapsed \n",
      "165.906 105.177 137.495 \n",
      "Run MR-APSS (Omega = 0), i.e. MR-APSS not accounting for polygenicity and pleiotropy. ... \n",
      "IV selection threshold: 5e-05 \n",
      "***********************************************************\n",
      "MR test results of  Smoking  on  Tanning : \n",
      "MR-APSS: beta =  0.2137 , beta.se =  0.0476 , p-value =  7.2055e-06 . \n",
      "Total NO. of IVs=  142 , NO. of valid IVs with foreground signals:  134.2593 . \n",
      "***********************************************************\n",
      "   user  system elapsed \n",
      " 20.192  12.861  17.810 \n",
      "Run MR-APSS (C = I), i.e. MR-APSS not accounting for sample structure ... \n",
      "IV selection threshold: 5e-05 \n",
      "***********************************************************\n",
      "MR test results of  Smoking  on  Tanning : \n",
      "MR-APSS: beta =  0.2089 , beta.se =  0.0904 , p-value =  2.0830e-02 . \n",
      "Total NO. of IVs=  142 , NO. of valid IVs with foreground signals:  80.05047 . \n",
      "***********************************************************\n",
      "   user  system elapsed \n",
      " 33.154  21.520  27.420 \n",
      "Run MR-APSS not accounting for selection bias ... \n",
      "IV selection threshold: 5e-05 \n"
     ]
    },
    {
     "name": "stderr",
     "output_type": "stream",
     "text": [
      "Threshold = 1, the model will not correct for selection bias\n",
      "\n"
     ]
    },
    {
     "name": "stdout",
     "output_type": "stream",
     "text": [
      "***********************************************************\n",
      "MR test results of  Smoking  on  Tanning : \n",
      "MR-APSS: beta =  0.1036 , beta.se =  0.028 , p-value =  2.1647e-04 . \n",
      "Total NO. of IVs=  142 , NO. of valid IVs with foreground signals:  141.9858 . \n",
      "***********************************************************\n",
      "   user  system elapsed \n",
      " 81.663  53.215  67.686 \n",
      "Pair:  Urate ~ Hair_Light_Brown \n",
      "Run MR-APSS ... \n",
      "IV selection threshold: 5e-05 \n",
      "***********************************************************\n",
      "MR test results of  Urate  on  Hair_Light_Brown : \n",
      "MR-APSS: beta =  -0.0093 , beta.se =  0.0193 , p-value =  6.2930e-01 . \n",
      "Total NO. of IVs=  93 , NO. of valid IVs with foreground signals:  73.0868 . \n",
      "***********************************************************\n",
      "   user  system elapsed \n",
      "  2.768   1.728   2.248 \n",
      "Run MR-APSS (Omega = 0), i.e. MR-APSS not accounting for polygenicity and pleiotropy. ... \n",
      "IV selection threshold: 5e-05 \n",
      "***********************************************************\n",
      "MR test results of  Urate  on  Hair_Light_Brown : \n",
      "MR-APSS: beta =  -0.0057 , beta.se =  0.0175 , p-value =  7.4424e-01 . \n",
      "Total NO. of IVs=  93 , NO. of valid IVs with foreground signals:  85.77189 . \n",
      "***********************************************************\n",
      "   user  system elapsed \n",
      "  3.057   2.144   2.615 \n",
      "Run MR-APSS (C = I), i.e. MR-APSS not accounting for sample structure ... \n",
      "IV selection threshold: 5e-05 \n",
      "***********************************************************\n",
      "MR test results of  Urate  on  Hair_Light_Brown : \n",
      "MR-APSS: beta =  -0.0117 , beta.se =  0.0231 , p-value =  6.1112e-01 . \n",
      "Total NO. of IVs=  93 , NO. of valid IVs with foreground signals:  50.38819 . \n",
      "***********************************************************\n",
      "   user  system elapsed \n",
      "  1.790   1.146   1.468 \n",
      "Run MR-APSS not accounting for selection bias ... \n",
      "IV selection threshold: 5e-05 \n"
     ]
    },
    {
     "name": "stderr",
     "output_type": "stream",
     "text": [
      "Threshold = 1, the model will not correct for selection bias\n",
      "\n"
     ]
    },
    {
     "name": "stdout",
     "output_type": "stream",
     "text": [
      "***********************************************************\n",
      "MR test results of  Urate  on  Hair_Light_Brown : \n",
      "MR-APSS: beta =  -0.0034 , beta.se =  0.0156 , p-value =  8.2738e-01 . \n",
      "Total NO. of IVs=  93 , NO. of valid IVs with foreground signals:  92.9907 . \n",
      "***********************************************************\n",
      "   user  system elapsed \n",
      "  1.070   0.701   0.885 \n",
      "Pair:  Urate ~ Hair_Dark_Brown \n",
      "Run MR-APSS ... \n",
      "IV selection threshold: 5e-05 \n",
      "***********************************************************\n",
      "MR test results of  Urate  on  Hair_Dark_Brown : \n",
      "MR-APSS: beta =  0.008 , beta.se =  0.0242 , p-value =  7.4225e-01 . \n",
      "Total NO. of IVs=  93 , NO. of valid IVs with foreground signals:  72.57929 . \n",
      "***********************************************************\n",
      "   user  system elapsed \n",
      "  2.413   1.629   2.023 \n",
      "Run MR-APSS (Omega = 0), i.e. MR-APSS not accounting for polygenicity and pleiotropy. ... \n",
      "IV selection threshold: 5e-05 \n",
      "***********************************************************\n",
      "MR test results of  Urate  on  Hair_Dark_Brown : \n",
      "MR-APSS: beta =  0.0047 , beta.se =  0.0219 , p-value =  8.3174e-01 . \n",
      "Total NO. of IVs=  93 , NO. of valid IVs with foreground signals:  85.01405 . \n",
      "***********************************************************\n",
      "   user  system elapsed \n",
      "  3.056   1.886   2.476 \n",
      "Run MR-APSS (C = I), i.e. MR-APSS not accounting for sample structure ... \n",
      "IV selection threshold: 5e-05 \n",
      "***********************************************************\n",
      "MR test results of  Urate  on  Hair_Dark_Brown : \n",
      "MR-APSS: beta =  0.009 , beta.se =  0.0287 , p-value =  7.5383e-01 . \n",
      "Total NO. of IVs=  93 , NO. of valid IVs with foreground signals:  51.16204 . \n",
      "***********************************************************\n",
      "   user  system elapsed \n",
      "  1.777   1.145   1.461 \n",
      "Run MR-APSS not accounting for selection bias ... \n",
      "IV selection threshold: 5e-05 \n"
     ]
    },
    {
     "name": "stderr",
     "output_type": "stream",
     "text": [
      "Threshold = 1, the model will not correct for selection bias\n",
      "\n"
     ]
    },
    {
     "name": "stdout",
     "output_type": "stream",
     "text": [
      "***********************************************************\n",
      "MR test results of  Urate  on  Hair_Dark_Brown : \n",
      "MR-APSS: beta =  0.0017 , beta.se =  0.0192 , p-value =  9.3001e-01 . \n",
      "Total NO. of IVs=  93 , NO. of valid IVs with foreground signals:  92.9907 . \n",
      "***********************************************************\n",
      "   user  system elapsed \n",
      "  0.459   0.331   0.395 \n",
      "Pair:  Urate ~ Hair_Black \n",
      "Run MR-APSS ... \n",
      "IV selection threshold: 5e-05 \n",
      "***********************************************************\n",
      "MR test results of  Urate  on  Hair_Black : \n",
      "MR-APSS: beta =  0.0151 , beta.se =  0.0193 , p-value =  4.3373e-01 . \n",
      "Total NO. of IVs=  93 , NO. of valid IVs with foreground signals:  75.64876 . \n",
      "***********************************************************\n",
      "   user  system elapsed \n",
      "  5.478   3.552   5.158 \n",
      "Run MR-APSS (Omega = 0), i.e. MR-APSS not accounting for polygenicity and pleiotropy. ... \n",
      "IV selection threshold: 5e-05 \n",
      "***********************************************************\n",
      "MR test results of  Urate  on  Hair_Black : \n",
      "MR-APSS: beta =  0.0148 , beta.se =  0.0176 , p-value =  3.9937e-01 . \n",
      "Total NO. of IVs=  93 , NO. of valid IVs with foreground signals:  89.21599 . \n",
      "***********************************************************\n",
      "   user  system elapsed \n",
      "  5.233   3.513   4.373 \n",
      "Run MR-APSS (C = I), i.e. MR-APSS not accounting for sample structure ... \n",
      "IV selection threshold: 5e-05 \n",
      "***********************************************************\n",
      "MR test results of  Urate  on  Hair_Black : \n",
      "MR-APSS: beta =  0.0136 , beta.se =  0.0238 , p-value =  5.6889e-01 . \n",
      "Total NO. of IVs=  93 , NO. of valid IVs with foreground signals:  51.37188 . \n",
      "***********************************************************\n",
      "   user  system elapsed \n",
      "  1.933   1.276   1.605 \n",
      "Run MR-APSS not accounting for selection bias ... \n",
      "IV selection threshold: 5e-05 \n"
     ]
    },
    {
     "name": "stderr",
     "output_type": "stream",
     "text": [
      "Threshold = 1, the model will not correct for selection bias\n",
      "\n"
     ]
    },
    {
     "name": "stdout",
     "output_type": "stream",
     "text": [
      "***********************************************************\n",
      "MR test results of  Urate  on  Hair_Black : \n",
      "MR-APSS: beta =  0.0119 , beta.se =  0.0161 , p-value =  4.5826e-01 . \n",
      "Total NO. of IVs=  93 , NO. of valid IVs with foreground signals:  92.9907 . \n",
      "***********************************************************\n",
      "   user  system elapsed \n",
      "  6.825   4.684   6.346 \n",
      "Pair:  Urate ~ Hair_Blonde \n",
      "Run MR-APSS ... \n",
      "IV selection threshold: 5e-05 \n",
      "***********************************************************\n",
      "MR test results of  Urate  on  Hair_Blonde : \n",
      "MR-APSS: beta =  -0.0176 , beta.se =  0.0237 , p-value =  4.5859e-01 . \n",
      "Total NO. of IVs=  93 , NO. of valid IVs with foreground signals:  69.35747 . \n",
      "***********************************************************\n",
      "   user  system elapsed \n",
      "  2.605   1.697   2.165 \n",
      "Run MR-APSS (Omega = 0), i.e. MR-APSS not accounting for polygenicity and pleiotropy. ... \n",
      "IV selection threshold: 5e-05 \n",
      "***********************************************************\n",
      "MR test results of  Urate  on  Hair_Blonde : \n",
      "MR-APSS: beta =  -0.0156 , beta.se =  0.0212 , p-value =  4.6253e-01 . \n",
      "Total NO. of IVs=  93 , NO. of valid IVs with foreground signals:  83.56853 . \n",
      "***********************************************************\n",
      "   user  system elapsed \n",
      "  3.045   1.840   2.459 \n",
      "Run MR-APSS (C = I), i.e. MR-APSS not accounting for sample structure ... \n",
      "IV selection threshold: 5e-05 \n",
      "***********************************************************\n",
      "MR test results of  Urate  on  Hair_Blonde : \n",
      "MR-APSS: beta =  -0.0249 , beta.se =  0.03 , p-value =  4.0624e-01 . \n",
      "Total NO. of IVs=  93 , NO. of valid IVs with foreground signals:  46.11633 . \n",
      "***********************************************************\n",
      "   user  system elapsed \n",
      "  1.889   1.144   1.521 \n",
      "Run MR-APSS not accounting for selection bias ... \n",
      "IV selection threshold: 5e-05 \n"
     ]
    },
    {
     "name": "stderr",
     "output_type": "stream",
     "text": [
      "Threshold = 1, the model will not correct for selection bias\n",
      "\n"
     ]
    },
    {
     "name": "stdout",
     "output_type": "stream",
     "text": [
      "***********************************************************\n",
      "MR test results of  Urate  on  Hair_Blonde : \n",
      "MR-APSS: beta =  -0.0116 , beta.se =  0.0185 , p-value =  5.2807e-01 . \n",
      "Total NO. of IVs=  93 , NO. of valid IVs with foreground signals:  92.9907 . \n",
      "***********************************************************\n",
      "   user  system elapsed \n",
      "  1.387   0.868   1.127 \n",
      "Pair:  Urate ~ Tanning \n",
      "Run MR-APSS ... \n",
      "IV selection threshold: 5e-05 \n",
      "***********************************************************\n",
      "MR test results of  Urate  on  Tanning : \n",
      "MR-APSS: beta =  -0.043 , beta.se =  0.0251 , p-value =  8.6602e-02 . \n",
      "Total NO. of IVs=  93 , NO. of valid IVs with foreground signals:  74.59495 . \n",
      "***********************************************************\n",
      "   user  system elapsed \n",
      "  3.623   2.377   3.000 \n",
      "Run MR-APSS (Omega = 0), i.e. MR-APSS not accounting for polygenicity and pleiotropy. ... \n",
      "IV selection threshold: 5e-05 \n",
      "***********************************************************\n",
      "MR test results of  Urate  on  Tanning : \n",
      "MR-APSS: beta =  -0.0423 , beta.se =  0.0238 , p-value =  7.6284e-02 . \n",
      "Total NO. of IVs=  93 , NO. of valid IVs with foreground signals:  81.07556 . \n",
      "***********************************************************\n",
      "   user  system elapsed \n",
      "  2.711   1.712   2.212 \n",
      "Run MR-APSS (C = I), i.e. MR-APSS not accounting for sample structure ... \n",
      "IV selection threshold: 5e-05 \n",
      "***********************************************************\n",
      "MR test results of  Urate  on  Tanning : \n",
      "MR-APSS: beta =  -0.0527 , beta.se =  0.0291 , p-value =  7.0857e-02 . \n",
      "Total NO. of IVs=  93 , NO. of valid IVs with foreground signals:  53.57336 . \n",
      "***********************************************************\n",
      "   user  system elapsed \n",
      "  2.095   1.353   1.738 \n",
      "Run MR-APSS not accounting for selection bias ... \n",
      "IV selection threshold: 5e-05 \n"
     ]
    },
    {
     "name": "stderr",
     "output_type": "stream",
     "text": [
      "Threshold = 1, the model will not correct for selection bias\n",
      "\n"
     ]
    },
    {
     "name": "stdout",
     "output_type": "stream",
     "text": [
      "***********************************************************\n",
      "MR test results of  Urate  on  Tanning : \n",
      "MR-APSS: beta =  -0.0386 , beta.se =  0.0206 , p-value =  6.0809e-02 . \n",
      "Total NO. of IVs=  93 , NO. of valid IVs with foreground signals:  92.9907 . \n",
      "***********************************************************\n",
      "   user  system elapsed \n",
      "  2.051   1.216   1.636 \n",
      "Pair:  Anorexia ~ Hair_Light_Brown \n",
      "Run MR-APSS ... \n",
      "IV selection threshold: 5e-05 \n",
      "***********************************************************\n",
      "MR test results of  Anorexia  on  Hair_Light_Brown : \n",
      "MR-APSS: beta =  -0.0226 , beta.se =  0.0434 , p-value =  6.0216e-01 . \n",
      "Total NO. of IVs=  114 , NO. of valid IVs with foreground signals:  48.52332 . \n",
      "***********************************************************\n",
      "   user  system elapsed \n",
      " 36.267  23.592  30.601 \n",
      "Run MR-APSS (Omega = 0), i.e. MR-APSS not accounting for polygenicity and pleiotropy. ... \n",
      "IV selection threshold: 5e-05 \n",
      "***********************************************************\n",
      "MR test results of  Anorexia  on  Hair_Light_Brown : \n",
      "MR-APSS: beta =  -0.0253 , beta.se =  0.0288 , p-value =  3.8039e-01 . \n",
      "Total NO. of IVs=  114 , NO. of valid IVs with foreground signals:  73.33387 . \n",
      "***********************************************************\n",
      "   user  system elapsed \n",
      " 11.322   7.091   9.206 \n",
      "Run MR-APSS (C = I), i.e. MR-APSS not accounting for sample structure ... \n",
      "IV selection threshold: 5e-05 \n",
      "***********************************************************\n",
      "MR test results of  Anorexia  on  Hair_Light_Brown : \n",
      "MR-APSS: beta =  -0.0381 , beta.se =  0.0331 , p-value =  2.5070e-01 . \n",
      "Total NO. of IVs=  114 , NO. of valid IVs with foreground signals:  86.85396 . \n",
      "***********************************************************\n",
      "   user  system elapsed \n",
      " 26.486  16.322  21.868 \n",
      "Run MR-APSS not accounting for selection bias ... \n",
      "IV selection threshold: 5e-05 \n"
     ]
    },
    {
     "name": "stderr",
     "output_type": "stream",
     "text": [
      "Threshold = 1, the model will not correct for selection bias\n",
      "\n"
     ]
    },
    {
     "name": "stdout",
     "output_type": "stream",
     "text": [
      "***********************************************************\n",
      "MR test results of  Anorexia  on  Hair_Light_Brown : \n",
      "MR-APSS: beta =  -0.0197 , beta.se =  0.0125 , p-value =  1.1650e-01 . \n",
      "Total NO. of IVs=  114 , NO. of valid IVs with foreground signals:  113.9886 . \n",
      "***********************************************************\n",
      "   user  system elapsed \n",
      " 50.924  31.956  41.900 \n",
      "Pair:  Anorexia ~ Hair_Dark_Brown \n",
      "Run MR-APSS ... \n",
      "IV selection threshold: 5e-05 \n",
      "***********************************************************\n",
      "MR test results of  Anorexia  on  Hair_Dark_Brown : \n",
      "MR-APSS: beta =  0.0645 , beta.se =  0.0491 , p-value =  1.8923e-01 . \n",
      "Total NO. of IVs=  114 , NO. of valid IVs with foreground signals:  52.13669 . \n",
      "***********************************************************\n",
      "   user  system elapsed \n",
      " 38.046  25.179  32.954 \n",
      "Run MR-APSS (Omega = 0), i.e. MR-APSS not accounting for polygenicity and pleiotropy. ... \n",
      "IV selection threshold: 5e-05 \n",
      "***********************************************************\n",
      "MR test results of  Anorexia  on  Hair_Dark_Brown : \n",
      "MR-APSS: beta =  0.0637 , beta.se =  0.031 , p-value =  3.9873e-02 . \n",
      "Total NO. of IVs=  114 , NO. of valid IVs with foreground signals:  82.9797 . \n",
      "***********************************************************\n",
      "   user  system elapsed \n",
      " 11.156   7.149   9.153 \n",
      "Run MR-APSS (C = I), i.e. MR-APSS not accounting for sample structure ... \n",
      "IV selection threshold: 5e-05 \n",
      "***********************************************************\n",
      "MR test results of  Anorexia  on  Hair_Dark_Brown : \n",
      "MR-APSS: beta =  0.0755 , beta.se =  0.0381 , p-value =  4.7656e-02 . \n",
      "Total NO. of IVs=  114 , NO. of valid IVs with foreground signals:  84.13737 . \n",
      "***********************************************************\n",
      "   user  system elapsed \n",
      " 21.804  13.511  17.657 \n",
      "Run MR-APSS not accounting for selection bias ... \n",
      "IV selection threshold: 5e-05 \n"
     ]
    },
    {
     "name": "stderr",
     "output_type": "stream",
     "text": [
      "Threshold = 1, the model will not correct for selection bias\n",
      "\n"
     ]
    },
    {
     "name": "stdout",
     "output_type": "stream",
     "text": [
      "***********************************************************\n",
      "MR test results of  Anorexia  on  Hair_Dark_Brown : \n",
      "MR-APSS: beta =  0.0319 , beta.se =  0.0145 , p-value =  2.7068e-02 . \n",
      "Total NO. of IVs=  114 , NO. of valid IVs with foreground signals:  113.9886 . \n",
      "***********************************************************\n",
      "   user  system elapsed \n",
      " 74.856  47.529  61.527 \n",
      "Pair:  Anorexia ~ Hair_Black \n",
      "Run MR-APSS ... \n",
      "IV selection threshold: 5e-05 \n",
      "***********************************************************\n",
      "MR test results of  Anorexia  on  Hair_Black : \n",
      "MR-APSS: beta =  -0.0067 , beta.se =  0.0494 , p-value =  8.9222e-01 . \n",
      "Total NO. of IVs=  114 , NO. of valid IVs with foreground signals:  45.99179 . \n",
      "***********************************************************\n",
      "   user  system elapsed \n",
      " 37.635  23.299  30.591 \n",
      "Run MR-APSS (Omega = 0), i.e. MR-APSS not accounting for polygenicity and pleiotropy. ... \n",
      "IV selection threshold: 5e-05 \n",
      "***********************************************************\n",
      "MR test results of  Anorexia  on  Hair_Black : \n",
      "MR-APSS: beta =  -0.0045 , beta.se =  0.0335 , p-value =  8.9375e-01 . \n",
      "Total NO. of IVs=  114 , NO. of valid IVs with foreground signals:  63.12234 . \n",
      "***********************************************************\n",
      "   user  system elapsed \n",
      "  7.509   4.642   6.082 \n",
      "Run MR-APSS (C = I), i.e. MR-APSS not accounting for sample structure ... \n",
      "IV selection threshold: 5e-05 \n",
      "***********************************************************\n",
      "MR test results of  Anorexia  on  Hair_Black : \n",
      "MR-APSS: beta =  0.0172 , beta.se =  0.0391 , p-value =  6.5920e-01 . \n",
      "Total NO. of IVs=  114 , NO. of valid IVs with foreground signals:  70.81735 . \n",
      "***********************************************************\n",
      "   user  system elapsed \n",
      " 13.817   8.690  11.426 \n",
      "Run MR-APSS not accounting for selection bias ... \n",
      "IV selection threshold: 5e-05 \n"
     ]
    },
    {
     "name": "stderr",
     "output_type": "stream",
     "text": [
      "Threshold = 1, the model will not correct for selection bias\n",
      "\n"
     ]
    },
    {
     "name": "stdout",
     "output_type": "stream",
     "text": [
      "***********************************************************\n",
      "MR test results of  Anorexia  on  Hair_Black : \n",
      "MR-APSS: beta =  0.0052 , beta.se =  0.0143 , p-value =  7.1377e-01 . \n",
      "Total NO. of IVs=  114 , NO. of valid IVs with foreground signals:  113.9886 . \n",
      "***********************************************************\n",
      "   user  system elapsed \n",
      " 85.889  54.620  71.896 \n",
      "Pair:  Anorexia ~ Hair_Blonde \n",
      "Run MR-APSS ... \n",
      "IV selection threshold: 5e-05 \n",
      "***********************************************************\n",
      "MR test results of  Anorexia  on  Hair_Blonde : \n",
      "MR-APSS: beta =  -0.0193 , beta.se =  0.0417 , p-value =  6.4356e-01 . \n",
      "Total NO. of IVs=  114 , NO. of valid IVs with foreground signals:  47.98292 . \n",
      "***********************************************************\n",
      "   user  system elapsed \n",
      " 16.714  10.455  13.641 \n",
      "Run MR-APSS (Omega = 0), i.e. MR-APSS not accounting for polygenicity and pleiotropy. ... \n",
      "IV selection threshold: 5e-05 \n",
      "***********************************************************\n",
      "MR test results of  Anorexia  on  Hair_Blonde : \n",
      "MR-APSS: beta =  -0.0259 , beta.se =  0.0259 , p-value =  3.1637e-01 . \n",
      "Total NO. of IVs=  114 , NO. of valid IVs with foreground signals:  79.64951 . \n",
      "***********************************************************\n",
      "   user  system elapsed \n",
      " 12.679   7.702  10.422 \n",
      "Run MR-APSS (C = I), i.e. MR-APSS not accounting for sample structure ... \n",
      "IV selection threshold: 5e-05 \n",
      "***********************************************************\n",
      "MR test results of  Anorexia  on  Hair_Blonde : \n",
      "MR-APSS: beta =  -0.0271 , beta.se =  0.0332 , p-value =  4.1284e-01 . \n",
      "Total NO. of IVs=  114 , NO. of valid IVs with foreground signals:  80.70243 . \n",
      "***********************************************************\n",
      "   user  system elapsed \n",
      " 25.744  16.075  21.622 \n",
      "Run MR-APSS not accounting for selection bias ... \n",
      "IV selection threshold: 5e-05 \n"
     ]
    },
    {
     "name": "stderr",
     "output_type": "stream",
     "text": [
      "Threshold = 1, the model will not correct for selection bias\n",
      "\n"
     ]
    },
    {
     "name": "stdout",
     "output_type": "stream",
     "text": [
      "***********************************************************\n",
      "MR test results of  Anorexia  on  Hair_Blonde : \n",
      "MR-APSS: beta =  -0.0112 , beta.se =  0.0135 , p-value =  4.0445e-01 . \n",
      "Total NO. of IVs=  114 , NO. of valid IVs with foreground signals:  113.9886 . \n",
      "***********************************************************\n",
      "   user  system elapsed \n",
      " 10.313   6.722   8.597 \n",
      "Pair:  Anorexia ~ Tanning \n",
      "Run MR-APSS ... \n",
      "IV selection threshold: 5e-05 \n",
      "***********************************************************\n",
      "MR test results of  Anorexia  on  Tanning : \n",
      "MR-APSS: beta =  0.0297 , beta.se =  0.0597 , p-value =  6.1944e-01 . \n",
      "Total NO. of IVs=  114 , NO. of valid IVs with foreground signals:  53.97787 . \n",
      "***********************************************************\n",
      "   user  system elapsed \n",
      " 14.005   9.257  11.804 \n",
      "Run MR-APSS (Omega = 0), i.e. MR-APSS not accounting for polygenicity and pleiotropy. ... \n",
      "IV selection threshold: 5e-05 \n",
      "***********************************************************\n",
      "MR test results of  Anorexia  on  Tanning : \n",
      "MR-APSS: beta =  0.0309 , beta.se =  0.0391 , p-value =  4.2896e-01 . \n",
      "Total NO. of IVs=  114 , NO. of valid IVs with foreground signals:  82.70479 . \n",
      "***********************************************************\n",
      "   user  system elapsed \n",
      " 12.448   7.607  10.072 \n",
      "Run MR-APSS (C = I), i.e. MR-APSS not accounting for sample structure ... \n",
      "IV selection threshold: 5e-05 \n",
      "***********************************************************\n",
      "MR test results of  Anorexia  on  Tanning : \n",
      "MR-APSS: beta =  0.0389 , beta.se =  0.0435 , p-value =  3.7074e-01 . \n",
      "Total NO. of IVs=  114 , NO. of valid IVs with foreground signals:  102.2216 . \n",
      "***********************************************************\n",
      "   user  system elapsed \n",
      " 31.089  20.044  25.568 \n",
      "Run MR-APSS not accounting for selection bias ... \n",
      "IV selection threshold: 5e-05 \n"
     ]
    },
    {
     "name": "stderr",
     "output_type": "stream",
     "text": [
      "Threshold = 1, the model will not correct for selection bias\n",
      "\n"
     ]
    },
    {
     "name": "stdout",
     "output_type": "stream",
     "text": [
      "***********************************************************\n",
      "MR test results of  Anorexia  on  Tanning : \n",
      "MR-APSS: beta =  0.0201 , beta.se =  0.0176 , p-value =  2.5279e-01 . \n",
      "Total NO. of IVs=  114 , NO. of valid IVs with foreground signals:  113.9886 . \n",
      "***********************************************************\n",
      "   user  system elapsed \n",
      "  3.896   2.520   3.208 \n",
      "Pair:  CD ~ Hair_Light_Brown \n",
      "Run MR-APSS ... \n",
      "IV selection threshold: 5e-05 \n",
      "***********************************************************\n",
      "MR test results of  CD  on  Hair_Light_Brown : \n",
      "MR-APSS: beta =  -0.0082 , beta.se =  0.0095 , p-value =  3.8675e-01 . \n",
      "Total NO. of IVs=  295 , NO. of valid IVs with foreground signals:  118.7294 . \n",
      "***********************************************************\n",
      "   user  system elapsed \n",
      "  5.329   3.499   4.437 \n",
      "Run MR-APSS (Omega = 0), i.e. MR-APSS not accounting for polygenicity and pleiotropy. ... \n",
      "IV selection threshold: 5e-05 \n",
      "***********************************************************\n",
      "MR test results of  CD  on  Hair_Light_Brown : \n",
      "MR-APSS: beta =  -0.0104 , beta.se =  0.0091 , p-value =  2.5447e-01 . \n",
      "Total NO. of IVs=  295 , NO. of valid IVs with foreground signals:  132.6484 . \n",
      "***********************************************************\n",
      "   user  system elapsed \n",
      "  6.397   3.919   5.720 \n",
      "Run MR-APSS (C = I), i.e. MR-APSS not accounting for sample structure ... \n",
      "IV selection threshold: 5e-05 \n",
      "***********************************************************\n",
      "MR test results of  CD  on  Hair_Light_Brown : \n",
      "MR-APSS: beta =  -0.0082 , beta.se =  0.0082 , p-value =  3.1409e-01 . \n",
      "Total NO. of IVs=  295 , NO. of valid IVs with foreground signals:  177.6226 . \n",
      "***********************************************************\n",
      "   user  system elapsed \n",
      "  7.839   4.844   6.489 \n",
      "Run MR-APSS not accounting for selection bias ... \n",
      "IV selection threshold: 5e-05 \n"
     ]
    },
    {
     "name": "stderr",
     "output_type": "stream",
     "text": [
      "Threshold = 1, the model will not correct for selection bias\n",
      "\n"
     ]
    },
    {
     "name": "stdout",
     "output_type": "stream",
     "text": [
      "***********************************************************\n",
      "MR test results of  CD  on  Hair_Light_Brown : \n",
      "MR-APSS: beta =  -0.0088 , beta.se =  0.0056 , p-value =  1.1262e-01 . \n",
      "Total NO. of IVs=  295 , NO. of valid IVs with foreground signals:  294.9705 . \n",
      "***********************************************************\n",
      "   user  system elapsed \n",
      "  5.047   3.072   4.060 \n",
      "Pair:  CD ~ Hair_Dark_Brown \n",
      "Run MR-APSS ... \n",
      "IV selection threshold: 5e-05 \n",
      "***********************************************************\n",
      "MR test results of  CD  on  Hair_Dark_Brown : \n",
      "MR-APSS: beta =  0.01 , beta.se =  0.0132 , p-value =  4.5027e-01 . \n",
      "Total NO. of IVs=  295 , NO. of valid IVs with foreground signals:  120.9248 . \n",
      "***********************************************************\n",
      "   user  system elapsed \n",
      "  5.525   3.392   4.470 \n",
      "Run MR-APSS (Omega = 0), i.e. MR-APSS not accounting for polygenicity and pleiotropy. ... \n",
      "IV selection threshold: 5e-05 \n",
      "***********************************************************\n",
      "MR test results of  CD  on  Hair_Dark_Brown : \n",
      "MR-APSS: beta =  0.0125 , beta.se =  0.0124 , p-value =  3.1344e-01 . \n",
      "Total NO. of IVs=  295 , NO. of valid IVs with foreground signals:  134.44 . \n",
      "***********************************************************\n",
      "   user  system elapsed \n",
      "  6.585   4.075   5.346 \n",
      "Run MR-APSS (C = I), i.e. MR-APSS not accounting for sample structure ... \n",
      "IV selection threshold: 5e-05 \n",
      "***********************************************************\n",
      "MR test results of  CD  on  Hair_Dark_Brown : \n",
      "MR-APSS: beta =  0.0113 , beta.se =  0.0109 , p-value =  3.0092e-01 . \n",
      "Total NO. of IVs=  295 , NO. of valid IVs with foreground signals:  167.2178 . \n",
      "***********************************************************\n",
      "   user  system elapsed \n",
      "  7.189   4.437   5.934 \n",
      "Run MR-APSS not accounting for selection bias ... \n",
      "IV selection threshold: 5e-05 \n"
     ]
    },
    {
     "name": "stderr",
     "output_type": "stream",
     "text": [
      "Threshold = 1, the model will not correct for selection bias\n",
      "\n"
     ]
    },
    {
     "name": "stdout",
     "output_type": "stream",
     "text": [
      "***********************************************************\n",
      "MR test results of  CD  on  Hair_Dark_Brown : \n",
      "MR-APSS: beta =  0.0131 , beta.se =  0.0071 , p-value =  6.3481e-02 . \n",
      "Total NO. of IVs=  295 , NO. of valid IVs with foreground signals:  294.9705 . \n",
      "***********************************************************\n",
      "   user  system elapsed \n",
      "  4.388   2.825   3.610 \n",
      "Pair:  CD ~ Hair_Black \n",
      "Run MR-APSS ... \n",
      "IV selection threshold: 5e-05 \n",
      "***********************************************************\n",
      "MR test results of  CD  on  Hair_Black : \n",
      "MR-APSS: beta =  0.0135 , beta.se =  0.013 , p-value =  2.9895e-01 . \n",
      "Total NO. of IVs=  295 , NO. of valid IVs with foreground signals:  118.127 . \n",
      "***********************************************************\n",
      "   user  system elapsed \n",
      "  5.801   3.590   4.799 \n",
      "Run MR-APSS (Omega = 0), i.e. MR-APSS not accounting for polygenicity and pleiotropy. ... \n",
      "IV selection threshold: 5e-05 \n",
      "***********************************************************\n",
      "MR test results of  CD  on  Hair_Black : \n",
      "MR-APSS: beta =  0.0142 , beta.se =  0.0122 , p-value =  2.4215e-01 . \n",
      "Total NO. of IVs=  295 , NO. of valid IVs with foreground signals:  131.0588 . \n",
      "***********************************************************\n",
      "   user  system elapsed \n",
      "  6.562   4.132   5.356 \n",
      "Run MR-APSS (C = I), i.e. MR-APSS not accounting for sample structure ... \n",
      "IV selection threshold: 5e-05 \n",
      "***********************************************************\n",
      "MR test results of  CD  on  Hair_Black : \n",
      "MR-APSS: beta =  0.012 , beta.se =  0.0112 , p-value =  2.8286e-01 . \n",
      "Total NO. of IVs=  295 , NO. of valid IVs with foreground signals:  166.822 . \n",
      "***********************************************************\n",
      "   user  system elapsed \n",
      "  7.568   4.654   6.165 \n",
      "Run MR-APSS not accounting for selection bias ... \n",
      "IV selection threshold: 5e-05 \n"
     ]
    },
    {
     "name": "stderr",
     "output_type": "stream",
     "text": [
      "Threshold = 1, the model will not correct for selection bias\n",
      "\n"
     ]
    },
    {
     "name": "stdout",
     "output_type": "stream",
     "text": [
      "***********************************************************\n",
      "MR test results of  CD  on  Hair_Black : \n",
      "MR-APSS: beta =  0.0085 , beta.se =  0.0067 , p-value =  2.0485e-01 . \n",
      "Total NO. of IVs=  295 , NO. of valid IVs with foreground signals:  294.9705 . \n",
      "***********************************************************\n",
      "   user  system elapsed \n",
      "  3.775   2.374   3.093 \n",
      "Pair:  CD ~ Hair_Blonde \n",
      "Run MR-APSS ... \n",
      "IV selection threshold: 5e-05 \n",
      "***********************************************************\n",
      "MR test results of  CD  on  Hair_Blonde : \n",
      "MR-APSS: beta =  -0.0179 , beta.se =  0.0137 , p-value =  1.9244e-01 . \n",
      "Total NO. of IVs=  295 , NO. of valid IVs with foreground signals:  118.6131 . \n",
      "***********************************************************\n",
      "   user  system elapsed \n",
      "  6.223   3.774   5.230 \n",
      "Run MR-APSS (Omega = 0), i.e. MR-APSS not accounting for polygenicity and pleiotropy. ... \n",
      "IV selection threshold: 5e-05 \n",
      "***********************************************************\n",
      "MR test results of  CD  on  Hair_Blonde : \n",
      "MR-APSS: beta =  -0.0187 , beta.se =  0.0128 , p-value =  1.4530e-01 . \n",
      "Total NO. of IVs=  295 , NO. of valid IVs with foreground signals:  134.4023 . \n",
      "***********************************************************\n",
      "   user  system elapsed \n",
      "  8.694   5.205   7.153 \n",
      "Run MR-APSS (C = I), i.e. MR-APSS not accounting for sample structure ... \n",
      "IV selection threshold: 5e-05 \n",
      "***********************************************************\n",
      "MR test results of  CD  on  Hair_Blonde : \n",
      "MR-APSS: beta =  -0.0145 , beta.se =  0.0114 , p-value =  2.0180e-01 . \n",
      "Total NO. of IVs=  295 , NO. of valid IVs with foreground signals:  163.752 . \n",
      "***********************************************************\n",
      "   user  system elapsed \n",
      "  7.378   4.755   6.206 \n",
      "Run MR-APSS not accounting for selection bias ... \n",
      "IV selection threshold: 5e-05 \n"
     ]
    },
    {
     "name": "stderr",
     "output_type": "stream",
     "text": [
      "Threshold = 1, the model will not correct for selection bias\n",
      "\n"
     ]
    },
    {
     "name": "stdout",
     "output_type": "stream",
     "text": [
      "***********************************************************\n",
      "MR test results of  CD  on  Hair_Blonde : \n",
      "MR-APSS: beta =  -0.0104 , beta.se =  0.0071 , p-value =  1.4428e-01 . \n",
      "Total NO. of IVs=  295 , NO. of valid IVs with foreground signals:  294.9705 . \n",
      "***********************************************************\n",
      "   user  system elapsed \n",
      "  3.595   2.284   2.951 \n",
      "Pair:  CD ~ Tanning \n",
      "Run MR-APSS ... \n",
      "IV selection threshold: 5e-05 \n",
      "***********************************************************\n",
      "MR test results of  CD  on  Tanning : \n",
      "MR-APSS: beta =  0.0022 , beta.se =  0.0128 , p-value =  8.6668e-01 . \n",
      "Total NO. of IVs=  295 , NO. of valid IVs with foreground signals:  119.401 . \n",
      "***********************************************************\n",
      "   user  system elapsed \n",
      "  4.848   2.824   4.317 \n",
      "Run MR-APSS (Omega = 0), i.e. MR-APSS not accounting for polygenicity and pleiotropy. ... \n",
      "IV selection threshold: 5e-05 \n",
      "***********************************************************\n",
      "MR test results of  CD  on  Tanning : \n",
      "MR-APSS: beta =  0.0025 , beta.se =  0.012 , p-value =  8.3117e-01 . \n",
      "Total NO. of IVs=  295 , NO. of valid IVs with foreground signals:  136.1173 . \n",
      "***********************************************************\n",
      "   user  system elapsed \n",
      "  5.555   3.690   4.623 \n",
      "Run MR-APSS (C = I), i.e. MR-APSS not accounting for sample structure ... \n",
      "IV selection threshold: 5e-05 \n",
      "***********************************************************\n",
      "MR test results of  CD  on  Tanning : \n",
      "MR-APSS: beta =  -0.0063 , beta.se =  0.0112 , p-value =  5.7200e-01 . \n",
      "Total NO. of IVs=  295 , NO. of valid IVs with foreground signals:  178.4253 . \n",
      "***********************************************************\n",
      "   user  system elapsed \n",
      "  7.054   4.329   5.778 \n",
      "Run MR-APSS not accounting for selection bias ... \n",
      "IV selection threshold: 5e-05 \n"
     ]
    },
    {
     "name": "stderr",
     "output_type": "stream",
     "text": [
      "Threshold = 1, the model will not correct for selection bias\n",
      "\n"
     ]
    },
    {
     "name": "stdout",
     "output_type": "stream",
     "text": [
      "***********************************************************\n",
      "MR test results of  CD  on  Tanning : \n",
      "MR-APSS: beta =  -0.003 , beta.se =  0.0072 , p-value =  6.8060e-01 . \n",
      "Total NO. of IVs=  295 , NO. of valid IVs with foreground signals:  294.9705 . \n",
      "***********************************************************\n",
      "   user  system elapsed \n",
      "  4.680   2.905   4.412 \n",
      "Pair:  Height_GIANT ~ Hair_Light_Brown \n",
      "Run MR-APSS ... \n",
      "IV selection threshold: 5e-05 \n",
      "***********************************************************\n",
      "MR test results of  Height_GIANT  on  Hair_Light_Brown : \n",
      "MR-APSS: beta =  -0.0014 , beta.se =  0.0097 , p-value =  8.8376e-01 . \n",
      "Total NO. of IVs=  1189 , NO. of valid IVs with foreground signals:  310.0738 . \n",
      "***********************************************************\n",
      "   user  system elapsed \n",
      " 18.055   5.589  16.946 \n",
      "Run MR-APSS (Omega = 0), i.e. MR-APSS not accounting for polygenicity and pleiotropy. ... \n",
      "IV selection threshold: 5e-05 \n",
      "***********************************************************\n",
      "MR test results of  Height_GIANT  on  Hair_Light_Brown : \n",
      "MR-APSS: beta =  -2e-04 , beta.se =  0.0062 , p-value =  9.7363e-01 . \n",
      "Total NO. of IVs=  1189 , NO. of valid IVs with foreground signals:  474.0155 . \n",
      "***********************************************************\n",
      "   user  system elapsed \n",
      " 12.261   3.885  11.306 \n",
      "Run MR-APSS (C = I), i.e. MR-APSS not accounting for sample structure ... \n",
      "IV selection threshold: 5e-05 \n",
      "***********************************************************\n",
      "MR test results of  Height_GIANT  on  Hair_Light_Brown : \n",
      "MR-APSS: beta =  0.0222 , beta.se =  0.0082 , p-value =  7.0733e-03 . \n",
      "Total NO. of IVs=  1189 , NO. of valid IVs with foreground signals:  585.2356 . \n",
      "***********************************************************\n",
      "   user  system elapsed \n",
      " 21.037   6.104  20.421 \n",
      "Run MR-APSS not accounting for selection bias ... \n",
      "IV selection threshold: 5e-05 \n"
     ]
    },
    {
     "name": "stderr",
     "output_type": "stream",
     "text": [
      "Threshold = 1, the model will not correct for selection bias\n",
      "\n"
     ]
    },
    {
     "name": "stdout",
     "output_type": "stream",
     "text": [
      "***********************************************************\n",
      "MR test results of  Height_GIANT  on  Hair_Light_Brown : \n",
      "MR-APSS: beta =  0.0256 , beta.se =  0.0057 , p-value =  5.6773e-06 . \n",
      "Total NO. of IVs=  1189 , NO. of valid IVs with foreground signals:  1188.879 . \n",
      "***********************************************************\n",
      "   user  system elapsed \n",
      " 34.412  10.104  31.949 \n",
      "Pair:  Height_GIANT ~ Hair_Dark_Brown \n",
      "Run MR-APSS ... \n",
      "IV selection threshold: 5e-05 \n",
      "***********************************************************\n",
      "MR test results of  Height_GIANT  on  Hair_Dark_Brown : \n",
      "MR-APSS: beta =  0.0052 , beta.se =  0.0141 , p-value =  7.1269e-01 . \n",
      "Total NO. of IVs=  1189 , NO. of valid IVs with foreground signals:  305.4967 . \n",
      "***********************************************************\n",
      "   user  system elapsed \n",
      " 17.008   5.312  15.705 \n",
      "Run MR-APSS (Omega = 0), i.e. MR-APSS not accounting for polygenicity and pleiotropy. ... \n",
      "IV selection threshold: 5e-05 \n",
      "***********************************************************\n",
      "MR test results of  Height_GIANT  on  Hair_Dark_Brown : \n",
      "MR-APSS: beta =  0.007 , beta.se =  0.011 , p-value =  5.2229e-01 . \n",
      "Total NO. of IVs=  1189 , NO. of valid IVs with foreground signals:  471.7527 . \n",
      "***********************************************************\n",
      "   user  system elapsed \n",
      " 12.498   3.553  11.388 \n",
      "Run MR-APSS (C = I), i.e. MR-APSS not accounting for sample structure ... \n",
      "IV selection threshold: 5e-05 \n",
      "***********************************************************\n",
      "MR test results of  Height_GIANT  on  Hair_Dark_Brown : \n",
      "MR-APSS: beta =  -0.0172 , beta.se =  0.0109 , p-value =  1.1400e-01 . \n",
      "Total NO. of IVs=  1189 , NO. of valid IVs with foreground signals:  560.5968 . \n",
      "***********************************************************\n",
      "   user  system elapsed \n",
      " 18.541   5.784  18.445 \n",
      "Run MR-APSS not accounting for selection bias ... \n",
      "IV selection threshold: 5e-05 \n"
     ]
    },
    {
     "name": "stderr",
     "output_type": "stream",
     "text": [
      "Threshold = 1, the model will not correct for selection bias\n",
      "\n"
     ]
    },
    {
     "name": "stdout",
     "output_type": "stream",
     "text": [
      "***********************************************************\n",
      "MR test results of  Height_GIANT  on  Hair_Dark_Brown : \n",
      "MR-APSS: beta =  -0.0219 , beta.se =  0.0072 , p-value =  2.3894e-03 . \n",
      "Total NO. of IVs=  1189 , NO. of valid IVs with foreground signals:  1188.879 . \n",
      "***********************************************************\n",
      "   user  system elapsed \n",
      " 12.381   3.838  11.218 \n",
      "Pair:  Height_GIANT ~ Hair_Black \n",
      "Run MR-APSS ... \n",
      "IV selection threshold: 5e-05 \n",
      "***********************************************************\n",
      "MR test results of  Height_GIANT  on  Hair_Black : \n",
      "MR-APSS: beta =  -0.0099 , beta.se =  0.0121 , p-value =  4.1336e-01 . \n",
      "Total NO. of IVs=  1189 , NO. of valid IVs with foreground signals:  310.4761 . \n",
      "***********************************************************\n",
      "   user  system elapsed \n",
      " 18.689   5.886  18.020 \n",
      "Run MR-APSS (Omega = 0), i.e. MR-APSS not accounting for polygenicity and pleiotropy. ... \n",
      "IV selection threshold: 5e-05 \n",
      "***********************************************************\n",
      "MR test results of  Height_GIANT  on  Hair_Black : \n",
      "MR-APSS: beta =  -0.0143 , beta.se =  0.0095 , p-value =  1.3125e-01 . \n",
      "Total NO. of IVs=  1189 , NO. of valid IVs with foreground signals:  475.4821 . \n",
      "***********************************************************\n",
      "   user  system elapsed \n",
      " 14.172   4.415  13.285 \n",
      "Run MR-APSS (C = I), i.e. MR-APSS not accounting for sample structure ... \n",
      "IV selection threshold: 5e-05 \n",
      "***********************************************************\n",
      "MR test results of  Height_GIANT  on  Hair_Black : \n",
      "MR-APSS: beta =  -0.0396 , beta.se =  0.0096 , p-value =  3.9935e-05 . \n",
      "Total NO. of IVs=  1189 , NO. of valid IVs with foreground signals:  595.0892 . \n",
      "***********************************************************\n",
      "   user  system elapsed \n",
      " 17.526   5.158  16.137 \n",
      "Run MR-APSS not accounting for selection bias ... \n",
      "IV selection threshold: 5e-05 \n"
     ]
    },
    {
     "name": "stderr",
     "output_type": "stream",
     "text": [
      "Threshold = 1, the model will not correct for selection bias\n",
      "\n"
     ]
    },
    {
     "name": "stdout",
     "output_type": "stream",
     "text": [
      "***********************************************************\n",
      "MR test results of  Height_GIANT  on  Hair_Black : \n",
      "MR-APSS: beta =  -0.0457 , beta.se =  0.0067 , p-value =  8.0534e-12 . \n",
      "Total NO. of IVs=  1189 , NO. of valid IVs with foreground signals:  1188.879 . \n",
      "***********************************************************\n",
      "   user  system elapsed \n",
      " 23.635   6.997  22.529 \n",
      "Pair:  Height_GIANT ~ Hair_Blonde \n",
      "Run MR-APSS ... \n",
      "IV selection threshold: 5e-05 \n",
      "***********************************************************\n",
      "MR test results of  Height_GIANT  on  Hair_Blonde : \n",
      "MR-APSS: beta =  0.0192 , beta.se =  0.0127 , p-value =  1.2955e-01 . \n",
      "Total NO. of IVs=  1189 , NO. of valid IVs with foreground signals:  310.4993 . \n",
      "***********************************************************\n",
      "   user  system elapsed \n",
      " 19.959   5.975  18.402 \n",
      "Run MR-APSS (Omega = 0), i.e. MR-APSS not accounting for polygenicity and pleiotropy. ... \n",
      "IV selection threshold: 5e-05 \n",
      "***********************************************************\n",
      "MR test results of  Height_GIANT  on  Hair_Blonde : \n",
      "MR-APSS: beta =  0.0163 , beta.se =  0.0099 , p-value =  9.8022e-02 . \n",
      "Total NO. of IVs=  1189 , NO. of valid IVs with foreground signals:  473.3866 . \n",
      "***********************************************************\n",
      "   user  system elapsed \n",
      " 13.731   4.124  12.670 \n",
      "Run MR-APSS (C = I), i.e. MR-APSS not accounting for sample structure ... \n",
      "IV selection threshold: 5e-05 \n",
      "***********************************************************\n",
      "MR test results of  Height_GIANT  on  Hair_Blonde : \n",
      "MR-APSS: beta =  0.0236 , beta.se =  0.0097 , p-value =  1.4608e-02 . \n",
      "Total NO. of IVs=  1189 , NO. of valid IVs with foreground signals:  561.5732 . \n",
      "***********************************************************\n",
      "   user  system elapsed \n",
      " 19.530   5.789  17.996 \n",
      "Run MR-APSS not accounting for selection bias ... \n",
      "IV selection threshold: 5e-05 \n"
     ]
    },
    {
     "name": "stderr",
     "output_type": "stream",
     "text": [
      "Threshold = 1, the model will not correct for selection bias\n",
      "\n"
     ]
    },
    {
     "name": "stdout",
     "output_type": "stream",
     "text": [
      "***********************************************************\n",
      "MR test results of  Height_GIANT  on  Hair_Blonde : \n",
      "MR-APSS: beta =  0.0204 , beta.se =  0.0064 , p-value =  1.3791e-03 . \n",
      "Total NO. of IVs=  1189 , NO. of valid IVs with foreground signals:  1188.879 . \n",
      "***********************************************************\n",
      "   user  system elapsed \n",
      " 24.029   7.721  23.587 \n",
      "Pair:  Height_GIANT ~ Tanning \n",
      "Run MR-APSS ... \n",
      "IV selection threshold: 5e-05 \n",
      "***********************************************************\n",
      "MR test results of  Height_GIANT  on  Tanning : \n",
      "MR-APSS: beta =  -0.0128 , beta.se =  0.0147 , p-value =  3.8184e-01 . \n",
      "Total NO. of IVs=  1188 , NO. of valid IVs with foreground signals:  310.2424 . \n",
      "***********************************************************\n",
      "   user  system elapsed \n",
      " 19.684   5.771  19.096 \n",
      "Run MR-APSS (Omega = 0), i.e. MR-APSS not accounting for polygenicity and pleiotropy. ... \n",
      "IV selection threshold: 5e-05 \n",
      "***********************************************************\n",
      "MR test results of  Height_GIANT  on  Tanning : \n",
      "MR-APSS: beta =  -0.0124 , beta.se =  0.0114 , p-value =  2.7707e-01 . \n",
      "Total NO. of IVs=  1188 , NO. of valid IVs with foreground signals:  475.2404 . \n",
      "***********************************************************\n",
      "   user  system elapsed \n",
      " 13.281   4.128  12.268 \n",
      "Run MR-APSS (C = I), i.e. MR-APSS not accounting for sample structure ... \n",
      "IV selection threshold: 5e-05 \n",
      "***********************************************************\n",
      "MR test results of  Height_GIANT  on  Tanning : \n",
      "MR-APSS: beta =  -0.0358 , beta.se =  0.0114 , p-value =  1.7342e-03 . \n",
      "Total NO. of IVs=  1188 , NO. of valid IVs with foreground signals:  577.8992 . \n",
      "***********************************************************\n",
      "   user  system elapsed \n",
      " 18.900   5.608  17.779 \n",
      "Run MR-APSS not accounting for selection bias ... \n",
      "IV selection threshold: 5e-05 \n"
     ]
    },
    {
     "name": "stderr",
     "output_type": "stream",
     "text": [
      "Threshold = 1, the model will not correct for selection bias\n",
      "\n"
     ]
    },
    {
     "name": "stdout",
     "output_type": "stream",
     "text": [
      "***********************************************************\n",
      "MR test results of  Height_GIANT  on  Tanning : \n",
      "MR-APSS: beta =  -0.0359 , beta.se =  0.0076 , p-value =  2.1257e-06 . \n",
      "Total NO. of IVs=  1188 , NO. of valid IVs with foreground signals:  1187.879 . \n",
      "***********************************************************\n",
      "   user  system elapsed \n",
      " 22.622   6.831  21.339 \n",
      "Pair:  Insomnia ~ Hair_Light_Brown \n",
      "Run MR-APSS ... \n",
      "IV selection threshold: 5e-05 \n",
      "***********************************************************\n",
      "MR test results of  Insomnia  on  Hair_Light_Brown : \n",
      "MR-APSS: beta =  -0.0343 , beta.se =  0.0485 , p-value =  4.7964e-01 . \n",
      "Total NO. of IVs=  348 , NO. of valid IVs with foreground signals:  71.02485 . \n",
      "***********************************************************\n",
      "   user  system elapsed \n",
      " 14.189   9.017  11.685 \n",
      "Run MR-APSS (Omega = 0), i.e. MR-APSS not accounting for polygenicity and pleiotropy. ... \n",
      "IV selection threshold: 5e-05 \n",
      "***********************************************************\n",
      "MR test results of  Insomnia  on  Hair_Light_Brown : \n",
      "MR-APSS: beta =  -0.0261 , beta.se =  0.0341 , p-value =  4.4465e-01 . \n",
      "Total NO. of IVs=  348 , NO. of valid IVs with foreground signals:  168.8241 . \n",
      "***********************************************************\n",
      "   user  system elapsed \n",
      " 18.126  11.559  15.099 \n",
      "Run MR-APSS (C = I), i.e. MR-APSS not accounting for sample structure ... \n",
      "IV selection threshold: 5e-05 \n",
      "***********************************************************\n",
      "MR test results of  Insomnia  on  Hair_Light_Brown : \n",
      "MR-APSS: beta =  -0.0482 , beta.se =  0.0513 , p-value =  3.4773e-01 . \n",
      "Total NO. of IVs=  348 , NO. of valid IVs with foreground signals:  92.85516 . \n",
      "***********************************************************\n",
      "   user  system elapsed \n",
      " 19.614  11.931  16.354 \n",
      "Run MR-APSS not accounting for selection bias ... \n",
      "IV selection threshold: 5e-05 \n"
     ]
    },
    {
     "name": "stderr",
     "output_type": "stream",
     "text": [
      "Threshold = 1, the model will not correct for selection bias\n",
      "\n"
     ]
    },
    {
     "name": "stdout",
     "output_type": "stream",
     "text": [
      "***********************************************************\n",
      "MR test results of  Insomnia  on  Hair_Light_Brown : \n",
      "MR-APSS: beta =  -0.0051 , beta.se =  0.0172 , p-value =  7.6548e-01 . \n",
      "Total NO. of IVs=  348 , NO. of valid IVs with foreground signals:  347.9652 . \n",
      "***********************************************************\n",
      "   user  system elapsed \n",
      "  1.495   0.924   1.241 \n",
      "Pair:  Insomnia ~ Hair_Dark_Brown \n",
      "Run MR-APSS ... \n",
      "IV selection threshold: 5e-05 \n",
      "***********************************************************\n",
      "MR test results of  Insomnia  on  Hair_Dark_Brown : \n",
      "MR-APSS: beta =  0.0372 , beta.se =  0.0569 , p-value =  5.1338e-01 . \n",
      "Total NO. of IVs=  348 , NO. of valid IVs with foreground signals:  70.95057 . \n",
      "***********************************************************\n",
      "   user  system elapsed \n",
      "140.319  88.077 116.333 \n",
      "Run MR-APSS (Omega = 0), i.e. MR-APSS not accounting for polygenicity and pleiotropy. ... \n",
      "IV selection threshold: 5e-05 \n",
      "***********************************************************\n",
      "MR test results of  Insomnia  on  Hair_Dark_Brown : \n",
      "MR-APSS: beta =  0.0089 , beta.se =  0.0414 , p-value =  8.3025e-01 . \n",
      "Total NO. of IVs=  348 , NO. of valid IVs with foreground signals:  171.8822 . \n",
      "***********************************************************\n",
      "   user  system elapsed \n",
      " 17.140  10.985  14.188 \n",
      "Run MR-APSS (C = I), i.e. MR-APSS not accounting for sample structure ... \n",
      "IV selection threshold: 5e-05 \n",
      "***********************************************************\n",
      "MR test results of  Insomnia  on  Hair_Dark_Brown : \n",
      "MR-APSS: beta =  0.0412 , beta.se =  0.0624 , p-value =  5.0915e-01 . \n",
      "Total NO. of IVs=  348 , NO. of valid IVs with foreground signals:  103.7113 . \n",
      "***********************************************************\n",
      "   user  system elapsed \n",
      " 18.229  11.692  15.621 \n",
      "Run MR-APSS not accounting for selection bias ... \n",
      "IV selection threshold: 5e-05 \n"
     ]
    },
    {
     "name": "stderr",
     "output_type": "stream",
     "text": [
      "Threshold = 1, the model will not correct for selection bias\n",
      "\n"
     ]
    },
    {
     "name": "stdout",
     "output_type": "stream",
     "text": [
      "***********************************************************\n",
      "MR test results of  Insomnia  on  Hair_Dark_Brown : \n",
      "MR-APSS: beta =  0.0023 , beta.se =  0.0203 , p-value =  9.1086e-01 . \n",
      "Total NO. of IVs=  348 , NO. of valid IVs with foreground signals:  347.9652 . \n",
      "***********************************************************\n",
      "   user  system elapsed \n",
      " 35.820  21.937  30.839 \n",
      "Pair:  Insomnia ~ Hair_Black \n",
      "Run MR-APSS ... \n",
      "IV selection threshold: 5e-05 \n",
      "***********************************************************\n",
      "MR test results of  Insomnia  on  Hair_Black : \n",
      "MR-APSS: beta =  0.0082 , beta.se =  0.0569 , p-value =  8.8575e-01 . \n",
      "Total NO. of IVs=  348 , NO. of valid IVs with foreground signals:  71.55576 . \n",
      "***********************************************************\n",
      "   user  system elapsed \n",
      " 97.757  60.352  81.004 \n",
      "Run MR-APSS (Omega = 0), i.e. MR-APSS not accounting for polygenicity and pleiotropy. ... \n",
      "IV selection threshold: 5e-05 \n",
      "***********************************************************\n",
      "MR test results of  Insomnia  on  Hair_Black : \n",
      "MR-APSS: beta =  0.0071 , beta.se =  0.0387 , p-value =  8.5381e-01 . \n",
      "Total NO. of IVs=  348 , NO. of valid IVs with foreground signals:  181.9962 . \n",
      "***********************************************************\n",
      "   user  system elapsed \n",
      " 16.340  10.187  13.414 \n",
      "Run MR-APSS (C = I), i.e. MR-APSS not accounting for sample structure ... \n",
      "IV selection threshold: 5e-05 \n",
      "***********************************************************\n",
      "MR test results of  Insomnia  on  Hair_Black : \n",
      "MR-APSS: beta =  0.0424 , beta.se =  0.0563 , p-value =  4.5165e-01 . \n",
      "Total NO. of IVs=  348 , NO. of valid IVs with foreground signals:  132.9303 . \n",
      "***********************************************************\n",
      "   user  system elapsed \n",
      " 21.448  12.978  17.236 \n",
      "Run MR-APSS not accounting for selection bias ... \n",
      "IV selection threshold: 5e-05 \n"
     ]
    },
    {
     "name": "stderr",
     "output_type": "stream",
     "text": [
      "Threshold = 1, the model will not correct for selection bias\n",
      "\n"
     ]
    },
    {
     "name": "stdout",
     "output_type": "stream",
     "text": [
      "***********************************************************\n",
      "MR test results of  Insomnia  on  Hair_Black : \n",
      "MR-APSS: beta =  0.0179 , beta.se =  0.02 , p-value =  3.7049e-01 . \n",
      "Total NO. of IVs=  348 , NO. of valid IVs with foreground signals:  347.9652 . \n",
      "***********************************************************\n",
      "   user  system elapsed \n",
      " 51.225  31.076  43.382 \n",
      "Pair:  Insomnia ~ Hair_Blonde \n",
      "Run MR-APSS ... \n",
      "IV selection threshold: 5e-05 \n",
      "***********************************************************\n",
      "MR test results of  Insomnia  on  Hair_Blonde : \n",
      "MR-APSS: beta =  0.0109 , beta.se =  0.0705 , p-value =  8.7733e-01 . \n",
      "Total NO. of IVs=  348 , NO. of valid IVs with foreground signals:  66.25658 . \n",
      "***********************************************************\n",
      "   user  system elapsed \n",
      " 34.684  21.059  27.973 \n",
      "Run MR-APSS (Omega = 0), i.e. MR-APSS not accounting for polygenicity and pleiotropy. ... \n",
      "IV selection threshold: 5e-05 \n",
      "***********************************************************\n",
      "MR test results of  Insomnia  on  Hair_Blonde : \n",
      "MR-APSS: beta =  -0.0052 , beta.se =  0.0382 , p-value =  8.9186e-01 . \n",
      "Total NO. of IVs=  348 , NO. of valid IVs with foreground signals:  187.0548 . \n",
      "***********************************************************\n",
      "   user  system elapsed \n",
      " 17.892  10.843  14.439 \n",
      "Run MR-APSS (C = I), i.e. MR-APSS not accounting for sample structure ... \n",
      "IV selection threshold: 5e-05 \n",
      "***********************************************************\n",
      "MR test results of  Insomnia  on  Hair_Blonde : \n",
      "MR-APSS: beta =  -0.0177 , beta.se =  0.0592 , p-value =  7.6526e-01 . \n",
      "Total NO. of IVs=  348 , NO. of valid IVs with foreground signals:  104.4234 . \n",
      "***********************************************************\n",
      "   user  system elapsed \n",
      " 17.699  10.708  14.382 \n",
      "Run MR-APSS not accounting for selection bias ... \n",
      "IV selection threshold: 5e-05 \n"
     ]
    },
    {
     "name": "stderr",
     "output_type": "stream",
     "text": [
      "Threshold = 1, the model will not correct for selection bias\n",
      "\n"
     ]
    },
    {
     "name": "stdout",
     "output_type": "stream",
     "text": [
      "***********************************************************\n",
      "MR test results of  Insomnia  on  Hair_Blonde : \n",
      "MR-APSS: beta =  -0.0103 , beta.se =  0.0196 , p-value =  5.9716e-01 . \n",
      "Total NO. of IVs=  348 , NO. of valid IVs with foreground signals:  347.9652 . \n",
      "***********************************************************\n",
      "   user  system elapsed \n",
      "  1.972   1.141   1.677 \n",
      "Pair:  Insomnia ~ Tanning \n",
      "Run MR-APSS ... \n",
      "IV selection threshold: 5e-05 \n",
      "***********************************************************\n",
      "MR test results of  Insomnia  on  Tanning : \n",
      "MR-APSS: beta =  -0.0137 , beta.se =  0.0844 , p-value =  8.7130e-01 . \n",
      "Total NO. of IVs=  348 , NO. of valid IVs with foreground signals:  67.73268 . \n",
      "***********************************************************\n",
      "   user  system elapsed \n",
      " 13.584   8.425  11.351 \n",
      "Run MR-APSS (Omega = 0), i.e. MR-APSS not accounting for polygenicity and pleiotropy. ... \n",
      "IV selection threshold: 5e-05 \n",
      "***********************************************************\n",
      "MR test results of  Insomnia  on  Tanning : \n",
      "MR-APSS: beta =  -0.0061 , beta.se =  0.0478 , p-value =  8.9838e-01 . \n",
      "Total NO. of IVs=  348 , NO. of valid IVs with foreground signals:  184.5587 . \n",
      "***********************************************************\n",
      "   user  system elapsed \n",
      " 17.517  10.896  14.708 \n",
      "Run MR-APSS (C = I), i.e. MR-APSS not accounting for sample structure ... \n",
      "IV selection threshold: 5e-05 \n",
      "***********************************************************\n",
      "MR test results of  Insomnia  on  Tanning : \n",
      "MR-APSS: beta =  -0.0461 , beta.se =  0.0656 , p-value =  4.8191e-01 . \n",
      "Total NO. of IVs=  348 , NO. of valid IVs with foreground signals:  138.5883 . \n",
      "***********************************************************\n",
      "   user  system elapsed \n",
      " 24.283  14.629  22.315 \n",
      "Run MR-APSS not accounting for selection bias ... \n",
      "IV selection threshold: 5e-05 \n"
     ]
    },
    {
     "name": "stderr",
     "output_type": "stream",
     "text": [
      "Threshold = 1, the model will not correct for selection bias\n",
      "\n"
     ]
    },
    {
     "name": "stdout",
     "output_type": "stream",
     "text": [
      "***********************************************************\n",
      "MR test results of  Insomnia  on  Tanning : \n",
      "MR-APSS: beta =  -0.0027 , beta.se =  0.0249 , p-value =  9.1276e-01 . \n",
      "Total NO. of IVs=  348 , NO. of valid IVs with foreground signals:  347.9652 . \n",
      "***********************************************************\n",
      "   user  system elapsed \n",
      "  8.201   5.320   6.780 \n",
      "Pair:  Neuroticism ~ Hair_Light_Brown \n",
      "Run MR-APSS ... \n",
      "IV selection threshold: 5e-05 \n",
      "***********************************************************\n",
      "MR test results of  Neuroticism  on  Hair_Light_Brown : \n",
      "MR-APSS: beta =  0.0585 , beta.se =  0.0373 , p-value =  1.1678e-01 . \n",
      "Total NO. of IVs=  462 , NO. of valid IVs with foreground signals:  120.3604 . \n",
      "***********************************************************\n",
      "   user  system elapsed \n",
      "134.320  73.855 118.397 \n",
      "Run MR-APSS (Omega = 0), i.e. MR-APSS not accounting for polygenicity and pleiotropy. ... \n",
      "IV selection threshold: 5e-05 \n",
      "***********************************************************\n",
      "MR test results of  Neuroticism  on  Hair_Light_Brown : \n",
      "MR-APSS: beta =  0.023 , beta.se =  0.0224 , p-value =  3.0569e-01 . \n",
      "Total NO. of IVs=  462 , NO. of valid IVs with foreground signals:  246.4659 . \n",
      "***********************************************************\n",
      "   user  system elapsed \n",
      " 20.659  11.287  17.471 \n",
      "Run MR-APSS (C = I), i.e. MR-APSS not accounting for sample structure ... \n",
      "IV selection threshold: 5e-05 \n",
      "***********************************************************\n",
      "MR test results of  Neuroticism  on  Hair_Light_Brown : \n",
      "MR-APSS: beta =  0.0186 , beta.se =  0.0298 , p-value =  5.3322e-01 . \n",
      "Total NO. of IVs=  462 , NO. of valid IVs with foreground signals:  207.9859 . \n",
      "***********************************************************\n",
      "   user  system elapsed \n",
      " 32.926  17.337  28.892 \n",
      "Run MR-APSS not accounting for selection bias ... \n",
      "IV selection threshold: 5e-05 \n"
     ]
    },
    {
     "name": "stderr",
     "output_type": "stream",
     "text": [
      "Threshold = 1, the model will not correct for selection bias\n",
      "\n"
     ]
    },
    {
     "name": "stdout",
     "output_type": "stream",
     "text": [
      "***********************************************************\n",
      "MR test results of  Neuroticism  on  Hair_Light_Brown : \n",
      "MR-APSS: beta =  -0.0028 , beta.se =  0.0123 , p-value =  8.1744e-01 . \n",
      "Total NO. of IVs=  462 , NO. of valid IVs with foreground signals:  461.9537 . \n",
      "***********************************************************\n",
      "   user  system elapsed \n",
      "  2.024   1.147   1.824 \n",
      "Pair:  Neuroticism ~ Hair_Dark_Brown \n",
      "Run MR-APSS ... \n",
      "IV selection threshold: 5e-05 \n",
      "***********************************************************\n",
      "MR test results of  Neuroticism  on  Hair_Dark_Brown : \n",
      "MR-APSS: beta =  -0.0913 , beta.se =  0.0645 , p-value =  1.5721e-01 . \n",
      "Total NO. of IVs=  462 , NO. of valid IVs with foreground signals:  83.11642 . \n",
      "***********************************************************\n",
      "   user  system elapsed \n",
      " 15.835   9.192  13.088 \n",
      "Run MR-APSS (Omega = 0), i.e. MR-APSS not accounting for polygenicity and pleiotropy. ... \n",
      "IV selection threshold: 5e-05 \n",
      "***********************************************************\n",
      "MR test results of  Neuroticism  on  Hair_Dark_Brown : \n",
      "MR-APSS: beta =  -0.0591 , beta.se =  0.0309 , p-value =  5.5841e-02 . \n",
      "Total NO. of IVs=  462 , NO. of valid IVs with foreground signals:  230.238 . \n",
      "***********************************************************\n",
      "   user  system elapsed \n",
      " 19.438  10.483  16.576 \n",
      "Run MR-APSS (C = I), i.e. MR-APSS not accounting for sample structure ... \n",
      "IV selection threshold: 5e-05 \n",
      "***********************************************************\n",
      "MR test results of  Neuroticism  on  Hair_Dark_Brown : \n",
      "MR-APSS: beta =  -0.0521 , beta.se =  0.0486 , p-value =  2.8305e-01 . \n",
      "Total NO. of IVs=  462 , NO. of valid IVs with foreground signals:  135.2809 . \n",
      "***********************************************************\n",
      "   user  system elapsed \n",
      " 19.597  10.957  16.695 \n",
      "Run MR-APSS not accounting for selection bias ... \n",
      "IV selection threshold: 5e-05 \n"
     ]
    },
    {
     "name": "stderr",
     "output_type": "stream",
     "text": [
      "Threshold = 1, the model will not correct for selection bias\n",
      "\n"
     ]
    },
    {
     "name": "stdout",
     "output_type": "stream",
     "text": [
      "***********************************************************\n",
      "MR test results of  Neuroticism  on  Hair_Dark_Brown : \n",
      "MR-APSS: beta =  -0.0089 , beta.se =  0.0154 , p-value =  5.6427e-01 . \n",
      "Total NO. of IVs=  462 , NO. of valid IVs with foreground signals:  461.9537 . \n",
      "***********************************************************\n",
      "   user  system elapsed \n",
      " 15.543   8.086  13.994 \n",
      "Pair:  Neuroticism ~ Hair_Black \n",
      "Run MR-APSS ... \n",
      "IV selection threshold: 5e-05 \n",
      "***********************************************************\n",
      "MR test results of  Neuroticism  on  Hair_Black : \n",
      "MR-APSS: beta =  -0.0231 , beta.se =  0.0503 , p-value =  6.4609e-01 . \n",
      "Total NO. of IVs=  462 , NO. of valid IVs with foreground signals:  103.7847 . \n",
      "***********************************************************\n",
      "   user  system elapsed \n",
      "  9.954   5.853   8.472 \n",
      "Run MR-APSS (Omega = 0), i.e. MR-APSS not accounting for polygenicity and pleiotropy. ... \n",
      "IV selection threshold: 5e-05 \n",
      "***********************************************************\n",
      "MR test results of  Neuroticism  on  Hair_Black : \n",
      "MR-APSS: beta =  -0.0142 , beta.se =  0.0278 , p-value =  6.0991e-01 . \n",
      "Total NO. of IVs=  462 , NO. of valid IVs with foreground signals:  233.2643 . \n",
      "***********************************************************\n",
      "   user  system elapsed \n",
      " 17.507   9.790  15.161 \n",
      "Run MR-APSS (C = I), i.e. MR-APSS not accounting for sample structure ... \n",
      "IV selection threshold: 5e-05 \n",
      "***********************************************************\n",
      "MR test results of  Neuroticism  on  Hair_Black : \n",
      "MR-APSS: beta =  0.0066 , beta.se =  0.0388 , p-value =  8.6461e-01 . \n",
      "Total NO. of IVs=  462 , NO. of valid IVs with foreground signals:  165.5741 . \n",
      "***********************************************************\n",
      "   user  system elapsed \n",
      " 22.318  12.007  19.075 \n",
      "Run MR-APSS not accounting for selection bias ... \n",
      "IV selection threshold: 5e-05 \n"
     ]
    },
    {
     "name": "stderr",
     "output_type": "stream",
     "text": [
      "Threshold = 1, the model will not correct for selection bias\n",
      "\n"
     ]
    },
    {
     "name": "stdout",
     "output_type": "stream",
     "text": [
      "***********************************************************\n",
      "MR test results of  Neuroticism  on  Hair_Black : \n",
      "MR-APSS: beta =  0.0181 , beta.se =  0.0148 , p-value =  2.2191e-01 . \n",
      "Total NO. of IVs=  462 , NO. of valid IVs with foreground signals:  461.9537 . \n",
      "***********************************************************\n",
      "   user  system elapsed \n",
      " 26.793  14.983  23.483 \n",
      "Pair:  Neuroticism ~ Hair_Blonde \n",
      "Run MR-APSS ... \n",
      "IV selection threshold: 5e-05 \n",
      "***********************************************************\n",
      "MR test results of  Neuroticism  on  Hair_Blonde : \n",
      "MR-APSS: beta =  0.0374 , beta.se =  0.0602 , p-value =  5.3389e-01 . \n",
      "Total NO. of IVs=  462 , NO. of valid IVs with foreground signals:  87.02711 . \n",
      "***********************************************************\n",
      "   user  system elapsed \n",
      " 12.567   6.957  10.363 \n",
      "Run MR-APSS (Omega = 0), i.e. MR-APSS not accounting for polygenicity and pleiotropy. ... \n",
      "IV selection threshold: 5e-05 \n",
      "***********************************************************\n",
      "MR test results of  Neuroticism  on  Hair_Blonde : \n",
      "MR-APSS: beta =  0.0386 , beta.se =  0.0295 , p-value =  1.9087e-01 . \n",
      "Total NO. of IVs=  462 , NO. of valid IVs with foreground signals:  246.6114 . \n",
      "***********************************************************\n",
      "   user  system elapsed \n",
      " 20.355  11.026  17.187 \n",
      "Run MR-APSS (C = I), i.e. MR-APSS not accounting for sample structure ... \n",
      "IV selection threshold: 5e-05 \n",
      "***********************************************************\n",
      "MR test results of  Neuroticism  on  Hair_Blonde : \n",
      "MR-APSS: beta =  0.0202 , beta.se =  0.0445 , p-value =  6.4904e-01 . \n",
      "Total NO. of IVs=  462 , NO. of valid IVs with foreground signals:  146.7358 . \n",
      "***********************************************************\n",
      "   user  system elapsed \n",
      " 20.149  11.436  17.308 \n",
      "Run MR-APSS not accounting for selection bias ... \n",
      "IV selection threshold: 5e-05 \n"
     ]
    },
    {
     "name": "stderr",
     "output_type": "stream",
     "text": [
      "Threshold = 1, the model will not correct for selection bias\n",
      "\n"
     ]
    },
    {
     "name": "stdout",
     "output_type": "stream",
     "text": [
      "***********************************************************\n",
      "MR test results of  Neuroticism  on  Hair_Blonde : \n",
      "MR-APSS: beta =  0.0125 , beta.se =  0.015 , p-value =  4.0459e-01 . \n",
      "Total NO. of IVs=  462 , NO. of valid IVs with foreground signals:  461.9536 . \n",
      "***********************************************************\n",
      "   user  system elapsed \n",
      "  8.400   4.361   7.929 \n",
      "Pair:  Neuroticism ~ Tanning \n",
      "Run MR-APSS ... \n",
      "IV selection threshold: 5e-05 \n",
      "***********************************************************\n",
      "MR test results of  Neuroticism  on  Tanning : \n",
      "MR-APSS: beta =  0.0076 , beta.se =  0.0673 , p-value =  9.1020e-01 . \n",
      "Total NO. of IVs=  461 , NO. of valid IVs with foreground signals:  87.67748 . \n",
      "***********************************************************\n",
      "   user  system elapsed \n",
      " 11.905   7.258   9.904 \n",
      "Run MR-APSS (Omega = 0), i.e. MR-APSS not accounting for polygenicity and pleiotropy. ... \n",
      "IV selection threshold: 5e-05 \n",
      "***********************************************************\n",
      "MR test results of  Neuroticism  on  Tanning : \n",
      "MR-APSS: beta =  0.0183 , beta.se =  0.0362 , p-value =  6.1257e-01 . \n",
      "Total NO. of IVs=  461 , NO. of valid IVs with foreground signals:  234.2564 . \n",
      "***********************************************************\n",
      "   user  system elapsed \n",
      " 18.278  10.265  15.432 \n",
      "Run MR-APSS (C = I), i.e. MR-APSS not accounting for sample structure ... \n",
      "IV selection threshold: 5e-05 \n",
      "***********************************************************\n",
      "MR test results of  Neuroticism  on  Tanning : \n",
      "MR-APSS: beta =  0.012 , beta.se =  0.0511 , p-value =  8.1447e-01 . \n",
      "Total NO. of IVs=  461 , NO. of valid IVs with foreground signals:  157.1216 . \n",
      "***********************************************************\n",
      "   user  system elapsed \n",
      " 20.736  11.579  18.811 \n",
      "Run MR-APSS not accounting for selection bias ... \n",
      "IV selection threshold: 5e-05 \n"
     ]
    },
    {
     "name": "stderr",
     "output_type": "stream",
     "text": [
      "Threshold = 1, the model will not correct for selection bias\n",
      "\n"
     ]
    },
    {
     "name": "stdout",
     "output_type": "stream",
     "text": [
      "***********************************************************\n",
      "MR test results of  Neuroticism  on  Tanning : \n",
      "MR-APSS: beta =  0.0163 , beta.se =  0.0183 , p-value =  3.7548e-01 . \n",
      "Total NO. of IVs=  461 , NO. of valid IVs with foreground signals:  460.9537 . \n",
      "***********************************************************\n",
      "   user  system elapsed \n",
      "  9.655   5.319   8.768 \n",
      "Pair:  SWB ~ Hair_Light_Brown \n",
      "Run MR-APSS ... \n",
      "IV selection threshold: 5e-05 \n",
      "***********************************************************\n",
      "MR test results of  SWB  on  Hair_Light_Brown : \n",
      "MR-APSS: beta =  0.1249 , beta.se =  0.2568 , p-value =  6.2678e-01 . \n",
      "Total NO. of IVs=  65 , NO. of valid IVs with foreground signals:  10.62471 . \n",
      "***********************************************************\n",
      "   user  system elapsed \n",
      " 12.636   8.188  10.453 \n",
      "Run MR-APSS (Omega = 0), i.e. MR-APSS not accounting for polygenicity and pleiotropy. ... \n",
      "IV selection threshold: 5e-05 \n",
      "***********************************************************\n",
      "MR test results of  SWB  on  Hair_Light_Brown : \n",
      "MR-APSS: beta =  0.2363 , beta.se =  0.1779 , p-value =  1.8394e-01 . \n",
      "Total NO. of IVs=  65 , NO. of valid IVs with foreground signals:  20.54462 . \n",
      "***********************************************************\n",
      "   user  system elapsed \n",
      " 11.306   7.096   9.201 \n",
      "Run MR-APSS (C = I), i.e. MR-APSS not accounting for sample structure ... \n",
      "IV selection threshold: 5e-05 \n",
      "***********************************************************\n",
      "MR test results of  SWB  on  Hair_Light_Brown : \n",
      "MR-APSS: beta =  3.3278 , beta.se =  1.7283 , p-value =  5.4173e-02 . \n",
      "Total NO. of IVs=  65 , NO. of valid IVs with foreground signals:  13.03409 . \n",
      "***********************************************************\n",
      "   user  system elapsed \n",
      " 34.399  21.540  28.084 \n",
      "Run MR-APSS not accounting for selection bias ... \n",
      "IV selection threshold: 5e-05 \n"
     ]
    },
    {
     "name": "stderr",
     "output_type": "stream",
     "text": [
      "Threshold = 1, the model will not correct for selection bias\n",
      "\n"
     ]
    },
    {
     "name": "stdout",
     "output_type": "stream",
     "text": [
      "***********************************************************\n",
      "MR test results of  SWB  on  Hair_Light_Brown : \n",
      "MR-APSS: beta =  0.0435 , beta.se =  0.0338 , p-value =  1.9753e-01 . \n",
      "Total NO. of IVs=  65 , NO. of valid IVs with foreground signals:  64.9935 . \n",
      "***********************************************************\n",
      "   user  system elapsed \n",
      "  0.295   0.168   0.231 \n",
      "Pair:  SWB ~ Hair_Dark_Brown \n",
      "Run MR-APSS ... \n",
      "IV selection threshold: 5e-05 \n",
      "***********************************************************\n",
      "MR test results of  SWB  on  Hair_Dark_Brown : \n",
      "MR-APSS: beta =  -13.1674 , beta.se =  10.2765 , p-value =  2.0009e-01 . \n",
      "Total NO. of IVs=  65 , NO. of valid IVs with foreground signals:  1.75141 . \n",
      "***********************************************************\n",
      "   user  system elapsed \n",
      " 35.666  23.543  30.151 \n",
      "Run MR-APSS (Omega = 0), i.e. MR-APSS not accounting for polygenicity and pleiotropy. ... \n",
      "IV selection threshold: 5e-05 \n",
      "***********************************************************\n",
      "MR test results of  SWB  on  Hair_Dark_Brown : \n",
      "MR-APSS: beta =  -0.3591 , beta.se =  0.42 , p-value =  3.9259e-01 . \n",
      "Total NO. of IVs=  65 , NO. of valid IVs with foreground signals:  9.950571 . \n",
      "***********************************************************\n",
      "   user  system elapsed \n",
      "  5.569   3.325   4.453 \n",
      "Run MR-APSS (C = I), i.e. MR-APSS not accounting for sample structure ... \n",
      "IV selection threshold: 5e-05 \n",
      "***********************************************************\n",
      "MR test results of  SWB  on  Hair_Dark_Brown : \n",
      "MR-APSS: beta =  -13.926 , beta.se =  10.6213 , p-value =  1.8981e-01 . \n",
      "Total NO. of IVs=  65 , NO. of valid IVs with foreground signals:  2.472126 . \n",
      "***********************************************************\n",
      "   user  system elapsed \n",
      " 40.688  25.277  33.279 \n",
      "Run MR-APSS not accounting for selection bias ... \n",
      "IV selection threshold: 5e-05 \n"
     ]
    },
    {
     "name": "stderr",
     "output_type": "stream",
     "text": [
      "Threshold = 1, the model will not correct for selection bias\n",
      "\n"
     ]
    },
    {
     "name": "stdout",
     "output_type": "stream",
     "text": [
      "***********************************************************\n",
      "MR test results of  SWB  on  Hair_Dark_Brown : \n",
      "MR-APSS: beta =  -0.0487 , beta.se =  0.051 , p-value =  3.3994e-01 . \n",
      "Total NO. of IVs=  65 , NO. of valid IVs with foreground signals:  64.9935 . \n",
      "***********************************************************\n",
      "   user  system elapsed \n",
      "  0.851   0.557   0.704 \n",
      "Pair:  SWB ~ Hair_Black \n",
      "Run MR-APSS ... \n",
      "IV selection threshold: 5e-05 \n",
      "***********************************************************\n",
      "MR test results of  SWB  on  Hair_Black : \n",
      "MR-APSS: beta =  -8.2335 , beta.se =  7.1776 , p-value =  2.5133e-01 . \n",
      "Total NO. of IVs=  65 , NO. of valid IVs with foreground signals:  2.4697 . \n",
      "***********************************************************\n",
      "   user  system elapsed \n",
      " 39.341  25.162  33.351 \n",
      "Run MR-APSS (Omega = 0), i.e. MR-APSS not accounting for polygenicity and pleiotropy. ... \n",
      "IV selection threshold: 5e-05 \n",
      "***********************************************************\n",
      "MR test results of  SWB  on  Hair_Black : \n",
      "MR-APSS: beta =  -0.031 , beta.se =  0.2948 , p-value =  9.1632e-01 . \n",
      "Total NO. of IVs=  65 , NO. of valid IVs with foreground signals:  10.08801 . \n",
      "***********************************************************\n",
      "   user  system elapsed \n",
      "  4.931   2.901   4.193 \n",
      "Run MR-APSS (C = I), i.e. MR-APSS not accounting for sample structure ... \n",
      "IV selection threshold: 5e-05 \n",
      "***********************************************************\n",
      "MR test results of  SWB  on  Hair_Black : \n",
      "MR-APSS: beta =  -11.932 , beta.se =  12.5243 , p-value =  3.4074e-01 . \n",
      "Total NO. of IVs=  65 , NO. of valid IVs with foreground signals:  3.855483 . \n",
      "***********************************************************\n",
      "   user  system elapsed \n",
      " 50.133  31.522  41.676 \n",
      "Run MR-APSS not accounting for selection bias ... \n",
      "IV selection threshold: 5e-05 \n"
     ]
    },
    {
     "name": "stderr",
     "output_type": "stream",
     "text": [
      "Threshold = 1, the model will not correct for selection bias\n",
      "\n"
     ]
    },
    {
     "name": "stdout",
     "output_type": "stream",
     "text": [
      "***********************************************************\n",
      "MR test results of  SWB  on  Hair_Black : \n",
      "MR-APSS: beta =  0.0312 , beta.se =  0.0422 , p-value =  4.5941e-01 . \n",
      "Total NO. of IVs=  65 , NO. of valid IVs with foreground signals:  64.9935 . \n",
      "***********************************************************\n",
      "   user  system elapsed \n",
      "  1.695   1.009   1.352 \n",
      "Pair:  SWB ~ Hair_Blonde \n",
      "Run MR-APSS ... \n",
      "IV selection threshold: 5e-05 \n",
      "***********************************************************\n",
      "MR test results of  SWB  on  Hair_Blonde : \n",
      "MR-APSS: beta =  11.4295 , beta.se =  11.2882 , p-value =  3.1129e-01 . \n",
      "Total NO. of IVs=  65 , NO. of valid IVs with foreground signals:  2.300813 . \n",
      "***********************************************************\n",
      "   user  system elapsed \n",
      " 40.795  26.260  33.977 \n",
      "Run MR-APSS (Omega = 0), i.e. MR-APSS not accounting for polygenicity and pleiotropy. ... \n",
      "IV selection threshold: 5e-05 \n",
      "***********************************************************\n",
      "MR test results of  SWB  on  Hair_Blonde : \n",
      "MR-APSS: beta =  0.0824 , beta.se =  0.2934 , p-value =  7.7883e-01 . \n",
      "Total NO. of IVs=  65 , NO. of valid IVs with foreground signals:  11.33041 . \n",
      "***********************************************************\n",
      "   user  system elapsed \n",
      "  4.827   2.895   3.867 \n",
      "Run MR-APSS (C = I), i.e. MR-APSS not accounting for sample structure ... \n",
      "IV selection threshold: 5e-05 \n",
      "***********************************************************\n",
      "MR test results of  SWB  on  Hair_Blonde : \n",
      "MR-APSS: beta =  14.2428 , beta.se =  15.2478 , p-value =  3.5026e-01 . \n",
      "Total NO. of IVs=  65 , NO. of valid IVs with foreground signals:  2.774798 . \n",
      "***********************************************************\n",
      "   user  system elapsed \n",
      " 41.376  26.217  34.386 \n",
      "Run MR-APSS not accounting for selection bias ... \n",
      "IV selection threshold: 5e-05 \n"
     ]
    },
    {
     "name": "stderr",
     "output_type": "stream",
     "text": [
      "Threshold = 1, the model will not correct for selection bias\n",
      "\n"
     ]
    },
    {
     "name": "stdout",
     "output_type": "stream",
     "text": [
      "***********************************************************\n",
      "MR test results of  SWB  on  Hair_Blonde : \n",
      "MR-APSS: beta =  -0.0058 , beta.se =  0.0402 , p-value =  8.8488e-01 . \n",
      "Total NO. of IVs=  65 , NO. of valid IVs with foreground signals:  64.9935 . \n",
      "***********************************************************\n",
      "   user  system elapsed \n",
      "  1.282   0.785   1.033 \n",
      "Pair:  SWB ~ Tanning \n",
      "Run MR-APSS ... \n",
      "IV selection threshold: 5e-05 \n",
      "***********************************************************\n",
      "MR test results of  SWB  on  Tanning : \n",
      "MR-APSS: beta =  -0.1555 , beta.se =  0.2976 , p-value =  6.0137e-01 . \n",
      "Total NO. of IVs=  64 , NO. of valid IVs with foreground signals:  8.658149 . \n",
      "***********************************************************\n",
      "   user  system elapsed \n",
      "  8.418   5.054   6.769 \n",
      "Run MR-APSS (Omega = 0), i.e. MR-APSS not accounting for polygenicity and pleiotropy. ... \n",
      "IV selection threshold: 5e-05 \n",
      "***********************************************************\n",
      "MR test results of  SWB  on  Tanning : \n",
      "MR-APSS: beta =  -0.3011 , beta.se =  0.2263 , p-value =  1.8334e-01 . \n",
      "Total NO. of IVs=  64 , NO. of valid IVs with foreground signals:  28.18584 . \n",
      "***********************************************************\n",
      "   user  system elapsed \n",
      " 19.004  12.360  16.511 \n",
      "Run MR-APSS (C = I), i.e. MR-APSS not accounting for sample structure ... \n",
      "IV selection threshold: 5e-05 \n",
      "***********************************************************\n",
      "MR test results of  SWB  on  Tanning : \n",
      "MR-APSS: beta =  -0.2703 , beta.se =  0.4151 , p-value =  5.1491e-01 . \n",
      "Total NO. of IVs=  64 , NO. of valid IVs with foreground signals:  8.254983 . \n",
      "***********************************************************\n",
      "   user  system elapsed \n",
      " 31.174  20.126  26.229 \n",
      "Run MR-APSS not accounting for selection bias ... \n",
      "IV selection threshold: 5e-05 \n"
     ]
    },
    {
     "name": "stderr",
     "output_type": "stream",
     "text": [
      "Threshold = 1, the model will not correct for selection bias\n",
      "\n"
     ]
    },
    {
     "name": "stdout",
     "output_type": "stream",
     "text": [
      "***********************************************************\n",
      "MR test results of  SWB  on  Tanning : \n",
      "MR-APSS: beta =  -0.0333 , beta.se =  0.0433 , p-value =  4.4251e-01 . \n",
      "Total NO. of IVs=  64 , NO. of valid IVs with foreground signals:  63.9936 . \n",
      "***********************************************************\n",
      "   user  system elapsed \n",
      "  0.305   0.156   0.233 \n",
      "     user    system   elapsed \n",
      "10512.427  5442.447  9139.462 \n"
     ]
    }
   ],
   "source": [
    "# All the results will be saved to the file \"NC_MRAPSS.MRres\"\n",
    "start = proc.time()\n",
    "ts1 = c(\"AD\", \"ASD\", \"Daytime_Sleepiness\", \"Height_UKB\",  \"Intelligence\", \"RA\",      \n",
    "        \"T2D\", \"Alcohol\", \"BMI\", \"Depression\", \"IBD\", \"MDD\", \"SCZ\", \"Angina\", \n",
    "        \"CAD\", \"HBP\", \"Income\", \"NEB\", \"Smoking\", \"Urate\", \"Anorexia\", \n",
    "        \"CD\", \"Height_GIANT\", \"Insomnia\", \"Neuroticism\", \"SWB\")\n",
    "\n",
    "ts2 = c(\"Hair_Light_Brown\", \"Hair_Dark_Brown\",  \"Hair_Black\",    \"Hair_Blonde\",  \"Tanning\")\n",
    "\n",
    "IV.Threshold = 5e-05\n",
    "\n",
    "for( exposure in ts1){\n",
    "  \n",
    "  for( outcome in ts2){\n",
    "    \n",
    "    cat(\"Pair: \", exposure,\"~\", outcome,\"\\n\")\n",
    "    # read in GWAS summary data for IVs\n",
    "    clumped = try(read.table(paste0(\"./MRdat/\", exposure,\"~\",outcome), header = T))\n",
    "    \n",
    "    # read in background parameters Omega and C\n",
    "    C = try(as.matrix(read.table(paste0(\"./pairs_bg_paras/\",exposure, \"~\", outcome,\"_C\"),\n",
    "                                 header = F)))\n",
    "    \n",
    "    C = matrix(C[nrow(C), ], 2,2)\n",
    "    \n",
    "    Omega = try(as.matrix(read.table(paste0(\"./pairs_bg_paras/\", exposure, \"~\", outcome,\"_Omega\"),\n",
    "                                     header = F)))\n",
    "      \n",
    "    Omega = matrix(Omega[nrow(Omega), ], 2, 2)\n",
    "    \n",
    "    if(inherits(clumped , 'try-error')) clumped = NULL\n",
    "    if(inherits(C, 'try-error')) next\n",
    "    if(inherits(Omega, 'try-error')) next\n",
    "    if(nrow(clumped) < 4 ) next\n",
    "    \n",
    "    # The p-value threshold for selection bias correction\n",
    "    Threshold =  ifelse(IV.Threshold==5e-05, unique(clumped$Threshold), IV.Threshold)\n",
    "    \n",
    "    # MR-APSS\n",
    "    cat(\"Run MR-APSS ... \\n\")\n",
    "    res = run_APSS_func(clumped = clumped,\n",
    "                        exposure = exposure,\n",
    "                        outcome = outcome,\n",
    "                        C = C,\n",
    "                        Omega=Omega,\n",
    "                        IV.Threshold = IV.Threshold,\n",
    "                        Threshold = Threshold,\n",
    "                        Cor.SelectionBias = T)\n",
    "    \n",
    "    # MR-APSS(Omega=0)\n",
    "    cat(\"Run MR-APSS (Omega = 0), i.e. MR-APSS not accounting for polygenicity and pleiotropy. ... \\n\")\n",
    "    res_Omega0 = run_APSS_func(clumped = clumped,\n",
    "                               exposure = exposure,\n",
    "                               outcome = outcome,\n",
    "                               C = C,\n",
    "                               Omega=matrix(0, 2, 2),\n",
    "                               IV.Threshold = IV.Threshold,\n",
    "                               Threshold = Threshold,\n",
    "                               Cor.SelectionBias = T)\n",
    "    res_Omega0$method = \"MR-APSS(Omega=0)\"\n",
    "     \n",
    "     # MR-APSS(C=I)\n",
    "     cat(\"Run MR-APSS (C = I), i.e. MR-APSS not accounting for sample structure ... \\n\")\n",
    "     res_CI = run_APSS_func(clumped = clumped,\n",
    "                                exposure = exposure,\n",
    "                                outcome = outcome,\n",
    "                                C = diag(2),\n",
    "                                Omega = Omega,\n",
    "                                IV.Threshold = IV.Threshold,\n",
    "                                Threshold = Threshold,\n",
    "                                Cor.SelectionBias = T)\n",
    "     res_CI$method = \"MR-APSS(C=I)\"\n",
    "     \n",
    "     # MR-APSS not accounting for selection bias\n",
    "     cat(\"Run MR-APSS not accounting for selection bias ... \\n\")\n",
    "     res_selec0 = run_APSS_func(clumped = clumped,\n",
    "                            exposure = exposure,\n",
    "                            outcome = outcome,\n",
    "                            C = C,\n",
    "                            Omega = Omega,\n",
    "                            IV.Threshold = IV.Threshold,\n",
    "                            Threshold = Threshold,\n",
    "                            Cor.SelectionBias = F)\n",
    "     res_selec0$method = \"MR-APSS(Cor.SelectionBia=F)\"\n",
    "     \n",
    "     # saving resuts\n",
    "     write.table(res, \"NC_MRAPSS.MRres\", quote=F, col.names = F, append = T,row.names = F)\n",
    "     \n",
    "     write.table(res_Omega0, \"NC_MRAPSS.MRres\", quote=F, col.names = F, append = T,row.names = F)\n",
    "     \n",
    "     write.table(res_CI, \"NC_MRAPSS.MRres\", quote=F, col.names = F, append = T,row.names = F)\n",
    "     \n",
    "     write.table(res_selec0, \"NC_MRAPSS.MRres\", quote=F, col.names = F, append = T,row.names = F)\n",
    "     \n",
    "}\n",
    "  \n",
    "}\n",
    "\n",
    "print(proc.time()-start)\n"
   ]
  },
  {
   "cell_type": "code",
   "execution_count": 21,
   "metadata": {},
   "outputs": [
    {
     "data": {
      "text/html": [
       "<table class=\"dataframe\">\n",
       "<caption>A data.frame: 6 × 14</caption>\n",
       "<thead>\n",
       "\t<tr><th></th><th scope=col>exposure</th><th scope=col>outcome</th><th scope=col>nsnp</th><th scope=col>pi</th><th scope=col>nvalid</th><th scope=col>sigma.sq</th><th scope=col>tau.sq</th><th scope=col>b</th><th scope=col>se</th><th scope=col>pval</th><th scope=col>Method</th><th scope=col>cor.Threshold</th><th scope=col>IVstrength</th><th scope=col>Threshold</th></tr>\n",
       "\t<tr><th></th><th scope=col>&lt;fct&gt;</th><th scope=col>&lt;fct&gt;</th><th scope=col>&lt;int&gt;</th><th scope=col>&lt;dbl&gt;</th><th scope=col>&lt;dbl&gt;</th><th scope=col>&lt;dbl&gt;</th><th scope=col>&lt;dbl&gt;</th><th scope=col>&lt;dbl&gt;</th><th scope=col>&lt;dbl&gt;</th><th scope=col>&lt;dbl&gt;</th><th scope=col>&lt;fct&gt;</th><th scope=col>&lt;dbl&gt;</th><th scope=col>&lt;dbl&gt;</th><th scope=col>&lt;dbl&gt;</th></tr>\n",
       "</thead>\n",
       "<tbody>\n",
       "\t<tr><th scope=row>1</th><td>AD</td><td>Hair_Light_Brown</td><td>69</td><td>0.2476728</td><td>17.08942</td><td>2.783954e-05</td><td>4.378918e-10</td><td>-6.722757e-03</td><td>0.018745343</td><td>0.71987</td><td>MR-APSS                    </td><td>5e-05</td><td>0.01289015</td><td>5e-05</td></tr>\n",
       "\t<tr><th scope=row>2</th><td>AD</td><td>Hair_Light_Brown</td><td>69</td><td>0.2563745</td><td>17.68984</td><td>2.695711e-05</td><td>4.393785e-10</td><td>-5.793170e-03</td><td>0.017510986</td><td>0.74077</td><td>MR-APSS(Omega=0)           </td><td>5e-05</td><td>0.01313690</td><td>5e-05</td></tr>\n",
       "\t<tr><th scope=row>3</th><td>AD</td><td>Hair_Light_Brown</td><td>69</td><td>0.2836725</td><td>19.57340</td><td>2.521091e-05</td><td>4.427412e-10</td><td>-8.142519e-03</td><td>0.016567372</td><td>0.62309</td><td>MR-APSS(C=I)               </td><td>5e-05</td><td>0.01374133</td><td>5e-05</td></tr>\n",
       "\t<tr><th scope=row>4</th><td>AD</td><td>Hair_Light_Brown</td><td>69</td><td>0.9999000</td><td>68.99310</td><td>3.253142e-05</td><td>2.761819e-10</td><td>-1.039444e-03</td><td>0.011615897</td><td>0.92870</td><td>MR-APSS(Cor.SelectionBia=F)</td><td>5e-05</td><td>0.03103007</td><td>5e-05</td></tr>\n",
       "\t<tr><th scope=row>5</th><td>AD</td><td>Hair_Dark_Brown </td><td>69</td><td>0.2470616</td><td>17.04725</td><td>2.787310e-05</td><td>4.372200e-10</td><td>-1.329731e-05</td><td>0.004386458</td><td>0.99758</td><td>MR-APSS                    </td><td>5e-05</td><td>0.01287394</td><td>5e-05</td></tr>\n",
       "\t<tr><th scope=row>6</th><td>AD</td><td>Hair_Dark_Brown </td><td>69</td><td>0.2558325</td><td>17.65244</td><td>2.701280e-05</td><td>8.829424e-10</td><td> 8.722353e-04</td><td>0.017557966</td><td>0.96038</td><td>MR-APSS(Omega=0)           </td><td>5e-05</td><td>0.01312450</td><td>5e-05</td></tr>\n",
       "</tbody>\n",
       "</table>\n"
      ],
      "text/latex": [
       "A data.frame: 6 × 14\n",
       "\\begin{tabular}{r|llllllllllllll}\n",
       "  & exposure & outcome & nsnp & pi & nvalid & sigma.sq & tau.sq & b & se & pval & Method & cor.Threshold & IVstrength & Threshold\\\\\n",
       "  & <fct> & <fct> & <int> & <dbl> & <dbl> & <dbl> & <dbl> & <dbl> & <dbl> & <dbl> & <fct> & <dbl> & <dbl> & <dbl>\\\\\n",
       "\\hline\n",
       "\t1 & AD & Hair\\_Light\\_Brown & 69 & 0.2476728 & 17.08942 & 2.783954e-05 & 4.378918e-10 & -6.722757e-03 & 0.018745343 & 0.71987 & MR-APSS                     & 5e-05 & 0.01289015 & 5e-05\\\\\n",
       "\t2 & AD & Hair\\_Light\\_Brown & 69 & 0.2563745 & 17.68984 & 2.695711e-05 & 4.393785e-10 & -5.793170e-03 & 0.017510986 & 0.74077 & MR-APSS(Omega=0)            & 5e-05 & 0.01313690 & 5e-05\\\\\n",
       "\t3 & AD & Hair\\_Light\\_Brown & 69 & 0.2836725 & 19.57340 & 2.521091e-05 & 4.427412e-10 & -8.142519e-03 & 0.016567372 & 0.62309 & MR-APSS(C=I)                & 5e-05 & 0.01374133 & 5e-05\\\\\n",
       "\t4 & AD & Hair\\_Light\\_Brown & 69 & 0.9999000 & 68.99310 & 3.253142e-05 & 2.761819e-10 & -1.039444e-03 & 0.011615897 & 0.92870 & MR-APSS(Cor.SelectionBia=F) & 5e-05 & 0.03103007 & 5e-05\\\\\n",
       "\t5 & AD & Hair\\_Dark\\_Brown  & 69 & 0.2470616 & 17.04725 & 2.787310e-05 & 4.372200e-10 & -1.329731e-05 & 0.004386458 & 0.99758 & MR-APSS                     & 5e-05 & 0.01287394 & 5e-05\\\\\n",
       "\t6 & AD & Hair\\_Dark\\_Brown  & 69 & 0.2558325 & 17.65244 & 2.701280e-05 & 8.829424e-10 &  8.722353e-04 & 0.017557966 & 0.96038 & MR-APSS(Omega=0)            & 5e-05 & 0.01312450 & 5e-05\\\\\n",
       "\\end{tabular}\n"
      ],
      "text/markdown": [
       "\n",
       "A data.frame: 6 × 14\n",
       "\n",
       "| <!--/--> | exposure &lt;fct&gt; | outcome &lt;fct&gt; | nsnp &lt;int&gt; | pi &lt;dbl&gt; | nvalid &lt;dbl&gt; | sigma.sq &lt;dbl&gt; | tau.sq &lt;dbl&gt; | b &lt;dbl&gt; | se &lt;dbl&gt; | pval &lt;dbl&gt; | Method &lt;fct&gt; | cor.Threshold &lt;dbl&gt; | IVstrength &lt;dbl&gt; | Threshold &lt;dbl&gt; |\n",
       "|---|---|---|---|---|---|---|---|---|---|---|---|---|---|---|\n",
       "| 1 | AD | Hair_Light_Brown | 69 | 0.2476728 | 17.08942 | 2.783954e-05 | 4.378918e-10 | -6.722757e-03 | 0.018745343 | 0.71987 | MR-APSS                     | 5e-05 | 0.01289015 | 5e-05 |\n",
       "| 2 | AD | Hair_Light_Brown | 69 | 0.2563745 | 17.68984 | 2.695711e-05 | 4.393785e-10 | -5.793170e-03 | 0.017510986 | 0.74077 | MR-APSS(Omega=0)            | 5e-05 | 0.01313690 | 5e-05 |\n",
       "| 3 | AD | Hair_Light_Brown | 69 | 0.2836725 | 19.57340 | 2.521091e-05 | 4.427412e-10 | -8.142519e-03 | 0.016567372 | 0.62309 | MR-APSS(C=I)                | 5e-05 | 0.01374133 | 5e-05 |\n",
       "| 4 | AD | Hair_Light_Brown | 69 | 0.9999000 | 68.99310 | 3.253142e-05 | 2.761819e-10 | -1.039444e-03 | 0.011615897 | 0.92870 | MR-APSS(Cor.SelectionBia=F) | 5e-05 | 0.03103007 | 5e-05 |\n",
       "| 5 | AD | Hair_Dark_Brown  | 69 | 0.2470616 | 17.04725 | 2.787310e-05 | 4.372200e-10 | -1.329731e-05 | 0.004386458 | 0.99758 | MR-APSS                     | 5e-05 | 0.01287394 | 5e-05 |\n",
       "| 6 | AD | Hair_Dark_Brown  | 69 | 0.2558325 | 17.65244 | 2.701280e-05 | 8.829424e-10 |  8.722353e-04 | 0.017557966 | 0.96038 | MR-APSS(Omega=0)            | 5e-05 | 0.01312450 | 5e-05 |\n",
       "\n"
      ],
      "text/plain": [
       "  exposure outcome          nsnp pi        nvalid   sigma.sq     tau.sq      \n",
       "1 AD       Hair_Light_Brown 69   0.2476728 17.08942 2.783954e-05 4.378918e-10\n",
       "2 AD       Hair_Light_Brown 69   0.2563745 17.68984 2.695711e-05 4.393785e-10\n",
       "3 AD       Hair_Light_Brown 69   0.2836725 19.57340 2.521091e-05 4.427412e-10\n",
       "4 AD       Hair_Light_Brown 69   0.9999000 68.99310 3.253142e-05 2.761819e-10\n",
       "5 AD       Hair_Dark_Brown  69   0.2470616 17.04725 2.787310e-05 4.372200e-10\n",
       "6 AD       Hair_Dark_Brown  69   0.2558325 17.65244 2.701280e-05 8.829424e-10\n",
       "  b             se          pval    Method                      cor.Threshold\n",
       "1 -6.722757e-03 0.018745343 0.71987 MR-APSS                     5e-05        \n",
       "2 -5.793170e-03 0.017510986 0.74077 MR-APSS(Omega=0)            5e-05        \n",
       "3 -8.142519e-03 0.016567372 0.62309 MR-APSS(C=I)                5e-05        \n",
       "4 -1.039444e-03 0.011615897 0.92870 MR-APSS(Cor.SelectionBia=F) 5e-05        \n",
       "5 -1.329731e-05 0.004386458 0.99758 MR-APSS                     5e-05        \n",
       "6  8.722353e-04 0.017557966 0.96038 MR-APSS(Omega=0)            5e-05        \n",
       "  IVstrength Threshold\n",
       "1 0.01289015 5e-05    \n",
       "2 0.01313690 5e-05    \n",
       "3 0.01374133 5e-05    \n",
       "4 0.03103007 5e-05    \n",
       "5 0.01287394 5e-05    \n",
       "6 0.01312450 5e-05    "
      ]
     },
     "metadata": {},
     "output_type": "display_data"
    }
   ],
   "source": [
    "apss_res = read.table(\"NC_MRAPSS.MRres\", header = F)\n",
    "colnames(apss_res) = c(\"exposure\",\"outcome\", \"nsnp\",\"pi\",\"nvalid\",\"sigma.sq\",\"tau.sq\",\"b\",\"se\",\"pval\",\n",
    "                        \"Method\", \"cor.Threshold\", \"IVstrength\", \"Threshold\")\n",
    "head(apss_res)\n",
    "write.table(apss_res, \"NC_MRAPSS.MRres\", quote=F, col.names = T, append = F,row.names = F)"
   ]
  },
  {
   "cell_type": "markdown",
   "metadata": {},
   "source": [
    "# Run MR-APSS changing the IV threshold"
   ]
  },
  {
   "cell_type": "code",
   "execution_count": 5,
   "metadata": {},
   "outputs": [
    {
     "name": "stdout",
     "output_type": "stream",
     "text": [
      "Pair:  AD ~ Hair_Light_Brown \n",
      "Run MR-APSS ... \n",
      "IV selection threshold: 5e-06 \n",
      "***********************************************************\n",
      "MR test results of  AD  on  Hair_Light_Brown : \n",
      "MR-APSS: beta =  -0.0065 , beta.se =  0.0194 , p-value =  7.3711e-01 . \n",
      "Total NO. of IVs=  24 , NO. of valid IVs with foreground signals:  14.10276 . \n",
      "***********************************************************\n",
      "   user  system elapsed \n",
      "  0.647   0.206   0.428 \n",
      "IV selection threshold: 5e-07 \n",
      "***********************************************************\n",
      "MR test results of  AD  on  Hair_Light_Brown : \n",
      "MR-APSS: beta =  -9e-04 , beta.se =  0.0202 , p-value =  9.6452e-01 . \n",
      "Total NO. of IVs=  16 , NO. of valid IVs with foreground signals:  11.26786 . \n",
      "***********************************************************\n",
      "   user  system elapsed \n",
      " 10.843   3.212   7.029 \n",
      "IV selection threshold: 5e-08 \n",
      "***********************************************************\n",
      "MR test results of  AD  on  Hair_Light_Brown : \n",
      "MR-APSS: beta =  0.0037 , beta.se =  0.02 , p-value =  8.5295e-01 . \n",
      "Total NO. of IVs=  10 , NO. of valid IVs with foreground signals:  9.997928 . \n",
      "***********************************************************\n",
      "   user  system elapsed \n",
      " 12.312   3.654   7.984 \n",
      "Run MR-APSS not accounting for selection bias ... \n",
      "IV selection threshold: 5e-06 \n"
     ]
    },
    {
     "name": "stderr",
     "output_type": "stream",
     "text": [
      "Threshold = 1, the model will not correct for selection bias\n",
      "\n"
     ]
    },
    {
     "name": "stdout",
     "output_type": "stream",
     "text": [
      "***********************************************************\n",
      "MR test results of  AD  on  Hair_Light_Brown : \n",
      "MR-APSS: beta =  -2e-04 , beta.se =  0.0153 , p-value =  9.8809e-01 . \n",
      "Total NO. of IVs=  24 , NO. of valid IVs with foreground signals:  23.9976 . \n",
      "***********************************************************\n",
      "   user  system elapsed \n",
      "  3.457   0.944   2.201 \n",
      "IV selection threshold: 5e-07 \n"
     ]
    },
    {
     "name": "stderr",
     "output_type": "stream",
     "text": [
      "Threshold = 1, the model will not correct for selection bias\n",
      "\n"
     ]
    },
    {
     "name": "stdout",
     "output_type": "stream",
     "text": [
      "***********************************************************\n",
      "MR test results of  AD  on  Hair_Light_Brown : \n",
      "MR-APSS: beta =  -0.0114 , beta.se =  0.0171 , p-value =  5.0541e-01 . \n",
      "Total NO. of IVs=  16 , NO. of valid IVs with foreground signals:  15.9984 . \n",
      "***********************************************************\n",
      "   user  system elapsed \n",
      " 13.594   4.219   8.909 \n",
      "IV selection threshold: 5e-08 \n"
     ]
    },
    {
     "name": "stderr",
     "output_type": "stream",
     "text": [
      "Threshold = 1, the model will not correct for selection bias\n",
      "\n"
     ]
    },
    {
     "name": "stdout",
     "output_type": "stream",
     "text": [
      "***********************************************************\n",
      "MR test results of  AD  on  Hair_Light_Brown : \n",
      "MR-APSS: beta =  0.0035 , beta.se =  0.0192 , p-value =  8.5386e-01 . \n",
      "Total NO. of IVs=  10 , NO. of valid IVs with foreground signals:  9.999 . \n",
      "***********************************************************\n",
      "   user  system elapsed \n",
      " 13.476   4.164   8.822 \n",
      "Pair:  AD ~ Hair_Dark_Brown \n",
      "Run MR-APSS ... \n",
      "IV selection threshold: 5e-06 \n",
      "***********************************************************\n",
      "MR test results of  AD  on  Hair_Dark_Brown : \n",
      "MR-APSS: beta =  -0.0012 , beta.se =  0.0211 , p-value =  9.5652e-01 . \n",
      "Total NO. of IVs=  24 , NO. of valid IVs with foreground signals:  14.02162 . \n",
      "***********************************************************\n",
      "   user  system elapsed \n",
      "  2.043   0.577   1.310 \n",
      "IV selection threshold: 5e-07 \n",
      "***********************************************************\n",
      "MR test results of  AD  on  Hair_Dark_Brown : \n",
      "MR-APSS: beta =  -0.0067 , beta.se =  0.0226 , p-value =  7.6876e-01 . \n",
      "Total NO. of IVs=  16 , NO. of valid IVs with foreground signals:  11.17581 . \n",
      "***********************************************************\n",
      "   user  system elapsed \n",
      "  9.569   2.817   6.194 \n",
      "IV selection threshold: 5e-08 \n",
      "***********************************************************\n",
      "MR test results of  AD  on  Hair_Dark_Brown : \n",
      "MR-APSS: beta =  -0.0112 , beta.se =  0.0226 , p-value =  6.1997e-01 . \n",
      "Total NO. of IVs=  10 , NO. of valid IVs with foreground signals:  9.997783 . \n",
      "***********************************************************\n",
      "   user  system elapsed \n",
      " 10.314   3.302   6.814 \n",
      "Run MR-APSS not accounting for selection bias ... \n",
      "IV selection threshold: 5e-06 \n"
     ]
    },
    {
     "name": "stderr",
     "output_type": "stream",
     "text": [
      "Threshold = 1, the model will not correct for selection bias\n",
      "\n"
     ]
    },
    {
     "name": "stdout",
     "output_type": "stream",
     "text": [
      "***********************************************************\n",
      "MR test results of  AD  on  Hair_Dark_Brown : \n",
      "MR-APSS: beta =  -0.0032 , beta.se =  0.0178 , p-value =  8.5564e-01 . \n",
      "Total NO. of IVs=  24 , NO. of valid IVs with foreground signals:  23.9976 . \n",
      "***********************************************************\n",
      "   user  system elapsed \n",
      "  8.437   2.559   5.501 \n",
      "IV selection threshold: 5e-07 \n"
     ]
    },
    {
     "name": "stderr",
     "output_type": "stream",
     "text": [
      "Threshold = 1, the model will not correct for selection bias\n",
      "\n"
     ]
    },
    {
     "name": "stdout",
     "output_type": "stream",
     "text": [
      "***********************************************************\n",
      "MR test results of  AD  on  Hair_Dark_Brown : \n",
      "MR-APSS: beta =  0.0056 , beta.se =  0.0192 , p-value =  7.7196e-01 . \n",
      "Total NO. of IVs=  16 , NO. of valid IVs with foreground signals:  15.9984 . \n",
      "***********************************************************\n",
      "   user  system elapsed \n",
      " 16.837   5.059  10.951 \n",
      "IV selection threshold: 5e-08 \n"
     ]
    },
    {
     "name": "stderr",
     "output_type": "stream",
     "text": [
      "Threshold = 1, the model will not correct for selection bias\n",
      "\n"
     ]
    },
    {
     "name": "stdout",
     "output_type": "stream",
     "text": [
      "***********************************************************\n",
      "MR test results of  AD  on  Hair_Dark_Brown : \n",
      "MR-APSS: beta =  -0.011 , beta.se =  0.0216 , p-value =  6.1260e-01 . \n",
      "Total NO. of IVs=  10 , NO. of valid IVs with foreground signals:  9.999 . \n",
      "***********************************************************\n",
      "   user  system elapsed \n",
      " 11.975   3.784   7.881 \n",
      "Pair:  AD ~ Hair_Black \n",
      "Run MR-APSS ... \n",
      "IV selection threshold: 5e-06 \n",
      "***********************************************************\n",
      "MR test results of  AD  on  Hair_Black : \n",
      "MR-APSS: beta =  0.012 , beta.se =  0.0215 , p-value =  5.7695e-01 . \n",
      "Total NO. of IVs=  24 , NO. of valid IVs with foreground signals:  14.1271 . \n",
      "***********************************************************\n",
      "   user  system elapsed \n",
      "  9.229   2.924   6.077 \n",
      "IV selection threshold: 5e-07 \n",
      "***********************************************************\n",
      "MR test results of  AD  on  Hair_Black : \n",
      "MR-APSS: beta =  0.0063 , beta.se =  0.0227 , p-value =  7.8185e-01 . \n",
      "Total NO. of IVs=  16 , NO. of valid IVs with foreground signals:  11.29605 . \n",
      "***********************************************************\n",
      "   user  system elapsed \n",
      " 13.121   4.000   8.562 \n",
      "IV selection threshold: 5e-08 \n",
      "***********************************************************\n",
      "MR test results of  AD  on  Hair_Black : \n",
      "MR-APSS: beta =  0.0022 , beta.se =  0.0226 , p-value =  9.2292e-01 . \n",
      "Total NO. of IVs=  10 , NO. of valid IVs with foreground signals:  9.99791 . \n",
      "***********************************************************\n",
      "   user  system elapsed \n",
      " 12.592   3.867   8.230 \n",
      "Run MR-APSS not accounting for selection bias ... \n",
      "IV selection threshold: 5e-06 \n"
     ]
    },
    {
     "name": "stderr",
     "output_type": "stream",
     "text": [
      "Threshold = 1, the model will not correct for selection bias\n",
      "\n"
     ]
    },
    {
     "name": "stdout",
     "output_type": "stream",
     "text": [
      "***********************************************************\n",
      "MR test results of  AD  on  Hair_Black : \n",
      "MR-APSS: beta =  0.0093 , beta.se =  0.0177 , p-value =  5.9964e-01 . \n",
      "Total NO. of IVs=  24 , NO. of valid IVs with foreground signals:  23.9976 . \n",
      "***********************************************************\n",
      "   user  system elapsed \n",
      " 20.493   6.435  13.465 \n",
      "IV selection threshold: 5e-07 \n"
     ]
    },
    {
     "name": "stderr",
     "output_type": "stream",
     "text": [
      "Threshold = 1, the model will not correct for selection bias\n",
      "\n"
     ]
    },
    {
     "name": "stdout",
     "output_type": "stream",
     "text": [
      "***********************************************************\n",
      "MR test results of  AD  on  Hair_Black : \n",
      "MR-APSS: beta =  0.0159 , beta.se =  0.0193 , p-value =  4.0834e-01 . \n",
      "Total NO. of IVs=  16 , NO. of valid IVs with foreground signals:  15.9984 . \n",
      "***********************************************************\n",
      "   user  system elapsed \n",
      " 19.675   6.424  13.050 \n",
      "IV selection threshold: 5e-08 \n"
     ]
    },
    {
     "name": "stderr",
     "output_type": "stream",
     "text": [
      "Threshold = 1, the model will not correct for selection bias\n",
      "\n"
     ]
    },
    {
     "name": "stdout",
     "output_type": "stream",
     "text": [
      "***********************************************************\n",
      "MR test results of  AD  on  Hair_Black : \n",
      "MR-APSS: beta =  0.0019 , beta.se =  0.0217 , p-value =  9.2949e-01 . \n",
      "Total NO. of IVs=  10 , NO. of valid IVs with foreground signals:  9.999 . \n",
      "***********************************************************\n",
      "   user  system elapsed \n",
      " 13.627   4.322   8.976 \n",
      "Pair:  AD ~ Hair_Blonde \n",
      "Run MR-APSS ... \n",
      "IV selection threshold: 5e-06 \n",
      "***********************************************************\n",
      "MR test results of  AD  on  Hair_Blonde : \n",
      "MR-APSS: beta =  0.0208 , beta.se =  0.02 , p-value =  2.9778e-01 . \n",
      "Total NO. of IVs=  24 , NO. of valid IVs with foreground signals:  13.88661 . \n",
      "***********************************************************\n",
      "   user  system elapsed \n",
      "  0.608   0.173   0.390 \n",
      "IV selection threshold: 5e-07 \n",
      "***********************************************************\n",
      "MR test results of  AD  on  Hair_Blonde : \n",
      "MR-APSS: beta =  0.0254 , beta.se =  0.0211 , p-value =  2.3007e-01 . \n",
      "Total NO. of IVs=  16 , NO. of valid IVs with foreground signals:  11.04091 . \n",
      "***********************************************************\n",
      "   user  system elapsed \n",
      " 15.968   5.040  10.505 \n",
      "IV selection threshold: 5e-08 \n",
      "***********************************************************\n",
      "MR test results of  AD  on  Hair_Blonde : \n",
      "MR-APSS: beta =  0.0261 , beta.se =  0.0211 , p-value =  2.1777e-01 . \n",
      "Total NO. of IVs=  10 , NO. of valid IVs with foreground signals:  9.996524 . \n",
      "***********************************************************\n",
      "   user  system elapsed \n",
      " 18.023   5.194  11.611 \n",
      "Run MR-APSS not accounting for selection bias ... \n",
      "IV selection threshold: 5e-06 \n"
     ]
    },
    {
     "name": "stderr",
     "output_type": "stream",
     "text": [
      "Threshold = 1, the model will not correct for selection bias\n",
      "\n"
     ]
    },
    {
     "name": "stdout",
     "output_type": "stream",
     "text": [
      "***********************************************************\n",
      "MR test results of  AD  on  Hair_Blonde : \n",
      "MR-APSS: beta =  0.0108 , beta.se =  0.0166 , p-value =  5.1491e-01 . \n",
      "Total NO. of IVs=  24 , NO. of valid IVs with foreground signals:  23.9976 . \n",
      "***********************************************************\n",
      "   user  system elapsed \n",
      "  0.158   0.039   0.099 \n",
      "IV selection threshold: 5e-07 \n"
     ]
    },
    {
     "name": "stderr",
     "output_type": "stream",
     "text": [
      "Threshold = 1, the model will not correct for selection bias\n",
      "\n"
     ]
    },
    {
     "name": "stdout",
     "output_type": "stream",
     "text": [
      "***********************************************************\n",
      "MR test results of  AD  on  Hair_Blonde : \n",
      "MR-APSS: beta =  0.016 , beta.se =  0.0179 , p-value =  3.6996e-01 . \n",
      "Total NO. of IVs=  16 , NO. of valid IVs with foreground signals:  15.9984 . \n",
      "***********************************************************\n",
      "   user  system elapsed \n",
      " 24.983   7.475  16.233 \n",
      "IV selection threshold: 5e-08 \n"
     ]
    },
    {
     "name": "stderr",
     "output_type": "stream",
     "text": [
      "Threshold = 1, the model will not correct for selection bias\n",
      "\n"
     ]
    },
    {
     "name": "stdout",
     "output_type": "stream",
     "text": [
      "***********************************************************\n",
      "MR test results of  AD  on  Hair_Blonde : \n",
      "MR-APSS: beta =  0.0261 , beta.se =  0.0202 , p-value =  1.9713e-01 . \n",
      "Total NO. of IVs=  10 , NO. of valid IVs with foreground signals:  9.999 . \n",
      "***********************************************************\n",
      "   user  system elapsed \n",
      " 18.509   5.511  12.012 \n",
      "Pair:  AD ~ Tanning \n",
      "Run MR-APSS ... \n",
      "IV selection threshold: 5e-06 \n",
      "***********************************************************\n",
      "MR test results of  AD  on  Tanning : \n",
      "MR-APSS: beta =  0.021 , beta.se =  0.0272 , p-value =  4.3959e-01 . \n",
      "Total NO. of IVs=  24 , NO. of valid IVs with foreground signals:  14.13979 . \n",
      "***********************************************************\n",
      "   user  system elapsed \n",
      "  2.396   0.718   1.558 \n",
      "IV selection threshold: 5e-07 \n",
      "***********************************************************\n",
      "MR test results of  AD  on  Tanning : \n",
      "MR-APSS: beta =  0.0156 , beta.se =  0.0297 , p-value =  6.0018e-01 . \n",
      "Total NO. of IVs=  16 , NO. of valid IVs with foreground signals:  11.35289 . \n",
      "***********************************************************\n",
      "   user  system elapsed \n",
      "  0.744   0.275   0.509 \n",
      "IV selection threshold: 5e-08 \n",
      "***********************************************************\n",
      "MR test results of  AD  on  Tanning : \n",
      "MR-APSS: beta =  0.0099 , beta.se =  0.0296 , p-value =  7.3747e-01 . \n",
      "Total NO. of IVs=  10 , NO. of valid IVs with foreground signals:  9.997346 . \n",
      "***********************************************************\n",
      "   user  system elapsed \n",
      "  0.555   0.160   0.358 \n",
      "Run MR-APSS not accounting for selection bias ... \n",
      "IV selection threshold: 5e-06 \n"
     ]
    },
    {
     "name": "stderr",
     "output_type": "stream",
     "text": [
      "Threshold = 1, the model will not correct for selection bias\n",
      "\n"
     ]
    },
    {
     "name": "stdout",
     "output_type": "stream",
     "text": [
      "***********************************************************\n",
      "MR test results of  AD  on  Tanning : \n",
      "MR-APSS: beta =  0.0297 , beta.se =  0.0211 , p-value =  1.5914e-01 . \n",
      "Total NO. of IVs=  24 , NO. of valid IVs with foreground signals:  23.9976 . \n",
      "***********************************************************\n",
      "   user  system elapsed \n",
      "  5.418   1.561   3.490 \n",
      "IV selection threshold: 5e-07 \n"
     ]
    },
    {
     "name": "stderr",
     "output_type": "stream",
     "text": [
      "Threshold = 1, the model will not correct for selection bias\n",
      "\n"
     ]
    },
    {
     "name": "stdout",
     "output_type": "stream",
     "text": [
      "***********************************************************\n",
      "MR test results of  AD  on  Tanning : \n",
      "MR-APSS: beta =  0.025 , beta.se =  0.0251 , p-value =  3.1993e-01 . \n",
      "Total NO. of IVs=  16 , NO. of valid IVs with foreground signals:  15.9984 . \n",
      "***********************************************************\n",
      "   user  system elapsed \n",
      "  0.871   0.275   0.573 \n",
      "IV selection threshold: 5e-08 \n"
     ]
    },
    {
     "name": "stderr",
     "output_type": "stream",
     "text": [
      "Threshold = 1, the model will not correct for selection bias\n",
      "\n"
     ]
    },
    {
     "name": "stdout",
     "output_type": "stream",
     "text": [
      "***********************************************************\n",
      "MR test results of  AD  on  Tanning : \n",
      "MR-APSS: beta =  0.0094 , beta.se =  0.0283 , p-value =  7.3887e-01 . \n",
      "Total NO. of IVs=  10 , NO. of valid IVs with foreground signals:  9.999 . \n",
      "***********************************************************\n",
      "   user  system elapsed \n",
      "  0.629   0.189   0.408 \n",
      "Pair:  ASD ~ Hair_Light_Brown \n",
      "Run MR-APSS ... \n",
      "IV selection threshold: 5e-06 \n",
      "***********************************************************\n",
      "MR test results of  ASD  on  Hair_Light_Brown : \n",
      "MR-APSS: beta =  -0.0538 , beta.se =  0.0642 , p-value =  4.0133e-01 . \n",
      "Total NO. of IVs=  6 , NO. of valid IVs with foreground signals:  5.999261 . \n",
      "***********************************************************\n",
      "   user  system elapsed \n",
      " 12.090   3.548   7.820 \n",
      "Run MR-APSS not accounting for selection bias ... \n",
      "IV selection threshold: 5e-06 \n"
     ]
    },
    {
     "name": "stderr",
     "output_type": "stream",
     "text": [
      "Threshold = 1, the model will not correct for selection bias\n",
      "\n"
     ]
    },
    {
     "name": "stdout",
     "output_type": "stream",
     "text": [
      "***********************************************************\n",
      "MR test results of  ASD  on  Hair_Light_Brown : \n",
      "MR-APSS: beta =  -0.0144 , beta.se =  0.0228 , p-value =  5.2850e-01 . \n",
      "Total NO. of IVs=  6 , NO. of valid IVs with foreground signals:  5.9994 . \n",
      "***********************************************************\n",
      "   user  system elapsed \n",
      " 13.729   3.907   8.820 \n",
      "Pair:  ASD ~ Hair_Dark_Brown \n",
      "Run MR-APSS ... \n",
      "IV selection threshold: 5e-06 \n",
      "***********************************************************\n",
      "MR test results of  ASD  on  Hair_Dark_Brown : \n",
      "MR-APSS: beta =  0.0663 , beta.se =  0.084 , p-value =  4.2990e-01 . \n",
      "Total NO. of IVs=  6 , NO. of valid IVs with foreground signals:  5.999085 . \n",
      "***********************************************************\n",
      "   user  system elapsed \n",
      "  7.237   2.344   4.791 \n",
      "Run MR-APSS not accounting for selection bias ... \n",
      "IV selection threshold: 5e-06 \n"
     ]
    },
    {
     "name": "stderr",
     "output_type": "stream",
     "text": [
      "Threshold = 1, the model will not correct for selection bias\n",
      "\n"
     ]
    },
    {
     "name": "stdout",
     "output_type": "stream",
     "text": [
      "***********************************************************\n",
      "MR test results of  ASD  on  Hair_Dark_Brown : \n",
      "MR-APSS: beta =  0.0108 , beta.se =  0.027 , p-value =  6.8809e-01 . \n",
      "Total NO. of IVs=  6 , NO. of valid IVs with foreground signals:  5.9994 . \n",
      "***********************************************************\n",
      "   user  system elapsed \n",
      "  4.299   1.344   2.822 \n",
      "Pair:  ASD ~ Hair_Black \n",
      "Run MR-APSS ... \n",
      "IV selection threshold: 5e-06 \n",
      "***********************************************************\n",
      "MR test results of  ASD  on  Hair_Black : \n",
      "MR-APSS: beta =  0.0441 , beta.se =  0.0699 , p-value =  5.2773e-01 . \n",
      "Total NO. of IVs=  6 , NO. of valid IVs with foreground signals:  5.999273 . \n",
      "***********************************************************\n",
      "   user  system elapsed \n",
      "  8.179   2.273   5.226 \n",
      "Run MR-APSS not accounting for selection bias ... \n",
      "IV selection threshold: 5e-06 \n"
     ]
    },
    {
     "name": "stderr",
     "output_type": "stream",
     "text": [
      "Threshold = 1, the model will not correct for selection bias\n",
      "\n"
     ]
    },
    {
     "name": "stdout",
     "output_type": "stream",
     "text": [
      "***********************************************************\n",
      "MR test results of  ASD  on  Hair_Black : \n",
      "MR-APSS: beta =  0.018 , beta.se =  0.0261 , p-value =  4.8930e-01 . \n",
      "Total NO. of IVs=  6 , NO. of valid IVs with foreground signals:  5.9994 . \n",
      "***********************************************************\n",
      "   user  system elapsed \n",
      "  9.846   2.973   6.410 \n",
      "Pair:  ASD ~ Hair_Blonde \n",
      "Run MR-APSS ... \n",
      "IV selection threshold: 5e-06 \n",
      "***********************************************************\n",
      "MR test results of  ASD  on  Hair_Blonde : \n",
      "MR-APSS: beta =  0.011 , beta.se =  0.0711 , p-value =  8.7729e-01 . \n",
      "Total NO. of IVs=  6 , NO. of valid IVs with foreground signals:  5.999215 . \n",
      "***********************************************************\n",
      "   user  system elapsed \n",
      "  7.097   2.104   4.602 \n",
      "Run MR-APSS not accounting for selection bias ... \n",
      "IV selection threshold: 5e-06 \n"
     ]
    },
    {
     "name": "stderr",
     "output_type": "stream",
     "text": [
      "Threshold = 1, the model will not correct for selection bias\n",
      "\n"
     ]
    },
    {
     "name": "stdout",
     "output_type": "stream",
     "text": [
      "***********************************************************\n",
      "MR test results of  ASD  on  Hair_Blonde : \n",
      "MR-APSS: beta =  0.0143 , beta.se =  0.0251 , p-value =  5.6788e-01 . \n",
      "Total NO. of IVs=  6 , NO. of valid IVs with foreground signals:  5.9994 . \n",
      "***********************************************************\n",
      "   user  system elapsed \n",
      "  8.020   2.407   5.215 \n",
      "Pair:  ASD ~ Tanning \n",
      "Run MR-APSS ... \n",
      "IV selection threshold: 5e-06 \n",
      "***********************************************************\n",
      "MR test results of  ASD  on  Tanning : \n",
      "MR-APSS: beta =  -0.0052 , beta.se =  0.087 , p-value =  9.5260e-01 . \n",
      "Total NO. of IVs=  6 , NO. of valid IVs with foreground signals:  5.999189 . \n",
      "***********************************************************\n",
      "   user  system elapsed \n",
      "  2.751   0.845   1.798 \n",
      "Run MR-APSS not accounting for selection bias ... \n",
      "IV selection threshold: 5e-06 \n"
     ]
    },
    {
     "name": "stderr",
     "output_type": "stream",
     "text": [
      "Threshold = 1, the model will not correct for selection bias\n",
      "\n"
     ]
    },
    {
     "name": "stdout",
     "output_type": "stream",
     "text": [
      "***********************************************************\n",
      "MR test results of  ASD  on  Tanning : \n",
      "MR-APSS: beta =  0.0109 , beta.se =  0.0302 , p-value =  7.1732e-01 . \n",
      "Total NO. of IVs=  6 , NO. of valid IVs with foreground signals:  5.9994 . \n",
      "***********************************************************\n",
      "   user  system elapsed \n",
      "  0.070   0.008   0.039 \n",
      "Pair:  Daytime_Sleepiness ~ Hair_Light_Brown \n",
      "Run MR-APSS ... \n",
      "IV selection threshold: 5e-06 \n",
      "***********************************************************\n",
      "MR test results of  Daytime_Sleepiness  on  Hair_Light_Brown : \n",
      "MR-APSS: beta =  0.0767 , beta.se =  0.057 , p-value =  1.7869e-01 . \n",
      "Total NO. of IVs=  106 , NO. of valid IVs with foreground signals:  34.23459 . \n",
      "***********************************************************\n",
      "   user  system elapsed \n",
      " 86.203  25.808  56.017 \n",
      "IV selection threshold: 5e-07 \n",
      "***********************************************************\n",
      "MR test results of  Daytime_Sleepiness  on  Hair_Light_Brown : \n",
      "MR-APSS: beta =  0.0829 , beta.se =  0.0637 , p-value =  1.9279e-01 . \n",
      "Total NO. of IVs=  51 , NO. of valid IVs with foreground signals:  24.26067 . \n",
      "***********************************************************\n",
      "   user  system elapsed \n",
      "  3.804   1.240   2.522 \n",
      "IV selection threshold: 5e-08 \n",
      "***********************************************************\n",
      "MR test results of  Daytime_Sleepiness  on  Hair_Light_Brown : \n",
      "MR-APSS: beta =  0.0784 , beta.se =  0.071 , p-value =  2.6967e-01 . \n",
      "Total NO. of IVs=  29 , NO. of valid IVs with foreground signals:  19.38674 . \n",
      "***********************************************************\n",
      "   user  system elapsed \n",
      "  1.989   0.548   1.268 \n",
      "Run MR-APSS not accounting for selection bias ... \n",
      "IV selection threshold: 5e-06 \n"
     ]
    },
    {
     "name": "stderr",
     "output_type": "stream",
     "text": [
      "Threshold = 1, the model will not correct for selection bias\n",
      "\n"
     ]
    },
    {
     "name": "stdout",
     "output_type": "stream",
     "text": [
      "***********************************************************\n",
      "MR test results of  Daytime_Sleepiness  on  Hair_Light_Brown : \n",
      "MR-APSS: beta =  0.0305 , beta.se =  0.027 , p-value =  2.5736e-01 . \n",
      "Total NO. of IVs=  106 , NO. of valid IVs with foreground signals:  105.9894 . \n",
      "***********************************************************\n",
      "   user  system elapsed \n",
      "  0.639   0.189   0.414 \n",
      "IV selection threshold: 5e-07 \n"
     ]
    },
    {
     "name": "stderr",
     "output_type": "stream",
     "text": [
      "Threshold = 1, the model will not correct for selection bias\n",
      "\n"
     ]
    },
    {
     "name": "stdout",
     "output_type": "stream",
     "text": [
      "***********************************************************\n",
      "MR test results of  Daytime_Sleepiness  on  Hair_Light_Brown : \n",
      "MR-APSS: beta =  0.0714 , beta.se =  0.0368 , p-value =  5.2318e-02 . \n",
      "Total NO. of IVs=  51 , NO. of valid IVs with foreground signals:  50.9949 . \n",
      "***********************************************************\n",
      "   user  system elapsed \n",
      " 13.185   4.181   8.684 \n",
      "IV selection threshold: 5e-08 \n"
     ]
    },
    {
     "name": "stderr",
     "output_type": "stream",
     "text": [
      "Threshold = 1, the model will not correct for selection bias\n",
      "\n"
     ]
    },
    {
     "name": "stdout",
     "output_type": "stream",
     "text": [
      "***********************************************************\n",
      "MR test results of  Daytime_Sleepiness  on  Hair_Light_Brown : \n",
      "MR-APSS: beta =  0.052 , beta.se =  0.0492 , p-value =  2.9053e-01 . \n",
      "Total NO. of IVs=  29 , NO. of valid IVs with foreground signals:  28.9971 . \n",
      "***********************************************************\n",
      "   user  system elapsed \n",
      "  1.347   0.320   0.833 \n",
      "Pair:  Daytime_Sleepiness ~ Hair_Dark_Brown \n",
      "Run MR-APSS ... \n",
      "IV selection threshold: 5e-06 \n",
      "***********************************************************\n",
      "MR test results of  Daytime_Sleepiness  on  Hair_Dark_Brown : \n",
      "MR-APSS: beta =  -0.1191 , beta.se =  0.0629 , p-value =  5.8012e-02 . \n",
      "Total NO. of IVs=  106 , NO. of valid IVs with foreground signals:  33.82846 . \n",
      "***********************************************************\n",
      "   user  system elapsed \n",
      "  5.442   1.607   3.525 \n",
      "IV selection threshold: 5e-07 \n",
      "***********************************************************\n",
      "MR test results of  Daytime_Sleepiness  on  Hair_Dark_Brown : \n",
      "MR-APSS: beta =  -0.1477 , beta.se =  0.0691 , p-value =  3.2679e-02 . \n",
      "Total NO. of IVs=  51 , NO. of valid IVs with foreground signals:  23.79646 . \n",
      "***********************************************************\n",
      "   user  system elapsed \n",
      "  2.369   0.691   1.530 \n",
      "IV selection threshold: 5e-08 \n",
      "***********************************************************\n",
      "MR test results of  Daytime_Sleepiness  on  Hair_Dark_Brown : \n",
      "MR-APSS: beta =  -0.1523 , beta.se =  0.0853 , p-value =  7.4221e-02 . \n",
      "Total NO. of IVs=  29 , NO. of valid IVs with foreground signals:  19.63544 . \n",
      "***********************************************************\n",
      "   user  system elapsed \n",
      "  2.490   0.801   1.645 \n",
      "Run MR-APSS not accounting for selection bias ... \n",
      "IV selection threshold: 5e-06 \n"
     ]
    },
    {
     "name": "stderr",
     "output_type": "stream",
     "text": [
      "Threshold = 1, the model will not correct for selection bias\n",
      "\n"
     ]
    },
    {
     "name": "stdout",
     "output_type": "stream",
     "text": [
      "***********************************************************\n",
      "MR test results of  Daytime_Sleepiness  on  Hair_Dark_Brown : \n",
      "MR-APSS: beta =  -0.0398 , beta.se =  0.0316 , p-value =  2.0823e-01 . \n",
      "Total NO. of IVs=  106 , NO. of valid IVs with foreground signals:  105.9894 . \n",
      "***********************************************************\n",
      "   user  system elapsed \n",
      "  0.613   0.147   0.380 \n",
      "IV selection threshold: 5e-07 \n"
     ]
    },
    {
     "name": "stderr",
     "output_type": "stream",
     "text": [
      "Threshold = 1, the model will not correct for selection bias\n",
      "\n"
     ]
    },
    {
     "name": "stdout",
     "output_type": "stream",
     "text": [
      "***********************************************************\n",
      "MR test results of  Daytime_Sleepiness  on  Hair_Dark_Brown : \n",
      "MR-APSS: beta =  -0.0831 , beta.se =  0.0415 , p-value =  4.5430e-02 . \n",
      "Total NO. of IVs=  51 , NO. of valid IVs with foreground signals:  50.9949 . \n",
      "***********************************************************\n",
      "   user  system elapsed \n",
      "  0.344   0.114   0.229 \n",
      "IV selection threshold: 5e-08 \n"
     ]
    },
    {
     "name": "stderr",
     "output_type": "stream",
     "text": [
      "Threshold = 1, the model will not correct for selection bias\n",
      "\n"
     ]
    },
    {
     "name": "stdout",
     "output_type": "stream",
     "text": [
      "***********************************************************\n",
      "MR test results of  Daytime_Sleepiness  on  Hair_Dark_Brown : \n",
      "MR-APSS: beta =  -0.1063 , beta.se =  0.0573 , p-value =  6.3553e-02 . \n",
      "Total NO. of IVs=  29 , NO. of valid IVs with foreground signals:  28.9971 . \n",
      "***********************************************************\n",
      "   user  system elapsed \n",
      "  2.223   0.744   1.483 \n",
      "Pair:  Daytime_Sleepiness ~ Hair_Black \n",
      "Run MR-APSS ... \n",
      "IV selection threshold: 5e-06 \n",
      "***********************************************************\n",
      "MR test results of  Daytime_Sleepiness  on  Hair_Black : \n",
      "MR-APSS: beta =  -0.0451 , beta.se =  0.0601 , p-value =  4.5254e-01 . \n",
      "Total NO. of IVs=  106 , NO. of valid IVs with foreground signals:  35.10144 . \n",
      "***********************************************************\n",
      "   user  system elapsed \n",
      "  4.479   1.256   2.868 \n",
      "IV selection threshold: 5e-07 \n",
      "***********************************************************\n",
      "MR test results of  Daytime_Sleepiness  on  Hair_Black : \n",
      "MR-APSS: beta =  -0.0478 , beta.se =  0.0635 , p-value =  4.5134e-01 . \n",
      "Total NO. of IVs=  51 , NO. of valid IVs with foreground signals:  24.40418 . \n",
      "***********************************************************\n",
      "   user  system elapsed \n",
      "  2.614   0.872   1.742 \n",
      "IV selection threshold: 5e-08 \n",
      "***********************************************************\n",
      "MR test results of  Daytime_Sleepiness  on  Hair_Black : \n",
      "MR-APSS: beta =  -0.0445 , beta.se =  0.0687 , p-value =  5.1730e-01 . \n",
      "Total NO. of IVs=  29 , NO. of valid IVs with foreground signals:  18.83115 . \n",
      "***********************************************************\n",
      "   user  system elapsed \n",
      "  2.113   0.636   1.374 \n",
      "Run MR-APSS not accounting for selection bias ... \n",
      "IV selection threshold: 5e-06 \n"
     ]
    },
    {
     "name": "stderr",
     "output_type": "stream",
     "text": [
      "Threshold = 1, the model will not correct for selection bias\n",
      "\n"
     ]
    },
    {
     "name": "stdout",
     "output_type": "stream",
     "text": [
      "***********************************************************\n",
      "MR test results of  Daytime_Sleepiness  on  Hair_Black : \n",
      "MR-APSS: beta =  -0.0042 , beta.se =  0.0309 , p-value =  8.9273e-01 . \n",
      "Total NO. of IVs=  106 , NO. of valid IVs with foreground signals:  105.9894 . \n",
      "***********************************************************\n",
      "   user  system elapsed \n",
      "  0.592   0.201   0.396 \n",
      "IV selection threshold: 5e-07 \n"
     ]
    },
    {
     "name": "stderr",
     "output_type": "stream",
     "text": [
      "Threshold = 1, the model will not correct for selection bias\n",
      "\n"
     ]
    },
    {
     "name": "stdout",
     "output_type": "stream",
     "text": [
      "***********************************************************\n",
      "MR test results of  Daytime_Sleepiness  on  Hair_Black : \n",
      "MR-APSS: beta =  -0.0308 , beta.se =  0.04 , p-value =  4.4193e-01 . \n",
      "Total NO. of IVs=  51 , NO. of valid IVs with foreground signals:  50.9949 . \n",
      "***********************************************************\n",
      "   user  system elapsed \n",
      "  0.269   0.088   0.178 \n",
      "IV selection threshold: 5e-08 \n"
     ]
    },
    {
     "name": "stderr",
     "output_type": "stream",
     "text": [
      "Threshold = 1, the model will not correct for selection bias\n",
      "\n"
     ]
    },
    {
     "name": "stdout",
     "output_type": "stream",
     "text": [
      "***********************************************************\n",
      "MR test results of  Daytime_Sleepiness  on  Hair_Black : \n",
      "MR-APSS: beta =  -0.0201 , beta.se =  0.0484 , p-value =  6.7794e-01 . \n",
      "Total NO. of IVs=  29 , NO. of valid IVs with foreground signals:  28.9971 . \n",
      "***********************************************************\n",
      "   user  system elapsed \n",
      "  0.179   0.041   0.109 \n",
      "Pair:  Daytime_Sleepiness ~ Hair_Blonde \n",
      "Run MR-APSS ... \n",
      "IV selection threshold: 5e-06 \n",
      "***********************************************************\n",
      "MR test results of  Daytime_Sleepiness  on  Hair_Blonde : \n",
      "MR-APSS: beta =  0.0687 , beta.se =  0.0584 , p-value =  2.3955e-01 . \n",
      "Total NO. of IVs=  106 , NO. of valid IVs with foreground signals:  34.30708 . \n",
      "***********************************************************\n",
      "   user  system elapsed \n",
      "  4.679   1.367   3.024 \n",
      "IV selection threshold: 5e-07 \n",
      "***********************************************************\n",
      "MR test results of  Daytime_Sleepiness  on  Hair_Blonde : \n",
      "MR-APSS: beta =  0.0898 , beta.se =  0.0638 , p-value =  1.5907e-01 . \n",
      "Total NO. of IVs=  51 , NO. of valid IVs with foreground signals:  23.86076 . \n",
      "***********************************************************\n",
      "   user  system elapsed \n",
      "  2.326   0.711   1.519 \n",
      "IV selection threshold: 5e-08 \n",
      "***********************************************************\n",
      "MR test results of  Daytime_Sleepiness  on  Hair_Blonde : \n",
      "MR-APSS: beta =  0.1098 , beta.se =  0.0774 , p-value =  1.5600e-01 . \n",
      "Total NO. of IVs=  29 , NO. of valid IVs with foreground signals:  19.47211 . \n",
      "***********************************************************\n",
      "   user  system elapsed \n",
      "  2.392   0.823   1.607 \n",
      "Run MR-APSS not accounting for selection bias ... \n",
      "IV selection threshold: 5e-06 \n"
     ]
    },
    {
     "name": "stderr",
     "output_type": "stream",
     "text": [
      "Threshold = 1, the model will not correct for selection bias\n",
      "\n"
     ]
    },
    {
     "name": "stdout",
     "output_type": "stream",
     "text": [
      "***********************************************************\n",
      "MR test results of  Daytime_Sleepiness  on  Hair_Blonde : \n",
      "MR-APSS: beta =  0.0086 , beta.se =  0.0298 , p-value =  7.7291e-01 . \n",
      "Total NO. of IVs=  106 , NO. of valid IVs with foreground signals:  105.9894 . \n",
      "***********************************************************\n",
      "   user  system elapsed \n",
      "  0.679   0.189   0.434 \n",
      "IV selection threshold: 5e-07 \n"
     ]
    },
    {
     "name": "stderr",
     "output_type": "stream",
     "text": [
      "Threshold = 1, the model will not correct for selection bias\n",
      "\n"
     ]
    },
    {
     "name": "stdout",
     "output_type": "stream",
     "text": [
      "***********************************************************\n",
      "MR test results of  Daytime_Sleepiness  on  Hair_Blonde : \n",
      "MR-APSS: beta =  0.0304 , beta.se =  0.0391 , p-value =  4.3740e-01 . \n",
      "Total NO. of IVs=  51 , NO. of valid IVs with foreground signals:  50.9949 . \n",
      "***********************************************************\n",
      "   user  system elapsed \n",
      "  0.283   0.074   0.178 \n",
      "IV selection threshold: 5e-08 \n"
     ]
    },
    {
     "name": "stderr",
     "output_type": "stream",
     "text": [
      "Threshold = 1, the model will not correct for selection bias\n",
      "\n"
     ]
    },
    {
     "name": "stdout",
     "output_type": "stream",
     "text": [
      "***********************************************************\n",
      "MR test results of  Daytime_Sleepiness  on  Hair_Blonde : \n",
      "MR-APSS: beta =  0.076 , beta.se =  0.0529 , p-value =  1.5092e-01 . \n",
      "Total NO. of IVs=  29 , NO. of valid IVs with foreground signals:  28.9971 . \n",
      "***********************************************************\n",
      "   user  system elapsed \n",
      "  2.663   0.877   1.769 \n",
      "Pair:  Daytime_Sleepiness ~ Tanning \n",
      "Run MR-APSS ... \n",
      "IV selection threshold: 5e-06 \n",
      "***********************************************************\n",
      "MR test results of  Daytime_Sleepiness  on  Tanning : \n",
      "MR-APSS: beta =  -0.0182 , beta.se =  0.0808 , p-value =  8.2204e-01 . \n",
      "Total NO. of IVs=  106 , NO. of valid IVs with foreground signals:  33.22044 . \n",
      "***********************************************************\n",
      "   user  system elapsed \n",
      "  6.783   2.200   4.492 \n",
      "IV selection threshold: 5e-07 \n",
      "***********************************************************\n",
      "MR test results of  Daytime_Sleepiness  on  Tanning : \n",
      "MR-APSS: beta =  -0.0278 , beta.se =  0.0923 , p-value =  7.6310e-01 . \n",
      "Total NO. of IVs=  51 , NO. of valid IVs with foreground signals:  23.64227 . \n",
      "***********************************************************\n",
      "   user  system elapsed \n",
      "  1.851   0.552   1.201 \n",
      "IV selection threshold: 5e-08 \n",
      "***********************************************************\n",
      "MR test results of  Daytime_Sleepiness  on  Tanning : \n",
      "MR-APSS: beta =  -0.0384 , beta.se =  0.1021 , p-value =  7.0692e-01 . \n",
      "Total NO. of IVs=  29 , NO. of valid IVs with foreground signals:  19.89647 . \n",
      "***********************************************************\n",
      "   user  system elapsed \n",
      "  1.803   0.494   1.149 \n",
      "Run MR-APSS not accounting for selection bias ... \n",
      "IV selection threshold: 5e-06 \n"
     ]
    },
    {
     "name": "stderr",
     "output_type": "stream",
     "text": [
      "Threshold = 1, the model will not correct for selection bias\n",
      "\n"
     ]
    },
    {
     "name": "stdout",
     "output_type": "stream",
     "text": [
      "***********************************************************\n",
      "MR test results of  Daytime_Sleepiness  on  Tanning : \n",
      "MR-APSS: beta =  -0.0052 , beta.se =  0.0362 , p-value =  8.8507e-01 . \n",
      "Total NO. of IVs=  106 , NO. of valid IVs with foreground signals:  105.9894 . \n",
      "***********************************************************\n",
      "   user  system elapsed \n",
      " 30.926   9.546  20.240 \n",
      "IV selection threshold: 5e-07 \n"
     ]
    },
    {
     "name": "stderr",
     "output_type": "stream",
     "text": [
      "Threshold = 1, the model will not correct for selection bias\n",
      "\n"
     ]
    },
    {
     "name": "stdout",
     "output_type": "stream",
     "text": [
      "***********************************************************\n",
      "MR test results of  Daytime_Sleepiness  on  Tanning : \n",
      "MR-APSS: beta =  -0.0142 , beta.se =  0.0514 , p-value =  7.8180e-01 . \n",
      "Total NO. of IVs=  51 , NO. of valid IVs with foreground signals:  50.9949 . \n",
      "***********************************************************\n",
      "   user  system elapsed \n",
      "  0.984   0.307   0.646 \n",
      "IV selection threshold: 5e-08 \n"
     ]
    },
    {
     "name": "stderr",
     "output_type": "stream",
     "text": [
      "Threshold = 1, the model will not correct for selection bias\n",
      "\n"
     ]
    },
    {
     "name": "stdout",
     "output_type": "stream",
     "text": [
      "***********************************************************\n",
      "MR test results of  Daytime_Sleepiness  on  Tanning : \n",
      "MR-APSS: beta =  -0.0479 , beta.se =  0.0705 , p-value =  4.9665e-01 . \n",
      "Total NO. of IVs=  29 , NO. of valid IVs with foreground signals:  28.9971 . \n",
      "***********************************************************\n",
      "   user  system elapsed \n",
      "  0.679   0.207   0.443 \n",
      "Pair:  Height_UKB ~ Hair_Light_Brown \n",
      "Run MR-APSS ... \n",
      "IV selection threshold: 5e-06 \n",
      "***********************************************************\n",
      "MR test results of  Height_UKB  on  Hair_Light_Brown : \n",
      "MR-APSS: beta =  0.0038 , beta.se =  0.0088 , p-value =  6.7134e-01 . \n",
      "Total NO. of IVs=  1756 , NO. of valid IVs with foreground signals:  370.2837 . \n",
      "***********************************************************\n",
      "   user  system elapsed \n",
      " 26.797   4.162  22.353 \n",
      "IV selection threshold: 5e-07 \n",
      "***********************************************************\n",
      "MR test results of  Height_UKB  on  Hair_Light_Brown : \n",
      "MR-APSS: beta =  0.0021 , beta.se =  0.0091 , p-value =  8.2206e-01 . \n",
      "Total NO. of IVs=  1384 , NO. of valid IVs with foreground signals:  321.532 . \n",
      "***********************************************************\n",
      "   user  system elapsed \n",
      " 20.343   3.329  16.517 \n",
      "IV selection threshold: 5e-08 \n",
      "***********************************************************\n",
      "MR test results of  Height_UKB  on  Hair_Light_Brown : \n",
      "MR-APSS: beta =  6e-04 , beta.se =  0.008 , p-value =  9.4344e-01 . \n",
      "Total NO. of IVs=  1135 , NO. of valid IVs with foreground signals:  282.4105 . \n",
      "***********************************************************\n",
      "   user  system elapsed \n",
      " 14.994   2.804  11.941 \n",
      "Run MR-APSS not accounting for selection bias ... \n",
      "IV selection threshold: 5e-06 \n"
     ]
    },
    {
     "name": "stderr",
     "output_type": "stream",
     "text": [
      "Threshold = 1, the model will not correct for selection bias\n",
      "\n"
     ]
    },
    {
     "name": "stdout",
     "output_type": "stream",
     "text": [
      "***********************************************************\n",
      "MR test results of  Height_UKB  on  Hair_Light_Brown : \n",
      "MR-APSS: beta =  0.0361 , beta.se =  0.0048 , p-value =  7.0900e-14 . \n",
      "Total NO. of IVs=  1756 , NO. of valid IVs with foreground signals:  1755.818 . \n",
      "***********************************************************\n",
      "   user  system elapsed \n",
      " 55.498   7.718  46.472 \n",
      "IV selection threshold: 5e-07 \n"
     ]
    },
    {
     "name": "stderr",
     "output_type": "stream",
     "text": [
      "Threshold = 1, the model will not correct for selection bias\n",
      "\n"
     ]
    },
    {
     "name": "stdout",
     "output_type": "stream",
     "text": [
      "***********************************************************\n",
      "MR test results of  Height_UKB  on  Hair_Light_Brown : \n",
      "MR-APSS: beta =  0.0299 , beta.se =  0.0051 , p-value =  5.0249e-09 . \n",
      "Total NO. of IVs=  1384 , NO. of valid IVs with foreground signals:  1383.856 . \n",
      "***********************************************************\n",
      "   user  system elapsed \n",
      " 29.426   4.719  24.134 \n",
      "IV selection threshold: 5e-08 \n"
     ]
    },
    {
     "name": "stderr",
     "output_type": "stream",
     "text": [
      "Threshold = 1, the model will not correct for selection bias\n",
      "\n"
     ]
    },
    {
     "name": "stdout",
     "output_type": "stream",
     "text": [
      "***********************************************************\n",
      "MR test results of  Height_UKB  on  Hair_Light_Brown : \n",
      "MR-APSS: beta =  0.0231 , beta.se =  0.0052 , p-value =  9.7296e-06 . \n",
      "Total NO. of IVs=  1135 , NO. of valid IVs with foreground signals:  1134.883 . \n",
      "***********************************************************\n",
      "   user  system elapsed \n",
      " 18.349   3.221  14.699 \n",
      "Pair:  Height_UKB ~ Hair_Dark_Brown \n",
      "Run MR-APSS ... \n",
      "IV selection threshold: 5e-06 \n",
      "***********************************************************\n",
      "MR test results of  Height_UKB  on  Hair_Dark_Brown : \n",
      "MR-APSS: beta =  0.0015 , beta.se =  0.0103 , p-value =  8.8260e-01 . \n",
      "Total NO. of IVs=  1753 , NO. of valid IVs with foreground signals:  366.7239 . \n",
      "***********************************************************\n",
      "   user  system elapsed \n",
      " 24.671   3.550  20.393 \n",
      "IV selection threshold: 5e-07 \n",
      "***********************************************************\n",
      "MR test results of  Height_UKB  on  Hair_Dark_Brown : \n",
      "MR-APSS: beta =  0.0027 , beta.se =  0.0116 , p-value =  8.1404e-01 . \n",
      "Total NO. of IVs=  1381 , NO. of valid IVs with foreground signals:  319.4848 . \n",
      "***********************************************************\n",
      "   user  system elapsed \n",
      " 20.310   3.300  16.459 \n",
      "IV selection threshold: 5e-08 \n",
      "***********************************************************\n",
      "MR test results of  Height_UKB  on  Hair_Dark_Brown : \n",
      "MR-APSS: beta =  0.0048 , beta.se =  0.0121 , p-value =  6.8894e-01 . \n",
      "Total NO. of IVs=  1133 , NO. of valid IVs with foreground signals:  280.2187 . \n",
      "***********************************************************\n",
      "   user  system elapsed \n",
      " 18.287   3.198  14.501 \n",
      "Run MR-APSS not accounting for selection bias ... \n",
      "IV selection threshold: 5e-06 \n"
     ]
    },
    {
     "name": "stderr",
     "output_type": "stream",
     "text": [
      "Threshold = 1, the model will not correct for selection bias\n",
      "\n"
     ]
    },
    {
     "name": "stdout",
     "output_type": "stream",
     "text": [
      "***********************************************************\n",
      "MR test results of  Height_UKB  on  Hair_Dark_Brown : \n",
      "MR-APSS: beta =  -0.0278 , beta.se =  0.0058 , p-value =  1.4117e-06 . \n",
      "Total NO. of IVs=  1753 , NO. of valid IVs with foreground signals:  1752.817 . \n",
      "***********************************************************\n",
      "   user  system elapsed \n",
      " 27.901   4.007  23.336 \n",
      "IV selection threshold: 5e-07 \n"
     ]
    },
    {
     "name": "stderr",
     "output_type": "stream",
     "text": [
      "Threshold = 1, the model will not correct for selection bias\n",
      "\n"
     ]
    },
    {
     "name": "stdout",
     "output_type": "stream",
     "text": [
      "***********************************************************\n",
      "MR test results of  Height_UKB  on  Hair_Dark_Brown : \n",
      "MR-APSS: beta =  -0.0222 , beta.se =  0.0062 , p-value =  3.2474e-04 . \n",
      "Total NO. of IVs=  1381 , NO. of valid IVs with foreground signals:  1380.856 . \n",
      "***********************************************************\n",
      "   user  system elapsed \n",
      " 20.464   3.421  16.681 \n",
      "IV selection threshold: 5e-08 \n"
     ]
    },
    {
     "name": "stderr",
     "output_type": "stream",
     "text": [
      "Threshold = 1, the model will not correct for selection bias\n",
      "\n"
     ]
    },
    {
     "name": "stdout",
     "output_type": "stream",
     "text": [
      "***********************************************************\n",
      "MR test results of  Height_UKB  on  Hair_Dark_Brown : \n",
      "MR-APSS: beta =  -0.0148 , beta.se =  0.0063 , p-value =  1.9301e-02 . \n",
      "Total NO. of IVs=  1133 , NO. of valid IVs with foreground signals:  1132.883 . \n",
      "***********************************************************\n",
      "   user  system elapsed \n",
      " 15.087   2.658  11.919 \n",
      "Pair:  Height_UKB ~ Hair_Black \n",
      "Run MR-APSS ... \n",
      "IV selection threshold: 5e-06 \n",
      "***********************************************************\n",
      "MR test results of  Height_UKB  on  Hair_Black : \n",
      "MR-APSS: beta =  -0.013 , beta.se =  0.0105 , p-value =  2.1520e-01 . \n",
      "Total NO. of IVs=  1757 , NO. of valid IVs with foreground signals:  374.194 . \n",
      "***********************************************************\n",
      "   user  system elapsed \n",
      " 28.571   4.027  23.700 \n",
      "IV selection threshold: 5e-07 \n",
      "***********************************************************\n",
      "MR test results of  Height_UKB  on  Hair_Black : \n",
      "MR-APSS: beta =  -0.0108 , beta.se =  0.0111 , p-value =  3.3008e-01 . \n",
      "Total NO. of IVs=  1384 , NO. of valid IVs with foreground signals:  325.4824 . \n",
      "***********************************************************\n",
      "   user  system elapsed \n",
      " 21.997   3.674  17.902 \n",
      "IV selection threshold: 5e-08 \n",
      "***********************************************************\n",
      "MR test results of  Height_UKB  on  Hair_Black : \n",
      "MR-APSS: beta =  -0.009 , beta.se =  0.0117 , p-value =  4.4242e-01 . \n",
      "Total NO. of IVs=  1135 , NO. of valid IVs with foreground signals:  287.0508 . \n",
      "***********************************************************\n",
      "   user  system elapsed \n",
      " 18.692   3.343  14.861 \n",
      "Run MR-APSS not accounting for selection bias ... \n",
      "IV selection threshold: 5e-06 \n"
     ]
    },
    {
     "name": "stderr",
     "output_type": "stream",
     "text": [
      "Threshold = 1, the model will not correct for selection bias\n",
      "\n"
     ]
    },
    {
     "name": "stdout",
     "output_type": "stream",
     "text": [
      "***********************************************************\n",
      "MR test results of  Height_UKB  on  Hair_Black : \n",
      "MR-APSS: beta =  -0.0626 , beta.se =  0.0057 , p-value =  5.9146e-28 . \n",
      "Total NO. of IVs=  1757 , NO. of valid IVs with foreground signals:  1756.817 . \n",
      "***********************************************************\n",
      "   user  system elapsed \n",
      " 47.710   6.816  40.004 \n",
      "IV selection threshold: 5e-07 \n"
     ]
    },
    {
     "name": "stderr",
     "output_type": "stream",
     "text": [
      "Threshold = 1, the model will not correct for selection bias\n",
      "\n"
     ]
    },
    {
     "name": "stdout",
     "output_type": "stream",
     "text": [
      "***********************************************************\n",
      "MR test results of  Height_UKB  on  Hair_Black : \n",
      "MR-APSS: beta =  -0.0536 , beta.se =  0.0061 , p-value =  8.7574e-19 . \n",
      "Total NO. of IVs=  1384 , NO. of valid IVs with foreground signals:  1383.856 . \n",
      "***********************************************************\n",
      "   user  system elapsed \n",
      " 29.032   4.529  23.680 \n",
      "IV selection threshold: 5e-08 \n"
     ]
    },
    {
     "name": "stderr",
     "output_type": "stream",
     "text": [
      "Threshold = 1, the model will not correct for selection bias\n",
      "\n"
     ]
    },
    {
     "name": "stdout",
     "output_type": "stream",
     "text": [
      "***********************************************************\n",
      "MR test results of  Height_UKB  on  Hair_Black : \n",
      "MR-APSS: beta =  -0.0467 , beta.se =  0.0064 , p-value =  2.4235e-13 . \n",
      "Total NO. of IVs=  1135 , NO. of valid IVs with foreground signals:  1134.883 . \n",
      "***********************************************************\n",
      "   user  system elapsed \n",
      " 17.177   3.025  13.809 \n",
      "Pair:  Height_UKB ~ Hair_Blonde \n",
      "Run MR-APSS ... \n",
      "IV selection threshold: 5e-06 \n",
      "***********************************************************\n",
      "MR test results of  Height_UKB  on  Hair_Blonde : \n",
      "MR-APSS: beta =  0.0119 , beta.se =  0.0098 , p-value =  2.2639e-01 . \n",
      "Total NO. of IVs=  1755 , NO. of valid IVs with foreground signals:  374.3507 . \n",
      "***********************************************************\n",
      "   user  system elapsed \n",
      " 29.260   4.364  24.661 \n",
      "IV selection threshold: 5e-07 \n",
      "***********************************************************\n",
      "MR test results of  Height_UKB  on  Hair_Blonde : \n",
      "MR-APSS: beta =  0.013 , beta.se =  0.0104 , p-value =  2.1283e-01 . \n",
      "Total NO. of IVs=  1383 , NO. of valid IVs with foreground signals:  325.4991 . \n",
      "***********************************************************\n",
      "   user  system elapsed \n",
      " 23.611   3.838  19.401 \n",
      "IV selection threshold: 5e-08 \n",
      "***********************************************************\n",
      "MR test results of  Height_UKB  on  Hair_Blonde : \n",
      "MR-APSS: beta =  0.0124 , beta.se =  0.0108 , p-value =  2.4704e-01 . \n",
      "Total NO. of IVs=  1134 , NO. of valid IVs with foreground signals:  285.2199 . \n",
      "***********************************************************\n",
      "   user  system elapsed \n",
      " 19.356   3.433  15.563 \n",
      "Run MR-APSS not accounting for selection bias ... \n",
      "IV selection threshold: 5e-06 \n"
     ]
    },
    {
     "name": "stderr",
     "output_type": "stream",
     "text": [
      "Threshold = 1, the model will not correct for selection bias\n",
      "\n"
     ]
    },
    {
     "name": "stdout",
     "output_type": "stream",
     "text": [
      "***********************************************************\n",
      "MR test results of  Height_UKB  on  Hair_Blonde : \n",
      "MR-APSS: beta =  0.0211 , beta.se =  0.0051 , p-value =  3.6333e-05 . \n",
      "Total NO. of IVs=  1755 , NO. of valid IVs with foreground signals:  1754.818 . \n",
      "***********************************************************\n",
      "   user  system elapsed \n",
      " 49.539   7.160  41.620 \n",
      "IV selection threshold: 5e-07 \n"
     ]
    },
    {
     "name": "stderr",
     "output_type": "stream",
     "text": [
      "Threshold = 1, the model will not correct for selection bias\n",
      "\n"
     ]
    },
    {
     "name": "stdout",
     "output_type": "stream",
     "text": [
      "***********************************************************\n",
      "MR test results of  Height_UKB  on  Hair_Blonde : \n",
      "MR-APSS: beta =  0.0178 , beta.se =  0.0054 , p-value =  1.0641e-03 . \n",
      "Total NO. of IVs=  1383 , NO. of valid IVs with foreground signals:  1382.857 . \n",
      "***********************************************************\n",
      "   user  system elapsed \n",
      " 31.939   5.090  26.244 \n",
      "IV selection threshold: 5e-08 \n"
     ]
    },
    {
     "name": "stderr",
     "output_type": "stream",
     "text": [
      "Threshold = 1, the model will not correct for selection bias\n",
      "\n"
     ]
    },
    {
     "name": "stdout",
     "output_type": "stream",
     "text": [
      "***********************************************************\n",
      "MR test results of  Height_UKB  on  Hair_Blonde : \n",
      "MR-APSS: beta =  0.014 , beta.se =  0.0057 , p-value =  1.3581e-02 . \n",
      "Total NO. of IVs=  1134 , NO. of valid IVs with foreground signals:  1133.883 . \n",
      "***********************************************************\n",
      "   user  system elapsed \n",
      " 22.187   4.011  17.848 \n",
      "Pair:  Height_UKB ~ Tanning \n",
      "Run MR-APSS ... \n",
      "IV selection threshold: 5e-06 \n",
      "***********************************************************\n",
      "MR test results of  Height_UKB  on  Tanning : \n",
      "MR-APSS: beta =  -0.0137 , beta.se =  0.0141 , p-value =  3.3005e-01 . \n",
      "Total NO. of IVs=  1756 , NO. of valid IVs with foreground signals:  363.6027 . \n",
      "***********************************************************\n",
      "   user  system elapsed \n",
      " 31.141   4.416  26.019 \n",
      "IV selection threshold: 5e-07 \n",
      "***********************************************************\n",
      "MR test results of  Height_UKB  on  Tanning : \n",
      "MR-APSS: beta =  -0.0121 , beta.se =  0.0135 , p-value =  3.7118e-01 . \n",
      "Total NO. of IVs=  1381 , NO. of valid IVs with foreground signals:  318.8817 . \n",
      "***********************************************************\n",
      "   user  system elapsed \n",
      " 23.709   3.755  19.246 \n",
      "IV selection threshold: 5e-08 \n",
      "***********************************************************\n",
      "MR test results of  Height_UKB  on  Tanning : \n",
      "MR-APSS: beta =  -0.0085 , beta.se =  0.0135 , p-value =  5.3008e-01 . \n",
      "Total NO. of IVs=  1132 , NO. of valid IVs with foreground signals:  279.7764 . \n",
      "***********************************************************\n",
      "   user  system elapsed \n",
      " 19.079   3.595  15.300 \n",
      "Run MR-APSS not accounting for selection bias ... \n",
      "IV selection threshold: 5e-06 \n"
     ]
    },
    {
     "name": "stderr",
     "output_type": "stream",
     "text": [
      "Threshold = 1, the model will not correct for selection bias\n",
      "\n"
     ]
    },
    {
     "name": "stdout",
     "output_type": "stream",
     "text": [
      "***********************************************************\n",
      "MR test results of  Height_UKB  on  Tanning : \n",
      "MR-APSS: beta =  -0.0349 , beta.se =  0.0066 , p-value =  1.4894e-07 . \n",
      "Total NO. of IVs=  1756 , NO. of valid IVs with foreground signals:  1755.817 . \n",
      "***********************************************************\n",
      "   user  system elapsed \n",
      " 28.147   4.093  23.663 \n",
      "IV selection threshold: 5e-07 \n"
     ]
    },
    {
     "name": "stderr",
     "output_type": "stream",
     "text": [
      "Threshold = 1, the model will not correct for selection bias\n",
      "\n"
     ]
    },
    {
     "name": "stdout",
     "output_type": "stream",
     "text": [
      "***********************************************************\n",
      "MR test results of  Height_UKB  on  Tanning : \n",
      "MR-APSS: beta =  -0.032 , beta.se =  0.0068 , p-value =  2.3784e-06 . \n",
      "Total NO. of IVs=  1381 , NO. of valid IVs with foreground signals:  1380.857 . \n",
      "***********************************************************\n",
      "   user  system elapsed \n",
      " 27.584   4.321  22.497 \n",
      "IV selection threshold: 5e-08 \n"
     ]
    },
    {
     "name": "stderr",
     "output_type": "stream",
     "text": [
      "Threshold = 1, the model will not correct for selection bias\n",
      "\n"
     ]
    },
    {
     "name": "stdout",
     "output_type": "stream",
     "text": [
      "***********************************************************\n",
      "MR test results of  Height_UKB  on  Tanning : \n",
      "MR-APSS: beta =  -0.0248 , beta.se =  0.0069 , p-value =  3.4206e-04 . \n",
      "Total NO. of IVs=  1132 , NO. of valid IVs with foreground signals:  1131.883 . \n",
      "***********************************************************\n",
      "   user  system elapsed \n",
      " 23.768   4.373  19.019 \n",
      "Pair:  Intelligence ~ Hair_Light_Brown \n",
      "Run MR-APSS ... \n",
      "IV selection threshold: 5e-06 \n",
      "***********************************************************\n",
      "MR test results of  Intelligence  on  Hair_Light_Brown : \n",
      "MR-APSS: beta =  -0.0891 , beta.se =  0.0303 , p-value =  3.2145e-03 . \n",
      "Total NO. of IVs=  189 , NO. of valid IVs with foreground signals:  35.33667 . \n",
      "***********************************************************\n",
      "   user  system elapsed \n",
      " 12.434   3.752   8.096 \n",
      "IV selection threshold: 5e-07 \n",
      "***********************************************************\n",
      "MR test results of  Intelligence  on  Hair_Light_Brown : \n",
      "MR-APSS: beta =  -0.0916 , beta.se =  0.036 , p-value =  1.1024e-02 . \n",
      "Total NO. of IVs=  95 , NO. of valid IVs with foreground signals:  21.50951 . \n",
      "***********************************************************\n",
      "   user  system elapsed \n",
      "  6.519   1.880   4.200 \n",
      "IV selection threshold: 5e-08 \n",
      "***********************************************************\n",
      "MR test results of  Intelligence  on  Hair_Light_Brown : \n",
      "MR-APSS: beta =  -0.0958 , beta.se =  0.0416 , p-value =  2.1225e-02 . \n",
      "Total NO. of IVs=  47 , NO. of valid IVs with foreground signals:  16.7066 . \n",
      "***********************************************************\n",
      "   user  system elapsed \n",
      "  4.407   1.273   2.841 \n",
      "Run MR-APSS not accounting for selection bias ... \n",
      "IV selection threshold: 5e-06 \n"
     ]
    },
    {
     "name": "stderr",
     "output_type": "stream",
     "text": [
      "Threshold = 1, the model will not correct for selection bias\n",
      "\n"
     ]
    },
    {
     "name": "stdout",
     "output_type": "stream",
     "text": [
      "***********************************************************\n",
      "MR test results of  Intelligence  on  Hair_Light_Brown : \n",
      "MR-APSS: beta =  -0.018 , beta.se =  0.0109 , p-value =  9.8628e-02 . \n",
      "Total NO. of IVs=  189 , NO. of valid IVs with foreground signals:  188.9811 . \n",
      "***********************************************************\n",
      "   user  system elapsed \n",
      "  1.170   0.343   0.756 \n",
      "IV selection threshold: 5e-07 \n"
     ]
    },
    {
     "name": "stderr",
     "output_type": "stream",
     "text": [
      "Threshold = 1, the model will not correct for selection bias\n",
      "\n"
     ]
    },
    {
     "name": "stdout",
     "output_type": "stream",
     "text": [
      "***********************************************************\n",
      "MR test results of  Intelligence  on  Hair_Light_Brown : \n",
      "MR-APSS: beta =  -0.0309 , beta.se =  0.0141 , p-value =  2.8382e-02 . \n",
      "Total NO. of IVs=  95 , NO. of valid IVs with foreground signals:  94.9905 . \n",
      "***********************************************************\n",
      "   user  system elapsed \n",
      "  0.607   0.184   0.395 \n",
      "IV selection threshold: 5e-08 \n"
     ]
    },
    {
     "name": "stderr",
     "output_type": "stream",
     "text": [
      "Threshold = 1, the model will not correct for selection bias\n",
      "\n"
     ]
    },
    {
     "name": "stdout",
     "output_type": "stream",
     "text": [
      "***********************************************************\n",
      "MR test results of  Intelligence  on  Hair_Light_Brown : \n",
      "MR-APSS: beta =  -0.0574 , beta.se =  0.0185 , p-value =  1.8608e-03 . \n",
      "Total NO. of IVs=  47 , NO. of valid IVs with foreground signals:  46.9953 . \n",
      "***********************************************************\n",
      "   user  system elapsed \n",
      " 18.051   5.447  11.750 \n",
      "Pair:  Intelligence ~ Hair_Dark_Brown \n",
      "Run MR-APSS ... \n",
      "IV selection threshold: 5e-06 \n",
      "***********************************************************\n",
      "MR test results of  Intelligence  on  Hair_Dark_Brown : \n",
      "MR-APSS: beta =  0.0943 , beta.se =  0.0801 , p-value =  2.3920e-01 . \n",
      "Total NO. of IVs=  189 , NO. of valid IVs with foreground signals:  25.58713 . \n",
      "***********************************************************\n",
      "   user  system elapsed \n",
      "  8.226   2.657   5.441 \n",
      "IV selection threshold: 5e-07 \n",
      "***********************************************************\n",
      "MR test results of  Intelligence  on  Hair_Dark_Brown : \n",
      "MR-APSS: beta =  0.1615 , beta.se =  0.0474 , p-value =  6.5472e-04 . \n",
      "Total NO. of IVs=  95 , NO. of valid IVs with foreground signals:  23.68817 . \n",
      "***********************************************************\n",
      "   user  system elapsed \n",
      " 68.106  20.612  44.364 \n",
      "IV selection threshold: 5e-08 \n",
      "***********************************************************\n",
      "MR test results of  Intelligence  on  Hair_Dark_Brown : \n",
      "MR-APSS: beta =  0.1691 , beta.se =  0.057 , p-value =  2.9932e-03 . \n",
      "Total NO. of IVs=  47 , NO. of valid IVs with foreground signals:  18.59186 . \n",
      "***********************************************************\n",
      "   user  system elapsed \n",
      " 43.533  13.474  28.508 \n",
      "Run MR-APSS not accounting for selection bias ... \n",
      "IV selection threshold: 5e-06 \n"
     ]
    },
    {
     "name": "stderr",
     "output_type": "stream",
     "text": [
      "Threshold = 1, the model will not correct for selection bias\n",
      "\n"
     ]
    },
    {
     "name": "stdout",
     "output_type": "stream",
     "text": [
      "***********************************************************\n",
      "MR test results of  Intelligence  on  Hair_Dark_Brown : \n",
      "MR-APSS: beta =  0.0561 , beta.se =  0.0153 , p-value =  2.4358e-04 . \n",
      "Total NO. of IVs=  189 , NO. of valid IVs with foreground signals:  188.9811 . \n",
      "***********************************************************\n",
      "   user  system elapsed \n",
      "  6.502   1.992   4.247 \n",
      "IV selection threshold: 5e-07 \n"
     ]
    },
    {
     "name": "stderr",
     "output_type": "stream",
     "text": [
      "Threshold = 1, the model will not correct for selection bias\n",
      "\n"
     ]
    },
    {
     "name": "stdout",
     "output_type": "stream",
     "text": [
      "***********************************************************\n",
      "MR test results of  Intelligence  on  Hair_Dark_Brown : \n",
      "MR-APSS: beta =  0.0841 , beta.se =  0.0167 , p-value =  4.3823e-07 . \n",
      "Total NO. of IVs=  95 , NO. of valid IVs with foreground signals:  94.9905 . \n",
      "***********************************************************\n",
      "   user  system elapsed \n",
      "165.668  49.725 107.715 \n",
      "IV selection threshold: 5e-08 \n"
     ]
    },
    {
     "name": "stderr",
     "output_type": "stream",
     "text": [
      "Threshold = 1, the model will not correct for selection bias\n",
      "\n"
     ]
    },
    {
     "name": "stdout",
     "output_type": "stream",
     "text": [
      "***********************************************************\n",
      "MR test results of  Intelligence  on  Hair_Dark_Brown : \n",
      "MR-APSS: beta =  0.1191 , beta.se =  0.0227 , p-value =  1.5218e-07 . \n",
      "Total NO. of IVs=  47 , NO. of valid IVs with foreground signals:  46.9953 . \n",
      "***********************************************************\n",
      "   user  system elapsed \n",
      " 77.094  23.667  50.391 \n",
      "Pair:  Intelligence ~ Hair_Black \n",
      "Run MR-APSS ... \n",
      "IV selection threshold: 5e-06 \n",
      "***********************************************************\n",
      "MR test results of  Intelligence  on  Hair_Black : \n",
      "MR-APSS: beta =  -0.0049 , beta.se =  0.0374 , p-value =  8.9490e-01 . \n",
      "Total NO. of IVs=  189 , NO. of valid IVs with foreground signals:  32.34634 . \n",
      "***********************************************************\n",
      "   user  system elapsed \n",
      " 96.332  28.596  62.478 \n",
      "IV selection threshold: 5e-07 \n",
      "***********************************************************\n",
      "MR test results of  Intelligence  on  Hair_Black : \n",
      "MR-APSS: beta =  -0.009 , beta.se =  0.0443 , p-value =  8.3832e-01 . \n",
      "Total NO. of IVs=  95 , NO. of valid IVs with foreground signals:  18.31369 . \n",
      "***********************************************************\n",
      "   user  system elapsed \n",
      " 54.257  16.071  35.173 \n",
      "IV selection threshold: 5e-08 \n",
      "***********************************************************\n",
      "MR test results of  Intelligence  on  Hair_Black : \n",
      "MR-APSS: beta =  -0.0143 , beta.se =  0.0478 , p-value =  7.6543e-01 . \n",
      "Total NO. of IVs=  47 , NO. of valid IVs with foreground signals:  13.2567 . \n",
      "***********************************************************\n",
      "   user  system elapsed \n",
      "  3.113   0.961   2.037 \n",
      "Run MR-APSS not accounting for selection bias ... \n",
      "IV selection threshold: 5e-06 \n"
     ]
    },
    {
     "name": "stderr",
     "output_type": "stream",
     "text": [
      "Threshold = 1, the model will not correct for selection bias\n",
      "\n"
     ]
    },
    {
     "name": "stdout",
     "output_type": "stream",
     "text": [
      "***********************************************************\n",
      "MR test results of  Intelligence  on  Hair_Black : \n",
      "MR-APSS: beta =  -0.0487 , beta.se =  0.0128 , p-value =  1.3965e-04 . \n",
      "Total NO. of IVs=  189 , NO. of valid IVs with foreground signals:  188.9811 . \n",
      "***********************************************************\n",
      "   user  system elapsed \n",
      "123.018  36.283  79.669 \n",
      "IV selection threshold: 5e-07 \n"
     ]
    },
    {
     "name": "stderr",
     "output_type": "stream",
     "text": [
      "Threshold = 1, the model will not correct for selection bias\n",
      "\n"
     ]
    },
    {
     "name": "stdout",
     "output_type": "stream",
     "text": [
      "***********************************************************\n",
      "MR test results of  Intelligence  on  Hair_Black : \n",
      "MR-APSS: beta =  -0.0443 , beta.se =  0.0169 , p-value =  8.7975e-03 . \n",
      "Total NO. of IVs=  95 , NO. of valid IVs with foreground signals:  94.9905 . \n",
      "***********************************************************\n",
      "   user  system elapsed \n",
      " 25.951   7.816  16.887 \n",
      "IV selection threshold: 5e-08 \n"
     ]
    },
    {
     "name": "stderr",
     "output_type": "stream",
     "text": [
      "Threshold = 1, the model will not correct for selection bias\n",
      "\n"
     ]
    },
    {
     "name": "stdout",
     "output_type": "stream",
     "text": [
      "***********************************************************\n",
      "MR test results of  Intelligence  on  Hair_Black : \n",
      "MR-APSS: beta =  -0.0368 , beta.se =  0.0213 , p-value =  8.3159e-02 . \n",
      "Total NO. of IVs=  47 , NO. of valid IVs with foreground signals:  46.9953 . \n",
      "***********************************************************\n",
      "   user  system elapsed \n",
      "  0.278   0.092   0.185 \n",
      "Pair:  Intelligence ~ Hair_Blonde \n",
      "Run MR-APSS ... \n",
      "IV selection threshold: 5e-06 \n",
      "***********************************************************\n",
      "MR test results of  Intelligence  on  Hair_Blonde : \n",
      "MR-APSS: beta =  -0.0331 , beta.se =  0.0985 , p-value =  7.3675e-01 . \n",
      "Total NO. of IVs=  189 , NO. of valid IVs with foreground signals:  22.36334 . \n",
      "***********************************************************\n",
      "   user  system elapsed \n",
      "  8.469   2.402   5.437 \n",
      "IV selection threshold: 5e-07 \n",
      "***********************************************************\n",
      "MR test results of  Intelligence  on  Hair_Blonde : \n",
      "MR-APSS: beta =  -0.1063 , beta.se =  0.0438 , p-value =  1.5189e-02 . \n",
      "Total NO. of IVs=  95 , NO. of valid IVs with foreground signals:  20.82936 . \n",
      "***********************************************************\n",
      "   user  system elapsed \n",
      "  6.587   1.996   4.292 \n",
      "IV selection threshold: 5e-08 \n",
      "***********************************************************\n",
      "MR test results of  Intelligence  on  Hair_Blonde : \n",
      "MR-APSS: beta =  -0.1008 , beta.se =  0.0476 , p-value =  3.3969e-02 . \n",
      "Total NO. of IVs=  47 , NO. of valid IVs with foreground signals:  14.69619 . \n",
      "***********************************************************\n",
      "   user  system elapsed \n",
      " 57.085  16.741  36.918 \n",
      "Run MR-APSS not accounting for selection bias ... \n",
      "IV selection threshold: 5e-06 \n"
     ]
    },
    {
     "name": "stderr",
     "output_type": "stream",
     "text": [
      "Threshold = 1, the model will not correct for selection bias\n",
      "\n"
     ]
    },
    {
     "name": "stdout",
     "output_type": "stream",
     "text": [
      "***********************************************************\n",
      "MR test results of  Intelligence  on  Hair_Blonde : \n",
      "MR-APSS: beta =  -0.0245 , beta.se =  0.0156 , p-value =  1.1669e-01 . \n",
      "Total NO. of IVs=  189 , NO. of valid IVs with foreground signals:  188.9811 . \n",
      "***********************************************************\n",
      "   user  system elapsed \n",
      "  3.902   1.248   2.575 \n",
      "IV selection threshold: 5e-07 \n"
     ]
    },
    {
     "name": "stderr",
     "output_type": "stream",
     "text": [
      "Threshold = 1, the model will not correct for selection bias\n",
      "\n"
     ]
    },
    {
     "name": "stdout",
     "output_type": "stream",
     "text": [
      "***********************************************************\n",
      "MR test results of  Intelligence  on  Hair_Blonde : \n",
      "MR-APSS: beta =  -0.0489 , beta.se =  0.0157 , p-value =  1.8213e-03 . \n",
      "Total NO. of IVs=  95 , NO. of valid IVs with foreground signals:  94.9905 . \n",
      "***********************************************************\n",
      "   user  system elapsed \n",
      "  0.557   0.155   0.355 \n",
      "IV selection threshold: 5e-08 \n"
     ]
    },
    {
     "name": "stderr",
     "output_type": "stream",
     "text": [
      "Threshold = 1, the model will not correct for selection bias\n",
      "\n"
     ]
    },
    {
     "name": "stdout",
     "output_type": "stream",
     "text": [
      "***********************************************************\n",
      "MR test results of  Intelligence  on  Hair_Blonde : \n",
      "MR-APSS: beta =  -0.0712 , beta.se =  0.0221 , p-value =  1.2416e-03 . \n",
      "Total NO. of IVs=  47 , NO. of valid IVs with foreground signals:  46.9953 . \n",
      "***********************************************************\n",
      "   user  system elapsed \n",
      " 32.011   9.872  20.944 \n",
      "Pair:  Intelligence ~ Tanning \n",
      "Run MR-APSS ... \n",
      "IV selection threshold: 5e-06 \n",
      "***********************************************************\n",
      "MR test results of  Intelligence  on  Tanning : \n",
      "MR-APSS: beta =  -0.043 , beta.se =  0.0427 , p-value =  3.1373e-01 . \n",
      "Total NO. of IVs=  189 , NO. of valid IVs with foreground signals:  30.62116 . \n",
      "***********************************************************\n",
      "   user  system elapsed \n",
      "139.897  42.652  91.301 \n",
      "IV selection threshold: 5e-07 \n",
      "***********************************************************\n",
      "MR test results of  Intelligence  on  Tanning : \n",
      "MR-APSS: beta =  -0.0383 , beta.se =  0.0487 , p-value =  4.3211e-01 . \n",
      "Total NO. of IVs=  95 , NO. of valid IVs with foreground signals:  17.41297 . \n",
      "***********************************************************\n",
      "   user  system elapsed \n",
      " 42.627  12.983  27.811 \n",
      "IV selection threshold: 5e-08 \n",
      "***********************************************************\n",
      "MR test results of  Intelligence  on  Tanning : \n",
      "MR-APSS: beta =  -0.0376 , beta.se =  0.0541 , p-value =  4.8683e-01 . \n",
      "Total NO. of IVs=  47 , NO. of valid IVs with foreground signals:  12.7166 . \n",
      "***********************************************************\n",
      "   user  system elapsed \n",
      "  2.828   0.807   1.818 \n",
      "Run MR-APSS not accounting for selection bias ... \n",
      "IV selection threshold: 5e-06 \n"
     ]
    },
    {
     "name": "stderr",
     "output_type": "stream",
     "text": [
      "Threshold = 1, the model will not correct for selection bias\n",
      "\n"
     ]
    },
    {
     "name": "stdout",
     "output_type": "stream",
     "text": [
      "***********************************************************\n",
      "MR test results of  Intelligence  on  Tanning : \n",
      "MR-APSS: beta =  -0.076 , beta.se =  0.0153 , p-value =  7.2594e-07 . \n",
      "Total NO. of IVs=  189 , NO. of valid IVs with foreground signals:  188.9811 . \n",
      "***********************************************************\n",
      "   user  system elapsed \n",
      " 26.002   7.659  16.834 \n",
      "IV selection threshold: 5e-07 \n"
     ]
    },
    {
     "name": "stderr",
     "output_type": "stream",
     "text": [
      "Threshold = 1, the model will not correct for selection bias\n",
      "\n"
     ]
    },
    {
     "name": "stdout",
     "output_type": "stream",
     "text": [
      "***********************************************************\n",
      "MR test results of  Intelligence  on  Tanning : \n",
      "MR-APSS: beta =  -0.0619 , beta.se =  0.0185 , p-value =  8.4889e-04 . \n",
      "Total NO. of IVs=  95 , NO. of valid IVs with foreground signals:  94.9905 . \n",
      "***********************************************************\n",
      "   user  system elapsed \n",
      "150.999  45.496  98.268 \n",
      "IV selection threshold: 5e-08 \n"
     ]
    },
    {
     "name": "stderr",
     "output_type": "stream",
     "text": [
      "Threshold = 1, the model will not correct for selection bias\n",
      "\n"
     ]
    },
    {
     "name": "stdout",
     "output_type": "stream",
     "text": [
      "***********************************************************\n",
      "MR test results of  Intelligence  on  Tanning : \n",
      "MR-APSS: beta =  -0.0541 , beta.se =  0.0244 , p-value =  2.6624e-02 . \n",
      "Total NO. of IVs=  47 , NO. of valid IVs with foreground signals:  46.9953 . \n",
      "***********************************************************\n",
      "   user  system elapsed \n",
      "  0.266   0.100   0.183 \n",
      "Pair:  RA ~ Hair_Light_Brown \n",
      "Run MR-APSS ... \n",
      "IV selection threshold: 5e-06 \n",
      "***********************************************************\n",
      "MR test results of  RA  on  Hair_Light_Brown : \n",
      "MR-APSS: beta =  -0.018 , beta.se =  0.0287 , p-value =  5.3095e-01 . \n",
      "Total NO. of IVs=  75 , NO. of valid IVs with foreground signals:  57.58454 . \n",
      "***********************************************************\n",
      "   user  system elapsed \n",
      "  3.328   0.944   2.137 \n",
      "IV selection threshold: 5e-07 \n",
      "***********************************************************\n",
      "MR test results of  RA  on  Hair_Light_Brown : \n",
      "MR-APSS: beta =  -0.0183 , beta.se =  0.0354 , p-value =  6.0502e-01 . \n",
      "Total NO. of IVs=  53 , NO. of valid IVs with foreground signals:  43.8354 . \n",
      "***********************************************************\n",
      "   user  system elapsed \n",
      "  2.583   0.779   1.681 \n",
      "IV selection threshold: 5e-08 \n",
      "***********************************************************\n",
      "MR test results of  RA  on  Hair_Light_Brown : \n",
      "MR-APSS: beta =  0.0111 , beta.se =  0.0137 , p-value =  4.2077e-01 . \n",
      "Total NO. of IVs=  37 , NO. of valid IVs with foreground signals:  36.99502 . \n",
      "***********************************************************\n",
      "   user  system elapsed \n",
      "  8.370   2.404   5.388 \n",
      "Run MR-APSS not accounting for selection bias ... \n",
      "IV selection threshold: 5e-06 \n"
     ]
    },
    {
     "name": "stderr",
     "output_type": "stream",
     "text": [
      "Threshold = 1, the model will not correct for selection bias\n",
      "\n"
     ]
    },
    {
     "name": "stdout",
     "output_type": "stream",
     "text": [
      "***********************************************************\n",
      "MR test results of  RA  on  Hair_Light_Brown : \n",
      "MR-APSS: beta =  -0.0112 , beta.se =  0.0213 , p-value =  5.9949e-01 . \n",
      "Total NO. of IVs=  75 , NO. of valid IVs with foreground signals:  74.9925 . \n",
      "***********************************************************\n",
      "   user  system elapsed \n",
      "  1.621   0.503   1.062 \n",
      "IV selection threshold: 5e-07 \n"
     ]
    },
    {
     "name": "stderr",
     "output_type": "stream",
     "text": [
      "Threshold = 1, the model will not correct for selection bias\n",
      "\n"
     ]
    },
    {
     "name": "stdout",
     "output_type": "stream",
     "text": [
      "***********************************************************\n",
      "MR test results of  RA  on  Hair_Light_Brown : \n",
      "MR-APSS: beta =  -0.0148 , beta.se =  0.0278 , p-value =  5.9583e-01 . \n",
      "Total NO. of IVs=  53 , NO. of valid IVs with foreground signals:  52.9947 . \n",
      "***********************************************************\n",
      "   user  system elapsed \n",
      "  1.456   0.408   0.932 \n",
      "IV selection threshold: 5e-08 \n"
     ]
    },
    {
     "name": "stderr",
     "output_type": "stream",
     "text": [
      "Threshold = 1, the model will not correct for selection bias\n",
      "\n"
     ]
    },
    {
     "name": "stdout",
     "output_type": "stream",
     "text": [
      "***********************************************************\n",
      "MR test results of  RA  on  Hair_Light_Brown : \n",
      "MR-APSS: beta =  0.0109 , beta.se =  0.0126 , p-value =  3.8993e-01 . \n",
      "Total NO. of IVs=  37 , NO. of valid IVs with foreground signals:  36.9963 . \n",
      "***********************************************************\n",
      "   user  system elapsed \n",
      "  7.935   2.488   5.212 \n",
      "Pair:  RA ~ Hair_Dark_Brown \n",
      "Run MR-APSS ... \n",
      "IV selection threshold: 5e-06 \n",
      "***********************************************************\n",
      "MR test results of  RA  on  Hair_Dark_Brown : \n",
      "MR-APSS: beta =  0.0266 , beta.se =  0.0249 , p-value =  2.8492e-01 . \n",
      "Total NO. of IVs=  75 , NO. of valid IVs with foreground signals:  62.37931 . \n",
      "***********************************************************\n",
      "   user  system elapsed \n",
      "  2.903   0.841   1.873 \n",
      "IV selection threshold: 5e-07 \n",
      "***********************************************************\n",
      "MR test results of  RA  on  Hair_Dark_Brown : \n",
      "MR-APSS: beta =  0.0047 , beta.se =  0.0136 , p-value =  7.2864e-01 . \n",
      "Total NO. of IVs=  52 , NO. of valid IVs with foreground signals:  51.53675 . \n",
      "***********************************************************\n",
      "   user  system elapsed \n",
      "  3.730   1.164   2.447 \n",
      "IV selection threshold: 5e-08 \n",
      "***********************************************************\n",
      "MR test results of  RA  on  Hair_Dark_Brown : \n",
      "MR-APSS: beta =  0.0053 , beta.se =  0.0149 , p-value =  7.2375e-01 . \n",
      "Total NO. of IVs=  37 , NO. of valid IVs with foreground signals:  36.99286 . \n",
      "***********************************************************\n",
      "   user  system elapsed \n",
      "  1.123   0.369   0.746 \n",
      "Run MR-APSS not accounting for selection bias ... \n",
      "IV selection threshold: 5e-06 \n"
     ]
    },
    {
     "name": "stderr",
     "output_type": "stream",
     "text": [
      "Threshold = 1, the model will not correct for selection bias\n",
      "\n"
     ]
    },
    {
     "name": "stdout",
     "output_type": "stream",
     "text": [
      "***********************************************************\n",
      "MR test results of  RA  on  Hair_Dark_Brown : \n",
      "MR-APSS: beta =  0.0198 , beta.se =  0.0198 , p-value =  3.1723e-01 . \n",
      "Total NO. of IVs=  75 , NO. of valid IVs with foreground signals:  74.9925 . \n",
      "***********************************************************\n",
      "   user  system elapsed \n",
      "  1.335   0.464   0.899 \n",
      "IV selection threshold: 5e-07 \n"
     ]
    },
    {
     "name": "stderr",
     "output_type": "stream",
     "text": [
      "Threshold = 1, the model will not correct for selection bias\n",
      "\n"
     ]
    },
    {
     "name": "stdout",
     "output_type": "stream",
     "text": [
      "***********************************************************\n",
      "MR test results of  RA  on  Hair_Dark_Brown : \n",
      "MR-APSS: beta =  0.003 , beta.se =  0.0124 , p-value =  8.0960e-01 . \n",
      "Total NO. of IVs=  52 , NO. of valid IVs with foreground signals:  51.9948 . \n",
      "***********************************************************\n",
      "   user  system elapsed \n",
      "  0.271   0.069   0.170 \n",
      "IV selection threshold: 5e-08 \n"
     ]
    },
    {
     "name": "stderr",
     "output_type": "stream",
     "text": [
      "Threshold = 1, the model will not correct for selection bias\n",
      "\n"
     ]
    },
    {
     "name": "stdout",
     "output_type": "stream",
     "text": [
      "***********************************************************\n",
      "MR test results of  RA  on  Hair_Dark_Brown : \n",
      "MR-APSS: beta =  0.0038 , beta.se =  0.0137 , p-value =  7.8268e-01 . \n",
      "Total NO. of IVs=  37 , NO. of valid IVs with foreground signals:  36.9963 . \n",
      "***********************************************************\n",
      "   user  system elapsed \n",
      "  0.186   0.063   0.124 \n",
      "Pair:  RA ~ Hair_Black \n",
      "Run MR-APSS ... \n",
      "IV selection threshold: 5e-06 \n",
      "***********************************************************\n",
      "MR test results of  RA  on  Hair_Black : \n",
      "MR-APSS: beta =  -0.0013 , beta.se =  0.0242 , p-value =  9.5644e-01 . \n",
      "Total NO. of IVs=  75 , NO. of valid IVs with foreground signals:  63.3577 . \n",
      "***********************************************************\n",
      "   user  system elapsed \n",
      "  2.546   0.772   1.659 \n",
      "IV selection threshold: 5e-07 \n",
      "***********************************************************\n",
      "MR test results of  RA  on  Hair_Black : \n",
      "MR-APSS: beta =  -0.0174 , beta.se =  0.0135 , p-value =  1.9914e-01 . \n",
      "Total NO. of IVs=  52 , NO. of valid IVs with foreground signals:  51.85338 . \n",
      "***********************************************************\n",
      "   user  system elapsed \n",
      "  7.840   2.220   5.031 \n",
      "IV selection threshold: 5e-08 \n",
      "***********************************************************\n",
      "MR test results of  RA  on  Hair_Black : \n",
      "MR-APSS: beta =  -0.0151 , beta.se =  0.0148 , p-value =  3.0922e-01 . \n",
      "Total NO. of IVs=  37 , NO. of valid IVs with foreground signals:  36.99422 . \n",
      "***********************************************************\n",
      "   user  system elapsed \n",
      "  1.318   0.439   0.879 \n",
      "Run MR-APSS not accounting for selection bias ... \n",
      "IV selection threshold: 5e-06 \n"
     ]
    },
    {
     "name": "stderr",
     "output_type": "stream",
     "text": [
      "Threshold = 1, the model will not correct for selection bias\n",
      "\n"
     ]
    },
    {
     "name": "stdout",
     "output_type": "stream",
     "text": [
      "***********************************************************\n",
      "MR test results of  RA  on  Hair_Black : \n",
      "MR-APSS: beta =  -0.005 , beta.se =  0.0203 , p-value =  8.0627e-01 . \n",
      "Total NO. of IVs=  75 , NO. of valid IVs with foreground signals:  74.9925 . \n",
      "***********************************************************\n",
      "   user  system elapsed \n",
      "  1.244   0.407   0.825 \n",
      "IV selection threshold: 5e-07 \n"
     ]
    },
    {
     "name": "stderr",
     "output_type": "stream",
     "text": [
      "Threshold = 1, the model will not correct for selection bias\n",
      "\n"
     ]
    },
    {
     "name": "stdout",
     "output_type": "stream",
     "text": [
      "***********************************************************\n",
      "MR test results of  RA  on  Hair_Black : \n",
      "MR-APSS: beta =  -0.0167 , beta.se =  0.0123 , p-value =  1.7707e-01 . \n",
      "Total NO. of IVs=  52 , NO. of valid IVs with foreground signals:  51.9948 . \n",
      "***********************************************************\n",
      "   user  system elapsed \n",
      "  0.275   0.075   0.175 \n",
      "IV selection threshold: 5e-08 \n"
     ]
    },
    {
     "name": "stderr",
     "output_type": "stream",
     "text": [
      "Threshold = 1, the model will not correct for selection bias\n",
      "\n"
     ]
    },
    {
     "name": "stdout",
     "output_type": "stream",
     "text": [
      "***********************************************************\n",
      "MR test results of  RA  on  Hair_Black : \n",
      "MR-APSS: beta =  -0.0146 , beta.se =  0.0136 , p-value =  2.8365e-01 . \n",
      "Total NO. of IVs=  37 , NO. of valid IVs with foreground signals:  36.9963 . \n",
      "***********************************************************\n",
      "   user  system elapsed \n",
      "  0.197   0.054   0.126 \n",
      "Pair:  RA ~ Hair_Blonde \n",
      "Run MR-APSS ... \n",
      "IV selection threshold: 5e-06 \n",
      "***********************************************************\n",
      "MR test results of  RA  on  Hair_Blonde : \n",
      "MR-APSS: beta =  -0.0349 , beta.se =  0.0277 , p-value =  2.0713e-01 . \n",
      "Total NO. of IVs=  75 , NO. of valid IVs with foreground signals:  62.30998 . \n",
      "***********************************************************\n",
      "   user  system elapsed \n",
      "  3.322   1.041   2.182 \n",
      "IV selection threshold: 5e-07 \n",
      "***********************************************************\n",
      "MR test results of  RA  on  Hair_Blonde : \n",
      "MR-APSS: beta =  -0.0099 , beta.se =  0.0147 , p-value =  5.0274e-01 . \n",
      "Total NO. of IVs=  52 , NO. of valid IVs with foreground signals:  51.70599 . \n",
      "***********************************************************\n",
      "   user  system elapsed \n",
      "  4.866   1.496   3.182 \n",
      "IV selection threshold: 5e-08 \n",
      "***********************************************************\n",
      "MR test results of  RA  on  Hair_Blonde : \n",
      "MR-APSS: beta =  -0.0073 , beta.se =  0.0159 , p-value =  6.4596e-01 . \n",
      "Total NO. of IVs=  37 , NO. of valid IVs with foreground signals:  36.99363 . \n",
      "***********************************************************\n",
      "   user  system elapsed \n",
      "  1.813   0.573   1.192 \n",
      "Run MR-APSS not accounting for selection bias ... \n",
      "IV selection threshold: 5e-06 \n"
     ]
    },
    {
     "name": "stderr",
     "output_type": "stream",
     "text": [
      "Threshold = 1, the model will not correct for selection bias\n",
      "\n"
     ]
    },
    {
     "name": "stdout",
     "output_type": "stream",
     "text": [
      "***********************************************************\n",
      "MR test results of  RA  on  Hair_Blonde : \n",
      "MR-APSS: beta =  -0.0271 , beta.se =  0.0221 , p-value =  2.2042e-01 . \n",
      "Total NO. of IVs=  75 , NO. of valid IVs with foreground signals:  74.9925 . \n",
      "***********************************************************\n",
      "   user  system elapsed \n",
      "  1.544   0.544   1.043 \n",
      "IV selection threshold: 5e-07 \n"
     ]
    },
    {
     "name": "stderr",
     "output_type": "stream",
     "text": [
      "Threshold = 1, the model will not correct for selection bias\n",
      "\n"
     ]
    },
    {
     "name": "stdout",
     "output_type": "stream",
     "text": [
      "***********************************************************\n",
      "MR test results of  RA  on  Hair_Blonde : \n",
      "MR-APSS: beta =  -0.0086 , beta.se =  0.0133 , p-value =  5.1832e-01 . \n",
      "Total NO. of IVs=  52 , NO. of valid IVs with foreground signals:  51.9948 . \n",
      "***********************************************************\n",
      "   user  system elapsed \n",
      "  1.927   0.586   1.257 \n",
      "IV selection threshold: 5e-08 \n"
     ]
    },
    {
     "name": "stderr",
     "output_type": "stream",
     "text": [
      "Threshold = 1, the model will not correct for selection bias\n",
      "\n"
     ]
    },
    {
     "name": "stdout",
     "output_type": "stream",
     "text": [
      "***********************************************************\n",
      "MR test results of  RA  on  Hair_Blonde : \n",
      "MR-APSS: beta =  -0.0059 , beta.se =  0.0146 , p-value =  6.8506e-01 . \n",
      "Total NO. of IVs=  37 , NO. of valid IVs with foreground signals:  36.9963 . \n",
      "***********************************************************\n",
      "   user  system elapsed \n",
      "  1.726   0.559   1.143 \n",
      "Pair:  RA ~ Tanning \n",
      "Run MR-APSS ... \n",
      "IV selection threshold: 5e-06 \n",
      "***********************************************************\n",
      "MR test results of  RA  on  Tanning : \n",
      "MR-APSS: beta =  0.0061 , beta.se =  0.0152 , p-value =  6.8799e-01 . \n",
      "Total NO. of IVs=  74 , NO. of valid IVs with foreground signals:  73.40539 . \n",
      "***********************************************************\n",
      "   user  system elapsed \n",
      "  6.877   2.028   4.454 \n",
      "IV selection threshold: 5e-07 \n",
      "***********************************************************\n",
      "MR test results of  RA  on  Tanning : \n",
      "MR-APSS: beta =  0.0054 , beta.se =  0.0151 , p-value =  7.2164e-01 . \n",
      "Total NO. of IVs=  52 , NO. of valid IVs with foreground signals:  51.9026 . \n",
      "***********************************************************\n",
      "   user  system elapsed \n",
      "  6.891   1.962   4.427 \n",
      "IV selection threshold: 5e-08 \n",
      "***********************************************************\n",
      "MR test results of  RA  on  Tanning : \n",
      "MR-APSS: beta =  -0.0083 , beta.se =  0.0166 , p-value =  6.1814e-01 . \n",
      "Total NO. of IVs=  37 , NO. of valid IVs with foreground signals:  36.99418 . \n",
      "***********************************************************\n",
      "   user  system elapsed \n",
      "  1.094   0.333   0.714 \n",
      "Run MR-APSS not accounting for selection bias ... \n",
      "IV selection threshold: 5e-06 \n"
     ]
    },
    {
     "name": "stderr",
     "output_type": "stream",
     "text": [
      "Threshold = 1, the model will not correct for selection bias\n",
      "\n"
     ]
    },
    {
     "name": "stdout",
     "output_type": "stream",
     "text": [
      "***********************************************************\n",
      "MR test results of  RA  on  Tanning : \n",
      "MR-APSS: beta =  0.0053 , beta.se =  0.0137 , p-value =  6.9747e-01 . \n",
      "Total NO. of IVs=  74 , NO. of valid IVs with foreground signals:  73.9926 . \n",
      "***********************************************************\n",
      "   user  system elapsed \n",
      "  3.230   0.971   2.100 \n",
      "IV selection threshold: 5e-07 \n"
     ]
    },
    {
     "name": "stderr",
     "output_type": "stream",
     "text": [
      "Threshold = 1, the model will not correct for selection bias\n",
      "\n"
     ]
    },
    {
     "name": "stdout",
     "output_type": "stream",
     "text": [
      "***********************************************************\n",
      "MR test results of  RA  on  Tanning : \n",
      "MR-APSS: beta =  0.0048 , beta.se =  0.0139 , p-value =  7.2695e-01 . \n",
      "Total NO. of IVs=  52 , NO. of valid IVs with foreground signals:  51.9948 . \n",
      "***********************************************************\n",
      "   user  system elapsed \n",
      "  0.273   0.067   0.170 \n",
      "IV selection threshold: 5e-08 \n"
     ]
    },
    {
     "name": "stderr",
     "output_type": "stream",
     "text": [
      "Threshold = 1, the model will not correct for selection bias\n",
      "\n"
     ]
    },
    {
     "name": "stdout",
     "output_type": "stream",
     "text": [
      "***********************************************************\n",
      "MR test results of  RA  on  Tanning : \n",
      "MR-APSS: beta =  -0.0077 , beta.se =  0.0153 , p-value =  6.1305e-01 . \n",
      "Total NO. of IVs=  37 , NO. of valid IVs with foreground signals:  36.9963 . \n",
      "***********************************************************\n",
      "   user  system elapsed \n",
      "  0.200   0.072   0.136 \n",
      "Pair:  T2D ~ Hair_Light_Brown \n",
      "Run MR-APSS ... \n",
      "IV selection threshold: 5e-06 \n",
      "***********************************************************\n",
      "MR test results of  T2D  on  Hair_Light_Brown : \n",
      "MR-APSS: beta =  0.0036 , beta.se =  0.0158 , p-value =  8.2085e-01 . \n",
      "Total NO. of IVs=  405 , NO. of valid IVs with foreground signals:  151.9909 . \n",
      "***********************************************************\n",
      "   user  system elapsed \n",
      "  8.645   2.496   5.711 \n",
      "IV selection threshold: 5e-07 \n",
      "***********************************************************\n",
      "MR test results of  T2D  on  Hair_Light_Brown : \n",
      "MR-APSS: beta =  -0.0051 , beta.se =  0.014 , p-value =  7.1753e-01 . \n",
      "Total NO. of IVs=  282 , NO. of valid IVs with foreground signals:  124.7706 . \n",
      "***********************************************************\n",
      "   user  system elapsed \n",
      "  6.744   1.903   4.328 \n",
      "IV selection threshold: 5e-08 \n",
      "***********************************************************\n",
      "MR test results of  T2D  on  Hair_Light_Brown : \n",
      "MR-APSS: beta =  -0.0051 , beta.se =  0.0146 , p-value =  7.2824e-01 . \n",
      "Total NO. of IVs=  187 , NO. of valid IVs with foreground signals:  112.4429 . \n",
      "***********************************************************\n",
      "   user  system elapsed \n",
      "  3.970   1.203   2.587 \n",
      "Run MR-APSS not accounting for selection bias ... \n",
      "IV selection threshold: 5e-06 \n"
     ]
    },
    {
     "name": "stderr",
     "output_type": "stream",
     "text": [
      "Threshold = 1, the model will not correct for selection bias\n",
      "\n"
     ]
    },
    {
     "name": "stdout",
     "output_type": "stream",
     "text": [
      "***********************************************************\n",
      "MR test results of  T2D  on  Hair_Light_Brown : \n",
      "MR-APSS: beta =  -4e-04 , beta.se =  0.0091 , p-value =  9.6364e-01 . \n",
      "Total NO. of IVs=  405 , NO. of valid IVs with foreground signals:  404.9595 . \n",
      "***********************************************************\n",
      "   user  system elapsed \n",
      "  5.881   1.668   3.824 \n",
      "IV selection threshold: 5e-07 \n"
     ]
    },
    {
     "name": "stderr",
     "output_type": "stream",
     "text": [
      "Threshold = 1, the model will not correct for selection bias\n",
      "\n"
     ]
    },
    {
     "name": "stdout",
     "output_type": "stream",
     "text": [
      "***********************************************************\n",
      "MR test results of  T2D  on  Hair_Light_Brown : \n",
      "MR-APSS: beta =  -0.0027 , beta.se =  0.0097 , p-value =  7.8059e-01 . \n",
      "Total NO. of IVs=  282 , NO. of valid IVs with foreground signals:  281.9718 . \n",
      "***********************************************************\n",
      "   user  system elapsed \n",
      "  6.558   2.099   4.329 \n",
      "IV selection threshold: 5e-08 \n"
     ]
    },
    {
     "name": "stderr",
     "output_type": "stream",
     "text": [
      "Threshold = 1, the model will not correct for selection bias\n",
      "\n"
     ]
    },
    {
     "name": "stdout",
     "output_type": "stream",
     "text": [
      "***********************************************************\n",
      "MR test results of  T2D  on  Hair_Light_Brown : \n",
      "MR-APSS: beta =  -0.0027 , beta.se =  0.0112 , p-value =  8.0779e-01 . \n",
      "Total NO. of IVs=  187 , NO. of valid IVs with foreground signals:  186.9813 . \n",
      "***********************************************************\n",
      "   user  system elapsed \n",
      "  3.200   0.891   2.046 \n",
      "Pair:  T2D ~ Hair_Dark_Brown \n",
      "Run MR-APSS ... \n",
      "IV selection threshold: 5e-06 \n",
      "***********************************************************\n",
      "MR test results of  T2D  on  Hair_Dark_Brown : \n",
      "MR-APSS: beta =  0.0015 , beta.se =  0.02 , p-value =  9.3971e-01 . \n",
      "Total NO. of IVs=  405 , NO. of valid IVs with foreground signals:  143.9176 . \n",
      "***********************************************************\n",
      "   user  system elapsed \n",
      "  7.733   2.182   5.028 \n",
      "IV selection threshold: 5e-07 \n",
      "***********************************************************\n",
      "MR test results of  T2D  on  Hair_Dark_Brown : \n",
      "MR-APSS: beta =  0.0122 , beta.se =  0.0188 , p-value =  5.1543e-01 . \n",
      "Total NO. of IVs=  282 , NO. of valid IVs with foreground signals:  122.3697 . \n",
      "***********************************************************\n",
      "   user  system elapsed \n",
      "  5.356   1.728   3.542 \n",
      "IV selection threshold: 5e-08 \n",
      "***********************************************************\n",
      "MR test results of  T2D  on  Hair_Dark_Brown : \n",
      "MR-APSS: beta =  0.0127 , beta.se =  0.0197 , p-value =  5.1881e-01 . \n",
      "Total NO. of IVs=  187 , NO. of valid IVs with foreground signals:  110.6989 . \n",
      "***********************************************************\n",
      "   user  system elapsed \n",
      "  3.253   1.068   2.161 \n",
      "Run MR-APSS not accounting for selection bias ... \n",
      "IV selection threshold: 5e-06 \n"
     ]
    },
    {
     "name": "stderr",
     "output_type": "stream",
     "text": [
      "Threshold = 1, the model will not correct for selection bias\n",
      "\n"
     ]
    },
    {
     "name": "stdout",
     "output_type": "stream",
     "text": [
      "***********************************************************\n",
      "MR test results of  T2D  on  Hair_Dark_Brown : \n",
      "MR-APSS: beta =  -0.0031 , beta.se =  0.0126 , p-value =  8.0466e-01 . \n",
      "Total NO. of IVs=  405 , NO. of valid IVs with foreground signals:  404.9594 . \n",
      "***********************************************************\n",
      "   user  system elapsed \n",
      "  3.226   0.943   2.108 \n",
      "IV selection threshold: 5e-07 \n"
     ]
    },
    {
     "name": "stderr",
     "output_type": "stream",
     "text": [
      "Threshold = 1, the model will not correct for selection bias\n",
      "\n"
     ]
    },
    {
     "name": "stdout",
     "output_type": "stream",
     "text": [
      "***********************************************************\n",
      "MR test results of  T2D  on  Hair_Dark_Brown : \n",
      "MR-APSS: beta =  0.0045 , beta.se =  0.0123 , p-value =  7.1593e-01 . \n",
      "Total NO. of IVs=  282 , NO. of valid IVs with foreground signals:  281.9717 . \n",
      "***********************************************************\n",
      "   user  system elapsed \n",
      "  4.324   1.277   2.800 \n",
      "IV selection threshold: 5e-08 \n"
     ]
    },
    {
     "name": "stderr",
     "output_type": "stream",
     "text": [
      "Threshold = 1, the model will not correct for selection bias\n",
      "\n"
     ]
    },
    {
     "name": "stdout",
     "output_type": "stream",
     "text": [
      "***********************************************************\n",
      "MR test results of  T2D  on  Hair_Dark_Brown : \n",
      "MR-APSS: beta =  0.0047 , beta.se =  0.0146 , p-value =  7.4851e-01 . \n",
      "Total NO. of IVs=  187 , NO. of valid IVs with foreground signals:  186.9813 . \n",
      "***********************************************************\n",
      "   user  system elapsed \n",
      "  2.514   0.852   1.683 \n",
      "Pair:  T2D ~ Hair_Black \n",
      "Run MR-APSS ... \n",
      "IV selection threshold: 5e-06 \n",
      "***********************************************************\n",
      "MR test results of  T2D  on  Hair_Black : \n",
      "MR-APSS: beta =  0.018 , beta.se =  0.0187 , p-value =  3.3381e-01 . \n",
      "Total NO. of IVs=  405 , NO. of valid IVs with foreground signals:  149.1858 . \n",
      "***********************************************************\n",
      "   user  system elapsed \n",
      "  8.896   2.778   5.951 \n",
      "IV selection threshold: 5e-07 \n",
      "***********************************************************\n",
      "MR test results of  T2D  on  Hair_Black : \n",
      "MR-APSS: beta =  0.0244 , beta.se =  0.016 , p-value =  1.2837e-01 . \n",
      "Total NO. of IVs=  282 , NO. of valid IVs with foreground signals:  122.3066 . \n",
      "***********************************************************\n",
      "   user  system elapsed \n",
      "  7.762   2.150   4.957 \n",
      "IV selection threshold: 5e-08 \n",
      "***********************************************************\n",
      "MR test results of  T2D  on  Hair_Black : \n",
      "MR-APSS: beta =  0.0251 , beta.se =  0.0166 , p-value =  1.3041e-01 . \n",
      "Total NO. of IVs=  187 , NO. of valid IVs with foreground signals:  109.9966 . \n",
      "***********************************************************\n",
      "   user  system elapsed \n",
      "  4.666   1.294   2.981 \n",
      "Run MR-APSS not accounting for selection bias ... \n",
      "IV selection threshold: 5e-06 \n"
     ]
    },
    {
     "name": "stderr",
     "output_type": "stream",
     "text": [
      "Threshold = 1, the model will not correct for selection bias\n",
      "\n"
     ]
    },
    {
     "name": "stdout",
     "output_type": "stream",
     "text": [
      "***********************************************************\n",
      "MR test results of  T2D  on  Hair_Black : \n",
      "MR-APSS: beta =  0.0163 , beta.se =  0.0112 , p-value =  1.4755e-01 . \n",
      "Total NO. of IVs=  405 , NO. of valid IVs with foreground signals:  404.9595 . \n",
      "***********************************************************\n",
      "   user  system elapsed \n",
      "  5.939   1.758   3.884 \n",
      "IV selection threshold: 5e-07 \n"
     ]
    },
    {
     "name": "stderr",
     "output_type": "stream",
     "text": [
      "Threshold = 1, the model will not correct for selection bias\n",
      "\n"
     ]
    },
    {
     "name": "stdout",
     "output_type": "stream",
     "text": [
      "***********************************************************\n",
      "MR test results of  T2D  on  Hair_Black : \n",
      "MR-APSS: beta =  0.016 , beta.se =  0.0111 , p-value =  1.4817e-01 . \n",
      "Total NO. of IVs=  282 , NO. of valid IVs with foreground signals:  281.9718 . \n",
      "***********************************************************\n",
      "   user  system elapsed \n",
      "  8.032   2.459   5.249 \n",
      "IV selection threshold: 5e-08 \n"
     ]
    },
    {
     "name": "stderr",
     "output_type": "stream",
     "text": [
      "Threshold = 1, the model will not correct for selection bias\n",
      "\n"
     ]
    },
    {
     "name": "stdout",
     "output_type": "stream",
     "text": [
      "***********************************************************\n",
      "MR test results of  T2D  on  Hair_Black : \n",
      "MR-APSS: beta =  0.0215 , beta.se =  0.0124 , p-value =  8.4053e-02 . \n",
      "Total NO. of IVs=  187 , NO. of valid IVs with foreground signals:  186.9813 . \n",
      "***********************************************************\n",
      "   user  system elapsed \n",
      "  6.008   1.696   3.853 \n",
      "Pair:  T2D ~ Hair_Blonde \n",
      "Run MR-APSS ... \n",
      "IV selection threshold: 5e-06 \n",
      "***********************************************************\n",
      "MR test results of  T2D  on  Hair_Blonde : \n",
      "MR-APSS: beta =  -0.0148 , beta.se =  0.0221 , p-value =  5.0378e-01 . \n",
      "Total NO. of IVs=  405 , NO. of valid IVs with foreground signals:  142.7566 . \n",
      "***********************************************************\n",
      "   user  system elapsed \n",
      "  9.558   3.010   6.448 \n",
      "IV selection threshold: 5e-07 \n",
      "***********************************************************\n",
      "MR test results of  T2D  on  Hair_Blonde : \n",
      "MR-APSS: beta =  -0.0248 , beta.se =  0.0174 , p-value =  1.5338e-01 . \n",
      "Total NO. of IVs=  282 , NO. of valid IVs with foreground signals:  123.3914 . \n",
      "***********************************************************\n",
      "   user  system elapsed \n",
      "  6.070   1.729   3.901 \n",
      "IV selection threshold: 5e-08 \n",
      "***********************************************************\n",
      "MR test results of  T2D  on  Hair_Blonde : \n",
      "MR-APSS: beta =  -0.024 , beta.se =  0.0177 , p-value =  1.7499e-01 . \n",
      "Total NO. of IVs=  187 , NO. of valid IVs with foreground signals:  110.765 . \n",
      "***********************************************************\n",
      "   user  system elapsed \n",
      "  3.558   0.965   2.262 \n",
      "Run MR-APSS not accounting for selection bias ... \n",
      "IV selection threshold: 5e-06 \n"
     ]
    },
    {
     "name": "stderr",
     "output_type": "stream",
     "text": [
      "Threshold = 1, the model will not correct for selection bias\n",
      "\n"
     ]
    },
    {
     "name": "stdout",
     "output_type": "stream",
     "text": [
      "***********************************************************\n",
      "MR test results of  T2D  on  Hair_Blonde : \n",
      "MR-APSS: beta =  -0.0015 , beta.se =  0.0117 , p-value =  8.9691e-01 . \n",
      "Total NO. of IVs=  405 , NO. of valid IVs with foreground signals:  404.9594 . \n",
      "***********************************************************\n",
      "   user  system elapsed \n",
      "  5.225   1.598   3.462 \n",
      "IV selection threshold: 5e-07 \n"
     ]
    },
    {
     "name": "stderr",
     "output_type": "stream",
     "text": [
      "Threshold = 1, the model will not correct for selection bias\n",
      "\n"
     ]
    },
    {
     "name": "stdout",
     "output_type": "stream",
     "text": [
      "***********************************************************\n",
      "MR test results of  T2D  on  Hair_Blonde : \n",
      "MR-APSS: beta =  -0.0112 , beta.se =  0.0112 , p-value =  3.1600e-01 . \n",
      "Total NO. of IVs=  282 , NO. of valid IVs with foreground signals:  281.9718 . \n",
      "***********************************************************\n",
      "   user  system elapsed \n",
      "  4.944   1.364   3.155 \n",
      "IV selection threshold: 5e-08 \n"
     ]
    },
    {
     "name": "stderr",
     "output_type": "stream",
     "text": [
      "Threshold = 1, the model will not correct for selection bias\n",
      "\n"
     ]
    },
    {
     "name": "stdout",
     "output_type": "stream",
     "text": [
      "***********************************************************\n",
      "MR test results of  T2D  on  Hair_Blonde : \n",
      "MR-APSS: beta =  -0.0154 , beta.se =  0.0129 , p-value =  2.3284e-01 . \n",
      "Total NO. of IVs=  187 , NO. of valid IVs with foreground signals:  186.9813 . \n",
      "***********************************************************\n",
      "   user  system elapsed \n",
      "  3.085   0.989   2.037 \n",
      "Pair:  T2D ~ Tanning \n",
      "Run MR-APSS ... \n",
      "IV selection threshold: 5e-06 \n",
      "***********************************************************\n",
      "MR test results of  T2D  on  Tanning : \n",
      "MR-APSS: beta =  0.0046 , beta.se =  0.0202 , p-value =  8.1874e-01 . \n",
      "Total NO. of IVs=  405 , NO. of valid IVs with foreground signals:  152.9162 . \n",
      "***********************************************************\n",
      "   user  system elapsed \n",
      "  7.711   2.455   5.146 \n",
      "IV selection threshold: 5e-07 \n",
      "***********************************************************\n",
      "MR test results of  T2D  on  Tanning : \n",
      "MR-APSS: beta =  0.0083 , beta.se =  0.0199 , p-value =  6.7671e-01 . \n",
      "Total NO. of IVs=  281 , NO. of valid IVs with foreground signals:  122.7064 . \n",
      "***********************************************************\n",
      "   user  system elapsed \n",
      "  5.307   1.648   3.479 \n",
      "IV selection threshold: 5e-08 \n",
      "***********************************************************\n",
      "MR test results of  T2D  on  Tanning : \n",
      "MR-APSS: beta =  0.0154 , beta.se =  0.0174 , p-value =  3.7489e-01 . \n",
      "Total NO. of IVs=  186 , NO. of valid IVs with foreground signals:  110.9216 . \n",
      "***********************************************************\n",
      "   user  system elapsed \n",
      "  8.707   2.724   5.717 \n",
      "Run MR-APSS not accounting for selection bias ... \n",
      "IV selection threshold: 5e-06 \n"
     ]
    },
    {
     "name": "stderr",
     "output_type": "stream",
     "text": [
      "Threshold = 1, the model will not correct for selection bias\n",
      "\n"
     ]
    },
    {
     "name": "stdout",
     "output_type": "stream",
     "text": [
      "***********************************************************\n",
      "MR test results of  T2D  on  Tanning : \n",
      "MR-APSS: beta =  -0.0031 , beta.se =  0.0123 , p-value =  8.0057e-01 . \n",
      "Total NO. of IVs=  405 , NO. of valid IVs with foreground signals:  404.9595 . \n",
      "***********************************************************\n",
      "   user  system elapsed \n",
      "  6.200   1.912   4.084 \n",
      "IV selection threshold: 5e-07 \n"
     ]
    },
    {
     "name": "stderr",
     "output_type": "stream",
     "text": [
      "Threshold = 1, the model will not correct for selection bias\n",
      "\n"
     ]
    },
    {
     "name": "stdout",
     "output_type": "stream",
     "text": [
      "***********************************************************\n",
      "MR test results of  T2D  on  Tanning : \n",
      "MR-APSS: beta =  -0.003 , beta.se =  0.0133 , p-value =  8.1923e-01 . \n",
      "Total NO. of IVs=  281 , NO. of valid IVs with foreground signals:  280.9719 . \n",
      "***********************************************************\n",
      "   user  system elapsed \n",
      "  4.353   1.293   2.823 \n",
      "IV selection threshold: 5e-08 \n"
     ]
    },
    {
     "name": "stderr",
     "output_type": "stream",
     "text": [
      "Threshold = 1, the model will not correct for selection bias\n",
      "\n"
     ]
    },
    {
     "name": "stdout",
     "output_type": "stream",
     "text": [
      "***********************************************************\n",
      "MR test results of  T2D  on  Tanning : \n",
      "MR-APSS: beta =  0.0049 , beta.se =  0.0137 , p-value =  7.1957e-01 . \n",
      "Total NO. of IVs=  186 , NO. of valid IVs with foreground signals:  185.9814 . \n",
      "***********************************************************\n",
      "   user  system elapsed \n",
      "  6.837   2.148   4.493 \n",
      "Pair:  Alcohol ~ Hair_Light_Brown \n",
      "Run MR-APSS ... \n",
      "IV selection threshold: 5e-06 \n",
      "***********************************************************\n",
      "MR test results of  Alcohol  on  Hair_Light_Brown : \n",
      "MR-APSS: beta =  0.0938 , beta.se =  0.0492 , p-value =  5.6441e-02 . \n",
      "Total NO. of IVs=  150 , NO. of valid IVs with foreground signals:  44.47662 . \n",
      "***********************************************************\n",
      "   user  system elapsed \n",
      "  6.592   1.953   4.273 \n",
      "IV selection threshold: 5e-07 \n",
      "***********************************************************\n",
      "MR test results of  Alcohol  on  Hair_Light_Brown : \n",
      "MR-APSS: beta =  0.1053 , beta.se =  0.0594 , p-value =  7.6305e-02 . \n",
      "Total NO. of IVs=  83 , NO. of valid IVs with foreground signals:  25.93799 . \n",
      "***********************************************************\n",
      "   user  system elapsed \n",
      "  2.856   0.842   1.849 \n",
      "IV selection threshold: 5e-08 \n",
      "***********************************************************\n",
      "MR test results of  Alcohol  on  Hair_Light_Brown : \n",
      "MR-APSS: beta =  0.1139 , beta.se =  0.0655 , p-value =  8.2010e-02 . \n",
      "Total NO. of IVs=  46 , NO. of valid IVs with foreground signals:  19.00571 . \n",
      "***********************************************************\n",
      "   user  system elapsed \n",
      "  1.751   0.520   1.135 \n",
      "Run MR-APSS not accounting for selection bias ... \n",
      "IV selection threshold: 5e-06 \n"
     ]
    },
    {
     "name": "stderr",
     "output_type": "stream",
     "text": [
      "Threshold = 1, the model will not correct for selection bias\n",
      "\n"
     ]
    },
    {
     "name": "stdout",
     "output_type": "stream",
     "text": [
      "***********************************************************\n",
      "MR test results of  Alcohol  on  Hair_Light_Brown : \n",
      "MR-APSS: beta =  0.0326 , beta.se =  0.0229 , p-value =  1.5421e-01 . \n",
      "Total NO. of IVs=  150 , NO. of valid IVs with foreground signals:  149.985 . \n",
      "***********************************************************\n",
      "   user  system elapsed \n",
      "  6.483   1.972   4.228 \n",
      "IV selection threshold: 5e-07 \n"
     ]
    },
    {
     "name": "stderr",
     "output_type": "stream",
     "text": [
      "Threshold = 1, the model will not correct for selection bias\n",
      "\n"
     ]
    },
    {
     "name": "stdout",
     "output_type": "stream",
     "text": [
      "***********************************************************\n",
      "MR test results of  Alcohol  on  Hair_Light_Brown : \n",
      "MR-APSS: beta =  0.0599 , beta.se =  0.0289 , p-value =  3.8184e-02 . \n",
      "Total NO. of IVs=  83 , NO. of valid IVs with foreground signals:  82.9917 . \n",
      "***********************************************************\n",
      "   user  system elapsed \n",
      "  4.361   1.412   2.887 \n",
      "IV selection threshold: 5e-08 \n"
     ]
    },
    {
     "name": "stderr",
     "output_type": "stream",
     "text": [
      "Threshold = 1, the model will not correct for selection bias\n",
      "\n"
     ]
    },
    {
     "name": "stdout",
     "output_type": "stream",
     "text": [
      "***********************************************************\n",
      "MR test results of  Alcohol  on  Hair_Light_Brown : \n",
      "MR-APSS: beta =  0.0682 , beta.se =  0.038 , p-value =  7.2915e-02 . \n",
      "Total NO. of IVs=  46 , NO. of valid IVs with foreground signals:  45.9954 . \n",
      "***********************************************************\n",
      "   user  system elapsed \n",
      "  1.501   0.440   0.971 \n",
      "Pair:  Alcohol ~ Hair_Dark_Brown \n",
      "Run MR-APSS ... \n",
      "IV selection threshold: 5e-06 \n",
      "***********************************************************\n",
      "MR test results of  Alcohol  on  Hair_Dark_Brown : \n",
      "MR-APSS: beta =  -0.1212 , beta.se =  0.0574 , p-value =  3.4819e-02 . \n",
      "Total NO. of IVs=  150 , NO. of valid IVs with foreground signals:  43.00204 . \n",
      "***********************************************************\n",
      "   user  system elapsed \n",
      "  6.394   1.849   4.122 \n",
      "IV selection threshold: 5e-07 \n",
      "***********************************************************\n",
      "MR test results of  Alcohol  on  Hair_Dark_Brown : \n",
      "MR-APSS: beta =  -0.1463 , beta.se =  0.0684 , p-value =  3.2406e-02 . \n",
      "Total NO. of IVs=  83 , NO. of valid IVs with foreground signals:  24.95922 . \n",
      "***********************************************************\n",
      "   user  system elapsed \n",
      "  2.592   0.779   1.686 \n",
      "IV selection threshold: 5e-08 \n",
      "***********************************************************\n",
      "MR test results of  Alcohol  on  Hair_Dark_Brown : \n",
      "MR-APSS: beta =  -0.1602 , beta.se =  0.0745 , p-value =  3.1427e-02 . \n",
      "Total NO. of IVs=  46 , NO. of valid IVs with foreground signals:  18.19543 . \n",
      "***********************************************************\n",
      "   user  system elapsed \n",
      "  1.527   0.435   0.981 \n",
      "Run MR-APSS not accounting for selection bias ... \n",
      "IV selection threshold: 5e-06 \n"
     ]
    },
    {
     "name": "stderr",
     "output_type": "stream",
     "text": [
      "Threshold = 1, the model will not correct for selection bias\n",
      "\n"
     ]
    },
    {
     "name": "stdout",
     "output_type": "stream",
     "text": [
      "***********************************************************\n",
      "MR test results of  Alcohol  on  Hair_Dark_Brown : \n",
      "MR-APSS: beta =  -0.0447 , beta.se =  0.0268 , p-value =  9.5051e-02 . \n",
      "Total NO. of IVs=  150 , NO. of valid IVs with foreground signals:  149.985 . \n",
      "***********************************************************\n",
      "   user  system elapsed \n",
      "  5.888   1.627   3.759 \n",
      "IV selection threshold: 5e-07 \n"
     ]
    },
    {
     "name": "stderr",
     "output_type": "stream",
     "text": [
      "Threshold = 1, the model will not correct for selection bias\n",
      "\n"
     ]
    },
    {
     "name": "stdout",
     "output_type": "stream",
     "text": [
      "***********************************************************\n",
      "MR test results of  Alcohol  on  Hair_Dark_Brown : \n",
      "MR-APSS: beta =  -0.0773 , beta.se =  0.0336 , p-value =  2.1474e-02 . \n",
      "Total NO. of IVs=  83 , NO. of valid IVs with foreground signals:  82.9917 . \n",
      "***********************************************************\n",
      "   user  system elapsed \n",
      "  3.073   0.828   1.951 \n",
      "IV selection threshold: 5e-08 \n"
     ]
    },
    {
     "name": "stderr",
     "output_type": "stream",
     "text": [
      "Threshold = 1, the model will not correct for selection bias\n",
      "\n"
     ]
    },
    {
     "name": "stdout",
     "output_type": "stream",
     "text": [
      "***********************************************************\n",
      "MR test results of  Alcohol  on  Hair_Dark_Brown : \n",
      "MR-APSS: beta =  -0.0928 , beta.se =  0.0434 , p-value =  3.2482e-02 . \n",
      "Total NO. of IVs=  46 , NO. of valid IVs with foreground signals:  45.9954 . \n",
      "***********************************************************\n",
      "   user  system elapsed \n",
      "  1.603   0.563   1.084 \n",
      "Pair:  Alcohol ~ Hair_Black \n",
      "Run MR-APSS ... \n",
      "IV selection threshold: 5e-06 \n",
      "***********************************************************\n",
      "MR test results of  Alcohol  on  Hair_Black : \n",
      "MR-APSS: beta =  -0.0131 , beta.se =  0.0422 , p-value =  7.5590e-01 . \n",
      "Total NO. of IVs=  150 , NO. of valid IVs with foreground signals:  45.79281 . \n",
      "***********************************************************\n",
      "   user  system elapsed \n",
      " 87.923  26.004  56.973 \n",
      "IV selection threshold: 5e-07 \n",
      "***********************************************************\n",
      "MR test results of  Alcohol  on  Hair_Black : \n",
      "MR-APSS: beta =  -0.0151 , beta.se =  0.0467 , p-value =  7.4682e-01 . \n",
      "Total NO. of IVs=  83 , NO. of valid IVs with foreground signals:  25.52976 . \n",
      "***********************************************************\n",
      "   user  system elapsed \n",
      "  1.763   0.500   1.131 \n",
      "IV selection threshold: 5e-08 \n",
      "***********************************************************\n",
      "MR test results of  Alcohol  on  Hair_Black : \n",
      "MR-APSS: beta =  -0.0267 , beta.se =  0.0495 , p-value =  5.9007e-01 . \n",
      "Total NO. of IVs=  46 , NO. of valid IVs with foreground signals:  18.52039 . \n",
      "***********************************************************\n",
      "   user  system elapsed \n",
      "  1.371   0.383   0.877 \n",
      "Run MR-APSS not accounting for selection bias ... \n",
      "IV selection threshold: 5e-06 \n"
     ]
    },
    {
     "name": "stderr",
     "output_type": "stream",
     "text": [
      "Threshold = 1, the model will not correct for selection bias\n",
      "\n"
     ]
    },
    {
     "name": "stdout",
     "output_type": "stream",
     "text": [
      "***********************************************************\n",
      "MR test results of  Alcohol  on  Hair_Black : \n",
      "MR-APSS: beta =  -0.0383 , beta.se =  0.0245 , p-value =  1.1788e-01 . \n",
      "Total NO. of IVs=  150 , NO. of valid IVs with foreground signals:  149.985 . \n",
      "***********************************************************\n",
      "   user  system elapsed \n",
      " 21.671   6.691  14.183 \n",
      "IV selection threshold: 5e-07 \n"
     ]
    },
    {
     "name": "stderr",
     "output_type": "stream",
     "text": [
      "Threshold = 1, the model will not correct for selection bias\n",
      "\n"
     ]
    },
    {
     "name": "stdout",
     "output_type": "stream",
     "text": [
      "***********************************************************\n",
      "MR test results of  Alcohol  on  Hair_Black : \n",
      "MR-APSS: beta =  -0.0191 , beta.se =  0.0282 , p-value =  4.9878e-01 . \n",
      "Total NO. of IVs=  83 , NO. of valid IVs with foreground signals:  82.9917 . \n",
      "***********************************************************\n",
      "   user  system elapsed \n",
      "  0.405   0.163   0.284 \n",
      "IV selection threshold: 5e-08 \n"
     ]
    },
    {
     "name": "stderr",
     "output_type": "stream",
     "text": [
      "Threshold = 1, the model will not correct for selection bias\n",
      "\n"
     ]
    },
    {
     "name": "stdout",
     "output_type": "stream",
     "text": [
      "***********************************************************\n",
      "MR test results of  Alcohol  on  Hair_Black : \n",
      "MR-APSS: beta =  -0.0054 , beta.se =  0.0337 , p-value =  8.7368e-01 . \n",
      "Total NO. of IVs=  46 , NO. of valid IVs with foreground signals:  45.9954 . \n",
      "***********************************************************\n",
      "   user  system elapsed \n",
      "  0.244   0.076   0.160 \n",
      "Pair:  Alcohol ~ Hair_Blonde \n",
      "Run MR-APSS ... \n",
      "IV selection threshold: 5e-06 \n",
      "***********************************************************\n",
      "MR test results of  Alcohol  on  Hair_Blonde : \n",
      "MR-APSS: beta =  0.0411 , beta.se =  0.0471 , p-value =  3.8287e-01 . \n",
      "Total NO. of IVs=  150 , NO. of valid IVs with foreground signals:  45.02274 . \n",
      "***********************************************************\n",
      "   user  system elapsed \n",
      " 11.909   3.640   7.777 \n",
      "IV selection threshold: 5e-07 \n",
      "***********************************************************\n",
      "MR test results of  Alcohol  on  Hair_Blonde : \n",
      "MR-APSS: beta =  0.0476 , beta.se =  0.0535 , p-value =  3.7359e-01 . \n",
      "Total NO. of IVs=  83 , NO. of valid IVs with foreground signals:  25.40829 . \n",
      "***********************************************************\n",
      "   user  system elapsed \n",
      "  4.952   1.444   3.198 \n",
      "IV selection threshold: 5e-08 \n",
      "***********************************************************\n",
      "MR test results of  Alcohol  on  Hair_Blonde : \n",
      "MR-APSS: beta =  0.0556 , beta.se =  0.0575 , p-value =  3.3354e-01 . \n",
      "Total NO. of IVs=  46 , NO. of valid IVs with foreground signals:  18.78911 . \n",
      "***********************************************************\n",
      "   user  system elapsed \n",
      "  2.275   0.695   1.485 \n",
      "Run MR-APSS not accounting for selection bias ... \n",
      "IV selection threshold: 5e-06 \n"
     ]
    },
    {
     "name": "stderr",
     "output_type": "stream",
     "text": [
      "Threshold = 1, the model will not correct for selection bias\n",
      "\n"
     ]
    },
    {
     "name": "stdout",
     "output_type": "stream",
     "text": [
      "***********************************************************\n",
      "MR test results of  Alcohol  on  Hair_Blonde : \n",
      "MR-APSS: beta =  0.0301 , beta.se =  0.0238 , p-value =  2.0533e-01 . \n",
      "Total NO. of IVs=  150 , NO. of valid IVs with foreground signals:  149.985 . \n",
      "***********************************************************\n",
      "   user  system elapsed \n",
      " 11.619   3.427   7.524 \n",
      "IV selection threshold: 5e-07 \n"
     ]
    },
    {
     "name": "stderr",
     "output_type": "stream",
     "text": [
      "Threshold = 1, the model will not correct for selection bias\n",
      "\n"
     ]
    },
    {
     "name": "stdout",
     "output_type": "stream",
     "text": [
      "***********************************************************\n",
      "MR test results of  Alcohol  on  Hair_Blonde : \n",
      "MR-APSS: beta =  0.0297 , beta.se =  0.0286 , p-value =  2.9880e-01 . \n",
      "Total NO. of IVs=  83 , NO. of valid IVs with foreground signals:  82.9917 . \n",
      "***********************************************************\n",
      "   user  system elapsed \n",
      "  6.115   1.878   3.998 \n",
      "IV selection threshold: 5e-08 \n"
     ]
    },
    {
     "name": "stderr",
     "output_type": "stream",
     "text": [
      "Threshold = 1, the model will not correct for selection bias\n",
      "\n"
     ]
    },
    {
     "name": "stdout",
     "output_type": "stream",
     "text": [
      "***********************************************************\n",
      "MR test results of  Alcohol  on  Hair_Blonde : \n",
      "MR-APSS: beta =  0.0257 , beta.se =  0.036 , p-value =  4.7536e-01 . \n",
      "Total NO. of IVs=  46 , NO. of valid IVs with foreground signals:  45.9954 . \n",
      "***********************************************************\n",
      "   user  system elapsed \n",
      "  2.454   0.703   1.579 \n",
      "Pair:  Alcohol ~ Tanning \n",
      "Run MR-APSS ... \n",
      "IV selection threshold: 5e-06 \n",
      "***********************************************************\n",
      "MR test results of  Alcohol  on  Tanning : \n",
      "MR-APSS: beta =  0.0125 , beta.se =  0.0729 , p-value =  8.6382e-01 . \n",
      "Total NO. of IVs=  150 , NO. of valid IVs with foreground signals:  43.98931 . \n",
      "***********************************************************\n",
      "   user  system elapsed \n",
      "  2.883   0.981   1.932 \n",
      "IV selection threshold: 5e-07 \n",
      "***********************************************************\n",
      "MR test results of  Alcohol  on  Tanning : \n",
      "MR-APSS: beta =  0.0166 , beta.se =  0.0865 , p-value =  8.4779e-01 . \n",
      "Total NO. of IVs=  83 , NO. of valid IVs with foreground signals:  26.77864 . \n",
      "***********************************************************\n",
      "   user  system elapsed \n",
      "  1.920   0.615   1.268 \n",
      "IV selection threshold: 5e-08 \n",
      "***********************************************************\n",
      "MR test results of  Alcohol  on  Tanning : \n",
      "MR-APSS: beta =  0.0154 , beta.se =  0.0963 , p-value =  8.7260e-01 . \n",
      "Total NO. of IVs=  46 , NO. of valid IVs with foreground signals:  20.19234 . \n",
      "***********************************************************\n",
      "   user  system elapsed \n",
      "  1.267   0.373   0.821 \n",
      "Run MR-APSS not accounting for selection bias ... \n",
      "IV selection threshold: 5e-06 \n"
     ]
    },
    {
     "name": "stderr",
     "output_type": "stream",
     "text": [
      "Threshold = 1, the model will not correct for selection bias\n",
      "\n"
     ]
    },
    {
     "name": "stdout",
     "output_type": "stream",
     "text": [
      "***********************************************************\n",
      "MR test results of  Alcohol  on  Tanning : \n",
      "MR-APSS: beta =  0.0738 , beta.se =  0.0322 , p-value =  2.1895e-02 . \n",
      "Total NO. of IVs=  150 , NO. of valid IVs with foreground signals:  149.985 . \n",
      "***********************************************************\n",
      "   user  system elapsed \n",
      "  5.203   1.639   3.421 \n",
      "IV selection threshold: 5e-07 \n"
     ]
    },
    {
     "name": "stderr",
     "output_type": "stream",
     "text": [
      "Threshold = 1, the model will not correct for selection bias\n",
      "\n"
     ]
    },
    {
     "name": "stdout",
     "output_type": "stream",
     "text": [
      "***********************************************************\n",
      "MR test results of  Alcohol  on  Tanning : \n",
      "MR-APSS: beta =  0.0527 , beta.se =  0.0434 , p-value =  2.2456e-01 . \n",
      "Total NO. of IVs=  83 , NO. of valid IVs with foreground signals:  82.9917 . \n",
      "***********************************************************\n",
      "   user  system elapsed \n",
      "  1.294   0.423   0.859 \n",
      "IV selection threshold: 5e-08 \n"
     ]
    },
    {
     "name": "stderr",
     "output_type": "stream",
     "text": [
      "Threshold = 1, the model will not correct for selection bias\n",
      "\n"
     ]
    },
    {
     "name": "stdout",
     "output_type": "stream",
     "text": [
      "***********************************************************\n",
      "MR test results of  Alcohol  on  Tanning : \n",
      "MR-APSS: beta =  0.0588 , beta.se =  0.0581 , p-value =  3.1105e-01 . \n",
      "Total NO. of IVs=  46 , NO. of valid IVs with foreground signals:  45.9954 . \n",
      "***********************************************************\n",
      "   user  system elapsed \n",
      "  0.792   0.256   0.524 \n",
      "Pair:  BMI ~ Hair_Light_Brown \n",
      "Run MR-APSS ... \n",
      "IV selection threshold: 5e-06 \n",
      "***********************************************************\n",
      "MR test results of  BMI  on  Hair_Light_Brown : \n",
      "MR-APSS: beta =  -0.0254 , beta.se =  0.0224 , p-value =  2.5640e-01 . \n",
      "Total NO. of IVs=  883 , NO. of valid IVs with foreground signals:  170.0249 . \n",
      "***********************************************************\n",
      "   user  system elapsed \n",
      " 22.217   4.585  17.056 \n",
      "IV selection threshold: 5e-07 \n",
      "***********************************************************\n",
      "MR test results of  BMI  on  Hair_Light_Brown : \n",
      "MR-APSS: beta =  -0.0335 , beta.se =  0.0214 , p-value =  1.1780e-01 . \n",
      "Total NO. of IVs=  607 , NO. of valid IVs with foreground signals:  126.1472 . \n",
      "***********************************************************\n",
      "   user  system elapsed \n",
      " 25.120   6.167  17.921 \n",
      "IV selection threshold: 5e-08 \n",
      "***********************************************************\n",
      "MR test results of  BMI  on  Hair_Light_Brown : \n",
      "MR-APSS: beta =  -0.0233 , beta.se =  0.0201 , p-value =  2.4647e-01 . \n",
      "Total NO. of IVs=  400 , NO. of valid IVs with foreground signals:  102.032 . \n",
      "***********************************************************\n",
      "   user  system elapsed \n",
      " 17.724   5.433  11.692 \n",
      "Run MR-APSS not accounting for selection bias ... \n",
      "IV selection threshold: 5e-06 \n"
     ]
    },
    {
     "name": "stderr",
     "output_type": "stream",
     "text": [
      "Threshold = 1, the model will not correct for selection bias\n",
      "\n"
     ]
    },
    {
     "name": "stdout",
     "output_type": "stream",
     "text": [
      "***********************************************************\n",
      "MR test results of  BMI  on  Hair_Light_Brown : \n",
      "MR-APSS: beta =  -0.0045 , beta.se =  0.0084 , p-value =  5.8885e-01 . \n",
      "Total NO. of IVs=  883 , NO. of valid IVs with foreground signals:  882.9116 . \n",
      "***********************************************************\n",
      "   user  system elapsed \n",
      " 33.936   6.746  25.883 \n",
      "IV selection threshold: 5e-07 \n"
     ]
    },
    {
     "name": "stderr",
     "output_type": "stream",
     "text": [
      "Threshold = 1, the model will not correct for selection bias\n",
      "\n"
     ]
    },
    {
     "name": "stdout",
     "output_type": "stream",
     "text": [
      "***********************************************************\n",
      "MR test results of  BMI  on  Hair_Light_Brown : \n",
      "MR-APSS: beta =  -0.0067 , beta.se =  0.009 , p-value =  4.5374e-01 . \n",
      "Total NO. of IVs=  607 , NO. of valid IVs with foreground signals:  606.9392 . \n",
      "***********************************************************\n",
      "   user  system elapsed \n",
      " 65.957  16.084  46.960 \n",
      "IV selection threshold: 5e-08 \n"
     ]
    },
    {
     "name": "stderr",
     "output_type": "stream",
     "text": [
      "Threshold = 1, the model will not correct for selection bias\n",
      "\n"
     ]
    },
    {
     "name": "stdout",
     "output_type": "stream",
     "text": [
      "***********************************************************\n",
      "MR test results of  BMI  on  Hair_Light_Brown : \n",
      "MR-APSS: beta =  -0.0147 , beta.se =  0.0101 , p-value =  1.4473e-01 . \n",
      "Total NO. of IVs=  400 , NO. of valid IVs with foreground signals:  399.96 . \n",
      "***********************************************************\n",
      "   user  system elapsed \n",
      " 67.409  19.887  44.207 \n",
      "Pair:  BMI ~ Hair_Dark_Brown \n",
      "Run MR-APSS ... \n",
      "IV selection threshold: 5e-06 \n",
      "***********************************************************\n",
      "MR test results of  BMI  on  Hair_Dark_Brown : \n",
      "MR-APSS: beta =  -1e-04 , beta.se =  0.0065 , p-value =  9.9091e-01 . \n",
      "Total NO. of IVs=  883 , NO. of valid IVs with foreground signals:  157.751 . \n",
      "***********************************************************\n",
      "   user  system elapsed \n",
      " 15.206   3.160  11.622 \n",
      "IV selection threshold: 5e-07 \n",
      "***********************************************************\n",
      "MR test results of  BMI  on  Hair_Dark_Brown : \n",
      "MR-APSS: beta =  0.0081 , beta.se =  0.0319 , p-value =  7.9989e-01 . \n",
      "Total NO. of IVs=  607 , NO. of valid IVs with foreground signals:  117.9864 . \n",
      "***********************************************************\n",
      "   user  system elapsed \n",
      " 13.984   3.323   9.922 \n",
      "IV selection threshold: 5e-08 \n",
      "***********************************************************\n",
      "MR test results of  BMI  on  Hair_Dark_Brown : \n",
      "MR-APSS: beta =  -0.0071 , beta.se =  0.0278 , p-value =  7.9922e-01 . \n",
      "Total NO. of IVs=  400 , NO. of valid IVs with foreground signals:  101.9298 . \n",
      "***********************************************************\n",
      "   user  system elapsed \n",
      "  9.476   2.759   6.160 \n",
      "Run MR-APSS not accounting for selection bias ... \n",
      "IV selection threshold: 5e-06 \n"
     ]
    },
    {
     "name": "stderr",
     "output_type": "stream",
     "text": [
      "Threshold = 1, the model will not correct for selection bias\n",
      "\n"
     ]
    },
    {
     "name": "stdout",
     "output_type": "stream",
     "text": [
      "***********************************************************\n",
      "MR test results of  BMI  on  Hair_Dark_Brown : \n",
      "MR-APSS: beta =  -0.0282 , beta.se =  0.0108 , p-value =  9.0328e-03 . \n",
      "Total NO. of IVs=  883 , NO. of valid IVs with foreground signals:  882.9115 . \n",
      "***********************************************************\n",
      "   user  system elapsed \n",
      " 11.582   2.426   8.985 \n",
      "IV selection threshold: 5e-07 \n"
     ]
    },
    {
     "name": "stderr",
     "output_type": "stream",
     "text": [
      "Threshold = 1, the model will not correct for selection bias\n",
      "\n"
     ]
    },
    {
     "name": "stdout",
     "output_type": "stream",
     "text": [
      "***********************************************************\n",
      "MR test results of  BMI  on  Hair_Dark_Brown : \n",
      "MR-APSS: beta =  -0.0303 , beta.se =  0.0116 , p-value =  8.8396e-03 . \n",
      "Total NO. of IVs=  607 , NO. of valid IVs with foreground signals:  606.9392 . \n",
      "***********************************************************\n",
      "   user  system elapsed \n",
      " 13.479   3.306   9.785 \n",
      "IV selection threshold: 5e-08 \n"
     ]
    },
    {
     "name": "stderr",
     "output_type": "stream",
     "text": [
      "Threshold = 1, the model will not correct for selection bias\n",
      "\n"
     ]
    },
    {
     "name": "stdout",
     "output_type": "stream",
     "text": [
      "***********************************************************\n",
      "MR test results of  BMI  on  Hair_Dark_Brown : \n",
      "MR-APSS: beta =  -0.0274 , beta.se =  0.0128 , p-value =  3.2024e-02 . \n",
      "Total NO. of IVs=  400 , NO. of valid IVs with foreground signals:  399.96 . \n",
      "***********************************************************\n",
      "   user  system elapsed \n",
      " 15.779   4.875  10.517 \n",
      "Pair:  BMI ~ Hair_Black \n",
      "Run MR-APSS ... \n",
      "IV selection threshold: 5e-06 \n",
      "***********************************************************\n",
      "MR test results of  BMI  on  Hair_Black : \n",
      "MR-APSS: beta =  0.0238 , beta.se =  0.025 , p-value =  3.4098e-01 . \n",
      "Total NO. of IVs=  883 , NO. of valid IVs with foreground signals:  170.3781 . \n",
      "***********************************************************\n",
      "   user  system elapsed \n",
      " 23.794   4.722  18.473 \n",
      "IV selection threshold: 5e-07 \n",
      "***********************************************************\n",
      "MR test results of  BMI  on  Hair_Black : \n",
      "MR-APSS: beta =  0.0305 , beta.se =  0.0249 , p-value =  2.2190e-01 . \n",
      "Total NO. of IVs=  607 , NO. of valid IVs with foreground signals:  124.7827 . \n",
      "***********************************************************\n",
      "   user  system elapsed \n",
      " 38.111   9.254  27.651 \n",
      "IV selection threshold: 5e-08 \n",
      "***********************************************************\n",
      "MR test results of  BMI  on  Hair_Black : \n",
      "MR-APSS: beta =  0.0126 , beta.se =  0.02 , p-value =  5.2798e-01 . \n",
      "Total NO. of IVs=  400 , NO. of valid IVs with foreground signals:  101.3672 . \n",
      "***********************************************************\n",
      "   user  system elapsed \n",
      "  6.344   2.007   4.227 \n",
      "Run MR-APSS not accounting for selection bias ... \n",
      "IV selection threshold: 5e-06 \n"
     ]
    },
    {
     "name": "stderr",
     "output_type": "stream",
     "text": [
      "Threshold = 1, the model will not correct for selection bias\n",
      "\n"
     ]
    },
    {
     "name": "stdout",
     "output_type": "stream",
     "text": [
      "***********************************************************\n",
      "MR test results of  BMI  on  Hair_Black : \n",
      "MR-APSS: beta =  0.0142 , beta.se =  0.0096 , p-value =  1.3965e-01 . \n",
      "Total NO. of IVs=  883 , NO. of valid IVs with foreground signals:  882.9116 . \n",
      "***********************************************************\n",
      "   user  system elapsed \n",
      " 39.298   7.883  30.534 \n",
      "IV selection threshold: 5e-07 \n"
     ]
    },
    {
     "name": "stderr",
     "output_type": "stream",
     "text": [
      "Threshold = 1, the model will not correct for selection bias\n",
      "\n"
     ]
    },
    {
     "name": "stdout",
     "output_type": "stream",
     "text": [
      "***********************************************************\n",
      "MR test results of  BMI  on  Hair_Black : \n",
      "MR-APSS: beta =  0.015 , beta.se =  0.0104 , p-value =  1.5075e-01 . \n",
      "Total NO. of IVs=  607 , NO. of valid IVs with foreground signals:  606.9392 . \n",
      "***********************************************************\n",
      "   user  system elapsed \n",
      " 62.461  14.119  44.838 \n",
      "IV selection threshold: 5e-08 \n"
     ]
    },
    {
     "name": "stderr",
     "output_type": "stream",
     "text": [
      "Threshold = 1, the model will not correct for selection bias\n",
      "\n"
     ]
    },
    {
     "name": "stdout",
     "output_type": "stream",
     "text": [
      "***********************************************************\n",
      "MR test results of  BMI  on  Hair_Black : \n",
      "MR-APSS: beta =  0.0162 , beta.se =  0.0114 , p-value =  1.5710e-01 . \n",
      "Total NO. of IVs=  400 , NO. of valid IVs with foreground signals:  399.96 . \n",
      "***********************************************************\n",
      "   user  system elapsed \n",
      " 75.976  22.486  50.176 \n",
      "Pair:  BMI ~ Hair_Blonde \n",
      "Run MR-APSS ... \n",
      "IV selection threshold: 5e-06 \n",
      "***********************************************************\n",
      "MR test results of  BMI  on  Hair_Blonde : \n",
      "MR-APSS: beta =  -0.0156 , beta.se =  0.0323 , p-value =  6.2948e-01 . \n",
      "Total NO. of IVs=  882 , NO. of valid IVs with foreground signals:  143.171 . \n",
      "***********************************************************\n",
      "   user  system elapsed \n",
      " 23.811   4.773  18.294 \n",
      "IV selection threshold: 5e-07 \n",
      "***********************************************************\n",
      "MR test results of  BMI  on  Hair_Blonde : \n",
      "MR-APSS: beta =  -0.0139 , beta.se =  0.0336 , p-value =  6.7864e-01 . \n",
      "Total NO. of IVs=  607 , NO. of valid IVs with foreground signals:  107.729 . \n",
      "***********************************************************\n",
      "   user  system elapsed \n",
      " 16.607   4.074  11.930 \n",
      "IV selection threshold: 5e-08 \n",
      "***********************************************************\n",
      "MR test results of  BMI  on  Hair_Blonde : \n",
      "MR-APSS: beta =  0.013 , beta.se =  0.0179 , p-value =  4.6780e-01 . \n",
      "Total NO. of IVs=  400 , NO. of valid IVs with foreground signals:  101.6868 . \n",
      "***********************************************************\n",
      "   user  system elapsed \n",
      "222.433  65.464 145.228 \n",
      "Run MR-APSS not accounting for selection bias ... \n",
      "IV selection threshold: 5e-06 \n"
     ]
    },
    {
     "name": "stderr",
     "output_type": "stream",
     "text": [
      "Threshold = 1, the model will not correct for selection bias\n",
      "\n"
     ]
    },
    {
     "name": "stdout",
     "output_type": "stream",
     "text": [
      "***********************************************************\n",
      "MR test results of  BMI  on  Hair_Blonde : \n",
      "MR-APSS: beta =  0.0075 , beta.se =  0.0094 , p-value =  4.2819e-01 . \n",
      "Total NO. of IVs=  882 , NO. of valid IVs with foreground signals:  881.9117 . \n",
      "***********************************************************\n",
      "   user  system elapsed \n",
      " 26.139   5.340  20.131 \n",
      "IV selection threshold: 5e-07 \n"
     ]
    },
    {
     "name": "stderr",
     "output_type": "stream",
     "text": [
      "Threshold = 1, the model will not correct for selection bias\n",
      "\n"
     ]
    },
    {
     "name": "stdout",
     "output_type": "stream",
     "text": [
      "***********************************************************\n",
      "MR test results of  BMI  on  Hair_Blonde : \n",
      "MR-APSS: beta =  0.0118 , beta.se =  0.0103 , p-value =  2.5206e-01 . \n",
      "Total NO. of IVs=  607 , NO. of valid IVs with foreground signals:  606.9392 . \n",
      "***********************************************************\n",
      "   user  system elapsed \n",
      " 33.209   8.255  23.948 \n",
      "IV selection threshold: 5e-08 \n"
     ]
    },
    {
     "name": "stderr",
     "output_type": "stream",
     "text": [
      "Threshold = 1, the model will not correct for selection bias\n",
      "\n"
     ]
    },
    {
     "name": "stdout",
     "output_type": "stream",
     "text": [
      "***********************************************************\n",
      "MR test results of  BMI  on  Hair_Blonde : \n",
      "MR-APSS: beta =  0.0179 , beta.se =  0.0108 , p-value =  9.8276e-02 . \n",
      "Total NO. of IVs=  400 , NO. of valid IVs with foreground signals:  399.96 . \n",
      "***********************************************************\n",
      "   user  system elapsed \n",
      " 44.486  13.161  29.605 \n",
      "Pair:  BMI ~ Tanning \n",
      "Run MR-APSS ... \n",
      "IV selection threshold: 5e-06 \n",
      "***********************************************************\n",
      "MR test results of  BMI  on  Tanning : \n",
      "MR-APSS: beta =  -0.0916 , beta.se =  0.0332 , p-value =  5.7538e-03 . \n",
      "Total NO. of IVs=  883 , NO. of valid IVs with foreground signals:  172.5248 . \n",
      "***********************************************************\n",
      "   user  system elapsed \n",
      " 24.302   4.655  18.887 \n",
      "IV selection threshold: 5e-07 \n",
      "***********************************************************\n",
      "MR test results of  BMI  on  Tanning : \n",
      "MR-APSS: beta =  -0.0913 , beta.se =  0.034 , p-value =  7.1982e-03 . \n",
      "Total NO. of IVs=  607 , NO. of valid IVs with foreground signals:  125.8826 . \n",
      "***********************************************************\n",
      "   user  system elapsed \n",
      " 16.414   3.834  11.881 \n",
      "IV selection threshold: 5e-08 \n",
      "***********************************************************\n",
      "MR test results of  BMI  on  Tanning : \n",
      "MR-APSS: beta =  -0.0912 , beta.se =  0.0338 , p-value =  7.0396e-03 . \n",
      "Total NO. of IVs=  400 , NO. of valid IVs with foreground signals:  101.3078 . \n",
      "***********************************************************\n",
      "   user  system elapsed \n",
      " 11.685   3.406   7.735 \n",
      "Run MR-APSS not accounting for selection bias ... \n",
      "IV selection threshold: 5e-06 \n"
     ]
    },
    {
     "name": "stderr",
     "output_type": "stream",
     "text": [
      "Threshold = 1, the model will not correct for selection bias\n",
      "\n"
     ]
    },
    {
     "name": "stdout",
     "output_type": "stream",
     "text": [
      "***********************************************************\n",
      "MR test results of  BMI  on  Tanning : \n",
      "MR-APSS: beta =  -0.0585 , beta.se =  0.012 , p-value =  1.1417e-06 . \n",
      "Total NO. of IVs=  883 , NO. of valid IVs with foreground signals:  882.9115 . \n",
      "***********************************************************\n",
      "   user  system elapsed \n",
      " 22.327   3.922  17.321 \n",
      "IV selection threshold: 5e-07 \n"
     ]
    },
    {
     "name": "stderr",
     "output_type": "stream",
     "text": [
      "Threshold = 1, the model will not correct for selection bias\n",
      "\n"
     ]
    },
    {
     "name": "stdout",
     "output_type": "stream",
     "text": [
      "***********************************************************\n",
      "MR test results of  BMI  on  Tanning : \n",
      "MR-APSS: beta =  -0.0561 , beta.se =  0.0133 , p-value =  2.5486e-05 . \n",
      "Total NO. of IVs=  607 , NO. of valid IVs with foreground signals:  606.9392 . \n",
      "***********************************************************\n",
      "   user  system elapsed \n",
      " 14.603   3.426  10.768 \n",
      "IV selection threshold: 5e-08 \n"
     ]
    },
    {
     "name": "stderr",
     "output_type": "stream",
     "text": [
      "Threshold = 1, the model will not correct for selection bias\n",
      "\n"
     ]
    },
    {
     "name": "stdout",
     "output_type": "stream",
     "text": [
      "***********************************************************\n",
      "MR test results of  BMI  on  Tanning : \n",
      "MR-APSS: beta =  -0.0515 , beta.se =  0.0148 , p-value =  4.8140e-04 . \n",
      "Total NO. of IVs=  400 , NO. of valid IVs with foreground signals:  399.96 . \n",
      "***********************************************************\n",
      "   user  system elapsed \n",
      " 15.147   3.991   9.882 \n",
      "Pair:  Depression ~ Hair_Light_Brown \n",
      "Run MR-APSS ... \n",
      "IV selection threshold: 5e-06 \n",
      "***********************************************************\n",
      "MR test results of  Depression  on  Hair_Light_Brown : \n",
      "MR-APSS: beta =  0.1432 , beta.se =  0.136 , p-value =  2.9225e-01 . \n",
      "Total NO. of IVs=  54 , NO. of valid IVs with foreground signals:  9.985716 . \n",
      "***********************************************************\n",
      "   user  system elapsed \n",
      " 22.636   6.680  14.659 \n",
      "IV selection threshold: 5e-07 \n",
      "***********************************************************\n",
      "MR test results of  Depression  on  Hair_Light_Brown : \n",
      "MR-APSS: beta =  0.1974 , beta.se =  0.156 , p-value =  2.0565e-01 . \n",
      "Total NO. of IVs=  19 , NO. of valid IVs with foreground signals:  3.870676 . \n",
      "***********************************************************\n",
      "   user  system elapsed \n",
      "  4.565   1.356   2.960 \n",
      "IV selection threshold: 5e-08 \n",
      "***********************************************************\n",
      "MR test results of  Depression  on  Hair_Light_Brown : \n",
      "MR-APSS: beta =  0.2352 , beta.se =  0.1777 , p-value =  1.8548e-01 . \n",
      "Total NO. of IVs=  7 , NO. of valid IVs with foreground signals:  2.610289 . \n",
      "***********************************************************\n",
      "   user  system elapsed \n",
      "  4.310   1.307   2.809 \n",
      "Run MR-APSS not accounting for selection bias ... \n",
      "IV selection threshold: 5e-06 \n"
     ]
    },
    {
     "name": "stderr",
     "output_type": "stream",
     "text": [
      "Threshold = 1, the model will not correct for selection bias\n",
      "\n"
     ]
    },
    {
     "name": "stdout",
     "output_type": "stream",
     "text": [
      "***********************************************************\n",
      "MR test results of  Depression  on  Hair_Light_Brown : \n",
      "MR-APSS: beta =  0.0153 , beta.se =  0.0366 , p-value =  6.7609e-01 . \n",
      "Total NO. of IVs=  54 , NO. of valid IVs with foreground signals:  53.9946 . \n",
      "***********************************************************\n",
      "   user  system elapsed \n",
      " 30.524   8.860  19.694 \n",
      "IV selection threshold: 5e-07 \n"
     ]
    },
    {
     "name": "stderr",
     "output_type": "stream",
     "text": [
      "Threshold = 1, the model will not correct for selection bias\n",
      "\n"
     ]
    },
    {
     "name": "stdout",
     "output_type": "stream",
     "text": [
      "***********************************************************\n",
      "MR test results of  Depression  on  Hair_Light_Brown : \n",
      "MR-APSS: beta =  0.0256 , beta.se =  0.0569 , p-value =  6.5207e-01 . \n",
      "Total NO. of IVs=  19 , NO. of valid IVs with foreground signals:  18.9981 . \n",
      "***********************************************************\n",
      "   user  system elapsed \n",
      " 13.792   4.040   8.916 \n",
      "IV selection threshold: 5e-08 \n"
     ]
    },
    {
     "name": "stderr",
     "output_type": "stream",
     "text": [
      "Threshold = 1, the model will not correct for selection bias\n",
      "\n"
     ]
    },
    {
     "name": "stdout",
     "output_type": "stream",
     "text": [
      "***********************************************************\n",
      "MR test results of  Depression  on  Hair_Light_Brown : \n",
      "MR-APSS: beta =  0.0752 , beta.se =  0.088 , p-value =  3.9306e-01 . \n",
      "Total NO. of IVs=  7 , NO. of valid IVs with foreground signals:  6.9993 . \n",
      "***********************************************************\n",
      "   user  system elapsed \n",
      "  0.066   0.016   0.041 \n",
      "Pair:  Depression ~ Hair_Dark_Brown \n",
      "Run MR-APSS ... \n",
      "IV selection threshold: 5e-06 \n",
      "***********************************************************\n",
      "MR test results of  Depression  on  Hair_Dark_Brown : \n",
      "MR-APSS: beta =  -0.1254 , beta.se =  0.1526 , p-value =  4.1139e-01 . \n",
      "Total NO. of IVs=  54 , NO. of valid IVs with foreground signals:  13.91627 . \n",
      "***********************************************************\n",
      "   user  system elapsed \n",
      " 19.705   5.884  12.796 \n",
      "IV selection threshold: 5e-07 \n",
      "***********************************************************\n",
      "MR test results of  Depression  on  Hair_Dark_Brown : \n",
      "MR-APSS: beta =  -0.1515 , beta.se =  0.184 , p-value =  4.1052e-01 . \n",
      "Total NO. of IVs=  19 , NO. of valid IVs with foreground signals:  4.662964 . \n",
      "***********************************************************\n",
      "   user  system elapsed \n",
      "  3.308   0.937   2.122 \n",
      "IV selection threshold: 5e-08 \n",
      "***********************************************************\n",
      "MR test results of  Depression  on  Hair_Dark_Brown : \n",
      "MR-APSS: beta =  -0.2198 , beta.se =  0.2166 , p-value =  3.1017e-01 . \n",
      "Total NO. of IVs=  7 , NO. of valid IVs with foreground signals:  3.371928 . \n",
      "***********************************************************\n",
      "   user  system elapsed \n",
      "  3.324   0.994   2.159 \n",
      "Run MR-APSS not accounting for selection bias ... \n",
      "IV selection threshold: 5e-06 \n"
     ]
    },
    {
     "name": "stderr",
     "output_type": "stream",
     "text": [
      "Threshold = 1, the model will not correct for selection bias\n",
      "\n"
     ]
    },
    {
     "name": "stdout",
     "output_type": "stream",
     "text": [
      "***********************************************************\n",
      "MR test results of  Depression  on  Hair_Dark_Brown : \n",
      "MR-APSS: beta =  -0.0243 , beta.se =  0.043 , p-value =  5.7130e-01 . \n",
      "Total NO. of IVs=  54 , NO. of valid IVs with foreground signals:  53.9946 . \n",
      "***********************************************************\n",
      "   user  system elapsed \n",
      " 23.009   6.821  14.916 \n",
      "IV selection threshold: 5e-07 \n"
     ]
    },
    {
     "name": "stderr",
     "output_type": "stream",
     "text": [
      "Threshold = 1, the model will not correct for selection bias\n",
      "\n"
     ]
    },
    {
     "name": "stdout",
     "output_type": "stream",
     "text": [
      "***********************************************************\n",
      "MR test results of  Depression  on  Hair_Dark_Brown : \n",
      "MR-APSS: beta =  -0.0017 , beta.se =  0.0665 , p-value =  9.7924e-01 . \n",
      "Total NO. of IVs=  19 , NO. of valid IVs with foreground signals:  18.9981 . \n",
      "***********************************************************\n",
      "   user  system elapsed \n",
      " 13.708   4.020   8.864 \n",
      "IV selection threshold: 5e-08 \n"
     ]
    },
    {
     "name": "stderr",
     "output_type": "stream",
     "text": [
      "Threshold = 1, the model will not correct for selection bias\n",
      "\n"
     ]
    },
    {
     "name": "stdout",
     "output_type": "stream",
     "text": [
      "***********************************************************\n",
      "MR test results of  Depression  on  Hair_Dark_Brown : \n",
      "MR-APSS: beta =  -0.091 , beta.se =  0.1054 , p-value =  3.8765e-01 . \n",
      "Total NO. of IVs=  7 , NO. of valid IVs with foreground signals:  6.9993 . \n",
      "***********************************************************\n",
      "   user  system elapsed \n",
      "  1.949   0.639   1.294 \n",
      "Pair:  Depression ~ Hair_Black \n",
      "Run MR-APSS ... \n",
      "IV selection threshold: 5e-06 \n",
      "***********************************************************\n",
      "MR test results of  Depression  on  Hair_Black : \n",
      "MR-APSS: beta =  -0.2513 , beta.se =  0.1516 , p-value =  9.7423e-02 . \n",
      "Total NO. of IVs=  54 , NO. of valid IVs with foreground signals:  9.316741 . \n",
      "***********************************************************\n",
      "   user  system elapsed \n",
      " 20.652   6.272  13.463 \n",
      "IV selection threshold: 5e-07 \n",
      "***********************************************************\n",
      "MR test results of  Depression  on  Hair_Black : \n",
      "MR-APSS: beta =  -0.3098 , beta.se =  0.1753 , p-value =  7.7143e-02 . \n",
      "Total NO. of IVs=  19 , NO. of valid IVs with foreground signals:  3.937433 . \n",
      "***********************************************************\n",
      "   user  system elapsed \n",
      "  3.982   1.240   2.611 \n",
      "IV selection threshold: 5e-08 \n",
      "***********************************************************\n",
      "MR test results of  Depression  on  Hair_Black : \n",
      "MR-APSS: beta =  -0.3567 , beta.se =  0.2114 , p-value =  9.1523e-02 . \n",
      "Total NO. of IVs=  7 , NO. of valid IVs with foreground signals:  2.321829 . \n",
      "***********************************************************\n",
      "   user  system elapsed \n",
      "  1.368   0.428   0.898 \n",
      "Run MR-APSS not accounting for selection bias ... \n",
      "IV selection threshold: 5e-06 \n"
     ]
    },
    {
     "name": "stderr",
     "output_type": "stream",
     "text": [
      "Threshold = 1, the model will not correct for selection bias\n",
      "\n"
     ]
    },
    {
     "name": "stdout",
     "output_type": "stream",
     "text": [
      "***********************************************************\n",
      "MR test results of  Depression  on  Hair_Black : \n",
      "MR-APSS: beta =  -0.0425 , beta.se =  0.0422 , p-value =  3.1399e-01 . \n",
      "Total NO. of IVs=  54 , NO. of valid IVs with foreground signals:  53.9946 . \n",
      "***********************************************************\n",
      "   user  system elapsed \n",
      "  0.330   0.116   0.223 \n",
      "IV selection threshold: 5e-07 \n"
     ]
    },
    {
     "name": "stderr",
     "output_type": "stream",
     "text": [
      "Threshold = 1, the model will not correct for selection bias\n",
      "\n"
     ]
    },
    {
     "name": "stdout",
     "output_type": "stream",
     "text": [
      "***********************************************************\n",
      "MR test results of  Depression  on  Hair_Black : \n",
      "MR-APSS: beta =  -0.1259 , beta.se =  0.065 , p-value =  5.2784e-02 . \n",
      "Total NO. of IVs=  19 , NO. of valid IVs with foreground signals:  18.9981 . \n",
      "***********************************************************\n",
      "   user  system elapsed \n",
      " 16.164   4.865  10.515 \n",
      "IV selection threshold: 5e-08 \n"
     ]
    },
    {
     "name": "stderr",
     "output_type": "stream",
     "text": [
      "Threshold = 1, the model will not correct for selection bias\n",
      "\n"
     ]
    },
    {
     "name": "stdout",
     "output_type": "stream",
     "text": [
      "***********************************************************\n",
      "MR test results of  Depression  on  Hair_Black : \n",
      "MR-APSS: beta =  -0.0948 , beta.se =  0.1015 , p-value =  3.5008e-01 . \n",
      "Total NO. of IVs=  7 , NO. of valid IVs with foreground signals:  6.9993 . \n",
      "***********************************************************\n",
      "   user  system elapsed \n",
      "  0.057   0.024   0.040 \n",
      "Pair:  Depression ~ Hair_Blonde \n",
      "Run MR-APSS ... \n",
      "IV selection threshold: 5e-06 \n",
      "***********************************************************\n",
      "MR test results of  Depression  on  Hair_Blonde : \n",
      "MR-APSS: beta =  0.1305 , beta.se =  0.1311 , p-value =  3.1940e-01 . \n",
      "Total NO. of IVs=  54 , NO. of valid IVs with foreground signals:  19.29696 . \n",
      "***********************************************************\n",
      "   user  system elapsed \n",
      " 22.958   7.298  15.130 \n",
      "IV selection threshold: 5e-07 \n",
      "***********************************************************\n",
      "MR test results of  Depression  on  Hair_Blonde : \n",
      "MR-APSS: beta =  0.1733 , beta.se =  0.1876 , p-value =  3.5565e-01 . \n",
      "Total NO. of IVs=  19 , NO. of valid IVs with foreground signals:  7.655762 . \n",
      "***********************************************************\n",
      "   user  system elapsed \n",
      "  7.983   2.327   5.155 \n",
      "IV selection threshold: 5e-08 \n",
      "***********************************************************\n",
      "MR test results of  Depression  on  Hair_Blonde : \n",
      "MR-APSS: beta =  0.1873 , beta.se =  0.2188 , p-value =  3.9191e-01 . \n",
      "Total NO. of IVs=  7 , NO. of valid IVs with foreground signals:  3.497414 . \n",
      "***********************************************************\n",
      "   user  system elapsed \n",
      "  3.198   1.047   2.123 \n",
      "Run MR-APSS not accounting for selection bias ... \n",
      "IV selection threshold: 5e-06 \n"
     ]
    },
    {
     "name": "stderr",
     "output_type": "stream",
     "text": [
      "Threshold = 1, the model will not correct for selection bias\n",
      "\n"
     ]
    },
    {
     "name": "stdout",
     "output_type": "stream",
     "text": [
      "***********************************************************\n",
      "MR test results of  Depression  on  Hair_Blonde : \n",
      "MR-APSS: beta =  0.0344 , beta.se =  0.0402 , p-value =  3.9220e-01 . \n",
      "Total NO. of IVs=  54 , NO. of valid IVs with foreground signals:  53.9946 . \n",
      "***********************************************************\n",
      "   user  system elapsed \n",
      " 40.970  12.251  26.613 \n",
      "IV selection threshold: 5e-07 \n"
     ]
    },
    {
     "name": "stderr",
     "output_type": "stream",
     "text": [
      "Threshold = 1, the model will not correct for selection bias\n",
      "\n"
     ]
    },
    {
     "name": "stdout",
     "output_type": "stream",
     "text": [
      "***********************************************************\n",
      "MR test results of  Depression  on  Hair_Blonde : \n",
      "MR-APSS: beta =  0.0559 , beta.se =  0.0632 , p-value =  3.7672e-01 . \n",
      "Total NO. of IVs=  19 , NO. of valid IVs with foreground signals:  18.9981 . \n",
      "***********************************************************\n",
      "   user  system elapsed \n",
      " 20.734   6.356  13.546 \n",
      "IV selection threshold: 5e-08 \n"
     ]
    },
    {
     "name": "stderr",
     "output_type": "stream",
     "text": [
      "Threshold = 1, the model will not correct for selection bias\n",
      "\n"
     ]
    },
    {
     "name": "stdout",
     "output_type": "stream",
     "text": [
      "***********************************************************\n",
      "MR test results of  Depression  on  Hair_Blonde : \n",
      "MR-APSS: beta =  0.0677 , beta.se =  0.0993 , p-value =  4.9550e-01 . \n",
      "Total NO. of IVs=  7 , NO. of valid IVs with foreground signals:  6.9993 . \n",
      "***********************************************************\n",
      "   user  system elapsed \n",
      "  8.610   2.600   5.606 \n",
      "Pair:  Depression ~ Tanning \n",
      "Run MR-APSS ... \n",
      "IV selection threshold: 5e-06 \n",
      "***********************************************************\n",
      "MR test results of  Depression  on  Tanning : \n",
      "MR-APSS: beta =  0.1831 , beta.se =  0.2206 , p-value =  4.0662e-01 . \n",
      "Total NO. of IVs=  54 , NO. of valid IVs with foreground signals:  23.58403 . \n",
      "***********************************************************\n",
      "   user  system elapsed \n",
      " 28.431   8.602  18.518 \n",
      "IV selection threshold: 5e-07 \n",
      "***********************************************************\n",
      "MR test results of  Depression  on  Tanning : \n",
      "MR-APSS: beta =  0.057 , beta.se =  0.2845 , p-value =  8.4123e-01 . \n",
      "Total NO. of IVs=  19 , NO. of valid IVs with foreground signals:  5.062202 . \n",
      "***********************************************************\n",
      "   user  system elapsed \n",
      " 17.511   5.448  11.481 \n",
      "IV selection threshold: 5e-08 \n",
      "***********************************************************\n",
      "MR test results of  Depression  on  Tanning : \n",
      "MR-APSS: beta =  0.0602 , beta.se =  0.2834 , p-value =  8.3181e-01 . \n",
      "Total NO. of IVs=  7 , NO. of valid IVs with foreground signals:  2.931877 . \n",
      "***********************************************************\n",
      "   user  system elapsed \n",
      "  1.456   0.444   0.950 \n",
      "Run MR-APSS not accounting for selection bias ... \n",
      "IV selection threshold: 5e-06 \n"
     ]
    },
    {
     "name": "stderr",
     "output_type": "stream",
     "text": [
      "Threshold = 1, the model will not correct for selection bias\n",
      "\n"
     ]
    },
    {
     "name": "stdout",
     "output_type": "stream",
     "text": [
      "***********************************************************\n",
      "MR test results of  Depression  on  Tanning : \n",
      "MR-APSS: beta =  0.0641 , beta.se =  0.0524 , p-value =  2.2093e-01 . \n",
      "Total NO. of IVs=  54 , NO. of valid IVs with foreground signals:  53.9946 . \n",
      "***********************************************************\n",
      "   user  system elapsed \n",
      "  3.644   1.055   2.349 \n",
      "IV selection threshold: 5e-07 \n"
     ]
    },
    {
     "name": "stderr",
     "output_type": "stream",
     "text": [
      "Threshold = 1, the model will not correct for selection bias\n",
      "\n"
     ]
    },
    {
     "name": "stdout",
     "output_type": "stream",
     "text": [
      "***********************************************************\n",
      "MR test results of  Depression  on  Tanning : \n",
      "MR-APSS: beta =  0.0112 , beta.se =  0.0808 , p-value =  8.8964e-01 . \n",
      "Total NO. of IVs=  19 , NO. of valid IVs with foreground signals:  18.9981 . \n",
      "***********************************************************\n",
      "   user  system elapsed \n",
      "  0.772   0.204   0.488 \n",
      "IV selection threshold: 5e-08 \n"
     ]
    },
    {
     "name": "stderr",
     "output_type": "stream",
     "text": [
      "Threshold = 1, the model will not correct for selection bias\n",
      "\n"
     ]
    },
    {
     "name": "stdout",
     "output_type": "stream",
     "text": [
      "***********************************************************\n",
      "MR test results of  Depression  on  Tanning : \n",
      "MR-APSS: beta =  0.0223 , beta.se =  0.1185 , p-value =  8.5067e-01 . \n",
      "Total NO. of IVs=  7 , NO. of valid IVs with foreground signals:  6.9993 . \n",
      "***********************************************************\n",
      "   user  system elapsed \n",
      "  0.070   0.019   0.044 \n",
      "Pair:  IBD ~ Hair_Light_Brown \n",
      "Run MR-APSS ... \n",
      "IV selection threshold: 5e-06 \n",
      "***********************************************************\n",
      "MR test results of  IBD  on  Hair_Light_Brown : \n",
      "MR-APSS: beta =  -0.0038 , beta.se =  0.0098 , p-value =  7.0048e-01 . \n",
      "Total NO. of IVs=  199 , NO. of valid IVs with foreground signals:  104.8689 . \n",
      "***********************************************************\n",
      "   user  system elapsed \n",
      "  6.883   2.140   4.512 \n",
      "IV selection threshold: 5e-07 \n",
      "***********************************************************\n",
      "MR test results of  IBD  on  Hair_Light_Brown : \n",
      "MR-APSS: beta =  -0.0035 , beta.se =  0.0106 , p-value =  7.4110e-01 . \n",
      "Total NO. of IVs=  134 , NO. of valid IVs with foreground signals:  88.46825 . \n",
      "***********************************************************\n",
      "   user  system elapsed \n",
      "  3.853   1.167   2.510 \n",
      "IV selection threshold: 5e-08 \n",
      "***********************************************************\n",
      "MR test results of  IBD  on  Hair_Light_Brown : \n",
      "MR-APSS: beta =  -0.0025 , beta.se =  0.0115 , p-value =  8.2677e-01 . \n",
      "Total NO. of IVs=  104 , NO. of valid IVs with foreground signals:  74.65865 . \n",
      "***********************************************************\n",
      "   user  system elapsed \n",
      "  3.364   0.940   2.152 \n",
      "Run MR-APSS not accounting for selection bias ... \n",
      "IV selection threshold: 5e-06 \n"
     ]
    },
    {
     "name": "stderr",
     "output_type": "stream",
     "text": [
      "Threshold = 1, the model will not correct for selection bias\n",
      "\n"
     ]
    },
    {
     "name": "stdout",
     "output_type": "stream",
     "text": [
      "***********************************************************\n",
      "MR test results of  IBD  on  Hair_Light_Brown : \n",
      "MR-APSS: beta =  -0.0043 , beta.se =  0.0066 , p-value =  5.1361e-01 . \n",
      "Total NO. of IVs=  199 , NO. of valid IVs with foreground signals:  198.9801 . \n",
      "***********************************************************\n",
      "   user  system elapsed \n",
      " 10.370   3.252   6.812 \n",
      "IV selection threshold: 5e-07 \n"
     ]
    },
    {
     "name": "stderr",
     "output_type": "stream",
     "text": [
      "Threshold = 1, the model will not correct for selection bias\n",
      "\n"
     ]
    },
    {
     "name": "stdout",
     "output_type": "stream",
     "text": [
      "***********************************************************\n",
      "MR test results of  IBD  on  Hair_Light_Brown : \n",
      "MR-APSS: beta =  -0.0014 , beta.se =  0.0078 , p-value =  8.6177e-01 . \n",
      "Total NO. of IVs=  134 , NO. of valid IVs with foreground signals:  133.9866 . \n",
      "***********************************************************\n",
      "   user  system elapsed \n",
      "  0.860   0.223   0.541 \n",
      "IV selection threshold: 5e-08 \n"
     ]
    },
    {
     "name": "stderr",
     "output_type": "stream",
     "text": [
      "Threshold = 1, the model will not correct for selection bias\n",
      "\n"
     ]
    },
    {
     "name": "stdout",
     "output_type": "stream",
     "text": [
      "***********************************************************\n",
      "MR test results of  IBD  on  Hair_Light_Brown : \n",
      "MR-APSS: beta =  -0.0024 , beta.se =  0.0086 , p-value =  7.7719e-01 . \n",
      "Total NO. of IVs=  104 , NO. of valid IVs with foreground signals:  103.9896 . \n",
      "***********************************************************\n",
      "   user  system elapsed \n",
      "  1.878   0.607   1.243 \n",
      "Pair:  IBD ~ Hair_Dark_Brown \n",
      "Run MR-APSS ... \n",
      "IV selection threshold: 5e-06 \n",
      "***********************************************************\n",
      "MR test results of  IBD  on  Hair_Dark_Brown : \n",
      "MR-APSS: beta =  0.0084 , beta.se =  0.0124 , p-value =  4.9760e-01 . \n",
      "Total NO. of IVs=  199 , NO. of valid IVs with foreground signals:  103.5018 . \n",
      "***********************************************************\n",
      "   user  system elapsed \n",
      "  5.452   1.741   3.596 \n",
      "IV selection threshold: 5e-07 \n",
      "***********************************************************\n",
      "MR test results of  IBD  on  Hair_Dark_Brown : \n",
      "MR-APSS: beta =  0.0066 , beta.se =  0.0136 , p-value =  6.2493e-01 . \n",
      "Total NO. of IVs=  134 , NO. of valid IVs with foreground signals:  87.03629 . \n",
      "***********************************************************\n",
      "   user  system elapsed \n",
      "  4.163   1.332   2.748 \n",
      "IV selection threshold: 5e-08 \n",
      "***********************************************************\n",
      "MR test results of  IBD  on  Hair_Dark_Brown : \n",
      "MR-APSS: beta =  0.005 , beta.se =  0.015 , p-value =  7.4080e-01 . \n",
      "Total NO. of IVs=  104 , NO. of valid IVs with foreground signals:  73.8529 . \n",
      "***********************************************************\n",
      "   user  system elapsed \n",
      "  3.780   1.267   2.524 \n",
      "Run MR-APSS not accounting for selection bias ... \n",
      "IV selection threshold: 5e-06 \n"
     ]
    },
    {
     "name": "stderr",
     "output_type": "stream",
     "text": [
      "Threshold = 1, the model will not correct for selection bias\n",
      "\n"
     ]
    },
    {
     "name": "stdout",
     "output_type": "stream",
     "text": [
      "***********************************************************\n",
      "MR test results of  IBD  on  Hair_Dark_Brown : \n",
      "MR-APSS: beta =  0.0081 , beta.se =  0.008 , p-value =  3.0970e-01 . \n",
      "Total NO. of IVs=  199 , NO. of valid IVs with foreground signals:  198.9801 . \n",
      "***********************************************************\n",
      "   user  system elapsed \n",
      "   5.72    1.60    3.66 \n",
      "IV selection threshold: 5e-07 \n"
     ]
    },
    {
     "name": "stderr",
     "output_type": "stream",
     "text": [
      "Threshold = 1, the model will not correct for selection bias\n",
      "\n"
     ]
    },
    {
     "name": "stdout",
     "output_type": "stream",
     "text": [
      "***********************************************************\n",
      "MR test results of  IBD  on  Hair_Dark_Brown : \n",
      "MR-APSS: beta =  0.0064 , beta.se =  0.0096 , p-value =  5.0446e-01 . \n",
      "Total NO. of IVs=  134 , NO. of valid IVs with foreground signals:  133.9866 . \n",
      "***********************************************************\n",
      "   user  system elapsed \n",
      "  3.483   1.040   2.261 \n",
      "IV selection threshold: 5e-08 \n"
     ]
    },
    {
     "name": "stderr",
     "output_type": "stream",
     "text": [
      "Threshold = 1, the model will not correct for selection bias\n",
      "\n"
     ]
    },
    {
     "name": "stdout",
     "output_type": "stream",
     "text": [
      "***********************************************************\n",
      "MR test results of  IBD  on  Hair_Dark_Brown : \n",
      "MR-APSS: beta =  0.0066 , beta.se =  0.011 , p-value =  5.4826e-01 . \n",
      "Total NO. of IVs=  104 , NO. of valid IVs with foreground signals:  103.9896 . \n",
      "***********************************************************\n",
      "   user  system elapsed \n",
      "  2.401   0.720   1.561 \n",
      "Pair:  IBD ~ Hair_Black \n",
      "Run MR-APSS ... \n",
      "IV selection threshold: 5e-06 \n",
      "***********************************************************\n",
      "MR test results of  IBD  on  Hair_Black : \n",
      "MR-APSS: beta =  0.0163 , beta.se =  0.0115 , p-value =  1.5654e-01 . \n",
      "Total NO. of IVs=  199 , NO. of valid IVs with foreground signals:  104.557 . \n",
      "***********************************************************\n",
      "   user  system elapsed \n",
      "  7.415   2.251   4.834 \n",
      "IV selection threshold: 5e-07 \n",
      "***********************************************************\n",
      "MR test results of  IBD  on  Hair_Black : \n",
      "MR-APSS: beta =  0.0199 , beta.se =  0.0123 , p-value =  1.0483e-01 . \n",
      "Total NO. of IVs=  134 , NO. of valid IVs with foreground signals:  87.97752 . \n",
      "***********************************************************\n",
      "   user  system elapsed \n",
      "  5.353   1.596   3.475 \n",
      "IV selection threshold: 5e-08 \n",
      "***********************************************************\n",
      "MR test results of  IBD  on  Hair_Black : \n",
      "MR-APSS: beta =  0.0229 , beta.se =  0.0131 , p-value =  8.1855e-02 . \n",
      "Total NO. of IVs=  104 , NO. of valid IVs with foreground signals:  74.64006 . \n",
      "***********************************************************\n",
      "   user  system elapsed \n",
      "  4.618   1.435   3.026 \n",
      "Run MR-APSS not accounting for selection bias ... \n",
      "IV selection threshold: 5e-06 \n"
     ]
    },
    {
     "name": "stderr",
     "output_type": "stream",
     "text": [
      "Threshold = 1, the model will not correct for selection bias\n",
      "\n"
     ]
    },
    {
     "name": "stdout",
     "output_type": "stream",
     "text": [
      "***********************************************************\n",
      "MR test results of  IBD  on  Hair_Black : \n",
      "MR-APSS: beta =  0.0088 , beta.se =  0.0077 , p-value =  2.5660e-01 . \n",
      "Total NO. of IVs=  199 , NO. of valid IVs with foreground signals:  198.9801 . \n",
      "***********************************************************\n",
      "   user  system elapsed \n",
      "  7.786   2.301   5.044 \n",
      "IV selection threshold: 5e-07 \n"
     ]
    },
    {
     "name": "stderr",
     "output_type": "stream",
     "text": [
      "Threshold = 1, the model will not correct for selection bias\n",
      "\n"
     ]
    },
    {
     "name": "stdout",
     "output_type": "stream",
     "text": [
      "***********************************************************\n",
      "MR test results of  IBD  on  Hair_Black : \n",
      "MR-APSS: beta =  0.0094 , beta.se =  0.009 , p-value =  2.9772e-01 . \n",
      "Total NO. of IVs=  134 , NO. of valid IVs with foreground signals:  133.9866 . \n",
      "***********************************************************\n",
      "   user  system elapsed \n",
      "  3.568   1.107   2.337 \n",
      "IV selection threshold: 5e-08 \n"
     ]
    },
    {
     "name": "stderr",
     "output_type": "stream",
     "text": [
      "Threshold = 1, the model will not correct for selection bias\n",
      "\n"
     ]
    },
    {
     "name": "stdout",
     "output_type": "stream",
     "text": [
      "***********************************************************\n",
      "MR test results of  IBD  on  Hair_Black : \n",
      "MR-APSS: beta =  0.0105 , beta.se =  0.01 , p-value =  2.9200e-01 . \n",
      "Total NO. of IVs=  104 , NO. of valid IVs with foreground signals:  103.9896 . \n",
      "***********************************************************\n",
      "   user  system elapsed \n",
      "  2.725   0.860   1.793 \n",
      "Pair:  IBD ~ Hair_Blonde \n",
      "Run MR-APSS ... \n",
      "IV selection threshold: 5e-06 \n",
      "***********************************************************\n",
      "MR test results of  IBD  on  Hair_Blonde : \n",
      "MR-APSS: beta =  -0.0095 , beta.se =  0.0126 , p-value =  4.4928e-01 . \n",
      "Total NO. of IVs=  199 , NO. of valid IVs with foreground signals:  104.0683 . \n",
      "***********************************************************\n",
      "   user  system elapsed \n",
      "  5.262   1.408   3.336 \n",
      "IV selection threshold: 5e-07 \n",
      "***********************************************************\n",
      "MR test results of  IBD  on  Hair_Blonde : \n",
      "MR-APSS: beta =  -0.0089 , beta.se =  0.0128 , p-value =  4.8808e-01 . \n",
      "Total NO. of IVs=  134 , NO. of valid IVs with foreground signals:  87.5268 . \n",
      "***********************************************************\n",
      "   user  system elapsed \n",
      "  4.016   1.237   2.626 \n",
      "IV selection threshold: 5e-08 \n",
      "***********************************************************\n",
      "MR test results of  IBD  on  Hair_Blonde : \n",
      "MR-APSS: beta =  -0.0107 , beta.se =  0.0141 , p-value =  4.4808e-01 . \n",
      "Total NO. of IVs=  104 , NO. of valid IVs with foreground signals:  74.55119 . \n",
      "***********************************************************\n",
      "   user  system elapsed \n",
      "  3.622   1.128   2.375 \n",
      "Run MR-APSS not accounting for selection bias ... \n",
      "IV selection threshold: 5e-06 \n"
     ]
    },
    {
     "name": "stderr",
     "output_type": "stream",
     "text": [
      "Threshold = 1, the model will not correct for selection bias\n",
      "\n"
     ]
    },
    {
     "name": "stdout",
     "output_type": "stream",
     "text": [
      "***********************************************************\n",
      "MR test results of  IBD  on  Hair_Blonde : \n",
      "MR-APSS: beta =  -0.0045 , beta.se =  0.0081 , p-value =  5.7773e-01 . \n",
      "Total NO. of IVs=  199 , NO. of valid IVs with foreground signals:  198.9801 . \n",
      "***********************************************************\n",
      "   user  system elapsed \n",
      "  3.569   1.065   2.317 \n",
      "IV selection threshold: 5e-07 \n"
     ]
    },
    {
     "name": "stderr",
     "output_type": "stream",
     "text": [
      "Threshold = 1, the model will not correct for selection bias\n",
      "\n"
     ]
    },
    {
     "name": "stdout",
     "output_type": "stream",
     "text": [
      "***********************************************************\n",
      "MR test results of  IBD  on  Hair_Blonde : \n",
      "MR-APSS: beta =  -0.0071 , beta.se =  0.0091 , p-value =  4.3617e-01 . \n",
      "Total NO. of IVs=  134 , NO. of valid IVs with foreground signals:  133.9866 . \n",
      "***********************************************************\n",
      "   user  system elapsed \n",
      "  3.060   0.959   2.010 \n",
      "IV selection threshold: 5e-08 \n"
     ]
    },
    {
     "name": "stderr",
     "output_type": "stream",
     "text": [
      "Threshold = 1, the model will not correct for selection bias\n",
      "\n"
     ]
    },
    {
     "name": "stdout",
     "output_type": "stream",
     "text": [
      "***********************************************************\n",
      "MR test results of  IBD  on  Hair_Blonde : \n",
      "MR-APSS: beta =  -0.0043 , beta.se =  0.0104 , p-value =  6.8262e-01 . \n",
      "Total NO. of IVs=  104 , NO. of valid IVs with foreground signals:  103.9896 . \n",
      "***********************************************************\n",
      "   user  system elapsed \n",
      "  1.916   0.527   1.222 \n",
      "Pair:  IBD ~ Tanning \n",
      "Run MR-APSS ... \n",
      "IV selection threshold: 5e-06 \n",
      "***********************************************************\n",
      "MR test results of  IBD  on  Tanning : \n",
      "MR-APSS: beta =  0.0135 , beta.se =  0.0123 , p-value =  2.6995e-01 . \n",
      "Total NO. of IVs=  199 , NO. of valid IVs with foreground signals:  104.4321 . \n",
      "***********************************************************\n",
      "   user  system elapsed \n",
      "  7.403   2.204   4.804 \n",
      "IV selection threshold: 5e-07 \n",
      "***********************************************************\n",
      "MR test results of  IBD  on  Tanning : \n",
      "MR-APSS: beta =  0.0142 , beta.se =  0.0132 , p-value =  2.8108e-01 . \n",
      "Total NO. of IVs=  134 , NO. of valid IVs with foreground signals:  87.35179 . \n",
      "***********************************************************\n",
      "   user  system elapsed \n",
      "  5.003   1.465   3.234 \n",
      "IV selection threshold: 5e-08 \n",
      "***********************************************************\n",
      "MR test results of  IBD  on  Tanning : \n",
      "MR-APSS: beta =  0.0155 , beta.se =  0.0145 , p-value =  2.8260e-01 . \n",
      "Total NO. of IVs=  104 , NO. of valid IVs with foreground signals:  74.04659 . \n",
      "***********************************************************\n",
      "   user  system elapsed \n",
      "  4.244   1.252   2.748 \n",
      "Run MR-APSS not accounting for selection bias ... \n",
      "IV selection threshold: 5e-06 \n"
     ]
    },
    {
     "name": "stderr",
     "output_type": "stream",
     "text": [
      "Threshold = 1, the model will not correct for selection bias\n",
      "\n"
     ]
    },
    {
     "name": "stdout",
     "output_type": "stream",
     "text": [
      "***********************************************************\n",
      "MR test results of  IBD  on  Tanning : \n",
      "MR-APSS: beta =  0.0081 , beta.se =  0.0086 , p-value =  3.4476e-01 . \n",
      "Total NO. of IVs=  199 , NO. of valid IVs with foreground signals:  198.9801 . \n",
      "***********************************************************\n",
      "   user  system elapsed \n",
      "  8.503   2.465   5.484 \n",
      "IV selection threshold: 5e-07 \n"
     ]
    },
    {
     "name": "stderr",
     "output_type": "stream",
     "text": [
      "Threshold = 1, the model will not correct for selection bias\n",
      "\n"
     ]
    },
    {
     "name": "stdout",
     "output_type": "stream",
     "text": [
      "***********************************************************\n",
      "MR test results of  IBD  on  Tanning : \n",
      "MR-APSS: beta =  0.0072 , beta.se =  0.0098 , p-value =  4.5961e-01 . \n",
      "Total NO. of IVs=  134 , NO. of valid IVs with foreground signals:  133.9866 . \n",
      "***********************************************************\n",
      "   user  system elapsed \n",
      "  5.193   1.444   3.319 \n",
      "IV selection threshold: 5e-08 \n"
     ]
    },
    {
     "name": "stderr",
     "output_type": "stream",
     "text": [
      "Threshold = 1, the model will not correct for selection bias\n",
      "\n"
     ]
    },
    {
     "name": "stdout",
     "output_type": "stream",
     "text": [
      "***********************************************************\n",
      "MR test results of  IBD  on  Tanning : \n",
      "MR-APSS: beta =  0.0106 , beta.se =  0.0108 , p-value =  3.2873e-01 . \n",
      "Total NO. of IVs=  104 , NO. of valid IVs with foreground signals:  103.9896 . \n",
      "***********************************************************\n",
      "   user  system elapsed \n",
      "  3.519   1.080   2.299 \n",
      "Pair:  MDD ~ Hair_Light_Brown \n",
      "Run MR-APSS ... \n",
      "IV selection threshold: 5e-06 \n",
      "***********************************************************\n",
      "MR test results of  MDD  on  Hair_Light_Brown : \n",
      "MR-APSS: beta =  12.6998 , beta.se =  59.4908 , p-value =  8.3096e-01 . \n",
      "Total NO. of IVs=  7 , NO. of valid IVs with foreground signals:  6.999145 . \n",
      "***********************************************************\n",
      "   user  system elapsed \n",
      " 20.931   6.050  13.492 \n",
      "Run MR-APSS not accounting for selection bias ... \n",
      "IV selection threshold: 5e-06 \n"
     ]
    },
    {
     "name": "stderr",
     "output_type": "stream",
     "text": [
      "Threshold = 1, the model will not correct for selection bias\n",
      "\n"
     ]
    },
    {
     "name": "stdout",
     "output_type": "stream",
     "text": [
      "***********************************************************\n",
      "MR test results of  MDD  on  Hair_Light_Brown : \n",
      "MR-APSS: beta =  0.1288 , beta.se =  0.107 , p-value =  2.2847e-01 . \n",
      "Total NO. of IVs=  7 , NO. of valid IVs with foreground signals:  6.9993 . \n",
      "***********************************************************\n",
      "   user  system elapsed \n",
      "  0.213   0.069   0.140 \n",
      "Pair:  MDD ~ Hair_Dark_Brown \n",
      "Run MR-APSS ... \n",
      "IV selection threshold: 5e-06 \n",
      "***********************************************************\n",
      "MR test results of  MDD  on  Hair_Dark_Brown : \n",
      "MR-APSS: beta =  1.9269 , beta.se =  2.9715 , p-value =  5.1668e-01 . \n",
      "Total NO. of IVs=  7 , NO. of valid IVs with foreground signals:  6.989567 . \n",
      "***********************************************************\n",
      "   user  system elapsed \n",
      "  7.035   2.157   4.596 \n",
      "Run MR-APSS not accounting for selection bias ... \n",
      "IV selection threshold: 5e-06 \n"
     ]
    },
    {
     "name": "stderr",
     "output_type": "stream",
     "text": [
      "Threshold = 1, the model will not correct for selection bias\n",
      "\n"
     ]
    },
    {
     "name": "stdout",
     "output_type": "stream",
     "text": [
      "***********************************************************\n",
      "MR test results of  MDD  on  Hair_Dark_Brown : \n",
      "MR-APSS: beta =  0.0015 , beta.se =  0.0965 , p-value =  9.8755e-01 . \n",
      "Total NO. of IVs=  7 , NO. of valid IVs with foreground signals:  6.9993 . \n",
      "***********************************************************\n",
      "   user  system elapsed \n",
      "  0.055   0.011   0.032 \n",
      "Pair:  MDD ~ Hair_Black \n",
      "Run MR-APSS ... \n",
      "IV selection threshold: 5e-06 \n",
      "***********************************************************\n",
      "MR test results of  MDD  on  Hair_Black : \n",
      "MR-APSS: beta =  -1.2984 , beta.se =  1.2151 , p-value =  2.8525e-01 . \n",
      "Total NO. of IVs=  7 , NO. of valid IVs with foreground signals:  6.999038 . \n",
      "***********************************************************\n",
      "   user  system elapsed \n",
      "  3.780   1.186   2.484 \n",
      "Run MR-APSS not accounting for selection bias ... \n",
      "IV selection threshold: 5e-06 \n"
     ]
    },
    {
     "name": "stderr",
     "output_type": "stream",
     "text": [
      "Threshold = 1, the model will not correct for selection bias\n",
      "\n"
     ]
    },
    {
     "name": "stdout",
     "output_type": "stream",
     "text": [
      "***********************************************************\n",
      "MR test results of  MDD  on  Hair_Black : \n",
      "MR-APSS: beta =  -0.1615 , beta.se =  0.0953 , p-value =  9.0105e-02 . \n",
      "Total NO. of IVs=  7 , NO. of valid IVs with foreground signals:  6.9993 . \n",
      "***********************************************************\n",
      "   user  system elapsed \n",
      "  7.261   2.147   4.705 \n",
      "Pair:  MDD ~ Hair_Blonde \n",
      "Run MR-APSS ... \n",
      "IV selection threshold: 5e-06 \n",
      "***********************************************************\n",
      "MR test results of  MDD  on  Hair_Blonde : \n",
      "MR-APSS: beta =  -0.0614 , beta.se =  28.302 , p-value =  9.9827e-01 . \n",
      "Total NO. of IVs=  7 , NO. of valid IVs with foreground signals:  0.0007030366 . \n",
      "***********************************************************\n",
      "   user  system elapsed \n",
      "  0.579   0.167   0.373 \n",
      "Run MR-APSS not accounting for selection bias ... \n",
      "IV selection threshold: 5e-06 \n"
     ]
    },
    {
     "name": "stderr",
     "output_type": "stream",
     "text": [
      "Threshold = 1, the model will not correct for selection bias\n",
      "\n"
     ]
    },
    {
     "name": "stdout",
     "output_type": "stream",
     "text": [
      "***********************************************************\n",
      "MR test results of  MDD  on  Hair_Blonde : \n",
      "MR-APSS: beta =  -0.0307 , beta.se =  0.0887 , p-value =  7.2884e-01 . \n",
      "Total NO. of IVs=  7 , NO. of valid IVs with foreground signals:  6.9993 . \n",
      "***********************************************************\n",
      "   user  system elapsed \n",
      " 10.810   3.489   7.150 \n",
      "Pair:  MDD ~ Tanning \n",
      "Run MR-APSS ... \n",
      "IV selection threshold: 5e-06 \n",
      "***********************************************************\n",
      "MR test results of  MDD  on  Tanning : \n",
      "MR-APSS: beta =  3.1918 , beta.se =  2.3722 , p-value =  1.7846e-01 . \n",
      "Total NO. of IVs=  7 , NO. of valid IVs with foreground signals:  6.998557 . \n",
      "***********************************************************\n",
      "   user  system elapsed \n",
      " 32.653   9.895  21.276 \n",
      "Run MR-APSS not accounting for selection bias ... \n",
      "IV selection threshold: 5e-06 \n"
     ]
    },
    {
     "name": "stderr",
     "output_type": "stream",
     "text": [
      "Threshold = 1, the model will not correct for selection bias\n",
      "\n"
     ]
    },
    {
     "name": "stdout",
     "output_type": "stream",
     "text": [
      "***********************************************************\n",
      "MR test results of  MDD  on  Tanning : \n",
      "MR-APSS: beta =  0.163 , beta.se =  0.1339 , p-value =  2.2369e-01 . \n",
      "Total NO. of IVs=  7 , NO. of valid IVs with foreground signals:  6.9993 . \n",
      "***********************************************************\n",
      "   user  system elapsed \n",
      "  0.481   0.164   0.323 \n",
      "Pair:  SCZ ~ Hair_Light_Brown \n",
      "Run MR-APSS ... \n",
      "IV selection threshold: 5e-06 \n",
      "***********************************************************\n",
      "MR test results of  SCZ  on  Hair_Light_Brown : \n",
      "MR-APSS: beta =  0.0102 , beta.se =  0.0177 , p-value =  5.6206e-01 . \n",
      "Total NO. of IVs=  366 , NO. of valid IVs with foreground signals:  93.15994 . \n",
      "***********************************************************\n",
      "   user  system elapsed \n",
      " 86.888  25.981  56.551 \n",
      "IV selection threshold: 5e-07 \n",
      "***********************************************************\n",
      "MR test results of  SCZ  on  Hair_Light_Brown : \n",
      "MR-APSS: beta =  0.0112 , beta.se =  0.0186 , p-value =  5.4866e-01 . \n",
      "Total NO. of IVs=  189 , NO. of valid IVs with foreground signals:  69.31329 . \n",
      "***********************************************************\n",
      "   user  system elapsed \n",
      " 72.043  21.624  46.839 \n",
      "IV selection threshold: 5e-08 \n",
      "***********************************************************\n",
      "MR test results of  SCZ  on  Hair_Light_Brown : \n",
      "MR-APSS: beta =  0.0101 , beta.se =  0.0209 , p-value =  6.2869e-01 . \n",
      "Total NO. of IVs=  121 , NO. of valid IVs with foreground signals:  50.72847 . \n",
      "***********************************************************\n",
      "   user  system elapsed \n",
      "  7.094   2.039   4.567 \n",
      "Run MR-APSS not accounting for selection bias ... \n",
      "IV selection threshold: 5e-06 \n"
     ]
    },
    {
     "name": "stderr",
     "output_type": "stream",
     "text": [
      "Threshold = 1, the model will not correct for selection bias\n",
      "\n"
     ]
    },
    {
     "name": "stdout",
     "output_type": "stream",
     "text": [
      "***********************************************************\n",
      "MR test results of  SCZ  on  Hair_Light_Brown : \n",
      "MR-APSS: beta =  -0.0102 , beta.se =  0.0072 , p-value =  1.5693e-01 . \n",
      "Total NO. of IVs=  366 , NO. of valid IVs with foreground signals:  365.9634 . \n",
      "***********************************************************\n",
      "   user  system elapsed \n",
      " 77.822  23.589  50.835 \n",
      "IV selection threshold: 5e-07 \n"
     ]
    },
    {
     "name": "stderr",
     "output_type": "stream",
     "text": [
      "Threshold = 1, the model will not correct for selection bias\n",
      "\n"
     ]
    },
    {
     "name": "stdout",
     "output_type": "stream",
     "text": [
      "***********************************************************\n",
      "MR test results of  SCZ  on  Hair_Light_Brown : \n",
      "MR-APSS: beta =  5e-04 , beta.se =  0.0088 , p-value =  9.5738e-01 . \n",
      "Total NO. of IVs=  189 , NO. of valid IVs with foreground signals:  188.9811 . \n",
      "***********************************************************\n",
      "   user  system elapsed \n",
      "133.502  40.582  87.055 \n",
      "IV selection threshold: 5e-08 \n"
     ]
    },
    {
     "name": "stderr",
     "output_type": "stream",
     "text": [
      "Threshold = 1, the model will not correct for selection bias\n",
      "\n"
     ]
    },
    {
     "name": "stdout",
     "output_type": "stream",
     "text": [
      "***********************************************************\n",
      "MR test results of  SCZ  on  Hair_Light_Brown : \n",
      "MR-APSS: beta =  7e-04 , beta.se =  0.0102 , p-value =  9.4487e-01 . \n",
      "Total NO. of IVs=  121 , NO. of valid IVs with foreground signals:  120.9879 . \n",
      "***********************************************************\n",
      "   user  system elapsed \n",
      "  0.622   0.175   0.398 \n",
      "Pair:  SCZ ~ Hair_Dark_Brown \n",
      "Run MR-APSS ... \n",
      "IV selection threshold: 5e-06 \n",
      "***********************************************************\n",
      "MR test results of  SCZ  on  Hair_Dark_Brown : \n",
      "MR-APSS: beta =  -0.0302 , beta.se =  0.0256 , p-value =  2.3890e-01 . \n",
      "Total NO. of IVs=  366 , NO. of valid IVs with foreground signals:  90.19584 . \n",
      "***********************************************************\n",
      "   user  system elapsed \n",
      " 18.665   5.768  12.333 \n",
      "IV selection threshold: 5e-07 \n",
      "***********************************************************\n",
      "MR test results of  SCZ  on  Hair_Dark_Brown : \n",
      "MR-APSS: beta =  -0.0337 , beta.se =  0.0225 , p-value =  1.3524e-01 . \n",
      "Total NO. of IVs=  189 , NO. of valid IVs with foreground signals:  67.06963 . \n",
      "***********************************************************\n",
      "   user  system elapsed \n",
      " 60.395  18.549  39.480 \n",
      "IV selection threshold: 5e-08 \n",
      "***********************************************************\n",
      "MR test results of  SCZ  on  Hair_Dark_Brown : \n",
      "MR-APSS: beta =  -0.0385 , beta.se =  0.0251 , p-value =  1.2484e-01 . \n",
      "Total NO. of IVs=  121 , NO. of valid IVs with foreground signals:  48.86074 . \n",
      "***********************************************************\n",
      "   user  system elapsed \n",
      " 10.405   3.185   6.797 \n",
      "Run MR-APSS not accounting for selection bias ... \n",
      "IV selection threshold: 5e-06 \n"
     ]
    },
    {
     "name": "stderr",
     "output_type": "stream",
     "text": [
      "Threshold = 1, the model will not correct for selection bias\n",
      "\n"
     ]
    },
    {
     "name": "stdout",
     "output_type": "stream",
     "text": [
      "***********************************************************\n",
      "MR test results of  SCZ  on  Hair_Dark_Brown : \n",
      "MR-APSS: beta =  0.0139 , beta.se =  0.0088 , p-value =  1.1449e-01 . \n",
      "Total NO. of IVs=  366 , NO. of valid IVs with foreground signals:  365.9634 . \n",
      "***********************************************************\n",
      "   user  system elapsed \n",
      " 17.373   5.107  11.353 \n",
      "IV selection threshold: 5e-07 \n"
     ]
    },
    {
     "name": "stderr",
     "output_type": "stream",
     "text": [
      "Threshold = 1, the model will not correct for selection bias\n",
      "\n"
     ]
    },
    {
     "name": "stdout",
     "output_type": "stream",
     "text": [
      "***********************************************************\n",
      "MR test results of  SCZ  on  Hair_Dark_Brown : \n",
      "MR-APSS: beta =  -0.003 , beta.se =  0.0108 , p-value =  7.8077e-01 . \n",
      "Total NO. of IVs=  189 , NO. of valid IVs with foreground signals:  188.9811 . \n",
      "***********************************************************\n",
      "   user  system elapsed \n",
      "  3.732   1.119   2.426 \n",
      "IV selection threshold: 5e-08 \n"
     ]
    },
    {
     "name": "stderr",
     "output_type": "stream",
     "text": [
      "Threshold = 1, the model will not correct for selection bias\n",
      "\n"
     ]
    },
    {
     "name": "stdout",
     "output_type": "stream",
     "text": [
      "***********************************************************\n",
      "MR test results of  SCZ  on  Hair_Dark_Brown : \n",
      "MR-APSS: beta =  -0.0082 , beta.se =  0.0122 , p-value =  5.0138e-01 . \n",
      "Total NO. of IVs=  121 , NO. of valid IVs with foreground signals:  120.9879 . \n",
      "***********************************************************\n",
      "   user  system elapsed \n",
      "  6.458   1.966   4.212 \n",
      "Pair:  SCZ ~ Hair_Black \n",
      "Run MR-APSS ... \n",
      "IV selection threshold: 5e-06 \n",
      "***********************************************************\n",
      "MR test results of  SCZ  on  Hair_Black : \n",
      "MR-APSS: beta =  0.0047 , beta.se =  0.0188 , p-value =  8.0164e-01 . \n",
      "Total NO. of IVs=  366 , NO. of valid IVs with foreground signals:  94.66359 . \n",
      "***********************************************************\n",
      "   user  system elapsed \n",
      " 15.406   4.803  10.118 \n",
      "IV selection threshold: 5e-07 \n",
      "***********************************************************\n",
      "MR test results of  SCZ  on  Hair_Black : \n",
      "MR-APSS: beta =  0.0092 , beta.se =  0.0203 , p-value =  6.5232e-01 . \n",
      "Total NO. of IVs=  189 , NO. of valid IVs with foreground signals:  69.73673 . \n",
      "***********************************************************\n",
      "   user  system elapsed \n",
      "  9.476   2.871   6.175 \n",
      "IV selection threshold: 5e-08 \n",
      "***********************************************************\n",
      "MR test results of  SCZ  on  Hair_Black : \n",
      "MR-APSS: beta =  0.0153 , beta.se =  0.0233 , p-value =  5.1054e-01 . \n",
      "Total NO. of IVs=  121 , NO. of valid IVs with foreground signals:  50.83662 . \n",
      "***********************************************************\n",
      "   user  system elapsed \n",
      "  8.000   2.373   5.188 \n",
      "Run MR-APSS not accounting for selection bias ... \n",
      "IV selection threshold: 5e-06 \n"
     ]
    },
    {
     "name": "stderr",
     "output_type": "stream",
     "text": [
      "Threshold = 1, the model will not correct for selection bias\n",
      "\n"
     ]
    },
    {
     "name": "stdout",
     "output_type": "stream",
     "text": [
      "***********************************************************\n",
      "MR test results of  SCZ  on  Hair_Black : \n",
      "MR-APSS: beta =  0.0072 , beta.se =  0.0079 , p-value =  3.6100e-01 . \n",
      "Total NO. of IVs=  366 , NO. of valid IVs with foreground signals:  365.9634 . \n",
      "***********************************************************\n",
      "   user  system elapsed \n",
      "  1.936   0.588   1.262 \n",
      "IV selection threshold: 5e-07 \n"
     ]
    },
    {
     "name": "stderr",
     "output_type": "stream",
     "text": [
      "Threshold = 1, the model will not correct for selection bias\n",
      "\n"
     ]
    },
    {
     "name": "stdout",
     "output_type": "stream",
     "text": [
      "***********************************************************\n",
      "MR test results of  SCZ  on  Hair_Black : \n",
      "MR-APSS: beta =  0.0019 , beta.se =  0.01 , p-value =  8.4752e-01 . \n",
      "Total NO. of IVs=  189 , NO. of valid IVs with foreground signals:  188.9811 . \n",
      "***********************************************************\n",
      "   user  system elapsed \n",
      "  1.022   0.315   0.669 \n",
      "IV selection threshold: 5e-08 \n"
     ]
    },
    {
     "name": "stderr",
     "output_type": "stream",
     "text": [
      "Threshold = 1, the model will not correct for selection bias\n",
      "\n"
     ]
    },
    {
     "name": "stdout",
     "output_type": "stream",
     "text": [
      "***********************************************************\n",
      "MR test results of  SCZ  on  Hair_Black : \n",
      "MR-APSS: beta =  0.007 , beta.se =  0.0117 , p-value =  5.5140e-01 . \n",
      "Total NO. of IVs=  121 , NO. of valid IVs with foreground signals:  120.9879 . \n",
      "***********************************************************\n",
      "   user  system elapsed \n",
      "  0.697   0.176   0.437 \n",
      "Pair:  SCZ ~ Hair_Blonde \n",
      "Run MR-APSS ... \n",
      "IV selection threshold: 5e-06 \n",
      "***********************************************************\n",
      "MR test results of  SCZ  on  Hair_Blonde : \n",
      "MR-APSS: beta =  0.0289 , beta.se =  0.024 , p-value =  2.2858e-01 . \n",
      "Total NO. of IVs=  366 , NO. of valid IVs with foreground signals:  86.80332 . \n",
      "***********************************************************\n",
      "   user  system elapsed \n",
      " 39.558  11.624  25.693 \n",
      "IV selection threshold: 5e-07 \n",
      "***********************************************************\n",
      "MR test results of  SCZ  on  Hair_Blonde : \n",
      "MR-APSS: beta =  0.0298 , beta.se =  0.0205 , p-value =  1.4688e-01 . \n",
      "Total NO. of IVs=  189 , NO. of valid IVs with foreground signals:  67.65785 . \n",
      "***********************************************************\n",
      "   user  system elapsed \n",
      " 11.860   3.728   7.796 \n",
      "IV selection threshold: 5e-08 \n",
      "***********************************************************\n",
      "MR test results of  SCZ  on  Hair_Blonde : \n",
      "MR-APSS: beta =  0.0343 , beta.se =  0.0237 , p-value =  1.4842e-01 . \n",
      "Total NO. of IVs=  121 , NO. of valid IVs with foreground signals:  49.29872 . \n",
      "***********************************************************\n",
      "   user  system elapsed \n",
      "  9.250   2.708   5.980 \n",
      "Run MR-APSS not accounting for selection bias ... \n",
      "IV selection threshold: 5e-06 \n"
     ]
    },
    {
     "name": "stderr",
     "output_type": "stream",
     "text": [
      "Threshold = 1, the model will not correct for selection bias\n",
      "\n"
     ]
    },
    {
     "name": "stdout",
     "output_type": "stream",
     "text": [
      "***********************************************************\n",
      "MR test results of  SCZ  on  Hair_Blonde : \n",
      "MR-APSS: beta =  -0.0031 , beta.se =  0.0079 , p-value =  6.9350e-01 . \n",
      "Total NO. of IVs=  366 , NO. of valid IVs with foreground signals:  365.9634 . \n",
      "***********************************************************\n",
      "   user  system elapsed \n",
      " 35.312  10.184  22.839 \n",
      "IV selection threshold: 5e-07 \n"
     ]
    },
    {
     "name": "stderr",
     "output_type": "stream",
     "text": [
      "Threshold = 1, the model will not correct for selection bias\n",
      "\n"
     ]
    },
    {
     "name": "stdout",
     "output_type": "stream",
     "text": [
      "***********************************************************\n",
      "MR test results of  SCZ  on  Hair_Blonde : \n",
      "MR-APSS: beta =  0.0058 , beta.se =  0.0098 , p-value =  5.5197e-01 . \n",
      "Total NO. of IVs=  189 , NO. of valid IVs with foreground signals:  188.9811 . \n",
      "***********************************************************\n",
      "   user  system elapsed \n",
      "  0.980   0.312   0.646 \n",
      "IV selection threshold: 5e-08 \n"
     ]
    },
    {
     "name": "stderr",
     "output_type": "stream",
     "text": [
      "Threshold = 1, the model will not correct for selection bias\n",
      "\n"
     ]
    },
    {
     "name": "stdout",
     "output_type": "stream",
     "text": [
      "***********************************************************\n",
      "MR test results of  SCZ  on  Hair_Blonde : \n",
      "MR-APSS: beta =  0.0099 , beta.se =  0.0114 , p-value =  3.8576e-01 . \n",
      "Total NO. of IVs=  121 , NO. of valid IVs with foreground signals:  120.9879 . \n",
      "***********************************************************\n",
      "   user  system elapsed \n",
      "  0.673   0.168   0.421 \n",
      "Pair:  SCZ ~ Tanning \n",
      "Run MR-APSS ... \n",
      "IV selection threshold: 5e-06 \n",
      "***********************************************************\n",
      "MR test results of  SCZ  on  Tanning : \n",
      "MR-APSS: beta =  0 , beta.se =  0.0018 , p-value =  9.9400e-01 . \n",
      "Total NO. of IVs=  366 , NO. of valid IVs with foreground signals:  83.44843 . \n",
      "***********************************************************\n",
      "   user  system elapsed \n",
      " 12.685   3.803   8.276 \n",
      "IV selection threshold: 5e-07 \n",
      "***********************************************************\n",
      "MR test results of  SCZ  on  Tanning : \n",
      "MR-APSS: beta =  0.0014 , beta.se =  0.0319 , p-value =  9.6429e-01 . \n",
      "Total NO. of IVs=  189 , NO. of valid IVs with foreground signals:  61.15382 . \n",
      "***********************************************************\n",
      "   user  system elapsed \n",
      "  7.988   2.479   5.234 \n",
      "IV selection threshold: 5e-08 \n",
      "***********************************************************\n",
      "MR test results of  SCZ  on  Tanning : \n",
      "MR-APSS: beta =  -0.0036 , beta.se =  0.0288 , p-value =  8.9961e-01 . \n",
      "Total NO. of IVs=  121 , NO. of valid IVs with foreground signals:  51.05622 . \n",
      "***********************************************************\n",
      "   user  system elapsed \n",
      "  7.293   2.133   4.714 \n",
      "Run MR-APSS not accounting for selection bias ... \n",
      "IV selection threshold: 5e-06 \n"
     ]
    },
    {
     "name": "stderr",
     "output_type": "stream",
     "text": [
      "Threshold = 1, the model will not correct for selection bias\n",
      "\n"
     ]
    },
    {
     "name": "stdout",
     "output_type": "stream",
     "text": [
      "***********************************************************\n",
      "MR test results of  SCZ  on  Tanning : \n",
      "MR-APSS: beta =  0.005 , beta.se =  0.0102 , p-value =  6.2480e-01 . \n",
      "Total NO. of IVs=  366 , NO. of valid IVs with foreground signals:  365.9634 . \n",
      "***********************************************************\n",
      "   user  system elapsed \n",
      "  4.465   1.340   2.914 \n",
      "IV selection threshold: 5e-07 \n"
     ]
    },
    {
     "name": "stderr",
     "output_type": "stream",
     "text": [
      "Threshold = 1, the model will not correct for selection bias\n",
      "\n"
     ]
    },
    {
     "name": "stdout",
     "output_type": "stream",
     "text": [
      "***********************************************************\n",
      "MR test results of  SCZ  on  Tanning : \n",
      "MR-APSS: beta =  -0.001 , beta.se =  0.0137 , p-value =  9.4403e-01 . \n",
      "Total NO. of IVs=  189 , NO. of valid IVs with foreground signals:  188.9811 . \n",
      "***********************************************************\n",
      "   user  system elapsed \n",
      "  2.153   0.604   1.379 \n",
      "IV selection threshold: 5e-08 \n"
     ]
    },
    {
     "name": "stderr",
     "output_type": "stream",
     "text": [
      "Threshold = 1, the model will not correct for selection bias\n",
      "\n"
     ]
    },
    {
     "name": "stdout",
     "output_type": "stream",
     "text": [
      "***********************************************************\n",
      "MR test results of  SCZ  on  Tanning : \n",
      "MR-APSS: beta =  -0.005 , beta.se =  0.0138 , p-value =  7.1779e-01 . \n",
      "Total NO. of IVs=  121 , NO. of valid IVs with foreground signals:  120.9879 . \n",
      "***********************************************************\n",
      "   user  system elapsed \n",
      "  2.178   0.735   1.458 \n",
      "Pair:  Angina ~ Hair_Light_Brown \n",
      "Run MR-APSS ... \n",
      "IV selection threshold: 5e-06 \n",
      "***********************************************************\n",
      "MR test results of  Angina  on  Hair_Light_Brown : \n",
      "MR-APSS: beta =  -0.0957 , beta.se =  0.0641 , p-value =  1.3565e-01 . \n",
      "Total NO. of IVs=  28 , NO. of valid IVs with foreground signals:  17.50098 . \n",
      "***********************************************************\n",
      "   user  system elapsed \n",
      "  1.197   0.420   0.809 \n",
      "IV selection threshold: 5e-07 \n",
      "***********************************************************\n",
      "MR test results of  Angina  on  Hair_Light_Brown : \n",
      "MR-APSS: beta =  -0.1063 , beta.se =  0.0721 , p-value =  1.4044e-01 . \n",
      "Total NO. of IVs=  17 , NO. of valid IVs with foreground signals:  12.15746 . \n",
      "***********************************************************\n",
      "   user  system elapsed \n",
      "  1.019   0.340   0.680 \n",
      "IV selection threshold: 5e-08 \n",
      "***********************************************************\n",
      "MR test results of  Angina  on  Hair_Light_Brown : \n",
      "MR-APSS: beta =  -0.1536 , beta.se =  0.0823 , p-value =  6.1936e-02 . \n",
      "Total NO. of IVs=  12 , NO. of valid IVs with foreground signals:  6.992785 . \n",
      "***********************************************************\n",
      "   user  system elapsed \n",
      "  1.145   0.352   0.748 \n",
      "Run MR-APSS not accounting for selection bias ... \n",
      "IV selection threshold: 5e-06 \n"
     ]
    },
    {
     "name": "stderr",
     "output_type": "stream",
     "text": [
      "Threshold = 1, the model will not correct for selection bias\n",
      "\n"
     ]
    },
    {
     "name": "stdout",
     "output_type": "stream",
     "text": [
      "***********************************************************\n",
      "MR test results of  Angina  on  Hair_Light_Brown : \n",
      "MR-APSS: beta =  -0.0654 , beta.se =  0.0453 , p-value =  1.4835e-01 . \n",
      "Total NO. of IVs=  28 , NO. of valid IVs with foreground signals:  27.9972 . \n",
      "***********************************************************\n",
      "   user  system elapsed \n",
      "  0.848   0.256   0.552 \n",
      "IV selection threshold: 5e-07 \n"
     ]
    },
    {
     "name": "stderr",
     "output_type": "stream",
     "text": [
      "Threshold = 1, the model will not correct for selection bias\n",
      "\n"
     ]
    },
    {
     "name": "stdout",
     "output_type": "stream",
     "text": [
      "***********************************************************\n",
      "MR test results of  Angina  on  Hair_Light_Brown : \n",
      "MR-APSS: beta =  -0.0565 , beta.se =  0.0568 , p-value =  3.1995e-01 . \n",
      "Total NO. of IVs=  17 , NO. of valid IVs with foreground signals:  16.9983 . \n",
      "***********************************************************\n",
      "   user  system elapsed \n",
      "  0.392   0.118   0.256 \n",
      "IV selection threshold: 5e-08 \n"
     ]
    },
    {
     "name": "stderr",
     "output_type": "stream",
     "text": [
      "Threshold = 1, the model will not correct for selection bias\n",
      "\n"
     ]
    },
    {
     "name": "stdout",
     "output_type": "stream",
     "text": [
      "***********************************************************\n",
      "MR test results of  Angina  on  Hair_Light_Brown : \n",
      "MR-APSS: beta =  -0.0992 , beta.se =  0.0566 , p-value =  7.9480e-02 . \n",
      "Total NO. of IVs=  12 , NO. of valid IVs with foreground signals:  11.9988 . \n",
      "***********************************************************\n",
      "   user  system elapsed \n",
      "  0.674   0.187   0.431 \n",
      "Pair:  Angina ~ Hair_Dark_Brown \n",
      "Run MR-APSS ... \n",
      "IV selection threshold: 5e-06 \n",
      "***********************************************************\n",
      "MR test results of  Angina  on  Hair_Dark_Brown : \n",
      "MR-APSS: beta =  0.0972 , beta.se =  0.0846 , p-value =  2.5036e-01 . \n",
      "Total NO. of IVs=  28 , NO. of valid IVs with foreground signals:  16.88176 . \n",
      "***********************************************************\n",
      "   user  system elapsed \n",
      "  1.053   0.285   0.669 \n",
      "IV selection threshold: 5e-07 \n",
      "***********************************************************\n",
      "MR test results of  Angina  on  Hair_Dark_Brown : \n",
      "MR-APSS: beta =  0.1181 , beta.se =  0.0977 , p-value =  2.2684e-01 . \n",
      "Total NO. of IVs=  17 , NO. of valid IVs with foreground signals:  12.80754 . \n",
      "***********************************************************\n",
      "   user  system elapsed \n",
      "  0.778   0.260   0.520 \n",
      "IV selection threshold: 5e-08 \n",
      "***********************************************************\n",
      "MR test results of  Angina  on  Hair_Dark_Brown : \n",
      "MR-APSS: beta =  0.1573 , beta.se =  0.0938 , p-value =  9.3639e-02 . \n",
      "Total NO. of IVs=  12 , NO. of valid IVs with foreground signals:  6.940858 . \n",
      "***********************************************************\n",
      "   user  system elapsed \n",
      "  0.668   0.239   0.454 \n",
      "Run MR-APSS not accounting for selection bias ... \n",
      "IV selection threshold: 5e-06 \n"
     ]
    },
    {
     "name": "stderr",
     "output_type": "stream",
     "text": [
      "Threshold = 1, the model will not correct for selection bias\n",
      "\n"
     ]
    },
    {
     "name": "stdout",
     "output_type": "stream",
     "text": [
      "***********************************************************\n",
      "MR test results of  Angina  on  Hair_Dark_Brown : \n",
      "MR-APSS: beta =  0.0641 , beta.se =  0.0585 , p-value =  2.7329e-01 . \n",
      "Total NO. of IVs=  28 , NO. of valid IVs with foreground signals:  27.9972 . \n",
      "***********************************************************\n",
      "   user  system elapsed \n",
      "  0.509   0.143   0.326 \n",
      "IV selection threshold: 5e-07 \n"
     ]
    },
    {
     "name": "stderr",
     "output_type": "stream",
     "text": [
      "Threshold = 1, the model will not correct for selection bias\n",
      "\n"
     ]
    },
    {
     "name": "stdout",
     "output_type": "stream",
     "text": [
      "***********************************************************\n",
      "MR test results of  Angina  on  Hair_Dark_Brown : \n",
      "MR-APSS: beta =  0.0649 , beta.se =  0.0757 , p-value =  3.9160e-01 . \n",
      "Total NO. of IVs=  17 , NO. of valid IVs with foreground signals:  16.9983 . \n",
      "***********************************************************\n",
      "   user  system elapsed \n",
      "  0.300   0.108   0.204 \n",
      "IV selection threshold: 5e-08 \n"
     ]
    },
    {
     "name": "stderr",
     "output_type": "stream",
     "text": [
      "Threshold = 1, the model will not correct for selection bias\n",
      "\n"
     ]
    },
    {
     "name": "stdout",
     "output_type": "stream",
     "text": [
      "***********************************************************\n",
      "MR test results of  Angina  on  Hair_Dark_Brown : \n",
      "MR-APSS: beta =  0.1103 , beta.se =  0.067 , p-value =  9.9839e-02 . \n",
      "Total NO. of IVs=  12 , NO. of valid IVs with foreground signals:  11.9988 . \n",
      "***********************************************************\n",
      "   user  system elapsed \n",
      "  0.548   0.167   0.358 \n",
      "Pair:  Angina ~ Hair_Black \n",
      "Run MR-APSS ... \n",
      "IV selection threshold: 5e-06 \n",
      "***********************************************************\n",
      "MR test results of  Angina  on  Hair_Black : \n",
      "MR-APSS: beta =  0.0685 , beta.se =  0.0775 , p-value =  3.7671e-01 . \n",
      "Total NO. of IVs=  28 , NO. of valid IVs with foreground signals:  16.9958 . \n",
      "***********************************************************\n",
      "   user  system elapsed \n",
      "  1.229   0.348   0.790 \n",
      "IV selection threshold: 5e-07 \n",
      "***********************************************************\n",
      "MR test results of  Angina  on  Hair_Black : \n",
      "MR-APSS: beta =  0.0748 , beta.se =  0.0905 , p-value =  4.0842e-01 . \n",
      "Total NO. of IVs=  17 , NO. of valid IVs with foreground signals:  12.93188 . \n",
      "***********************************************************\n",
      "   user  system elapsed \n",
      "  1.000   0.304   0.652 \n",
      "IV selection threshold: 5e-08 \n",
      "***********************************************************\n",
      "MR test results of  Angina  on  Hair_Black : \n",
      "MR-APSS: beta =  0.1167 , beta.se =  0.1093 , p-value =  2.8567e-01 . \n",
      "Total NO. of IVs=  12 , NO. of valid IVs with foreground signals:  6.90828 . \n",
      "***********************************************************\n",
      "   user  system elapsed \n",
      "  0.633   0.220   0.426 \n",
      "Run MR-APSS not accounting for selection bias ... \n",
      "IV selection threshold: 5e-06 \n"
     ]
    },
    {
     "name": "stderr",
     "output_type": "stream",
     "text": [
      "Threshold = 1, the model will not correct for selection bias\n",
      "\n"
     ]
    },
    {
     "name": "stdout",
     "output_type": "stream",
     "text": [
      "***********************************************************\n",
      "MR test results of  Angina  on  Hair_Black : \n",
      "MR-APSS: beta =  0.0623 , beta.se =  0.053 , p-value =  2.4014e-01 . \n",
      "Total NO. of IVs=  28 , NO. of valid IVs with foreground signals:  27.9972 . \n",
      "***********************************************************\n",
      "   user  system elapsed \n",
      "  0.783   0.243   0.513 \n",
      "IV selection threshold: 5e-07 \n"
     ]
    },
    {
     "name": "stderr",
     "output_type": "stream",
     "text": [
      "Threshold = 1, the model will not correct for selection bias\n",
      "\n"
     ]
    },
    {
     "name": "stdout",
     "output_type": "stream",
     "text": [
      "***********************************************************\n",
      "MR test results of  Angina  on  Hair_Black : \n",
      "MR-APSS: beta =  0.0304 , beta.se =  0.0701 , p-value =  6.6504e-01 . \n",
      "Total NO. of IVs=  17 , NO. of valid IVs with foreground signals:  16.9983 . \n",
      "***********************************************************\n",
      "   user  system elapsed \n",
      "  0.331   0.103   0.217 \n",
      "IV selection threshold: 5e-08 \n"
     ]
    },
    {
     "name": "stderr",
     "output_type": "stream",
     "text": [
      "Threshold = 1, the model will not correct for selection bias\n",
      "\n"
     ]
    },
    {
     "name": "stdout",
     "output_type": "stream",
     "text": [
      "***********************************************************\n",
      "MR test results of  Angina  on  Hair_Black : \n",
      "MR-APSS: beta =  0.0944 , beta.se =  0.0697 , p-value =  1.7595e-01 . \n",
      "Total NO. of IVs=  12 , NO. of valid IVs with foreground signals:  11.9988 . \n",
      "***********************************************************\n",
      "   user  system elapsed \n",
      "  0.741   0.217   0.479 \n",
      "Pair:  Angina ~ Hair_Blonde \n",
      "Run MR-APSS ... \n",
      "IV selection threshold: 5e-06 \n",
      "***********************************************************\n",
      "MR test results of  Angina  on  Hair_Blonde : \n",
      "MR-APSS: beta =  -0.053 , beta.se =  0.0664 , p-value =  4.2469e-01 . \n",
      "Total NO. of IVs=  28 , NO. of valid IVs with foreground signals:  16.90816 . \n",
      "***********************************************************\n",
      "   user  system elapsed \n",
      "  1.262   0.391   0.826 \n",
      "IV selection threshold: 5e-07 \n",
      "***********************************************************\n",
      "MR test results of  Angina  on  Hair_Blonde : \n",
      "MR-APSS: beta =  -0.0754 , beta.se =  0.0763 , p-value =  3.2288e-01 . \n",
      "Total NO. of IVs=  17 , NO. of valid IVs with foreground signals:  12.85714 . \n",
      "***********************************************************\n",
      "   user  system elapsed \n",
      "   0.86    0.26    0.56 \n",
      "IV selection threshold: 5e-08 \n",
      "***********************************************************\n",
      "MR test results of  Angina  on  Hair_Blonde : \n",
      "MR-APSS: beta =  -0.1098 , beta.se =  0.0792 , p-value =  1.6571e-01 . \n",
      "Total NO. of IVs=  12 , NO. of valid IVs with foreground signals:  7.473296 . \n",
      "***********************************************************\n",
      "   user  system elapsed \n",
      "  3.465   0.952   2.210 \n",
      "Run MR-APSS not accounting for selection bias ... \n",
      "IV selection threshold: 5e-06 \n"
     ]
    },
    {
     "name": "stderr",
     "output_type": "stream",
     "text": [
      "Threshold = 1, the model will not correct for selection bias\n",
      "\n"
     ]
    },
    {
     "name": "stdout",
     "output_type": "stream",
     "text": [
      "***********************************************************\n",
      "MR test results of  Angina  on  Hair_Blonde : \n",
      "MR-APSS: beta =  -0.0329 , beta.se =  0.0465 , p-value =  4.7916e-01 . \n",
      "Total NO. of IVs=  28 , NO. of valid IVs with foreground signals:  27.9972 . \n",
      "***********************************************************\n",
      "   user  system elapsed \n",
      "  1.056   0.387   0.722 \n",
      "IV selection threshold: 5e-07 \n"
     ]
    },
    {
     "name": "stderr",
     "output_type": "stream",
     "text": [
      "Threshold = 1, the model will not correct for selection bias\n",
      "\n"
     ]
    },
    {
     "name": "stdout",
     "output_type": "stream",
     "text": [
      "***********************************************************\n",
      "MR test results of  Angina  on  Hair_Blonde : \n",
      "MR-APSS: beta =  -0.0411 , beta.se =  0.0599 , p-value =  4.9229e-01 . \n",
      "Total NO. of IVs=  17 , NO. of valid IVs with foreground signals:  16.9983 . \n",
      "***********************************************************\n",
      "   user  system elapsed \n",
      "  0.468   0.163   0.316 \n",
      "IV selection threshold: 5e-08 \n"
     ]
    },
    {
     "name": "stderr",
     "output_type": "stream",
     "text": [
      "Threshold = 1, the model will not correct for selection bias\n",
      "\n"
     ]
    },
    {
     "name": "stdout",
     "output_type": "stream",
     "text": [
      "***********************************************************\n",
      "MR test results of  Angina  on  Hair_Blonde : \n",
      "MR-APSS: beta =  -0.0879 , beta.se =  0.0564 , p-value =  1.1943e-01 . \n",
      "Total NO. of IVs=  12 , NO. of valid IVs with foreground signals:  11.9988 . \n",
      "***********************************************************\n",
      "   user  system elapsed \n",
      " 13.001   3.860   8.432 \n",
      "Pair:  Angina ~ Tanning \n",
      "Run MR-APSS ... \n",
      "IV selection threshold: 5e-06 \n",
      "***********************************************************\n",
      "MR test results of  Angina  on  Tanning : \n",
      "MR-APSS: beta =  0.1034 , beta.se =  0.1018 , p-value =  3.0993e-01 . \n",
      "Total NO. of IVs=  28 , NO. of valid IVs with foreground signals:  16.24906 . \n",
      "***********************************************************\n",
      "   user  system elapsed \n",
      "  1.114   0.326   0.721 \n",
      "IV selection threshold: 5e-07 \n",
      "***********************************************************\n",
      "MR test results of  Angina  on  Tanning : \n",
      "MR-APSS: beta =  0.0325 , beta.se =  0.0679 , p-value =  6.3206e-01 . \n",
      "Total NO. of IVs=  16 , NO. of valid IVs with foreground signals:  12.4804 . \n",
      "***********************************************************\n",
      "   user  system elapsed \n",
      "  2.226   0.684   1.455 \n",
      "IV selection threshold: 5e-08 \n",
      "***********************************************************\n",
      "MR test results of  Angina  on  Tanning : \n",
      "MR-APSS: beta =  0.022 , beta.se =  0.0749 , p-value =  7.6877e-01 . \n",
      "Total NO. of IVs=  12 , NO. of valid IVs with foreground signals:  7.716786 . \n",
      "***********************************************************\n",
      "   user  system elapsed \n",
      "  4.120   1.211   2.666 \n",
      "Run MR-APSS not accounting for selection bias ... \n",
      "IV selection threshold: 5e-06 \n"
     ]
    },
    {
     "name": "stderr",
     "output_type": "stream",
     "text": [
      "Threshold = 1, the model will not correct for selection bias\n",
      "\n"
     ]
    },
    {
     "name": "stdout",
     "output_type": "stream",
     "text": [
      "***********************************************************\n",
      "MR test results of  Angina  on  Tanning : \n",
      "MR-APSS: beta =  0.0796 , beta.se =  0.0684 , p-value =  2.4453e-01 . \n",
      "Total NO. of IVs=  28 , NO. of valid IVs with foreground signals:  27.9972 . \n",
      "***********************************************************\n",
      "   user  system elapsed \n",
      "  0.510   0.124   0.317 \n",
      "IV selection threshold: 5e-07 \n"
     ]
    },
    {
     "name": "stderr",
     "output_type": "stream",
     "text": [
      "Threshold = 1, the model will not correct for selection bias\n",
      "\n"
     ]
    },
    {
     "name": "stdout",
     "output_type": "stream",
     "text": [
      "***********************************************************\n",
      "MR test results of  Angina  on  Tanning : \n",
      "MR-APSS: beta =  0.0339 , beta.se =  0.0562 , p-value =  5.4686e-01 . \n",
      "Total NO. of IVs=  16 , NO. of valid IVs with foreground signals:  15.9984 . \n",
      "***********************************************************\n",
      "   user  system elapsed \n",
      "  3.021   0.877   1.948 \n",
      "IV selection threshold: 5e-08 \n"
     ]
    },
    {
     "name": "stderr",
     "output_type": "stream",
     "text": [
      "Threshold = 1, the model will not correct for selection bias\n",
      "\n"
     ]
    },
    {
     "name": "stdout",
     "output_type": "stream",
     "text": [
      "***********************************************************\n",
      "MR test results of  Angina  on  Tanning : \n",
      "MR-APSS: beta =  0.006 , beta.se =  0.057 , p-value =  9.1590e-01 . \n",
      "Total NO. of IVs=  12 , NO. of valid IVs with foreground signals:  11.9988 . \n",
      "***********************************************************\n",
      "   user  system elapsed \n",
      "  6.187   1.811   3.999 \n",
      "Pair:  CAD ~ Hair_Light_Brown \n",
      "Run MR-APSS ... \n",
      "IV selection threshold: 5e-06 \n",
      "***********************************************************\n",
      "MR test results of  CAD  on  Hair_Light_Brown : \n",
      "MR-APSS: beta =  0.0015 , beta.se =  0.0185 , p-value =  9.3403e-01 . \n",
      "Total NO. of IVs=  75 , NO. of valid IVs with foreground signals:  74.97839 . \n",
      "***********************************************************\n",
      "   user  system elapsed \n",
      "  4.954   1.336   3.145 \n",
      "IV selection threshold: 5e-07 \n",
      "***********************************************************\n",
      "MR test results of  CAD  on  Hair_Light_Brown : \n",
      "MR-APSS: beta =  -0.0166 , beta.se =  0.0212 , p-value =  4.3156e-01 . \n",
      "Total NO. of IVs=  48 , NO. of valid IVs with foreground signals:  47.99333 . \n",
      "***********************************************************\n",
      "   user  system elapsed \n",
      " 41.612  12.889  27.256 \n",
      "IV selection threshold: 5e-08 \n",
      "***********************************************************\n",
      "MR test results of  CAD  on  Hair_Light_Brown : \n",
      "MR-APSS: beta =  -0.02 , beta.se =  0.0241 , p-value =  4.0529e-01 . \n",
      "Total NO. of IVs=  36 , NO. of valid IVs with foreground signals:  35.99535 . \n",
      "***********************************************************\n",
      "   user  system elapsed \n",
      "  9.336   2.676   6.008 \n",
      "Run MR-APSS not accounting for selection bias ... \n",
      "IV selection threshold: 5e-06 \n"
     ]
    },
    {
     "name": "stderr",
     "output_type": "stream",
     "text": [
      "Threshold = 1, the model will not correct for selection bias\n",
      "\n"
     ]
    },
    {
     "name": "stdout",
     "output_type": "stream",
     "text": [
      "***********************************************************\n",
      "MR test results of  CAD  on  Hair_Light_Brown : \n",
      "MR-APSS: beta =  0.0018 , beta.se =  0.0173 , p-value =  9.1829e-01 . \n",
      "Total NO. of IVs=  75 , NO. of valid IVs with foreground signals:  74.9925 . \n",
      "***********************************************************\n",
      "   user  system elapsed \n",
      " 10.567   3.176   6.872 \n",
      "IV selection threshold: 5e-07 \n"
     ]
    },
    {
     "name": "stderr",
     "output_type": "stream",
     "text": [
      "Threshold = 1, the model will not correct for selection bias\n",
      "\n"
     ]
    },
    {
     "name": "stdout",
     "output_type": "stream",
     "text": [
      "***********************************************************\n",
      "MR test results of  CAD  on  Hair_Light_Brown : \n",
      "MR-APSS: beta =  -0.0152 , beta.se =  0.0197 , p-value =  4.3943e-01 . \n",
      "Total NO. of IVs=  48 , NO. of valid IVs with foreground signals:  47.9952 . \n",
      "***********************************************************\n",
      "   user  system elapsed \n",
      " 52.364  15.532  33.953 \n",
      "IV selection threshold: 5e-08 \n"
     ]
    },
    {
     "name": "stderr",
     "output_type": "stream",
     "text": [
      "Threshold = 1, the model will not correct for selection bias\n",
      "\n"
     ]
    },
    {
     "name": "stdout",
     "output_type": "stream",
     "text": [
      "***********************************************************\n",
      "MR test results of  CAD  on  Hair_Light_Brown : \n",
      "MR-APSS: beta =  -0.018 , beta.se =  0.0224 , p-value =  4.2041e-01 . \n",
      "Total NO. of IVs=  36 , NO. of valid IVs with foreground signals:  35.9964 . \n",
      "***********************************************************\n",
      "   user  system elapsed \n",
      " 10.356   3.251   6.806 \n",
      "Pair:  CAD ~ Hair_Dark_Brown \n",
      "Run MR-APSS ... \n",
      "IV selection threshold: 5e-06 \n",
      "***********************************************************\n",
      "MR test results of  CAD  on  Hair_Dark_Brown : \n",
      "MR-APSS: beta =  -4e-04 , beta.se =  0.0231 , p-value =  9.8600e-01 . \n",
      "Total NO. of IVs=  75 , NO. of valid IVs with foreground signals:  74.96378 . \n",
      "***********************************************************\n",
      "   user  system elapsed \n",
      "  4.273   1.313   2.792 \n",
      "IV selection threshold: 5e-07 \n",
      "***********************************************************\n",
      "MR test results of  CAD  on  Hair_Dark_Brown : \n",
      "MR-APSS: beta =  0.0167 , beta.se =  0.0313 , p-value =  5.9295e-01 . \n",
      "Total NO. of IVs=  48 , NO. of valid IVs with foreground signals:  47.99277 . \n",
      "***********************************************************\n",
      "   user  system elapsed \n",
      "  1.566   0.491   1.028 \n",
      "IV selection threshold: 5e-08 \n",
      "***********************************************************\n",
      "MR test results of  CAD  on  Hair_Dark_Brown : \n",
      "MR-APSS: beta =  0.0193 , beta.se =  0.0365 , p-value =  5.9636e-01 . \n",
      "Total NO. of IVs=  36 , NO. of valid IVs with foreground signals:  35.99557 . \n",
      "***********************************************************\n",
      "   user  system elapsed \n",
      "  1.272   0.376   0.824 \n",
      "Run MR-APSS not accounting for selection bias ... \n",
      "IV selection threshold: 5e-06 \n"
     ]
    },
    {
     "name": "stderr",
     "output_type": "stream",
     "text": [
      "Threshold = 1, the model will not correct for selection bias\n",
      "\n"
     ]
    },
    {
     "name": "stdout",
     "output_type": "stream",
     "text": [
      "***********************************************************\n",
      "MR test results of  CAD  on  Hair_Dark_Brown : \n",
      "MR-APSS: beta =  -0.0022 , beta.se =  0.0225 , p-value =  9.2128e-01 . \n",
      "Total NO. of IVs=  75 , NO. of valid IVs with foreground signals:  74.9925 . \n",
      "***********************************************************\n",
      "   user  system elapsed \n",
      "  0.443   0.127   0.285 \n",
      "IV selection threshold: 5e-07 \n"
     ]
    },
    {
     "name": "stderr",
     "output_type": "stream",
     "text": [
      "Threshold = 1, the model will not correct for selection bias\n",
      "\n"
     ]
    },
    {
     "name": "stdout",
     "output_type": "stream",
     "text": [
      "***********************************************************\n",
      "MR test results of  CAD  on  Hair_Dark_Brown : \n",
      "MR-APSS: beta =  0.0131 , beta.se =  0.0289 , p-value =  6.5001e-01 . \n",
      "Total NO. of IVs=  48 , NO. of valid IVs with foreground signals:  47.9952 . \n",
      "***********************************************************\n",
      "   user  system elapsed \n",
      "  0.650   0.249   0.449 \n",
      "IV selection threshold: 5e-08 \n"
     ]
    },
    {
     "name": "stderr",
     "output_type": "stream",
     "text": [
      "Threshold = 1, the model will not correct for selection bias\n",
      "\n"
     ]
    },
    {
     "name": "stdout",
     "output_type": "stream",
     "text": [
      "***********************************************************\n",
      "MR test results of  CAD  on  Hair_Dark_Brown : \n",
      "MR-APSS: beta =  0.0145 , beta.se =  0.0337 , p-value =  6.6628e-01 . \n",
      "Total NO. of IVs=  36 , NO. of valid IVs with foreground signals:  35.9964 . \n",
      "***********************************************************\n",
      "   user  system elapsed \n",
      "  0.776   0.232   0.504 \n",
      "Pair:  CAD ~ Hair_Black \n",
      "Run MR-APSS ... \n",
      "IV selection threshold: 5e-06 \n",
      "***********************************************************\n",
      "MR test results of  CAD  on  Hair_Black : \n",
      "MR-APSS: beta =  0.0188 , beta.se =  0.0231 , p-value =  4.1633e-01 . \n",
      "Total NO. of IVs=  75 , NO. of valid IVs with foreground signals:  74.97592 . \n",
      "***********************************************************\n",
      "   user  system elapsed \n",
      " 13.709   4.189   8.948 \n",
      "IV selection threshold: 5e-07 \n",
      "***********************************************************\n",
      "MR test results of  CAD  on  Hair_Black : \n",
      "MR-APSS: beta =  0.0118 , beta.se =  0.0293 , p-value =  6.8650e-01 . \n",
      "Total NO. of IVs=  48 , NO. of valid IVs with foreground signals:  47.9929 . \n",
      "***********************************************************\n",
      "   user  system elapsed \n",
      "  2.090   0.588   1.339 \n",
      "IV selection threshold: 5e-08 \n",
      "***********************************************************\n",
      "MR test results of  CAD  on  Hair_Black : \n",
      "MR-APSS: beta =  0.0154 , beta.se =  0.0341 , p-value =  6.5116e-01 . \n",
      "Total NO. of IVs=  36 , NO. of valid IVs with foreground signals:  35.99529 . \n",
      "***********************************************************\n",
      "   user  system elapsed \n",
      "  1.429   0.404   0.917 \n",
      "Run MR-APSS not accounting for selection bias ... \n",
      "IV selection threshold: 5e-06 \n"
     ]
    },
    {
     "name": "stderr",
     "output_type": "stream",
     "text": [
      "Threshold = 1, the model will not correct for selection bias\n",
      "\n"
     ]
    },
    {
     "name": "stdout",
     "output_type": "stream",
     "text": [
      "***********************************************************\n",
      "MR test results of  CAD  on  Hair_Black : \n",
      "MR-APSS: beta =  0.0165 , beta.se =  0.0212 , p-value =  4.3745e-01 . \n",
      "Total NO. of IVs=  75 , NO. of valid IVs with foreground signals:  74.9925 . \n",
      "***********************************************************\n",
      "   user  system elapsed \n",
      " 12.385   3.743   8.067 \n",
      "IV selection threshold: 5e-07 \n"
     ]
    },
    {
     "name": "stderr",
     "output_type": "stream",
     "text": [
      "Threshold = 1, the model will not correct for selection bias\n",
      "\n"
     ]
    },
    {
     "name": "stdout",
     "output_type": "stream",
     "text": [
      "***********************************************************\n",
      "MR test results of  CAD  on  Hair_Black : \n",
      "MR-APSS: beta =  0.0101 , beta.se =  0.0271 , p-value =  7.1037e-01 . \n",
      "Total NO. of IVs=  48 , NO. of valid IVs with foreground signals:  47.9952 . \n",
      "***********************************************************\n",
      "   user  system elapsed \n",
      "  1.067   0.294   0.680 \n",
      "IV selection threshold: 5e-08 \n"
     ]
    },
    {
     "name": "stderr",
     "output_type": "stream",
     "text": [
      "Threshold = 1, the model will not correct for selection bias\n",
      "\n"
     ]
    },
    {
     "name": "stdout",
     "output_type": "stream",
     "text": [
      "***********************************************************\n",
      "MR test results of  CAD  on  Hair_Black : \n",
      "MR-APSS: beta =  0.013 , beta.se =  0.0316 , p-value =  6.8009e-01 . \n",
      "Total NO. of IVs=  36 , NO. of valid IVs with foreground signals:  35.9964 . \n",
      "***********************************************************\n",
      "   user  system elapsed \n",
      "  0.926   0.277   0.602 \n",
      "Pair:  CAD ~ Hair_Blonde \n",
      "Run MR-APSS ... \n",
      "IV selection threshold: 5e-06 \n",
      "***********************************************************\n",
      "MR test results of  CAD  on  Hair_Blonde : \n",
      "MR-APSS: beta =  0.0066 , beta.se =  0.0255 , p-value =  7.9437e-01 . \n",
      "Total NO. of IVs=  75 , NO. of valid IVs with foreground signals:  74.89425 . \n",
      "***********************************************************\n",
      "   user  system elapsed \n",
      "  7.558   2.293   4.926 \n",
      "IV selection threshold: 5e-07 \n",
      "***********************************************************\n",
      "MR test results of  CAD  on  Hair_Blonde : \n",
      "MR-APSS: beta =  0.0111 , beta.se =  0.033 , p-value =  7.3599e-01 . \n",
      "Total NO. of IVs=  48 , NO. of valid IVs with foreground signals:  47.99209 . \n",
      "***********************************************************\n",
      "   user  system elapsed \n",
      "  1.370   0.392   0.881 \n",
      "IV selection threshold: 5e-08 \n",
      "***********************************************************\n",
      "MR test results of  CAD  on  Hair_Blonde : \n",
      "MR-APSS: beta =  0.0149 , beta.se =  0.0378 , p-value =  6.9288e-01 . \n",
      "Total NO. of IVs=  36 , NO. of valid IVs with foreground signals:  35.99588 . \n",
      "***********************************************************\n",
      "   user  system elapsed \n",
      "  1.111   0.400   0.756 \n",
      "Run MR-APSS not accounting for selection bias ... \n",
      "IV selection threshold: 5e-06 \n"
     ]
    },
    {
     "name": "stderr",
     "output_type": "stream",
     "text": [
      "Threshold = 1, the model will not correct for selection bias\n",
      "\n"
     ]
    },
    {
     "name": "stdout",
     "output_type": "stream",
     "text": [
      "***********************************************************\n",
      "MR test results of  CAD  on  Hair_Blonde : \n",
      "MR-APSS: beta =  0.0085 , beta.se =  0.0233 , p-value =  7.1634e-01 . \n",
      "Total NO. of IVs=  75 , NO. of valid IVs with foreground signals:  74.9925 . \n",
      "***********************************************************\n",
      "   user  system elapsed \n",
      "  1.507   0.464   0.986 \n",
      "IV selection threshold: 5e-07 \n"
     ]
    },
    {
     "name": "stderr",
     "output_type": "stream",
     "text": [
      "Threshold = 1, the model will not correct for selection bias\n",
      "\n"
     ]
    },
    {
     "name": "stdout",
     "output_type": "stream",
     "text": [
      "***********************************************************\n",
      "MR test results of  CAD  on  Hair_Blonde : \n",
      "MR-APSS: beta =  0.0128 , beta.se =  0.0304 , p-value =  6.7350e-01 . \n",
      "Total NO. of IVs=  48 , NO. of valid IVs with foreground signals:  47.9952 . \n",
      "***********************************************************\n",
      "   user  system elapsed \n",
      "  0.654   0.232   0.443 \n",
      "IV selection threshold: 5e-08 \n"
     ]
    },
    {
     "name": "stderr",
     "output_type": "stream",
     "text": [
      "Threshold = 1, the model will not correct for selection bias\n",
      "\n"
     ]
    },
    {
     "name": "stdout",
     "output_type": "stream",
     "text": [
      "***********************************************************\n",
      "MR test results of  CAD  on  Hair_Blonde : \n",
      "MR-APSS: beta =  0.0173 , beta.se =  0.0348 , p-value =  6.1980e-01 . \n",
      "Total NO. of IVs=  36 , NO. of valid IVs with foreground signals:  35.9964 . \n",
      "***********************************************************\n",
      "   user  system elapsed \n",
      "  0.487   0.147   0.317 \n",
      "Pair:  CAD ~ Tanning \n",
      "Run MR-APSS ... \n",
      "IV selection threshold: 5e-06 \n",
      "***********************************************************\n",
      "MR test results of  CAD  on  Tanning : \n",
      "MR-APSS: beta =  0.0088 , beta.se =  0.0248 , p-value =  7.2211e-01 . \n",
      "Total NO. of IVs=  75 , NO. of valid IVs with foreground signals:  74.97876 . \n",
      "***********************************************************\n",
      "   user  system elapsed \n",
      " 27.437   8.422  17.934 \n",
      "IV selection threshold: 5e-07 \n",
      "***********************************************************\n",
      "MR test results of  CAD  on  Tanning : \n",
      "MR-APSS: beta =  0.0196 , beta.se =  0.0273 , p-value =  4.7164e-01 . \n",
      "Total NO. of IVs=  48 , NO. of valid IVs with foreground signals:  47.99336 . \n",
      "***********************************************************\n",
      "   user  system elapsed \n",
      "  1.310   0.375   0.843 \n",
      "IV selection threshold: 5e-08 \n",
      "***********************************************************\n",
      "MR test results of  CAD  on  Tanning : \n",
      "MR-APSS: beta =  0.0378 , beta.se =  0.0303 , p-value =  2.1140e-01 . \n",
      "Total NO. of IVs=  36 , NO. of valid IVs with foreground signals:  35.9951 . \n",
      "***********************************************************\n",
      "   user  system elapsed \n",
      " 12.608   3.618   8.115 \n",
      "Run MR-APSS not accounting for selection bias ... \n",
      "IV selection threshold: 5e-06 \n"
     ]
    },
    {
     "name": "stderr",
     "output_type": "stream",
     "text": [
      "Threshold = 1, the model will not correct for selection bias\n",
      "\n"
     ]
    },
    {
     "name": "stdout",
     "output_type": "stream",
     "text": [
      "***********************************************************\n",
      "MR test results of  CAD  on  Tanning : \n",
      "MR-APSS: beta =  0.0096 , beta.se =  0.0228 , p-value =  6.7326e-01 . \n",
      "Total NO. of IVs=  75 , NO. of valid IVs with foreground signals:  74.9925 . \n",
      "***********************************************************\n",
      "   user  system elapsed \n",
      " 29.337   9.078  19.211 \n",
      "IV selection threshold: 5e-07 \n"
     ]
    },
    {
     "name": "stderr",
     "output_type": "stream",
     "text": [
      "Threshold = 1, the model will not correct for selection bias\n",
      "\n"
     ]
    },
    {
     "name": "stdout",
     "output_type": "stream",
     "text": [
      "***********************************************************\n",
      "MR test results of  CAD  on  Tanning : \n",
      "MR-APSS: beta =  0.0195 , beta.se =  0.0253 , p-value =  4.4096e-01 . \n",
      "Total NO. of IVs=  48 , NO. of valid IVs with foreground signals:  47.9952 . \n",
      "***********************************************************\n",
      "   user  system elapsed \n",
      "  0.972   0.255   0.613 \n",
      "IV selection threshold: 5e-08 \n"
     ]
    },
    {
     "name": "stderr",
     "output_type": "stream",
     "text": [
      "Threshold = 1, the model will not correct for selection bias\n",
      "\n"
     ]
    },
    {
     "name": "stdout",
     "output_type": "stream",
     "text": [
      "***********************************************************\n",
      "MR test results of  CAD  on  Tanning : \n",
      "MR-APSS: beta =  0.0365 , beta.se =  0.0281 , p-value =  1.9389e-01 . \n",
      "Total NO. of IVs=  36 , NO. of valid IVs with foreground signals:  35.9964 . \n",
      "***********************************************************\n",
      "   user  system elapsed \n",
      " 13.649   4.060   8.856 \n",
      "Pair:  HBP ~ Hair_Light_Brown \n",
      "Run MR-APSS ... \n",
      "IV selection threshold: 5e-06 \n",
      "***********************************************************\n",
      "MR test results of  HBP  on  Hair_Light_Brown : \n",
      "MR-APSS: beta =  0.0092 , beta.se =  0.0152 , p-value =  5.4361e-01 . \n",
      "Total NO. of IVs=  406 , NO. of valid IVs with foreground signals:  145.4621 . \n",
      "***********************************************************\n",
      "   user  system elapsed \n",
      "184.984  55.006 121.154 \n",
      "IV selection threshold: 5e-07 \n",
      "***********************************************************\n",
      "MR test results of  HBP  on  Hair_Light_Brown : \n",
      "MR-APSS: beta =  0.0118 , beta.se =  0.0158 , p-value =  4.5678e-01 . \n",
      "Total NO. of IVs=  270 , NO. of valid IVs with foreground signals:  114.3826 . \n",
      "***********************************************************\n",
      "   user  system elapsed \n",
      "  6.036   1.789   3.925 \n",
      "IV selection threshold: 5e-08 \n",
      "***********************************************************\n",
      "MR test results of  HBP  on  Hair_Light_Brown : \n",
      "MR-APSS: beta =  0.0161 , beta.se =  0.0166 , p-value =  3.3244e-01 . \n",
      "Total NO. of IVs=  197 , NO. of valid IVs with foreground signals:  89.13473 . \n",
      "***********************************************************\n",
      "   user  system elapsed \n",
      "  4.296   1.296   2.797 \n",
      "Run MR-APSS not accounting for selection bias ... \n",
      "IV selection threshold: 5e-06 \n"
     ]
    },
    {
     "name": "stderr",
     "output_type": "stream",
     "text": [
      "Threshold = 1, the model will not correct for selection bias\n",
      "\n"
     ]
    },
    {
     "name": "stdout",
     "output_type": "stream",
     "text": [
      "***********************************************************\n",
      "MR test results of  HBP  on  Hair_Light_Brown : \n",
      "MR-APSS: beta =  0.0104 , beta.se =  0.0106 , p-value =  3.2596e-01 . \n",
      "Total NO. of IVs=  406 , NO. of valid IVs with foreground signals:  405.9591 . \n",
      "***********************************************************\n",
      "   user  system elapsed \n",
      "315.416  92.333 205.848 \n",
      "IV selection threshold: 5e-07 \n"
     ]
    },
    {
     "name": "stderr",
     "output_type": "stream",
     "text": [
      "Threshold = 1, the model will not correct for selection bias\n",
      "\n"
     ]
    },
    {
     "name": "stdout",
     "output_type": "stream",
     "text": [
      "***********************************************************\n",
      "MR test results of  HBP  on  Hair_Light_Brown : \n",
      "MR-APSS: beta =  0.0058 , beta.se =  0.0116 , p-value =  6.1910e-01 . \n",
      "Total NO. of IVs=  270 , NO. of valid IVs with foreground signals:  269.9727 . \n",
      "***********************************************************\n",
      "   user  system elapsed \n",
      "  1.711   0.505   1.108 \n",
      "IV selection threshold: 5e-08 \n"
     ]
    },
    {
     "name": "stderr",
     "output_type": "stream",
     "text": [
      "Threshold = 1, the model will not correct for selection bias\n",
      "\n"
     ]
    },
    {
     "name": "stdout",
     "output_type": "stream",
     "text": [
      "***********************************************************\n",
      "MR test results of  HBP  on  Hair_Light_Brown : \n",
      "MR-APSS: beta =  0.0053 , beta.se =  0.0125 , p-value =  6.7249e-01 . \n",
      "Total NO. of IVs=  197 , NO. of valid IVs with foreground signals:  196.9799 . \n",
      "***********************************************************\n",
      "   user  system elapsed \n",
      "  1.243   0.411   0.827 \n",
      "Pair:  HBP ~ Hair_Dark_Brown \n",
      "Run MR-APSS ... \n",
      "IV selection threshold: 5e-06 \n",
      "***********************************************************\n",
      "MR test results of  HBP  on  Hair_Dark_Brown : \n",
      "MR-APSS: beta =  -0.01 , beta.se =  0.0233 , p-value =  6.6658e-01 . \n",
      "Total NO. of IVs=  406 , NO. of valid IVs with foreground signals:  143.3501 . \n",
      "***********************************************************\n",
      "   user  system elapsed \n",
      " 11.872   3.384   7.712 \n",
      "IV selection threshold: 5e-07 \n",
      "***********************************************************\n",
      "MR test results of  HBP  on  Hair_Dark_Brown : \n",
      "MR-APSS: beta =  -0.0023 , beta.se =  0.0223 , p-value =  9.1869e-01 . \n",
      "Total NO. of IVs=  269 , NO. of valid IVs with foreground signals:  112.4217 . \n",
      "***********************************************************\n",
      "   user  system elapsed \n",
      " 15.698   4.926  10.316 \n",
      "IV selection threshold: 5e-08 \n",
      "***********************************************************\n",
      "MR test results of  HBP  on  Hair_Dark_Brown : \n",
      "MR-APSS: beta =  0.0015 , beta.se =  0.0225 , p-value =  9.4825e-01 . \n",
      "Total NO. of IVs=  196 , NO. of valid IVs with foreground signals:  87.18238 . \n",
      "***********************************************************\n",
      "   user  system elapsed \n",
      "  8.970   2.572   5.772 \n",
      "Run MR-APSS not accounting for selection bias ... \n",
      "IV selection threshold: 5e-06 \n"
     ]
    },
    {
     "name": "stderr",
     "output_type": "stream",
     "text": [
      "Threshold = 1, the model will not correct for selection bias\n",
      "\n"
     ]
    },
    {
     "name": "stdout",
     "output_type": "stream",
     "text": [
      "***********************************************************\n",
      "MR test results of  HBP  on  Hair_Dark_Brown : \n",
      "MR-APSS: beta =  -0.0134 , beta.se =  0.0137 , p-value =  3.2782e-01 . \n",
      "Total NO. of IVs=  406 , NO. of valid IVs with foreground signals:  405.9589 . \n",
      "***********************************************************\n",
      "   user  system elapsed \n",
      " 15.488   4.501  10.043 \n",
      "IV selection threshold: 5e-07 \n"
     ]
    },
    {
     "name": "stderr",
     "output_type": "stream",
     "text": [
      "Threshold = 1, the model will not correct for selection bias\n",
      "\n"
     ]
    },
    {
     "name": "stdout",
     "output_type": "stream",
     "text": [
      "***********************************************************\n",
      "MR test results of  HBP  on  Hair_Dark_Brown : \n",
      "MR-APSS: beta =  -0.0051 , beta.se =  0.0146 , p-value =  7.2843e-01 . \n",
      "Total NO. of IVs=  269 , NO. of valid IVs with foreground signals:  268.9727 . \n",
      "***********************************************************\n",
      "   user  system elapsed \n",
      " 10.930   3.284   7.110 \n",
      "IV selection threshold: 5e-08 \n"
     ]
    },
    {
     "name": "stderr",
     "output_type": "stream",
     "text": [
      "Threshold = 1, the model will not correct for selection bias\n",
      "\n"
     ]
    },
    {
     "name": "stdout",
     "output_type": "stream",
     "text": [
      "***********************************************************\n",
      "MR test results of  HBP  on  Hair_Dark_Brown : \n",
      "MR-APSS: beta =  -0.0045 , beta.se =  0.0157 , p-value =  7.7264e-01 . \n",
      "Total NO. of IVs=  196 , NO. of valid IVs with foreground signals:  195.9799 . \n",
      "***********************************************************\n",
      "   user  system elapsed \n",
      " 11.552   3.548   7.552 \n",
      "Pair:  HBP ~ Hair_Black \n",
      "Run MR-APSS ... \n",
      "IV selection threshold: 5e-06 \n",
      "***********************************************************\n",
      "MR test results of  HBP  on  Hair_Black : \n",
      "MR-APSS: beta =  -0.0166 , beta.se =  0.0204 , p-value =  4.1525e-01 . \n",
      "Total NO. of IVs=  406 , NO. of valid IVs with foreground signals:  140.0709 . \n",
      "***********************************************************\n",
      "   user  system elapsed \n",
      " 17.964   5.269  11.700 \n",
      "IV selection threshold: 5e-07 \n",
      "***********************************************************\n",
      "MR test results of  HBP  on  Hair_Black : \n",
      "MR-APSS: beta =  -0.0173 , beta.se =  0.0223 , p-value =  4.3679e-01 . \n",
      "Total NO. of IVs=  270 , NO. of valid IVs with foreground signals:  109.8948 . \n",
      "***********************************************************\n",
      "   user  system elapsed \n",
      "  9.352   2.739   6.049 \n",
      "IV selection threshold: 5e-08 \n",
      "***********************************************************\n",
      "MR test results of  HBP  on  Hair_Black : \n",
      "MR-APSS: beta =  -0.0166 , beta.se =  0.024 , p-value =  4.8954e-01 . \n",
      "Total NO. of IVs=  197 , NO. of valid IVs with foreground signals:  85.95429 . \n",
      "***********************************************************\n",
      "   user  system elapsed \n",
      "  5.081   1.623   3.352 \n",
      "Run MR-APSS not accounting for selection bias ... \n",
      "IV selection threshold: 5e-06 \n"
     ]
    },
    {
     "name": "stderr",
     "output_type": "stream",
     "text": [
      "Threshold = 1, the model will not correct for selection bias\n",
      "\n"
     ]
    },
    {
     "name": "stdout",
     "output_type": "stream",
     "text": [
      "***********************************************************\n",
      "MR test results of  HBP  on  Hair_Black : \n",
      "MR-APSS: beta =  -0.008 , beta.se =  0.0125 , p-value =  5.2224e-01 . \n",
      "Total NO. of IVs=  406 , NO. of valid IVs with foreground signals:  405.9591 . \n",
      "***********************************************************\n",
      "   user  system elapsed \n",
      " 22.213   6.879  14.637 \n",
      "IV selection threshold: 5e-07 \n"
     ]
    },
    {
     "name": "stderr",
     "output_type": "stream",
     "text": [
      "Threshold = 1, the model will not correct for selection bias\n",
      "\n"
     ]
    },
    {
     "name": "stdout",
     "output_type": "stream",
     "text": [
      "***********************************************************\n",
      "MR test results of  HBP  on  Hair_Black : \n",
      "MR-APSS: beta =  -0.0099 , beta.se =  0.014 , p-value =  4.8022e-01 . \n",
      "Total NO. of IVs=  270 , NO. of valid IVs with foreground signals:  269.9727 . \n",
      "***********************************************************\n",
      "   user  system elapsed \n",
      "  2.197   0.659   1.428 \n",
      "IV selection threshold: 5e-08 \n"
     ]
    },
    {
     "name": "stderr",
     "output_type": "stream",
     "text": [
      "Threshold = 1, the model will not correct for selection bias\n",
      "\n"
     ]
    },
    {
     "name": "stdout",
     "output_type": "stream",
     "text": [
      "***********************************************************\n",
      "MR test results of  HBP  on  Hair_Black : \n",
      "MR-APSS: beta =  -0.0115 , beta.se =  0.0154 , p-value =  4.5361e-01 . \n",
      "Total NO. of IVs=  197 , NO. of valid IVs with foreground signals:  196.98 . \n",
      "***********************************************************\n",
      "   user  system elapsed \n",
      "  2.896   0.867   1.882 \n",
      "Pair:  HBP ~ Hair_Blonde \n",
      "Run MR-APSS ... \n",
      "IV selection threshold: 5e-06 \n",
      "***********************************************************\n",
      "MR test results of  HBP  on  Hair_Blonde : \n",
      "MR-APSS: beta =  -0.0058 , beta.se =  0.0234 , p-value =  8.0308e-01 . \n",
      "Total NO. of IVs=  406 , NO. of valid IVs with foreground signals:  140.3203 . \n",
      "***********************************************************\n",
      "   user  system elapsed \n",
      "  9.820   2.792   6.413 \n",
      "IV selection threshold: 5e-07 \n",
      "***********************************************************\n",
      "MR test results of  HBP  on  Hair_Blonde : \n",
      "MR-APSS: beta =  -0.0043 , beta.se =  0.0253 , p-value =  8.6434e-01 . \n",
      "Total NO. of IVs=  270 , NO. of valid IVs with foreground signals:  108.459 . \n",
      "***********************************************************\n",
      "   user  system elapsed \n",
      "  6.218   1.745   3.983 \n",
      "IV selection threshold: 5e-08 \n",
      "***********************************************************\n",
      "MR test results of  HBP  on  Hair_Blonde : \n",
      "MR-APSS: beta =  -0.0151 , beta.se =  0.0264 , p-value =  5.6871e-01 . \n",
      "Total NO. of IVs=  197 , NO. of valid IVs with foreground signals:  84.14175 . \n",
      "***********************************************************\n",
      "   user  system elapsed \n",
      "  4.705   1.422   3.065 \n",
      "Run MR-APSS not accounting for selection bias ... \n",
      "IV selection threshold: 5e-06 \n"
     ]
    },
    {
     "name": "stderr",
     "output_type": "stream",
     "text": [
      "Threshold = 1, the model will not correct for selection bias\n",
      "\n"
     ]
    },
    {
     "name": "stdout",
     "output_type": "stream",
     "text": [
      "***********************************************************\n",
      "MR test results of  HBP  on  Hair_Blonde : \n",
      "MR-APSS: beta =  -0.0079 , beta.se =  0.0133 , p-value =  5.5165e-01 . \n",
      "Total NO. of IVs=  406 , NO. of valid IVs with foreground signals:  405.9589 . \n",
      "***********************************************************\n",
      "   user  system elapsed \n",
      " 12.052   3.484   7.818 \n",
      "IV selection threshold: 5e-07 \n"
     ]
    },
    {
     "name": "stderr",
     "output_type": "stream",
     "text": [
      "Threshold = 1, the model will not correct for selection bias\n",
      "\n"
     ]
    },
    {
     "name": "stdout",
     "output_type": "stream",
     "text": [
      "***********************************************************\n",
      "MR test results of  HBP  on  Hair_Blonde : \n",
      "MR-APSS: beta =  -0.0044 , beta.se =  0.015 , p-value =  7.6924e-01 . \n",
      "Total NO. of IVs=  270 , NO. of valid IVs with foreground signals:  269.9725 . \n",
      "***********************************************************\n",
      "   user  system elapsed \n",
      "  6.742   2.202   4.474 \n",
      "IV selection threshold: 5e-08 \n"
     ]
    },
    {
     "name": "stderr",
     "output_type": "stream",
     "text": [
      "Threshold = 1, the model will not correct for selection bias\n",
      "\n"
     ]
    },
    {
     "name": "stdout",
     "output_type": "stream",
     "text": [
      "***********************************************************\n",
      "MR test results of  HBP  on  Hair_Blonde : \n",
      "MR-APSS: beta =  -0.0086 , beta.se =  0.0163 , p-value =  5.9863e-01 . \n",
      "Total NO. of IVs=  197 , NO. of valid IVs with foreground signals:  196.9797 . \n",
      "***********************************************************\n",
      "   user  system elapsed \n",
      "  5.360   1.655   3.509 \n",
      "Pair:  HBP ~ Tanning \n",
      "Run MR-APSS ... \n",
      "IV selection threshold: 5e-06 \n",
      "***********************************************************\n",
      "MR test results of  HBP  on  Tanning : \n",
      "MR-APSS: beta =  -0.0304 , beta.se =  0.0214 , p-value =  1.5541e-01 . \n",
      "Total NO. of IVs=  405 , NO. of valid IVs with foreground signals:  142.1068 . \n",
      "***********************************************************\n",
      "   user  system elapsed \n",
      " 44.357  13.005  28.868 \n",
      "IV selection threshold: 5e-07 \n",
      "***********************************************************\n",
      "MR test results of  HBP  on  Tanning : \n",
      "MR-APSS: beta =  -0.0244 , beta.se =  0.0228 , p-value =  2.8361e-01 . \n",
      "Total NO. of IVs=  269 , NO. of valid IVs with foreground signals:  110.5107 . \n",
      "***********************************************************\n",
      "   user  system elapsed \n",
      " 20.588   5.977  13.287 \n",
      "IV selection threshold: 5e-08 \n",
      "***********************************************************\n",
      "MR test results of  HBP  on  Tanning : \n",
      "MR-APSS: beta =  -0.0162 , beta.se =  0.0242 , p-value =  5.0435e-01 . \n",
      "Total NO. of IVs=  196 , NO. of valid IVs with foreground signals:  85.73253 . \n",
      "***********************************************************\n",
      "   user  system elapsed \n",
      " 13.744   4.070   8.909 \n",
      "Run MR-APSS not accounting for selection bias ... \n",
      "IV selection threshold: 5e-06 \n"
     ]
    },
    {
     "name": "stderr",
     "output_type": "stream",
     "text": [
      "Threshold = 1, the model will not correct for selection bias\n",
      "\n"
     ]
    },
    {
     "name": "stdout",
     "output_type": "stream",
     "text": [
      "***********************************************************\n",
      "MR test results of  HBP  on  Tanning : \n",
      "MR-APSS: beta =  -0.0391 , beta.se =  0.0141 , p-value =  5.5537e-03 . \n",
      "Total NO. of IVs=  405 , NO. of valid IVs with foreground signals:  404.9592 . \n",
      "***********************************************************\n",
      "   user  system elapsed \n",
      " 90.660  26.222  59.716 \n",
      "IV selection threshold: 5e-07 \n"
     ]
    },
    {
     "name": "stderr",
     "output_type": "stream",
     "text": [
      "Threshold = 1, the model will not correct for selection bias\n",
      "\n"
     ]
    },
    {
     "name": "stdout",
     "output_type": "stream",
     "text": [
      "***********************************************************\n",
      "MR test results of  HBP  on  Tanning : \n",
      "MR-APSS: beta =  -0.0362 , beta.se =  0.0159 , p-value =  2.2532e-02 . \n",
      "Total NO. of IVs=  269 , NO. of valid IVs with foreground signals:  268.9727 . \n",
      "***********************************************************\n",
      "   user  system elapsed \n",
      " 45.990  13.903  29.959 \n",
      "IV selection threshold: 5e-08 \n"
     ]
    },
    {
     "name": "stderr",
     "output_type": "stream",
     "text": [
      "Threshold = 1, the model will not correct for selection bias\n",
      "\n"
     ]
    },
    {
     "name": "stdout",
     "output_type": "stream",
     "text": [
      "***********************************************************\n",
      "MR test results of  HBP  on  Tanning : \n",
      "MR-APSS: beta =  -0.0438 , beta.se =  0.0171 , p-value =  1.0538e-02 . \n",
      "Total NO. of IVs=  196 , NO. of valid IVs with foreground signals:  195.9799 . \n",
      "***********************************************************\n",
      "   user  system elapsed \n",
      " 39.456  12.013  25.741 \n",
      "Pair:  Income ~ Hair_Light_Brown \n",
      "Run MR-APSS ... \n",
      "IV selection threshold: 5e-06 \n",
      "***********************************************************\n",
      "MR test results of  Income  on  Hair_Light_Brown : \n",
      "MR-APSS: beta =  0.0099 , beta.se =  0.0614 , p-value =  8.7155e-01 . \n",
      "Total NO. of IVs=  100 , NO. of valid IVs with foreground signals:  26.46085 . \n",
      "***********************************************************\n",
      "   user  system elapsed \n",
      " 12.057   3.843   7.953 \n",
      "IV selection threshold: 5e-07 \n",
      "***********************************************************\n",
      "MR test results of  Income  on  Hair_Light_Brown : \n",
      "MR-APSS: beta =  0.0145 , beta.se =  0.0652 , p-value =  8.2374e-01 . \n",
      "Total NO. of IVs=  42 , NO. of valid IVs with foreground signals:  16.83871 . \n",
      "***********************************************************\n",
      "   user  system elapsed \n",
      " 17.391   5.209  11.303 \n",
      "IV selection threshold: 5e-08 \n",
      "***********************************************************\n",
      "MR test results of  Income  on  Hair_Light_Brown : \n",
      "MR-APSS: beta =  -0.0154 , beta.se =  0.0808 , p-value =  8.4895e-01 . \n",
      "Total NO. of IVs=  25 , NO. of valid IVs with foreground signals:  7.947255 . \n",
      "***********************************************************\n",
      "   user  system elapsed \n",
      "  1.630   0.432   1.031 \n",
      "Run MR-APSS not accounting for selection bias ... \n",
      "IV selection threshold: 5e-06 \n"
     ]
    },
    {
     "name": "stderr",
     "output_type": "stream",
     "text": [
      "Threshold = 1, the model will not correct for selection bias\n",
      "\n"
     ]
    },
    {
     "name": "stdout",
     "output_type": "stream",
     "text": [
      "***********************************************************\n",
      "MR test results of  Income  on  Hair_Light_Brown : \n",
      "MR-APSS: beta =  -0.0045 , beta.se =  0.0243 , p-value =  8.5154e-01 . \n",
      "Total NO. of IVs=  100 , NO. of valid IVs with foreground signals:  99.99 . \n",
      "***********************************************************\n",
      "   user  system elapsed \n",
      "  1.661   0.481   1.071 \n",
      "IV selection threshold: 5e-07 \n"
     ]
    },
    {
     "name": "stderr",
     "output_type": "stream",
     "text": [
      "Threshold = 1, the model will not correct for selection bias\n",
      "\n"
     ]
    },
    {
     "name": "stdout",
     "output_type": "stream",
     "text": [
      "***********************************************************\n",
      "MR test results of  Income  on  Hair_Light_Brown : \n",
      "MR-APSS: beta =  0.0061 , beta.se =  0.0339 , p-value =  8.5709e-01 . \n",
      "Total NO. of IVs=  42 , NO. of valid IVs with foreground signals:  41.9958 . \n",
      "***********************************************************\n",
      "   user  system elapsed \n",
      "  1.312   0.376   0.844 \n",
      "IV selection threshold: 5e-08 \n"
     ]
    },
    {
     "name": "stderr",
     "output_type": "stream",
     "text": [
      "Threshold = 1, the model will not correct for selection bias\n",
      "\n"
     ]
    },
    {
     "name": "stdout",
     "output_type": "stream",
     "text": [
      "***********************************************************\n",
      "MR test results of  Income  on  Hair_Light_Brown : \n",
      "MR-APSS: beta =  -7e-04 , beta.se =  0.0378 , p-value =  9.8446e-01 . \n",
      "Total NO. of IVs=  25 , NO. of valid IVs with foreground signals:  24.9975 . \n",
      "***********************************************************\n",
      "   user  system elapsed \n",
      "  0.124   0.043   0.083 \n",
      "Pair:  Income ~ Hair_Dark_Brown \n",
      "Run MR-APSS ... \n",
      "IV selection threshold: 5e-06 \n",
      "***********************************************************\n",
      "MR test results of  Income  on  Hair_Dark_Brown : \n",
      "MR-APSS: beta =  0.1887 , beta.se =  0.1492 , p-value =  2.0596e-01 . \n",
      "Total NO. of IVs=  100 , NO. of valid IVs with foreground signals:  18.06964 . \n",
      "***********************************************************\n",
      "   user  system elapsed \n",
      "  4.563   1.508   3.036 \n",
      "IV selection threshold: 5e-07 \n",
      "***********************************************************\n",
      "MR test results of  Income  on  Hair_Dark_Brown : \n",
      "MR-APSS: beta =  0.1347 , beta.se =  0.1755 , p-value =  4.4280e-01 . \n",
      "Total NO. of IVs=  42 , NO. of valid IVs with foreground signals:  11.08419 . \n",
      "***********************************************************\n",
      "   user  system elapsed \n",
      "  2.163   0.610   1.388 \n",
      "IV selection threshold: 5e-08 \n",
      "***********************************************************\n",
      "MR test results of  Income  on  Hair_Dark_Brown : \n",
      "MR-APSS: beta =  0.0175 , beta.se =  0.0919 , p-value =  8.4932e-01 . \n",
      "Total NO. of IVs=  25 , NO. of valid IVs with foreground signals:  8.141313 . \n",
      "***********************************************************\n",
      "   user  system elapsed \n",
      "  1.410   0.440   0.926 \n",
      "Run MR-APSS not accounting for selection bias ... \n",
      "IV selection threshold: 5e-06 \n"
     ]
    },
    {
     "name": "stderr",
     "output_type": "stream",
     "text": [
      "Threshold = 1, the model will not correct for selection bias\n",
      "\n"
     ]
    },
    {
     "name": "stdout",
     "output_type": "stream",
     "text": [
      "***********************************************************\n",
      "MR test results of  Income  on  Hair_Dark_Brown : \n",
      "MR-APSS: beta =  0.0695 , beta.se =  0.036 , p-value =  5.3469e-02 . \n",
      "Total NO. of IVs=  100 , NO. of valid IVs with foreground signals:  99.99 . \n",
      "***********************************************************\n",
      "   user  system elapsed \n",
      "  1.903   0.460   1.181 \n",
      "IV selection threshold: 5e-07 \n"
     ]
    },
    {
     "name": "stderr",
     "output_type": "stream",
     "text": [
      "Threshold = 1, the model will not correct for selection bias\n",
      "\n"
     ]
    },
    {
     "name": "stdout",
     "output_type": "stream",
     "text": [
      "***********************************************************\n",
      "MR test results of  Income  on  Hair_Dark_Brown : \n",
      "MR-APSS: beta =  0.0748 , beta.se =  0.0572 , p-value =  1.9094e-01 . \n",
      "Total NO. of IVs=  42 , NO. of valid IVs with foreground signals:  41.9958 . \n",
      "***********************************************************\n",
      "   user  system elapsed \n",
      "  0.720   0.171   0.445 \n",
      "IV selection threshold: 5e-08 \n"
     ]
    },
    {
     "name": "stderr",
     "output_type": "stream",
     "text": [
      "Threshold = 1, the model will not correct for selection bias\n",
      "\n"
     ]
    },
    {
     "name": "stdout",
     "output_type": "stream",
     "text": [
      "***********************************************************\n",
      "MR test results of  Income  on  Hair_Dark_Brown : \n",
      "MR-APSS: beta =  0.0198 , beta.se =  0.0449 , p-value =  6.5938e-01 . \n",
      "Total NO. of IVs=  25 , NO. of valid IVs with foreground signals:  24.9975 . \n",
      "***********************************************************\n",
      "   user  system elapsed \n",
      "  0.143   0.038   0.090 \n",
      "Pair:  Income ~ Hair_Black \n",
      "Run MR-APSS ... \n",
      "IV selection threshold: 5e-06 \n",
      "***********************************************************\n",
      "MR test results of  Income  on  Hair_Black : \n",
      "MR-APSS: beta =  0.0256 , beta.se =  0.0888 , p-value =  7.7280e-01 . \n",
      "Total NO. of IVs=  100 , NO. of valid IVs with foreground signals:  22.81167 . \n",
      "***********************************************************\n",
      "   user  system elapsed \n",
      "  5.423   1.644   3.534 \n",
      "IV selection threshold: 5e-07 \n",
      "***********************************************************\n",
      "MR test results of  Income  on  Hair_Black : \n",
      "MR-APSS: beta =  0.0756 , beta.se =  0.1069 , p-value =  4.7931e-01 . \n",
      "Total NO. of IVs=  42 , NO. of valid IVs with foreground signals:  14.37974 . \n",
      "***********************************************************\n",
      "   user  system elapsed \n",
      "  3.244   0.919   2.082 \n",
      "IV selection threshold: 5e-08 \n",
      "***********************************************************\n",
      "MR test results of  Income  on  Hair_Black : \n",
      "MR-APSS: beta =  0.0555 , beta.se =  0.1284 , p-value =  6.6537e-01 . \n",
      "Total NO. of IVs=  25 , NO. of valid IVs with foreground signals:  7.522913 . \n",
      "***********************************************************\n",
      "   user  system elapsed \n",
      "  2.309   0.796   1.553 \n",
      "Run MR-APSS not accounting for selection bias ... \n",
      "IV selection threshold: 5e-06 \n"
     ]
    },
    {
     "name": "stderr",
     "output_type": "stream",
     "text": [
      "Threshold = 1, the model will not correct for selection bias\n",
      "\n"
     ]
    },
    {
     "name": "stdout",
     "output_type": "stream",
     "text": [
      "***********************************************************\n",
      "MR test results of  Income  on  Hair_Black : \n",
      "MR-APSS: beta =  -0.0508 , beta.se =  0.0275 , p-value =  6.4420e-02 . \n",
      "Total NO. of IVs=  100 , NO. of valid IVs with foreground signals:  99.99 . \n",
      "***********************************************************\n",
      "   user  system elapsed \n",
      " 10.929   3.074   7.002 \n",
      "IV selection threshold: 5e-07 \n"
     ]
    },
    {
     "name": "stderr",
     "output_type": "stream",
     "text": [
      "Threshold = 1, the model will not correct for selection bias\n",
      "\n"
     ]
    },
    {
     "name": "stdout",
     "output_type": "stream",
     "text": [
      "***********************************************************\n",
      "MR test results of  Income  on  Hair_Black : \n",
      "MR-APSS: beta =  -0.022 , beta.se =  0.041 , p-value =  5.9127e-01 . \n",
      "Total NO. of IVs=  42 , NO. of valid IVs with foreground signals:  41.9958 . \n",
      "***********************************************************\n",
      "   user  system elapsed \n",
      "  2.021   0.610   1.315 \n",
      "IV selection threshold: 5e-08 \n"
     ]
    },
    {
     "name": "stderr",
     "output_type": "stream",
     "text": [
      "Threshold = 1, the model will not correct for selection bias\n",
      "\n"
     ]
    },
    {
     "name": "stdout",
     "output_type": "stream",
     "text": [
      "***********************************************************\n",
      "MR test results of  Income  on  Hair_Black : \n",
      "MR-APSS: beta =  -0.0165 , beta.se =  0.0432 , p-value =  7.0293e-01 . \n",
      "Total NO. of IVs=  25 , NO. of valid IVs with foreground signals:  24.9975 . \n",
      "***********************************************************\n",
      "   user  system elapsed \n",
      " 45.996  13.973  29.990 \n",
      "Pair:  Income ~ Hair_Blonde \n",
      "Run MR-APSS ... \n",
      "IV selection threshold: 5e-06 \n",
      "***********************************************************\n",
      "MR test results of  Income  on  Hair_Blonde : \n",
      "MR-APSS: beta =  -0.0214 , beta.se =  0.0817 , p-value =  7.9282e-01 . \n",
      "Total NO. of IVs=  100 , NO. of valid IVs with foreground signals:  22.58281 . \n",
      "***********************************************************\n",
      "   user  system elapsed \n",
      " 13.820   4.462   9.143 \n",
      "IV selection threshold: 5e-07 \n",
      "***********************************************************\n",
      "MR test results of  Income  on  Hair_Blonde : \n",
      "MR-APSS: beta =  0.0182 , beta.se =  0.0661 , p-value =  7.8332e-01 . \n",
      "Total NO. of IVs=  42 , NO. of valid IVs with foreground signals:  16.4529 . \n",
      "***********************************************************\n",
      "   user  system elapsed \n",
      "  2.626   0.816   1.722 \n",
      "IV selection threshold: 5e-08 \n",
      "***********************************************************\n",
      "MR test results of  Income  on  Hair_Blonde : \n",
      "MR-APSS: beta =  -0.0129 , beta.se =  0.0983 , p-value =  8.9542e-01 . \n",
      "Total NO. of IVs=  25 , NO. of valid IVs with foreground signals:  8.079621 . \n",
      "***********************************************************\n",
      "   user  system elapsed \n",
      "  1.623   0.527   1.076 \n",
      "Run MR-APSS not accounting for selection bias ... \n",
      "IV selection threshold: 5e-06 \n"
     ]
    },
    {
     "name": "stderr",
     "output_type": "stream",
     "text": [
      "Threshold = 1, the model will not correct for selection bias\n",
      "\n"
     ]
    },
    {
     "name": "stdout",
     "output_type": "stream",
     "text": [
      "***********************************************************\n",
      "MR test results of  Income  on  Hair_Blonde : \n",
      "MR-APSS: beta =  -0.0111 , beta.se =  0.026 , p-value =  6.6923e-01 . \n",
      "Total NO. of IVs=  100 , NO. of valid IVs with foreground signals:  99.99 . \n",
      "***********************************************************\n",
      "   user  system elapsed \n",
      " 14.225   4.316   9.273 \n",
      "IV selection threshold: 5e-07 \n"
     ]
    },
    {
     "name": "stderr",
     "output_type": "stream",
     "text": [
      "Threshold = 1, the model will not correct for selection bias\n",
      "\n"
     ]
    },
    {
     "name": "stdout",
     "output_type": "stream",
     "text": [
      "***********************************************************\n",
      "MR test results of  Income  on  Hair_Blonde : \n",
      "MR-APSS: beta =  -0.0105 , beta.se =  0.0342 , p-value =  7.5999e-01 . \n",
      "Total NO. of IVs=  42 , NO. of valid IVs with foreground signals:  41.9958 . \n",
      "***********************************************************\n",
      "   user  system elapsed \n",
      "  0.214   0.076   0.145 \n",
      "IV selection threshold: 5e-08 \n"
     ]
    },
    {
     "name": "stderr",
     "output_type": "stream",
     "text": [
      "Threshold = 1, the model will not correct for selection bias\n",
      "\n"
     ]
    },
    {
     "name": "stdout",
     "output_type": "stream",
     "text": [
      "***********************************************************\n",
      "MR test results of  Income  on  Hair_Blonde : \n",
      "MR-APSS: beta =  -0.0038 , beta.se =  0.0423 , p-value =  9.2845e-01 . \n",
      "Total NO. of IVs=  25 , NO. of valid IVs with foreground signals:  24.9975 . \n",
      "***********************************************************\n",
      "   user  system elapsed \n",
      "  0.147   0.036   0.091 \n",
      "Pair:  Income ~ Tanning \n",
      "Run MR-APSS ... \n",
      "IV selection threshold: 5e-06 \n",
      "***********************************************************\n",
      "MR test results of  Income  on  Tanning : \n",
      "MR-APSS: beta =  -0.1964 , beta.se =  0.1029 , p-value =  5.6461e-02 . \n",
      "Total NO. of IVs=  99 , NO. of valid IVs with foreground signals:  25.41384 . \n",
      "***********************************************************\n",
      "   user  system elapsed \n",
      "  9.231   2.785   6.009 \n",
      "IV selection threshold: 5e-07 \n",
      "***********************************************************\n",
      "MR test results of  Income  on  Tanning : \n",
      "MR-APSS: beta =  -0.2337 , beta.se =  0.1117 , p-value =  3.6517e-02 . \n",
      "Total NO. of IVs=  41 , NO. of valid IVs with foreground signals:  17.18603 . \n",
      "***********************************************************\n",
      "   user  system elapsed \n",
      "  4.081   1.185   2.634 \n",
      "IV selection threshold: 5e-08 \n",
      "***********************************************************\n",
      "MR test results of  Income  on  Tanning : \n",
      "MR-APSS: beta =  -0.3021 , beta.se =  0.1324 , p-value =  2.2523e-02 . \n",
      "Total NO. of IVs=  25 , NO. of valid IVs with foreground signals:  8.448727 . \n",
      "***********************************************************\n",
      "   user  system elapsed \n",
      "  8.294   2.563   5.430 \n",
      "Run MR-APSS not accounting for selection bias ... \n",
      "IV selection threshold: 5e-06 \n"
     ]
    },
    {
     "name": "stderr",
     "output_type": "stream",
     "text": [
      "Threshold = 1, the model will not correct for selection bias\n",
      "\n"
     ]
    },
    {
     "name": "stdout",
     "output_type": "stream",
     "text": [
      "***********************************************************\n",
      "MR test results of  Income  on  Tanning : \n",
      "MR-APSS: beta =  -0.0461 , beta.se =  0.0334 , p-value =  1.6751e-01 . \n",
      "Total NO. of IVs=  99 , NO. of valid IVs with foreground signals:  98.9901 . \n",
      "***********************************************************\n",
      "   user  system elapsed \n",
      "  5.255   1.567   3.412 \n",
      "IV selection threshold: 5e-07 \n"
     ]
    },
    {
     "name": "stderr",
     "output_type": "stream",
     "text": [
      "Threshold = 1, the model will not correct for selection bias\n",
      "\n"
     ]
    },
    {
     "name": "stdout",
     "output_type": "stream",
     "text": [
      "***********************************************************\n",
      "MR test results of  Income  on  Tanning : \n",
      "MR-APSS: beta =  -0.0895 , beta.se =  0.0514 , p-value =  8.1447e-02 . \n",
      "Total NO. of IVs=  41 , NO. of valid IVs with foreground signals:  40.9959 . \n",
      "***********************************************************\n",
      "   user  system elapsed \n",
      "  1.257   0.363   0.810 \n",
      "IV selection threshold: 5e-08 \n"
     ]
    },
    {
     "name": "stderr",
     "output_type": "stream",
     "text": [
      "Threshold = 1, the model will not correct for selection bias\n",
      "\n"
     ]
    },
    {
     "name": "stdout",
     "output_type": "stream",
     "text": [
      "***********************************************************\n",
      "MR test results of  Income  on  Tanning : \n",
      "MR-APSS: beta =  -0.1137 , beta.se =  0.06 , p-value =  5.8125e-02 . \n",
      "Total NO. of IVs=  25 , NO. of valid IVs with foreground signals:  24.9975 . \n",
      "***********************************************************\n",
      "   user  system elapsed \n",
      "  1.220   0.367   0.794 \n",
      "Pair:  NEB ~ Hair_Light_Brown \n",
      "Run MR-APSS ... \n",
      "IV selection threshold: 5e-06 \n",
      "***********************************************************\n",
      "MR test results of  NEB  on  Hair_Light_Brown : \n",
      "MR-APSS: beta =  0.867 , beta.se =  0.6177 , p-value =  1.6043e-01 . \n",
      "Total NO. of IVs=  9 , NO. of valid IVs with foreground signals:  8.998711 . \n",
      "***********************************************************\n",
      "   user  system elapsed \n",
      " 20.866   6.391  13.631 \n",
      "Run MR-APSS not accounting for selection bias ... \n",
      "IV selection threshold: 5e-06 \n"
     ]
    },
    {
     "name": "stderr",
     "output_type": "stream",
     "text": [
      "Threshold = 1, the model will not correct for selection bias\n",
      "\n"
     ]
    },
    {
     "name": "stdout",
     "output_type": "stream",
     "text": [
      "***********************************************************\n",
      "MR test results of  NEB  on  Hair_Light_Brown : \n",
      "MR-APSS: beta =  0.1206 , beta.se =  0.1001 , p-value =  2.2840e-01 . \n",
      "Total NO. of IVs=  9 , NO. of valid IVs with foreground signals:  8.9991 . \n",
      "***********************************************************\n",
      "   user  system elapsed \n",
      " 10.340   3.121   6.732 \n",
      "Pair:  NEB ~ Hair_Dark_Brown \n",
      "Run MR-APSS ... \n",
      "IV selection threshold: 5e-06 \n",
      "***********************************************************\n",
      "MR test results of  NEB  on  Hair_Dark_Brown : \n",
      "MR-APSS: beta =  -0.9011 , beta.se =  0.7734 , p-value =  2.4397e-01 . \n",
      "Total NO. of IVs=  9 , NO. of valid IVs with foreground signals:  8.998848 . \n",
      "***********************************************************\n",
      "   user  system elapsed \n",
      " 15.225   4.501   9.865 \n",
      "Run MR-APSS not accounting for selection bias ... \n",
      "IV selection threshold: 5e-06 \n"
     ]
    },
    {
     "name": "stderr",
     "output_type": "stream",
     "text": [
      "Threshold = 1, the model will not correct for selection bias\n",
      "\n"
     ]
    },
    {
     "name": "stdout",
     "output_type": "stream",
     "text": [
      "***********************************************************\n",
      "MR test results of  NEB  on  Hair_Dark_Brown : \n",
      "MR-APSS: beta =  -0.0968 , beta.se =  0.1155 , p-value =  4.0203e-01 . \n",
      "Total NO. of IVs=  9 , NO. of valid IVs with foreground signals:  8.9991 . \n",
      "***********************************************************\n",
      "   user  system elapsed \n",
      " 19.655   6.004  12.832 \n",
      "Pair:  NEB ~ Hair_Black \n",
      "Run MR-APSS ... \n",
      "IV selection threshold: 5e-06 \n",
      "***********************************************************\n",
      "MR test results of  NEB  on  Hair_Black : \n",
      "MR-APSS: beta =  -0.3173 , beta.se =  0.6704 , p-value =  6.3602e-01 . \n",
      "Total NO. of IVs=  9 , NO. of valid IVs with foreground signals:  8.999042 . \n",
      "***********************************************************\n",
      "   user  system elapsed \n",
      " 14.210   4.466   9.340 \n",
      "Run MR-APSS not accounting for selection bias ... \n",
      "IV selection threshold: 5e-06 \n"
     ]
    },
    {
     "name": "stderr",
     "output_type": "stream",
     "text": [
      "Threshold = 1, the model will not correct for selection bias\n",
      "\n"
     ]
    },
    {
     "name": "stdout",
     "output_type": "stream",
     "text": [
      "***********************************************************\n",
      "MR test results of  NEB  on  Hair_Black : \n",
      "MR-APSS: beta =  -0.0967 , beta.se =  0.1096 , p-value =  3.7781e-01 . \n",
      "Total NO. of IVs=  9 , NO. of valid IVs with foreground signals:  8.9991 . \n",
      "***********************************************************\n",
      "   user  system elapsed \n",
      "  0.086   0.015   0.051 \n",
      "Pair:  NEB ~ Hair_Blonde \n",
      "Run MR-APSS ... \n",
      "IV selection threshold: 5e-06 \n",
      "***********************************************************\n",
      "MR test results of  NEB  on  Hair_Blonde : \n",
      "MR-APSS: beta =  0.7501 , beta.se =  0.7487 , p-value =  3.1639e-01 . \n",
      "Total NO. of IVs=  9 , NO. of valid IVs with foreground signals:  8.99895 . \n",
      "***********************************************************\n",
      "   user  system elapsed \n",
      " 16.236   4.935  10.587 \n",
      "Run MR-APSS not accounting for selection bias ... \n",
      "IV selection threshold: 5e-06 \n"
     ]
    },
    {
     "name": "stderr",
     "output_type": "stream",
     "text": [
      "Threshold = 1, the model will not correct for selection bias\n",
      "\n"
     ]
    },
    {
     "name": "stdout",
     "output_type": "stream",
     "text": [
      "***********************************************************\n",
      "MR test results of  NEB  on  Hair_Blonde : \n",
      "MR-APSS: beta =  0.1037 , beta.se =  0.1096 , p-value =  3.4404e-01 . \n",
      "Total NO. of IVs=  9 , NO. of valid IVs with foreground signals:  8.9991 . \n",
      "***********************************************************\n",
      "   user  system elapsed \n",
      " 23.845   7.220  15.536 \n",
      "Pair:  NEB ~ Tanning \n",
      "Run MR-APSS ... \n",
      "IV selection threshold: 5e-06 \n",
      "***********************************************************\n",
      "MR test results of  NEB  on  Tanning : \n",
      "MR-APSS: beta =  2.3447 , beta.se =  1.1126 , p-value =  3.5079e-02 . \n",
      "Total NO. of IVs=  9 , NO. of valid IVs with foreground signals:  8.996246 . \n",
      "***********************************************************\n",
      "   user  system elapsed \n",
      " 12.958   3.719   8.339 \n",
      "Run MR-APSS not accounting for selection bias ... \n",
      "IV selection threshold: 5e-06 \n"
     ]
    },
    {
     "name": "stderr",
     "output_type": "stream",
     "text": [
      "Threshold = 1, the model will not correct for selection bias\n",
      "\n"
     ]
    },
    {
     "name": "stdout",
     "output_type": "stream",
     "text": [
      "***********************************************************\n",
      "MR test results of  NEB  on  Tanning : \n",
      "MR-APSS: beta =  0.3897 , beta.se =  0.1771 , p-value =  2.7793e-02 . \n",
      "Total NO. of IVs=  9 , NO. of valid IVs with foreground signals:  8.9991 . \n",
      "***********************************************************\n",
      "   user  system elapsed \n",
      "  0.641   0.172   0.407 \n",
      "Pair:  Smoking ~ Hair_Light_Brown \n",
      "Run MR-APSS ... \n",
      "IV selection threshold: 5e-06 \n",
      "***********************************************************\n",
      "MR test results of  Smoking  on  Hair_Light_Brown : \n",
      "MR-APSS: beta =  -0.0131 , beta.se =  0.0739 , p-value =  8.5961e-01 . \n",
      "Total NO. of IVs=  43 , NO. of valid IVs with foreground signals:  28.74026 . \n",
      "***********************************************************\n",
      "   user  system elapsed \n",
      "  7.985   2.579   5.283 \n",
      "IV selection threshold: 5e-07 \n",
      "***********************************************************\n",
      "MR test results of  Smoking  on  Hair_Light_Brown : \n",
      "MR-APSS: beta =  -0.0643 , beta.se =  0.081 , p-value =  4.2742e-01 . \n",
      "Total NO. of IVs=  16 , NO. of valid IVs with foreground signals:  15.99523 . \n",
      "***********************************************************\n",
      "   user  system elapsed \n",
      "  5.104   1.435   3.270 \n",
      "IV selection threshold: 5e-08 \n",
      "***********************************************************\n",
      "MR test results of  Smoking  on  Hair_Light_Brown : \n",
      "MR-APSS: beta =  -0.0837 , beta.se =  0.125 , p-value =  5.0293e-01 . \n",
      "Total NO. of IVs=  9 , NO. of valid IVs with foreground signals:  6.76833 . \n",
      "***********************************************************\n",
      "   user  system elapsed \n",
      "  2.321   0.697   1.509 \n",
      "Run MR-APSS not accounting for selection bias ... \n",
      "IV selection threshold: 5e-06 \n"
     ]
    },
    {
     "name": "stderr",
     "output_type": "stream",
     "text": [
      "Threshold = 1, the model will not correct for selection bias\n",
      "\n"
     ]
    },
    {
     "name": "stdout",
     "output_type": "stream",
     "text": [
      "***********************************************************\n",
      "MR test results of  Smoking  on  Hair_Light_Brown : \n",
      "MR-APSS: beta =  0.0031 , beta.se =  0.0341 , p-value =  9.2682e-01 . \n",
      "Total NO. of IVs=  43 , NO. of valid IVs with foreground signals:  42.9957 . \n",
      "***********************************************************\n",
      "   user  system elapsed \n",
      "  0.216   0.096   0.156 \n",
      "IV selection threshold: 5e-07 \n"
     ]
    },
    {
     "name": "stderr",
     "output_type": "stream",
     "text": [
      "Threshold = 1, the model will not correct for selection bias\n",
      "\n"
     ]
    },
    {
     "name": "stdout",
     "output_type": "stream",
     "text": [
      "***********************************************************\n",
      "MR test results of  Smoking  on  Hair_Light_Brown : \n",
      "MR-APSS: beta =  -0.037 , beta.se =  0.0507 , p-value =  4.6598e-01 . \n",
      "Total NO. of IVs=  16 , NO. of valid IVs with foreground signals:  15.9984 . \n",
      "***********************************************************\n",
      "   user  system elapsed \n",
      "  6.461   1.895   4.179 \n",
      "IV selection threshold: 5e-08 \n"
     ]
    },
    {
     "name": "stderr",
     "output_type": "stream",
     "text": [
      "Threshold = 1, the model will not correct for selection bias\n",
      "\n"
     ]
    },
    {
     "name": "stdout",
     "output_type": "stream",
     "text": [
      "***********************************************************\n",
      "MR test results of  Smoking  on  Hair_Light_Brown : \n",
      "MR-APSS: beta =  -0.0326 , beta.se =  0.0645 , p-value =  6.1287e-01 . \n",
      "Total NO. of IVs=  9 , NO. of valid IVs with foreground signals:  8.9991 . \n",
      "***********************************************************\n",
      "   user  system elapsed \n",
      "  0.063   0.029   0.046 \n",
      "Pair:  Smoking ~ Hair_Dark_Brown \n",
      "Run MR-APSS ... \n",
      "IV selection threshold: 5e-06 \n",
      "***********************************************************\n",
      "MR test results of  Smoking  on  Hair_Dark_Brown : \n",
      "MR-APSS: beta =  -0.0803 , beta.se =  0.0844 , p-value =  3.4108e-01 . \n",
      "Total NO. of IVs=  43 , NO. of valid IVs with foreground signals:  31.44145 . \n",
      "***********************************************************\n",
      "   user  system elapsed \n",
      " 11.610   3.403   7.508 \n",
      "IV selection threshold: 5e-07 \n",
      "***********************************************************\n",
      "MR test results of  Smoking  on  Hair_Dark_Brown : \n",
      "MR-APSS: beta =  -0.0497 , beta.se =  0.106 , p-value =  6.3909e-01 . \n",
      "Total NO. of IVs=  16 , NO. of valid IVs with foreground signals:  15.92266 . \n",
      "***********************************************************\n",
      "   user  system elapsed \n",
      "  9.327   2.747   6.038 \n",
      "IV selection threshold: 5e-08 \n",
      "***********************************************************\n",
      "MR test results of  Smoking  on  Hair_Dark_Brown : \n",
      "MR-APSS: beta =  0.0028 , beta.se =  0.2145 , p-value =  9.8974e-01 . \n",
      "Total NO. of IVs=  9 , NO. of valid IVs with foreground signals:  4.973546 . \n",
      "***********************************************************\n",
      "   user  system elapsed \n",
      "  0.784   0.258   0.521 \n",
      "Run MR-APSS not accounting for selection bias ... \n",
      "IV selection threshold: 5e-06 \n"
     ]
    },
    {
     "name": "stderr",
     "output_type": "stream",
     "text": [
      "Threshold = 1, the model will not correct for selection bias\n",
      "\n"
     ]
    },
    {
     "name": "stdout",
     "output_type": "stream",
     "text": [
      "***********************************************************\n",
      "MR test results of  Smoking  on  Hair_Dark_Brown : \n",
      "MR-APSS: beta =  -0.0515 , beta.se =  0.0405 , p-value =  2.0402e-01 . \n",
      "Total NO. of IVs=  43 , NO. of valid IVs with foreground signals:  42.9957 . \n",
      "***********************************************************\n",
      "   user  system elapsed \n",
      "  0.274   0.074   0.174 \n",
      "IV selection threshold: 5e-07 \n"
     ]
    },
    {
     "name": "stderr",
     "output_type": "stream",
     "text": [
      "Threshold = 1, the model will not correct for selection bias\n",
      "\n"
     ]
    },
    {
     "name": "stdout",
     "output_type": "stream",
     "text": [
      "***********************************************************\n",
      "MR test results of  Smoking  on  Hair_Dark_Brown : \n",
      "MR-APSS: beta =  -0.0391 , beta.se =  0.0654 , p-value =  5.4994e-01 . \n",
      "Total NO. of IVs=  16 , NO. of valid IVs with foreground signals:  15.9984 . \n",
      "***********************************************************\n",
      "   user  system elapsed \n",
      "  1.206   0.379   0.793 \n",
      "IV selection threshold: 5e-08 \n"
     ]
    },
    {
     "name": "stderr",
     "output_type": "stream",
     "text": [
      "Threshold = 1, the model will not correct for selection bias\n",
      "\n"
     ]
    },
    {
     "name": "stdout",
     "output_type": "stream",
     "text": [
      "***********************************************************\n",
      "MR test results of  Smoking  on  Hair_Dark_Brown : \n",
      "MR-APSS: beta =  -0.0382 , beta.se =  0.0974 , p-value =  6.9530e-01 . \n",
      "Total NO. of IVs=  9 , NO. of valid IVs with foreground signals:  8.9991 . \n",
      "***********************************************************\n",
      "   user  system elapsed \n",
      "  0.250   0.067   0.159 \n",
      "Pair:  Smoking ~ Hair_Black \n",
      "Run MR-APSS ... \n",
      "IV selection threshold: 5e-06 \n",
      "***********************************************************\n",
      "MR test results of  Smoking  on  Hair_Black : \n",
      "MR-APSS: beta =  0.0684 , beta.se =  0.0838 , p-value =  4.1442e-01 . \n",
      "Total NO. of IVs=  43 , NO. of valid IVs with foreground signals:  29.59445 . \n",
      "***********************************************************\n",
      "   user  system elapsed \n",
      " 10.841   3.255   7.051 \n",
      "IV selection threshold: 5e-07 \n",
      "***********************************************************\n",
      "MR test results of  Smoking  on  Hair_Black : \n",
      "MR-APSS: beta =  0.0872 , beta.se =  0.0932 , p-value =  3.4974e-01 . \n",
      "Total NO. of IVs=  16 , NO. of valid IVs with foreground signals:  15.99608 . \n",
      "***********************************************************\n",
      "   user  system elapsed \n",
      "  6.425   1.862   4.144 \n",
      "IV selection threshold: 5e-08 \n",
      "***********************************************************\n",
      "MR test results of  Smoking  on  Hair_Black : \n",
      "MR-APSS: beta =  0.0924 , beta.se =  0.1453 , p-value =  5.2455e-01 . \n",
      "Total NO. of IVs=  9 , NO. of valid IVs with foreground signals:  7.557422 . \n",
      "***********************************************************\n",
      "   user  system elapsed \n",
      " 16.134   4.751  10.444 \n",
      "Run MR-APSS not accounting for selection bias ... \n",
      "IV selection threshold: 5e-06 \n"
     ]
    },
    {
     "name": "stderr",
     "output_type": "stream",
     "text": [
      "Threshold = 1, the model will not correct for selection bias\n",
      "\n"
     ]
    },
    {
     "name": "stdout",
     "output_type": "stream",
     "text": [
      "***********************************************************\n",
      "MR test results of  Smoking  on  Hair_Black : \n",
      "MR-APSS: beta =  0.0429 , beta.se =  0.0392 , p-value =  2.7377e-01 . \n",
      "Total NO. of IVs=  43 , NO. of valid IVs with foreground signals:  42.9957 . \n",
      "***********************************************************\n",
      "   user  system elapsed \n",
      "  8.470   2.503   5.487 \n",
      "IV selection threshold: 5e-07 \n"
     ]
    },
    {
     "name": "stderr",
     "output_type": "stream",
     "text": [
      "Threshold = 1, the model will not correct for selection bias\n",
      "\n"
     ]
    },
    {
     "name": "stdout",
     "output_type": "stream",
     "text": [
      "***********************************************************\n",
      "MR test results of  Smoking  on  Hair_Black : \n",
      "MR-APSS: beta =  0.0519 , beta.se =  0.0583 , p-value =  3.7341e-01 . \n",
      "Total NO. of IVs=  16 , NO. of valid IVs with foreground signals:  15.9984 . \n",
      "***********************************************************\n",
      "   user  system elapsed \n",
      "  8.621   2.584   5.603 \n",
      "IV selection threshold: 5e-08 \n"
     ]
    },
    {
     "name": "stderr",
     "output_type": "stream",
     "text": [
      "Threshold = 1, the model will not correct for selection bias\n",
      "\n"
     ]
    },
    {
     "name": "stdout",
     "output_type": "stream",
     "text": [
      "***********************************************************\n",
      "MR test results of  Smoking  on  Hair_Black : \n",
      "MR-APSS: beta =  0.043 , beta.se =  0.075 , p-value =  5.6625e-01 . \n",
      "Total NO. of IVs=  9 , NO. of valid IVs with foreground signals:  8.9991 . \n",
      "***********************************************************\n",
      "   user  system elapsed \n",
      " 14.398   4.539   9.470 \n",
      "Pair:  Smoking ~ Hair_Blonde \n",
      "Run MR-APSS ... \n",
      "IV selection threshold: 5e-06 \n",
      "***********************************************************\n",
      "MR test results of  Smoking  on  Hair_Blonde : \n",
      "MR-APSS: beta =  0.0053 , beta.se =  0.0812 , p-value =  9.4758e-01 . \n",
      "Total NO. of IVs=  43 , NO. of valid IVs with foreground signals:  29.00369 . \n",
      "***********************************************************\n",
      "   user  system elapsed \n",
      "  7.293   2.261   4.779 \n",
      "IV selection threshold: 5e-07 \n",
      "***********************************************************\n",
      "MR test results of  Smoking  on  Hair_Blonde : \n",
      "MR-APSS: beta =  -6e-04 , beta.se =  0.0895 , p-value =  9.9484e-01 . \n",
      "Total NO. of IVs=  16 , NO. of valid IVs with foreground signals:  15.93044 . \n",
      "***********************************************************\n",
      "   user  system elapsed \n",
      "  7.749   2.323   5.037 \n",
      "IV selection threshold: 5e-08 \n",
      "***********************************************************\n",
      "MR test results of  Smoking  on  Hair_Blonde : \n",
      "MR-APSS: beta =  -0.1598 , beta.se =  0.2128 , p-value =  4.5291e-01 . \n",
      "Total NO. of IVs=  9 , NO. of valid IVs with foreground signals:  4.54785 . \n",
      "***********************************************************\n",
      "   user  system elapsed \n",
      "  0.883   0.310   0.597 \n",
      "Run MR-APSS not accounting for selection bias ... \n",
      "IV selection threshold: 5e-06 \n"
     ]
    },
    {
     "name": "stderr",
     "output_type": "stream",
     "text": [
      "Threshold = 1, the model will not correct for selection bias\n",
      "\n"
     ]
    },
    {
     "name": "stdout",
     "output_type": "stream",
     "text": [
      "***********************************************************\n",
      "MR test results of  Smoking  on  Hair_Blonde : \n",
      "MR-APSS: beta =  0.0055 , beta.se =  0.0384 , p-value =  8.8635e-01 . \n",
      "Total NO. of IVs=  43 , NO. of valid IVs with foreground signals:  42.9957 . \n",
      "***********************************************************\n",
      "   user  system elapsed \n",
      "  0.250   0.083   0.167 \n",
      "IV selection threshold: 5e-07 \n"
     ]
    },
    {
     "name": "stderr",
     "output_type": "stream",
     "text": [
      "Threshold = 1, the model will not correct for selection bias\n",
      "\n"
     ]
    },
    {
     "name": "stdout",
     "output_type": "stream",
     "text": [
      "***********************************************************\n",
      "MR test results of  Smoking  on  Hair_Blonde : \n",
      "MR-APSS: beta =  0.0094 , beta.se =  0.0625 , p-value =  8.7985e-01 . \n",
      "Total NO. of IVs=  16 , NO. of valid IVs with foreground signals:  15.9984 . \n",
      "***********************************************************\n",
      "   user  system elapsed \n",
      "  0.815   0.205   0.510 \n",
      "IV selection threshold: 5e-08 \n"
     ]
    },
    {
     "name": "stderr",
     "output_type": "stream",
     "text": [
      "Threshold = 1, the model will not correct for selection bias\n",
      "\n"
     ]
    },
    {
     "name": "stdout",
     "output_type": "stream",
     "text": [
      "***********************************************************\n",
      "MR test results of  Smoking  on  Hair_Blonde : \n",
      "MR-APSS: beta =  -0.0382 , beta.se =  0.0885 , p-value =  6.6609e-01 . \n",
      "Total NO. of IVs=  9 , NO. of valid IVs with foreground signals:  8.9991 . \n",
      "***********************************************************\n",
      "   user  system elapsed \n",
      "  0.513   0.128   0.320 \n",
      "Pair:  Smoking ~ Tanning \n",
      "Run MR-APSS ... \n",
      "IV selection threshold: 5e-06 \n",
      "***********************************************************\n",
      "MR test results of  Smoking  on  Tanning : \n",
      "MR-APSS: beta =  0.1846 , beta.se =  0.1191 , p-value =  1.2124e-01 . \n",
      "Total NO. of IVs=  43 , NO. of valid IVs with foreground signals:  31.6557 . \n",
      "***********************************************************\n",
      "   user  system elapsed \n",
      " 12.675   3.689   8.184 \n",
      "IV selection threshold: 5e-07 \n",
      "***********************************************************\n",
      "MR test results of  Smoking  on  Tanning : \n",
      "MR-APSS: beta =  0.121 , beta.se =  0.1277 , p-value =  3.4357e-01 . \n",
      "Total NO. of IVs=  16 , NO. of valid IVs with foreground signals:  15.99415 . \n",
      "***********************************************************\n",
      "   user  system elapsed \n",
      "  3.751   1.138   2.445 \n",
      "IV selection threshold: 5e-08 \n",
      "***********************************************************\n",
      "MR test results of  Smoking  on  Tanning : \n",
      "MR-APSS: beta =  0.1784 , beta.se =  0.1711 , p-value =  2.9703e-01 . \n",
      "Total NO. of IVs=  9 , NO. of valid IVs with foreground signals:  7.087998 . \n",
      "***********************************************************\n",
      "   user  system elapsed \n",
      " 21.752   6.567  14.162 \n",
      "Run MR-APSS not accounting for selection bias ... \n",
      "IV selection threshold: 5e-06 \n"
     ]
    },
    {
     "name": "stderr",
     "output_type": "stream",
     "text": [
      "Threshold = 1, the model will not correct for selection bias\n",
      "\n"
     ]
    },
    {
     "name": "stdout",
     "output_type": "stream",
     "text": [
      "***********************************************************\n",
      "MR test results of  Smoking  on  Tanning : \n",
      "MR-APSS: beta =  0.1096 , beta.se =  0.0534 , p-value =  4.0309e-02 . \n",
      "Total NO. of IVs=  43 , NO. of valid IVs with foreground signals:  42.9957 . \n",
      "***********************************************************\n",
      "   user  system elapsed \n",
      "  2.729   0.840   1.785 \n",
      "IV selection threshold: 5e-07 \n"
     ]
    },
    {
     "name": "stderr",
     "output_type": "stream",
     "text": [
      "Threshold = 1, the model will not correct for selection bias\n",
      "\n"
     ]
    },
    {
     "name": "stdout",
     "output_type": "stream",
     "text": [
      "***********************************************************\n",
      "MR test results of  Smoking  on  Tanning : \n",
      "MR-APSS: beta =  0.1054 , beta.se =  0.0792 , p-value =  1.8334e-01 . \n",
      "Total NO. of IVs=  16 , NO. of valid IVs with foreground signals:  15.9984 . \n",
      "***********************************************************\n",
      "   user  system elapsed \n",
      "  1.159   0.348   0.753 \n",
      "IV selection threshold: 5e-08 \n"
     ]
    },
    {
     "name": "stderr",
     "output_type": "stream",
     "text": [
      "Threshold = 1, the model will not correct for selection bias\n",
      "\n"
     ]
    },
    {
     "name": "stdout",
     "output_type": "stream",
     "text": [
      "***********************************************************\n",
      "MR test results of  Smoking  on  Tanning : \n",
      "MR-APSS: beta =  0.1314 , beta.se =  0.0875 , p-value =  1.3339e-01 . \n",
      "Total NO. of IVs=  9 , NO. of valid IVs with foreground signals:  8.9991 . \n",
      "***********************************************************\n",
      "   user  system elapsed \n",
      " 19.124   5.800  12.464 \n",
      "Pair:  Urate ~ Hair_Light_Brown \n",
      "Run MR-APSS ... \n",
      "IV selection threshold: 5e-06 \n",
      "***********************************************************\n",
      "MR test results of  Urate  on  Hair_Light_Brown : \n",
      "MR-APSS: beta =  -0.0104 , beta.se =  0.0215 , p-value =  6.2975e-01 . \n",
      "Total NO. of IVs=  51 , NO. of valid IVs with foreground signals:  47.85042 . \n",
      "***********************************************************\n",
      "   user  system elapsed \n",
      "  2.083   0.630   1.357 \n",
      "IV selection threshold: 5e-07 \n",
      "***********************************************************\n",
      "MR test results of  Urate  on  Hair_Light_Brown : \n",
      "MR-APSS: beta =  -0.0099 , beta.se =  0.0229 , p-value =  6.6665e-01 . \n",
      "Total NO. of IVs=  33 , NO. of valid IVs with foreground signals:  32.99095 . \n",
      "***********************************************************\n",
      "   user  system elapsed \n",
      "  1.193   0.332   0.763 \n",
      "IV selection threshold: 5e-08 \n",
      "***********************************************************\n",
      "MR test results of  Urate  on  Hair_Light_Brown : \n",
      "MR-APSS: beta =  -0.0188 , beta.se =  0.024 , p-value =  4.3212e-01 . \n",
      "Total NO. of IVs=  27 , NO. of valid IVs with foreground signals:  26.99621 . \n",
      "***********************************************************\n",
      "   user  system elapsed \n",
      "  0.846   0.199   0.522 \n",
      "Run MR-APSS not accounting for selection bias ... \n",
      "IV selection threshold: 5e-06 \n"
     ]
    },
    {
     "name": "stderr",
     "output_type": "stream",
     "text": [
      "Threshold = 1, the model will not correct for selection bias\n",
      "\n"
     ]
    },
    {
     "name": "stdout",
     "output_type": "stream",
     "text": [
      "***********************************************************\n",
      "MR test results of  Urate  on  Hair_Light_Brown : \n",
      "MR-APSS: beta =  -0.0087 , beta.se =  0.0195 , p-value =  6.5661e-01 . \n",
      "Total NO. of IVs=  51 , NO. of valid IVs with foreground signals:  50.9949 . \n",
      "***********************************************************\n",
      "   user  system elapsed \n",
      "  1.021   0.284   0.653 \n",
      "IV selection threshold: 5e-07 \n"
     ]
    },
    {
     "name": "stderr",
     "output_type": "stream",
     "text": [
      "Threshold = 1, the model will not correct for selection bias\n",
      "\n"
     ]
    },
    {
     "name": "stdout",
     "output_type": "stream",
     "text": [
      "***********************************************************\n",
      "MR test results of  Urate  on  Hair_Light_Brown : \n",
      "MR-APSS: beta =  -0.0086 , beta.se =  0.022 , p-value =  6.9416e-01 . \n",
      "Total NO. of IVs=  33 , NO. of valid IVs with foreground signals:  32.9967 . \n",
      "***********************************************************\n",
      "   user  system elapsed \n",
      "  0.743   0.202   0.472 \n",
      "IV selection threshold: 5e-08 \n"
     ]
    },
    {
     "name": "stderr",
     "output_type": "stream",
     "text": [
      "Threshold = 1, the model will not correct for selection bias\n",
      "\n"
     ]
    },
    {
     "name": "stdout",
     "output_type": "stream",
     "text": [
      "***********************************************************\n",
      "MR test results of  Urate  on  Hair_Light_Brown : \n",
      "MR-APSS: beta =  -0.0172 , beta.se =  0.023 , p-value =  4.5418e-01 . \n",
      "Total NO. of IVs=  27 , NO. of valid IVs with foreground signals:  26.9973 . \n",
      "***********************************************************\n",
      "   user  system elapsed \n",
      "  0.652   0.196   0.424 \n",
      "Pair:  Urate ~ Hair_Dark_Brown \n",
      "Run MR-APSS ... \n",
      "IV selection threshold: 5e-06 \n",
      "***********************************************************\n",
      "MR test results of  Urate  on  Hair_Dark_Brown : \n",
      "MR-APSS: beta =  0.0103 , beta.se =  0.0275 , p-value =  7.0831e-01 . \n",
      "Total NO. of IVs=  51 , NO. of valid IVs with foreground signals:  47.44233 . \n",
      "***********************************************************\n",
      "   user  system elapsed \n",
      "  1.753   0.481   1.117 \n",
      "IV selection threshold: 5e-07 \n",
      "***********************************************************\n",
      "MR test results of  Urate  on  Hair_Dark_Brown : \n",
      "MR-APSS: beta =  0.0078 , beta.se =  0.029 , p-value =  7.8731e-01 . \n",
      "Total NO. of IVs=  33 , NO. of valid IVs with foreground signals:  32.99157 . \n",
      "***********************************************************\n",
      "   user  system elapsed \n",
      "  0.961   0.281   0.621 \n",
      "IV selection threshold: 5e-08 \n",
      "***********************************************************\n",
      "MR test results of  Urate  on  Hair_Dark_Brown : \n",
      "MR-APSS: beta =  0.0254 , beta.se =  0.0302 , p-value =  3.9999e-01 . \n",
      "Total NO. of IVs=  27 , NO. of valid IVs with foreground signals:  26.99644 . \n",
      "***********************************************************\n",
      "   user  system elapsed \n",
      "  0.819   0.200   0.510 \n",
      "Run MR-APSS not accounting for selection bias ... \n",
      "IV selection threshold: 5e-06 \n"
     ]
    },
    {
     "name": "stderr",
     "output_type": "stream",
     "text": [
      "Threshold = 1, the model will not correct for selection bias\n",
      "\n"
     ]
    },
    {
     "name": "stdout",
     "output_type": "stream",
     "text": [
      "***********************************************************\n",
      "MR test results of  Urate  on  Hair_Dark_Brown : \n",
      "MR-APSS: beta =  0.0077 , beta.se =  0.0248 , p-value =  7.5811e-01 . \n",
      "Total NO. of IVs=  51 , NO. of valid IVs with foreground signals:  50.9949 . \n",
      "***********************************************************\n",
      "   user  system elapsed \n",
      "  0.633   0.233   0.433 \n",
      "IV selection threshold: 5e-07 \n"
     ]
    },
    {
     "name": "stderr",
     "output_type": "stream",
     "text": [
      "Threshold = 1, the model will not correct for selection bias\n",
      "\n"
     ]
    },
    {
     "name": "stdout",
     "output_type": "stream",
     "text": [
      "***********************************************************\n",
      "MR test results of  Urate  on  Hair_Dark_Brown : \n",
      "MR-APSS: beta =  0.0062 , beta.se =  0.0277 , p-value =  8.2369e-01 . \n",
      "Total NO. of IVs=  33 , NO. of valid IVs with foreground signals:  32.9967 . \n",
      "***********************************************************\n",
      "   user  system elapsed \n",
      "  0.418   0.113   0.266 \n",
      "IV selection threshold: 5e-08 \n"
     ]
    },
    {
     "name": "stderr",
     "output_type": "stream",
     "text": [
      "Threshold = 1, the model will not correct for selection bias\n",
      "\n"
     ]
    },
    {
     "name": "stdout",
     "output_type": "stream",
     "text": [
      "***********************************************************\n",
      "MR test results of  Urate  on  Hair_Dark_Brown : \n",
      "MR-APSS: beta =  0.0229 , beta.se =  0.0289 , p-value =  4.2857e-01 . \n",
      "Total NO. of IVs=  27 , NO. of valid IVs with foreground signals:  26.9973 . \n",
      "***********************************************************\n",
      "   user  system elapsed \n",
      "  0.353   0.128   0.240 \n",
      "Pair:  Urate ~ Hair_Black \n",
      "Run MR-APSS ... \n",
      "IV selection threshold: 5e-06 \n",
      "***********************************************************\n",
      "MR test results of  Urate  on  Hair_Black : \n",
      "MR-APSS: beta =  0.0218 , beta.se =  0.0202 , p-value =  2.8146e-01 . \n",
      "Total NO. of IVs=  51 , NO. of valid IVs with foreground signals:  48.56674 . \n",
      "***********************************************************\n",
      "   user  system elapsed \n",
      "  6.749   1.935   4.343 \n",
      "IV selection threshold: 5e-07 \n",
      "***********************************************************\n",
      "MR test results of  Urate  on  Hair_Black : \n",
      "MR-APSS: beta =  0.0257 , beta.se =  0.0193 , p-value =  1.8352e-01 . \n",
      "Total NO. of IVs=  33 , NO. of valid IVs with foreground signals:  32.9919 . \n",
      "***********************************************************\n",
      "   user  system elapsed \n",
      " 54.867  17.166  36.025 \n",
      "IV selection threshold: 5e-08 \n",
      "***********************************************************\n",
      "MR test results of  Urate  on  Hair_Black : \n",
      "MR-APSS: beta =  0.0371 , beta.se =  0.0207 , p-value =  7.3320e-02 . \n",
      "Total NO. of IVs=  27 , NO. of valid IVs with foreground signals:  26.99698 . \n",
      "***********************************************************\n",
      "   user  system elapsed \n",
      " 33.727  10.280  22.009 \n",
      "Run MR-APSS not accounting for selection bias ... \n",
      "IV selection threshold: 5e-06 \n"
     ]
    },
    {
     "name": "stderr",
     "output_type": "stream",
     "text": [
      "Threshold = 1, the model will not correct for selection bias\n",
      "\n"
     ]
    },
    {
     "name": "stdout",
     "output_type": "stream",
     "text": [
      "***********************************************************\n",
      "MR test results of  Urate  on  Hair_Black : \n",
      "MR-APSS: beta =  0.0202 , beta.se =  0.0187 , p-value =  2.7969e-01 . \n",
      "Total NO. of IVs=  51 , NO. of valid IVs with foreground signals:  50.9949 . \n",
      "***********************************************************\n",
      "   user  system elapsed \n",
      "  5.960   1.593   3.777 \n",
      "IV selection threshold: 5e-07 \n"
     ]
    },
    {
     "name": "stderr",
     "output_type": "stream",
     "text": [
      "Threshold = 1, the model will not correct for selection bias\n",
      "\n"
     ]
    },
    {
     "name": "stdout",
     "output_type": "stream",
     "text": [
      "***********************************************************\n",
      "MR test results of  Urate  on  Hair_Black : \n",
      "MR-APSS: beta =  0.0241 , beta.se =  0.0186 , p-value =  1.9343e-01 . \n",
      "Total NO. of IVs=  33 , NO. of valid IVs with foreground signals:  32.9967 . \n",
      "***********************************************************\n",
      "   user  system elapsed \n",
      " 55.494  17.354  36.434 \n",
      "IV selection threshold: 5e-08 \n"
     ]
    },
    {
     "name": "stderr",
     "output_type": "stream",
     "text": [
      "Threshold = 1, the model will not correct for selection bias\n",
      "\n"
     ]
    },
    {
     "name": "stdout",
     "output_type": "stream",
     "text": [
      "***********************************************************\n",
      "MR test results of  Urate  on  Hair_Black : \n",
      "MR-APSS: beta =  0.0352 , beta.se =  0.02 , p-value =  7.7995e-02 . \n",
      "Total NO. of IVs=  27 , NO. of valid IVs with foreground signals:  26.9973 . \n",
      "***********************************************************\n",
      "   user  system elapsed \n",
      " 34.310  10.139  22.230 \n",
      "Pair:  Urate ~ Hair_Blonde \n",
      "Run MR-APSS ... \n",
      "IV selection threshold: 5e-06 \n",
      "***********************************************************\n",
      "MR test results of  Urate  on  Hair_Blonde : \n",
      "MR-APSS: beta =  -0.0253 , beta.se =  0.0284 , p-value =  3.7329e-01 . \n",
      "Total NO. of IVs=  51 , NO. of valid IVs with foreground signals:  45.43077 . \n",
      "***********************************************************\n",
      "   user  system elapsed \n",
      "  1.762   0.523   1.143 \n",
      "IV selection threshold: 5e-07 \n",
      "***********************************************************\n",
      "MR test results of  Urate  on  Hair_Blonde : \n",
      "MR-APSS: beta =  -0.0135 , beta.se =  0.027 , p-value =  6.1589e-01 . \n",
      "Total NO. of IVs=  33 , NO. of valid IVs with foreground signals:  32.99213 . \n",
      "***********************************************************\n",
      "   user  system elapsed \n",
      "  0.908   0.260   0.584 \n",
      "IV selection threshold: 5e-08 \n",
      "***********************************************************\n",
      "MR test results of  Urate  on  Hair_Blonde : \n",
      "MR-APSS: beta =  -0.0355 , beta.se =  0.0282 , p-value =  2.0690e-01 . \n",
      "Total NO. of IVs=  27 , NO. of valid IVs with foreground signals:  26.99673 . \n",
      "***********************************************************\n",
      "   user  system elapsed \n",
      "  0.850   0.179   0.514 \n",
      "Run MR-APSS not accounting for selection bias ... \n",
      "IV selection threshold: 5e-06 \n"
     ]
    },
    {
     "name": "stderr",
     "output_type": "stream",
     "text": [
      "Threshold = 1, the model will not correct for selection bias\n",
      "\n"
     ]
    },
    {
     "name": "stdout",
     "output_type": "stream",
     "text": [
      "***********************************************************\n",
      "MR test results of  Urate  on  Hair_Blonde : \n",
      "MR-APSS: beta =  -0.0222 , beta.se =  0.0249 , p-value =  3.7340e-01 . \n",
      "Total NO. of IVs=  51 , NO. of valid IVs with foreground signals:  50.9949 . \n",
      "***********************************************************\n",
      "   user  system elapsed \n",
      "  0.928   0.272   0.600 \n",
      "IV selection threshold: 5e-07 \n"
     ]
    },
    {
     "name": "stderr",
     "output_type": "stream",
     "text": [
      "Threshold = 1, the model will not correct for selection bias\n",
      "\n"
     ]
    },
    {
     "name": "stdout",
     "output_type": "stream",
     "text": [
      "***********************************************************\n",
      "MR test results of  Urate  on  Hair_Blonde : \n",
      "MR-APSS: beta =  -0.0123 , beta.se =  0.0258 , p-value =  6.3425e-01 . \n",
      "Total NO. of IVs=  33 , NO. of valid IVs with foreground signals:  32.9967 . \n",
      "***********************************************************\n",
      "   user  system elapsed \n",
      "  0.455   0.120   0.288 \n",
      "IV selection threshold: 5e-08 \n"
     ]
    },
    {
     "name": "stderr",
     "output_type": "stream",
     "text": [
      "Threshold = 1, the model will not correct for selection bias\n",
      "\n"
     ]
    },
    {
     "name": "stdout",
     "output_type": "stream",
     "text": [
      "***********************************************************\n",
      "MR test results of  Urate  on  Hair_Blonde : \n",
      "MR-APSS: beta =  -0.0332 , beta.se =  0.027 , p-value =  2.1795e-01 . \n",
      "Total NO. of IVs=  27 , NO. of valid IVs with foreground signals:  26.9973 . \n",
      "***********************************************************\n",
      "   user  system elapsed \n",
      "  0.437   0.147   0.292 \n",
      "Pair:  Urate ~ Tanning \n",
      "Run MR-APSS ... \n",
      "IV selection threshold: 5e-06 \n",
      "***********************************************************\n",
      "MR test results of  Urate  on  Tanning : \n",
      "MR-APSS: beta =  -0.0414 , beta.se =  0.0264 , p-value =  1.1674e-01 . \n",
      "Total NO. of IVs=  51 , NO. of valid IVs with foreground signals:  50.92757 . \n",
      "***********************************************************\n",
      "   user  system elapsed \n",
      "  5.259   1.620   3.440 \n",
      "IV selection threshold: 5e-07 \n",
      "***********************************************************\n",
      "MR test results of  Urate  on  Tanning : \n",
      "MR-APSS: beta =  -0.0339 , beta.se =  0.0275 , p-value =  2.1662e-01 . \n",
      "Total NO. of IVs=  33 , NO. of valid IVs with foreground signals:  32.99308 . \n",
      "***********************************************************\n",
      "   user  system elapsed \n",
      "  1.138   0.368   0.753 \n",
      "IV selection threshold: 5e-08 \n",
      "***********************************************************\n",
      "MR test results of  Urate  on  Tanning : \n",
      "MR-APSS: beta =  -0.0274 , beta.se =  0.0292 , p-value =  3.4735e-01 . \n",
      "Total NO. of IVs=  27 , NO. of valid IVs with foreground signals:  26.99681 . \n",
      "***********************************************************\n",
      "   user  system elapsed \n",
      "  0.846   0.257   0.552 \n",
      "Run MR-APSS not accounting for selection bias ... \n",
      "IV selection threshold: 5e-06 \n"
     ]
    },
    {
     "name": "stderr",
     "output_type": "stream",
     "text": [
      "Threshold = 1, the model will not correct for selection bias\n",
      "\n"
     ]
    },
    {
     "name": "stdout",
     "output_type": "stream",
     "text": [
      "***********************************************************\n",
      "MR test results of  Urate  on  Tanning : \n",
      "MR-APSS: beta =  -0.0408 , beta.se =  0.0249 , p-value =  1.0127e-01 . \n",
      "Total NO. of IVs=  51 , NO. of valid IVs with foreground signals:  50.9949 . \n",
      "***********************************************************\n",
      "   user  system elapsed \n",
      "  1.071   0.216   0.644 \n",
      "IV selection threshold: 5e-07 \n"
     ]
    },
    {
     "name": "stderr",
     "output_type": "stream",
     "text": [
      "Threshold = 1, the model will not correct for selection bias\n",
      "\n"
     ]
    },
    {
     "name": "stdout",
     "output_type": "stream",
     "text": [
      "***********************************************************\n",
      "MR test results of  Urate  on  Tanning : \n",
      "MR-APSS: beta =  -0.0339 , beta.se =  0.0263 , p-value =  1.9780e-01 . \n",
      "Total NO. of IVs=  33 , NO. of valid IVs with foreground signals:  32.9967 . \n",
      "***********************************************************\n",
      "   user  system elapsed \n",
      "  0.941   0.333   0.637 \n",
      "IV selection threshold: 5e-08 \n"
     ]
    },
    {
     "name": "stderr",
     "output_type": "stream",
     "text": [
      "Threshold = 1, the model will not correct for selection bias\n",
      "\n"
     ]
    },
    {
     "name": "stdout",
     "output_type": "stream",
     "text": [
      "***********************************************************\n",
      "MR test results of  Urate  on  Tanning : \n",
      "MR-APSS: beta =  -0.0276 , beta.se =  0.028 , p-value =  3.2370e-01 . \n",
      "Total NO. of IVs=  27 , NO. of valid IVs with foreground signals:  26.9973 . \n",
      "***********************************************************\n",
      "   user  system elapsed \n",
      "  0.717   0.276   0.497 \n",
      "Pair:  Anorexia ~ Hair_Light_Brown \n",
      "Run MR-APSS ... \n",
      "IV selection threshold: 5e-06 \n",
      "***********************************************************\n",
      "MR test results of  Anorexia  on  Hair_Light_Brown : \n",
      "MR-APSS: beta =  0.0052 , beta.se =  0.06 , p-value =  9.3149e-01 . \n",
      "Total NO. of IVs=  37 , NO. of valid IVs with foreground signals:  13.50148 . \n",
      "***********************************************************\n",
      "   user  system elapsed \n",
      " 29.891   8.983  19.443 \n",
      "IV selection threshold: 5e-07 \n",
      "***********************************************************\n",
      "MR test results of  Anorexia  on  Hair_Light_Brown : \n",
      "MR-APSS: beta =  0.0282 , beta.se =  0.0634 , p-value =  6.5622e-01 . \n",
      "Total NO. of IVs=  14 , NO. of valid IVs with foreground signals:  7.076902 . \n",
      "***********************************************************\n",
      "   user  system elapsed \n",
      "  4.847   1.415   3.132 \n",
      "IV selection threshold: 5e-08 \n",
      "***********************************************************\n",
      "MR test results of  Anorexia  on  Hair_Light_Brown : \n",
      "MR-APSS: beta =  0.0222 , beta.se =  0.0684 , p-value =  7.4598e-01 . \n",
      "Total NO. of IVs=  7 , NO. of valid IVs with foreground signals:  4.90194 . \n",
      "***********************************************************\n",
      "   user  system elapsed \n",
      "  7.818   2.388   5.104 \n",
      "Run MR-APSS not accounting for selection bias ... \n",
      "IV selection threshold: 5e-06 \n"
     ]
    },
    {
     "name": "stderr",
     "output_type": "stream",
     "text": [
      "Threshold = 1, the model will not correct for selection bias\n",
      "\n"
     ]
    },
    {
     "name": "stdout",
     "output_type": "stream",
     "text": [
      "***********************************************************\n",
      "MR test results of  Anorexia  on  Hair_Light_Brown : \n",
      "MR-APSS: beta =  -0.0195 , beta.se =  0.0206 , p-value =  3.4438e-01 . \n",
      "Total NO. of IVs=  37 , NO. of valid IVs with foreground signals:  36.9963 . \n",
      "***********************************************************\n",
      "   user  system elapsed \n",
      " 10.997   3.226   7.112 \n",
      "IV selection threshold: 5e-07 \n"
     ]
    },
    {
     "name": "stderr",
     "output_type": "stream",
     "text": [
      "Threshold = 1, the model will not correct for selection bias\n",
      "\n"
     ]
    },
    {
     "name": "stdout",
     "output_type": "stream",
     "text": [
      "***********************************************************\n",
      "MR test results of  Anorexia  on  Hair_Light_Brown : \n",
      "MR-APSS: beta =  0.0035 , beta.se =  0.0295 , p-value =  9.0582e-01 . \n",
      "Total NO. of IVs=  14 , NO. of valid IVs with foreground signals:  13.9986 . \n",
      "***********************************************************\n",
      "   user  system elapsed \n",
      "  0.078   0.034   0.055 \n",
      "IV selection threshold: 5e-08 \n"
     ]
    },
    {
     "name": "stderr",
     "output_type": "stream",
     "text": [
      "Threshold = 1, the model will not correct for selection bias\n",
      "\n"
     ]
    },
    {
     "name": "stdout",
     "output_type": "stream",
     "text": [
      "***********************************************************\n",
      "MR test results of  Anorexia  on  Hair_Light_Brown : \n",
      "MR-APSS: beta =  -0.0023 , beta.se =  0.038 , p-value =  9.5171e-01 . \n",
      "Total NO. of IVs=  7 , NO. of valid IVs with foreground signals:  6.9993 . \n",
      "***********************************************************\n",
      "   user  system elapsed \n",
      "  8.999   2.656   5.829 \n",
      "Pair:  Anorexia ~ Hair_Dark_Brown \n",
      "Run MR-APSS ... \n",
      "IV selection threshold: 5e-06 \n",
      "***********************************************************\n",
      "MR test results of  Anorexia  on  Hair_Dark_Brown : \n",
      "MR-APSS: beta =  0.0466 , beta.se =  0.0718 , p-value =  5.1630e-01 . \n",
      "Total NO. of IVs=  37 , NO. of valid IVs with foreground signals:  15.43521 . \n",
      "***********************************************************\n",
      "   user  system elapsed \n",
      "  6.216   1.743   3.980 \n",
      "IV selection threshold: 5e-07 \n",
      "***********************************************************\n",
      "MR test results of  Anorexia  on  Hair_Dark_Brown : \n",
      "MR-APSS: beta =  0.0072 , beta.se =  0.0729 , p-value =  9.2100e-01 . \n",
      "Total NO. of IVs=  14 , NO. of valid IVs with foreground signals:  7.252051 . \n",
      "***********************************************************\n",
      "   user  system elapsed \n",
      "  2.304   0.664   1.484 \n",
      "IV selection threshold: 5e-08 \n",
      "***********************************************************\n",
      "MR test results of  Anorexia  on  Hair_Dark_Brown : \n",
      "MR-APSS: beta =  0.0026 , beta.se =  0.0785 , p-value =  9.7404e-01 . \n",
      "Total NO. of IVs=  7 , NO. of valid IVs with foreground signals:  5.366063 . \n",
      "***********************************************************\n",
      "   user  system elapsed \n",
      "  5.244   1.575   3.410 \n",
      "Run MR-APSS not accounting for selection bias ... \n",
      "IV selection threshold: 5e-06 \n"
     ]
    },
    {
     "name": "stderr",
     "output_type": "stream",
     "text": [
      "Threshold = 1, the model will not correct for selection bias\n",
      "\n"
     ]
    },
    {
     "name": "stdout",
     "output_type": "stream",
     "text": [
      "***********************************************************\n",
      "MR test results of  Anorexia  on  Hair_Dark_Brown : \n",
      "MR-APSS: beta =  0.0418 , beta.se =  0.0234 , p-value =  7.4303e-02 . \n",
      "Total NO. of IVs=  37 , NO. of valid IVs with foreground signals:  36.9963 . \n",
      "***********************************************************\n",
      "   user  system elapsed \n",
      "  0.199   0.088   0.143 \n",
      "IV selection threshold: 5e-07 \n"
     ]
    },
    {
     "name": "stderr",
     "output_type": "stream",
     "text": [
      "Threshold = 1, the model will not correct for selection bias\n",
      "\n"
     ]
    },
    {
     "name": "stdout",
     "output_type": "stream",
     "text": [
      "***********************************************************\n",
      "MR test results of  Anorexia  on  Hair_Dark_Brown : \n",
      "MR-APSS: beta =  0.015 , beta.se =  0.0357 , p-value =  6.7483e-01 . \n",
      "Total NO. of IVs=  14 , NO. of valid IVs with foreground signals:  13.9986 . \n",
      "***********************************************************\n",
      "   user  system elapsed \n",
      "  5.303   1.596   3.450 \n",
      "IV selection threshold: 5e-08 \n"
     ]
    },
    {
     "name": "stderr",
     "output_type": "stream",
     "text": [
      "Threshold = 1, the model will not correct for selection bias\n",
      "\n"
     ]
    },
    {
     "name": "stdout",
     "output_type": "stream",
     "text": [
      "***********************************************************\n",
      "MR test results of  Anorexia  on  Hair_Dark_Brown : \n",
      "MR-APSS: beta =  0.0095 , beta.se =  0.0463 , p-value =  8.3772e-01 . \n",
      "Total NO. of IVs=  7 , NO. of valid IVs with foreground signals:  6.9993 . \n",
      "***********************************************************\n",
      "   user  system elapsed \n",
      "  7.704   2.512   5.109 \n",
      "Pair:  Anorexia ~ Hair_Black \n",
      "Run MR-APSS ... \n",
      "IV selection threshold: 5e-06 \n",
      "***********************************************************\n",
      "MR test results of  Anorexia  on  Hair_Black : \n",
      "MR-APSS: beta =  -0.0178 , beta.se =  0.0784 , p-value =  8.2087e-01 . \n",
      "Total NO. of IVs=  37 , NO. of valid IVs with foreground signals:  20.18039 . \n",
      "***********************************************************\n",
      "   user  system elapsed \n",
      "  8.080   2.452   5.268 \n",
      "IV selection threshold: 5e-07 \n",
      "***********************************************************\n",
      "MR test results of  Anorexia  on  Hair_Black : \n",
      "MR-APSS: beta =  -0.0638 , beta.se =  0.1112 , p-value =  5.6592e-01 . \n",
      "Total NO. of IVs=  14 , NO. of valid IVs with foreground signals:  6.167831 . \n",
      "***********************************************************\n",
      "   user  system elapsed \n",
      " 10.187   3.124   6.657 \n",
      "IV selection threshold: 5e-08 \n",
      "***********************************************************\n",
      "MR test results of  Anorexia  on  Hair_Black : \n",
      "MR-APSS: beta =  -0.1037 , beta.se =  0.1696 , p-value =  5.4081e-01 . \n",
      "Total NO. of IVs=  7 , NO. of valid IVs with foreground signals:  3.141031 . \n",
      "***********************************************************\n",
      "   user  system elapsed \n",
      " 11.823   3.476   7.651 \n",
      "Run MR-APSS not accounting for selection bias ... \n",
      "IV selection threshold: 5e-06 \n"
     ]
    },
    {
     "name": "stderr",
     "output_type": "stream",
     "text": [
      "Threshold = 1, the model will not correct for selection bias\n",
      "\n"
     ]
    },
    {
     "name": "stdout",
     "output_type": "stream",
     "text": [
      "***********************************************************\n",
      "MR test results of  Anorexia  on  Hair_Black : \n",
      "MR-APSS: beta =  -0.0125 , beta.se =  0.0266 , p-value =  6.3787e-01 . \n",
      "Total NO. of IVs=  37 , NO. of valid IVs with foreground signals:  36.9963 . \n",
      "***********************************************************\n",
      "   user  system elapsed \n",
      "  0.882   0.292   0.587 \n",
      "IV selection threshold: 5e-07 \n"
     ]
    },
    {
     "name": "stderr",
     "output_type": "stream",
     "text": [
      "Threshold = 1, the model will not correct for selection bias\n",
      "\n"
     ]
    },
    {
     "name": "stdout",
     "output_type": "stream",
     "text": [
      "***********************************************************\n",
      "MR test results of  Anorexia  on  Hair_Black : \n",
      "MR-APSS: beta =  -0.0103 , beta.se =  0.0377 , p-value =  7.8386e-01 . \n",
      "Total NO. of IVs=  14 , NO. of valid IVs with foreground signals:  13.9986 . \n",
      "***********************************************************\n",
      "   user  system elapsed \n",
      "  0.719   0.182   0.451 \n",
      "IV selection threshold: 5e-08 \n"
     ]
    },
    {
     "name": "stderr",
     "output_type": "stream",
     "text": [
      "Threshold = 1, the model will not correct for selection bias\n",
      "\n"
     ]
    },
    {
     "name": "stdout",
     "output_type": "stream",
     "text": [
      "***********************************************************\n",
      "MR test results of  Anorexia  on  Hair_Black : \n",
      "MR-APSS: beta =  0.0337 , beta.se =  0.0523 , p-value =  5.1917e-01 . \n",
      "Total NO. of IVs=  7 , NO. of valid IVs with foreground signals:  6.9993 . \n",
      "***********************************************************\n",
      "   user  system elapsed \n",
      "  0.234   0.092   0.163 \n",
      "Pair:  Anorexia ~ Hair_Blonde \n",
      "Run MR-APSS ... \n",
      "IV selection threshold: 5e-06 \n",
      "***********************************************************\n",
      "MR test results of  Anorexia  on  Hair_Blonde : \n",
      "MR-APSS: beta =  -0.0131 , beta.se =  0.0573 , p-value =  8.1970e-01 . \n",
      "Total NO. of IVs=  37 , NO. of valid IVs with foreground signals:  14.28554 . \n",
      "***********************************************************\n",
      "   user  system elapsed \n",
      "  8.816   2.435   5.627 \n",
      "IV selection threshold: 5e-07 \n",
      "***********************************************************\n",
      "MR test results of  Anorexia  on  Hair_Blonde : \n",
      "MR-APSS: beta =  0.0016 , beta.se =  0.0611 , p-value =  9.7872e-01 . \n",
      "Total NO. of IVs=  14 , NO. of valid IVs with foreground signals:  7.097903 . \n",
      "***********************************************************\n",
      "   user  system elapsed \n",
      "  6.862   2.049   4.456 \n",
      "IV selection threshold: 5e-08 \n",
      "***********************************************************\n",
      "MR test results of  Anorexia  on  Hair_Blonde : \n",
      "MR-APSS: beta =  0.0154 , beta.se =  0.0788 , p-value =  8.4466e-01 . \n",
      "Total NO. of IVs=  7 , NO. of valid IVs with foreground signals:  5.071216 . \n",
      "***********************************************************\n",
      "   user  system elapsed \n",
      "  6.970   2.032   4.501 \n",
      "Run MR-APSS not accounting for selection bias ... \n",
      "IV selection threshold: 5e-06 \n"
     ]
    },
    {
     "name": "stderr",
     "output_type": "stream",
     "text": [
      "Threshold = 1, the model will not correct for selection bias\n",
      "\n"
     ]
    },
    {
     "name": "stdout",
     "output_type": "stream",
     "text": [
      "***********************************************************\n",
      "MR test results of  Anorexia  on  Hair_Blonde : \n",
      "MR-APSS: beta =  -0.0175 , beta.se =  0.0218 , p-value =  4.2367e-01 . \n",
      "Total NO. of IVs=  37 , NO. of valid IVs with foreground signals:  36.9963 . \n",
      "***********************************************************\n",
      "   user  system elapsed \n",
      " 28.679   8.902  18.794 \n",
      "IV selection threshold: 5e-07 \n"
     ]
    },
    {
     "name": "stderr",
     "output_type": "stream",
     "text": [
      "Threshold = 1, the model will not correct for selection bias\n",
      "\n"
     ]
    },
    {
     "name": "stdout",
     "output_type": "stream",
     "text": [
      "***********************************************************\n",
      "MR test results of  Anorexia  on  Hair_Blonde : \n",
      "MR-APSS: beta =  -0.0163 , beta.se =  0.0337 , p-value =  6.2754e-01 . \n",
      "Total NO. of IVs=  14 , NO. of valid IVs with foreground signals:  13.9986 . \n",
      "***********************************************************\n",
      "   user  system elapsed \n",
      " 15.604   4.812  10.210 \n",
      "IV selection threshold: 5e-08 \n"
     ]
    },
    {
     "name": "stderr",
     "output_type": "stream",
     "text": [
      "Threshold = 1, the model will not correct for selection bias\n",
      "\n"
     ]
    },
    {
     "name": "stdout",
     "output_type": "stream",
     "text": [
      "***********************************************************\n",
      "MR test results of  Anorexia  on  Hair_Blonde : \n",
      "MR-APSS: beta =  -4e-04 , beta.se =  0.0433 , p-value =  9.9175e-01 . \n",
      "Total NO. of IVs=  7 , NO. of valid IVs with foreground signals:  6.9993 . \n",
      "***********************************************************\n",
      "   user  system elapsed \n",
      "  9.317   2.731   6.024 \n",
      "Pair:  Anorexia ~ Tanning \n",
      "Run MR-APSS ... \n",
      "IV selection threshold: 5e-06 \n",
      "***********************************************************\n",
      "MR test results of  Anorexia  on  Tanning : \n",
      "MR-APSS: beta =  0.0291 , beta.se =  0.0925 , p-value =  7.5343e-01 . \n",
      "Total NO. of IVs=  37 , NO. of valid IVs with foreground signals:  18.56471 . \n",
      "***********************************************************\n",
      "   user  system elapsed \n",
      "  9.318   2.679   5.999 \n",
      "IV selection threshold: 5e-07 \n",
      "***********************************************************\n",
      "MR test results of  Anorexia  on  Tanning : \n",
      "MR-APSS: beta =  -0.0071 , beta.se =  0.0748 , p-value =  9.2487e-01 . \n",
      "Total NO. of IVs=  14 , NO. of valid IVs with foreground signals:  7.360201 . \n",
      "***********************************************************\n",
      "   user  system elapsed \n",
      "  3.081   1.003   2.042 \n",
      "IV selection threshold: 5e-08 \n",
      "***********************************************************\n",
      "MR test results of  Anorexia  on  Tanning : \n",
      "MR-APSS: beta =  0.0127 , beta.se =  0.0984 , p-value =  8.9696e-01 . \n",
      "Total NO. of IVs=  7 , NO. of valid IVs with foreground signals:  5.221977 . \n",
      "***********************************************************\n",
      "   user  system elapsed \n",
      "  5.023   1.352   3.188 \n",
      "Run MR-APSS not accounting for selection bias ... \n",
      "IV selection threshold: 5e-06 \n"
     ]
    },
    {
     "name": "stderr",
     "output_type": "stream",
     "text": [
      "Threshold = 1, the model will not correct for selection bias\n",
      "\n"
     ]
    },
    {
     "name": "stdout",
     "output_type": "stream",
     "text": [
      "***********************************************************\n",
      "MR test results of  Anorexia  on  Tanning : \n",
      "MR-APSS: beta =  0.0073 , beta.se =  0.0303 , p-value =  8.0842e-01 . \n",
      "Total NO. of IVs=  37 , NO. of valid IVs with foreground signals:  36.9963 . \n",
      "***********************************************************\n",
      "   user  system elapsed \n",
      "  0.848   0.284   0.566 \n",
      "IV selection threshold: 5e-07 \n"
     ]
    },
    {
     "name": "stderr",
     "output_type": "stream",
     "text": [
      "Threshold = 1, the model will not correct for selection bias\n",
      "\n"
     ]
    },
    {
     "name": "stdout",
     "output_type": "stream",
     "text": [
      "***********************************************************\n",
      "MR test results of  Anorexia  on  Tanning : \n",
      "MR-APSS: beta =  0.0014 , beta.se =  0.0392 , p-value =  9.7224e-01 . \n",
      "Total NO. of IVs=  14 , NO. of valid IVs with foreground signals:  13.9986 . \n",
      "***********************************************************\n",
      "   user  system elapsed \n",
      "  8.943   2.643   5.794 \n",
      "IV selection threshold: 5e-08 \n"
     ]
    },
    {
     "name": "stderr",
     "output_type": "stream",
     "text": [
      "Threshold = 1, the model will not correct for selection bias\n",
      "\n"
     ]
    },
    {
     "name": "stdout",
     "output_type": "stream",
     "text": [
      "***********************************************************\n",
      "MR test results of  Anorexia  on  Tanning : \n",
      "MR-APSS: beta =  0.0333 , beta.se =  0.0512 , p-value =  5.1540e-01 . \n",
      "Total NO. of IVs=  7 , NO. of valid IVs with foreground signals:  6.9993 . \n",
      "***********************************************************\n",
      "   user  system elapsed \n",
      "  6.931   1.987   4.459 \n",
      "Pair:  CD ~ Hair_Light_Brown \n",
      "Run MR-APSS ... \n",
      "IV selection threshold: 5e-06 \n",
      "***********************************************************\n",
      "MR test results of  CD  on  Hair_Light_Brown : \n",
      "MR-APSS: beta =  -0.0071 , beta.se =  0.01 , p-value =  4.7809e-01 . \n",
      "Total NO. of IVs=  165 , NO. of valid IVs with foreground signals:  91.76231 . \n",
      "***********************************************************\n",
      "   user  system elapsed \n",
      "  4.383   1.241   2.813 \n",
      "IV selection threshold: 5e-07 \n",
      "***********************************************************\n",
      "MR test results of  CD  on  Hair_Light_Brown : \n",
      "MR-APSS: beta =  -0.0079 , beta.se =  0.0107 , p-value =  4.6497e-01 . \n",
      "Total NO. of IVs=  111 , NO. of valid IVs with foreground signals:  79.9174 . \n",
      "***********************************************************\n",
      "   user  system elapsed \n",
      "  3.228   1.007   2.118 \n",
      "IV selection threshold: 5e-08 \n",
      "***********************************************************\n",
      "MR test results of  CD  on  Hair_Light_Brown : \n",
      "MR-APSS: beta =  -0.0061 , beta.se =  0.0105 , p-value =  5.6327e-01 . \n",
      "Total NO. of IVs=  82 , NO. of valid IVs with foreground signals:  73.17499 . \n",
      "***********************************************************\n",
      "   user  system elapsed \n",
      "  2.996   0.964   1.981 \n",
      "Run MR-APSS not accounting for selection bias ... \n",
      "IV selection threshold: 5e-06 \n"
     ]
    },
    {
     "name": "stderr",
     "output_type": "stream",
     "text": [
      "Threshold = 1, the model will not correct for selection bias\n",
      "\n"
     ]
    },
    {
     "name": "stdout",
     "output_type": "stream",
     "text": [
      "***********************************************************\n",
      "MR test results of  CD  on  Hair_Light_Brown : \n",
      "MR-APSS: beta =  -0.008 , beta.se =  0.0068 , p-value =  2.3636e-01 . \n",
      "Total NO. of IVs=  165 , NO. of valid IVs with foreground signals:  164.9835 . \n",
      "***********************************************************\n",
      "   user  system elapsed \n",
      "  4.287   1.276   2.782 \n",
      "IV selection threshold: 5e-07 \n"
     ]
    },
    {
     "name": "stderr",
     "output_type": "stream",
     "text": [
      "Threshold = 1, the model will not correct for selection bias\n",
      "\n"
     ]
    },
    {
     "name": "stdout",
     "output_type": "stream",
     "text": [
      "***********************************************************\n",
      "MR test results of  CD  on  Hair_Light_Brown : \n",
      "MR-APSS: beta =  -0.0041 , beta.se =  0.0082 , p-value =  6.2072e-01 . \n",
      "Total NO. of IVs=  111 , NO. of valid IVs with foreground signals:  110.9889 . \n",
      "***********************************************************\n",
      "   user  system elapsed \n",
      "  2.121   0.608   1.364 \n",
      "IV selection threshold: 5e-08 \n"
     ]
    },
    {
     "name": "stderr",
     "output_type": "stream",
     "text": [
      "Threshold = 1, the model will not correct for selection bias\n",
      "\n"
     ]
    },
    {
     "name": "stdout",
     "output_type": "stream",
     "text": [
      "***********************************************************\n",
      "MR test results of  CD  on  Hair_Light_Brown : \n",
      "MR-APSS: beta =  -0.0052 , beta.se =  0.0089 , p-value =  5.5833e-01 . \n",
      "Total NO. of IVs=  82 , NO. of valid IVs with foreground signals:  81.9918 . \n",
      "***********************************************************\n",
      "   user  system elapsed \n",
      "  1.405   0.419   0.913 \n",
      "Pair:  CD ~ Hair_Dark_Brown \n",
      "Run MR-APSS ... \n",
      "IV selection threshold: 5e-06 \n",
      "***********************************************************\n",
      "MR test results of  CD  on  Hair_Dark_Brown : \n",
      "MR-APSS: beta =  0.0119 , beta.se =  0.0136 , p-value =  3.7882e-01 . \n",
      "Total NO. of IVs=  165 , NO. of valid IVs with foreground signals:  92.93665 . \n",
      "***********************************************************\n",
      "   user  system elapsed \n",
      "  4.911   1.521   3.217 \n",
      "IV selection threshold: 5e-07 \n",
      "***********************************************************\n",
      "MR test results of  CD  on  Hair_Dark_Brown : \n",
      "MR-APSS: beta =  0.013 , beta.se =  0.0146 , p-value =  3.7035e-01 . \n",
      "Total NO. of IVs=  111 , NO. of valid IVs with foreground signals:  81.25179 . \n",
      "***********************************************************\n",
      "   user  system elapsed \n",
      "  3.943   1.127   2.536 \n",
      "IV selection threshold: 5e-08 \n",
      "***********************************************************\n",
      "MR test results of  CD  on  Hair_Dark_Brown : \n",
      "MR-APSS: beta =  0.0095 , beta.se =  0.0141 , p-value =  4.9906e-01 . \n",
      "Total NO. of IVs=  82 , NO. of valid IVs with foreground signals:  72.93192 . \n",
      "***********************************************************\n",
      "   user  system elapsed \n",
      "  2.930   0.916   1.923 \n",
      "Run MR-APSS not accounting for selection bias ... \n",
      "IV selection threshold: 5e-06 \n"
     ]
    },
    {
     "name": "stderr",
     "output_type": "stream",
     "text": [
      "Threshold = 1, the model will not correct for selection bias\n",
      "\n"
     ]
    },
    {
     "name": "stdout",
     "output_type": "stream",
     "text": [
      "***********************************************************\n",
      "MR test results of  CD  on  Hair_Dark_Brown : \n",
      "MR-APSS: beta =  0.0123 , beta.se =  0.0089 , p-value =  1.6656e-01 . \n",
      "Total NO. of IVs=  165 , NO. of valid IVs with foreground signals:  164.9835 . \n",
      "***********************************************************\n",
      "   user  system elapsed \n",
      "  3.115   0.872   1.994 \n",
      "IV selection threshold: 5e-07 \n"
     ]
    },
    {
     "name": "stderr",
     "output_type": "stream",
     "text": [
      "Threshold = 1, the model will not correct for selection bias\n",
      "\n"
     ]
    },
    {
     "name": "stdout",
     "output_type": "stream",
     "text": [
      "***********************************************************\n",
      "MR test results of  CD  on  Hair_Dark_Brown : \n",
      "MR-APSS: beta =  0.0067 , beta.se =  0.0109 , p-value =  5.3832e-01 . \n",
      "Total NO. of IVs=  111 , NO. of valid IVs with foreground signals:  110.9889 . \n",
      "***********************************************************\n",
      "   user  system elapsed \n",
      "  1.798   0.566   1.183 \n",
      "IV selection threshold: 5e-08 \n"
     ]
    },
    {
     "name": "stderr",
     "output_type": "stream",
     "text": [
      "Threshold = 1, the model will not correct for selection bias\n",
      "\n"
     ]
    },
    {
     "name": "stdout",
     "output_type": "stream",
     "text": [
      "***********************************************************\n",
      "MR test results of  CD  on  Hair_Dark_Brown : \n",
      "MR-APSS: beta =  0.0057 , beta.se =  0.0118 , p-value =  6.2885e-01 . \n",
      "Total NO. of IVs=  82 , NO. of valid IVs with foreground signals:  81.9918 . \n",
      "***********************************************************\n",
      "   user  system elapsed \n",
      "  1.352   0.432   0.891 \n",
      "Pair:  CD ~ Hair_Black \n",
      "Run MR-APSS ... \n",
      "IV selection threshold: 5e-06 \n",
      "***********************************************************\n",
      "MR test results of  CD  on  Hair_Black : \n",
      "MR-APSS: beta =  0.0084 , beta.se =  0.0128 , p-value =  5.1058e-01 . \n",
      "Total NO. of IVs=  165 , NO. of valid IVs with foreground signals:  91.86915 . \n",
      "***********************************************************\n",
      "   user  system elapsed \n",
      "  4.616   1.388   3.002 \n",
      "IV selection threshold: 5e-07 \n",
      "***********************************************************\n",
      "MR test results of  CD  on  Hair_Black : \n",
      "MR-APSS: beta =  0.009 , beta.se =  0.0137 , p-value =  5.0852e-01 . \n",
      "Total NO. of IVs=  111 , NO. of valid IVs with foreground signals:  79.9192 . \n",
      "***********************************************************\n",
      "   user  system elapsed \n",
      "  3.646   1.135   2.391 \n",
      "IV selection threshold: 5e-08 \n",
      "***********************************************************\n",
      "MR test results of  CD  on  Hair_Black : \n",
      "MR-APSS: beta =  0.0098 , beta.se =  0.0128 , p-value =  4.4519e-01 . \n",
      "Total NO. of IVs=  82 , NO. of valid IVs with foreground signals:  71.78739 . \n",
      "***********************************************************\n",
      "   user  system elapsed \n",
      "  2.931   0.887   1.910 \n",
      "Run MR-APSS not accounting for selection bias ... \n",
      "IV selection threshold: 5e-06 \n"
     ]
    },
    {
     "name": "stderr",
     "output_type": "stream",
     "text": [
      "Threshold = 1, the model will not correct for selection bias\n",
      "\n"
     ]
    },
    {
     "name": "stdout",
     "output_type": "stream",
     "text": [
      "***********************************************************\n",
      "MR test results of  CD  on  Hair_Black : \n",
      "MR-APSS: beta =  0.006 , beta.se =  0.0082 , p-value =  4.6692e-01 . \n",
      "Total NO. of IVs=  165 , NO. of valid IVs with foreground signals:  164.9835 . \n",
      "***********************************************************\n",
      "   user  system elapsed \n",
      "  2.935   0.967   1.952 \n",
      "IV selection threshold: 5e-07 \n"
     ]
    },
    {
     "name": "stderr",
     "output_type": "stream",
     "text": [
      "Threshold = 1, the model will not correct for selection bias\n",
      "\n"
     ]
    },
    {
     "name": "stdout",
     "output_type": "stream",
     "text": [
      "***********************************************************\n",
      "MR test results of  CD  on  Hair_Black : \n",
      "MR-APSS: beta =  0.0052 , beta.se =  0.0102 , p-value =  6.1007e-01 . \n",
      "Total NO. of IVs=  111 , NO. of valid IVs with foreground signals:  110.9889 . \n",
      "***********************************************************\n",
      "   user  system elapsed \n",
      "  1.822   0.560   1.191 \n",
      "IV selection threshold: 5e-08 \n"
     ]
    },
    {
     "name": "stderr",
     "output_type": "stream",
     "text": [
      "Threshold = 1, the model will not correct for selection bias\n",
      "\n"
     ]
    },
    {
     "name": "stdout",
     "output_type": "stream",
     "text": [
      "***********************************************************\n",
      "MR test results of  CD  on  Hair_Black : \n",
      "MR-APSS: beta =  0.008 , beta.se =  0.0107 , p-value =  4.5472e-01 . \n",
      "Total NO. of IVs=  82 , NO. of valid IVs with foreground signals:  81.9918 . \n",
      "***********************************************************\n",
      "   user  system elapsed \n",
      "  1.385   0.368   0.877 \n",
      "Pair:  CD ~ Hair_Blonde \n",
      "Run MR-APSS ... \n",
      "IV selection threshold: 5e-06 \n",
      "***********************************************************\n",
      "MR test results of  CD  on  Hair_Blonde : \n",
      "MR-APSS: beta =  -0.0145 , beta.se =  0.0137 , p-value =  2.8802e-01 . \n",
      "Total NO. of IVs=  165 , NO. of valid IVs with foreground signals:  92.2609 . \n",
      "***********************************************************\n",
      "   user  system elapsed \n",
      "  4.906   1.476   3.192 \n",
      "IV selection threshold: 5e-07 \n",
      "***********************************************************\n",
      "MR test results of  CD  on  Hair_Blonde : \n",
      "MR-APSS: beta =  -0.0133 , beta.se =  0.0141 , p-value =  3.4637e-01 . \n",
      "Total NO. of IVs=  111 , NO. of valid IVs with foreground signals:  80.72252 . \n",
      "***********************************************************\n",
      "   user  system elapsed \n",
      "  3.887   1.211   2.550 \n",
      "IV selection threshold: 5e-08 \n",
      "***********************************************************\n",
      "MR test results of  CD  on  Hair_Blonde : \n",
      "MR-APSS: beta =  -0.0111 , beta.se =  0.0145 , p-value =  4.4482e-01 . \n",
      "Total NO. of IVs=  82 , NO. of valid IVs with foreground signals:  72.63987 . \n",
      "***********************************************************\n",
      "   user  system elapsed \n",
      "  3.069   1.060   2.065 \n",
      "Run MR-APSS not accounting for selection bias ... \n",
      "IV selection threshold: 5e-06 \n"
     ]
    },
    {
     "name": "stderr",
     "output_type": "stream",
     "text": [
      "Threshold = 1, the model will not correct for selection bias\n",
      "\n"
     ]
    },
    {
     "name": "stdout",
     "output_type": "stream",
     "text": [
      "***********************************************************\n",
      "MR test results of  CD  on  Hair_Blonde : \n",
      "MR-APSS: beta =  -0.0106 , beta.se =  0.0089 , p-value =  2.3423e-01 . \n",
      "Total NO. of IVs=  165 , NO. of valid IVs with foreground signals:  164.9835 . \n",
      "***********************************************************\n",
      "   user  system elapsed \n",
      "  2.395   0.688   1.542 \n",
      "IV selection threshold: 5e-07 \n"
     ]
    },
    {
     "name": "stderr",
     "output_type": "stream",
     "text": [
      "Threshold = 1, the model will not correct for selection bias\n",
      "\n"
     ]
    },
    {
     "name": "stdout",
     "output_type": "stream",
     "text": [
      "***********************************************************\n",
      "MR test results of  CD  on  Hair_Blonde : \n",
      "MR-APSS: beta =  -0.0074 , beta.se =  0.0106 , p-value =  4.8206e-01 . \n",
      "Total NO. of IVs=  111 , NO. of valid IVs with foreground signals:  110.9889 . \n",
      "***********************************************************\n",
      "   user  system elapsed \n",
      "  1.568   0.509   1.038 \n",
      "IV selection threshold: 5e-08 \n"
     ]
    },
    {
     "name": "stderr",
     "output_type": "stream",
     "text": [
      "Threshold = 1, the model will not correct for selection bias\n",
      "\n"
     ]
    },
    {
     "name": "stdout",
     "output_type": "stream",
     "text": [
      "***********************************************************\n",
      "MR test results of  CD  on  Hair_Blonde : \n",
      "MR-APSS: beta =  -0.007 , beta.se =  0.0121 , p-value =  5.6288e-01 . \n",
      "Total NO. of IVs=  82 , NO. of valid IVs with foreground signals:  81.9918 . \n",
      "***********************************************************\n",
      "   user  system elapsed \n",
      "  1.265   0.400   0.832 \n",
      "Pair:  CD ~ Tanning \n",
      "Run MR-APSS ... \n",
      "IV selection threshold: 5e-06 \n",
      "***********************************************************\n",
      "MR test results of  CD  on  Tanning : \n",
      "MR-APSS: beta =  0.0207 , beta.se =  0.011 , p-value =  6.0518e-02 . \n",
      "Total NO. of IVs=  165 , NO. of valid IVs with foreground signals:  90.51047 . \n",
      "***********************************************************\n",
      "   user  system elapsed \n",
      "  7.042   2.142   4.593 \n",
      "IV selection threshold: 5e-07 \n",
      "***********************************************************\n",
      "MR test results of  CD  on  Tanning : \n",
      "MR-APSS: beta =  0.0236 , beta.se =  0.0116 , p-value =  4.1382e-02 . \n",
      "Total NO. of IVs=  111 , NO. of valid IVs with foreground signals:  77.01733 . \n",
      "***********************************************************\n",
      "   user  system elapsed \n",
      "  5.154   1.488   3.321 \n",
      "IV selection threshold: 5e-08 \n",
      "***********************************************************\n",
      "MR test results of  CD  on  Tanning : \n",
      "MR-APSS: beta =  0.0263 , beta.se =  0.0121 , p-value =  3.0090e-02 . \n",
      "Total NO. of IVs=  82 , NO. of valid IVs with foreground signals:  70.88919 . \n",
      "***********************************************************\n",
      "   user  system elapsed \n",
      "  3.992   1.241   2.617 \n",
      "Run MR-APSS not accounting for selection bias ... \n",
      "IV selection threshold: 5e-06 \n"
     ]
    },
    {
     "name": "stderr",
     "output_type": "stream",
     "text": [
      "Threshold = 1, the model will not correct for selection bias\n",
      "\n"
     ]
    },
    {
     "name": "stdout",
     "output_type": "stream",
     "text": [
      "***********************************************************\n",
      "MR test results of  CD  on  Tanning : \n",
      "MR-APSS: beta =  0.0084 , beta.se =  0.008 , p-value =  2.9154e-01 . \n",
      "Total NO. of IVs=  165 , NO. of valid IVs with foreground signals:  164.9835 . \n",
      "***********************************************************\n",
      "   user  system elapsed \n",
      "  5.523   1.583   3.554 \n",
      "IV selection threshold: 5e-07 \n"
     ]
    },
    {
     "name": "stderr",
     "output_type": "stream",
     "text": [
      "Threshold = 1, the model will not correct for selection bias\n",
      "\n"
     ]
    },
    {
     "name": "stdout",
     "output_type": "stream",
     "text": [
      "***********************************************************\n",
      "MR test results of  CD  on  Tanning : \n",
      "MR-APSS: beta =  0.0134 , beta.se =  0.0091 , p-value =  1.3948e-01 . \n",
      "Total NO. of IVs=  111 , NO. of valid IVs with foreground signals:  110.9889 . \n",
      "***********************************************************\n",
      "   user  system elapsed \n",
      "  3.780   1.123   2.452 \n",
      "IV selection threshold: 5e-08 \n"
     ]
    },
    {
     "name": "stderr",
     "output_type": "stream",
     "text": [
      "Threshold = 1, the model will not correct for selection bias\n",
      "\n"
     ]
    },
    {
     "name": "stdout",
     "output_type": "stream",
     "text": [
      "***********************************************************\n",
      "MR test results of  CD  on  Tanning : \n",
      "MR-APSS: beta =  0.0203 , beta.se =  0.0102 , p-value =  4.6303e-02 . \n",
      "Total NO. of IVs=  82 , NO. of valid IVs with foreground signals:  81.9918 . \n",
      "***********************************************************\n",
      "   user  system elapsed \n",
      "  2.829   0.869   1.849 \n",
      "Pair:  Height_GIANT ~ Hair_Light_Brown \n",
      "Run MR-APSS ... \n",
      "IV selection threshold: 5e-06 \n",
      "***********************************************************\n",
      "MR test results of  Height_GIANT  on  Hair_Light_Brown : \n",
      "MR-APSS: beta =  -0.0014 , beta.se =  0.0097 , p-value =  8.8502e-01 . \n",
      "Total NO. of IVs=  828 , NO. of valid IVs with foreground signals:  296.6116 . \n",
      "***********************************************************\n",
      "   user  system elapsed \n",
      " 15.992   3.278  12.120 \n",
      "IV selection threshold: 5e-07 \n",
      "***********************************************************\n",
      "MR test results of  Height_GIANT  on  Hair_Light_Brown : \n",
      "MR-APSS: beta =  -0.0033 , beta.se =  0.0108 , p-value =  7.5862e-01 . \n",
      "Total NO. of IVs=  645 , NO. of valid IVs with foreground signals:  237.0597 . \n",
      "***********************************************************\n",
      "   user  system elapsed \n",
      " 11.985   2.643   8.599 \n",
      "IV selection threshold: 5e-08 \n",
      "***********************************************************\n",
      "MR test results of  Height_GIANT  on  Hair_Light_Brown : \n",
      "MR-APSS: beta =  -0.0071 , beta.se =  0.0107 , p-value =  5.0595e-01 . \n",
      "Total NO. of IVs=  527 , NO. of valid IVs with foreground signals:  193.8365 . \n",
      "***********************************************************\n",
      "   user  system elapsed \n",
      " 10.943   2.922   7.644 \n",
      "Run MR-APSS not accounting for selection bias ... \n",
      "IV selection threshold: 5e-06 \n"
     ]
    },
    {
     "name": "stderr",
     "output_type": "stream",
     "text": [
      "Threshold = 1, the model will not correct for selection bias\n",
      "\n"
     ]
    },
    {
     "name": "stdout",
     "output_type": "stream",
     "text": [
      "***********************************************************\n",
      "MR test results of  Height_GIANT  on  Hair_Light_Brown : \n",
      "MR-APSS: beta =  0.0206 , beta.se =  0.0062 , p-value =  8.5853e-04 . \n",
      "Total NO. of IVs=  828 , NO. of valid IVs with foreground signals:  827.9158 . \n",
      "***********************************************************\n",
      "   user  system elapsed \n",
      " 16.031   3.201  12.423 \n",
      "IV selection threshold: 5e-07 \n"
     ]
    },
    {
     "name": "stderr",
     "output_type": "stream",
     "text": [
      "Threshold = 1, the model will not correct for selection bias\n",
      "\n"
     ]
    },
    {
     "name": "stdout",
     "output_type": "stream",
     "text": [
      "***********************************************************\n",
      "MR test results of  Height_GIANT  on  Hair_Light_Brown : \n",
      "MR-APSS: beta =  0.016 , beta.se =  0.0067 , p-value =  1.6376e-02 . \n",
      "Total NO. of IVs=  645 , NO. of valid IVs with foreground signals:  644.9338 . \n",
      "***********************************************************\n",
      "   user  system elapsed \n",
      " 14.944   3.439  10.886 \n",
      "IV selection threshold: 5e-08 \n"
     ]
    },
    {
     "name": "stderr",
     "output_type": "stream",
     "text": [
      "Threshold = 1, the model will not correct for selection bias\n",
      "\n"
     ]
    },
    {
     "name": "stdout",
     "output_type": "stream",
     "text": [
      "***********************************************************\n",
      "MR test results of  Height_GIANT  on  Hair_Light_Brown : \n",
      "MR-APSS: beta =  0.0086 , beta.se =  0.0068 , p-value =  2.0225e-01 . \n",
      "Total NO. of IVs=  527 , NO. of valid IVs with foreground signals:  526.9458 . \n",
      "***********************************************************\n",
      "   user  system elapsed \n",
      "  8.773   2.290   6.102 \n",
      "Pair:  Height_GIANT ~ Hair_Dark_Brown \n",
      "Run MR-APSS ... \n",
      "IV selection threshold: 5e-06 \n",
      "***********************************************************\n",
      "MR test results of  Height_GIANT  on  Hair_Dark_Brown : \n",
      "MR-APSS: beta =  0.0061 , beta.se =  0.014 , p-value =  6.6521e-01 . \n",
      "Total NO. of IVs=  828 , NO. of valid IVs with foreground signals:  291.0383 . \n",
      "***********************************************************\n",
      "   user  system elapsed \n",
      " 14.968   3.172  11.389 \n",
      "IV selection threshold: 5e-07 \n",
      "***********************************************************\n",
      "MR test results of  Height_GIANT  on  Hair_Dark_Brown : \n",
      "MR-APSS: beta =  0.004 , beta.se =  0.0143 , p-value =  7.7707e-01 . \n",
      "Total NO. of IVs=  644 , NO. of valid IVs with foreground signals:  234.7419 . \n",
      "***********************************************************\n",
      "   user  system elapsed \n",
      " 11.494   2.664   8.299 \n",
      "IV selection threshold: 5e-08 \n",
      "***********************************************************\n",
      "MR test results of  Height_GIANT  on  Hair_Dark_Brown : \n",
      "MR-APSS: beta =  0.0038 , beta.se =  0.0157 , p-value =  8.1108e-01 . \n",
      "Total NO. of IVs=  527 , NO. of valid IVs with foreground signals:  191.0593 . \n",
      "***********************************************************\n",
      "   user  system elapsed \n",
      "  9.122   2.630   6.469 \n",
      "Run MR-APSS not accounting for selection bias ... \n",
      "IV selection threshold: 5e-06 \n"
     ]
    },
    {
     "name": "stderr",
     "output_type": "stream",
     "text": [
      "Threshold = 1, the model will not correct for selection bias\n",
      "\n"
     ]
    },
    {
     "name": "stdout",
     "output_type": "stream",
     "text": [
      "***********************************************************\n",
      "MR test results of  Height_GIANT  on  Hair_Dark_Brown : \n",
      "MR-APSS: beta =  -0.0159 , beta.se =  0.0081 , p-value =  4.9296e-02 . \n",
      "Total NO. of IVs=  828 , NO. of valid IVs with foreground signals:  827.9154 . \n",
      "***********************************************************\n",
      "   user  system elapsed \n",
      "  7.453   1.684   5.779 \n",
      "IV selection threshold: 5e-07 \n"
     ]
    },
    {
     "name": "stderr",
     "output_type": "stream",
     "text": [
      "Threshold = 1, the model will not correct for selection bias\n",
      "\n"
     ]
    },
    {
     "name": "stdout",
     "output_type": "stream",
     "text": [
      "***********************************************************\n",
      "MR test results of  Height_GIANT  on  Hair_Dark_Brown : \n",
      "MR-APSS: beta =  -0.0109 , beta.se =  0.0084 , p-value =  1.9296e-01 . \n",
      "Total NO. of IVs=  644 , NO. of valid IVs with foreground signals:  643.9338 . \n",
      "***********************************************************\n",
      "   user  system elapsed \n",
      "  7.655   1.759   5.448 \n",
      "IV selection threshold: 5e-08 \n"
     ]
    },
    {
     "name": "stderr",
     "output_type": "stream",
     "text": [
      "Threshold = 1, the model will not correct for selection bias\n",
      "\n"
     ]
    },
    {
     "name": "stdout",
     "output_type": "stream",
     "text": [
      "***********************************************************\n",
      "MR test results of  Height_GIANT  on  Hair_Dark_Brown : \n",
      "MR-APSS: beta =  -0.006 , beta.se =  0.0091 , p-value =  5.1310e-01 . \n",
      "Total NO. of IVs=  527 , NO. of valid IVs with foreground signals:  526.9453 . \n",
      "***********************************************************\n",
      "   user  system elapsed \n",
      "  6.641   1.626   4.548 \n",
      "Pair:  Height_GIANT ~ Hair_Black \n",
      "Run MR-APSS ... \n",
      "IV selection threshold: 5e-06 \n",
      "***********************************************************\n",
      "MR test results of  Height_GIANT  on  Hair_Black : \n",
      "MR-APSS: beta =  -0.0099 , beta.se =  0.0121 , p-value =  4.1191e-01 . \n",
      "Total NO. of IVs=  828 , NO. of valid IVs with foreground signals:  296.8128 . \n",
      "***********************************************************\n",
      "   user  system elapsed \n",
      " 15.835   3.228  12.030 \n",
      "IV selection threshold: 5e-07 \n",
      "***********************************************************\n",
      "MR test results of  Height_GIANT  on  Hair_Black : \n",
      "MR-APSS: beta =  -0.0079 , beta.se =  0.0132 , p-value =  5.4756e-01 . \n",
      "Total NO. of IVs=  645 , NO. of valid IVs with foreground signals:  236.2577 . \n",
      "***********************************************************\n",
      "   user  system elapsed \n",
      " 12.410   2.906   8.981 \n",
      "IV selection threshold: 5e-08 \n",
      "***********************************************************\n",
      "MR test results of  Height_GIANT  on  Hair_Black : \n",
      "MR-APSS: beta =  -0.0108 , beta.se =  0.0124 , p-value =  3.8630e-01 . \n",
      "Total NO. of IVs=  527 , NO. of valid IVs with foreground signals:  195.3476 . \n",
      "***********************************************************\n",
      "   user  system elapsed \n",
      " 10.345   2.724   7.191 \n",
      "Run MR-APSS not accounting for selection bias ... \n",
      "IV selection threshold: 5e-06 \n"
     ]
    },
    {
     "name": "stderr",
     "output_type": "stream",
     "text": [
      "Threshold = 1, the model will not correct for selection bias\n",
      "\n"
     ]
    },
    {
     "name": "stdout",
     "output_type": "stream",
     "text": [
      "***********************************************************\n",
      "MR test results of  Height_GIANT  on  Hair_Black : \n",
      "MR-APSS: beta =  -0.0343 , beta.se =  0.0073 , p-value =  2.3425e-06 . \n",
      "Total NO. of IVs=  828 , NO. of valid IVs with foreground signals:  827.9157 . \n",
      "***********************************************************\n",
      "   user  system elapsed \n",
      " 21.577   4.348  16.643 \n",
      "IV selection threshold: 5e-07 \n"
     ]
    },
    {
     "name": "stderr",
     "output_type": "stream",
     "text": [
      "Threshold = 1, the model will not correct for selection bias\n",
      "\n"
     ]
    },
    {
     "name": "stdout",
     "output_type": "stream",
     "text": [
      "***********************************************************\n",
      "MR test results of  Height_GIANT  on  Hair_Black : \n",
      "MR-APSS: beta =  -0.029 , beta.se =  0.0077 , p-value =  1.7694e-04 . \n",
      "Total NO. of IVs=  645 , NO. of valid IVs with foreground signals:  644.9338 . \n",
      "***********************************************************\n",
      "   user  system elapsed \n",
      " 16.584   3.971  12.253 \n",
      "IV selection threshold: 5e-08 \n"
     ]
    },
    {
     "name": "stderr",
     "output_type": "stream",
     "text": [
      "Threshold = 1, the model will not correct for selection bias\n",
      "\n"
     ]
    },
    {
     "name": "stdout",
     "output_type": "stream",
     "text": [
      "***********************************************************\n",
      "MR test results of  Height_GIANT  on  Hair_Black : \n",
      "MR-APSS: beta =  -0.0305 , beta.se =  0.0078 , p-value =  9.7128e-05 . \n",
      "Total NO. of IVs=  527 , NO. of valid IVs with foreground signals:  526.9458 . \n",
      "***********************************************************\n",
      "   user  system elapsed \n",
      " 16.216   4.219  11.430 \n",
      "Pair:  Height_GIANT ~ Hair_Blonde \n",
      "Run MR-APSS ... \n",
      "IV selection threshold: 5e-06 \n",
      "***********************************************************\n",
      "MR test results of  Height_GIANT  on  Hair_Blonde : \n",
      "MR-APSS: beta =  0.0189 , beta.se =  0.0125 , p-value =  1.3052e-01 . \n",
      "Total NO. of IVs=  828 , NO. of valid IVs with foreground signals:  296.366 . \n",
      "***********************************************************\n",
      "   user  system elapsed \n",
      " 16.350   3.267  12.377 \n",
      "IV selection threshold: 5e-07 \n",
      "***********************************************************\n",
      "MR test results of  Height_GIANT  on  Hair_Blonde : \n",
      "MR-APSS: beta =  0.0227 , beta.se =  0.0133 , p-value =  8.8873e-02 . \n",
      "Total NO. of IVs=  645 , NO. of valid IVs with foreground signals:  236.7311 . \n",
      "***********************************************************\n",
      "   user  system elapsed \n",
      " 12.691   3.113   9.287 \n",
      "IV selection threshold: 5e-08 \n",
      "***********************************************************\n",
      "MR test results of  Height_GIANT  on  Hair_Blonde : \n",
      "MR-APSS: beta =  0.0267 , beta.se =  0.0129 , p-value =  3.8385e-02 . \n",
      "Total NO. of IVs=  526 , NO. of valid IVs with foreground signals:  194.8175 . \n",
      "***********************************************************\n",
      "   user  system elapsed \n",
      " 10.988   3.004   7.661 \n",
      "Run MR-APSS not accounting for selection bias ... \n",
      "IV selection threshold: 5e-06 \n"
     ]
    },
    {
     "name": "stderr",
     "output_type": "stream",
     "text": [
      "Threshold = 1, the model will not correct for selection bias\n",
      "\n"
     ]
    },
    {
     "name": "stdout",
     "output_type": "stream",
     "text": [
      "***********************************************************\n",
      "MR test results of  Height_GIANT  on  Hair_Blonde : \n",
      "MR-APSS: beta =  0.0182 , beta.se =  0.0071 , p-value =  1.0091e-02 . \n",
      "Total NO. of IVs=  828 , NO. of valid IVs with foreground signals:  827.9158 . \n",
      "***********************************************************\n",
      "   user  system elapsed \n",
      " 17.397   3.584  13.176 \n",
      "IV selection threshold: 5e-07 \n"
     ]
    },
    {
     "name": "stderr",
     "output_type": "stream",
     "text": [
      "Threshold = 1, the model will not correct for selection bias\n",
      "\n"
     ]
    },
    {
     "name": "stdout",
     "output_type": "stream",
     "text": [
      "***********************************************************\n",
      "MR test results of  Height_GIANT  on  Hair_Blonde : \n",
      "MR-APSS: beta =  0.019 , beta.se =  0.0075 , p-value =  1.1768e-02 . \n",
      "Total NO. of IVs=  645 , NO. of valid IVs with foreground signals:  644.934 . \n",
      "***********************************************************\n",
      "   user  system elapsed \n",
      " 14.778   3.367  10.667 \n",
      "IV selection threshold: 5e-08 \n"
     ]
    },
    {
     "name": "stderr",
     "output_type": "stream",
     "text": [
      "Threshold = 1, the model will not correct for selection bias\n",
      "\n"
     ]
    },
    {
     "name": "stdout",
     "output_type": "stream",
     "text": [
      "***********************************************************\n",
      "MR test results of  Height_GIANT  on  Hair_Blonde : \n",
      "MR-APSS: beta =  0.0213 , beta.se =  0.0076 , p-value =  4.8495e-03 . \n",
      "Total NO. of IVs=  526 , NO. of valid IVs with foreground signals:  525.9461 . \n",
      "***********************************************************\n",
      "   user  system elapsed \n",
      " 17.663   4.619  12.258 \n",
      "Pair:  Height_GIANT ~ Tanning \n",
      "Run MR-APSS ... \n",
      "IV selection threshold: 5e-06 \n",
      "***********************************************************\n",
      "MR test results of  Height_GIANT  on  Tanning : \n",
      "MR-APSS: beta =  -0.0099 , beta.se =  0.0142 , p-value =  4.8517e-01 . \n",
      "Total NO. of IVs=  827 , NO. of valid IVs with foreground signals:  297.7686 . \n",
      "***********************************************************\n",
      "   user  system elapsed \n",
      " 16.024   3.366  12.124 \n",
      "IV selection threshold: 5e-07 \n",
      "***********************************************************\n",
      "MR test results of  Height_GIANT  on  Tanning : \n",
      "MR-APSS: beta =  -0.008 , beta.se =  0.0155 , p-value =  6.0464e-01 . \n",
      "Total NO. of IVs=  644 , NO. of valid IVs with foreground signals:  239.6823 . \n",
      "***********************************************************\n",
      "   user  system elapsed \n",
      " 12.007   2.842   8.688 \n",
      "IV selection threshold: 5e-08 \n",
      "***********************************************************\n",
      "MR test results of  Height_GIANT  on  Tanning : \n",
      "MR-APSS: beta =  -0.0027 , beta.se =  0.0161 , p-value =  8.6841e-01 . \n",
      "Total NO. of IVs=  527 , NO. of valid IVs with foreground signals:  193.6436 . \n",
      "***********************************************************\n",
      "   user  system elapsed \n",
      "  8.971   2.307   6.168 \n",
      "Run MR-APSS not accounting for selection bias ... \n",
      "IV selection threshold: 5e-06 \n"
     ]
    },
    {
     "name": "stderr",
     "output_type": "stream",
     "text": [
      "Threshold = 1, the model will not correct for selection bias\n",
      "\n"
     ]
    },
    {
     "name": "stdout",
     "output_type": "stream",
     "text": [
      "***********************************************************\n",
      "MR test results of  Height_GIANT  on  Tanning : \n",
      "MR-APSS: beta =  -0.0257 , beta.se =  0.0082 , p-value =  1.8083e-03 . \n",
      "Total NO. of IVs=  827 , NO. of valid IVs with foreground signals:  826.916 . \n",
      "***********************************************************\n",
      "   user  system elapsed \n",
      " 17.393   3.579  13.296 \n",
      "IV selection threshold: 5e-07 \n"
     ]
    },
    {
     "name": "stderr",
     "output_type": "stream",
     "text": [
      "Threshold = 1, the model will not correct for selection bias\n",
      "\n"
     ]
    },
    {
     "name": "stdout",
     "output_type": "stream",
     "text": [
      "***********************************************************\n",
      "MR test results of  Height_GIANT  on  Tanning : \n",
      "MR-APSS: beta =  -0.0208 , beta.se =  0.009 , p-value =  2.0520e-02 . \n",
      "Total NO. of IVs=  644 , NO. of valid IVs with foreground signals:  643.934 . \n",
      "***********************************************************\n",
      "   user  system elapsed \n",
      " 13.670   3.248   9.961 \n",
      "IV selection threshold: 5e-08 \n"
     ]
    },
    {
     "name": "stderr",
     "output_type": "stream",
     "text": [
      "Threshold = 1, the model will not correct for selection bias\n",
      "\n"
     ]
    },
    {
     "name": "stdout",
     "output_type": "stream",
     "text": [
      "***********************************************************\n",
      "MR test results of  Height_GIANT  on  Tanning : \n",
      "MR-APSS: beta =  -0.0186 , beta.se =  0.0096 , p-value =  5.3118e-02 . \n",
      "Total NO. of IVs=  527 , NO. of valid IVs with foreground signals:  526.9457 . \n",
      "***********************************************************\n",
      "   user  system elapsed \n",
      " 10.211   2.744   7.118 \n",
      "Pair:  Insomnia ~ Hair_Light_Brown \n",
      "Run MR-APSS ... \n",
      "IV selection threshold: 5e-06 \n",
      "***********************************************************\n",
      "MR test results of  Insomnia  on  Hair_Light_Brown : \n",
      "MR-APSS: beta =  -0.0464 , beta.se =  0.0529 , p-value =  3.8110e-01 . \n",
      "Total NO. of IVs=  134 , NO. of valid IVs with foreground signals:  41.53352 . \n",
      "***********************************************************\n",
      "   user  system elapsed \n",
      "  8.969   2.843   5.909 \n",
      "IV selection threshold: 5e-07 \n",
      "***********************************************************\n",
      "MR test results of  Insomnia  on  Hair_Light_Brown : \n",
      "MR-APSS: beta =  -0.071 , beta.se =  0.0609 , p-value =  2.4337e-01 . \n",
      "Total NO. of IVs=  69 , NO. of valid IVs with foreground signals:  23.34613 . \n",
      "***********************************************************\n",
      "   user  system elapsed \n",
      "  4.277   1.456   2.867 \n",
      "IV selection threshold: 5e-08 \n",
      "***********************************************************\n",
      "MR test results of  Insomnia  on  Hair_Light_Brown : \n",
      "MR-APSS: beta =  -0.0912 , beta.se =  0.0699 , p-value =  1.9151e-01 . \n",
      "Total NO. of IVs=  37 , NO. of valid IVs with foreground signals:  16.68924 . \n",
      "***********************************************************\n",
      "   user  system elapsed \n",
      " 14.216   4.445   9.333 \n",
      "Run MR-APSS not accounting for selection bias ... \n",
      "IV selection threshold: 5e-06 \n"
     ]
    },
    {
     "name": "stderr",
     "output_type": "stream",
     "text": [
      "Threshold = 1, the model will not correct for selection bias\n",
      "\n"
     ]
    },
    {
     "name": "stdout",
     "output_type": "stream",
     "text": [
      "***********************************************************\n",
      "MR test results of  Insomnia  on  Hair_Light_Brown : \n",
      "MR-APSS: beta =  -0.0118 , beta.se =  0.0244 , p-value =  6.2803e-01 . \n",
      "Total NO. of IVs=  134 , NO. of valid IVs with foreground signals:  133.9866 . \n",
      "***********************************************************\n",
      "   user  system elapsed \n",
      "  0.795   0.256   0.525 \n",
      "IV selection threshold: 5e-07 \n"
     ]
    },
    {
     "name": "stderr",
     "output_type": "stream",
     "text": [
      "Threshold = 1, the model will not correct for selection bias\n",
      "\n"
     ]
    },
    {
     "name": "stdout",
     "output_type": "stream",
     "text": [
      "***********************************************************\n",
      "MR test results of  Insomnia  on  Hair_Light_Brown : \n",
      "MR-APSS: beta =  -0.0328 , beta.se =  0.031 , p-value =  2.8927e-01 . \n",
      "Total NO. of IVs=  69 , NO. of valid IVs with foreground signals:  68.9931 . \n",
      "***********************************************************\n",
      "   user  system elapsed \n",
      "  0.458   0.133   0.295 \n",
      "IV selection threshold: 5e-08 \n"
     ]
    },
    {
     "name": "stderr",
     "output_type": "stream",
     "text": [
      "Threshold = 1, the model will not correct for selection bias\n",
      "\n"
     ]
    },
    {
     "name": "stdout",
     "output_type": "stream",
     "text": [
      "***********************************************************\n",
      "MR test results of  Insomnia  on  Hair_Light_Brown : \n",
      "MR-APSS: beta =  -0.0457 , beta.se =  0.0407 , p-value =  2.6220e-01 . \n",
      "Total NO. of IVs=  37 , NO. of valid IVs with foreground signals:  36.9963 . \n",
      "***********************************************************\n",
      "   user  system elapsed \n",
      " 14.245   4.216   9.232 \n",
      "Pair:  Insomnia ~ Hair_Dark_Brown \n",
      "Run MR-APSS ... \n",
      "IV selection threshold: 5e-06 \n",
      "***********************************************************\n",
      "MR test results of  Insomnia  on  Hair_Dark_Brown : \n",
      "MR-APSS: beta =  0.0465 , beta.se =  0.0616 , p-value =  4.5040e-01 . \n",
      "Total NO. of IVs=  134 , NO. of valid IVs with foreground signals:  41.58877 . \n",
      "***********************************************************\n",
      "   user  system elapsed \n",
      "  8.804   2.438   5.623 \n",
      "IV selection threshold: 5e-07 \n",
      "***********************************************************\n",
      "MR test results of  Insomnia  on  Hair_Dark_Brown : \n",
      "MR-APSS: beta =  0.0806 , beta.se =  0.0706 , p-value =  2.5344e-01 . \n",
      "Total NO. of IVs=  69 , NO. of valid IVs with foreground signals:  23.65193 . \n",
      "***********************************************************\n",
      "   user  system elapsed \n",
      "  4.136   1.154   2.646 \n",
      "IV selection threshold: 5e-08 \n",
      "***********************************************************\n",
      "MR test results of  Insomnia  on  Hair_Dark_Brown : \n",
      "MR-APSS: beta =  0.0971 , beta.se =  0.0781 , p-value =  2.1344e-01 . \n",
      "Total NO. of IVs=  37 , NO. of valid IVs with foreground signals:  17.1898 . \n",
      "***********************************************************\n",
      "   user  system elapsed \n",
      "  2.823   0.800   1.812 \n",
      "Run MR-APSS not accounting for selection bias ... \n",
      "IV selection threshold: 5e-06 \n"
     ]
    },
    {
     "name": "stderr",
     "output_type": "stream",
     "text": [
      "Threshold = 1, the model will not correct for selection bias\n",
      "\n"
     ]
    },
    {
     "name": "stdout",
     "output_type": "stream",
     "text": [
      "***********************************************************\n",
      "MR test results of  Insomnia  on  Hair_Dark_Brown : \n",
      "MR-APSS: beta =  -0.0056 , beta.se =  0.0287 , p-value =  8.4482e-01 . \n",
      "Total NO. of IVs=  134 , NO. of valid IVs with foreground signals:  133.9866 . \n",
      "***********************************************************\n",
      "   user  system elapsed \n",
      "  0.775   0.205   0.490 \n",
      "IV selection threshold: 5e-07 \n"
     ]
    },
    {
     "name": "stderr",
     "output_type": "stream",
     "text": [
      "Threshold = 1, the model will not correct for selection bias\n",
      "\n"
     ]
    },
    {
     "name": "stdout",
     "output_type": "stream",
     "text": [
      "***********************************************************\n",
      "MR test results of  Insomnia  on  Hair_Dark_Brown : \n",
      "MR-APSS: beta =  0.0384 , beta.se =  0.0366 , p-value =  2.9411e-01 . \n",
      "Total NO. of IVs=  69 , NO. of valid IVs with foreground signals:  68.9931 . \n",
      "***********************************************************\n",
      "   user  system elapsed \n",
      "  0.435   0.140   0.287 \n",
      "IV selection threshold: 5e-08 \n"
     ]
    },
    {
     "name": "stderr",
     "output_type": "stream",
     "text": [
      "Threshold = 1, the model will not correct for selection bias\n",
      "\n"
     ]
    },
    {
     "name": "stdout",
     "output_type": "stream",
     "text": [
      "***********************************************************\n",
      "MR test results of  Insomnia  on  Hair_Dark_Brown : \n",
      "MR-APSS: beta =  0.0522 , beta.se =  0.0468 , p-value =  2.6512e-01 . \n",
      "Total NO. of IVs=  37 , NO. of valid IVs with foreground signals:  36.9963 . \n",
      "***********************************************************\n",
      "   user  system elapsed \n",
      "  0.251   0.081   0.166 \n",
      "Pair:  Insomnia ~ Hair_Black \n",
      "Run MR-APSS ... \n",
      "IV selection threshold: 5e-06 \n",
      "***********************************************************\n",
      "MR test results of  Insomnia  on  Hair_Black : \n",
      "MR-APSS: beta =  0.0013 , beta.se =  0.0555 , p-value =  9.8091e-01 . \n",
      "Total NO. of IVs=  134 , NO. of valid IVs with foreground signals:  42.15022 . \n",
      "***********************************************************\n",
      "   user  system elapsed \n",
      "  6.744   2.153   4.450 \n",
      "IV selection threshold: 5e-07 \n",
      "***********************************************************\n",
      "MR test results of  Insomnia  on  Hair_Black : \n",
      "MR-APSS: beta =  0.0016 , beta.se =  0.0654 , p-value =  9.8099e-01 . \n",
      "Total NO. of IVs=  69 , NO. of valid IVs with foreground signals:  24.05838 . \n",
      "***********************************************************\n",
      "   user  system elapsed \n",
      "  2.995   0.856   1.926 \n",
      "IV selection threshold: 5e-08 \n",
      "***********************************************************\n",
      "MR test results of  Insomnia  on  Hair_Black : \n",
      "MR-APSS: beta =  0.0083 , beta.se =  0.0738 , p-value =  9.1101e-01 . \n",
      "Total NO. of IVs=  37 , NO. of valid IVs with foreground signals:  17.63756 . \n",
      "***********************************************************\n",
      "   user  system elapsed \n",
      "  1.863   0.564   1.214 \n",
      "Run MR-APSS not accounting for selection bias ... \n",
      "IV selection threshold: 5e-06 \n"
     ]
    },
    {
     "name": "stderr",
     "output_type": "stream",
     "text": [
      "Threshold = 1, the model will not correct for selection bias\n",
      "\n"
     ]
    },
    {
     "name": "stdout",
     "output_type": "stream",
     "text": [
      "***********************************************************\n",
      "MR test results of  Insomnia  on  Hair_Black : \n",
      "MR-APSS: beta =  0.0161 , beta.se =  0.028 , p-value =  5.6437e-01 . \n",
      "Total NO. of IVs=  134 , NO. of valid IVs with foreground signals:  133.9866 . \n",
      "***********************************************************\n",
      "   user  system elapsed \n",
      "  0.822   0.249   0.536 \n",
      "IV selection threshold: 5e-07 \n"
     ]
    },
    {
     "name": "stderr",
     "output_type": "stream",
     "text": [
      "Threshold = 1, the model will not correct for selection bias\n",
      "\n"
     ]
    },
    {
     "name": "stdout",
     "output_type": "stream",
     "text": [
      "***********************************************************\n",
      "MR test results of  Insomnia  on  Hair_Black : \n",
      "MR-APSS: beta =  0.0145 , beta.se =  0.0356 , p-value =  6.8440e-01 . \n",
      "Total NO. of IVs=  69 , NO. of valid IVs with foreground signals:  68.9931 . \n",
      "***********************************************************\n",
      "   user  system elapsed \n",
      "  0.370   0.152   0.261 \n",
      "IV selection threshold: 5e-08 \n"
     ]
    },
    {
     "name": "stderr",
     "output_type": "stream",
     "text": [
      "Threshold = 1, the model will not correct for selection bias\n",
      "\n"
     ]
    },
    {
     "name": "stdout",
     "output_type": "stream",
     "text": [
      "***********************************************************\n",
      "MR test results of  Insomnia  on  Hair_Black : \n",
      "MR-APSS: beta =  0.0093 , beta.se =  0.0449 , p-value =  8.3662e-01 . \n",
      "Total NO. of IVs=  37 , NO. of valid IVs with foreground signals:  36.9963 . \n",
      "***********************************************************\n",
      "   user  system elapsed \n",
      "  8.995   2.718   5.857 \n",
      "Pair:  Insomnia ~ Hair_Blonde \n",
      "Run MR-APSS ... \n",
      "IV selection threshold: 5e-06 \n",
      "***********************************************************\n",
      "MR test results of  Insomnia  on  Hair_Blonde : \n",
      "MR-APSS: beta =  0.0023 , beta.se =  0.0595 , p-value =  9.6855e-01 . \n",
      "Total NO. of IVs=  134 , NO. of valid IVs with foreground signals:  42.53351 . \n",
      "***********************************************************\n",
      "   user  system elapsed \n",
      "  6.829   1.992   4.411 \n",
      "IV selection threshold: 5e-07 \n",
      "***********************************************************\n",
      "MR test results of  Insomnia  on  Hair_Blonde : \n",
      "MR-APSS: beta =  -0.0095 , beta.se =  0.0686 , p-value =  8.8925e-01 . \n",
      "Total NO. of IVs=  69 , NO. of valid IVs with foreground signals:  24.11986 . \n",
      "***********************************************************\n",
      "   user  system elapsed \n",
      "  2.989   0.954   1.972 \n",
      "IV selection threshold: 5e-08 \n",
      "***********************************************************\n",
      "MR test results of  Insomnia  on  Hair_Blonde : \n",
      "MR-APSS: beta =  -0.0125 , beta.se =  0.0734 , p-value =  8.6497e-01 . \n",
      "Total NO. of IVs=  37 , NO. of valid IVs with foreground signals:  17.63254 . \n",
      "***********************************************************\n",
      "   user  system elapsed \n",
      "  1.804   0.557   1.181 \n",
      "Run MR-APSS not accounting for selection bias ... \n",
      "IV selection threshold: 5e-06 \n"
     ]
    },
    {
     "name": "stderr",
     "output_type": "stream",
     "text": [
      "Threshold = 1, the model will not correct for selection bias\n",
      "\n"
     ]
    },
    {
     "name": "stdout",
     "output_type": "stream",
     "text": [
      "***********************************************************\n",
      "MR test results of  Insomnia  on  Hair_Blonde : \n",
      "MR-APSS: beta =  0.0112 , beta.se =  0.0272 , p-value =  6.7925e-01 . \n",
      "Total NO. of IVs=  134 , NO. of valid IVs with foreground signals:  133.9866 . \n",
      "***********************************************************\n",
      "   user  system elapsed \n",
      "  0.827   0.219   0.523 \n",
      "IV selection threshold: 5e-07 \n"
     ]
    },
    {
     "name": "stderr",
     "output_type": "stream",
     "text": [
      "Threshold = 1, the model will not correct for selection bias\n",
      "\n"
     ]
    },
    {
     "name": "stdout",
     "output_type": "stream",
     "text": [
      "***********************************************************\n",
      "MR test results of  Insomnia  on  Hair_Blonde : \n",
      "MR-APSS: beta =  -0.0049 , beta.se =  0.0345 , p-value =  8.8725e-01 . \n",
      "Total NO. of IVs=  69 , NO. of valid IVs with foreground signals:  68.9931 . \n",
      "***********************************************************\n",
      "   user  system elapsed \n",
      "  0.366   0.120   0.242 \n",
      "IV selection threshold: 5e-08 \n"
     ]
    },
    {
     "name": "stderr",
     "output_type": "stream",
     "text": [
      "Threshold = 1, the model will not correct for selection bias\n",
      "\n"
     ]
    },
    {
     "name": "stdout",
     "output_type": "stream",
     "text": [
      "***********************************************************\n",
      "MR test results of  Insomnia  on  Hair_Blonde : \n",
      "MR-APSS: beta =  -0.0108 , beta.se =  0.0439 , p-value =  8.0519e-01 . \n",
      "Total NO. of IVs=  37 , NO. of valid IVs with foreground signals:  36.9963 . \n",
      "***********************************************************\n",
      "   user  system elapsed \n",
      "  0.223   0.055   0.139 \n",
      "Pair:  Insomnia ~ Tanning \n",
      "Run MR-APSS ... \n",
      "IV selection threshold: 5e-06 \n",
      "***********************************************************\n",
      "MR test results of  Insomnia  on  Tanning : \n",
      "MR-APSS: beta =  0.0401 , beta.se =  0.0734 , p-value =  5.8452e-01 . \n",
      "Total NO. of IVs=  134 , NO. of valid IVs with foreground signals:  41.50422 . \n",
      "***********************************************************\n",
      "   user  system elapsed \n",
      " 63.321  19.263  41.304 \n",
      "IV selection threshold: 5e-07 \n",
      "***********************************************************\n",
      "MR test results of  Insomnia  on  Tanning : \n",
      "MR-APSS: beta =  0.0942 , beta.se =  0.0805 , p-value =  2.4200e-01 . \n",
      "Total NO. of IVs=  69 , NO. of valid IVs with foreground signals:  23.70782 . \n",
      "***********************************************************\n",
      "   user  system elapsed \n",
      " 60.995  18.503  39.760 \n",
      "IV selection threshold: 5e-08 \n",
      "***********************************************************\n",
      "MR test results of  Insomnia  on  Tanning : \n",
      "MR-APSS: beta =  0.1081 , beta.se =  0.0892 , p-value =  2.2578e-01 . \n",
      "Total NO. of IVs=  37 , NO. of valid IVs with foreground signals:  16.94296 . \n",
      "***********************************************************\n",
      "   user  system elapsed \n",
      " 35.646  10.529  23.094 \n",
      "Run MR-APSS not accounting for selection bias ... \n",
      "IV selection threshold: 5e-06 \n"
     ]
    },
    {
     "name": "stderr",
     "output_type": "stream",
     "text": [
      "Threshold = 1, the model will not correct for selection bias\n",
      "\n"
     ]
    },
    {
     "name": "stdout",
     "output_type": "stream",
     "text": [
      "***********************************************************\n",
      "MR test results of  Insomnia  on  Tanning : \n",
      "MR-APSS: beta =  -0.0278 , beta.se =  0.033 , p-value =  4.0106e-01 . \n",
      "Total NO. of IVs=  134 , NO. of valid IVs with foreground signals:  133.9866 . \n",
      "***********************************************************\n",
      "   user  system elapsed \n",
      " 11.480   3.658   7.572 \n",
      "IV selection threshold: 5e-07 \n"
     ]
    },
    {
     "name": "stderr",
     "output_type": "stream",
     "text": [
      "Threshold = 1, the model will not correct for selection bias\n",
      "\n"
     ]
    },
    {
     "name": "stdout",
     "output_type": "stream",
     "text": [
      "***********************************************************\n",
      "MR test results of  Insomnia  on  Tanning : \n",
      "MR-APSS: beta =  0.0656 , beta.se =  0.0423 , p-value =  1.2147e-01 . \n",
      "Total NO. of IVs=  69 , NO. of valid IVs with foreground signals:  68.9931 . \n",
      "***********************************************************\n",
      "   user  system elapsed \n",
      " 22.203   6.695  14.453 \n",
      "IV selection threshold: 5e-08 \n"
     ]
    },
    {
     "name": "stderr",
     "output_type": "stream",
     "text": [
      "Threshold = 1, the model will not correct for selection bias\n",
      "\n"
     ]
    },
    {
     "name": "stdout",
     "output_type": "stream",
     "text": [
      "***********************************************************\n",
      "MR test results of  Insomnia  on  Tanning : \n",
      "MR-APSS: beta =  0.0354 , beta.se =  0.0534 , p-value =  5.0727e-01 . \n",
      "Total NO. of IVs=  37 , NO. of valid IVs with foreground signals:  36.9963 . \n",
      "***********************************************************\n",
      "   user  system elapsed \n",
      " 13.659   4.020   8.842 \n",
      "Pair:  Neuroticism ~ Hair_Light_Brown \n",
      "Run MR-APSS ... \n",
      "IV selection threshold: 5e-06 \n",
      "***********************************************************\n",
      "MR test results of  Neuroticism  on  Hair_Light_Brown : \n",
      "MR-APSS: beta =  0.0721 , beta.se =  0.0432 , p-value =  9.4929e-02 . \n",
      "Total NO. of IVs=  197 , NO. of valid IVs with foreground signals:  82.10057 . \n",
      "***********************************************************\n",
      "   user  system elapsed \n",
      " 18.099   5.403  11.753 \n",
      "IV selection threshold: 5e-07 \n",
      "***********************************************************\n",
      "MR test results of  Neuroticism  on  Hair_Light_Brown : \n",
      "MR-APSS: beta =  0.1036 , beta.se =  0.0704 , p-value =  1.4133e-01 . \n",
      "Total NO. of IVs=  116 , NO. of valid IVs with foreground signals:  37.0257 . \n",
      "***********************************************************\n",
      "   user  system elapsed \n",
      " 10.209   3.152   6.683 \n",
      "IV selection threshold: 5e-08 \n",
      "***********************************************************\n",
      "MR test results of  Neuroticism  on  Hair_Light_Brown : \n",
      "MR-APSS: beta =  0.0988 , beta.se =  0.0636 , p-value =  1.2005e-01 . \n",
      "Total NO. of IVs=  69 , NO. of valid IVs with foreground signals:  24.50401 . \n",
      "***********************************************************\n",
      "   user  system elapsed \n",
      "  7.741   2.446   5.094 \n",
      "Run MR-APSS not accounting for selection bias ... \n",
      "IV selection threshold: 5e-06 \n"
     ]
    },
    {
     "name": "stderr",
     "output_type": "stream",
     "text": [
      "Threshold = 1, the model will not correct for selection bias\n",
      "\n"
     ]
    },
    {
     "name": "stdout",
     "output_type": "stream",
     "text": [
      "***********************************************************\n",
      "MR test results of  Neuroticism  on  Hair_Light_Brown : \n",
      "MR-APSS: beta =  0.0146 , beta.se =  0.0176 , p-value =  4.0548e-01 . \n",
      "Total NO. of IVs=  197 , NO. of valid IVs with foreground signals:  196.9802 . \n",
      "***********************************************************\n",
      "   user  system elapsed \n",
      " 17.328   5.244  11.289 \n",
      "IV selection threshold: 5e-07 \n"
     ]
    },
    {
     "name": "stderr",
     "output_type": "stream",
     "text": [
      "Threshold = 1, the model will not correct for selection bias\n",
      "\n"
     ]
    },
    {
     "name": "stdout",
     "output_type": "stream",
     "text": [
      "***********************************************************\n",
      "MR test results of  Neuroticism  on  Hair_Light_Brown : \n",
      "MR-APSS: beta =  0.0342 , beta.se =  0.023 , p-value =  1.3815e-01 . \n",
      "Total NO. of IVs=  116 , NO. of valid IVs with foreground signals:  115.9884 . \n",
      "***********************************************************\n",
      "   user  system elapsed \n",
      "  2.915   0.949   1.933 \n",
      "IV selection threshold: 5e-08 \n"
     ]
    },
    {
     "name": "stderr",
     "output_type": "stream",
     "text": [
      "Threshold = 1, the model will not correct for selection bias\n",
      "\n"
     ]
    },
    {
     "name": "stdout",
     "output_type": "stream",
     "text": [
      "***********************************************************\n",
      "MR test results of  Neuroticism  on  Hair_Light_Brown : \n",
      "MR-APSS: beta =  0.0437 , beta.se =  0.0245 , p-value =  7.4435e-02 . \n",
      "Total NO. of IVs=  69 , NO. of valid IVs with foreground signals:  68.9931 . \n",
      "***********************************************************\n",
      "   user  system elapsed \n",
      "  0.438   0.132   0.284 \n",
      "Pair:  Neuroticism ~ Hair_Dark_Brown \n",
      "Run MR-APSS ... \n",
      "IV selection threshold: 5e-06 \n",
      "***********************************************************\n",
      "MR test results of  Neuroticism  on  Hair_Dark_Brown : \n",
      "MR-APSS: beta =  -0.072 , beta.se =  0.059 , p-value =  2.2205e-01 . \n",
      "Total NO. of IVs=  196 , NO. of valid IVs with foreground signals:  73.08951 . \n",
      "***********************************************************\n",
      "   user  system elapsed \n",
      " 24.894   7.575  16.239 \n",
      "IV selection threshold: 5e-07 \n",
      "***********************************************************\n",
      "MR test results of  Neuroticism  on  Hair_Dark_Brown : \n",
      "MR-APSS: beta =  -0.0555 , beta.se =  0.0678 , p-value =  4.1334e-01 . \n",
      "Total NO. of IVs=  115 , NO. of valid IVs with foreground signals:  42.71567 . \n",
      "***********************************************************\n",
      "   user  system elapsed \n",
      " 29.106   8.752  18.934 \n",
      "IV selection threshold: 5e-08 \n",
      "***********************************************************\n",
      "MR test results of  Neuroticism  on  Hair_Dark_Brown : \n",
      "MR-APSS: beta =  -0.0467 , beta.se =  0.1165 , p-value =  6.8884e-01 . \n",
      "Total NO. of IVs=  69 , NO. of valid IVs with foreground signals:  17.62652 . \n",
      "***********************************************************\n",
      "   user  system elapsed \n",
      "  5.059   1.472   3.266 \n",
      "Run MR-APSS not accounting for selection bias ... \n",
      "IV selection threshold: 5e-06 \n"
     ]
    },
    {
     "name": "stderr",
     "output_type": "stream",
     "text": [
      "Threshold = 1, the model will not correct for selection bias\n",
      "\n"
     ]
    },
    {
     "name": "stdout",
     "output_type": "stream",
     "text": [
      "***********************************************************\n",
      "MR test results of  Neuroticism  on  Hair_Dark_Brown : \n",
      "MR-APSS: beta =  -0.0219 , beta.se =  0.0202 , p-value =  2.7782e-01 . \n",
      "Total NO. of IVs=  196 , NO. of valid IVs with foreground signals:  195.9803 . \n",
      "***********************************************************\n",
      "   user  system elapsed \n",
      " 23.817   7.550  15.687 \n",
      "IV selection threshold: 5e-07 \n"
     ]
    },
    {
     "name": "stderr",
     "output_type": "stream",
     "text": [
      "Threshold = 1, the model will not correct for selection bias\n",
      "\n"
     ]
    },
    {
     "name": "stdout",
     "output_type": "stream",
     "text": [
      "***********************************************************\n",
      "MR test results of  Neuroticism  on  Hair_Dark_Brown : \n",
      "MR-APSS: beta =  -0.0128 , beta.se =  0.024 , p-value =  5.9308e-01 . \n",
      "Total NO. of IVs=  115 , NO. of valid IVs with foreground signals:  114.9885 . \n",
      "***********************************************************\n",
      "   user  system elapsed \n",
      " 28.119   8.328  18.227 \n",
      "IV selection threshold: 5e-08 \n"
     ]
    },
    {
     "name": "stderr",
     "output_type": "stream",
     "text": [
      "Threshold = 1, the model will not correct for selection bias\n",
      "\n"
     ]
    },
    {
     "name": "stdout",
     "output_type": "stream",
     "text": [
      "***********************************************************\n",
      "MR test results of  Neuroticism  on  Hair_Dark_Brown : \n",
      "MR-APSS: beta =  -0.031 , beta.se =  0.0304 , p-value =  3.0816e-01 . \n",
      "Total NO. of IVs=  69 , NO. of valid IVs with foreground signals:  68.9931 . \n",
      "***********************************************************\n",
      "   user  system elapsed \n",
      " 12.376   3.917   8.148 \n",
      "Pair:  Neuroticism ~ Hair_Black \n",
      "Run MR-APSS ... \n",
      "IV selection threshold: 5e-06 \n",
      "***********************************************************\n",
      "MR test results of  Neuroticism  on  Hair_Black : \n",
      "MR-APSS: beta =  -0.0418 , beta.se =  0.0623 , p-value =  5.0154e-01 . \n",
      "Total NO. of IVs=  197 , NO. of valid IVs with foreground signals:  74.29831 . \n",
      "***********************************************************\n",
      "   user  system elapsed \n",
      " 15.322   4.574   9.951 \n",
      "IV selection threshold: 5e-07 \n",
      "***********************************************************\n",
      "MR test results of  Neuroticism  on  Hair_Black : \n",
      "MR-APSS: beta =  -0.0223 , beta.se =  0.0988 , p-value =  8.2147e-01 . \n",
      "Total NO. of IVs=  116 , NO. of valid IVs with foreground signals:  29.66865 . \n",
      "***********************************************************\n",
      "   user  system elapsed \n",
      "  6.273   1.854   4.064 \n",
      "IV selection threshold: 5e-08 \n",
      "***********************************************************\n",
      "MR test results of  Neuroticism  on  Hair_Black : \n",
      "MR-APSS: beta =  0.0286 , beta.se =  0.1035 , p-value =  7.8222e-01 . \n",
      "Total NO. of IVs=  69 , NO. of valid IVs with foreground signals:  18.39067 . \n",
      "***********************************************************\n",
      "   user  system elapsed \n",
      "  3.671   1.099   2.385 \n",
      "Run MR-APSS not accounting for selection bias ... \n",
      "IV selection threshold: 5e-06 \n"
     ]
    },
    {
     "name": "stderr",
     "output_type": "stream",
     "text": [
      "Threshold = 1, the model will not correct for selection bias\n",
      "\n"
     ]
    },
    {
     "name": "stdout",
     "output_type": "stream",
     "text": [
      "***********************************************************\n",
      "MR test results of  Neuroticism  on  Hair_Black : \n",
      "MR-APSS: beta =  -0.0171 , beta.se =  0.0226 , p-value =  4.4875e-01 . \n",
      "Total NO. of IVs=  197 , NO. of valid IVs with foreground signals:  196.9802 . \n",
      "***********************************************************\n",
      "   user  system elapsed \n",
      "  1.520   0.431   0.975 \n",
      "IV selection threshold: 5e-07 \n"
     ]
    },
    {
     "name": "stderr",
     "output_type": "stream",
     "text": [
      "Threshold = 1, the model will not correct for selection bias\n",
      "\n"
     ]
    },
    {
     "name": "stdout",
     "output_type": "stream",
     "text": [
      "***********************************************************\n",
      "MR test results of  Neuroticism  on  Hair_Black : \n",
      "MR-APSS: beta =  -0.0131 , beta.se =  0.0296 , p-value =  6.5864e-01 . \n",
      "Total NO. of IVs=  116 , NO. of valid IVs with foreground signals:  115.9884 . \n",
      "***********************************************************\n",
      "   user  system elapsed \n",
      "  1.708   0.486   1.098 \n",
      "IV selection threshold: 5e-08 \n"
     ]
    },
    {
     "name": "stderr",
     "output_type": "stream",
     "text": [
      "Threshold = 1, the model will not correct for selection bias\n",
      "\n"
     ]
    },
    {
     "name": "stdout",
     "output_type": "stream",
     "text": [
      "***********************************************************\n",
      "MR test results of  Neuroticism  on  Hair_Black : \n",
      "MR-APSS: beta =  0.0113 , beta.se =  0.0297 , p-value =  7.0260e-01 . \n",
      "Total NO. of IVs=  69 , NO. of valid IVs with foreground signals:  68.9931 . \n",
      "***********************************************************\n",
      "   user  system elapsed \n",
      "  8.933   2.719   5.827 \n",
      "Pair:  Neuroticism ~ Hair_Blonde \n",
      "Run MR-APSS ... \n",
      "IV selection threshold: 5e-06 \n",
      "***********************************************************\n",
      "MR test results of  Neuroticism  on  Hair_Blonde : \n",
      "MR-APSS: beta =  0.0354 , beta.se =  0.0808 , p-value =  6.6079e-01 . \n",
      "Total NO. of IVs=  197 , NO. of valid IVs with foreground signals:  54.60521 . \n",
      "***********************************************************\n",
      "   user  system elapsed \n",
      " 10.313   3.132   6.724 \n",
      "IV selection threshold: 5e-07 \n",
      "***********************************************************\n",
      "MR test results of  Neuroticism  on  Hair_Blonde : \n",
      "MR-APSS: beta =  0.0525 , beta.se =  0.1376 , p-value =  7.0261e-01 . \n",
      "Total NO. of IVs=  116 , NO. of valid IVs with foreground signals:  20.30398 . \n",
      "***********************************************************\n",
      "   user  system elapsed \n",
      "  5.842   1.803   3.823 \n",
      "IV selection threshold: 5e-08 \n",
      "***********************************************************\n",
      "MR test results of  Neuroticism  on  Hair_Blonde : \n",
      "MR-APSS: beta =  0.0236 , beta.se =  0.1653 , p-value =  8.8628e-01 . \n",
      "Total NO. of IVs=  69 , NO. of valid IVs with foreground signals:  10.46061 . \n",
      "***********************************************************\n",
      "   user  system elapsed \n",
      "  2.787   0.800   1.794 \n",
      "Run MR-APSS not accounting for selection bias ... \n",
      "IV selection threshold: 5e-06 \n"
     ]
    },
    {
     "name": "stderr",
     "output_type": "stream",
     "text": [
      "Threshold = 1, the model will not correct for selection bias\n",
      "\n"
     ]
    },
    {
     "name": "stdout",
     "output_type": "stream",
     "text": [
      "***********************************************************\n",
      "MR test results of  Neuroticism  on  Hair_Blonde : \n",
      "MR-APSS: beta =  0.0192 , beta.se =  0.0235 , p-value =  4.1395e-01 . \n",
      "Total NO. of IVs=  197 , NO. of valid IVs with foreground signals:  196.9801 . \n",
      "***********************************************************\n",
      "   user  system elapsed \n",
      "  2.790   0.748   1.769 \n",
      "IV selection threshold: 5e-07 \n"
     ]
    },
    {
     "name": "stderr",
     "output_type": "stream",
     "text": [
      "Threshold = 1, the model will not correct for selection bias\n",
      "\n"
     ]
    },
    {
     "name": "stdout",
     "output_type": "stream",
     "text": [
      "***********************************************************\n",
      "MR test results of  Neuroticism  on  Hair_Blonde : \n",
      "MR-APSS: beta =  -0.0037 , beta.se =  0.0301 , p-value =  9.0262e-01 . \n",
      "Total NO. of IVs=  116 , NO. of valid IVs with foreground signals:  115.9884 . \n",
      "***********************************************************\n",
      "   user  system elapsed \n",
      "  1.513   0.448   0.980 \n",
      "IV selection threshold: 5e-08 \n"
     ]
    },
    {
     "name": "stderr",
     "output_type": "stream",
     "text": [
      "Threshold = 1, the model will not correct for selection bias\n",
      "\n"
     ]
    },
    {
     "name": "stdout",
     "output_type": "stream",
     "text": [
      "***********************************************************\n",
      "MR test results of  Neuroticism  on  Hair_Blonde : \n",
      "MR-APSS: beta =  -0.0179 , beta.se =  0.032 , p-value =  5.7591e-01 . \n",
      "Total NO. of IVs=  69 , NO. of valid IVs with foreground signals:  68.9931 . \n",
      "***********************************************************\n",
      "   user  system elapsed \n",
      "  3.627   1.115   2.371 \n",
      "Pair:  Neuroticism ~ Tanning \n",
      "Run MR-APSS ... \n",
      "IV selection threshold: 5e-06 \n",
      "***********************************************************\n",
      "MR test results of  Neuroticism  on  Tanning : \n",
      "MR-APSS: beta =  -0.0174 , beta.se =  0.0925 , p-value =  8.5096e-01 . \n",
      "Total NO. of IVs=  196 , NO. of valid IVs with foreground signals:  58.42273 . \n",
      "***********************************************************\n",
      "   user  system elapsed \n",
      " 10.200   3.173   6.689 \n",
      "IV selection threshold: 5e-07 \n",
      "***********************************************************\n",
      "MR test results of  Neuroticism  on  Tanning : \n",
      "MR-APSS: beta =  -0.0042 , beta.se =  0.0769 , p-value =  9.5689e-01 . \n",
      "Total NO. of IVs=  115 , NO. of valid IVs with foreground signals:  45.86073 . \n",
      "***********************************************************\n",
      "   user  system elapsed \n",
      "  8.115   2.511   5.315 \n",
      "IV selection threshold: 5e-08 \n",
      "***********************************************************\n",
      "MR test results of  Neuroticism  on  Tanning : \n",
      "MR-APSS: beta =  -0.0175 , beta.se =  0.1196 , p-value =  8.8362e-01 . \n",
      "Total NO. of IVs=  69 , NO. of valid IVs with foreground signals:  22.09555 . \n",
      "***********************************************************\n",
      "   user  system elapsed \n",
      "  4.888   1.382   3.136 \n",
      "Run MR-APSS not accounting for selection bias ... \n",
      "IV selection threshold: 5e-06 \n"
     ]
    },
    {
     "name": "stderr",
     "output_type": "stream",
     "text": [
      "Threshold = 1, the model will not correct for selection bias\n",
      "\n"
     ]
    },
    {
     "name": "stdout",
     "output_type": "stream",
     "text": [
      "***********************************************************\n",
      "MR test results of  Neuroticism  on  Tanning : \n",
      "MR-APSS: beta =  -0.0059 , beta.se =  0.0291 , p-value =  8.3893e-01 . \n",
      "Total NO. of IVs=  196 , NO. of valid IVs with foreground signals:  195.9802 . \n",
      "***********************************************************\n",
      "   user  system elapsed \n",
      "  2.770   0.914   1.842 \n",
      "IV selection threshold: 5e-07 \n"
     ]
    },
    {
     "name": "stderr",
     "output_type": "stream",
     "text": [
      "Threshold = 1, the model will not correct for selection bias\n",
      "\n"
     ]
    },
    {
     "name": "stdout",
     "output_type": "stream",
     "text": [
      "***********************************************************\n",
      "MR test results of  Neuroticism  on  Tanning : \n",
      "MR-APSS: beta =  0.0129 , beta.se =  0.0303 , p-value =  6.7063e-01 . \n",
      "Total NO. of IVs=  115 , NO. of valid IVs with foreground signals:  114.9885 . \n",
      "***********************************************************\n",
      "   user  system elapsed \n",
      "  3.767   1.044   2.406 \n",
      "IV selection threshold: 5e-08 \n"
     ]
    },
    {
     "name": "stderr",
     "output_type": "stream",
     "text": [
      "Threshold = 1, the model will not correct for selection bias\n",
      "\n"
     ]
    },
    {
     "name": "stdout",
     "output_type": "stream",
     "text": [
      "***********************************************************\n",
      "MR test results of  Neuroticism  on  Tanning : \n",
      "MR-APSS: beta =  0.0092 , beta.se =  0.038 , p-value =  8.0826e-01 . \n",
      "Total NO. of IVs=  69 , NO. of valid IVs with foreground signals:  68.9931 . \n",
      "***********************************************************\n",
      "   user  system elapsed \n",
      "  2.483   0.777   1.631 \n",
      "Pair:  SWB ~ Hair_Light_Brown \n",
      "Run MR-APSS ... \n",
      "IV selection threshold: 5e-06 \n",
      "***********************************************************\n",
      "MR test results of  SWB  on  Hair_Light_Brown : \n",
      "MR-APSS: beta =  0.1259 , beta.se =  0.1964 , p-value =  5.2150e-01 . \n",
      "Total NO. of IVs=  13 , NO. of valid IVs with foreground signals:  12.96955 . \n",
      "***********************************************************\n",
      "   user  system elapsed \n",
      " 18.870   5.753  12.314 \n",
      "Run MR-APSS not accounting for selection bias ... \n",
      "IV selection threshold: 5e-06 \n"
     ]
    },
    {
     "name": "stderr",
     "output_type": "stream",
     "text": [
      "Threshold = 1, the model will not correct for selection bias\n",
      "\n"
     ]
    },
    {
     "name": "stdout",
     "output_type": "stream",
     "text": [
      "***********************************************************\n",
      "MR test results of  SWB  on  Hair_Light_Brown : \n",
      "MR-APSS: beta =  0.0817 , beta.se =  0.0657 , p-value =  2.1398e-01 . \n",
      "Total NO. of IVs=  13 , NO. of valid IVs with foreground signals:  12.9987 . \n",
      "***********************************************************\n",
      "   user  system elapsed \n",
      " 14.464   4.330   9.399 \n",
      "Pair:  SWB ~ Hair_Dark_Brown \n",
      "Run MR-APSS ... \n",
      "IV selection threshold: 5e-06 \n",
      "***********************************************************\n",
      "MR test results of  SWB  on  Hair_Dark_Brown : \n",
      "MR-APSS: beta =  -0.3083 , beta.se =  0.276 , p-value =  2.6398e-01 . \n",
      "Total NO. of IVs=  13 , NO. of valid IVs with foreground signals:  12.99763 . \n",
      "***********************************************************\n",
      "   user  system elapsed \n",
      "  6.085   1.872   3.979 \n",
      "Run MR-APSS not accounting for selection bias ... \n",
      "IV selection threshold: 5e-06 \n"
     ]
    },
    {
     "name": "stderr",
     "output_type": "stream",
     "text": [
      "Threshold = 1, the model will not correct for selection bias\n",
      "\n"
     ]
    },
    {
     "name": "stdout",
     "output_type": "stream",
     "text": [
      "***********************************************************\n",
      "MR test results of  SWB  on  Hair_Dark_Brown : \n",
      "MR-APSS: beta =  -0.15 , beta.se =  0.0888 , p-value =  9.0998e-02 . \n",
      "Total NO. of IVs=  13 , NO. of valid IVs with foreground signals:  12.9987 . \n",
      "***********************************************************\n",
      "   user  system elapsed \n",
      "  0.728   0.212   0.470 \n",
      "Pair:  SWB ~ Hair_Black \n",
      "Run MR-APSS ... \n",
      "IV selection threshold: 5e-06 \n",
      "***********************************************************\n",
      "MR test results of  SWB  on  Hair_Black : \n",
      "MR-APSS: beta =  0.2146 , beta.se =  0.2314 , p-value =  3.5373e-01 . \n",
      "Total NO. of IVs=  13 , NO. of valid IVs with foreground signals:  11.75752 . \n",
      "***********************************************************\n",
      "   user  system elapsed \n",
      " 15.989   4.819  10.406 \n",
      "Run MR-APSS not accounting for selection bias ... \n",
      "IV selection threshold: 5e-06 \n"
     ]
    },
    {
     "name": "stderr",
     "output_type": "stream",
     "text": [
      "Threshold = 1, the model will not correct for selection bias\n",
      "\n"
     ]
    },
    {
     "name": "stdout",
     "output_type": "stream",
     "text": [
      "***********************************************************\n",
      "MR test results of  SWB  on  Hair_Black : \n",
      "MR-APSS: beta =  0.0621 , beta.se =  0.0746 , p-value =  4.0524e-01 . \n",
      "Total NO. of IVs=  13 , NO. of valid IVs with foreground signals:  12.9987 . \n",
      "***********************************************************\n",
      "   user  system elapsed \n",
      " 16.245   4.982  10.615 \n",
      "Pair:  SWB ~ Hair_Blonde \n",
      "Run MR-APSS ... \n",
      "IV selection threshold: 5e-06 \n",
      "***********************************************************\n",
      "MR test results of  SWB  on  Hair_Blonde : \n",
      "MR-APSS: beta =  0.2583 , beta.se =  0.2531 , p-value =  3.0756e-01 . \n",
      "Total NO. of IVs=  13 , NO. of valid IVs with foreground signals:  12.99802 . \n",
      "***********************************************************\n",
      "   user  system elapsed \n",
      " 12.243   3.713   7.979 \n",
      "Run MR-APSS not accounting for selection bias ... \n",
      "IV selection threshold: 5e-06 \n"
     ]
    },
    {
     "name": "stderr",
     "output_type": "stream",
     "text": [
      "Threshold = 1, the model will not correct for selection bias\n",
      "\n"
     ]
    },
    {
     "name": "stdout",
     "output_type": "stream",
     "text": [
      "***********************************************************\n",
      "MR test results of  SWB  on  Hair_Blonde : \n",
      "MR-APSS: beta =  0.0749 , beta.se =  0.08 , p-value =  3.4921e-01 . \n",
      "Total NO. of IVs=  13 , NO. of valid IVs with foreground signals:  12.9987 . \n",
      "***********************************************************\n",
      "   user  system elapsed \n",
      "  1.733   0.519   1.126 \n",
      "Pair:  SWB ~ Tanning \n",
      "Run MR-APSS ... \n",
      "IV selection threshold: 5e-06 \n",
      "***********************************************************\n",
      "MR test results of  SWB  on  Tanning : \n",
      "MR-APSS: beta =  -0.1843 , beta.se =  0.2729 , p-value =  4.9946e-01 . \n",
      "Total NO. of IVs=  13 , NO. of valid IVs with foreground signals:  11.46728 . \n",
      "***********************************************************\n",
      "   user  system elapsed \n",
      " 11.195   3.095   7.147 \n",
      "Run MR-APSS not accounting for selection bias ... \n",
      "IV selection threshold: 5e-06 \n"
     ]
    },
    {
     "name": "stderr",
     "output_type": "stream",
     "text": [
      "Threshold = 1, the model will not correct for selection bias\n",
      "\n"
     ]
    },
    {
     "name": "stdout",
     "output_type": "stream",
     "text": [
      "***********************************************************\n",
      "MR test results of  SWB  on  Tanning : \n",
      "MR-APSS: beta =  -0.0692 , beta.se =  0.0851 , p-value =  4.1658e-01 . \n",
      "Total NO. of IVs=  13 , NO. of valid IVs with foreground signals:  12.9987 . \n",
      "***********************************************************\n",
      "   user  system elapsed \n",
      "  0.096   0.035   0.066 \n",
      "    user   system  elapsed \n",
      "8640.571 2413.607 5848.112 \n"
     ]
    }
   ],
   "source": [
    "# All the results will be saved to the file \"NC_MRAPSS.MRres\"\n",
    "start = proc.time()\n",
    "ts1 = c(\"AD\", \"ASD\", \"Daytime_Sleepiness\", \"Height_UKB\",  \"Intelligence\", \"RA\",      \n",
    "        \"T2D\", \"Alcohol\", \"BMI\", \"Depression\", \"IBD\", \"MDD\", \"SCZ\", \"Angina\", \n",
    "        \"CAD\", \"HBP\", \"Income\", \"NEB\", \"Smoking\", \"Urate\", \"Anorexia\", \n",
    "        \"CD\", \"Height_GIANT\", \"Insomnia\", \"Neuroticism\", \"SWB\")\n",
    "\n",
    "ts2 = c(\"Hair_Light_Brown\", \"Hair_Dark_Brown\",  \"Hair_Black\",    \"Hair_Blonde\",  \"Tanning\")\n",
    "\n",
    "IV.Threshold = c(5e-06,5e-07, 5e-08)\n",
    "\n",
    "for( exposure in ts1){\n",
    "  \n",
    "  for( outcome in ts2){\n",
    "    \n",
    "    cat(\"Pair: \", exposure,\"~\", outcome,\"\\n\")\n",
    "    # read in GWAS summary data for IVs\n",
    "    clumped = try(read.table(paste0(\"./MRdat/\", exposure,\"~\",outcome), header = T))\n",
    "    \n",
    "    # read in background parameters Omega and C\n",
    "    C = try(as.matrix(read.table(paste0(\"./pairs_bg_paras/\",exposure, \"~\", outcome,\"_C\"),\n",
    "                                 header = F)))\n",
    "    \n",
    "    C = matrix(C[nrow(C), ], 2,2)\n",
    "    \n",
    "    Omega = try(as.matrix(read.table(paste0(\"./pairs_bg_paras/\", exposure, \"~\", outcome,\"_Omega\"),\n",
    "                                     header = F)))\n",
    "      \n",
    "    Omega = matrix(Omega[nrow(Omega), ], 2, 2)\n",
    "    \n",
    "    if(inherits(clumped , 'try-error')) clumped = NULL\n",
    "    if(inherits(C, 'try-error')) next\n",
    "    if(inherits(Omega, 'try-error')) next\n",
    "    if(nrow(clumped) < 4 ) next\n",
    "    \n",
    "    # The p-value threshold for selection bias correction\n",
    "    Threshold =  ifelse(IV.Threshold==5e-05, unique(clumped$Threshold), IV.Threshold)\n",
    "    \n",
    "    # MR-APSS\n",
    "    cat(\"Run MR-APSS ... \\n\")\n",
    "    res = run_APSS_func(clumped = clumped,\n",
    "                        exposure = exposure,\n",
    "                        outcome = outcome,\n",
    "                        C = C,\n",
    "                        Omega=Omega,\n",
    "                        IV.Threshold = IV.Threshold,\n",
    "                        Threshold = Threshold,\n",
    "                        Cor.SelectionBias = T)\n",
    "    \n",
    "     \n",
    "     # MR-APSS not accounting for selection bias\n",
    "     cat(\"Run MR-APSS not accounting for selection bias ... \\n\")\n",
    "     res_selec0 = run_APSS_func(clumped = clumped,\n",
    "                            exposure = exposure,\n",
    "                            outcome = outcome,\n",
    "                            C = C,\n",
    "                            Omega = Omega,\n",
    "                            IV.Threshold = IV.Threshold,\n",
    "                            Threshold = Threshold,\n",
    "                            Cor.SelectionBias = F)\n",
    "     res_selec0$method = \"MR-APSS(Cor.SelectionBia=F)\"\n",
    "     \n",
    "#      # saving resuts\n",
    "     write.table(res, \"NC_MRAPSS.MRres\", quote=F, col.names = F, append = T,row.names = F)\n",
    "     \n",
    "     write.table(res_selec0, \"NC_MRAPSS.MRres\", quote=F, col.names = F, append = T,row.names = F)\n",
    "     \n",
    "}\n",
    "  \n",
    "}\n",
    "\n",
    "print(proc.time()-start)"
   ]
  }
 ],
 "metadata": {
  "kernelspec": {
   "display_name": "R",
   "language": "R",
   "name": "ir"
  },
  "language_info": {
   "codemirror_mode": "r",
   "file_extension": ".r",
   "mimetype": "text/x-r-source",
   "name": "R",
   "pygments_lexer": "r",
   "version": "3.6.3"
  }
 },
 "nbformat": 4,
 "nbformat_minor": 4
}
