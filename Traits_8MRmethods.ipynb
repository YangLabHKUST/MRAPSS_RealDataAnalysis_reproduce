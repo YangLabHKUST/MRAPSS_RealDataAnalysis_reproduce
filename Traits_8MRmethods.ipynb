{
 "cells": [
  {
   "cell_type": "markdown",
   "metadata": {},
   "source": [
    "# Eight compared methods: IVW, dIVW, RAPS, Egger, MRMix, Weighted-median,  Weighted-mode, cML-MA. "
   ]
  },
  {
   "cell_type": "markdown",
   "metadata": {},
   "source": [
    "# Install packages"
   ]
  },
  {
   "cell_type": "code",
   "execution_count": 2,
   "metadata": {},
   "outputs": [],
   "source": [
    "# TwosampleMR\n",
    "# install.packages(\"remotes\")\n",
    "# remotes::install_github(\"MRCIEU/TwoSampleMR\")\n",
    "\n",
    "# dIVW\n",
    "# install.packages(\"devtools\")\n",
    "# devtools::install_github(\"tye27/mr.divw\")\n",
    "\n",
    "# MRcML\n",
    "# devtools::install_github(\"xue-hr/MRcML\")\n",
    "\n",
    "# MRMix\n",
    "# devtools::install_github(\"gqi/MRMix\")"
   ]
  },
  {
   "cell_type": "markdown",
   "metadata": {},
   "source": [
    "# Run the eight compared MR methods for trait pairs between 26 traits"
   ]
  },
  {
   "cell_type": "code",
   "execution_count": 2,
   "metadata": {},
   "outputs": [],
   "source": [
    "ts1 = c(\"AD\", \"ASD\", \"Daytime_Sleepiness\", \"Height_UKB\",  \"Intelligence\", \"RA\",      \n",
    "        \"T2D\", \"Alcohol\", \"BMI\", \"Depression\", \"IBD\", \"MDD\", \"SCZ\", \"Angina\", \n",
    "        \"CAD\", \"HBP\", \"Income\", \"NEB\", \"Smoking\", \"Urate\", \"Anorexia\", \n",
    "        \"CD\", \"Height_GIANT\", \"Insomnia\", \"Neuroticism\", \"SWB\")\n",
    "\n",
    "ts2 = ts1\n",
    "\n",
    "Threshold = 5e-08 # note that the default IV threshold for the eight methods is 5e-08\n"
   ]
  },
  {
   "cell_type": "markdown",
   "metadata": {},
   "source": [
    "## IVW"
   ]
  },
  {
   "cell_type": "code",
   "execution_count": 8,
   "metadata": {},
   "outputs": [
    {
     "name": "stdout",
     "output_type": "stream",
     "text": [
      "   user  system elapsed \n",
      "  6.725   0.247   7.764 \n"
     ]
    }
   ],
   "source": [
    "start0 = proc.time()\n",
    "\n",
    "for( exposure in ts1 ){\n",
    "  \n",
    "  for( outcome in ts2 ){\n",
    "      if(exposure==outcome) next\n",
    "    \n",
    "    # reading in data\n",
    "    #cat(\"*********************************\\n\")\n",
    "    #cat(\"Pair: \", exposure,\"~\", outcome,\" \")\n",
    "    dat= try(read.table(paste0(\"./MRdat/\", exposure,\"~\", outcome), header = T))\n",
    "    if(inherits(dat , 'try-error')) next\n",
    "  \n",
    "    indx = which(dat$pval.exp <= Threshold)\n",
    "    nsnp = length(indx)\n",
    "    if(nsnp < 4) next\n",
    "    \n",
    "    # IVW\n",
    "    res.IVW <- try(TwoSampleMR::mr_ivw_fe(dat$b.exp[indx], dat$b.out[indx], dat$se.exp[indx], dat$se.out[indx]))\n",
    "    #cat(\"IVW: beta.hat=\", res.IVW$b, \" se=\", res.IVW$se, \"pval=\", res.IVW$pval, \"\\n\")\n",
    "    \n",
    "    if(inherits(res.IVW,\"try-error\")) next\n",
    "    \n",
    "    write.table(data.frame(exposure = exposure, outcome = outcome, method =  \"IVW\", Threshold = Threshold,\n",
    "                           nsnp = nsnp, beta =  res.IVW$b, se = res.IVW$se, pval = res.IVW$pval),\n",
    "                \"Traits_8methods.MRres\", quote=F, col.names = F, append = T,row.names = F) \n",
    "    \n",
    "  }\n",
    "}\n",
    "print(proc.time()-start0)"
   ]
  },
  {
   "cell_type": "markdown",
   "metadata": {},
   "source": [
    "## dIVW"
   ]
  },
  {
   "cell_type": "code",
   "execution_count": 9,
   "metadata": {},
   "outputs": [
    {
     "name": "stdout",
     "output_type": "stream",
     "text": [
      "   user  system elapsed \n",
      "  6.528   0.259   7.396 \n"
     ]
    }
   ],
   "source": [
    "start0 = proc.time()\n",
    "\n",
    "for( exposure in ts1 ){\n",
    "  \n",
    "  for( outcome in ts2 ){\n",
    "       if(exposure==outcome) next\n",
    "   # reading in data\n",
    "    #cat(\"*********************************\\n\")\n",
    "    #cat(\"Pair: \", exposure,\"~\", outcome,\" \")\n",
    "    dat= try(read.table(paste0(\"./MRdat/\", exposure,\"~\", outcome), header = T))\n",
    "    if(inherits(dat , 'try-error')) next\n",
    "  \n",
    "    indx = which(dat$pval.exp <= Threshold)\n",
    "    nsnp = length(indx)\n",
    "    if(nsnp < 4) next\n",
    "    \n",
    "    ## dIVW\n",
    "    lambda.opt =  mr.divw::mr.eo(0, dat$b.exp[indx], dat$b.out[indx],\n",
    "                                  dat$se.exp[indx], dat$se.out[indx],\n",
    "                                  pval.selection=dat$pval.exp[indx])$lambda.opt\n",
    "    res.dIVW = mr.divw::mr.divw(dat$b.exp[indx], dat$b.out[indx],\n",
    "                                dat$se.exp[indx], dat$se.out[indx],\n",
    "                                pval.selection=dat$pval.exp[indx], lambda=lambda.opt)\n",
    "    #cat(\"dIVW: beta.hat=\", res.dIVW$beta.hat, \" se=\", res.dIVW$beta.se, \"\\n\")\n",
    "      \n",
    "    \n",
    "    if(inherits(res.dIVW,\"try-error\")) next\n",
    "    \n",
    "    write.table(data.frame(exposure = exposure, outcome = outcome, method =  \"dIVW\", Threshold = Threshold,\n",
    "                           nsnp = nsnp, beta = res.dIVW$beta.hat, se = res.dIVW$beta.se, \n",
    "                           pval = pchisq(res.dIVW$beta.hat^2/res.dIVW$beta.se^2, 1, lower.tail = F)),\n",
    "                \"Traits_8methods.MRres\", quote=F, col.names = F, append = T,row.names = F) \n",
    "    \n",
    "  }\n",
    "}\n",
    "print(proc.time()-start0)"
   ]
  },
  {
   "cell_type": "markdown",
   "metadata": {},
   "source": [
    "## RAPS"
   ]
  },
  {
   "cell_type": "code",
   "execution_count": 10,
   "metadata": {},
   "outputs": [
    {
     "name": "stdout",
     "output_type": "stream",
     "text": [
      "   user  system elapsed \n",
      "114.234  31.196  78.127 \n"
     ]
    }
   ],
   "source": [
    "start0 = proc.time()\n",
    "\n",
    "for( exposure in ts1 ){\n",
    "  \n",
    "  for( outcome in ts2 ){\n",
    "       if(exposure==outcome) next\n",
    "   # reading in data\n",
    "    #cat(\"*********************************\\n\")\n",
    "    #cat(\"Pair: \", exposure,\"~\", outcome,\" \")\n",
    "    dat= try(read.table(paste0(\"./MRdat/\", exposure,\"~\", outcome), header = T))\n",
    "    if(inherits(dat , 'try-error')) next\n",
    "  \n",
    "    indx = which(dat$pval.exp <= Threshold)\n",
    "    nsnp = length(indx)\n",
    "    if(nsnp < 4) next\n",
    "      \n",
    "    ##  RAPS\n",
    "    raps.df = data.frame(beta.exposure = dat$b.exp[indx], beta.outcome = dat$b.out[indx],\n",
    "                         se.exposure = dat$se.exp[indx], se.outcome = dat$se.out[indx])\n",
    "    res.raps <- try(suppressWarnings(mr.raps::mr.raps(raps.df, diagnostics=F)))\n",
    "    #cat(\"RAPS: beta.hat=\", res.raps$beta.hat, \" se=\", res.raps$beta.se, \"\\n\")\n",
    "    \n",
    "    if(inherits(res.raps,\"try-error\")) next\n",
    "    \n",
    "    write.table(data.frame(exposure = exposure, outcome = outcome, method =  \"RAPS\", Threshold = Threshold,\n",
    "                           nsnp = nsnp, beta =  res.raps$beta.hat, se = res.raps$beta.se,\n",
    "                           pval = pchisq(res.raps$beta.hat^2/res.raps$beta.se^2, 1, lower.tail = F)),\n",
    "                \"Traits_8methods.MRres\", quote=F, col.names = F, append = T,row.names = F) \n",
    "    \n",
    "\n",
    "    \n",
    "  }\n",
    "}\n",
    "print(proc.time()-start0)"
   ]
  },
  {
   "cell_type": "markdown",
   "metadata": {},
   "source": [
    "## Egger"
   ]
  },
  {
   "cell_type": "code",
   "execution_count": 11,
   "metadata": {},
   "outputs": [
    {
     "name": "stdout",
     "output_type": "stream",
     "text": [
      "   user  system elapsed \n",
      "  7.099   0.254   8.159 \n"
     ]
    }
   ],
   "source": [
    "start0 = proc.time()\n",
    "\n",
    "for( exposure in ts1 ){\n",
    "  \n",
    "  for( outcome in ts2 ){\n",
    "           if(exposure==outcome) next\n",
    "    # reading in data\n",
    "    #cat(\"*********************************\\n\")\n",
    "    #cat(\"Pair: \", exposure,\"~\", outcome,\" \")\n",
    "    dat= try(read.table(paste0(\"./MRdat/\", exposure,\"~\", outcome), header = T))\n",
    "    if(inherits(dat , 'try-error')) next\n",
    "  \n",
    "    indx = which(dat$pval.exp <= Threshold)\n",
    "    nsnp = length(indx)\n",
    "    if(nsnp < 4) next\n",
    "    \n",
    "    ## Egger\n",
    "    res.egger <- try(TwoSampleMR::mr_egger_regression(dat$b.exp[indx], dat$b.out[indx],\n",
    "                                                      dat$se.exp[indx], dat$se.out[indx]))\n",
    "    #cat(\"Egger: beta.hat=\", res.egger$b, \" se=\", res.egger$se, \"pval=\", res.egger$pval, \"\\n\")\n",
    "    \n",
    "    \n",
    "    if(inherits(res.egger,\"error\")) next\n",
    "    \n",
    "    write.table(data.frame(exposure = exposure, outcome = outcome, method =  \"Egger\", Threshold = Threshold,\n",
    "                           nsnp = nsnp, beta =  res.egger$b, se = res.egger$se, pval = res.egger$pval),\n",
    "                \"Traits_8methods.MRres\", quote=F, col.names = F, append = T,row.names = F) \n",
    "    \n",
    "  }\n",
    "}\n",
    "print(proc.time()-start0)"
   ]
  },
  {
   "cell_type": "markdown",
   "metadata": {},
   "source": [
    "## MRMix"
   ]
  },
  {
   "cell_type": "code",
   "execution_count": 16,
   "metadata": {},
   "outputs": [
    {
     "name": "stdout",
     "output_type": "stream",
     "text": [
      "    user   system  elapsed \n",
      "4760.092    3.430 4765.612 \n"
     ]
    }
   ],
   "source": [
    "start0 = proc.time()\n",
    "\n",
    "for( exposure in ts1 ){\n",
    "  \n",
    "  for( outcome in ts2 ){\n",
    "           if(exposure==outcome) next\n",
    "    # reading in data\n",
    "    #cat(\"*********************************\\n\")\n",
    "    #cat(\"Pair: \", exposure,\"~\", outcome, \" \")\n",
    "    dat= try(read.table(paste0(\"./MRdat/\", exposure,\"~\", outcome), header = T))\n",
    "    if(inherits(dat , 'try-error')) next\n",
    "  \n",
    "    indx = which(dat$pval.exp <= Threshold)\n",
    "    nsnp = length(indx)\n",
    "    if(nsnp < 4) next\n",
    "    \n",
    "    ## MRmix\n",
    "    res.MRMix = try(MRMix::MRMix(dat[indx,]$b.exp, dat[indx,]$b.out, dat[indx,]$se.exp, dat[indx,]$se.out))\n",
    "    #cat(\"MRMix: beta.hat=\", res.MRMix$theta, \" se=\", res.MRMix$SE_theta, \"pval=\", res.MRMix$pvalue_theta, \"\\n\")\n",
    "    \n",
    "    if(inherits(res.MRMix,\"try-error\")) next\n",
    "    \n",
    "    write.table(data.frame(exposure = exposure, outcome = outcome, method = \"MRMix\", Threshold = Threshold,\n",
    "                           nsnp = nsnp, beta = res.MRMix$theta, se = res.MRMix$SE_theta, pval = res.MRMix$pvalue_theta),\n",
    "                \"Traits_8methods.MRres\", quote=F, col.names = F, append = T,row.names = F) \n",
    "    \n",
    "  }\n",
    "}\n",
    "print(proc.time()-start0)"
   ]
  },
  {
   "cell_type": "markdown",
   "metadata": {},
   "source": [
    "## Weighted-median"
   ]
  },
  {
   "cell_type": "code",
   "execution_count": 17,
   "metadata": {},
   "outputs": [
    {
     "name": "stdout",
     "output_type": "stream",
     "text": [
      "   user  system elapsed \n",
      " 70.951   0.244  72.102 \n"
     ]
    }
   ],
   "source": [
    "# Weighted-mode uses bootstrap to estimate the standard error. \n",
    "# The standard errors and p values could be slightly different from the MR-APSS paper since we have not set the random seed.\n",
    "start0 = proc.time()\n",
    "\n",
    "for( exposure in ts1 ){\n",
    "  \n",
    "  for( outcome in ts2 ){\n",
    "           if(exposure==outcome) next\n",
    "    # reading in data\n",
    "    #cat(\"*********************************\\n\")\n",
    "    #cat(\"Pair: \", exposure,\"~\", outcome, \" \")\n",
    "    dat= try(read.table(paste0(\"./MRdat_order/\", exposure,\"~\", outcome), header = T))\n",
    "    if(inherits(dat , 'try-error')) next\n",
    "  \n",
    "    indx = which(dat$pval.exp <= Threshold)\n",
    "    nsnp = length(indx)\n",
    "    if(nsnp < 4) next\n",
    "    \n",
    "    ## MRmix\n",
    "    res.median <- try(TwoSampleMR::mr_weighted_median(dat$b.exp[indx], dat$b.out[indx], dat$se.exp[indx], dat$se.out[indx]))\n",
    "    #cat(\"Weighted-median: beta.hat=\", res.median$b, \" se=\", res.median$se, \"pval=\", res.median$pval, \"\\n\")\n",
    "    \n",
    "    if(inherits(res.median,\"try-error\")) next\n",
    "    \n",
    "    write.table(data.frame(exposure = exposure, outcome = outcome, method =  \"Weighted-median\", Threshold = Threshold,\n",
    "                           nsnp = nsnp, beta = res.median$b, se = res.median$se, pval = res.median$pval),\n",
    "                \"Traits_8methods.MRres\", quote=F, col.names = F, append = T,row.names = F) \n",
    "    \n",
    "  }\n",
    "}\n",
    "print(proc.time()-start0)"
   ]
  },
  {
   "cell_type": "markdown",
   "metadata": {},
   "source": [
    "## Weighted-mode"
   ]
  },
  {
   "cell_type": "code",
   "execution_count": 18,
   "metadata": {},
   "outputs": [
    {
     "name": "stdout",
     "output_type": "stream",
     "text": [
      "    user   system  elapsed \n",
      "1412.607    0.884 1414.781 \n"
     ]
    }
   ],
   "source": [
    "# Weighted-mode uses bootstrap to estimate the standard error. \n",
    "# The standard errors and p values could be slightly different from the MR-APSS paper since we have not set the random seed.\n",
    "start0 = proc.time()\n",
    "\n",
    "for( exposure in ts1 ){\n",
    "  \n",
    "  for( outcome in ts2 ){\n",
    "           if(exposure==outcome) next\n",
    "    # reading in data\n",
    "    #cat(\"*********************************\\n\")\n",
    "    #cat(\"Pair: \", exposure,\"~\", outcome, \" \")\n",
    "    dat= try(read.table(paste0(\"./MRdat_order/\", exposure,\"~\", outcome), header = T))\n",
    "    if(inherits(dat , 'try-error')) next\n",
    "  \n",
    "    indx = which(dat$pval.exp <= Threshold)\n",
    "    nsnp = length(indx)\n",
    "    if(nsnp < 4) next\n",
    "\n",
    "    res.mode <- try(TwoSampleMR::mr_weighted_mode(dat$b.exp[indx], dat$b.out[indx], dat$se.exp[indx], dat$se.out[indx]))\n",
    "    #cat(\"Weighted-mode: beta.hat=\", res.mode$b, \" se=\", res.mode$se, \"pval=\", res.mode$pval, \"\\n\")\n",
    "    \n",
    "    if(inherits(res.mode,\"try-error\")) next\n",
    "    \n",
    "    write.table(data.frame(exposure = exposure, outcome = outcome, method =  \"Weighted-mode\", Threshold = Threshold,\n",
    "                           nsnp = nsnp, beta = res.mode$b, se = res.mode$se, pval = res.mode$pval),\n",
    "                \"Traits_8methods.MRres\", quote=F, col.names = F, append = T,row.names = F) \n",
    "\n",
    "    \n",
    "  }\n",
    "}\n",
    "print(proc.time()-start0)\n"
   ]
  },
  {
   "cell_type": "markdown",
   "metadata": {},
   "source": [
    "## cML-MA"
   ]
  },
  {
   "cell_type": "code",
   "execution_count": null,
   "metadata": {},
   "outputs": [],
   "source": [
    "start0 = proc.time()\n",
    "\n",
    "for( exposure in ts1 ){\n",
    "  \n",
    "  for( outcome in ts2 ){\n",
    "           if(exposure==outcome) next\n",
    "   # reading in data\n",
    "    #cat(\"*********************************\\n\")\n",
    "    #cat(\"Pair: \", exposure,\"~\", outcome, \" \")\n",
    "    dat= try(read.table(paste0(\"./MRdat/\", exposure,\"~\", outcome), header = T))\n",
    "    if(inherits(dat , 'try-error')) next\n",
    "  \n",
    "    indx = which(dat$pval.exp <= Threshold)\n",
    "    nsnp = length(indx)\n",
    "    if(nsnp < 4) next\n",
    "    \n",
    "    ## cML-MA\n",
    "    final_dat = dat[indx,]\n",
    "    n= min(median(1/final_dat$se.exp^2), median(1/final_dat$se.out^2))\n",
    "    cML_result = try(suppressWarnings(MRcML::mr_cML_DP(final_dat$b.exp,\n",
    "                                                       final_dat$b.out,\n",
    "                                                       final_dat$se.exp,\n",
    "                                                       final_dat$se.out,\n",
    "                                                       n = n,\n",
    "                                                       random_start = 10,\n",
    "                                                       random_start_pert = 10,\n",
    "                                                       random_seed = 1,\n",
    "                                                       num_pert = 200)))\n",
    "    #cat(\"cML-MA: beta.hat=\", cML_result$MA_BIC_DP_theta, \" se=\", cML_result$MA_BIC_DP_se, \"pval=\", cML_result$MA_BIC_DP_p, \"\\n\")\n",
    "    \n",
    "    \n",
    "    write.table(data.frame(exposure = exposure, outcome = outcome, method =  \"cML-MA\", Threshold = Threshold,\n",
    "                           nsnp = nsnp, beta =  cML_result$MA_BIC_DP_theta, se = cML_result$MA_BIC_DP_se, pval = cML_result$MA_BIC_DP_p),\n",
    "                \"Traits_8methods.MRres\", quote=F, col.names = F, append = T,row.names = F) \n",
    "    \n",
    "    if(inherits(cML_result,\"try-error\")) next\n",
    "    \n",
    "  }\n",
    "}\n",
    "print(proc.time()-start0)\n",
    "\n",
    "# It takes about two weeks for cML-MA to test the trait pairs between 26 traits using the above code.\n",
    "# Noted we set num_pert = 200 for cML-MA."
   ]
  },
  {
   "cell_type": "code",
   "execution_count": 24,
   "metadata": {},
   "outputs": [],
   "source": [
    "MRmethods_res = read.table(\"Traits_8methods.MRres\", header = F)\n",
    "colnames(MRmethods_res) = c(\"exposure\",\"outcome\",\"Method\", \"Threshold\", \"nsnp\", \"beta.hat\",\"se\", \"pval\")\n",
    "write.table(MRmethods_res, \"Traits_8methods.MRres\", quote=F, col.names = T, append = F,row.names = F)"
   ]
  },
  {
   "cell_type": "code",
   "execution_count": 25,
   "metadata": {},
   "outputs": [
    {
     "data": {
      "text/html": [
       "<table class=\"dataframe\">\n",
       "<caption>A data.frame: 6 × 8</caption>\n",
       "<thead>\n",
       "\t<tr><th></th><th scope=col>exposure</th><th scope=col>outcome</th><th scope=col>Method</th><th scope=col>Threshold</th><th scope=col>nsnp</th><th scope=col>beta.hat</th><th scope=col>se</th><th scope=col>pval</th></tr>\n",
       "\t<tr><th></th><th scope=col>&lt;fct&gt;</th><th scope=col>&lt;fct&gt;</th><th scope=col>&lt;fct&gt;</th><th scope=col>&lt;dbl&gt;</th><th scope=col>&lt;int&gt;</th><th scope=col>&lt;dbl&gt;</th><th scope=col>&lt;dbl&gt;</th><th scope=col>&lt;dbl&gt;</th></tr>\n",
       "</thead>\n",
       "<tbody>\n",
       "\t<tr><th scope=row>1</th><td>AD</td><td>ASD               </td><td>IVW</td><td>5e-08</td><td>11</td><td>-0.008432428</td><td>0.07375786</td><td>0.908979515</td></tr>\n",
       "\t<tr><th scope=row>2</th><td>AD</td><td>Daytime_Sleepiness</td><td>IVW</td><td>5e-08</td><td>11</td><td> 0.004928477</td><td>0.01385606</td><td>0.722071954</td></tr>\n",
       "\t<tr><th scope=row>3</th><td>AD</td><td>Height_UKB        </td><td>IVW</td><td>5e-08</td><td>10</td><td> 0.035147988</td><td>0.01545097</td><td>0.022917420</td></tr>\n",
       "\t<tr><th scope=row>4</th><td>AD</td><td>Intelligence      </td><td>IVW</td><td>5e-08</td><td>10</td><td> 0.028844257</td><td>0.02704256</td><td>0.286141392</td></tr>\n",
       "\t<tr><th scope=row>5</th><td>AD</td><td>RA                </td><td>IVW</td><td>5e-08</td><td>10</td><td>-0.049234471</td><td>0.03961648</td><td>0.213949846</td></tr>\n",
       "\t<tr><th scope=row>6</th><td>AD</td><td>T2D               </td><td>IVW</td><td>5e-08</td><td>11</td><td>-0.062044500</td><td>0.01938304</td><td>0.001369664</td></tr>\n",
       "</tbody>\n",
       "</table>\n"
      ],
      "text/latex": [
       "A data.frame: 6 × 8\n",
       "\\begin{tabular}{r|llllllll}\n",
       "  & exposure & outcome & Method & Threshold & nsnp & beta.hat & se & pval\\\\\n",
       "  & <fct> & <fct> & <fct> & <dbl> & <int> & <dbl> & <dbl> & <dbl>\\\\\n",
       "\\hline\n",
       "\t1 & AD & ASD                & IVW & 5e-08 & 11 & -0.008432428 & 0.07375786 & 0.908979515\\\\\n",
       "\t2 & AD & Daytime\\_Sleepiness & IVW & 5e-08 & 11 &  0.004928477 & 0.01385606 & 0.722071954\\\\\n",
       "\t3 & AD & Height\\_UKB         & IVW & 5e-08 & 10 &  0.035147988 & 0.01545097 & 0.022917420\\\\\n",
       "\t4 & AD & Intelligence       & IVW & 5e-08 & 10 &  0.028844257 & 0.02704256 & 0.286141392\\\\\n",
       "\t5 & AD & RA                 & IVW & 5e-08 & 10 & -0.049234471 & 0.03961648 & 0.213949846\\\\\n",
       "\t6 & AD & T2D                & IVW & 5e-08 & 11 & -0.062044500 & 0.01938304 & 0.001369664\\\\\n",
       "\\end{tabular}\n"
      ],
      "text/markdown": [
       "\n",
       "A data.frame: 6 × 8\n",
       "\n",
       "| <!--/--> | exposure &lt;fct&gt; | outcome &lt;fct&gt; | Method &lt;fct&gt; | Threshold &lt;dbl&gt; | nsnp &lt;int&gt; | beta.hat &lt;dbl&gt; | se &lt;dbl&gt; | pval &lt;dbl&gt; |\n",
       "|---|---|---|---|---|---|---|---|---|\n",
       "| 1 | AD | ASD                | IVW | 5e-08 | 11 | -0.008432428 | 0.07375786 | 0.908979515 |\n",
       "| 2 | AD | Daytime_Sleepiness | IVW | 5e-08 | 11 |  0.004928477 | 0.01385606 | 0.722071954 |\n",
       "| 3 | AD | Height_UKB         | IVW | 5e-08 | 10 |  0.035147988 | 0.01545097 | 0.022917420 |\n",
       "| 4 | AD | Intelligence       | IVW | 5e-08 | 10 |  0.028844257 | 0.02704256 | 0.286141392 |\n",
       "| 5 | AD | RA                 | IVW | 5e-08 | 10 | -0.049234471 | 0.03961648 | 0.213949846 |\n",
       "| 6 | AD | T2D                | IVW | 5e-08 | 11 | -0.062044500 | 0.01938304 | 0.001369664 |\n",
       "\n"
      ],
      "text/plain": [
       "  exposure outcome            Method Threshold nsnp beta.hat     se        \n",
       "1 AD       ASD                IVW    5e-08     11   -0.008432428 0.07375786\n",
       "2 AD       Daytime_Sleepiness IVW    5e-08     11    0.004928477 0.01385606\n",
       "3 AD       Height_UKB         IVW    5e-08     10    0.035147988 0.01545097\n",
       "4 AD       Intelligence       IVW    5e-08     10    0.028844257 0.02704256\n",
       "5 AD       RA                 IVW    5e-08     10   -0.049234471 0.03961648\n",
       "6 AD       T2D                IVW    5e-08     11   -0.062044500 0.01938304\n",
       "  pval       \n",
       "1 0.908979515\n",
       "2 0.722071954\n",
       "3 0.022917420\n",
       "4 0.286141392\n",
       "5 0.213949846\n",
       "6 0.001369664"
      ]
     },
     "metadata": {},
     "output_type": "display_data"
    }
   ],
   "source": [
    "head(MRmethods_res)"
   ]
  }
 ],
 "metadata": {
  "kernelspec": {
   "display_name": "R",
   "language": "R",
   "name": "ir"
  },
  "language_info": {
   "codemirror_mode": "r",
   "file_extension": ".r",
   "mimetype": "text/x-r-source",
   "name": "R",
   "pygments_lexer": "r",
   "version": "3.6.3"
  }
 },
 "nbformat": 4,
 "nbformat_minor": 4
}
