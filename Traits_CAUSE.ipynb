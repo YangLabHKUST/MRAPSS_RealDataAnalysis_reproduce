{
 "cells": [
  {
   "cell_type": "markdown",
   "metadata": {},
   "source": [
    "# Install packages"
   ]
  },
  {
   "cell_type": "code",
   "execution_count": 1,
   "metadata": {
    "scrolled": true
   },
   "outputs": [],
   "source": [
    "# devtools::install_version(\"mixsqp\", version = \"0.1-97\", repos = \"http://cran.us.r-project.org\")\n",
    "# devtools::install_version(\"ashr\", version = \"2.2-32\", repos = \"http://cran.us.r-project.org\")\n",
    "# devtools::install_github(\"jean997/cause@v1.0.0\")\n",
    "# for the latest version, use devtools::install_github(\"jean997/cause@v1.2.0\")"
   ]
  },
  {
   "cell_type": "markdown",
   "metadata": {},
   "source": [
    "# Run CAUSE"
   ]
  },
  {
   "cell_type": "code",
   "execution_count": 11,
   "metadata": {
    "scrolled": true
   },
   "outputs": [],
   "source": [
    "library(readr)\n",
    "library(cause)\n",
    "ts1 = c(\"AD\", \"ASD\", \"Daytime_Sleepiness\", \"Height_UKB\",  \"Intelligence\", \"RA\",      \n",
    "        \"T2D\", \"Alcohol\", \"BMI\", \"Depression\", \"IBD\", \"MDD\", \"SCZ\", \"Angina\", \n",
    "        \"CAD\", \"HBP\", \"Income\", \"NEB\", \"Smoking\", \"Urate\", \"Anorexia\", \n",
    "        \"CD\", \"Height_GIANT\", \"Insomnia\", \"Neuroticism\", \"SWB\")\n",
    "\n",
    "ts2 = ts1\n",
    "\n",
    "Threshold=1e-03\n",
    "\n",
    "start = proc.time()\n",
    "for( exposure in ts1 ){\n",
    "  \n",
    "  for( outcome in ts2 ){\n",
    "    \n",
    "\n",
    "    \n",
    "    if(exposure==outcome) next\n",
    "    \n",
    "    # read GWAS summary statistics\n",
    "    cat(exposure,\"~\",outcome,\"\\n\")\n",
    "    \n",
    "    X1 = suppressMessages(readr::read_delim(paste0(\"./GWAS_26and5_formatted/\", exposure), delim=\"\\t\",\n",
    "                                     escape_double = FALSE, trim_ws = TRUE, progress = F))\n",
    "    \n",
    "    X2 = suppressMessages(readr::read_delim(paste0(\"./GWAS_26and5_formatted/\", outcome), delim=\"\\t\",\n",
    "                                     escape_double = FALSE, trim_ws = TRUE, progress = F))\n",
    "    \n",
    "    X1$b = X1$Z/sqrt(X1$N)\n",
    "    X2$b = X2$Z/sqrt(X2$N)\n",
    "    X1$se = 1/sqrt(X1$N)\n",
    "    X2$se = 1/sqrt(X2$N)\n",
    "    \n",
    "    X <- try(gwas_merge(X1, X2, \n",
    "                        snp_name_cols = c(\"SNP\", \"SNP\"),\n",
    "                        beta_hat_cols = c(\"b\", \"b\"),\n",
    "                        se_cols = c(\"se\", \"se\"),\n",
    "                        A1_cols = c(\"A1\", \"A1\"),\n",
    "                        A2_cols = c(\"A2\", \"A2\")))\n",
    "    \n",
    "    if(inherits(X , 'try-error')) next\n",
    "    \n",
    "    d0 = X1[, c(\"SNP\", \"P\")]\n",
    "    colnames(d0) = c(\"snp\", \"pval.exp\")\n",
    "    X0 = merge(X, d0, by=\"snp\")\n",
    "    \n",
    "    # clump\n",
    "    clumped = MRAPSS::clump(X0,\n",
    "                            IV.Threshold = 1e-03,\n",
    "                            SNP_col = \"snp\",\n",
    "                            pval_col = \"pval.exp\",\n",
    "                            clump_kb = 1000,\n",
    "                            clump_r2 = 0.1,\n",
    "                            bfile = \"/import/home/share/xhu/database/1KG/all_1000G_EUR_Phase3\",\n",
    "                            plink_bin = \"/import/home/maxhu/plink/plink\")\n",
    "    \n",
    "    varlist <- with(X, sample(snp, size=min(nrow(X), 1000000), replace=FALSE))\n",
    "    params <- try(est_cause_params(X, varlist))\n",
    "    if(inherits(params , 'try-error')) next\n",
    "    \n",
    "    # cause\n",
    "    if(!is.null(clumped)){\n",
    "      \n",
    "      top_ldl_pruned_vars =intersect(as.character(X$snp), as.character(subset(clumped, pval.exp <= Threshold)$snp))\n",
    "      \n",
    "      cause_res <- try(cause(X=X, variants = top_ldl_pruned_vars , param_ests = params, force=TRUE))\n",
    "      \n",
    "      if(inherits( cause_res , 'try-error')) next\n",
    "      \n",
    "      res_elpd <- data.frame(exposure,\n",
    "                             outcome,\n",
    "                             Threshold,\n",
    "                             length(top_ldl_pruned_vars),\n",
    "                             cause_res$elpd)\n",
    "      \n",
    "      res.cause.est = summary(cause_res, ci_size=0.95)\n",
    "      \n",
    "      res = data.frame(exposure, outcome,\n",
    "                       Threshold,length(top_ldl_pruned_vars),\n",
    "                       matrix(c(res.cause.est$quants[[2]][,1],\n",
    "                                res.cause.est$quants[[2]][,2],\n",
    "                                res.cause.est$quants[[2]][,3]), nrow=1))\n",
    "      \n",
    "      write.table(res, file=\"Traits_CAUSE_est\", append=T,\n",
    "                  col.names = F, row.names = F,\n",
    "                  quote = F)\n",
    "      \n",
    "      write.table(res_elpd, file=\"Traits_CAUSE_elpd\", append=T,\n",
    "                  col.names = F, row.names = F,\n",
    "                  quote = F)\n",
    "      \n",
    "      rm(top_ldl_pruned_vars)\n",
    "      rm(res)\n",
    "      rm(res_elpd)\n",
    "      rm(res.cause.est)\n",
    "      rm(cause_res)\n",
    "    }\n",
    "    \n",
    "  }\n",
    "  \n",
    "}\n",
    "print(proc.time()-start)"
   ]
  },
  {
   "cell_type": "code",
   "execution_count": 12,
   "metadata": {
    "scrolled": true
   },
   "outputs": [],
   "source": [
    "cause_elpd = unique(read.table(\"Traits_CAUSE_elpd\", header = F))\n",
    "cause_est = unique(read.table(\"Traits_CAUSE_est\", header = F))\n",
    "colnames(cause_elpd) = c(\"exposure\",\"outcome\",\"Threshold\",\"nsnp\",\"model1\",\"model2\",\"delta_elpd\", \"se_delta_elpd\", \"Z\")\n",
    "colnames(cause_est) = c(\"exposure\",\"outcome\",\"Threshold\",\"nsnp\", \"beta.hat\",\"b_l\",\"b_u\",\"eta\",\"eta_l\",\"eta_u\",\"q\",\"q_l\",\"q_u\")\n",
    "cause_elpd = unique(subset(cause_elpd, model1==\"sharing\"&model2==\"causal\"))\n",
    "cause_elpd$pval = pnorm(cause_elpd$Z)\n",
    "cause_est = unique(cause_est[, c(\"exposure\",\"outcome\",\"Threshold\",\"nsnp\", \"beta.hat\",\"b_l\",\"b_u\")])\n",
    "cause_est$se = (cause_est$b_u - cause_est$b_l)/2/1.96\n",
    "cause_res = unique(merge(unique(cause_elpd[, c(\"exposure\",\"outcome\",\"pval\")]),\n",
    "                         cause_est[, c(\"exposure\",\"outcome\",\"Threshold\",\"nsnp\", \"beta.hat\",\"se\")],\n",
    "                         by=c(\"exposure\",\"outcome\")))\n",
    "cause_res$Method = \"CAUSE\"\n",
    "write.table(cause_res, file=\"Traits_CAUSE.MRres\", append=F, col.names = T, row.names = F, quote = F)"
   ]
  },
  {
   "cell_type": "code",
   "execution_count": 13,
   "metadata": {
    "scrolled": true
   },
   "outputs": [
    {
     "data": {
      "text/html": [
       "<table class=\"dataframe\">\n",
       "<caption>A data.frame: 6 × 8</caption>\n",
       "<thead>\n",
       "\t<tr><th></th><th scope=col>exposure</th><th scope=col>outcome</th><th scope=col>pval</th><th scope=col>Threshold</th><th scope=col>nsnp</th><th scope=col>beta.hat</th><th scope=col>se</th><th scope=col>Method</th></tr>\n",
       "\t<tr><th></th><th scope=col>&lt;fct&gt;</th><th scope=col>&lt;fct&gt;</th><th scope=col>&lt;dbl&gt;</th><th scope=col>&lt;dbl&gt;</th><th scope=col>&lt;int&gt;</th><th scope=col>&lt;dbl&gt;</th><th scope=col>&lt;dbl&gt;</th><th scope=col>&lt;chr&gt;</th></tr>\n",
       "</thead>\n",
       "<tbody>\n",
       "\t<tr><th scope=row>1</th><td>AD</td><td>Alcohol </td><td>0.9999999</td><td>0.001</td><td>690</td><td>-0.001000189</td><td>0.01321479</td><td>CAUSE</td></tr>\n",
       "\t<tr><th scope=row>2</th><td>AD</td><td>Angina  </td><td>0.7051944</td><td>0.001</td><td>656</td><td>-0.013624823</td><td>0.01417754</td><td>CAUSE</td></tr>\n",
       "\t<tr><th scope=row>3</th><td>AD</td><td>Anorexia</td><td>0.9998904</td><td>0.001</td><td>588</td><td> 0.006302211</td><td>0.02600592</td><td>CAUSE</td></tr>\n",
       "\t<tr><th scope=row>4</th><td>AD</td><td>ASD     </td><td>0.9999980</td><td>0.001</td><td>683</td><td> 0.007747679</td><td>0.04821366</td><td>CAUSE</td></tr>\n",
       "\t<tr><th scope=row>5</th><td>AD</td><td>BMI     </td><td>0.3185072</td><td>0.001</td><td>656</td><td>-0.031817131</td><td>0.01925596</td><td>CAUSE</td></tr>\n",
       "\t<tr><th scope=row>6</th><td>AD</td><td>CAD     </td><td>0.9128530</td><td>0.001</td><td>703</td><td>-0.008380268</td><td>0.01638776</td><td>CAUSE</td></tr>\n",
       "</tbody>\n",
       "</table>\n"
      ],
      "text/latex": [
       "A data.frame: 6 × 8\n",
       "\\begin{tabular}{r|llllllll}\n",
       "  & exposure & outcome & pval & Threshold & nsnp & beta.hat & se & Method\\\\\n",
       "  & <fct> & <fct> & <dbl> & <dbl> & <int> & <dbl> & <dbl> & <chr>\\\\\n",
       "\\hline\n",
       "\t1 & AD & Alcohol  & 0.9999999 & 0.001 & 690 & -0.001000189 & 0.01321479 & CAUSE\\\\\n",
       "\t2 & AD & Angina   & 0.7051944 & 0.001 & 656 & -0.013624823 & 0.01417754 & CAUSE\\\\\n",
       "\t3 & AD & Anorexia & 0.9998904 & 0.001 & 588 &  0.006302211 & 0.02600592 & CAUSE\\\\\n",
       "\t4 & AD & ASD      & 0.9999980 & 0.001 & 683 &  0.007747679 & 0.04821366 & CAUSE\\\\\n",
       "\t5 & AD & BMI      & 0.3185072 & 0.001 & 656 & -0.031817131 & 0.01925596 & CAUSE\\\\\n",
       "\t6 & AD & CAD      & 0.9128530 & 0.001 & 703 & -0.008380268 & 0.01638776 & CAUSE\\\\\n",
       "\\end{tabular}\n"
      ],
      "text/markdown": [
       "\n",
       "A data.frame: 6 × 8\n",
       "\n",
       "| <!--/--> | exposure &lt;fct&gt; | outcome &lt;fct&gt; | pval &lt;dbl&gt; | Threshold &lt;dbl&gt; | nsnp &lt;int&gt; | beta.hat &lt;dbl&gt; | se &lt;dbl&gt; | Method &lt;chr&gt; |\n",
       "|---|---|---|---|---|---|---|---|---|\n",
       "| 1 | AD | Alcohol  | 0.9999999 | 0.001 | 690 | -0.001000189 | 0.01321479 | CAUSE |\n",
       "| 2 | AD | Angina   | 0.7051944 | 0.001 | 656 | -0.013624823 | 0.01417754 | CAUSE |\n",
       "| 3 | AD | Anorexia | 0.9998904 | 0.001 | 588 |  0.006302211 | 0.02600592 | CAUSE |\n",
       "| 4 | AD | ASD      | 0.9999980 | 0.001 | 683 |  0.007747679 | 0.04821366 | CAUSE |\n",
       "| 5 | AD | BMI      | 0.3185072 | 0.001 | 656 | -0.031817131 | 0.01925596 | CAUSE |\n",
       "| 6 | AD | CAD      | 0.9128530 | 0.001 | 703 | -0.008380268 | 0.01638776 | CAUSE |\n",
       "\n"
      ],
      "text/plain": [
       "  exposure outcome  pval      Threshold nsnp beta.hat     se         Method\n",
       "1 AD       Alcohol  0.9999999 0.001     690  -0.001000189 0.01321479 CAUSE \n",
       "2 AD       Angina   0.7051944 0.001     656  -0.013624823 0.01417754 CAUSE \n",
       "3 AD       Anorexia 0.9998904 0.001     588   0.006302211 0.02600592 CAUSE \n",
       "4 AD       ASD      0.9999980 0.001     683   0.007747679 0.04821366 CAUSE \n",
       "5 AD       BMI      0.3185072 0.001     656  -0.031817131 0.01925596 CAUSE \n",
       "6 AD       CAD      0.9128530 0.001     703  -0.008380268 0.01638776 CAUSE "
      ]
     },
     "metadata": {},
     "output_type": "display_data"
    }
   ],
   "source": [
    "head(cause_res)"
   ]
  }
 ],
 "metadata": {
  "kernelspec": {
   "display_name": "R",
   "language": "R",
   "name": "ir"
  },
  "language_info": {
   "codemirror_mode": "r",
   "file_extension": ".r",
   "mimetype": "text/x-r-source",
   "name": "R",
   "pygments_lexer": "r",
   "version": "3.6.3"
  }
 },
 "nbformat": 4,
 "nbformat_minor": 4
}
