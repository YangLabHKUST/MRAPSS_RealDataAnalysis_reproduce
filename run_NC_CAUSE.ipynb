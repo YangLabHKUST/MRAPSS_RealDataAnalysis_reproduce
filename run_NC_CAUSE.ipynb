{
 "cells": [
  {
   "cell_type": "markdown",
   "metadata": {},
   "source": [
    "# Install packages"
   ]
  },
  {
   "cell_type": "code",
   "execution_count": null,
   "metadata": {},
   "outputs": [],
   "source": [
    "# devtools::install_version(\"mixsqp\", version = \"0.1-97\", repos = \"http://cran.us.r-project.org\")\n",
    "# devtools::install_version(\"ashr\", version = \"2.2-32\", repos = \"http://cran.us.r-project.org\")\n",
    "# devtools::install_github(\"jean997/cause@v1.0.0\")\n",
    "# for the latest version, use devtools::install_github(\"jean997/cause@v1.2.0\")"
   ]
  },
  {
   "cell_type": "markdown",
   "metadata": {},
   "source": [
    "# Run CAUSE"
   ]
  },
  {
   "cell_type": "code",
   "execution_count": 1,
   "metadata": {},
   "outputs": [
    {
     "name": "stdout",
     "output_type": "stream",
     "text": [
      "AD ~ Hair_Light_Brown \n"
     ]
    },
    {
     "name": "stderr",
     "output_type": "stream",
     "text": [
      "\u001b[1m\u001b[1mRows: \u001b[1m\u001b[22m\u001b[34m\u001b[34m1148476\u001b[34m\u001b[39m \u001b[1m\u001b[1mColumns: \u001b[1m\u001b[22m\u001b[34m\u001b[34m7\u001b[34m\u001b[39m\n",
      "\n",
      "\u001b[36m──\u001b[39m \u001b[1m\u001b[1mColumn specification\u001b[1m\u001b[22m \u001b[36m────────────────────────────────────────────────────────────────────────────────────────────────────────\u001b[39m\n",
      "\u001b[1mDelimiter:\u001b[22m \"\\t\"\n",
      "\u001b[31mchr\u001b[39m (3): SNP, A1, A2\n",
      "\u001b[32mdbl\u001b[39m (4): Z, N, chi2, P\n",
      "\n",
      "\n",
      "\u001b[36mℹ\u001b[39m Use \u001b[30m\u001b[47m\u001b[30m\u001b[47m`spec()`\u001b[47m\u001b[30m\u001b[49m\u001b[39m to retrieve the full column specification for this data.\n",
      "\u001b[36mℹ\u001b[39m Specify the column types or set \u001b[30m\u001b[47m\u001b[30m\u001b[47m`show_col_types = FALSE`\u001b[47m\u001b[30m\u001b[49m\u001b[39m to quiet this message.\n",
      "\n",
      "\u001b[1m\u001b[1mRows: \u001b[1m\u001b[22m\u001b[34m\u001b[34m1037742\u001b[34m\u001b[39m \u001b[1m\u001b[1mColumns: \u001b[1m\u001b[22m\u001b[34m\u001b[34m7\u001b[34m\u001b[39m\n",
      "\n",
      "\u001b[36m──\u001b[39m \u001b[1m\u001b[1mColumn specification\u001b[1m\u001b[22m \u001b[36m────────────────────────────────────────────────────────────────────────────────────────────────────────\u001b[39m\n",
      "\u001b[1mDelimiter:\u001b[22m \"\\t\"\n",
      "\u001b[31mchr\u001b[39m (3): SNP, A1, A2\n",
      "\u001b[32mdbl\u001b[39m (4): Z, N, chi2, P\n",
      "\n",
      "\n",
      "\u001b[36mℹ\u001b[39m Use \u001b[30m\u001b[47m\u001b[30m\u001b[47m`spec()`\u001b[47m\u001b[30m\u001b[49m\u001b[39m to retrieve the full column specification for this data.\n",
      "\u001b[36mℹ\u001b[39m Specify the column types or set \u001b[30m\u001b[47m\u001b[30m\u001b[47m`show_col_types = FALSE`\u001b[47m\u001b[30m\u001b[49m\u001b[39m to quiet this message.\n",
      "\n"
     ]
    },
    {
     "name": "stdout",
     "output_type": "stream",
     "text": [
      "Formatting X1\n",
      "There are  1148476  variants.\n",
      "Removing  0  duplicated variants leaving  1148476 variants.\n",
      "No variants have illegal alleles.\n",
      "Removed  0  variants with ambiguous strand.\n",
      "Flipping strand and effect allele so A1 is always A\n",
      "Returning  1148476  variants.\n",
      "Formatting X2\n",
      "There are  1037742  variants.\n",
      "Removing  0  duplicated variants leaving  1037742 variants.\n",
      "No variants have illegal alleles.\n",
      "Removed  0  variants with ambiguous strand.\n",
      "Flipping strand and effect allele so A1 is always A\n",
      "Returning  1037742  variants.\n",
      "After merging and removing variants with inconsistent alleles,  there are  1015668  variants that are present in both studies and can be used with CAUSE.\n"
     ]
    },
    {
     "name": "stderr",
     "output_type": "stream",
     "text": [
      "API: public: http://gwas-api.mrcieu.ac.uk/\n",
      "\n",
      "Clumping DqMBdQ, 2654 variants, using EUR population reference\n",
      "\n",
      "Removing 1998 of 2654 variants due to LD with other variants or absence from LD reference panel\n",
      "\n"
     ]
    },
    {
     "name": "stdout",
     "output_type": "stream",
     "text": [
      "Estimating CAUSE parameters with  1000000  variants.\n",
      "1 0.01023395 \n",
      "2 6.471764e-07 \n",
      "3 4.67401e-09 \n",
      "Estimating CAUSE posteriors using  656  variants.\n"
     ]
    },
    {
     "name": "stderr",
     "output_type": "stream",
     "text": [
      "Warning message:\n",
      "“'compare' is deprecated.\n",
      "Use 'loo_compare' instead.\n",
      "See help(\"Deprecated\")”\n"
     ]
    },
    {
     "name": "stdout",
     "output_type": "stream",
     "text": [
      "    user   system  elapsed \n",
      "2149.438 2009.448  469.660 \n",
      "AD ~ Hair_Dark_Brown \n"
     ]
    },
    {
     "name": "stderr",
     "output_type": "stream",
     "text": [
      "\u001b[1m\u001b[1mRows: \u001b[1m\u001b[22m\u001b[34m\u001b[34m1148476\u001b[34m\u001b[39m \u001b[1m\u001b[1mColumns: \u001b[1m\u001b[22m\u001b[34m\u001b[34m7\u001b[34m\u001b[39m\n",
      "\n",
      "\u001b[36m──\u001b[39m \u001b[1m\u001b[1mColumn specification\u001b[1m\u001b[22m \u001b[36m────────────────────────────────────────────────────────────────────────────────────────────────────────\u001b[39m\n",
      "\u001b[1mDelimiter:\u001b[22m \"\\t\"\n",
      "\u001b[31mchr\u001b[39m (3): SNP, A1, A2\n",
      "\u001b[32mdbl\u001b[39m (4): Z, N, chi2, P\n",
      "\n",
      "\n",
      "\u001b[36mℹ\u001b[39m Use \u001b[30m\u001b[47m\u001b[30m\u001b[47m`spec()`\u001b[47m\u001b[30m\u001b[49m\u001b[39m to retrieve the full column specification for this data.\n",
      "\u001b[36mℹ\u001b[39m Specify the column types or set \u001b[30m\u001b[47m\u001b[30m\u001b[47m`show_col_types = FALSE`\u001b[47m\u001b[30m\u001b[49m\u001b[39m to quiet this message.\n",
      "\n",
      "\u001b[1m\u001b[1mRows: \u001b[1m\u001b[22m\u001b[34m\u001b[34m1037381\u001b[34m\u001b[39m \u001b[1m\u001b[1mColumns: \u001b[1m\u001b[22m\u001b[34m\u001b[34m7\u001b[34m\u001b[39m\n",
      "\n",
      "\u001b[36m──\u001b[39m \u001b[1m\u001b[1mColumn specification\u001b[1m\u001b[22m \u001b[36m────────────────────────────────────────────────────────────────────────────────────────────────────────\u001b[39m\n",
      "\u001b[1mDelimiter:\u001b[22m \"\\t\"\n",
      "\u001b[31mchr\u001b[39m (3): SNP, A1, A2\n",
      "\u001b[32mdbl\u001b[39m (4): Z, N, chi2, P\n",
      "\n",
      "\n",
      "\u001b[36mℹ\u001b[39m Use \u001b[30m\u001b[47m\u001b[30m\u001b[47m`spec()`\u001b[47m\u001b[30m\u001b[49m\u001b[39m to retrieve the full column specification for this data.\n",
      "\u001b[36mℹ\u001b[39m Specify the column types or set \u001b[30m\u001b[47m\u001b[30m\u001b[47m`show_col_types = FALSE`\u001b[47m\u001b[30m\u001b[49m\u001b[39m to quiet this message.\n",
      "\n"
     ]
    },
    {
     "name": "stdout",
     "output_type": "stream",
     "text": [
      "Formatting X1\n",
      "There are  1148476  variants.\n",
      "Removing  0  duplicated variants leaving  1148476 variants.\n",
      "No variants have illegal alleles.\n",
      "Removed  0  variants with ambiguous strand.\n",
      "Flipping strand and effect allele so A1 is always A\n",
      "Returning  1148476  variants.\n",
      "Formatting X2\n",
      "There are  1037381  variants.\n",
      "Removing  0  duplicated variants leaving  1037381 variants.\n",
      "No variants have illegal alleles.\n",
      "Removed  0  variants with ambiguous strand.\n",
      "Flipping strand and effect allele so A1 is always A\n",
      "Returning  1037381  variants.\n",
      "After merging and removing variants with inconsistent alleles,  there are  1015318  variants that are present in both studies and can be used with CAUSE.\n"
     ]
    },
    {
     "name": "stderr",
     "output_type": "stream",
     "text": [
      "Clumping It8n76, 2654 variants, using EUR population reference\n",
      "\n",
      "Removing 1998 of 2654 variants due to LD with other variants or absence from LD reference panel\n",
      "\n"
     ]
    },
    {
     "name": "stdout",
     "output_type": "stream",
     "text": [
      "Estimating CAUSE parameters with  1000000  variants.\n",
      "1 0.00224689 \n",
      "2 6.981576e-07 \n",
      "3 3.030372e-09 \n",
      "Estimating CAUSE posteriors using  656  variants.\n"
     ]
    },
    {
     "name": "stderr",
     "output_type": "stream",
     "text": [
      "Warning message:\n",
      "“'compare' is deprecated.\n",
      "Use 'loo_compare' instead.\n",
      "See help(\"Deprecated\")”\n"
     ]
    },
    {
     "name": "stdout",
     "output_type": "stream",
     "text": [
      "    user   system  elapsed \n",
      "2053.350 1809.625  425.931 \n",
      "AD ~ Hair_Black \n"
     ]
    },
    {
     "name": "stderr",
     "output_type": "stream",
     "text": [
      "\u001b[1m\u001b[1mRows: \u001b[1m\u001b[22m\u001b[34m\u001b[34m1148476\u001b[34m\u001b[39m \u001b[1m\u001b[1mColumns: \u001b[1m\u001b[22m\u001b[34m\u001b[34m7\u001b[34m\u001b[39m\n",
      "\n",
      "\u001b[36m──\u001b[39m \u001b[1m\u001b[1mColumn specification\u001b[1m\u001b[22m \u001b[36m────────────────────────────────────────────────────────────────────────────────────────────────────────\u001b[39m\n",
      "\u001b[1mDelimiter:\u001b[22m \"\\t\"\n",
      "\u001b[31mchr\u001b[39m (3): SNP, A1, A2\n",
      "\u001b[32mdbl\u001b[39m (4): Z, N, chi2, P\n",
      "\n",
      "\n",
      "\u001b[36mℹ\u001b[39m Use \u001b[30m\u001b[47m\u001b[30m\u001b[47m`spec()`\u001b[47m\u001b[30m\u001b[49m\u001b[39m to retrieve the full column specification for this data.\n",
      "\u001b[36mℹ\u001b[39m Specify the column types or set \u001b[30m\u001b[47m\u001b[30m\u001b[47m`show_col_types = FALSE`\u001b[47m\u001b[30m\u001b[49m\u001b[39m to quiet this message.\n",
      "\n",
      "\u001b[1m\u001b[1mRows: \u001b[1m\u001b[22m\u001b[34m\u001b[34m1037702\u001b[34m\u001b[39m \u001b[1m\u001b[1mColumns: \u001b[1m\u001b[22m\u001b[34m\u001b[34m7\u001b[34m\u001b[39m\n",
      "\n",
      "\u001b[36m──\u001b[39m \u001b[1m\u001b[1mColumn specification\u001b[1m\u001b[22m \u001b[36m────────────────────────────────────────────────────────────────────────────────────────────────────────\u001b[39m\n",
      "\u001b[1mDelimiter:\u001b[22m \"\\t\"\n",
      "\u001b[31mchr\u001b[39m (3): SNP, A1, A2\n",
      "\u001b[32mdbl\u001b[39m (4): Z, N, chi2, P\n",
      "\n",
      "\n",
      "\u001b[36mℹ\u001b[39m Use \u001b[30m\u001b[47m\u001b[30m\u001b[47m`spec()`\u001b[47m\u001b[30m\u001b[49m\u001b[39m to retrieve the full column specification for this data.\n",
      "\u001b[36mℹ\u001b[39m Specify the column types or set \u001b[30m\u001b[47m\u001b[30m\u001b[47m`show_col_types = FALSE`\u001b[47m\u001b[30m\u001b[49m\u001b[39m to quiet this message.\n",
      "\n"
     ]
    },
    {
     "name": "stdout",
     "output_type": "stream",
     "text": [
      "Formatting X1\n",
      "There are  1148476  variants.\n",
      "Removing  0  duplicated variants leaving  1148476 variants.\n",
      "No variants have illegal alleles.\n",
      "Removed  0  variants with ambiguous strand.\n",
      "Flipping strand and effect allele so A1 is always A\n",
      "Returning  1148476  variants.\n",
      "Formatting X2\n",
      "There are  1037702  variants.\n",
      "Removing  0  duplicated variants leaving  1037702 variants.\n",
      "No variants have illegal alleles.\n",
      "Removed  0  variants with ambiguous strand.\n",
      "Flipping strand and effect allele so A1 is always A\n",
      "Returning  1037702  variants.\n",
      "After merging and removing variants with inconsistent alleles,  there are  1015628  variants that are present in both studies and can be used with CAUSE.\n"
     ]
    },
    {
     "name": "stderr",
     "output_type": "stream",
     "text": [
      "Clumping yOaUFZ, 2654 variants, using EUR population reference\n",
      "\n",
      "Removing 1998 of 2654 variants due to LD with other variants or absence from LD reference panel\n",
      "\n"
     ]
    },
    {
     "name": "stdout",
     "output_type": "stream",
     "text": [
      "Estimating CAUSE parameters with  1000000  variants.\n",
      "1 0.02425784 \n",
      "2 2.225373e-05 \n",
      "3 3.856391e-08 \n",
      "Estimating CAUSE posteriors using  656  variants.\n"
     ]
    },
    {
     "name": "stderr",
     "output_type": "stream",
     "text": [
      "Warning message:\n",
      "“'compare' is deprecated.\n",
      "Use 'loo_compare' instead.\n",
      "See help(\"Deprecated\")”\n"
     ]
    },
    {
     "name": "stdout",
     "output_type": "stream",
     "text": [
      "    user   system  elapsed \n",
      "1755.693 1637.248  367.680 \n",
      "AD ~ Hair_Blonde \n"
     ]
    },
    {
     "name": "stderr",
     "output_type": "stream",
     "text": [
      "\u001b[1m\u001b[1mRows: \u001b[1m\u001b[22m\u001b[34m\u001b[34m1148476\u001b[34m\u001b[39m \u001b[1m\u001b[1mColumns: \u001b[1m\u001b[22m\u001b[34m\u001b[34m7\u001b[34m\u001b[39m\n",
      "\n",
      "\u001b[36m──\u001b[39m \u001b[1m\u001b[1mColumn specification\u001b[1m\u001b[22m \u001b[36m────────────────────────────────────────────────────────────────────────────────────────────────────────\u001b[39m\n",
      "\u001b[1mDelimiter:\u001b[22m \"\\t\"\n",
      "\u001b[31mchr\u001b[39m (3): SNP, A1, A2\n",
      "\u001b[32mdbl\u001b[39m (4): Z, N, chi2, P\n",
      "\n",
      "\n",
      "\u001b[36mℹ\u001b[39m Use \u001b[30m\u001b[47m\u001b[30m\u001b[47m`spec()`\u001b[47m\u001b[30m\u001b[49m\u001b[39m to retrieve the full column specification for this data.\n",
      "\u001b[36mℹ\u001b[39m Specify the column types or set \u001b[30m\u001b[47m\u001b[30m\u001b[47m`show_col_types = FALSE`\u001b[47m\u001b[30m\u001b[49m\u001b[39m to quiet this message.\n",
      "\n",
      "\u001b[1m\u001b[1mRows: \u001b[1m\u001b[22m\u001b[34m\u001b[34m1037533\u001b[34m\u001b[39m \u001b[1m\u001b[1mColumns: \u001b[1m\u001b[22m\u001b[34m\u001b[34m7\u001b[34m\u001b[39m\n",
      "\n",
      "\u001b[36m──\u001b[39m \u001b[1m\u001b[1mColumn specification\u001b[1m\u001b[22m \u001b[36m────────────────────────────────────────────────────────────────────────────────────────────────────────\u001b[39m\n",
      "\u001b[1mDelimiter:\u001b[22m \"\\t\"\n",
      "\u001b[31mchr\u001b[39m (3): SNP, A1, A2\n",
      "\u001b[32mdbl\u001b[39m (4): Z, N, chi2, P\n",
      "\n",
      "\n",
      "\u001b[36mℹ\u001b[39m Use \u001b[30m\u001b[47m\u001b[30m\u001b[47m`spec()`\u001b[47m\u001b[30m\u001b[49m\u001b[39m to retrieve the full column specification for this data.\n",
      "\u001b[36mℹ\u001b[39m Specify the column types or set \u001b[30m\u001b[47m\u001b[30m\u001b[47m`show_col_types = FALSE`\u001b[47m\u001b[30m\u001b[49m\u001b[39m to quiet this message.\n",
      "\n"
     ]
    },
    {
     "name": "stdout",
     "output_type": "stream",
     "text": [
      "Formatting X1\n",
      "There are  1148476  variants.\n",
      "Removing  0  duplicated variants leaving  1148476 variants.\n",
      "No variants have illegal alleles.\n",
      "Removed  0  variants with ambiguous strand.\n",
      "Flipping strand and effect allele so A1 is always A\n",
      "Returning  1148476  variants.\n",
      "Formatting X2\n",
      "There are  1037533  variants.\n",
      "Removing  0  duplicated variants leaving  1037533 variants.\n",
      "No variants have illegal alleles.\n",
      "Removed  0  variants with ambiguous strand.\n",
      "Flipping strand and effect allele so A1 is always A\n",
      "Returning  1037533  variants.\n",
      "After merging and removing variants with inconsistent alleles,  there are  1015464  variants that are present in both studies and can be used with CAUSE.\n"
     ]
    },
    {
     "name": "stderr",
     "output_type": "stream",
     "text": [
      "Clumping aDWggP, 2654 variants, using EUR population reference\n",
      "\n",
      "Removing 1998 of 2654 variants due to LD with other variants or absence from LD reference panel\n",
      "\n"
     ]
    },
    {
     "name": "stdout",
     "output_type": "stream",
     "text": [
      "Estimating CAUSE parameters with  1000000  variants.\n",
      "1 0.001412631 \n",
      "2 6.610066e-07 \n",
      "3 2.432273e-09 \n",
      "Estimating CAUSE posteriors using  656  variants.\n"
     ]
    },
    {
     "name": "stderr",
     "output_type": "stream",
     "text": [
      "Warning message:\n",
      "“'compare' is deprecated.\n",
      "Use 'loo_compare' instead.\n",
      "See help(\"Deprecated\")”\n"
     ]
    },
    {
     "name": "stdout",
     "output_type": "stream",
     "text": [
      "    user   system  elapsed \n",
      "2000.597 1857.603  401.124 \n",
      "AD ~ Tanning \n"
     ]
    },
    {
     "name": "stderr",
     "output_type": "stream",
     "text": [
      "\u001b[1m\u001b[1mRows: \u001b[1m\u001b[22m\u001b[34m\u001b[34m1148476\u001b[34m\u001b[39m \u001b[1m\u001b[1mColumns: \u001b[1m\u001b[22m\u001b[34m\u001b[34m7\u001b[34m\u001b[39m\n",
      "\n",
      "\u001b[36m──\u001b[39m \u001b[1m\u001b[1mColumn specification\u001b[1m\u001b[22m \u001b[36m────────────────────────────────────────────────────────────────────────────────────────────────────────\u001b[39m\n",
      "\u001b[1mDelimiter:\u001b[22m \"\\t\"\n",
      "\u001b[31mchr\u001b[39m (3): SNP, A1, A2\n",
      "\u001b[32mdbl\u001b[39m (4): Z, N, chi2, P\n",
      "\n",
      "\n",
      "\u001b[36mℹ\u001b[39m Use \u001b[30m\u001b[47m\u001b[30m\u001b[47m`spec()`\u001b[47m\u001b[30m\u001b[49m\u001b[39m to retrieve the full column specification for this data.\n",
      "\u001b[36mℹ\u001b[39m Specify the column types or set \u001b[30m\u001b[47m\u001b[30m\u001b[47m`show_col_types = FALSE`\u001b[47m\u001b[30m\u001b[49m\u001b[39m to quiet this message.\n",
      "\n",
      "\u001b[1m\u001b[1mRows: \u001b[1m\u001b[22m\u001b[34m\u001b[34m1037026\u001b[34m\u001b[39m \u001b[1m\u001b[1mColumns: \u001b[1m\u001b[22m\u001b[34m\u001b[34m7\u001b[34m\u001b[39m\n",
      "\n",
      "\u001b[36m──\u001b[39m \u001b[1m\u001b[1mColumn specification\u001b[1m\u001b[22m \u001b[36m────────────────────────────────────────────────────────────────────────────────────────────────────────\u001b[39m\n",
      "\u001b[1mDelimiter:\u001b[22m \"\\t\"\n",
      "\u001b[31mchr\u001b[39m (3): SNP, A1, A2\n",
      "\u001b[32mdbl\u001b[39m (4): Z, N, chi2, P\n",
      "\n",
      "\n",
      "\u001b[36mℹ\u001b[39m Use \u001b[30m\u001b[47m\u001b[30m\u001b[47m`spec()`\u001b[47m\u001b[30m\u001b[49m\u001b[39m to retrieve the full column specification for this data.\n",
      "\u001b[36mℹ\u001b[39m Specify the column types or set \u001b[30m\u001b[47m\u001b[30m\u001b[47m`show_col_types = FALSE`\u001b[47m\u001b[30m\u001b[49m\u001b[39m to quiet this message.\n",
      "\n"
     ]
    },
    {
     "name": "stdout",
     "output_type": "stream",
     "text": [
      "Formatting X1\n",
      "There are  1148476  variants.\n",
      "Removing  0  duplicated variants leaving  1148476 variants.\n",
      "No variants have illegal alleles.\n",
      "Removed  0  variants with ambiguous strand.\n",
      "Flipping strand and effect allele so A1 is always A\n",
      "Returning  1148476  variants.\n",
      "Formatting X2\n",
      "There are  1037026  variants.\n",
      "Removing  0  duplicated variants leaving  1037026 variants.\n",
      "No variants have illegal alleles.\n",
      "Removed  0  variants with ambiguous strand.\n",
      "Flipping strand and effect allele so A1 is always A\n",
      "Returning  1037026  variants.\n",
      "After merging and removing variants with inconsistent alleles,  there are  1014975  variants that are present in both studies and can be used with CAUSE.\n"
     ]
    },
    {
     "name": "stderr",
     "output_type": "stream",
     "text": [
      "Clumping g6GBV9, 2654 variants, using EUR population reference\n",
      "\n",
      "Removing 1998 of 2654 variants due to LD with other variants or absence from LD reference panel\n",
      "\n"
     ]
    },
    {
     "name": "stdout",
     "output_type": "stream",
     "text": [
      "Estimating CAUSE parameters with  1000000  variants.\n",
      "1 0.02140873 \n",
      "2 8.10274e-06 \n",
      "3 1.126234e-08 \n",
      "Estimating CAUSE posteriors using  656  variants.\n"
     ]
    },
    {
     "name": "stderr",
     "output_type": "stream",
     "text": [
      "Warning message:\n",
      "“'compare' is deprecated.\n",
      "Use 'loo_compare' instead.\n",
      "See help(\"Deprecated\")”\n"
     ]
    },
    {
     "name": "stdout",
     "output_type": "stream",
     "text": [
      "    user   system  elapsed \n",
      "1955.534 1486.503  406.691 \n",
      "ASD ~ Hair_Light_Brown \n"
     ]
    },
    {
     "name": "stderr",
     "output_type": "stream",
     "text": [
      "\u001b[1m\u001b[1mRows: \u001b[1m\u001b[22m\u001b[34m\u001b[34m1076873\u001b[34m\u001b[39m \u001b[1m\u001b[1mColumns: \u001b[1m\u001b[22m\u001b[34m\u001b[34m7\u001b[34m\u001b[39m\n",
      "\n",
      "\u001b[36m──\u001b[39m \u001b[1m\u001b[1mColumn specification\u001b[1m\u001b[22m \u001b[36m────────────────────────────────────────────────────────────────────────────────────────────────────────\u001b[39m\n",
      "\u001b[1mDelimiter:\u001b[22m \"\\t\"\n",
      "\u001b[31mchr\u001b[39m (3): SNP, A1, A2\n",
      "\u001b[32mdbl\u001b[39m (4): Z, N, chi2, P\n",
      "\n",
      "\n",
      "\u001b[36mℹ\u001b[39m Use \u001b[30m\u001b[47m\u001b[30m\u001b[47m`spec()`\u001b[47m\u001b[30m\u001b[49m\u001b[39m to retrieve the full column specification for this data.\n",
      "\u001b[36mℹ\u001b[39m Specify the column types or set \u001b[30m\u001b[47m\u001b[30m\u001b[47m`show_col_types = FALSE`\u001b[47m\u001b[30m\u001b[49m\u001b[39m to quiet this message.\n",
      "\n",
      "\u001b[1m\u001b[1mRows: \u001b[1m\u001b[22m\u001b[34m\u001b[34m1037742\u001b[34m\u001b[39m \u001b[1m\u001b[1mColumns: \u001b[1m\u001b[22m\u001b[34m\u001b[34m7\u001b[34m\u001b[39m\n",
      "\n",
      "\u001b[36m──\u001b[39m \u001b[1m\u001b[1mColumn specification\u001b[1m\u001b[22m \u001b[36m────────────────────────────────────────────────────────────────────────────────────────────────────────\u001b[39m\n",
      "\u001b[1mDelimiter:\u001b[22m \"\\t\"\n",
      "\u001b[31mchr\u001b[39m (3): SNP, A1, A2\n",
      "\u001b[32mdbl\u001b[39m (4): Z, N, chi2, P\n",
      "\n",
      "\n",
      "\u001b[36mℹ\u001b[39m Use \u001b[30m\u001b[47m\u001b[30m\u001b[47m`spec()`\u001b[47m\u001b[30m\u001b[49m\u001b[39m to retrieve the full column specification for this data.\n",
      "\u001b[36mℹ\u001b[39m Specify the column types or set \u001b[30m\u001b[47m\u001b[30m\u001b[47m`show_col_types = FALSE`\u001b[47m\u001b[30m\u001b[49m\u001b[39m to quiet this message.\n",
      "\n"
     ]
    },
    {
     "name": "stdout",
     "output_type": "stream",
     "text": [
      "Formatting X1\n",
      "There are  1076873  variants.\n",
      "Removing  0  duplicated variants leaving  1076873 variants.\n",
      "No variants have illegal alleles.\n",
      "Removed  0  variants with ambiguous strand.\n",
      "Flipping strand and effect allele so A1 is always A\n",
      "Returning  1076873  variants.\n",
      "Formatting X2\n",
      "There are  1037742  variants.\n",
      "Removing  0  duplicated variants leaving  1037742 variants.\n",
      "No variants have illegal alleles.\n",
      "Removed  0  variants with ambiguous strand.\n",
      "Flipping strand and effect allele so A1 is always A\n",
      "Returning  1037742  variants.\n",
      "After merging and removing variants with inconsistent alleles,  there are  1024812  variants that are present in both studies and can be used with CAUSE.\n"
     ]
    },
    {
     "name": "stderr",
     "output_type": "stream",
     "text": [
      "Clumping tHOULt, 1607 variants, using EUR population reference\n",
      "\n",
      "Removing 1112 of 1607 variants due to LD with other variants or absence from LD reference panel\n",
      "\n"
     ]
    },
    {
     "name": "stdout",
     "output_type": "stream",
     "text": [
      "Estimating CAUSE parameters with  1000000  variants.\n",
      "1 0.008520969 \n",
      "2 6.035634e-06 \n",
      "3 5.022209e-09 \n",
      "Estimating CAUSE posteriors using  478  variants.\n"
     ]
    },
    {
     "name": "stderr",
     "output_type": "stream",
     "text": [
      "Warning message:\n",
      "“'compare' is deprecated.\n",
      "Use 'loo_compare' instead.\n",
      "See help(\"Deprecated\")”\n"
     ]
    },
    {
     "name": "stdout",
     "output_type": "stream",
     "text": [
      "    user   system  elapsed \n",
      "1681.130 1486.303  352.059 \n",
      "ASD ~ Hair_Dark_Brown \n"
     ]
    },
    {
     "name": "stderr",
     "output_type": "stream",
     "text": [
      "\u001b[1m\u001b[1mRows: \u001b[1m\u001b[22m\u001b[34m\u001b[34m1076873\u001b[34m\u001b[39m \u001b[1m\u001b[1mColumns: \u001b[1m\u001b[22m\u001b[34m\u001b[34m7\u001b[34m\u001b[39m\n",
      "\n",
      "\u001b[36m──\u001b[39m \u001b[1m\u001b[1mColumn specification\u001b[1m\u001b[22m \u001b[36m────────────────────────────────────────────────────────────────────────────────────────────────────────\u001b[39m\n",
      "\u001b[1mDelimiter:\u001b[22m \"\\t\"\n",
      "\u001b[31mchr\u001b[39m (3): SNP, A1, A2\n",
      "\u001b[32mdbl\u001b[39m (4): Z, N, chi2, P\n",
      "\n",
      "\n",
      "\u001b[36mℹ\u001b[39m Use \u001b[30m\u001b[47m\u001b[30m\u001b[47m`spec()`\u001b[47m\u001b[30m\u001b[49m\u001b[39m to retrieve the full column specification for this data.\n",
      "\u001b[36mℹ\u001b[39m Specify the column types or set \u001b[30m\u001b[47m\u001b[30m\u001b[47m`show_col_types = FALSE`\u001b[47m\u001b[30m\u001b[49m\u001b[39m to quiet this message.\n",
      "\n",
      "\u001b[1m\u001b[1mRows: \u001b[1m\u001b[22m\u001b[34m\u001b[34m1037381\u001b[34m\u001b[39m \u001b[1m\u001b[1mColumns: \u001b[1m\u001b[22m\u001b[34m\u001b[34m7\u001b[34m\u001b[39m\n",
      "\n",
      "\u001b[36m──\u001b[39m \u001b[1m\u001b[1mColumn specification\u001b[1m\u001b[22m \u001b[36m────────────────────────────────────────────────────────────────────────────────────────────────────────\u001b[39m\n",
      "\u001b[1mDelimiter:\u001b[22m \"\\t\"\n",
      "\u001b[31mchr\u001b[39m (3): SNP, A1, A2\n",
      "\u001b[32mdbl\u001b[39m (4): Z, N, chi2, P\n",
      "\n",
      "\n",
      "\u001b[36mℹ\u001b[39m Use \u001b[30m\u001b[47m\u001b[30m\u001b[47m`spec()`\u001b[47m\u001b[30m\u001b[49m\u001b[39m to retrieve the full column specification for this data.\n",
      "\u001b[36mℹ\u001b[39m Specify the column types or set \u001b[30m\u001b[47m\u001b[30m\u001b[47m`show_col_types = FALSE`\u001b[47m\u001b[30m\u001b[49m\u001b[39m to quiet this message.\n",
      "\n"
     ]
    },
    {
     "name": "stdout",
     "output_type": "stream",
     "text": [
      "Formatting X1\n",
      "There are  1076873  variants.\n",
      "Removing  0  duplicated variants leaving  1076873 variants.\n",
      "No variants have illegal alleles.\n",
      "Removed  0  variants with ambiguous strand.\n",
      "Flipping strand and effect allele so A1 is always A\n",
      "Returning  1076873  variants.\n",
      "Formatting X2\n",
      "There are  1037381  variants.\n",
      "Removing  0  duplicated variants leaving  1037381 variants.\n",
      "No variants have illegal alleles.\n",
      "Removed  0  variants with ambiguous strand.\n",
      "Flipping strand and effect allele so A1 is always A\n",
      "Returning  1037381  variants.\n",
      "After merging and removing variants with inconsistent alleles,  there are  1024453  variants that are present in both studies and can be used with CAUSE.\n"
     ]
    },
    {
     "name": "stderr",
     "output_type": "stream",
     "text": [
      "Clumping 8oEbsl, 1607 variants, using EUR population reference\n",
      "\n",
      "Removing 1112 of 1607 variants due to LD with other variants or absence from LD reference panel\n",
      "\n"
     ]
    },
    {
     "name": "stdout",
     "output_type": "stream",
     "text": [
      "Estimating CAUSE parameters with  1000000  variants.\n",
      "1 0.02121615 \n",
      "2 1.190575e-05 \n",
      "3 2.072434e-08 \n",
      "Estimating CAUSE posteriors using  478  variants.\n"
     ]
    },
    {
     "name": "stderr",
     "output_type": "stream",
     "text": [
      "Warning message:\n",
      "“'compare' is deprecated.\n",
      "Use 'loo_compare' instead.\n",
      "See help(\"Deprecated\")”\n"
     ]
    },
    {
     "name": "stdout",
     "output_type": "stream",
     "text": [
      "    user   system  elapsed \n",
      "1651.532 1514.902  338.233 \n",
      "ASD ~ Hair_Black \n"
     ]
    },
    {
     "name": "stderr",
     "output_type": "stream",
     "text": [
      "\u001b[1m\u001b[1mRows: \u001b[1m\u001b[22m\u001b[34m\u001b[34m1076873\u001b[34m\u001b[39m \u001b[1m\u001b[1mColumns: \u001b[1m\u001b[22m\u001b[34m\u001b[34m7\u001b[34m\u001b[39m\n",
      "\n",
      "\u001b[36m──\u001b[39m \u001b[1m\u001b[1mColumn specification\u001b[1m\u001b[22m \u001b[36m────────────────────────────────────────────────────────────────────────────────────────────────────────\u001b[39m\n",
      "\u001b[1mDelimiter:\u001b[22m \"\\t\"\n",
      "\u001b[31mchr\u001b[39m (3): SNP, A1, A2\n",
      "\u001b[32mdbl\u001b[39m (4): Z, N, chi2, P\n",
      "\n",
      "\n",
      "\u001b[36mℹ\u001b[39m Use \u001b[30m\u001b[47m\u001b[30m\u001b[47m`spec()`\u001b[47m\u001b[30m\u001b[49m\u001b[39m to retrieve the full column specification for this data.\n",
      "\u001b[36mℹ\u001b[39m Specify the column types or set \u001b[30m\u001b[47m\u001b[30m\u001b[47m`show_col_types = FALSE`\u001b[47m\u001b[30m\u001b[49m\u001b[39m to quiet this message.\n",
      "\n",
      "\u001b[1m\u001b[1mRows: \u001b[1m\u001b[22m\u001b[34m\u001b[34m1037702\u001b[34m\u001b[39m \u001b[1m\u001b[1mColumns: \u001b[1m\u001b[22m\u001b[34m\u001b[34m7\u001b[34m\u001b[39m\n",
      "\n",
      "\u001b[36m──\u001b[39m \u001b[1m\u001b[1mColumn specification\u001b[1m\u001b[22m \u001b[36m────────────────────────────────────────────────────────────────────────────────────────────────────────\u001b[39m\n",
      "\u001b[1mDelimiter:\u001b[22m \"\\t\"\n",
      "\u001b[31mchr\u001b[39m (3): SNP, A1, A2\n",
      "\u001b[32mdbl\u001b[39m (4): Z, N, chi2, P\n",
      "\n",
      "\n",
      "\u001b[36mℹ\u001b[39m Use \u001b[30m\u001b[47m\u001b[30m\u001b[47m`spec()`\u001b[47m\u001b[30m\u001b[49m\u001b[39m to retrieve the full column specification for this data.\n",
      "\u001b[36mℹ\u001b[39m Specify the column types or set \u001b[30m\u001b[47m\u001b[30m\u001b[47m`show_col_types = FALSE`\u001b[47m\u001b[30m\u001b[49m\u001b[39m to quiet this message.\n",
      "\n"
     ]
    },
    {
     "name": "stdout",
     "output_type": "stream",
     "text": [
      "Formatting X1\n",
      "There are  1076873  variants.\n",
      "Removing  0  duplicated variants leaving  1076873 variants.\n",
      "No variants have illegal alleles.\n",
      "Removed  0  variants with ambiguous strand.\n",
      "Flipping strand and effect allele so A1 is always A\n",
      "Returning  1076873  variants.\n",
      "Formatting X2\n",
      "There are  1037702  variants.\n",
      "Removing  0  duplicated variants leaving  1037702 variants.\n",
      "No variants have illegal alleles.\n",
      "Removed  0  variants with ambiguous strand.\n",
      "Flipping strand and effect allele so A1 is always A\n",
      "Returning  1037702  variants.\n",
      "After merging and removing variants with inconsistent alleles,  there are  1024772  variants that are present in both studies and can be used with CAUSE.\n"
     ]
    },
    {
     "name": "stderr",
     "output_type": "stream",
     "text": [
      "Clumping KkSLEy, 1607 variants, using EUR population reference\n",
      "\n",
      "Removing 1112 of 1607 variants due to LD with other variants or absence from LD reference panel\n",
      "\n"
     ]
    },
    {
     "name": "stdout",
     "output_type": "stream",
     "text": [
      "Estimating CAUSE parameters with  1000000  variants.\n",
      "1 0.01179175 \n",
      "2 1.417499e-05 \n",
      "3 1.593544e-08 \n",
      "Estimating CAUSE posteriors using  478  variants.\n"
     ]
    },
    {
     "name": "stderr",
     "output_type": "stream",
     "text": [
      "Warning message:\n",
      "“'compare' is deprecated.\n",
      "Use 'loo_compare' instead.\n",
      "See help(\"Deprecated\")”\n"
     ]
    },
    {
     "name": "stdout",
     "output_type": "stream",
     "text": [
      "    user   system  elapsed \n",
      "1517.512 1411.856  315.710 \n",
      "ASD ~ Hair_Blonde \n"
     ]
    },
    {
     "name": "stderr",
     "output_type": "stream",
     "text": [
      "\u001b[1m\u001b[1mRows: \u001b[1m\u001b[22m\u001b[34m\u001b[34m1076873\u001b[34m\u001b[39m \u001b[1m\u001b[1mColumns: \u001b[1m\u001b[22m\u001b[34m\u001b[34m7\u001b[34m\u001b[39m\n",
      "\n",
      "\u001b[36m──\u001b[39m \u001b[1m\u001b[1mColumn specification\u001b[1m\u001b[22m \u001b[36m────────────────────────────────────────────────────────────────────────────────────────────────────────\u001b[39m\n",
      "\u001b[1mDelimiter:\u001b[22m \"\\t\"\n",
      "\u001b[31mchr\u001b[39m (3): SNP, A1, A2\n",
      "\u001b[32mdbl\u001b[39m (4): Z, N, chi2, P\n",
      "\n",
      "\n",
      "\u001b[36mℹ\u001b[39m Use \u001b[30m\u001b[47m\u001b[30m\u001b[47m`spec()`\u001b[47m\u001b[30m\u001b[49m\u001b[39m to retrieve the full column specification for this data.\n",
      "\u001b[36mℹ\u001b[39m Specify the column types or set \u001b[30m\u001b[47m\u001b[30m\u001b[47m`show_col_types = FALSE`\u001b[47m\u001b[30m\u001b[49m\u001b[39m to quiet this message.\n",
      "\n",
      "\u001b[1m\u001b[1mRows: \u001b[1m\u001b[22m\u001b[34m\u001b[34m1037533\u001b[34m\u001b[39m \u001b[1m\u001b[1mColumns: \u001b[1m\u001b[22m\u001b[34m\u001b[34m7\u001b[34m\u001b[39m\n",
      "\n",
      "\u001b[36m──\u001b[39m \u001b[1m\u001b[1mColumn specification\u001b[1m\u001b[22m \u001b[36m────────────────────────────────────────────────────────────────────────────────────────────────────────\u001b[39m\n",
      "\u001b[1mDelimiter:\u001b[22m \"\\t\"\n",
      "\u001b[31mchr\u001b[39m (3): SNP, A1, A2\n",
      "\u001b[32mdbl\u001b[39m (4): Z, N, chi2, P\n",
      "\n",
      "\n",
      "\u001b[36mℹ\u001b[39m Use \u001b[30m\u001b[47m\u001b[30m\u001b[47m`spec()`\u001b[47m\u001b[30m\u001b[49m\u001b[39m to retrieve the full column specification for this data.\n",
      "\u001b[36mℹ\u001b[39m Specify the column types or set \u001b[30m\u001b[47m\u001b[30m\u001b[47m`show_col_types = FALSE`\u001b[47m\u001b[30m\u001b[49m\u001b[39m to quiet this message.\n",
      "\n"
     ]
    },
    {
     "name": "stdout",
     "output_type": "stream",
     "text": [
      "Formatting X1\n",
      "There are  1076873  variants.\n",
      "Removing  0  duplicated variants leaving  1076873 variants.\n",
      "No variants have illegal alleles.\n",
      "Removed  0  variants with ambiguous strand.\n",
      "Flipping strand and effect allele so A1 is always A\n",
      "Returning  1076873  variants.\n",
      "Formatting X2\n",
      "There are  1037533  variants.\n",
      "Removing  0  duplicated variants leaving  1037533 variants.\n",
      "No variants have illegal alleles.\n",
      "Removed  0  variants with ambiguous strand.\n",
      "Flipping strand and effect allele so A1 is always A\n",
      "Returning  1037533  variants.\n",
      "After merging and removing variants with inconsistent alleles,  there are  1024603  variants that are present in both studies and can be used with CAUSE.\n"
     ]
    },
    {
     "name": "stderr",
     "output_type": "stream",
     "text": [
      "Clumping DQMFfp, 1607 variants, using EUR population reference\n",
      "\n",
      "Removing 1112 of 1607 variants due to LD with other variants or absence from LD reference panel\n",
      "\n"
     ]
    },
    {
     "name": "stdout",
     "output_type": "stream",
     "text": [
      "Estimating CAUSE parameters with  1000000  variants.\n",
      "1 0.004091799 \n",
      "2 3.226103e-07 \n",
      "3 3.525959e-11 \n",
      "Estimating CAUSE posteriors using  478  variants.\n"
     ]
    },
    {
     "name": "stderr",
     "output_type": "stream",
     "text": [
      "Warning message:\n",
      "“'compare' is deprecated.\n",
      "Use 'loo_compare' instead.\n",
      "See help(\"Deprecated\")”\n"
     ]
    },
    {
     "name": "stdout",
     "output_type": "stream",
     "text": [
      "    user   system  elapsed \n",
      "1461.965 1518.205  312.460 \n",
      "ASD ~ Tanning \n"
     ]
    },
    {
     "name": "stderr",
     "output_type": "stream",
     "text": [
      "\u001b[1m\u001b[1mRows: \u001b[1m\u001b[22m\u001b[34m\u001b[34m1076873\u001b[34m\u001b[39m \u001b[1m\u001b[1mColumns: \u001b[1m\u001b[22m\u001b[34m\u001b[34m7\u001b[34m\u001b[39m\n",
      "\n",
      "\u001b[36m──\u001b[39m \u001b[1m\u001b[1mColumn specification\u001b[1m\u001b[22m \u001b[36m────────────────────────────────────────────────────────────────────────────────────────────────────────\u001b[39m\n",
      "\u001b[1mDelimiter:\u001b[22m \"\\t\"\n",
      "\u001b[31mchr\u001b[39m (3): SNP, A1, A2\n",
      "\u001b[32mdbl\u001b[39m (4): Z, N, chi2, P\n",
      "\n",
      "\n",
      "\u001b[36mℹ\u001b[39m Use \u001b[30m\u001b[47m\u001b[30m\u001b[47m`spec()`\u001b[47m\u001b[30m\u001b[49m\u001b[39m to retrieve the full column specification for this data.\n",
      "\u001b[36mℹ\u001b[39m Specify the column types or set \u001b[30m\u001b[47m\u001b[30m\u001b[47m`show_col_types = FALSE`\u001b[47m\u001b[30m\u001b[49m\u001b[39m to quiet this message.\n",
      "\n",
      "\u001b[1m\u001b[1mRows: \u001b[1m\u001b[22m\u001b[34m\u001b[34m1037026\u001b[34m\u001b[39m \u001b[1m\u001b[1mColumns: \u001b[1m\u001b[22m\u001b[34m\u001b[34m7\u001b[34m\u001b[39m\n",
      "\n",
      "\u001b[36m──\u001b[39m \u001b[1m\u001b[1mColumn specification\u001b[1m\u001b[22m \u001b[36m────────────────────────────────────────────────────────────────────────────────────────────────────────\u001b[39m\n",
      "\u001b[1mDelimiter:\u001b[22m \"\\t\"\n",
      "\u001b[31mchr\u001b[39m (3): SNP, A1, A2\n",
      "\u001b[32mdbl\u001b[39m (4): Z, N, chi2, P\n",
      "\n",
      "\n",
      "\u001b[36mℹ\u001b[39m Use \u001b[30m\u001b[47m\u001b[30m\u001b[47m`spec()`\u001b[47m\u001b[30m\u001b[49m\u001b[39m to retrieve the full column specification for this data.\n",
      "\u001b[36mℹ\u001b[39m Specify the column types or set \u001b[30m\u001b[47m\u001b[30m\u001b[47m`show_col_types = FALSE`\u001b[47m\u001b[30m\u001b[49m\u001b[39m to quiet this message.\n",
      "\n"
     ]
    },
    {
     "name": "stdout",
     "output_type": "stream",
     "text": [
      "Formatting X1\n",
      "There are  1076873  variants.\n",
      "Removing  0  duplicated variants leaving  1076873 variants.\n",
      "No variants have illegal alleles.\n",
      "Removed  0  variants with ambiguous strand.\n",
      "Flipping strand and effect allele so A1 is always A\n",
      "Returning  1076873  variants.\n",
      "Formatting X2\n",
      "There are  1037026  variants.\n",
      "Removing  0  duplicated variants leaving  1037026 variants.\n",
      "No variants have illegal alleles.\n",
      "Removed  0  variants with ambiguous strand.\n",
      "Flipping strand and effect allele so A1 is always A\n",
      "Returning  1037026  variants.\n",
      "After merging and removing variants with inconsistent alleles,  there are  1024100  variants that are present in both studies and can be used with CAUSE.\n"
     ]
    },
    {
     "name": "stderr",
     "output_type": "stream",
     "text": [
      "Clumping Td8W9B, 1607 variants, using EUR population reference\n",
      "\n",
      "Removing 1112 of 1607 variants due to LD with other variants or absence from LD reference panel\n",
      "\n"
     ]
    },
    {
     "name": "stdout",
     "output_type": "stream",
     "text": [
      "Estimating CAUSE parameters with  1000000  variants.\n",
      "1 0.0413671 \n",
      "2 7.260403e-05 \n",
      "3 2.988634e-07 \n",
      "4 5.185297e-09 \n",
      "Estimating CAUSE posteriors using  478  variants.\n"
     ]
    },
    {
     "name": "stderr",
     "output_type": "stream",
     "text": [
      "Warning message:\n",
      "“'compare' is deprecated.\n",
      "Use 'loo_compare' instead.\n",
      "See help(\"Deprecated\")”\n"
     ]
    },
    {
     "name": "stdout",
     "output_type": "stream",
     "text": [
      "    user   system  elapsed \n",
      "1907.843 1666.585  376.263 \n",
      "Daytime_Sleepiness ~ Hair_Light_Brown \n"
     ]
    },
    {
     "name": "stderr",
     "output_type": "stream",
     "text": [
      "\u001b[1m\u001b[1mRows: \u001b[1m\u001b[22m\u001b[34m\u001b[34m1065141\u001b[34m\u001b[39m \u001b[1m\u001b[1mColumns: \u001b[1m\u001b[22m\u001b[34m\u001b[34m7\u001b[34m\u001b[39m\n",
      "\n",
      "\u001b[36m──\u001b[39m \u001b[1m\u001b[1mColumn specification\u001b[1m\u001b[22m \u001b[36m────────────────────────────────────────────────────────────────────────────────────────────────────────\u001b[39m\n",
      "\u001b[1mDelimiter:\u001b[22m \"\\t\"\n",
      "\u001b[31mchr\u001b[39m (3): SNP, A1, A2\n",
      "\u001b[32mdbl\u001b[39m (4): Z, N, chi2, P\n",
      "\n",
      "\n",
      "\u001b[36mℹ\u001b[39m Use \u001b[30m\u001b[47m\u001b[30m\u001b[47m`spec()`\u001b[47m\u001b[30m\u001b[49m\u001b[39m to retrieve the full column specification for this data.\n",
      "\u001b[36mℹ\u001b[39m Specify the column types or set \u001b[30m\u001b[47m\u001b[30m\u001b[47m`show_col_types = FALSE`\u001b[47m\u001b[30m\u001b[49m\u001b[39m to quiet this message.\n",
      "\n",
      "\u001b[1m\u001b[1mRows: \u001b[1m\u001b[22m\u001b[34m\u001b[34m1037742\u001b[34m\u001b[39m \u001b[1m\u001b[1mColumns: \u001b[1m\u001b[22m\u001b[34m\u001b[34m7\u001b[34m\u001b[39m\n",
      "\n",
      "\u001b[36m──\u001b[39m \u001b[1m\u001b[1mColumn specification\u001b[1m\u001b[22m \u001b[36m────────────────────────────────────────────────────────────────────────────────────────────────────────\u001b[39m\n",
      "\u001b[1mDelimiter:\u001b[22m \"\\t\"\n",
      "\u001b[31mchr\u001b[39m (3): SNP, A1, A2\n",
      "\u001b[32mdbl\u001b[39m (4): Z, N, chi2, P\n",
      "\n",
      "\n",
      "\u001b[36mℹ\u001b[39m Use \u001b[30m\u001b[47m\u001b[30m\u001b[47m`spec()`\u001b[47m\u001b[30m\u001b[49m\u001b[39m to retrieve the full column specification for this data.\n",
      "\u001b[36mℹ\u001b[39m Specify the column types or set \u001b[30m\u001b[47m\u001b[30m\u001b[47m`show_col_types = FALSE`\u001b[47m\u001b[30m\u001b[49m\u001b[39m to quiet this message.\n",
      "\n"
     ]
    },
    {
     "name": "stdout",
     "output_type": "stream",
     "text": [
      "Formatting X1\n",
      "There are  1065141  variants.\n",
      "Removing  0  duplicated variants leaving  1065141 variants.\n",
      "No variants have illegal alleles.\n",
      "Removed  0  variants with ambiguous strand.\n",
      "Flipping strand and effect allele so A1 is always A\n",
      "Returning  1065141  variants.\n",
      "Formatting X2\n",
      "There are  1037742  variants.\n",
      "Removing  0  duplicated variants leaving  1037742 variants.\n",
      "No variants have illegal alleles.\n",
      "Removed  0  variants with ambiguous strand.\n",
      "Flipping strand and effect allele so A1 is always A\n",
      "Returning  1037742  variants.\n",
      "After merging and removing variants with inconsistent alleles,  there are  1027460  variants that are present in both studies and can be used with CAUSE.\n"
     ]
    },
    {
     "name": "stderr",
     "output_type": "stream",
     "text": [
      "Clumping zci5Nj, 10605 variants, using EUR population reference\n",
      "\n",
      "Removing 9172 of 10605 variants due to LD with other variants or absence from LD reference panel\n",
      "\n"
     ]
    },
    {
     "name": "stdout",
     "output_type": "stream",
     "text": [
      "Estimating CAUSE parameters with  1000000  variants.\n",
      "1 0.002900744 \n",
      "2 6.900471e-07 \n",
      "3 1.647937e-10 \n",
      "Estimating CAUSE posteriors using  1433  variants.\n"
     ]
    },
    {
     "name": "stderr",
     "output_type": "stream",
     "text": [
      "Warning message:\n",
      "“'compare' is deprecated.\n",
      "Use 'loo_compare' instead.\n",
      "See help(\"Deprecated\")”\n"
     ]
    },
    {
     "name": "stdout",
     "output_type": "stream",
     "text": [
      "    user   system  elapsed \n",
      "2221.576 1565.819  412.941 \n",
      "Daytime_Sleepiness ~ Hair_Dark_Brown \n"
     ]
    },
    {
     "name": "stderr",
     "output_type": "stream",
     "text": [
      "\u001b[1m\u001b[1mRows: \u001b[1m\u001b[22m\u001b[34m\u001b[34m1065141\u001b[34m\u001b[39m \u001b[1m\u001b[1mColumns: \u001b[1m\u001b[22m\u001b[34m\u001b[34m7\u001b[34m\u001b[39m\n",
      "\n",
      "\u001b[36m──\u001b[39m \u001b[1m\u001b[1mColumn specification\u001b[1m\u001b[22m \u001b[36m────────────────────────────────────────────────────────────────────────────────────────────────────────\u001b[39m\n",
      "\u001b[1mDelimiter:\u001b[22m \"\\t\"\n",
      "\u001b[31mchr\u001b[39m (3): SNP, A1, A2\n",
      "\u001b[32mdbl\u001b[39m (4): Z, N, chi2, P\n",
      "\n",
      "\n",
      "\u001b[36mℹ\u001b[39m Use \u001b[30m\u001b[47m\u001b[30m\u001b[47m`spec()`\u001b[47m\u001b[30m\u001b[49m\u001b[39m to retrieve the full column specification for this data.\n",
      "\u001b[36mℹ\u001b[39m Specify the column types or set \u001b[30m\u001b[47m\u001b[30m\u001b[47m`show_col_types = FALSE`\u001b[47m\u001b[30m\u001b[49m\u001b[39m to quiet this message.\n",
      "\n",
      "\u001b[1m\u001b[1mRows: \u001b[1m\u001b[22m\u001b[34m\u001b[34m1037381\u001b[34m\u001b[39m \u001b[1m\u001b[1mColumns: \u001b[1m\u001b[22m\u001b[34m\u001b[34m7\u001b[34m\u001b[39m\n",
      "\n",
      "\u001b[36m──\u001b[39m \u001b[1m\u001b[1mColumn specification\u001b[1m\u001b[22m \u001b[36m────────────────────────────────────────────────────────────────────────────────────────────────────────\u001b[39m\n",
      "\u001b[1mDelimiter:\u001b[22m \"\\t\"\n",
      "\u001b[31mchr\u001b[39m (3): SNP, A1, A2\n",
      "\u001b[32mdbl\u001b[39m (4): Z, N, chi2, P\n",
      "\n",
      "\n",
      "\u001b[36mℹ\u001b[39m Use \u001b[30m\u001b[47m\u001b[30m\u001b[47m`spec()`\u001b[47m\u001b[30m\u001b[49m\u001b[39m to retrieve the full column specification for this data.\n",
      "\u001b[36mℹ\u001b[39m Specify the column types or set \u001b[30m\u001b[47m\u001b[30m\u001b[47m`show_col_types = FALSE`\u001b[47m\u001b[30m\u001b[49m\u001b[39m to quiet this message.\n",
      "\n"
     ]
    },
    {
     "name": "stdout",
     "output_type": "stream",
     "text": [
      "Formatting X1\n",
      "There are  1065141  variants.\n",
      "Removing  0  duplicated variants leaving  1065141 variants.\n",
      "No variants have illegal alleles.\n",
      "Removed  0  variants with ambiguous strand.\n",
      "Flipping strand and effect allele so A1 is always A\n",
      "Returning  1065141  variants.\n",
      "Formatting X2\n",
      "There are  1037381  variants.\n",
      "Removing  0  duplicated variants leaving  1037381 variants.\n",
      "No variants have illegal alleles.\n",
      "Removed  0  variants with ambiguous strand.\n",
      "Flipping strand and effect allele so A1 is always A\n",
      "Returning  1037381  variants.\n",
      "After merging and removing variants with inconsistent alleles,  there are  1027099  variants that are present in both studies and can be used with CAUSE.\n"
     ]
    },
    {
     "name": "stderr",
     "output_type": "stream",
     "text": [
      "Clumping EVSh8u, 10584 variants, using EUR population reference\n",
      "\n",
      "Removing 9151 of 10584 variants due to LD with other variants or absence from LD reference panel\n",
      "\n"
     ]
    },
    {
     "name": "stdout",
     "output_type": "stream",
     "text": [
      "Estimating CAUSE parameters with  1000000  variants.\n",
      "1 0.005148897 \n",
      "2 4.612615e-06 \n",
      "3 4.161072e-09 \n",
      "Estimating CAUSE posteriors using  1433  variants.\n"
     ]
    },
    {
     "name": "stderr",
     "output_type": "stream",
     "text": [
      "Warning message:\n",
      "“'compare' is deprecated.\n",
      "Use 'loo_compare' instead.\n",
      "See help(\"Deprecated\")”\n"
     ]
    },
    {
     "name": "stdout",
     "output_type": "stream",
     "text": [
      "    user   system  elapsed \n",
      "2357.357 1786.114  442.489 \n",
      "Daytime_Sleepiness ~ Hair_Black \n"
     ]
    },
    {
     "name": "stderr",
     "output_type": "stream",
     "text": [
      "\u001b[1m\u001b[1mRows: \u001b[1m\u001b[22m\u001b[34m\u001b[34m1065141\u001b[34m\u001b[39m \u001b[1m\u001b[1mColumns: \u001b[1m\u001b[22m\u001b[34m\u001b[34m7\u001b[34m\u001b[39m\n",
      "\n",
      "\u001b[36m──\u001b[39m \u001b[1m\u001b[1mColumn specification\u001b[1m\u001b[22m \u001b[36m────────────────────────────────────────────────────────────────────────────────────────────────────────\u001b[39m\n",
      "\u001b[1mDelimiter:\u001b[22m \"\\t\"\n",
      "\u001b[31mchr\u001b[39m (3): SNP, A1, A2\n",
      "\u001b[32mdbl\u001b[39m (4): Z, N, chi2, P\n",
      "\n",
      "\n",
      "\u001b[36mℹ\u001b[39m Use \u001b[30m\u001b[47m\u001b[30m\u001b[47m`spec()`\u001b[47m\u001b[30m\u001b[49m\u001b[39m to retrieve the full column specification for this data.\n",
      "\u001b[36mℹ\u001b[39m Specify the column types or set \u001b[30m\u001b[47m\u001b[30m\u001b[47m`show_col_types = FALSE`\u001b[47m\u001b[30m\u001b[49m\u001b[39m to quiet this message.\n",
      "\n",
      "\u001b[1m\u001b[1mRows: \u001b[1m\u001b[22m\u001b[34m\u001b[34m1037702\u001b[34m\u001b[39m \u001b[1m\u001b[1mColumns: \u001b[1m\u001b[22m\u001b[34m\u001b[34m7\u001b[34m\u001b[39m\n",
      "\n",
      "\u001b[36m──\u001b[39m \u001b[1m\u001b[1mColumn specification\u001b[1m\u001b[22m \u001b[36m────────────────────────────────────────────────────────────────────────────────────────────────────────\u001b[39m\n",
      "\u001b[1mDelimiter:\u001b[22m \"\\t\"\n",
      "\u001b[31mchr\u001b[39m (3): SNP, A1, A2\n",
      "\u001b[32mdbl\u001b[39m (4): Z, N, chi2, P\n",
      "\n",
      "\n",
      "\u001b[36mℹ\u001b[39m Use \u001b[30m\u001b[47m\u001b[30m\u001b[47m`spec()`\u001b[47m\u001b[30m\u001b[49m\u001b[39m to retrieve the full column specification for this data.\n",
      "\u001b[36mℹ\u001b[39m Specify the column types or set \u001b[30m\u001b[47m\u001b[30m\u001b[47m`show_col_types = FALSE`\u001b[47m\u001b[30m\u001b[49m\u001b[39m to quiet this message.\n",
      "\n"
     ]
    },
    {
     "name": "stdout",
     "output_type": "stream",
     "text": [
      "Formatting X1\n",
      "There are  1065141  variants.\n",
      "Removing  0  duplicated variants leaving  1065141 variants.\n",
      "No variants have illegal alleles.\n",
      "Removed  0  variants with ambiguous strand.\n",
      "Flipping strand and effect allele so A1 is always A\n",
      "Returning  1065141  variants.\n",
      "Formatting X2\n",
      "There are  1037702  variants.\n",
      "Removing  0  duplicated variants leaving  1037702 variants.\n",
      "No variants have illegal alleles.\n",
      "Removed  0  variants with ambiguous strand.\n",
      "Flipping strand and effect allele so A1 is always A\n",
      "Returning  1037702  variants.\n",
      "After merging and removing variants with inconsistent alleles,  there are  1027420  variants that are present in both studies and can be used with CAUSE.\n"
     ]
    },
    {
     "name": "stderr",
     "output_type": "stream",
     "text": [
      "Clumping spv1OZ, 10604 variants, using EUR population reference\n",
      "\n",
      "Removing 9171 of 10604 variants due to LD with other variants or absence from LD reference panel\n",
      "\n"
     ]
    },
    {
     "name": "stdout",
     "output_type": "stream",
     "text": [
      "Estimating CAUSE parameters with  1000000  variants.\n",
      "1 0.009719228 \n",
      "2 4.800635e-06 \n",
      "3 3.907806e-09 \n",
      "Estimating CAUSE posteriors using  1433  variants.\n"
     ]
    },
    {
     "name": "stderr",
     "output_type": "stream",
     "text": [
      "Warning message:\n",
      "“'compare' is deprecated.\n",
      "Use 'loo_compare' instead.\n",
      "See help(\"Deprecated\")”\n"
     ]
    },
    {
     "name": "stdout",
     "output_type": "stream",
     "text": [
      "    user   system  elapsed \n",
      "2180.804 1604.064  400.685 \n",
      "Daytime_Sleepiness ~ Hair_Blonde \n"
     ]
    },
    {
     "name": "stderr",
     "output_type": "stream",
     "text": [
      "\u001b[1m\u001b[1mRows: \u001b[1m\u001b[22m\u001b[34m\u001b[34m1065141\u001b[34m\u001b[39m \u001b[1m\u001b[1mColumns: \u001b[1m\u001b[22m\u001b[34m\u001b[34m7\u001b[34m\u001b[39m\n",
      "\n",
      "\u001b[36m──\u001b[39m \u001b[1m\u001b[1mColumn specification\u001b[1m\u001b[22m \u001b[36m────────────────────────────────────────────────────────────────────────────────────────────────────────\u001b[39m\n",
      "\u001b[1mDelimiter:\u001b[22m \"\\t\"\n",
      "\u001b[31mchr\u001b[39m (3): SNP, A1, A2\n",
      "\u001b[32mdbl\u001b[39m (4): Z, N, chi2, P\n",
      "\n",
      "\n",
      "\u001b[36mℹ\u001b[39m Use \u001b[30m\u001b[47m\u001b[30m\u001b[47m`spec()`\u001b[47m\u001b[30m\u001b[49m\u001b[39m to retrieve the full column specification for this data.\n",
      "\u001b[36mℹ\u001b[39m Specify the column types or set \u001b[30m\u001b[47m\u001b[30m\u001b[47m`show_col_types = FALSE`\u001b[47m\u001b[30m\u001b[49m\u001b[39m to quiet this message.\n",
      "\n",
      "\u001b[1m\u001b[1mRows: \u001b[1m\u001b[22m\u001b[34m\u001b[34m1037533\u001b[34m\u001b[39m \u001b[1m\u001b[1mColumns: \u001b[1m\u001b[22m\u001b[34m\u001b[34m7\u001b[34m\u001b[39m\n",
      "\n",
      "\u001b[36m──\u001b[39m \u001b[1m\u001b[1mColumn specification\u001b[1m\u001b[22m \u001b[36m────────────────────────────────────────────────────────────────────────────────────────────────────────\u001b[39m\n",
      "\u001b[1mDelimiter:\u001b[22m \"\\t\"\n",
      "\u001b[31mchr\u001b[39m (3): SNP, A1, A2\n",
      "\u001b[32mdbl\u001b[39m (4): Z, N, chi2, P\n",
      "\n",
      "\n",
      "\u001b[36mℹ\u001b[39m Use \u001b[30m\u001b[47m\u001b[30m\u001b[47m`spec()`\u001b[47m\u001b[30m\u001b[49m\u001b[39m to retrieve the full column specification for this data.\n",
      "\u001b[36mℹ\u001b[39m Specify the column types or set \u001b[30m\u001b[47m\u001b[30m\u001b[47m`show_col_types = FALSE`\u001b[47m\u001b[30m\u001b[49m\u001b[39m to quiet this message.\n",
      "\n"
     ]
    },
    {
     "name": "stdout",
     "output_type": "stream",
     "text": [
      "Formatting X1\n",
      "There are  1065141  variants.\n",
      "Removing  0  duplicated variants leaving  1065141 variants.\n",
      "No variants have illegal alleles.\n",
      "Removed  0  variants with ambiguous strand.\n",
      "Flipping strand and effect allele so A1 is always A\n",
      "Returning  1065141  variants.\n",
      "Formatting X2\n",
      "There are  1037533  variants.\n",
      "Removing  0  duplicated variants leaving  1037533 variants.\n",
      "No variants have illegal alleles.\n",
      "Removed  0  variants with ambiguous strand.\n",
      "Flipping strand and effect allele so A1 is always A\n",
      "Returning  1037533  variants.\n",
      "After merging and removing variants with inconsistent alleles,  there are  1027251  variants that are present in both studies and can be used with CAUSE.\n"
     ]
    },
    {
     "name": "stderr",
     "output_type": "stream",
     "text": [
      "Clumping 4jTnhA, 10604 variants, using EUR population reference\n",
      "\n",
      "Removing 9171 of 10604 variants due to LD with other variants or absence from LD reference panel\n",
      "\n"
     ]
    },
    {
     "name": "stdout",
     "output_type": "stream",
     "text": [
      "Estimating CAUSE parameters with  1000000  variants.\n",
      "1 0.006899694 \n",
      "2 2.041663e-06 \n",
      "3 7.109856e-10 \n",
      "Estimating CAUSE posteriors using  1433  variants.\n"
     ]
    },
    {
     "name": "stderr",
     "output_type": "stream",
     "text": [
      "Warning message:\n",
      "“'compare' is deprecated.\n",
      "Use 'loo_compare' instead.\n",
      "See help(\"Deprecated\")”\n"
     ]
    },
    {
     "name": "stdout",
     "output_type": "stream",
     "text": [
      "    user   system  elapsed \n",
      "2210.532 1746.822  399.868 \n",
      "Daytime_Sleepiness ~ Tanning \n"
     ]
    },
    {
     "name": "stderr",
     "output_type": "stream",
     "text": [
      "\u001b[1m\u001b[1mRows: \u001b[1m\u001b[22m\u001b[34m\u001b[34m1065141\u001b[34m\u001b[39m \u001b[1m\u001b[1mColumns: \u001b[1m\u001b[22m\u001b[34m\u001b[34m7\u001b[34m\u001b[39m\n",
      "\n",
      "\u001b[36m──\u001b[39m \u001b[1m\u001b[1mColumn specification\u001b[1m\u001b[22m \u001b[36m────────────────────────────────────────────────────────────────────────────────────────────────────────\u001b[39m\n",
      "\u001b[1mDelimiter:\u001b[22m \"\\t\"\n",
      "\u001b[31mchr\u001b[39m (3): SNP, A1, A2\n",
      "\u001b[32mdbl\u001b[39m (4): Z, N, chi2, P\n",
      "\n",
      "\n",
      "\u001b[36mℹ\u001b[39m Use \u001b[30m\u001b[47m\u001b[30m\u001b[47m`spec()`\u001b[47m\u001b[30m\u001b[49m\u001b[39m to retrieve the full column specification for this data.\n",
      "\u001b[36mℹ\u001b[39m Specify the column types or set \u001b[30m\u001b[47m\u001b[30m\u001b[47m`show_col_types = FALSE`\u001b[47m\u001b[30m\u001b[49m\u001b[39m to quiet this message.\n",
      "\n",
      "\u001b[1m\u001b[1mRows: \u001b[1m\u001b[22m\u001b[34m\u001b[34m1037026\u001b[34m\u001b[39m \u001b[1m\u001b[1mColumns: \u001b[1m\u001b[22m\u001b[34m\u001b[34m7\u001b[34m\u001b[39m\n",
      "\n",
      "\u001b[36m──\u001b[39m \u001b[1m\u001b[1mColumn specification\u001b[1m\u001b[22m \u001b[36m────────────────────────────────────────────────────────────────────────────────────────────────────────\u001b[39m\n",
      "\u001b[1mDelimiter:\u001b[22m \"\\t\"\n",
      "\u001b[31mchr\u001b[39m (3): SNP, A1, A2\n",
      "\u001b[32mdbl\u001b[39m (4): Z, N, chi2, P\n",
      "\n",
      "\n",
      "\u001b[36mℹ\u001b[39m Use \u001b[30m\u001b[47m\u001b[30m\u001b[47m`spec()`\u001b[47m\u001b[30m\u001b[49m\u001b[39m to retrieve the full column specification for this data.\n",
      "\u001b[36mℹ\u001b[39m Specify the column types or set \u001b[30m\u001b[47m\u001b[30m\u001b[47m`show_col_types = FALSE`\u001b[47m\u001b[30m\u001b[49m\u001b[39m to quiet this message.\n",
      "\n"
     ]
    },
    {
     "name": "stdout",
     "output_type": "stream",
     "text": [
      "Formatting X1\n",
      "There are  1065141  variants.\n",
      "Removing  0  duplicated variants leaving  1065141 variants.\n",
      "No variants have illegal alleles.\n",
      "Removed  0  variants with ambiguous strand.\n",
      "Flipping strand and effect allele so A1 is always A\n",
      "Returning  1065141  variants.\n",
      "Formatting X2\n",
      "There are  1037026  variants.\n",
      "Removing  0  duplicated variants leaving  1037026 variants.\n",
      "No variants have illegal alleles.\n",
      "Removed  0  variants with ambiguous strand.\n",
      "Flipping strand and effect allele so A1 is always A\n",
      "Returning  1037026  variants.\n",
      "After merging and removing variants with inconsistent alleles,  there are  1026746  variants that are present in both studies and can be used with CAUSE.\n"
     ]
    },
    {
     "name": "stderr",
     "output_type": "stream",
     "text": [
      "Clumping uXfb24, 10572 variants, using EUR population reference\n",
      "\n",
      "Removing 9139 of 10572 variants due to LD with other variants or absence from LD reference panel\n",
      "\n"
     ]
    },
    {
     "name": "stdout",
     "output_type": "stream",
     "text": [
      "Estimating CAUSE parameters with  1000000  variants.\n",
      "1 0.01964838 \n",
      "2 1.533617e-05 \n",
      "3 1.866447e-08 \n",
      "Estimating CAUSE posteriors using  1433  variants.\n"
     ]
    },
    {
     "name": "stderr",
     "output_type": "stream",
     "text": [
      "Warning message:\n",
      "“'compare' is deprecated.\n",
      "Use 'loo_compare' instead.\n",
      "See help(\"Deprecated\")”\n"
     ]
    },
    {
     "name": "stdout",
     "output_type": "stream",
     "text": [
      "    user   system  elapsed \n",
      "2282.721 1649.534  416.042 \n",
      "Height_UKB ~ Hair_Light_Brown \n"
     ]
    },
    {
     "name": "stderr",
     "output_type": "stream",
     "text": [
      "\u001b[1m\u001b[1mRows: \u001b[1m\u001b[22m\u001b[34m\u001b[34m1037320\u001b[34m\u001b[39m \u001b[1m\u001b[1mColumns: \u001b[1m\u001b[22m\u001b[34m\u001b[34m7\u001b[34m\u001b[39m\n",
      "\n",
      "\u001b[36m──\u001b[39m \u001b[1m\u001b[1mColumn specification\u001b[1m\u001b[22m \u001b[36m────────────────────────────────────────────────────────────────────────────────────────────────────────\u001b[39m\n",
      "\u001b[1mDelimiter:\u001b[22m \"\\t\"\n",
      "\u001b[31mchr\u001b[39m (3): SNP, A1, A2\n",
      "\u001b[32mdbl\u001b[39m (4): Z, N, chi2, P\n",
      "\n",
      "\n",
      "\u001b[36mℹ\u001b[39m Use \u001b[30m\u001b[47m\u001b[30m\u001b[47m`spec()`\u001b[47m\u001b[30m\u001b[49m\u001b[39m to retrieve the full column specification for this data.\n",
      "\u001b[36mℹ\u001b[39m Specify the column types or set \u001b[30m\u001b[47m\u001b[30m\u001b[47m`show_col_types = FALSE`\u001b[47m\u001b[30m\u001b[49m\u001b[39m to quiet this message.\n",
      "\n",
      "\u001b[1m\u001b[1mRows: \u001b[1m\u001b[22m\u001b[34m\u001b[34m1037742\u001b[34m\u001b[39m \u001b[1m\u001b[1mColumns: \u001b[1m\u001b[22m\u001b[34m\u001b[34m7\u001b[34m\u001b[39m\n",
      "\n",
      "\u001b[36m──\u001b[39m \u001b[1m\u001b[1mColumn specification\u001b[1m\u001b[22m \u001b[36m────────────────────────────────────────────────────────────────────────────────────────────────────────\u001b[39m\n",
      "\u001b[1mDelimiter:\u001b[22m \"\\t\"\n",
      "\u001b[31mchr\u001b[39m (3): SNP, A1, A2\n",
      "\u001b[32mdbl\u001b[39m (4): Z, N, chi2, P\n",
      "\n",
      "\n",
      "\u001b[36mℹ\u001b[39m Use \u001b[30m\u001b[47m\u001b[30m\u001b[47m`spec()`\u001b[47m\u001b[30m\u001b[49m\u001b[39m to retrieve the full column specification for this data.\n",
      "\u001b[36mℹ\u001b[39m Specify the column types or set \u001b[30m\u001b[47m\u001b[30m\u001b[47m`show_col_types = FALSE`\u001b[47m\u001b[30m\u001b[49m\u001b[39m to quiet this message.\n",
      "\n"
     ]
    },
    {
     "name": "stdout",
     "output_type": "stream",
     "text": [
      "Formatting X1\n",
      "There are  1037320  variants.\n",
      "Removing  0  duplicated variants leaving  1037320 variants.\n",
      "No variants have illegal alleles.\n",
      "Removed  0  variants with ambiguous strand.\n",
      "Flipping strand and effect allele so A1 is always A\n",
      "Returning  1037320  variants.\n",
      "Formatting X2\n",
      "There are  1037742  variants.\n",
      "Removing  0  duplicated variants leaving  1037742 variants.\n",
      "No variants have illegal alleles.\n",
      "Removed  0  variants with ambiguous strand.\n",
      "Flipping strand and effect allele so A1 is always A\n",
      "Returning  1037742  variants.\n",
      "After merging and removing variants with inconsistent alleles,  there are  1037238  variants that are present in both studies and can be used with CAUSE.\n"
     ]
    },
    {
     "name": "stderr",
     "output_type": "stream",
     "text": [
      "Clumping iWpsIy, 116058 variants, using EUR population reference\n",
      "\n",
      "Removing 104286 of 116058 variants due to LD with other variants or absence from LD reference panel\n",
      "\n"
     ]
    },
    {
     "name": "stdout",
     "output_type": "stream",
     "text": [
      "Estimating CAUSE parameters with  1000000  variants.\n",
      "1 0.3541839 \n",
      "2 0.009820654 \n",
      "3 0.001162541 \n",
      "4 0.0001425599 \n",
      "5 1.751932e-05 \n",
      "6 2.159119e-06 \n",
      "7 2.609664e-07 \n",
      "8 3.198315e-08 \n",
      "Estimating CAUSE posteriors using  11772  variants.\n"
     ]
    },
    {
     "name": "stderr",
     "output_type": "stream",
     "text": [
      "Warning message:\n",
      "“'compare' is deprecated.\n",
      "Use 'loo_compare' instead.\n",
      "See help(\"Deprecated\")”\n"
     ]
    },
    {
     "name": "stdout",
     "output_type": "stream",
     "text": [
      "     user    system   elapsed \n",
      "12225.873  3479.847  1145.857 \n",
      "Height_UKB ~ Hair_Dark_Brown \n"
     ]
    },
    {
     "name": "stderr",
     "output_type": "stream",
     "text": [
      "\u001b[1m\u001b[1mRows: \u001b[1m\u001b[22m\u001b[34m\u001b[34m1037320\u001b[34m\u001b[39m \u001b[1m\u001b[1mColumns: \u001b[1m\u001b[22m\u001b[34m\u001b[34m7\u001b[34m\u001b[39m\n",
      "\n",
      "\u001b[36m──\u001b[39m \u001b[1m\u001b[1mColumn specification\u001b[1m\u001b[22m \u001b[36m────────────────────────────────────────────────────────────────────────────────────────────────────────\u001b[39m\n",
      "\u001b[1mDelimiter:\u001b[22m \"\\t\"\n",
      "\u001b[31mchr\u001b[39m (3): SNP, A1, A2\n",
      "\u001b[32mdbl\u001b[39m (4): Z, N, chi2, P\n",
      "\n",
      "\n",
      "\u001b[36mℹ\u001b[39m Use \u001b[30m\u001b[47m\u001b[30m\u001b[47m`spec()`\u001b[47m\u001b[30m\u001b[49m\u001b[39m to retrieve the full column specification for this data.\n",
      "\u001b[36mℹ\u001b[39m Specify the column types or set \u001b[30m\u001b[47m\u001b[30m\u001b[47m`show_col_types = FALSE`\u001b[47m\u001b[30m\u001b[49m\u001b[39m to quiet this message.\n",
      "\n",
      "\u001b[1m\u001b[1mRows: \u001b[1m\u001b[22m\u001b[34m\u001b[34m1037381\u001b[34m\u001b[39m \u001b[1m\u001b[1mColumns: \u001b[1m\u001b[22m\u001b[34m\u001b[34m7\u001b[34m\u001b[39m\n",
      "\n",
      "\u001b[36m──\u001b[39m \u001b[1m\u001b[1mColumn specification\u001b[1m\u001b[22m \u001b[36m────────────────────────────────────────────────────────────────────────────────────────────────────────\u001b[39m\n",
      "\u001b[1mDelimiter:\u001b[22m \"\\t\"\n",
      "\u001b[31mchr\u001b[39m (3): SNP, A1, A2\n",
      "\u001b[32mdbl\u001b[39m (4): Z, N, chi2, P\n",
      "\n",
      "\n",
      "\u001b[36mℹ\u001b[39m Use \u001b[30m\u001b[47m\u001b[30m\u001b[47m`spec()`\u001b[47m\u001b[30m\u001b[49m\u001b[39m to retrieve the full column specification for this data.\n",
      "\u001b[36mℹ\u001b[39m Specify the column types or set \u001b[30m\u001b[47m\u001b[30m\u001b[47m`show_col_types = FALSE`\u001b[47m\u001b[30m\u001b[49m\u001b[39m to quiet this message.\n",
      "\n"
     ]
    },
    {
     "name": "stdout",
     "output_type": "stream",
     "text": [
      "Formatting X1\n",
      "There are  1037320  variants.\n",
      "Removing  0  duplicated variants leaving  1037320 variants.\n",
      "No variants have illegal alleles.\n",
      "Removed  0  variants with ambiguous strand.\n",
      "Flipping strand and effect allele so A1 is always A\n",
      "Returning  1037320  variants.\n",
      "Formatting X2\n",
      "There are  1037381  variants.\n",
      "Removing  0  duplicated variants leaving  1037381 variants.\n",
      "No variants have illegal alleles.\n",
      "Removed  0  variants with ambiguous strand.\n",
      "Flipping strand and effect allele so A1 is always A\n",
      "Returning  1037381  variants.\n",
      "After merging and removing variants with inconsistent alleles,  there are  1036877  variants that are present in both studies and can be used with CAUSE.\n"
     ]
    },
    {
     "name": "stderr",
     "output_type": "stream",
     "text": [
      "Clumping rKzRxy, 115862 variants, using EUR population reference\n",
      "\n",
      "Removing 104094 of 115862 variants due to LD with other variants or absence from LD reference panel\n",
      "\n"
     ]
    },
    {
     "name": "stdout",
     "output_type": "stream",
     "text": [
      "Estimating CAUSE parameters with  1000000  variants.\n",
      "1 0.3309624 \n",
      "2 0.008675456 \n",
      "3 0.00102332 \n",
      "4 0.0001057569 \n",
      "5 1.096235e-05 \n",
      "6 1.139267e-06 \n",
      "7 1.132635e-07 \n",
      "8 1.380692e-08 \n",
      "Estimating CAUSE posteriors using  11768  variants.\n"
     ]
    },
    {
     "name": "stderr",
     "output_type": "stream",
     "text": [
      "Warning message:\n",
      "“'compare' is deprecated.\n",
      "Use 'loo_compare' instead.\n",
      "See help(\"Deprecated\")”\n"
     ]
    },
    {
     "name": "stdout",
     "output_type": "stream",
     "text": [
      "     user    system   elapsed \n",
      "11246.071  3399.030  1029.039 \n",
      "Height_UKB ~ Hair_Black \n"
     ]
    },
    {
     "name": "stderr",
     "output_type": "stream",
     "text": [
      "\u001b[1m\u001b[1mRows: \u001b[1m\u001b[22m\u001b[34m\u001b[34m1037320\u001b[34m\u001b[39m \u001b[1m\u001b[1mColumns: \u001b[1m\u001b[22m\u001b[34m\u001b[34m7\u001b[34m\u001b[39m\n",
      "\n",
      "\u001b[36m──\u001b[39m \u001b[1m\u001b[1mColumn specification\u001b[1m\u001b[22m \u001b[36m────────────────────────────────────────────────────────────────────────────────────────────────────────\u001b[39m\n",
      "\u001b[1mDelimiter:\u001b[22m \"\\t\"\n",
      "\u001b[31mchr\u001b[39m (3): SNP, A1, A2\n",
      "\u001b[32mdbl\u001b[39m (4): Z, N, chi2, P\n",
      "\n",
      "\n",
      "\u001b[36mℹ\u001b[39m Use \u001b[30m\u001b[47m\u001b[30m\u001b[47m`spec()`\u001b[47m\u001b[30m\u001b[49m\u001b[39m to retrieve the full column specification for this data.\n",
      "\u001b[36mℹ\u001b[39m Specify the column types or set \u001b[30m\u001b[47m\u001b[30m\u001b[47m`show_col_types = FALSE`\u001b[47m\u001b[30m\u001b[49m\u001b[39m to quiet this message.\n",
      "\n",
      "\u001b[1m\u001b[1mRows: \u001b[1m\u001b[22m\u001b[34m\u001b[34m1037702\u001b[34m\u001b[39m \u001b[1m\u001b[1mColumns: \u001b[1m\u001b[22m\u001b[34m\u001b[34m7\u001b[34m\u001b[39m\n",
      "\n",
      "\u001b[36m──\u001b[39m \u001b[1m\u001b[1mColumn specification\u001b[1m\u001b[22m \u001b[36m────────────────────────────────────────────────────────────────────────────────────────────────────────\u001b[39m\n",
      "\u001b[1mDelimiter:\u001b[22m \"\\t\"\n",
      "\u001b[31mchr\u001b[39m (3): SNP, A1, A2\n",
      "\u001b[32mdbl\u001b[39m (4): Z, N, chi2, P\n",
      "\n",
      "\n",
      "\u001b[36mℹ\u001b[39m Use \u001b[30m\u001b[47m\u001b[30m\u001b[47m`spec()`\u001b[47m\u001b[30m\u001b[49m\u001b[39m to retrieve the full column specification for this data.\n",
      "\u001b[36mℹ\u001b[39m Specify the column types or set \u001b[30m\u001b[47m\u001b[30m\u001b[47m`show_col_types = FALSE`\u001b[47m\u001b[30m\u001b[49m\u001b[39m to quiet this message.\n",
      "\n"
     ]
    },
    {
     "name": "stdout",
     "output_type": "stream",
     "text": [
      "Formatting X1\n",
      "There are  1037320  variants.\n",
      "Removing  0  duplicated variants leaving  1037320 variants.\n",
      "No variants have illegal alleles.\n",
      "Removed  0  variants with ambiguous strand.\n",
      "Flipping strand and effect allele so A1 is always A\n",
      "Returning  1037320  variants.\n",
      "Formatting X2\n",
      "There are  1037702  variants.\n",
      "Removing  0  duplicated variants leaving  1037702 variants.\n",
      "No variants have illegal alleles.\n",
      "Removed  0  variants with ambiguous strand.\n",
      "Flipping strand and effect allele so A1 is always A\n",
      "Returning  1037702  variants.\n",
      "After merging and removing variants with inconsistent alleles,  there are  1037198  variants that are present in both studies and can be used with CAUSE.\n"
     ]
    },
    {
     "name": "stderr",
     "output_type": "stream",
     "text": [
      "Clumping tnfbWs, 116057 variants, using EUR population reference\n",
      "\n",
      "Removing 104284 of 116057 variants due to LD with other variants or absence from LD reference panel\n",
      "\n"
     ]
    },
    {
     "name": "stdout",
     "output_type": "stream",
     "text": [
      "Estimating CAUSE parameters with  1000000  variants.\n",
      "1 0.5671741 \n",
      "2 0.03596704 \n",
      "3 0.008666146 \n",
      "4 0.002173283 \n",
      "5 0.0005501612 \n",
      "6 0.0001395986 \n",
      "7 3.54434e-05 \n",
      "8 8.998944e-06 \n",
      "9 2.285529e-06 \n",
      "10 5.800807e-07 \n",
      "11 1.487371e-07 \n",
      "12 3.646746e-08 \n",
      "Estimating CAUSE posteriors using  11773  variants.\n"
     ]
    },
    {
     "name": "stderr",
     "output_type": "stream",
     "text": [
      "Warning message:\n",
      "“'compare' is deprecated.\n",
      "Use 'loo_compare' instead.\n",
      "See help(\"Deprecated\")”\n"
     ]
    },
    {
     "name": "stdout",
     "output_type": "stream",
     "text": [
      "     user    system   elapsed \n",
      "17092.157  4312.753  1323.559 \n",
      "Height_UKB ~ Hair_Blonde \n"
     ]
    },
    {
     "name": "stderr",
     "output_type": "stream",
     "text": [
      "\u001b[1m\u001b[1mRows: \u001b[1m\u001b[22m\u001b[34m\u001b[34m1037320\u001b[34m\u001b[39m \u001b[1m\u001b[1mColumns: \u001b[1m\u001b[22m\u001b[34m\u001b[34m7\u001b[34m\u001b[39m\n",
      "\n",
      "\u001b[36m──\u001b[39m \u001b[1m\u001b[1mColumn specification\u001b[1m\u001b[22m \u001b[36m────────────────────────────────────────────────────────────────────────────────────────────────────────\u001b[39m\n",
      "\u001b[1mDelimiter:\u001b[22m \"\\t\"\n",
      "\u001b[31mchr\u001b[39m (3): SNP, A1, A2\n",
      "\u001b[32mdbl\u001b[39m (4): Z, N, chi2, P\n",
      "\n",
      "\n",
      "\u001b[36mℹ\u001b[39m Use \u001b[30m\u001b[47m\u001b[30m\u001b[47m`spec()`\u001b[47m\u001b[30m\u001b[49m\u001b[39m to retrieve the full column specification for this data.\n",
      "\u001b[36mℹ\u001b[39m Specify the column types or set \u001b[30m\u001b[47m\u001b[30m\u001b[47m`show_col_types = FALSE`\u001b[47m\u001b[30m\u001b[49m\u001b[39m to quiet this message.\n",
      "\n",
      "\u001b[1m\u001b[1mRows: \u001b[1m\u001b[22m\u001b[34m\u001b[34m1037533\u001b[34m\u001b[39m \u001b[1m\u001b[1mColumns: \u001b[1m\u001b[22m\u001b[34m\u001b[34m7\u001b[34m\u001b[39m\n",
      "\n",
      "\u001b[36m──\u001b[39m \u001b[1m\u001b[1mColumn specification\u001b[1m\u001b[22m \u001b[36m────────────────────────────────────────────────────────────────────────────────────────────────────────\u001b[39m\n",
      "\u001b[1mDelimiter:\u001b[22m \"\\t\"\n",
      "\u001b[31mchr\u001b[39m (3): SNP, A1, A2\n",
      "\u001b[32mdbl\u001b[39m (4): Z, N, chi2, P\n",
      "\n",
      "\n",
      "\u001b[36mℹ\u001b[39m Use \u001b[30m\u001b[47m\u001b[30m\u001b[47m`spec()`\u001b[47m\u001b[30m\u001b[49m\u001b[39m to retrieve the full column specification for this data.\n",
      "\u001b[36mℹ\u001b[39m Specify the column types or set \u001b[30m\u001b[47m\u001b[30m\u001b[47m`show_col_types = FALSE`\u001b[47m\u001b[30m\u001b[49m\u001b[39m to quiet this message.\n",
      "\n"
     ]
    },
    {
     "name": "stdout",
     "output_type": "stream",
     "text": [
      "Formatting X1\n",
      "There are  1037320  variants.\n",
      "Removing  0  duplicated variants leaving  1037320 variants.\n",
      "No variants have illegal alleles.\n",
      "Removed  0  variants with ambiguous strand.\n",
      "Flipping strand and effect allele so A1 is always A\n",
      "Returning  1037320  variants.\n",
      "Formatting X2\n",
      "There are  1037533  variants.\n",
      "Removing  0  duplicated variants leaving  1037533 variants.\n",
      "No variants have illegal alleles.\n",
      "Removed  0  variants with ambiguous strand.\n",
      "Flipping strand and effect allele so A1 is always A\n",
      "Returning  1037533  variants.\n",
      "After merging and removing variants with inconsistent alleles,  there are  1037029  variants that are present in both studies and can be used with CAUSE.\n"
     ]
    },
    {
     "name": "stderr",
     "output_type": "stream",
     "text": [
      "Clumping awRuDG, 115977 variants, using EUR population reference\n",
      "\n",
      "Removing 104203 of 115977 variants due to LD with other variants or absence from LD reference panel\n",
      "\n"
     ]
    },
    {
     "name": "stdout",
     "output_type": "stream",
     "text": [
      "Estimating CAUSE parameters with  1000000  variants.\n",
      "1 0.2100479 \n",
      "2 0.004439355 \n",
      "3 0.000239165 \n",
      "4 1.30798e-05 \n",
      "5 7.162182e-07 \n",
      "6 3.851585e-08 \n",
      "Estimating CAUSE posteriors using  11774  variants.\n"
     ]
    },
    {
     "name": "stderr",
     "output_type": "stream",
     "text": [
      "Warning message:\n",
      "“Some Pareto k diagnostic values are slightly high. See help('pareto-k-diagnostic') for details.\n",
      "”\n",
      "Warning message:\n",
      "“'compare' is deprecated.\n",
      "Use 'loo_compare' instead.\n",
      "See help(\"Deprecated\")”\n"
     ]
    },
    {
     "name": "stdout",
     "output_type": "stream",
     "text": [
      "     user    system   elapsed \n",
      "10860.134  2783.410   872.147 \n",
      "Height_UKB ~ Tanning \n"
     ]
    },
    {
     "name": "stderr",
     "output_type": "stream",
     "text": [
      "\u001b[1m\u001b[1mRows: \u001b[1m\u001b[22m\u001b[34m\u001b[34m1037320\u001b[34m\u001b[39m \u001b[1m\u001b[1mColumns: \u001b[1m\u001b[22m\u001b[34m\u001b[34m7\u001b[34m\u001b[39m\n",
      "\n",
      "\u001b[36m──\u001b[39m \u001b[1m\u001b[1mColumn specification\u001b[1m\u001b[22m \u001b[36m────────────────────────────────────────────────────────────────────────────────────────────────────────\u001b[39m\n",
      "\u001b[1mDelimiter:\u001b[22m \"\\t\"\n",
      "\u001b[31mchr\u001b[39m (3): SNP, A1, A2\n",
      "\u001b[32mdbl\u001b[39m (4): Z, N, chi2, P\n",
      "\n",
      "\n",
      "\u001b[36mℹ\u001b[39m Use \u001b[30m\u001b[47m\u001b[30m\u001b[47m`spec()`\u001b[47m\u001b[30m\u001b[49m\u001b[39m to retrieve the full column specification for this data.\n",
      "\u001b[36mℹ\u001b[39m Specify the column types or set \u001b[30m\u001b[47m\u001b[30m\u001b[47m`show_col_types = FALSE`\u001b[47m\u001b[30m\u001b[49m\u001b[39m to quiet this message.\n",
      "\n",
      "\u001b[1m\u001b[1mRows: \u001b[1m\u001b[22m\u001b[34m\u001b[34m1037026\u001b[34m\u001b[39m \u001b[1m\u001b[1mColumns: \u001b[1m\u001b[22m\u001b[34m\u001b[34m7\u001b[34m\u001b[39m\n",
      "\n",
      "\u001b[36m──\u001b[39m \u001b[1m\u001b[1mColumn specification\u001b[1m\u001b[22m \u001b[36m────────────────────────────────────────────────────────────────────────────────────────────────────────\u001b[39m\n",
      "\u001b[1mDelimiter:\u001b[22m \"\\t\"\n",
      "\u001b[31mchr\u001b[39m (3): SNP, A1, A2\n",
      "\u001b[32mdbl\u001b[39m (4): Z, N, chi2, P\n",
      "\n",
      "\n",
      "\u001b[36mℹ\u001b[39m Use \u001b[30m\u001b[47m\u001b[30m\u001b[47m`spec()`\u001b[47m\u001b[30m\u001b[49m\u001b[39m to retrieve the full column specification for this data.\n",
      "\u001b[36mℹ\u001b[39m Specify the column types or set \u001b[30m\u001b[47m\u001b[30m\u001b[47m`show_col_types = FALSE`\u001b[47m\u001b[30m\u001b[49m\u001b[39m to quiet this message.\n",
      "\n"
     ]
    },
    {
     "name": "stdout",
     "output_type": "stream",
     "text": [
      "Formatting X1\n",
      "There are  1037320  variants.\n",
      "Removing  0  duplicated variants leaving  1037320 variants.\n",
      "No variants have illegal alleles.\n",
      "Removed  0  variants with ambiguous strand.\n",
      "Flipping strand and effect allele so A1 is always A\n",
      "Returning  1037320  variants.\n",
      "Formatting X2\n",
      "There are  1037026  variants.\n",
      "Removing  0  duplicated variants leaving  1037026 variants.\n",
      "No variants have illegal alleles.\n",
      "Removed  0  variants with ambiguous strand.\n",
      "Flipping strand and effect allele so A1 is always A\n",
      "Returning  1037026  variants.\n",
      "After merging and removing variants with inconsistent alleles,  there are  1036527  variants that are present in both studies and can be used with CAUSE.\n"
     ]
    },
    {
     "name": "stderr",
     "output_type": "stream",
     "text": [
      "Clumping mExeSs, 115673 variants, using EUR population reference\n",
      "\n",
      "Removing 103914 of 115673 variants due to LD with other variants or absence from LD reference panel\n",
      "\n"
     ]
    },
    {
     "name": "stdout",
     "output_type": "stream",
     "text": [
      "Estimating CAUSE parameters with  1000000  variants.\n",
      "1 0.3987346 \n",
      "2 0.01142129 \n",
      "3 0.001233959 \n",
      "4 0.000135853 \n",
      "5 1.498766e-05 \n",
      "6 1.654114e-06 \n",
      "7 1.818309e-07 \n",
      "8 1.927116e-08 \n",
      "Estimating CAUSE posteriors using  11759  variants.\n"
     ]
    },
    {
     "name": "stderr",
     "output_type": "stream",
     "text": [
      "Warning message:\n",
      "“'compare' is deprecated.\n",
      "Use 'loo_compare' instead.\n",
      "See help(\"Deprecated\")”\n"
     ]
    },
    {
     "name": "stdout",
     "output_type": "stream",
     "text": [
      "     user    system   elapsed \n",
      "10499.882  3275.731  1009.196 \n",
      "Intelligence ~ Hair_Light_Brown \n"
     ]
    },
    {
     "name": "stderr",
     "output_type": "stream",
     "text": [
      "\u001b[1m\u001b[1mRows: \u001b[1m\u001b[22m\u001b[34m\u001b[34m1037824\u001b[34m\u001b[39m \u001b[1m\u001b[1mColumns: \u001b[1m\u001b[22m\u001b[34m\u001b[34m7\u001b[34m\u001b[39m\n",
      "\n",
      "\u001b[36m──\u001b[39m \u001b[1m\u001b[1mColumn specification\u001b[1m\u001b[22m \u001b[36m────────────────────────────────────────────────────────────────────────────────────────────────────────\u001b[39m\n",
      "\u001b[1mDelimiter:\u001b[22m \"\\t\"\n",
      "\u001b[31mchr\u001b[39m (3): SNP, A1, A2\n",
      "\u001b[32mdbl\u001b[39m (4): Z, N, chi2, P\n",
      "\n",
      "\n",
      "\u001b[36mℹ\u001b[39m Use \u001b[30m\u001b[47m\u001b[30m\u001b[47m`spec()`\u001b[47m\u001b[30m\u001b[49m\u001b[39m to retrieve the full column specification for this data.\n",
      "\u001b[36mℹ\u001b[39m Specify the column types or set \u001b[30m\u001b[47m\u001b[30m\u001b[47m`show_col_types = FALSE`\u001b[47m\u001b[30m\u001b[49m\u001b[39m to quiet this message.\n",
      "\n",
      "\u001b[1m\u001b[1mRows: \u001b[1m\u001b[22m\u001b[34m\u001b[34m1037742\u001b[34m\u001b[39m \u001b[1m\u001b[1mColumns: \u001b[1m\u001b[22m\u001b[34m\u001b[34m7\u001b[34m\u001b[39m\n",
      "\n",
      "\u001b[36m──\u001b[39m \u001b[1m\u001b[1mColumn specification\u001b[1m\u001b[22m \u001b[36m────────────────────────────────────────────────────────────────────────────────────────────────────────\u001b[39m\n",
      "\u001b[1mDelimiter:\u001b[22m \"\\t\"\n",
      "\u001b[31mchr\u001b[39m (3): SNP, A1, A2\n",
      "\u001b[32mdbl\u001b[39m (4): Z, N, chi2, P\n",
      "\n",
      "\n",
      "\u001b[36mℹ\u001b[39m Use \u001b[30m\u001b[47m\u001b[30m\u001b[47m`spec()`\u001b[47m\u001b[30m\u001b[49m\u001b[39m to retrieve the full column specification for this data.\n",
      "\u001b[36mℹ\u001b[39m Specify the column types or set \u001b[30m\u001b[47m\u001b[30m\u001b[47m`show_col_types = FALSE`\u001b[47m\u001b[30m\u001b[49m\u001b[39m to quiet this message.\n",
      "\n"
     ]
    },
    {
     "name": "stdout",
     "output_type": "stream",
     "text": [
      "Formatting X1\n",
      "There are  1037824  variants.\n",
      "Removing  0  duplicated variants leaving  1037824 variants.\n",
      "No variants have illegal alleles.\n",
      "Removed  0  variants with ambiguous strand.\n",
      "Flipping strand and effect allele so A1 is always A\n",
      "Returning  1037824  variants.\n",
      "Formatting X2\n",
      "There are  1037742  variants.\n",
      "Removing  0  duplicated variants leaving  1037742 variants.\n",
      "No variants have illegal alleles.\n",
      "Removed  0  variants with ambiguous strand.\n",
      "Flipping strand and effect allele so A1 is always A\n",
      "Returning  1037742  variants.\n",
      "After merging and removing variants with inconsistent alleles,  there are  1037742  variants that are present in both studies and can be used with CAUSE.\n"
     ]
    },
    {
     "name": "stderr",
     "output_type": "stream",
     "text": [
      "Clumping UMtnDA, 15595 variants, using EUR population reference\n",
      "\n",
      "Removing 13504 of 15595 variants due to LD with other variants or absence from LD reference panel\n",
      "\n"
     ]
    },
    {
     "name": "stdout",
     "output_type": "stream",
     "text": [
      "Estimating CAUSE parameters with  1000000  variants.\n",
      "1 0.04802204 \n",
      "2 4.307062e-05 \n",
      "3 1.78312e-07 \n",
      "4 9.586871e-10 \n",
      "Estimating CAUSE posteriors using  2091  variants.\n"
     ]
    },
    {
     "name": "stderr",
     "output_type": "stream",
     "text": [
      "Warning message:\n",
      "“'compare' is deprecated.\n",
      "Use 'loo_compare' instead.\n",
      "See help(\"Deprecated\")”\n"
     ]
    },
    {
     "name": "stdout",
     "output_type": "stream",
     "text": [
      "    user   system  elapsed \n",
      "3042.687 2135.251  513.114 \n",
      "Intelligence ~ Hair_Dark_Brown \n"
     ]
    },
    {
     "name": "stderr",
     "output_type": "stream",
     "text": [
      "\u001b[1m\u001b[1mRows: \u001b[1m\u001b[22m\u001b[34m\u001b[34m1037824\u001b[34m\u001b[39m \u001b[1m\u001b[1mColumns: \u001b[1m\u001b[22m\u001b[34m\u001b[34m7\u001b[34m\u001b[39m\n",
      "\n",
      "\u001b[36m──\u001b[39m \u001b[1m\u001b[1mColumn specification\u001b[1m\u001b[22m \u001b[36m────────────────────────────────────────────────────────────────────────────────────────────────────────\u001b[39m\n",
      "\u001b[1mDelimiter:\u001b[22m \"\\t\"\n",
      "\u001b[31mchr\u001b[39m (3): SNP, A1, A2\n",
      "\u001b[32mdbl\u001b[39m (4): Z, N, chi2, P\n",
      "\n",
      "\n",
      "\u001b[36mℹ\u001b[39m Use \u001b[30m\u001b[47m\u001b[30m\u001b[47m`spec()`\u001b[47m\u001b[30m\u001b[49m\u001b[39m to retrieve the full column specification for this data.\n",
      "\u001b[36mℹ\u001b[39m Specify the column types or set \u001b[30m\u001b[47m\u001b[30m\u001b[47m`show_col_types = FALSE`\u001b[47m\u001b[30m\u001b[49m\u001b[39m to quiet this message.\n",
      "\n",
      "\u001b[1m\u001b[1mRows: \u001b[1m\u001b[22m\u001b[34m\u001b[34m1037381\u001b[34m\u001b[39m \u001b[1m\u001b[1mColumns: \u001b[1m\u001b[22m\u001b[34m\u001b[34m7\u001b[34m\u001b[39m\n",
      "\n",
      "\u001b[36m──\u001b[39m \u001b[1m\u001b[1mColumn specification\u001b[1m\u001b[22m \u001b[36m────────────────────────────────────────────────────────────────────────────────────────────────────────\u001b[39m\n",
      "\u001b[1mDelimiter:\u001b[22m \"\\t\"\n",
      "\u001b[31mchr\u001b[39m (3): SNP, A1, A2\n",
      "\u001b[32mdbl\u001b[39m (4): Z, N, chi2, P\n",
      "\n",
      "\n",
      "\u001b[36mℹ\u001b[39m Use \u001b[30m\u001b[47m\u001b[30m\u001b[47m`spec()`\u001b[47m\u001b[30m\u001b[49m\u001b[39m to retrieve the full column specification for this data.\n",
      "\u001b[36mℹ\u001b[39m Specify the column types or set \u001b[30m\u001b[47m\u001b[30m\u001b[47m`show_col_types = FALSE`\u001b[47m\u001b[30m\u001b[49m\u001b[39m to quiet this message.\n",
      "\n"
     ]
    },
    {
     "name": "stdout",
     "output_type": "stream",
     "text": [
      "Formatting X1\n",
      "There are  1037824  variants.\n",
      "Removing  0  duplicated variants leaving  1037824 variants.\n",
      "No variants have illegal alleles.\n",
      "Removed  0  variants with ambiguous strand.\n",
      "Flipping strand and effect allele so A1 is always A\n",
      "Returning  1037824  variants.\n",
      "Formatting X2\n",
      "There are  1037381  variants.\n",
      "Removing  0  duplicated variants leaving  1037381 variants.\n",
      "No variants have illegal alleles.\n",
      "Removed  0  variants with ambiguous strand.\n",
      "Flipping strand and effect allele so A1 is always A\n",
      "Returning  1037381  variants.\n",
      "After merging and removing variants with inconsistent alleles,  there are  1037381  variants that are present in both studies and can be used with CAUSE.\n"
     ]
    },
    {
     "name": "stderr",
     "output_type": "stream",
     "text": [
      "Clumping acZ3jv, 15591 variants, using EUR population reference\n",
      "\n",
      "Removing 13502 of 15591 variants due to LD with other variants or absence from LD reference panel\n",
      "\n"
     ]
    },
    {
     "name": "stdout",
     "output_type": "stream",
     "text": [
      "Estimating CAUSE parameters with  1000000  variants.\n",
      "1 0.04605043 \n",
      "2 0.0001889683 \n",
      "3 1.304124e-06 \n",
      "4 1.019799e-08 \n",
      "Estimating CAUSE posteriors using  2089  variants.\n"
     ]
    },
    {
     "name": "stderr",
     "output_type": "stream",
     "text": [
      "Warning message:\n",
      "“Some Pareto k diagnostic values are slightly high. See help('pareto-k-diagnostic') for details.\n",
      "”\n",
      "Warning message:\n",
      "“'compare' is deprecated.\n",
      "Use 'loo_compare' instead.\n",
      "See help(\"Deprecated\")”\n"
     ]
    },
    {
     "name": "stdout",
     "output_type": "stream",
     "text": [
      "    user   system  elapsed \n",
      "2991.694 2109.377  476.254 \n",
      "Intelligence ~ Hair_Black \n"
     ]
    },
    {
     "name": "stderr",
     "output_type": "stream",
     "text": [
      "\u001b[1m\u001b[1mRows: \u001b[1m\u001b[22m\u001b[34m\u001b[34m1037824\u001b[34m\u001b[39m \u001b[1m\u001b[1mColumns: \u001b[1m\u001b[22m\u001b[34m\u001b[34m7\u001b[34m\u001b[39m\n",
      "\n",
      "\u001b[36m──\u001b[39m \u001b[1m\u001b[1mColumn specification\u001b[1m\u001b[22m \u001b[36m────────────────────────────────────────────────────────────────────────────────────────────────────────\u001b[39m\n",
      "\u001b[1mDelimiter:\u001b[22m \"\\t\"\n",
      "\u001b[31mchr\u001b[39m (3): SNP, A1, A2\n",
      "\u001b[32mdbl\u001b[39m (4): Z, N, chi2, P\n",
      "\n",
      "\n",
      "\u001b[36mℹ\u001b[39m Use \u001b[30m\u001b[47m\u001b[30m\u001b[47m`spec()`\u001b[47m\u001b[30m\u001b[49m\u001b[39m to retrieve the full column specification for this data.\n",
      "\u001b[36mℹ\u001b[39m Specify the column types or set \u001b[30m\u001b[47m\u001b[30m\u001b[47m`show_col_types = FALSE`\u001b[47m\u001b[30m\u001b[49m\u001b[39m to quiet this message.\n",
      "\n",
      "\u001b[1m\u001b[1mRows: \u001b[1m\u001b[22m\u001b[34m\u001b[34m1037702\u001b[34m\u001b[39m \u001b[1m\u001b[1mColumns: \u001b[1m\u001b[22m\u001b[34m\u001b[34m7\u001b[34m\u001b[39m\n",
      "\n",
      "\u001b[36m──\u001b[39m \u001b[1m\u001b[1mColumn specification\u001b[1m\u001b[22m \u001b[36m────────────────────────────────────────────────────────────────────────────────────────────────────────\u001b[39m\n",
      "\u001b[1mDelimiter:\u001b[22m \"\\t\"\n",
      "\u001b[31mchr\u001b[39m (3): SNP, A1, A2\n",
      "\u001b[32mdbl\u001b[39m (4): Z, N, chi2, P\n",
      "\n",
      "\n",
      "\u001b[36mℹ\u001b[39m Use \u001b[30m\u001b[47m\u001b[30m\u001b[47m`spec()`\u001b[47m\u001b[30m\u001b[49m\u001b[39m to retrieve the full column specification for this data.\n",
      "\u001b[36mℹ\u001b[39m Specify the column types or set \u001b[30m\u001b[47m\u001b[30m\u001b[47m`show_col_types = FALSE`\u001b[47m\u001b[30m\u001b[49m\u001b[39m to quiet this message.\n",
      "\n"
     ]
    },
    {
     "name": "stdout",
     "output_type": "stream",
     "text": [
      "Formatting X1\n",
      "There are  1037824  variants.\n",
      "Removing  0  duplicated variants leaving  1037824 variants.\n",
      "No variants have illegal alleles.\n",
      "Removed  0  variants with ambiguous strand.\n",
      "Flipping strand and effect allele so A1 is always A\n",
      "Returning  1037824  variants.\n",
      "Formatting X2\n",
      "There are  1037702  variants.\n",
      "Removing  0  duplicated variants leaving  1037702 variants.\n",
      "No variants have illegal alleles.\n",
      "Removed  0  variants with ambiguous strand.\n",
      "Flipping strand and effect allele so A1 is always A\n",
      "Returning  1037702  variants.\n",
      "After merging and removing variants with inconsistent alleles,  there are  1037702  variants that are present in both studies and can be used with CAUSE.\n"
     ]
    },
    {
     "name": "stderr",
     "output_type": "stream",
     "text": [
      "Clumping Y690vX, 15595 variants, using EUR population reference\n",
      "\n",
      "Removing 13504 of 15595 variants due to LD with other variants or absence from LD reference panel\n",
      "\n"
     ]
    },
    {
     "name": "stdout",
     "output_type": "stream",
     "text": [
      "Estimating CAUSE parameters with  1000000  variants.\n",
      "1 0.1937663 \n",
      "2 0.00186626 \n",
      "3 9.531678e-05 \n",
      "4 4.90671e-06 \n",
      "5 2.533018e-07 \n",
      "6 1.222187e-08 \n",
      "Estimating CAUSE posteriors using  2091  variants.\n"
     ]
    },
    {
     "name": "stderr",
     "output_type": "stream",
     "text": [
      "Warning message:\n",
      "“'compare' is deprecated.\n",
      "Use 'loo_compare' instead.\n",
      "See help(\"Deprecated\")”\n"
     ]
    },
    {
     "name": "stdout",
     "output_type": "stream",
     "text": [
      "    user   system  elapsed \n",
      "3405.142 2486.149  526.611 \n",
      "Intelligence ~ Hair_Blonde \n"
     ]
    },
    {
     "name": "stderr",
     "output_type": "stream",
     "text": [
      "\u001b[1m\u001b[1mRows: \u001b[1m\u001b[22m\u001b[34m\u001b[34m1037824\u001b[34m\u001b[39m \u001b[1m\u001b[1mColumns: \u001b[1m\u001b[22m\u001b[34m\u001b[34m7\u001b[34m\u001b[39m\n",
      "\n",
      "\u001b[36m──\u001b[39m \u001b[1m\u001b[1mColumn specification\u001b[1m\u001b[22m \u001b[36m────────────────────────────────────────────────────────────────────────────────────────────────────────\u001b[39m\n",
      "\u001b[1mDelimiter:\u001b[22m \"\\t\"\n",
      "\u001b[31mchr\u001b[39m (3): SNP, A1, A2\n",
      "\u001b[32mdbl\u001b[39m (4): Z, N, chi2, P\n",
      "\n",
      "\n",
      "\u001b[36mℹ\u001b[39m Use \u001b[30m\u001b[47m\u001b[30m\u001b[47m`spec()`\u001b[47m\u001b[30m\u001b[49m\u001b[39m to retrieve the full column specification for this data.\n",
      "\u001b[36mℹ\u001b[39m Specify the column types or set \u001b[30m\u001b[47m\u001b[30m\u001b[47m`show_col_types = FALSE`\u001b[47m\u001b[30m\u001b[49m\u001b[39m to quiet this message.\n",
      "\n",
      "\u001b[1m\u001b[1mRows: \u001b[1m\u001b[22m\u001b[34m\u001b[34m1037533\u001b[34m\u001b[39m \u001b[1m\u001b[1mColumns: \u001b[1m\u001b[22m\u001b[34m\u001b[34m7\u001b[34m\u001b[39m\n",
      "\n",
      "\u001b[36m──\u001b[39m \u001b[1m\u001b[1mColumn specification\u001b[1m\u001b[22m \u001b[36m────────────────────────────────────────────────────────────────────────────────────────────────────────\u001b[39m\n",
      "\u001b[1mDelimiter:\u001b[22m \"\\t\"\n",
      "\u001b[31mchr\u001b[39m (3): SNP, A1, A2\n",
      "\u001b[32mdbl\u001b[39m (4): Z, N, chi2, P\n",
      "\n",
      "\n",
      "\u001b[36mℹ\u001b[39m Use \u001b[30m\u001b[47m\u001b[30m\u001b[47m`spec()`\u001b[47m\u001b[30m\u001b[49m\u001b[39m to retrieve the full column specification for this data.\n",
      "\u001b[36mℹ\u001b[39m Specify the column types or set \u001b[30m\u001b[47m\u001b[30m\u001b[47m`show_col_types = FALSE`\u001b[47m\u001b[30m\u001b[49m\u001b[39m to quiet this message.\n",
      "\n"
     ]
    },
    {
     "name": "stdout",
     "output_type": "stream",
     "text": [
      "Formatting X1\n",
      "There are  1037824  variants.\n",
      "Removing  0  duplicated variants leaving  1037824 variants.\n",
      "No variants have illegal alleles.\n",
      "Removed  0  variants with ambiguous strand.\n",
      "Flipping strand and effect allele so A1 is always A\n",
      "Returning  1037824  variants.\n",
      "Formatting X2\n",
      "There are  1037533  variants.\n",
      "Removing  0  duplicated variants leaving  1037533 variants.\n",
      "No variants have illegal alleles.\n",
      "Removed  0  variants with ambiguous strand.\n",
      "Flipping strand and effect allele so A1 is always A\n",
      "Returning  1037533  variants.\n",
      "After merging and removing variants with inconsistent alleles,  there are  1037533  variants that are present in both studies and can be used with CAUSE.\n"
     ]
    },
    {
     "name": "stderr",
     "output_type": "stream",
     "text": [
      "Clumping 0ZFZWT, 15595 variants, using EUR population reference\n",
      "\n",
      "Removing 13504 of 15595 variants due to LD with other variants or absence from LD reference panel\n",
      "\n"
     ]
    },
    {
     "name": "stdout",
     "output_type": "stream",
     "text": [
      "Estimating CAUSE parameters with  1000000  variants.\n",
      "1 0.005018216 \n",
      "2 1.417964e-05 \n",
      "3 3.96645e-08 \n",
      "Estimating CAUSE posteriors using  2091  variants.\n"
     ]
    },
    {
     "name": "stderr",
     "output_type": "stream",
     "text": [
      "Warning message:\n",
      "“'compare' is deprecated.\n",
      "Use 'loo_compare' instead.\n",
      "See help(\"Deprecated\")”\n"
     ]
    },
    {
     "name": "stdout",
     "output_type": "stream",
     "text": [
      "    user   system  elapsed \n",
      "2371.224 1720.632  374.189 \n",
      "Intelligence ~ Tanning \n"
     ]
    },
    {
     "name": "stderr",
     "output_type": "stream",
     "text": [
      "\u001b[1m\u001b[1mRows: \u001b[1m\u001b[22m\u001b[34m\u001b[34m1037824\u001b[34m\u001b[39m \u001b[1m\u001b[1mColumns: \u001b[1m\u001b[22m\u001b[34m\u001b[34m7\u001b[34m\u001b[39m\n",
      "\n",
      "\u001b[36m──\u001b[39m \u001b[1m\u001b[1mColumn specification\u001b[1m\u001b[22m \u001b[36m────────────────────────────────────────────────────────────────────────────────────────────────────────\u001b[39m\n",
      "\u001b[1mDelimiter:\u001b[22m \"\\t\"\n",
      "\u001b[31mchr\u001b[39m (3): SNP, A1, A2\n",
      "\u001b[32mdbl\u001b[39m (4): Z, N, chi2, P\n",
      "\n",
      "\n",
      "\u001b[36mℹ\u001b[39m Use \u001b[30m\u001b[47m\u001b[30m\u001b[47m`spec()`\u001b[47m\u001b[30m\u001b[49m\u001b[39m to retrieve the full column specification for this data.\n",
      "\u001b[36mℹ\u001b[39m Specify the column types or set \u001b[30m\u001b[47m\u001b[30m\u001b[47m`show_col_types = FALSE`\u001b[47m\u001b[30m\u001b[49m\u001b[39m to quiet this message.\n",
      "\n",
      "\u001b[1m\u001b[1mRows: \u001b[1m\u001b[22m\u001b[34m\u001b[34m1037026\u001b[34m\u001b[39m \u001b[1m\u001b[1mColumns: \u001b[1m\u001b[22m\u001b[34m\u001b[34m7\u001b[34m\u001b[39m\n",
      "\n",
      "\u001b[36m──\u001b[39m \u001b[1m\u001b[1mColumn specification\u001b[1m\u001b[22m \u001b[36m────────────────────────────────────────────────────────────────────────────────────────────────────────\u001b[39m\n",
      "\u001b[1mDelimiter:\u001b[22m \"\\t\"\n",
      "\u001b[31mchr\u001b[39m (3): SNP, A1, A2\n",
      "\u001b[32mdbl\u001b[39m (4): Z, N, chi2, P\n",
      "\n",
      "\n",
      "\u001b[36mℹ\u001b[39m Use \u001b[30m\u001b[47m\u001b[30m\u001b[47m`spec()`\u001b[47m\u001b[30m\u001b[49m\u001b[39m to retrieve the full column specification for this data.\n",
      "\u001b[36mℹ\u001b[39m Specify the column types or set \u001b[30m\u001b[47m\u001b[30m\u001b[47m`show_col_types = FALSE`\u001b[47m\u001b[30m\u001b[49m\u001b[39m to quiet this message.\n",
      "\n"
     ]
    },
    {
     "name": "stdout",
     "output_type": "stream",
     "text": [
      "Formatting X1\n",
      "There are  1037824  variants.\n",
      "Removing  0  duplicated variants leaving  1037824 variants.\n",
      "No variants have illegal alleles.\n",
      "Removed  0  variants with ambiguous strand.\n",
      "Flipping strand and effect allele so A1 is always A\n",
      "Returning  1037824  variants.\n",
      "Formatting X2\n",
      "There are  1037026  variants.\n",
      "Removing  0  duplicated variants leaving  1037026 variants.\n",
      "No variants have illegal alleles.\n",
      "Removed  0  variants with ambiguous strand.\n",
      "Flipping strand and effect allele so A1 is always A\n",
      "Returning  1037026  variants.\n",
      "After merging and removing variants with inconsistent alleles,  there are  1037026  variants that are present in both studies and can be used with CAUSE.\n"
     ]
    },
    {
     "name": "stderr",
     "output_type": "stream",
     "text": [
      "Clumping b6oFt5, 15590 variants, using EUR population reference\n",
      "\n",
      "Removing 13501 of 15590 variants due to LD with other variants or absence from LD reference panel\n",
      "\n"
     ]
    },
    {
     "name": "stdout",
     "output_type": "stream",
     "text": [
      "Estimating CAUSE parameters with  1000000  variants.\n",
      "1 0.2437923 \n",
      "2 0.003729057 \n",
      "3 0.0002127083 \n",
      "4 1.228515e-05 \n",
      "5 7.101256e-07 \n",
      "6 4.09996e-08 \n",
      "Estimating CAUSE posteriors using  2089  variants.\n"
     ]
    },
    {
     "name": "stderr",
     "output_type": "stream",
     "text": [
      "Warning message:\n",
      "“'compare' is deprecated.\n",
      "Use 'loo_compare' instead.\n",
      "See help(\"Deprecated\")”\n"
     ]
    },
    {
     "name": "stdout",
     "output_type": "stream",
     "text": [
      "    user   system  elapsed \n",
      "3561.693 2478.391  557.351 \n",
      "RA ~ Hair_Light_Brown \n"
     ]
    },
    {
     "name": "stderr",
     "output_type": "stream",
     "text": [
      "\u001b[1m\u001b[1mRows: \u001b[1m\u001b[22m\u001b[34m\u001b[34m1180049\u001b[34m\u001b[39m \u001b[1m\u001b[1mColumns: \u001b[1m\u001b[22m\u001b[34m\u001b[34m7\u001b[34m\u001b[39m\n",
      "\n",
      "\u001b[36m──\u001b[39m \u001b[1m\u001b[1mColumn specification\u001b[1m\u001b[22m \u001b[36m────────────────────────────────────────────────────────────────────────────────────────────────────────\u001b[39m\n",
      "\u001b[1mDelimiter:\u001b[22m \"\\t\"\n",
      "\u001b[31mchr\u001b[39m (3): SNP, A1, A2\n",
      "\u001b[32mdbl\u001b[39m (4): Z, N, chi2, P\n",
      "\n",
      "\n",
      "\u001b[36mℹ\u001b[39m Use \u001b[30m\u001b[47m\u001b[30m\u001b[47m`spec()`\u001b[47m\u001b[30m\u001b[49m\u001b[39m to retrieve the full column specification for this data.\n",
      "\u001b[36mℹ\u001b[39m Specify the column types or set \u001b[30m\u001b[47m\u001b[30m\u001b[47m`show_col_types = FALSE`\u001b[47m\u001b[30m\u001b[49m\u001b[39m to quiet this message.\n",
      "\n",
      "\u001b[1m\u001b[1mRows: \u001b[1m\u001b[22m\u001b[34m\u001b[34m1037742\u001b[34m\u001b[39m \u001b[1m\u001b[1mColumns: \u001b[1m\u001b[22m\u001b[34m\u001b[34m7\u001b[34m\u001b[39m\n",
      "\n",
      "\u001b[36m──\u001b[39m \u001b[1m\u001b[1mColumn specification\u001b[1m\u001b[22m \u001b[36m────────────────────────────────────────────────────────────────────────────────────────────────────────\u001b[39m\n",
      "\u001b[1mDelimiter:\u001b[22m \"\\t\"\n",
      "\u001b[31mchr\u001b[39m (3): SNP, A1, A2\n",
      "\u001b[32mdbl\u001b[39m (4): Z, N, chi2, P\n",
      "\n",
      "\n",
      "\u001b[36mℹ\u001b[39m Use \u001b[30m\u001b[47m\u001b[30m\u001b[47m`spec()`\u001b[47m\u001b[30m\u001b[49m\u001b[39m to retrieve the full column specification for this data.\n",
      "\u001b[36mℹ\u001b[39m Specify the column types or set \u001b[30m\u001b[47m\u001b[30m\u001b[47m`show_col_types = FALSE`\u001b[47m\u001b[30m\u001b[49m\u001b[39m to quiet this message.\n",
      "\n"
     ]
    },
    {
     "name": "stdout",
     "output_type": "stream",
     "text": [
      "Formatting X1\n",
      "There are  1180049  variants.\n",
      "Removing  0  duplicated variants leaving  1180049 variants.\n",
      "No variants have illegal alleles.\n",
      "Removed  0  variants with ambiguous strand.\n",
      "Flipping strand and effect allele so A1 is always A\n",
      "Returning  1180049  variants.\n",
      "Formatting X2\n",
      "There are  1037742  variants.\n",
      "Removing  0  duplicated variants leaving  1037742 variants.\n",
      "No variants have illegal alleles.\n",
      "Removed  0  variants with ambiguous strand.\n",
      "Flipping strand and effect allele so A1 is always A\n",
      "Returning  1037742  variants.\n",
      "After merging and removing variants with inconsistent alleles,  there are  1029683  variants that are present in both studies and can be used with CAUSE.\n"
     ]
    },
    {
     "name": "stderr",
     "output_type": "stream",
     "text": [
      "Clumping difxTJ, 4360 variants, using EUR population reference\n",
      "\n",
      "Removing 3705 of 4360 variants due to LD with other variants or absence from LD reference panel\n",
      "\n"
     ]
    },
    {
     "name": "stdout",
     "output_type": "stream",
     "text": [
      "Estimating CAUSE parameters with  1000000  variants.\n",
      "1 0.02074749 \n",
      "2 1.131353e-05 \n",
      "3 1.627291e-08 \n",
      "Estimating CAUSE posteriors using  655  variants.\n"
     ]
    },
    {
     "name": "stderr",
     "output_type": "stream",
     "text": [
      "Warning message:\n",
      "“'compare' is deprecated.\n",
      "Use 'loo_compare' instead.\n",
      "See help(\"Deprecated\")”\n"
     ]
    },
    {
     "name": "stdout",
     "output_type": "stream",
     "text": [
      "    user   system  elapsed \n",
      "2430.642 1630.737  429.449 \n",
      "RA ~ Hair_Dark_Brown \n"
     ]
    },
    {
     "name": "stderr",
     "output_type": "stream",
     "text": [
      "\u001b[1m\u001b[1mRows: \u001b[1m\u001b[22m\u001b[34m\u001b[34m1180049\u001b[34m\u001b[39m \u001b[1m\u001b[1mColumns: \u001b[1m\u001b[22m\u001b[34m\u001b[34m7\u001b[34m\u001b[39m\n",
      "\n",
      "\u001b[36m──\u001b[39m \u001b[1m\u001b[1mColumn specification\u001b[1m\u001b[22m \u001b[36m────────────────────────────────────────────────────────────────────────────────────────────────────────\u001b[39m\n",
      "\u001b[1mDelimiter:\u001b[22m \"\\t\"\n",
      "\u001b[31mchr\u001b[39m (3): SNP, A1, A2\n",
      "\u001b[32mdbl\u001b[39m (4): Z, N, chi2, P\n",
      "\n",
      "\n",
      "\u001b[36mℹ\u001b[39m Use \u001b[30m\u001b[47m\u001b[30m\u001b[47m`spec()`\u001b[47m\u001b[30m\u001b[49m\u001b[39m to retrieve the full column specification for this data.\n",
      "\u001b[36mℹ\u001b[39m Specify the column types or set \u001b[30m\u001b[47m\u001b[30m\u001b[47m`show_col_types = FALSE`\u001b[47m\u001b[30m\u001b[49m\u001b[39m to quiet this message.\n",
      "\n",
      "\u001b[1m\u001b[1mRows: \u001b[1m\u001b[22m\u001b[34m\u001b[34m1037381\u001b[34m\u001b[39m \u001b[1m\u001b[1mColumns: \u001b[1m\u001b[22m\u001b[34m\u001b[34m7\u001b[34m\u001b[39m\n",
      "\n",
      "\u001b[36m──\u001b[39m \u001b[1m\u001b[1mColumn specification\u001b[1m\u001b[22m \u001b[36m────────────────────────────────────────────────────────────────────────────────────────────────────────\u001b[39m\n",
      "\u001b[1mDelimiter:\u001b[22m \"\\t\"\n",
      "\u001b[31mchr\u001b[39m (3): SNP, A1, A2\n",
      "\u001b[32mdbl\u001b[39m (4): Z, N, chi2, P\n",
      "\n",
      "\n",
      "\u001b[36mℹ\u001b[39m Use \u001b[30m\u001b[47m\u001b[30m\u001b[47m`spec()`\u001b[47m\u001b[30m\u001b[49m\u001b[39m to retrieve the full column specification for this data.\n",
      "\u001b[36mℹ\u001b[39m Specify the column types or set \u001b[30m\u001b[47m\u001b[30m\u001b[47m`show_col_types = FALSE`\u001b[47m\u001b[30m\u001b[49m\u001b[39m to quiet this message.\n",
      "\n"
     ]
    },
    {
     "name": "stdout",
     "output_type": "stream",
     "text": [
      "Formatting X1\n",
      "There are  1180049  variants.\n",
      "Removing  0  duplicated variants leaving  1180049 variants.\n",
      "No variants have illegal alleles.\n",
      "Removed  0  variants with ambiguous strand.\n",
      "Flipping strand and effect allele so A1 is always A\n",
      "Returning  1180049  variants.\n",
      "Formatting X2\n",
      "There are  1037381  variants.\n",
      "Removing  0  duplicated variants leaving  1037381 variants.\n",
      "No variants have illegal alleles.\n",
      "Removed  0  variants with ambiguous strand.\n",
      "Flipping strand and effect allele so A1 is always A\n",
      "Returning  1037381  variants.\n",
      "After merging and removing variants with inconsistent alleles,  there are  1029322  variants that are present in both studies and can be used with CAUSE.\n"
     ]
    },
    {
     "name": "stderr",
     "output_type": "stream",
     "text": [
      "Clumping bihRYM, 4356 variants, using EUR population reference\n",
      "\n",
      "Removing 3700 of 4356 variants due to LD with other variants or absence from LD reference panel\n",
      "\n"
     ]
    },
    {
     "name": "stdout",
     "output_type": "stream",
     "text": [
      "Estimating CAUSE parameters with  1000000  variants.\n",
      "1 0.02324272 \n",
      "2 1.032737e-05 \n",
      "3 1.794784e-08 \n",
      "Estimating CAUSE posteriors using  656  variants.\n"
     ]
    },
    {
     "name": "stderr",
     "output_type": "stream",
     "text": [
      "Warning message:\n",
      "“'compare' is deprecated.\n",
      "Use 'loo_compare' instead.\n",
      "See help(\"Deprecated\")”\n"
     ]
    },
    {
     "name": "stdout",
     "output_type": "stream",
     "text": [
      "    user   system  elapsed \n",
      "2085.849 1610.191  381.921 \n",
      "RA ~ Hair_Black \n"
     ]
    },
    {
     "name": "stderr",
     "output_type": "stream",
     "text": [
      "\u001b[1m\u001b[1mRows: \u001b[1m\u001b[22m\u001b[34m\u001b[34m1180049\u001b[34m\u001b[39m \u001b[1m\u001b[1mColumns: \u001b[1m\u001b[22m\u001b[34m\u001b[34m7\u001b[34m\u001b[39m\n",
      "\n",
      "\u001b[36m──\u001b[39m \u001b[1m\u001b[1mColumn specification\u001b[1m\u001b[22m \u001b[36m────────────────────────────────────────────────────────────────────────────────────────────────────────\u001b[39m\n",
      "\u001b[1mDelimiter:\u001b[22m \"\\t\"\n",
      "\u001b[31mchr\u001b[39m (3): SNP, A1, A2\n",
      "\u001b[32mdbl\u001b[39m (4): Z, N, chi2, P\n",
      "\n",
      "\n",
      "\u001b[36mℹ\u001b[39m Use \u001b[30m\u001b[47m\u001b[30m\u001b[47m`spec()`\u001b[47m\u001b[30m\u001b[49m\u001b[39m to retrieve the full column specification for this data.\n",
      "\u001b[36mℹ\u001b[39m Specify the column types or set \u001b[30m\u001b[47m\u001b[30m\u001b[47m`show_col_types = FALSE`\u001b[47m\u001b[30m\u001b[49m\u001b[39m to quiet this message.\n",
      "\n",
      "\u001b[1m\u001b[1mRows: \u001b[1m\u001b[22m\u001b[34m\u001b[34m1037702\u001b[34m\u001b[39m \u001b[1m\u001b[1mColumns: \u001b[1m\u001b[22m\u001b[34m\u001b[34m7\u001b[34m\u001b[39m\n",
      "\n",
      "\u001b[36m──\u001b[39m \u001b[1m\u001b[1mColumn specification\u001b[1m\u001b[22m \u001b[36m────────────────────────────────────────────────────────────────────────────────────────────────────────\u001b[39m\n",
      "\u001b[1mDelimiter:\u001b[22m \"\\t\"\n",
      "\u001b[31mchr\u001b[39m (3): SNP, A1, A2\n",
      "\u001b[32mdbl\u001b[39m (4): Z, N, chi2, P\n",
      "\n",
      "\n",
      "\u001b[36mℹ\u001b[39m Use \u001b[30m\u001b[47m\u001b[30m\u001b[47m`spec()`\u001b[47m\u001b[30m\u001b[49m\u001b[39m to retrieve the full column specification for this data.\n",
      "\u001b[36mℹ\u001b[39m Specify the column types or set \u001b[30m\u001b[47m\u001b[30m\u001b[47m`show_col_types = FALSE`\u001b[47m\u001b[30m\u001b[49m\u001b[39m to quiet this message.\n",
      "\n"
     ]
    },
    {
     "name": "stdout",
     "output_type": "stream",
     "text": [
      "Formatting X1\n",
      "There are  1180049  variants.\n",
      "Removing  0  duplicated variants leaving  1180049 variants.\n",
      "No variants have illegal alleles.\n",
      "Removed  0  variants with ambiguous strand.\n",
      "Flipping strand and effect allele so A1 is always A\n",
      "Returning  1180049  variants.\n",
      "Formatting X2\n",
      "There are  1037702  variants.\n",
      "Removing  0  duplicated variants leaving  1037702 variants.\n",
      "No variants have illegal alleles.\n",
      "Removed  0  variants with ambiguous strand.\n",
      "Flipping strand and effect allele so A1 is always A\n",
      "Returning  1037702  variants.\n",
      "After merging and removing variants with inconsistent alleles,  there are  1029642  variants that are present in both studies and can be used with CAUSE.\n"
     ]
    },
    {
     "name": "stderr",
     "output_type": "stream",
     "text": [
      "Clumping 9danlE, 4357 variants, using EUR population reference\n",
      "\n",
      "Removing 3701 of 4357 variants due to LD with other variants or absence from LD reference panel\n",
      "\n"
     ]
    },
    {
     "name": "stdout",
     "output_type": "stream",
     "text": [
      "Estimating CAUSE parameters with  1000000  variants.\n",
      "1 0.02070677 \n",
      "2 3.17556e-06 \n",
      "3 1.855569e-08 \n",
      "Estimating CAUSE posteriors using  656  variants.\n"
     ]
    },
    {
     "name": "stderr",
     "output_type": "stream",
     "text": [
      "Warning message:\n",
      "“'compare' is deprecated.\n",
      "Use 'loo_compare' instead.\n",
      "See help(\"Deprecated\")”\n"
     ]
    },
    {
     "name": "stdout",
     "output_type": "stream",
     "text": [
      "    user   system  elapsed \n",
      "1832.541 1481.525  343.612 \n",
      "RA ~ Hair_Blonde \n"
     ]
    },
    {
     "name": "stderr",
     "output_type": "stream",
     "text": [
      "\u001b[1m\u001b[1mRows: \u001b[1m\u001b[22m\u001b[34m\u001b[34m1180049\u001b[34m\u001b[39m \u001b[1m\u001b[1mColumns: \u001b[1m\u001b[22m\u001b[34m\u001b[34m7\u001b[34m\u001b[39m\n",
      "\n",
      "\u001b[36m──\u001b[39m \u001b[1m\u001b[1mColumn specification\u001b[1m\u001b[22m \u001b[36m────────────────────────────────────────────────────────────────────────────────────────────────────────\u001b[39m\n",
      "\u001b[1mDelimiter:\u001b[22m \"\\t\"\n",
      "\u001b[31mchr\u001b[39m (3): SNP, A1, A2\n",
      "\u001b[32mdbl\u001b[39m (4): Z, N, chi2, P\n",
      "\n",
      "\n",
      "\u001b[36mℹ\u001b[39m Use \u001b[30m\u001b[47m\u001b[30m\u001b[47m`spec()`\u001b[47m\u001b[30m\u001b[49m\u001b[39m to retrieve the full column specification for this data.\n",
      "\u001b[36mℹ\u001b[39m Specify the column types or set \u001b[30m\u001b[47m\u001b[30m\u001b[47m`show_col_types = FALSE`\u001b[47m\u001b[30m\u001b[49m\u001b[39m to quiet this message.\n",
      "\n",
      "\u001b[1m\u001b[1mRows: \u001b[1m\u001b[22m\u001b[34m\u001b[34m1037533\u001b[34m\u001b[39m \u001b[1m\u001b[1mColumns: \u001b[1m\u001b[22m\u001b[34m\u001b[34m7\u001b[34m\u001b[39m\n",
      "\n",
      "\u001b[36m──\u001b[39m \u001b[1m\u001b[1mColumn specification\u001b[1m\u001b[22m \u001b[36m────────────────────────────────────────────────────────────────────────────────────────────────────────\u001b[39m\n",
      "\u001b[1mDelimiter:\u001b[22m \"\\t\"\n",
      "\u001b[31mchr\u001b[39m (3): SNP, A1, A2\n",
      "\u001b[32mdbl\u001b[39m (4): Z, N, chi2, P\n",
      "\n",
      "\n",
      "\u001b[36mℹ\u001b[39m Use \u001b[30m\u001b[47m\u001b[30m\u001b[47m`spec()`\u001b[47m\u001b[30m\u001b[49m\u001b[39m to retrieve the full column specification for this data.\n",
      "\u001b[36mℹ\u001b[39m Specify the column types or set \u001b[30m\u001b[47m\u001b[30m\u001b[47m`show_col_types = FALSE`\u001b[47m\u001b[30m\u001b[49m\u001b[39m to quiet this message.\n",
      "\n"
     ]
    },
    {
     "name": "stdout",
     "output_type": "stream",
     "text": [
      "Formatting X1\n",
      "There are  1180049  variants.\n",
      "Removing  0  duplicated variants leaving  1180049 variants.\n",
      "No variants have illegal alleles.\n",
      "Removed  0  variants with ambiguous strand.\n",
      "Flipping strand and effect allele so A1 is always A\n",
      "Returning  1180049  variants.\n",
      "Formatting X2\n",
      "There are  1037533  variants.\n",
      "Removing  0  duplicated variants leaving  1037533 variants.\n",
      "No variants have illegal alleles.\n",
      "Removed  0  variants with ambiguous strand.\n",
      "Flipping strand and effect allele so A1 is always A\n",
      "Returning  1037533  variants.\n",
      "After merging and removing variants with inconsistent alleles,  there are  1029474  variants that are present in both studies and can be used with CAUSE.\n"
     ]
    },
    {
     "name": "stderr",
     "output_type": "stream",
     "text": [
      "Clumping OgSMDD, 4357 variants, using EUR population reference\n",
      "\n",
      "Removing 3701 of 4357 variants due to LD with other variants or absence from LD reference panel\n",
      "\n"
     ]
    },
    {
     "name": "stdout",
     "output_type": "stream",
     "text": [
      "Estimating CAUSE parameters with  1000000  variants.\n",
      "1 0.008437931 \n",
      "2 2.223573e-06 \n",
      "3 1.054786e-09 \n",
      "Estimating CAUSE posteriors using  656  variants.\n"
     ]
    },
    {
     "name": "stderr",
     "output_type": "stream",
     "text": [
      "Warning message:\n",
      "“'compare' is deprecated.\n",
      "Use 'loo_compare' instead.\n",
      "See help(\"Deprecated\")”\n"
     ]
    },
    {
     "name": "stdout",
     "output_type": "stream",
     "text": [
      "    user   system  elapsed \n",
      "1950.708 1631.429  354.108 \n",
      "RA ~ Tanning \n"
     ]
    },
    {
     "name": "stderr",
     "output_type": "stream",
     "text": [
      "\u001b[1m\u001b[1mRows: \u001b[1m\u001b[22m\u001b[34m\u001b[34m1180049\u001b[34m\u001b[39m \u001b[1m\u001b[1mColumns: \u001b[1m\u001b[22m\u001b[34m\u001b[34m7\u001b[34m\u001b[39m\n",
      "\n",
      "\u001b[36m──\u001b[39m \u001b[1m\u001b[1mColumn specification\u001b[1m\u001b[22m \u001b[36m────────────────────────────────────────────────────────────────────────────────────────────────────────\u001b[39m\n",
      "\u001b[1mDelimiter:\u001b[22m \"\\t\"\n",
      "\u001b[31mchr\u001b[39m (3): SNP, A1, A2\n",
      "\u001b[32mdbl\u001b[39m (4): Z, N, chi2, P\n",
      "\n",
      "\n",
      "\u001b[36mℹ\u001b[39m Use \u001b[30m\u001b[47m\u001b[30m\u001b[47m`spec()`\u001b[47m\u001b[30m\u001b[49m\u001b[39m to retrieve the full column specification for this data.\n",
      "\u001b[36mℹ\u001b[39m Specify the column types or set \u001b[30m\u001b[47m\u001b[30m\u001b[47m`show_col_types = FALSE`\u001b[47m\u001b[30m\u001b[49m\u001b[39m to quiet this message.\n",
      "\n",
      "\u001b[1m\u001b[1mRows: \u001b[1m\u001b[22m\u001b[34m\u001b[34m1037026\u001b[34m\u001b[39m \u001b[1m\u001b[1mColumns: \u001b[1m\u001b[22m\u001b[34m\u001b[34m7\u001b[34m\u001b[39m\n",
      "\n",
      "\u001b[36m──\u001b[39m \u001b[1m\u001b[1mColumn specification\u001b[1m\u001b[22m \u001b[36m────────────────────────────────────────────────────────────────────────────────────────────────────────\u001b[39m\n",
      "\u001b[1mDelimiter:\u001b[22m \"\\t\"\n",
      "\u001b[31mchr\u001b[39m (3): SNP, A1, A2\n",
      "\u001b[32mdbl\u001b[39m (4): Z, N, chi2, P\n",
      "\n",
      "\n",
      "\u001b[36mℹ\u001b[39m Use \u001b[30m\u001b[47m\u001b[30m\u001b[47m`spec()`\u001b[47m\u001b[30m\u001b[49m\u001b[39m to retrieve the full column specification for this data.\n",
      "\u001b[36mℹ\u001b[39m Specify the column types or set \u001b[30m\u001b[47m\u001b[30m\u001b[47m`show_col_types = FALSE`\u001b[47m\u001b[30m\u001b[49m\u001b[39m to quiet this message.\n",
      "\n"
     ]
    },
    {
     "name": "stdout",
     "output_type": "stream",
     "text": [
      "Formatting X1\n",
      "There are  1180049  variants.\n",
      "Removing  0  duplicated variants leaving  1180049 variants.\n",
      "No variants have illegal alleles.\n",
      "Removed  0  variants with ambiguous strand.\n",
      "Flipping strand and effect allele so A1 is always A\n",
      "Returning  1180049  variants.\n",
      "Formatting X2\n",
      "There are  1037026  variants.\n",
      "Removing  0  duplicated variants leaving  1037026 variants.\n",
      "No variants have illegal alleles.\n",
      "Removed  0  variants with ambiguous strand.\n",
      "Flipping strand and effect allele so A1 is always A\n",
      "Returning  1037026  variants.\n",
      "After merging and removing variants with inconsistent alleles,  there are  1028974  variants that are present in both studies and can be used with CAUSE.\n"
     ]
    },
    {
     "name": "stderr",
     "output_type": "stream",
     "text": [
      "Clumping VilXux, 4353 variants, using EUR population reference\n",
      "\n",
      "Removing 3698 of 4353 variants due to LD with other variants or absence from LD reference panel\n",
      "\n"
     ]
    },
    {
     "name": "stdout",
     "output_type": "stream",
     "text": [
      "Estimating CAUSE parameters with  1000000  variants.\n",
      "1 0.01267032 \n",
      "2 1.629761e-05 \n",
      "3 2.602826e-08 \n",
      "Estimating CAUSE posteriors using  655  variants.\n"
     ]
    },
    {
     "name": "stderr",
     "output_type": "stream",
     "text": [
      "Warning message:\n",
      "“'compare' is deprecated.\n",
      "Use 'loo_compare' instead.\n",
      "See help(\"Deprecated\")”\n"
     ]
    },
    {
     "name": "stdout",
     "output_type": "stream",
     "text": [
      "    user   system  elapsed \n",
      "1875.845 1532.564  361.452 \n",
      "T2D ~ Hair_Light_Brown \n"
     ]
    },
    {
     "name": "stderr",
     "output_type": "stream",
     "text": [
      "\u001b[1m\u001b[1mRows: \u001b[1m\u001b[22m\u001b[34m\u001b[34m1048310\u001b[34m\u001b[39m \u001b[1m\u001b[1mColumns: \u001b[1m\u001b[22m\u001b[34m\u001b[34m7\u001b[34m\u001b[39m\n",
      "\n",
      "\u001b[36m──\u001b[39m \u001b[1m\u001b[1mColumn specification\u001b[1m\u001b[22m \u001b[36m────────────────────────────────────────────────────────────────────────────────────────────────────────\u001b[39m\n",
      "\u001b[1mDelimiter:\u001b[22m \"\\t\"\n",
      "\u001b[31mchr\u001b[39m (3): SNP, A1, A2\n",
      "\u001b[32mdbl\u001b[39m (4): Z, N, chi2, P\n",
      "\n",
      "\n",
      "\u001b[36mℹ\u001b[39m Use \u001b[30m\u001b[47m\u001b[30m\u001b[47m`spec()`\u001b[47m\u001b[30m\u001b[49m\u001b[39m to retrieve the full column specification for this data.\n",
      "\u001b[36mℹ\u001b[39m Specify the column types or set \u001b[30m\u001b[47m\u001b[30m\u001b[47m`show_col_types = FALSE`\u001b[47m\u001b[30m\u001b[49m\u001b[39m to quiet this message.\n",
      "\n",
      "\u001b[1m\u001b[1mRows: \u001b[1m\u001b[22m\u001b[34m\u001b[34m1037742\u001b[34m\u001b[39m \u001b[1m\u001b[1mColumns: \u001b[1m\u001b[22m\u001b[34m\u001b[34m7\u001b[34m\u001b[39m\n",
      "\n",
      "\u001b[36m──\u001b[39m \u001b[1m\u001b[1mColumn specification\u001b[1m\u001b[22m \u001b[36m────────────────────────────────────────────────────────────────────────────────────────────────────────\u001b[39m\n",
      "\u001b[1mDelimiter:\u001b[22m \"\\t\"\n",
      "\u001b[31mchr\u001b[39m (3): SNP, A1, A2\n",
      "\u001b[32mdbl\u001b[39m (4): Z, N, chi2, P\n",
      "\n",
      "\n",
      "\u001b[36mℹ\u001b[39m Use \u001b[30m\u001b[47m\u001b[30m\u001b[47m`spec()`\u001b[47m\u001b[30m\u001b[49m\u001b[39m to retrieve the full column specification for this data.\n",
      "\u001b[36mℹ\u001b[39m Specify the column types or set \u001b[30m\u001b[47m\u001b[30m\u001b[47m`show_col_types = FALSE`\u001b[47m\u001b[30m\u001b[49m\u001b[39m to quiet this message.\n",
      "\n"
     ]
    },
    {
     "name": "stdout",
     "output_type": "stream",
     "text": [
      "Formatting X1\n",
      "There are  1048310  variants.\n",
      "Removing  0  duplicated variants leaving  1048310 variants.\n",
      "No variants have illegal alleles.\n",
      "Removed  0  variants with ambiguous strand.\n",
      "Flipping strand and effect allele so A1 is always A\n",
      "Returning  1048310  variants.\n",
      "Formatting X2\n",
      "There are  1037742  variants.\n",
      "Removing  0  duplicated variants leaving  1037742 variants.\n",
      "No variants have illegal alleles.\n",
      "Removed  0  variants with ambiguous strand.\n",
      "Flipping strand and effect allele so A1 is always A\n",
      "Returning  1037742  variants.\n",
      "After merging and removing variants with inconsistent alleles,  there are  1003558  variants that are present in both studies and can be used with CAUSE.\n"
     ]
    },
    {
     "name": "stderr",
     "output_type": "stream",
     "text": [
      "Clumping yjbPGP, 25537 variants, using EUR population reference\n",
      "\n",
      "Removing 22698 of 25537 variants due to LD with other variants or absence from LD reference panel\n",
      "\n"
     ]
    },
    {
     "name": "stdout",
     "output_type": "stream",
     "text": [
      "Estimating CAUSE parameters with  1000000  variants.\n",
      "1 0.02155943 \n",
      "2 4.471204e-05 \n",
      "3 1.283882e-07 \n",
      "4 1.196664e-09 \n",
      "Estimating CAUSE posteriors using  2839  variants.\n"
     ]
    },
    {
     "name": "stderr",
     "output_type": "stream",
     "text": [
      "Warning message:\n",
      "“'compare' is deprecated.\n",
      "Use 'loo_compare' instead.\n",
      "See help(\"Deprecated\")”\n"
     ]
    },
    {
     "name": "stdout",
     "output_type": "stream",
     "text": [
      "    user   system  elapsed \n",
      "3587.781 2122.412  523.893 \n",
      "T2D ~ Hair_Dark_Brown \n"
     ]
    },
    {
     "name": "stderr",
     "output_type": "stream",
     "text": [
      "\u001b[1m\u001b[1mRows: \u001b[1m\u001b[22m\u001b[34m\u001b[34m1048310\u001b[34m\u001b[39m \u001b[1m\u001b[1mColumns: \u001b[1m\u001b[22m\u001b[34m\u001b[34m7\u001b[34m\u001b[39m\n",
      "\n",
      "\u001b[36m──\u001b[39m \u001b[1m\u001b[1mColumn specification\u001b[1m\u001b[22m \u001b[36m────────────────────────────────────────────────────────────────────────────────────────────────────────\u001b[39m\n",
      "\u001b[1mDelimiter:\u001b[22m \"\\t\"\n",
      "\u001b[31mchr\u001b[39m (3): SNP, A1, A2\n",
      "\u001b[32mdbl\u001b[39m (4): Z, N, chi2, P\n",
      "\n",
      "\n",
      "\u001b[36mℹ\u001b[39m Use \u001b[30m\u001b[47m\u001b[30m\u001b[47m`spec()`\u001b[47m\u001b[30m\u001b[49m\u001b[39m to retrieve the full column specification for this data.\n",
      "\u001b[36mℹ\u001b[39m Specify the column types or set \u001b[30m\u001b[47m\u001b[30m\u001b[47m`show_col_types = FALSE`\u001b[47m\u001b[30m\u001b[49m\u001b[39m to quiet this message.\n",
      "\n",
      "\u001b[1m\u001b[1mRows: \u001b[1m\u001b[22m\u001b[34m\u001b[34m1037381\u001b[34m\u001b[39m \u001b[1m\u001b[1mColumns: \u001b[1m\u001b[22m\u001b[34m\u001b[34m7\u001b[34m\u001b[39m\n",
      "\n",
      "\u001b[36m──\u001b[39m \u001b[1m\u001b[1mColumn specification\u001b[1m\u001b[22m \u001b[36m────────────────────────────────────────────────────────────────────────────────────────────────────────\u001b[39m\n",
      "\u001b[1mDelimiter:\u001b[22m \"\\t\"\n",
      "\u001b[31mchr\u001b[39m (3): SNP, A1, A2\n",
      "\u001b[32mdbl\u001b[39m (4): Z, N, chi2, P\n",
      "\n",
      "\n",
      "\u001b[36mℹ\u001b[39m Use \u001b[30m\u001b[47m\u001b[30m\u001b[47m`spec()`\u001b[47m\u001b[30m\u001b[49m\u001b[39m to retrieve the full column specification for this data.\n",
      "\u001b[36mℹ\u001b[39m Specify the column types or set \u001b[30m\u001b[47m\u001b[30m\u001b[47m`show_col_types = FALSE`\u001b[47m\u001b[30m\u001b[49m\u001b[39m to quiet this message.\n",
      "\n"
     ]
    },
    {
     "name": "stdout",
     "output_type": "stream",
     "text": [
      "Formatting X1\n",
      "There are  1048310  variants.\n",
      "Removing  0  duplicated variants leaving  1048310 variants.\n",
      "No variants have illegal alleles.\n",
      "Removed  0  variants with ambiguous strand.\n",
      "Flipping strand and effect allele so A1 is always A\n",
      "Returning  1048310  variants.\n",
      "Formatting X2\n",
      "There are  1037381  variants.\n",
      "Removing  0  duplicated variants leaving  1037381 variants.\n",
      "No variants have illegal alleles.\n",
      "Removed  0  variants with ambiguous strand.\n",
      "Flipping strand and effect allele so A1 is always A\n",
      "Returning  1037381  variants.\n",
      "After merging and removing variants with inconsistent alleles,  there are  1003204  variants that are present in both studies and can be used with CAUSE.\n"
     ]
    },
    {
     "name": "stderr",
     "output_type": "stream",
     "text": [
      "Clumping qKVK8H, 25523 variants, using EUR population reference\n",
      "\n",
      "Removing 22687 of 25523 variants due to LD with other variants or absence from LD reference panel\n",
      "\n"
     ]
    },
    {
     "name": "stdout",
     "output_type": "stream",
     "text": [
      "Estimating CAUSE parameters with  1000000  variants.\n",
      "1 0.01235638 \n",
      "2 5.142987e-06 \n",
      "3 5.463901e-09 \n",
      "Estimating CAUSE posteriors using  2836  variants.\n"
     ]
    },
    {
     "name": "stderr",
     "output_type": "stream",
     "text": [
      "Warning message:\n",
      "“'compare' is deprecated.\n",
      "Use 'loo_compare' instead.\n",
      "See help(\"Deprecated\")”\n"
     ]
    },
    {
     "name": "stdout",
     "output_type": "stream",
     "text": [
      "    user   system  elapsed \n",
      "3371.719 1813.068  470.374 \n",
      "T2D ~ Hair_Black \n"
     ]
    },
    {
     "name": "stderr",
     "output_type": "stream",
     "text": [
      "\u001b[1m\u001b[1mRows: \u001b[1m\u001b[22m\u001b[34m\u001b[34m1048310\u001b[34m\u001b[39m \u001b[1m\u001b[1mColumns: \u001b[1m\u001b[22m\u001b[34m\u001b[34m7\u001b[34m\u001b[39m\n",
      "\n",
      "\u001b[36m──\u001b[39m \u001b[1m\u001b[1mColumn specification\u001b[1m\u001b[22m \u001b[36m────────────────────────────────────────────────────────────────────────────────────────────────────────\u001b[39m\n",
      "\u001b[1mDelimiter:\u001b[22m \"\\t\"\n",
      "\u001b[31mchr\u001b[39m (3): SNP, A1, A2\n",
      "\u001b[32mdbl\u001b[39m (4): Z, N, chi2, P\n",
      "\n",
      "\n",
      "\u001b[36mℹ\u001b[39m Use \u001b[30m\u001b[47m\u001b[30m\u001b[47m`spec()`\u001b[47m\u001b[30m\u001b[49m\u001b[39m to retrieve the full column specification for this data.\n",
      "\u001b[36mℹ\u001b[39m Specify the column types or set \u001b[30m\u001b[47m\u001b[30m\u001b[47m`show_col_types = FALSE`\u001b[47m\u001b[30m\u001b[49m\u001b[39m to quiet this message.\n",
      "\n",
      "\u001b[1m\u001b[1mRows: \u001b[1m\u001b[22m\u001b[34m\u001b[34m1037702\u001b[34m\u001b[39m \u001b[1m\u001b[1mColumns: \u001b[1m\u001b[22m\u001b[34m\u001b[34m7\u001b[34m\u001b[39m\n",
      "\n",
      "\u001b[36m──\u001b[39m \u001b[1m\u001b[1mColumn specification\u001b[1m\u001b[22m \u001b[36m────────────────────────────────────────────────────────────────────────────────────────────────────────\u001b[39m\n",
      "\u001b[1mDelimiter:\u001b[22m \"\\t\"\n",
      "\u001b[31mchr\u001b[39m (3): SNP, A1, A2\n",
      "\u001b[32mdbl\u001b[39m (4): Z, N, chi2, P\n",
      "\n",
      "\n",
      "\u001b[36mℹ\u001b[39m Use \u001b[30m\u001b[47m\u001b[30m\u001b[47m`spec()`\u001b[47m\u001b[30m\u001b[49m\u001b[39m to retrieve the full column specification for this data.\n",
      "\u001b[36mℹ\u001b[39m Specify the column types or set \u001b[30m\u001b[47m\u001b[30m\u001b[47m`show_col_types = FALSE`\u001b[47m\u001b[30m\u001b[49m\u001b[39m to quiet this message.\n",
      "\n"
     ]
    },
    {
     "name": "stdout",
     "output_type": "stream",
     "text": [
      "Formatting X1\n",
      "There are  1048310  variants.\n",
      "Removing  0  duplicated variants leaving  1048310 variants.\n",
      "No variants have illegal alleles.\n",
      "Removed  0  variants with ambiguous strand.\n",
      "Flipping strand and effect allele so A1 is always A\n",
      "Returning  1048310  variants.\n",
      "Formatting X2\n",
      "There are  1037702  variants.\n",
      "Removing  0  duplicated variants leaving  1037702 variants.\n",
      "No variants have illegal alleles.\n",
      "Removed  0  variants with ambiguous strand.\n",
      "Flipping strand and effect allele so A1 is always A\n",
      "Returning  1037702  variants.\n",
      "After merging and removing variants with inconsistent alleles,  there are  1003520  variants that are present in both studies and can be used with CAUSE.\n"
     ]
    },
    {
     "name": "stderr",
     "output_type": "stream",
     "text": [
      "Clumping rLc4DB, 25535 variants, using EUR population reference\n",
      "\n",
      "Removing 22698 of 25535 variants due to LD with other variants or absence from LD reference panel\n",
      "\n"
     ]
    },
    {
     "name": "stdout",
     "output_type": "stream",
     "text": [
      "Estimating CAUSE parameters with  1000000  variants.\n",
      "1 0.04640241 \n",
      "2 0.0001253193 \n",
      "3 6.845729e-07 \n",
      "4 3.875651e-09 \n",
      "Estimating CAUSE posteriors using  2837  variants.\n"
     ]
    },
    {
     "name": "stderr",
     "output_type": "stream",
     "text": [
      "Warning message:\n",
      "“'compare' is deprecated.\n",
      "Use 'loo_compare' instead.\n",
      "See help(\"Deprecated\")”\n"
     ]
    },
    {
     "name": "stdout",
     "output_type": "stream",
     "text": [
      "    user   system  elapsed \n",
      "3528.638 1999.243  488.728 \n",
      "T2D ~ Hair_Blonde \n"
     ]
    },
    {
     "name": "stderr",
     "output_type": "stream",
     "text": [
      "\u001b[1m\u001b[1mRows: \u001b[1m\u001b[22m\u001b[34m\u001b[34m1048310\u001b[34m\u001b[39m \u001b[1m\u001b[1mColumns: \u001b[1m\u001b[22m\u001b[34m\u001b[34m7\u001b[34m\u001b[39m\n",
      "\n",
      "\u001b[36m──\u001b[39m \u001b[1m\u001b[1mColumn specification\u001b[1m\u001b[22m \u001b[36m────────────────────────────────────────────────────────────────────────────────────────────────────────\u001b[39m\n",
      "\u001b[1mDelimiter:\u001b[22m \"\\t\"\n",
      "\u001b[31mchr\u001b[39m (3): SNP, A1, A2\n",
      "\u001b[32mdbl\u001b[39m (4): Z, N, chi2, P\n",
      "\n",
      "\n",
      "\u001b[36mℹ\u001b[39m Use \u001b[30m\u001b[47m\u001b[30m\u001b[47m`spec()`\u001b[47m\u001b[30m\u001b[49m\u001b[39m to retrieve the full column specification for this data.\n",
      "\u001b[36mℹ\u001b[39m Specify the column types or set \u001b[30m\u001b[47m\u001b[30m\u001b[47m`show_col_types = FALSE`\u001b[47m\u001b[30m\u001b[49m\u001b[39m to quiet this message.\n",
      "\n",
      "\u001b[1m\u001b[1mRows: \u001b[1m\u001b[22m\u001b[34m\u001b[34m1037533\u001b[34m\u001b[39m \u001b[1m\u001b[1mColumns: \u001b[1m\u001b[22m\u001b[34m\u001b[34m7\u001b[34m\u001b[39m\n",
      "\n",
      "\u001b[36m──\u001b[39m \u001b[1m\u001b[1mColumn specification\u001b[1m\u001b[22m \u001b[36m────────────────────────────────────────────────────────────────────────────────────────────────────────\u001b[39m\n",
      "\u001b[1mDelimiter:\u001b[22m \"\\t\"\n",
      "\u001b[31mchr\u001b[39m (3): SNP, A1, A2\n",
      "\u001b[32mdbl\u001b[39m (4): Z, N, chi2, P\n",
      "\n",
      "\n",
      "\u001b[36mℹ\u001b[39m Use \u001b[30m\u001b[47m\u001b[30m\u001b[47m`spec()`\u001b[47m\u001b[30m\u001b[49m\u001b[39m to retrieve the full column specification for this data.\n",
      "\u001b[36mℹ\u001b[39m Specify the column types or set \u001b[30m\u001b[47m\u001b[30m\u001b[47m`show_col_types = FALSE`\u001b[47m\u001b[30m\u001b[49m\u001b[39m to quiet this message.\n",
      "\n"
     ]
    },
    {
     "name": "stdout",
     "output_type": "stream",
     "text": [
      "Formatting X1\n",
      "There are  1048310  variants.\n",
      "Removing  0  duplicated variants leaving  1048310 variants.\n",
      "No variants have illegal alleles.\n",
      "Removed  0  variants with ambiguous strand.\n",
      "Flipping strand and effect allele so A1 is always A\n",
      "Returning  1048310  variants.\n",
      "Formatting X2\n",
      "There are  1037533  variants.\n",
      "Removing  0  duplicated variants leaving  1037533 variants.\n",
      "No variants have illegal alleles.\n",
      "Removed  0  variants with ambiguous strand.\n",
      "Flipping strand and effect allele so A1 is always A\n",
      "Returning  1037533  variants.\n",
      "After merging and removing variants with inconsistent alleles,  there are  1003351  variants that are present in both studies and can be used with CAUSE.\n"
     ]
    },
    {
     "name": "stderr",
     "output_type": "stream",
     "text": [
      "Clumping SDkcLd, 25535 variants, using EUR population reference\n",
      "\n",
      "Removing 22698 of 25535 variants due to LD with other variants or absence from LD reference panel\n",
      "\n"
     ]
    },
    {
     "name": "stdout",
     "output_type": "stream",
     "text": [
      "Estimating CAUSE parameters with  1000000  variants.\n",
      "1 0.010236 \n",
      "2 4.512215e-06 \n",
      "3 2.869028e-09 \n",
      "Estimating CAUSE posteriors using  2837  variants.\n"
     ]
    },
    {
     "name": "stderr",
     "output_type": "stream",
     "text": [
      "Warning message:\n",
      "“'compare' is deprecated.\n",
      "Use 'loo_compare' instead.\n",
      "See help(\"Deprecated\")”\n"
     ]
    },
    {
     "name": "stdout",
     "output_type": "stream",
     "text": [
      "    user   system  elapsed \n",
      "3046.931 1839.347  420.633 \n",
      "T2D ~ Tanning \n"
     ]
    },
    {
     "name": "stderr",
     "output_type": "stream",
     "text": [
      "\u001b[1m\u001b[1mRows: \u001b[1m\u001b[22m\u001b[34m\u001b[34m1048310\u001b[34m\u001b[39m \u001b[1m\u001b[1mColumns: \u001b[1m\u001b[22m\u001b[34m\u001b[34m7\u001b[34m\u001b[39m\n",
      "\n",
      "\u001b[36m──\u001b[39m \u001b[1m\u001b[1mColumn specification\u001b[1m\u001b[22m \u001b[36m────────────────────────────────────────────────────────────────────────────────────────────────────────\u001b[39m\n",
      "\u001b[1mDelimiter:\u001b[22m \"\\t\"\n",
      "\u001b[31mchr\u001b[39m (3): SNP, A1, A2\n",
      "\u001b[32mdbl\u001b[39m (4): Z, N, chi2, P\n",
      "\n",
      "\n",
      "\u001b[36mℹ\u001b[39m Use \u001b[30m\u001b[47m\u001b[30m\u001b[47m`spec()`\u001b[47m\u001b[30m\u001b[49m\u001b[39m to retrieve the full column specification for this data.\n",
      "\u001b[36mℹ\u001b[39m Specify the column types or set \u001b[30m\u001b[47m\u001b[30m\u001b[47m`show_col_types = FALSE`\u001b[47m\u001b[30m\u001b[49m\u001b[39m to quiet this message.\n",
      "\n",
      "\u001b[1m\u001b[1mRows: \u001b[1m\u001b[22m\u001b[34m\u001b[34m1037026\u001b[34m\u001b[39m \u001b[1m\u001b[1mColumns: \u001b[1m\u001b[22m\u001b[34m\u001b[34m7\u001b[34m\u001b[39m\n",
      "\n",
      "\u001b[36m──\u001b[39m \u001b[1m\u001b[1mColumn specification\u001b[1m\u001b[22m \u001b[36m────────────────────────────────────────────────────────────────────────────────────────────────────────\u001b[39m\n",
      "\u001b[1mDelimiter:\u001b[22m \"\\t\"\n",
      "\u001b[31mchr\u001b[39m (3): SNP, A1, A2\n",
      "\u001b[32mdbl\u001b[39m (4): Z, N, chi2, P\n",
      "\n",
      "\n",
      "\u001b[36mℹ\u001b[39m Use \u001b[30m\u001b[47m\u001b[30m\u001b[47m`spec()`\u001b[47m\u001b[30m\u001b[49m\u001b[39m to retrieve the full column specification for this data.\n",
      "\u001b[36mℹ\u001b[39m Specify the column types or set \u001b[30m\u001b[47m\u001b[30m\u001b[47m`show_col_types = FALSE`\u001b[47m\u001b[30m\u001b[49m\u001b[39m to quiet this message.\n",
      "\n"
     ]
    },
    {
     "name": "stdout",
     "output_type": "stream",
     "text": [
      "Formatting X1\n",
      "There are  1048310  variants.\n",
      "Removing  0  duplicated variants leaving  1048310 variants.\n",
      "No variants have illegal alleles.\n",
      "Removed  0  variants with ambiguous strand.\n",
      "Flipping strand and effect allele so A1 is always A\n",
      "Returning  1048310  variants.\n",
      "Formatting X2\n",
      "There are  1037026  variants.\n",
      "Removing  0  duplicated variants leaving  1037026 variants.\n",
      "No variants have illegal alleles.\n",
      "Removed  0  variants with ambiguous strand.\n",
      "Flipping strand and effect allele so A1 is always A\n",
      "Returning  1037026  variants.\n",
      "After merging and removing variants with inconsistent alleles,  there are  1002865  variants that are present in both studies and can be used with CAUSE.\n"
     ]
    },
    {
     "name": "stderr",
     "output_type": "stream",
     "text": [
      "Clumping F2YDzG, 25383 variants, using EUR population reference\n",
      "\n",
      "Removing 22549 of 25383 variants due to LD with other variants or absence from LD reference panel\n",
      "\n"
     ]
    },
    {
     "name": "stdout",
     "output_type": "stream",
     "text": [
      "Estimating CAUSE parameters with  1000000  variants.\n",
      "1 0.02487416 \n",
      "2 1.769684e-05 \n",
      "3 2.492643e-08 \n",
      "Estimating CAUSE posteriors using  2834  variants.\n"
     ]
    },
    {
     "name": "stderr",
     "output_type": "stream",
     "text": [
      "Warning message:\n",
      "“'compare' is deprecated.\n",
      "Use 'loo_compare' instead.\n",
      "See help(\"Deprecated\")”\n"
     ]
    },
    {
     "name": "stdout",
     "output_type": "stream",
     "text": [
      "    user   system  elapsed \n",
      "3338.089 1734.622  454.022 \n",
      "Alcohol ~ Hair_Light_Brown \n"
     ]
    },
    {
     "name": "stderr",
     "output_type": "stream",
     "text": [
      "\u001b[1m\u001b[1mRows: \u001b[1m\u001b[22m\u001b[34m\u001b[34m1084534\u001b[34m\u001b[39m \u001b[1m\u001b[1mColumns: \u001b[1m\u001b[22m\u001b[34m\u001b[34m7\u001b[34m\u001b[39m\n",
      "\n",
      "\u001b[36m──\u001b[39m \u001b[1m\u001b[1mColumn specification\u001b[1m\u001b[22m \u001b[36m────────────────────────────────────────────────────────────────────────────────────────────────────────\u001b[39m\n",
      "\u001b[1mDelimiter:\u001b[22m \"\\t\"\n",
      "\u001b[31mchr\u001b[39m (3): SNP, A1, A2\n",
      "\u001b[32mdbl\u001b[39m (4): Z, N, chi2, P\n",
      "\n",
      "\n",
      "\u001b[36mℹ\u001b[39m Use \u001b[30m\u001b[47m\u001b[30m\u001b[47m`spec()`\u001b[47m\u001b[30m\u001b[49m\u001b[39m to retrieve the full column specification for this data.\n",
      "\u001b[36mℹ\u001b[39m Specify the column types or set \u001b[30m\u001b[47m\u001b[30m\u001b[47m`show_col_types = FALSE`\u001b[47m\u001b[30m\u001b[49m\u001b[39m to quiet this message.\n",
      "\n",
      "\u001b[1m\u001b[1mRows: \u001b[1m\u001b[22m\u001b[34m\u001b[34m1037742\u001b[34m\u001b[39m \u001b[1m\u001b[1mColumns: \u001b[1m\u001b[22m\u001b[34m\u001b[34m7\u001b[34m\u001b[39m\n",
      "\n",
      "\u001b[36m──\u001b[39m \u001b[1m\u001b[1mColumn specification\u001b[1m\u001b[22m \u001b[36m────────────────────────────────────────────────────────────────────────────────────────────────────────\u001b[39m\n",
      "\u001b[1mDelimiter:\u001b[22m \"\\t\"\n",
      "\u001b[31mchr\u001b[39m (3): SNP, A1, A2\n",
      "\u001b[32mdbl\u001b[39m (4): Z, N, chi2, P\n",
      "\n",
      "\n",
      "\u001b[36mℹ\u001b[39m Use \u001b[30m\u001b[47m\u001b[30m\u001b[47m`spec()`\u001b[47m\u001b[30m\u001b[49m\u001b[39m to retrieve the full column specification for this data.\n",
      "\u001b[36mℹ\u001b[39m Specify the column types or set \u001b[30m\u001b[47m\u001b[30m\u001b[47m`show_col_types = FALSE`\u001b[47m\u001b[30m\u001b[49m\u001b[39m to quiet this message.\n",
      "\n"
     ]
    },
    {
     "name": "stdout",
     "output_type": "stream",
     "text": [
      "Formatting X1\n",
      "There are  1084534  variants.\n",
      "Removing  0  duplicated variants leaving  1084534 variants.\n",
      "No variants have illegal alleles.\n",
      "Removed  0  variants with ambiguous strand.\n",
      "Flipping strand and effect allele so A1 is always A\n",
      "Returning  1084534  variants.\n",
      "Formatting X2\n",
      "There are  1037742  variants.\n",
      "Removing  0  duplicated variants leaving  1037742 variants.\n",
      "No variants have illegal alleles.\n",
      "Removed  0  variants with ambiguous strand.\n",
      "Flipping strand and effect allele so A1 is always A\n",
      "Returning  1037742  variants.\n",
      "After merging and removing variants with inconsistent alleles,  there are  1029725  variants that are present in both studies and can be used with CAUSE.\n"
     ]
    },
    {
     "name": "stderr",
     "output_type": "stream",
     "text": [
      "Clumping HmqD5Z, 14915 variants, using EUR population reference\n",
      "\n",
      "Removing 13068 of 14915 variants due to LD with other variants or absence from LD reference panel\n",
      "\n"
     ]
    },
    {
     "name": "stdout",
     "output_type": "stream",
     "text": [
      "Estimating CAUSE parameters with  1000000  variants.\n",
      "1 0.01033092 \n",
      "2 1.17082e-05 \n",
      "3 1.566187e-08 \n",
      "Estimating CAUSE posteriors using  1847  variants.\n"
     ]
    },
    {
     "name": "stderr",
     "output_type": "stream",
     "text": [
      "Warning message:\n",
      "“'compare' is deprecated.\n",
      "Use 'loo_compare' instead.\n",
      "See help(\"Deprecated\")”\n"
     ]
    },
    {
     "name": "stdout",
     "output_type": "stream",
     "text": [
      "    user   system  elapsed \n",
      "2663.139 1625.616  455.674 \n",
      "Alcohol ~ Hair_Dark_Brown \n"
     ]
    },
    {
     "name": "stderr",
     "output_type": "stream",
     "text": [
      "\u001b[1m\u001b[1mRows: \u001b[1m\u001b[22m\u001b[34m\u001b[34m1084534\u001b[34m\u001b[39m \u001b[1m\u001b[1mColumns: \u001b[1m\u001b[22m\u001b[34m\u001b[34m7\u001b[34m\u001b[39m\n",
      "\n",
      "\u001b[36m──\u001b[39m \u001b[1m\u001b[1mColumn specification\u001b[1m\u001b[22m \u001b[36m────────────────────────────────────────────────────────────────────────────────────────────────────────\u001b[39m\n",
      "\u001b[1mDelimiter:\u001b[22m \"\\t\"\n",
      "\u001b[31mchr\u001b[39m (3): SNP, A1, A2\n",
      "\u001b[32mdbl\u001b[39m (4): Z, N, chi2, P\n",
      "\n",
      "\n",
      "\u001b[36mℹ\u001b[39m Use \u001b[30m\u001b[47m\u001b[30m\u001b[47m`spec()`\u001b[47m\u001b[30m\u001b[49m\u001b[39m to retrieve the full column specification for this data.\n",
      "\u001b[36mℹ\u001b[39m Specify the column types or set \u001b[30m\u001b[47m\u001b[30m\u001b[47m`show_col_types = FALSE`\u001b[47m\u001b[30m\u001b[49m\u001b[39m to quiet this message.\n",
      "\n",
      "\u001b[1m\u001b[1mRows: \u001b[1m\u001b[22m\u001b[34m\u001b[34m1037381\u001b[34m\u001b[39m \u001b[1m\u001b[1mColumns: \u001b[1m\u001b[22m\u001b[34m\u001b[34m7\u001b[34m\u001b[39m\n",
      "\n",
      "\u001b[36m──\u001b[39m \u001b[1m\u001b[1mColumn specification\u001b[1m\u001b[22m \u001b[36m────────────────────────────────────────────────────────────────────────────────────────────────────────\u001b[39m\n",
      "\u001b[1mDelimiter:\u001b[22m \"\\t\"\n",
      "\u001b[31mchr\u001b[39m (3): SNP, A1, A2\n",
      "\u001b[32mdbl\u001b[39m (4): Z, N, chi2, P\n",
      "\n",
      "\n",
      "\u001b[36mℹ\u001b[39m Use \u001b[30m\u001b[47m\u001b[30m\u001b[47m`spec()`\u001b[47m\u001b[30m\u001b[49m\u001b[39m to retrieve the full column specification for this data.\n",
      "\u001b[36mℹ\u001b[39m Specify the column types or set \u001b[30m\u001b[47m\u001b[30m\u001b[47m`show_col_types = FALSE`\u001b[47m\u001b[30m\u001b[49m\u001b[39m to quiet this message.\n",
      "\n"
     ]
    },
    {
     "name": "stdout",
     "output_type": "stream",
     "text": [
      "Formatting X1\n",
      "There are  1084534  variants.\n",
      "Removing  0  duplicated variants leaving  1084534 variants.\n",
      "No variants have illegal alleles.\n",
      "Removed  0  variants with ambiguous strand.\n",
      "Flipping strand and effect allele so A1 is always A\n",
      "Returning  1084534  variants.\n",
      "Formatting X2\n",
      "There are  1037381  variants.\n",
      "Removing  0  duplicated variants leaving  1037381 variants.\n",
      "No variants have illegal alleles.\n",
      "Removed  0  variants with ambiguous strand.\n",
      "Flipping strand and effect allele so A1 is always A\n",
      "Returning  1037381  variants.\n",
      "After merging and removing variants with inconsistent alleles,  there are  1029371  variants that are present in both studies and can be used with CAUSE.\n"
     ]
    },
    {
     "name": "stderr",
     "output_type": "stream",
     "text": [
      "Clumping AAk6B1, 14915 variants, using EUR population reference\n",
      "\n",
      "Removing 13068 of 14915 variants due to LD with other variants or absence from LD reference panel\n",
      "\n"
     ]
    },
    {
     "name": "stdout",
     "output_type": "stream",
     "text": [
      "Estimating CAUSE parameters with  1000000  variants.\n",
      "1 0.02312475 \n",
      "2 2.008233e-05 \n",
      "3 3.207243e-08 \n",
      "Estimating CAUSE posteriors using  1847  variants.\n"
     ]
    },
    {
     "name": "stderr",
     "output_type": "stream",
     "text": [
      "Warning message:\n",
      "“'compare' is deprecated.\n",
      "Use 'loo_compare' instead.\n",
      "See help(\"Deprecated\")”\n"
     ]
    },
    {
     "name": "stdout",
     "output_type": "stream",
     "text": [
      "    user   system  elapsed \n",
      "3003.985 1946.773  502.814 \n",
      "Alcohol ~ Hair_Black \n"
     ]
    },
    {
     "name": "stderr",
     "output_type": "stream",
     "text": [
      "\u001b[1m\u001b[1mRows: \u001b[1m\u001b[22m\u001b[34m\u001b[34m1084534\u001b[34m\u001b[39m \u001b[1m\u001b[1mColumns: \u001b[1m\u001b[22m\u001b[34m\u001b[34m7\u001b[34m\u001b[39m\n",
      "\n",
      "\u001b[36m──\u001b[39m \u001b[1m\u001b[1mColumn specification\u001b[1m\u001b[22m \u001b[36m────────────────────────────────────────────────────────────────────────────────────────────────────────\u001b[39m\n",
      "\u001b[1mDelimiter:\u001b[22m \"\\t\"\n",
      "\u001b[31mchr\u001b[39m (3): SNP, A1, A2\n",
      "\u001b[32mdbl\u001b[39m (4): Z, N, chi2, P\n",
      "\n",
      "\n",
      "\u001b[36mℹ\u001b[39m Use \u001b[30m\u001b[47m\u001b[30m\u001b[47m`spec()`\u001b[47m\u001b[30m\u001b[49m\u001b[39m to retrieve the full column specification for this data.\n",
      "\u001b[36mℹ\u001b[39m Specify the column types or set \u001b[30m\u001b[47m\u001b[30m\u001b[47m`show_col_types = FALSE`\u001b[47m\u001b[30m\u001b[49m\u001b[39m to quiet this message.\n",
      "\n",
      "\u001b[1m\u001b[1mRows: \u001b[1m\u001b[22m\u001b[34m\u001b[34m1037702\u001b[34m\u001b[39m \u001b[1m\u001b[1mColumns: \u001b[1m\u001b[22m\u001b[34m\u001b[34m7\u001b[34m\u001b[39m\n",
      "\n",
      "\u001b[36m──\u001b[39m \u001b[1m\u001b[1mColumn specification\u001b[1m\u001b[22m \u001b[36m────────────────────────────────────────────────────────────────────────────────────────────────────────\u001b[39m\n",
      "\u001b[1mDelimiter:\u001b[22m \"\\t\"\n",
      "\u001b[31mchr\u001b[39m (3): SNP, A1, A2\n",
      "\u001b[32mdbl\u001b[39m (4): Z, N, chi2, P\n",
      "\n",
      "\n",
      "\u001b[36mℹ\u001b[39m Use \u001b[30m\u001b[47m\u001b[30m\u001b[47m`spec()`\u001b[47m\u001b[30m\u001b[49m\u001b[39m to retrieve the full column specification for this data.\n",
      "\u001b[36mℹ\u001b[39m Specify the column types or set \u001b[30m\u001b[47m\u001b[30m\u001b[47m`show_col_types = FALSE`\u001b[47m\u001b[30m\u001b[49m\u001b[39m to quiet this message.\n",
      "\n"
     ]
    },
    {
     "name": "stdout",
     "output_type": "stream",
     "text": [
      "Formatting X1\n",
      "There are  1084534  variants.\n",
      "Removing  0  duplicated variants leaving  1084534 variants.\n",
      "No variants have illegal alleles.\n",
      "Removed  0  variants with ambiguous strand.\n",
      "Flipping strand and effect allele so A1 is always A\n",
      "Returning  1084534  variants.\n",
      "Formatting X2\n",
      "There are  1037702  variants.\n",
      "Removing  0  duplicated variants leaving  1037702 variants.\n",
      "No variants have illegal alleles.\n",
      "Removed  0  variants with ambiguous strand.\n",
      "Flipping strand and effect allele so A1 is always A\n",
      "Returning  1037702  variants.\n",
      "After merging and removing variants with inconsistent alleles,  there are  1029686  variants that are present in both studies and can be used with CAUSE.\n"
     ]
    },
    {
     "name": "stderr",
     "output_type": "stream",
     "text": [
      "Clumping NmxLiU, 14915 variants, using EUR population reference\n",
      "\n",
      "Removing 13068 of 14915 variants due to LD with other variants or absence from LD reference panel\n",
      "\n"
     ]
    },
    {
     "name": "stdout",
     "output_type": "stream",
     "text": [
      "Estimating CAUSE parameters with  1000000  variants.\n",
      "1 0.02799116 \n",
      "2 3.186432e-05 \n",
      "3 9.423808e-08 \n",
      "Estimating CAUSE posteriors using  1847  variants.\n"
     ]
    },
    {
     "name": "stderr",
     "output_type": "stream",
     "text": [
      "Warning message:\n",
      "“'compare' is deprecated.\n",
      "Use 'loo_compare' instead.\n",
      "See help(\"Deprecated\")”\n"
     ]
    },
    {
     "name": "stdout",
     "output_type": "stream",
     "text": [
      "    user   system  elapsed \n",
      "2424.001 1656.963  401.985 \n",
      "Alcohol ~ Hair_Blonde \n"
     ]
    },
    {
     "name": "stderr",
     "output_type": "stream",
     "text": [
      "\u001b[1m\u001b[1mRows: \u001b[1m\u001b[22m\u001b[34m\u001b[34m1084534\u001b[34m\u001b[39m \u001b[1m\u001b[1mColumns: \u001b[1m\u001b[22m\u001b[34m\u001b[34m7\u001b[34m\u001b[39m\n",
      "\n",
      "\u001b[36m──\u001b[39m \u001b[1m\u001b[1mColumn specification\u001b[1m\u001b[22m \u001b[36m────────────────────────────────────────────────────────────────────────────────────────────────────────\u001b[39m\n",
      "\u001b[1mDelimiter:\u001b[22m \"\\t\"\n",
      "\u001b[31mchr\u001b[39m (3): SNP, A1, A2\n",
      "\u001b[32mdbl\u001b[39m (4): Z, N, chi2, P\n",
      "\n",
      "\n",
      "\u001b[36mℹ\u001b[39m Use \u001b[30m\u001b[47m\u001b[30m\u001b[47m`spec()`\u001b[47m\u001b[30m\u001b[49m\u001b[39m to retrieve the full column specification for this data.\n",
      "\u001b[36mℹ\u001b[39m Specify the column types or set \u001b[30m\u001b[47m\u001b[30m\u001b[47m`show_col_types = FALSE`\u001b[47m\u001b[30m\u001b[49m\u001b[39m to quiet this message.\n",
      "\n",
      "\u001b[1m\u001b[1mRows: \u001b[1m\u001b[22m\u001b[34m\u001b[34m1037533\u001b[34m\u001b[39m \u001b[1m\u001b[1mColumns: \u001b[1m\u001b[22m\u001b[34m\u001b[34m7\u001b[34m\u001b[39m\n",
      "\n",
      "\u001b[36m──\u001b[39m \u001b[1m\u001b[1mColumn specification\u001b[1m\u001b[22m \u001b[36m────────────────────────────────────────────────────────────────────────────────────────────────────────\u001b[39m\n",
      "\u001b[1mDelimiter:\u001b[22m \"\\t\"\n",
      "\u001b[31mchr\u001b[39m (3): SNP, A1, A2\n",
      "\u001b[32mdbl\u001b[39m (4): Z, N, chi2, P\n",
      "\n",
      "\n",
      "\u001b[36mℹ\u001b[39m Use \u001b[30m\u001b[47m\u001b[30m\u001b[47m`spec()`\u001b[47m\u001b[30m\u001b[49m\u001b[39m to retrieve the full column specification for this data.\n",
      "\u001b[36mℹ\u001b[39m Specify the column types or set \u001b[30m\u001b[47m\u001b[30m\u001b[47m`show_col_types = FALSE`\u001b[47m\u001b[30m\u001b[49m\u001b[39m to quiet this message.\n",
      "\n"
     ]
    },
    {
     "name": "stdout",
     "output_type": "stream",
     "text": [
      "Formatting X1\n",
      "There are  1084534  variants.\n",
      "Removing  0  duplicated variants leaving  1084534 variants.\n",
      "No variants have illegal alleles.\n",
      "Removed  0  variants with ambiguous strand.\n",
      "Flipping strand and effect allele so A1 is always A\n",
      "Returning  1084534  variants.\n",
      "Formatting X2\n",
      "There are  1037533  variants.\n",
      "Removing  0  duplicated variants leaving  1037533 variants.\n",
      "No variants have illegal alleles.\n",
      "Removed  0  variants with ambiguous strand.\n",
      "Flipping strand and effect allele so A1 is always A\n",
      "Returning  1037533  variants.\n",
      "After merging and removing variants with inconsistent alleles,  there are  1029518  variants that are present in both studies and can be used with CAUSE.\n"
     ]
    },
    {
     "name": "stderr",
     "output_type": "stream",
     "text": [
      "Clumping aOt05a, 14914 variants, using EUR population reference\n",
      "\n",
      "Removing 13067 of 14914 variants due to LD with other variants or absence from LD reference panel\n",
      "\n"
     ]
    },
    {
     "name": "stdout",
     "output_type": "stream",
     "text": [
      "Estimating CAUSE parameters with  1000000  variants.\n",
      "1 0.04021537 \n",
      "2 5.089027e-05 \n",
      "3 1.984212e-07 \n",
      "4 3.118025e-09 \n",
      "Estimating CAUSE posteriors using  1847  variants.\n"
     ]
    },
    {
     "name": "stderr",
     "output_type": "stream",
     "text": [
      "Warning message:\n",
      "“'compare' is deprecated.\n",
      "Use 'loo_compare' instead.\n",
      "See help(\"Deprecated\")”\n"
     ]
    },
    {
     "name": "stdout",
     "output_type": "stream",
     "text": [
      "    user   system  elapsed \n",
      "3047.673 2151.621  490.710 \n",
      "Alcohol ~ Tanning \n"
     ]
    },
    {
     "name": "stderr",
     "output_type": "stream",
     "text": [
      "\u001b[1m\u001b[1mRows: \u001b[1m\u001b[22m\u001b[34m\u001b[34m1084534\u001b[34m\u001b[39m \u001b[1m\u001b[1mColumns: \u001b[1m\u001b[22m\u001b[34m\u001b[34m7\u001b[34m\u001b[39m\n",
      "\n",
      "\u001b[36m──\u001b[39m \u001b[1m\u001b[1mColumn specification\u001b[1m\u001b[22m \u001b[36m────────────────────────────────────────────────────────────────────────────────────────────────────────\u001b[39m\n",
      "\u001b[1mDelimiter:\u001b[22m \"\\t\"\n",
      "\u001b[31mchr\u001b[39m (3): SNP, A1, A2\n",
      "\u001b[32mdbl\u001b[39m (4): Z, N, chi2, P\n",
      "\n",
      "\n",
      "\u001b[36mℹ\u001b[39m Use \u001b[30m\u001b[47m\u001b[30m\u001b[47m`spec()`\u001b[47m\u001b[30m\u001b[49m\u001b[39m to retrieve the full column specification for this data.\n",
      "\u001b[36mℹ\u001b[39m Specify the column types or set \u001b[30m\u001b[47m\u001b[30m\u001b[47m`show_col_types = FALSE`\u001b[47m\u001b[30m\u001b[49m\u001b[39m to quiet this message.\n",
      "\n",
      "\u001b[1m\u001b[1mRows: \u001b[1m\u001b[22m\u001b[34m\u001b[34m1037026\u001b[34m\u001b[39m \u001b[1m\u001b[1mColumns: \u001b[1m\u001b[22m\u001b[34m\u001b[34m7\u001b[34m\u001b[39m\n",
      "\n",
      "\u001b[36m──\u001b[39m \u001b[1m\u001b[1mColumn specification\u001b[1m\u001b[22m \u001b[36m────────────────────────────────────────────────────────────────────────────────────────────────────────\u001b[39m\n",
      "\u001b[1mDelimiter:\u001b[22m \"\\t\"\n",
      "\u001b[31mchr\u001b[39m (3): SNP, A1, A2\n",
      "\u001b[32mdbl\u001b[39m (4): Z, N, chi2, P\n",
      "\n",
      "\n",
      "\u001b[36mℹ\u001b[39m Use \u001b[30m\u001b[47m\u001b[30m\u001b[47m`spec()`\u001b[47m\u001b[30m\u001b[49m\u001b[39m to retrieve the full column specification for this data.\n",
      "\u001b[36mℹ\u001b[39m Specify the column types or set \u001b[30m\u001b[47m\u001b[30m\u001b[47m`show_col_types = FALSE`\u001b[47m\u001b[30m\u001b[49m\u001b[39m to quiet this message.\n",
      "\n"
     ]
    },
    {
     "name": "stdout",
     "output_type": "stream",
     "text": [
      "Formatting X1\n",
      "There are  1084534  variants.\n",
      "Removing  0  duplicated variants leaving  1084534 variants.\n",
      "No variants have illegal alleles.\n",
      "Removed  0  variants with ambiguous strand.\n",
      "Flipping strand and effect allele so A1 is always A\n",
      "Returning  1084534  variants.\n",
      "Formatting X2\n",
      "There are  1037026  variants.\n",
      "Removing  0  duplicated variants leaving  1037026 variants.\n",
      "No variants have illegal alleles.\n",
      "Removed  0  variants with ambiguous strand.\n",
      "Flipping strand and effect allele so A1 is always A\n",
      "Returning  1037026  variants.\n",
      "After merging and removing variants with inconsistent alleles,  there are  1029019  variants that are present in both studies and can be used with CAUSE.\n"
     ]
    },
    {
     "name": "stderr",
     "output_type": "stream",
     "text": [
      "Clumping Awz8lr, 14879 variants, using EUR population reference\n",
      "\n",
      "Removing 13034 of 14879 variants due to LD with other variants or absence from LD reference panel\n",
      "\n"
     ]
    },
    {
     "name": "stdout",
     "output_type": "stream",
     "text": [
      "Estimating CAUSE parameters with  1000000  variants.\n",
      "1 0.1373223 \n",
      "2 0.001601607 \n",
      "3 4.402529e-05 \n",
      "4 1.213824e-06 \n",
      "5 3.659632e-08 \n",
      "Estimating CAUSE posteriors using  1845  variants.\n"
     ]
    },
    {
     "name": "stderr",
     "output_type": "stream",
     "text": [
      "Warning message:\n",
      "“'compare' is deprecated.\n",
      "Use 'loo_compare' instead.\n",
      "See help(\"Deprecated\")”\n"
     ]
    },
    {
     "name": "stdout",
     "output_type": "stream",
     "text": [
      "    user   system  elapsed \n",
      "3460.785 2335.527  542.043 \n",
      "BMI ~ Hair_Light_Brown \n"
     ]
    },
    {
     "name": "stderr",
     "output_type": "stream",
     "text": [
      "\u001b[1m\u001b[1mRows: \u001b[1m\u001b[22m\u001b[34m\u001b[34m1037799\u001b[34m\u001b[39m \u001b[1m\u001b[1mColumns: \u001b[1m\u001b[22m\u001b[34m\u001b[34m7\u001b[34m\u001b[39m\n",
      "\n",
      "\u001b[36m──\u001b[39m \u001b[1m\u001b[1mColumn specification\u001b[1m\u001b[22m \u001b[36m────────────────────────────────────────────────────────────────────────────────────────────────────────\u001b[39m\n",
      "\u001b[1mDelimiter:\u001b[22m \"\\t\"\n",
      "\u001b[31mchr\u001b[39m (3): SNP, A1, A2\n",
      "\u001b[32mdbl\u001b[39m (4): Z, N, chi2, P\n",
      "\n",
      "\n",
      "\u001b[36mℹ\u001b[39m Use \u001b[30m\u001b[47m\u001b[30m\u001b[47m`spec()`\u001b[47m\u001b[30m\u001b[49m\u001b[39m to retrieve the full column specification for this data.\n",
      "\u001b[36mℹ\u001b[39m Specify the column types or set \u001b[30m\u001b[47m\u001b[30m\u001b[47m`show_col_types = FALSE`\u001b[47m\u001b[30m\u001b[49m\u001b[39m to quiet this message.\n",
      "\n",
      "\u001b[1m\u001b[1mRows: \u001b[1m\u001b[22m\u001b[34m\u001b[34m1037742\u001b[34m\u001b[39m \u001b[1m\u001b[1mColumns: \u001b[1m\u001b[22m\u001b[34m\u001b[34m7\u001b[34m\u001b[39m\n",
      "\n",
      "\u001b[36m──\u001b[39m \u001b[1m\u001b[1mColumn specification\u001b[1m\u001b[22m \u001b[36m────────────────────────────────────────────────────────────────────────────────────────────────────────\u001b[39m\n",
      "\u001b[1mDelimiter:\u001b[22m \"\\t\"\n",
      "\u001b[31mchr\u001b[39m (3): SNP, A1, A2\n",
      "\u001b[32mdbl\u001b[39m (4): Z, N, chi2, P\n",
      "\n",
      "\n",
      "\u001b[36mℹ\u001b[39m Use \u001b[30m\u001b[47m\u001b[30m\u001b[47m`spec()`\u001b[47m\u001b[30m\u001b[49m\u001b[39m to retrieve the full column specification for this data.\n",
      "\u001b[36mℹ\u001b[39m Specify the column types or set \u001b[30m\u001b[47m\u001b[30m\u001b[47m`show_col_types = FALSE`\u001b[47m\u001b[30m\u001b[49m\u001b[39m to quiet this message.\n",
      "\n"
     ]
    },
    {
     "name": "stdout",
     "output_type": "stream",
     "text": [
      "Formatting X1\n",
      "There are  1037799  variants.\n",
      "Removing  0  duplicated variants leaving  1037799 variants.\n",
      "No variants have illegal alleles.\n",
      "Removed  0  variants with ambiguous strand.\n",
      "Flipping strand and effect allele so A1 is always A\n",
      "Returning  1037799  variants.\n",
      "Formatting X2\n",
      "There are  1037742  variants.\n",
      "Removing  0  duplicated variants leaving  1037742 variants.\n",
      "No variants have illegal alleles.\n",
      "Removed  0  variants with ambiguous strand.\n",
      "Flipping strand and effect allele so A1 is always A\n",
      "Returning  1037742  variants.\n",
      "After merging and removing variants with inconsistent alleles,  there are  1037717  variants that are present in both studies and can be used with CAUSE.\n"
     ]
    },
    {
     "name": "stderr",
     "output_type": "stream",
     "text": [
      "Clumping wHIOa7, 57475 variants, using EUR population reference\n",
      "\n",
      "Removing 51968 of 57475 variants due to LD with other variants or absence from LD reference panel\n",
      "\n"
     ]
    },
    {
     "name": "stdout",
     "output_type": "stream",
     "text": [
      "Estimating CAUSE parameters with  1000000  variants.\n",
      "1 0.02279289 \n",
      "2 1.571902e-05 \n",
      "3 1.730874e-08 \n",
      "Estimating CAUSE posteriors using  5507  variants.\n"
     ]
    },
    {
     "name": "stderr",
     "output_type": "stream",
     "text": [
      "Warning message:\n",
      "“Some Pareto k diagnostic values are slightly high. See help('pareto-k-diagnostic') for details.\n",
      "”\n",
      "Warning message:\n",
      "“'compare' is deprecated.\n",
      "Use 'loo_compare' instead.\n",
      "See help(\"Deprecated\")”\n"
     ]
    },
    {
     "name": "stdout",
     "output_type": "stream",
     "text": [
      "    user   system  elapsed \n",
      "5013.206 1814.283  559.830 \n",
      "BMI ~ Hair_Dark_Brown \n"
     ]
    },
    {
     "name": "stderr",
     "output_type": "stream",
     "text": [
      "\u001b[1m\u001b[1mRows: \u001b[1m\u001b[22m\u001b[34m\u001b[34m1037799\u001b[34m\u001b[39m \u001b[1m\u001b[1mColumns: \u001b[1m\u001b[22m\u001b[34m\u001b[34m7\u001b[34m\u001b[39m\n",
      "\n",
      "\u001b[36m──\u001b[39m \u001b[1m\u001b[1mColumn specification\u001b[1m\u001b[22m \u001b[36m────────────────────────────────────────────────────────────────────────────────────────────────────────\u001b[39m\n",
      "\u001b[1mDelimiter:\u001b[22m \"\\t\"\n",
      "\u001b[31mchr\u001b[39m (3): SNP, A1, A2\n",
      "\u001b[32mdbl\u001b[39m (4): Z, N, chi2, P\n",
      "\n",
      "\n",
      "\u001b[36mℹ\u001b[39m Use \u001b[30m\u001b[47m\u001b[30m\u001b[47m`spec()`\u001b[47m\u001b[30m\u001b[49m\u001b[39m to retrieve the full column specification for this data.\n",
      "\u001b[36mℹ\u001b[39m Specify the column types or set \u001b[30m\u001b[47m\u001b[30m\u001b[47m`show_col_types = FALSE`\u001b[47m\u001b[30m\u001b[49m\u001b[39m to quiet this message.\n",
      "\n",
      "\u001b[1m\u001b[1mRows: \u001b[1m\u001b[22m\u001b[34m\u001b[34m1037381\u001b[34m\u001b[39m \u001b[1m\u001b[1mColumns: \u001b[1m\u001b[22m\u001b[34m\u001b[34m7\u001b[34m\u001b[39m\n",
      "\n",
      "\u001b[36m──\u001b[39m \u001b[1m\u001b[1mColumn specification\u001b[1m\u001b[22m \u001b[36m────────────────────────────────────────────────────────────────────────────────────────────────────────\u001b[39m\n",
      "\u001b[1mDelimiter:\u001b[22m \"\\t\"\n",
      "\u001b[31mchr\u001b[39m (3): SNP, A1, A2\n",
      "\u001b[32mdbl\u001b[39m (4): Z, N, chi2, P\n",
      "\n",
      "\n",
      "\u001b[36mℹ\u001b[39m Use \u001b[30m\u001b[47m\u001b[30m\u001b[47m`spec()`\u001b[47m\u001b[30m\u001b[49m\u001b[39m to retrieve the full column specification for this data.\n",
      "\u001b[36mℹ\u001b[39m Specify the column types or set \u001b[30m\u001b[47m\u001b[30m\u001b[47m`show_col_types = FALSE`\u001b[47m\u001b[30m\u001b[49m\u001b[39m to quiet this message.\n",
      "\n"
     ]
    },
    {
     "name": "stdout",
     "output_type": "stream",
     "text": [
      "Formatting X1\n",
      "There are  1037799  variants.\n",
      "Removing  0  duplicated variants leaving  1037799 variants.\n",
      "No variants have illegal alleles.\n",
      "Removed  0  variants with ambiguous strand.\n",
      "Flipping strand and effect allele so A1 is always A\n",
      "Returning  1037799  variants.\n",
      "Formatting X2\n",
      "There are  1037381  variants.\n",
      "Removing  0  duplicated variants leaving  1037381 variants.\n",
      "No variants have illegal alleles.\n",
      "Removed  0  variants with ambiguous strand.\n",
      "Flipping strand and effect allele so A1 is always A\n",
      "Returning  1037381  variants.\n",
      "After merging and removing variants with inconsistent alleles,  there are  1037356  variants that are present in both studies and can be used with CAUSE.\n"
     ]
    },
    {
     "name": "stderr",
     "output_type": "stream",
     "text": [
      "Clumping ylMgPq, 57446 variants, using EUR population reference\n",
      "\n",
      "Removing 51939 of 57446 variants due to LD with other variants or absence from LD reference panel\n",
      "\n"
     ]
    },
    {
     "name": "stdout",
     "output_type": "stream",
     "text": [
      "Estimating CAUSE parameters with  1000000  variants.\n",
      "1 0.1267509 \n",
      "2 0.0007924594 \n",
      "3 1.653766e-05 \n",
      "4 3.446412e-07 \n",
      "5 5.622406e-09 \n",
      "Estimating CAUSE posteriors using  5507  variants.\n"
     ]
    },
    {
     "name": "stderr",
     "output_type": "stream",
     "text": [
      "Warning message:\n",
      "“'compare' is deprecated.\n",
      "Use 'loo_compare' instead.\n",
      "See help(\"Deprecated\")”\n"
     ]
    },
    {
     "name": "stdout",
     "output_type": "stream",
     "text": [
      "    user   system  elapsed \n",
      "6308.376 2879.762  724.916 \n",
      "BMI ~ Hair_Black \n"
     ]
    },
    {
     "name": "stderr",
     "output_type": "stream",
     "text": [
      "\u001b[1m\u001b[1mRows: \u001b[1m\u001b[22m\u001b[34m\u001b[34m1037799\u001b[34m\u001b[39m \u001b[1m\u001b[1mColumns: \u001b[1m\u001b[22m\u001b[34m\u001b[34m7\u001b[34m\u001b[39m\n",
      "\n",
      "\u001b[36m──\u001b[39m \u001b[1m\u001b[1mColumn specification\u001b[1m\u001b[22m \u001b[36m────────────────────────────────────────────────────────────────────────────────────────────────────────\u001b[39m\n",
      "\u001b[1mDelimiter:\u001b[22m \"\\t\"\n",
      "\u001b[31mchr\u001b[39m (3): SNP, A1, A2\n",
      "\u001b[32mdbl\u001b[39m (4): Z, N, chi2, P\n",
      "\n",
      "\n",
      "\u001b[36mℹ\u001b[39m Use \u001b[30m\u001b[47m\u001b[30m\u001b[47m`spec()`\u001b[47m\u001b[30m\u001b[49m\u001b[39m to retrieve the full column specification for this data.\n",
      "\u001b[36mℹ\u001b[39m Specify the column types or set \u001b[30m\u001b[47m\u001b[30m\u001b[47m`show_col_types = FALSE`\u001b[47m\u001b[30m\u001b[49m\u001b[39m to quiet this message.\n",
      "\n",
      "\u001b[1m\u001b[1mRows: \u001b[1m\u001b[22m\u001b[34m\u001b[34m1037702\u001b[34m\u001b[39m \u001b[1m\u001b[1mColumns: \u001b[1m\u001b[22m\u001b[34m\u001b[34m7\u001b[34m\u001b[39m\n",
      "\n",
      "\u001b[36m──\u001b[39m \u001b[1m\u001b[1mColumn specification\u001b[1m\u001b[22m \u001b[36m────────────────────────────────────────────────────────────────────────────────────────────────────────\u001b[39m\n",
      "\u001b[1mDelimiter:\u001b[22m \"\\t\"\n",
      "\u001b[31mchr\u001b[39m (3): SNP, A1, A2\n",
      "\u001b[32mdbl\u001b[39m (4): Z, N, chi2, P\n",
      "\n",
      "\n",
      "\u001b[36mℹ\u001b[39m Use \u001b[30m\u001b[47m\u001b[30m\u001b[47m`spec()`\u001b[47m\u001b[30m\u001b[49m\u001b[39m to retrieve the full column specification for this data.\n",
      "\u001b[36mℹ\u001b[39m Specify the column types or set \u001b[30m\u001b[47m\u001b[30m\u001b[47m`show_col_types = FALSE`\u001b[47m\u001b[30m\u001b[49m\u001b[39m to quiet this message.\n",
      "\n"
     ]
    },
    {
     "name": "stdout",
     "output_type": "stream",
     "text": [
      "Formatting X1\n",
      "There are  1037799  variants.\n",
      "Removing  0  duplicated variants leaving  1037799 variants.\n",
      "No variants have illegal alleles.\n",
      "Removed  0  variants with ambiguous strand.\n",
      "Flipping strand and effect allele so A1 is always A\n",
      "Returning  1037799  variants.\n",
      "Formatting X2\n",
      "There are  1037702  variants.\n",
      "Removing  0  duplicated variants leaving  1037702 variants.\n",
      "No variants have illegal alleles.\n",
      "Removed  0  variants with ambiguous strand.\n",
      "Flipping strand and effect allele so A1 is always A\n",
      "Returning  1037702  variants.\n",
      "After merging and removing variants with inconsistent alleles,  there are  1037677  variants that are present in both studies and can be used with CAUSE.\n"
     ]
    },
    {
     "name": "stderr",
     "output_type": "stream",
     "text": [
      "Clumping 0G3QHy, 57475 variants, using EUR population reference\n",
      "\n",
      "Removing 51968 of 57475 variants due to LD with other variants or absence from LD reference panel\n",
      "\n"
     ]
    },
    {
     "name": "stdout",
     "output_type": "stream",
     "text": [
      "Estimating CAUSE parameters with  1000000  variants.\n",
      "1 0.07411328 \n",
      "2 0.0003000732 \n",
      "3 2.664344e-06 \n",
      "4 2.012942e-08 \n",
      "Estimating CAUSE posteriors using  5507  variants.\n"
     ]
    },
    {
     "name": "stderr",
     "output_type": "stream",
     "text": [
      "Warning message:\n",
      "“'compare' is deprecated.\n",
      "Use 'loo_compare' instead.\n",
      "See help(\"Deprecated\")”\n"
     ]
    },
    {
     "name": "stdout",
     "output_type": "stream",
     "text": [
      "    user   system  elapsed \n",
      "4178.031 1966.431  522.346 \n",
      "BMI ~ Hair_Blonde \n"
     ]
    },
    {
     "name": "stderr",
     "output_type": "stream",
     "text": [
      "\u001b[1m\u001b[1mRows: \u001b[1m\u001b[22m\u001b[34m\u001b[34m1037799\u001b[34m\u001b[39m \u001b[1m\u001b[1mColumns: \u001b[1m\u001b[22m\u001b[34m\u001b[34m7\u001b[34m\u001b[39m\n",
      "\n",
      "\u001b[36m──\u001b[39m \u001b[1m\u001b[1mColumn specification\u001b[1m\u001b[22m \u001b[36m────────────────────────────────────────────────────────────────────────────────────────────────────────\u001b[39m\n",
      "\u001b[1mDelimiter:\u001b[22m \"\\t\"\n",
      "\u001b[31mchr\u001b[39m (3): SNP, A1, A2\n",
      "\u001b[32mdbl\u001b[39m (4): Z, N, chi2, P\n",
      "\n",
      "\n",
      "\u001b[36mℹ\u001b[39m Use \u001b[30m\u001b[47m\u001b[30m\u001b[47m`spec()`\u001b[47m\u001b[30m\u001b[49m\u001b[39m to retrieve the full column specification for this data.\n",
      "\u001b[36mℹ\u001b[39m Specify the column types or set \u001b[30m\u001b[47m\u001b[30m\u001b[47m`show_col_types = FALSE`\u001b[47m\u001b[30m\u001b[49m\u001b[39m to quiet this message.\n",
      "\n",
      "\u001b[1m\u001b[1mRows: \u001b[1m\u001b[22m\u001b[34m\u001b[34m1037533\u001b[34m\u001b[39m \u001b[1m\u001b[1mColumns: \u001b[1m\u001b[22m\u001b[34m\u001b[34m7\u001b[34m\u001b[39m\n",
      "\n",
      "\u001b[36m──\u001b[39m \u001b[1m\u001b[1mColumn specification\u001b[1m\u001b[22m \u001b[36m────────────────────────────────────────────────────────────────────────────────────────────────────────\u001b[39m\n",
      "\u001b[1mDelimiter:\u001b[22m \"\\t\"\n",
      "\u001b[31mchr\u001b[39m (3): SNP, A1, A2\n",
      "\u001b[32mdbl\u001b[39m (4): Z, N, chi2, P\n",
      "\n",
      "\n",
      "\u001b[36mℹ\u001b[39m Use \u001b[30m\u001b[47m\u001b[30m\u001b[47m`spec()`\u001b[47m\u001b[30m\u001b[49m\u001b[39m to retrieve the full column specification for this data.\n",
      "\u001b[36mℹ\u001b[39m Specify the column types or set \u001b[30m\u001b[47m\u001b[30m\u001b[47m`show_col_types = FALSE`\u001b[47m\u001b[30m\u001b[49m\u001b[39m to quiet this message.\n",
      "\n"
     ]
    },
    {
     "name": "stdout",
     "output_type": "stream",
     "text": [
      "Formatting X1\n",
      "There are  1037799  variants.\n",
      "Removing  0  duplicated variants leaving  1037799 variants.\n",
      "No variants have illegal alleles.\n",
      "Removed  0  variants with ambiguous strand.\n",
      "Flipping strand and effect allele so A1 is always A\n",
      "Returning  1037799  variants.\n",
      "Formatting X2\n",
      "There are  1037533  variants.\n",
      "Removing  0  duplicated variants leaving  1037533 variants.\n",
      "No variants have illegal alleles.\n",
      "Removed  0  variants with ambiguous strand.\n",
      "Flipping strand and effect allele so A1 is always A\n",
      "Returning  1037533  variants.\n",
      "After merging and removing variants with inconsistent alleles,  there are  1037508  variants that are present in both studies and can be used with CAUSE.\n"
     ]
    },
    {
     "name": "stderr",
     "output_type": "stream",
     "text": [
      "Clumping gMH5jR, 57439 variants, using EUR population reference\n",
      "\n",
      "Removing 51931 of 57439 variants due to LD with other variants or absence from LD reference panel\n",
      "\n"
     ]
    },
    {
     "name": "stdout",
     "output_type": "stream",
     "text": [
      "Estimating CAUSE parameters with  1000000  variants.\n",
      "1 0.03403068 \n",
      "2 3.275794e-05 \n",
      "3 7.515823e-08 \n",
      "Estimating CAUSE posteriors using  5508  variants.\n"
     ]
    },
    {
     "name": "stderr",
     "output_type": "stream",
     "text": [
      "Warning message:\n",
      "“'compare' is deprecated.\n",
      "Use 'loo_compare' instead.\n",
      "See help(\"Deprecated\")”\n"
     ]
    },
    {
     "name": "stdout",
     "output_type": "stream",
     "text": [
      "    user   system  elapsed \n",
      "4315.335 1756.149  479.200 \n",
      "BMI ~ Tanning \n"
     ]
    },
    {
     "name": "stderr",
     "output_type": "stream",
     "text": [
      "\u001b[1m\u001b[1mRows: \u001b[1m\u001b[22m\u001b[34m\u001b[34m1037799\u001b[34m\u001b[39m \u001b[1m\u001b[1mColumns: \u001b[1m\u001b[22m\u001b[34m\u001b[34m7\u001b[34m\u001b[39m\n",
      "\n",
      "\u001b[36m──\u001b[39m \u001b[1m\u001b[1mColumn specification\u001b[1m\u001b[22m \u001b[36m────────────────────────────────────────────────────────────────────────────────────────────────────────\u001b[39m\n",
      "\u001b[1mDelimiter:\u001b[22m \"\\t\"\n",
      "\u001b[31mchr\u001b[39m (3): SNP, A1, A2\n",
      "\u001b[32mdbl\u001b[39m (4): Z, N, chi2, P\n",
      "\n",
      "\n",
      "\u001b[36mℹ\u001b[39m Use \u001b[30m\u001b[47m\u001b[30m\u001b[47m`spec()`\u001b[47m\u001b[30m\u001b[49m\u001b[39m to retrieve the full column specification for this data.\n",
      "\u001b[36mℹ\u001b[39m Specify the column types or set \u001b[30m\u001b[47m\u001b[30m\u001b[47m`show_col_types = FALSE`\u001b[47m\u001b[30m\u001b[49m\u001b[39m to quiet this message.\n",
      "\n",
      "\u001b[1m\u001b[1mRows: \u001b[1m\u001b[22m\u001b[34m\u001b[34m1037026\u001b[34m\u001b[39m \u001b[1m\u001b[1mColumns: \u001b[1m\u001b[22m\u001b[34m\u001b[34m7\u001b[34m\u001b[39m\n",
      "\n",
      "\u001b[36m──\u001b[39m \u001b[1m\u001b[1mColumn specification\u001b[1m\u001b[22m \u001b[36m────────────────────────────────────────────────────────────────────────────────────────────────────────\u001b[39m\n",
      "\u001b[1mDelimiter:\u001b[22m \"\\t\"\n",
      "\u001b[31mchr\u001b[39m (3): SNP, A1, A2\n",
      "\u001b[32mdbl\u001b[39m (4): Z, N, chi2, P\n",
      "\n",
      "\n",
      "\u001b[36mℹ\u001b[39m Use \u001b[30m\u001b[47m\u001b[30m\u001b[47m`spec()`\u001b[47m\u001b[30m\u001b[49m\u001b[39m to retrieve the full column specification for this data.\n",
      "\u001b[36mℹ\u001b[39m Specify the column types or set \u001b[30m\u001b[47m\u001b[30m\u001b[47m`show_col_types = FALSE`\u001b[47m\u001b[30m\u001b[49m\u001b[39m to quiet this message.\n",
      "\n"
     ]
    },
    {
     "name": "stdout",
     "output_type": "stream",
     "text": [
      "Formatting X1\n",
      "There are  1037799  variants.\n",
      "Removing  0  duplicated variants leaving  1037799 variants.\n",
      "No variants have illegal alleles.\n",
      "Removed  0  variants with ambiguous strand.\n",
      "Flipping strand and effect allele so A1 is always A\n",
      "Returning  1037799  variants.\n",
      "Formatting X2\n",
      "There are  1037026  variants.\n",
      "Removing  0  duplicated variants leaving  1037026 variants.\n",
      "No variants have illegal alleles.\n",
      "Removed  0  variants with ambiguous strand.\n",
      "Flipping strand and effect allele so A1 is always A\n",
      "Returning  1037026  variants.\n",
      "After merging and removing variants with inconsistent alleles,  there are  1037001  variants that are present in both studies and can be used with CAUSE.\n"
     ]
    },
    {
     "name": "stderr",
     "output_type": "stream",
     "text": [
      "Clumping PFNZDR, 57412 variants, using EUR population reference\n",
      "\n",
      "Removing 51907 of 57412 variants due to LD with other variants or absence from LD reference panel\n",
      "\n"
     ]
    },
    {
     "name": "stdout",
     "output_type": "stream",
     "text": [
      "Estimating CAUSE parameters with  1000000  variants.\n",
      "1 0.1606483 \n",
      "2 0.0008961013 \n",
      "3 2.119502e-05 \n",
      "4 5.032889e-07 \n",
      "5 1.201884e-08 \n",
      "Estimating CAUSE posteriors using  5505  variants.\n"
     ]
    },
    {
     "name": "stderr",
     "output_type": "stream",
     "text": [
      "Warning message:\n",
      "“'compare' is deprecated.\n",
      "Use 'loo_compare' instead.\n",
      "See help(\"Deprecated\")”\n"
     ]
    },
    {
     "name": "stdout",
     "output_type": "stream",
     "text": [
      "    user   system  elapsed \n",
      "5115.020 2356.742  631.575 \n",
      "Depression ~ Hair_Light_Brown \n"
     ]
    },
    {
     "name": "stderr",
     "output_type": "stream",
     "text": [
      "\u001b[1m\u001b[1mRows: \u001b[1m\u001b[22m\u001b[34m\u001b[34m1026744\u001b[34m\u001b[39m \u001b[1m\u001b[1mColumns: \u001b[1m\u001b[22m\u001b[34m\u001b[34m7\u001b[34m\u001b[39m\n",
      "\n",
      "\u001b[36m──\u001b[39m \u001b[1m\u001b[1mColumn specification\u001b[1m\u001b[22m \u001b[36m────────────────────────────────────────────────────────────────────────────────────────────────────────\u001b[39m\n",
      "\u001b[1mDelimiter:\u001b[22m \"\\t\"\n",
      "\u001b[31mchr\u001b[39m (3): SNP, A1, A2\n",
      "\u001b[32mdbl\u001b[39m (4): Z, N, chi2, P\n",
      "\n",
      "\n",
      "\u001b[36mℹ\u001b[39m Use \u001b[30m\u001b[47m\u001b[30m\u001b[47m`spec()`\u001b[47m\u001b[30m\u001b[49m\u001b[39m to retrieve the full column specification for this data.\n",
      "\u001b[36mℹ\u001b[39m Specify the column types or set \u001b[30m\u001b[47m\u001b[30m\u001b[47m`show_col_types = FALSE`\u001b[47m\u001b[30m\u001b[49m\u001b[39m to quiet this message.\n",
      "\n",
      "\u001b[1m\u001b[1mRows: \u001b[1m\u001b[22m\u001b[34m\u001b[34m1037742\u001b[34m\u001b[39m \u001b[1m\u001b[1mColumns: \u001b[1m\u001b[22m\u001b[34m\u001b[34m7\u001b[34m\u001b[39m\n",
      "\n",
      "\u001b[36m──\u001b[39m \u001b[1m\u001b[1mColumn specification\u001b[1m\u001b[22m \u001b[36m────────────────────────────────────────────────────────────────────────────────────────────────────────\u001b[39m\n",
      "\u001b[1mDelimiter:\u001b[22m \"\\t\"\n",
      "\u001b[31mchr\u001b[39m (3): SNP, A1, A2\n",
      "\u001b[32mdbl\u001b[39m (4): Z, N, chi2, P\n",
      "\n",
      "\n",
      "\u001b[36mℹ\u001b[39m Use \u001b[30m\u001b[47m\u001b[30m\u001b[47m`spec()`\u001b[47m\u001b[30m\u001b[49m\u001b[39m to retrieve the full column specification for this data.\n",
      "\u001b[36mℹ\u001b[39m Specify the column types or set \u001b[30m\u001b[47m\u001b[30m\u001b[47m`show_col_types = FALSE`\u001b[47m\u001b[30m\u001b[49m\u001b[39m to quiet this message.\n",
      "\n"
     ]
    },
    {
     "name": "stdout",
     "output_type": "stream",
     "text": [
      "Formatting X1\n",
      "There are  1026744  variants.\n",
      "Removing  0  duplicated variants leaving  1026744 variants.\n",
      "No variants have illegal alleles.\n",
      "Removed  0  variants with ambiguous strand.\n",
      "Flipping strand and effect allele so A1 is always A\n",
      "Returning  1026744  variants.\n",
      "Formatting X2\n",
      "There are  1037742  variants.\n",
      "Removing  0  duplicated variants leaving  1037742 variants.\n",
      "No variants have illegal alleles.\n",
      "Removed  0  variants with ambiguous strand.\n",
      "Flipping strand and effect allele so A1 is always A\n",
      "Returning  1037742  variants.\n",
      "After merging and removing variants with inconsistent alleles,  there are  1026271  variants that are present in both studies and can be used with CAUSE.\n"
     ]
    },
    {
     "name": "stderr",
     "output_type": "stream",
     "text": [
      "Clumping 3DZXIi, 7449 variants, using EUR population reference\n",
      "\n",
      "Removing 6212 of 7449 variants due to LD with other variants or absence from LD reference panel\n",
      "\n"
     ]
    },
    {
     "name": "stdout",
     "output_type": "stream",
     "text": [
      "Estimating CAUSE parameters with  1000000  variants.\n",
      "1 0.01307275 \n",
      "2 1.063794e-05 \n",
      "3 6.137318e-09 \n",
      "Estimating CAUSE posteriors using  1237  variants.\n"
     ]
    },
    {
     "name": "stderr",
     "output_type": "stream",
     "text": [
      "Warning message:\n",
      "“'compare' is deprecated.\n",
      "Use 'loo_compare' instead.\n",
      "See help(\"Deprecated\")”\n"
     ]
    },
    {
     "name": "stdout",
     "output_type": "stream",
     "text": [
      "    user   system  elapsed \n",
      "2439.641 1771.841  427.983 \n",
      "Depression ~ Hair_Dark_Brown \n"
     ]
    },
    {
     "name": "stderr",
     "output_type": "stream",
     "text": [
      "\u001b[1m\u001b[1mRows: \u001b[1m\u001b[22m\u001b[34m\u001b[34m1026744\u001b[34m\u001b[39m \u001b[1m\u001b[1mColumns: \u001b[1m\u001b[22m\u001b[34m\u001b[34m7\u001b[34m\u001b[39m\n",
      "\n",
      "\u001b[36m──\u001b[39m \u001b[1m\u001b[1mColumn specification\u001b[1m\u001b[22m \u001b[36m────────────────────────────────────────────────────────────────────────────────────────────────────────\u001b[39m\n",
      "\u001b[1mDelimiter:\u001b[22m \"\\t\"\n",
      "\u001b[31mchr\u001b[39m (3): SNP, A1, A2\n",
      "\u001b[32mdbl\u001b[39m (4): Z, N, chi2, P\n",
      "\n",
      "\n",
      "\u001b[36mℹ\u001b[39m Use \u001b[30m\u001b[47m\u001b[30m\u001b[47m`spec()`\u001b[47m\u001b[30m\u001b[49m\u001b[39m to retrieve the full column specification for this data.\n",
      "\u001b[36mℹ\u001b[39m Specify the column types or set \u001b[30m\u001b[47m\u001b[30m\u001b[47m`show_col_types = FALSE`\u001b[47m\u001b[30m\u001b[49m\u001b[39m to quiet this message.\n",
      "\n",
      "\u001b[1m\u001b[1mRows: \u001b[1m\u001b[22m\u001b[34m\u001b[34m1037381\u001b[34m\u001b[39m \u001b[1m\u001b[1mColumns: \u001b[1m\u001b[22m\u001b[34m\u001b[34m7\u001b[34m\u001b[39m\n",
      "\n",
      "\u001b[36m──\u001b[39m \u001b[1m\u001b[1mColumn specification\u001b[1m\u001b[22m \u001b[36m────────────────────────────────────────────────────────────────────────────────────────────────────────\u001b[39m\n",
      "\u001b[1mDelimiter:\u001b[22m \"\\t\"\n",
      "\u001b[31mchr\u001b[39m (3): SNP, A1, A2\n",
      "\u001b[32mdbl\u001b[39m (4): Z, N, chi2, P\n",
      "\n",
      "\n",
      "\u001b[36mℹ\u001b[39m Use \u001b[30m\u001b[47m\u001b[30m\u001b[47m`spec()`\u001b[47m\u001b[30m\u001b[49m\u001b[39m to retrieve the full column specification for this data.\n",
      "\u001b[36mℹ\u001b[39m Specify the column types or set \u001b[30m\u001b[47m\u001b[30m\u001b[47m`show_col_types = FALSE`\u001b[47m\u001b[30m\u001b[49m\u001b[39m to quiet this message.\n",
      "\n"
     ]
    },
    {
     "name": "stdout",
     "output_type": "stream",
     "text": [
      "Formatting X1\n",
      "There are  1026744  variants.\n",
      "Removing  0  duplicated variants leaving  1026744 variants.\n",
      "No variants have illegal alleles.\n",
      "Removed  0  variants with ambiguous strand.\n",
      "Flipping strand and effect allele so A1 is always A\n",
      "Returning  1026744  variants.\n",
      "Formatting X2\n",
      "There are  1037381  variants.\n",
      "Removing  0  duplicated variants leaving  1037381 variants.\n",
      "No variants have illegal alleles.\n",
      "Removed  0  variants with ambiguous strand.\n",
      "Flipping strand and effect allele so A1 is always A\n",
      "Returning  1037381  variants.\n",
      "After merging and removing variants with inconsistent alleles,  there are  1025910  variants that are present in both studies and can be used with CAUSE.\n"
     ]
    },
    {
     "name": "stderr",
     "output_type": "stream",
     "text": [
      "Clumping plQGnY, 7449 variants, using EUR population reference\n",
      "\n",
      "Removing 6212 of 7449 variants due to LD with other variants or absence from LD reference panel\n",
      "\n"
     ]
    },
    {
     "name": "stdout",
     "output_type": "stream",
     "text": [
      "Estimating CAUSE parameters with  1000000  variants.\n",
      "1 0.0006665594 \n",
      "2 2.520866e-07 \n",
      "3 9.811507e-11 \n",
      "Estimating CAUSE posteriors using  1237  variants.\n"
     ]
    },
    {
     "name": "stderr",
     "output_type": "stream",
     "text": [
      "Warning message:\n",
      "“'compare' is deprecated.\n",
      "Use 'loo_compare' instead.\n",
      "See help(\"Deprecated\")”\n"
     ]
    },
    {
     "name": "stdout",
     "output_type": "stream",
     "text": [
      "    user   system  elapsed \n",
      "2254.728 1766.525  405.891 \n",
      "Depression ~ Hair_Black \n"
     ]
    },
    {
     "name": "stderr",
     "output_type": "stream",
     "text": [
      "\u001b[1m\u001b[1mRows: \u001b[1m\u001b[22m\u001b[34m\u001b[34m1026744\u001b[34m\u001b[39m \u001b[1m\u001b[1mColumns: \u001b[1m\u001b[22m\u001b[34m\u001b[34m7\u001b[34m\u001b[39m\n",
      "\n",
      "\u001b[36m──\u001b[39m \u001b[1m\u001b[1mColumn specification\u001b[1m\u001b[22m \u001b[36m────────────────────────────────────────────────────────────────────────────────────────────────────────\u001b[39m\n",
      "\u001b[1mDelimiter:\u001b[22m \"\\t\"\n",
      "\u001b[31mchr\u001b[39m (3): SNP, A1, A2\n",
      "\u001b[32mdbl\u001b[39m (4): Z, N, chi2, P\n",
      "\n",
      "\n",
      "\u001b[36mℹ\u001b[39m Use \u001b[30m\u001b[47m\u001b[30m\u001b[47m`spec()`\u001b[47m\u001b[30m\u001b[49m\u001b[39m to retrieve the full column specification for this data.\n",
      "\u001b[36mℹ\u001b[39m Specify the column types or set \u001b[30m\u001b[47m\u001b[30m\u001b[47m`show_col_types = FALSE`\u001b[47m\u001b[30m\u001b[49m\u001b[39m to quiet this message.\n",
      "\n",
      "\u001b[1m\u001b[1mRows: \u001b[1m\u001b[22m\u001b[34m\u001b[34m1037702\u001b[34m\u001b[39m \u001b[1m\u001b[1mColumns: \u001b[1m\u001b[22m\u001b[34m\u001b[34m7\u001b[34m\u001b[39m\n",
      "\n",
      "\u001b[36m──\u001b[39m \u001b[1m\u001b[1mColumn specification\u001b[1m\u001b[22m \u001b[36m────────────────────────────────────────────────────────────────────────────────────────────────────────\u001b[39m\n",
      "\u001b[1mDelimiter:\u001b[22m \"\\t\"\n",
      "\u001b[31mchr\u001b[39m (3): SNP, A1, A2\n",
      "\u001b[32mdbl\u001b[39m (4): Z, N, chi2, P\n",
      "\n",
      "\n",
      "\u001b[36mℹ\u001b[39m Use \u001b[30m\u001b[47m\u001b[30m\u001b[47m`spec()`\u001b[47m\u001b[30m\u001b[49m\u001b[39m to retrieve the full column specification for this data.\n",
      "\u001b[36mℹ\u001b[39m Specify the column types or set \u001b[30m\u001b[47m\u001b[30m\u001b[47m`show_col_types = FALSE`\u001b[47m\u001b[30m\u001b[49m\u001b[39m to quiet this message.\n",
      "\n"
     ]
    },
    {
     "name": "stdout",
     "output_type": "stream",
     "text": [
      "Formatting X1\n",
      "There are  1026744  variants.\n",
      "Removing  0  duplicated variants leaving  1026744 variants.\n",
      "No variants have illegal alleles.\n",
      "Removed  0  variants with ambiguous strand.\n",
      "Flipping strand and effect allele so A1 is always A\n",
      "Returning  1026744  variants.\n",
      "Formatting X2\n",
      "There are  1037702  variants.\n",
      "Removing  0  duplicated variants leaving  1037702 variants.\n",
      "No variants have illegal alleles.\n",
      "Removed  0  variants with ambiguous strand.\n",
      "Flipping strand and effect allele so A1 is always A\n",
      "Returning  1037702  variants.\n",
      "After merging and removing variants with inconsistent alleles,  there are  1026231  variants that are present in both studies and can be used with CAUSE.\n"
     ]
    },
    {
     "name": "stderr",
     "output_type": "stream",
     "text": [
      "Clumping t5gUGl, 7449 variants, using EUR population reference\n",
      "\n",
      "Removing 6212 of 7449 variants due to LD with other variants or absence from LD reference panel\n",
      "\n"
     ]
    },
    {
     "name": "stdout",
     "output_type": "stream",
     "text": [
      "Estimating CAUSE parameters with  1000000  variants.\n",
      "1 0.03342984 \n",
      "2 2.548924e-05 \n",
      "3 6.801987e-08 \n",
      "Estimating CAUSE posteriors using  1237  variants.\n"
     ]
    },
    {
     "name": "stderr",
     "output_type": "stream",
     "text": [
      "Warning message:\n",
      "“'compare' is deprecated.\n",
      "Use 'loo_compare' instead.\n",
      "See help(\"Deprecated\")”\n"
     ]
    },
    {
     "name": "stdout",
     "output_type": "stream",
     "text": [
      "    user   system  elapsed \n",
      "2237.510 1717.391  380.091 \n",
      "Depression ~ Hair_Blonde \n"
     ]
    },
    {
     "name": "stderr",
     "output_type": "stream",
     "text": [
      "\u001b[1m\u001b[1mRows: \u001b[1m\u001b[22m\u001b[34m\u001b[34m1026744\u001b[34m\u001b[39m \u001b[1m\u001b[1mColumns: \u001b[1m\u001b[22m\u001b[34m\u001b[34m7\u001b[34m\u001b[39m\n",
      "\n",
      "\u001b[36m──\u001b[39m \u001b[1m\u001b[1mColumn specification\u001b[1m\u001b[22m \u001b[36m────────────────────────────────────────────────────────────────────────────────────────────────────────\u001b[39m\n",
      "\u001b[1mDelimiter:\u001b[22m \"\\t\"\n",
      "\u001b[31mchr\u001b[39m (3): SNP, A1, A2\n",
      "\u001b[32mdbl\u001b[39m (4): Z, N, chi2, P\n",
      "\n",
      "\n",
      "\u001b[36mℹ\u001b[39m Use \u001b[30m\u001b[47m\u001b[30m\u001b[47m`spec()`\u001b[47m\u001b[30m\u001b[49m\u001b[39m to retrieve the full column specification for this data.\n",
      "\u001b[36mℹ\u001b[39m Specify the column types or set \u001b[30m\u001b[47m\u001b[30m\u001b[47m`show_col_types = FALSE`\u001b[47m\u001b[30m\u001b[49m\u001b[39m to quiet this message.\n",
      "\n",
      "\u001b[1m\u001b[1mRows: \u001b[1m\u001b[22m\u001b[34m\u001b[34m1037533\u001b[34m\u001b[39m \u001b[1m\u001b[1mColumns: \u001b[1m\u001b[22m\u001b[34m\u001b[34m7\u001b[34m\u001b[39m\n",
      "\n",
      "\u001b[36m──\u001b[39m \u001b[1m\u001b[1mColumn specification\u001b[1m\u001b[22m \u001b[36m────────────────────────────────────────────────────────────────────────────────────────────────────────\u001b[39m\n",
      "\u001b[1mDelimiter:\u001b[22m \"\\t\"\n",
      "\u001b[31mchr\u001b[39m (3): SNP, A1, A2\n",
      "\u001b[32mdbl\u001b[39m (4): Z, N, chi2, P\n",
      "\n",
      "\n",
      "\u001b[36mℹ\u001b[39m Use \u001b[30m\u001b[47m\u001b[30m\u001b[47m`spec()`\u001b[47m\u001b[30m\u001b[49m\u001b[39m to retrieve the full column specification for this data.\n",
      "\u001b[36mℹ\u001b[39m Specify the column types or set \u001b[30m\u001b[47m\u001b[30m\u001b[47m`show_col_types = FALSE`\u001b[47m\u001b[30m\u001b[49m\u001b[39m to quiet this message.\n",
      "\n"
     ]
    },
    {
     "name": "stdout",
     "output_type": "stream",
     "text": [
      "Formatting X1\n",
      "There are  1026744  variants.\n",
      "Removing  0  duplicated variants leaving  1026744 variants.\n",
      "No variants have illegal alleles.\n",
      "Removed  0  variants with ambiguous strand.\n",
      "Flipping strand and effect allele so A1 is always A\n",
      "Returning  1026744  variants.\n",
      "Formatting X2\n",
      "There are  1037533  variants.\n",
      "Removing  0  duplicated variants leaving  1037533 variants.\n",
      "No variants have illegal alleles.\n",
      "Removed  0  variants with ambiguous strand.\n",
      "Flipping strand and effect allele so A1 is always A\n",
      "Returning  1037533  variants.\n",
      "After merging and removing variants with inconsistent alleles,  there are  1026062  variants that are present in both studies and can be used with CAUSE.\n"
     ]
    },
    {
     "name": "stderr",
     "output_type": "stream",
     "text": [
      "Clumping I9IYeJ, 7449 variants, using EUR population reference\n",
      "\n",
      "Removing 6212 of 7449 variants due to LD with other variants or absence from LD reference panel\n",
      "\n"
     ]
    },
    {
     "name": "stdout",
     "output_type": "stream",
     "text": [
      "Estimating CAUSE parameters with  1000000  variants.\n",
      "1 0.00659256 \n",
      "2 8.633015e-06 \n",
      "3 1.296517e-08 \n",
      "Estimating CAUSE posteriors using  1237  variants.\n"
     ]
    },
    {
     "name": "stderr",
     "output_type": "stream",
     "text": [
      "Warning message:\n",
      "“'compare' is deprecated.\n",
      "Use 'loo_compare' instead.\n",
      "See help(\"Deprecated\")”\n"
     ]
    },
    {
     "name": "stdout",
     "output_type": "stream",
     "text": [
      "    user   system  elapsed \n",
      "2187.113 1760.964  384.581 \n",
      "Depression ~ Tanning \n"
     ]
    },
    {
     "name": "stderr",
     "output_type": "stream",
     "text": [
      "\u001b[1m\u001b[1mRows: \u001b[1m\u001b[22m\u001b[34m\u001b[34m1026744\u001b[34m\u001b[39m \u001b[1m\u001b[1mColumns: \u001b[1m\u001b[22m\u001b[34m\u001b[34m7\u001b[34m\u001b[39m\n",
      "\n",
      "\u001b[36m──\u001b[39m \u001b[1m\u001b[1mColumn specification\u001b[1m\u001b[22m \u001b[36m────────────────────────────────────────────────────────────────────────────────────────────────────────\u001b[39m\n",
      "\u001b[1mDelimiter:\u001b[22m \"\\t\"\n",
      "\u001b[31mchr\u001b[39m (3): SNP, A1, A2\n",
      "\u001b[32mdbl\u001b[39m (4): Z, N, chi2, P\n",
      "\n",
      "\n",
      "\u001b[36mℹ\u001b[39m Use \u001b[30m\u001b[47m\u001b[30m\u001b[47m`spec()`\u001b[47m\u001b[30m\u001b[49m\u001b[39m to retrieve the full column specification for this data.\n",
      "\u001b[36mℹ\u001b[39m Specify the column types or set \u001b[30m\u001b[47m\u001b[30m\u001b[47m`show_col_types = FALSE`\u001b[47m\u001b[30m\u001b[49m\u001b[39m to quiet this message.\n",
      "\n",
      "\u001b[1m\u001b[1mRows: \u001b[1m\u001b[22m\u001b[34m\u001b[34m1037026\u001b[34m\u001b[39m \u001b[1m\u001b[1mColumns: \u001b[1m\u001b[22m\u001b[34m\u001b[34m7\u001b[34m\u001b[39m\n",
      "\n",
      "\u001b[36m──\u001b[39m \u001b[1m\u001b[1mColumn specification\u001b[1m\u001b[22m \u001b[36m────────────────────────────────────────────────────────────────────────────────────────────────────────\u001b[39m\n",
      "\u001b[1mDelimiter:\u001b[22m \"\\t\"\n",
      "\u001b[31mchr\u001b[39m (3): SNP, A1, A2\n",
      "\u001b[32mdbl\u001b[39m (4): Z, N, chi2, P\n",
      "\n",
      "\n",
      "\u001b[36mℹ\u001b[39m Use \u001b[30m\u001b[47m\u001b[30m\u001b[47m`spec()`\u001b[47m\u001b[30m\u001b[49m\u001b[39m to retrieve the full column specification for this data.\n",
      "\u001b[36mℹ\u001b[39m Specify the column types or set \u001b[30m\u001b[47m\u001b[30m\u001b[47m`show_col_types = FALSE`\u001b[47m\u001b[30m\u001b[49m\u001b[39m to quiet this message.\n",
      "\n"
     ]
    },
    {
     "name": "stdout",
     "output_type": "stream",
     "text": [
      "Formatting X1\n",
      "There are  1026744  variants.\n",
      "Removing  0  duplicated variants leaving  1026744 variants.\n",
      "No variants have illegal alleles.\n",
      "Removed  0  variants with ambiguous strand.\n",
      "Flipping strand and effect allele so A1 is always A\n",
      "Returning  1026744  variants.\n",
      "Formatting X2\n",
      "There are  1037026  variants.\n",
      "Removing  0  duplicated variants leaving  1037026 variants.\n",
      "No variants have illegal alleles.\n",
      "Removed  0  variants with ambiguous strand.\n",
      "Flipping strand and effect allele so A1 is always A\n",
      "Returning  1037026  variants.\n",
      "After merging and removing variants with inconsistent alleles,  there are  1025557  variants that are present in both studies and can be used with CAUSE.\n"
     ]
    },
    {
     "name": "stderr",
     "output_type": "stream",
     "text": [
      "Clumping ofWbh6, 7441 variants, using EUR population reference\n",
      "\n",
      "Removing 6205 of 7441 variants due to LD with other variants or absence from LD reference panel\n",
      "\n"
     ]
    },
    {
     "name": "stdout",
     "output_type": "stream",
     "text": [
      "Estimating CAUSE parameters with  1000000  variants.\n",
      "1 0.01295432 \n",
      "2 1.439786e-05 \n",
      "3 1.631482e-08 \n",
      "Estimating CAUSE posteriors using  1236  variants.\n"
     ]
    },
    {
     "name": "stderr",
     "output_type": "stream",
     "text": [
      "Warning message:\n",
      "“'compare' is deprecated.\n",
      "Use 'loo_compare' instead.\n",
      "See help(\"Deprecated\")”\n"
     ]
    },
    {
     "name": "stdout",
     "output_type": "stream",
     "text": [
      "    user   system  elapsed \n",
      "2425.623 1989.522  428.340 \n",
      "IBD ~ Hair_Light_Brown \n"
     ]
    },
    {
     "name": "stderr",
     "output_type": "stream",
     "text": [
      "\u001b[1m\u001b[1mRows: \u001b[1m\u001b[22m\u001b[34m\u001b[34m1150157\u001b[34m\u001b[39m \u001b[1m\u001b[1mColumns: \u001b[1m\u001b[22m\u001b[34m\u001b[34m7\u001b[34m\u001b[39m\n",
      "\n",
      "\u001b[36m──\u001b[39m \u001b[1m\u001b[1mColumn specification\u001b[1m\u001b[22m \u001b[36m────────────────────────────────────────────────────────────────────────────────────────────────────────\u001b[39m\n",
      "\u001b[1mDelimiter:\u001b[22m \"\\t\"\n",
      "\u001b[31mchr\u001b[39m (3): SNP, A1, A2\n",
      "\u001b[32mdbl\u001b[39m (4): Z, N, chi2, P\n",
      "\n",
      "\n",
      "\u001b[36mℹ\u001b[39m Use \u001b[30m\u001b[47m\u001b[30m\u001b[47m`spec()`\u001b[47m\u001b[30m\u001b[49m\u001b[39m to retrieve the full column specification for this data.\n",
      "\u001b[36mℹ\u001b[39m Specify the column types or set \u001b[30m\u001b[47m\u001b[30m\u001b[47m`show_col_types = FALSE`\u001b[47m\u001b[30m\u001b[49m\u001b[39m to quiet this message.\n",
      "\n",
      "\u001b[1m\u001b[1mRows: \u001b[1m\u001b[22m\u001b[34m\u001b[34m1037742\u001b[34m\u001b[39m \u001b[1m\u001b[1mColumns: \u001b[1m\u001b[22m\u001b[34m\u001b[34m7\u001b[34m\u001b[39m\n",
      "\n",
      "\u001b[36m──\u001b[39m \u001b[1m\u001b[1mColumn specification\u001b[1m\u001b[22m \u001b[36m────────────────────────────────────────────────────────────────────────────────────────────────────────\u001b[39m\n",
      "\u001b[1mDelimiter:\u001b[22m \"\\t\"\n",
      "\u001b[31mchr\u001b[39m (3): SNP, A1, A2\n",
      "\u001b[32mdbl\u001b[39m (4): Z, N, chi2, P\n",
      "\n",
      "\n",
      "\u001b[36mℹ\u001b[39m Use \u001b[30m\u001b[47m\u001b[30m\u001b[47m`spec()`\u001b[47m\u001b[30m\u001b[49m\u001b[39m to retrieve the full column specification for this data.\n",
      "\u001b[36mℹ\u001b[39m Specify the column types or set \u001b[30m\u001b[47m\u001b[30m\u001b[47m`show_col_types = FALSE`\u001b[47m\u001b[30m\u001b[49m\u001b[39m to quiet this message.\n",
      "\n"
     ]
    },
    {
     "name": "stdout",
     "output_type": "stream",
     "text": [
      "Formatting X1\n",
      "There are  1150157  variants.\n",
      "Removing  0  duplicated variants leaving  1150157 variants.\n",
      "No variants have illegal alleles.\n",
      "Removed  0  variants with ambiguous strand.\n",
      "Flipping strand and effect allele so A1 is always A\n",
      "Returning  1150157  variants.\n",
      "Formatting X2\n",
      "There are  1037742  variants.\n",
      "Removing  0  duplicated variants leaving  1037742 variants.\n",
      "No variants have illegal alleles.\n",
      "Removed  0  variants with ambiguous strand.\n",
      "Flipping strand and effect allele so A1 is always A\n",
      "Returning  1037742  variants.\n",
      "After merging and removing variants with inconsistent alleles,  there are  997703  variants that are present in both studies and can be used with CAUSE.\n"
     ]
    },
    {
     "name": "stderr",
     "output_type": "stream",
     "text": [
      "Clumping YYw36m, 11920 variants, using EUR population reference\n",
      "\n",
      "Removing 10207 of 11920 variants due to LD with other variants or absence from LD reference panel\n",
      "\n"
     ]
    },
    {
     "name": "stdout",
     "output_type": "stream",
     "text": [
      "Estimating CAUSE parameters with  997703  variants.\n",
      "1 0.01743462 \n",
      "2 3.463386e-06 \n",
      "3 8.211831e-09 \n",
      "Estimating CAUSE posteriors using  1713  variants.\n"
     ]
    },
    {
     "name": "stderr",
     "output_type": "stream",
     "text": [
      "Warning message:\n",
      "“'compare' is deprecated.\n",
      "Use 'loo_compare' instead.\n",
      "See help(\"Deprecated\")”\n"
     ]
    },
    {
     "name": "stdout",
     "output_type": "stream",
     "text": [
      "    user   system  elapsed \n",
      "2738.753 1793.964  430.570 \n",
      "IBD ~ Hair_Dark_Brown \n"
     ]
    },
    {
     "name": "stderr",
     "output_type": "stream",
     "text": [
      "\u001b[1m\u001b[1mRows: \u001b[1m\u001b[22m\u001b[34m\u001b[34m1150157\u001b[34m\u001b[39m \u001b[1m\u001b[1mColumns: \u001b[1m\u001b[22m\u001b[34m\u001b[34m7\u001b[34m\u001b[39m\n",
      "\n",
      "\u001b[36m──\u001b[39m \u001b[1m\u001b[1mColumn specification\u001b[1m\u001b[22m \u001b[36m────────────────────────────────────────────────────────────────────────────────────────────────────────\u001b[39m\n",
      "\u001b[1mDelimiter:\u001b[22m \"\\t\"\n",
      "\u001b[31mchr\u001b[39m (3): SNP, A1, A2\n",
      "\u001b[32mdbl\u001b[39m (4): Z, N, chi2, P\n",
      "\n",
      "\n",
      "\u001b[36mℹ\u001b[39m Use \u001b[30m\u001b[47m\u001b[30m\u001b[47m`spec()`\u001b[47m\u001b[30m\u001b[49m\u001b[39m to retrieve the full column specification for this data.\n",
      "\u001b[36mℹ\u001b[39m Specify the column types or set \u001b[30m\u001b[47m\u001b[30m\u001b[47m`show_col_types = FALSE`\u001b[47m\u001b[30m\u001b[49m\u001b[39m to quiet this message.\n",
      "\n",
      "\u001b[1m\u001b[1mRows: \u001b[1m\u001b[22m\u001b[34m\u001b[34m1037381\u001b[34m\u001b[39m \u001b[1m\u001b[1mColumns: \u001b[1m\u001b[22m\u001b[34m\u001b[34m7\u001b[34m\u001b[39m\n",
      "\n",
      "\u001b[36m──\u001b[39m \u001b[1m\u001b[1mColumn specification\u001b[1m\u001b[22m \u001b[36m────────────────────────────────────────────────────────────────────────────────────────────────────────\u001b[39m\n",
      "\u001b[1mDelimiter:\u001b[22m \"\\t\"\n",
      "\u001b[31mchr\u001b[39m (3): SNP, A1, A2\n",
      "\u001b[32mdbl\u001b[39m (4): Z, N, chi2, P\n",
      "\n",
      "\n",
      "\u001b[36mℹ\u001b[39m Use \u001b[30m\u001b[47m\u001b[30m\u001b[47m`spec()`\u001b[47m\u001b[30m\u001b[49m\u001b[39m to retrieve the full column specification for this data.\n",
      "\u001b[36mℹ\u001b[39m Specify the column types or set \u001b[30m\u001b[47m\u001b[30m\u001b[47m`show_col_types = FALSE`\u001b[47m\u001b[30m\u001b[49m\u001b[39m to quiet this message.\n",
      "\n"
     ]
    },
    {
     "name": "stdout",
     "output_type": "stream",
     "text": [
      "Formatting X1\n",
      "There are  1150157  variants.\n",
      "Removing  0  duplicated variants leaving  1150157 variants.\n",
      "No variants have illegal alleles.\n",
      "Removed  0  variants with ambiguous strand.\n",
      "Flipping strand and effect allele so A1 is always A\n",
      "Returning  1150157  variants.\n",
      "Formatting X2\n",
      "There are  1037381  variants.\n",
      "Removing  0  duplicated variants leaving  1037381 variants.\n",
      "No variants have illegal alleles.\n",
      "Removed  0  variants with ambiguous strand.\n",
      "Flipping strand and effect allele so A1 is always A\n",
      "Returning  1037381  variants.\n",
      "After merging and removing variants with inconsistent alleles,  there are  997357  variants that are present in both studies and can be used with CAUSE.\n"
     ]
    },
    {
     "name": "stderr",
     "output_type": "stream",
     "text": [
      "Clumping 03TfQw, 11920 variants, using EUR population reference\n",
      "\n",
      "Removing 10207 of 11920 variants due to LD with other variants or absence from LD reference panel\n",
      "\n"
     ]
    },
    {
     "name": "stdout",
     "output_type": "stream",
     "text": [
      "Estimating CAUSE parameters with  997357  variants.\n",
      "1 0.01646341 \n",
      "2 3.770773e-06 \n",
      "3 3.177816e-09 \n",
      "Estimating CAUSE posteriors using  1713  variants.\n"
     ]
    },
    {
     "name": "stderr",
     "output_type": "stream",
     "text": [
      "Warning message:\n",
      "“'compare' is deprecated.\n",
      "Use 'loo_compare' instead.\n",
      "See help(\"Deprecated\")”\n"
     ]
    },
    {
     "name": "stdout",
     "output_type": "stream",
     "text": [
      "    user   system  elapsed \n",
      "2682.326 1793.427  432.153 \n",
      "IBD ~ Hair_Black \n"
     ]
    },
    {
     "name": "stderr",
     "output_type": "stream",
     "text": [
      "\u001b[1m\u001b[1mRows: \u001b[1m\u001b[22m\u001b[34m\u001b[34m1150157\u001b[34m\u001b[39m \u001b[1m\u001b[1mColumns: \u001b[1m\u001b[22m\u001b[34m\u001b[34m7\u001b[34m\u001b[39m\n",
      "\n",
      "\u001b[36m──\u001b[39m \u001b[1m\u001b[1mColumn specification\u001b[1m\u001b[22m \u001b[36m────────────────────────────────────────────────────────────────────────────────────────────────────────\u001b[39m\n",
      "\u001b[1mDelimiter:\u001b[22m \"\\t\"\n",
      "\u001b[31mchr\u001b[39m (3): SNP, A1, A2\n",
      "\u001b[32mdbl\u001b[39m (4): Z, N, chi2, P\n",
      "\n",
      "\n",
      "\u001b[36mℹ\u001b[39m Use \u001b[30m\u001b[47m\u001b[30m\u001b[47m`spec()`\u001b[47m\u001b[30m\u001b[49m\u001b[39m to retrieve the full column specification for this data.\n",
      "\u001b[36mℹ\u001b[39m Specify the column types or set \u001b[30m\u001b[47m\u001b[30m\u001b[47m`show_col_types = FALSE`\u001b[47m\u001b[30m\u001b[49m\u001b[39m to quiet this message.\n",
      "\n",
      "\u001b[1m\u001b[1mRows: \u001b[1m\u001b[22m\u001b[34m\u001b[34m1037702\u001b[34m\u001b[39m \u001b[1m\u001b[1mColumns: \u001b[1m\u001b[22m\u001b[34m\u001b[34m7\u001b[34m\u001b[39m\n",
      "\n",
      "\u001b[36m──\u001b[39m \u001b[1m\u001b[1mColumn specification\u001b[1m\u001b[22m \u001b[36m────────────────────────────────────────────────────────────────────────────────────────────────────────\u001b[39m\n",
      "\u001b[1mDelimiter:\u001b[22m \"\\t\"\n",
      "\u001b[31mchr\u001b[39m (3): SNP, A1, A2\n",
      "\u001b[32mdbl\u001b[39m (4): Z, N, chi2, P\n",
      "\n",
      "\n",
      "\u001b[36mℹ\u001b[39m Use \u001b[30m\u001b[47m\u001b[30m\u001b[47m`spec()`\u001b[47m\u001b[30m\u001b[49m\u001b[39m to retrieve the full column specification for this data.\n",
      "\u001b[36mℹ\u001b[39m Specify the column types or set \u001b[30m\u001b[47m\u001b[30m\u001b[47m`show_col_types = FALSE`\u001b[47m\u001b[30m\u001b[49m\u001b[39m to quiet this message.\n",
      "\n"
     ]
    },
    {
     "name": "stdout",
     "output_type": "stream",
     "text": [
      "Formatting X1\n",
      "There are  1150157  variants.\n",
      "Removing  0  duplicated variants leaving  1150157 variants.\n",
      "No variants have illegal alleles.\n",
      "Removed  0  variants with ambiguous strand.\n",
      "Flipping strand and effect allele so A1 is always A\n",
      "Returning  1150157  variants.\n",
      "Formatting X2\n",
      "There are  1037702  variants.\n",
      "Removing  0  duplicated variants leaving  1037702 variants.\n",
      "No variants have illegal alleles.\n",
      "Removed  0  variants with ambiguous strand.\n",
      "Flipping strand and effect allele so A1 is always A\n",
      "Returning  1037702  variants.\n",
      "After merging and removing variants with inconsistent alleles,  there are  997664  variants that are present in both studies and can be used with CAUSE.\n"
     ]
    },
    {
     "name": "stderr",
     "output_type": "stream",
     "text": [
      "Clumping EFDdXN, 11920 variants, using EUR population reference\n",
      "\n",
      "Removing 10207 of 11920 variants due to LD with other variants or absence from LD reference panel\n",
      "\n"
     ]
    },
    {
     "name": "stdout",
     "output_type": "stream",
     "text": [
      "Estimating CAUSE parameters with  997664  variants.\n",
      "1 0.003096964 \n",
      "2 8.63821e-07 \n",
      "3 1.374032e-10 \n",
      "Estimating CAUSE posteriors using  1713  variants.\n"
     ]
    },
    {
     "name": "stderr",
     "output_type": "stream",
     "text": [
      "Warning message:\n",
      "“'compare' is deprecated.\n",
      "Use 'loo_compare' instead.\n",
      "See help(\"Deprecated\")”\n"
     ]
    },
    {
     "name": "stdout",
     "output_type": "stream",
     "text": [
      "    user   system  elapsed \n",
      "2175.883 1631.338  362.116 \n",
      "IBD ~ Hair_Blonde \n"
     ]
    },
    {
     "name": "stderr",
     "output_type": "stream",
     "text": [
      "\u001b[1m\u001b[1mRows: \u001b[1m\u001b[22m\u001b[34m\u001b[34m1150157\u001b[34m\u001b[39m \u001b[1m\u001b[1mColumns: \u001b[1m\u001b[22m\u001b[34m\u001b[34m7\u001b[34m\u001b[39m\n",
      "\n",
      "\u001b[36m──\u001b[39m \u001b[1m\u001b[1mColumn specification\u001b[1m\u001b[22m \u001b[36m────────────────────────────────────────────────────────────────────────────────────────────────────────\u001b[39m\n",
      "\u001b[1mDelimiter:\u001b[22m \"\\t\"\n",
      "\u001b[31mchr\u001b[39m (3): SNP, A1, A2\n",
      "\u001b[32mdbl\u001b[39m (4): Z, N, chi2, P\n",
      "\n",
      "\n",
      "\u001b[36mℹ\u001b[39m Use \u001b[30m\u001b[47m\u001b[30m\u001b[47m`spec()`\u001b[47m\u001b[30m\u001b[49m\u001b[39m to retrieve the full column specification for this data.\n",
      "\u001b[36mℹ\u001b[39m Specify the column types or set \u001b[30m\u001b[47m\u001b[30m\u001b[47m`show_col_types = FALSE`\u001b[47m\u001b[30m\u001b[49m\u001b[39m to quiet this message.\n",
      "\n",
      "\u001b[1m\u001b[1mRows: \u001b[1m\u001b[22m\u001b[34m\u001b[34m1037533\u001b[34m\u001b[39m \u001b[1m\u001b[1mColumns: \u001b[1m\u001b[22m\u001b[34m\u001b[34m7\u001b[34m\u001b[39m\n",
      "\n",
      "\u001b[36m──\u001b[39m \u001b[1m\u001b[1mColumn specification\u001b[1m\u001b[22m \u001b[36m────────────────────────────────────────────────────────────────────────────────────────────────────────\u001b[39m\n",
      "\u001b[1mDelimiter:\u001b[22m \"\\t\"\n",
      "\u001b[31mchr\u001b[39m (3): SNP, A1, A2\n",
      "\u001b[32mdbl\u001b[39m (4): Z, N, chi2, P\n",
      "\n",
      "\n",
      "\u001b[36mℹ\u001b[39m Use \u001b[30m\u001b[47m\u001b[30m\u001b[47m`spec()`\u001b[47m\u001b[30m\u001b[49m\u001b[39m to retrieve the full column specification for this data.\n",
      "\u001b[36mℹ\u001b[39m Specify the column types or set \u001b[30m\u001b[47m\u001b[30m\u001b[47m`show_col_types = FALSE`\u001b[47m\u001b[30m\u001b[49m\u001b[39m to quiet this message.\n",
      "\n"
     ]
    },
    {
     "name": "stdout",
     "output_type": "stream",
     "text": [
      "Formatting X1\n",
      "There are  1150157  variants.\n",
      "Removing  0  duplicated variants leaving  1150157 variants.\n",
      "No variants have illegal alleles.\n",
      "Removed  0  variants with ambiguous strand.\n",
      "Flipping strand and effect allele so A1 is always A\n",
      "Returning  1150157  variants.\n",
      "Formatting X2\n",
      "There are  1037533  variants.\n",
      "Removing  0  duplicated variants leaving  1037533 variants.\n",
      "No variants have illegal alleles.\n",
      "Removed  0  variants with ambiguous strand.\n",
      "Flipping strand and effect allele so A1 is always A\n",
      "Returning  1037533  variants.\n",
      "After merging and removing variants with inconsistent alleles,  there are  997502  variants that are present in both studies and can be used with CAUSE.\n"
     ]
    },
    {
     "name": "stderr",
     "output_type": "stream",
     "text": [
      "Clumping 7uHA9h, 11920 variants, using EUR population reference\n",
      "\n",
      "Removing 10207 of 11920 variants due to LD with other variants or absence from LD reference panel\n",
      "\n"
     ]
    },
    {
     "name": "stdout",
     "output_type": "stream",
     "text": [
      "Estimating CAUSE parameters with  997502  variants.\n",
      "1 0.005701683 \n",
      "2 7.387833e-07 \n",
      "3 1.080499e-09 \n",
      "Estimating CAUSE posteriors using  1713  variants.\n"
     ]
    },
    {
     "name": "stderr",
     "output_type": "stream",
     "text": [
      "Warning message:\n",
      "“'compare' is deprecated.\n",
      "Use 'loo_compare' instead.\n",
      "See help(\"Deprecated\")”\n"
     ]
    },
    {
     "name": "stdout",
     "output_type": "stream",
     "text": [
      "    user   system  elapsed \n",
      "2622.513 1788.309  408.183 \n",
      "IBD ~ Tanning \n"
     ]
    },
    {
     "name": "stderr",
     "output_type": "stream",
     "text": [
      "\u001b[1m\u001b[1mRows: \u001b[1m\u001b[22m\u001b[34m\u001b[34m1150157\u001b[34m\u001b[39m \u001b[1m\u001b[1mColumns: \u001b[1m\u001b[22m\u001b[34m\u001b[34m7\u001b[34m\u001b[39m\n",
      "\n",
      "\u001b[36m──\u001b[39m \u001b[1m\u001b[1mColumn specification\u001b[1m\u001b[22m \u001b[36m────────────────────────────────────────────────────────────────────────────────────────────────────────\u001b[39m\n",
      "\u001b[1mDelimiter:\u001b[22m \"\\t\"\n",
      "\u001b[31mchr\u001b[39m (3): SNP, A1, A2\n",
      "\u001b[32mdbl\u001b[39m (4): Z, N, chi2, P\n",
      "\n",
      "\n",
      "\u001b[36mℹ\u001b[39m Use \u001b[30m\u001b[47m\u001b[30m\u001b[47m`spec()`\u001b[47m\u001b[30m\u001b[49m\u001b[39m to retrieve the full column specification for this data.\n",
      "\u001b[36mℹ\u001b[39m Specify the column types or set \u001b[30m\u001b[47m\u001b[30m\u001b[47m`show_col_types = FALSE`\u001b[47m\u001b[30m\u001b[49m\u001b[39m to quiet this message.\n",
      "\n",
      "\u001b[1m\u001b[1mRows: \u001b[1m\u001b[22m\u001b[34m\u001b[34m1037026\u001b[34m\u001b[39m \u001b[1m\u001b[1mColumns: \u001b[1m\u001b[22m\u001b[34m\u001b[34m7\u001b[34m\u001b[39m\n",
      "\n",
      "\u001b[36m──\u001b[39m \u001b[1m\u001b[1mColumn specification\u001b[1m\u001b[22m \u001b[36m────────────────────────────────────────────────────────────────────────────────────────────────────────\u001b[39m\n",
      "\u001b[1mDelimiter:\u001b[22m \"\\t\"\n",
      "\u001b[31mchr\u001b[39m (3): SNP, A1, A2\n",
      "\u001b[32mdbl\u001b[39m (4): Z, N, chi2, P\n",
      "\n",
      "\n",
      "\u001b[36mℹ\u001b[39m Use \u001b[30m\u001b[47m\u001b[30m\u001b[47m`spec()`\u001b[47m\u001b[30m\u001b[49m\u001b[39m to retrieve the full column specification for this data.\n",
      "\u001b[36mℹ\u001b[39m Specify the column types or set \u001b[30m\u001b[47m\u001b[30m\u001b[47m`show_col_types = FALSE`\u001b[47m\u001b[30m\u001b[49m\u001b[39m to quiet this message.\n",
      "\n"
     ]
    },
    {
     "name": "stdout",
     "output_type": "stream",
     "text": [
      "Formatting X1\n",
      "There are  1150157  variants.\n",
      "Removing  0  duplicated variants leaving  1150157 variants.\n",
      "No variants have illegal alleles.\n",
      "Removed  0  variants with ambiguous strand.\n",
      "Flipping strand and effect allele so A1 is always A\n",
      "Returning  1150157  variants.\n",
      "Formatting X2\n",
      "There are  1037026  variants.\n",
      "Removing  0  duplicated variants leaving  1037026 variants.\n",
      "No variants have illegal alleles.\n",
      "Removed  0  variants with ambiguous strand.\n",
      "Flipping strand and effect allele so A1 is always A\n",
      "Returning  1037026  variants.\n",
      "After merging and removing variants with inconsistent alleles,  there are  997019  variants that are present in both studies and can be used with CAUSE.\n"
     ]
    },
    {
     "name": "stderr",
     "output_type": "stream",
     "text": [
      "Clumping TXl260, 11913 variants, using EUR population reference\n",
      "\n",
      "Removing 10200 of 11913 variants due to LD with other variants or absence from LD reference panel\n",
      "\n"
     ]
    },
    {
     "name": "stdout",
     "output_type": "stream",
     "text": [
      "Estimating CAUSE parameters with  997019  variants.\n",
      "1 0.04316449 \n",
      "2 2.138986e-05 \n",
      "3 5.414122e-08 \n",
      "Estimating CAUSE posteriors using  1713  variants.\n"
     ]
    },
    {
     "name": "stderr",
     "output_type": "stream",
     "text": [
      "Warning message:\n",
      "“'compare' is deprecated.\n",
      "Use 'loo_compare' instead.\n",
      "See help(\"Deprecated\")”\n"
     ]
    },
    {
     "name": "stdout",
     "output_type": "stream",
     "text": [
      "    user   system  elapsed \n",
      "2322.722 1594.958  377.317 \n",
      "MDD ~ Hair_Light_Brown \n"
     ]
    },
    {
     "name": "stderr",
     "output_type": "stream",
     "text": [
      "\u001b[1m\u001b[1mRows: \u001b[1m\u001b[22m\u001b[34m\u001b[34m1037824\u001b[34m\u001b[39m \u001b[1m\u001b[1mColumns: \u001b[1m\u001b[22m\u001b[34m\u001b[34m7\u001b[34m\u001b[39m\n",
      "\n",
      "\u001b[36m──\u001b[39m \u001b[1m\u001b[1mColumn specification\u001b[1m\u001b[22m \u001b[36m────────────────────────────────────────────────────────────────────────────────────────────────────────\u001b[39m\n",
      "\u001b[1mDelimiter:\u001b[22m \"\\t\"\n",
      "\u001b[31mchr\u001b[39m (3): SNP, A1, A2\n",
      "\u001b[32mdbl\u001b[39m (4): Z, N, chi2, P\n",
      "\n",
      "\n",
      "\u001b[36mℹ\u001b[39m Use \u001b[30m\u001b[47m\u001b[30m\u001b[47m`spec()`\u001b[47m\u001b[30m\u001b[49m\u001b[39m to retrieve the full column specification for this data.\n",
      "\u001b[36mℹ\u001b[39m Specify the column types or set \u001b[30m\u001b[47m\u001b[30m\u001b[47m`show_col_types = FALSE`\u001b[47m\u001b[30m\u001b[49m\u001b[39m to quiet this message.\n",
      "\n",
      "\u001b[1m\u001b[1mRows: \u001b[1m\u001b[22m\u001b[34m\u001b[34m1037742\u001b[34m\u001b[39m \u001b[1m\u001b[1mColumns: \u001b[1m\u001b[22m\u001b[34m\u001b[34m7\u001b[34m\u001b[39m\n",
      "\n",
      "\u001b[36m──\u001b[39m \u001b[1m\u001b[1mColumn specification\u001b[1m\u001b[22m \u001b[36m────────────────────────────────────────────────────────────────────────────────────────────────────────\u001b[39m\n",
      "\u001b[1mDelimiter:\u001b[22m \"\\t\"\n",
      "\u001b[31mchr\u001b[39m (3): SNP, A1, A2\n",
      "\u001b[32mdbl\u001b[39m (4): Z, N, chi2, P\n",
      "\n",
      "\n",
      "\u001b[36mℹ\u001b[39m Use \u001b[30m\u001b[47m\u001b[30m\u001b[47m`spec()`\u001b[47m\u001b[30m\u001b[49m\u001b[39m to retrieve the full column specification for this data.\n",
      "\u001b[36mℹ\u001b[39m Specify the column types or set \u001b[30m\u001b[47m\u001b[30m\u001b[47m`show_col_types = FALSE`\u001b[47m\u001b[30m\u001b[49m\u001b[39m to quiet this message.\n",
      "\n"
     ]
    },
    {
     "name": "stdout",
     "output_type": "stream",
     "text": [
      "Formatting X1\n",
      "There are  1037824  variants.\n",
      "Removing  0  duplicated variants leaving  1037824 variants.\n",
      "No variants have illegal alleles.\n",
      "Removed  0  variants with ambiguous strand.\n",
      "Flipping strand and effect allele so A1 is always A\n",
      "Returning  1037824  variants.\n",
      "Formatting X2\n",
      "There are  1037742  variants.\n",
      "Removing  0  duplicated variants leaving  1037742 variants.\n",
      "No variants have illegal alleles.\n",
      "Removed  0  variants with ambiguous strand.\n",
      "Flipping strand and effect allele so A1 is always A\n",
      "Returning  1037742  variants.\n",
      "After merging and removing variants with inconsistent alleles,  there are  1037742  variants that are present in both studies and can be used with CAUSE.\n"
     ]
    },
    {
     "name": "stderr",
     "output_type": "stream",
     "text": [
      "Clumping fXgjX1, 1540 variants, using EUR population reference\n",
      "\n",
      "Removing 1059 of 1540 variants due to LD with other variants or absence from LD reference panel\n",
      "\n"
     ]
    },
    {
     "name": "stdout",
     "output_type": "stream",
     "text": [
      "Estimating CAUSE parameters with  1000000  variants.\n",
      "1 0.005212161 \n",
      "2 9.699168e-06 \n",
      "3 1.841588e-08 \n",
      "Estimating CAUSE posteriors using  481  variants.\n"
     ]
    },
    {
     "name": "stderr",
     "output_type": "stream",
     "text": [
      "Warning message:\n",
      "“'compare' is deprecated.\n",
      "Use 'loo_compare' instead.\n",
      "See help(\"Deprecated\")”\n"
     ]
    },
    {
     "name": "stdout",
     "output_type": "stream",
     "text": [
      "    user   system  elapsed \n",
      "1554.889 1408.034  307.498 \n",
      "MDD ~ Hair_Dark_Brown \n"
     ]
    },
    {
     "name": "stderr",
     "output_type": "stream",
     "text": [
      "\u001b[1m\u001b[1mRows: \u001b[1m\u001b[22m\u001b[34m\u001b[34m1037824\u001b[34m\u001b[39m \u001b[1m\u001b[1mColumns: \u001b[1m\u001b[22m\u001b[34m\u001b[34m7\u001b[34m\u001b[39m\n",
      "\n",
      "\u001b[36m──\u001b[39m \u001b[1m\u001b[1mColumn specification\u001b[1m\u001b[22m \u001b[36m────────────────────────────────────────────────────────────────────────────────────────────────────────\u001b[39m\n",
      "\u001b[1mDelimiter:\u001b[22m \"\\t\"\n",
      "\u001b[31mchr\u001b[39m (3): SNP, A1, A2\n",
      "\u001b[32mdbl\u001b[39m (4): Z, N, chi2, P\n",
      "\n",
      "\n",
      "\u001b[36mℹ\u001b[39m Use \u001b[30m\u001b[47m\u001b[30m\u001b[47m`spec()`\u001b[47m\u001b[30m\u001b[49m\u001b[39m to retrieve the full column specification for this data.\n",
      "\u001b[36mℹ\u001b[39m Specify the column types or set \u001b[30m\u001b[47m\u001b[30m\u001b[47m`show_col_types = FALSE`\u001b[47m\u001b[30m\u001b[49m\u001b[39m to quiet this message.\n",
      "\n",
      "\u001b[1m\u001b[1mRows: \u001b[1m\u001b[22m\u001b[34m\u001b[34m1037381\u001b[34m\u001b[39m \u001b[1m\u001b[1mColumns: \u001b[1m\u001b[22m\u001b[34m\u001b[34m7\u001b[34m\u001b[39m\n",
      "\n",
      "\u001b[36m──\u001b[39m \u001b[1m\u001b[1mColumn specification\u001b[1m\u001b[22m \u001b[36m────────────────────────────────────────────────────────────────────────────────────────────────────────\u001b[39m\n",
      "\u001b[1mDelimiter:\u001b[22m \"\\t\"\n",
      "\u001b[31mchr\u001b[39m (3): SNP, A1, A2\n",
      "\u001b[32mdbl\u001b[39m (4): Z, N, chi2, P\n",
      "\n",
      "\n",
      "\u001b[36mℹ\u001b[39m Use \u001b[30m\u001b[47m\u001b[30m\u001b[47m`spec()`\u001b[47m\u001b[30m\u001b[49m\u001b[39m to retrieve the full column specification for this data.\n",
      "\u001b[36mℹ\u001b[39m Specify the column types or set \u001b[30m\u001b[47m\u001b[30m\u001b[47m`show_col_types = FALSE`\u001b[47m\u001b[30m\u001b[49m\u001b[39m to quiet this message.\n",
      "\n"
     ]
    },
    {
     "name": "stdout",
     "output_type": "stream",
     "text": [
      "Formatting X1\n",
      "There are  1037824  variants.\n",
      "Removing  0  duplicated variants leaving  1037824 variants.\n",
      "No variants have illegal alleles.\n",
      "Removed  0  variants with ambiguous strand.\n",
      "Flipping strand and effect allele so A1 is always A\n",
      "Returning  1037824  variants.\n",
      "Formatting X2\n",
      "There are  1037381  variants.\n",
      "Removing  0  duplicated variants leaving  1037381 variants.\n",
      "No variants have illegal alleles.\n",
      "Removed  0  variants with ambiguous strand.\n",
      "Flipping strand and effect allele so A1 is always A\n",
      "Returning  1037381  variants.\n",
      "After merging and removing variants with inconsistent alleles,  there are  1037381  variants that are present in both studies and can be used with CAUSE.\n"
     ]
    },
    {
     "name": "stderr",
     "output_type": "stream",
     "text": [
      "Clumping kLLqGK, 1540 variants, using EUR population reference\n",
      "\n",
      "Removing 1059 of 1540 variants due to LD with other variants or absence from LD reference panel\n",
      "\n"
     ]
    },
    {
     "name": "stdout",
     "output_type": "stream",
     "text": [
      "Estimating CAUSE parameters with  1000000  variants.\n",
      "1 0.005019669 \n",
      "2 5.961663e-06 \n",
      "3 8.062621e-09 \n",
      "Estimating CAUSE posteriors using  481  variants.\n"
     ]
    },
    {
     "name": "stderr",
     "output_type": "stream",
     "text": [
      "Warning message:\n",
      "“'compare' is deprecated.\n",
      "Use 'loo_compare' instead.\n",
      "See help(\"Deprecated\")”\n"
     ]
    },
    {
     "name": "stdout",
     "output_type": "stream",
     "text": [
      "    user   system  elapsed \n",
      "1641.749 1610.072  316.960 \n",
      "MDD ~ Hair_Black \n"
     ]
    },
    {
     "name": "stderr",
     "output_type": "stream",
     "text": [
      "\u001b[1m\u001b[1mRows: \u001b[1m\u001b[22m\u001b[34m\u001b[34m1037824\u001b[34m\u001b[39m \u001b[1m\u001b[1mColumns: \u001b[1m\u001b[22m\u001b[34m\u001b[34m7\u001b[34m\u001b[39m\n",
      "\n",
      "\u001b[36m──\u001b[39m \u001b[1m\u001b[1mColumn specification\u001b[1m\u001b[22m \u001b[36m────────────────────────────────────────────────────────────────────────────────────────────────────────\u001b[39m\n",
      "\u001b[1mDelimiter:\u001b[22m \"\\t\"\n",
      "\u001b[31mchr\u001b[39m (3): SNP, A1, A2\n",
      "\u001b[32mdbl\u001b[39m (4): Z, N, chi2, P\n",
      "\n",
      "\n",
      "\u001b[36mℹ\u001b[39m Use \u001b[30m\u001b[47m\u001b[30m\u001b[47m`spec()`\u001b[47m\u001b[30m\u001b[49m\u001b[39m to retrieve the full column specification for this data.\n",
      "\u001b[36mℹ\u001b[39m Specify the column types or set \u001b[30m\u001b[47m\u001b[30m\u001b[47m`show_col_types = FALSE`\u001b[47m\u001b[30m\u001b[49m\u001b[39m to quiet this message.\n",
      "\n",
      "\u001b[1m\u001b[1mRows: \u001b[1m\u001b[22m\u001b[34m\u001b[34m1037702\u001b[34m\u001b[39m \u001b[1m\u001b[1mColumns: \u001b[1m\u001b[22m\u001b[34m\u001b[34m7\u001b[34m\u001b[39m\n",
      "\n",
      "\u001b[36m──\u001b[39m \u001b[1m\u001b[1mColumn specification\u001b[1m\u001b[22m \u001b[36m────────────────────────────────────────────────────────────────────────────────────────────────────────\u001b[39m\n",
      "\u001b[1mDelimiter:\u001b[22m \"\\t\"\n",
      "\u001b[31mchr\u001b[39m (3): SNP, A1, A2\n",
      "\u001b[32mdbl\u001b[39m (4): Z, N, chi2, P\n",
      "\n",
      "\n",
      "\u001b[36mℹ\u001b[39m Use \u001b[30m\u001b[47m\u001b[30m\u001b[47m`spec()`\u001b[47m\u001b[30m\u001b[49m\u001b[39m to retrieve the full column specification for this data.\n",
      "\u001b[36mℹ\u001b[39m Specify the column types or set \u001b[30m\u001b[47m\u001b[30m\u001b[47m`show_col_types = FALSE`\u001b[47m\u001b[30m\u001b[49m\u001b[39m to quiet this message.\n",
      "\n"
     ]
    },
    {
     "name": "stdout",
     "output_type": "stream",
     "text": [
      "Formatting X1\n",
      "There are  1037824  variants.\n",
      "Removing  0  duplicated variants leaving  1037824 variants.\n",
      "No variants have illegal alleles.\n",
      "Removed  0  variants with ambiguous strand.\n",
      "Flipping strand and effect allele so A1 is always A\n",
      "Returning  1037824  variants.\n",
      "Formatting X2\n",
      "There are  1037702  variants.\n",
      "Removing  0  duplicated variants leaving  1037702 variants.\n",
      "No variants have illegal alleles.\n",
      "Removed  0  variants with ambiguous strand.\n",
      "Flipping strand and effect allele so A1 is always A\n",
      "Returning  1037702  variants.\n",
      "After merging and removing variants with inconsistent alleles,  there are  1037702  variants that are present in both studies and can be used with CAUSE.\n"
     ]
    },
    {
     "name": "stderr",
     "output_type": "stream",
     "text": [
      "Clumping ElSSBm, 1540 variants, using EUR population reference\n",
      "\n",
      "Removing 1059 of 1540 variants due to LD with other variants or absence from LD reference panel\n",
      "\n"
     ]
    },
    {
     "name": "stdout",
     "output_type": "stream",
     "text": [
      "Estimating CAUSE parameters with  1000000  variants.\n",
      "1 0.003688344 \n",
      "2 1.020599e-06 \n",
      "3 3.352528e-10 \n",
      "Estimating CAUSE posteriors using  481  variants.\n"
     ]
    },
    {
     "name": "stderr",
     "output_type": "stream",
     "text": [
      "Warning message:\n",
      "“'compare' is deprecated.\n",
      "Use 'loo_compare' instead.\n",
      "See help(\"Deprecated\")”\n"
     ]
    },
    {
     "name": "stdout",
     "output_type": "stream",
     "text": [
      "    user   system  elapsed \n",
      "1426.561 1393.559  291.454 \n",
      "MDD ~ Hair_Blonde \n"
     ]
    },
    {
     "name": "stderr",
     "output_type": "stream",
     "text": [
      "\u001b[1m\u001b[1mRows: \u001b[1m\u001b[22m\u001b[34m\u001b[34m1037824\u001b[34m\u001b[39m \u001b[1m\u001b[1mColumns: \u001b[1m\u001b[22m\u001b[34m\u001b[34m7\u001b[34m\u001b[39m\n",
      "\n",
      "\u001b[36m──\u001b[39m \u001b[1m\u001b[1mColumn specification\u001b[1m\u001b[22m \u001b[36m────────────────────────────────────────────────────────────────────────────────────────────────────────\u001b[39m\n",
      "\u001b[1mDelimiter:\u001b[22m \"\\t\"\n",
      "\u001b[31mchr\u001b[39m (3): SNP, A1, A2\n",
      "\u001b[32mdbl\u001b[39m (4): Z, N, chi2, P\n",
      "\n",
      "\n",
      "\u001b[36mℹ\u001b[39m Use \u001b[30m\u001b[47m\u001b[30m\u001b[47m`spec()`\u001b[47m\u001b[30m\u001b[49m\u001b[39m to retrieve the full column specification for this data.\n",
      "\u001b[36mℹ\u001b[39m Specify the column types or set \u001b[30m\u001b[47m\u001b[30m\u001b[47m`show_col_types = FALSE`\u001b[47m\u001b[30m\u001b[49m\u001b[39m to quiet this message.\n",
      "\n",
      "\u001b[1m\u001b[1mRows: \u001b[1m\u001b[22m\u001b[34m\u001b[34m1037533\u001b[34m\u001b[39m \u001b[1m\u001b[1mColumns: \u001b[1m\u001b[22m\u001b[34m\u001b[34m7\u001b[34m\u001b[39m\n",
      "\n",
      "\u001b[36m──\u001b[39m \u001b[1m\u001b[1mColumn specification\u001b[1m\u001b[22m \u001b[36m────────────────────────────────────────────────────────────────────────────────────────────────────────\u001b[39m\n",
      "\u001b[1mDelimiter:\u001b[22m \"\\t\"\n",
      "\u001b[31mchr\u001b[39m (3): SNP, A1, A2\n",
      "\u001b[32mdbl\u001b[39m (4): Z, N, chi2, P\n",
      "\n",
      "\n",
      "\u001b[36mℹ\u001b[39m Use \u001b[30m\u001b[47m\u001b[30m\u001b[47m`spec()`\u001b[47m\u001b[30m\u001b[49m\u001b[39m to retrieve the full column specification for this data.\n",
      "\u001b[36mℹ\u001b[39m Specify the column types or set \u001b[30m\u001b[47m\u001b[30m\u001b[47m`show_col_types = FALSE`\u001b[47m\u001b[30m\u001b[49m\u001b[39m to quiet this message.\n",
      "\n"
     ]
    },
    {
     "name": "stdout",
     "output_type": "stream",
     "text": [
      "Formatting X1\n",
      "There are  1037824  variants.\n",
      "Removing  0  duplicated variants leaving  1037824 variants.\n",
      "No variants have illegal alleles.\n",
      "Removed  0  variants with ambiguous strand.\n",
      "Flipping strand and effect allele so A1 is always A\n",
      "Returning  1037824  variants.\n",
      "Formatting X2\n",
      "There are  1037533  variants.\n",
      "Removing  0  duplicated variants leaving  1037533 variants.\n",
      "No variants have illegal alleles.\n",
      "Removed  0  variants with ambiguous strand.\n",
      "Flipping strand and effect allele so A1 is always A\n",
      "Returning  1037533  variants.\n",
      "After merging and removing variants with inconsistent alleles,  there are  1037533  variants that are present in both studies and can be used with CAUSE.\n"
     ]
    },
    {
     "name": "stderr",
     "output_type": "stream",
     "text": [
      "Clumping yUmKmK, 1540 variants, using EUR population reference\n",
      "\n",
      "Removing 1059 of 1540 variants due to LD with other variants or absence from LD reference panel\n",
      "\n"
     ]
    },
    {
     "name": "stdout",
     "output_type": "stream",
     "text": [
      "Estimating CAUSE parameters with  1000000  variants.\n",
      "1 0.0001191985 \n",
      "2 1.936641e-08 \n",
      "Estimating CAUSE posteriors using  481  variants.\n"
     ]
    },
    {
     "name": "stderr",
     "output_type": "stream",
     "text": [
      "Warning message:\n",
      "“'compare' is deprecated.\n",
      "Use 'loo_compare' instead.\n",
      "See help(\"Deprecated\")”\n"
     ]
    },
    {
     "name": "stdout",
     "output_type": "stream",
     "text": [
      "    user   system  elapsed \n",
      "1206.806 1264.671  250.974 \n",
      "MDD ~ Tanning \n"
     ]
    },
    {
     "name": "stderr",
     "output_type": "stream",
     "text": [
      "\u001b[1m\u001b[1mRows: \u001b[1m\u001b[22m\u001b[34m\u001b[34m1037824\u001b[34m\u001b[39m \u001b[1m\u001b[1mColumns: \u001b[1m\u001b[22m\u001b[34m\u001b[34m7\u001b[34m\u001b[39m\n",
      "\n",
      "\u001b[36m──\u001b[39m \u001b[1m\u001b[1mColumn specification\u001b[1m\u001b[22m \u001b[36m────────────────────────────────────────────────────────────────────────────────────────────────────────\u001b[39m\n",
      "\u001b[1mDelimiter:\u001b[22m \"\\t\"\n",
      "\u001b[31mchr\u001b[39m (3): SNP, A1, A2\n",
      "\u001b[32mdbl\u001b[39m (4): Z, N, chi2, P\n",
      "\n",
      "\n",
      "\u001b[36mℹ\u001b[39m Use \u001b[30m\u001b[47m\u001b[30m\u001b[47m`spec()`\u001b[47m\u001b[30m\u001b[49m\u001b[39m to retrieve the full column specification for this data.\n",
      "\u001b[36mℹ\u001b[39m Specify the column types or set \u001b[30m\u001b[47m\u001b[30m\u001b[47m`show_col_types = FALSE`\u001b[47m\u001b[30m\u001b[49m\u001b[39m to quiet this message.\n",
      "\n",
      "\u001b[1m\u001b[1mRows: \u001b[1m\u001b[22m\u001b[34m\u001b[34m1037026\u001b[34m\u001b[39m \u001b[1m\u001b[1mColumns: \u001b[1m\u001b[22m\u001b[34m\u001b[34m7\u001b[34m\u001b[39m\n",
      "\n",
      "\u001b[36m──\u001b[39m \u001b[1m\u001b[1mColumn specification\u001b[1m\u001b[22m \u001b[36m────────────────────────────────────────────────────────────────────────────────────────────────────────\u001b[39m\n",
      "\u001b[1mDelimiter:\u001b[22m \"\\t\"\n",
      "\u001b[31mchr\u001b[39m (3): SNP, A1, A2\n",
      "\u001b[32mdbl\u001b[39m (4): Z, N, chi2, P\n",
      "\n",
      "\n",
      "\u001b[36mℹ\u001b[39m Use \u001b[30m\u001b[47m\u001b[30m\u001b[47m`spec()`\u001b[47m\u001b[30m\u001b[49m\u001b[39m to retrieve the full column specification for this data.\n",
      "\u001b[36mℹ\u001b[39m Specify the column types or set \u001b[30m\u001b[47m\u001b[30m\u001b[47m`show_col_types = FALSE`\u001b[47m\u001b[30m\u001b[49m\u001b[39m to quiet this message.\n",
      "\n"
     ]
    },
    {
     "name": "stdout",
     "output_type": "stream",
     "text": [
      "Formatting X1\n",
      "There are  1037824  variants.\n",
      "Removing  0  duplicated variants leaving  1037824 variants.\n",
      "No variants have illegal alleles.\n",
      "Removed  0  variants with ambiguous strand.\n",
      "Flipping strand and effect allele so A1 is always A\n",
      "Returning  1037824  variants.\n",
      "Formatting X2\n",
      "There are  1037026  variants.\n",
      "Removing  0  duplicated variants leaving  1037026 variants.\n",
      "No variants have illegal alleles.\n",
      "Removed  0  variants with ambiguous strand.\n",
      "Flipping strand and effect allele so A1 is always A\n",
      "Returning  1037026  variants.\n",
      "After merging and removing variants with inconsistent alleles,  there are  1037026  variants that are present in both studies and can be used with CAUSE.\n"
     ]
    },
    {
     "name": "stderr",
     "output_type": "stream",
     "text": [
      "Clumping KboyZ5, 1540 variants, using EUR population reference\n",
      "\n",
      "Removing 1059 of 1540 variants due to LD with other variants or absence from LD reference panel\n",
      "\n"
     ]
    },
    {
     "name": "stdout",
     "output_type": "stream",
     "text": [
      "Estimating CAUSE parameters with  1000000  variants.\n",
      "1 0.03185646 \n",
      "2 3.236204e-05 \n",
      "3 7.804312e-08 \n",
      "Estimating CAUSE posteriors using  481  variants.\n"
     ]
    },
    {
     "name": "stderr",
     "output_type": "stream",
     "text": [
      "Warning message:\n",
      "“'compare' is deprecated.\n",
      "Use 'loo_compare' instead.\n",
      "See help(\"Deprecated\")”\n"
     ]
    },
    {
     "name": "stdout",
     "output_type": "stream",
     "text": [
      "    user   system  elapsed \n",
      "1670.740 1493.416  322.162 \n",
      "SCZ ~ Hair_Light_Brown \n"
     ]
    },
    {
     "name": "stderr",
     "output_type": "stream",
     "text": [
      "\u001b[1m\u001b[1mRows: \u001b[1m\u001b[22m\u001b[34m\u001b[34m1047564\u001b[34m\u001b[39m \u001b[1m\u001b[1mColumns: \u001b[1m\u001b[22m\u001b[34m\u001b[34m7\u001b[34m\u001b[39m\n",
      "\n",
      "\u001b[36m──\u001b[39m \u001b[1m\u001b[1mColumn specification\u001b[1m\u001b[22m \u001b[36m────────────────────────────────────────────────────────────────────────────────────────────────────────\u001b[39m\n",
      "\u001b[1mDelimiter:\u001b[22m \"\\t\"\n",
      "\u001b[31mchr\u001b[39m (3): SNP, A1, A2\n",
      "\u001b[32mdbl\u001b[39m (4): Z, N, chi2, P\n",
      "\n",
      "\n",
      "\u001b[36mℹ\u001b[39m Use \u001b[30m\u001b[47m\u001b[30m\u001b[47m`spec()`\u001b[47m\u001b[30m\u001b[49m\u001b[39m to retrieve the full column specification for this data.\n",
      "\u001b[36mℹ\u001b[39m Specify the column types or set \u001b[30m\u001b[47m\u001b[30m\u001b[47m`show_col_types = FALSE`\u001b[47m\u001b[30m\u001b[49m\u001b[39m to quiet this message.\n",
      "\n",
      "\u001b[1m\u001b[1mRows: \u001b[1m\u001b[22m\u001b[34m\u001b[34m1037742\u001b[34m\u001b[39m \u001b[1m\u001b[1mColumns: \u001b[1m\u001b[22m\u001b[34m\u001b[34m7\u001b[34m\u001b[39m\n",
      "\n",
      "\u001b[36m──\u001b[39m \u001b[1m\u001b[1mColumn specification\u001b[1m\u001b[22m \u001b[36m────────────────────────────────────────────────────────────────────────────────────────────────────────\u001b[39m\n",
      "\u001b[1mDelimiter:\u001b[22m \"\\t\"\n",
      "\u001b[31mchr\u001b[39m (3): SNP, A1, A2\n",
      "\u001b[32mdbl\u001b[39m (4): Z, N, chi2, P\n",
      "\n",
      "\n",
      "\u001b[36mℹ\u001b[39m Use \u001b[30m\u001b[47m\u001b[30m\u001b[47m`spec()`\u001b[47m\u001b[30m\u001b[49m\u001b[39m to retrieve the full column specification for this data.\n",
      "\u001b[36mℹ\u001b[39m Specify the column types or set \u001b[30m\u001b[47m\u001b[30m\u001b[47m`show_col_types = FALSE`\u001b[47m\u001b[30m\u001b[49m\u001b[39m to quiet this message.\n",
      "\n"
     ]
    },
    {
     "name": "stdout",
     "output_type": "stream",
     "text": [
      "Formatting X1\n",
      "There are  1047564  variants.\n",
      "Removing  0  duplicated variants leaving  1047564 variants.\n",
      "No variants have illegal alleles.\n",
      "Removed  0  variants with ambiguous strand.\n",
      "Flipping strand and effect allele so A1 is always A\n",
      "Returning  1047564  variants.\n",
      "Formatting X2\n",
      "There are  1037742  variants.\n",
      "Removing  0  duplicated variants leaving  1037742 variants.\n",
      "No variants have illegal alleles.\n",
      "Removed  0  variants with ambiguous strand.\n",
      "Flipping strand and effect allele so A1 is always A\n",
      "Returning  1037742  variants.\n",
      "After merging and removing variants with inconsistent alleles,  there are  997054  variants that are present in both studies and can be used with CAUSE.\n"
     ]
    },
    {
     "name": "stderr",
     "output_type": "stream",
     "text": [
      "Clumping 1IxxpK, 26845 variants, using EUR population reference\n",
      "\n",
      "Removing 23796 of 26845 variants due to LD with other variants or absence from LD reference panel\n",
      "\n"
     ]
    },
    {
     "name": "stdout",
     "output_type": "stream",
     "text": [
      "Estimating CAUSE parameters with  997054  variants.\n",
      "1 0.0481304 \n",
      "2 8.860016e-05 \n",
      "3 4.35302e-07 \n",
      "4 2.473891e-10 \n",
      "Estimating CAUSE posteriors using  3049  variants.\n"
     ]
    },
    {
     "name": "stderr",
     "output_type": "stream",
     "text": [
      "Warning message:\n",
      "“'compare' is deprecated.\n",
      "Use 'loo_compare' instead.\n",
      "See help(\"Deprecated\")”\n"
     ]
    },
    {
     "name": "stdout",
     "output_type": "stream",
     "text": [
      "    user   system  elapsed \n",
      "3445.703 2155.455  516.835 \n",
      "SCZ ~ Hair_Dark_Brown \n"
     ]
    },
    {
     "name": "stderr",
     "output_type": "stream",
     "text": [
      "\u001b[1m\u001b[1mRows: \u001b[1m\u001b[22m\u001b[34m\u001b[34m1047564\u001b[34m\u001b[39m \u001b[1m\u001b[1mColumns: \u001b[1m\u001b[22m\u001b[34m\u001b[34m7\u001b[34m\u001b[39m\n",
      "\n",
      "\u001b[36m──\u001b[39m \u001b[1m\u001b[1mColumn specification\u001b[1m\u001b[22m \u001b[36m────────────────────────────────────────────────────────────────────────────────────────────────────────\u001b[39m\n",
      "\u001b[1mDelimiter:\u001b[22m \"\\t\"\n",
      "\u001b[31mchr\u001b[39m (3): SNP, A1, A2\n",
      "\u001b[32mdbl\u001b[39m (4): Z, N, chi2, P\n",
      "\n",
      "\n",
      "\u001b[36mℹ\u001b[39m Use \u001b[30m\u001b[47m\u001b[30m\u001b[47m`spec()`\u001b[47m\u001b[30m\u001b[49m\u001b[39m to retrieve the full column specification for this data.\n",
      "\u001b[36mℹ\u001b[39m Specify the column types or set \u001b[30m\u001b[47m\u001b[30m\u001b[47m`show_col_types = FALSE`\u001b[47m\u001b[30m\u001b[49m\u001b[39m to quiet this message.\n",
      "\n",
      "\u001b[1m\u001b[1mRows: \u001b[1m\u001b[22m\u001b[34m\u001b[34m1037381\u001b[34m\u001b[39m \u001b[1m\u001b[1mColumns: \u001b[1m\u001b[22m\u001b[34m\u001b[34m7\u001b[34m\u001b[39m\n",
      "\n",
      "\u001b[36m──\u001b[39m \u001b[1m\u001b[1mColumn specification\u001b[1m\u001b[22m \u001b[36m────────────────────────────────────────────────────────────────────────────────────────────────────────\u001b[39m\n",
      "\u001b[1mDelimiter:\u001b[22m \"\\t\"\n",
      "\u001b[31mchr\u001b[39m (3): SNP, A1, A2\n",
      "\u001b[32mdbl\u001b[39m (4): Z, N, chi2, P\n",
      "\n",
      "\n",
      "\u001b[36mℹ\u001b[39m Use \u001b[30m\u001b[47m\u001b[30m\u001b[47m`spec()`\u001b[47m\u001b[30m\u001b[49m\u001b[39m to retrieve the full column specification for this data.\n",
      "\u001b[36mℹ\u001b[39m Specify the column types or set \u001b[30m\u001b[47m\u001b[30m\u001b[47m`show_col_types = FALSE`\u001b[47m\u001b[30m\u001b[49m\u001b[39m to quiet this message.\n",
      "\n"
     ]
    },
    {
     "name": "stdout",
     "output_type": "stream",
     "text": [
      "Formatting X1\n",
      "There are  1047564  variants.\n",
      "Removing  0  duplicated variants leaving  1047564 variants.\n",
      "No variants have illegal alleles.\n",
      "Removed  0  variants with ambiguous strand.\n",
      "Flipping strand and effect allele so A1 is always A\n",
      "Returning  1047564  variants.\n",
      "Formatting X2\n",
      "There are  1037381  variants.\n",
      "Removing  0  duplicated variants leaving  1037381 variants.\n",
      "No variants have illegal alleles.\n",
      "Removed  0  variants with ambiguous strand.\n",
      "Flipping strand and effect allele so A1 is always A\n",
      "Returning  1037381  variants.\n",
      "After merging and removing variants with inconsistent alleles,  there are  996824  variants that are present in both studies and can be used with CAUSE.\n"
     ]
    },
    {
     "name": "stderr",
     "output_type": "stream",
     "text": [
      "Clumping ax9Jij, 26845 variants, using EUR population reference\n",
      "\n",
      "Removing 23796 of 26845 variants due to LD with other variants or absence from LD reference panel\n",
      "\n"
     ]
    },
    {
     "name": "stdout",
     "output_type": "stream",
     "text": [
      "Estimating CAUSE parameters with  996824  variants.\n",
      "1 0.03105138 \n",
      "2 4.281293e-05 \n",
      "3 1.057454e-07 \n",
      "4 4.574255e-10 \n",
      "Estimating CAUSE posteriors using  3049  variants.\n"
     ]
    },
    {
     "name": "stderr",
     "output_type": "stream",
     "text": [
      "Warning message:\n",
      "“'compare' is deprecated.\n",
      "Use 'loo_compare' instead.\n",
      "See help(\"Deprecated\")”\n"
     ]
    },
    {
     "name": "stdout",
     "output_type": "stream",
     "text": [
      "    user   system  elapsed \n",
      "3151.105 1983.202  471.639 \n",
      "SCZ ~ Hair_Black \n"
     ]
    },
    {
     "name": "stderr",
     "output_type": "stream",
     "text": [
      "\u001b[1m\u001b[1mRows: \u001b[1m\u001b[22m\u001b[34m\u001b[34m1047564\u001b[34m\u001b[39m \u001b[1m\u001b[1mColumns: \u001b[1m\u001b[22m\u001b[34m\u001b[34m7\u001b[34m\u001b[39m\n",
      "\n",
      "\u001b[36m──\u001b[39m \u001b[1m\u001b[1mColumn specification\u001b[1m\u001b[22m \u001b[36m────────────────────────────────────────────────────────────────────────────────────────────────────────\u001b[39m\n",
      "\u001b[1mDelimiter:\u001b[22m \"\\t\"\n",
      "\u001b[31mchr\u001b[39m (3): SNP, A1, A2\n",
      "\u001b[32mdbl\u001b[39m (4): Z, N, chi2, P\n",
      "\n",
      "\n",
      "\u001b[36mℹ\u001b[39m Use \u001b[30m\u001b[47m\u001b[30m\u001b[47m`spec()`\u001b[47m\u001b[30m\u001b[49m\u001b[39m to retrieve the full column specification for this data.\n",
      "\u001b[36mℹ\u001b[39m Specify the column types or set \u001b[30m\u001b[47m\u001b[30m\u001b[47m`show_col_types = FALSE`\u001b[47m\u001b[30m\u001b[49m\u001b[39m to quiet this message.\n",
      "\n",
      "\u001b[1m\u001b[1mRows: \u001b[1m\u001b[22m\u001b[34m\u001b[34m1037702\u001b[34m\u001b[39m \u001b[1m\u001b[1mColumns: \u001b[1m\u001b[22m\u001b[34m\u001b[34m7\u001b[34m\u001b[39m\n",
      "\n",
      "\u001b[36m──\u001b[39m \u001b[1m\u001b[1mColumn specification\u001b[1m\u001b[22m \u001b[36m────────────────────────────────────────────────────────────────────────────────────────────────────────\u001b[39m\n",
      "\u001b[1mDelimiter:\u001b[22m \"\\t\"\n",
      "\u001b[31mchr\u001b[39m (3): SNP, A1, A2\n",
      "\u001b[32mdbl\u001b[39m (4): Z, N, chi2, P\n",
      "\n",
      "\n",
      "\u001b[36mℹ\u001b[39m Use \u001b[30m\u001b[47m\u001b[30m\u001b[47m`spec()`\u001b[47m\u001b[30m\u001b[49m\u001b[39m to retrieve the full column specification for this data.\n",
      "\u001b[36mℹ\u001b[39m Specify the column types or set \u001b[30m\u001b[47m\u001b[30m\u001b[47m`show_col_types = FALSE`\u001b[47m\u001b[30m\u001b[49m\u001b[39m to quiet this message.\n",
      "\n"
     ]
    },
    {
     "name": "stdout",
     "output_type": "stream",
     "text": [
      "Formatting X1\n",
      "There are  1047564  variants.\n",
      "Removing  0  duplicated variants leaving  1047564 variants.\n",
      "No variants have illegal alleles.\n",
      "Removed  0  variants with ambiguous strand.\n",
      "Flipping strand and effect allele so A1 is always A\n",
      "Returning  1047564  variants.\n",
      "Formatting X2\n",
      "There are  1037702  variants.\n",
      "Removing  0  duplicated variants leaving  1037702 variants.\n",
      "No variants have illegal alleles.\n",
      "Removed  0  variants with ambiguous strand.\n",
      "Flipping strand and effect allele so A1 is always A\n",
      "Returning  1037702  variants.\n",
      "After merging and removing variants with inconsistent alleles,  there are  997031  variants that are present in both studies and can be used with CAUSE.\n"
     ]
    },
    {
     "name": "stderr",
     "output_type": "stream",
     "text": [
      "Clumping y468IB, 26845 variants, using EUR population reference\n",
      "\n",
      "Removing 23796 of 26845 variants due to LD with other variants or absence from LD reference panel\n",
      "\n"
     ]
    },
    {
     "name": "stdout",
     "output_type": "stream",
     "text": [
      "Estimating CAUSE parameters with  997031  variants.\n",
      "1 0.06306259 \n",
      "2 4.661023e-05 \n",
      "3 2.136668e-07 \n",
      "4 1.506904e-09 \n",
      "Estimating CAUSE posteriors using  3049  variants.\n"
     ]
    },
    {
     "name": "stderr",
     "output_type": "stream",
     "text": [
      "Warning message:\n",
      "“'compare' is deprecated.\n",
      "Use 'loo_compare' instead.\n",
      "See help(\"Deprecated\")”\n"
     ]
    },
    {
     "name": "stdout",
     "output_type": "stream",
     "text": [
      "    user   system  elapsed \n",
      "3179.395 1969.377  457.311 \n",
      "SCZ ~ Hair_Blonde \n"
     ]
    },
    {
     "name": "stderr",
     "output_type": "stream",
     "text": [
      "\u001b[1m\u001b[1mRows: \u001b[1m\u001b[22m\u001b[34m\u001b[34m1047564\u001b[34m\u001b[39m \u001b[1m\u001b[1mColumns: \u001b[1m\u001b[22m\u001b[34m\u001b[34m7\u001b[34m\u001b[39m\n",
      "\n",
      "\u001b[36m──\u001b[39m \u001b[1m\u001b[1mColumn specification\u001b[1m\u001b[22m \u001b[36m────────────────────────────────────────────────────────────────────────────────────────────────────────\u001b[39m\n",
      "\u001b[1mDelimiter:\u001b[22m \"\\t\"\n",
      "\u001b[31mchr\u001b[39m (3): SNP, A1, A2\n",
      "\u001b[32mdbl\u001b[39m (4): Z, N, chi2, P\n",
      "\n",
      "\n",
      "\u001b[36mℹ\u001b[39m Use \u001b[30m\u001b[47m\u001b[30m\u001b[47m`spec()`\u001b[47m\u001b[30m\u001b[49m\u001b[39m to retrieve the full column specification for this data.\n",
      "\u001b[36mℹ\u001b[39m Specify the column types or set \u001b[30m\u001b[47m\u001b[30m\u001b[47m`show_col_types = FALSE`\u001b[47m\u001b[30m\u001b[49m\u001b[39m to quiet this message.\n",
      "\n",
      "\u001b[1m\u001b[1mRows: \u001b[1m\u001b[22m\u001b[34m\u001b[34m1037533\u001b[34m\u001b[39m \u001b[1m\u001b[1mColumns: \u001b[1m\u001b[22m\u001b[34m\u001b[34m7\u001b[34m\u001b[39m\n",
      "\n",
      "\u001b[36m──\u001b[39m \u001b[1m\u001b[1mColumn specification\u001b[1m\u001b[22m \u001b[36m────────────────────────────────────────────────────────────────────────────────────────────────────────\u001b[39m\n",
      "\u001b[1mDelimiter:\u001b[22m \"\\t\"\n",
      "\u001b[31mchr\u001b[39m (3): SNP, A1, A2\n",
      "\u001b[32mdbl\u001b[39m (4): Z, N, chi2, P\n",
      "\n",
      "\n",
      "\u001b[36mℹ\u001b[39m Use \u001b[30m\u001b[47m\u001b[30m\u001b[47m`spec()`\u001b[47m\u001b[30m\u001b[49m\u001b[39m to retrieve the full column specification for this data.\n",
      "\u001b[36mℹ\u001b[39m Specify the column types or set \u001b[30m\u001b[47m\u001b[30m\u001b[47m`show_col_types = FALSE`\u001b[47m\u001b[30m\u001b[49m\u001b[39m to quiet this message.\n",
      "\n"
     ]
    },
    {
     "name": "stdout",
     "output_type": "stream",
     "text": [
      "Formatting X1\n",
      "There are  1047564  variants.\n",
      "Removing  0  duplicated variants leaving  1047564 variants.\n",
      "No variants have illegal alleles.\n",
      "Removed  0  variants with ambiguous strand.\n",
      "Flipping strand and effect allele so A1 is always A\n",
      "Returning  1047564  variants.\n",
      "Formatting X2\n",
      "There are  1037533  variants.\n",
      "Removing  0  duplicated variants leaving  1037533 variants.\n",
      "No variants have illegal alleles.\n",
      "Removed  0  variants with ambiguous strand.\n",
      "Flipping strand and effect allele so A1 is always A\n",
      "Returning  1037533  variants.\n",
      "After merging and removing variants with inconsistent alleles,  there are  996858  variants that are present in both studies and can be used with CAUSE.\n"
     ]
    },
    {
     "name": "stderr",
     "output_type": "stream",
     "text": [
      "Clumping DJx14v, 26845 variants, using EUR population reference\n",
      "\n",
      "Removing 23796 of 26845 variants due to LD with other variants or absence from LD reference panel\n",
      "\n"
     ]
    },
    {
     "name": "stdout",
     "output_type": "stream",
     "text": [
      "Estimating CAUSE parameters with  996858  variants.\n",
      "1 5.527767e-05 \n",
      "2 2.113794e-08 \n",
      "Estimating CAUSE posteriors using  3049  variants.\n"
     ]
    },
    {
     "name": "stderr",
     "output_type": "stream",
     "text": [
      "Warning message:\n",
      "“'compare' is deprecated.\n",
      "Use 'loo_compare' instead.\n",
      "See help(\"Deprecated\")”\n"
     ]
    },
    {
     "name": "stdout",
     "output_type": "stream",
     "text": [
      "    user   system  elapsed \n",
      "2654.232 1445.381  388.159 \n",
      "SCZ ~ Tanning \n"
     ]
    },
    {
     "name": "stderr",
     "output_type": "stream",
     "text": [
      "\u001b[1m\u001b[1mRows: \u001b[1m\u001b[22m\u001b[34m\u001b[34m1047564\u001b[34m\u001b[39m \u001b[1m\u001b[1mColumns: \u001b[1m\u001b[22m\u001b[34m\u001b[34m7\u001b[34m\u001b[39m\n",
      "\n",
      "\u001b[36m──\u001b[39m \u001b[1m\u001b[1mColumn specification\u001b[1m\u001b[22m \u001b[36m────────────────────────────────────────────────────────────────────────────────────────────────────────\u001b[39m\n",
      "\u001b[1mDelimiter:\u001b[22m \"\\t\"\n",
      "\u001b[31mchr\u001b[39m (3): SNP, A1, A2\n",
      "\u001b[32mdbl\u001b[39m (4): Z, N, chi2, P\n",
      "\n",
      "\n",
      "\u001b[36mℹ\u001b[39m Use \u001b[30m\u001b[47m\u001b[30m\u001b[47m`spec()`\u001b[47m\u001b[30m\u001b[49m\u001b[39m to retrieve the full column specification for this data.\n",
      "\u001b[36mℹ\u001b[39m Specify the column types or set \u001b[30m\u001b[47m\u001b[30m\u001b[47m`show_col_types = FALSE`\u001b[47m\u001b[30m\u001b[49m\u001b[39m to quiet this message.\n",
      "\n",
      "\u001b[1m\u001b[1mRows: \u001b[1m\u001b[22m\u001b[34m\u001b[34m1037026\u001b[34m\u001b[39m \u001b[1m\u001b[1mColumns: \u001b[1m\u001b[22m\u001b[34m\u001b[34m7\u001b[34m\u001b[39m\n",
      "\n",
      "\u001b[36m──\u001b[39m \u001b[1m\u001b[1mColumn specification\u001b[1m\u001b[22m \u001b[36m────────────────────────────────────────────────────────────────────────────────────────────────────────\u001b[39m\n",
      "\u001b[1mDelimiter:\u001b[22m \"\\t\"\n",
      "\u001b[31mchr\u001b[39m (3): SNP, A1, A2\n",
      "\u001b[32mdbl\u001b[39m (4): Z, N, chi2, P\n",
      "\n",
      "\n",
      "\u001b[36mℹ\u001b[39m Use \u001b[30m\u001b[47m\u001b[30m\u001b[47m`spec()`\u001b[47m\u001b[30m\u001b[49m\u001b[39m to retrieve the full column specification for this data.\n",
      "\u001b[36mℹ\u001b[39m Specify the column types or set \u001b[30m\u001b[47m\u001b[30m\u001b[47m`show_col_types = FALSE`\u001b[47m\u001b[30m\u001b[49m\u001b[39m to quiet this message.\n",
      "\n"
     ]
    },
    {
     "name": "stdout",
     "output_type": "stream",
     "text": [
      "Formatting X1\n",
      "There are  1047564  variants.\n",
      "Removing  0  duplicated variants leaving  1047564 variants.\n",
      "No variants have illegal alleles.\n",
      "Removed  0  variants with ambiguous strand.\n",
      "Flipping strand and effect allele so A1 is always A\n",
      "Returning  1047564  variants.\n",
      "Formatting X2\n",
      "There are  1037026  variants.\n",
      "Removing  0  duplicated variants leaving  1037026 variants.\n",
      "No variants have illegal alleles.\n",
      "Removed  0  variants with ambiguous strand.\n",
      "Flipping strand and effect allele so A1 is always A\n",
      "Returning  1037026  variants.\n",
      "After merging and removing variants with inconsistent alleles,  there are  996583  variants that are present in both studies and can be used with CAUSE.\n"
     ]
    },
    {
     "name": "stderr",
     "output_type": "stream",
     "text": [
      "Clumping cpfuXe, 26796 variants, using EUR population reference\n",
      "\n",
      "Removing 23747 of 26796 variants due to LD with other variants or absence from LD reference panel\n",
      "\n"
     ]
    },
    {
     "name": "stdout",
     "output_type": "stream",
     "text": [
      "Estimating CAUSE parameters with  996583  variants.\n",
      "1 0.05411216 \n",
      "2 7.120618e-05 \n",
      "3 2.787757e-07 \n",
      "4 3.240889e-10 \n",
      "Estimating CAUSE posteriors using  3049  variants.\n"
     ]
    },
    {
     "name": "stderr",
     "output_type": "stream",
     "text": [
      "Warning message:\n",
      "“'compare' is deprecated.\n",
      "Use 'loo_compare' instead.\n",
      "See help(\"Deprecated\")”\n"
     ]
    },
    {
     "name": "stdout",
     "output_type": "stream",
     "text": [
      "    user   system  elapsed \n",
      "3304.253 2002.134  469.433 \n",
      "Angina ~ Hair_Light_Brown \n"
     ]
    },
    {
     "name": "stderr",
     "output_type": "stream",
     "text": [
      "\u001b[1m\u001b[1mRows: \u001b[1m\u001b[22m\u001b[34m\u001b[34m1037824\u001b[34m\u001b[39m \u001b[1m\u001b[1mColumns: \u001b[1m\u001b[22m\u001b[34m\u001b[34m7\u001b[34m\u001b[39m\n",
      "\n",
      "\u001b[36m──\u001b[39m \u001b[1m\u001b[1mColumn specification\u001b[1m\u001b[22m \u001b[36m────────────────────────────────────────────────────────────────────────────────────────────────────────\u001b[39m\n",
      "\u001b[1mDelimiter:\u001b[22m \"\\t\"\n",
      "\u001b[31mchr\u001b[39m (3): SNP, A1, A2\n",
      "\u001b[32mdbl\u001b[39m (4): Z, N, chi2, P\n",
      "\n",
      "\n",
      "\u001b[36mℹ\u001b[39m Use \u001b[30m\u001b[47m\u001b[30m\u001b[47m`spec()`\u001b[47m\u001b[30m\u001b[49m\u001b[39m to retrieve the full column specification for this data.\n",
      "\u001b[36mℹ\u001b[39m Specify the column types or set \u001b[30m\u001b[47m\u001b[30m\u001b[47m`show_col_types = FALSE`\u001b[47m\u001b[30m\u001b[49m\u001b[39m to quiet this message.\n",
      "\n",
      "\u001b[1m\u001b[1mRows: \u001b[1m\u001b[22m\u001b[34m\u001b[34m1037742\u001b[34m\u001b[39m \u001b[1m\u001b[1mColumns: \u001b[1m\u001b[22m\u001b[34m\u001b[34m7\u001b[34m\u001b[39m\n",
      "\n",
      "\u001b[36m──\u001b[39m \u001b[1m\u001b[1mColumn specification\u001b[1m\u001b[22m \u001b[36m────────────────────────────────────────────────────────────────────────────────────────────────────────\u001b[39m\n",
      "\u001b[1mDelimiter:\u001b[22m \"\\t\"\n",
      "\u001b[31mchr\u001b[39m (3): SNP, A1, A2\n",
      "\u001b[32mdbl\u001b[39m (4): Z, N, chi2, P\n",
      "\n",
      "\n",
      "\u001b[36mℹ\u001b[39m Use \u001b[30m\u001b[47m\u001b[30m\u001b[47m`spec()`\u001b[47m\u001b[30m\u001b[49m\u001b[39m to retrieve the full column specification for this data.\n",
      "\u001b[36mℹ\u001b[39m Specify the column types or set \u001b[30m\u001b[47m\u001b[30m\u001b[47m`show_col_types = FALSE`\u001b[47m\u001b[30m\u001b[49m\u001b[39m to quiet this message.\n",
      "\n"
     ]
    },
    {
     "name": "stdout",
     "output_type": "stream",
     "text": [
      "Formatting X1\n",
      "There are  1037824  variants.\n",
      "Removing  0  duplicated variants leaving  1037824 variants.\n",
      "No variants have illegal alleles.\n",
      "Removed  0  variants with ambiguous strand.\n",
      "Flipping strand and effect allele so A1 is always A\n",
      "Returning  1037824  variants.\n",
      "Formatting X2\n",
      "There are  1037742  variants.\n",
      "Removing  0  duplicated variants leaving  1037742 variants.\n",
      "No variants have illegal alleles.\n",
      "Removed  0  variants with ambiguous strand.\n",
      "Flipping strand and effect allele so A1 is always A\n",
      "Returning  1037742  variants.\n",
      "After merging and removing variants with inconsistent alleles,  there are  1037742  variants that are present in both studies and can be used with CAUSE.\n"
     ]
    },
    {
     "name": "stderr",
     "output_type": "stream",
     "text": [
      "Clumping i4dDBZ, 3354 variants, using EUR population reference\n",
      "\n",
      "Removing 2596 of 3354 variants due to LD with other variants or absence from LD reference panel\n",
      "\n"
     ]
    },
    {
     "name": "stdout",
     "output_type": "stream",
     "text": [
      "Estimating CAUSE parameters with  1000000  variants.\n",
      "1 0.02459737 \n",
      "2 1.729853e-05 \n",
      "3 2.895122e-08 \n",
      "Estimating CAUSE posteriors using  758  variants.\n"
     ]
    },
    {
     "name": "stderr",
     "output_type": "stream",
     "text": [
      "Warning message:\n",
      "“'compare' is deprecated.\n",
      "Use 'loo_compare' instead.\n",
      "See help(\"Deprecated\")”\n"
     ]
    },
    {
     "name": "stdout",
     "output_type": "stream",
     "text": [
      "    user   system  elapsed \n",
      "2234.499 1557.104  400.723 \n",
      "Angina ~ Hair_Dark_Brown \n"
     ]
    },
    {
     "name": "stderr",
     "output_type": "stream",
     "text": [
      "\u001b[1m\u001b[1mRows: \u001b[1m\u001b[22m\u001b[34m\u001b[34m1037824\u001b[34m\u001b[39m \u001b[1m\u001b[1mColumns: \u001b[1m\u001b[22m\u001b[34m\u001b[34m7\u001b[34m\u001b[39m\n",
      "\n",
      "\u001b[36m──\u001b[39m \u001b[1m\u001b[1mColumn specification\u001b[1m\u001b[22m \u001b[36m────────────────────────────────────────────────────────────────────────────────────────────────────────\u001b[39m\n",
      "\u001b[1mDelimiter:\u001b[22m \"\\t\"\n",
      "\u001b[31mchr\u001b[39m (3): SNP, A1, A2\n",
      "\u001b[32mdbl\u001b[39m (4): Z, N, chi2, P\n",
      "\n",
      "\n",
      "\u001b[36mℹ\u001b[39m Use \u001b[30m\u001b[47m\u001b[30m\u001b[47m`spec()`\u001b[47m\u001b[30m\u001b[49m\u001b[39m to retrieve the full column specification for this data.\n",
      "\u001b[36mℹ\u001b[39m Specify the column types or set \u001b[30m\u001b[47m\u001b[30m\u001b[47m`show_col_types = FALSE`\u001b[47m\u001b[30m\u001b[49m\u001b[39m to quiet this message.\n",
      "\n",
      "\u001b[1m\u001b[1mRows: \u001b[1m\u001b[22m\u001b[34m\u001b[34m1037381\u001b[34m\u001b[39m \u001b[1m\u001b[1mColumns: \u001b[1m\u001b[22m\u001b[34m\u001b[34m7\u001b[34m\u001b[39m\n",
      "\n",
      "\u001b[36m──\u001b[39m \u001b[1m\u001b[1mColumn specification\u001b[1m\u001b[22m \u001b[36m────────────────────────────────────────────────────────────────────────────────────────────────────────\u001b[39m\n",
      "\u001b[1mDelimiter:\u001b[22m \"\\t\"\n",
      "\u001b[31mchr\u001b[39m (3): SNP, A1, A2\n",
      "\u001b[32mdbl\u001b[39m (4): Z, N, chi2, P\n",
      "\n",
      "\n",
      "\u001b[36mℹ\u001b[39m Use \u001b[30m\u001b[47m\u001b[30m\u001b[47m`spec()`\u001b[47m\u001b[30m\u001b[49m\u001b[39m to retrieve the full column specification for this data.\n",
      "\u001b[36mℹ\u001b[39m Specify the column types or set \u001b[30m\u001b[47m\u001b[30m\u001b[47m`show_col_types = FALSE`\u001b[47m\u001b[30m\u001b[49m\u001b[39m to quiet this message.\n",
      "\n"
     ]
    },
    {
     "name": "stdout",
     "output_type": "stream",
     "text": [
      "Formatting X1\n",
      "There are  1037824  variants.\n",
      "Removing  0  duplicated variants leaving  1037824 variants.\n",
      "No variants have illegal alleles.\n",
      "Removed  0  variants with ambiguous strand.\n",
      "Flipping strand and effect allele so A1 is always A\n",
      "Returning  1037824  variants.\n",
      "Formatting X2\n",
      "There are  1037381  variants.\n",
      "Removing  0  duplicated variants leaving  1037381 variants.\n",
      "No variants have illegal alleles.\n",
      "Removed  0  variants with ambiguous strand.\n",
      "Flipping strand and effect allele so A1 is always A\n",
      "Returning  1037381  variants.\n",
      "After merging and removing variants with inconsistent alleles,  there are  1037381  variants that are present in both studies and can be used with CAUSE.\n"
     ]
    },
    {
     "name": "stderr",
     "output_type": "stream",
     "text": [
      "Clumping WnGvUd, 3352 variants, using EUR population reference\n",
      "\n",
      "Removing 2594 of 3352 variants due to LD with other variants or absence from LD reference panel\n",
      "\n"
     ]
    },
    {
     "name": "stdout",
     "output_type": "stream",
     "text": [
      "Estimating CAUSE parameters with  1000000  variants.\n",
      "1 0.0008123913 \n",
      "2 6.060525e-07 \n",
      "3 4.520174e-10 \n",
      "Estimating CAUSE posteriors using  758  variants.\n"
     ]
    },
    {
     "name": "stderr",
     "output_type": "stream",
     "text": [
      "Warning message:\n",
      "“'compare' is deprecated.\n",
      "Use 'loo_compare' instead.\n",
      "See help(\"Deprecated\")”\n"
     ]
    },
    {
     "name": "stdout",
     "output_type": "stream",
     "text": [
      "    user   system  elapsed \n",
      "1957.690 1621.943  367.220 \n",
      "Angina ~ Hair_Black \n"
     ]
    },
    {
     "name": "stderr",
     "output_type": "stream",
     "text": [
      "\u001b[1m\u001b[1mRows: \u001b[1m\u001b[22m\u001b[34m\u001b[34m1037824\u001b[34m\u001b[39m \u001b[1m\u001b[1mColumns: \u001b[1m\u001b[22m\u001b[34m\u001b[34m7\u001b[34m\u001b[39m\n",
      "\n",
      "\u001b[36m──\u001b[39m \u001b[1m\u001b[1mColumn specification\u001b[1m\u001b[22m \u001b[36m────────────────────────────────────────────────────────────────────────────────────────────────────────\u001b[39m\n",
      "\u001b[1mDelimiter:\u001b[22m \"\\t\"\n",
      "\u001b[31mchr\u001b[39m (3): SNP, A1, A2\n",
      "\u001b[32mdbl\u001b[39m (4): Z, N, chi2, P\n",
      "\n",
      "\n",
      "\u001b[36mℹ\u001b[39m Use \u001b[30m\u001b[47m\u001b[30m\u001b[47m`spec()`\u001b[47m\u001b[30m\u001b[49m\u001b[39m to retrieve the full column specification for this data.\n",
      "\u001b[36mℹ\u001b[39m Specify the column types or set \u001b[30m\u001b[47m\u001b[30m\u001b[47m`show_col_types = FALSE`\u001b[47m\u001b[30m\u001b[49m\u001b[39m to quiet this message.\n",
      "\n",
      "\u001b[1m\u001b[1mRows: \u001b[1m\u001b[22m\u001b[34m\u001b[34m1037702\u001b[34m\u001b[39m \u001b[1m\u001b[1mColumns: \u001b[1m\u001b[22m\u001b[34m\u001b[34m7\u001b[34m\u001b[39m\n",
      "\n",
      "\u001b[36m──\u001b[39m \u001b[1m\u001b[1mColumn specification\u001b[1m\u001b[22m \u001b[36m────────────────────────────────────────────────────────────────────────────────────────────────────────\u001b[39m\n",
      "\u001b[1mDelimiter:\u001b[22m \"\\t\"\n",
      "\u001b[31mchr\u001b[39m (3): SNP, A1, A2\n",
      "\u001b[32mdbl\u001b[39m (4): Z, N, chi2, P\n",
      "\n",
      "\n",
      "\u001b[36mℹ\u001b[39m Use \u001b[30m\u001b[47m\u001b[30m\u001b[47m`spec()`\u001b[47m\u001b[30m\u001b[49m\u001b[39m to retrieve the full column specification for this data.\n",
      "\u001b[36mℹ\u001b[39m Specify the column types or set \u001b[30m\u001b[47m\u001b[30m\u001b[47m`show_col_types = FALSE`\u001b[47m\u001b[30m\u001b[49m\u001b[39m to quiet this message.\n",
      "\n"
     ]
    },
    {
     "name": "stdout",
     "output_type": "stream",
     "text": [
      "Formatting X1\n",
      "There are  1037824  variants.\n",
      "Removing  0  duplicated variants leaving  1037824 variants.\n",
      "No variants have illegal alleles.\n",
      "Removed  0  variants with ambiguous strand.\n",
      "Flipping strand and effect allele so A1 is always A\n",
      "Returning  1037824  variants.\n",
      "Formatting X2\n",
      "There are  1037702  variants.\n",
      "Removing  0  duplicated variants leaving  1037702 variants.\n",
      "No variants have illegal alleles.\n",
      "Removed  0  variants with ambiguous strand.\n",
      "Flipping strand and effect allele so A1 is always A\n",
      "Returning  1037702  variants.\n",
      "After merging and removing variants with inconsistent alleles,  there are  1037702  variants that are present in both studies and can be used with CAUSE.\n"
     ]
    },
    {
     "name": "stderr",
     "output_type": "stream",
     "text": [
      "Clumping DevTsP, 3354 variants, using EUR population reference\n",
      "\n",
      "Removing 2596 of 3354 variants due to LD with other variants or absence from LD reference panel\n",
      "\n"
     ]
    },
    {
     "name": "stdout",
     "output_type": "stream",
     "text": [
      "Estimating CAUSE parameters with  1000000  variants.\n",
      "1 0.05691864 \n",
      "2 5.19373e-05 \n",
      "3 3.361989e-07 \n",
      "4 2.613826e-09 \n",
      "Estimating CAUSE posteriors using  758  variants.\n"
     ]
    },
    {
     "name": "stderr",
     "output_type": "stream",
     "text": [
      "Warning message:\n",
      "“'compare' is deprecated.\n",
      "Use 'loo_compare' instead.\n",
      "See help(\"Deprecated\")”\n"
     ]
    },
    {
     "name": "stdout",
     "output_type": "stream",
     "text": [
      "    user   system  elapsed \n",
      "2283.966 1772.159  406.809 \n",
      "Angina ~ Hair_Blonde \n"
     ]
    },
    {
     "name": "stderr",
     "output_type": "stream",
     "text": [
      "\u001b[1m\u001b[1mRows: \u001b[1m\u001b[22m\u001b[34m\u001b[34m1037824\u001b[34m\u001b[39m \u001b[1m\u001b[1mColumns: \u001b[1m\u001b[22m\u001b[34m\u001b[34m7\u001b[34m\u001b[39m\n",
      "\n",
      "\u001b[36m──\u001b[39m \u001b[1m\u001b[1mColumn specification\u001b[1m\u001b[22m \u001b[36m────────────────────────────────────────────────────────────────────────────────────────────────────────\u001b[39m\n",
      "\u001b[1mDelimiter:\u001b[22m \"\\t\"\n",
      "\u001b[31mchr\u001b[39m (3): SNP, A1, A2\n",
      "\u001b[32mdbl\u001b[39m (4): Z, N, chi2, P\n",
      "\n",
      "\n",
      "\u001b[36mℹ\u001b[39m Use \u001b[30m\u001b[47m\u001b[30m\u001b[47m`spec()`\u001b[47m\u001b[30m\u001b[49m\u001b[39m to retrieve the full column specification for this data.\n",
      "\u001b[36mℹ\u001b[39m Specify the column types or set \u001b[30m\u001b[47m\u001b[30m\u001b[47m`show_col_types = FALSE`\u001b[47m\u001b[30m\u001b[49m\u001b[39m to quiet this message.\n",
      "\n",
      "\u001b[1m\u001b[1mRows: \u001b[1m\u001b[22m\u001b[34m\u001b[34m1037533\u001b[34m\u001b[39m \u001b[1m\u001b[1mColumns: \u001b[1m\u001b[22m\u001b[34m\u001b[34m7\u001b[34m\u001b[39m\n",
      "\n",
      "\u001b[36m──\u001b[39m \u001b[1m\u001b[1mColumn specification\u001b[1m\u001b[22m \u001b[36m────────────────────────────────────────────────────────────────────────────────────────────────────────\u001b[39m\n",
      "\u001b[1mDelimiter:\u001b[22m \"\\t\"\n",
      "\u001b[31mchr\u001b[39m (3): SNP, A1, A2\n",
      "\u001b[32mdbl\u001b[39m (4): Z, N, chi2, P\n",
      "\n",
      "\n",
      "\u001b[36mℹ\u001b[39m Use \u001b[30m\u001b[47m\u001b[30m\u001b[47m`spec()`\u001b[47m\u001b[30m\u001b[49m\u001b[39m to retrieve the full column specification for this data.\n",
      "\u001b[36mℹ\u001b[39m Specify the column types or set \u001b[30m\u001b[47m\u001b[30m\u001b[47m`show_col_types = FALSE`\u001b[47m\u001b[30m\u001b[49m\u001b[39m to quiet this message.\n",
      "\n"
     ]
    },
    {
     "name": "stdout",
     "output_type": "stream",
     "text": [
      "Formatting X1\n",
      "There are  1037824  variants.\n",
      "Removing  0  duplicated variants leaving  1037824 variants.\n",
      "No variants have illegal alleles.\n",
      "Removed  0  variants with ambiguous strand.\n",
      "Flipping strand and effect allele so A1 is always A\n",
      "Returning  1037824  variants.\n",
      "Formatting X2\n",
      "There are  1037533  variants.\n",
      "Removing  0  duplicated variants leaving  1037533 variants.\n",
      "No variants have illegal alleles.\n",
      "Removed  0  variants with ambiguous strand.\n",
      "Flipping strand and effect allele so A1 is always A\n",
      "Returning  1037533  variants.\n",
      "After merging and removing variants with inconsistent alleles,  there are  1037533  variants that are present in both studies and can be used with CAUSE.\n"
     ]
    },
    {
     "name": "stderr",
     "output_type": "stream",
     "text": [
      "Clumping KkZD23, 3354 variants, using EUR population reference\n",
      "\n",
      "Removing 2596 of 3354 variants due to LD with other variants or absence from LD reference panel\n",
      "\n"
     ]
    },
    {
     "name": "stdout",
     "output_type": "stream",
     "text": [
      "Estimating CAUSE parameters with  1000000  variants.\n",
      "1 0.003084753 \n",
      "2 9.827176e-07 \n",
      "3 7.636232e-10 \n",
      "Estimating CAUSE posteriors using  758  variants.\n"
     ]
    },
    {
     "name": "stderr",
     "output_type": "stream",
     "text": [
      "Warning message:\n",
      "“'compare' is deprecated.\n",
      "Use 'loo_compare' instead.\n",
      "See help(\"Deprecated\")”\n"
     ]
    },
    {
     "name": "stdout",
     "output_type": "stream",
     "text": [
      "    user   system  elapsed \n",
      "2088.139 1681.533  385.344 \n",
      "Angina ~ Tanning \n"
     ]
    },
    {
     "name": "stderr",
     "output_type": "stream",
     "text": [
      "\u001b[1m\u001b[1mRows: \u001b[1m\u001b[22m\u001b[34m\u001b[34m1037824\u001b[34m\u001b[39m \u001b[1m\u001b[1mColumns: \u001b[1m\u001b[22m\u001b[34m\u001b[34m7\u001b[34m\u001b[39m\n",
      "\n",
      "\u001b[36m──\u001b[39m \u001b[1m\u001b[1mColumn specification\u001b[1m\u001b[22m \u001b[36m────────────────────────────────────────────────────────────────────────────────────────────────────────\u001b[39m\n",
      "\u001b[1mDelimiter:\u001b[22m \"\\t\"\n",
      "\u001b[31mchr\u001b[39m (3): SNP, A1, A2\n",
      "\u001b[32mdbl\u001b[39m (4): Z, N, chi2, P\n",
      "\n",
      "\n",
      "\u001b[36mℹ\u001b[39m Use \u001b[30m\u001b[47m\u001b[30m\u001b[47m`spec()`\u001b[47m\u001b[30m\u001b[49m\u001b[39m to retrieve the full column specification for this data.\n",
      "\u001b[36mℹ\u001b[39m Specify the column types or set \u001b[30m\u001b[47m\u001b[30m\u001b[47m`show_col_types = FALSE`\u001b[47m\u001b[30m\u001b[49m\u001b[39m to quiet this message.\n",
      "\n",
      "\u001b[1m\u001b[1mRows: \u001b[1m\u001b[22m\u001b[34m\u001b[34m1037026\u001b[34m\u001b[39m \u001b[1m\u001b[1mColumns: \u001b[1m\u001b[22m\u001b[34m\u001b[34m7\u001b[34m\u001b[39m\n",
      "\n",
      "\u001b[36m──\u001b[39m \u001b[1m\u001b[1mColumn specification\u001b[1m\u001b[22m \u001b[36m────────────────────────────────────────────────────────────────────────────────────────────────────────\u001b[39m\n",
      "\u001b[1mDelimiter:\u001b[22m \"\\t\"\n",
      "\u001b[31mchr\u001b[39m (3): SNP, A1, A2\n",
      "\u001b[32mdbl\u001b[39m (4): Z, N, chi2, P\n",
      "\n",
      "\n",
      "\u001b[36mℹ\u001b[39m Use \u001b[30m\u001b[47m\u001b[30m\u001b[47m`spec()`\u001b[47m\u001b[30m\u001b[49m\u001b[39m to retrieve the full column specification for this data.\n",
      "\u001b[36mℹ\u001b[39m Specify the column types or set \u001b[30m\u001b[47m\u001b[30m\u001b[47m`show_col_types = FALSE`\u001b[47m\u001b[30m\u001b[49m\u001b[39m to quiet this message.\n",
      "\n"
     ]
    },
    {
     "name": "stdout",
     "output_type": "stream",
     "text": [
      "Formatting X1\n",
      "There are  1037824  variants.\n",
      "Removing  0  duplicated variants leaving  1037824 variants.\n",
      "No variants have illegal alleles.\n",
      "Removed  0  variants with ambiguous strand.\n",
      "Flipping strand and effect allele so A1 is always A\n",
      "Returning  1037824  variants.\n",
      "Formatting X2\n",
      "There are  1037026  variants.\n",
      "Removing  0  duplicated variants leaving  1037026 variants.\n",
      "No variants have illegal alleles.\n",
      "Removed  0  variants with ambiguous strand.\n",
      "Flipping strand and effect allele so A1 is always A\n",
      "Returning  1037026  variants.\n",
      "After merging and removing variants with inconsistent alleles,  there are  1037026  variants that are present in both studies and can be used with CAUSE.\n"
     ]
    },
    {
     "name": "stderr",
     "output_type": "stream",
     "text": [
      "Clumping pP6Jgp, 3312 variants, using EUR population reference\n",
      "\n",
      "Removing 2554 of 3312 variants due to LD with other variants or absence from LD reference panel\n",
      "\n"
     ]
    },
    {
     "name": "stdout",
     "output_type": "stream",
     "text": [
      "Estimating CAUSE parameters with  1000000  variants.\n",
      "1 0.009633254 \n",
      "2 4.56561e-06 \n",
      "3 1.784965e-09 \n",
      "Estimating CAUSE posteriors using  758  variants.\n"
     ]
    },
    {
     "name": "stderr",
     "output_type": "stream",
     "text": [
      "Warning message:\n",
      "“Some Pareto k diagnostic values are slightly high. See help('pareto-k-diagnostic') for details.\n",
      "”\n",
      "Warning message:\n",
      "“'compare' is deprecated.\n",
      "Use 'loo_compare' instead.\n",
      "See help(\"Deprecated\")”\n"
     ]
    },
    {
     "name": "stdout",
     "output_type": "stream",
     "text": [
      "    user   system  elapsed \n",
      "2181.548 1631.884  404.309 \n",
      "CAD ~ Hair_Light_Brown \n"
     ]
    },
    {
     "name": "stderr",
     "output_type": "stream",
     "text": [
      "\u001b[1m\u001b[1mRows: \u001b[1m\u001b[22m\u001b[34m\u001b[34m1112977\u001b[34m\u001b[39m \u001b[1m\u001b[1mColumns: \u001b[1m\u001b[22m\u001b[34m\u001b[34m7\u001b[34m\u001b[39m\n",
      "\n",
      "\u001b[36m──\u001b[39m \u001b[1m\u001b[1mColumn specification\u001b[1m\u001b[22m \u001b[36m────────────────────────────────────────────────────────────────────────────────────────────────────────\u001b[39m\n",
      "\u001b[1mDelimiter:\u001b[22m \"\\t\"\n",
      "\u001b[31mchr\u001b[39m (3): SNP, A1, A2\n",
      "\u001b[32mdbl\u001b[39m (4): Z, N, chi2, P\n",
      "\n",
      "\n",
      "\u001b[36mℹ\u001b[39m Use \u001b[30m\u001b[47m\u001b[30m\u001b[47m`spec()`\u001b[47m\u001b[30m\u001b[49m\u001b[39m to retrieve the full column specification for this data.\n",
      "\u001b[36mℹ\u001b[39m Specify the column types or set \u001b[30m\u001b[47m\u001b[30m\u001b[47m`show_col_types = FALSE`\u001b[47m\u001b[30m\u001b[49m\u001b[39m to quiet this message.\n",
      "\n",
      "\u001b[1m\u001b[1mRows: \u001b[1m\u001b[22m\u001b[34m\u001b[34m1037742\u001b[34m\u001b[39m \u001b[1m\u001b[1mColumns: \u001b[1m\u001b[22m\u001b[34m\u001b[34m7\u001b[34m\u001b[39m\n",
      "\n",
      "\u001b[36m──\u001b[39m \u001b[1m\u001b[1mColumn specification\u001b[1m\u001b[22m \u001b[36m────────────────────────────────────────────────────────────────────────────────────────────────────────\u001b[39m\n",
      "\u001b[1mDelimiter:\u001b[22m \"\\t\"\n",
      "\u001b[31mchr\u001b[39m (3): SNP, A1, A2\n",
      "\u001b[32mdbl\u001b[39m (4): Z, N, chi2, P\n",
      "\n",
      "\n",
      "\u001b[36mℹ\u001b[39m Use \u001b[30m\u001b[47m\u001b[30m\u001b[47m`spec()`\u001b[47m\u001b[30m\u001b[49m\u001b[39m to retrieve the full column specification for this data.\n",
      "\u001b[36mℹ\u001b[39m Specify the column types or set \u001b[30m\u001b[47m\u001b[30m\u001b[47m`show_col_types = FALSE`\u001b[47m\u001b[30m\u001b[49m\u001b[39m to quiet this message.\n",
      "\n"
     ]
    },
    {
     "name": "stdout",
     "output_type": "stream",
     "text": [
      "Formatting X1\n",
      "There are  1112977  variants.\n",
      "Removing  0  duplicated variants leaving  1112977 variants.\n",
      "No variants have illegal alleles.\n",
      "Removed  0  variants with ambiguous strand.\n",
      "Flipping strand and effect allele so A1 is always A\n",
      "Returning  1112977  variants.\n",
      "Formatting X2\n",
      "There are  1037742  variants.\n",
      "Removing  0  duplicated variants leaving  1037742 variants.\n",
      "No variants have illegal alleles.\n",
      "Removed  0  variants with ambiguous strand.\n",
      "Flipping strand and effect allele so A1 is always A\n",
      "Returning  1037742  variants.\n",
      "After merging and removing variants with inconsistent alleles,  there are  1033704  variants that are present in both studies and can be used with CAUSE.\n"
     ]
    },
    {
     "name": "stderr",
     "output_type": "stream",
     "text": [
      "Clumping gtE3bO, 5303 variants, using EUR population reference\n",
      "\n",
      "Removing 4545 of 5303 variants due to LD with other variants or absence from LD reference panel\n",
      "\n"
     ]
    },
    {
     "name": "stdout",
     "output_type": "stream",
     "text": [
      "Estimating CAUSE parameters with  1000000  variants.\n",
      "1 0.01389913 \n",
      "2 1.674146e-05 \n",
      "3 2.849216e-08 \n",
      "Estimating CAUSE posteriors using  758  variants.\n"
     ]
    },
    {
     "name": "stderr",
     "output_type": "stream",
     "text": [
      "Warning message:\n",
      "“'compare' is deprecated.\n",
      "Use 'loo_compare' instead.\n",
      "See help(\"Deprecated\")”\n"
     ]
    },
    {
     "name": "stdout",
     "output_type": "stream",
     "text": [
      "    user   system  elapsed \n",
      "2144.709 1633.105  402.867 \n",
      "CAD ~ Hair_Dark_Brown \n"
     ]
    },
    {
     "name": "stderr",
     "output_type": "stream",
     "text": [
      "\u001b[1m\u001b[1mRows: \u001b[1m\u001b[22m\u001b[34m\u001b[34m1112977\u001b[34m\u001b[39m \u001b[1m\u001b[1mColumns: \u001b[1m\u001b[22m\u001b[34m\u001b[34m7\u001b[34m\u001b[39m\n",
      "\n",
      "\u001b[36m──\u001b[39m \u001b[1m\u001b[1mColumn specification\u001b[1m\u001b[22m \u001b[36m────────────────────────────────────────────────────────────────────────────────────────────────────────\u001b[39m\n",
      "\u001b[1mDelimiter:\u001b[22m \"\\t\"\n",
      "\u001b[31mchr\u001b[39m (3): SNP, A1, A2\n",
      "\u001b[32mdbl\u001b[39m (4): Z, N, chi2, P\n",
      "\n",
      "\n",
      "\u001b[36mℹ\u001b[39m Use \u001b[30m\u001b[47m\u001b[30m\u001b[47m`spec()`\u001b[47m\u001b[30m\u001b[49m\u001b[39m to retrieve the full column specification for this data.\n",
      "\u001b[36mℹ\u001b[39m Specify the column types or set \u001b[30m\u001b[47m\u001b[30m\u001b[47m`show_col_types = FALSE`\u001b[47m\u001b[30m\u001b[49m\u001b[39m to quiet this message.\n",
      "\n",
      "\u001b[1m\u001b[1mRows: \u001b[1m\u001b[22m\u001b[34m\u001b[34m1037381\u001b[34m\u001b[39m \u001b[1m\u001b[1mColumns: \u001b[1m\u001b[22m\u001b[34m\u001b[34m7\u001b[34m\u001b[39m\n",
      "\n",
      "\u001b[36m──\u001b[39m \u001b[1m\u001b[1mColumn specification\u001b[1m\u001b[22m \u001b[36m────────────────────────────────────────────────────────────────────────────────────────────────────────\u001b[39m\n",
      "\u001b[1mDelimiter:\u001b[22m \"\\t\"\n",
      "\u001b[31mchr\u001b[39m (3): SNP, A1, A2\n",
      "\u001b[32mdbl\u001b[39m (4): Z, N, chi2, P\n",
      "\n",
      "\n",
      "\u001b[36mℹ\u001b[39m Use \u001b[30m\u001b[47m\u001b[30m\u001b[47m`spec()`\u001b[47m\u001b[30m\u001b[49m\u001b[39m to retrieve the full column specification for this data.\n",
      "\u001b[36mℹ\u001b[39m Specify the column types or set \u001b[30m\u001b[47m\u001b[30m\u001b[47m`show_col_types = FALSE`\u001b[47m\u001b[30m\u001b[49m\u001b[39m to quiet this message.\n",
      "\n"
     ]
    },
    {
     "name": "stdout",
     "output_type": "stream",
     "text": [
      "Formatting X1\n",
      "There are  1112977  variants.\n",
      "Removing  0  duplicated variants leaving  1112977 variants.\n",
      "No variants have illegal alleles.\n",
      "Removed  0  variants with ambiguous strand.\n",
      "Flipping strand and effect allele so A1 is always A\n",
      "Returning  1112977  variants.\n",
      "Formatting X2\n",
      "There are  1037381  variants.\n",
      "Removing  0  duplicated variants leaving  1037381 variants.\n",
      "No variants have illegal alleles.\n",
      "Removed  0  variants with ambiguous strand.\n",
      "Flipping strand and effect allele so A1 is always A\n",
      "Returning  1037381  variants.\n",
      "After merging and removing variants with inconsistent alleles,  there are  1033343  variants that are present in both studies and can be used with CAUSE.\n"
     ]
    },
    {
     "name": "stderr",
     "output_type": "stream",
     "text": [
      "Clumping 5mtSUi, 5301 variants, using EUR population reference\n",
      "\n",
      "Removing 4544 of 5301 variants due to LD with other variants or absence from LD reference panel\n",
      "\n"
     ]
    },
    {
     "name": "stdout",
     "output_type": "stream",
     "text": [
      "Estimating CAUSE parameters with  1000000  variants.\n",
      "1 0.03522234 \n",
      "2 3.621296e-05 \n",
      "3 1.188434e-07 \n",
      "4 9.741025e-10 \n",
      "Estimating CAUSE posteriors using  757  variants.\n"
     ]
    },
    {
     "name": "stderr",
     "output_type": "stream",
     "text": [
      "Warning message:\n",
      "“'compare' is deprecated.\n",
      "Use 'loo_compare' instead.\n",
      "See help(\"Deprecated\")”\n"
     ]
    },
    {
     "name": "stdout",
     "output_type": "stream",
     "text": [
      "    user   system  elapsed \n",
      "2579.198 2028.824  459.692 \n",
      "CAD ~ Hair_Black \n"
     ]
    },
    {
     "name": "stderr",
     "output_type": "stream",
     "text": [
      "\u001b[1m\u001b[1mRows: \u001b[1m\u001b[22m\u001b[34m\u001b[34m1112977\u001b[34m\u001b[39m \u001b[1m\u001b[1mColumns: \u001b[1m\u001b[22m\u001b[34m\u001b[34m7\u001b[34m\u001b[39m\n",
      "\n",
      "\u001b[36m──\u001b[39m \u001b[1m\u001b[1mColumn specification\u001b[1m\u001b[22m \u001b[36m────────────────────────────────────────────────────────────────────────────────────────────────────────\u001b[39m\n",
      "\u001b[1mDelimiter:\u001b[22m \"\\t\"\n",
      "\u001b[31mchr\u001b[39m (3): SNP, A1, A2\n",
      "\u001b[32mdbl\u001b[39m (4): Z, N, chi2, P\n",
      "\n",
      "\n",
      "\u001b[36mℹ\u001b[39m Use \u001b[30m\u001b[47m\u001b[30m\u001b[47m`spec()`\u001b[47m\u001b[30m\u001b[49m\u001b[39m to retrieve the full column specification for this data.\n",
      "\u001b[36mℹ\u001b[39m Specify the column types or set \u001b[30m\u001b[47m\u001b[30m\u001b[47m`show_col_types = FALSE`\u001b[47m\u001b[30m\u001b[49m\u001b[39m to quiet this message.\n",
      "\n",
      "\u001b[1m\u001b[1mRows: \u001b[1m\u001b[22m\u001b[34m\u001b[34m1037702\u001b[34m\u001b[39m \u001b[1m\u001b[1mColumns: \u001b[1m\u001b[22m\u001b[34m\u001b[34m7\u001b[34m\u001b[39m\n",
      "\n",
      "\u001b[36m──\u001b[39m \u001b[1m\u001b[1mColumn specification\u001b[1m\u001b[22m \u001b[36m────────────────────────────────────────────────────────────────────────────────────────────────────────\u001b[39m\n",
      "\u001b[1mDelimiter:\u001b[22m \"\\t\"\n",
      "\u001b[31mchr\u001b[39m (3): SNP, A1, A2\n",
      "\u001b[32mdbl\u001b[39m (4): Z, N, chi2, P\n",
      "\n",
      "\n",
      "\u001b[36mℹ\u001b[39m Use \u001b[30m\u001b[47m\u001b[30m\u001b[47m`spec()`\u001b[47m\u001b[30m\u001b[49m\u001b[39m to retrieve the full column specification for this data.\n",
      "\u001b[36mℹ\u001b[39m Specify the column types or set \u001b[30m\u001b[47m\u001b[30m\u001b[47m`show_col_types = FALSE`\u001b[47m\u001b[30m\u001b[49m\u001b[39m to quiet this message.\n",
      "\n"
     ]
    },
    {
     "name": "stdout",
     "output_type": "stream",
     "text": [
      "Formatting X1\n",
      "There are  1112977  variants.\n",
      "Removing  0  duplicated variants leaving  1112977 variants.\n",
      "No variants have illegal alleles.\n",
      "Removed  0  variants with ambiguous strand.\n",
      "Flipping strand and effect allele so A1 is always A\n",
      "Returning  1112977  variants.\n",
      "Formatting X2\n",
      "There are  1037702  variants.\n",
      "Removing  0  duplicated variants leaving  1037702 variants.\n",
      "No variants have illegal alleles.\n",
      "Removed  0  variants with ambiguous strand.\n",
      "Flipping strand and effect allele so A1 is always A\n",
      "Returning  1037702  variants.\n",
      "After merging and removing variants with inconsistent alleles,  there are  1033664  variants that are present in both studies and can be used with CAUSE.\n"
     ]
    },
    {
     "name": "stderr",
     "output_type": "stream",
     "text": [
      "Clumping Qze3A3, 5303 variants, using EUR population reference\n",
      "\n",
      "Removing 4545 of 5303 variants due to LD with other variants or absence from LD reference panel\n",
      "\n"
     ]
    },
    {
     "name": "stdout",
     "output_type": "stream",
     "text": [
      "Estimating CAUSE parameters with  1000000  variants.\n",
      "1 0.005783515 \n",
      "2 5.192604e-06 \n",
      "3 7.096699e-09 \n",
      "Estimating CAUSE posteriors using  758  variants.\n"
     ]
    },
    {
     "name": "stderr",
     "output_type": "stream",
     "text": [
      "Warning message:\n",
      "“'compare' is deprecated.\n",
      "Use 'loo_compare' instead.\n",
      "See help(\"Deprecated\")”\n"
     ]
    },
    {
     "name": "stdout",
     "output_type": "stream",
     "text": [
      "    user   system  elapsed \n",
      "1968.751 1583.213  370.892 \n",
      "CAD ~ Hair_Blonde \n"
     ]
    },
    {
     "name": "stderr",
     "output_type": "stream",
     "text": [
      "\u001b[1m\u001b[1mRows: \u001b[1m\u001b[22m\u001b[34m\u001b[34m1112977\u001b[34m\u001b[39m \u001b[1m\u001b[1mColumns: \u001b[1m\u001b[22m\u001b[34m\u001b[34m7\u001b[34m\u001b[39m\n",
      "\n",
      "\u001b[36m──\u001b[39m \u001b[1m\u001b[1mColumn specification\u001b[1m\u001b[22m \u001b[36m────────────────────────────────────────────────────────────────────────────────────────────────────────\u001b[39m\n",
      "\u001b[1mDelimiter:\u001b[22m \"\\t\"\n",
      "\u001b[31mchr\u001b[39m (3): SNP, A1, A2\n",
      "\u001b[32mdbl\u001b[39m (4): Z, N, chi2, P\n",
      "\n",
      "\n",
      "\u001b[36mℹ\u001b[39m Use \u001b[30m\u001b[47m\u001b[30m\u001b[47m`spec()`\u001b[47m\u001b[30m\u001b[49m\u001b[39m to retrieve the full column specification for this data.\n",
      "\u001b[36mℹ\u001b[39m Specify the column types or set \u001b[30m\u001b[47m\u001b[30m\u001b[47m`show_col_types = FALSE`\u001b[47m\u001b[30m\u001b[49m\u001b[39m to quiet this message.\n",
      "\n",
      "\u001b[1m\u001b[1mRows: \u001b[1m\u001b[22m\u001b[34m\u001b[34m1037533\u001b[34m\u001b[39m \u001b[1m\u001b[1mColumns: \u001b[1m\u001b[22m\u001b[34m\u001b[34m7\u001b[34m\u001b[39m\n",
      "\n",
      "\u001b[36m──\u001b[39m \u001b[1m\u001b[1mColumn specification\u001b[1m\u001b[22m \u001b[36m────────────────────────────────────────────────────────────────────────────────────────────────────────\u001b[39m\n",
      "\u001b[1mDelimiter:\u001b[22m \"\\t\"\n",
      "\u001b[31mchr\u001b[39m (3): SNP, A1, A2\n",
      "\u001b[32mdbl\u001b[39m (4): Z, N, chi2, P\n",
      "\n",
      "\n",
      "\u001b[36mℹ\u001b[39m Use \u001b[30m\u001b[47m\u001b[30m\u001b[47m`spec()`\u001b[47m\u001b[30m\u001b[49m\u001b[39m to retrieve the full column specification for this data.\n",
      "\u001b[36mℹ\u001b[39m Specify the column types or set \u001b[30m\u001b[47m\u001b[30m\u001b[47m`show_col_types = FALSE`\u001b[47m\u001b[30m\u001b[49m\u001b[39m to quiet this message.\n",
      "\n"
     ]
    },
    {
     "name": "stdout",
     "output_type": "stream",
     "text": [
      "Formatting X1\n",
      "There are  1112977  variants.\n",
      "Removing  0  duplicated variants leaving  1112977 variants.\n",
      "No variants have illegal alleles.\n",
      "Removed  0  variants with ambiguous strand.\n",
      "Flipping strand and effect allele so A1 is always A\n",
      "Returning  1112977  variants.\n",
      "Formatting X2\n",
      "There are  1037533  variants.\n",
      "Removing  0  duplicated variants leaving  1037533 variants.\n",
      "No variants have illegal alleles.\n",
      "Removed  0  variants with ambiguous strand.\n",
      "Flipping strand and effect allele so A1 is always A\n",
      "Returning  1037533  variants.\n",
      "After merging and removing variants with inconsistent alleles,  there are  1033495  variants that are present in both studies and can be used with CAUSE.\n"
     ]
    },
    {
     "name": "stderr",
     "output_type": "stream",
     "text": [
      "Clumping JOaTwv, 5303 variants, using EUR population reference\n",
      "\n",
      "Removing 4545 of 5303 variants due to LD with other variants or absence from LD reference panel\n",
      "\n"
     ]
    },
    {
     "name": "stdout",
     "output_type": "stream",
     "text": [
      "Estimating CAUSE parameters with  1000000  variants.\n",
      "1 0.02095353 \n",
      "2 5.506872e-06 \n",
      "3 8.058919e-09 \n",
      "Estimating CAUSE posteriors using  758  variants.\n"
     ]
    },
    {
     "name": "stderr",
     "output_type": "stream",
     "text": [
      "Warning message:\n",
      "“'compare' is deprecated.\n",
      "Use 'loo_compare' instead.\n",
      "See help(\"Deprecated\")”\n"
     ]
    },
    {
     "name": "stdout",
     "output_type": "stream",
     "text": [
      "    user   system  elapsed \n",
      "1897.466 1602.790  347.736 \n",
      "CAD ~ Tanning \n"
     ]
    },
    {
     "name": "stderr",
     "output_type": "stream",
     "text": [
      "\u001b[1m\u001b[1mRows: \u001b[1m\u001b[22m\u001b[34m\u001b[34m1112977\u001b[34m\u001b[39m \u001b[1m\u001b[1mColumns: \u001b[1m\u001b[22m\u001b[34m\u001b[34m7\u001b[34m\u001b[39m\n",
      "\n",
      "\u001b[36m──\u001b[39m \u001b[1m\u001b[1mColumn specification\u001b[1m\u001b[22m \u001b[36m────────────────────────────────────────────────────────────────────────────────────────────────────────\u001b[39m\n",
      "\u001b[1mDelimiter:\u001b[22m \"\\t\"\n",
      "\u001b[31mchr\u001b[39m (3): SNP, A1, A2\n",
      "\u001b[32mdbl\u001b[39m (4): Z, N, chi2, P\n",
      "\n",
      "\n",
      "\u001b[36mℹ\u001b[39m Use \u001b[30m\u001b[47m\u001b[30m\u001b[47m`spec()`\u001b[47m\u001b[30m\u001b[49m\u001b[39m to retrieve the full column specification for this data.\n",
      "\u001b[36mℹ\u001b[39m Specify the column types or set \u001b[30m\u001b[47m\u001b[30m\u001b[47m`show_col_types = FALSE`\u001b[47m\u001b[30m\u001b[49m\u001b[39m to quiet this message.\n",
      "\n",
      "\u001b[1m\u001b[1mRows: \u001b[1m\u001b[22m\u001b[34m\u001b[34m1037026\u001b[34m\u001b[39m \u001b[1m\u001b[1mColumns: \u001b[1m\u001b[22m\u001b[34m\u001b[34m7\u001b[34m\u001b[39m\n",
      "\n",
      "\u001b[36m──\u001b[39m \u001b[1m\u001b[1mColumn specification\u001b[1m\u001b[22m \u001b[36m────────────────────────────────────────────────────────────────────────────────────────────────────────\u001b[39m\n",
      "\u001b[1mDelimiter:\u001b[22m \"\\t\"\n",
      "\u001b[31mchr\u001b[39m (3): SNP, A1, A2\n",
      "\u001b[32mdbl\u001b[39m (4): Z, N, chi2, P\n",
      "\n",
      "\n",
      "\u001b[36mℹ\u001b[39m Use \u001b[30m\u001b[47m\u001b[30m\u001b[47m`spec()`\u001b[47m\u001b[30m\u001b[49m\u001b[39m to retrieve the full column specification for this data.\n",
      "\u001b[36mℹ\u001b[39m Specify the column types or set \u001b[30m\u001b[47m\u001b[30m\u001b[47m`show_col_types = FALSE`\u001b[47m\u001b[30m\u001b[49m\u001b[39m to quiet this message.\n",
      "\n"
     ]
    },
    {
     "name": "stdout",
     "output_type": "stream",
     "text": [
      "Formatting X1\n",
      "There are  1112977  variants.\n",
      "Removing  0  duplicated variants leaving  1112977 variants.\n",
      "No variants have illegal alleles.\n",
      "Removed  0  variants with ambiguous strand.\n",
      "Flipping strand and effect allele so A1 is always A\n",
      "Returning  1112977  variants.\n",
      "Formatting X2\n",
      "There are  1037026  variants.\n",
      "Removing  0  duplicated variants leaving  1037026 variants.\n",
      "No variants have illegal alleles.\n",
      "Removed  0  variants with ambiguous strand.\n",
      "Flipping strand and effect allele so A1 is always A\n",
      "Returning  1037026  variants.\n",
      "After merging and removing variants with inconsistent alleles,  there are  1032989  variants that are present in both studies and can be used with CAUSE.\n"
     ]
    },
    {
     "name": "stderr",
     "output_type": "stream",
     "text": [
      "Clumping H9fADH, 5300 variants, using EUR population reference\n",
      "\n",
      "Removing 4543 of 5300 variants due to LD with other variants or absence from LD reference panel\n",
      "\n"
     ]
    },
    {
     "name": "stdout",
     "output_type": "stream",
     "text": [
      "Estimating CAUSE parameters with  1000000  variants.\n",
      "1 0.005012024 \n",
      "2 3.979706e-07 \n",
      "3 4.405814e-11 \n",
      "Estimating CAUSE posteriors using  757  variants.\n"
     ]
    },
    {
     "name": "stderr",
     "output_type": "stream",
     "text": [
      "Warning message:\n",
      "“'compare' is deprecated.\n",
      "Use 'loo_compare' instead.\n",
      "See help(\"Deprecated\")”\n"
     ]
    },
    {
     "name": "stdout",
     "output_type": "stream",
     "text": [
      "    user   system  elapsed \n",
      "2033.537 1632.089  391.364 \n",
      "HBP ~ Hair_Light_Brown \n"
     ]
    },
    {
     "name": "stderr",
     "output_type": "stream",
     "text": [
      "\u001b[1m\u001b[1mRows: \u001b[1m\u001b[22m\u001b[34m\u001b[34m1037824\u001b[34m\u001b[39m \u001b[1m\u001b[1mColumns: \u001b[1m\u001b[22m\u001b[34m\u001b[34m7\u001b[34m\u001b[39m\n",
      "\n",
      "\u001b[36m──\u001b[39m \u001b[1m\u001b[1mColumn specification\u001b[1m\u001b[22m \u001b[36m────────────────────────────────────────────────────────────────────────────────────────────────────────\u001b[39m\n",
      "\u001b[1mDelimiter:\u001b[22m \"\\t\"\n",
      "\u001b[31mchr\u001b[39m (3): SNP, A1, A2\n",
      "\u001b[32mdbl\u001b[39m (4): Z, N, chi2, P\n",
      "\n",
      "\n",
      "\u001b[36mℹ\u001b[39m Use \u001b[30m\u001b[47m\u001b[30m\u001b[47m`spec()`\u001b[47m\u001b[30m\u001b[49m\u001b[39m to retrieve the full column specification for this data.\n",
      "\u001b[36mℹ\u001b[39m Specify the column types or set \u001b[30m\u001b[47m\u001b[30m\u001b[47m`show_col_types = FALSE`\u001b[47m\u001b[30m\u001b[49m\u001b[39m to quiet this message.\n",
      "\n",
      "\u001b[1m\u001b[1mRows: \u001b[1m\u001b[22m\u001b[34m\u001b[34m1037742\u001b[34m\u001b[39m \u001b[1m\u001b[1mColumns: \u001b[1m\u001b[22m\u001b[34m\u001b[34m7\u001b[34m\u001b[39m\n",
      "\n",
      "\u001b[36m──\u001b[39m \u001b[1m\u001b[1mColumn specification\u001b[1m\u001b[22m \u001b[36m────────────────────────────────────────────────────────────────────────────────────────────────────────\u001b[39m\n",
      "\u001b[1mDelimiter:\u001b[22m \"\\t\"\n",
      "\u001b[31mchr\u001b[39m (3): SNP, A1, A2\n",
      "\u001b[32mdbl\u001b[39m (4): Z, N, chi2, P\n",
      "\n",
      "\n",
      "\u001b[36mℹ\u001b[39m Use \u001b[30m\u001b[47m\u001b[30m\u001b[47m`spec()`\u001b[47m\u001b[30m\u001b[49m\u001b[39m to retrieve the full column specification for this data.\n",
      "\u001b[36mℹ\u001b[39m Specify the column types or set \u001b[30m\u001b[47m\u001b[30m\u001b[47m`show_col_types = FALSE`\u001b[47m\u001b[30m\u001b[49m\u001b[39m to quiet this message.\n",
      "\n"
     ]
    },
    {
     "name": "stdout",
     "output_type": "stream",
     "text": [
      "Formatting X1\n",
      "There are  1037824  variants.\n",
      "Removing  0  duplicated variants leaving  1037824 variants.\n",
      "No variants have illegal alleles.\n",
      "Removed  0  variants with ambiguous strand.\n",
      "Flipping strand and effect allele so A1 is always A\n",
      "Returning  1037824  variants.\n",
      "Formatting X2\n",
      "There are  1037742  variants.\n",
      "Removing  0  duplicated variants leaving  1037742 variants.\n",
      "No variants have illegal alleles.\n",
      "Removed  0  variants with ambiguous strand.\n",
      "Flipping strand and effect allele so A1 is always A\n",
      "Returning  1037742  variants.\n",
      "After merging and removing variants with inconsistent alleles,  there are  1037742  variants that are present in both studies and can be used with CAUSE.\n"
     ]
    },
    {
     "name": "stderr",
     "output_type": "stream",
     "text": [
      "Clumping T90XsX, 29062 variants, using EUR population reference\n",
      "\n",
      "Removing 25962 of 29062 variants due to LD with other variants or absence from LD reference panel\n",
      "\n"
     ]
    },
    {
     "name": "stdout",
     "output_type": "stream",
     "text": [
      "Estimating CAUSE parameters with  1000000  variants.\n",
      "1 0.03602968 \n",
      "2 1.12186e-05 \n",
      "3 2.473592e-08 \n",
      "Estimating CAUSE posteriors using  3100  variants.\n"
     ]
    },
    {
     "name": "stderr",
     "output_type": "stream",
     "text": [
      "Warning message:\n",
      "“'compare' is deprecated.\n",
      "Use 'loo_compare' instead.\n",
      "See help(\"Deprecated\")”\n"
     ]
    },
    {
     "name": "stdout",
     "output_type": "stream",
     "text": [
      "    user   system  elapsed \n",
      "3178.244 1537.276  434.427 \n",
      "HBP ~ Hair_Dark_Brown \n"
     ]
    },
    {
     "name": "stderr",
     "output_type": "stream",
     "text": [
      "\u001b[1m\u001b[1mRows: \u001b[1m\u001b[22m\u001b[34m\u001b[34m1037824\u001b[34m\u001b[39m \u001b[1m\u001b[1mColumns: \u001b[1m\u001b[22m\u001b[34m\u001b[34m7\u001b[34m\u001b[39m\n",
      "\n",
      "\u001b[36m──\u001b[39m \u001b[1m\u001b[1mColumn specification\u001b[1m\u001b[22m \u001b[36m────────────────────────────────────────────────────────────────────────────────────────────────────────\u001b[39m\n",
      "\u001b[1mDelimiter:\u001b[22m \"\\t\"\n",
      "\u001b[31mchr\u001b[39m (3): SNP, A1, A2\n",
      "\u001b[32mdbl\u001b[39m (4): Z, N, chi2, P\n",
      "\n",
      "\n",
      "\u001b[36mℹ\u001b[39m Use \u001b[30m\u001b[47m\u001b[30m\u001b[47m`spec()`\u001b[47m\u001b[30m\u001b[49m\u001b[39m to retrieve the full column specification for this data.\n",
      "\u001b[36mℹ\u001b[39m Specify the column types or set \u001b[30m\u001b[47m\u001b[30m\u001b[47m`show_col_types = FALSE`\u001b[47m\u001b[30m\u001b[49m\u001b[39m to quiet this message.\n",
      "\n",
      "\u001b[1m\u001b[1mRows: \u001b[1m\u001b[22m\u001b[34m\u001b[34m1037381\u001b[34m\u001b[39m \u001b[1m\u001b[1mColumns: \u001b[1m\u001b[22m\u001b[34m\u001b[34m7\u001b[34m\u001b[39m\n",
      "\n",
      "\u001b[36m──\u001b[39m \u001b[1m\u001b[1mColumn specification\u001b[1m\u001b[22m \u001b[36m────────────────────────────────────────────────────────────────────────────────────────────────────────\u001b[39m\n",
      "\u001b[1mDelimiter:\u001b[22m \"\\t\"\n",
      "\u001b[31mchr\u001b[39m (3): SNP, A1, A2\n",
      "\u001b[32mdbl\u001b[39m (4): Z, N, chi2, P\n",
      "\n",
      "\n",
      "\u001b[36mℹ\u001b[39m Use \u001b[30m\u001b[47m\u001b[30m\u001b[47m`spec()`\u001b[47m\u001b[30m\u001b[49m\u001b[39m to retrieve the full column specification for this data.\n",
      "\u001b[36mℹ\u001b[39m Specify the column types or set \u001b[30m\u001b[47m\u001b[30m\u001b[47m`show_col_types = FALSE`\u001b[47m\u001b[30m\u001b[49m\u001b[39m to quiet this message.\n",
      "\n"
     ]
    },
    {
     "name": "stdout",
     "output_type": "stream",
     "text": [
      "Formatting X1\n",
      "There are  1037824  variants.\n",
      "Removing  0  duplicated variants leaving  1037824 variants.\n",
      "No variants have illegal alleles.\n",
      "Removed  0  variants with ambiguous strand.\n",
      "Flipping strand and effect allele so A1 is always A\n",
      "Returning  1037824  variants.\n",
      "Formatting X2\n",
      "There are  1037381  variants.\n",
      "Removing  0  duplicated variants leaving  1037381 variants.\n",
      "No variants have illegal alleles.\n",
      "Removed  0  variants with ambiguous strand.\n",
      "Flipping strand and effect allele so A1 is always A\n",
      "Returning  1037381  variants.\n",
      "After merging and removing variants with inconsistent alleles,  there are  1037381  variants that are present in both studies and can be used with CAUSE.\n"
     ]
    },
    {
     "name": "stderr",
     "output_type": "stream",
     "text": [
      "Clumping f4J9Pi, 28990 variants, using EUR population reference\n",
      "\n",
      "Removing 25892 of 28990 variants due to LD with other variants or absence from LD reference panel\n",
      "\n"
     ]
    },
    {
     "name": "stdout",
     "output_type": "stream",
     "text": [
      "Estimating CAUSE parameters with  1000000  variants.\n",
      "1 0.09531147 \n",
      "2 0.0002857422 \n",
      "3 3.93386e-06 \n",
      "4 5.185349e-08 \n",
      "Estimating CAUSE posteriors using  3098  variants.\n"
     ]
    },
    {
     "name": "stderr",
     "output_type": "stream",
     "text": [
      "Warning message:\n",
      "“'compare' is deprecated.\n",
      "Use 'loo_compare' instead.\n",
      "See help(\"Deprecated\")”\n"
     ]
    },
    {
     "name": "stdout",
     "output_type": "stream",
     "text": [
      "    user   system  elapsed \n",
      "3498.260 2013.273  487.800 \n",
      "HBP ~ Hair_Black \n"
     ]
    },
    {
     "name": "stderr",
     "output_type": "stream",
     "text": [
      "\u001b[1m\u001b[1mRows: \u001b[1m\u001b[22m\u001b[34m\u001b[34m1037824\u001b[34m\u001b[39m \u001b[1m\u001b[1mColumns: \u001b[1m\u001b[22m\u001b[34m\u001b[34m7\u001b[34m\u001b[39m\n",
      "\n",
      "\u001b[36m──\u001b[39m \u001b[1m\u001b[1mColumn specification\u001b[1m\u001b[22m \u001b[36m────────────────────────────────────────────────────────────────────────────────────────────────────────\u001b[39m\n",
      "\u001b[1mDelimiter:\u001b[22m \"\\t\"\n",
      "\u001b[31mchr\u001b[39m (3): SNP, A1, A2\n",
      "\u001b[32mdbl\u001b[39m (4): Z, N, chi2, P\n",
      "\n",
      "\n",
      "\u001b[36mℹ\u001b[39m Use \u001b[30m\u001b[47m\u001b[30m\u001b[47m`spec()`\u001b[47m\u001b[30m\u001b[49m\u001b[39m to retrieve the full column specification for this data.\n",
      "\u001b[36mℹ\u001b[39m Specify the column types or set \u001b[30m\u001b[47m\u001b[30m\u001b[47m`show_col_types = FALSE`\u001b[47m\u001b[30m\u001b[49m\u001b[39m to quiet this message.\n",
      "\n",
      "\u001b[1m\u001b[1mRows: \u001b[1m\u001b[22m\u001b[34m\u001b[34m1037702\u001b[34m\u001b[39m \u001b[1m\u001b[1mColumns: \u001b[1m\u001b[22m\u001b[34m\u001b[34m7\u001b[34m\u001b[39m\n",
      "\n",
      "\u001b[36m──\u001b[39m \u001b[1m\u001b[1mColumn specification\u001b[1m\u001b[22m \u001b[36m────────────────────────────────────────────────────────────────────────────────────────────────────────\u001b[39m\n",
      "\u001b[1mDelimiter:\u001b[22m \"\\t\"\n",
      "\u001b[31mchr\u001b[39m (3): SNP, A1, A2\n",
      "\u001b[32mdbl\u001b[39m (4): Z, N, chi2, P\n",
      "\n",
      "\n",
      "\u001b[36mℹ\u001b[39m Use \u001b[30m\u001b[47m\u001b[30m\u001b[47m`spec()`\u001b[47m\u001b[30m\u001b[49m\u001b[39m to retrieve the full column specification for this data.\n",
      "\u001b[36mℹ\u001b[39m Specify the column types or set \u001b[30m\u001b[47m\u001b[30m\u001b[47m`show_col_types = FALSE`\u001b[47m\u001b[30m\u001b[49m\u001b[39m to quiet this message.\n",
      "\n"
     ]
    },
    {
     "name": "stdout",
     "output_type": "stream",
     "text": [
      "Formatting X1\n",
      "There are  1037824  variants.\n",
      "Removing  0  duplicated variants leaving  1037824 variants.\n",
      "No variants have illegal alleles.\n",
      "Removed  0  variants with ambiguous strand.\n",
      "Flipping strand and effect allele so A1 is always A\n",
      "Returning  1037824  variants.\n",
      "Formatting X2\n",
      "There are  1037702  variants.\n",
      "Removing  0  duplicated variants leaving  1037702 variants.\n",
      "No variants have illegal alleles.\n",
      "Removed  0  variants with ambiguous strand.\n",
      "Flipping strand and effect allele so A1 is always A\n",
      "Returning  1037702  variants.\n",
      "After merging and removing variants with inconsistent alleles,  there are  1037702  variants that are present in both studies and can be used with CAUSE.\n"
     ]
    },
    {
     "name": "stderr",
     "output_type": "stream",
     "text": [
      "Clumping 80jitI, 29054 variants, using EUR population reference\n",
      "\n",
      "Removing 25956 of 29054 variants due to LD with other variants or absence from LD reference panel\n",
      "\n"
     ]
    },
    {
     "name": "stdout",
     "output_type": "stream",
     "text": [
      "Estimating CAUSE parameters with  1000000  variants.\n",
      "1 0.00466263 \n",
      "2 2.741394e-06 \n",
      "3 1.747372e-09 \n",
      "Estimating CAUSE posteriors using  3098  variants.\n"
     ]
    },
    {
     "name": "stderr",
     "output_type": "stream",
     "text": [
      "Warning message:\n",
      "“'compare' is deprecated.\n",
      "Use 'loo_compare' instead.\n",
      "See help(\"Deprecated\")”\n"
     ]
    },
    {
     "name": "stdout",
     "output_type": "stream",
     "text": [
      "    user   system  elapsed \n",
      "2521.534 1599.920  391.349 \n",
      "HBP ~ Hair_Blonde \n"
     ]
    },
    {
     "name": "stderr",
     "output_type": "stream",
     "text": [
      "\u001b[1m\u001b[1mRows: \u001b[1m\u001b[22m\u001b[34m\u001b[34m1037824\u001b[34m\u001b[39m \u001b[1m\u001b[1mColumns: \u001b[1m\u001b[22m\u001b[34m\u001b[34m7\u001b[34m\u001b[39m\n",
      "\n",
      "\u001b[36m──\u001b[39m \u001b[1m\u001b[1mColumn specification\u001b[1m\u001b[22m \u001b[36m────────────────────────────────────────────────────────────────────────────────────────────────────────\u001b[39m\n",
      "\u001b[1mDelimiter:\u001b[22m \"\\t\"\n",
      "\u001b[31mchr\u001b[39m (3): SNP, A1, A2\n",
      "\u001b[32mdbl\u001b[39m (4): Z, N, chi2, P\n",
      "\n",
      "\n",
      "\u001b[36mℹ\u001b[39m Use \u001b[30m\u001b[47m\u001b[30m\u001b[47m`spec()`\u001b[47m\u001b[30m\u001b[49m\u001b[39m to retrieve the full column specification for this data.\n",
      "\u001b[36mℹ\u001b[39m Specify the column types or set \u001b[30m\u001b[47m\u001b[30m\u001b[47m`show_col_types = FALSE`\u001b[47m\u001b[30m\u001b[49m\u001b[39m to quiet this message.\n",
      "\n",
      "\u001b[1m\u001b[1mRows: \u001b[1m\u001b[22m\u001b[34m\u001b[34m1037533\u001b[34m\u001b[39m \u001b[1m\u001b[1mColumns: \u001b[1m\u001b[22m\u001b[34m\u001b[34m7\u001b[34m\u001b[39m\n",
      "\n",
      "\u001b[36m──\u001b[39m \u001b[1m\u001b[1mColumn specification\u001b[1m\u001b[22m \u001b[36m────────────────────────────────────────────────────────────────────────────────────────────────────────\u001b[39m\n",
      "\u001b[1mDelimiter:\u001b[22m \"\\t\"\n",
      "\u001b[31mchr\u001b[39m (3): SNP, A1, A2\n",
      "\u001b[32mdbl\u001b[39m (4): Z, N, chi2, P\n",
      "\n",
      "\n",
      "\u001b[36mℹ\u001b[39m Use \u001b[30m\u001b[47m\u001b[30m\u001b[47m`spec()`\u001b[47m\u001b[30m\u001b[49m\u001b[39m to retrieve the full column specification for this data.\n",
      "\u001b[36mℹ\u001b[39m Specify the column types or set \u001b[30m\u001b[47m\u001b[30m\u001b[47m`show_col_types = FALSE`\u001b[47m\u001b[30m\u001b[49m\u001b[39m to quiet this message.\n",
      "\n"
     ]
    },
    {
     "name": "stdout",
     "output_type": "stream",
     "text": [
      "Formatting X1\n",
      "There are  1037824  variants.\n",
      "Removing  0  duplicated variants leaving  1037824 variants.\n",
      "No variants have illegal alleles.\n",
      "Removed  0  variants with ambiguous strand.\n",
      "Flipping strand and effect allele so A1 is always A\n",
      "Returning  1037824  variants.\n",
      "Formatting X2\n",
      "There are  1037533  variants.\n",
      "Removing  0  duplicated variants leaving  1037533 variants.\n",
      "No variants have illegal alleles.\n",
      "Removed  0  variants with ambiguous strand.\n",
      "Flipping strand and effect allele so A1 is always A\n",
      "Returning  1037533  variants.\n",
      "After merging and removing variants with inconsistent alleles,  there are  1037533  variants that are present in both studies and can be used with CAUSE.\n"
     ]
    },
    {
     "name": "stderr",
     "output_type": "stream",
     "text": [
      "Clumping IGp6MG, 29055 variants, using EUR population reference\n",
      "\n",
      "Removing 25957 of 29055 variants due to LD with other variants or absence from LD reference panel\n",
      "\n"
     ]
    },
    {
     "name": "stdout",
     "output_type": "stream",
     "text": [
      "Estimating CAUSE parameters with  1000000  variants.\n",
      "1 0.02994998 \n",
      "2 5.363442e-06 \n",
      "3 1.148872e-08 \n",
      "Estimating CAUSE posteriors using  3098  variants.\n"
     ]
    },
    {
     "name": "stderr",
     "output_type": "stream",
     "text": [
      "Warning message:\n",
      "“'compare' is deprecated.\n",
      "Use 'loo_compare' instead.\n",
      "See help(\"Deprecated\")”\n"
     ]
    },
    {
     "name": "stdout",
     "output_type": "stream",
     "text": [
      "    user   system  elapsed \n",
      "3009.543 1545.261  402.965 \n",
      "HBP ~ Tanning \n"
     ]
    },
    {
     "name": "stderr",
     "output_type": "stream",
     "text": [
      "\u001b[1m\u001b[1mRows: \u001b[1m\u001b[22m\u001b[34m\u001b[34m1037824\u001b[34m\u001b[39m \u001b[1m\u001b[1mColumns: \u001b[1m\u001b[22m\u001b[34m\u001b[34m7\u001b[34m\u001b[39m\n",
      "\n",
      "\u001b[36m──\u001b[39m \u001b[1m\u001b[1mColumn specification\u001b[1m\u001b[22m \u001b[36m────────────────────────────────────────────────────────────────────────────────────────────────────────\u001b[39m\n",
      "\u001b[1mDelimiter:\u001b[22m \"\\t\"\n",
      "\u001b[31mchr\u001b[39m (3): SNP, A1, A2\n",
      "\u001b[32mdbl\u001b[39m (4): Z, N, chi2, P\n",
      "\n",
      "\n",
      "\u001b[36mℹ\u001b[39m Use \u001b[30m\u001b[47m\u001b[30m\u001b[47m`spec()`\u001b[47m\u001b[30m\u001b[49m\u001b[39m to retrieve the full column specification for this data.\n",
      "\u001b[36mℹ\u001b[39m Specify the column types or set \u001b[30m\u001b[47m\u001b[30m\u001b[47m`show_col_types = FALSE`\u001b[47m\u001b[30m\u001b[49m\u001b[39m to quiet this message.\n",
      "\n",
      "\u001b[1m\u001b[1mRows: \u001b[1m\u001b[22m\u001b[34m\u001b[34m1037026\u001b[34m\u001b[39m \u001b[1m\u001b[1mColumns: \u001b[1m\u001b[22m\u001b[34m\u001b[34m7\u001b[34m\u001b[39m\n",
      "\n",
      "\u001b[36m──\u001b[39m \u001b[1m\u001b[1mColumn specification\u001b[1m\u001b[22m \u001b[36m────────────────────────────────────────────────────────────────────────────────────────────────────────\u001b[39m\n",
      "\u001b[1mDelimiter:\u001b[22m \"\\t\"\n",
      "\u001b[31mchr\u001b[39m (3): SNP, A1, A2\n",
      "\u001b[32mdbl\u001b[39m (4): Z, N, chi2, P\n",
      "\n",
      "\n",
      "\u001b[36mℹ\u001b[39m Use \u001b[30m\u001b[47m\u001b[30m\u001b[47m`spec()`\u001b[47m\u001b[30m\u001b[49m\u001b[39m to retrieve the full column specification for this data.\n",
      "\u001b[36mℹ\u001b[39m Specify the column types or set \u001b[30m\u001b[47m\u001b[30m\u001b[47m`show_col_types = FALSE`\u001b[47m\u001b[30m\u001b[49m\u001b[39m to quiet this message.\n",
      "\n"
     ]
    },
    {
     "name": "stdout",
     "output_type": "stream",
     "text": [
      "Formatting X1\n",
      "There are  1037824  variants.\n",
      "Removing  0  duplicated variants leaving  1037824 variants.\n",
      "No variants have illegal alleles.\n",
      "Removed  0  variants with ambiguous strand.\n",
      "Flipping strand and effect allele so A1 is always A\n",
      "Returning  1037824  variants.\n",
      "Formatting X2\n",
      "There are  1037026  variants.\n",
      "Removing  0  duplicated variants leaving  1037026 variants.\n",
      "No variants have illegal alleles.\n",
      "Removed  0  variants with ambiguous strand.\n",
      "Flipping strand and effect allele so A1 is always A\n",
      "Returning  1037026  variants.\n",
      "After merging and removing variants with inconsistent alleles,  there are  1037026  variants that are present in both studies and can be used with CAUSE.\n"
     ]
    },
    {
     "name": "stderr",
     "output_type": "stream",
     "text": [
      "Clumping 8ZkKJ6, 28954 variants, using EUR population reference\n",
      "\n",
      "Removing 25856 of 28954 variants due to LD with other variants or absence from LD reference panel\n",
      "\n"
     ]
    },
    {
     "name": "stdout",
     "output_type": "stream",
     "text": [
      "Estimating CAUSE parameters with  1000000  variants.\n",
      "1 0.1339016 \n",
      "2 0.0009131239 \n",
      "3 2.180697e-05 \n",
      "4 5.270158e-07 \n",
      "5 1.157566e-08 \n",
      "Estimating CAUSE posteriors using  3098  variants.\n"
     ]
    },
    {
     "name": "stderr",
     "output_type": "stream",
     "text": [
      "Warning message:\n",
      "“'compare' is deprecated.\n",
      "Use 'loo_compare' instead.\n",
      "See help(\"Deprecated\")”\n"
     ]
    },
    {
     "name": "stdout",
     "output_type": "stream",
     "text": [
      "    user   system  elapsed \n",
      "3760.433 2234.839  544.150 \n",
      "Income ~ Hair_Light_Brown \n"
     ]
    },
    {
     "name": "stderr",
     "output_type": "stream",
     "text": [
      "\u001b[1m\u001b[1mRows: \u001b[1m\u001b[22m\u001b[34m\u001b[34m1208814\u001b[34m\u001b[39m \u001b[1m\u001b[1mColumns: \u001b[1m\u001b[22m\u001b[34m\u001b[34m7\u001b[34m\u001b[39m\n",
      "\n",
      "\u001b[36m──\u001b[39m \u001b[1m\u001b[1mColumn specification\u001b[1m\u001b[22m \u001b[36m────────────────────────────────────────────────────────────────────────────────────────────────────────\u001b[39m\n",
      "\u001b[1mDelimiter:\u001b[22m \"\\t\"\n",
      "\u001b[31mchr\u001b[39m (3): SNP, A1, A2\n",
      "\u001b[32mdbl\u001b[39m (4): Z, N, chi2, P\n",
      "\n",
      "\n",
      "\u001b[36mℹ\u001b[39m Use \u001b[30m\u001b[47m\u001b[30m\u001b[47m`spec()`\u001b[47m\u001b[30m\u001b[49m\u001b[39m to retrieve the full column specification for this data.\n",
      "\u001b[36mℹ\u001b[39m Specify the column types or set \u001b[30m\u001b[47m\u001b[30m\u001b[47m`show_col_types = FALSE`\u001b[47m\u001b[30m\u001b[49m\u001b[39m to quiet this message.\n",
      "\n",
      "\u001b[1m\u001b[1mRows: \u001b[1m\u001b[22m\u001b[34m\u001b[34m1037742\u001b[34m\u001b[39m \u001b[1m\u001b[1mColumns: \u001b[1m\u001b[22m\u001b[34m\u001b[34m7\u001b[34m\u001b[39m\n",
      "\n",
      "\u001b[36m──\u001b[39m \u001b[1m\u001b[1mColumn specification\u001b[1m\u001b[22m \u001b[36m────────────────────────────────────────────────────────────────────────────────────────────────────────\u001b[39m\n",
      "\u001b[1mDelimiter:\u001b[22m \"\\t\"\n",
      "\u001b[31mchr\u001b[39m (3): SNP, A1, A2\n",
      "\u001b[32mdbl\u001b[39m (4): Z, N, chi2, P\n",
      "\n",
      "\n",
      "\u001b[36mℹ\u001b[39m Use \u001b[30m\u001b[47m\u001b[30m\u001b[47m`spec()`\u001b[47m\u001b[30m\u001b[49m\u001b[39m to retrieve the full column specification for this data.\n",
      "\u001b[36mℹ\u001b[39m Specify the column types or set \u001b[30m\u001b[47m\u001b[30m\u001b[47m`show_col_types = FALSE`\u001b[47m\u001b[30m\u001b[49m\u001b[39m to quiet this message.\n",
      "\n"
     ]
    },
    {
     "name": "stdout",
     "output_type": "stream",
     "text": [
      "Formatting X1\n",
      "There are  1208814  variants.\n",
      "Removing  0  duplicated variants leaving  1208814 variants.\n",
      "No variants have illegal alleles.\n",
      "Removed  0  variants with ambiguous strand.\n",
      "Flipping strand and effect allele so A1 is always A\n",
      "Returning  1208814  variants.\n",
      "Formatting X2\n",
      "There are  1037742  variants.\n",
      "Removing  0  duplicated variants leaving  1037742 variants.\n",
      "No variants have illegal alleles.\n",
      "Removed  0  variants with ambiguous strand.\n",
      "Flipping strand and effect allele so A1 is always A\n",
      "Returning  1037742  variants.\n",
      "After merging and removing variants with inconsistent alleles,  there are  1033849  variants that are present in both studies and can be used with CAUSE.\n"
     ]
    },
    {
     "name": "stderr",
     "output_type": "stream",
     "text": [
      "Clumping IhO4l3, 10094 variants, using EUR population reference\n",
      "\n",
      "Removing 8644 of 10094 variants due to LD with other variants or absence from LD reference panel\n",
      "\n"
     ]
    },
    {
     "name": "stdout",
     "output_type": "stream",
     "text": [
      "Estimating CAUSE parameters with  1000000  variants.\n",
      "1 0.01913222 \n",
      "2 4.322669e-05 \n",
      "3 1.295613e-07 \n",
      "4 1.374966e-10 \n",
      "Estimating CAUSE posteriors using  1450  variants.\n"
     ]
    },
    {
     "name": "stderr",
     "output_type": "stream",
     "text": [
      "Warning message:\n",
      "“'compare' is deprecated.\n",
      "Use 'loo_compare' instead.\n",
      "See help(\"Deprecated\")”\n"
     ]
    },
    {
     "name": "stdout",
     "output_type": "stream",
     "text": [
      "    user   system  elapsed \n",
      "2632.088 2106.106  464.485 \n",
      "Income ~ Hair_Dark_Brown \n"
     ]
    },
    {
     "name": "stderr",
     "output_type": "stream",
     "text": [
      "\u001b[1m\u001b[1mRows: \u001b[1m\u001b[22m\u001b[34m\u001b[34m1208814\u001b[34m\u001b[39m \u001b[1m\u001b[1mColumns: \u001b[1m\u001b[22m\u001b[34m\u001b[34m7\u001b[34m\u001b[39m\n",
      "\n",
      "\u001b[36m──\u001b[39m \u001b[1m\u001b[1mColumn specification\u001b[1m\u001b[22m \u001b[36m────────────────────────────────────────────────────────────────────────────────────────────────────────\u001b[39m\n",
      "\u001b[1mDelimiter:\u001b[22m \"\\t\"\n",
      "\u001b[31mchr\u001b[39m (3): SNP, A1, A2\n",
      "\u001b[32mdbl\u001b[39m (4): Z, N, chi2, P\n",
      "\n",
      "\n",
      "\u001b[36mℹ\u001b[39m Use \u001b[30m\u001b[47m\u001b[30m\u001b[47m`spec()`\u001b[47m\u001b[30m\u001b[49m\u001b[39m to retrieve the full column specification for this data.\n",
      "\u001b[36mℹ\u001b[39m Specify the column types or set \u001b[30m\u001b[47m\u001b[30m\u001b[47m`show_col_types = FALSE`\u001b[47m\u001b[30m\u001b[49m\u001b[39m to quiet this message.\n",
      "\n",
      "\u001b[1m\u001b[1mRows: \u001b[1m\u001b[22m\u001b[34m\u001b[34m1037381\u001b[34m\u001b[39m \u001b[1m\u001b[1mColumns: \u001b[1m\u001b[22m\u001b[34m\u001b[34m7\u001b[34m\u001b[39m\n",
      "\n",
      "\u001b[36m──\u001b[39m \u001b[1m\u001b[1mColumn specification\u001b[1m\u001b[22m \u001b[36m────────────────────────────────────────────────────────────────────────────────────────────────────────\u001b[39m\n",
      "\u001b[1mDelimiter:\u001b[22m \"\\t\"\n",
      "\u001b[31mchr\u001b[39m (3): SNP, A1, A2\n",
      "\u001b[32mdbl\u001b[39m (4): Z, N, chi2, P\n",
      "\n",
      "\n",
      "\u001b[36mℹ\u001b[39m Use \u001b[30m\u001b[47m\u001b[30m\u001b[47m`spec()`\u001b[47m\u001b[30m\u001b[49m\u001b[39m to retrieve the full column specification for this data.\n",
      "\u001b[36mℹ\u001b[39m Specify the column types or set \u001b[30m\u001b[47m\u001b[30m\u001b[47m`show_col_types = FALSE`\u001b[47m\u001b[30m\u001b[49m\u001b[39m to quiet this message.\n",
      "\n"
     ]
    },
    {
     "name": "stdout",
     "output_type": "stream",
     "text": [
      "Formatting X1\n",
      "There are  1208814  variants.\n",
      "Removing  0  duplicated variants leaving  1208814 variants.\n",
      "No variants have illegal alleles.\n",
      "Removed  0  variants with ambiguous strand.\n",
      "Flipping strand and effect allele so A1 is always A\n",
      "Returning  1208814  variants.\n",
      "Formatting X2\n",
      "There are  1037381  variants.\n",
      "Removing  0  duplicated variants leaving  1037381 variants.\n",
      "No variants have illegal alleles.\n",
      "Removed  0  variants with ambiguous strand.\n",
      "Flipping strand and effect allele so A1 is always A\n",
      "Returning  1037381  variants.\n",
      "After merging and removing variants with inconsistent alleles,  there are  1033492  variants that are present in both studies and can be used with CAUSE.\n"
     ]
    },
    {
     "name": "stderr",
     "output_type": "stream",
     "text": [
      "Clumping 1pZbzV, 10074 variants, using EUR population reference\n",
      "\n",
      "Removing 8627 of 10074 variants due to LD with other variants or absence from LD reference panel\n",
      "\n"
     ]
    },
    {
     "name": "stdout",
     "output_type": "stream",
     "text": [
      "Estimating CAUSE parameters with  1000000  variants.\n",
      "1 0.0417195 \n",
      "2 0.0001841321 \n",
      "3 1.371643e-06 \n",
      "4 1.013128e-08 \n",
      "Estimating CAUSE posteriors using  1447  variants.\n"
     ]
    },
    {
     "name": "stderr",
     "output_type": "stream",
     "text": [
      "Warning message:\n",
      "“'compare' is deprecated.\n",
      "Use 'loo_compare' instead.\n",
      "See help(\"Deprecated\")”\n"
     ]
    },
    {
     "name": "stdout",
     "output_type": "stream",
     "text": [
      "    user   system  elapsed \n",
      "2514.390 1900.541  420.109 \n",
      "Income ~ Hair_Black \n"
     ]
    },
    {
     "name": "stderr",
     "output_type": "stream",
     "text": [
      "\u001b[1m\u001b[1mRows: \u001b[1m\u001b[22m\u001b[34m\u001b[34m1208814\u001b[34m\u001b[39m \u001b[1m\u001b[1mColumns: \u001b[1m\u001b[22m\u001b[34m\u001b[34m7\u001b[34m\u001b[39m\n",
      "\n",
      "\u001b[36m──\u001b[39m \u001b[1m\u001b[1mColumn specification\u001b[1m\u001b[22m \u001b[36m────────────────────────────────────────────────────────────────────────────────────────────────────────\u001b[39m\n",
      "\u001b[1mDelimiter:\u001b[22m \"\\t\"\n",
      "\u001b[31mchr\u001b[39m (3): SNP, A1, A2\n",
      "\u001b[32mdbl\u001b[39m (4): Z, N, chi2, P\n",
      "\n",
      "\n",
      "\u001b[36mℹ\u001b[39m Use \u001b[30m\u001b[47m\u001b[30m\u001b[47m`spec()`\u001b[47m\u001b[30m\u001b[49m\u001b[39m to retrieve the full column specification for this data.\n",
      "\u001b[36mℹ\u001b[39m Specify the column types or set \u001b[30m\u001b[47m\u001b[30m\u001b[47m`show_col_types = FALSE`\u001b[47m\u001b[30m\u001b[49m\u001b[39m to quiet this message.\n",
      "\n",
      "\u001b[1m\u001b[1mRows: \u001b[1m\u001b[22m\u001b[34m\u001b[34m1037702\u001b[34m\u001b[39m \u001b[1m\u001b[1mColumns: \u001b[1m\u001b[22m\u001b[34m\u001b[34m7\u001b[34m\u001b[39m\n",
      "\n",
      "\u001b[36m──\u001b[39m \u001b[1m\u001b[1mColumn specification\u001b[1m\u001b[22m \u001b[36m────────────────────────────────────────────────────────────────────────────────────────────────────────\u001b[39m\n",
      "\u001b[1mDelimiter:\u001b[22m \"\\t\"\n",
      "\u001b[31mchr\u001b[39m (3): SNP, A1, A2\n",
      "\u001b[32mdbl\u001b[39m (4): Z, N, chi2, P\n",
      "\n",
      "\n",
      "\u001b[36mℹ\u001b[39m Use \u001b[30m\u001b[47m\u001b[30m\u001b[47m`spec()`\u001b[47m\u001b[30m\u001b[49m\u001b[39m to retrieve the full column specification for this data.\n",
      "\u001b[36mℹ\u001b[39m Specify the column types or set \u001b[30m\u001b[47m\u001b[30m\u001b[47m`show_col_types = FALSE`\u001b[47m\u001b[30m\u001b[49m\u001b[39m to quiet this message.\n",
      "\n"
     ]
    },
    {
     "name": "stdout",
     "output_type": "stream",
     "text": [
      "Formatting X1\n",
      "There are  1208814  variants.\n",
      "Removing  0  duplicated variants leaving  1208814 variants.\n",
      "No variants have illegal alleles.\n",
      "Removed  0  variants with ambiguous strand.\n",
      "Flipping strand and effect allele so A1 is always A\n",
      "Returning  1208814  variants.\n",
      "Formatting X2\n",
      "There are  1037702  variants.\n",
      "Removing  0  duplicated variants leaving  1037702 variants.\n",
      "No variants have illegal alleles.\n",
      "Removed  0  variants with ambiguous strand.\n",
      "Flipping strand and effect allele so A1 is always A\n",
      "Returning  1037702  variants.\n",
      "After merging and removing variants with inconsistent alleles,  there are  1033810  variants that are present in both studies and can be used with CAUSE.\n"
     ]
    },
    {
     "name": "stderr",
     "output_type": "stream",
     "text": [
      "Clumping huaYRh, 10089 variants, using EUR population reference\n",
      "\n",
      "Removing 8639 of 10089 variants due to LD with other variants or absence from LD reference panel\n",
      "\n"
     ]
    },
    {
     "name": "stdout",
     "output_type": "stream",
     "text": [
      "Estimating CAUSE parameters with  1000000  variants.\n",
      "1 0.03208098 \n",
      "2 1.141004e-05 \n",
      "3 2.509936e-08 \n",
      "Estimating CAUSE posteriors using  1450  variants.\n"
     ]
    },
    {
     "name": "stderr",
     "output_type": "stream",
     "text": [
      "Warning message:\n",
      "“'compare' is deprecated.\n",
      "Use 'loo_compare' instead.\n",
      "See help(\"Deprecated\")”\n"
     ]
    },
    {
     "name": "stdout",
     "output_type": "stream",
     "text": [
      "    user   system  elapsed \n",
      "2000.425 1623.773  352.666 \n",
      "Income ~ Hair_Blonde \n"
     ]
    },
    {
     "name": "stderr",
     "output_type": "stream",
     "text": [
      "\u001b[1m\u001b[1mRows: \u001b[1m\u001b[22m\u001b[34m\u001b[34m1208814\u001b[34m\u001b[39m \u001b[1m\u001b[1mColumns: \u001b[1m\u001b[22m\u001b[34m\u001b[34m7\u001b[34m\u001b[39m\n",
      "\n",
      "\u001b[36m──\u001b[39m \u001b[1m\u001b[1mColumn specification\u001b[1m\u001b[22m \u001b[36m────────────────────────────────────────────────────────────────────────────────────────────────────────\u001b[39m\n",
      "\u001b[1mDelimiter:\u001b[22m \"\\t\"\n",
      "\u001b[31mchr\u001b[39m (3): SNP, A1, A2\n",
      "\u001b[32mdbl\u001b[39m (4): Z, N, chi2, P\n",
      "\n",
      "\n",
      "\u001b[36mℹ\u001b[39m Use \u001b[30m\u001b[47m\u001b[30m\u001b[47m`spec()`\u001b[47m\u001b[30m\u001b[49m\u001b[39m to retrieve the full column specification for this data.\n",
      "\u001b[36mℹ\u001b[39m Specify the column types or set \u001b[30m\u001b[47m\u001b[30m\u001b[47m`show_col_types = FALSE`\u001b[47m\u001b[30m\u001b[49m\u001b[39m to quiet this message.\n",
      "\n",
      "\u001b[1m\u001b[1mRows: \u001b[1m\u001b[22m\u001b[34m\u001b[34m1037533\u001b[34m\u001b[39m \u001b[1m\u001b[1mColumns: \u001b[1m\u001b[22m\u001b[34m\u001b[34m7\u001b[34m\u001b[39m\n",
      "\n",
      "\u001b[36m──\u001b[39m \u001b[1m\u001b[1mColumn specification\u001b[1m\u001b[22m \u001b[36m────────────────────────────────────────────────────────────────────────────────────────────────────────\u001b[39m\n",
      "\u001b[1mDelimiter:\u001b[22m \"\\t\"\n",
      "\u001b[31mchr\u001b[39m (3): SNP, A1, A2\n",
      "\u001b[32mdbl\u001b[39m (4): Z, N, chi2, P\n",
      "\n",
      "\n",
      "\u001b[36mℹ\u001b[39m Use \u001b[30m\u001b[47m\u001b[30m\u001b[47m`spec()`\u001b[47m\u001b[30m\u001b[49m\u001b[39m to retrieve the full column specification for this data.\n",
      "\u001b[36mℹ\u001b[39m Specify the column types or set \u001b[30m\u001b[47m\u001b[30m\u001b[47m`show_col_types = FALSE`\u001b[47m\u001b[30m\u001b[49m\u001b[39m to quiet this message.\n",
      "\n"
     ]
    },
    {
     "name": "stdout",
     "output_type": "stream",
     "text": [
      "Formatting X1\n",
      "There are  1208814  variants.\n",
      "Removing  0  duplicated variants leaving  1208814 variants.\n",
      "No variants have illegal alleles.\n",
      "Removed  0  variants with ambiguous strand.\n",
      "Flipping strand and effect allele so A1 is always A\n",
      "Returning  1208814  variants.\n",
      "Formatting X2\n",
      "There are  1037533  variants.\n",
      "Removing  0  duplicated variants leaving  1037533 variants.\n",
      "No variants have illegal alleles.\n",
      "Removed  0  variants with ambiguous strand.\n",
      "Flipping strand and effect allele so A1 is always A\n",
      "Returning  1037533  variants.\n",
      "After merging and removing variants with inconsistent alleles,  there are  1033641  variants that are present in both studies and can be used with CAUSE.\n"
     ]
    },
    {
     "name": "stderr",
     "output_type": "stream",
     "text": [
      "Clumping wXZmIy, 10090 variants, using EUR population reference\n",
      "\n",
      "Removing 8640 of 10090 variants due to LD with other variants or absence from LD reference panel\n",
      "\n"
     ]
    },
    {
     "name": "stdout",
     "output_type": "stream",
     "text": [
      "Estimating CAUSE parameters with  1000000  variants.\n",
      "1 0.01876564 \n",
      "2 5.532756e-05 \n",
      "3 2.189082e-07 \n",
      "4 3.494705e-09 \n",
      "Estimating CAUSE posteriors using  1450  variants.\n"
     ]
    },
    {
     "name": "stderr",
     "output_type": "stream",
     "text": [
      "Warning message:\n",
      "“'compare' is deprecated.\n",
      "Use 'loo_compare' instead.\n",
      "See help(\"Deprecated\")”\n"
     ]
    },
    {
     "name": "stdout",
     "output_type": "stream",
     "text": [
      "    user   system  elapsed \n",
      "2047.833 1578.563  344.238 \n",
      "Income ~ Tanning \n"
     ]
    },
    {
     "name": "stderr",
     "output_type": "stream",
     "text": [
      "\u001b[1m\u001b[1mRows: \u001b[1m\u001b[22m\u001b[34m\u001b[34m1208814\u001b[34m\u001b[39m \u001b[1m\u001b[1mColumns: \u001b[1m\u001b[22m\u001b[34m\u001b[34m7\u001b[34m\u001b[39m\n",
      "\n",
      "\u001b[36m──\u001b[39m \u001b[1m\u001b[1mColumn specification\u001b[1m\u001b[22m \u001b[36m────────────────────────────────────────────────────────────────────────────────────────────────────────\u001b[39m\n",
      "\u001b[1mDelimiter:\u001b[22m \"\\t\"\n",
      "\u001b[31mchr\u001b[39m (3): SNP, A1, A2\n",
      "\u001b[32mdbl\u001b[39m (4): Z, N, chi2, P\n",
      "\n",
      "\n",
      "\u001b[36mℹ\u001b[39m Use \u001b[30m\u001b[47m\u001b[30m\u001b[47m`spec()`\u001b[47m\u001b[30m\u001b[49m\u001b[39m to retrieve the full column specification for this data.\n",
      "\u001b[36mℹ\u001b[39m Specify the column types or set \u001b[30m\u001b[47m\u001b[30m\u001b[47m`show_col_types = FALSE`\u001b[47m\u001b[30m\u001b[49m\u001b[39m to quiet this message.\n",
      "\n",
      "\u001b[1m\u001b[1mRows: \u001b[1m\u001b[22m\u001b[34m\u001b[34m1037026\u001b[34m\u001b[39m \u001b[1m\u001b[1mColumns: \u001b[1m\u001b[22m\u001b[34m\u001b[34m7\u001b[34m\u001b[39m\n",
      "\n",
      "\u001b[36m──\u001b[39m \u001b[1m\u001b[1mColumn specification\u001b[1m\u001b[22m \u001b[36m────────────────────────────────────────────────────────────────────────────────────────────────────────\u001b[39m\n",
      "\u001b[1mDelimiter:\u001b[22m \"\\t\"\n",
      "\u001b[31mchr\u001b[39m (3): SNP, A1, A2\n",
      "\u001b[32mdbl\u001b[39m (4): Z, N, chi2, P\n",
      "\n",
      "\n",
      "\u001b[36mℹ\u001b[39m Use \u001b[30m\u001b[47m\u001b[30m\u001b[47m`spec()`\u001b[47m\u001b[30m\u001b[49m\u001b[39m to retrieve the full column specification for this data.\n",
      "\u001b[36mℹ\u001b[39m Specify the column types or set \u001b[30m\u001b[47m\u001b[30m\u001b[47m`show_col_types = FALSE`\u001b[47m\u001b[30m\u001b[49m\u001b[39m to quiet this message.\n",
      "\n"
     ]
    },
    {
     "name": "stdout",
     "output_type": "stream",
     "text": [
      "Formatting X1\n",
      "There are  1208814  variants.\n",
      "Removing  0  duplicated variants leaving  1208814 variants.\n",
      "No variants have illegal alleles.\n",
      "Removed  0  variants with ambiguous strand.\n",
      "Flipping strand and effect allele so A1 is always A\n",
      "Returning  1208814  variants.\n",
      "Formatting X2\n",
      "There are  1037026  variants.\n",
      "Removing  0  duplicated variants leaving  1037026 variants.\n",
      "No variants have illegal alleles.\n",
      "Removed  0  variants with ambiguous strand.\n",
      "Flipping strand and effect allele so A1 is always A\n",
      "Returning  1037026  variants.\n",
      "After merging and removing variants with inconsistent alleles,  there are  1033139  variants that are present in both studies and can be used with CAUSE.\n"
     ]
    },
    {
     "name": "stderr",
     "output_type": "stream",
     "text": [
      "Clumping ybDffX, 9974 variants, using EUR population reference\n",
      "\n",
      "Removing 8529 of 9974 variants due to LD with other variants or absence from LD reference panel\n",
      "\n"
     ]
    },
    {
     "name": "stdout",
     "output_type": "stream",
     "text": [
      "Estimating CAUSE parameters with  1000000  variants.\n",
      "1 0.03334596 \n",
      "2 4.127562e-06 \n",
      "3 5.892917e-09 \n",
      "Estimating CAUSE posteriors using  1445  variants.\n"
     ]
    },
    {
     "name": "stderr",
     "output_type": "stream",
     "text": [
      "Warning message:\n",
      "“'compare' is deprecated.\n",
      "Use 'loo_compare' instead.\n",
      "See help(\"Deprecated\")”\n"
     ]
    },
    {
     "name": "stdout",
     "output_type": "stream",
     "text": [
      "    user   system  elapsed \n",
      "1998.797 1568.609  364.375 \n",
      "NEB ~ Hair_Light_Brown \n"
     ]
    },
    {
     "name": "stderr",
     "output_type": "stream",
     "text": [
      "\u001b[1m\u001b[1mRows: \u001b[1m\u001b[22m\u001b[34m\u001b[34m984184\u001b[34m\u001b[39m \u001b[1m\u001b[1mColumns: \u001b[1m\u001b[22m\u001b[34m\u001b[34m7\u001b[34m\u001b[39m\n",
      "\n",
      "\u001b[36m──\u001b[39m \u001b[1m\u001b[1mColumn specification\u001b[1m\u001b[22m \u001b[36m────────────────────────────────────────────────────────────────────────────────────────────────────────\u001b[39m\n",
      "\u001b[1mDelimiter:\u001b[22m \"\\t\"\n",
      "\u001b[31mchr\u001b[39m (3): SNP, A1, A2\n",
      "\u001b[32mdbl\u001b[39m (4): Z, N, chi2, P\n",
      "\n",
      "\n",
      "\u001b[36mℹ\u001b[39m Use \u001b[30m\u001b[47m\u001b[30m\u001b[47m`spec()`\u001b[47m\u001b[30m\u001b[49m\u001b[39m to retrieve the full column specification for this data.\n",
      "\u001b[36mℹ\u001b[39m Specify the column types or set \u001b[30m\u001b[47m\u001b[30m\u001b[47m`show_col_types = FALSE`\u001b[47m\u001b[30m\u001b[49m\u001b[39m to quiet this message.\n",
      "\n",
      "\u001b[1m\u001b[1mRows: \u001b[1m\u001b[22m\u001b[34m\u001b[34m1037742\u001b[34m\u001b[39m \u001b[1m\u001b[1mColumns: \u001b[1m\u001b[22m\u001b[34m\u001b[34m7\u001b[34m\u001b[39m\n",
      "\n",
      "\u001b[36m──\u001b[39m \u001b[1m\u001b[1mColumn specification\u001b[1m\u001b[22m \u001b[36m────────────────────────────────────────────────────────────────────────────────────────────────────────\u001b[39m\n",
      "\u001b[1mDelimiter:\u001b[22m \"\\t\"\n",
      "\u001b[31mchr\u001b[39m (3): SNP, A1, A2\n",
      "\u001b[32mdbl\u001b[39m (4): Z, N, chi2, P\n",
      "\n",
      "\n",
      "\u001b[36mℹ\u001b[39m Use \u001b[30m\u001b[47m\u001b[30m\u001b[47m`spec()`\u001b[47m\u001b[30m\u001b[49m\u001b[39m to retrieve the full column specification for this data.\n",
      "\u001b[36mℹ\u001b[39m Specify the column types or set \u001b[30m\u001b[47m\u001b[30m\u001b[47m`show_col_types = FALSE`\u001b[47m\u001b[30m\u001b[49m\u001b[39m to quiet this message.\n",
      "\n"
     ]
    },
    {
     "name": "stdout",
     "output_type": "stream",
     "text": [
      "Formatting X1\n",
      "There are  984184  variants.\n",
      "Removing  0  duplicated variants leaving  984184 variants.\n",
      "No variants have illegal alleles.\n",
      "Removed  0  variants with ambiguous strand.\n",
      "Flipping strand and effect allele so A1 is always A\n",
      "Returning  984184  variants.\n",
      "Formatting X2\n",
      "There are  1037742  variants.\n",
      "Removing  0  duplicated variants leaving  1037742 variants.\n",
      "No variants have illegal alleles.\n",
      "Removed  0  variants with ambiguous strand.\n",
      "Flipping strand and effect allele so A1 is always A\n",
      "Returning  1037742  variants.\n",
      "After merging and removing variants with inconsistent alleles,  there are  922463  variants that are present in both studies and can be used with CAUSE.\n"
     ]
    },
    {
     "name": "stderr",
     "output_type": "stream",
     "text": [
      "Clumping xPCR9H, 2540 variants, using EUR population reference\n",
      "\n",
      "Removing 1927 of 2540 variants due to LD with other variants or absence from LD reference panel\n",
      "\n"
     ]
    },
    {
     "name": "stdout",
     "output_type": "stream",
     "text": [
      "Estimating CAUSE parameters with  922463  variants.\n",
      "1 0.01039934 \n",
      "2 2.027244e-06 \n",
      "3 4.615258e-09 \n",
      "Estimating CAUSE posteriors using  600  variants.\n"
     ]
    },
    {
     "name": "stderr",
     "output_type": "stream",
     "text": [
      "Warning message:\n",
      "“'compare' is deprecated.\n",
      "Use 'loo_compare' instead.\n",
      "See help(\"Deprecated\")”\n"
     ]
    },
    {
     "name": "stdout",
     "output_type": "stream",
     "text": [
      "    user   system  elapsed \n",
      "1567.462 1427.406  289.933 \n",
      "NEB ~ Hair_Dark_Brown \n"
     ]
    },
    {
     "name": "stderr",
     "output_type": "stream",
     "text": [
      "\u001b[1m\u001b[1mRows: \u001b[1m\u001b[22m\u001b[34m\u001b[34m984184\u001b[34m\u001b[39m \u001b[1m\u001b[1mColumns: \u001b[1m\u001b[22m\u001b[34m\u001b[34m7\u001b[34m\u001b[39m\n",
      "\n",
      "\u001b[36m──\u001b[39m \u001b[1m\u001b[1mColumn specification\u001b[1m\u001b[22m \u001b[36m────────────────────────────────────────────────────────────────────────────────────────────────────────\u001b[39m\n",
      "\u001b[1mDelimiter:\u001b[22m \"\\t\"\n",
      "\u001b[31mchr\u001b[39m (3): SNP, A1, A2\n",
      "\u001b[32mdbl\u001b[39m (4): Z, N, chi2, P\n",
      "\n",
      "\n",
      "\u001b[36mℹ\u001b[39m Use \u001b[30m\u001b[47m\u001b[30m\u001b[47m`spec()`\u001b[47m\u001b[30m\u001b[49m\u001b[39m to retrieve the full column specification for this data.\n",
      "\u001b[36mℹ\u001b[39m Specify the column types or set \u001b[30m\u001b[47m\u001b[30m\u001b[47m`show_col_types = FALSE`\u001b[47m\u001b[30m\u001b[49m\u001b[39m to quiet this message.\n",
      "\n",
      "\u001b[1m\u001b[1mRows: \u001b[1m\u001b[22m\u001b[34m\u001b[34m1037381\u001b[34m\u001b[39m \u001b[1m\u001b[1mColumns: \u001b[1m\u001b[22m\u001b[34m\u001b[34m7\u001b[34m\u001b[39m\n",
      "\n",
      "\u001b[36m──\u001b[39m \u001b[1m\u001b[1mColumn specification\u001b[1m\u001b[22m \u001b[36m────────────────────────────────────────────────────────────────────────────────────────────────────────\u001b[39m\n",
      "\u001b[1mDelimiter:\u001b[22m \"\\t\"\n",
      "\u001b[31mchr\u001b[39m (3): SNP, A1, A2\n",
      "\u001b[32mdbl\u001b[39m (4): Z, N, chi2, P\n",
      "\n",
      "\n",
      "\u001b[36mℹ\u001b[39m Use \u001b[30m\u001b[47m\u001b[30m\u001b[47m`spec()`\u001b[47m\u001b[30m\u001b[49m\u001b[39m to retrieve the full column specification for this data.\n",
      "\u001b[36mℹ\u001b[39m Specify the column types or set \u001b[30m\u001b[47m\u001b[30m\u001b[47m`show_col_types = FALSE`\u001b[47m\u001b[30m\u001b[49m\u001b[39m to quiet this message.\n",
      "\n"
     ]
    },
    {
     "name": "stdout",
     "output_type": "stream",
     "text": [
      "Formatting X1\n",
      "There are  984184  variants.\n",
      "Removing  0  duplicated variants leaving  984184 variants.\n",
      "No variants have illegal alleles.\n",
      "Removed  0  variants with ambiguous strand.\n",
      "Flipping strand and effect allele so A1 is always A\n",
      "Returning  984184  variants.\n",
      "Formatting X2\n",
      "There are  1037381  variants.\n",
      "Removing  0  duplicated variants leaving  1037381 variants.\n",
      "No variants have illegal alleles.\n",
      "Removed  0  variants with ambiguous strand.\n",
      "Flipping strand and effect allele so A1 is always A\n",
      "Returning  1037381  variants.\n",
      "After merging and removing variants with inconsistent alleles,  there are  922159  variants that are present in both studies and can be used with CAUSE.\n"
     ]
    },
    {
     "name": "stderr",
     "output_type": "stream",
     "text": [
      "Clumping xmFAtM, 2528 variants, using EUR population reference\n",
      "\n",
      "Removing 1919 of 2528 variants due to LD with other variants or absence from LD reference panel\n",
      "\n"
     ]
    },
    {
     "name": "stdout",
     "output_type": "stream",
     "text": [
      "Estimating CAUSE parameters with  922159  variants.\n",
      "1 0.03934586 \n",
      "2 1.670803e-05 \n",
      "3 5.469143e-08 \n",
      "Estimating CAUSE posteriors using  595  variants.\n"
     ]
    },
    {
     "name": "stderr",
     "output_type": "stream",
     "text": [
      "Warning message:\n",
      "“'compare' is deprecated.\n",
      "Use 'loo_compare' instead.\n",
      "See help(\"Deprecated\")”\n"
     ]
    },
    {
     "name": "stdout",
     "output_type": "stream",
     "text": [
      "    user   system  elapsed \n",
      "1665.018 1534.287  296.765 \n",
      "NEB ~ Hair_Black \n"
     ]
    },
    {
     "name": "stderr",
     "output_type": "stream",
     "text": [
      "\u001b[1m\u001b[1mRows: \u001b[1m\u001b[22m\u001b[34m\u001b[34m984184\u001b[34m\u001b[39m \u001b[1m\u001b[1mColumns: \u001b[1m\u001b[22m\u001b[34m\u001b[34m7\u001b[34m\u001b[39m\n",
      "\n",
      "\u001b[36m──\u001b[39m \u001b[1m\u001b[1mColumn specification\u001b[1m\u001b[22m \u001b[36m────────────────────────────────────────────────────────────────────────────────────────────────────────\u001b[39m\n",
      "\u001b[1mDelimiter:\u001b[22m \"\\t\"\n",
      "\u001b[31mchr\u001b[39m (3): SNP, A1, A2\n",
      "\u001b[32mdbl\u001b[39m (4): Z, N, chi2, P\n",
      "\n",
      "\n",
      "\u001b[36mℹ\u001b[39m Use \u001b[30m\u001b[47m\u001b[30m\u001b[47m`spec()`\u001b[47m\u001b[30m\u001b[49m\u001b[39m to retrieve the full column specification for this data.\n",
      "\u001b[36mℹ\u001b[39m Specify the column types or set \u001b[30m\u001b[47m\u001b[30m\u001b[47m`show_col_types = FALSE`\u001b[47m\u001b[30m\u001b[49m\u001b[39m to quiet this message.\n",
      "\n",
      "\u001b[1m\u001b[1mRows: \u001b[1m\u001b[22m\u001b[34m\u001b[34m1037702\u001b[34m\u001b[39m \u001b[1m\u001b[1mColumns: \u001b[1m\u001b[22m\u001b[34m\u001b[34m7\u001b[34m\u001b[39m\n",
      "\n",
      "\u001b[36m──\u001b[39m \u001b[1m\u001b[1mColumn specification\u001b[1m\u001b[22m \u001b[36m────────────────────────────────────────────────────────────────────────────────────────────────────────\u001b[39m\n",
      "\u001b[1mDelimiter:\u001b[22m \"\\t\"\n",
      "\u001b[31mchr\u001b[39m (3): SNP, A1, A2\n",
      "\u001b[32mdbl\u001b[39m (4): Z, N, chi2, P\n",
      "\n",
      "\n",
      "\u001b[36mℹ\u001b[39m Use \u001b[30m\u001b[47m\u001b[30m\u001b[47m`spec()`\u001b[47m\u001b[30m\u001b[49m\u001b[39m to retrieve the full column specification for this data.\n",
      "\u001b[36mℹ\u001b[39m Specify the column types or set \u001b[30m\u001b[47m\u001b[30m\u001b[47m`show_col_types = FALSE`\u001b[47m\u001b[30m\u001b[49m\u001b[39m to quiet this message.\n",
      "\n"
     ]
    },
    {
     "name": "stdout",
     "output_type": "stream",
     "text": [
      "Formatting X1\n",
      "There are  984184  variants.\n",
      "Removing  0  duplicated variants leaving  984184 variants.\n",
      "No variants have illegal alleles.\n",
      "Removed  0  variants with ambiguous strand.\n",
      "Flipping strand and effect allele so A1 is always A\n",
      "Returning  984184  variants.\n",
      "Formatting X2\n",
      "There are  1037702  variants.\n",
      "Removing  0  duplicated variants leaving  1037702 variants.\n",
      "No variants have illegal alleles.\n",
      "Removed  0  variants with ambiguous strand.\n",
      "Flipping strand and effect allele so A1 is always A\n",
      "Returning  1037702  variants.\n",
      "After merging and removing variants with inconsistent alleles,  there are  922431  variants that are present in both studies and can be used with CAUSE.\n"
     ]
    },
    {
     "name": "stderr",
     "output_type": "stream",
     "text": [
      "Clumping yCl4Wb, 2534 variants, using EUR population reference\n",
      "\n",
      "Removing 1922 of 2534 variants due to LD with other variants or absence from LD reference panel\n",
      "\n"
     ]
    },
    {
     "name": "stdout",
     "output_type": "stream",
     "text": [
      "Estimating CAUSE parameters with  922431  variants.\n",
      "1 0.008776273 \n",
      "2 3.192696e-06 \n",
      "3 1.20544e-09 \n",
      "Estimating CAUSE posteriors using  597  variants.\n"
     ]
    },
    {
     "name": "stderr",
     "output_type": "stream",
     "text": [
      "Warning message:\n",
      "“'compare' is deprecated.\n",
      "Use 'loo_compare' instead.\n",
      "See help(\"Deprecated\")”\n"
     ]
    },
    {
     "name": "stdout",
     "output_type": "stream",
     "text": [
      "    user   system  elapsed \n",
      "1449.134 1430.906  278.421 \n",
      "NEB ~ Hair_Blonde \n"
     ]
    },
    {
     "name": "stderr",
     "output_type": "stream",
     "text": [
      "\u001b[1m\u001b[1mRows: \u001b[1m\u001b[22m\u001b[34m\u001b[34m984184\u001b[34m\u001b[39m \u001b[1m\u001b[1mColumns: \u001b[1m\u001b[22m\u001b[34m\u001b[34m7\u001b[34m\u001b[39m\n",
      "\n",
      "\u001b[36m──\u001b[39m \u001b[1m\u001b[1mColumn specification\u001b[1m\u001b[22m \u001b[36m────────────────────────────────────────────────────────────────────────────────────────────────────────\u001b[39m\n",
      "\u001b[1mDelimiter:\u001b[22m \"\\t\"\n",
      "\u001b[31mchr\u001b[39m (3): SNP, A1, A2\n",
      "\u001b[32mdbl\u001b[39m (4): Z, N, chi2, P\n",
      "\n",
      "\n",
      "\u001b[36mℹ\u001b[39m Use \u001b[30m\u001b[47m\u001b[30m\u001b[47m`spec()`\u001b[47m\u001b[30m\u001b[49m\u001b[39m to retrieve the full column specification for this data.\n",
      "\u001b[36mℹ\u001b[39m Specify the column types or set \u001b[30m\u001b[47m\u001b[30m\u001b[47m`show_col_types = FALSE`\u001b[47m\u001b[30m\u001b[49m\u001b[39m to quiet this message.\n",
      "\n",
      "\u001b[1m\u001b[1mRows: \u001b[1m\u001b[22m\u001b[34m\u001b[34m1037533\u001b[34m\u001b[39m \u001b[1m\u001b[1mColumns: \u001b[1m\u001b[22m\u001b[34m\u001b[34m7\u001b[34m\u001b[39m\n",
      "\n",
      "\u001b[36m──\u001b[39m \u001b[1m\u001b[1mColumn specification\u001b[1m\u001b[22m \u001b[36m────────────────────────────────────────────────────────────────────────────────────────────────────────\u001b[39m\n",
      "\u001b[1mDelimiter:\u001b[22m \"\\t\"\n",
      "\u001b[31mchr\u001b[39m (3): SNP, A1, A2\n",
      "\u001b[32mdbl\u001b[39m (4): Z, N, chi2, P\n",
      "\n",
      "\n",
      "\u001b[36mℹ\u001b[39m Use \u001b[30m\u001b[47m\u001b[30m\u001b[47m`spec()`\u001b[47m\u001b[30m\u001b[49m\u001b[39m to retrieve the full column specification for this data.\n",
      "\u001b[36mℹ\u001b[39m Specify the column types or set \u001b[30m\u001b[47m\u001b[30m\u001b[47m`show_col_types = FALSE`\u001b[47m\u001b[30m\u001b[49m\u001b[39m to quiet this message.\n",
      "\n"
     ]
    },
    {
     "name": "stdout",
     "output_type": "stream",
     "text": [
      "Formatting X1\n",
      "There are  984184  variants.\n",
      "Removing  0  duplicated variants leaving  984184 variants.\n",
      "No variants have illegal alleles.\n",
      "Removed  0  variants with ambiguous strand.\n",
      "Flipping strand and effect allele so A1 is always A\n",
      "Returning  984184  variants.\n",
      "Formatting X2\n",
      "There are  1037533  variants.\n",
      "Removing  0  duplicated variants leaving  1037533 variants.\n",
      "No variants have illegal alleles.\n",
      "Removed  0  variants with ambiguous strand.\n",
      "Flipping strand and effect allele so A1 is always A\n",
      "Returning  1037533  variants.\n",
      "After merging and removing variants with inconsistent alleles,  there are  922278  variants that are present in both studies and can be used with CAUSE.\n"
     ]
    },
    {
     "name": "stderr",
     "output_type": "stream",
     "text": [
      "Clumping 7bgjLH, 2539 variants, using EUR population reference\n",
      "\n",
      "Removing 1926 of 2539 variants due to LD with other variants or absence from LD reference panel\n",
      "\n"
     ]
    },
    {
     "name": "stdout",
     "output_type": "stream",
     "text": [
      "Estimating CAUSE parameters with  922278  variants.\n",
      "1 0.02424467 \n",
      "2 2.789309e-05 \n",
      "3 7.166786e-08 \n",
      "Estimating CAUSE posteriors using  598  variants.\n"
     ]
    },
    {
     "name": "stderr",
     "output_type": "stream",
     "text": [
      "Warning message:\n",
      "“'compare' is deprecated.\n",
      "Use 'loo_compare' instead.\n",
      "See help(\"Deprecated\")”\n"
     ]
    },
    {
     "name": "stdout",
     "output_type": "stream",
     "text": [
      "    user   system  elapsed \n",
      "1504.765 1480.144  281.032 \n",
      "NEB ~ Tanning \n"
     ]
    },
    {
     "name": "stderr",
     "output_type": "stream",
     "text": [
      "\u001b[1m\u001b[1mRows: \u001b[1m\u001b[22m\u001b[34m\u001b[34m984184\u001b[34m\u001b[39m \u001b[1m\u001b[1mColumns: \u001b[1m\u001b[22m\u001b[34m\u001b[34m7\u001b[34m\u001b[39m\n",
      "\n",
      "\u001b[36m──\u001b[39m \u001b[1m\u001b[1mColumn specification\u001b[1m\u001b[22m \u001b[36m────────────────────────────────────────────────────────────────────────────────────────────────────────\u001b[39m\n",
      "\u001b[1mDelimiter:\u001b[22m \"\\t\"\n",
      "\u001b[31mchr\u001b[39m (3): SNP, A1, A2\n",
      "\u001b[32mdbl\u001b[39m (4): Z, N, chi2, P\n",
      "\n",
      "\n",
      "\u001b[36mℹ\u001b[39m Use \u001b[30m\u001b[47m\u001b[30m\u001b[47m`spec()`\u001b[47m\u001b[30m\u001b[49m\u001b[39m to retrieve the full column specification for this data.\n",
      "\u001b[36mℹ\u001b[39m Specify the column types or set \u001b[30m\u001b[47m\u001b[30m\u001b[47m`show_col_types = FALSE`\u001b[47m\u001b[30m\u001b[49m\u001b[39m to quiet this message.\n",
      "\n",
      "\u001b[1m\u001b[1mRows: \u001b[1m\u001b[22m\u001b[34m\u001b[34m1037026\u001b[34m\u001b[39m \u001b[1m\u001b[1mColumns: \u001b[1m\u001b[22m\u001b[34m\u001b[34m7\u001b[34m\u001b[39m\n",
      "\n",
      "\u001b[36m──\u001b[39m \u001b[1m\u001b[1mColumn specification\u001b[1m\u001b[22m \u001b[36m────────────────────────────────────────────────────────────────────────────────────────────────────────\u001b[39m\n",
      "\u001b[1mDelimiter:\u001b[22m \"\\t\"\n",
      "\u001b[31mchr\u001b[39m (3): SNP, A1, A2\n",
      "\u001b[32mdbl\u001b[39m (4): Z, N, chi2, P\n",
      "\n",
      "\n",
      "\u001b[36mℹ\u001b[39m Use \u001b[30m\u001b[47m\u001b[30m\u001b[47m`spec()`\u001b[47m\u001b[30m\u001b[49m\u001b[39m to retrieve the full column specification for this data.\n",
      "\u001b[36mℹ\u001b[39m Specify the column types or set \u001b[30m\u001b[47m\u001b[30m\u001b[47m`show_col_types = FALSE`\u001b[47m\u001b[30m\u001b[49m\u001b[39m to quiet this message.\n",
      "\n"
     ]
    },
    {
     "name": "stdout",
     "output_type": "stream",
     "text": [
      "Formatting X1\n",
      "There are  984184  variants.\n",
      "Removing  0  duplicated variants leaving  984184 variants.\n",
      "No variants have illegal alleles.\n",
      "Removed  0  variants with ambiguous strand.\n",
      "Flipping strand and effect allele so A1 is always A\n",
      "Returning  984184  variants.\n",
      "Formatting X2\n",
      "There are  1037026  variants.\n",
      "Removing  0  duplicated variants leaving  1037026 variants.\n",
      "No variants have illegal alleles.\n",
      "Removed  0  variants with ambiguous strand.\n",
      "Flipping strand and effect allele so A1 is always A\n",
      "Returning  1037026  variants.\n",
      "After merging and removing variants with inconsistent alleles,  there are  921877  variants that are present in both studies and can be used with CAUSE.\n"
     ]
    },
    {
     "name": "stderr",
     "output_type": "stream",
     "text": [
      "Clumping P5Y08L, 2523 variants, using EUR population reference\n",
      "\n",
      "Removing 1915 of 2523 variants due to LD with other variants or absence from LD reference panel\n",
      "\n"
     ]
    },
    {
     "name": "stdout",
     "output_type": "stream",
     "text": [
      "Estimating CAUSE parameters with  921877  variants.\n",
      "1 0.01602464 \n",
      "2 1.11731e-05 \n",
      "3 1.188692e-08 \n",
      "Estimating CAUSE posteriors using  594  variants.\n"
     ]
    },
    {
     "name": "stderr",
     "output_type": "stream",
     "text": [
      "Warning message:\n",
      "“'compare' is deprecated.\n",
      "Use 'loo_compare' instead.\n",
      "See help(\"Deprecated\")”\n"
     ]
    },
    {
     "name": "stdout",
     "output_type": "stream",
     "text": [
      "    user   system  elapsed \n",
      "1512.565 1432.088  290.334 \n",
      "Smoking ~ Hair_Light_Brown \n"
     ]
    },
    {
     "name": "stderr",
     "output_type": "stream",
     "text": [
      "\u001b[1m\u001b[1mRows: \u001b[1m\u001b[22m\u001b[34m\u001b[34m1078870\u001b[34m\u001b[39m \u001b[1m\u001b[1mColumns: \u001b[1m\u001b[22m\u001b[34m\u001b[34m7\u001b[34m\u001b[39m\n",
      "\n",
      "\u001b[36m──\u001b[39m \u001b[1m\u001b[1mColumn specification\u001b[1m\u001b[22m \u001b[36m────────────────────────────────────────────────────────────────────────────────────────────────────────\u001b[39m\n",
      "\u001b[1mDelimiter:\u001b[22m \"\\t\"\n",
      "\u001b[31mchr\u001b[39m (3): SNP, A1, A2\n",
      "\u001b[32mdbl\u001b[39m (4): Z, N, chi2, P\n",
      "\n",
      "\n",
      "\u001b[36mℹ\u001b[39m Use \u001b[30m\u001b[47m\u001b[30m\u001b[47m`spec()`\u001b[47m\u001b[30m\u001b[49m\u001b[39m to retrieve the full column specification for this data.\n",
      "\u001b[36mℹ\u001b[39m Specify the column types or set \u001b[30m\u001b[47m\u001b[30m\u001b[47m`show_col_types = FALSE`\u001b[47m\u001b[30m\u001b[49m\u001b[39m to quiet this message.\n",
      "\n",
      "\u001b[1m\u001b[1mRows: \u001b[1m\u001b[22m\u001b[34m\u001b[34m1037742\u001b[34m\u001b[39m \u001b[1m\u001b[1mColumns: \u001b[1m\u001b[22m\u001b[34m\u001b[34m7\u001b[34m\u001b[39m\n",
      "\n",
      "\u001b[36m──\u001b[39m \u001b[1m\u001b[1mColumn specification\u001b[1m\u001b[22m \u001b[36m────────────────────────────────────────────────────────────────────────────────────────────────────────\u001b[39m\n",
      "\u001b[1mDelimiter:\u001b[22m \"\\t\"\n",
      "\u001b[31mchr\u001b[39m (3): SNP, A1, A2\n",
      "\u001b[32mdbl\u001b[39m (4): Z, N, chi2, P\n",
      "\n",
      "\n",
      "\u001b[36mℹ\u001b[39m Use \u001b[30m\u001b[47m\u001b[30m\u001b[47m`spec()`\u001b[47m\u001b[30m\u001b[49m\u001b[39m to retrieve the full column specification for this data.\n",
      "\u001b[36mℹ\u001b[39m Specify the column types or set \u001b[30m\u001b[47m\u001b[30m\u001b[47m`show_col_types = FALSE`\u001b[47m\u001b[30m\u001b[49m\u001b[39m to quiet this message.\n",
      "\n"
     ]
    },
    {
     "name": "stdout",
     "output_type": "stream",
     "text": [
      "Formatting X1\n",
      "There are  1078870  variants.\n",
      "Removing  0  duplicated variants leaving  1078870 variants.\n",
      "No variants have illegal alleles.\n",
      "Removed  0  variants with ambiguous strand.\n",
      "Flipping strand and effect allele so A1 is always A\n",
      "Returning  1078870  variants.\n",
      "Formatting X2\n",
      "There are  1037742  variants.\n",
      "Removing  0  duplicated variants leaving  1037742 variants.\n",
      "No variants have illegal alleles.\n",
      "Removed  0  variants with ambiguous strand.\n",
      "Flipping strand and effect allele so A1 is always A\n",
      "Returning  1037742  variants.\n",
      "After merging and removing variants with inconsistent alleles,  there are  1024026  variants that are present in both studies and can be used with CAUSE.\n"
     ]
    },
    {
     "name": "stderr",
     "output_type": "stream",
     "text": [
      "Clumping noJjDx, 6430 variants, using EUR population reference\n",
      "\n",
      "Removing 5400 of 6430 variants due to LD with other variants or absence from LD reference panel\n",
      "\n"
     ]
    },
    {
     "name": "stdout",
     "output_type": "stream",
     "text": [
      "Estimating CAUSE parameters with  1000000  variants.\n",
      "1 0.01359843 \n",
      "2 1.421671e-05 \n",
      "3 1.396278e-08 \n",
      "Estimating CAUSE posteriors using  1030  variants.\n"
     ]
    },
    {
     "name": "stderr",
     "output_type": "stream",
     "text": [
      "Warning message:\n",
      "“'compare' is deprecated.\n",
      "Use 'loo_compare' instead.\n",
      "See help(\"Deprecated\")”\n"
     ]
    },
    {
     "name": "stdout",
     "output_type": "stream",
     "text": [
      "    user   system  elapsed \n",
      "2379.058 1846.976  432.073 \n",
      "Smoking ~ Hair_Dark_Brown \n"
     ]
    },
    {
     "name": "stderr",
     "output_type": "stream",
     "text": [
      "\u001b[1m\u001b[1mRows: \u001b[1m\u001b[22m\u001b[34m\u001b[34m1078870\u001b[34m\u001b[39m \u001b[1m\u001b[1mColumns: \u001b[1m\u001b[22m\u001b[34m\u001b[34m7\u001b[34m\u001b[39m\n",
      "\n",
      "\u001b[36m──\u001b[39m \u001b[1m\u001b[1mColumn specification\u001b[1m\u001b[22m \u001b[36m────────────────────────────────────────────────────────────────────────────────────────────────────────\u001b[39m\n",
      "\u001b[1mDelimiter:\u001b[22m \"\\t\"\n",
      "\u001b[31mchr\u001b[39m (3): SNP, A1, A2\n",
      "\u001b[32mdbl\u001b[39m (4): Z, N, chi2, P\n",
      "\n",
      "\n",
      "\u001b[36mℹ\u001b[39m Use \u001b[30m\u001b[47m\u001b[30m\u001b[47m`spec()`\u001b[47m\u001b[30m\u001b[49m\u001b[39m to retrieve the full column specification for this data.\n",
      "\u001b[36mℹ\u001b[39m Specify the column types or set \u001b[30m\u001b[47m\u001b[30m\u001b[47m`show_col_types = FALSE`\u001b[47m\u001b[30m\u001b[49m\u001b[39m to quiet this message.\n",
      "\n",
      "\u001b[1m\u001b[1mRows: \u001b[1m\u001b[22m\u001b[34m\u001b[34m1037381\u001b[34m\u001b[39m \u001b[1m\u001b[1mColumns: \u001b[1m\u001b[22m\u001b[34m\u001b[34m7\u001b[34m\u001b[39m\n",
      "\n",
      "\u001b[36m──\u001b[39m \u001b[1m\u001b[1mColumn specification\u001b[1m\u001b[22m \u001b[36m────────────────────────────────────────────────────────────────────────────────────────────────────────\u001b[39m\n",
      "\u001b[1mDelimiter:\u001b[22m \"\\t\"\n",
      "\u001b[31mchr\u001b[39m (3): SNP, A1, A2\n",
      "\u001b[32mdbl\u001b[39m (4): Z, N, chi2, P\n",
      "\n",
      "\n",
      "\u001b[36mℹ\u001b[39m Use \u001b[30m\u001b[47m\u001b[30m\u001b[47m`spec()`\u001b[47m\u001b[30m\u001b[49m\u001b[39m to retrieve the full column specification for this data.\n",
      "\u001b[36mℹ\u001b[39m Specify the column types or set \u001b[30m\u001b[47m\u001b[30m\u001b[47m`show_col_types = FALSE`\u001b[47m\u001b[30m\u001b[49m\u001b[39m to quiet this message.\n",
      "\n"
     ]
    },
    {
     "name": "stdout",
     "output_type": "stream",
     "text": [
      "Formatting X1\n",
      "There are  1078870  variants.\n",
      "Removing  0  duplicated variants leaving  1078870 variants.\n",
      "No variants have illegal alleles.\n",
      "Removed  0  variants with ambiguous strand.\n",
      "Flipping strand and effect allele so A1 is always A\n",
      "Returning  1078870  variants.\n",
      "Formatting X2\n",
      "There are  1037381  variants.\n",
      "Removing  0  duplicated variants leaving  1037381 variants.\n",
      "No variants have illegal alleles.\n",
      "Removed  0  variants with ambiguous strand.\n",
      "Flipping strand and effect allele so A1 is always A\n",
      "Returning  1037381  variants.\n",
      "After merging and removing variants with inconsistent alleles,  there are  1023687  variants that are present in both studies and can be used with CAUSE.\n"
     ]
    },
    {
     "name": "stderr",
     "output_type": "stream",
     "text": [
      "Clumping tOFBkt, 6428 variants, using EUR population reference\n",
      "\n",
      "Removing 5399 of 6428 variants due to LD with other variants or absence from LD reference panel\n",
      "\n"
     ]
    },
    {
     "name": "stdout",
     "output_type": "stream",
     "text": [
      "Estimating CAUSE parameters with  1000000  variants.\n",
      "1 0.0001056098 \n",
      "2 5.690686e-08 \n",
      "Estimating CAUSE posteriors using  1029  variants.\n"
     ]
    },
    {
     "name": "stderr",
     "output_type": "stream",
     "text": [
      "Warning message:\n",
      "“'compare' is deprecated.\n",
      "Use 'loo_compare' instead.\n",
      "See help(\"Deprecated\")”\n"
     ]
    },
    {
     "name": "stdout",
     "output_type": "stream",
     "text": [
      "    user   system  elapsed \n",
      "1878.758 1557.225  368.721 \n",
      "Smoking ~ Hair_Black \n"
     ]
    },
    {
     "name": "stderr",
     "output_type": "stream",
     "text": [
      "\u001b[1m\u001b[1mRows: \u001b[1m\u001b[22m\u001b[34m\u001b[34m1078870\u001b[34m\u001b[39m \u001b[1m\u001b[1mColumns: \u001b[1m\u001b[22m\u001b[34m\u001b[34m7\u001b[34m\u001b[39m\n",
      "\n",
      "\u001b[36m──\u001b[39m \u001b[1m\u001b[1mColumn specification\u001b[1m\u001b[22m \u001b[36m────────────────────────────────────────────────────────────────────────────────────────────────────────\u001b[39m\n",
      "\u001b[1mDelimiter:\u001b[22m \"\\t\"\n",
      "\u001b[31mchr\u001b[39m (3): SNP, A1, A2\n",
      "\u001b[32mdbl\u001b[39m (4): Z, N, chi2, P\n",
      "\n",
      "\n",
      "\u001b[36mℹ\u001b[39m Use \u001b[30m\u001b[47m\u001b[30m\u001b[47m`spec()`\u001b[47m\u001b[30m\u001b[49m\u001b[39m to retrieve the full column specification for this data.\n",
      "\u001b[36mℹ\u001b[39m Specify the column types or set \u001b[30m\u001b[47m\u001b[30m\u001b[47m`show_col_types = FALSE`\u001b[47m\u001b[30m\u001b[49m\u001b[39m to quiet this message.\n",
      "\n",
      "\u001b[1m\u001b[1mRows: \u001b[1m\u001b[22m\u001b[34m\u001b[34m1037702\u001b[34m\u001b[39m \u001b[1m\u001b[1mColumns: \u001b[1m\u001b[22m\u001b[34m\u001b[34m7\u001b[34m\u001b[39m\n",
      "\n",
      "\u001b[36m──\u001b[39m \u001b[1m\u001b[1mColumn specification\u001b[1m\u001b[22m \u001b[36m────────────────────────────────────────────────────────────────────────────────────────────────────────\u001b[39m\n",
      "\u001b[1mDelimiter:\u001b[22m \"\\t\"\n",
      "\u001b[31mchr\u001b[39m (3): SNP, A1, A2\n",
      "\u001b[32mdbl\u001b[39m (4): Z, N, chi2, P\n",
      "\n",
      "\n",
      "\u001b[36mℹ\u001b[39m Use \u001b[30m\u001b[47m\u001b[30m\u001b[47m`spec()`\u001b[47m\u001b[30m\u001b[49m\u001b[39m to retrieve the full column specification for this data.\n",
      "\u001b[36mℹ\u001b[39m Specify the column types or set \u001b[30m\u001b[47m\u001b[30m\u001b[47m`show_col_types = FALSE`\u001b[47m\u001b[30m\u001b[49m\u001b[39m to quiet this message.\n",
      "\n"
     ]
    },
    {
     "name": "stdout",
     "output_type": "stream",
     "text": [
      "Formatting X1\n",
      "There are  1078870  variants.\n",
      "Removing  0  duplicated variants leaving  1078870 variants.\n",
      "No variants have illegal alleles.\n",
      "Removed  0  variants with ambiguous strand.\n",
      "Flipping strand and effect allele so A1 is always A\n",
      "Returning  1078870  variants.\n",
      "Formatting X2\n",
      "There are  1037702  variants.\n",
      "Removing  0  duplicated variants leaving  1037702 variants.\n",
      "No variants have illegal alleles.\n",
      "Removed  0  variants with ambiguous strand.\n",
      "Flipping strand and effect allele so A1 is always A\n",
      "Returning  1037702  variants.\n",
      "After merging and removing variants with inconsistent alleles,  there are  1023988  variants that are present in both studies and can be used with CAUSE.\n"
     ]
    },
    {
     "name": "stderr",
     "output_type": "stream",
     "text": [
      "Clumping z7sfUX, 6429 variants, using EUR population reference\n",
      "\n",
      "Removing 5399 of 6429 variants due to LD with other variants or absence from LD reference panel\n",
      "\n"
     ]
    },
    {
     "name": "stdout",
     "output_type": "stream",
     "text": [
      "Estimating CAUSE parameters with  1000000  variants.\n",
      "1 0.05995133 \n",
      "2 5.381474e-05 \n",
      "3 1.309493e-07 \n",
      "4 4.636024e-09 \n",
      "Estimating CAUSE posteriors using  1030  variants.\n"
     ]
    },
    {
     "name": "stderr",
     "output_type": "stream",
     "text": [
      "Warning message:\n",
      "“'compare' is deprecated.\n",
      "Use 'loo_compare' instead.\n",
      "See help(\"Deprecated\")”\n"
     ]
    },
    {
     "name": "stdout",
     "output_type": "stream",
     "text": [
      "    user   system  elapsed \n",
      "2340.129 1892.470  401.470 \n",
      "Smoking ~ Hair_Blonde \n"
     ]
    },
    {
     "name": "stderr",
     "output_type": "stream",
     "text": [
      "\u001b[1m\u001b[1mRows: \u001b[1m\u001b[22m\u001b[34m\u001b[34m1078870\u001b[34m\u001b[39m \u001b[1m\u001b[1mColumns: \u001b[1m\u001b[22m\u001b[34m\u001b[34m7\u001b[34m\u001b[39m\n",
      "\n",
      "\u001b[36m──\u001b[39m \u001b[1m\u001b[1mColumn specification\u001b[1m\u001b[22m \u001b[36m────────────────────────────────────────────────────────────────────────────────────────────────────────\u001b[39m\n",
      "\u001b[1mDelimiter:\u001b[22m \"\\t\"\n",
      "\u001b[31mchr\u001b[39m (3): SNP, A1, A2\n",
      "\u001b[32mdbl\u001b[39m (4): Z, N, chi2, P\n",
      "\n",
      "\n",
      "\u001b[36mℹ\u001b[39m Use \u001b[30m\u001b[47m\u001b[30m\u001b[47m`spec()`\u001b[47m\u001b[30m\u001b[49m\u001b[39m to retrieve the full column specification for this data.\n",
      "\u001b[36mℹ\u001b[39m Specify the column types or set \u001b[30m\u001b[47m\u001b[30m\u001b[47m`show_col_types = FALSE`\u001b[47m\u001b[30m\u001b[49m\u001b[39m to quiet this message.\n",
      "\n",
      "\u001b[1m\u001b[1mRows: \u001b[1m\u001b[22m\u001b[34m\u001b[34m1037533\u001b[34m\u001b[39m \u001b[1m\u001b[1mColumns: \u001b[1m\u001b[22m\u001b[34m\u001b[34m7\u001b[34m\u001b[39m\n",
      "\n",
      "\u001b[36m──\u001b[39m \u001b[1m\u001b[1mColumn specification\u001b[1m\u001b[22m \u001b[36m────────────────────────────────────────────────────────────────────────────────────────────────────────\u001b[39m\n",
      "\u001b[1mDelimiter:\u001b[22m \"\\t\"\n",
      "\u001b[31mchr\u001b[39m (3): SNP, A1, A2\n",
      "\u001b[32mdbl\u001b[39m (4): Z, N, chi2, P\n",
      "\n",
      "\n",
      "\u001b[36mℹ\u001b[39m Use \u001b[30m\u001b[47m\u001b[30m\u001b[47m`spec()`\u001b[47m\u001b[30m\u001b[49m\u001b[39m to retrieve the full column specification for this data.\n",
      "\u001b[36mℹ\u001b[39m Specify the column types or set \u001b[30m\u001b[47m\u001b[30m\u001b[47m`show_col_types = FALSE`\u001b[47m\u001b[30m\u001b[49m\u001b[39m to quiet this message.\n",
      "\n"
     ]
    },
    {
     "name": "stdout",
     "output_type": "stream",
     "text": [
      "Formatting X1\n",
      "There are  1078870  variants.\n",
      "Removing  0  duplicated variants leaving  1078870 variants.\n",
      "No variants have illegal alleles.\n",
      "Removed  0  variants with ambiguous strand.\n",
      "Flipping strand and effect allele so A1 is always A\n",
      "Returning  1078870  variants.\n",
      "Formatting X2\n",
      "There are  1037533  variants.\n",
      "Removing  0  duplicated variants leaving  1037533 variants.\n",
      "No variants have illegal alleles.\n",
      "Removed  0  variants with ambiguous strand.\n",
      "Flipping strand and effect allele so A1 is always A\n",
      "Returning  1037533  variants.\n",
      "After merging and removing variants with inconsistent alleles,  there are  1023820  variants that are present in both studies and can be used with CAUSE.\n"
     ]
    },
    {
     "name": "stderr",
     "output_type": "stream",
     "text": [
      "Clumping h7Btn0, 6429 variants, using EUR population reference\n",
      "\n",
      "Removing 5399 of 6429 variants due to LD with other variants or absence from LD reference panel\n",
      "\n"
     ]
    },
    {
     "name": "stdout",
     "output_type": "stream",
     "text": [
      "Estimating CAUSE parameters with  1000000  variants.\n",
      "1 0.002737432 \n",
      "2 9.800114e-07 \n",
      "3 3.511486e-10 \n",
      "Estimating CAUSE posteriors using  1030  variants.\n"
     ]
    },
    {
     "name": "stderr",
     "output_type": "stream",
     "text": [
      "Warning message:\n",
      "“'compare' is deprecated.\n",
      "Use 'loo_compare' instead.\n",
      "See help(\"Deprecated\")”\n"
     ]
    },
    {
     "name": "stdout",
     "output_type": "stream",
     "text": [
      "    user   system  elapsed \n",
      "2111.363 1734.275  392.881 \n",
      "Smoking ~ Tanning \n"
     ]
    },
    {
     "name": "stderr",
     "output_type": "stream",
     "text": [
      "\u001b[1m\u001b[1mRows: \u001b[1m\u001b[22m\u001b[34m\u001b[34m1078870\u001b[34m\u001b[39m \u001b[1m\u001b[1mColumns: \u001b[1m\u001b[22m\u001b[34m\u001b[34m7\u001b[34m\u001b[39m\n",
      "\n",
      "\u001b[36m──\u001b[39m \u001b[1m\u001b[1mColumn specification\u001b[1m\u001b[22m \u001b[36m────────────────────────────────────────────────────────────────────────────────────────────────────────\u001b[39m\n",
      "\u001b[1mDelimiter:\u001b[22m \"\\t\"\n",
      "\u001b[31mchr\u001b[39m (3): SNP, A1, A2\n",
      "\u001b[32mdbl\u001b[39m (4): Z, N, chi2, P\n",
      "\n",
      "\n",
      "\u001b[36mℹ\u001b[39m Use \u001b[30m\u001b[47m\u001b[30m\u001b[47m`spec()`\u001b[47m\u001b[30m\u001b[49m\u001b[39m to retrieve the full column specification for this data.\n",
      "\u001b[36mℹ\u001b[39m Specify the column types or set \u001b[30m\u001b[47m\u001b[30m\u001b[47m`show_col_types = FALSE`\u001b[47m\u001b[30m\u001b[49m\u001b[39m to quiet this message.\n",
      "\n",
      "\u001b[1m\u001b[1mRows: \u001b[1m\u001b[22m\u001b[34m\u001b[34m1037026\u001b[34m\u001b[39m \u001b[1m\u001b[1mColumns: \u001b[1m\u001b[22m\u001b[34m\u001b[34m7\u001b[34m\u001b[39m\n",
      "\n",
      "\u001b[36m──\u001b[39m \u001b[1m\u001b[1mColumn specification\u001b[1m\u001b[22m \u001b[36m────────────────────────────────────────────────────────────────────────────────────────────────────────\u001b[39m\n",
      "\u001b[1mDelimiter:\u001b[22m \"\\t\"\n",
      "\u001b[31mchr\u001b[39m (3): SNP, A1, A2\n",
      "\u001b[32mdbl\u001b[39m (4): Z, N, chi2, P\n",
      "\n",
      "\n",
      "\u001b[36mℹ\u001b[39m Use \u001b[30m\u001b[47m\u001b[30m\u001b[47m`spec()`\u001b[47m\u001b[30m\u001b[49m\u001b[39m to retrieve the full column specification for this data.\n",
      "\u001b[36mℹ\u001b[39m Specify the column types or set \u001b[30m\u001b[47m\u001b[30m\u001b[47m`show_col_types = FALSE`\u001b[47m\u001b[30m\u001b[49m\u001b[39m to quiet this message.\n",
      "\n"
     ]
    },
    {
     "name": "stdout",
     "output_type": "stream",
     "text": [
      "Formatting X1\n",
      "There are  1078870  variants.\n",
      "Removing  0  duplicated variants leaving  1078870 variants.\n",
      "No variants have illegal alleles.\n",
      "Removed  0  variants with ambiguous strand.\n",
      "Flipping strand and effect allele so A1 is always A\n",
      "Returning  1078870  variants.\n",
      "Formatting X2\n",
      "There are  1037026  variants.\n",
      "Removing  0  duplicated variants leaving  1037026 variants.\n",
      "No variants have illegal alleles.\n",
      "Removed  0  variants with ambiguous strand.\n",
      "Flipping strand and effect allele so A1 is always A\n",
      "Returning  1037026  variants.\n",
      "After merging and removing variants with inconsistent alleles,  there are  1023342  variants that are present in both studies and can be used with CAUSE.\n"
     ]
    },
    {
     "name": "stderr",
     "output_type": "stream",
     "text": [
      "Clumping CX3ddk, 6428 variants, using EUR population reference\n",
      "\n",
      "Removing 5399 of 6428 variants due to LD with other variants or absence from LD reference panel\n",
      "\n"
     ]
    },
    {
     "name": "stdout",
     "output_type": "stream",
     "text": [
      "Estimating CAUSE parameters with  1000000  variants.\n",
      "1 0.08251316 \n",
      "2 0.0004789229 \n",
      "3 7.220569e-06 \n",
      "4 1.083883e-07 \n",
      "5 5.201049e-09 \n",
      "Estimating CAUSE posteriors using  1029  variants.\n"
     ]
    },
    {
     "name": "stderr",
     "output_type": "stream",
     "text": [
      "Warning message:\n",
      "“'compare' is deprecated.\n",
      "Use 'loo_compare' instead.\n",
      "See help(\"Deprecated\")”\n"
     ]
    },
    {
     "name": "stdout",
     "output_type": "stream",
     "text": [
      "    user   system  elapsed \n",
      "2873.282 2222.029  499.529 \n",
      "Urate ~ Hair_Light_Brown \n"
     ]
    },
    {
     "name": "stderr",
     "output_type": "stream",
     "text": [
      "\u001b[1m\u001b[1mRows: \u001b[1m\u001b[22m\u001b[34m\u001b[34m1060305\u001b[34m\u001b[39m \u001b[1m\u001b[1mColumns: \u001b[1m\u001b[22m\u001b[34m\u001b[34m7\u001b[34m\u001b[39m\n",
      "\n",
      "\u001b[36m──\u001b[39m \u001b[1m\u001b[1mColumn specification\u001b[1m\u001b[22m \u001b[36m────────────────────────────────────────────────────────────────────────────────────────────────────────\u001b[39m\n",
      "\u001b[1mDelimiter:\u001b[22m \"\\t\"\n",
      "\u001b[31mchr\u001b[39m (3): SNP, A1, A2\n",
      "\u001b[32mdbl\u001b[39m (4): Z, N, chi2, P\n",
      "\n",
      "\n",
      "\u001b[36mℹ\u001b[39m Use \u001b[30m\u001b[47m\u001b[30m\u001b[47m`spec()`\u001b[47m\u001b[30m\u001b[49m\u001b[39m to retrieve the full column specification for this data.\n",
      "\u001b[36mℹ\u001b[39m Specify the column types or set \u001b[30m\u001b[47m\u001b[30m\u001b[47m`show_col_types = FALSE`\u001b[47m\u001b[30m\u001b[49m\u001b[39m to quiet this message.\n",
      "\n",
      "\u001b[1m\u001b[1mRows: \u001b[1m\u001b[22m\u001b[34m\u001b[34m1037742\u001b[34m\u001b[39m \u001b[1m\u001b[1mColumns: \u001b[1m\u001b[22m\u001b[34m\u001b[34m7\u001b[34m\u001b[39m\n",
      "\n",
      "\u001b[36m──\u001b[39m \u001b[1m\u001b[1mColumn specification\u001b[1m\u001b[22m \u001b[36m────────────────────────────────────────────────────────────────────────────────────────────────────────\u001b[39m\n",
      "\u001b[1mDelimiter:\u001b[22m \"\\t\"\n",
      "\u001b[31mchr\u001b[39m (3): SNP, A1, A2\n",
      "\u001b[32mdbl\u001b[39m (4): Z, N, chi2, P\n",
      "\n",
      "\n",
      "\u001b[36mℹ\u001b[39m Use \u001b[30m\u001b[47m\u001b[30m\u001b[47m`spec()`\u001b[47m\u001b[30m\u001b[49m\u001b[39m to retrieve the full column specification for this data.\n",
      "\u001b[36mℹ\u001b[39m Specify the column types or set \u001b[30m\u001b[47m\u001b[30m\u001b[47m`show_col_types = FALSE`\u001b[47m\u001b[30m\u001b[49m\u001b[39m to quiet this message.\n",
      "\n"
     ]
    },
    {
     "name": "stdout",
     "output_type": "stream",
     "text": [
      "Formatting X1\n",
      "There are  1060305  variants.\n",
      "Removing  0  duplicated variants leaving  1060305 variants.\n",
      "No variants have illegal alleles.\n",
      "Removed  0  variants with ambiguous strand.\n",
      "Flipping strand and effect allele so A1 is always A\n",
      "Returning  1060305  variants.\n",
      "Formatting X2\n",
      "There are  1037742  variants.\n",
      "Removing  0  duplicated variants leaving  1037742 variants.\n",
      "No variants have illegal alleles.\n",
      "Removed  0  variants with ambiguous strand.\n",
      "Flipping strand and effect allele so A1 is always A\n",
      "Returning  1037742  variants.\n",
      "After merging and removing variants with inconsistent alleles,  there are  940450  variants that are present in both studies and can be used with CAUSE.\n"
     ]
    },
    {
     "name": "stderr",
     "output_type": "stream",
     "text": [
      "Clumping Jbu3xV, 3852 variants, using EUR population reference\n",
      "\n",
      "Removing 3246 of 3852 variants due to LD with other variants or absence from LD reference panel\n",
      "\n"
     ]
    },
    {
     "name": "stdout",
     "output_type": "stream",
     "text": [
      "Estimating CAUSE parameters with  940450  variants.\n",
      "1 0.01741127 \n",
      "2 1.913609e-05 \n",
      "3 3.551164e-08 \n",
      "Estimating CAUSE posteriors using  606  variants.\n"
     ]
    },
    {
     "name": "stderr",
     "output_type": "stream",
     "text": [
      "Warning message:\n",
      "“'compare' is deprecated.\n",
      "Use 'loo_compare' instead.\n",
      "See help(\"Deprecated\")”\n"
     ]
    },
    {
     "name": "stdout",
     "output_type": "stream",
     "text": [
      "    user   system  elapsed \n",
      "1847.195 1344.911  328.962 \n",
      "Urate ~ Hair_Dark_Brown \n"
     ]
    },
    {
     "name": "stderr",
     "output_type": "stream",
     "text": [
      "\u001b[1m\u001b[1mRows: \u001b[1m\u001b[22m\u001b[34m\u001b[34m1060305\u001b[34m\u001b[39m \u001b[1m\u001b[1mColumns: \u001b[1m\u001b[22m\u001b[34m\u001b[34m7\u001b[34m\u001b[39m\n",
      "\n",
      "\u001b[36m──\u001b[39m \u001b[1m\u001b[1mColumn specification\u001b[1m\u001b[22m \u001b[36m────────────────────────────────────────────────────────────────────────────────────────────────────────\u001b[39m\n",
      "\u001b[1mDelimiter:\u001b[22m \"\\t\"\n",
      "\u001b[31mchr\u001b[39m (3): SNP, A1, A2\n",
      "\u001b[32mdbl\u001b[39m (4): Z, N, chi2, P\n",
      "\n",
      "\n",
      "\u001b[36mℹ\u001b[39m Use \u001b[30m\u001b[47m\u001b[30m\u001b[47m`spec()`\u001b[47m\u001b[30m\u001b[49m\u001b[39m to retrieve the full column specification for this data.\n",
      "\u001b[36mℹ\u001b[39m Specify the column types or set \u001b[30m\u001b[47m\u001b[30m\u001b[47m`show_col_types = FALSE`\u001b[47m\u001b[30m\u001b[49m\u001b[39m to quiet this message.\n",
      "\n",
      "\u001b[1m\u001b[1mRows: \u001b[1m\u001b[22m\u001b[34m\u001b[34m1037381\u001b[34m\u001b[39m \u001b[1m\u001b[1mColumns: \u001b[1m\u001b[22m\u001b[34m\u001b[34m7\u001b[34m\u001b[39m\n",
      "\n",
      "\u001b[36m──\u001b[39m \u001b[1m\u001b[1mColumn specification\u001b[1m\u001b[22m \u001b[36m────────────────────────────────────────────────────────────────────────────────────────────────────────\u001b[39m\n",
      "\u001b[1mDelimiter:\u001b[22m \"\\t\"\n",
      "\u001b[31mchr\u001b[39m (3): SNP, A1, A2\n",
      "\u001b[32mdbl\u001b[39m (4): Z, N, chi2, P\n",
      "\n",
      "\n",
      "\u001b[36mℹ\u001b[39m Use \u001b[30m\u001b[47m\u001b[30m\u001b[47m`spec()`\u001b[47m\u001b[30m\u001b[49m\u001b[39m to retrieve the full column specification for this data.\n",
      "\u001b[36mℹ\u001b[39m Specify the column types or set \u001b[30m\u001b[47m\u001b[30m\u001b[47m`show_col_types = FALSE`\u001b[47m\u001b[30m\u001b[49m\u001b[39m to quiet this message.\n",
      "\n"
     ]
    },
    {
     "name": "stdout",
     "output_type": "stream",
     "text": [
      "Formatting X1\n",
      "There are  1060305  variants.\n",
      "Removing  0  duplicated variants leaving  1060305 variants.\n",
      "No variants have illegal alleles.\n",
      "Removed  0  variants with ambiguous strand.\n",
      "Flipping strand and effect allele so A1 is always A\n",
      "Returning  1060305  variants.\n",
      "Formatting X2\n",
      "There are  1037381  variants.\n",
      "Removing  0  duplicated variants leaving  1037381 variants.\n",
      "No variants have illegal alleles.\n",
      "Removed  0  variants with ambiguous strand.\n",
      "Flipping strand and effect allele so A1 is always A\n",
      "Returning  1037381  variants.\n",
      "After merging and removing variants with inconsistent alleles,  there are  940145  variants that are present in both studies and can be used with CAUSE.\n"
     ]
    },
    {
     "name": "stderr",
     "output_type": "stream",
     "text": [
      "Clumping GudlRN, 3850 variants, using EUR population reference\n",
      "\n",
      "Removing 3245 of 3850 variants due to LD with other variants or absence from LD reference panel\n",
      "\n"
     ]
    },
    {
     "name": "stdout",
     "output_type": "stream",
     "text": [
      "Estimating CAUSE parameters with  940145  variants.\n",
      "1 0.0374336 \n",
      "2 5.514619e-05 \n",
      "3 2.266816e-07 \n",
      "4 3.027658e-09 \n",
      "Estimating CAUSE posteriors using  605  variants.\n"
     ]
    },
    {
     "name": "stderr",
     "output_type": "stream",
     "text": [
      "Warning message:\n",
      "“'compare' is deprecated.\n",
      "Use 'loo_compare' instead.\n",
      "See help(\"Deprecated\")”\n"
     ]
    },
    {
     "name": "stdout",
     "output_type": "stream",
     "text": [
      "    user   system  elapsed \n",
      "2200.122 1918.612  387.313 \n",
      "Urate ~ Hair_Black \n"
     ]
    },
    {
     "name": "stderr",
     "output_type": "stream",
     "text": [
      "\u001b[1m\u001b[1mRows: \u001b[1m\u001b[22m\u001b[34m\u001b[34m1060305\u001b[34m\u001b[39m \u001b[1m\u001b[1mColumns: \u001b[1m\u001b[22m\u001b[34m\u001b[34m7\u001b[34m\u001b[39m\n",
      "\n",
      "\u001b[36m──\u001b[39m \u001b[1m\u001b[1mColumn specification\u001b[1m\u001b[22m \u001b[36m────────────────────────────────────────────────────────────────────────────────────────────────────────\u001b[39m\n",
      "\u001b[1mDelimiter:\u001b[22m \"\\t\"\n",
      "\u001b[31mchr\u001b[39m (3): SNP, A1, A2\n",
      "\u001b[32mdbl\u001b[39m (4): Z, N, chi2, P\n",
      "\n",
      "\n",
      "\u001b[36mℹ\u001b[39m Use \u001b[30m\u001b[47m\u001b[30m\u001b[47m`spec()`\u001b[47m\u001b[30m\u001b[49m\u001b[39m to retrieve the full column specification for this data.\n",
      "\u001b[36mℹ\u001b[39m Specify the column types or set \u001b[30m\u001b[47m\u001b[30m\u001b[47m`show_col_types = FALSE`\u001b[47m\u001b[30m\u001b[49m\u001b[39m to quiet this message.\n",
      "\n",
      "\u001b[1m\u001b[1mRows: \u001b[1m\u001b[22m\u001b[34m\u001b[34m1037702\u001b[34m\u001b[39m \u001b[1m\u001b[1mColumns: \u001b[1m\u001b[22m\u001b[34m\u001b[34m7\u001b[34m\u001b[39m\n",
      "\n",
      "\u001b[36m──\u001b[39m \u001b[1m\u001b[1mColumn specification\u001b[1m\u001b[22m \u001b[36m────────────────────────────────────────────────────────────────────────────────────────────────────────\u001b[39m\n",
      "\u001b[1mDelimiter:\u001b[22m \"\\t\"\n",
      "\u001b[31mchr\u001b[39m (3): SNP, A1, A2\n",
      "\u001b[32mdbl\u001b[39m (4): Z, N, chi2, P\n",
      "\n",
      "\n",
      "\u001b[36mℹ\u001b[39m Use \u001b[30m\u001b[47m\u001b[30m\u001b[47m`spec()`\u001b[47m\u001b[30m\u001b[49m\u001b[39m to retrieve the full column specification for this data.\n",
      "\u001b[36mℹ\u001b[39m Specify the column types or set \u001b[30m\u001b[47m\u001b[30m\u001b[47m`show_col_types = FALSE`\u001b[47m\u001b[30m\u001b[49m\u001b[39m to quiet this message.\n",
      "\n"
     ]
    },
    {
     "name": "stdout",
     "output_type": "stream",
     "text": [
      "Formatting X1\n",
      "There are  1060305  variants.\n",
      "Removing  0  duplicated variants leaving  1060305 variants.\n",
      "No variants have illegal alleles.\n",
      "Removed  0  variants with ambiguous strand.\n",
      "Flipping strand and effect allele so A1 is always A\n",
      "Returning  1060305  variants.\n",
      "Formatting X2\n",
      "There are  1037702  variants.\n",
      "Removing  0  duplicated variants leaving  1037702 variants.\n",
      "No variants have illegal alleles.\n",
      "Removed  0  variants with ambiguous strand.\n",
      "Flipping strand and effect allele so A1 is always A\n",
      "Returning  1037702  variants.\n",
      "After merging and removing variants with inconsistent alleles,  there are  940418  variants that are present in both studies and can be used with CAUSE.\n"
     ]
    },
    {
     "name": "stderr",
     "output_type": "stream",
     "text": [
      "Clumping XN7huH, 3852 variants, using EUR population reference\n",
      "\n",
      "Removing 3246 of 3852 variants due to LD with other variants or absence from LD reference panel\n",
      "\n"
     ]
    },
    {
     "name": "stdout",
     "output_type": "stream",
     "text": [
      "Estimating CAUSE parameters with  940418  variants.\n",
      "1 0.004890007 \n",
      "2 3.441898e-06 \n",
      "3 1.499878e-09 \n",
      "Estimating CAUSE posteriors using  606  variants.\n"
     ]
    },
    {
     "name": "stderr",
     "output_type": "stream",
     "text": [
      "Warning message:\n",
      "“'compare' is deprecated.\n",
      "Use 'loo_compare' instead.\n",
      "See help(\"Deprecated\")”\n"
     ]
    },
    {
     "name": "stdout",
     "output_type": "stream",
     "text": [
      "    user   system  elapsed \n",
      "1718.603 1492.314  321.064 \n",
      "Urate ~ Hair_Blonde \n"
     ]
    },
    {
     "name": "stderr",
     "output_type": "stream",
     "text": [
      "\u001b[1m\u001b[1mRows: \u001b[1m\u001b[22m\u001b[34m\u001b[34m1060305\u001b[34m\u001b[39m \u001b[1m\u001b[1mColumns: \u001b[1m\u001b[22m\u001b[34m\u001b[34m7\u001b[34m\u001b[39m\n",
      "\n",
      "\u001b[36m──\u001b[39m \u001b[1m\u001b[1mColumn specification\u001b[1m\u001b[22m \u001b[36m────────────────────────────────────────────────────────────────────────────────────────────────────────\u001b[39m\n",
      "\u001b[1mDelimiter:\u001b[22m \"\\t\"\n",
      "\u001b[31mchr\u001b[39m (3): SNP, A1, A2\n",
      "\u001b[32mdbl\u001b[39m (4): Z, N, chi2, P\n",
      "\n",
      "\n",
      "\u001b[36mℹ\u001b[39m Use \u001b[30m\u001b[47m\u001b[30m\u001b[47m`spec()`\u001b[47m\u001b[30m\u001b[49m\u001b[39m to retrieve the full column specification for this data.\n",
      "\u001b[36mℹ\u001b[39m Specify the column types or set \u001b[30m\u001b[47m\u001b[30m\u001b[47m`show_col_types = FALSE`\u001b[47m\u001b[30m\u001b[49m\u001b[39m to quiet this message.\n",
      "\n",
      "\u001b[1m\u001b[1mRows: \u001b[1m\u001b[22m\u001b[34m\u001b[34m1037533\u001b[34m\u001b[39m \u001b[1m\u001b[1mColumns: \u001b[1m\u001b[22m\u001b[34m\u001b[34m7\u001b[34m\u001b[39m\n",
      "\n",
      "\u001b[36m──\u001b[39m \u001b[1m\u001b[1mColumn specification\u001b[1m\u001b[22m \u001b[36m────────────────────────────────────────────────────────────────────────────────────────────────────────\u001b[39m\n",
      "\u001b[1mDelimiter:\u001b[22m \"\\t\"\n",
      "\u001b[31mchr\u001b[39m (3): SNP, A1, A2\n",
      "\u001b[32mdbl\u001b[39m (4): Z, N, chi2, P\n",
      "\n",
      "\n",
      "\u001b[36mℹ\u001b[39m Use \u001b[30m\u001b[47m\u001b[30m\u001b[47m`spec()`\u001b[47m\u001b[30m\u001b[49m\u001b[39m to retrieve the full column specification for this data.\n",
      "\u001b[36mℹ\u001b[39m Specify the column types or set \u001b[30m\u001b[47m\u001b[30m\u001b[47m`show_col_types = FALSE`\u001b[47m\u001b[30m\u001b[49m\u001b[39m to quiet this message.\n",
      "\n"
     ]
    },
    {
     "name": "stdout",
     "output_type": "stream",
     "text": [
      "Formatting X1\n",
      "There are  1060305  variants.\n",
      "Removing  0  duplicated variants leaving  1060305 variants.\n",
      "No variants have illegal alleles.\n",
      "Removed  0  variants with ambiguous strand.\n",
      "Flipping strand and effect allele so A1 is always A\n",
      "Returning  1060305  variants.\n",
      "Formatting X2\n",
      "There are  1037533  variants.\n",
      "Removing  0  duplicated variants leaving  1037533 variants.\n",
      "No variants have illegal alleles.\n",
      "Removed  0  variants with ambiguous strand.\n",
      "Flipping strand and effect allele so A1 is always A\n",
      "Returning  1037533  variants.\n",
      "After merging and removing variants with inconsistent alleles,  there are  940264  variants that are present in both studies and can be used with CAUSE.\n"
     ]
    },
    {
     "name": "stderr",
     "output_type": "stream",
     "text": [
      "Clumping 5Q2MfM, 3852 variants, using EUR population reference\n",
      "\n",
      "Removing 3246 of 3852 variants due to LD with other variants or absence from LD reference panel\n",
      "\n"
     ]
    },
    {
     "name": "stdout",
     "output_type": "stream",
     "text": [
      "Estimating CAUSE parameters with  940264  variants.\n",
      "1 0.01133829 \n",
      "2 8.906503e-07 \n",
      "3 4.865869e-10 \n",
      "Estimating CAUSE posteriors using  606  variants.\n"
     ]
    },
    {
     "name": "stderr",
     "output_type": "stream",
     "text": [
      "Warning message:\n",
      "“'compare' is deprecated.\n",
      "Use 'loo_compare' instead.\n",
      "See help(\"Deprecated\")”\n"
     ]
    },
    {
     "name": "stdout",
     "output_type": "stream",
     "text": [
      "    user   system  elapsed \n",
      "1763.105 1578.312  342.195 \n",
      "Urate ~ Tanning \n"
     ]
    },
    {
     "name": "stderr",
     "output_type": "stream",
     "text": [
      "\u001b[1m\u001b[1mRows: \u001b[1m\u001b[22m\u001b[34m\u001b[34m1060305\u001b[34m\u001b[39m \u001b[1m\u001b[1mColumns: \u001b[1m\u001b[22m\u001b[34m\u001b[34m7\u001b[34m\u001b[39m\n",
      "\n",
      "\u001b[36m──\u001b[39m \u001b[1m\u001b[1mColumn specification\u001b[1m\u001b[22m \u001b[36m────────────────────────────────────────────────────────────────────────────────────────────────────────\u001b[39m\n",
      "\u001b[1mDelimiter:\u001b[22m \"\\t\"\n",
      "\u001b[31mchr\u001b[39m (3): SNP, A1, A2\n",
      "\u001b[32mdbl\u001b[39m (4): Z, N, chi2, P\n",
      "\n",
      "\n",
      "\u001b[36mℹ\u001b[39m Use \u001b[30m\u001b[47m\u001b[30m\u001b[47m`spec()`\u001b[47m\u001b[30m\u001b[49m\u001b[39m to retrieve the full column specification for this data.\n",
      "\u001b[36mℹ\u001b[39m Specify the column types or set \u001b[30m\u001b[47m\u001b[30m\u001b[47m`show_col_types = FALSE`\u001b[47m\u001b[30m\u001b[49m\u001b[39m to quiet this message.\n",
      "\n",
      "\u001b[1m\u001b[1mRows: \u001b[1m\u001b[22m\u001b[34m\u001b[34m1037026\u001b[34m\u001b[39m \u001b[1m\u001b[1mColumns: \u001b[1m\u001b[22m\u001b[34m\u001b[34m7\u001b[34m\u001b[39m\n",
      "\n",
      "\u001b[36m──\u001b[39m \u001b[1m\u001b[1mColumn specification\u001b[1m\u001b[22m \u001b[36m────────────────────────────────────────────────────────────────────────────────────────────────────────\u001b[39m\n",
      "\u001b[1mDelimiter:\u001b[22m \"\\t\"\n",
      "\u001b[31mchr\u001b[39m (3): SNP, A1, A2\n",
      "\u001b[32mdbl\u001b[39m (4): Z, N, chi2, P\n",
      "\n",
      "\n",
      "\u001b[36mℹ\u001b[39m Use \u001b[30m\u001b[47m\u001b[30m\u001b[47m`spec()`\u001b[47m\u001b[30m\u001b[49m\u001b[39m to retrieve the full column specification for this data.\n",
      "\u001b[36mℹ\u001b[39m Specify the column types or set \u001b[30m\u001b[47m\u001b[30m\u001b[47m`show_col_types = FALSE`\u001b[47m\u001b[30m\u001b[49m\u001b[39m to quiet this message.\n",
      "\n"
     ]
    },
    {
     "name": "stdout",
     "output_type": "stream",
     "text": [
      "Formatting X1\n",
      "There are  1060305  variants.\n",
      "Removing  0  duplicated variants leaving  1060305 variants.\n",
      "No variants have illegal alleles.\n",
      "Removed  0  variants with ambiguous strand.\n",
      "Flipping strand and effect allele so A1 is always A\n",
      "Returning  1060305  variants.\n",
      "Formatting X2\n",
      "There are  1037026  variants.\n",
      "Removing  0  duplicated variants leaving  1037026 variants.\n",
      "No variants have illegal alleles.\n",
      "Removed  0  variants with ambiguous strand.\n",
      "Flipping strand and effect allele so A1 is always A\n",
      "Returning  1037026  variants.\n",
      "After merging and removing variants with inconsistent alleles,  there are  939865  variants that are present in both studies and can be used with CAUSE.\n"
     ]
    },
    {
     "name": "stderr",
     "output_type": "stream",
     "text": [
      "Clumping wvZA6o, 3842 variants, using EUR population reference\n",
      "\n",
      "Removing 3238 of 3842 variants due to LD with other variants or absence from LD reference panel\n",
      "\n"
     ]
    },
    {
     "name": "stdout",
     "output_type": "stream",
     "text": [
      "Estimating CAUSE parameters with  939865  variants.\n",
      "1 0.05213059 \n",
      "2 7.93589e-05 \n",
      "3 4.432047e-07 \n",
      "4 4.345041e-09 \n",
      "Estimating CAUSE posteriors using  604  variants.\n"
     ]
    },
    {
     "name": "stderr",
     "output_type": "stream",
     "text": [
      "Warning message:\n",
      "“'compare' is deprecated.\n",
      "Use 'loo_compare' instead.\n",
      "See help(\"Deprecated\")”\n"
     ]
    },
    {
     "name": "stdout",
     "output_type": "stream",
     "text": [
      "    user   system  elapsed \n",
      "1977.278 1715.252  352.911 \n",
      "Anorexia ~ Hair_Light_Brown \n"
     ]
    },
    {
     "name": "stderr",
     "output_type": "stream",
     "text": [
      "\u001b[1m\u001b[1mRows: \u001b[1m\u001b[22m\u001b[34m\u001b[34m910374\u001b[34m\u001b[39m \u001b[1m\u001b[1mColumns: \u001b[1m\u001b[22m\u001b[34m\u001b[34m7\u001b[34m\u001b[39m\n",
      "\n",
      "\u001b[36m──\u001b[39m \u001b[1m\u001b[1mColumn specification\u001b[1m\u001b[22m \u001b[36m────────────────────────────────────────────────────────────────────────────────────────────────────────\u001b[39m\n",
      "\u001b[1mDelimiter:\u001b[22m \"\\t\"\n",
      "\u001b[31mchr\u001b[39m (3): SNP, A1, A2\n",
      "\u001b[32mdbl\u001b[39m (4): Z, N, chi2, P\n",
      "\n",
      "\n",
      "\u001b[36mℹ\u001b[39m Use \u001b[30m\u001b[47m\u001b[30m\u001b[47m`spec()`\u001b[47m\u001b[30m\u001b[49m\u001b[39m to retrieve the full column specification for this data.\n",
      "\u001b[36mℹ\u001b[39m Specify the column types or set \u001b[30m\u001b[47m\u001b[30m\u001b[47m`show_col_types = FALSE`\u001b[47m\u001b[30m\u001b[49m\u001b[39m to quiet this message.\n",
      "\n",
      "\u001b[1m\u001b[1mRows: \u001b[1m\u001b[22m\u001b[34m\u001b[34m1037742\u001b[34m\u001b[39m \u001b[1m\u001b[1mColumns: \u001b[1m\u001b[22m\u001b[34m\u001b[34m7\u001b[34m\u001b[39m\n",
      "\n",
      "\u001b[36m──\u001b[39m \u001b[1m\u001b[1mColumn specification\u001b[1m\u001b[22m \u001b[36m────────────────────────────────────────────────────────────────────────────────────────────────────────\u001b[39m\n",
      "\u001b[1mDelimiter:\u001b[22m \"\\t\"\n",
      "\u001b[31mchr\u001b[39m (3): SNP, A1, A2\n",
      "\u001b[32mdbl\u001b[39m (4): Z, N, chi2, P\n",
      "\n",
      "\n",
      "\u001b[36mℹ\u001b[39m Use \u001b[30m\u001b[47m\u001b[30m\u001b[47m`spec()`\u001b[47m\u001b[30m\u001b[49m\u001b[39m to retrieve the full column specification for this data.\n",
      "\u001b[36mℹ\u001b[39m Specify the column types or set \u001b[30m\u001b[47m\u001b[30m\u001b[47m`show_col_types = FALSE`\u001b[47m\u001b[30m\u001b[49m\u001b[39m to quiet this message.\n",
      "\n"
     ]
    },
    {
     "name": "stdout",
     "output_type": "stream",
     "text": [
      "Formatting X1\n",
      "There are  910374  variants.\n",
      "Removing  0  duplicated variants leaving  910374 variants.\n",
      "No variants have illegal alleles.\n",
      "Removed  0  variants with ambiguous strand.\n",
      "Flipping strand and effect allele so A1 is always A\n",
      "Returning  910374  variants.\n",
      "Formatting X2\n",
      "There are  1037742  variants.\n",
      "Removing  0  duplicated variants leaving  1037742 variants.\n",
      "No variants have illegal alleles.\n",
      "Removed  0  variants with ambiguous strand.\n",
      "Flipping strand and effect allele so A1 is always A\n",
      "Returning  1037742  variants.\n",
      "After merging and removing variants with inconsistent alleles,  there are  845891  variants that are present in both studies and can be used with CAUSE.\n"
     ]
    },
    {
     "name": "stderr",
     "output_type": "stream",
     "text": [
      "Clumping nYquEV, 5040 variants, using EUR population reference\n",
      "\n",
      "Removing 4241 of 5040 variants due to LD with other variants or absence from LD reference panel\n",
      "\n"
     ]
    },
    {
     "name": "stdout",
     "output_type": "stream",
     "text": [
      "Estimating CAUSE parameters with  845891  variants.\n",
      "1 0.03500595 \n",
      "2 8.528468e-05 \n",
      "3 3.620405e-07 \n",
      "4 8.22809e-10 \n",
      "Estimating CAUSE posteriors using  799  variants.\n"
     ]
    },
    {
     "name": "stderr",
     "output_type": "stream",
     "text": [
      "Warning message:\n",
      "“'compare' is deprecated.\n",
      "Use 'loo_compare' instead.\n",
      "See help(\"Deprecated\")”\n"
     ]
    },
    {
     "name": "stdout",
     "output_type": "stream",
     "text": [
      "    user   system  elapsed \n",
      "2512.595 2043.447  416.981 \n",
      "Anorexia ~ Hair_Dark_Brown \n"
     ]
    },
    {
     "name": "stderr",
     "output_type": "stream",
     "text": [
      "\u001b[1m\u001b[1mRows: \u001b[1m\u001b[22m\u001b[34m\u001b[34m910374\u001b[34m\u001b[39m \u001b[1m\u001b[1mColumns: \u001b[1m\u001b[22m\u001b[34m\u001b[34m7\u001b[34m\u001b[39m\n",
      "\n",
      "\u001b[36m──\u001b[39m \u001b[1m\u001b[1mColumn specification\u001b[1m\u001b[22m \u001b[36m────────────────────────────────────────────────────────────────────────────────────────────────────────\u001b[39m\n",
      "\u001b[1mDelimiter:\u001b[22m \"\\t\"\n",
      "\u001b[31mchr\u001b[39m (3): SNP, A1, A2\n",
      "\u001b[32mdbl\u001b[39m (4): Z, N, chi2, P\n",
      "\n",
      "\n",
      "\u001b[36mℹ\u001b[39m Use \u001b[30m\u001b[47m\u001b[30m\u001b[47m`spec()`\u001b[47m\u001b[30m\u001b[49m\u001b[39m to retrieve the full column specification for this data.\n",
      "\u001b[36mℹ\u001b[39m Specify the column types or set \u001b[30m\u001b[47m\u001b[30m\u001b[47m`show_col_types = FALSE`\u001b[47m\u001b[30m\u001b[49m\u001b[39m to quiet this message.\n",
      "\n",
      "\u001b[1m\u001b[1mRows: \u001b[1m\u001b[22m\u001b[34m\u001b[34m1037381\u001b[34m\u001b[39m \u001b[1m\u001b[1mColumns: \u001b[1m\u001b[22m\u001b[34m\u001b[34m7\u001b[34m\u001b[39m\n",
      "\n",
      "\u001b[36m──\u001b[39m \u001b[1m\u001b[1mColumn specification\u001b[1m\u001b[22m \u001b[36m────────────────────────────────────────────────────────────────────────────────────────────────────────\u001b[39m\n",
      "\u001b[1mDelimiter:\u001b[22m \"\\t\"\n",
      "\u001b[31mchr\u001b[39m (3): SNP, A1, A2\n",
      "\u001b[32mdbl\u001b[39m (4): Z, N, chi2, P\n",
      "\n",
      "\n",
      "\u001b[36mℹ\u001b[39m Use \u001b[30m\u001b[47m\u001b[30m\u001b[47m`spec()`\u001b[47m\u001b[30m\u001b[49m\u001b[39m to retrieve the full column specification for this data.\n",
      "\u001b[36mℹ\u001b[39m Specify the column types or set \u001b[30m\u001b[47m\u001b[30m\u001b[47m`show_col_types = FALSE`\u001b[47m\u001b[30m\u001b[49m\u001b[39m to quiet this message.\n",
      "\n"
     ]
    },
    {
     "name": "stdout",
     "output_type": "stream",
     "text": [
      "Formatting X1\n",
      "There are  910374  variants.\n",
      "Removing  0  duplicated variants leaving  910374 variants.\n",
      "No variants have illegal alleles.\n",
      "Removed  0  variants with ambiguous strand.\n",
      "Flipping strand and effect allele so A1 is always A\n",
      "Returning  910374  variants.\n",
      "Formatting X2\n",
      "There are  1037381  variants.\n",
      "Removing  0  duplicated variants leaving  1037381 variants.\n",
      "No variants have illegal alleles.\n",
      "Removed  0  variants with ambiguous strand.\n",
      "Flipping strand and effect allele so A1 is always A\n",
      "Returning  1037381  variants.\n",
      "After merging and removing variants with inconsistent alleles,  there are  845592  variants that are present in both studies and can be used with CAUSE.\n"
     ]
    },
    {
     "name": "stderr",
     "output_type": "stream",
     "text": [
      "Clumping tV9I51, 5040 variants, using EUR population reference\n",
      "\n",
      "Removing 4241 of 5040 variants due to LD with other variants or absence from LD reference panel\n",
      "\n"
     ]
    },
    {
     "name": "stdout",
     "output_type": "stream",
     "text": [
      "Estimating CAUSE parameters with  845592  variants.\n",
      "1 0.05174889 \n",
      "2 0.0002623746 \n",
      "3 2.264211e-06 \n",
      "4 1.992792e-08 \n",
      "Estimating CAUSE posteriors using  799  variants.\n"
     ]
    },
    {
     "name": "stderr",
     "output_type": "stream",
     "text": [
      "Warning message:\n",
      "“'compare' is deprecated.\n",
      "Use 'loo_compare' instead.\n",
      "See help(\"Deprecated\")”\n"
     ]
    },
    {
     "name": "stdout",
     "output_type": "stream",
     "text": [
      "    user   system  elapsed \n",
      "2315.353 2028.248  400.524 \n",
      "Anorexia ~ Hair_Black \n"
     ]
    },
    {
     "name": "stderr",
     "output_type": "stream",
     "text": [
      "\u001b[1m\u001b[1mRows: \u001b[1m\u001b[22m\u001b[34m\u001b[34m910374\u001b[34m\u001b[39m \u001b[1m\u001b[1mColumns: \u001b[1m\u001b[22m\u001b[34m\u001b[34m7\u001b[34m\u001b[39m\n",
      "\n",
      "\u001b[36m──\u001b[39m \u001b[1m\u001b[1mColumn specification\u001b[1m\u001b[22m \u001b[36m────────────────────────────────────────────────────────────────────────────────────────────────────────\u001b[39m\n",
      "\u001b[1mDelimiter:\u001b[22m \"\\t\"\n",
      "\u001b[31mchr\u001b[39m (3): SNP, A1, A2\n",
      "\u001b[32mdbl\u001b[39m (4): Z, N, chi2, P\n",
      "\n",
      "\n",
      "\u001b[36mℹ\u001b[39m Use \u001b[30m\u001b[47m\u001b[30m\u001b[47m`spec()`\u001b[47m\u001b[30m\u001b[49m\u001b[39m to retrieve the full column specification for this data.\n",
      "\u001b[36mℹ\u001b[39m Specify the column types or set \u001b[30m\u001b[47m\u001b[30m\u001b[47m`show_col_types = FALSE`\u001b[47m\u001b[30m\u001b[49m\u001b[39m to quiet this message.\n",
      "\n",
      "\u001b[1m\u001b[1mRows: \u001b[1m\u001b[22m\u001b[34m\u001b[34m1037702\u001b[34m\u001b[39m \u001b[1m\u001b[1mColumns: \u001b[1m\u001b[22m\u001b[34m\u001b[34m7\u001b[34m\u001b[39m\n",
      "\n",
      "\u001b[36m──\u001b[39m \u001b[1m\u001b[1mColumn specification\u001b[1m\u001b[22m \u001b[36m────────────────────────────────────────────────────────────────────────────────────────────────────────\u001b[39m\n",
      "\u001b[1mDelimiter:\u001b[22m \"\\t\"\n",
      "\u001b[31mchr\u001b[39m (3): SNP, A1, A2\n",
      "\u001b[32mdbl\u001b[39m (4): Z, N, chi2, P\n",
      "\n",
      "\n",
      "\u001b[36mℹ\u001b[39m Use \u001b[30m\u001b[47m\u001b[30m\u001b[47m`spec()`\u001b[47m\u001b[30m\u001b[49m\u001b[39m to retrieve the full column specification for this data.\n",
      "\u001b[36mℹ\u001b[39m Specify the column types or set \u001b[30m\u001b[47m\u001b[30m\u001b[47m`show_col_types = FALSE`\u001b[47m\u001b[30m\u001b[49m\u001b[39m to quiet this message.\n",
      "\n"
     ]
    },
    {
     "name": "stdout",
     "output_type": "stream",
     "text": [
      "Formatting X1\n",
      "There are  910374  variants.\n",
      "Removing  0  duplicated variants leaving  910374 variants.\n",
      "No variants have illegal alleles.\n",
      "Removed  0  variants with ambiguous strand.\n",
      "Flipping strand and effect allele so A1 is always A\n",
      "Returning  910374  variants.\n",
      "Formatting X2\n",
      "There are  1037702  variants.\n",
      "Removing  0  duplicated variants leaving  1037702 variants.\n",
      "No variants have illegal alleles.\n",
      "Removed  0  variants with ambiguous strand.\n",
      "Flipping strand and effect allele so A1 is always A\n",
      "Returning  1037702  variants.\n",
      "After merging and removing variants with inconsistent alleles,  there are  845857  variants that are present in both studies and can be used with CAUSE.\n"
     ]
    },
    {
     "name": "stderr",
     "output_type": "stream",
     "text": [
      "Clumping pW4j03, 5040 variants, using EUR population reference\n",
      "\n",
      "Removing 4241 of 5040 variants due to LD with other variants or absence from LD reference panel\n",
      "\n"
     ]
    },
    {
     "name": "stdout",
     "output_type": "stream",
     "text": [
      "Estimating CAUSE parameters with  845857  variants.\n",
      "1 0.02624883 \n",
      "2 4.745663e-06 \n",
      "3 3.767823e-09 \n",
      "Estimating CAUSE posteriors using  799  variants.\n"
     ]
    },
    {
     "name": "stderr",
     "output_type": "stream",
     "text": [
      "Warning message:\n",
      "“'compare' is deprecated.\n",
      "Use 'loo_compare' instead.\n",
      "See help(\"Deprecated\")”\n"
     ]
    },
    {
     "name": "stdout",
     "output_type": "stream",
     "text": [
      "    user   system  elapsed \n",
      "1678.418 1517.480  293.976 \n",
      "Anorexia ~ Hair_Blonde \n"
     ]
    },
    {
     "name": "stderr",
     "output_type": "stream",
     "text": [
      "\u001b[1m\u001b[1mRows: \u001b[1m\u001b[22m\u001b[34m\u001b[34m910374\u001b[34m\u001b[39m \u001b[1m\u001b[1mColumns: \u001b[1m\u001b[22m\u001b[34m\u001b[34m7\u001b[34m\u001b[39m\n",
      "\n",
      "\u001b[36m──\u001b[39m \u001b[1m\u001b[1mColumn specification\u001b[1m\u001b[22m \u001b[36m────────────────────────────────────────────────────────────────────────────────────────────────────────\u001b[39m\n",
      "\u001b[1mDelimiter:\u001b[22m \"\\t\"\n",
      "\u001b[31mchr\u001b[39m (3): SNP, A1, A2\n",
      "\u001b[32mdbl\u001b[39m (4): Z, N, chi2, P\n",
      "\n",
      "\n",
      "\u001b[36mℹ\u001b[39m Use \u001b[30m\u001b[47m\u001b[30m\u001b[47m`spec()`\u001b[47m\u001b[30m\u001b[49m\u001b[39m to retrieve the full column specification for this data.\n",
      "\u001b[36mℹ\u001b[39m Specify the column types or set \u001b[30m\u001b[47m\u001b[30m\u001b[47m`show_col_types = FALSE`\u001b[47m\u001b[30m\u001b[49m\u001b[39m to quiet this message.\n",
      "\n",
      "\u001b[1m\u001b[1mRows: \u001b[1m\u001b[22m\u001b[34m\u001b[34m1037533\u001b[34m\u001b[39m \u001b[1m\u001b[1mColumns: \u001b[1m\u001b[22m\u001b[34m\u001b[34m7\u001b[34m\u001b[39m\n",
      "\n",
      "\u001b[36m──\u001b[39m \u001b[1m\u001b[1mColumn specification\u001b[1m\u001b[22m \u001b[36m────────────────────────────────────────────────────────────────────────────────────────────────────────\u001b[39m\n",
      "\u001b[1mDelimiter:\u001b[22m \"\\t\"\n",
      "\u001b[31mchr\u001b[39m (3): SNP, A1, A2\n",
      "\u001b[32mdbl\u001b[39m (4): Z, N, chi2, P\n",
      "\n",
      "\n",
      "\u001b[36mℹ\u001b[39m Use \u001b[30m\u001b[47m\u001b[30m\u001b[47m`spec()`\u001b[47m\u001b[30m\u001b[49m\u001b[39m to retrieve the full column specification for this data.\n",
      "\u001b[36mℹ\u001b[39m Specify the column types or set \u001b[30m\u001b[47m\u001b[30m\u001b[47m`show_col_types = FALSE`\u001b[47m\u001b[30m\u001b[49m\u001b[39m to quiet this message.\n",
      "\n"
     ]
    },
    {
     "name": "stdout",
     "output_type": "stream",
     "text": [
      "Formatting X1\n",
      "There are  910374  variants.\n",
      "Removing  0  duplicated variants leaving  910374 variants.\n",
      "No variants have illegal alleles.\n",
      "Removed  0  variants with ambiguous strand.\n",
      "Flipping strand and effect allele so A1 is always A\n",
      "Returning  910374  variants.\n",
      "Formatting X2\n",
      "There are  1037533  variants.\n",
      "Removing  0  duplicated variants leaving  1037533 variants.\n",
      "No variants have illegal alleles.\n",
      "Removed  0  variants with ambiguous strand.\n",
      "Flipping strand and effect allele so A1 is always A\n",
      "Returning  1037533  variants.\n",
      "After merging and removing variants with inconsistent alleles,  there are  845703  variants that are present in both studies and can be used with CAUSE.\n"
     ]
    },
    {
     "name": "stderr",
     "output_type": "stream",
     "text": [
      "Clumping AmR4pd, 5040 variants, using EUR population reference\n",
      "\n",
      "Removing 4241 of 5040 variants due to LD with other variants or absence from LD reference panel\n",
      "\n"
     ]
    },
    {
     "name": "stdout",
     "output_type": "stream",
     "text": [
      "Estimating CAUSE parameters with  845703  variants.\n",
      "1 0.03237911 \n",
      "2 5.096321e-05 \n",
      "3 1.688046e-07 \n",
      "4 2.601049e-09 \n",
      "Estimating CAUSE posteriors using  799  variants.\n"
     ]
    },
    {
     "name": "stderr",
     "output_type": "stream",
     "text": [
      "Warning message:\n",
      "“'compare' is deprecated.\n",
      "Use 'loo_compare' instead.\n",
      "See help(\"Deprecated\")”\n"
     ]
    },
    {
     "name": "stdout",
     "output_type": "stream",
     "text": [
      "    user   system  elapsed \n",
      "2120.736 2062.204  359.958 \n",
      "Anorexia ~ Tanning \n"
     ]
    },
    {
     "name": "stderr",
     "output_type": "stream",
     "text": [
      "\u001b[1m\u001b[1mRows: \u001b[1m\u001b[22m\u001b[34m\u001b[34m910374\u001b[34m\u001b[39m \u001b[1m\u001b[1mColumns: \u001b[1m\u001b[22m\u001b[34m\u001b[34m7\u001b[34m\u001b[39m\n",
      "\n",
      "\u001b[36m──\u001b[39m \u001b[1m\u001b[1mColumn specification\u001b[1m\u001b[22m \u001b[36m────────────────────────────────────────────────────────────────────────────────────────────────────────\u001b[39m\n",
      "\u001b[1mDelimiter:\u001b[22m \"\\t\"\n",
      "\u001b[31mchr\u001b[39m (3): SNP, A1, A2\n",
      "\u001b[32mdbl\u001b[39m (4): Z, N, chi2, P\n",
      "\n",
      "\n",
      "\u001b[36mℹ\u001b[39m Use \u001b[30m\u001b[47m\u001b[30m\u001b[47m`spec()`\u001b[47m\u001b[30m\u001b[49m\u001b[39m to retrieve the full column specification for this data.\n",
      "\u001b[36mℹ\u001b[39m Specify the column types or set \u001b[30m\u001b[47m\u001b[30m\u001b[47m`show_col_types = FALSE`\u001b[47m\u001b[30m\u001b[49m\u001b[39m to quiet this message.\n",
      "\n",
      "\u001b[1m\u001b[1mRows: \u001b[1m\u001b[22m\u001b[34m\u001b[34m1037026\u001b[34m\u001b[39m \u001b[1m\u001b[1mColumns: \u001b[1m\u001b[22m\u001b[34m\u001b[34m7\u001b[34m\u001b[39m\n",
      "\n",
      "\u001b[36m──\u001b[39m \u001b[1m\u001b[1mColumn specification\u001b[1m\u001b[22m \u001b[36m────────────────────────────────────────────────────────────────────────────────────────────────────────\u001b[39m\n",
      "\u001b[1mDelimiter:\u001b[22m \"\\t\"\n",
      "\u001b[31mchr\u001b[39m (3): SNP, A1, A2\n",
      "\u001b[32mdbl\u001b[39m (4): Z, N, chi2, P\n",
      "\n",
      "\n",
      "\u001b[36mℹ\u001b[39m Use \u001b[30m\u001b[47m\u001b[30m\u001b[47m`spec()`\u001b[47m\u001b[30m\u001b[49m\u001b[39m to retrieve the full column specification for this data.\n",
      "\u001b[36mℹ\u001b[39m Specify the column types or set \u001b[30m\u001b[47m\u001b[30m\u001b[47m`show_col_types = FALSE`\u001b[47m\u001b[30m\u001b[49m\u001b[39m to quiet this message.\n",
      "\n"
     ]
    },
    {
     "name": "stdout",
     "output_type": "stream",
     "text": [
      "Formatting X1\n",
      "There are  910374  variants.\n",
      "Removing  0  duplicated variants leaving  910374 variants.\n",
      "No variants have illegal alleles.\n",
      "Removed  0  variants with ambiguous strand.\n",
      "Flipping strand and effect allele so A1 is always A\n",
      "Returning  910374  variants.\n",
      "Formatting X2\n",
      "There are  1037026  variants.\n",
      "Removing  0  duplicated variants leaving  1037026 variants.\n",
      "No variants have illegal alleles.\n",
      "Removed  0  variants with ambiguous strand.\n",
      "Flipping strand and effect allele so A1 is always A\n",
      "Returning  1037026  variants.\n",
      "After merging and removing variants with inconsistent alleles,  there are  845252  variants that are present in both studies and can be used with CAUSE.\n"
     ]
    },
    {
     "name": "stderr",
     "output_type": "stream",
     "text": [
      "Clumping sziWL1, 5036 variants, using EUR population reference\n",
      "\n",
      "Removing 4237 of 5036 variants due to LD with other variants or absence from LD reference panel\n",
      "\n"
     ]
    },
    {
     "name": "stdout",
     "output_type": "stream",
     "text": [
      "Estimating CAUSE parameters with  845252  variants.\n",
      "1 0.04619887 \n",
      "2 4.575911e-05 \n",
      "3 1.647227e-07 \n",
      "4 9.126693e-10 \n",
      "Estimating CAUSE posteriors using  799  variants.\n"
     ]
    },
    {
     "name": "stderr",
     "output_type": "stream",
     "text": [
      "Warning message:\n",
      "“'compare' is deprecated.\n",
      "Use 'loo_compare' instead.\n",
      "See help(\"Deprecated\")”\n"
     ]
    },
    {
     "name": "stdout",
     "output_type": "stream",
     "text": [
      "    user   system  elapsed \n",
      "2049.109 1901.648  357.096 \n",
      "CD ~ Hair_Light_Brown \n"
     ]
    },
    {
     "name": "stderr",
     "output_type": "stream",
     "text": [
      "\u001b[1m\u001b[1mRows: \u001b[1m\u001b[22m\u001b[34m\u001b[34m1149704\u001b[34m\u001b[39m \u001b[1m\u001b[1mColumns: \u001b[1m\u001b[22m\u001b[34m\u001b[34m7\u001b[34m\u001b[39m\n",
      "\n",
      "\u001b[36m──\u001b[39m \u001b[1m\u001b[1mColumn specification\u001b[1m\u001b[22m \u001b[36m────────────────────────────────────────────────────────────────────────────────────────────────────────\u001b[39m\n",
      "\u001b[1mDelimiter:\u001b[22m \"\\t\"\n",
      "\u001b[31mchr\u001b[39m (3): SNP, A1, A2\n",
      "\u001b[32mdbl\u001b[39m (4): Z, N, chi2, P\n",
      "\n",
      "\n",
      "\u001b[36mℹ\u001b[39m Use \u001b[30m\u001b[47m\u001b[30m\u001b[47m`spec()`\u001b[47m\u001b[30m\u001b[49m\u001b[39m to retrieve the full column specification for this data.\n",
      "\u001b[36mℹ\u001b[39m Specify the column types or set \u001b[30m\u001b[47m\u001b[30m\u001b[47m`show_col_types = FALSE`\u001b[47m\u001b[30m\u001b[49m\u001b[39m to quiet this message.\n",
      "\n",
      "\u001b[1m\u001b[1mRows: \u001b[1m\u001b[22m\u001b[34m\u001b[34m1037742\u001b[34m\u001b[39m \u001b[1m\u001b[1mColumns: \u001b[1m\u001b[22m\u001b[34m\u001b[34m7\u001b[34m\u001b[39m\n",
      "\n",
      "\u001b[36m──\u001b[39m \u001b[1m\u001b[1mColumn specification\u001b[1m\u001b[22m \u001b[36m────────────────────────────────────────────────────────────────────────────────────────────────────────\u001b[39m\n",
      "\u001b[1mDelimiter:\u001b[22m \"\\t\"\n",
      "\u001b[31mchr\u001b[39m (3): SNP, A1, A2\n",
      "\u001b[32mdbl\u001b[39m (4): Z, N, chi2, P\n",
      "\n",
      "\n",
      "\u001b[36mℹ\u001b[39m Use \u001b[30m\u001b[47m\u001b[30m\u001b[47m`spec()`\u001b[47m\u001b[30m\u001b[49m\u001b[39m to retrieve the full column specification for this data.\n",
      "\u001b[36mℹ\u001b[39m Specify the column types or set \u001b[30m\u001b[47m\u001b[30m\u001b[47m`show_col_types = FALSE`\u001b[47m\u001b[30m\u001b[49m\u001b[39m to quiet this message.\n",
      "\n"
     ]
    },
    {
     "name": "stdout",
     "output_type": "stream",
     "text": [
      "Formatting X1\n",
      "There are  1149704  variants.\n",
      "Removing  0  duplicated variants leaving  1149704 variants.\n",
      "No variants have illegal alleles.\n",
      "Removed  0  variants with ambiguous strand.\n",
      "Flipping strand and effect allele so A1 is always A\n",
      "Returning  1149704  variants.\n",
      "Formatting X2\n",
      "There are  1037742  variants.\n",
      "Removing  0  duplicated variants leaving  1037742 variants.\n",
      "No variants have illegal alleles.\n",
      "Removed  0  variants with ambiguous strand.\n",
      "Flipping strand and effect allele so A1 is always A\n",
      "Returning  1037742  variants.\n",
      "After merging and removing variants with inconsistent alleles,  there are  997660  variants that are present in both studies and can be used with CAUSE.\n"
     ]
    },
    {
     "name": "stderr",
     "output_type": "stream",
     "text": [
      "Clumping vZ6l0s, 10381 variants, using EUR population reference\n",
      "\n",
      "Removing 8850 of 10381 variants due to LD with other variants or absence from LD reference panel\n",
      "\n"
     ]
    },
    {
     "name": "stdout",
     "output_type": "stream",
     "text": [
      "Estimating CAUSE parameters with  997660  variants.\n",
      "1 0.005976136 \n",
      "2 4.543863e-06 \n",
      "3 3.653915e-09 \n",
      "Estimating CAUSE posteriors using  1531  variants.\n"
     ]
    },
    {
     "name": "stderr",
     "output_type": "stream",
     "text": [
      "Warning message:\n",
      "“'compare' is deprecated.\n",
      "Use 'loo_compare' instead.\n",
      "See help(\"Deprecated\")”\n"
     ]
    },
    {
     "name": "stdout",
     "output_type": "stream",
     "text": [
      "    user   system  elapsed \n",
      "2502.405 1532.839  411.519 \n",
      "CD ~ Hair_Dark_Brown \n"
     ]
    },
    {
     "name": "stderr",
     "output_type": "stream",
     "text": [
      "\u001b[1m\u001b[1mRows: \u001b[1m\u001b[22m\u001b[34m\u001b[34m1149704\u001b[34m\u001b[39m \u001b[1m\u001b[1mColumns: \u001b[1m\u001b[22m\u001b[34m\u001b[34m7\u001b[34m\u001b[39m\n",
      "\n",
      "\u001b[36m──\u001b[39m \u001b[1m\u001b[1mColumn specification\u001b[1m\u001b[22m \u001b[36m────────────────────────────────────────────────────────────────────────────────────────────────────────\u001b[39m\n",
      "\u001b[1mDelimiter:\u001b[22m \"\\t\"\n",
      "\u001b[31mchr\u001b[39m (3): SNP, A1, A2\n",
      "\u001b[32mdbl\u001b[39m (4): Z, N, chi2, P\n",
      "\n",
      "\n",
      "\u001b[36mℹ\u001b[39m Use \u001b[30m\u001b[47m\u001b[30m\u001b[47m`spec()`\u001b[47m\u001b[30m\u001b[49m\u001b[39m to retrieve the full column specification for this data.\n",
      "\u001b[36mℹ\u001b[39m Specify the column types or set \u001b[30m\u001b[47m\u001b[30m\u001b[47m`show_col_types = FALSE`\u001b[47m\u001b[30m\u001b[49m\u001b[39m to quiet this message.\n",
      "\n",
      "\u001b[1m\u001b[1mRows: \u001b[1m\u001b[22m\u001b[34m\u001b[34m1037381\u001b[34m\u001b[39m \u001b[1m\u001b[1mColumns: \u001b[1m\u001b[22m\u001b[34m\u001b[34m7\u001b[34m\u001b[39m\n",
      "\n",
      "\u001b[36m──\u001b[39m \u001b[1m\u001b[1mColumn specification\u001b[1m\u001b[22m \u001b[36m────────────────────────────────────────────────────────────────────────────────────────────────────────\u001b[39m\n",
      "\u001b[1mDelimiter:\u001b[22m \"\\t\"\n",
      "\u001b[31mchr\u001b[39m (3): SNP, A1, A2\n",
      "\u001b[32mdbl\u001b[39m (4): Z, N, chi2, P\n",
      "\n",
      "\n",
      "\u001b[36mℹ\u001b[39m Use \u001b[30m\u001b[47m\u001b[30m\u001b[47m`spec()`\u001b[47m\u001b[30m\u001b[49m\u001b[39m to retrieve the full column specification for this data.\n",
      "\u001b[36mℹ\u001b[39m Specify the column types or set \u001b[30m\u001b[47m\u001b[30m\u001b[47m`show_col_types = FALSE`\u001b[47m\u001b[30m\u001b[49m\u001b[39m to quiet this message.\n",
      "\n"
     ]
    },
    {
     "name": "stdout",
     "output_type": "stream",
     "text": [
      "Formatting X1\n",
      "There are  1149704  variants.\n",
      "Removing  0  duplicated variants leaving  1149704 variants.\n",
      "No variants have illegal alleles.\n",
      "Removed  0  variants with ambiguous strand.\n",
      "Flipping strand and effect allele so A1 is always A\n",
      "Returning  1149704  variants.\n",
      "Formatting X2\n",
      "There are  1037381  variants.\n",
      "Removing  0  duplicated variants leaving  1037381 variants.\n",
      "No variants have illegal alleles.\n",
      "Removed  0  variants with ambiguous strand.\n",
      "Flipping strand and effect allele so A1 is always A\n",
      "Returning  1037381  variants.\n",
      "After merging and removing variants with inconsistent alleles,  there are  997314  variants that are present in both studies and can be used with CAUSE.\n"
     ]
    },
    {
     "name": "stderr",
     "output_type": "stream",
     "text": [
      "Clumping suZAxN, 10380 variants, using EUR population reference\n",
      "\n",
      "Removing 8850 of 10380 variants due to LD with other variants or absence from LD reference panel\n",
      "\n"
     ]
    },
    {
     "name": "stdout",
     "output_type": "stream",
     "text": [
      "Estimating CAUSE parameters with  997314  variants.\n",
      "1 0.009711037 \n",
      "2 3.358533e-06 \n",
      "3 1.641564e-09 \n",
      "Estimating CAUSE posteriors using  1530  variants.\n"
     ]
    },
    {
     "name": "stderr",
     "output_type": "stream",
     "text": [
      "Warning message:\n",
      "“'compare' is deprecated.\n",
      "Use 'loo_compare' instead.\n",
      "See help(\"Deprecated\")”\n"
     ]
    },
    {
     "name": "stdout",
     "output_type": "stream",
     "text": [
      "    user   system  elapsed \n",
      "2585.784 1767.928  432.204 \n",
      "CD ~ Hair_Black \n"
     ]
    },
    {
     "name": "stderr",
     "output_type": "stream",
     "text": [
      "\u001b[1m\u001b[1mRows: \u001b[1m\u001b[22m\u001b[34m\u001b[34m1149704\u001b[34m\u001b[39m \u001b[1m\u001b[1mColumns: \u001b[1m\u001b[22m\u001b[34m\u001b[34m7\u001b[34m\u001b[39m\n",
      "\n",
      "\u001b[36m──\u001b[39m \u001b[1m\u001b[1mColumn specification\u001b[1m\u001b[22m \u001b[36m────────────────────────────────────────────────────────────────────────────────────────────────────────\u001b[39m\n",
      "\u001b[1mDelimiter:\u001b[22m \"\\t\"\n",
      "\u001b[31mchr\u001b[39m (3): SNP, A1, A2\n",
      "\u001b[32mdbl\u001b[39m (4): Z, N, chi2, P\n",
      "\n",
      "\n",
      "\u001b[36mℹ\u001b[39m Use \u001b[30m\u001b[47m\u001b[30m\u001b[47m`spec()`\u001b[47m\u001b[30m\u001b[49m\u001b[39m to retrieve the full column specification for this data.\n",
      "\u001b[36mℹ\u001b[39m Specify the column types or set \u001b[30m\u001b[47m\u001b[30m\u001b[47m`show_col_types = FALSE`\u001b[47m\u001b[30m\u001b[49m\u001b[39m to quiet this message.\n",
      "\n",
      "\u001b[1m\u001b[1mRows: \u001b[1m\u001b[22m\u001b[34m\u001b[34m1037702\u001b[34m\u001b[39m \u001b[1m\u001b[1mColumns: \u001b[1m\u001b[22m\u001b[34m\u001b[34m7\u001b[34m\u001b[39m\n",
      "\n",
      "\u001b[36m──\u001b[39m \u001b[1m\u001b[1mColumn specification\u001b[1m\u001b[22m \u001b[36m────────────────────────────────────────────────────────────────────────────────────────────────────────\u001b[39m\n",
      "\u001b[1mDelimiter:\u001b[22m \"\\t\"\n",
      "\u001b[31mchr\u001b[39m (3): SNP, A1, A2\n",
      "\u001b[32mdbl\u001b[39m (4): Z, N, chi2, P\n",
      "\n",
      "\n",
      "\u001b[36mℹ\u001b[39m Use \u001b[30m\u001b[47m\u001b[30m\u001b[47m`spec()`\u001b[47m\u001b[30m\u001b[49m\u001b[39m to retrieve the full column specification for this data.\n",
      "\u001b[36mℹ\u001b[39m Specify the column types or set \u001b[30m\u001b[47m\u001b[30m\u001b[47m`show_col_types = FALSE`\u001b[47m\u001b[30m\u001b[49m\u001b[39m to quiet this message.\n",
      "\n"
     ]
    },
    {
     "name": "stdout",
     "output_type": "stream",
     "text": [
      "Formatting X1\n",
      "There are  1149704  variants.\n",
      "Removing  0  duplicated variants leaving  1149704 variants.\n",
      "No variants have illegal alleles.\n",
      "Removed  0  variants with ambiguous strand.\n",
      "Flipping strand and effect allele so A1 is always A\n",
      "Returning  1149704  variants.\n",
      "Formatting X2\n",
      "There are  1037702  variants.\n",
      "Removing  0  duplicated variants leaving  1037702 variants.\n",
      "No variants have illegal alleles.\n",
      "Removed  0  variants with ambiguous strand.\n",
      "Flipping strand and effect allele so A1 is always A\n",
      "Returning  1037702  variants.\n",
      "After merging and removing variants with inconsistent alleles,  there are  997621  variants that are present in both studies and can be used with CAUSE.\n"
     ]
    },
    {
     "name": "stderr",
     "output_type": "stream",
     "text": [
      "Clumping CSNX1H, 10380 variants, using EUR population reference\n",
      "\n",
      "Removing 8850 of 10380 variants due to LD with other variants or absence from LD reference panel\n",
      "\n"
     ]
    },
    {
     "name": "stdout",
     "output_type": "stream",
     "text": [
      "Estimating CAUSE parameters with  997621  variants.\n",
      "1 0.01503001 \n",
      "2 9.004839e-06 \n",
      "3 9.152891e-09 \n",
      "Estimating CAUSE posteriors using  1530  variants.\n"
     ]
    },
    {
     "name": "stderr",
     "output_type": "stream",
     "text": [
      "Warning message:\n",
      "“'compare' is deprecated.\n",
      "Use 'loo_compare' instead.\n",
      "See help(\"Deprecated\")”\n"
     ]
    },
    {
     "name": "stdout",
     "output_type": "stream",
     "text": [
      "    user   system  elapsed \n",
      "2195.674 1610.428  370.920 \n",
      "CD ~ Hair_Blonde \n"
     ]
    },
    {
     "name": "stderr",
     "output_type": "stream",
     "text": [
      "\u001b[1m\u001b[1mRows: \u001b[1m\u001b[22m\u001b[34m\u001b[34m1149704\u001b[34m\u001b[39m \u001b[1m\u001b[1mColumns: \u001b[1m\u001b[22m\u001b[34m\u001b[34m7\u001b[34m\u001b[39m\n",
      "\n",
      "\u001b[36m──\u001b[39m \u001b[1m\u001b[1mColumn specification\u001b[1m\u001b[22m \u001b[36m────────────────────────────────────────────────────────────────────────────────────────────────────────\u001b[39m\n",
      "\u001b[1mDelimiter:\u001b[22m \"\\t\"\n",
      "\u001b[31mchr\u001b[39m (3): SNP, A1, A2\n",
      "\u001b[32mdbl\u001b[39m (4): Z, N, chi2, P\n",
      "\n",
      "\n",
      "\u001b[36mℹ\u001b[39m Use \u001b[30m\u001b[47m\u001b[30m\u001b[47m`spec()`\u001b[47m\u001b[30m\u001b[49m\u001b[39m to retrieve the full column specification for this data.\n",
      "\u001b[36mℹ\u001b[39m Specify the column types or set \u001b[30m\u001b[47m\u001b[30m\u001b[47m`show_col_types = FALSE`\u001b[47m\u001b[30m\u001b[49m\u001b[39m to quiet this message.\n",
      "\n",
      "\u001b[1m\u001b[1mRows: \u001b[1m\u001b[22m\u001b[34m\u001b[34m1037533\u001b[34m\u001b[39m \u001b[1m\u001b[1mColumns: \u001b[1m\u001b[22m\u001b[34m\u001b[34m7\u001b[34m\u001b[39m\n",
      "\n",
      "\u001b[36m──\u001b[39m \u001b[1m\u001b[1mColumn specification\u001b[1m\u001b[22m \u001b[36m────────────────────────────────────────────────────────────────────────────────────────────────────────\u001b[39m\n",
      "\u001b[1mDelimiter:\u001b[22m \"\\t\"\n",
      "\u001b[31mchr\u001b[39m (3): SNP, A1, A2\n",
      "\u001b[32mdbl\u001b[39m (4): Z, N, chi2, P\n",
      "\n",
      "\n",
      "\u001b[36mℹ\u001b[39m Use \u001b[30m\u001b[47m\u001b[30m\u001b[47m`spec()`\u001b[47m\u001b[30m\u001b[49m\u001b[39m to retrieve the full column specification for this data.\n",
      "\u001b[36mℹ\u001b[39m Specify the column types or set \u001b[30m\u001b[47m\u001b[30m\u001b[47m`show_col_types = FALSE`\u001b[47m\u001b[30m\u001b[49m\u001b[39m to quiet this message.\n",
      "\n"
     ]
    },
    {
     "name": "stdout",
     "output_type": "stream",
     "text": [
      "Formatting X1\n",
      "There are  1149704  variants.\n",
      "Removing  0  duplicated variants leaving  1149704 variants.\n",
      "No variants have illegal alleles.\n",
      "Removed  0  variants with ambiguous strand.\n",
      "Flipping strand and effect allele so A1 is always A\n",
      "Returning  1149704  variants.\n",
      "Formatting X2\n",
      "There are  1037533  variants.\n",
      "Removing  0  duplicated variants leaving  1037533 variants.\n",
      "No variants have illegal alleles.\n",
      "Removed  0  variants with ambiguous strand.\n",
      "Flipping strand and effect allele so A1 is always A\n",
      "Returning  1037533  variants.\n",
      "After merging and removing variants with inconsistent alleles,  there are  997459  variants that are present in both studies and can be used with CAUSE.\n"
     ]
    },
    {
     "name": "stderr",
     "output_type": "stream",
     "text": [
      "Clumping SEUYjD, 10380 variants, using EUR population reference\n",
      "\n",
      "Removing 8850 of 10380 variants due to LD with other variants or absence from LD reference panel\n",
      "\n"
     ]
    },
    {
     "name": "stdout",
     "output_type": "stream",
     "text": [
      "Estimating CAUSE parameters with  997459  variants.\n",
      "1 0.001359522 \n",
      "2 6.217276e-07 \n",
      "3 3.872185e-10 \n",
      "Estimating CAUSE posteriors using  1530  variants.\n"
     ]
    },
    {
     "name": "stderr",
     "output_type": "stream",
     "text": [
      "Warning message:\n",
      "“'compare' is deprecated.\n",
      "Use 'loo_compare' instead.\n",
      "See help(\"Deprecated\")”\n"
     ]
    },
    {
     "name": "stdout",
     "output_type": "stream",
     "text": [
      "    user   system  elapsed \n",
      "2374.004 1715.009  397.271 \n",
      "CD ~ Tanning \n"
     ]
    },
    {
     "name": "stderr",
     "output_type": "stream",
     "text": [
      "\u001b[1m\u001b[1mRows: \u001b[1m\u001b[22m\u001b[34m\u001b[34m1149704\u001b[34m\u001b[39m \u001b[1m\u001b[1mColumns: \u001b[1m\u001b[22m\u001b[34m\u001b[34m7\u001b[34m\u001b[39m\n",
      "\n",
      "\u001b[36m──\u001b[39m \u001b[1m\u001b[1mColumn specification\u001b[1m\u001b[22m \u001b[36m────────────────────────────────────────────────────────────────────────────────────────────────────────\u001b[39m\n",
      "\u001b[1mDelimiter:\u001b[22m \"\\t\"\n",
      "\u001b[31mchr\u001b[39m (3): SNP, A1, A2\n",
      "\u001b[32mdbl\u001b[39m (4): Z, N, chi2, P\n",
      "\n",
      "\n",
      "\u001b[36mℹ\u001b[39m Use \u001b[30m\u001b[47m\u001b[30m\u001b[47m`spec()`\u001b[47m\u001b[30m\u001b[49m\u001b[39m to retrieve the full column specification for this data.\n",
      "\u001b[36mℹ\u001b[39m Specify the column types or set \u001b[30m\u001b[47m\u001b[30m\u001b[47m`show_col_types = FALSE`\u001b[47m\u001b[30m\u001b[49m\u001b[39m to quiet this message.\n",
      "\n",
      "\u001b[1m\u001b[1mRows: \u001b[1m\u001b[22m\u001b[34m\u001b[34m1037026\u001b[34m\u001b[39m \u001b[1m\u001b[1mColumns: \u001b[1m\u001b[22m\u001b[34m\u001b[34m7\u001b[34m\u001b[39m\n",
      "\n",
      "\u001b[36m──\u001b[39m \u001b[1m\u001b[1mColumn specification\u001b[1m\u001b[22m \u001b[36m────────────────────────────────────────────────────────────────────────────────────────────────────────\u001b[39m\n",
      "\u001b[1mDelimiter:\u001b[22m \"\\t\"\n",
      "\u001b[31mchr\u001b[39m (3): SNP, A1, A2\n",
      "\u001b[32mdbl\u001b[39m (4): Z, N, chi2, P\n",
      "\n",
      "\n",
      "\u001b[36mℹ\u001b[39m Use \u001b[30m\u001b[47m\u001b[30m\u001b[47m`spec()`\u001b[47m\u001b[30m\u001b[49m\u001b[39m to retrieve the full column specification for this data.\n",
      "\u001b[36mℹ\u001b[39m Specify the column types or set \u001b[30m\u001b[47m\u001b[30m\u001b[47m`show_col_types = FALSE`\u001b[47m\u001b[30m\u001b[49m\u001b[39m to quiet this message.\n",
      "\n"
     ]
    },
    {
     "name": "stdout",
     "output_type": "stream",
     "text": [
      "Formatting X1\n",
      "There are  1149704  variants.\n",
      "Removing  0  duplicated variants leaving  1149704 variants.\n",
      "No variants have illegal alleles.\n",
      "Removed  0  variants with ambiguous strand.\n",
      "Flipping strand and effect allele so A1 is always A\n",
      "Returning  1149704  variants.\n",
      "Formatting X2\n",
      "There are  1037026  variants.\n",
      "Removing  0  duplicated variants leaving  1037026 variants.\n",
      "No variants have illegal alleles.\n",
      "Removed  0  variants with ambiguous strand.\n",
      "Flipping strand and effect allele so A1 is always A\n",
      "Returning  1037026  variants.\n",
      "After merging and removing variants with inconsistent alleles,  there are  996976  variants that are present in both studies and can be used with CAUSE.\n"
     ]
    },
    {
     "name": "stderr",
     "output_type": "stream",
     "text": [
      "Clumping gUQlpL, 10378 variants, using EUR population reference\n",
      "\n",
      "Removing 8848 of 10378 variants due to LD with other variants or absence from LD reference panel\n",
      "\n"
     ]
    },
    {
     "name": "stdout",
     "output_type": "stream",
     "text": [
      "Estimating CAUSE parameters with  996976  variants.\n",
      "1 0.03488738 \n",
      "2 6.204147e-05 \n",
      "3 1.836142e-07 \n",
      "4 7.324675e-09 \n",
      "Estimating CAUSE posteriors using  1530  variants.\n"
     ]
    },
    {
     "name": "stderr",
     "output_type": "stream",
     "text": [
      "Warning message:\n",
      "“'compare' is deprecated.\n",
      "Use 'loo_compare' instead.\n",
      "See help(\"Deprecated\")”\n"
     ]
    },
    {
     "name": "stdout",
     "output_type": "stream",
     "text": [
      "    user   system  elapsed \n",
      "2644.734 1827.764  435.834 \n",
      "Height_GIANT ~ Hair_Light_Brown \n"
     ]
    },
    {
     "name": "stderr",
     "output_type": "stream",
     "text": [
      "\u001b[1m\u001b[1mRows: \u001b[1m\u001b[22m\u001b[34m\u001b[34m961046\u001b[34m\u001b[39m \u001b[1m\u001b[1mColumns: \u001b[1m\u001b[22m\u001b[34m\u001b[34m7\u001b[34m\u001b[39m\n",
      "\n",
      "\u001b[36m──\u001b[39m \u001b[1m\u001b[1mColumn specification\u001b[1m\u001b[22m \u001b[36m────────────────────────────────────────────────────────────────────────────────────────────────────────\u001b[39m\n",
      "\u001b[1mDelimiter:\u001b[22m \"\\t\"\n",
      "\u001b[31mchr\u001b[39m (3): SNP, A1, A2\n",
      "\u001b[32mdbl\u001b[39m (4): Z, N, chi2, P\n",
      "\n",
      "\n",
      "\u001b[36mℹ\u001b[39m Use \u001b[30m\u001b[47m\u001b[30m\u001b[47m`spec()`\u001b[47m\u001b[30m\u001b[49m\u001b[39m to retrieve the full column specification for this data.\n",
      "\u001b[36mℹ\u001b[39m Specify the column types or set \u001b[30m\u001b[47m\u001b[30m\u001b[47m`show_col_types = FALSE`\u001b[47m\u001b[30m\u001b[49m\u001b[39m to quiet this message.\n",
      "\n",
      "\u001b[1m\u001b[1mRows: \u001b[1m\u001b[22m\u001b[34m\u001b[34m1037742\u001b[34m\u001b[39m \u001b[1m\u001b[1mColumns: \u001b[1m\u001b[22m\u001b[34m\u001b[34m7\u001b[34m\u001b[39m\n",
      "\n",
      "\u001b[36m──\u001b[39m \u001b[1m\u001b[1mColumn specification\u001b[1m\u001b[22m \u001b[36m────────────────────────────────────────────────────────────────────────────────────────────────────────\u001b[39m\n",
      "\u001b[1mDelimiter:\u001b[22m \"\\t\"\n",
      "\u001b[31mchr\u001b[39m (3): SNP, A1, A2\n",
      "\u001b[32mdbl\u001b[39m (4): Z, N, chi2, P\n",
      "\n",
      "\n",
      "\u001b[36mℹ\u001b[39m Use \u001b[30m\u001b[47m\u001b[30m\u001b[47m`spec()`\u001b[47m\u001b[30m\u001b[49m\u001b[39m to retrieve the full column specification for this data.\n",
      "\u001b[36mℹ\u001b[39m Specify the column types or set \u001b[30m\u001b[47m\u001b[30m\u001b[47m`show_col_types = FALSE`\u001b[47m\u001b[30m\u001b[49m\u001b[39m to quiet this message.\n",
      "\n"
     ]
    },
    {
     "name": "stdout",
     "output_type": "stream",
     "text": [
      "Formatting X1\n",
      "There are  961046  variants.\n",
      "Removing  0  duplicated variants leaving  961046 variants.\n",
      "No variants have illegal alleles.\n",
      "Removed  0  variants with ambiguous strand.\n",
      "Flipping strand and effect allele so A1 is always A\n",
      "Returning  961046  variants.\n",
      "Formatting X2\n",
      "There are  1037742  variants.\n",
      "Removing  0  duplicated variants leaving  1037742 variants.\n",
      "No variants have illegal alleles.\n",
      "Removed  0  variants with ambiguous strand.\n",
      "Flipping strand and effect allele so A1 is always A\n",
      "Returning  1037742  variants.\n",
      "After merging and removing variants with inconsistent alleles,  there are  908637  variants that are present in both studies and can be used with CAUSE.\n"
     ]
    },
    {
     "name": "stderr",
     "output_type": "stream",
     "text": [
      "Clumping iLveuS, 49937 variants, using EUR population reference\n",
      "\n",
      "Removing 44597 of 49937 variants due to LD with other variants or absence from LD reference panel\n",
      "\n"
     ]
    },
    {
     "name": "stdout",
     "output_type": "stream",
     "text": [
      "Estimating CAUSE parameters with  908637  variants.\n",
      "1 0.1830887 \n",
      "2 0.001543789 \n",
      "3 7.267743e-05 \n",
      "4 3.445662e-06 \n",
      "5 1.633121e-07 \n",
      "6 7.263506e-09 \n",
      "Estimating CAUSE posteriors using  5340  variants.\n"
     ]
    },
    {
     "name": "stderr",
     "output_type": "stream",
     "text": [
      "Warning message:\n",
      "“'compare' is deprecated.\n",
      "Use 'loo_compare' instead.\n",
      "See help(\"Deprecated\")”\n"
     ]
    },
    {
     "name": "stdout",
     "output_type": "stream",
     "text": [
      "    user   system  elapsed \n",
      "5378.099 2577.217  612.866 \n",
      "Height_GIANT ~ Hair_Dark_Brown \n"
     ]
    },
    {
     "name": "stderr",
     "output_type": "stream",
     "text": [
      "\u001b[1m\u001b[1mRows: \u001b[1m\u001b[22m\u001b[34m\u001b[34m961046\u001b[34m\u001b[39m \u001b[1m\u001b[1mColumns: \u001b[1m\u001b[22m\u001b[34m\u001b[34m7\u001b[34m\u001b[39m\n",
      "\n",
      "\u001b[36m──\u001b[39m \u001b[1m\u001b[1mColumn specification\u001b[1m\u001b[22m \u001b[36m────────────────────────────────────────────────────────────────────────────────────────────────────────\u001b[39m\n",
      "\u001b[1mDelimiter:\u001b[22m \"\\t\"\n",
      "\u001b[31mchr\u001b[39m (3): SNP, A1, A2\n",
      "\u001b[32mdbl\u001b[39m (4): Z, N, chi2, P\n",
      "\n",
      "\n",
      "\u001b[36mℹ\u001b[39m Use \u001b[30m\u001b[47m\u001b[30m\u001b[47m`spec()`\u001b[47m\u001b[30m\u001b[49m\u001b[39m to retrieve the full column specification for this data.\n",
      "\u001b[36mℹ\u001b[39m Specify the column types or set \u001b[30m\u001b[47m\u001b[30m\u001b[47m`show_col_types = FALSE`\u001b[47m\u001b[30m\u001b[49m\u001b[39m to quiet this message.\n",
      "\n",
      "\u001b[1m\u001b[1mRows: \u001b[1m\u001b[22m\u001b[34m\u001b[34m1037381\u001b[34m\u001b[39m \u001b[1m\u001b[1mColumns: \u001b[1m\u001b[22m\u001b[34m\u001b[34m7\u001b[34m\u001b[39m\n",
      "\n",
      "\u001b[36m──\u001b[39m \u001b[1m\u001b[1mColumn specification\u001b[1m\u001b[22m \u001b[36m────────────────────────────────────────────────────────────────────────────────────────────────────────\u001b[39m\n",
      "\u001b[1mDelimiter:\u001b[22m \"\\t\"\n",
      "\u001b[31mchr\u001b[39m (3): SNP, A1, A2\n",
      "\u001b[32mdbl\u001b[39m (4): Z, N, chi2, P\n",
      "\n",
      "\n",
      "\u001b[36mℹ\u001b[39m Use \u001b[30m\u001b[47m\u001b[30m\u001b[47m`spec()`\u001b[47m\u001b[30m\u001b[49m\u001b[39m to retrieve the full column specification for this data.\n",
      "\u001b[36mℹ\u001b[39m Specify the column types or set \u001b[30m\u001b[47m\u001b[30m\u001b[47m`show_col_types = FALSE`\u001b[47m\u001b[30m\u001b[49m\u001b[39m to quiet this message.\n",
      "\n"
     ]
    },
    {
     "name": "stdout",
     "output_type": "stream",
     "text": [
      "Formatting X1\n",
      "There are  961046  variants.\n",
      "Removing  0  duplicated variants leaving  961046 variants.\n",
      "No variants have illegal alleles.\n",
      "Removed  0  variants with ambiguous strand.\n",
      "Flipping strand and effect allele so A1 is always A\n",
      "Returning  961046  variants.\n",
      "Formatting X2\n",
      "There are  1037381  variants.\n",
      "Removing  0  duplicated variants leaving  1037381 variants.\n",
      "No variants have illegal alleles.\n",
      "Removed  0  variants with ambiguous strand.\n",
      "Flipping strand and effect allele so A1 is always A\n",
      "Returning  1037381  variants.\n",
      "After merging and removing variants with inconsistent alleles,  there are  908338  variants that are present in both studies and can be used with CAUSE.\n"
     ]
    },
    {
     "name": "stderr",
     "output_type": "stream",
     "text": [
      "Clumping FBXVSC, 49820 variants, using EUR population reference\n",
      "\n",
      "Removing 44484 of 49820 variants due to LD with other variants or absence from LD reference panel\n",
      "\n"
     ]
    },
    {
     "name": "stdout",
     "output_type": "stream",
     "text": [
      "Estimating CAUSE parameters with  908338  variants.\n",
      "1 0.1755989 \n",
      "2 0.001427564 \n",
      "3 5.454976e-05 \n",
      "4 2.101179e-06 \n",
      "5 8.276405e-08 \n",
      "Estimating CAUSE posteriors using  5336  variants.\n"
     ]
    },
    {
     "name": "stderr",
     "output_type": "stream",
     "text": [
      "Warning message:\n",
      "“'compare' is deprecated.\n",
      "Use 'loo_compare' instead.\n",
      "See help(\"Deprecated\")”\n"
     ]
    },
    {
     "name": "stdout",
     "output_type": "stream",
     "text": [
      "    user   system  elapsed \n",
      "5656.839 2376.038  585.997 \n",
      "Height_GIANT ~ Hair_Black \n"
     ]
    },
    {
     "name": "stderr",
     "output_type": "stream",
     "text": [
      "\u001b[1m\u001b[1mRows: \u001b[1m\u001b[22m\u001b[34m\u001b[34m961046\u001b[34m\u001b[39m \u001b[1m\u001b[1mColumns: \u001b[1m\u001b[22m\u001b[34m\u001b[34m7\u001b[34m\u001b[39m\n",
      "\n",
      "\u001b[36m──\u001b[39m \u001b[1m\u001b[1mColumn specification\u001b[1m\u001b[22m \u001b[36m────────────────────────────────────────────────────────────────────────────────────────────────────────\u001b[39m\n",
      "\u001b[1mDelimiter:\u001b[22m \"\\t\"\n",
      "\u001b[31mchr\u001b[39m (3): SNP, A1, A2\n",
      "\u001b[32mdbl\u001b[39m (4): Z, N, chi2, P\n",
      "\n",
      "\n",
      "\u001b[36mℹ\u001b[39m Use \u001b[30m\u001b[47m\u001b[30m\u001b[47m`spec()`\u001b[47m\u001b[30m\u001b[49m\u001b[39m to retrieve the full column specification for this data.\n",
      "\u001b[36mℹ\u001b[39m Specify the column types or set \u001b[30m\u001b[47m\u001b[30m\u001b[47m`show_col_types = FALSE`\u001b[47m\u001b[30m\u001b[49m\u001b[39m to quiet this message.\n",
      "\n",
      "\u001b[1m\u001b[1mRows: \u001b[1m\u001b[22m\u001b[34m\u001b[34m1037702\u001b[34m\u001b[39m \u001b[1m\u001b[1mColumns: \u001b[1m\u001b[22m\u001b[34m\u001b[34m7\u001b[34m\u001b[39m\n",
      "\n",
      "\u001b[36m──\u001b[39m \u001b[1m\u001b[1mColumn specification\u001b[1m\u001b[22m \u001b[36m────────────────────────────────────────────────────────────────────────────────────────────────────────\u001b[39m\n",
      "\u001b[1mDelimiter:\u001b[22m \"\\t\"\n",
      "\u001b[31mchr\u001b[39m (3): SNP, A1, A2\n",
      "\u001b[32mdbl\u001b[39m (4): Z, N, chi2, P\n",
      "\n",
      "\n",
      "\u001b[36mℹ\u001b[39m Use \u001b[30m\u001b[47m\u001b[30m\u001b[47m`spec()`\u001b[47m\u001b[30m\u001b[49m\u001b[39m to retrieve the full column specification for this data.\n",
      "\u001b[36mℹ\u001b[39m Specify the column types or set \u001b[30m\u001b[47m\u001b[30m\u001b[47m`show_col_types = FALSE`\u001b[47m\u001b[30m\u001b[49m\u001b[39m to quiet this message.\n",
      "\n"
     ]
    },
    {
     "name": "stdout",
     "output_type": "stream",
     "text": [
      "Formatting X1\n",
      "There are  961046  variants.\n",
      "Removing  0  duplicated variants leaving  961046 variants.\n",
      "No variants have illegal alleles.\n",
      "Removed  0  variants with ambiguous strand.\n",
      "Flipping strand and effect allele so A1 is always A\n",
      "Returning  961046  variants.\n",
      "Formatting X2\n",
      "There are  1037702  variants.\n",
      "Removing  0  duplicated variants leaving  1037702 variants.\n",
      "No variants have illegal alleles.\n",
      "Removed  0  variants with ambiguous strand.\n",
      "Flipping strand and effect allele so A1 is always A\n",
      "Returning  1037702  variants.\n",
      "After merging and removing variants with inconsistent alleles,  there are  908605  variants that are present in both studies and can be used with CAUSE.\n"
     ]
    },
    {
     "name": "stderr",
     "output_type": "stream",
     "text": [
      "Clumping bhCcEM, 49932 variants, using EUR population reference\n",
      "\n",
      "Removing 44593 of 49932 variants due to LD with other variants or absence from LD reference panel\n",
      "\n"
     ]
    },
    {
     "name": "stdout",
     "output_type": "stream",
     "text": [
      "Estimating CAUSE parameters with  908605  variants.\n",
      "1 0.294814 \n",
      "2 0.009147257 \n",
      "3 0.0009714102 \n",
      "4 0.0001025493 \n",
      "5 1.081794e-05 \n",
      "6 1.141985e-06 \n",
      "7 1.200245e-07 \n",
      "8 1.24087e-08 \n",
      "Estimating CAUSE posteriors using  5339  variants.\n"
     ]
    },
    {
     "name": "stderr",
     "output_type": "stream",
     "text": [
      "Warning message:\n",
      "“'compare' is deprecated.\n",
      "Use 'loo_compare' instead.\n",
      "See help(\"Deprecated\")”\n"
     ]
    },
    {
     "name": "stdout",
     "output_type": "stream",
     "text": [
      "    user   system  elapsed \n",
      "5943.484 2685.623  711.615 \n",
      "Height_GIANT ~ Hair_Blonde \n"
     ]
    },
    {
     "name": "stderr",
     "output_type": "stream",
     "text": [
      "\u001b[1m\u001b[1mRows: \u001b[1m\u001b[22m\u001b[34m\u001b[34m961046\u001b[34m\u001b[39m \u001b[1m\u001b[1mColumns: \u001b[1m\u001b[22m\u001b[34m\u001b[34m7\u001b[34m\u001b[39m\n",
      "\n",
      "\u001b[36m──\u001b[39m \u001b[1m\u001b[1mColumn specification\u001b[1m\u001b[22m \u001b[36m────────────────────────────────────────────────────────────────────────────────────────────────────────\u001b[39m\n",
      "\u001b[1mDelimiter:\u001b[22m \"\\t\"\n",
      "\u001b[31mchr\u001b[39m (3): SNP, A1, A2\n",
      "\u001b[32mdbl\u001b[39m (4): Z, N, chi2, P\n",
      "\n",
      "\n",
      "\u001b[36mℹ\u001b[39m Use \u001b[30m\u001b[47m\u001b[30m\u001b[47m`spec()`\u001b[47m\u001b[30m\u001b[49m\u001b[39m to retrieve the full column specification for this data.\n",
      "\u001b[36mℹ\u001b[39m Specify the column types or set \u001b[30m\u001b[47m\u001b[30m\u001b[47m`show_col_types = FALSE`\u001b[47m\u001b[30m\u001b[49m\u001b[39m to quiet this message.\n",
      "\n",
      "\u001b[1m\u001b[1mRows: \u001b[1m\u001b[22m\u001b[34m\u001b[34m1037533\u001b[34m\u001b[39m \u001b[1m\u001b[1mColumns: \u001b[1m\u001b[22m\u001b[34m\u001b[34m7\u001b[34m\u001b[39m\n",
      "\n",
      "\u001b[36m──\u001b[39m \u001b[1m\u001b[1mColumn specification\u001b[1m\u001b[22m \u001b[36m────────────────────────────────────────────────────────────────────────────────────────────────────────\u001b[39m\n",
      "\u001b[1mDelimiter:\u001b[22m \"\\t\"\n",
      "\u001b[31mchr\u001b[39m (3): SNP, A1, A2\n",
      "\u001b[32mdbl\u001b[39m (4): Z, N, chi2, P\n",
      "\n",
      "\n",
      "\u001b[36mℹ\u001b[39m Use \u001b[30m\u001b[47m\u001b[30m\u001b[47m`spec()`\u001b[47m\u001b[30m\u001b[49m\u001b[39m to retrieve the full column specification for this data.\n",
      "\u001b[36mℹ\u001b[39m Specify the column types or set \u001b[30m\u001b[47m\u001b[30m\u001b[47m`show_col_types = FALSE`\u001b[47m\u001b[30m\u001b[49m\u001b[39m to quiet this message.\n",
      "\n"
     ]
    },
    {
     "name": "stdout",
     "output_type": "stream",
     "text": [
      "Formatting X1\n",
      "There are  961046  variants.\n",
      "Removing  0  duplicated variants leaving  961046 variants.\n",
      "No variants have illegal alleles.\n",
      "Removed  0  variants with ambiguous strand.\n",
      "Flipping strand and effect allele so A1 is always A\n",
      "Returning  961046  variants.\n",
      "Formatting X2\n",
      "There are  1037533  variants.\n",
      "Removing  0  duplicated variants leaving  1037533 variants.\n",
      "No variants have illegal alleles.\n",
      "Removed  0  variants with ambiguous strand.\n",
      "Flipping strand and effect allele so A1 is always A\n",
      "Returning  1037533  variants.\n",
      "After merging and removing variants with inconsistent alleles,  there are  908452  variants that are present in both studies and can be used with CAUSE.\n"
     ]
    },
    {
     "name": "stderr",
     "output_type": "stream",
     "text": [
      "Clumping mKKaF7, 49871 variants, using EUR population reference\n",
      "\n",
      "Removing 44533 of 49871 variants due to LD with other variants or absence from LD reference panel\n",
      "\n"
     ]
    },
    {
     "name": "stdout",
     "output_type": "stream",
     "text": [
      "Estimating CAUSE parameters with  908452  variants.\n",
      "1 0.1099592 \n",
      "2 0.0006550469 \n",
      "3 1.415491e-05 \n",
      "4 3.039932e-07 \n",
      "5 8.926555e-09 \n",
      "Estimating CAUSE posteriors using  5338  variants.\n"
     ]
    },
    {
     "name": "stderr",
     "output_type": "stream",
     "text": [
      "Warning message:\n",
      "“'compare' is deprecated.\n",
      "Use 'loo_compare' instead.\n",
      "See help(\"Deprecated\")”\n"
     ]
    },
    {
     "name": "stdout",
     "output_type": "stream",
     "text": [
      "    user   system  elapsed \n",
      "4550.772 2047.228  531.373 \n",
      "Height_GIANT ~ Tanning \n"
     ]
    },
    {
     "name": "stderr",
     "output_type": "stream",
     "text": [
      "\u001b[1m\u001b[1mRows: \u001b[1m\u001b[22m\u001b[34m\u001b[34m961046\u001b[34m\u001b[39m \u001b[1m\u001b[1mColumns: \u001b[1m\u001b[22m\u001b[34m\u001b[34m7\u001b[34m\u001b[39m\n",
      "\n",
      "\u001b[36m──\u001b[39m \u001b[1m\u001b[1mColumn specification\u001b[1m\u001b[22m \u001b[36m────────────────────────────────────────────────────────────────────────────────────────────────────────\u001b[39m\n",
      "\u001b[1mDelimiter:\u001b[22m \"\\t\"\n",
      "\u001b[31mchr\u001b[39m (3): SNP, A1, A2\n",
      "\u001b[32mdbl\u001b[39m (4): Z, N, chi2, P\n",
      "\n",
      "\n",
      "\u001b[36mℹ\u001b[39m Use \u001b[30m\u001b[47m\u001b[30m\u001b[47m`spec()`\u001b[47m\u001b[30m\u001b[49m\u001b[39m to retrieve the full column specification for this data.\n",
      "\u001b[36mℹ\u001b[39m Specify the column types or set \u001b[30m\u001b[47m\u001b[30m\u001b[47m`show_col_types = FALSE`\u001b[47m\u001b[30m\u001b[49m\u001b[39m to quiet this message.\n",
      "\n",
      "\u001b[1m\u001b[1mRows: \u001b[1m\u001b[22m\u001b[34m\u001b[34m1037026\u001b[34m\u001b[39m \u001b[1m\u001b[1mColumns: \u001b[1m\u001b[22m\u001b[34m\u001b[34m7\u001b[34m\u001b[39m\n",
      "\n",
      "\u001b[36m──\u001b[39m \u001b[1m\u001b[1mColumn specification\u001b[1m\u001b[22m \u001b[36m────────────────────────────────────────────────────────────────────────────────────────────────────────\u001b[39m\n",
      "\u001b[1mDelimiter:\u001b[22m \"\\t\"\n",
      "\u001b[31mchr\u001b[39m (3): SNP, A1, A2\n",
      "\u001b[32mdbl\u001b[39m (4): Z, N, chi2, P\n",
      "\n",
      "\n",
      "\u001b[36mℹ\u001b[39m Use \u001b[30m\u001b[47m\u001b[30m\u001b[47m`spec()`\u001b[47m\u001b[30m\u001b[49m\u001b[39m to retrieve the full column specification for this data.\n",
      "\u001b[36mℹ\u001b[39m Specify the column types or set \u001b[30m\u001b[47m\u001b[30m\u001b[47m`show_col_types = FALSE`\u001b[47m\u001b[30m\u001b[49m\u001b[39m to quiet this message.\n",
      "\n"
     ]
    },
    {
     "name": "stdout",
     "output_type": "stream",
     "text": [
      "Formatting X1\n",
      "There are  961046  variants.\n",
      "Removing  0  duplicated variants leaving  961046 variants.\n",
      "No variants have illegal alleles.\n",
      "Removed  0  variants with ambiguous strand.\n",
      "Flipping strand and effect allele so A1 is always A\n",
      "Returning  961046  variants.\n",
      "Formatting X2\n",
      "There are  1037026  variants.\n",
      "Removing  0  duplicated variants leaving  1037026 variants.\n",
      "No variants have illegal alleles.\n",
      "Removed  0  variants with ambiguous strand.\n",
      "Flipping strand and effect allele so A1 is always A\n",
      "Returning  1037026  variants.\n",
      "After merging and removing variants with inconsistent alleles,  there are  908058  variants that are present in both studies and can be used with CAUSE.\n"
     ]
    },
    {
     "name": "stderr",
     "output_type": "stream",
     "text": [
      "Clumping HrI5h8, 49693 variants, using EUR population reference\n",
      "\n",
      "Removing 44358 of 49693 variants due to LD with other variants or absence from LD reference panel\n",
      "\n"
     ]
    },
    {
     "name": "stdout",
     "output_type": "stream",
     "text": [
      "Estimating CAUSE parameters with  908058  variants.\n",
      "1 0.2096545 \n",
      "2 0.001964804 \n",
      "3 8.197676e-05 \n",
      "4 3.445173e-06 \n",
      "5 1.449565e-07 \n",
      "6 6.197041e-09 \n",
      "Estimating CAUSE posteriors using  5335  variants.\n"
     ]
    },
    {
     "name": "stderr",
     "output_type": "stream",
     "text": [
      "Warning message:\n",
      "“'compare' is deprecated.\n",
      "Use 'loo_compare' instead.\n",
      "See help(\"Deprecated\")”\n"
     ]
    },
    {
     "name": "stdout",
     "output_type": "stream",
     "text": [
      "    user   system  elapsed \n",
      "5738.194 2427.067  693.523 \n",
      "Insomnia ~ Hair_Light_Brown \n"
     ]
    },
    {
     "name": "stderr",
     "output_type": "stream",
     "text": [
      "\u001b[1m\u001b[1mRows: \u001b[1m\u001b[22m\u001b[34m\u001b[34m1065149\u001b[34m\u001b[39m \u001b[1m\u001b[1mColumns: \u001b[1m\u001b[22m\u001b[34m\u001b[34m7\u001b[34m\u001b[39m\n",
      "\n",
      "\u001b[36m──\u001b[39m \u001b[1m\u001b[1mColumn specification\u001b[1m\u001b[22m \u001b[36m────────────────────────────────────────────────────────────────────────────────────────────────────────\u001b[39m\n",
      "\u001b[1mDelimiter:\u001b[22m \"\\t\"\n",
      "\u001b[31mchr\u001b[39m (3): SNP, A1, A2\n",
      "\u001b[32mdbl\u001b[39m (4): Z, N, chi2, P\n",
      "\n",
      "\n",
      "\u001b[36mℹ\u001b[39m Use \u001b[30m\u001b[47m\u001b[30m\u001b[47m`spec()`\u001b[47m\u001b[30m\u001b[49m\u001b[39m to retrieve the full column specification for this data.\n",
      "\u001b[36mℹ\u001b[39m Specify the column types or set \u001b[30m\u001b[47m\u001b[30m\u001b[47m`show_col_types = FALSE`\u001b[47m\u001b[30m\u001b[49m\u001b[39m to quiet this message.\n",
      "\n",
      "\u001b[1m\u001b[1mRows: \u001b[1m\u001b[22m\u001b[34m\u001b[34m1037742\u001b[34m\u001b[39m \u001b[1m\u001b[1mColumns: \u001b[1m\u001b[22m\u001b[34m\u001b[34m7\u001b[34m\u001b[39m\n",
      "\n",
      "\u001b[36m──\u001b[39m \u001b[1m\u001b[1mColumn specification\u001b[1m\u001b[22m \u001b[36m────────────────────────────────────────────────────────────────────────────────────────────────────────\u001b[39m\n",
      "\u001b[1mDelimiter:\u001b[22m \"\\t\"\n",
      "\u001b[31mchr\u001b[39m (3): SNP, A1, A2\n",
      "\u001b[32mdbl\u001b[39m (4): Z, N, chi2, P\n",
      "\n",
      "\n",
      "\u001b[36mℹ\u001b[39m Use \u001b[30m\u001b[47m\u001b[30m\u001b[47m`spec()`\u001b[47m\u001b[30m\u001b[49m\u001b[39m to retrieve the full column specification for this data.\n",
      "\u001b[36mℹ\u001b[39m Specify the column types or set \u001b[30m\u001b[47m\u001b[30m\u001b[47m`show_col_types = FALSE`\u001b[47m\u001b[30m\u001b[49m\u001b[39m to quiet this message.\n",
      "\n"
     ]
    },
    {
     "name": "stdout",
     "output_type": "stream",
     "text": [
      "Formatting X1\n",
      "There are  1065149  variants.\n",
      "Removing  0  duplicated variants leaving  1065149 variants.\n",
      "No variants have illegal alleles.\n",
      "Removed  0  variants with ambiguous strand.\n",
      "Flipping strand and effect allele so A1 is always A\n",
      "Returning  1065149  variants.\n",
      "Formatting X2\n",
      "There are  1037742  variants.\n",
      "Removing  0  duplicated variants leaving  1037742 variants.\n",
      "No variants have illegal alleles.\n",
      "Removed  0  variants with ambiguous strand.\n",
      "Flipping strand and effect allele so A1 is always A\n",
      "Returning  1037742  variants.\n",
      "After merging and removing variants with inconsistent alleles,  there are  1027467  variants that are present in both studies and can be used with CAUSE.\n"
     ]
    },
    {
     "name": "stderr",
     "output_type": "stream",
     "text": [
      "Clumping S3cgv9, 14209 variants, using EUR population reference\n",
      "\n",
      "Removing 12450 of 14209 variants due to LD with other variants or absence from LD reference panel\n",
      "\n"
     ]
    },
    {
     "name": "stdout",
     "output_type": "stream",
     "text": [
      "Estimating CAUSE parameters with  1000000  variants.\n",
      "1 0.01169109 \n",
      "2 8.196253e-06 \n",
      "3 8.039556e-09 \n",
      "Estimating CAUSE posteriors using  1759  variants.\n"
     ]
    },
    {
     "name": "stderr",
     "output_type": "stream",
     "text": [
      "Warning message:\n",
      "“'compare' is deprecated.\n",
      "Use 'loo_compare' instead.\n",
      "See help(\"Deprecated\")”\n"
     ]
    },
    {
     "name": "stdout",
     "output_type": "stream",
     "text": [
      "    user   system  elapsed \n",
      "2157.260 1539.632  396.744 \n",
      "Insomnia ~ Hair_Dark_Brown \n"
     ]
    },
    {
     "name": "stderr",
     "output_type": "stream",
     "text": [
      "\u001b[1m\u001b[1mRows: \u001b[1m\u001b[22m\u001b[34m\u001b[34m1065149\u001b[34m\u001b[39m \u001b[1m\u001b[1mColumns: \u001b[1m\u001b[22m\u001b[34m\u001b[34m7\u001b[34m\u001b[39m\n",
      "\n",
      "\u001b[36m──\u001b[39m \u001b[1m\u001b[1mColumn specification\u001b[1m\u001b[22m \u001b[36m────────────────────────────────────────────────────────────────────────────────────────────────────────\u001b[39m\n",
      "\u001b[1mDelimiter:\u001b[22m \"\\t\"\n",
      "\u001b[31mchr\u001b[39m (3): SNP, A1, A2\n",
      "\u001b[32mdbl\u001b[39m (4): Z, N, chi2, P\n",
      "\n",
      "\n",
      "\u001b[36mℹ\u001b[39m Use \u001b[30m\u001b[47m\u001b[30m\u001b[47m`spec()`\u001b[47m\u001b[30m\u001b[49m\u001b[39m to retrieve the full column specification for this data.\n",
      "\u001b[36mℹ\u001b[39m Specify the column types or set \u001b[30m\u001b[47m\u001b[30m\u001b[47m`show_col_types = FALSE`\u001b[47m\u001b[30m\u001b[49m\u001b[39m to quiet this message.\n",
      "\n",
      "\u001b[1m\u001b[1mRows: \u001b[1m\u001b[22m\u001b[34m\u001b[34m1037381\u001b[34m\u001b[39m \u001b[1m\u001b[1mColumns: \u001b[1m\u001b[22m\u001b[34m\u001b[34m7\u001b[34m\u001b[39m\n",
      "\n",
      "\u001b[36m──\u001b[39m \u001b[1m\u001b[1mColumn specification\u001b[1m\u001b[22m \u001b[36m────────────────────────────────────────────────────────────────────────────────────────────────────────\u001b[39m\n",
      "\u001b[1mDelimiter:\u001b[22m \"\\t\"\n",
      "\u001b[31mchr\u001b[39m (3): SNP, A1, A2\n",
      "\u001b[32mdbl\u001b[39m (4): Z, N, chi2, P\n",
      "\n",
      "\n",
      "\u001b[36mℹ\u001b[39m Use \u001b[30m\u001b[47m\u001b[30m\u001b[47m`spec()`\u001b[47m\u001b[30m\u001b[49m\u001b[39m to retrieve the full column specification for this data.\n",
      "\u001b[36mℹ\u001b[39m Specify the column types or set \u001b[30m\u001b[47m\u001b[30m\u001b[47m`show_col_types = FALSE`\u001b[47m\u001b[30m\u001b[49m\u001b[39m to quiet this message.\n",
      "\n"
     ]
    },
    {
     "name": "stdout",
     "output_type": "stream",
     "text": [
      "Formatting X1\n",
      "There are  1065149  variants.\n",
      "Removing  0  duplicated variants leaving  1065149 variants.\n",
      "No variants have illegal alleles.\n",
      "Removed  0  variants with ambiguous strand.\n",
      "Flipping strand and effect allele so A1 is always A\n",
      "Returning  1065149  variants.\n",
      "Formatting X2\n",
      "There are  1037381  variants.\n",
      "Removing  0  duplicated variants leaving  1037381 variants.\n",
      "No variants have illegal alleles.\n",
      "Removed  0  variants with ambiguous strand.\n",
      "Flipping strand and effect allele so A1 is always A\n",
      "Returning  1037381  variants.\n",
      "After merging and removing variants with inconsistent alleles,  there are  1027106  variants that are present in both studies and can be used with CAUSE.\n"
     ]
    },
    {
     "name": "stderr",
     "output_type": "stream",
     "text": [
      "Clumping Li1jFU, 14192 variants, using EUR population reference\n",
      "\n",
      "Removing 12433 of 14192 variants due to LD with other variants or absence from LD reference panel\n",
      "\n"
     ]
    },
    {
     "name": "stdout",
     "output_type": "stream",
     "text": [
      "Estimating CAUSE parameters with  1000000  variants.\n",
      "1 0.004055352 \n",
      "2 4.173334e-06 \n",
      "3 5.097081e-09 \n",
      "Estimating CAUSE posteriors using  1759  variants.\n"
     ]
    },
    {
     "name": "stderr",
     "output_type": "stream",
     "text": [
      "Warning message:\n",
      "“'compare' is deprecated.\n",
      "Use 'loo_compare' instead.\n",
      "See help(\"Deprecated\")”\n"
     ]
    },
    {
     "name": "stdout",
     "output_type": "stream",
     "text": [
      "    user   system  elapsed \n",
      "2144.123 1591.202  399.735 \n",
      "Insomnia ~ Hair_Black \n"
     ]
    },
    {
     "name": "stderr",
     "output_type": "stream",
     "text": [
      "\u001b[1m\u001b[1mRows: \u001b[1m\u001b[22m\u001b[34m\u001b[34m1065149\u001b[34m\u001b[39m \u001b[1m\u001b[1mColumns: \u001b[1m\u001b[22m\u001b[34m\u001b[34m7\u001b[34m\u001b[39m\n",
      "\n",
      "\u001b[36m──\u001b[39m \u001b[1m\u001b[1mColumn specification\u001b[1m\u001b[22m \u001b[36m────────────────────────────────────────────────────────────────────────────────────────────────────────\u001b[39m\n",
      "\u001b[1mDelimiter:\u001b[22m \"\\t\"\n",
      "\u001b[31mchr\u001b[39m (3): SNP, A1, A2\n",
      "\u001b[32mdbl\u001b[39m (4): Z, N, chi2, P\n",
      "\n",
      "\n",
      "\u001b[36mℹ\u001b[39m Use \u001b[30m\u001b[47m\u001b[30m\u001b[47m`spec()`\u001b[47m\u001b[30m\u001b[49m\u001b[39m to retrieve the full column specification for this data.\n",
      "\u001b[36mℹ\u001b[39m Specify the column types or set \u001b[30m\u001b[47m\u001b[30m\u001b[47m`show_col_types = FALSE`\u001b[47m\u001b[30m\u001b[49m\u001b[39m to quiet this message.\n",
      "\n",
      "\u001b[1m\u001b[1mRows: \u001b[1m\u001b[22m\u001b[34m\u001b[34m1037702\u001b[34m\u001b[39m \u001b[1m\u001b[1mColumns: \u001b[1m\u001b[22m\u001b[34m\u001b[34m7\u001b[34m\u001b[39m\n",
      "\n",
      "\u001b[36m──\u001b[39m \u001b[1m\u001b[1mColumn specification\u001b[1m\u001b[22m \u001b[36m────────────────────────────────────────────────────────────────────────────────────────────────────────\u001b[39m\n",
      "\u001b[1mDelimiter:\u001b[22m \"\\t\"\n",
      "\u001b[31mchr\u001b[39m (3): SNP, A1, A2\n",
      "\u001b[32mdbl\u001b[39m (4): Z, N, chi2, P\n",
      "\n",
      "\n",
      "\u001b[36mℹ\u001b[39m Use \u001b[30m\u001b[47m\u001b[30m\u001b[47m`spec()`\u001b[47m\u001b[30m\u001b[49m\u001b[39m to retrieve the full column specification for this data.\n",
      "\u001b[36mℹ\u001b[39m Specify the column types or set \u001b[30m\u001b[47m\u001b[30m\u001b[47m`show_col_types = FALSE`\u001b[47m\u001b[30m\u001b[49m\u001b[39m to quiet this message.\n",
      "\n"
     ]
    },
    {
     "name": "stdout",
     "output_type": "stream",
     "text": [
      "Formatting X1\n",
      "There are  1065149  variants.\n",
      "Removing  0  duplicated variants leaving  1065149 variants.\n",
      "No variants have illegal alleles.\n",
      "Removed  0  variants with ambiguous strand.\n",
      "Flipping strand and effect allele so A1 is always A\n",
      "Returning  1065149  variants.\n",
      "Formatting X2\n",
      "There are  1037702  variants.\n",
      "Removing  0  duplicated variants leaving  1037702 variants.\n",
      "No variants have illegal alleles.\n",
      "Removed  0  variants with ambiguous strand.\n",
      "Flipping strand and effect allele so A1 is always A\n",
      "Returning  1037702  variants.\n",
      "After merging and removing variants with inconsistent alleles,  there are  1027427  variants that are present in both studies and can be used with CAUSE.\n"
     ]
    },
    {
     "name": "stderr",
     "output_type": "stream",
     "text": [
      "Clumping rWHNgn, 14209 variants, using EUR population reference\n",
      "\n",
      "Removing 12450 of 14209 variants due to LD with other variants or absence from LD reference panel\n",
      "\n"
     ]
    },
    {
     "name": "stdout",
     "output_type": "stream",
     "text": [
      "Estimating CAUSE parameters with  1000000  variants.\n",
      "1 0.0212655 \n",
      "2 2.469724e-05 \n",
      "3 4.0365e-08 \n",
      "Estimating CAUSE posteriors using  1759  variants.\n"
     ]
    },
    {
     "name": "stderr",
     "output_type": "stream",
     "text": [
      "Warning message:\n",
      "“'compare' is deprecated.\n",
      "Use 'loo_compare' instead.\n",
      "See help(\"Deprecated\")”\n"
     ]
    },
    {
     "name": "stdout",
     "output_type": "stream",
     "text": [
      "    user   system  elapsed \n",
      "1987.760 1480.380  378.244 \n",
      "Insomnia ~ Hair_Blonde \n"
     ]
    },
    {
     "name": "stderr",
     "output_type": "stream",
     "text": [
      "\u001b[1m\u001b[1mRows: \u001b[1m\u001b[22m\u001b[34m\u001b[34m1065149\u001b[34m\u001b[39m \u001b[1m\u001b[1mColumns: \u001b[1m\u001b[22m\u001b[34m\u001b[34m7\u001b[34m\u001b[39m\n",
      "\n",
      "\u001b[36m──\u001b[39m \u001b[1m\u001b[1mColumn specification\u001b[1m\u001b[22m \u001b[36m────────────────────────────────────────────────────────────────────────────────────────────────────────\u001b[39m\n",
      "\u001b[1mDelimiter:\u001b[22m \"\\t\"\n",
      "\u001b[31mchr\u001b[39m (3): SNP, A1, A2\n",
      "\u001b[32mdbl\u001b[39m (4): Z, N, chi2, P\n",
      "\n",
      "\n",
      "\u001b[36mℹ\u001b[39m Use \u001b[30m\u001b[47m\u001b[30m\u001b[47m`spec()`\u001b[47m\u001b[30m\u001b[49m\u001b[39m to retrieve the full column specification for this data.\n",
      "\u001b[36mℹ\u001b[39m Specify the column types or set \u001b[30m\u001b[47m\u001b[30m\u001b[47m`show_col_types = FALSE`\u001b[47m\u001b[30m\u001b[49m\u001b[39m to quiet this message.\n",
      "\n",
      "\u001b[1m\u001b[1mRows: \u001b[1m\u001b[22m\u001b[34m\u001b[34m1037533\u001b[34m\u001b[39m \u001b[1m\u001b[1mColumns: \u001b[1m\u001b[22m\u001b[34m\u001b[34m7\u001b[34m\u001b[39m\n",
      "\n",
      "\u001b[36m──\u001b[39m \u001b[1m\u001b[1mColumn specification\u001b[1m\u001b[22m \u001b[36m────────────────────────────────────────────────────────────────────────────────────────────────────────\u001b[39m\n",
      "\u001b[1mDelimiter:\u001b[22m \"\\t\"\n",
      "\u001b[31mchr\u001b[39m (3): SNP, A1, A2\n",
      "\u001b[32mdbl\u001b[39m (4): Z, N, chi2, P\n",
      "\n",
      "\n",
      "\u001b[36mℹ\u001b[39m Use \u001b[30m\u001b[47m\u001b[30m\u001b[47m`spec()`\u001b[47m\u001b[30m\u001b[49m\u001b[39m to retrieve the full column specification for this data.\n",
      "\u001b[36mℹ\u001b[39m Specify the column types or set \u001b[30m\u001b[47m\u001b[30m\u001b[47m`show_col_types = FALSE`\u001b[47m\u001b[30m\u001b[49m\u001b[39m to quiet this message.\n",
      "\n"
     ]
    },
    {
     "name": "stdout",
     "output_type": "stream",
     "text": [
      "Formatting X1\n",
      "There are  1065149  variants.\n",
      "Removing  0  duplicated variants leaving  1065149 variants.\n",
      "No variants have illegal alleles.\n",
      "Removed  0  variants with ambiguous strand.\n",
      "Flipping strand and effect allele so A1 is always A\n",
      "Returning  1065149  variants.\n",
      "Formatting X2\n",
      "There are  1037533  variants.\n",
      "Removing  0  duplicated variants leaving  1037533 variants.\n",
      "No variants have illegal alleles.\n",
      "Removed  0  variants with ambiguous strand.\n",
      "Flipping strand and effect allele so A1 is always A\n",
      "Returning  1037533  variants.\n",
      "After merging and removing variants with inconsistent alleles,  there are  1027258  variants that are present in both studies and can be used with CAUSE.\n"
     ]
    },
    {
     "name": "stderr",
     "output_type": "stream",
     "text": [
      "Clumping 5m5HIM, 14209 variants, using EUR population reference\n",
      "\n",
      "Removing 12450 of 14209 variants due to LD with other variants or absence from LD reference panel\n",
      "\n"
     ]
    },
    {
     "name": "stdout",
     "output_type": "stream",
     "text": [
      "Estimating CAUSE parameters with  1000000  variants.\n",
      "1 0.00402164 \n",
      "2 3.00939e-06 \n",
      "3 3.636327e-09 \n",
      "Estimating CAUSE posteriors using  1759  variants.\n"
     ]
    },
    {
     "name": "stderr",
     "output_type": "stream",
     "text": [
      "Warning message:\n",
      "“'compare' is deprecated.\n",
      "Use 'loo_compare' instead.\n",
      "See help(\"Deprecated\")”\n"
     ]
    },
    {
     "name": "stdout",
     "output_type": "stream",
     "text": [
      "    user   system  elapsed \n",
      "1910.644 1445.158  351.571 \n",
      "Insomnia ~ Tanning \n"
     ]
    },
    {
     "name": "stderr",
     "output_type": "stream",
     "text": [
      "\u001b[1m\u001b[1mRows: \u001b[1m\u001b[22m\u001b[34m\u001b[34m1065149\u001b[34m\u001b[39m \u001b[1m\u001b[1mColumns: \u001b[1m\u001b[22m\u001b[34m\u001b[34m7\u001b[34m\u001b[39m\n",
      "\n",
      "\u001b[36m──\u001b[39m \u001b[1m\u001b[1mColumn specification\u001b[1m\u001b[22m \u001b[36m────────────────────────────────────────────────────────────────────────────────────────────────────────\u001b[39m\n",
      "\u001b[1mDelimiter:\u001b[22m \"\\t\"\n",
      "\u001b[31mchr\u001b[39m (3): SNP, A1, A2\n",
      "\u001b[32mdbl\u001b[39m (4): Z, N, chi2, P\n",
      "\n",
      "\n",
      "\u001b[36mℹ\u001b[39m Use \u001b[30m\u001b[47m\u001b[30m\u001b[47m`spec()`\u001b[47m\u001b[30m\u001b[49m\u001b[39m to retrieve the full column specification for this data.\n",
      "\u001b[36mℹ\u001b[39m Specify the column types or set \u001b[30m\u001b[47m\u001b[30m\u001b[47m`show_col_types = FALSE`\u001b[47m\u001b[30m\u001b[49m\u001b[39m to quiet this message.\n",
      "\n",
      "\u001b[1m\u001b[1mRows: \u001b[1m\u001b[22m\u001b[34m\u001b[34m1037026\u001b[34m\u001b[39m \u001b[1m\u001b[1mColumns: \u001b[1m\u001b[22m\u001b[34m\u001b[34m7\u001b[34m\u001b[39m\n",
      "\n",
      "\u001b[36m──\u001b[39m \u001b[1m\u001b[1mColumn specification\u001b[1m\u001b[22m \u001b[36m────────────────────────────────────────────────────────────────────────────────────────────────────────\u001b[39m\n",
      "\u001b[1mDelimiter:\u001b[22m \"\\t\"\n",
      "\u001b[31mchr\u001b[39m (3): SNP, A1, A2\n",
      "\u001b[32mdbl\u001b[39m (4): Z, N, chi2, P\n",
      "\n",
      "\n",
      "\u001b[36mℹ\u001b[39m Use \u001b[30m\u001b[47m\u001b[30m\u001b[47m`spec()`\u001b[47m\u001b[30m\u001b[49m\u001b[39m to retrieve the full column specification for this data.\n",
      "\u001b[36mℹ\u001b[39m Specify the column types or set \u001b[30m\u001b[47m\u001b[30m\u001b[47m`show_col_types = FALSE`\u001b[47m\u001b[30m\u001b[49m\u001b[39m to quiet this message.\n",
      "\n"
     ]
    },
    {
     "name": "stdout",
     "output_type": "stream",
     "text": [
      "Formatting X1\n",
      "There are  1065149  variants.\n",
      "Removing  0  duplicated variants leaving  1065149 variants.\n",
      "No variants have illegal alleles.\n",
      "Removed  0  variants with ambiguous strand.\n",
      "Flipping strand and effect allele so A1 is always A\n",
      "Returning  1065149  variants.\n",
      "Formatting X2\n",
      "There are  1037026  variants.\n",
      "Removing  0  duplicated variants leaving  1037026 variants.\n",
      "No variants have illegal alleles.\n",
      "Removed  0  variants with ambiguous strand.\n",
      "Flipping strand and effect allele so A1 is always A\n",
      "Returning  1037026  variants.\n",
      "After merging and removing variants with inconsistent alleles,  there are  1026753  variants that are present in both studies and can be used with CAUSE.\n"
     ]
    },
    {
     "name": "stderr",
     "output_type": "stream",
     "text": [
      "Clumping KHn6aR, 14188 variants, using EUR population reference\n",
      "\n",
      "Removing 12430 of 14188 variants due to LD with other variants or absence from LD reference panel\n",
      "\n"
     ]
    },
    {
     "name": "stdout",
     "output_type": "stream",
     "text": [
      "Estimating CAUSE parameters with  1000000  variants.\n",
      "1 0.03100184 \n",
      "2 7.197237e-05 \n",
      "3 2.404762e-07 \n",
      "4 1.466657e-09 \n",
      "Estimating CAUSE posteriors using  1758  variants.\n"
     ]
    },
    {
     "name": "stderr",
     "output_type": "stream",
     "text": [
      "Warning message:\n",
      "“'compare' is deprecated.\n",
      "Use 'loo_compare' instead.\n",
      "See help(\"Deprecated\")”\n"
     ]
    },
    {
     "name": "stdout",
     "output_type": "stream",
     "text": [
      "    user   system  elapsed \n",
      "2647.887 1881.397  473.040 \n",
      "Neuroticism ~ Hair_Light_Brown \n"
     ]
    },
    {
     "name": "stderr",
     "output_type": "stream",
     "text": [
      "\u001b[1m\u001b[1mRows: \u001b[1m\u001b[22m\u001b[34m\u001b[34m1037824\u001b[34m\u001b[39m \u001b[1m\u001b[1mColumns: \u001b[1m\u001b[22m\u001b[34m\u001b[34m7\u001b[34m\u001b[39m\n",
      "\n",
      "\u001b[36m──\u001b[39m \u001b[1m\u001b[1mColumn specification\u001b[1m\u001b[22m \u001b[36m────────────────────────────────────────────────────────────────────────────────────────────────────────\u001b[39m\n",
      "\u001b[1mDelimiter:\u001b[22m \"\\t\"\n",
      "\u001b[31mchr\u001b[39m (3): SNP, A1, A2\n",
      "\u001b[32mdbl\u001b[39m (4): Z, N, chi2, P\n",
      "\n",
      "\n",
      "\u001b[36mℹ\u001b[39m Use \u001b[30m\u001b[47m\u001b[30m\u001b[47m`spec()`\u001b[47m\u001b[30m\u001b[49m\u001b[39m to retrieve the full column specification for this data.\n",
      "\u001b[36mℹ\u001b[39m Specify the column types or set \u001b[30m\u001b[47m\u001b[30m\u001b[47m`show_col_types = FALSE`\u001b[47m\u001b[30m\u001b[49m\u001b[39m to quiet this message.\n",
      "\n",
      "\u001b[1m\u001b[1mRows: \u001b[1m\u001b[22m\u001b[34m\u001b[34m1037742\u001b[34m\u001b[39m \u001b[1m\u001b[1mColumns: \u001b[1m\u001b[22m\u001b[34m\u001b[34m7\u001b[34m\u001b[39m\n",
      "\n",
      "\u001b[36m──\u001b[39m \u001b[1m\u001b[1mColumn specification\u001b[1m\u001b[22m \u001b[36m────────────────────────────────────────────────────────────────────────────────────────────────────────\u001b[39m\n",
      "\u001b[1mDelimiter:\u001b[22m \"\\t\"\n",
      "\u001b[31mchr\u001b[39m (3): SNP, A1, A2\n",
      "\u001b[32mdbl\u001b[39m (4): Z, N, chi2, P\n",
      "\n",
      "\n",
      "\u001b[36mℹ\u001b[39m Use \u001b[30m\u001b[47m\u001b[30m\u001b[47m`spec()`\u001b[47m\u001b[30m\u001b[49m\u001b[39m to retrieve the full column specification for this data.\n",
      "\u001b[36mℹ\u001b[39m Specify the column types or set \u001b[30m\u001b[47m\u001b[30m\u001b[47m`show_col_types = FALSE`\u001b[47m\u001b[30m\u001b[49m\u001b[39m to quiet this message.\n",
      "\n"
     ]
    },
    {
     "name": "stdout",
     "output_type": "stream",
     "text": [
      "Formatting X1\n",
      "There are  1037824  variants.\n",
      "Removing  0  duplicated variants leaving  1037824 variants.\n",
      "No variants have illegal alleles.\n",
      "Removed  0  variants with ambiguous strand.\n",
      "Flipping strand and effect allele so A1 is always A\n",
      "Returning  1037824  variants.\n",
      "Formatting X2\n",
      "There are  1037742  variants.\n",
      "Removing  0  duplicated variants leaving  1037742 variants.\n",
      "No variants have illegal alleles.\n",
      "Removed  0  variants with ambiguous strand.\n",
      "Flipping strand and effect allele so A1 is always A\n",
      "Returning  1037742  variants.\n",
      "After merging and removing variants with inconsistent alleles,  there are  1037742  variants that are present in both studies and can be used with CAUSE.\n"
     ]
    },
    {
     "name": "stderr",
     "output_type": "stream",
     "text": [
      "Clumping R4R3Wg, 19022 variants, using EUR population reference\n",
      "\n",
      "Removing 16772 of 19022 variants due to LD with other variants or absence from LD reference panel\n",
      "\n"
     ]
    },
    {
     "name": "stdout",
     "output_type": "stream",
     "text": [
      "Estimating CAUSE parameters with  1000000  variants.\n",
      "1 0.04355988 \n",
      "2 4.316164e-05 \n",
      "3 1.516872e-07 \n",
      "4 6.448838e-09 \n",
      "Estimating CAUSE posteriors using  2250  variants.\n"
     ]
    },
    {
     "name": "stderr",
     "output_type": "stream",
     "text": [
      "Warning message:\n",
      "“'compare' is deprecated.\n",
      "Use 'loo_compare' instead.\n",
      "See help(\"Deprecated\")”\n"
     ]
    },
    {
     "name": "stdout",
     "output_type": "stream",
     "text": [
      "    user   system  elapsed \n",
      "3424.347 2211.940  540.648 \n",
      "Neuroticism ~ Hair_Dark_Brown \n"
     ]
    },
    {
     "name": "stderr",
     "output_type": "stream",
     "text": [
      "\u001b[1m\u001b[1mRows: \u001b[1m\u001b[22m\u001b[34m\u001b[34m1037824\u001b[34m\u001b[39m \u001b[1m\u001b[1mColumns: \u001b[1m\u001b[22m\u001b[34m\u001b[34m7\u001b[34m\u001b[39m\n",
      "\n",
      "\u001b[36m──\u001b[39m \u001b[1m\u001b[1mColumn specification\u001b[1m\u001b[22m \u001b[36m────────────────────────────────────────────────────────────────────────────────────────────────────────\u001b[39m\n",
      "\u001b[1mDelimiter:\u001b[22m \"\\t\"\n",
      "\u001b[31mchr\u001b[39m (3): SNP, A1, A2\n",
      "\u001b[32mdbl\u001b[39m (4): Z, N, chi2, P\n",
      "\n",
      "\n",
      "\u001b[36mℹ\u001b[39m Use \u001b[30m\u001b[47m\u001b[30m\u001b[47m`spec()`\u001b[47m\u001b[30m\u001b[49m\u001b[39m to retrieve the full column specification for this data.\n",
      "\u001b[36mℹ\u001b[39m Specify the column types or set \u001b[30m\u001b[47m\u001b[30m\u001b[47m`show_col_types = FALSE`\u001b[47m\u001b[30m\u001b[49m\u001b[39m to quiet this message.\n",
      "\n",
      "\u001b[1m\u001b[1mRows: \u001b[1m\u001b[22m\u001b[34m\u001b[34m1037381\u001b[34m\u001b[39m \u001b[1m\u001b[1mColumns: \u001b[1m\u001b[22m\u001b[34m\u001b[34m7\u001b[34m\u001b[39m\n",
      "\n",
      "\u001b[36m──\u001b[39m \u001b[1m\u001b[1mColumn specification\u001b[1m\u001b[22m \u001b[36m────────────────────────────────────────────────────────────────────────────────────────────────────────\u001b[39m\n",
      "\u001b[1mDelimiter:\u001b[22m \"\\t\"\n",
      "\u001b[31mchr\u001b[39m (3): SNP, A1, A2\n",
      "\u001b[32mdbl\u001b[39m (4): Z, N, chi2, P\n",
      "\n",
      "\n",
      "\u001b[36mℹ\u001b[39m Use \u001b[30m\u001b[47m\u001b[30m\u001b[47m`spec()`\u001b[47m\u001b[30m\u001b[49m\u001b[39m to retrieve the full column specification for this data.\n",
      "\u001b[36mℹ\u001b[39m Specify the column types or set \u001b[30m\u001b[47m\u001b[30m\u001b[47m`show_col_types = FALSE`\u001b[47m\u001b[30m\u001b[49m\u001b[39m to quiet this message.\n",
      "\n"
     ]
    },
    {
     "name": "stdout",
     "output_type": "stream",
     "text": [
      "Formatting X1\n",
      "There are  1037824  variants.\n",
      "Removing  0  duplicated variants leaving  1037824 variants.\n",
      "No variants have illegal alleles.\n",
      "Removed  0  variants with ambiguous strand.\n",
      "Flipping strand and effect allele so A1 is always A\n",
      "Returning  1037824  variants.\n",
      "Formatting X2\n",
      "There are  1037381  variants.\n",
      "Removing  0  duplicated variants leaving  1037381 variants.\n",
      "No variants have illegal alleles.\n",
      "Removed  0  variants with ambiguous strand.\n",
      "Flipping strand and effect allele so A1 is always A\n",
      "Returning  1037381  variants.\n",
      "After merging and removing variants with inconsistent alleles,  there are  1037381  variants that are present in both studies and can be used with CAUSE.\n"
     ]
    },
    {
     "name": "stderr",
     "output_type": "stream",
     "text": [
      "Clumping XxgrAN, 18973 variants, using EUR population reference\n",
      "\n",
      "Removing 16725 of 18973 variants due to LD with other variants or absence from LD reference panel\n",
      "\n"
     ]
    },
    {
     "name": "stdout",
     "output_type": "stream",
     "text": [
      "Estimating CAUSE parameters with  1000000  variants.\n",
      "1 0.04165313 \n",
      "2 5.962198e-05 \n",
      "3 1.958629e-07 \n",
      "4 8.068702e-10 \n",
      "Estimating CAUSE posteriors using  2248  variants.\n"
     ]
    },
    {
     "name": "stderr",
     "output_type": "stream",
     "text": [
      "Warning message:\n",
      "“'compare' is deprecated.\n",
      "Use 'loo_compare' instead.\n",
      "See help(\"Deprecated\")”\n"
     ]
    },
    {
     "name": "stdout",
     "output_type": "stream",
     "text": [
      "    user   system  elapsed \n",
      "2943.472 2013.653  494.087 \n",
      "Neuroticism ~ Hair_Black \n"
     ]
    },
    {
     "name": "stderr",
     "output_type": "stream",
     "text": [
      "\u001b[1m\u001b[1mRows: \u001b[1m\u001b[22m\u001b[34m\u001b[34m1037824\u001b[34m\u001b[39m \u001b[1m\u001b[1mColumns: \u001b[1m\u001b[22m\u001b[34m\u001b[34m7\u001b[34m\u001b[39m\n",
      "\n",
      "\u001b[36m──\u001b[39m \u001b[1m\u001b[1mColumn specification\u001b[1m\u001b[22m \u001b[36m────────────────────────────────────────────────────────────────────────────────────────────────────────\u001b[39m\n",
      "\u001b[1mDelimiter:\u001b[22m \"\\t\"\n",
      "\u001b[31mchr\u001b[39m (3): SNP, A1, A2\n",
      "\u001b[32mdbl\u001b[39m (4): Z, N, chi2, P\n",
      "\n",
      "\n",
      "\u001b[36mℹ\u001b[39m Use \u001b[30m\u001b[47m\u001b[30m\u001b[47m`spec()`\u001b[47m\u001b[30m\u001b[49m\u001b[39m to retrieve the full column specification for this data.\n",
      "\u001b[36mℹ\u001b[39m Specify the column types or set \u001b[30m\u001b[47m\u001b[30m\u001b[47m`show_col_types = FALSE`\u001b[47m\u001b[30m\u001b[49m\u001b[39m to quiet this message.\n",
      "\n",
      "\u001b[1m\u001b[1mRows: \u001b[1m\u001b[22m\u001b[34m\u001b[34m1037702\u001b[34m\u001b[39m \u001b[1m\u001b[1mColumns: \u001b[1m\u001b[22m\u001b[34m\u001b[34m7\u001b[34m\u001b[39m\n",
      "\n",
      "\u001b[36m──\u001b[39m \u001b[1m\u001b[1mColumn specification\u001b[1m\u001b[22m \u001b[36m────────────────────────────────────────────────────────────────────────────────────────────────────────\u001b[39m\n",
      "\u001b[1mDelimiter:\u001b[22m \"\\t\"\n",
      "\u001b[31mchr\u001b[39m (3): SNP, A1, A2\n",
      "\u001b[32mdbl\u001b[39m (4): Z, N, chi2, P\n",
      "\n",
      "\n",
      "\u001b[36mℹ\u001b[39m Use \u001b[30m\u001b[47m\u001b[30m\u001b[47m`spec()`\u001b[47m\u001b[30m\u001b[49m\u001b[39m to retrieve the full column specification for this data.\n",
      "\u001b[36mℹ\u001b[39m Specify the column types or set \u001b[30m\u001b[47m\u001b[30m\u001b[47m`show_col_types = FALSE`\u001b[47m\u001b[30m\u001b[49m\u001b[39m to quiet this message.\n",
      "\n"
     ]
    },
    {
     "name": "stdout",
     "output_type": "stream",
     "text": [
      "Formatting X1\n",
      "There are  1037824  variants.\n",
      "Removing  0  duplicated variants leaving  1037824 variants.\n",
      "No variants have illegal alleles.\n",
      "Removed  0  variants with ambiguous strand.\n",
      "Flipping strand and effect allele so A1 is always A\n",
      "Returning  1037824  variants.\n",
      "Formatting X2\n",
      "There are  1037702  variants.\n",
      "Removing  0  duplicated variants leaving  1037702 variants.\n",
      "No variants have illegal alleles.\n",
      "Removed  0  variants with ambiguous strand.\n",
      "Flipping strand and effect allele so A1 is always A\n",
      "Returning  1037702  variants.\n",
      "After merging and removing variants with inconsistent alleles,  there are  1037702  variants that are present in both studies and can be used with CAUSE.\n"
     ]
    },
    {
     "name": "stderr",
     "output_type": "stream",
     "text": [
      "Clumping 0szPbu, 19017 variants, using EUR population reference\n",
      "\n",
      "Removing 16769 of 19017 variants due to LD with other variants or absence from LD reference panel\n",
      "\n"
     ]
    },
    {
     "name": "stdout",
     "output_type": "stream",
     "text": [
      "Estimating CAUSE parameters with  1000000  variants.\n",
      "1 0.07180445 \n",
      "2 8.5304e-05 \n",
      "3 5.74979e-07 \n",
      "4 2.27555e-09 \n",
      "Estimating CAUSE posteriors using  2248  variants.\n"
     ]
    },
    {
     "name": "stderr",
     "output_type": "stream",
     "text": [
      "Warning message:\n",
      "“'compare' is deprecated.\n",
      "Use 'loo_compare' instead.\n",
      "See help(\"Deprecated\")”\n"
     ]
    },
    {
     "name": "stdout",
     "output_type": "stream",
     "text": [
      "    user   system  elapsed \n",
      "2895.025 1920.060  465.847 \n",
      "Neuroticism ~ Hair_Blonde \n"
     ]
    },
    {
     "name": "stderr",
     "output_type": "stream",
     "text": [
      "\u001b[1m\u001b[1mRows: \u001b[1m\u001b[22m\u001b[34m\u001b[34m1037824\u001b[34m\u001b[39m \u001b[1m\u001b[1mColumns: \u001b[1m\u001b[22m\u001b[34m\u001b[34m7\u001b[34m\u001b[39m\n",
      "\n",
      "\u001b[36m──\u001b[39m \u001b[1m\u001b[1mColumn specification\u001b[1m\u001b[22m \u001b[36m────────────────────────────────────────────────────────────────────────────────────────────────────────\u001b[39m\n",
      "\u001b[1mDelimiter:\u001b[22m \"\\t\"\n",
      "\u001b[31mchr\u001b[39m (3): SNP, A1, A2\n",
      "\u001b[32mdbl\u001b[39m (4): Z, N, chi2, P\n",
      "\n",
      "\n",
      "\u001b[36mℹ\u001b[39m Use \u001b[30m\u001b[47m\u001b[30m\u001b[47m`spec()`\u001b[47m\u001b[30m\u001b[49m\u001b[39m to retrieve the full column specification for this data.\n",
      "\u001b[36mℹ\u001b[39m Specify the column types or set \u001b[30m\u001b[47m\u001b[30m\u001b[47m`show_col_types = FALSE`\u001b[47m\u001b[30m\u001b[49m\u001b[39m to quiet this message.\n",
      "\n",
      "\u001b[1m\u001b[1mRows: \u001b[1m\u001b[22m\u001b[34m\u001b[34m1037533\u001b[34m\u001b[39m \u001b[1m\u001b[1mColumns: \u001b[1m\u001b[22m\u001b[34m\u001b[34m7\u001b[34m\u001b[39m\n",
      "\n",
      "\u001b[36m──\u001b[39m \u001b[1m\u001b[1mColumn specification\u001b[1m\u001b[22m \u001b[36m────────────────────────────────────────────────────────────────────────────────────────────────────────\u001b[39m\n",
      "\u001b[1mDelimiter:\u001b[22m \"\\t\"\n",
      "\u001b[31mchr\u001b[39m (3): SNP, A1, A2\n",
      "\u001b[32mdbl\u001b[39m (4): Z, N, chi2, P\n",
      "\n",
      "\n",
      "\u001b[36mℹ\u001b[39m Use \u001b[30m\u001b[47m\u001b[30m\u001b[47m`spec()`\u001b[47m\u001b[30m\u001b[49m\u001b[39m to retrieve the full column specification for this data.\n",
      "\u001b[36mℹ\u001b[39m Specify the column types or set \u001b[30m\u001b[47m\u001b[30m\u001b[47m`show_col_types = FALSE`\u001b[47m\u001b[30m\u001b[49m\u001b[39m to quiet this message.\n",
      "\n"
     ]
    },
    {
     "name": "stdout",
     "output_type": "stream",
     "text": [
      "Formatting X1\n",
      "There are  1037824  variants.\n",
      "Removing  0  duplicated variants leaving  1037824 variants.\n",
      "No variants have illegal alleles.\n",
      "Removed  0  variants with ambiguous strand.\n",
      "Flipping strand and effect allele so A1 is always A\n",
      "Returning  1037824  variants.\n",
      "Formatting X2\n",
      "There are  1037533  variants.\n",
      "Removing  0  duplicated variants leaving  1037533 variants.\n",
      "No variants have illegal alleles.\n",
      "Removed  0  variants with ambiguous strand.\n",
      "Flipping strand and effect allele so A1 is always A\n",
      "Returning  1037533  variants.\n",
      "After merging and removing variants with inconsistent alleles,  there are  1037533  variants that are present in both studies and can be used with CAUSE.\n"
     ]
    },
    {
     "name": "stderr",
     "output_type": "stream",
     "text": [
      "Clumping ZNEz2X, 19018 variants, using EUR population reference\n",
      "\n",
      "Removing 16769 of 19018 variants due to LD with other variants or absence from LD reference panel\n",
      "\n"
     ]
    },
    {
     "name": "stdout",
     "output_type": "stream",
     "text": [
      "Estimating CAUSE parameters with  1000000  variants.\n",
      "1 0.0169748 \n",
      "2 2.135488e-05 \n",
      "3 2.820424e-08 \n",
      "Estimating CAUSE posteriors using  2249  variants.\n"
     ]
    },
    {
     "name": "stderr",
     "output_type": "stream",
     "text": [
      "Warning message:\n",
      "“'compare' is deprecated.\n",
      "Use 'loo_compare' instead.\n",
      "See help(\"Deprecated\")”\n"
     ]
    },
    {
     "name": "stdout",
     "output_type": "stream",
     "text": [
      "    user   system  elapsed \n",
      "2239.977 1639.488  383.011 \n",
      "Neuroticism ~ Tanning \n"
     ]
    },
    {
     "name": "stderr",
     "output_type": "stream",
     "text": [
      "\u001b[1m\u001b[1mRows: \u001b[1m\u001b[22m\u001b[34m\u001b[34m1037824\u001b[34m\u001b[39m \u001b[1m\u001b[1mColumns: \u001b[1m\u001b[22m\u001b[34m\u001b[34m7\u001b[34m\u001b[39m\n",
      "\n",
      "\u001b[36m──\u001b[39m \u001b[1m\u001b[1mColumn specification\u001b[1m\u001b[22m \u001b[36m────────────────────────────────────────────────────────────────────────────────────────────────────────\u001b[39m\n",
      "\u001b[1mDelimiter:\u001b[22m \"\\t\"\n",
      "\u001b[31mchr\u001b[39m (3): SNP, A1, A2\n",
      "\u001b[32mdbl\u001b[39m (4): Z, N, chi2, P\n",
      "\n",
      "\n",
      "\u001b[36mℹ\u001b[39m Use \u001b[30m\u001b[47m\u001b[30m\u001b[47m`spec()`\u001b[47m\u001b[30m\u001b[49m\u001b[39m to retrieve the full column specification for this data.\n",
      "\u001b[36mℹ\u001b[39m Specify the column types or set \u001b[30m\u001b[47m\u001b[30m\u001b[47m`show_col_types = FALSE`\u001b[47m\u001b[30m\u001b[49m\u001b[39m to quiet this message.\n",
      "\n",
      "\u001b[1m\u001b[1mRows: \u001b[1m\u001b[22m\u001b[34m\u001b[34m1037026\u001b[34m\u001b[39m \u001b[1m\u001b[1mColumns: \u001b[1m\u001b[22m\u001b[34m\u001b[34m7\u001b[34m\u001b[39m\n",
      "\n",
      "\u001b[36m──\u001b[39m \u001b[1m\u001b[1mColumn specification\u001b[1m\u001b[22m \u001b[36m────────────────────────────────────────────────────────────────────────────────────────────────────────\u001b[39m\n",
      "\u001b[1mDelimiter:\u001b[22m \"\\t\"\n",
      "\u001b[31mchr\u001b[39m (3): SNP, A1, A2\n",
      "\u001b[32mdbl\u001b[39m (4): Z, N, chi2, P\n",
      "\n",
      "\n",
      "\u001b[36mℹ\u001b[39m Use \u001b[30m\u001b[47m\u001b[30m\u001b[47m`spec()`\u001b[47m\u001b[30m\u001b[49m\u001b[39m to retrieve the full column specification for this data.\n",
      "\u001b[36mℹ\u001b[39m Specify the column types or set \u001b[30m\u001b[47m\u001b[30m\u001b[47m`show_col_types = FALSE`\u001b[47m\u001b[30m\u001b[49m\u001b[39m to quiet this message.\n",
      "\n"
     ]
    },
    {
     "name": "stdout",
     "output_type": "stream",
     "text": [
      "Formatting X1\n",
      "There are  1037824  variants.\n",
      "Removing  0  duplicated variants leaving  1037824 variants.\n",
      "No variants have illegal alleles.\n",
      "Removed  0  variants with ambiguous strand.\n",
      "Flipping strand and effect allele so A1 is always A\n",
      "Returning  1037824  variants.\n",
      "Formatting X2\n",
      "There are  1037026  variants.\n",
      "Removing  0  duplicated variants leaving  1037026 variants.\n",
      "No variants have illegal alleles.\n",
      "Removed  0  variants with ambiguous strand.\n",
      "Flipping strand and effect allele so A1 is always A\n",
      "Returning  1037026  variants.\n",
      "After merging and removing variants with inconsistent alleles,  there are  1037026  variants that are present in both studies and can be used with CAUSE.\n"
     ]
    },
    {
     "name": "stderr",
     "output_type": "stream",
     "text": [
      "Clumping Xm2256, 18921 variants, using EUR population reference\n",
      "\n",
      "Removing 16674 of 18921 variants due to LD with other variants or absence from LD reference panel\n",
      "\n"
     ]
    },
    {
     "name": "stdout",
     "output_type": "stream",
     "text": [
      "Estimating CAUSE parameters with  1000000  variants.\n",
      "1 0.03242078 \n",
      "2 5.39791e-05 \n",
      "3 1.51708e-07 \n",
      "4 9.657772e-10 \n",
      "Estimating CAUSE posteriors using  2247  variants.\n"
     ]
    },
    {
     "name": "stderr",
     "output_type": "stream",
     "text": [
      "Warning message:\n",
      "“'compare' is deprecated.\n",
      "Use 'loo_compare' instead.\n",
      "See help(\"Deprecated\")”\n"
     ]
    },
    {
     "name": "stdout",
     "output_type": "stream",
     "text": [
      "    user   system  elapsed \n",
      "2809.757 1957.138  483.549 \n",
      "SWB ~ Hair_Light_Brown \n"
     ]
    },
    {
     "name": "stderr",
     "output_type": "stream",
     "text": [
      "\u001b[1m\u001b[1mRows: \u001b[1m\u001b[22m\u001b[34m\u001b[34m975109\u001b[34m\u001b[39m \u001b[1m\u001b[1mColumns: \u001b[1m\u001b[22m\u001b[34m\u001b[34m7\u001b[34m\u001b[39m\n",
      "\n",
      "\u001b[36m──\u001b[39m \u001b[1m\u001b[1mColumn specification\u001b[1m\u001b[22m \u001b[36m────────────────────────────────────────────────────────────────────────────────────────────────────────\u001b[39m\n",
      "\u001b[1mDelimiter:\u001b[22m \"\\t\"\n",
      "\u001b[31mchr\u001b[39m (3): SNP, A1, A2\n",
      "\u001b[32mdbl\u001b[39m (4): Z, N, chi2, P\n",
      "\n",
      "\n",
      "\u001b[36mℹ\u001b[39m Use \u001b[30m\u001b[47m\u001b[30m\u001b[47m`spec()`\u001b[47m\u001b[30m\u001b[49m\u001b[39m to retrieve the full column specification for this data.\n",
      "\u001b[36mℹ\u001b[39m Specify the column types or set \u001b[30m\u001b[47m\u001b[30m\u001b[47m`show_col_types = FALSE`\u001b[47m\u001b[30m\u001b[49m\u001b[39m to quiet this message.\n",
      "\n",
      "\u001b[1m\u001b[1mRows: \u001b[1m\u001b[22m\u001b[34m\u001b[34m1037742\u001b[34m\u001b[39m \u001b[1m\u001b[1mColumns: \u001b[1m\u001b[22m\u001b[34m\u001b[34m7\u001b[34m\u001b[39m\n",
      "\n",
      "\u001b[36m──\u001b[39m \u001b[1m\u001b[1mColumn specification\u001b[1m\u001b[22m \u001b[36m────────────────────────────────────────────────────────────────────────────────────────────────────────\u001b[39m\n",
      "\u001b[1mDelimiter:\u001b[22m \"\\t\"\n",
      "\u001b[31mchr\u001b[39m (3): SNP, A1, A2\n",
      "\u001b[32mdbl\u001b[39m (4): Z, N, chi2, P\n",
      "\n",
      "\n",
      "\u001b[36mℹ\u001b[39m Use \u001b[30m\u001b[47m\u001b[30m\u001b[47m`spec()`\u001b[47m\u001b[30m\u001b[49m\u001b[39m to retrieve the full column specification for this data.\n",
      "\u001b[36mℹ\u001b[39m Specify the column types or set \u001b[30m\u001b[47m\u001b[30m\u001b[47m`show_col_types = FALSE`\u001b[47m\u001b[30m\u001b[49m\u001b[39m to quiet this message.\n",
      "\n"
     ]
    },
    {
     "name": "stdout",
     "output_type": "stream",
     "text": [
      "Formatting X1\n",
      "There are  975109  variants.\n",
      "Removing  0  duplicated variants leaving  975109 variants.\n",
      "No variants have illegal alleles.\n",
      "Removed  0  variants with ambiguous strand.\n",
      "Flipping strand and effect allele so A1 is always A\n",
      "Returning  975109  variants.\n",
      "Formatting X2\n",
      "There are  1037742  variants.\n",
      "Removing  0  duplicated variants leaving  1037742 variants.\n",
      "No variants have illegal alleles.\n",
      "Removed  0  variants with ambiguous strand.\n",
      "Flipping strand and effect allele so A1 is always A\n",
      "Returning  1037742  variants.\n",
      "After merging and removing variants with inconsistent alleles,  there are  927026  variants that are present in both studies and can be used with CAUSE.\n"
     ]
    },
    {
     "name": "stderr",
     "output_type": "stream",
     "text": [
      "Clumping 9QlVQy, 2633 variants, using EUR population reference\n",
      "\n",
      "Removing 1950 of 2633 variants due to LD with other variants or absence from LD reference panel\n",
      "\n"
     ]
    },
    {
     "name": "stdout",
     "output_type": "stream",
     "text": [
      "Estimating CAUSE parameters with  927026  variants.\n",
      "1 0.007330115 \n",
      "2 2.709701e-06 \n",
      "3 1.244416e-09 \n",
      "Estimating CAUSE posteriors using  683  variants.\n"
     ]
    },
    {
     "name": "stderr",
     "output_type": "stream",
     "text": [
      "Warning message:\n",
      "“'compare' is deprecated.\n",
      "Use 'loo_compare' instead.\n",
      "See help(\"Deprecated\")”\n"
     ]
    },
    {
     "name": "stdout",
     "output_type": "stream",
     "text": [
      "    user   system  elapsed \n",
      "1901.583 1549.500  358.010 \n",
      "SWB ~ Hair_Dark_Brown \n"
     ]
    },
    {
     "name": "stderr",
     "output_type": "stream",
     "text": [
      "\u001b[1m\u001b[1mRows: \u001b[1m\u001b[22m\u001b[34m\u001b[34m975109\u001b[34m\u001b[39m \u001b[1m\u001b[1mColumns: \u001b[1m\u001b[22m\u001b[34m\u001b[34m7\u001b[34m\u001b[39m\n",
      "\n",
      "\u001b[36m──\u001b[39m \u001b[1m\u001b[1mColumn specification\u001b[1m\u001b[22m \u001b[36m────────────────────────────────────────────────────────────────────────────────────────────────────────\u001b[39m\n",
      "\u001b[1mDelimiter:\u001b[22m \"\\t\"\n",
      "\u001b[31mchr\u001b[39m (3): SNP, A1, A2\n",
      "\u001b[32mdbl\u001b[39m (4): Z, N, chi2, P\n",
      "\n",
      "\n",
      "\u001b[36mℹ\u001b[39m Use \u001b[30m\u001b[47m\u001b[30m\u001b[47m`spec()`\u001b[47m\u001b[30m\u001b[49m\u001b[39m to retrieve the full column specification for this data.\n",
      "\u001b[36mℹ\u001b[39m Specify the column types or set \u001b[30m\u001b[47m\u001b[30m\u001b[47m`show_col_types = FALSE`\u001b[47m\u001b[30m\u001b[49m\u001b[39m to quiet this message.\n",
      "\n",
      "\u001b[1m\u001b[1mRows: \u001b[1m\u001b[22m\u001b[34m\u001b[34m1037381\u001b[34m\u001b[39m \u001b[1m\u001b[1mColumns: \u001b[1m\u001b[22m\u001b[34m\u001b[34m7\u001b[34m\u001b[39m\n",
      "\n",
      "\u001b[36m──\u001b[39m \u001b[1m\u001b[1mColumn specification\u001b[1m\u001b[22m \u001b[36m────────────────────────────────────────────────────────────────────────────────────────────────────────\u001b[39m\n",
      "\u001b[1mDelimiter:\u001b[22m \"\\t\"\n",
      "\u001b[31mchr\u001b[39m (3): SNP, A1, A2\n",
      "\u001b[32mdbl\u001b[39m (4): Z, N, chi2, P\n",
      "\n",
      "\n",
      "\u001b[36mℹ\u001b[39m Use \u001b[30m\u001b[47m\u001b[30m\u001b[47m`spec()`\u001b[47m\u001b[30m\u001b[49m\u001b[39m to retrieve the full column specification for this data.\n",
      "\u001b[36mℹ\u001b[39m Specify the column types or set \u001b[30m\u001b[47m\u001b[30m\u001b[47m`show_col_types = FALSE`\u001b[47m\u001b[30m\u001b[49m\u001b[39m to quiet this message.\n",
      "\n"
     ]
    },
    {
     "name": "stdout",
     "output_type": "stream",
     "text": [
      "Formatting X1\n",
      "There are  975109  variants.\n",
      "Removing  0  duplicated variants leaving  975109 variants.\n",
      "No variants have illegal alleles.\n",
      "Removed  0  variants with ambiguous strand.\n",
      "Flipping strand and effect allele so A1 is always A\n",
      "Returning  975109  variants.\n",
      "Formatting X2\n",
      "There are  1037381  variants.\n",
      "Removing  0  duplicated variants leaving  1037381 variants.\n",
      "No variants have illegal alleles.\n",
      "Removed  0  variants with ambiguous strand.\n",
      "Flipping strand and effect allele so A1 is always A\n",
      "Returning  1037381  variants.\n",
      "After merging and removing variants with inconsistent alleles,  there are  926722  variants that are present in both studies and can be used with CAUSE.\n"
     ]
    },
    {
     "name": "stderr",
     "output_type": "stream",
     "text": [
      "Clumping KEQuCK, 2622 variants, using EUR population reference\n",
      "\n",
      "Removing 1939 of 2622 variants due to LD with other variants or absence from LD reference panel\n",
      "\n"
     ]
    },
    {
     "name": "stdout",
     "output_type": "stream",
     "text": [
      "Estimating CAUSE parameters with  926722  variants.\n",
      "1 0.04093255 \n",
      "2 7.08054e-05 \n",
      "3 2.037038e-07 \n",
      "4 6.824526e-09 \n",
      "Estimating CAUSE posteriors using  683  variants.\n"
     ]
    },
    {
     "name": "stderr",
     "output_type": "stream",
     "text": [
      "Warning message:\n",
      "“'compare' is deprecated.\n",
      "Use 'loo_compare' instead.\n",
      "See help(\"Deprecated\")”\n"
     ]
    },
    {
     "name": "stdout",
     "output_type": "stream",
     "text": [
      "    user   system  elapsed \n",
      "2073.435 1786.358  378.273 \n",
      "SWB ~ Hair_Black \n"
     ]
    },
    {
     "name": "stderr",
     "output_type": "stream",
     "text": [
      "\u001b[1m\u001b[1mRows: \u001b[1m\u001b[22m\u001b[34m\u001b[34m975109\u001b[34m\u001b[39m \u001b[1m\u001b[1mColumns: \u001b[1m\u001b[22m\u001b[34m\u001b[34m7\u001b[34m\u001b[39m\n",
      "\n",
      "\u001b[36m──\u001b[39m \u001b[1m\u001b[1mColumn specification\u001b[1m\u001b[22m \u001b[36m────────────────────────────────────────────────────────────────────────────────────────────────────────\u001b[39m\n",
      "\u001b[1mDelimiter:\u001b[22m \"\\t\"\n",
      "\u001b[31mchr\u001b[39m (3): SNP, A1, A2\n",
      "\u001b[32mdbl\u001b[39m (4): Z, N, chi2, P\n",
      "\n",
      "\n",
      "\u001b[36mℹ\u001b[39m Use \u001b[30m\u001b[47m\u001b[30m\u001b[47m`spec()`\u001b[47m\u001b[30m\u001b[49m\u001b[39m to retrieve the full column specification for this data.\n",
      "\u001b[36mℹ\u001b[39m Specify the column types or set \u001b[30m\u001b[47m\u001b[30m\u001b[47m`show_col_types = FALSE`\u001b[47m\u001b[30m\u001b[49m\u001b[39m to quiet this message.\n",
      "\n",
      "\u001b[1m\u001b[1mRows: \u001b[1m\u001b[22m\u001b[34m\u001b[34m1037702\u001b[34m\u001b[39m \u001b[1m\u001b[1mColumns: \u001b[1m\u001b[22m\u001b[34m\u001b[34m7\u001b[34m\u001b[39m\n",
      "\n",
      "\u001b[36m──\u001b[39m \u001b[1m\u001b[1mColumn specification\u001b[1m\u001b[22m \u001b[36m────────────────────────────────────────────────────────────────────────────────────────────────────────\u001b[39m\n",
      "\u001b[1mDelimiter:\u001b[22m \"\\t\"\n",
      "\u001b[31mchr\u001b[39m (3): SNP, A1, A2\n",
      "\u001b[32mdbl\u001b[39m (4): Z, N, chi2, P\n",
      "\n",
      "\n",
      "\u001b[36mℹ\u001b[39m Use \u001b[30m\u001b[47m\u001b[30m\u001b[47m`spec()`\u001b[47m\u001b[30m\u001b[49m\u001b[39m to retrieve the full column specification for this data.\n",
      "\u001b[36mℹ\u001b[39m Specify the column types or set \u001b[30m\u001b[47m\u001b[30m\u001b[47m`show_col_types = FALSE`\u001b[47m\u001b[30m\u001b[49m\u001b[39m to quiet this message.\n",
      "\n"
     ]
    },
    {
     "name": "stdout",
     "output_type": "stream",
     "text": [
      "Formatting X1\n",
      "There are  975109  variants.\n",
      "Removing  0  duplicated variants leaving  975109 variants.\n",
      "No variants have illegal alleles.\n",
      "Removed  0  variants with ambiguous strand.\n",
      "Flipping strand and effect allele so A1 is always A\n",
      "Returning  975109  variants.\n",
      "Formatting X2\n",
      "There are  1037702  variants.\n",
      "Removing  0  duplicated variants leaving  1037702 variants.\n",
      "No variants have illegal alleles.\n",
      "Removed  0  variants with ambiguous strand.\n",
      "Flipping strand and effect allele so A1 is always A\n",
      "Returning  1037702  variants.\n",
      "After merging and removing variants with inconsistent alleles,  there are  926994  variants that are present in both studies and can be used with CAUSE.\n"
     ]
    },
    {
     "name": "stderr",
     "output_type": "stream",
     "text": [
      "Clumping PL64kp, 2633 variants, using EUR population reference\n",
      "\n",
      "Removing 1950 of 2633 variants due to LD with other variants or absence from LD reference panel\n",
      "\n"
     ]
    },
    {
     "name": "stdout",
     "output_type": "stream",
     "text": [
      "Estimating CAUSE parameters with  926994  variants.\n",
      "1 0.006947885 \n",
      "2 2.323505e-06 \n",
      "3 1.132912e-09 \n",
      "Estimating CAUSE posteriors using  683  variants.\n"
     ]
    },
    {
     "name": "stderr",
     "output_type": "stream",
     "text": [
      "Warning message:\n",
      "“'compare' is deprecated.\n",
      "Use 'loo_compare' instead.\n",
      "See help(\"Deprecated\")”\n"
     ]
    },
    {
     "name": "stdout",
     "output_type": "stream",
     "text": [
      "    user   system  elapsed \n",
      "1625.827 1427.735  315.146 \n",
      "SWB ~ Hair_Blonde \n"
     ]
    },
    {
     "name": "stderr",
     "output_type": "stream",
     "text": [
      "\u001b[1m\u001b[1mRows: \u001b[1m\u001b[22m\u001b[34m\u001b[34m975109\u001b[34m\u001b[39m \u001b[1m\u001b[1mColumns: \u001b[1m\u001b[22m\u001b[34m\u001b[34m7\u001b[34m\u001b[39m\n",
      "\n",
      "\u001b[36m──\u001b[39m \u001b[1m\u001b[1mColumn specification\u001b[1m\u001b[22m \u001b[36m────────────────────────────────────────────────────────────────────────────────────────────────────────\u001b[39m\n",
      "\u001b[1mDelimiter:\u001b[22m \"\\t\"\n",
      "\u001b[31mchr\u001b[39m (3): SNP, A1, A2\n",
      "\u001b[32mdbl\u001b[39m (4): Z, N, chi2, P\n",
      "\n",
      "\n",
      "\u001b[36mℹ\u001b[39m Use \u001b[30m\u001b[47m\u001b[30m\u001b[47m`spec()`\u001b[47m\u001b[30m\u001b[49m\u001b[39m to retrieve the full column specification for this data.\n",
      "\u001b[36mℹ\u001b[39m Specify the column types or set \u001b[30m\u001b[47m\u001b[30m\u001b[47m`show_col_types = FALSE`\u001b[47m\u001b[30m\u001b[49m\u001b[39m to quiet this message.\n",
      "\n",
      "\u001b[1m\u001b[1mRows: \u001b[1m\u001b[22m\u001b[34m\u001b[34m1037533\u001b[34m\u001b[39m \u001b[1m\u001b[1mColumns: \u001b[1m\u001b[22m\u001b[34m\u001b[34m7\u001b[34m\u001b[39m\n",
      "\n",
      "\u001b[36m──\u001b[39m \u001b[1m\u001b[1mColumn specification\u001b[1m\u001b[22m \u001b[36m────────────────────────────────────────────────────────────────────────────────────────────────────────\u001b[39m\n",
      "\u001b[1mDelimiter:\u001b[22m \"\\t\"\n",
      "\u001b[31mchr\u001b[39m (3): SNP, A1, A2\n",
      "\u001b[32mdbl\u001b[39m (4): Z, N, chi2, P\n",
      "\n",
      "\n",
      "\u001b[36mℹ\u001b[39m Use \u001b[30m\u001b[47m\u001b[30m\u001b[47m`spec()`\u001b[47m\u001b[30m\u001b[49m\u001b[39m to retrieve the full column specification for this data.\n",
      "\u001b[36mℹ\u001b[39m Specify the column types or set \u001b[30m\u001b[47m\u001b[30m\u001b[47m`show_col_types = FALSE`\u001b[47m\u001b[30m\u001b[49m\u001b[39m to quiet this message.\n",
      "\n"
     ]
    },
    {
     "name": "stdout",
     "output_type": "stream",
     "text": [
      "Formatting X1\n",
      "There are  975109  variants.\n",
      "Removing  0  duplicated variants leaving  975109 variants.\n",
      "No variants have illegal alleles.\n",
      "Removed  0  variants with ambiguous strand.\n",
      "Flipping strand and effect allele so A1 is always A\n",
      "Returning  975109  variants.\n",
      "Formatting X2\n",
      "There are  1037533  variants.\n",
      "Removing  0  duplicated variants leaving  1037533 variants.\n",
      "No variants have illegal alleles.\n",
      "Removed  0  variants with ambiguous strand.\n",
      "Flipping strand and effect allele so A1 is always A\n",
      "Returning  1037533  variants.\n",
      "After merging and removing variants with inconsistent alleles,  there are  926840  variants that are present in both studies and can be used with CAUSE.\n"
     ]
    },
    {
     "name": "stderr",
     "output_type": "stream",
     "text": [
      "Clumping scTdDs, 2633 variants, using EUR population reference\n",
      "\n",
      "Removing 1950 of 2633 variants due to LD with other variants or absence from LD reference panel\n",
      "\n"
     ]
    },
    {
     "name": "stdout",
     "output_type": "stream",
     "text": [
      "Estimating CAUSE parameters with  926840  variants.\n",
      "1 0.008036781 \n",
      "2 1.316424e-06 \n",
      "3 7.52108e-10 \n",
      "Estimating CAUSE posteriors using  683  variants.\n"
     ]
    },
    {
     "name": "stderr",
     "output_type": "stream",
     "text": [
      "Warning message:\n",
      "“'compare' is deprecated.\n",
      "Use 'loo_compare' instead.\n",
      "See help(\"Deprecated\")”\n"
     ]
    },
    {
     "name": "stdout",
     "output_type": "stream",
     "text": [
      "    user   system  elapsed \n",
      "1728.780 1575.761  324.744 \n",
      "SWB ~ Tanning \n"
     ]
    },
    {
     "name": "stderr",
     "output_type": "stream",
     "text": [
      "\u001b[1m\u001b[1mRows: \u001b[1m\u001b[22m\u001b[34m\u001b[34m975109\u001b[34m\u001b[39m \u001b[1m\u001b[1mColumns: \u001b[1m\u001b[22m\u001b[34m\u001b[34m7\u001b[34m\u001b[39m\n",
      "\n",
      "\u001b[36m──\u001b[39m \u001b[1m\u001b[1mColumn specification\u001b[1m\u001b[22m \u001b[36m────────────────────────────────────────────────────────────────────────────────────────────────────────\u001b[39m\n",
      "\u001b[1mDelimiter:\u001b[22m \"\\t\"\n",
      "\u001b[31mchr\u001b[39m (3): SNP, A1, A2\n",
      "\u001b[32mdbl\u001b[39m (4): Z, N, chi2, P\n",
      "\n",
      "\n",
      "\u001b[36mℹ\u001b[39m Use \u001b[30m\u001b[47m\u001b[30m\u001b[47m`spec()`\u001b[47m\u001b[30m\u001b[49m\u001b[39m to retrieve the full column specification for this data.\n",
      "\u001b[36mℹ\u001b[39m Specify the column types or set \u001b[30m\u001b[47m\u001b[30m\u001b[47m`show_col_types = FALSE`\u001b[47m\u001b[30m\u001b[49m\u001b[39m to quiet this message.\n",
      "\n",
      "\u001b[1m\u001b[1mRows: \u001b[1m\u001b[22m\u001b[34m\u001b[34m1037026\u001b[34m\u001b[39m \u001b[1m\u001b[1mColumns: \u001b[1m\u001b[22m\u001b[34m\u001b[34m7\u001b[34m\u001b[39m\n",
      "\n",
      "\u001b[36m──\u001b[39m \u001b[1m\u001b[1mColumn specification\u001b[1m\u001b[22m \u001b[36m────────────────────────────────────────────────────────────────────────────────────────────────────────\u001b[39m\n",
      "\u001b[1mDelimiter:\u001b[22m \"\\t\"\n",
      "\u001b[31mchr\u001b[39m (3): SNP, A1, A2\n",
      "\u001b[32mdbl\u001b[39m (4): Z, N, chi2, P\n",
      "\n",
      "\n",
      "\u001b[36mℹ\u001b[39m Use \u001b[30m\u001b[47m\u001b[30m\u001b[47m`spec()`\u001b[47m\u001b[30m\u001b[49m\u001b[39m to retrieve the full column specification for this data.\n",
      "\u001b[36mℹ\u001b[39m Specify the column types or set \u001b[30m\u001b[47m\u001b[30m\u001b[47m`show_col_types = FALSE`\u001b[47m\u001b[30m\u001b[49m\u001b[39m to quiet this message.\n",
      "\n"
     ]
    },
    {
     "name": "stdout",
     "output_type": "stream",
     "text": [
      "Formatting X1\n",
      "There are  975109  variants.\n",
      "Removing  0  duplicated variants leaving  975109 variants.\n",
      "No variants have illegal alleles.\n",
      "Removed  0  variants with ambiguous strand.\n",
      "Flipping strand and effect allele so A1 is always A\n",
      "Returning  975109  variants.\n",
      "Formatting X2\n",
      "There are  1037026  variants.\n",
      "Removing  0  duplicated variants leaving  1037026 variants.\n",
      "No variants have illegal alleles.\n",
      "Removed  0  variants with ambiguous strand.\n",
      "Flipping strand and effect allele so A1 is always A\n",
      "Returning  1037026  variants.\n",
      "After merging and removing variants with inconsistent alleles,  there are  926444  variants that are present in both studies and can be used with CAUSE.\n"
     ]
    },
    {
     "name": "stderr",
     "output_type": "stream",
     "text": [
      "Clumping xV0Hni, 2581 variants, using EUR population reference\n",
      "\n",
      "Removing 1898 of 2581 variants due to LD with other variants or absence from LD reference panel\n",
      "\n"
     ]
    },
    {
     "name": "stdout",
     "output_type": "stream",
     "text": [
      "Estimating CAUSE parameters with  926444  variants.\n",
      "1 0.001370823 \n",
      "2 1.615e-06 \n",
      "3 1.905087e-09 \n",
      "Estimating CAUSE posteriors using  683  variants.\n"
     ]
    },
    {
     "name": "stderr",
     "output_type": "stream",
     "text": [
      "Warning message:\n",
      "“'compare' is deprecated.\n",
      "Use 'loo_compare' instead.\n",
      "See help(\"Deprecated\")”\n"
     ]
    },
    {
     "name": "stdout",
     "output_type": "stream",
     "text": [
      "    user   system  elapsed \n",
      "1532.691 1403.261  307.255 \n"
     ]
    }
   ],
   "source": [
    "library(readr)\n",
    "library(cause)\n",
    "ts1 = c(\"AD\", \"ASD\", \"Daytime_Sleepiness\", \"Height_UKB\",  \"Intelligence\", \"RA\",      \n",
    "        \"T2D\", \"Alcohol\", \"BMI\", \"Depression\", \"IBD\", \"MDD\", \"SCZ\", \"Angina\", \n",
    "        \"CAD\", \"HBP\", \"Income\", \"NEB\", \"Smoking\", \"Urate\", \"Anorexia\", \n",
    "        \"CD\", \"Height_GIANT\", \"Insomnia\", \"Neuroticism\", \"SWB\")\n",
    "\n",
    "ts2 = c(\"Hair_Light_Brown\", \"Hair_Dark_Brown\",  \"Hair_Black\",    \"Hair_Blonde\",  \"Tanning\")\n",
    "\n",
    "Threshold=1e-03\n",
    "\n",
    "for( exposure in ts1 ){\n",
    "  \n",
    "  for( outcome in ts2 ){\n",
    "    \n",
    "    start = proc.time()\n",
    "    \n",
    "    # read GWAS summary statistics\n",
    "    cat(exposure,\"~\",outcome,\"\\n\")\n",
    "    \n",
    "    X1 = readr::read_delim(paste0(\"./GWAS_26and5_formatted/\", exposure), delim=\"\\t\", escape_double = FALSE, trim_ws = TRUE, progress = F)\n",
    "    \n",
    "    X2 = readr::read_delim(paste0(\"./GWAS_26and5_formatted/\", outcome), delim=\"\\t\", escape_double = FALSE, trim_ws = TRUE, progress = F)\n",
    "    \n",
    "    X1$b = X1$Z/sqrt(X1$N)\n",
    "    X2$b = X2$Z/sqrt(X2$N)\n",
    "    X1$se = 1/sqrt(X1$N)\n",
    "    X2$se = 1/sqrt(X2$N)\n",
    "    \n",
    "    X <- try(gwas_merge(X1, X2, \n",
    "                        snp_name_cols = c(\"SNP\", \"SNP\"),\n",
    "                        beta_hat_cols = c(\"b\", \"b\"),\n",
    "                        se_cols = c(\"se\", \"se\"),\n",
    "                        A1_cols = c(\"A1\", \"A1\"),\n",
    "                        A2_cols = c(\"A2\", \"A2\")))\n",
    "    \n",
    "    if(inherits(X , 'try-error')) next\n",
    "    \n",
    "    d0 = X1[, c(\"SNP\", \"P\")]\n",
    "    colnames(d0) = c(\"snp\", \"pval.exp\")\n",
    "    X0 = merge(X, d0, by=\"snp\")\n",
    "    \n",
    "    # clump\n",
    "    clumped = MRAPSS::clump(X0,\n",
    "                            IV.Threshold = 1e-03,\n",
    "                            SNP_col = \"snp\",\n",
    "                            pval_col = \"pval.exp\",\n",
    "                            clump_kb = 1000,\n",
    "                            clump_r2 = 0.1,\n",
    "                            bfile = \"/import/home/share/xhu/database/1KG/all_1000G_EUR_Phase3\",\n",
    "                            plink_bin = \"/import/home/maxhu/plink/plink\")\n",
    "    \n",
    "    varlist <- with(X, sample(snp, size=min(nrow(X), 1000000), replace=FALSE))\n",
    "    params <- try(est_cause_params(X, varlist))\n",
    "    if(inherits(params , 'try-error')) next\n",
    "    \n",
    "    # cause\n",
    "    if(!is.null(clumped)){\n",
    "      \n",
    "      top_ldl_pruned_vars =intersect(as.character(X$snp), as.character(subset(clumped, pval.exp <= Threshold)$snp))\n",
    "      \n",
    "      cause_res <- try(cause(X=X, variants = top_ldl_pruned_vars , param_ests = params, force=TRUE))\n",
    "      \n",
    "      if(inherits( cause_res , 'try-error')) next\n",
    "      \n",
    "      res_elpd <- data.frame(exposure,\n",
    "                             outcome,\n",
    "                             Threshold,\n",
    "                             length(top_ldl_pruned_vars),\n",
    "                             cause_res$elpd)\n",
    "      \n",
    "      res.cause.est = summary(cause_res, ci_size=0.95)\n",
    "      \n",
    "      res = data.frame(exposure, outcome,\n",
    "                       Threshold,length(top_ldl_pruned_vars),\n",
    "                       matrix(c(res.cause.est$quants[[2]][,1],\n",
    "                                res.cause.est$quants[[2]][,2],\n",
    "                                res.cause.est$quants[[2]][,3]), nrow=1))\n",
    "      \n",
    "      write.table(res, file=\"NC_CAUSE_est\", append=T,\n",
    "                  col.names = F, row.names = F,\n",
    "                  quote = F)\n",
    "      \n",
    "      write.table(res_elpd, file=\"NC_CAUSE_elpd\", append=T,\n",
    "                  col.names = F, row.names = F,\n",
    "                  quote = F)\n",
    "      \n",
    "      rm(top_ldl_pruned_vars)\n",
    "      rm(res)\n",
    "      rm(res_elpd)\n",
    "      rm(res.cause.est)\n",
    "      rm(cause_res)\n",
    "      print(proc.time()-start)\n",
    "      \n",
    "    }\n",
    "    \n",
    "  }\n",
    "  \n",
    "}"
   ]
  },
  {
   "cell_type": "code",
   "execution_count": 2,
   "metadata": {},
   "outputs": [],
   "source": [
    "cause_elpd = unique(read.table(\"NC_CAUSE_elpd\", header = F))\n",
    "cause_est = unique(read.table(\"NC_CAUSE_est\", header = F))\n",
    "colnames(cause_elpd) = c(\"exposure\",\"outcome\",\"Threshold\",\"nsnp\",\"model1\",\"model2\",\"delta_elpd\", \"se_delta_elpd\", \"Z\")\n",
    "colnames(cause_est) = c(\"exposure\",\"outcome\",\"Threshold\",\"nsnp\", \"b\",\"b_l\",\"b_u\",\"eta\",\"eta_l\",\"eta_u\",\"q\",\"q_l\",\"q_u\")\n",
    "cause_elpd = unique(subset(cause_elpd, model1==\"sharing\"&model2==\"causal\"))\n",
    "cause_elpd$pval = pnorm(cause_elpd$Z)\n",
    "cause_est = unique(cause_est[, c(\"exposure\",\"outcome\",\"Threshold\",\"nsnp\", \"b\",\"b_l\",\"b_u\")])\n",
    "cause_est$se = (cause_est$b_u - cause_est$b_l)/2/1.96\n",
    "cause_res = unique(merge(unique(cause_elpd[, c(\"exposure\",\"outcome\",\"pval\")]),\n",
    "                         cause_est[, c(\"exposure\",\"outcome\",\"Threshold\",\"nsnp\", \"b\",\"se\")],\n",
    "                         by=c(\"exposure\",\"outcome\")))\n",
    "cause_res$Method = \"CAUSE\"\n",
    "write.table(cause_res, file=\"NC_CAUSE_MRres\", append=T, col.names = F, row.names = F, quote = F)"
   ]
  },
  {
   "cell_type": "code",
   "execution_count": null,
   "metadata": {},
   "outputs": [],
   "source": []
  }
 ],
 "metadata": {
  "kernelspec": {
   "display_name": "R",
   "language": "R",
   "name": "ir"
  },
  "language_info": {
   "codemirror_mode": "r",
   "file_extension": ".r",
   "mimetype": "text/x-r-source",
   "name": "R",
   "pygments_lexer": "r",
   "version": "3.6.3"
  }
 },
 "nbformat": 4,
 "nbformat_minor": 4
}
